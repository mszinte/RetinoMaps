{
 "cells": [
  {
   "cell_type": "code",
   "execution_count": 1,
   "id": "d4af0f06-1639-4723-84ad-a1630bc4757a",
   "metadata": {},
   "outputs": [
    {
     "name": "stderr",
     "output_type": "stream",
     "text": [
      "/home/mszinte/env/anaconda3/envs/mszinte/lib/python3.9/site-packages/nilearn/glm/__init__.py:55: FutureWarning: The nilearn.glm module is experimental. It may change in any future release of Nilearn.\n",
      "  warn('The nilearn.glm module is experimental. '\n"
     ]
    }
   ],
   "source": [
    "import sys, os\n",
    "import numpy as np\n",
    "import glob\n",
    "import datetime\n",
    "import json\n",
    "import warnings\n",
    "import ipdb\n",
    "from pathlib import Path\n",
    "from IPython.display import clear_output\n",
    "deb = ipdb.set_trace\n",
    "\n",
    "# MRI analysis imports\n",
    "from prfpy.stimulus import PRFStimulus2D\n",
    "from prfpy.model import Iso2DGaussianModel, Norm_Iso2DGaussianModel, CSS_Iso2DGaussianModel\n",
    "from prfpy.fit import Iso2DGaussianFitter, Norm_Iso2DGaussianFitter, CSS_Iso2DGaussianFitter\n",
    "import nibabel as nb\n",
    "import cortex\n",
    "\n",
    "warnings.filterwarnings('ignore')\n",
    "warnings.filterwarnings('ignore', module='prfpy')\n",
    "\n",
    "sys.path.append(\"{}/../../../utils\".format(os.getcwd()))\n",
    "from surface_utils import make_surface_image , load_surface\n"
   ]
  },
  {
   "cell_type": "code",
   "execution_count": 2,
   "id": "e6219385-7450-481b-85ba-a083d388af1f",
   "metadata": {},
   "outputs": [],
   "source": [
    "subject = 'sub-02'\n",
    "dir_data = '/home/mszinte/disks/meso_S/data/RetinoMaps'\n",
    "dir_code = '/home/mszinte/disks/meso_H/projects/RetinoMaps'\n",
    "\n",
    "# dir_data = '/Users/uriel/disks/meso_shared/RetinoMaps'\n",
    "# dir_code = '/Users/uriel/disks/meso_H/projects/RetinoMaps'\n",
    "\n",
    "pycortex_dir = \"{}/derivatives/pp_data/cortex\".format(dir_data)\n",
    "input_vd = '{}/derivatives/vdm/vdm.npy'.format(dir_data)\n",
    "input_fn_fsnative = '{}/derivatives/pp_data/{}/func/fmriprep_dct_avg/fsnative/{}_task-pRF_hemi-L_fmriprep_dct_avg_bold.func.gii'.format(\n",
    "    dir_data, subject, subject)\n",
    "\n"
   ]
  },
  {
   "cell_type": "code",
   "execution_count": 3,
   "id": "8b562f1a-bc6f-47df-ad9d-08074851a166",
   "metadata": {},
   "outputs": [],
   "source": [
    "# Write pycortex config file\n",
    "pycortex_db = \"{}/db/\".format(pycortex_dir)\n",
    "pycortex_cm = \"{}/colormaps/\".format(pycortex_dir)\n",
    "pycortex_config_file  = cortex.options.usercfg\n",
    "pycortex_config_file_new = pycortex_config_file[:-4] + '_new.cfg'\n",
    "pycortex_config_file_old = pycortex_config_file[:-4] + '_old.cfg'\n",
    "\n",
    "Path(pycortex_config_file_new).touch()\n",
    "with open(pycortex_config_file, 'r') as fileIn:\n",
    "    with open(pycortex_config_file_new, 'w') as fileOut:\n",
    "        for line in fileIn:\n",
    "            if 'filestore' in line:\n",
    "                newline = 'filestore=' + pycortex_db\n",
    "                fileOut.write(newline)\n",
    "                newline = '\\n'\n",
    "            elif 'colormaps' in line:\n",
    "                newline = 'colormaps=' + pycortex_cm\n",
    "                fileOut.write(newline)\n",
    "                newline = '\\n'\n",
    "            else:\n",
    "                newline = line\n",
    "            fileOut.write(newline)\n",
    "os.rename(pycortex_config_file,pycortex_config_file_old)\n",
    "os.rename(pycortex_config_file_new, pycortex_config_file)"
   ]
  },
  {
   "cell_type": "code",
   "execution_count": 4,
   "id": "76a03ef3-0be4-4d59-a4cb-7d28c94f518e",
   "metadata": {},
   "outputs": [],
   "source": [
    "# Analysis parameters\n",
    "with open('{}/analysis_code/settings.json'.format(dir_code)) as f:\n",
    "    json_s = f.read()\n",
    "    analysis_info = json.loads(json_s)\n",
    "screen_size_cm = analysis_info['screen_size_cm']\n",
    "screen_distance_cm = analysis_info['screen_distance_cm']\n",
    "TR = analysis_info['TR']\n",
    "max_ecc_size = analysis_info['max_ecc_size']\n",
    "gauss_grid_nr = analysis_info['gauss_grid_nr']\n",
    "css_grid_nr = analysis_info['css_grid_nr']\n",
    "\n",
    "n_jobs = 32\n",
    "n_batches = 32\n",
    "rsq_iterative_th = 0.01\n",
    "verbose = False\n",
    "model = ['css']\n",
    "gauss_params_num = 8\n",
    "gauss_iterative_bound = True\n",
    "grid_verbose, iterative_verbose = False, False\n",
    "iterative_repeat = 15\n",
    "rois = ['occ', 'par', 'frt']"
   ]
  },
  {
   "cell_type": "code",
   "execution_count": 5,
   "id": "7a1e5e9e-4e94-4db7-9b52-cb94b8e2aac1",
   "metadata": {},
   "outputs": [],
   "source": [
    "# load visual design\n",
    "vdm = np.load(input_vd)\n",
    "\n",
    "# determine visual design\n",
    "stimulus = PRFStimulus2D(screen_size_cm=screen_size_cm[1], \n",
    "                         screen_distance_cm=screen_distance_cm,\n",
    "                         design_matrix=vdm, \n",
    "                         TR=TR)"
   ]
  },
  {
   "cell_type": "code",
   "execution_count": 6,
   "id": "db6db812-3140-4ba2-9f18-3fa51c2e8343",
   "metadata": {},
   "outputs": [],
   "source": [
    "# Load fsnative data \n",
    "data_img_fsnative, data_fsnative = load_surface(input_fn_fsnative)"
   ]
  },
  {
   "cell_type": "code",
   "execution_count": 10,
   "id": "88681dd3-971c-45ef-bee3-9516012bfef4",
   "metadata": {},
   "outputs": [],
   "source": [
    "# Get testing vertices\n",
    "roi_verts = cortex.get_roi_verts(subject=subject, \n",
    "                                 roi=rois, \n",
    "                                 mask=True)\n",
    "\n",
    "vert_mask = roi_verts['occ'] + roi_verts['par'] + roi_verts['frt']\n",
    "vert_mask = vert_mask[0:data_fsnative.shape[1]] # roi only drawn for left hemi\n",
    "data = data_fsnative[:, vert_mask].T\n",
    "data = data[0:100,:]"
   ]
  },
  {
   "cell_type": "code",
   "execution_count": 11,
   "id": "d98fab9d-07d0-42c2-ae4c-9c5ef1401d90",
   "metadata": {},
   "outputs": [
    {
     "name": "stdout",
     "output_type": "stream",
     "text": [
      "Grid fit:\t2023-12-15 12:02:25.087055\n",
      "End time:\t2023-12-15 12:02:30.952233\n",
      "Duration:\t0:00:05.865178\n"
     ]
    }
   ],
   "source": [
    "# define gauss model\n",
    "gauss_model = Iso2DGaussianModel(stimulus=stimulus)\n",
    "\n",
    "# grid fit gauss model\n",
    "gauss_fitter = Iso2DGaussianFitter(data=data, \n",
    "                                   model=gauss_model, \n",
    "                                   n_jobs=n_jobs)\n",
    "\n",
    "# gaussian grid fit\n",
    "ecc_gauss_grid = max_ecc_size * np.linspace(0.25,1,gauss_grid_nr)**2\n",
    "sizes_guass_grid = max_ecc_size * np.linspace(0.1,1,gauss_grid_nr)**2\n",
    "polars_gauss_grid = np.linspace(0, 2*np.pi, gauss_grid_nr)\n",
    "\n",
    "start_time = datetime.datetime.now()\n",
    "gauss_fitter.grid_fit(ecc_grid=ecc_gauss_grid, \n",
    "                      size_grid=sizes_guass_grid, \n",
    "                      polar_grid=polars_gauss_grid, \n",
    "                      verbose=grid_verbose,\n",
    "                      n_batches=n_batches);\n",
    "\n",
    "clear_output(wait=True)\n",
    "\n",
    "end_time = datetime.datetime.now()\n",
    "print(\"Grid fit:\\t{start_time}\\nEnd time:\\t{end_time}\\nDuration:\\t{dur}\".format(\n",
    "    start_time=start_time, \n",
    "    end_time=end_time, \n",
    "    dur=end_time - start_time))"
   ]
  },
  {
   "cell_type": "code",
   "execution_count": 12,
   "id": "54cca70c-7544-478b-96dc-79342f9dc39c",
   "metadata": {},
   "outputs": [
    {
     "name": "stdout",
     "output_type": "stream",
     "text": [
      "Iterative fit (repeat=14):\t2023-12-15 12:05:27.821019\n",
      "End time:\t\t\t2023-12-15 12:05:37.546520\n",
      "Duration:\t\t\t0:00:09.725501\n"
     ]
    }
   ],
   "source": [
    "# iterative fit\n",
    "gauss_iterative_dict = dict(rsq_threshold=rsq_iterative_th, \n",
    "                            verbose=iterative_verbose,\n",
    "                            xtol=1e-4,\n",
    "                            ftol=1e-4)\n",
    "\n",
    "gauss_bounds = [(-1.5*max_ecc_size, 1.5*max_ecc_size),  # x\n",
    "                (-1.5*max_ecc_size, 1.5*max_ecc_size),  # y\n",
    "                (0, 1.5*max_ecc_size),  # prf size\n",
    "                (0, 1000),  # prf amplitude\n",
    "                (-4, 4),  # bold baseline\n",
    "                (0, 5), (0, 5)]  #hrf bounds\n",
    "\n",
    "if gauss_iterative_bound:\n",
    "    gauss_iterative_dict['bounds'] = gauss_bounds\n",
    "\n",
    "gauss_fit_mat_repeat = np.zeros((data.shape[0], gauss_params_num, iterative_repeat))\n",
    "gauss_pred_mat_repeat = np.zeros((data.shape[0], data.shape[1], iterative_repeat))\n",
    "duration_repeat = np.zeros(iterative_repeat)\n",
    "for repeat_num in np.arange(0,iterative_repeat,1):\n",
    "    if repeat_num != 0:\n",
    "        gauss_iterative_dict['starting_params'] = gauss_fitter.iterative_search_params\n",
    "\n",
    "    start_time = datetime.datetime.now()\n",
    "    gauss_fitter.iterative_fit(**gauss_iterative_dict)\n",
    "    gauss_fit = gauss_fitter.iterative_search_params\n",
    "    clear_output(wait=True)\n",
    "\n",
    "    end_time = datetime.datetime.now()\n",
    "    duration = end_time - start_time\n",
    "    print(\"Iterative fit (repeat={}):\\t{}\\nEnd time:\\t\\t\\t{}\\nDuration:\\t\\t\\t{}\".format(\n",
    "        repeat_num, start_time, end_time, duration))\n",
    "    \n",
    "    # arrange data\n",
    "    gauss_fit_mat = np.zeros((data.shape[0],gauss_params_num))\n",
    "    gauss_pred_mat = np.zeros_like(data) \n",
    "    for est in range(len(data)):\n",
    "        gauss_fit_mat[est] = gauss_fit[est]\n",
    "        gauss_pred_mat[est,:] = gauss_model.return_prediction(mu_x=gauss_fit[est][0], \n",
    "                                                              mu_y=gauss_fit[est][1], \n",
    "                                                              size=gauss_fit[est][2], \n",
    "                                                              beta=gauss_fit[est][3], \n",
    "                                                              baseline=gauss_fit[est][4],\n",
    "                                                              hrf_1=gauss_fit[est][5],\n",
    "                                                              hrf_2=gauss_fit[est][6]\n",
    "                                                             )\n",
    "\n",
    "\n",
    "    # save across iteration\n",
    "    gauss_fit_mat_repeat[:,:,repeat_num] = gauss_fit_mat\n",
    "    gauss_pred_mat_repeat[:,:,repeat_num] = gauss_pred_mat\n",
    "    duration_repeat[repeat_num] = duration.total_seconds()"
   ]
  },
  {
   "cell_type": "code",
   "execution_count": 13,
   "id": "5060dca6-cb0f-4af2-815a-16ce76f75b18",
   "metadata": {},
   "outputs": [
    {
     "data": {
      "text/plain": [
       "array([0.43022999, 0.43439987, 0.43660126, 0.43817674, 0.43984186,\n",
       "       0.44140486, 0.44175892, 0.44230479, 0.44313291, 0.44350563,\n",
       "       0.44377286, 0.44401837, 0.44425723, 0.44437198, 0.44455619])"
      ]
     },
     "execution_count": 13,
     "metadata": {},
     "output_type": "execute_result"
    }
   ],
   "source": [
    "np.mean(gauss_fit_mat_repeat[:,-1,:],axis=0)"
   ]
  },
  {
   "cell_type": "code",
   "execution_count": 14,
   "id": "4dc105e2-8c26-4c99-a556-db8998d61a4c",
   "metadata": {},
   "outputs": [
    {
     "data": {
      "text/plain": [
       "array([31.353571, 13.736709, 11.066717,  9.378642, 10.157325, 10.962594,\n",
       "        9.720159, 10.217216, 10.631461, 10.4673  ,  9.457826, 10.766186,\n",
       "       10.877695,  9.768072,  9.725501])"
      ]
     },
     "execution_count": 14,
     "metadata": {},
     "output_type": "execute_result"
    }
   ],
   "source": [
    "duration_repeat"
   ]
  },
  {
   "cell_type": "markdown",
   "id": "f69bfa63-0a29-46f6-8a68-564d6e5a5883",
   "metadata": {},
   "source": [
    "# todo\n",
    "- [ ] code no bound\n",
    "- [ ] code plots\n",
    "- [ ] put all in python\n",
    "- [ ] run on meso\n",
    "- [ ] add css"
   ]
  },
  {
   "cell_type": "code",
   "execution_count": null,
   "id": "1fa8cace-e313-4c12-9900-9930df74dc76",
   "metadata": {},
   "outputs": [],
   "source": []
  }
 ],
 "metadata": {
  "kernelspec": {
   "display_name": "mszinte",
   "language": "python",
   "name": "mszinte"
  },
  "language_info": {
   "codemirror_mode": {
    "name": "ipython",
    "version": 3
   },
   "file_extension": ".py",
   "mimetype": "text/x-python",
   "name": "python",
   "nbconvert_exporter": "python",
   "pygments_lexer": "ipython3",
   "version": "3.9.13"
  }
 },
 "nbformat": 4,
 "nbformat_minor": 5
}
