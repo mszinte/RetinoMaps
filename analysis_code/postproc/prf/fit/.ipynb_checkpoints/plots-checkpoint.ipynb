{
 "cells": [
  {
   "cell_type": "code",
   "execution_count": 1,
   "id": "260342b1-f9a5-428b-9938-03a6bcdc2314",
   "metadata": {},
   "outputs": [],
   "source": [
    "import sys, os\n",
    "import numpy as np\n",
    "import glob\n",
    "import datetime\n",
    "import json\n",
    "import ipdb\n",
    "import plotly.graph_objects as go\n",
    "import random\n",
    "import importlib\n",
    "import cortex\n",
    "\n",
    "\n",
    "import sys\n",
    "sys.path.append('/Users/uriel/disks/meso_H/projects/RetinoMaps/analysis_code/utils')\n",
    "from pycortex_utils import draw_cortex, set_pycortex_config_file"
   ]
  },
  {
   "cell_type": "code",
   "execution_count": 114,
   "id": "f22e60d0-e4da-489c-9878-a7d3eaba7393",
   "metadata": {},
   "outputs": [],
   "source": [
    "main_dir = '/Users/uriel/disks/meso_shared'\n",
    "project_dir = 'RetinoMaps'\n",
    "subject = 'sub-02'\n",
    "\n",
    "cortex_dir = \"{}/{}/derivatives/pp_data/cortex\".format(main_dir, project_dir)\n",
    "data_path = '{}/{}/derivatives/pp_data/sub-02/prf/fit/test'.format(main_dir, project_dir)"
   ]
  },
  {
   "cell_type": "code",
   "execution_count": 97,
   "id": "7a603c39-30c2-4f45-a0a0-f234a2b9f013",
   "metadata": {},
   "outputs": [],
   "source": [
    "n_vertex = 294496\n",
    "n_TR = 208 \n",
    "n_repeat = 5\n",
    "n_param = 8\n",
    "rois = ['occ', 'par', 'frt']\n",
    "\n",
    "\n",
    "\n",
    "# gauss_fit_mat_repeat = np.random.random((n_vertex,n_param,n_repeat+2))\n",
    "# gauss_pred_mat_repeat = np.random.random((n_TR,n_vertex,n_repeat+2))\n",
    "# gauss_pred_mat = np.random.random((n_TR,n_vertex,n_repeat+2))\n",
    "# duration_repeat = np.random.random((n_repeat+2))\n",
    "# data_fsnative = np.random.random((n_TR,n_vertex))\n",
    "\n",
    "gauss_fit_mat_repeat = nb.load('{}/'.format(data_path))\n",
    "gauss_pred_mat_repeat = \n",
    "gauss_pred_mat = \n",
    "duration_repeat = \n",
    "data_fsnative = \n",
    "\n",
    "\n",
    "\n"
   ]
  },
  {
   "cell_type": "code",
   "execution_count": 4,
   "id": "e58bc334-434d-47ef-9c14-709d3a1ba65c",
   "metadata": {},
   "outputs": [
    {
     "data": {
      "text/plain": [
       "<module 'cortex' from '/Users/uriel/softwares/anaconda3/envs/amblyo_env/lib/python3.9/site-packages/cortex/__init__.py'>"
      ]
     },
     "execution_count": 4,
     "metadata": {},
     "output_type": "execute_result"
    }
   ],
   "source": [
    "set_pycortex_config_file(cortex_dir)\n",
    "importlib.reload(cortex)"
   ]
  },
  {
   "cell_type": "code",
   "execution_count": 5,
   "id": "e0cc6d66-20fd-4d51-a062-766900c41f56",
   "metadata": {},
   "outputs": [],
   "source": [
    "roi_verts = cortex.get_roi_verts(subject=subject, \n",
    "                                 roi=rois, \n",
    "                                 mask=True)"
   ]
  },
  {
   "cell_type": "code",
   "execution_count": 105,
   "id": "b099f6ed-b238-446b-a464-c7988b9493fd",
   "metadata": {},
   "outputs": [],
   "source": [
    "grid_place = 0\n",
    "no_bd = 1"
   ]
  },
  {
   "cell_type": "markdown",
   "id": "dc9b8fbf-a395-4a67-8fd0-714bb80746dc",
   "metadata": {},
   "source": [
    "# Figure 1"
   ]
  },
  {
   "cell_type": "code",
   "execution_count": 107,
   "id": "0b1743dc-4052-4e13-a5ac-a29fa37f341e",
   "metadata": {},
   "outputs": [
    {
     "data": {
      "application/vnd.plotly.v1+json": {
       "config": {
        "plotlyServerURL": "https://plot.ly"
       },
       "data": [
        {
         "line": {
          "color": "rgb(242, 183, 1)"
         },
         "mode": "markers",
         "name": "r2 occ",
         "showlegend": true,
         "type": "scatter",
         "y": [
          0.5006271833229563,
          0.5049607534547917,
          0.4972837048576376,
          0.49925434570103017,
          0.4960390188650928
         ]
        },
        {
         "line": {
          "color": "rgb(57, 105, 172)"
         },
         "mode": "markers",
         "name": "r2 par",
         "showlegend": true,
         "type": "scatter",
         "y": [
          0.5014892598340998,
          0.5134222442681483,
          0.4933404518508425,
          0.5057382081187318,
          0.5017067681510846
         ]
        },
        {
         "line": {
          "color": "rgb(17, 165, 121)"
         },
         "mode": "markers",
         "name": "r2 frt",
         "showlegend": true,
         "type": "scatter",
         "y": [
          0.5081084930227789,
          0.5004774069112475,
          0.5013842535231965,
          0.4985109058428918,
          0.5001278879849108
         ]
        },
        {
         "line": {
          "color": "black",
          "dash": "dot",
          "width": 2
         },
         "mode": "lines",
         "name": "Grid result",
         "type": "scatter",
         "x": [
          null
         ],
         "y": [
          null
         ]
        },
        {
         "line": {
          "color": "black",
          "dash": "solid",
          "width": 2
         },
         "mode": "lines",
         "name": "Iterativ without bounds",
         "type": "scatter",
         "x": [
          null
         ],
         "y": [
          null
         ]
        }
       ],
       "layout": {
        "autosize": true,
        "shapes": [
         {
          "line": {
           "color": "rgb(242, 183, 1)",
           "dash": "dot",
           "width": 2
          },
          "name": "R2 with bound",
          "type": "line",
          "x0": 0,
          "x1": 5,
          "y0": 0.49952804974802206,
          "y1": 0.49952804974802206
         },
         {
          "line": {
           "color": "rgb(242, 183, 1)",
           "dash": "solid",
           "width": 2
          },
          "name": "R2 grid",
          "type": "line",
          "x0": 0,
          "x1": 5,
          "y0": 0.5033624244483915,
          "y1": 0.5033624244483915
         },
         {
          "line": {
           "color": "rgb(57, 105, 172)",
           "dash": "dot",
           "width": 2
          },
          "name": "R2 with bound",
          "type": "line",
          "x0": 0,
          "x1": 5,
          "y0": 0.5021850775145501,
          "y1": 0.5021850775145501
         },
         {
          "line": {
           "color": "rgb(57, 105, 172)",
           "dash": "solid",
           "width": 2
          },
          "name": "R2 grid",
          "type": "line",
          "x0": 0,
          "x1": 5,
          "y0": 0.4967285548979095,
          "y1": 0.4967285548979095
         },
         {
          "line": {
           "color": "rgb(17, 165, 121)",
           "dash": "dot",
           "width": 2
          },
          "name": "R2 with bound",
          "type": "line",
          "x0": 0,
          "x1": 5,
          "y0": 0.5009585718198556,
          "y1": 0.5009585718198556
         },
         {
          "line": {
           "color": "rgb(17, 165, 121)",
           "dash": "solid",
           "width": 2
          },
          "name": "R2 grid",
          "type": "line",
          "x0": 0,
          "x1": 5,
          "y0": 0.49971333822791714,
          "y1": 0.49971333822791714
         }
        ],
        "template": {
         "data": {
          "bar": [
           {
            "error_x": {
             "color": "rgb(36,36,36)"
            },
            "error_y": {
             "color": "rgb(36,36,36)"
            },
            "marker": {
             "line": {
              "color": "white",
              "width": 0.5
             },
             "pattern": {
              "fillmode": "overlay",
              "size": 10,
              "solidity": 0.2
             }
            },
            "type": "bar"
           }
          ],
          "barpolar": [
           {
            "marker": {
             "line": {
              "color": "white",
              "width": 0.5
             },
             "pattern": {
              "fillmode": "overlay",
              "size": 10,
              "solidity": 0.2
             }
            },
            "type": "barpolar"
           }
          ],
          "carpet": [
           {
            "aaxis": {
             "endlinecolor": "rgb(36,36,36)",
             "gridcolor": "white",
             "linecolor": "white",
             "minorgridcolor": "white",
             "startlinecolor": "rgb(36,36,36)"
            },
            "baxis": {
             "endlinecolor": "rgb(36,36,36)",
             "gridcolor": "white",
             "linecolor": "white",
             "minorgridcolor": "white",
             "startlinecolor": "rgb(36,36,36)"
            },
            "type": "carpet"
           }
          ],
          "choropleth": [
           {
            "colorbar": {
             "outlinewidth": 1,
             "tickcolor": "rgb(36,36,36)",
             "ticks": "outside"
            },
            "type": "choropleth"
           }
          ],
          "contour": [
           {
            "colorbar": {
             "outlinewidth": 1,
             "tickcolor": "rgb(36,36,36)",
             "ticks": "outside"
            },
            "colorscale": [
             [
              0,
              "#440154"
             ],
             [
              0.1111111111111111,
              "#482878"
             ],
             [
              0.2222222222222222,
              "#3e4989"
             ],
             [
              0.3333333333333333,
              "#31688e"
             ],
             [
              0.4444444444444444,
              "#26828e"
             ],
             [
              0.5555555555555556,
              "#1f9e89"
             ],
             [
              0.6666666666666666,
              "#35b779"
             ],
             [
              0.7777777777777778,
              "#6ece58"
             ],
             [
              0.8888888888888888,
              "#b5de2b"
             ],
             [
              1,
              "#fde725"
             ]
            ],
            "type": "contour"
           }
          ],
          "contourcarpet": [
           {
            "colorbar": {
             "outlinewidth": 1,
             "tickcolor": "rgb(36,36,36)",
             "ticks": "outside"
            },
            "type": "contourcarpet"
           }
          ],
          "heatmap": [
           {
            "colorbar": {
             "outlinewidth": 1,
             "tickcolor": "rgb(36,36,36)",
             "ticks": "outside"
            },
            "colorscale": [
             [
              0,
              "#440154"
             ],
             [
              0.1111111111111111,
              "#482878"
             ],
             [
              0.2222222222222222,
              "#3e4989"
             ],
             [
              0.3333333333333333,
              "#31688e"
             ],
             [
              0.4444444444444444,
              "#26828e"
             ],
             [
              0.5555555555555556,
              "#1f9e89"
             ],
             [
              0.6666666666666666,
              "#35b779"
             ],
             [
              0.7777777777777778,
              "#6ece58"
             ],
             [
              0.8888888888888888,
              "#b5de2b"
             ],
             [
              1,
              "#fde725"
             ]
            ],
            "type": "heatmap"
           }
          ],
          "heatmapgl": [
           {
            "colorbar": {
             "outlinewidth": 1,
             "tickcolor": "rgb(36,36,36)",
             "ticks": "outside"
            },
            "colorscale": [
             [
              0,
              "#440154"
             ],
             [
              0.1111111111111111,
              "#482878"
             ],
             [
              0.2222222222222222,
              "#3e4989"
             ],
             [
              0.3333333333333333,
              "#31688e"
             ],
             [
              0.4444444444444444,
              "#26828e"
             ],
             [
              0.5555555555555556,
              "#1f9e89"
             ],
             [
              0.6666666666666666,
              "#35b779"
             ],
             [
              0.7777777777777778,
              "#6ece58"
             ],
             [
              0.8888888888888888,
              "#b5de2b"
             ],
             [
              1,
              "#fde725"
             ]
            ],
            "type": "heatmapgl"
           }
          ],
          "histogram": [
           {
            "marker": {
             "line": {
              "color": "white",
              "width": 0.6
             }
            },
            "type": "histogram"
           }
          ],
          "histogram2d": [
           {
            "colorbar": {
             "outlinewidth": 1,
             "tickcolor": "rgb(36,36,36)",
             "ticks": "outside"
            },
            "colorscale": [
             [
              0,
              "#440154"
             ],
             [
              0.1111111111111111,
              "#482878"
             ],
             [
              0.2222222222222222,
              "#3e4989"
             ],
             [
              0.3333333333333333,
              "#31688e"
             ],
             [
              0.4444444444444444,
              "#26828e"
             ],
             [
              0.5555555555555556,
              "#1f9e89"
             ],
             [
              0.6666666666666666,
              "#35b779"
             ],
             [
              0.7777777777777778,
              "#6ece58"
             ],
             [
              0.8888888888888888,
              "#b5de2b"
             ],
             [
              1,
              "#fde725"
             ]
            ],
            "type": "histogram2d"
           }
          ],
          "histogram2dcontour": [
           {
            "colorbar": {
             "outlinewidth": 1,
             "tickcolor": "rgb(36,36,36)",
             "ticks": "outside"
            },
            "colorscale": [
             [
              0,
              "#440154"
             ],
             [
              0.1111111111111111,
              "#482878"
             ],
             [
              0.2222222222222222,
              "#3e4989"
             ],
             [
              0.3333333333333333,
              "#31688e"
             ],
             [
              0.4444444444444444,
              "#26828e"
             ],
             [
              0.5555555555555556,
              "#1f9e89"
             ],
             [
              0.6666666666666666,
              "#35b779"
             ],
             [
              0.7777777777777778,
              "#6ece58"
             ],
             [
              0.8888888888888888,
              "#b5de2b"
             ],
             [
              1,
              "#fde725"
             ]
            ],
            "type": "histogram2dcontour"
           }
          ],
          "mesh3d": [
           {
            "colorbar": {
             "outlinewidth": 1,
             "tickcolor": "rgb(36,36,36)",
             "ticks": "outside"
            },
            "type": "mesh3d"
           }
          ],
          "parcoords": [
           {
            "line": {
             "colorbar": {
              "outlinewidth": 1,
              "tickcolor": "rgb(36,36,36)",
              "ticks": "outside"
             }
            },
            "type": "parcoords"
           }
          ],
          "pie": [
           {
            "automargin": true,
            "type": "pie"
           }
          ],
          "scatter": [
           {
            "fillpattern": {
             "fillmode": "overlay",
             "size": 10,
             "solidity": 0.2
            },
            "type": "scatter"
           }
          ],
          "scatter3d": [
           {
            "line": {
             "colorbar": {
              "outlinewidth": 1,
              "tickcolor": "rgb(36,36,36)",
              "ticks": "outside"
             }
            },
            "marker": {
             "colorbar": {
              "outlinewidth": 1,
              "tickcolor": "rgb(36,36,36)",
              "ticks": "outside"
             }
            },
            "type": "scatter3d"
           }
          ],
          "scattercarpet": [
           {
            "marker": {
             "colorbar": {
              "outlinewidth": 1,
              "tickcolor": "rgb(36,36,36)",
              "ticks": "outside"
             }
            },
            "type": "scattercarpet"
           }
          ],
          "scattergeo": [
           {
            "marker": {
             "colorbar": {
              "outlinewidth": 1,
              "tickcolor": "rgb(36,36,36)",
              "ticks": "outside"
             }
            },
            "type": "scattergeo"
           }
          ],
          "scattergl": [
           {
            "marker": {
             "colorbar": {
              "outlinewidth": 1,
              "tickcolor": "rgb(36,36,36)",
              "ticks": "outside"
             }
            },
            "type": "scattergl"
           }
          ],
          "scattermapbox": [
           {
            "marker": {
             "colorbar": {
              "outlinewidth": 1,
              "tickcolor": "rgb(36,36,36)",
              "ticks": "outside"
             }
            },
            "type": "scattermapbox"
           }
          ],
          "scatterpolar": [
           {
            "marker": {
             "colorbar": {
              "outlinewidth": 1,
              "tickcolor": "rgb(36,36,36)",
              "ticks": "outside"
             }
            },
            "type": "scatterpolar"
           }
          ],
          "scatterpolargl": [
           {
            "marker": {
             "colorbar": {
              "outlinewidth": 1,
              "tickcolor": "rgb(36,36,36)",
              "ticks": "outside"
             }
            },
            "type": "scatterpolargl"
           }
          ],
          "scatterternary": [
           {
            "marker": {
             "colorbar": {
              "outlinewidth": 1,
              "tickcolor": "rgb(36,36,36)",
              "ticks": "outside"
             }
            },
            "type": "scatterternary"
           }
          ],
          "surface": [
           {
            "colorbar": {
             "outlinewidth": 1,
             "tickcolor": "rgb(36,36,36)",
             "ticks": "outside"
            },
            "colorscale": [
             [
              0,
              "#440154"
             ],
             [
              0.1111111111111111,
              "#482878"
             ],
             [
              0.2222222222222222,
              "#3e4989"
             ],
             [
              0.3333333333333333,
              "#31688e"
             ],
             [
              0.4444444444444444,
              "#26828e"
             ],
             [
              0.5555555555555556,
              "#1f9e89"
             ],
             [
              0.6666666666666666,
              "#35b779"
             ],
             [
              0.7777777777777778,
              "#6ece58"
             ],
             [
              0.8888888888888888,
              "#b5de2b"
             ],
             [
              1,
              "#fde725"
             ]
            ],
            "type": "surface"
           }
          ],
          "table": [
           {
            "cells": {
             "fill": {
              "color": "rgb(237,237,237)"
             },
             "line": {
              "color": "white"
             }
            },
            "header": {
             "fill": {
              "color": "rgb(217,217,217)"
             },
             "line": {
              "color": "white"
             }
            },
            "type": "table"
           }
          ]
         },
         "layout": {
          "annotationdefaults": {
           "arrowhead": 0,
           "arrowwidth": 1
          },
          "autotypenumbers": "strict",
          "coloraxis": {
           "colorbar": {
            "outlinewidth": 1,
            "tickcolor": "rgb(36,36,36)",
            "ticks": "outside"
           }
          },
          "colorscale": {
           "diverging": [
            [
             0,
             "rgb(103,0,31)"
            ],
            [
             0.1,
             "rgb(178,24,43)"
            ],
            [
             0.2,
             "rgb(214,96,77)"
            ],
            [
             0.3,
             "rgb(244,165,130)"
            ],
            [
             0.4,
             "rgb(253,219,199)"
            ],
            [
             0.5,
             "rgb(247,247,247)"
            ],
            [
             0.6,
             "rgb(209,229,240)"
            ],
            [
             0.7,
             "rgb(146,197,222)"
            ],
            [
             0.8,
             "rgb(67,147,195)"
            ],
            [
             0.9,
             "rgb(33,102,172)"
            ],
            [
             1,
             "rgb(5,48,97)"
            ]
           ],
           "sequential": [
            [
             0,
             "#440154"
            ],
            [
             0.1111111111111111,
             "#482878"
            ],
            [
             0.2222222222222222,
             "#3e4989"
            ],
            [
             0.3333333333333333,
             "#31688e"
            ],
            [
             0.4444444444444444,
             "#26828e"
            ],
            [
             0.5555555555555556,
             "#1f9e89"
            ],
            [
             0.6666666666666666,
             "#35b779"
            ],
            [
             0.7777777777777778,
             "#6ece58"
            ],
            [
             0.8888888888888888,
             "#b5de2b"
            ],
            [
             1,
             "#fde725"
            ]
           ],
           "sequentialminus": [
            [
             0,
             "#440154"
            ],
            [
             0.1111111111111111,
             "#482878"
            ],
            [
             0.2222222222222222,
             "#3e4989"
            ],
            [
             0.3333333333333333,
             "#31688e"
            ],
            [
             0.4444444444444444,
             "#26828e"
            ],
            [
             0.5555555555555556,
             "#1f9e89"
            ],
            [
             0.6666666666666666,
             "#35b779"
            ],
            [
             0.7777777777777778,
             "#6ece58"
            ],
            [
             0.8888888888888888,
             "#b5de2b"
            ],
            [
             1,
             "#fde725"
            ]
           ]
          },
          "colorway": [
           "#1F77B4",
           "#FF7F0E",
           "#2CA02C",
           "#D62728",
           "#9467BD",
           "#8C564B",
           "#E377C2",
           "#7F7F7F",
           "#BCBD22",
           "#17BECF"
          ],
          "font": {
           "color": "rgb(36,36,36)"
          },
          "geo": {
           "bgcolor": "white",
           "lakecolor": "white",
           "landcolor": "white",
           "showlakes": true,
           "showland": true,
           "subunitcolor": "white"
          },
          "hoverlabel": {
           "align": "left"
          },
          "hovermode": "closest",
          "mapbox": {
           "style": "light"
          },
          "paper_bgcolor": "white",
          "plot_bgcolor": "white",
          "polar": {
           "angularaxis": {
            "gridcolor": "rgb(232,232,232)",
            "linecolor": "rgb(36,36,36)",
            "showgrid": false,
            "showline": true,
            "ticks": "outside"
           },
           "bgcolor": "white",
           "radialaxis": {
            "gridcolor": "rgb(232,232,232)",
            "linecolor": "rgb(36,36,36)",
            "showgrid": false,
            "showline": true,
            "ticks": "outside"
           }
          },
          "scene": {
           "xaxis": {
            "backgroundcolor": "white",
            "gridcolor": "rgb(232,232,232)",
            "gridwidth": 2,
            "linecolor": "rgb(36,36,36)",
            "showbackground": true,
            "showgrid": false,
            "showline": true,
            "ticks": "outside",
            "zeroline": false,
            "zerolinecolor": "rgb(36,36,36)"
           },
           "yaxis": {
            "backgroundcolor": "white",
            "gridcolor": "rgb(232,232,232)",
            "gridwidth": 2,
            "linecolor": "rgb(36,36,36)",
            "showbackground": true,
            "showgrid": false,
            "showline": true,
            "ticks": "outside",
            "zeroline": false,
            "zerolinecolor": "rgb(36,36,36)"
           },
           "zaxis": {
            "backgroundcolor": "white",
            "gridcolor": "rgb(232,232,232)",
            "gridwidth": 2,
            "linecolor": "rgb(36,36,36)",
            "showbackground": true,
            "showgrid": false,
            "showline": true,
            "ticks": "outside",
            "zeroline": false,
            "zerolinecolor": "rgb(36,36,36)"
           }
          },
          "shapedefaults": {
           "fillcolor": "black",
           "line": {
            "width": 0
           },
           "opacity": 0.3
          },
          "ternary": {
           "aaxis": {
            "gridcolor": "rgb(232,232,232)",
            "linecolor": "rgb(36,36,36)",
            "showgrid": false,
            "showline": true,
            "ticks": "outside"
           },
           "baxis": {
            "gridcolor": "rgb(232,232,232)",
            "linecolor": "rgb(36,36,36)",
            "showgrid": false,
            "showline": true,
            "ticks": "outside"
           },
           "bgcolor": "white",
           "caxis": {
            "gridcolor": "rgb(232,232,232)",
            "linecolor": "rgb(36,36,36)",
            "showgrid": false,
            "showline": true,
            "ticks": "outside"
           }
          },
          "title": {
           "x": 0.05
          },
          "xaxis": {
           "automargin": true,
           "gridcolor": "rgb(232,232,232)",
           "linecolor": "rgb(36,36,36)",
           "showgrid": false,
           "showline": true,
           "ticks": "outside",
           "title": {
            "standoff": 15
           },
           "zeroline": false,
           "zerolinecolor": "rgb(36,36,36)"
          },
          "yaxis": {
           "automargin": true,
           "gridcolor": "rgb(232,232,232)",
           "linecolor": "rgb(36,36,36)",
           "showgrid": false,
           "showline": true,
           "ticks": "outside",
           "title": {
            "standoff": 15
           },
           "zeroline": false,
           "zerolinecolor": "rgb(36,36,36)"
          }
         }
        },
        "title": {
         "text": "Evolution of the R^2 over the repetitions of iterative fit"
        },
        "xaxis": {
         "autorange": true,
         "range": [
          -0.30814215024741337,
          5.011246063877643
         ],
         "title": {
          "text": "Number of repetition"
         }
        },
        "yaxis": {
         "autorange": true,
         "range": [
          0.4916832165542687,
          0.5150794795647221
         ],
         "title": {
          "text": "$R^2$"
         },
         "type": "linear"
        }
       }
      },
      "image/png": "[encoded data removed]",
      "text/html": [
       "<div>                            <div id=\"02b6eaec-f349-4139-94d5-f4e8606ee4b4\" class=\"plotly-graph-div\" style=\"height:525px; width:100%;\"></div>            <script type=\"text/javascript\">                require([\"plotly\"], function(Plotly) {                    window.PLOTLYENV=window.PLOTLYENV || {};                                    if (document.getElementById(\"02b6eaec-f349-4139-94d5-f4e8606ee4b4\")) {                    Plotly.newPlot(                        \"02b6eaec-f349-4139-94d5-f4e8606ee4b4\",                        [{\"line\":{\"color\":\"rgb(242, 183, 1)\"},\"mode\":\"markers\",\"name\":\"r2 occ\",\"showlegend\":true,\"y\":[0.5006271833229563,0.5049607534547917,0.4972837048576376,0.49925434570103017,0.4960390188650928],\"type\":\"scatter\"},{\"line\":{\"color\":\"rgb(57, 105, 172)\"},\"mode\":\"markers\",\"name\":\"r2 par\",\"showlegend\":true,\"y\":[0.5014892598340998,0.5134222442681483,0.4933404518508425,0.5057382081187318,0.5017067681510846],\"type\":\"scatter\"},{\"line\":{\"color\":\"rgb(17, 165, 121)\"},\"mode\":\"markers\",\"name\":\"r2 frt\",\"showlegend\":true,\"y\":[0.5081084930227789,0.5004774069112475,0.5013842535231965,0.4985109058428918,0.5001278879849108],\"type\":\"scatter\"},{\"line\":{\"color\":\"black\",\"dash\":\"dot\",\"width\":2},\"mode\":\"lines\",\"name\":\"Grid result\",\"x\":[null],\"y\":[null],\"type\":\"scatter\"},{\"line\":{\"color\":\"black\",\"dash\":\"solid\",\"width\":2},\"mode\":\"lines\",\"name\":\"Iterativ without bounds\",\"x\":[null],\"y\":[null],\"type\":\"scatter\"}],                        {\"template\":{\"data\":{\"barpolar\":[{\"marker\":{\"line\":{\"color\":\"white\",\"width\":0.5},\"pattern\":{\"fillmode\":\"overlay\",\"size\":10,\"solidity\":0.2}},\"type\":\"barpolar\"}],\"bar\":[{\"error_x\":{\"color\":\"rgb(36,36,36)\"},\"error_y\":{\"color\":\"rgb(36,36,36)\"},\"marker\":{\"line\":{\"color\":\"white\",\"width\":0.5},\"pattern\":{\"fillmode\":\"overlay\",\"size\":10,\"solidity\":0.2}},\"type\":\"bar\"}],\"carpet\":[{\"aaxis\":{\"endlinecolor\":\"rgb(36,36,36)\",\"gridcolor\":\"white\",\"linecolor\":\"white\",\"minorgridcolor\":\"white\",\"startlinecolor\":\"rgb(36,36,36)\"},\"baxis\":{\"endlinecolor\":\"rgb(36,36,36)\",\"gridcolor\":\"white\",\"linecolor\":\"white\",\"minorgridcolor\":\"white\",\"startlinecolor\":\"rgb(36,36,36)\"},\"type\":\"carpet\"}],\"choropleth\":[{\"colorbar\":{\"outlinewidth\":1,\"tickcolor\":\"rgb(36,36,36)\",\"ticks\":\"outside\"},\"type\":\"choropleth\"}],\"contourcarpet\":[{\"colorbar\":{\"outlinewidth\":1,\"tickcolor\":\"rgb(36,36,36)\",\"ticks\":\"outside\"},\"type\":\"contourcarpet\"}],\"contour\":[{\"colorbar\":{\"outlinewidth\":1,\"tickcolor\":\"rgb(36,36,36)\",\"ticks\":\"outside\"},\"colorscale\":[[0.0,\"#440154\"],[0.1111111111111111,\"#482878\"],[0.2222222222222222,\"#3e4989\"],[0.3333333333333333,\"#31688e\"],[0.4444444444444444,\"#26828e\"],[0.5555555555555556,\"#1f9e89\"],[0.6666666666666666,\"#35b779\"],[0.7777777777777778,\"#6ece58\"],[0.8888888888888888,\"#b5de2b\"],[1.0,\"#fde725\"]],\"type\":\"contour\"}],\"heatmapgl\":[{\"colorbar\":{\"outlinewidth\":1,\"tickcolor\":\"rgb(36,36,36)\",\"ticks\":\"outside\"},\"colorscale\":[[0.0,\"#440154\"],[0.1111111111111111,\"#482878\"],[0.2222222222222222,\"#3e4989\"],[0.3333333333333333,\"#31688e\"],[0.4444444444444444,\"#26828e\"],[0.5555555555555556,\"#1f9e89\"],[0.6666666666666666,\"#35b779\"],[0.7777777777777778,\"#6ece58\"],[0.8888888888888888,\"#b5de2b\"],[1.0,\"#fde725\"]],\"type\":\"heatmapgl\"}],\"heatmap\":[{\"colorbar\":{\"outlinewidth\":1,\"tickcolor\":\"rgb(36,36,36)\",\"ticks\":\"outside\"},\"colorscale\":[[0.0,\"#440154\"],[0.1111111111111111,\"#482878\"],[0.2222222222222222,\"#3e4989\"],[0.3333333333333333,\"#31688e\"],[0.4444444444444444,\"#26828e\"],[0.5555555555555556,\"#1f9e89\"],[0.6666666666666666,\"#35b779\"],[0.7777777777777778,\"#6ece58\"],[0.8888888888888888,\"#b5de2b\"],[1.0,\"#fde725\"]],\"type\":\"heatmap\"}],\"histogram2dcontour\":[{\"colorbar\":{\"outlinewidth\":1,\"tickcolor\":\"rgb(36,36,36)\",\"ticks\":\"outside\"},\"colorscale\":[[0.0,\"#440154\"],[0.1111111111111111,\"#482878\"],[0.2222222222222222,\"#3e4989\"],[0.3333333333333333,\"#31688e\"],[0.4444444444444444,\"#26828e\"],[0.5555555555555556,\"#1f9e89\"],[0.6666666666666666,\"#35b779\"],[0.7777777777777778,\"#6ece58\"],[0.8888888888888888,\"#b5de2b\"],[1.0,\"#fde725\"]],\"type\":\"histogram2dcontour\"}],\"histogram2d\":[{\"colorbar\":{\"outlinewidth\":1,\"tickcolor\":\"rgb(36,36,36)\",\"ticks\":\"outside\"},\"colorscale\":[[0.0,\"#440154\"],[0.1111111111111111,\"#482878\"],[0.2222222222222222,\"#3e4989\"],[0.3333333333333333,\"#31688e\"],[0.4444444444444444,\"#26828e\"],[0.5555555555555556,\"#1f9e89\"],[0.6666666666666666,\"#35b779\"],[0.7777777777777778,\"#6ece58\"],[0.8888888888888888,\"#b5de2b\"],[1.0,\"#fde725\"]],\"type\":\"histogram2d\"}],\"histogram\":[{\"marker\":{\"line\":{\"color\":\"white\",\"width\":0.6}},\"type\":\"histogram\"}],\"mesh3d\":[{\"colorbar\":{\"outlinewidth\":1,\"tickcolor\":\"rgb(36,36,36)\",\"ticks\":\"outside\"},\"type\":\"mesh3d\"}],\"parcoords\":[{\"line\":{\"colorbar\":{\"outlinewidth\":1,\"tickcolor\":\"rgb(36,36,36)\",\"ticks\":\"outside\"}},\"type\":\"parcoords\"}],\"pie\":[{\"automargin\":true,\"type\":\"pie\"}],\"scatter3d\":[{\"line\":{\"colorbar\":{\"outlinewidth\":1,\"tickcolor\":\"rgb(36,36,36)\",\"ticks\":\"outside\"}},\"marker\":{\"colorbar\":{\"outlinewidth\":1,\"tickcolor\":\"rgb(36,36,36)\",\"ticks\":\"outside\"}},\"type\":\"scatter3d\"}],\"scattercarpet\":[{\"marker\":{\"colorbar\":{\"outlinewidth\":1,\"tickcolor\":\"rgb(36,36,36)\",\"ticks\":\"outside\"}},\"type\":\"scattercarpet\"}],\"scattergeo\":[{\"marker\":{\"colorbar\":{\"outlinewidth\":1,\"tickcolor\":\"rgb(36,36,36)\",\"ticks\":\"outside\"}},\"type\":\"scattergeo\"}],\"scattergl\":[{\"marker\":{\"colorbar\":{\"outlinewidth\":1,\"tickcolor\":\"rgb(36,36,36)\",\"ticks\":\"outside\"}},\"type\":\"scattergl\"}],\"scattermapbox\":[{\"marker\":{\"colorbar\":{\"outlinewidth\":1,\"tickcolor\":\"rgb(36,36,36)\",\"ticks\":\"outside\"}},\"type\":\"scattermapbox\"}],\"scatterpolargl\":[{\"marker\":{\"colorbar\":{\"outlinewidth\":1,\"tickcolor\":\"rgb(36,36,36)\",\"ticks\":\"outside\"}},\"type\":\"scatterpolargl\"}],\"scatterpolar\":[{\"marker\":{\"colorbar\":{\"outlinewidth\":1,\"tickcolor\":\"rgb(36,36,36)\",\"ticks\":\"outside\"}},\"type\":\"scatterpolar\"}],\"scatter\":[{\"fillpattern\":{\"fillmode\":\"overlay\",\"size\":10,\"solidity\":0.2},\"type\":\"scatter\"}],\"scatterternary\":[{\"marker\":{\"colorbar\":{\"outlinewidth\":1,\"tickcolor\":\"rgb(36,36,36)\",\"ticks\":\"outside\"}},\"type\":\"scatterternary\"}],\"surface\":[{\"colorbar\":{\"outlinewidth\":1,\"tickcolor\":\"rgb(36,36,36)\",\"ticks\":\"outside\"},\"colorscale\":[[0.0,\"#440154\"],[0.1111111111111111,\"#482878\"],[0.2222222222222222,\"#3e4989\"],[0.3333333333333333,\"#31688e\"],[0.4444444444444444,\"#26828e\"],[0.5555555555555556,\"#1f9e89\"],[0.6666666666666666,\"#35b779\"],[0.7777777777777778,\"#6ece58\"],[0.8888888888888888,\"#b5de2b\"],[1.0,\"#fde725\"]],\"type\":\"surface\"}],\"table\":[{\"cells\":{\"fill\":{\"color\":\"rgb(237,237,237)\"},\"line\":{\"color\":\"white\"}},\"header\":{\"fill\":{\"color\":\"rgb(217,217,217)\"},\"line\":{\"color\":\"white\"}},\"type\":\"table\"}]},\"layout\":{\"annotationdefaults\":{\"arrowhead\":0,\"arrowwidth\":1},\"autotypenumbers\":\"strict\",\"coloraxis\":{\"colorbar\":{\"outlinewidth\":1,\"tickcolor\":\"rgb(36,36,36)\",\"ticks\":\"outside\"}},\"colorscale\":{\"diverging\":[[0.0,\"rgb(103,0,31)\"],[0.1,\"rgb(178,24,43)\"],[0.2,\"rgb(214,96,77)\"],[0.3,\"rgb(244,165,130)\"],[0.4,\"rgb(253,219,199)\"],[0.5,\"rgb(247,247,247)\"],[0.6,\"rgb(209,229,240)\"],[0.7,\"rgb(146,197,222)\"],[0.8,\"rgb(67,147,195)\"],[0.9,\"rgb(33,102,172)\"],[1.0,\"rgb(5,48,97)\"]],\"sequential\":[[0.0,\"#440154\"],[0.1111111111111111,\"#482878\"],[0.2222222222222222,\"#3e4989\"],[0.3333333333333333,\"#31688e\"],[0.4444444444444444,\"#26828e\"],[0.5555555555555556,\"#1f9e89\"],[0.6666666666666666,\"#35b779\"],[0.7777777777777778,\"#6ece58\"],[0.8888888888888888,\"#b5de2b\"],[1.0,\"#fde725\"]],\"sequentialminus\":[[0.0,\"#440154\"],[0.1111111111111111,\"#482878\"],[0.2222222222222222,\"#3e4989\"],[0.3333333333333333,\"#31688e\"],[0.4444444444444444,\"#26828e\"],[0.5555555555555556,\"#1f9e89\"],[0.6666666666666666,\"#35b779\"],[0.7777777777777778,\"#6ece58\"],[0.8888888888888888,\"#b5de2b\"],[1.0,\"#fde725\"]]},\"colorway\":[\"#1F77B4\",\"#FF7F0E\",\"#2CA02C\",\"#D62728\",\"#9467BD\",\"#8C564B\",\"#E377C2\",\"#7F7F7F\",\"#BCBD22\",\"#17BECF\"],\"font\":{\"color\":\"rgb(36,36,36)\"},\"geo\":{\"bgcolor\":\"white\",\"lakecolor\":\"white\",\"landcolor\":\"white\",\"showlakes\":true,\"showland\":true,\"subunitcolor\":\"white\"},\"hoverlabel\":{\"align\":\"left\"},\"hovermode\":\"closest\",\"mapbox\":{\"style\":\"light\"},\"paper_bgcolor\":\"white\",\"plot_bgcolor\":\"white\",\"polar\":{\"angularaxis\":{\"gridcolor\":\"rgb(232,232,232)\",\"linecolor\":\"rgb(36,36,36)\",\"showgrid\":false,\"showline\":true,\"ticks\":\"outside\"},\"bgcolor\":\"white\",\"radialaxis\":{\"gridcolor\":\"rgb(232,232,232)\",\"linecolor\":\"rgb(36,36,36)\",\"showgrid\":false,\"showline\":true,\"ticks\":\"outside\"}},\"scene\":{\"xaxis\":{\"backgroundcolor\":\"white\",\"gridcolor\":\"rgb(232,232,232)\",\"gridwidth\":2,\"linecolor\":\"rgb(36,36,36)\",\"showbackground\":true,\"showgrid\":false,\"showline\":true,\"ticks\":\"outside\",\"zeroline\":false,\"zerolinecolor\":\"rgb(36,36,36)\"},\"yaxis\":{\"backgroundcolor\":\"white\",\"gridcolor\":\"rgb(232,232,232)\",\"gridwidth\":2,\"linecolor\":\"rgb(36,36,36)\",\"showbackground\":true,\"showgrid\":false,\"showline\":true,\"ticks\":\"outside\",\"zeroline\":false,\"zerolinecolor\":\"rgb(36,36,36)\"},\"zaxis\":{\"backgroundcolor\":\"white\",\"gridcolor\":\"rgb(232,232,232)\",\"gridwidth\":2,\"linecolor\":\"rgb(36,36,36)\",\"showbackground\":true,\"showgrid\":false,\"showline\":true,\"ticks\":\"outside\",\"zeroline\":false,\"zerolinecolor\":\"rgb(36,36,36)\"}},\"shapedefaults\":{\"fillcolor\":\"black\",\"line\":{\"width\":0},\"opacity\":0.3},\"ternary\":{\"aaxis\":{\"gridcolor\":\"rgb(232,232,232)\",\"linecolor\":\"rgb(36,36,36)\",\"showgrid\":false,\"showline\":true,\"ticks\":\"outside\"},\"baxis\":{\"gridcolor\":\"rgb(232,232,232)\",\"linecolor\":\"rgb(36,36,36)\",\"showgrid\":false,\"showline\":true,\"ticks\":\"outside\"},\"bgcolor\":\"white\",\"caxis\":{\"gridcolor\":\"rgb(232,232,232)\",\"linecolor\":\"rgb(36,36,36)\",\"showgrid\":false,\"showline\":true,\"ticks\":\"outside\"}},\"title\":{\"x\":0.05},\"xaxis\":{\"automargin\":true,\"gridcolor\":\"rgb(232,232,232)\",\"linecolor\":\"rgb(36,36,36)\",\"showgrid\":false,\"showline\":true,\"ticks\":\"outside\",\"title\":{\"standoff\":15},\"zeroline\":false,\"zerolinecolor\":\"rgb(36,36,36)\"},\"yaxis\":{\"automargin\":true,\"gridcolor\":\"rgb(232,232,232)\",\"linecolor\":\"rgb(36,36,36)\",\"showgrid\":false,\"showline\":true,\"ticks\":\"outside\",\"title\":{\"standoff\":15},\"zeroline\":false,\"zerolinecolor\":\"rgb(36,36,36)\"}}},\"shapes\":[{\"line\":{\"color\":\"rgb(242, 183, 1)\",\"dash\":\"dot\",\"width\":2},\"name\":\"R2 with bound\",\"type\":\"line\",\"x0\":0,\"x1\":5,\"y0\":0.49952804974802206,\"y1\":0.49952804974802206},{\"line\":{\"color\":\"rgb(242, 183, 1)\",\"dash\":\"solid\",\"width\":2},\"name\":\"R2 grid\",\"type\":\"line\",\"x0\":0,\"x1\":5,\"y0\":0.5033624244483915,\"y1\":0.5033624244483915},{\"line\":{\"color\":\"rgb(57, 105, 172)\",\"dash\":\"dot\",\"width\":2},\"name\":\"R2 with bound\",\"type\":\"line\",\"x0\":0,\"x1\":5,\"y0\":0.5021850775145501,\"y1\":0.5021850775145501},{\"line\":{\"color\":\"rgb(57, 105, 172)\",\"dash\":\"solid\",\"width\":2},\"name\":\"R2 grid\",\"type\":\"line\",\"x0\":0,\"x1\":5,\"y0\":0.4967285548979095,\"y1\":0.4967285548979095},{\"line\":{\"color\":\"rgb(17, 165, 121)\",\"dash\":\"dot\",\"width\":2},\"name\":\"R2 with bound\",\"type\":\"line\",\"x0\":0,\"x1\":5,\"y0\":0.5009585718198556,\"y1\":0.5009585718198556},{\"line\":{\"color\":\"rgb(17, 165, 121)\",\"dash\":\"solid\",\"width\":2},\"name\":\"R2 grid\",\"type\":\"line\",\"x0\":0,\"x1\":5,\"y0\":0.49971333822791714,\"y1\":0.49971333822791714}],\"title\":{\"text\":\"Evolution of the R^2 over the repetitions of iterative fit\"},\"xaxis\":{\"title\":{\"text\":\"Number of repetition\"}},\"yaxis\":{\"title\":{\"text\":\"$R^2$\"}}},                        {\"responsive\": true}                    ).then(function(){\n",
       "                            \n",
       "var gd = document.getElementById('02b6eaec-f349-4139-94d5-f4e8606ee4b4');\n",
       "var x = new MutationObserver(function (mutations, observer) {{\n",
       "        var display = window.getComputedStyle(gd).display;\n",
       "        if (!display || display === 'none') {{\n",
       "            console.log([gd, 'removed!']);\n",
       "            Plotly.purge(gd);\n",
       "            observer.disconnect();\n",
       "        }}\n",
       "}});\n",
       "\n",
       "// Listen for the removal of the full notebook cells\n",
       "var notebookContainer = gd.closest('#notebook-container');\n",
       "if (notebookContainer) {{\n",
       "    x.observe(notebookContainer, {childList: true});\n",
       "}}\n",
       "\n",
       "// Listen for the clearing of the current output cell\n",
       "var outputEl = gd.closest('.output');\n",
       "if (outputEl) {{\n",
       "    x.observe(outputEl, {childList: true});\n",
       "}}\n",
       "\n",
       "                        })                };                });            </script>        </div>"
      ]
     },
     "metadata": {},
     "output_type": "display_data"
    }
   ],
   "source": [
    "\n",
    "fig = go.Figure()\n",
    "colors =['rgb(242, 183, 1)','rgb(57, 105, 172)','rgb(17, 165, 121)','rgb(127, 60, 141)']\n",
    "for i , roi in enumerate(rois) :\n",
    "    # select roi data \n",
    "    df_roi = gauss_fit_mat_repeat[roi_verts[roi],:,:]\n",
    "    \n",
    "    r2_mean =np.mean(df_roi[:,-1,2:],axis=0)\n",
    "    r2_grid_mean = np.mean(df_roi[:,-1,grid_place])\n",
    "    r2_bd_mean = np.mean(df_roi[:,-1,no_bd])\n",
    "\n",
    "    \n",
    "    # plot R2 roi\n",
    "    fig.add_trace(go.Scatter(\n",
    "        y=r2_mean,\n",
    "        mode='markers',\n",
    "        name='r2 {}'.format(roi),\n",
    "        line_color=colors[i],\n",
    "        showlegend=True))\n",
    "\n",
    "    # plot r2 without bound\n",
    "    fig.add_shape(\n",
    "        type='line',\n",
    "        x0=0, y0=r2_bd_mean, x1=n_repeat, y1=r2_bd_mean,\n",
    "        line=dict(color=colors[i], width=2, dash='dot'),\n",
    "        name='R2 without bound')\n",
    "\n",
    "    # plot r2 grid\n",
    "    fig.add_shape(\n",
    "        type='line',\n",
    "        x0=0, y0=r2_grid_mean, x1=n_repeat, y1=r2_grid_mean,\n",
    "        line=dict(color=colors[i], width=2, dash='solid'), \n",
    "        name='R2 grid')\n",
    "    \n",
    "# for the legend\n",
    "fig.add_trace(go.Scatter(x=[None],\n",
    "                          y=[None],\n",
    "                          mode='lines',\n",
    "                          line=dict(color='black', width=2, dash='dot'),\n",
    "                          name='Grid result'))\n",
    "\n",
    "fig.add_trace(go.Scatter(x=[None],\n",
    "                          y=[None],\n",
    "                          mode='lines',\n",
    "                          line=dict(color='black', width=2, dash='solid'),\n",
    "                          name='Iterativ without bounds'))\n",
    "\n",
    "fig.update_layout(template='simple_white',\n",
    "                  title = 'Evolution of the R^2 over the repetitions of iterative fit',\n",
    "                  xaxis_title = 'Number of repetition',\n",
    "                  yaxis_title = '$R^2$')\n",
    "fig.show()\n"
   ]
  },
  {
   "cell_type": "markdown",
   "id": "0da5e84d-7114-4cba-8ab8-e94622118cbd",
   "metadata": {},
   "source": [
    "# Figure 2"
   ]
  },
  {
   "cell_type": "code",
   "execution_count": 106,
   "id": "517cf188-385a-4dc7-82ca-5f35b83c0085",
   "metadata": {},
   "outputs": [
    {
     "data": {
      "application/vnd.plotly.v1+json": {
       "config": {
        "plotlyServerURL": "https://plot.ly"
       },
       "data": [
        {
         "line": {
          "color": "rgb(17, 165, 121)"
         },
         "mode": "markers",
         "name": "r2 frt",
         "showlegend": true,
         "type": "scatter",
         "y": [
          0.3116046622989783,
          0.22830978157973358,
          0.3771686198557598,
          0.380947216791772,
          0.08847933394350593
         ]
        },
        {
         "line": {
          "color": "blue",
          "dash": "dot",
          "width": 2
         },
         "mode": "lines",
         "name": "Grid result",
         "type": "scatter",
         "x": [
          null
         ],
         "y": [
          null
         ]
        },
        {
         "line": {
          "color": "red",
          "dash": "solid",
          "width": 2
         },
         "mode": "lines",
         "name": "Iterativ without bounds",
         "type": "scatter",
         "x": [
          null
         ],
         "y": [
          null
         ]
        }
       ],
       "layout": {
        "autosize": true,
        "shapes": [
         {
          "line": {
           "color": "blue",
           "dash": "dot",
           "width": 2
          },
          "name": "grid",
          "type": "line",
          "x0": 0,
          "x1": 5,
          "y0": 0.9671185467079053,
          "y1": 0.9671185467079053
         },
         {
          "line": {
           "color": "red",
           "dash": "solid",
           "width": 2
          },
          "name": "without bouns",
          "type": "line",
          "x0": 0,
          "x1": 5,
          "y0": 0.5212576569506349,
          "y1": 0.5212576569506349
         }
        ],
        "template": {
         "data": {
          "bar": [
           {
            "error_x": {
             "color": "rgb(36,36,36)"
            },
            "error_y": {
             "color": "rgb(36,36,36)"
            },
            "marker": {
             "line": {
              "color": "white",
              "width": 0.5
             },
             "pattern": {
              "fillmode": "overlay",
              "size": 10,
              "solidity": 0.2
             }
            },
            "type": "bar"
           }
          ],
          "barpolar": [
           {
            "marker": {
             "line": {
              "color": "white",
              "width": 0.5
             },
             "pattern": {
              "fillmode": "overlay",
              "size": 10,
              "solidity": 0.2
             }
            },
            "type": "barpolar"
           }
          ],
          "carpet": [
           {
            "aaxis": {
             "endlinecolor": "rgb(36,36,36)",
             "gridcolor": "white",
             "linecolor": "white",
             "minorgridcolor": "white",
             "startlinecolor": "rgb(36,36,36)"
            },
            "baxis": {
             "endlinecolor": "rgb(36,36,36)",
             "gridcolor": "white",
             "linecolor": "white",
             "minorgridcolor": "white",
             "startlinecolor": "rgb(36,36,36)"
            },
            "type": "carpet"
           }
          ],
          "choropleth": [
           {
            "colorbar": {
             "outlinewidth": 1,
             "tickcolor": "rgb(36,36,36)",
             "ticks": "outside"
            },
            "type": "choropleth"
           }
          ],
          "contour": [
           {
            "colorbar": {
             "outlinewidth": 1,
             "tickcolor": "rgb(36,36,36)",
             "ticks": "outside"
            },
            "colorscale": [
             [
              0,
              "#440154"
             ],
             [
              0.1111111111111111,
              "#482878"
             ],
             [
              0.2222222222222222,
              "#3e4989"
             ],
             [
              0.3333333333333333,
              "#31688e"
             ],
             [
              0.4444444444444444,
              "#26828e"
             ],
             [
              0.5555555555555556,
              "#1f9e89"
             ],
             [
              0.6666666666666666,
              "#35b779"
             ],
             [
              0.7777777777777778,
              "#6ece58"
             ],
             [
              0.8888888888888888,
              "#b5de2b"
             ],
             [
              1,
              "#fde725"
             ]
            ],
            "type": "contour"
           }
          ],
          "contourcarpet": [
           {
            "colorbar": {
             "outlinewidth": 1,
             "tickcolor": "rgb(36,36,36)",
             "ticks": "outside"
            },
            "type": "contourcarpet"
           }
          ],
          "heatmap": [
           {
            "colorbar": {
             "outlinewidth": 1,
             "tickcolor": "rgb(36,36,36)",
             "ticks": "outside"
            },
            "colorscale": [
             [
              0,
              "#440154"
             ],
             [
              0.1111111111111111,
              "#482878"
             ],
             [
              0.2222222222222222,
              "#3e4989"
             ],
             [
              0.3333333333333333,
              "#31688e"
             ],
             [
              0.4444444444444444,
              "#26828e"
             ],
             [
              0.5555555555555556,
              "#1f9e89"
             ],
             [
              0.6666666666666666,
              "#35b779"
             ],
             [
              0.7777777777777778,
              "#6ece58"
             ],
             [
              0.8888888888888888,
              "#b5de2b"
             ],
             [
              1,
              "#fde725"
             ]
            ],
            "type": "heatmap"
           }
          ],
          "heatmapgl": [
           {
            "colorbar": {
             "outlinewidth": 1,
             "tickcolor": "rgb(36,36,36)",
             "ticks": "outside"
            },
            "colorscale": [
             [
              0,
              "#440154"
             ],
             [
              0.1111111111111111,
              "#482878"
             ],
             [
              0.2222222222222222,
              "#3e4989"
             ],
             [
              0.3333333333333333,
              "#31688e"
             ],
             [
              0.4444444444444444,
              "#26828e"
             ],
             [
              0.5555555555555556,
              "#1f9e89"
             ],
             [
              0.6666666666666666,
              "#35b779"
             ],
             [
              0.7777777777777778,
              "#6ece58"
             ],
             [
              0.8888888888888888,
              "#b5de2b"
             ],
             [
              1,
              "#fde725"
             ]
            ],
            "type": "heatmapgl"
           }
          ],
          "histogram": [
           {
            "marker": {
             "line": {
              "color": "white",
              "width": 0.6
             }
            },
            "type": "histogram"
           }
          ],
          "histogram2d": [
           {
            "colorbar": {
             "outlinewidth": 1,
             "tickcolor": "rgb(36,36,36)",
             "ticks": "outside"
            },
            "colorscale": [
             [
              0,
              "#440154"
             ],
             [
              0.1111111111111111,
              "#482878"
             ],
             [
              0.2222222222222222,
              "#3e4989"
             ],
             [
              0.3333333333333333,
              "#31688e"
             ],
             [
              0.4444444444444444,
              "#26828e"
             ],
             [
              0.5555555555555556,
              "#1f9e89"
             ],
             [
              0.6666666666666666,
              "#35b779"
             ],
             [
              0.7777777777777778,
              "#6ece58"
             ],
             [
              0.8888888888888888,
              "#b5de2b"
             ],
             [
              1,
              "#fde725"
             ]
            ],
            "type": "histogram2d"
           }
          ],
          "histogram2dcontour": [
           {
            "colorbar": {
             "outlinewidth": 1,
             "tickcolor": "rgb(36,36,36)",
             "ticks": "outside"
            },
            "colorscale": [
             [
              0,
              "#440154"
             ],
             [
              0.1111111111111111,
              "#482878"
             ],
             [
              0.2222222222222222,
              "#3e4989"
             ],
             [
              0.3333333333333333,
              "#31688e"
             ],
             [
              0.4444444444444444,
              "#26828e"
             ],
             [
              0.5555555555555556,
              "#1f9e89"
             ],
             [
              0.6666666666666666,
              "#35b779"
             ],
             [
              0.7777777777777778,
              "#6ece58"
             ],
             [
              0.8888888888888888,
              "#b5de2b"
             ],
             [
              1,
              "#fde725"
             ]
            ],
            "type": "histogram2dcontour"
           }
          ],
          "mesh3d": [
           {
            "colorbar": {
             "outlinewidth": 1,
             "tickcolor": "rgb(36,36,36)",
             "ticks": "outside"
            },
            "type": "mesh3d"
           }
          ],
          "parcoords": [
           {
            "line": {
             "colorbar": {
              "outlinewidth": 1,
              "tickcolor": "rgb(36,36,36)",
              "ticks": "outside"
             }
            },
            "type": "parcoords"
           }
          ],
          "pie": [
           {
            "automargin": true,
            "type": "pie"
           }
          ],
          "scatter": [
           {
            "fillpattern": {
             "fillmode": "overlay",
             "size": 10,
             "solidity": 0.2
            },
            "type": "scatter"
           }
          ],
          "scatter3d": [
           {
            "line": {
             "colorbar": {
              "outlinewidth": 1,
              "tickcolor": "rgb(36,36,36)",
              "ticks": "outside"
             }
            },
            "marker": {
             "colorbar": {
              "outlinewidth": 1,
              "tickcolor": "rgb(36,36,36)",
              "ticks": "outside"
             }
            },
            "type": "scatter3d"
           }
          ],
          "scattercarpet": [
           {
            "marker": {
             "colorbar": {
              "outlinewidth": 1,
              "tickcolor": "rgb(36,36,36)",
              "ticks": "outside"
             }
            },
            "type": "scattercarpet"
           }
          ],
          "scattergeo": [
           {
            "marker": {
             "colorbar": {
              "outlinewidth": 1,
              "tickcolor": "rgb(36,36,36)",
              "ticks": "outside"
             }
            },
            "type": "scattergeo"
           }
          ],
          "scattergl": [
           {
            "marker": {
             "colorbar": {
              "outlinewidth": 1,
              "tickcolor": "rgb(36,36,36)",
              "ticks": "outside"
             }
            },
            "type": "scattergl"
           }
          ],
          "scattermapbox": [
           {
            "marker": {
             "colorbar": {
              "outlinewidth": 1,
              "tickcolor": "rgb(36,36,36)",
              "ticks": "outside"
             }
            },
            "type": "scattermapbox"
           }
          ],
          "scatterpolar": [
           {
            "marker": {
             "colorbar": {
              "outlinewidth": 1,
              "tickcolor": "rgb(36,36,36)",
              "ticks": "outside"
             }
            },
            "type": "scatterpolar"
           }
          ],
          "scatterpolargl": [
           {
            "marker": {
             "colorbar": {
              "outlinewidth": 1,
              "tickcolor": "rgb(36,36,36)",
              "ticks": "outside"
             }
            },
            "type": "scatterpolargl"
           }
          ],
          "scatterternary": [
           {
            "marker": {
             "colorbar": {
              "outlinewidth": 1,
              "tickcolor": "rgb(36,36,36)",
              "ticks": "outside"
             }
            },
            "type": "scatterternary"
           }
          ],
          "surface": [
           {
            "colorbar": {
             "outlinewidth": 1,
             "tickcolor": "rgb(36,36,36)",
             "ticks": "outside"
            },
            "colorscale": [
             [
              0,
              "#440154"
             ],
             [
              0.1111111111111111,
              "#482878"
             ],
             [
              0.2222222222222222,
              "#3e4989"
             ],
             [
              0.3333333333333333,
              "#31688e"
             ],
             [
              0.4444444444444444,
              "#26828e"
             ],
             [
              0.5555555555555556,
              "#1f9e89"
             ],
             [
              0.6666666666666666,
              "#35b779"
             ],
             [
              0.7777777777777778,
              "#6ece58"
             ],
             [
              0.8888888888888888,
              "#b5de2b"
             ],
             [
              1,
              "#fde725"
             ]
            ],
            "type": "surface"
           }
          ],
          "table": [
           {
            "cells": {
             "fill": {
              "color": "rgb(237,237,237)"
             },
             "line": {
              "color": "white"
             }
            },
            "header": {
             "fill": {
              "color": "rgb(217,217,217)"
             },
             "line": {
              "color": "white"
             }
            },
            "type": "table"
           }
          ]
         },
         "layout": {
          "annotationdefaults": {
           "arrowhead": 0,
           "arrowwidth": 1
          },
          "autotypenumbers": "strict",
          "coloraxis": {
           "colorbar": {
            "outlinewidth": 1,
            "tickcolor": "rgb(36,36,36)",
            "ticks": "outside"
           }
          },
          "colorscale": {
           "diverging": [
            [
             0,
             "rgb(103,0,31)"
            ],
            [
             0.1,
             "rgb(178,24,43)"
            ],
            [
             0.2,
             "rgb(214,96,77)"
            ],
            [
             0.3,
             "rgb(244,165,130)"
            ],
            [
             0.4,
             "rgb(253,219,199)"
            ],
            [
             0.5,
             "rgb(247,247,247)"
            ],
            [
             0.6,
             "rgb(209,229,240)"
            ],
            [
             0.7,
             "rgb(146,197,222)"
            ],
            [
             0.8,
             "rgb(67,147,195)"
            ],
            [
             0.9,
             "rgb(33,102,172)"
            ],
            [
             1,
             "rgb(5,48,97)"
            ]
           ],
           "sequential": [
            [
             0,
             "#440154"
            ],
            [
             0.1111111111111111,
             "#482878"
            ],
            [
             0.2222222222222222,
             "#3e4989"
            ],
            [
             0.3333333333333333,
             "#31688e"
            ],
            [
             0.4444444444444444,
             "#26828e"
            ],
            [
             0.5555555555555556,
             "#1f9e89"
            ],
            [
             0.6666666666666666,
             "#35b779"
            ],
            [
             0.7777777777777778,
             "#6ece58"
            ],
            [
             0.8888888888888888,
             "#b5de2b"
            ],
            [
             1,
             "#fde725"
            ]
           ],
           "sequentialminus": [
            [
             0,
             "#440154"
            ],
            [
             0.1111111111111111,
             "#482878"
            ],
            [
             0.2222222222222222,
             "#3e4989"
            ],
            [
             0.3333333333333333,
             "#31688e"
            ],
            [
             0.4444444444444444,
             "#26828e"
            ],
            [
             0.5555555555555556,
             "#1f9e89"
            ],
            [
             0.6666666666666666,
             "#35b779"
            ],
            [
             0.7777777777777778,
             "#6ece58"
            ],
            [
             0.8888888888888888,
             "#b5de2b"
            ],
            [
             1,
             "#fde725"
            ]
           ]
          },
          "colorway": [
           "#1F77B4",
           "#FF7F0E",
           "#2CA02C",
           "#D62728",
           "#9467BD",
           "#8C564B",
           "#E377C2",
           "#7F7F7F",
           "#BCBD22",
           "#17BECF"
          ],
          "font": {
           "color": "rgb(36,36,36)"
          },
          "geo": {
           "bgcolor": "white",
           "lakecolor": "white",
           "landcolor": "white",
           "showlakes": true,
           "showland": true,
           "subunitcolor": "white"
          },
          "hoverlabel": {
           "align": "left"
          },
          "hovermode": "closest",
          "mapbox": {
           "style": "light"
          },
          "paper_bgcolor": "white",
          "plot_bgcolor": "white",
          "polar": {
           "angularaxis": {
            "gridcolor": "rgb(232,232,232)",
            "linecolor": "rgb(36,36,36)",
            "showgrid": false,
            "showline": true,
            "ticks": "outside"
           },
           "bgcolor": "white",
           "radialaxis": {
            "gridcolor": "rgb(232,232,232)",
            "linecolor": "rgb(36,36,36)",
            "showgrid": false,
            "showline": true,
            "ticks": "outside"
           }
          },
          "scene": {
           "xaxis": {
            "backgroundcolor": "white",
            "gridcolor": "rgb(232,232,232)",
            "gridwidth": 2,
            "linecolor": "rgb(36,36,36)",
            "showbackground": true,
            "showgrid": false,
            "showline": true,
            "ticks": "outside",
            "zeroline": false,
            "zerolinecolor": "rgb(36,36,36)"
           },
           "yaxis": {
            "backgroundcolor": "white",
            "gridcolor": "rgb(232,232,232)",
            "gridwidth": 2,
            "linecolor": "rgb(36,36,36)",
            "showbackground": true,
            "showgrid": false,
            "showline": true,
            "ticks": "outside",
            "zeroline": false,
            "zerolinecolor": "rgb(36,36,36)"
           },
           "zaxis": {
            "backgroundcolor": "white",
            "gridcolor": "rgb(232,232,232)",
            "gridwidth": 2,
            "linecolor": "rgb(36,36,36)",
            "showbackground": true,
            "showgrid": false,
            "showline": true,
            "ticks": "outside",
            "zeroline": false,
            "zerolinecolor": "rgb(36,36,36)"
           }
          },
          "shapedefaults": {
           "fillcolor": "black",
           "line": {
            "width": 0
           },
           "opacity": 0.3
          },
          "ternary": {
           "aaxis": {
            "gridcolor": "rgb(232,232,232)",
            "linecolor": "rgb(36,36,36)",
            "showgrid": false,
            "showline": true,
            "ticks": "outside"
           },
           "baxis": {
            "gridcolor": "rgb(232,232,232)",
            "linecolor": "rgb(36,36,36)",
            "showgrid": false,
            "showline": true,
            "ticks": "outside"
           },
           "bgcolor": "white",
           "caxis": {
            "gridcolor": "rgb(232,232,232)",
            "linecolor": "rgb(36,36,36)",
            "showgrid": false,
            "showline": true,
            "ticks": "outside"
           }
          },
          "title": {
           "x": 0.05
          },
          "xaxis": {
           "automargin": true,
           "gridcolor": "rgb(232,232,232)",
           "linecolor": "rgb(36,36,36)",
           "showgrid": false,
           "showline": true,
           "ticks": "outside",
           "title": {
            "standoff": 15
           },
           "zeroline": false,
           "zerolinecolor": "rgb(36,36,36)"
          },
          "yaxis": {
           "automargin": true,
           "gridcolor": "rgb(232,232,232)",
           "linecolor": "rgb(36,36,36)",
           "showgrid": false,
           "showline": true,
           "ticks": "outside",
           "title": {
            "standoff": 15
           },
           "zeroline": false,
           "zerolinecolor": "rgb(36,36,36)"
          }
         }
        },
        "title": {
         "text": "Evolution of the durations of the iterativ fit over the repetitions"
        },
        "xaxis": {
         "autorange": true,
         "range": [
          -0.30814215024741337,
          5.011246063877643
         ],
         "title": {
          "text": "Number of repetition"
         }
        },
        "yaxis": {
         "autorange": true,
         "range": [
          0.021094973265333952,
          0.9724035946042325
         ],
         "title": {
          "text": "Duration (s)"
         },
         "type": "linear"
        }
       }
      },
      "image/png": "[encoded data removed]",
      "text/html": [
       "<div>                            <div id=\"afa334d2-b84b-4db7-98bc-cf1c903bf0cf\" class=\"plotly-graph-div\" style=\"height:525px; width:100%;\"></div>            <script type=\"text/javascript\">                require([\"plotly\"], function(Plotly) {                    window.PLOTLYENV=window.PLOTLYENV || {};                                    if (document.getElementById(\"afa334d2-b84b-4db7-98bc-cf1c903bf0cf\")) {                    Plotly.newPlot(                        \"afa334d2-b84b-4db7-98bc-cf1c903bf0cf\",                        [{\"line\":{\"color\":\"rgb(17, 165, 121)\"},\"mode\":\"markers\",\"name\":\"r2 frt\",\"showlegend\":true,\"y\":[0.3116046622989783,0.22830978157973358,0.3771686198557598,0.380947216791772,0.08847933394350593],\"type\":\"scatter\"},{\"line\":{\"color\":\"blue\",\"dash\":\"dot\",\"width\":2},\"mode\":\"lines\",\"name\":\"Grid result\",\"x\":[null],\"y\":[null],\"type\":\"scatter\"},{\"line\":{\"color\":\"red\",\"dash\":\"solid\",\"width\":2},\"mode\":\"lines\",\"name\":\"Iterativ without bounds\",\"x\":[null],\"y\":[null],\"type\":\"scatter\"}],                        {\"template\":{\"data\":{\"barpolar\":[{\"marker\":{\"line\":{\"color\":\"white\",\"width\":0.5},\"pattern\":{\"fillmode\":\"overlay\",\"size\":10,\"solidity\":0.2}},\"type\":\"barpolar\"}],\"bar\":[{\"error_x\":{\"color\":\"rgb(36,36,36)\"},\"error_y\":{\"color\":\"rgb(36,36,36)\"},\"marker\":{\"line\":{\"color\":\"white\",\"width\":0.5},\"pattern\":{\"fillmode\":\"overlay\",\"size\":10,\"solidity\":0.2}},\"type\":\"bar\"}],\"carpet\":[{\"aaxis\":{\"endlinecolor\":\"rgb(36,36,36)\",\"gridcolor\":\"white\",\"linecolor\":\"white\",\"minorgridcolor\":\"white\",\"startlinecolor\":\"rgb(36,36,36)\"},\"baxis\":{\"endlinecolor\":\"rgb(36,36,36)\",\"gridcolor\":\"white\",\"linecolor\":\"white\",\"minorgridcolor\":\"white\",\"startlinecolor\":\"rgb(36,36,36)\"},\"type\":\"carpet\"}],\"choropleth\":[{\"colorbar\":{\"outlinewidth\":1,\"tickcolor\":\"rgb(36,36,36)\",\"ticks\":\"outside\"},\"type\":\"choropleth\"}],\"contourcarpet\":[{\"colorbar\":{\"outlinewidth\":1,\"tickcolor\":\"rgb(36,36,36)\",\"ticks\":\"outside\"},\"type\":\"contourcarpet\"}],\"contour\":[{\"colorbar\":{\"outlinewidth\":1,\"tickcolor\":\"rgb(36,36,36)\",\"ticks\":\"outside\"},\"colorscale\":[[0.0,\"#440154\"],[0.1111111111111111,\"#482878\"],[0.2222222222222222,\"#3e4989\"],[0.3333333333333333,\"#31688e\"],[0.4444444444444444,\"#26828e\"],[0.5555555555555556,\"#1f9e89\"],[0.6666666666666666,\"#35b779\"],[0.7777777777777778,\"#6ece58\"],[0.8888888888888888,\"#b5de2b\"],[1.0,\"#fde725\"]],\"type\":\"contour\"}],\"heatmapgl\":[{\"colorbar\":{\"outlinewidth\":1,\"tickcolor\":\"rgb(36,36,36)\",\"ticks\":\"outside\"},\"colorscale\":[[0.0,\"#440154\"],[0.1111111111111111,\"#482878\"],[0.2222222222222222,\"#3e4989\"],[0.3333333333333333,\"#31688e\"],[0.4444444444444444,\"#26828e\"],[0.5555555555555556,\"#1f9e89\"],[0.6666666666666666,\"#35b779\"],[0.7777777777777778,\"#6ece58\"],[0.8888888888888888,\"#b5de2b\"],[1.0,\"#fde725\"]],\"type\":\"heatmapgl\"}],\"heatmap\":[{\"colorbar\":{\"outlinewidth\":1,\"tickcolor\":\"rgb(36,36,36)\",\"ticks\":\"outside\"},\"colorscale\":[[0.0,\"#440154\"],[0.1111111111111111,\"#482878\"],[0.2222222222222222,\"#3e4989\"],[0.3333333333333333,\"#31688e\"],[0.4444444444444444,\"#26828e\"],[0.5555555555555556,\"#1f9e89\"],[0.6666666666666666,\"#35b779\"],[0.7777777777777778,\"#6ece58\"],[0.8888888888888888,\"#b5de2b\"],[1.0,\"#fde725\"]],\"type\":\"heatmap\"}],\"histogram2dcontour\":[{\"colorbar\":{\"outlinewidth\":1,\"tickcolor\":\"rgb(36,36,36)\",\"ticks\":\"outside\"},\"colorscale\":[[0.0,\"#440154\"],[0.1111111111111111,\"#482878\"],[0.2222222222222222,\"#3e4989\"],[0.3333333333333333,\"#31688e\"],[0.4444444444444444,\"#26828e\"],[0.5555555555555556,\"#1f9e89\"],[0.6666666666666666,\"#35b779\"],[0.7777777777777778,\"#6ece58\"],[0.8888888888888888,\"#b5de2b\"],[1.0,\"#fde725\"]],\"type\":\"histogram2dcontour\"}],\"histogram2d\":[{\"colorbar\":{\"outlinewidth\":1,\"tickcolor\":\"rgb(36,36,36)\",\"ticks\":\"outside\"},\"colorscale\":[[0.0,\"#440154\"],[0.1111111111111111,\"#482878\"],[0.2222222222222222,\"#3e4989\"],[0.3333333333333333,\"#31688e\"],[0.4444444444444444,\"#26828e\"],[0.5555555555555556,\"#1f9e89\"],[0.6666666666666666,\"#35b779\"],[0.7777777777777778,\"#6ece58\"],[0.8888888888888888,\"#b5de2b\"],[1.0,\"#fde725\"]],\"type\":\"histogram2d\"}],\"histogram\":[{\"marker\":{\"line\":{\"color\":\"white\",\"width\":0.6}},\"type\":\"histogram\"}],\"mesh3d\":[{\"colorbar\":{\"outlinewidth\":1,\"tickcolor\":\"rgb(36,36,36)\",\"ticks\":\"outside\"},\"type\":\"mesh3d\"}],\"parcoords\":[{\"line\":{\"colorbar\":{\"outlinewidth\":1,\"tickcolor\":\"rgb(36,36,36)\",\"ticks\":\"outside\"}},\"type\":\"parcoords\"}],\"pie\":[{\"automargin\":true,\"type\":\"pie\"}],\"scatter3d\":[{\"line\":{\"colorbar\":{\"outlinewidth\":1,\"tickcolor\":\"rgb(36,36,36)\",\"ticks\":\"outside\"}},\"marker\":{\"colorbar\":{\"outlinewidth\":1,\"tickcolor\":\"rgb(36,36,36)\",\"ticks\":\"outside\"}},\"type\":\"scatter3d\"}],\"scattercarpet\":[{\"marker\":{\"colorbar\":{\"outlinewidth\":1,\"tickcolor\":\"rgb(36,36,36)\",\"ticks\":\"outside\"}},\"type\":\"scattercarpet\"}],\"scattergeo\":[{\"marker\":{\"colorbar\":{\"outlinewidth\":1,\"tickcolor\":\"rgb(36,36,36)\",\"ticks\":\"outside\"}},\"type\":\"scattergeo\"}],\"scattergl\":[{\"marker\":{\"colorbar\":{\"outlinewidth\":1,\"tickcolor\":\"rgb(36,36,36)\",\"ticks\":\"outside\"}},\"type\":\"scattergl\"}],\"scattermapbox\":[{\"marker\":{\"colorbar\":{\"outlinewidth\":1,\"tickcolor\":\"rgb(36,36,36)\",\"ticks\":\"outside\"}},\"type\":\"scattermapbox\"}],\"scatterpolargl\":[{\"marker\":{\"colorbar\":{\"outlinewidth\":1,\"tickcolor\":\"rgb(36,36,36)\",\"ticks\":\"outside\"}},\"type\":\"scatterpolargl\"}],\"scatterpolar\":[{\"marker\":{\"colorbar\":{\"outlinewidth\":1,\"tickcolor\":\"rgb(36,36,36)\",\"ticks\":\"outside\"}},\"type\":\"scatterpolar\"}],\"scatter\":[{\"fillpattern\":{\"fillmode\":\"overlay\",\"size\":10,\"solidity\":0.2},\"type\":\"scatter\"}],\"scatterternary\":[{\"marker\":{\"colorbar\":{\"outlinewidth\":1,\"tickcolor\":\"rgb(36,36,36)\",\"ticks\":\"outside\"}},\"type\":\"scatterternary\"}],\"surface\":[{\"colorbar\":{\"outlinewidth\":1,\"tickcolor\":\"rgb(36,36,36)\",\"ticks\":\"outside\"},\"colorscale\":[[0.0,\"#440154\"],[0.1111111111111111,\"#482878\"],[0.2222222222222222,\"#3e4989\"],[0.3333333333333333,\"#31688e\"],[0.4444444444444444,\"#26828e\"],[0.5555555555555556,\"#1f9e89\"],[0.6666666666666666,\"#35b779\"],[0.7777777777777778,\"#6ece58\"],[0.8888888888888888,\"#b5de2b\"],[1.0,\"#fde725\"]],\"type\":\"surface\"}],\"table\":[{\"cells\":{\"fill\":{\"color\":\"rgb(237,237,237)\"},\"line\":{\"color\":\"white\"}},\"header\":{\"fill\":{\"color\":\"rgb(217,217,217)\"},\"line\":{\"color\":\"white\"}},\"type\":\"table\"}]},\"layout\":{\"annotationdefaults\":{\"arrowhead\":0,\"arrowwidth\":1},\"autotypenumbers\":\"strict\",\"coloraxis\":{\"colorbar\":{\"outlinewidth\":1,\"tickcolor\":\"rgb(36,36,36)\",\"ticks\":\"outside\"}},\"colorscale\":{\"diverging\":[[0.0,\"rgb(103,0,31)\"],[0.1,\"rgb(178,24,43)\"],[0.2,\"rgb(214,96,77)\"],[0.3,\"rgb(244,165,130)\"],[0.4,\"rgb(253,219,199)\"],[0.5,\"rgb(247,247,247)\"],[0.6,\"rgb(209,229,240)\"],[0.7,\"rgb(146,197,222)\"],[0.8,\"rgb(67,147,195)\"],[0.9,\"rgb(33,102,172)\"],[1.0,\"rgb(5,48,97)\"]],\"sequential\":[[0.0,\"#440154\"],[0.1111111111111111,\"#482878\"],[0.2222222222222222,\"#3e4989\"],[0.3333333333333333,\"#31688e\"],[0.4444444444444444,\"#26828e\"],[0.5555555555555556,\"#1f9e89\"],[0.6666666666666666,\"#35b779\"],[0.7777777777777778,\"#6ece58\"],[0.8888888888888888,\"#b5de2b\"],[1.0,\"#fde725\"]],\"sequentialminus\":[[0.0,\"#440154\"],[0.1111111111111111,\"#482878\"],[0.2222222222222222,\"#3e4989\"],[0.3333333333333333,\"#31688e\"],[0.4444444444444444,\"#26828e\"],[0.5555555555555556,\"#1f9e89\"],[0.6666666666666666,\"#35b779\"],[0.7777777777777778,\"#6ece58\"],[0.8888888888888888,\"#b5de2b\"],[1.0,\"#fde725\"]]},\"colorway\":[\"#1F77B4\",\"#FF7F0E\",\"#2CA02C\",\"#D62728\",\"#9467BD\",\"#8C564B\",\"#E377C2\",\"#7F7F7F\",\"#BCBD22\",\"#17BECF\"],\"font\":{\"color\":\"rgb(36,36,36)\"},\"geo\":{\"bgcolor\":\"white\",\"lakecolor\":\"white\",\"landcolor\":\"white\",\"showlakes\":true,\"showland\":true,\"subunitcolor\":\"white\"},\"hoverlabel\":{\"align\":\"left\"},\"hovermode\":\"closest\",\"mapbox\":{\"style\":\"light\"},\"paper_bgcolor\":\"white\",\"plot_bgcolor\":\"white\",\"polar\":{\"angularaxis\":{\"gridcolor\":\"rgb(232,232,232)\",\"linecolor\":\"rgb(36,36,36)\",\"showgrid\":false,\"showline\":true,\"ticks\":\"outside\"},\"bgcolor\":\"white\",\"radialaxis\":{\"gridcolor\":\"rgb(232,232,232)\",\"linecolor\":\"rgb(36,36,36)\",\"showgrid\":false,\"showline\":true,\"ticks\":\"outside\"}},\"scene\":{\"xaxis\":{\"backgroundcolor\":\"white\",\"gridcolor\":\"rgb(232,232,232)\",\"gridwidth\":2,\"linecolor\":\"rgb(36,36,36)\",\"showbackground\":true,\"showgrid\":false,\"showline\":true,\"ticks\":\"outside\",\"zeroline\":false,\"zerolinecolor\":\"rgb(36,36,36)\"},\"yaxis\":{\"backgroundcolor\":\"white\",\"gridcolor\":\"rgb(232,232,232)\",\"gridwidth\":2,\"linecolor\":\"rgb(36,36,36)\",\"showbackground\":true,\"showgrid\":false,\"showline\":true,\"ticks\":\"outside\",\"zeroline\":false,\"zerolinecolor\":\"rgb(36,36,36)\"},\"zaxis\":{\"backgroundcolor\":\"white\",\"gridcolor\":\"rgb(232,232,232)\",\"gridwidth\":2,\"linecolor\":\"rgb(36,36,36)\",\"showbackground\":true,\"showgrid\":false,\"showline\":true,\"ticks\":\"outside\",\"zeroline\":false,\"zerolinecolor\":\"rgb(36,36,36)\"}},\"shapedefaults\":{\"fillcolor\":\"black\",\"line\":{\"width\":0},\"opacity\":0.3},\"ternary\":{\"aaxis\":{\"gridcolor\":\"rgb(232,232,232)\",\"linecolor\":\"rgb(36,36,36)\",\"showgrid\":false,\"showline\":true,\"ticks\":\"outside\"},\"baxis\":{\"gridcolor\":\"rgb(232,232,232)\",\"linecolor\":\"rgb(36,36,36)\",\"showgrid\":false,\"showline\":true,\"ticks\":\"outside\"},\"bgcolor\":\"white\",\"caxis\":{\"gridcolor\":\"rgb(232,232,232)\",\"linecolor\":\"rgb(36,36,36)\",\"showgrid\":false,\"showline\":true,\"ticks\":\"outside\"}},\"title\":{\"x\":0.05},\"xaxis\":{\"automargin\":true,\"gridcolor\":\"rgb(232,232,232)\",\"linecolor\":\"rgb(36,36,36)\",\"showgrid\":false,\"showline\":true,\"ticks\":\"outside\",\"title\":{\"standoff\":15},\"zeroline\":false,\"zerolinecolor\":\"rgb(36,36,36)\"},\"yaxis\":{\"automargin\":true,\"gridcolor\":\"rgb(232,232,232)\",\"linecolor\":\"rgb(36,36,36)\",\"showgrid\":false,\"showline\":true,\"ticks\":\"outside\",\"title\":{\"standoff\":15},\"zeroline\":false,\"zerolinecolor\":\"rgb(36,36,36)\"}}},\"shapes\":[{\"line\":{\"color\":\"blue\",\"dash\":\"dot\",\"width\":2},\"name\":\"grid\",\"type\":\"line\",\"x0\":0,\"x1\":5,\"y0\":0.9671185467079053,\"y1\":0.9671185467079053},{\"line\":{\"color\":\"red\",\"dash\":\"solid\",\"width\":2},\"name\":\"without bouns\",\"type\":\"line\",\"x0\":0,\"x1\":5,\"y0\":0.5212576569506349,\"y1\":0.5212576569506349}],\"title\":{\"text\":\"Evolution of the durations of the iterativ fit over the repetitions\"},\"xaxis\":{\"title\":{\"text\":\"Number of repetition\"}},\"yaxis\":{\"title\":{\"text\":\"Duration (s)\"}}},                        {\"responsive\": true}                    ).then(function(){\n",
       "                            \n",
       "var gd = document.getElementById('afa334d2-b84b-4db7-98bc-cf1c903bf0cf');\n",
       "var x = new MutationObserver(function (mutations, observer) {{\n",
       "        var display = window.getComputedStyle(gd).display;\n",
       "        if (!display || display === 'none') {{\n",
       "            console.log([gd, 'removed!']);\n",
       "            Plotly.purge(gd);\n",
       "            observer.disconnect();\n",
       "        }}\n",
       "}});\n",
       "\n",
       "// Listen for the removal of the full notebook cells\n",
       "var notebookContainer = gd.closest('#notebook-container');\n",
       "if (notebookContainer) {{\n",
       "    x.observe(notebookContainer, {childList: true});\n",
       "}}\n",
       "\n",
       "// Listen for the clearing of the current output cell\n",
       "var outputEl = gd.closest('.output');\n",
       "if (outputEl) {{\n",
       "    x.observe(outputEl, {childList: true});\n",
       "}}\n",
       "\n",
       "                        })                };                });            </script>        </div>"
      ]
     },
     "metadata": {},
     "output_type": "display_data"
    }
   ],
   "source": [
    "fig2 = go.Figure()\n",
    "\n",
    "# plot duration iterativ repeat\n",
    "fig2.add_trace(go.Scatter(\n",
    "    y=duration_repeat[2:],\n",
    "    mode='markers',\n",
    "    name='r2 {}'.format(roi),\n",
    "    line_color=colors[i],\n",
    "    showlegend=True))\n",
    "\n",
    "# plot duration grid \n",
    "fig2.add_shape(\n",
    "    type='line',\n",
    "    x0=0, y0=duration_repeat[0], x1=n_repeat, y1=duration_repeat[grid_place],\n",
    "    line=dict(color='blue', width=2, dash='dot'), \n",
    "    name='grid')\n",
    "\n",
    "# plot duration iterativ without bouns\n",
    "fig2.add_shape(\n",
    "    type='line',\n",
    "    x0=0, y0=duration_repeat[1], x1=n_repeat, y1=duration_repeat[no_bd],\n",
    "    line=dict(color='red', width=2, dash='solid'), \n",
    "    name='without bouns')\n",
    "\n",
    "# for the legend\n",
    "fig2.add_trace(go.Scatter(x=[None],\n",
    "                          y=[None],\n",
    "                          mode='lines',\n",
    "                          line=dict(color='blue', width=2, dash='dot'),\n",
    "                          name='Grid result'))\n",
    "\n",
    "fig2.add_trace(go.Scatter(x=[None],\n",
    "                          y=[None],\n",
    "                          mode='lines',\n",
    "                          line=dict(color='red', width=2, dash='solid'),\n",
    "                          name='Iterativ without bounds'))\n",
    "\n",
    "\n",
    "fig2.update_layout(template='simple_white',\n",
    "                  title = 'Evolution of the durations of the iterativ fit over the repetitions',\n",
    "                  xaxis_title = 'Number of repetition',\n",
    "                  yaxis_title = 'Duration (s)')\n",
    "\n",
    "\n",
    "\n",
    "\n",
    "fig2.show()"
   ]
  },
  {
   "cell_type": "markdown",
   "id": "8f9fd4d4-6ad8-4833-ae62-d0678294d339",
   "metadata": {},
   "source": [
    "# Figure 3"
   ]
  },
  {
   "cell_type": "code",
   "execution_count": 63,
   "id": "4f4f039c-512c-4453-a5b8-596e8ef8341f",
   "metadata": {},
   "outputs": [],
   "source": [
    "cumulative_durations = np.cumsum(duration_repeat[2:])"
   ]
  },
  {
   "cell_type": "code",
   "execution_count": 112,
   "id": "4102360d-a82c-492d-a1ef-731565505edc",
   "metadata": {},
   "outputs": [
    {
     "data": {
      "application/vnd.plotly.v1+json": {
       "config": {
        "plotlyServerURL": "https://plot.ly"
       },
       "data": [
        {
         "marker": {
          "color": "purple"
         },
         "name": "Cumulative Values",
         "type": "bar",
         "y": [
          0.3530867539957413,
          1.0218173598455391,
          1.3701478102839704,
          1.926203227560861,
          2.6573501260365107
         ]
        },
        {
         "line": {
          "color": "blue",
          "dash": "dot",
          "width": 2
         },
         "mode": "lines",
         "name": "Grid result",
         "type": "scatter",
         "x": [
          null
         ],
         "y": [
          null
         ]
        },
        {
         "line": {
          "color": "red",
          "dash": "solid",
          "width": 2
         },
         "mode": "lines",
         "name": "Iterativ without bounds",
         "type": "scatter",
         "x": [
          null
         ],
         "y": [
          null
         ]
        }
       ],
       "layout": {
        "autosize": true,
        "shapes": [
         {
          "line": {
           "color": "blue",
           "dash": "dot",
           "width": 2
          },
          "name": "Grid result",
          "type": "line",
          "x0": 0,
          "x1": 5,
          "y0": 0.9671185467079053,
          "y1": 0.9671185467079053
         },
         {
          "line": {
           "color": "red",
           "dash": "solid",
           "width": 2
          },
          "name": "Iterativ without bounds",
          "type": "line",
          "x0": 0,
          "x1": 5,
          "y0": 0.5212576569506349,
          "y1": 0.5212576569506349
         }
        ],
        "template": {
         "data": {
          "bar": [
           {
            "error_x": {
             "color": "rgb(36,36,36)"
            },
            "error_y": {
             "color": "rgb(36,36,36)"
            },
            "marker": {
             "line": {
              "color": "white",
              "width": 0.5
             },
             "pattern": {
              "fillmode": "overlay",
              "size": 10,
              "solidity": 0.2
             }
            },
            "type": "bar"
           }
          ],
          "barpolar": [
           {
            "marker": {
             "line": {
              "color": "white",
              "width": 0.5
             },
             "pattern": {
              "fillmode": "overlay",
              "size": 10,
              "solidity": 0.2
             }
            },
            "type": "barpolar"
           }
          ],
          "carpet": [
           {
            "aaxis": {
             "endlinecolor": "rgb(36,36,36)",
             "gridcolor": "white",
             "linecolor": "white",
             "minorgridcolor": "white",
             "startlinecolor": "rgb(36,36,36)"
            },
            "baxis": {
             "endlinecolor": "rgb(36,36,36)",
             "gridcolor": "white",
             "linecolor": "white",
             "minorgridcolor": "white",
             "startlinecolor": "rgb(36,36,36)"
            },
            "type": "carpet"
           }
          ],
          "choropleth": [
           {
            "colorbar": {
             "outlinewidth": 1,
             "tickcolor": "rgb(36,36,36)",
             "ticks": "outside"
            },
            "type": "choropleth"
           }
          ],
          "contour": [
           {
            "colorbar": {
             "outlinewidth": 1,
             "tickcolor": "rgb(36,36,36)",
             "ticks": "outside"
            },
            "colorscale": [
             [
              0,
              "#440154"
             ],
             [
              0.1111111111111111,
              "#482878"
             ],
             [
              0.2222222222222222,
              "#3e4989"
             ],
             [
              0.3333333333333333,
              "#31688e"
             ],
             [
              0.4444444444444444,
              "#26828e"
             ],
             [
              0.5555555555555556,
              "#1f9e89"
             ],
             [
              0.6666666666666666,
              "#35b779"
             ],
             [
              0.7777777777777778,
              "#6ece58"
             ],
             [
              0.8888888888888888,
              "#b5de2b"
             ],
             [
              1,
              "#fde725"
             ]
            ],
            "type": "contour"
           }
          ],
          "contourcarpet": [
           {
            "colorbar": {
             "outlinewidth": 1,
             "tickcolor": "rgb(36,36,36)",
             "ticks": "outside"
            },
            "type": "contourcarpet"
           }
          ],
          "heatmap": [
           {
            "colorbar": {
             "outlinewidth": 1,
             "tickcolor": "rgb(36,36,36)",
             "ticks": "outside"
            },
            "colorscale": [
             [
              0,
              "#440154"
             ],
             [
              0.1111111111111111,
              "#482878"
             ],
             [
              0.2222222222222222,
              "#3e4989"
             ],
             [
              0.3333333333333333,
              "#31688e"
             ],
             [
              0.4444444444444444,
              "#26828e"
             ],
             [
              0.5555555555555556,
              "#1f9e89"
             ],
             [
              0.6666666666666666,
              "#35b779"
             ],
             [
              0.7777777777777778,
              "#6ece58"
             ],
             [
              0.8888888888888888,
              "#b5de2b"
             ],
             [
              1,
              "#fde725"
             ]
            ],
            "type": "heatmap"
           }
          ],
          "heatmapgl": [
           {
            "colorbar": {
             "outlinewidth": 1,
             "tickcolor": "rgb(36,36,36)",
             "ticks": "outside"
            },
            "colorscale": [
             [
              0,
              "#440154"
             ],
             [
              0.1111111111111111,
              "#482878"
             ],
             [
              0.2222222222222222,
              "#3e4989"
             ],
             [
              0.3333333333333333,
              "#31688e"
             ],
             [
              0.4444444444444444,
              "#26828e"
             ],
             [
              0.5555555555555556,
              "#1f9e89"
             ],
             [
              0.6666666666666666,
              "#35b779"
             ],
             [
              0.7777777777777778,
              "#6ece58"
             ],
             [
              0.8888888888888888,
              "#b5de2b"
             ],
             [
              1,
              "#fde725"
             ]
            ],
            "type": "heatmapgl"
           }
          ],
          "histogram": [
           {
            "marker": {
             "line": {
              "color": "white",
              "width": 0.6
             }
            },
            "type": "histogram"
           }
          ],
          "histogram2d": [
           {
            "colorbar": {
             "outlinewidth": 1,
             "tickcolor": "rgb(36,36,36)",
             "ticks": "outside"
            },
            "colorscale": [
             [
              0,
              "#440154"
             ],
             [
              0.1111111111111111,
              "#482878"
             ],
             [
              0.2222222222222222,
              "#3e4989"
             ],
             [
              0.3333333333333333,
              "#31688e"
             ],
             [
              0.4444444444444444,
              "#26828e"
             ],
             [
              0.5555555555555556,
              "#1f9e89"
             ],
             [
              0.6666666666666666,
              "#35b779"
             ],
             [
              0.7777777777777778,
              "#6ece58"
             ],
             [
              0.8888888888888888,
              "#b5de2b"
             ],
             [
              1,
              "#fde725"
             ]
            ],
            "type": "histogram2d"
           }
          ],
          "histogram2dcontour": [
           {
            "colorbar": {
             "outlinewidth": 1,
             "tickcolor": "rgb(36,36,36)",
             "ticks": "outside"
            },
            "colorscale": [
             [
              0,
              "#440154"
             ],
             [
              0.1111111111111111,
              "#482878"
             ],
             [
              0.2222222222222222,
              "#3e4989"
             ],
             [
              0.3333333333333333,
              "#31688e"
             ],
             [
              0.4444444444444444,
              "#26828e"
             ],
             [
              0.5555555555555556,
              "#1f9e89"
             ],
             [
              0.6666666666666666,
              "#35b779"
             ],
             [
              0.7777777777777778,
              "#6ece58"
             ],
             [
              0.8888888888888888,
              "#b5de2b"
             ],
             [
              1,
              "#fde725"
             ]
            ],
            "type": "histogram2dcontour"
           }
          ],
          "mesh3d": [
           {
            "colorbar": {
             "outlinewidth": 1,
             "tickcolor": "rgb(36,36,36)",
             "ticks": "outside"
            },
            "type": "mesh3d"
           }
          ],
          "parcoords": [
           {
            "line": {
             "colorbar": {
              "outlinewidth": 1,
              "tickcolor": "rgb(36,36,36)",
              "ticks": "outside"
             }
            },
            "type": "parcoords"
           }
          ],
          "pie": [
           {
            "automargin": true,
            "type": "pie"
           }
          ],
          "scatter": [
           {
            "fillpattern": {
             "fillmode": "overlay",
             "size": 10,
             "solidity": 0.2
            },
            "type": "scatter"
           }
          ],
          "scatter3d": [
           {
            "line": {
             "colorbar": {
              "outlinewidth": 1,
              "tickcolor": "rgb(36,36,36)",
              "ticks": "outside"
             }
            },
            "marker": {
             "colorbar": {
              "outlinewidth": 1,
              "tickcolor": "rgb(36,36,36)",
              "ticks": "outside"
             }
            },
            "type": "scatter3d"
           }
          ],
          "scattercarpet": [
           {
            "marker": {
             "colorbar": {
              "outlinewidth": 1,
              "tickcolor": "rgb(36,36,36)",
              "ticks": "outside"
             }
            },
            "type": "scattercarpet"
           }
          ],
          "scattergeo": [
           {
            "marker": {
             "colorbar": {
              "outlinewidth": 1,
              "tickcolor": "rgb(36,36,36)",
              "ticks": "outside"
             }
            },
            "type": "scattergeo"
           }
          ],
          "scattergl": [
           {
            "marker": {
             "colorbar": {
              "outlinewidth": 1,
              "tickcolor": "rgb(36,36,36)",
              "ticks": "outside"
             }
            },
            "type": "scattergl"
           }
          ],
          "scattermapbox": [
           {
            "marker": {
             "colorbar": {
              "outlinewidth": 1,
              "tickcolor": "rgb(36,36,36)",
              "ticks": "outside"
             }
            },
            "type": "scattermapbox"
           }
          ],
          "scatterpolar": [
           {
            "marker": {
             "colorbar": {
              "outlinewidth": 1,
              "tickcolor": "rgb(36,36,36)",
              "ticks": "outside"
             }
            },
            "type": "scatterpolar"
           }
          ],
          "scatterpolargl": [
           {
            "marker": {
             "colorbar": {
              "outlinewidth": 1,
              "tickcolor": "rgb(36,36,36)",
              "ticks": "outside"
             }
            },
            "type": "scatterpolargl"
           }
          ],
          "scatterternary": [
           {
            "marker": {
             "colorbar": {
              "outlinewidth": 1,
              "tickcolor": "rgb(36,36,36)",
              "ticks": "outside"
             }
            },
            "type": "scatterternary"
           }
          ],
          "surface": [
           {
            "colorbar": {
             "outlinewidth": 1,
             "tickcolor": "rgb(36,36,36)",
             "ticks": "outside"
            },
            "colorscale": [
             [
              0,
              "#440154"
             ],
             [
              0.1111111111111111,
              "#482878"
             ],
             [
              0.2222222222222222,
              "#3e4989"
             ],
             [
              0.3333333333333333,
              "#31688e"
             ],
             [
              0.4444444444444444,
              "#26828e"
             ],
             [
              0.5555555555555556,
              "#1f9e89"
             ],
             [
              0.6666666666666666,
              "#35b779"
             ],
             [
              0.7777777777777778,
              "#6ece58"
             ],
             [
              0.8888888888888888,
              "#b5de2b"
             ],
             [
              1,
              "#fde725"
             ]
            ],
            "type": "surface"
           }
          ],
          "table": [
           {
            "cells": {
             "fill": {
              "color": "rgb(237,237,237)"
             },
             "line": {
              "color": "white"
             }
            },
            "header": {
             "fill": {
              "color": "rgb(217,217,217)"
             },
             "line": {
              "color": "white"
             }
            },
            "type": "table"
           }
          ]
         },
         "layout": {
          "annotationdefaults": {
           "arrowhead": 0,
           "arrowwidth": 1
          },
          "autotypenumbers": "strict",
          "coloraxis": {
           "colorbar": {
            "outlinewidth": 1,
            "tickcolor": "rgb(36,36,36)",
            "ticks": "outside"
           }
          },
          "colorscale": {
           "diverging": [
            [
             0,
             "rgb(103,0,31)"
            ],
            [
             0.1,
             "rgb(178,24,43)"
            ],
            [
             0.2,
             "rgb(214,96,77)"
            ],
            [
             0.3,
             "rgb(244,165,130)"
            ],
            [
             0.4,
             "rgb(253,219,199)"
            ],
            [
             0.5,
             "rgb(247,247,247)"
            ],
            [
             0.6,
             "rgb(209,229,240)"
            ],
            [
             0.7,
             "rgb(146,197,222)"
            ],
            [
             0.8,
             "rgb(67,147,195)"
            ],
            [
             0.9,
             "rgb(33,102,172)"
            ],
            [
             1,
             "rgb(5,48,97)"
            ]
           ],
           "sequential": [
            [
             0,
             "#440154"
            ],
            [
             0.1111111111111111,
             "#482878"
            ],
            [
             0.2222222222222222,
             "#3e4989"
            ],
            [
             0.3333333333333333,
             "#31688e"
            ],
            [
             0.4444444444444444,
             "#26828e"
            ],
            [
             0.5555555555555556,
             "#1f9e89"
            ],
            [
             0.6666666666666666,
             "#35b779"
            ],
            [
             0.7777777777777778,
             "#6ece58"
            ],
            [
             0.8888888888888888,
             "#b5de2b"
            ],
            [
             1,
             "#fde725"
            ]
           ],
           "sequentialminus": [
            [
             0,
             "#440154"
            ],
            [
             0.1111111111111111,
             "#482878"
            ],
            [
             0.2222222222222222,
             "#3e4989"
            ],
            [
             0.3333333333333333,
             "#31688e"
            ],
            [
             0.4444444444444444,
             "#26828e"
            ],
            [
             0.5555555555555556,
             "#1f9e89"
            ],
            [
             0.6666666666666666,
             "#35b779"
            ],
            [
             0.7777777777777778,
             "#6ece58"
            ],
            [
             0.8888888888888888,
             "#b5de2b"
            ],
            [
             1,
             "#fde725"
            ]
           ]
          },
          "colorway": [
           "#1F77B4",
           "#FF7F0E",
           "#2CA02C",
           "#D62728",
           "#9467BD",
           "#8C564B",
           "#E377C2",
           "#7F7F7F",
           "#BCBD22",
           "#17BECF"
          ],
          "font": {
           "color": "rgb(36,36,36)"
          },
          "geo": {
           "bgcolor": "white",
           "lakecolor": "white",
           "landcolor": "white",
           "showlakes": true,
           "showland": true,
           "subunitcolor": "white"
          },
          "hoverlabel": {
           "align": "left"
          },
          "hovermode": "closest",
          "mapbox": {
           "style": "light"
          },
          "paper_bgcolor": "white",
          "plot_bgcolor": "white",
          "polar": {
           "angularaxis": {
            "gridcolor": "rgb(232,232,232)",
            "linecolor": "rgb(36,36,36)",
            "showgrid": false,
            "showline": true,
            "ticks": "outside"
           },
           "bgcolor": "white",
           "radialaxis": {
            "gridcolor": "rgb(232,232,232)",
            "linecolor": "rgb(36,36,36)",
            "showgrid": false,
            "showline": true,
            "ticks": "outside"
           }
          },
          "scene": {
           "xaxis": {
            "backgroundcolor": "white",
            "gridcolor": "rgb(232,232,232)",
            "gridwidth": 2,
            "linecolor": "rgb(36,36,36)",
            "showbackground": true,
            "showgrid": false,
            "showline": true,
            "ticks": "outside",
            "zeroline": false,
            "zerolinecolor": "rgb(36,36,36)"
           },
           "yaxis": {
            "backgroundcolor": "white",
            "gridcolor": "rgb(232,232,232)",
            "gridwidth": 2,
            "linecolor": "rgb(36,36,36)",
            "showbackground": true,
            "showgrid": false,
            "showline": true,
            "ticks": "outside",
            "zeroline": false,
            "zerolinecolor": "rgb(36,36,36)"
           },
           "zaxis": {
            "backgroundcolor": "white",
            "gridcolor": "rgb(232,232,232)",
            "gridwidth": 2,
            "linecolor": "rgb(36,36,36)",
            "showbackground": true,
            "showgrid": false,
            "showline": true,
            "ticks": "outside",
            "zeroline": false,
            "zerolinecolor": "rgb(36,36,36)"
           }
          },
          "shapedefaults": {
           "fillcolor": "black",
           "line": {
            "width": 0
           },
           "opacity": 0.3
          },
          "ternary": {
           "aaxis": {
            "gridcolor": "rgb(232,232,232)",
            "linecolor": "rgb(36,36,36)",
            "showgrid": false,
            "showline": true,
            "ticks": "outside"
           },
           "baxis": {
            "gridcolor": "rgb(232,232,232)",
            "linecolor": "rgb(36,36,36)",
            "showgrid": false,
            "showline": true,
            "ticks": "outside"
           },
           "bgcolor": "white",
           "caxis": {
            "gridcolor": "rgb(232,232,232)",
            "linecolor": "rgb(36,36,36)",
            "showgrid": false,
            "showline": true,
            "ticks": "outside"
           }
          },
          "title": {
           "x": 0.05
          },
          "xaxis": {
           "automargin": true,
           "gridcolor": "rgb(232,232,232)",
           "linecolor": "rgb(36,36,36)",
           "showgrid": false,
           "showline": true,
           "ticks": "outside",
           "title": {
            "standoff": 15
           },
           "zeroline": false,
           "zerolinecolor": "rgb(36,36,36)"
          },
          "yaxis": {
           "automargin": true,
           "gridcolor": "rgb(232,232,232)",
           "linecolor": "rgb(36,36,36)",
           "showgrid": false,
           "showline": true,
           "ticks": "outside",
           "title": {
            "standoff": 15
           },
           "zeroline": false,
           "zerolinecolor": "rgb(36,36,36)"
          }
         }
        },
        "title": {
         "text": "Evolution of the durations of the iterativ fit over the repetitions"
        },
        "xaxis": {
         "autorange": true,
         "range": [
          -0.5,
          5.0116525423728815
         ],
         "title": {
          "text": "Number of repetition"
         }
        },
        "yaxis": {
         "autorange": true,
         "range": [
          0,
          2.797210658985801
         ],
         "title": {
          "text": "Duration (s)"
         },
         "type": "linear"
        }
       }
      },
      "image/png": "[encoded data removed]",
      "text/html": [
       "<div>                            <div id=\"1b6e8905-7063-4878-805e-bad57310126e\" class=\"plotly-graph-div\" style=\"height:525px; width:100%;\"></div>            <script type=\"text/javascript\">                require([\"plotly\"], function(Plotly) {                    window.PLOTLYENV=window.PLOTLYENV || {};                                    if (document.getElementById(\"1b6e8905-7063-4878-805e-bad57310126e\")) {                    Plotly.newPlot(                        \"1b6e8905-7063-4878-805e-bad57310126e\",                        [{\"marker\":{\"color\":\"purple\"},\"name\":\"Cumulative Values\",\"y\":[0.3530867539957413,1.0218173598455391,1.3701478102839704,1.926203227560861,2.6573501260365107],\"type\":\"bar\"},{\"line\":{\"color\":\"blue\",\"dash\":\"dot\",\"width\":2},\"mode\":\"lines\",\"name\":\"Grid result\",\"x\":[null],\"y\":[null],\"type\":\"scatter\"},{\"line\":{\"color\":\"red\",\"dash\":\"solid\",\"width\":2},\"mode\":\"lines\",\"name\":\"Iterativ without bounds\",\"x\":[null],\"y\":[null],\"type\":\"scatter\"}],                        {\"template\":{\"data\":{\"barpolar\":[{\"marker\":{\"line\":{\"color\":\"white\",\"width\":0.5},\"pattern\":{\"fillmode\":\"overlay\",\"size\":10,\"solidity\":0.2}},\"type\":\"barpolar\"}],\"bar\":[{\"error_x\":{\"color\":\"rgb(36,36,36)\"},\"error_y\":{\"color\":\"rgb(36,36,36)\"},\"marker\":{\"line\":{\"color\":\"white\",\"width\":0.5},\"pattern\":{\"fillmode\":\"overlay\",\"size\":10,\"solidity\":0.2}},\"type\":\"bar\"}],\"carpet\":[{\"aaxis\":{\"endlinecolor\":\"rgb(36,36,36)\",\"gridcolor\":\"white\",\"linecolor\":\"white\",\"minorgridcolor\":\"white\",\"startlinecolor\":\"rgb(36,36,36)\"},\"baxis\":{\"endlinecolor\":\"rgb(36,36,36)\",\"gridcolor\":\"white\",\"linecolor\":\"white\",\"minorgridcolor\":\"white\",\"startlinecolor\":\"rgb(36,36,36)\"},\"type\":\"carpet\"}],\"choropleth\":[{\"colorbar\":{\"outlinewidth\":1,\"tickcolor\":\"rgb(36,36,36)\",\"ticks\":\"outside\"},\"type\":\"choropleth\"}],\"contourcarpet\":[{\"colorbar\":{\"outlinewidth\":1,\"tickcolor\":\"rgb(36,36,36)\",\"ticks\":\"outside\"},\"type\":\"contourcarpet\"}],\"contour\":[{\"colorbar\":{\"outlinewidth\":1,\"tickcolor\":\"rgb(36,36,36)\",\"ticks\":\"outside\"},\"colorscale\":[[0.0,\"#440154\"],[0.1111111111111111,\"#482878\"],[0.2222222222222222,\"#3e4989\"],[0.3333333333333333,\"#31688e\"],[0.4444444444444444,\"#26828e\"],[0.5555555555555556,\"#1f9e89\"],[0.6666666666666666,\"#35b779\"],[0.7777777777777778,\"#6ece58\"],[0.8888888888888888,\"#b5de2b\"],[1.0,\"#fde725\"]],\"type\":\"contour\"}],\"heatmapgl\":[{\"colorbar\":{\"outlinewidth\":1,\"tickcolor\":\"rgb(36,36,36)\",\"ticks\":\"outside\"},\"colorscale\":[[0.0,\"#440154\"],[0.1111111111111111,\"#482878\"],[0.2222222222222222,\"#3e4989\"],[0.3333333333333333,\"#31688e\"],[0.4444444444444444,\"#26828e\"],[0.5555555555555556,\"#1f9e89\"],[0.6666666666666666,\"#35b779\"],[0.7777777777777778,\"#6ece58\"],[0.8888888888888888,\"#b5de2b\"],[1.0,\"#fde725\"]],\"type\":\"heatmapgl\"}],\"heatmap\":[{\"colorbar\":{\"outlinewidth\":1,\"tickcolor\":\"rgb(36,36,36)\",\"ticks\":\"outside\"},\"colorscale\":[[0.0,\"#440154\"],[0.1111111111111111,\"#482878\"],[0.2222222222222222,\"#3e4989\"],[0.3333333333333333,\"#31688e\"],[0.4444444444444444,\"#26828e\"],[0.5555555555555556,\"#1f9e89\"],[0.6666666666666666,\"#35b779\"],[0.7777777777777778,\"#6ece58\"],[0.8888888888888888,\"#b5de2b\"],[1.0,\"#fde725\"]],\"type\":\"heatmap\"}],\"histogram2dcontour\":[{\"colorbar\":{\"outlinewidth\":1,\"tickcolor\":\"rgb(36,36,36)\",\"ticks\":\"outside\"},\"colorscale\":[[0.0,\"#440154\"],[0.1111111111111111,\"#482878\"],[0.2222222222222222,\"#3e4989\"],[0.3333333333333333,\"#31688e\"],[0.4444444444444444,\"#26828e\"],[0.5555555555555556,\"#1f9e89\"],[0.6666666666666666,\"#35b779\"],[0.7777777777777778,\"#6ece58\"],[0.8888888888888888,\"#b5de2b\"],[1.0,\"#fde725\"]],\"type\":\"histogram2dcontour\"}],\"histogram2d\":[{\"colorbar\":{\"outlinewidth\":1,\"tickcolor\":\"rgb(36,36,36)\",\"ticks\":\"outside\"},\"colorscale\":[[0.0,\"#440154\"],[0.1111111111111111,\"#482878\"],[0.2222222222222222,\"#3e4989\"],[0.3333333333333333,\"#31688e\"],[0.4444444444444444,\"#26828e\"],[0.5555555555555556,\"#1f9e89\"],[0.6666666666666666,\"#35b779\"],[0.7777777777777778,\"#6ece58\"],[0.8888888888888888,\"#b5de2b\"],[1.0,\"#fde725\"]],\"type\":\"histogram2d\"}],\"histogram\":[{\"marker\":{\"line\":{\"color\":\"white\",\"width\":0.6}},\"type\":\"histogram\"}],\"mesh3d\":[{\"colorbar\":{\"outlinewidth\":1,\"tickcolor\":\"rgb(36,36,36)\",\"ticks\":\"outside\"},\"type\":\"mesh3d\"}],\"parcoords\":[{\"line\":{\"colorbar\":{\"outlinewidth\":1,\"tickcolor\":\"rgb(36,36,36)\",\"ticks\":\"outside\"}},\"type\":\"parcoords\"}],\"pie\":[{\"automargin\":true,\"type\":\"pie\"}],\"scatter3d\":[{\"line\":{\"colorbar\":{\"outlinewidth\":1,\"tickcolor\":\"rgb(36,36,36)\",\"ticks\":\"outside\"}},\"marker\":{\"colorbar\":{\"outlinewidth\":1,\"tickcolor\":\"rgb(36,36,36)\",\"ticks\":\"outside\"}},\"type\":\"scatter3d\"}],\"scattercarpet\":[{\"marker\":{\"colorbar\":{\"outlinewidth\":1,\"tickcolor\":\"rgb(36,36,36)\",\"ticks\":\"outside\"}},\"type\":\"scattercarpet\"}],\"scattergeo\":[{\"marker\":{\"colorbar\":{\"outlinewidth\":1,\"tickcolor\":\"rgb(36,36,36)\",\"ticks\":\"outside\"}},\"type\":\"scattergeo\"}],\"scattergl\":[{\"marker\":{\"colorbar\":{\"outlinewidth\":1,\"tickcolor\":\"rgb(36,36,36)\",\"ticks\":\"outside\"}},\"type\":\"scattergl\"}],\"scattermapbox\":[{\"marker\":{\"colorbar\":{\"outlinewidth\":1,\"tickcolor\":\"rgb(36,36,36)\",\"ticks\":\"outside\"}},\"type\":\"scattermapbox\"}],\"scatterpolargl\":[{\"marker\":{\"colorbar\":{\"outlinewidth\":1,\"tickcolor\":\"rgb(36,36,36)\",\"ticks\":\"outside\"}},\"type\":\"scatterpolargl\"}],\"scatterpolar\":[{\"marker\":{\"colorbar\":{\"outlinewidth\":1,\"tickcolor\":\"rgb(36,36,36)\",\"ticks\":\"outside\"}},\"type\":\"scatterpolar\"}],\"scatter\":[{\"fillpattern\":{\"fillmode\":\"overlay\",\"size\":10,\"solidity\":0.2},\"type\":\"scatter\"}],\"scatterternary\":[{\"marker\":{\"colorbar\":{\"outlinewidth\":1,\"tickcolor\":\"rgb(36,36,36)\",\"ticks\":\"outside\"}},\"type\":\"scatterternary\"}],\"surface\":[{\"colorbar\":{\"outlinewidth\":1,\"tickcolor\":\"rgb(36,36,36)\",\"ticks\":\"outside\"},\"colorscale\":[[0.0,\"#440154\"],[0.1111111111111111,\"#482878\"],[0.2222222222222222,\"#3e4989\"],[0.3333333333333333,\"#31688e\"],[0.4444444444444444,\"#26828e\"],[0.5555555555555556,\"#1f9e89\"],[0.6666666666666666,\"#35b779\"],[0.7777777777777778,\"#6ece58\"],[0.8888888888888888,\"#b5de2b\"],[1.0,\"#fde725\"]],\"type\":\"surface\"}],\"table\":[{\"cells\":{\"fill\":{\"color\":\"rgb(237,237,237)\"},\"line\":{\"color\":\"white\"}},\"header\":{\"fill\":{\"color\":\"rgb(217,217,217)\"},\"line\":{\"color\":\"white\"}},\"type\":\"table\"}]},\"layout\":{\"annotationdefaults\":{\"arrowhead\":0,\"arrowwidth\":1},\"autotypenumbers\":\"strict\",\"coloraxis\":{\"colorbar\":{\"outlinewidth\":1,\"tickcolor\":\"rgb(36,36,36)\",\"ticks\":\"outside\"}},\"colorscale\":{\"diverging\":[[0.0,\"rgb(103,0,31)\"],[0.1,\"rgb(178,24,43)\"],[0.2,\"rgb(214,96,77)\"],[0.3,\"rgb(244,165,130)\"],[0.4,\"rgb(253,219,199)\"],[0.5,\"rgb(247,247,247)\"],[0.6,\"rgb(209,229,240)\"],[0.7,\"rgb(146,197,222)\"],[0.8,\"rgb(67,147,195)\"],[0.9,\"rgb(33,102,172)\"],[1.0,\"rgb(5,48,97)\"]],\"sequential\":[[0.0,\"#440154\"],[0.1111111111111111,\"#482878\"],[0.2222222222222222,\"#3e4989\"],[0.3333333333333333,\"#31688e\"],[0.4444444444444444,\"#26828e\"],[0.5555555555555556,\"#1f9e89\"],[0.6666666666666666,\"#35b779\"],[0.7777777777777778,\"#6ece58\"],[0.8888888888888888,\"#b5de2b\"],[1.0,\"#fde725\"]],\"sequentialminus\":[[0.0,\"#440154\"],[0.1111111111111111,\"#482878\"],[0.2222222222222222,\"#3e4989\"],[0.3333333333333333,\"#31688e\"],[0.4444444444444444,\"#26828e\"],[0.5555555555555556,\"#1f9e89\"],[0.6666666666666666,\"#35b779\"],[0.7777777777777778,\"#6ece58\"],[0.8888888888888888,\"#b5de2b\"],[1.0,\"#fde725\"]]},\"colorway\":[\"#1F77B4\",\"#FF7F0E\",\"#2CA02C\",\"#D62728\",\"#9467BD\",\"#8C564B\",\"#E377C2\",\"#7F7F7F\",\"#BCBD22\",\"#17BECF\"],\"font\":{\"color\":\"rgb(36,36,36)\"},\"geo\":{\"bgcolor\":\"white\",\"lakecolor\":\"white\",\"landcolor\":\"white\",\"showlakes\":true,\"showland\":true,\"subunitcolor\":\"white\"},\"hoverlabel\":{\"align\":\"left\"},\"hovermode\":\"closest\",\"mapbox\":{\"style\":\"light\"},\"paper_bgcolor\":\"white\",\"plot_bgcolor\":\"white\",\"polar\":{\"angularaxis\":{\"gridcolor\":\"rgb(232,232,232)\",\"linecolor\":\"rgb(36,36,36)\",\"showgrid\":false,\"showline\":true,\"ticks\":\"outside\"},\"bgcolor\":\"white\",\"radialaxis\":{\"gridcolor\":\"rgb(232,232,232)\",\"linecolor\":\"rgb(36,36,36)\",\"showgrid\":false,\"showline\":true,\"ticks\":\"outside\"}},\"scene\":{\"xaxis\":{\"backgroundcolor\":\"white\",\"gridcolor\":\"rgb(232,232,232)\",\"gridwidth\":2,\"linecolor\":\"rgb(36,36,36)\",\"showbackground\":true,\"showgrid\":false,\"showline\":true,\"ticks\":\"outside\",\"zeroline\":false,\"zerolinecolor\":\"rgb(36,36,36)\"},\"yaxis\":{\"backgroundcolor\":\"white\",\"gridcolor\":\"rgb(232,232,232)\",\"gridwidth\":2,\"linecolor\":\"rgb(36,36,36)\",\"showbackground\":true,\"showgrid\":false,\"showline\":true,\"ticks\":\"outside\",\"zeroline\":false,\"zerolinecolor\":\"rgb(36,36,36)\"},\"zaxis\":{\"backgroundcolor\":\"white\",\"gridcolor\":\"rgb(232,232,232)\",\"gridwidth\":2,\"linecolor\":\"rgb(36,36,36)\",\"showbackground\":true,\"showgrid\":false,\"showline\":true,\"ticks\":\"outside\",\"zeroline\":false,\"zerolinecolor\":\"rgb(36,36,36)\"}},\"shapedefaults\":{\"fillcolor\":\"black\",\"line\":{\"width\":0},\"opacity\":0.3},\"ternary\":{\"aaxis\":{\"gridcolor\":\"rgb(232,232,232)\",\"linecolor\":\"rgb(36,36,36)\",\"showgrid\":false,\"showline\":true,\"ticks\":\"outside\"},\"baxis\":{\"gridcolor\":\"rgb(232,232,232)\",\"linecolor\":\"rgb(36,36,36)\",\"showgrid\":false,\"showline\":true,\"ticks\":\"outside\"},\"bgcolor\":\"white\",\"caxis\":{\"gridcolor\":\"rgb(232,232,232)\",\"linecolor\":\"rgb(36,36,36)\",\"showgrid\":false,\"showline\":true,\"ticks\":\"outside\"}},\"title\":{\"x\":0.05},\"xaxis\":{\"automargin\":true,\"gridcolor\":\"rgb(232,232,232)\",\"linecolor\":\"rgb(36,36,36)\",\"showgrid\":false,\"showline\":true,\"ticks\":\"outside\",\"title\":{\"standoff\":15},\"zeroline\":false,\"zerolinecolor\":\"rgb(36,36,36)\"},\"yaxis\":{\"automargin\":true,\"gridcolor\":\"rgb(232,232,232)\",\"linecolor\":\"rgb(36,36,36)\",\"showgrid\":false,\"showline\":true,\"ticks\":\"outside\",\"title\":{\"standoff\":15},\"zeroline\":false,\"zerolinecolor\":\"rgb(36,36,36)\"}}},\"shapes\":[{\"line\":{\"color\":\"blue\",\"dash\":\"dot\",\"width\":2},\"name\":\"Grid result\",\"type\":\"line\",\"x0\":0,\"x1\":5,\"y0\":0.9671185467079053,\"y1\":0.9671185467079053},{\"line\":{\"color\":\"red\",\"dash\":\"solid\",\"width\":2},\"name\":\"Iterativ without bounds\",\"type\":\"line\",\"x0\":0,\"x1\":5,\"y0\":0.5212576569506349,\"y1\":0.5212576569506349}],\"title\":{\"text\":\"Evolution of the durations of the iterativ fit over the repetitions\"},\"xaxis\":{\"title\":{\"text\":\"Number of repetition\"}},\"yaxis\":{\"title\":{\"text\":\"Duration (s)\"}}},                        {\"responsive\": true}                    ).then(function(){\n",
       "                            \n",
       "var gd = document.getElementById('1b6e8905-7063-4878-805e-bad57310126e');\n",
       "var x = new MutationObserver(function (mutations, observer) {{\n",
       "        var display = window.getComputedStyle(gd).display;\n",
       "        if (!display || display === 'none') {{\n",
       "            console.log([gd, 'removed!']);\n",
       "            Plotly.purge(gd);\n",
       "            observer.disconnect();\n",
       "        }}\n",
       "}});\n",
       "\n",
       "// Listen for the removal of the full notebook cells\n",
       "var notebookContainer = gd.closest('#notebook-container');\n",
       "if (notebookContainer) {{\n",
       "    x.observe(notebookContainer, {childList: true});\n",
       "}}\n",
       "\n",
       "// Listen for the clearing of the current output cell\n",
       "var outputEl = gd.closest('.output');\n",
       "if (outputEl) {{\n",
       "    x.observe(outputEl, {childList: true});\n",
       "}}\n",
       "\n",
       "                        })                };                });            </script>        </div>"
      ]
     },
     "metadata": {},
     "output_type": "display_data"
    }
   ],
   "source": [
    "fig3 = go.Figure()\n",
    "\n",
    "# plot duration iterativ repeat\n",
    "fig3.add_trace(go.Bar(y=cumulative_values,\n",
    "                      marker=dict(color='purple'),\n",
    "                      name='Cumulative Values'))\n",
    "\n",
    "\n",
    "# plot duration Iterativ without bounds \n",
    "fig3.add_shape(\n",
    "    type='line',\n",
    "    x0=0, y0=duration_repeat[grid_place], x1=n_repeat, y1=duration_repeat[grid_place],\n",
    "    line=dict(color='blue', width=2, dash='dot'), \n",
    "    name='Grid result')\n",
    "\n",
    "# plot duration grid \n",
    "fig3.add_shape(\n",
    "    type='line',\n",
    "    x0=0, y0=duration_repeat[no_bd], x1=n_repeat, y1=duration_repeat[no_bd],\n",
    "    line=dict(color='red', width=2, dash='solid'), \n",
    "    name='Iterativ without bounds')\n",
    "\n",
    "# for the legend\n",
    "fig3.add_trace(go.Scatter(x=[None],\n",
    "                          y=[None],\n",
    "                          mode='lines',\n",
    "                          line=dict(color='blue', width=2, dash='dot'),\n",
    "                          name='Grid result'))\n",
    "\n",
    "fig3.add_trace(go.Scatter(x=[None],\n",
    "                          y=[None],\n",
    "                          mode='lines',\n",
    "                          line=dict(color='red', width=2, dash='solid'),\n",
    "                          name='Iterativ without bounds'))\n",
    "\n",
    "\n",
    "fig3.update_layout(template='simple_white',\n",
    "                  title = 'Evolution of the durations of the iterativ fit over the repetitions',\n",
    "                  xaxis_title = 'Number of repetition',\n",
    "                  yaxis_title = 'Duration (s)')\n",
    "\n",
    "\n",
    "fig3.show()"
   ]
  },
  {
   "cell_type": "markdown",
   "id": "6d4a4a2c-3766-492b-867d-fdad0342d956",
   "metadata": {},
   "source": [
    "# Figure 4"
   ]
  },
  {
   "cell_type": "code",
   "execution_count": 113,
   "id": "25b3381e-e8f1-44f2-b800-bf507907d828",
   "metadata": {},
   "outputs": [
    {
     "data": {
      "application/vnd.plotly.v1+json": {
       "config": {
        "plotlyServerURL": "https://plot.ly"
       },
       "data": [
        {
         "mode": "markers",
         "name": "data",
         "type": "scatter",
         "y": [
          0.6746294026741874,
          0.22827367957393685,
          0.7355882449930533,
          0.09076074438309822,
          0.9580914455007404,
          0.4526612614814025,
          0.8635533621429192,
          0.9390416093425644,
          0.487608315003186,
          0.10801055955090377,
          0.22147847788732367,
          0.13758164905183978,
          0.9130781930315977,
          0.6188473375502324,
          0.4916005888612115,
          0.6146715866697926,
          0.5546353801484428,
          0.5684064249452138,
          0.0951941123774549,
          0.4242023212490287,
          0.06859512261523015,
          0.09289897063442265,
          0.9074365845778216,
          0.3067459225520147,
          0.9224283572496731,
          0.004570895424566679,
          0.5134372109617049,
          0.4124665256713773,
          0.8492478208487436,
          0.3105943647524272,
          0.04149723533934657,
          0.6312065333795266,
          0.8279978268475675,
          0.08552955308756516,
          0.7934900075237244,
          0.9667369919680897,
          0.32051490933747573,
          0.7922139535183346,
          0.156171955523989,
          0.7049638200600777,
          0.7222408381008839,
          0.07433498574178943,
          0.956981734287177,
          0.3460406064360845,
          0.8986584960747431,
          0.30230887606292667,
          0.003902691774123057,
          0.19066861016146597,
          0.32320932131803126,
          0.14465567310924898,
          0.18418110067455817,
          0.6319962753058586,
          0.18327812518336395,
          0.01478857582743276,
          0.8587463112023572,
          0.53339847400142,
          0.0012395435660935705,
          0.41562131846398254,
          0.39946866685098814,
          0.5953983624560545,
          0.11326372104755766,
          0.6396474631365162,
          0.051792625351164245,
          0.3817736035129714,
          0.9258435679055069,
          0.6973624522303614,
          0.6105519836935275,
          0.4834756583903784,
          0.35082033962006354,
          0.8709709753247215,
          0.3597088854353173,
          0.5376429428646017,
          0.29071152512268594,
          0.8348464455882136,
          0.38143208953290697,
          0.8926086725946996,
          0.9915752745188228,
          0.34365560956663865,
          0.8142392131229171,
          0.8210206751665864,
          0.731325990976455,
          0.799629229248256,
          0.36144400168426816,
          0.4217408153147575,
          0.4184438244130486,
          0.22923433148458205,
          0.7964519235522138,
          0.4756323108814404,
          0.6441744493040552,
          0.933717255505817,
          0.04358991279212765,
          0.11164552861522947,
          0.8049806451422987,
          0.14808345398439016,
          0.7194745396100473,
          0.3718804865696296,
          0.678612306662273,
          0.5044341260205412,
          0.7665461576827414,
          0.3194078351681794,
          0.3746423717792191,
          0.5134636836446392,
          0.17389172033698264,
          0.30790727944719964,
          0.9351493354353049,
          0.012528310888845207,
          0.2480044809662031,
          0.3311041041181537,
          0.5105302661404044,
          0.6671148095375152,
          0.8422843640869782,
          0.6330932191271502,
          0.16755772536679536,
          0.10038959816954951,
          0.5394030512217612,
          0.2757288529691839,
          0.5931430074531352,
          0.5888294124431469,
          0.20677995124889847,
          0.42557976397983577,
          0.24419603389317546,
          0.2516725025466866,
          0.6545953426800737,
          0.5150250067907463,
          0.925891003632085,
          0.2476602467433897,
          0.48809254762774135,
          0.09472859715334558,
          0.5014587672668271,
          0.7411430846425963,
          0.40605003302594955,
          0.6817723001499043,
          0.13326365021723008,
          0.7085657278456184,
          0.7641208339938955,
          0.2940613418187099,
          0.35102394869895415,
          0.8441042547310035,
          0.14421354618340654,
          0.5638428732501394,
          0.8055946366006899,
          0.12892145889782003,
          0.4116948966866204,
          0.45748320036048495,
          0.7193768200145741,
          0.7359493329530675,
          0.8289267822451208,
          0.8603734220074277,
          0.6264522086809193,
          0.9551591314516459,
          0.04883902913151128,
          0.1690369950758388,
          0.5091162774161536,
          0.23875915569212047,
          0.9912402851838791,
          0.41175402100535674,
          0.7952438757089028,
          0.5020636866533053,
          0.006952144269632088,
          0.14298922798857738,
          0.09450868234580956,
          0.013688045924538872,
          0.8337197216631766,
          0.2762889217282162,
          0.4736440966054082,
          0.40553547336087703,
          0.2874583744563397,
          0.24398767124884002,
          0.757997014697566,
          0.17642055187925743,
          0.3172811889470225,
          0.08192014495051614,
          0.7837228610146271,
          0.8559068151841516,
          0.4104201393998408,
          0.24068419545674435,
          0.8690236410503115,
          0.13674317396565028,
          0.6116926380384518,
          0.8339199095597843,
          0.1086768597681036,
          0.6246036209753457,
          0.028023180697276717,
          0.11067741917060847,
          0.17630237315067399,
          0.2693027830406459,
          0.13455515876167767,
          0.6488205154754837,
          0.6141271605542915,
          0.49835053538370777,
          0.8943926019770841,
          0.9305304091393106,
          0.8834174335996319,
          0.9381212303893526,
          0.35146356931564926,
          0.6689704997065743,
          0.17228525710863907,
          0.23057811993392574,
          0.7278097600746934,
          0.4297730676850916,
          0.9166495655818981,
          0.4455104944330516,
          0.4740641803552582,
          0.277283618874677,
          0.03901955972529725,
          0.5424467184869638,
          0.786424374237816,
          0.4965536545602227
         ]
        },
        {
         "name": "Last repetition of iterativ fit (R2=1.00)",
         "type": "scatter",
         "y": [
          0.4914577606569236,
          0.6503686622419582,
          0.4762749077919347,
          0.9135075771412804,
          0.6357746350263584,
          0.7463651677806941,
          0.9490230116575685,
          0.07485168568221123,
          0.5441190868419089,
          0.7037399709608229,
          0.5517887602868269,
          0.4507378673165092,
          0.24045420109053128,
          0.6642071389124297,
          0.8475221825296545,
          0.08313238481074725,
          0.3291855890061026,
          0.8723489440539469,
          0.3452388056508683,
          0.1785231962206888,
          0.29278118206571857,
          0.1723306065574537,
          0.04877357619619793,
          0.4613006960798647,
          0.9078222816378323,
          0.25653560085707516,
          0.013869853774990393,
          0.9355156009382322,
          0.8793150066941016,
          0.11929186053802865,
          0.6985449116717718,
          0.0038115984606751363,
          0.17836064391288786,
          0.5573931475731011,
          0.6754485485001225,
          0.2298626125426907,
          0.968595327870434,
          0.24177869866795376,
          0.7340315349700077,
          0.2399663192490623,
          0.5841905344654481,
          0.5144728582780893,
          0.4159561397202415,
          0.2404631613651006,
          0.15715920955595264,
          0.4362778514805432,
          0.4598254909139383,
          0.9096154683307789,
          0.583955888955826,
          0.23400133253268296,
          0.5441336703295935,
          0.606248973976609,
          0.35794945270573064,
          0.09701720574592909,
          0.2425432483894434,
          0.25760829557850196,
          0.5244382997455054,
          0.6313311601342454,
          0.24672267364167466,
          0.33718767226040913,
          0.6597697238453406,
          0.658849754507711,
          0.21404106669648393,
          0.9688039432789886,
          0.05827917368498925,
          0.3969740192545551,
          0.1890841869637745,
          0.2177183992341708,
          0.2374072582485579,
          0.9818997330193125,
          0.19957958128321662,
          0.0031296691495583673,
          0.6362236099582835,
          0.7255103522059305,
          0.40531800565148246,
          0.893267660423128,
          0.463426039273225,
          0.24999909073670412,
          0.869692744637817,
          0.29876516022710997,
          0.9913103102348809,
          0.44999671890122284,
          0.6703501274837997,
          0.42233131993093687,
          0.16047836856718312,
          0.536067037310956,
          0.7309469414155417,
          0.3550619331188992,
          0.1667337274447015,
          0.15616949827644022,
          0.5201902590001669,
          0.08148300448765355,
          0.9462653460574231,
          0.4858020282259409,
          0.09971620106072765,
          0.26792365656142625,
          0.6984850188979199,
          0.5181980142407154,
          0.41937470204416905,
          0.10170672153316085,
          0.6362564482879045,
          0.14463533621137425,
          0.22339672462822413,
          0.361751511268136,
          0.42524426999301657,
          0.8921795290339342,
          0.7589578336582281,
          0.735483141850002,
          0.46628780571111206,
          0.3654674953727912,
          0.0379147978387937,
          0.7125113537640704,
          0.07040953095193603,
          0.07871975476008508,
          0.4312344434879587,
          0.3388992146397731,
          0.6250720847787907,
          0.009646638703504573,
          0.17447171794709082,
          0.4539274507486146,
          0.6879686490893276,
          0.8169860340452741,
          0.5448109207631698,
          0.3196302423287535,
          0.9330604345255071,
          0.6816284178670298,
          0.7679350798780901,
          0.7328002881043576,
          0.7365592954896274,
          0.43132157183469044,
          0.7023564021057004,
          0.028929239861926526,
          0.5391176656593967,
          0.08106273772141703,
          0.5405940547369135,
          0.5733773229184811,
          0.18372052427509444,
          0.9118030014743805,
          0.5208833651985318,
          0.056270944941177126,
          0.1269626209921344,
          0.1456805180601518,
          0.552187907707194,
          0.5992792195708359,
          0.5255200428227571,
          0.08898045888488448,
          0.08066845858355298,
          0.4889464569734365,
          0.00018059411471915698,
          0.04109643250074313,
          0.487635713827684,
          0.8217133015410331,
          0.24972152797126768,
          0.8993288623577343,
          0.6320833989248428,
          0.5575902478806419,
          0.793939242666195,
          0.9033193353256512,
          0.8947553017869696,
          0.4124040854782679,
          0.057853107424961525,
          0.07262926827095251,
          0.994704441318649,
          0.00979161806680362,
          0.6380863554581483,
          0.16304731899585445,
          0.6820623421831066,
          0.12423632455413791,
          0.02624475501864576,
          0.3103010363402724,
          0.9655506881900744,
          0.4392589212981436,
          0.660273108451007,
          0.07684419944158472,
          0.03282304071913,
          0.8936761531111429,
          0.32404209214944957,
          0.614019545208298,
          0.9735507619612775,
          0.9234161052770796,
          0.8946133055399977,
          0.4091564791525406,
          0.3259485463222561,
          0.7815909455010928,
          0.5559229855423993,
          0.6376370557838001,
          0.6799494870036968,
          0.6128862798747872,
          0.05375284667798086,
          0.6231280155790335,
          0.21753925930247842,
          0.2042318803615022,
          0.1465711539365936,
          0.22978073289119472,
          0.03934641317537846,
          0.20701826819467972,
          0.43426986575595383,
          0.44305049292468746,
          0.5653557130588619,
          0.15713874151166085,
          0.2978991553334428,
          0.1587129561415217,
          0.22981325011209575,
          0.3690275782239366,
          0.8650388263922343,
          0.1214494461033816,
          0.6307025785591929,
          0.836446863198123
         ]
        },
        {
         "name": "Grid search results (R2=0.54)",
         "type": "scatter",
         "y": [
          0.7698639854252597,
          0.33191760706246143,
          0.5557244932236454,
          0.8202478064388076,
          0.7077605218303092,
          0.5039416536827028,
          0.8247009213176539,
          0.9429235617111497,
          0.29016509662038426,
          0.47580308394359294,
          0.07047003457137568,
          0.8947948914251413,
          0.8024042507774094,
          0.036946859218504935,
          0.7219027812280618,
          0.5539698564931195,
          0.957819254374739,
          0.7918329060893557,
          0.27823020570429857,
          0.6646643875203296,
          0.37479501609654486,
          0.9930644887809038,
          0.5594740389888724,
          0.029659848283261958,
          0.47120314952950626,
          0.47966994736715496,
          0.28805121531036615,
          0.2716113220667734,
          0.645711930681809,
          0.2707704917247722,
          0.69826334864219,
          0.6869213536186226,
          0.5866049901780498,
          0.4584571752980172,
          0.8749992751161063,
          0.3188035513042581,
          0.29612979361010394,
          0.1463845437021094,
          0.6984569288706542,
          0.5495308106508136,
          0.05524862509087969,
          0.4999174204858733,
          0.9453443456319064,
          0.06117132963519889,
          0.07636601836033885,
          0.7872803247058088,
          0.24466027718377625,
          0.07432175939992769,
          0.7777204684587627,
          0.55893759722736,
          0.8611539834516383,
          0.26660795053801334,
          0.5388380824924416,
          0.7229483323290004,
          0.43297063633525645,
          0.383658550521605,
          0.810857028303656,
          0.15850716687335653,
          0.3014325528423294,
          0.582329708521214,
          0.30165765607209527,
          0.6437160983344582,
          0.004882940638989863,
          0.7122978574804465,
          0.0772352994236255,
          0.3395076981757168,
          0.25365634245805635,
          0.231292226009565,
          0.6961607552960918,
          0.7557379799627427,
          0.9959101699616302,
          0.16987855240926641,
          0.01438443138489498,
          0.5731945017622541,
          0.15702738035275,
          0.399594813701177,
          0.719827742782941,
          0.7730478158818461,
          0.4130438124404422,
          0.44220291487412355,
          0.7202914663804679,
          0.33922181890269587,
          0.12022563854399682,
          0.8315081832463548,
          0.6540038492782569,
          0.37717167411618,
          0.07923055153177405,
          0.8464123286574661,
          0.8882727486406299,
          0.11342241652510576,
          0.07168499578786203,
          0.38331575636576587,
          0.7807175516944493,
          0.9846531082251833,
          0.08942507981333903,
          0.9167811052387,
          0.415506523572878,
          0.20354109838072432,
          0.2289302551882767,
          0.5592732080703466,
          0.1605006998275561,
          0.7308923776853787,
          0.5756264134838677,
          0.9866276472056207,
          0.31676424552054405,
          0.5223129061456228,
          0.6685895965423023,
          0.4785377748009424,
          0.8696771053986717,
          0.666997044588293,
          0.9634583841895236,
          0.6145832818313289,
          0.48707351714066827,
          0.549512512405624,
          0.1613248006843394,
          0.26253572043172,
          0.19726738355587792,
          0.8504660433886108,
          0.6245825629618557,
          0.9456326052939216,
          0.2958921103240094,
          0.48984734244509387,
          0.09577637892083846,
          0.5923797557140799,
          0.7652600090530147,
          0.08249121058422093,
          0.6217372898283486,
          0.41092202803119016,
          0.19190791482455927,
          0.17698170920049283,
          0.18537437163936699,
          0.23399748263885223,
          0.5825230602845889,
          0.8942648212386544,
          0.2519899412564188,
          0.2554412667771333,
          0.02987682618635079,
          0.5893655607282267,
          0.29750596461014034,
          0.7597608112461303,
          0.2383382583999727,
          0.988423778794636,
          0.4951324898409083,
          0.018833951928084902,
          0.514893175859651,
          0.3191713533719178,
          0.8616968976604529,
          0.4951018001782719,
          0.478211037763027,
          0.7791278148569186,
          0.026327639177834317,
          0.07689079875422034,
          0.2180715073134072,
          0.40648592857478627,
          0.28766812169728684,
          0.016054086172338167,
          0.05327671889647734,
          0.5431115728430438,
          0.14710623957926083,
          0.788996144485298,
          0.5318622375046576,
          0.5194285537644378,
          0.2898980720299231,
          0.5042828437473424,
          0.10617386753032054,
          0.799914912360498,
          0.4152387191698673,
          0.165894926846735,
          0.3700817617524238,
          0.7005286230231291,
          0.27145274875375236,
          0.732770563237745,
          0.5603049208998365,
          0.9214751845367304,
          0.12079013565203978,
          0.10530114002545854,
          0.1603153590695766,
          0.9324518203510471,
          0.08993285264546935,
          0.3030155003454805,
          0.03929529164785095,
          0.417999825640862,
          0.746118985496424,
          0.46364267119327973,
          0.09442169445053528,
          0.7184546259400316,
          0.28773680192910855,
          0.6623462989896607,
          0.7773010919128037,
          0.777556064465612,
          0.530555416015281,
          0.5860281197391601,
          0.518715741931693,
          0.17637720581318772,
          0.8262238363081856,
          0.079057192594851,
          0.37176471003525036,
          0.8375653824053182,
          0.6038636413447213,
          0.5739057044094678,
          0.004403292566592221,
          0.3581973696562436,
          0.8699516165573943,
          0.8559911328083837,
          0.7973547609019401,
          0.09263041989947796,
          0.9417203057076531,
          0.9084886557859836
         ]
        },
        {
         "name": "Iterativ fit without bounds (R2=0.29)",
         "type": "scatter",
         "y": [
          0.11680475943056878,
          0.2679034153965285,
          0.4123082685674956,
          0.919884828876312,
          0.42434119350243826,
          0.439362550008627,
          0.5488939886215715,
          0.7922793157272222,
          0.5377118060327662,
          0.1092510009944273,
          0.8829934029274503,
          0.4268315063814593,
          0.18652890697661184,
          0.6621440487769678,
          0.756732851776354,
          0.23005777819199602,
          0.013961559552281622,
          0.9150962860701544,
          0.9351701941139632,
          0.777835116952509,
          0.6742661471747514,
          0.8385824757508284,
          0.07531802696316581,
          0.599173472823893,
          0.9342536241386911,
          0.868221089993497,
          0.19327638547767223,
          0.8683470280047797,
          0.7626745007202258,
          0.3268518363626334,
          0.0020370104756897156,
          0.806224060713392,
          0.564102095357427,
          0.40015871062853736,
          0.378161766896027,
          0.5751394108569974,
          0.29589713843134324,
          0.49107516191416556,
          0.5544393858950943,
          0.9675580890613396,
          0.7324537970763519,
          0.9921783444632079,
          0.2508024023042428,
          0.6042604762653647,
          0.06499660000592467,
          0.18746684024210836,
          0.884468369191469,
          0.3682797970983829,
          0.6688280058323786,
          0.1072481380248761,
          0.34875262315533817,
          0.10077087621173964,
          0.20802402441910484,
          0.4665802121713246,
          0.6557731941851244,
          0.8717540529999399,
          0.5593637208547372,
          0.8896604164474939,
          0.5178494915431954,
          0.08006608547447946,
          0.09926897322650297,
          0.13540401486324094,
          0.0829575704977994,
          0.43248870417772334,
          0.1607349645270616,
          0.08581171997965431,
          0.8620441000386856,
          0.9448427106511222,
          0.16167885608642463,
          0.4425758251992795,
          0.7895698976305154,
          0.2742607393822415,
          0.08736744495487314,
          0.34532736458563984,
          0.43050985068574354,
          0.12552072769952527,
          0.7287420329450022,
          0.035110847466867656,
          0.4160660539406329,
          0.9796236413750102,
          0.0571446907661366,
          0.05758180742621832,
          0.33568204008259417,
          0.7071413981598154,
          0.1469506828881868,
          0.3539313864130774,
          0.5756511923105433,
          0.03473535105853742,
          0.618731105463365,
          0.03527676392517254,
          0.9758161913043448,
          0.4067076987159399,
          0.6751759580128657,
          0.591386839957073,
          0.4983658475140277,
          0.4571626884071609,
          0.8900625438327378,
          0.2829052856990847,
          0.1433919753755507,
          0.6691799633522906,
          0.3003401538016226,
          0.8926902796342048,
          0.28021831408984155,
          0.5555931120534053,
          0.22563120176968132,
          0.09437353218444755,
          0.516279676919874,
          0.6743070657358711,
          0.8096989847351608,
          0.22863809587621786,
          0.32975734960368197,
          0.06873748630874155,
          0.5226010589902887,
          0.6451168430850373,
          0.8037501590198167,
          0.03887879931051719,
          0.9575420782357515,
          0.6405979776461982,
          0.32888039985294215,
          0.15119755188763284,
          0.972598470123279,
          0.9467191938521216,
          0.6544839592006606,
          0.8625079753790611,
          0.16887524907960827,
          0.7468380892105516,
          0.8372026149112073,
          0.7657297023906418,
          0.8907175980402682,
          0.14594734507840057,
          0.7038558906878535,
          0.49693202650174817,
          0.055536194606045086,
          0.29383859984629634,
          0.40809831426332766,
          0.2152395314076404,
          0.10200553594596873,
          0.6568143132611386,
          0.8870500367041025,
          0.013689869907821395,
          0.5956135077848091,
          0.6858966789109835,
          0.09061881345469402,
          0.3131433844670142,
          0.04101889774215972,
          0.5961343874154078,
          0.13374901469608902,
          0.7533370635068025,
          0.4564521349609113,
          0.6410400662762166,
          0.9679055194738345,
          0.4105196095640562,
          0.7141553498890277,
          0.20489741272644002,
          0.8439339935665852,
          0.7617745805543896,
          0.8814724064397957,
          0.3180076069089792,
          0.9424369653372917,
          0.7611796658945984,
          0.21110934292037786,
          0.9972778503881522,
          0.02817544259821103,
          0.16909339845708649,
          0.32959544555210507,
          0.9556443130311967,
          0.9504007497036888,
          0.1873370098292062,
          0.3754853905393353,
          0.7270396244935672,
          0.7370726129847069,
          0.35207472466341616,
          0.49370068954985735,
          0.5830253775855218,
          0.5845265782542459,
          0.9394062509804895,
          0.7071473268175712,
          0.8935587751078329,
          0.5127219130296219,
          0.859832281168798,
          0.41270265917120175,
          0.12466649014061659,
          0.15910898353057135,
          0.5304672975981384,
          0.910801711192698,
          0.14303310024675975,
          0.021918865462416837,
          0.23846693534925045,
          0.4730345876914138,
          0.5702988889192145,
          0.3269282171742661,
          0.6487028950819409,
          0.4788259410185507,
          0.5718014023698472,
          0.7916522462418711,
          0.18061676049113562,
          0.887419766701385,
          0.9446493043913934,
          0.12451258912675012,
          0.9076704808714695,
          0.0035939363504009503,
          0.702051472102724,
          0.42286905571797995,
          0.4246142561077003,
          0.37551176557488253,
          0.9905057463455134,
          0.8748386971016044,
          0.3428922883650033
         ]
        }
       ],
       "layout": {
        "autosize": true,
        "template": {
         "data": {
          "bar": [
           {
            "error_x": {
             "color": "rgb(36,36,36)"
            },
            "error_y": {
             "color": "rgb(36,36,36)"
            },
            "marker": {
             "line": {
              "color": "white",
              "width": 0.5
             },
             "pattern": {
              "fillmode": "overlay",
              "size": 10,
              "solidity": 0.2
             }
            },
            "type": "bar"
           }
          ],
          "barpolar": [
           {
            "marker": {
             "line": {
              "color": "white",
              "width": 0.5
             },
             "pattern": {
              "fillmode": "overlay",
              "size": 10,
              "solidity": 0.2
             }
            },
            "type": "barpolar"
           }
          ],
          "carpet": [
           {
            "aaxis": {
             "endlinecolor": "rgb(36,36,36)",
             "gridcolor": "white",
             "linecolor": "white",
             "minorgridcolor": "white",
             "startlinecolor": "rgb(36,36,36)"
            },
            "baxis": {
             "endlinecolor": "rgb(36,36,36)",
             "gridcolor": "white",
             "linecolor": "white",
             "minorgridcolor": "white",
             "startlinecolor": "rgb(36,36,36)"
            },
            "type": "carpet"
           }
          ],
          "choropleth": [
           {
            "colorbar": {
             "outlinewidth": 1,
             "tickcolor": "rgb(36,36,36)",
             "ticks": "outside"
            },
            "type": "choropleth"
           }
          ],
          "contour": [
           {
            "colorbar": {
             "outlinewidth": 1,
             "tickcolor": "rgb(36,36,36)",
             "ticks": "outside"
            },
            "colorscale": [
             [
              0,
              "#440154"
             ],
             [
              0.1111111111111111,
              "#482878"
             ],
             [
              0.2222222222222222,
              "#3e4989"
             ],
             [
              0.3333333333333333,
              "#31688e"
             ],
             [
              0.4444444444444444,
              "#26828e"
             ],
             [
              0.5555555555555556,
              "#1f9e89"
             ],
             [
              0.6666666666666666,
              "#35b779"
             ],
             [
              0.7777777777777778,
              "#6ece58"
             ],
             [
              0.8888888888888888,
              "#b5de2b"
             ],
             [
              1,
              "#fde725"
             ]
            ],
            "type": "contour"
           }
          ],
          "contourcarpet": [
           {
            "colorbar": {
             "outlinewidth": 1,
             "tickcolor": "rgb(36,36,36)",
             "ticks": "outside"
            },
            "type": "contourcarpet"
           }
          ],
          "heatmap": [
           {
            "colorbar": {
             "outlinewidth": 1,
             "tickcolor": "rgb(36,36,36)",
             "ticks": "outside"
            },
            "colorscale": [
             [
              0,
              "#440154"
             ],
             [
              0.1111111111111111,
              "#482878"
             ],
             [
              0.2222222222222222,
              "#3e4989"
             ],
             [
              0.3333333333333333,
              "#31688e"
             ],
             [
              0.4444444444444444,
              "#26828e"
             ],
             [
              0.5555555555555556,
              "#1f9e89"
             ],
             [
              0.6666666666666666,
              "#35b779"
             ],
             [
              0.7777777777777778,
              "#6ece58"
             ],
             [
              0.8888888888888888,
              "#b5de2b"
             ],
             [
              1,
              "#fde725"
             ]
            ],
            "type": "heatmap"
           }
          ],
          "heatmapgl": [
           {
            "colorbar": {
             "outlinewidth": 1,
             "tickcolor": "rgb(36,36,36)",
             "ticks": "outside"
            },
            "colorscale": [
             [
              0,
              "#440154"
             ],
             [
              0.1111111111111111,
              "#482878"
             ],
             [
              0.2222222222222222,
              "#3e4989"
             ],
             [
              0.3333333333333333,
              "#31688e"
             ],
             [
              0.4444444444444444,
              "#26828e"
             ],
             [
              0.5555555555555556,
              "#1f9e89"
             ],
             [
              0.6666666666666666,
              "#35b779"
             ],
             [
              0.7777777777777778,
              "#6ece58"
             ],
             [
              0.8888888888888888,
              "#b5de2b"
             ],
             [
              1,
              "#fde725"
             ]
            ],
            "type": "heatmapgl"
           }
          ],
          "histogram": [
           {
            "marker": {
             "line": {
              "color": "white",
              "width": 0.6
             }
            },
            "type": "histogram"
           }
          ],
          "histogram2d": [
           {
            "colorbar": {
             "outlinewidth": 1,
             "tickcolor": "rgb(36,36,36)",
             "ticks": "outside"
            },
            "colorscale": [
             [
              0,
              "#440154"
             ],
             [
              0.1111111111111111,
              "#482878"
             ],
             [
              0.2222222222222222,
              "#3e4989"
             ],
             [
              0.3333333333333333,
              "#31688e"
             ],
             [
              0.4444444444444444,
              "#26828e"
             ],
             [
              0.5555555555555556,
              "#1f9e89"
             ],
             [
              0.6666666666666666,
              "#35b779"
             ],
             [
              0.7777777777777778,
              "#6ece58"
             ],
             [
              0.8888888888888888,
              "#b5de2b"
             ],
             [
              1,
              "#fde725"
             ]
            ],
            "type": "histogram2d"
           }
          ],
          "histogram2dcontour": [
           {
            "colorbar": {
             "outlinewidth": 1,
             "tickcolor": "rgb(36,36,36)",
             "ticks": "outside"
            },
            "colorscale": [
             [
              0,
              "#440154"
             ],
             [
              0.1111111111111111,
              "#482878"
             ],
             [
              0.2222222222222222,
              "#3e4989"
             ],
             [
              0.3333333333333333,
              "#31688e"
             ],
             [
              0.4444444444444444,
              "#26828e"
             ],
             [
              0.5555555555555556,
              "#1f9e89"
             ],
             [
              0.6666666666666666,
              "#35b779"
             ],
             [
              0.7777777777777778,
              "#6ece58"
             ],
             [
              0.8888888888888888,
              "#b5de2b"
             ],
             [
              1,
              "#fde725"
             ]
            ],
            "type": "histogram2dcontour"
           }
          ],
          "mesh3d": [
           {
            "colorbar": {
             "outlinewidth": 1,
             "tickcolor": "rgb(36,36,36)",
             "ticks": "outside"
            },
            "type": "mesh3d"
           }
          ],
          "parcoords": [
           {
            "line": {
             "colorbar": {
              "outlinewidth": 1,
              "tickcolor": "rgb(36,36,36)",
              "ticks": "outside"
             }
            },
            "type": "parcoords"
           }
          ],
          "pie": [
           {
            "automargin": true,
            "type": "pie"
           }
          ],
          "scatter": [
           {
            "fillpattern": {
             "fillmode": "overlay",
             "size": 10,
             "solidity": 0.2
            },
            "type": "scatter"
           }
          ],
          "scatter3d": [
           {
            "line": {
             "colorbar": {
              "outlinewidth": 1,
              "tickcolor": "rgb(36,36,36)",
              "ticks": "outside"
             }
            },
            "marker": {
             "colorbar": {
              "outlinewidth": 1,
              "tickcolor": "rgb(36,36,36)",
              "ticks": "outside"
             }
            },
            "type": "scatter3d"
           }
          ],
          "scattercarpet": [
           {
            "marker": {
             "colorbar": {
              "outlinewidth": 1,
              "tickcolor": "rgb(36,36,36)",
              "ticks": "outside"
             }
            },
            "type": "scattercarpet"
           }
          ],
          "scattergeo": [
           {
            "marker": {
             "colorbar": {
              "outlinewidth": 1,
              "tickcolor": "rgb(36,36,36)",
              "ticks": "outside"
             }
            },
            "type": "scattergeo"
           }
          ],
          "scattergl": [
           {
            "marker": {
             "colorbar": {
              "outlinewidth": 1,
              "tickcolor": "rgb(36,36,36)",
              "ticks": "outside"
             }
            },
            "type": "scattergl"
           }
          ],
          "scattermapbox": [
           {
            "marker": {
             "colorbar": {
              "outlinewidth": 1,
              "tickcolor": "rgb(36,36,36)",
              "ticks": "outside"
             }
            },
            "type": "scattermapbox"
           }
          ],
          "scatterpolar": [
           {
            "marker": {
             "colorbar": {
              "outlinewidth": 1,
              "tickcolor": "rgb(36,36,36)",
              "ticks": "outside"
             }
            },
            "type": "scatterpolar"
           }
          ],
          "scatterpolargl": [
           {
            "marker": {
             "colorbar": {
              "outlinewidth": 1,
              "tickcolor": "rgb(36,36,36)",
              "ticks": "outside"
             }
            },
            "type": "scatterpolargl"
           }
          ],
          "scatterternary": [
           {
            "marker": {
             "colorbar": {
              "outlinewidth": 1,
              "tickcolor": "rgb(36,36,36)",
              "ticks": "outside"
             }
            },
            "type": "scatterternary"
           }
          ],
          "surface": [
           {
            "colorbar": {
             "outlinewidth": 1,
             "tickcolor": "rgb(36,36,36)",
             "ticks": "outside"
            },
            "colorscale": [
             [
              0,
              "#440154"
             ],
             [
              0.1111111111111111,
              "#482878"
             ],
             [
              0.2222222222222222,
              "#3e4989"
             ],
             [
              0.3333333333333333,
              "#31688e"
             ],
             [
              0.4444444444444444,
              "#26828e"
             ],
             [
              0.5555555555555556,
              "#1f9e89"
             ],
             [
              0.6666666666666666,
              "#35b779"
             ],
             [
              0.7777777777777778,
              "#6ece58"
             ],
             [
              0.8888888888888888,
              "#b5de2b"
             ],
             [
              1,
              "#fde725"
             ]
            ],
            "type": "surface"
           }
          ],
          "table": [
           {
            "cells": {
             "fill": {
              "color": "rgb(237,237,237)"
             },
             "line": {
              "color": "white"
             }
            },
            "header": {
             "fill": {
              "color": "rgb(217,217,217)"
             },
             "line": {
              "color": "white"
             }
            },
            "type": "table"
           }
          ]
         },
         "layout": {
          "annotationdefaults": {
           "arrowhead": 0,
           "arrowwidth": 1
          },
          "autotypenumbers": "strict",
          "coloraxis": {
           "colorbar": {
            "outlinewidth": 1,
            "tickcolor": "rgb(36,36,36)",
            "ticks": "outside"
           }
          },
          "colorscale": {
           "diverging": [
            [
             0,
             "rgb(103,0,31)"
            ],
            [
             0.1,
             "rgb(178,24,43)"
            ],
            [
             0.2,
             "rgb(214,96,77)"
            ],
            [
             0.3,
             "rgb(244,165,130)"
            ],
            [
             0.4,
             "rgb(253,219,199)"
            ],
            [
             0.5,
             "rgb(247,247,247)"
            ],
            [
             0.6,
             "rgb(209,229,240)"
            ],
            [
             0.7,
             "rgb(146,197,222)"
            ],
            [
             0.8,
             "rgb(67,147,195)"
            ],
            [
             0.9,
             "rgb(33,102,172)"
            ],
            [
             1,
             "rgb(5,48,97)"
            ]
           ],
           "sequential": [
            [
             0,
             "#440154"
            ],
            [
             0.1111111111111111,
             "#482878"
            ],
            [
             0.2222222222222222,
             "#3e4989"
            ],
            [
             0.3333333333333333,
             "#31688e"
            ],
            [
             0.4444444444444444,
             "#26828e"
            ],
            [
             0.5555555555555556,
             "#1f9e89"
            ],
            [
             0.6666666666666666,
             "#35b779"
            ],
            [
             0.7777777777777778,
             "#6ece58"
            ],
            [
             0.8888888888888888,
             "#b5de2b"
            ],
            [
             1,
             "#fde725"
            ]
           ],
           "sequentialminus": [
            [
             0,
             "#440154"
            ],
            [
             0.1111111111111111,
             "#482878"
            ],
            [
             0.2222222222222222,
             "#3e4989"
            ],
            [
             0.3333333333333333,
             "#31688e"
            ],
            [
             0.4444444444444444,
             "#26828e"
            ],
            [
             0.5555555555555556,
             "#1f9e89"
            ],
            [
             0.6666666666666666,
             "#35b779"
            ],
            [
             0.7777777777777778,
             "#6ece58"
            ],
            [
             0.8888888888888888,
             "#b5de2b"
            ],
            [
             1,
             "#fde725"
            ]
           ]
          },
          "colorway": [
           "#1F77B4",
           "#FF7F0E",
           "#2CA02C",
           "#D62728",
           "#9467BD",
           "#8C564B",
           "#E377C2",
           "#7F7F7F",
           "#BCBD22",
           "#17BECF"
          ],
          "font": {
           "color": "rgb(36,36,36)"
          },
          "geo": {
           "bgcolor": "white",
           "lakecolor": "white",
           "landcolor": "white",
           "showlakes": true,
           "showland": true,
           "subunitcolor": "white"
          },
          "hoverlabel": {
           "align": "left"
          },
          "hovermode": "closest",
          "mapbox": {
           "style": "light"
          },
          "paper_bgcolor": "white",
          "plot_bgcolor": "white",
          "polar": {
           "angularaxis": {
            "gridcolor": "rgb(232,232,232)",
            "linecolor": "rgb(36,36,36)",
            "showgrid": false,
            "showline": true,
            "ticks": "outside"
           },
           "bgcolor": "white",
           "radialaxis": {
            "gridcolor": "rgb(232,232,232)",
            "linecolor": "rgb(36,36,36)",
            "showgrid": false,
            "showline": true,
            "ticks": "outside"
           }
          },
          "scene": {
           "xaxis": {
            "backgroundcolor": "white",
            "gridcolor": "rgb(232,232,232)",
            "gridwidth": 2,
            "linecolor": "rgb(36,36,36)",
            "showbackground": true,
            "showgrid": false,
            "showline": true,
            "ticks": "outside",
            "zeroline": false,
            "zerolinecolor": "rgb(36,36,36)"
           },
           "yaxis": {
            "backgroundcolor": "white",
            "gridcolor": "rgb(232,232,232)",
            "gridwidth": 2,
            "linecolor": "rgb(36,36,36)",
            "showbackground": true,
            "showgrid": false,
            "showline": true,
            "ticks": "outside",
            "zeroline": false,
            "zerolinecolor": "rgb(36,36,36)"
           },
           "zaxis": {
            "backgroundcolor": "white",
            "gridcolor": "rgb(232,232,232)",
            "gridwidth": 2,
            "linecolor": "rgb(36,36,36)",
            "showbackground": true,
            "showgrid": false,
            "showline": true,
            "ticks": "outside",
            "zeroline": false,
            "zerolinecolor": "rgb(36,36,36)"
           }
          },
          "shapedefaults": {
           "fillcolor": "black",
           "line": {
            "width": 0
           },
           "opacity": 0.3
          },
          "ternary": {
           "aaxis": {
            "gridcolor": "rgb(232,232,232)",
            "linecolor": "rgb(36,36,36)",
            "showgrid": false,
            "showline": true,
            "ticks": "outside"
           },
           "baxis": {
            "gridcolor": "rgb(232,232,232)",
            "linecolor": "rgb(36,36,36)",
            "showgrid": false,
            "showline": true,
            "ticks": "outside"
           },
           "bgcolor": "white",
           "caxis": {
            "gridcolor": "rgb(232,232,232)",
            "linecolor": "rgb(36,36,36)",
            "showgrid": false,
            "showline": true,
            "ticks": "outside"
           }
          },
          "title": {
           "x": 0.05
          },
          "xaxis": {
           "automargin": true,
           "gridcolor": "rgb(232,232,232)",
           "linecolor": "rgb(36,36,36)",
           "showgrid": false,
           "showline": true,
           "ticks": "outside",
           "title": {
            "standoff": 15
           },
           "zeroline": false,
           "zerolinecolor": "rgb(36,36,36)"
          },
          "yaxis": {
           "automargin": true,
           "gridcolor": "rgb(232,232,232)",
           "linecolor": "rgb(36,36,36)",
           "showgrid": false,
           "showline": true,
           "ticks": "outside",
           "title": {
            "standoff": 15
           },
           "zeroline": false,
           "zerolinecolor": "rgb(36,36,36)"
          }
         }
        },
        "title": {
         "text": "Evolution of the durations of the iterativ fit over the repetitions"
        },
        "xaxis": {
         "autorange": true,
         "range": [
          -14.07155635062612,
          221.0715563506261
         ],
         "title": {
          "text": "Number of repetition"
         }
        },
        "yaxis": {
         "autorange": true,
         "range": [
          -0.08048719151252971,
          1.0733020095974461
         ],
         "title": {
          "text": "Duration (s)"
         },
         "type": "linear"
        }
       }
      },
      "image/png": "[encoded data removed]",
      "text/html": [
       "<div>                            <div id=\"1e85e8a9-7f41-48e9-95a7-ec0a4033e6cc\" class=\"plotly-graph-div\" style=\"height:525px; width:100%;\"></div>            <script type=\"text/javascript\">                require([\"plotly\"], function(Plotly) {                    window.PLOTLYENV=window.PLOTLYENV || {};                                    if (document.getElementById(\"1e85e8a9-7f41-48e9-95a7-ec0a4033e6cc\")) {                    Plotly.newPlot(                        \"1e85e8a9-7f41-48e9-95a7-ec0a4033e6cc\",                        [{\"mode\":\"markers\",\"name\":\"data\",\"y\":[0.6746294026741874,0.22827367957393685,0.7355882449930533,0.09076074438309822,0.9580914455007404,0.4526612614814025,0.8635533621429192,0.9390416093425644,0.487608315003186,0.10801055955090377,0.22147847788732367,0.13758164905183978,0.9130781930315977,0.6188473375502324,0.4916005888612115,0.6146715866697926,0.5546353801484428,0.5684064249452138,0.0951941123774549,0.4242023212490287,0.06859512261523015,0.09289897063442265,0.9074365845778216,0.3067459225520147,0.9224283572496731,0.004570895424566679,0.5134372109617049,0.4124665256713773,0.8492478208487436,0.3105943647524272,0.04149723533934657,0.6312065333795266,0.8279978268475675,0.08552955308756516,0.7934900075237244,0.9667369919680897,0.32051490933747573,0.7922139535183346,0.156171955523989,0.7049638200600777,0.7222408381008839,0.07433498574178943,0.956981734287177,0.3460406064360845,0.8986584960747431,0.30230887606292667,0.003902691774123057,0.19066861016146597,0.32320932131803126,0.14465567310924898,0.18418110067455817,0.6319962753058586,0.18327812518336395,0.01478857582743276,0.8587463112023572,0.53339847400142,0.0012395435660935705,0.41562131846398254,0.39946866685098814,0.5953983624560545,0.11326372104755766,0.6396474631365162,0.051792625351164245,0.3817736035129714,0.9258435679055069,0.6973624522303614,0.6105519836935275,0.4834756583903784,0.35082033962006354,0.8709709753247215,0.3597088854353173,0.5376429428646017,0.29071152512268594,0.8348464455882136,0.38143208953290697,0.8926086725946996,0.9915752745188228,0.34365560956663865,0.8142392131229171,0.8210206751665864,0.731325990976455,0.799629229248256,0.36144400168426816,0.4217408153147575,0.4184438244130486,0.22923433148458205,0.7964519235522138,0.4756323108814404,0.6441744493040552,0.933717255505817,0.04358991279212765,0.11164552861522947,0.8049806451422987,0.14808345398439016,0.7194745396100473,0.3718804865696296,0.678612306662273,0.5044341260205412,0.7665461576827414,0.3194078351681794,0.3746423717792191,0.5134636836446392,0.17389172033698264,0.30790727944719964,0.9351493354353049,0.012528310888845207,0.2480044809662031,0.3311041041181537,0.5105302661404044,0.6671148095375152,0.8422843640869782,0.6330932191271502,0.16755772536679536,0.10038959816954951,0.5394030512217612,0.2757288529691839,0.5931430074531352,0.5888294124431469,0.20677995124889847,0.42557976397983577,0.24419603389317546,0.2516725025466866,0.6545953426800737,0.5150250067907463,0.925891003632085,0.2476602467433897,0.48809254762774135,0.09472859715334558,0.5014587672668271,0.7411430846425963,0.40605003302594955,0.6817723001499043,0.13326365021723008,0.7085657278456184,0.7641208339938955,0.2940613418187099,0.35102394869895415,0.8441042547310035,0.14421354618340654,0.5638428732501394,0.8055946366006899,0.12892145889782003,0.4116948966866204,0.45748320036048495,0.7193768200145741,0.7359493329530675,0.8289267822451208,0.8603734220074277,0.6264522086809193,0.9551591314516459,0.04883902913151128,0.1690369950758388,0.5091162774161536,0.23875915569212047,0.9912402851838791,0.41175402100535674,0.7952438757089028,0.5020636866533053,0.006952144269632088,0.14298922798857738,0.09450868234580956,0.013688045924538872,0.8337197216631766,0.2762889217282162,0.4736440966054082,0.40553547336087703,0.2874583744563397,0.24398767124884002,0.757997014697566,0.17642055187925743,0.3172811889470225,0.08192014495051614,0.7837228610146271,0.8559068151841516,0.4104201393998408,0.24068419545674435,0.8690236410503115,0.13674317396565028,0.6116926380384518,0.8339199095597843,0.1086768597681036,0.6246036209753457,0.028023180697276717,0.11067741917060847,0.17630237315067399,0.2693027830406459,0.13455515876167767,0.6488205154754837,0.6141271605542915,0.49835053538370777,0.8943926019770841,0.9305304091393106,0.8834174335996319,0.9381212303893526,0.35146356931564926,0.6689704997065743,0.17228525710863907,0.23057811993392574,0.7278097600746934,0.4297730676850916,0.9166495655818981,0.4455104944330516,0.4740641803552582,0.277283618874677,0.03901955972529725,0.5424467184869638,0.786424374237816,0.4965536545602227],\"type\":\"scatter\"},{\"name\":\"Last repetition of iterativ fit (R2=1.00)\",\"y\":[0.4914577606569236,0.6503686622419582,0.4762749077919347,0.9135075771412804,0.6357746350263584,0.7463651677806941,0.9490230116575685,0.07485168568221123,0.5441190868419089,0.7037399709608229,0.5517887602868269,0.4507378673165092,0.24045420109053128,0.6642071389124297,0.8475221825296545,0.08313238481074725,0.3291855890061026,0.8723489440539469,0.3452388056508683,0.1785231962206888,0.29278118206571857,0.1723306065574537,0.04877357619619793,0.4613006960798647,0.9078222816378323,0.25653560085707516,0.013869853774990393,0.9355156009382322,0.8793150066941016,0.11929186053802865,0.6985449116717718,0.0038115984606751363,0.17836064391288786,0.5573931475731011,0.6754485485001225,0.2298626125426907,0.968595327870434,0.24177869866795376,0.7340315349700077,0.2399663192490623,0.5841905344654481,0.5144728582780893,0.4159561397202415,0.2404631613651006,0.15715920955595264,0.4362778514805432,0.4598254909139383,0.9096154683307789,0.583955888955826,0.23400133253268296,0.5441336703295935,0.606248973976609,0.35794945270573064,0.09701720574592909,0.2425432483894434,0.25760829557850196,0.5244382997455054,0.6313311601342454,0.24672267364167466,0.33718767226040913,0.6597697238453406,0.658849754507711,0.21404106669648393,0.9688039432789886,0.05827917368498925,0.3969740192545551,0.1890841869637745,0.2177183992341708,0.2374072582485579,0.9818997330193125,0.19957958128321662,0.0031296691495583673,0.6362236099582835,0.7255103522059305,0.40531800565148246,0.893267660423128,0.463426039273225,0.24999909073670412,0.869692744637817,0.29876516022710997,0.9913103102348809,0.44999671890122284,0.6703501274837997,0.42233131993093687,0.16047836856718312,0.536067037310956,0.7309469414155417,0.3550619331188992,0.1667337274447015,0.15616949827644022,0.5201902590001669,0.08148300448765355,0.9462653460574231,0.4858020282259409,0.09971620106072765,0.26792365656142625,0.6984850188979199,0.5181980142407154,0.41937470204416905,0.10170672153316085,0.6362564482879045,0.14463533621137425,0.22339672462822413,0.361751511268136,0.42524426999301657,0.8921795290339342,0.7589578336582281,0.735483141850002,0.46628780571111206,0.3654674953727912,0.0379147978387937,0.7125113537640704,0.07040953095193603,0.07871975476008508,0.4312344434879587,0.3388992146397731,0.6250720847787907,0.009646638703504573,0.17447171794709082,0.4539274507486146,0.6879686490893276,0.8169860340452741,0.5448109207631698,0.3196302423287535,0.9330604345255071,0.6816284178670298,0.7679350798780901,0.7328002881043576,0.7365592954896274,0.43132157183469044,0.7023564021057004,0.028929239861926526,0.5391176656593967,0.08106273772141703,0.5405940547369135,0.5733773229184811,0.18372052427509444,0.9118030014743805,0.5208833651985318,0.056270944941177126,0.1269626209921344,0.1456805180601518,0.552187907707194,0.5992792195708359,0.5255200428227571,0.08898045888488448,0.08066845858355298,0.4889464569734365,0.00018059411471915698,0.04109643250074313,0.487635713827684,0.8217133015410331,0.24972152797126768,0.8993288623577343,0.6320833989248428,0.5575902478806419,0.793939242666195,0.9033193353256512,0.8947553017869696,0.4124040854782679,0.057853107424961525,0.07262926827095251,0.994704441318649,0.00979161806680362,0.6380863554581483,0.16304731899585445,0.6820623421831066,0.12423632455413791,0.02624475501864576,0.3103010363402724,0.9655506881900744,0.4392589212981436,0.660273108451007,0.07684419944158472,0.03282304071913,0.8936761531111429,0.32404209214944957,0.614019545208298,0.9735507619612775,0.9234161052770796,0.8946133055399977,0.4091564791525406,0.3259485463222561,0.7815909455010928,0.5559229855423993,0.6376370557838001,0.6799494870036968,0.6128862798747872,0.05375284667798086,0.6231280155790335,0.21753925930247842,0.2042318803615022,0.1465711539365936,0.22978073289119472,0.03934641317537846,0.20701826819467972,0.43426986575595383,0.44305049292468746,0.5653557130588619,0.15713874151166085,0.2978991553334428,0.1587129561415217,0.22981325011209575,0.3690275782239366,0.8650388263922343,0.1214494461033816,0.6307025785591929,0.836446863198123],\"type\":\"scatter\"},{\"name\":\"Grid search results (R2=0.54)\",\"y\":[0.7698639854252597,0.33191760706246143,0.5557244932236454,0.8202478064388076,0.7077605218303092,0.5039416536827028,0.8247009213176539,0.9429235617111497,0.29016509662038426,0.47580308394359294,0.07047003457137568,0.8947948914251413,0.8024042507774094,0.036946859218504935,0.7219027812280618,0.5539698564931195,0.957819254374739,0.7918329060893557,0.27823020570429857,0.6646643875203296,0.37479501609654486,0.9930644887809038,0.5594740389888724,0.029659848283261958,0.47120314952950626,0.47966994736715496,0.28805121531036615,0.2716113220667734,0.645711930681809,0.2707704917247722,0.69826334864219,0.6869213536186226,0.5866049901780498,0.4584571752980172,0.8749992751161063,0.3188035513042581,0.29612979361010394,0.1463845437021094,0.6984569288706542,0.5495308106508136,0.05524862509087969,0.4999174204858733,0.9453443456319064,0.06117132963519889,0.07636601836033885,0.7872803247058088,0.24466027718377625,0.07432175939992769,0.7777204684587627,0.55893759722736,0.8611539834516383,0.26660795053801334,0.5388380824924416,0.7229483323290004,0.43297063633525645,0.383658550521605,0.810857028303656,0.15850716687335653,0.3014325528423294,0.582329708521214,0.30165765607209527,0.6437160983344582,0.004882940638989863,0.7122978574804465,0.0772352994236255,0.3395076981757168,0.25365634245805635,0.231292226009565,0.6961607552960918,0.7557379799627427,0.9959101699616302,0.16987855240926641,0.01438443138489498,0.5731945017622541,0.15702738035275,0.399594813701177,0.719827742782941,0.7730478158818461,0.4130438124404422,0.44220291487412355,0.7202914663804679,0.33922181890269587,0.12022563854399682,0.8315081832463548,0.6540038492782569,0.37717167411618,0.07923055153177405,0.8464123286574661,0.8882727486406299,0.11342241652510576,0.07168499578786203,0.38331575636576587,0.7807175516944493,0.9846531082251833,0.08942507981333903,0.9167811052387,0.415506523572878,0.20354109838072432,0.2289302551882767,0.5592732080703466,0.1605006998275561,0.7308923776853787,0.5756264134838677,0.9866276472056207,0.31676424552054405,0.5223129061456228,0.6685895965423023,0.4785377748009424,0.8696771053986717,0.666997044588293,0.9634583841895236,0.6145832818313289,0.48707351714066827,0.549512512405624,0.1613248006843394,0.26253572043172,0.19726738355587792,0.8504660433886108,0.6245825629618557,0.9456326052939216,0.2958921103240094,0.48984734244509387,0.09577637892083846,0.5923797557140799,0.7652600090530147,0.08249121058422093,0.6217372898283486,0.41092202803119016,0.19190791482455927,0.17698170920049283,0.18537437163936699,0.23399748263885223,0.5825230602845889,0.8942648212386544,0.2519899412564188,0.2554412667771333,0.02987682618635079,0.5893655607282267,0.29750596461014034,0.7597608112461303,0.2383382583999727,0.988423778794636,0.4951324898409083,0.018833951928084902,0.514893175859651,0.3191713533719178,0.8616968976604529,0.4951018001782719,0.478211037763027,0.7791278148569186,0.026327639177834317,0.07689079875422034,0.2180715073134072,0.40648592857478627,0.28766812169728684,0.016054086172338167,0.05327671889647734,0.5431115728430438,0.14710623957926083,0.788996144485298,0.5318622375046576,0.5194285537644378,0.2898980720299231,0.5042828437473424,0.10617386753032054,0.799914912360498,0.4152387191698673,0.165894926846735,0.3700817617524238,0.7005286230231291,0.27145274875375236,0.732770563237745,0.5603049208998365,0.9214751845367304,0.12079013565203978,0.10530114002545854,0.1603153590695766,0.9324518203510471,0.08993285264546935,0.3030155003454805,0.03929529164785095,0.417999825640862,0.746118985496424,0.46364267119327973,0.09442169445053528,0.7184546259400316,0.28773680192910855,0.6623462989896607,0.7773010919128037,0.777556064465612,0.530555416015281,0.5860281197391601,0.518715741931693,0.17637720581318772,0.8262238363081856,0.079057192594851,0.37176471003525036,0.8375653824053182,0.6038636413447213,0.5739057044094678,0.004403292566592221,0.3581973696562436,0.8699516165573943,0.8559911328083837,0.7973547609019401,0.09263041989947796,0.9417203057076531,0.9084886557859836],\"type\":\"scatter\"},{\"name\":\"Iterativ fit without bounds (R2=0.29)\",\"y\":[0.11680475943056878,0.2679034153965285,0.4123082685674956,0.919884828876312,0.42434119350243826,0.439362550008627,0.5488939886215715,0.7922793157272222,0.5377118060327662,0.1092510009944273,0.8829934029274503,0.4268315063814593,0.18652890697661184,0.6621440487769678,0.756732851776354,0.23005777819199602,0.013961559552281622,0.9150962860701544,0.9351701941139632,0.777835116952509,0.6742661471747514,0.8385824757508284,0.07531802696316581,0.599173472823893,0.9342536241386911,0.868221089993497,0.19327638547767223,0.8683470280047797,0.7626745007202258,0.3268518363626334,0.0020370104756897156,0.806224060713392,0.564102095357427,0.40015871062853736,0.378161766896027,0.5751394108569974,0.29589713843134324,0.49107516191416556,0.5544393858950943,0.9675580890613396,0.7324537970763519,0.9921783444632079,0.2508024023042428,0.6042604762653647,0.06499660000592467,0.18746684024210836,0.884468369191469,0.3682797970983829,0.6688280058323786,0.1072481380248761,0.34875262315533817,0.10077087621173964,0.20802402441910484,0.4665802121713246,0.6557731941851244,0.8717540529999399,0.5593637208547372,0.8896604164474939,0.5178494915431954,0.08006608547447946,0.09926897322650297,0.13540401486324094,0.0829575704977994,0.43248870417772334,0.1607349645270616,0.08581171997965431,0.8620441000386856,0.9448427106511222,0.16167885608642463,0.4425758251992795,0.7895698976305154,0.2742607393822415,0.08736744495487314,0.34532736458563984,0.43050985068574354,0.12552072769952527,0.7287420329450022,0.035110847466867656,0.4160660539406329,0.9796236413750102,0.0571446907661366,0.05758180742621832,0.33568204008259417,0.7071413981598154,0.1469506828881868,0.3539313864130774,0.5756511923105433,0.03473535105853742,0.618731105463365,0.03527676392517254,0.9758161913043448,0.4067076987159399,0.6751759580128657,0.591386839957073,0.4983658475140277,0.4571626884071609,0.8900625438327378,0.2829052856990847,0.1433919753755507,0.6691799633522906,0.3003401538016226,0.8926902796342048,0.28021831408984155,0.5555931120534053,0.22563120176968132,0.09437353218444755,0.516279676919874,0.6743070657358711,0.8096989847351608,0.22863809587621786,0.32975734960368197,0.06873748630874155,0.5226010589902887,0.6451168430850373,0.8037501590198167,0.03887879931051719,0.9575420782357515,0.6405979776461982,0.32888039985294215,0.15119755188763284,0.972598470123279,0.9467191938521216,0.6544839592006606,0.8625079753790611,0.16887524907960827,0.7468380892105516,0.8372026149112073,0.7657297023906418,0.8907175980402682,0.14594734507840057,0.7038558906878535,0.49693202650174817,0.055536194606045086,0.29383859984629634,0.40809831426332766,0.2152395314076404,0.10200553594596873,0.6568143132611386,0.8870500367041025,0.013689869907821395,0.5956135077848091,0.6858966789109835,0.09061881345469402,0.3131433844670142,0.04101889774215972,0.5961343874154078,0.13374901469608902,0.7533370635068025,0.4564521349609113,0.6410400662762166,0.9679055194738345,0.4105196095640562,0.7141553498890277,0.20489741272644002,0.8439339935665852,0.7617745805543896,0.8814724064397957,0.3180076069089792,0.9424369653372917,0.7611796658945984,0.21110934292037786,0.9972778503881522,0.02817544259821103,0.16909339845708649,0.32959544555210507,0.9556443130311967,0.9504007497036888,0.1873370098292062,0.3754853905393353,0.7270396244935672,0.7370726129847069,0.35207472466341616,0.49370068954985735,0.5830253775855218,0.5845265782542459,0.9394062509804895,0.7071473268175712,0.8935587751078329,0.5127219130296219,0.859832281168798,0.41270265917120175,0.12466649014061659,0.15910898353057135,0.5304672975981384,0.910801711192698,0.14303310024675975,0.021918865462416837,0.23846693534925045,0.4730345876914138,0.5702988889192145,0.3269282171742661,0.6487028950819409,0.4788259410185507,0.5718014023698472,0.7916522462418711,0.18061676049113562,0.887419766701385,0.9446493043913934,0.12451258912675012,0.9076704808714695,0.0035939363504009503,0.702051472102724,0.42286905571797995,0.4246142561077003,0.37551176557488253,0.9905057463455134,0.8748386971016044,0.3428922883650033],\"type\":\"scatter\"}],                        {\"template\":{\"data\":{\"barpolar\":[{\"marker\":{\"line\":{\"color\":\"white\",\"width\":0.5},\"pattern\":{\"fillmode\":\"overlay\",\"size\":10,\"solidity\":0.2}},\"type\":\"barpolar\"}],\"bar\":[{\"error_x\":{\"color\":\"rgb(36,36,36)\"},\"error_y\":{\"color\":\"rgb(36,36,36)\"},\"marker\":{\"line\":{\"color\":\"white\",\"width\":0.5},\"pattern\":{\"fillmode\":\"overlay\",\"size\":10,\"solidity\":0.2}},\"type\":\"bar\"}],\"carpet\":[{\"aaxis\":{\"endlinecolor\":\"rgb(36,36,36)\",\"gridcolor\":\"white\",\"linecolor\":\"white\",\"minorgridcolor\":\"white\",\"startlinecolor\":\"rgb(36,36,36)\"},\"baxis\":{\"endlinecolor\":\"rgb(36,36,36)\",\"gridcolor\":\"white\",\"linecolor\":\"white\",\"minorgridcolor\":\"white\",\"startlinecolor\":\"rgb(36,36,36)\"},\"type\":\"carpet\"}],\"choropleth\":[{\"colorbar\":{\"outlinewidth\":1,\"tickcolor\":\"rgb(36,36,36)\",\"ticks\":\"outside\"},\"type\":\"choropleth\"}],\"contourcarpet\":[{\"colorbar\":{\"outlinewidth\":1,\"tickcolor\":\"rgb(36,36,36)\",\"ticks\":\"outside\"},\"type\":\"contourcarpet\"}],\"contour\":[{\"colorbar\":{\"outlinewidth\":1,\"tickcolor\":\"rgb(36,36,36)\",\"ticks\":\"outside\"},\"colorscale\":[[0.0,\"#440154\"],[0.1111111111111111,\"#482878\"],[0.2222222222222222,\"#3e4989\"],[0.3333333333333333,\"#31688e\"],[0.4444444444444444,\"#26828e\"],[0.5555555555555556,\"#1f9e89\"],[0.6666666666666666,\"#35b779\"],[0.7777777777777778,\"#6ece58\"],[0.8888888888888888,\"#b5de2b\"],[1.0,\"#fde725\"]],\"type\":\"contour\"}],\"heatmapgl\":[{\"colorbar\":{\"outlinewidth\":1,\"tickcolor\":\"rgb(36,36,36)\",\"ticks\":\"outside\"},\"colorscale\":[[0.0,\"#440154\"],[0.1111111111111111,\"#482878\"],[0.2222222222222222,\"#3e4989\"],[0.3333333333333333,\"#31688e\"],[0.4444444444444444,\"#26828e\"],[0.5555555555555556,\"#1f9e89\"],[0.6666666666666666,\"#35b779\"],[0.7777777777777778,\"#6ece58\"],[0.8888888888888888,\"#b5de2b\"],[1.0,\"#fde725\"]],\"type\":\"heatmapgl\"}],\"heatmap\":[{\"colorbar\":{\"outlinewidth\":1,\"tickcolor\":\"rgb(36,36,36)\",\"ticks\":\"outside\"},\"colorscale\":[[0.0,\"#440154\"],[0.1111111111111111,\"#482878\"],[0.2222222222222222,\"#3e4989\"],[0.3333333333333333,\"#31688e\"],[0.4444444444444444,\"#26828e\"],[0.5555555555555556,\"#1f9e89\"],[0.6666666666666666,\"#35b779\"],[0.7777777777777778,\"#6ece58\"],[0.8888888888888888,\"#b5de2b\"],[1.0,\"#fde725\"]],\"type\":\"heatmap\"}],\"histogram2dcontour\":[{\"colorbar\":{\"outlinewidth\":1,\"tickcolor\":\"rgb(36,36,36)\",\"ticks\":\"outside\"},\"colorscale\":[[0.0,\"#440154\"],[0.1111111111111111,\"#482878\"],[0.2222222222222222,\"#3e4989\"],[0.3333333333333333,\"#31688e\"],[0.4444444444444444,\"#26828e\"],[0.5555555555555556,\"#1f9e89\"],[0.6666666666666666,\"#35b779\"],[0.7777777777777778,\"#6ece58\"],[0.8888888888888888,\"#b5de2b\"],[1.0,\"#fde725\"]],\"type\":\"histogram2dcontour\"}],\"histogram2d\":[{\"colorbar\":{\"outlinewidth\":1,\"tickcolor\":\"rgb(36,36,36)\",\"ticks\":\"outside\"},\"colorscale\":[[0.0,\"#440154\"],[0.1111111111111111,\"#482878\"],[0.2222222222222222,\"#3e4989\"],[0.3333333333333333,\"#31688e\"],[0.4444444444444444,\"#26828e\"],[0.5555555555555556,\"#1f9e89\"],[0.6666666666666666,\"#35b779\"],[0.7777777777777778,\"#6ece58\"],[0.8888888888888888,\"#b5de2b\"],[1.0,\"#fde725\"]],\"type\":\"histogram2d\"}],\"histogram\":[{\"marker\":{\"line\":{\"color\":\"white\",\"width\":0.6}},\"type\":\"histogram\"}],\"mesh3d\":[{\"colorbar\":{\"outlinewidth\":1,\"tickcolor\":\"rgb(36,36,36)\",\"ticks\":\"outside\"},\"type\":\"mesh3d\"}],\"parcoords\":[{\"line\":{\"colorbar\":{\"outlinewidth\":1,\"tickcolor\":\"rgb(36,36,36)\",\"ticks\":\"outside\"}},\"type\":\"parcoords\"}],\"pie\":[{\"automargin\":true,\"type\":\"pie\"}],\"scatter3d\":[{\"line\":{\"colorbar\":{\"outlinewidth\":1,\"tickcolor\":\"rgb(36,36,36)\",\"ticks\":\"outside\"}},\"marker\":{\"colorbar\":{\"outlinewidth\":1,\"tickcolor\":\"rgb(36,36,36)\",\"ticks\":\"outside\"}},\"type\":\"scatter3d\"}],\"scattercarpet\":[{\"marker\":{\"colorbar\":{\"outlinewidth\":1,\"tickcolor\":\"rgb(36,36,36)\",\"ticks\":\"outside\"}},\"type\":\"scattercarpet\"}],\"scattergeo\":[{\"marker\":{\"colorbar\":{\"outlinewidth\":1,\"tickcolor\":\"rgb(36,36,36)\",\"ticks\":\"outside\"}},\"type\":\"scattergeo\"}],\"scattergl\":[{\"marker\":{\"colorbar\":{\"outlinewidth\":1,\"tickcolor\":\"rgb(36,36,36)\",\"ticks\":\"outside\"}},\"type\":\"scattergl\"}],\"scattermapbox\":[{\"marker\":{\"colorbar\":{\"outlinewidth\":1,\"tickcolor\":\"rgb(36,36,36)\",\"ticks\":\"outside\"}},\"type\":\"scattermapbox\"}],\"scatterpolargl\":[{\"marker\":{\"colorbar\":{\"outlinewidth\":1,\"tickcolor\":\"rgb(36,36,36)\",\"ticks\":\"outside\"}},\"type\":\"scatterpolargl\"}],\"scatterpolar\":[{\"marker\":{\"colorbar\":{\"outlinewidth\":1,\"tickcolor\":\"rgb(36,36,36)\",\"ticks\":\"outside\"}},\"type\":\"scatterpolar\"}],\"scatter\":[{\"fillpattern\":{\"fillmode\":\"overlay\",\"size\":10,\"solidity\":0.2},\"type\":\"scatter\"}],\"scatterternary\":[{\"marker\":{\"colorbar\":{\"outlinewidth\":1,\"tickcolor\":\"rgb(36,36,36)\",\"ticks\":\"outside\"}},\"type\":\"scatterternary\"}],\"surface\":[{\"colorbar\":{\"outlinewidth\":1,\"tickcolor\":\"rgb(36,36,36)\",\"ticks\":\"outside\"},\"colorscale\":[[0.0,\"#440154\"],[0.1111111111111111,\"#482878\"],[0.2222222222222222,\"#3e4989\"],[0.3333333333333333,\"#31688e\"],[0.4444444444444444,\"#26828e\"],[0.5555555555555556,\"#1f9e89\"],[0.6666666666666666,\"#35b779\"],[0.7777777777777778,\"#6ece58\"],[0.8888888888888888,\"#b5de2b\"],[1.0,\"#fde725\"]],\"type\":\"surface\"}],\"table\":[{\"cells\":{\"fill\":{\"color\":\"rgb(237,237,237)\"},\"line\":{\"color\":\"white\"}},\"header\":{\"fill\":{\"color\":\"rgb(217,217,217)\"},\"line\":{\"color\":\"white\"}},\"type\":\"table\"}]},\"layout\":{\"annotationdefaults\":{\"arrowhead\":0,\"arrowwidth\":1},\"autotypenumbers\":\"strict\",\"coloraxis\":{\"colorbar\":{\"outlinewidth\":1,\"tickcolor\":\"rgb(36,36,36)\",\"ticks\":\"outside\"}},\"colorscale\":{\"diverging\":[[0.0,\"rgb(103,0,31)\"],[0.1,\"rgb(178,24,43)\"],[0.2,\"rgb(214,96,77)\"],[0.3,\"rgb(244,165,130)\"],[0.4,\"rgb(253,219,199)\"],[0.5,\"rgb(247,247,247)\"],[0.6,\"rgb(209,229,240)\"],[0.7,\"rgb(146,197,222)\"],[0.8,\"rgb(67,147,195)\"],[0.9,\"rgb(33,102,172)\"],[1.0,\"rgb(5,48,97)\"]],\"sequential\":[[0.0,\"#440154\"],[0.1111111111111111,\"#482878\"],[0.2222222222222222,\"#3e4989\"],[0.3333333333333333,\"#31688e\"],[0.4444444444444444,\"#26828e\"],[0.5555555555555556,\"#1f9e89\"],[0.6666666666666666,\"#35b779\"],[0.7777777777777778,\"#6ece58\"],[0.8888888888888888,\"#b5de2b\"],[1.0,\"#fde725\"]],\"sequentialminus\":[[0.0,\"#440154\"],[0.1111111111111111,\"#482878\"],[0.2222222222222222,\"#3e4989\"],[0.3333333333333333,\"#31688e\"],[0.4444444444444444,\"#26828e\"],[0.5555555555555556,\"#1f9e89\"],[0.6666666666666666,\"#35b779\"],[0.7777777777777778,\"#6ece58\"],[0.8888888888888888,\"#b5de2b\"],[1.0,\"#fde725\"]]},\"colorway\":[\"#1F77B4\",\"#FF7F0E\",\"#2CA02C\",\"#D62728\",\"#9467BD\",\"#8C564B\",\"#E377C2\",\"#7F7F7F\",\"#BCBD22\",\"#17BECF\"],\"font\":{\"color\":\"rgb(36,36,36)\"},\"geo\":{\"bgcolor\":\"white\",\"lakecolor\":\"white\",\"landcolor\":\"white\",\"showlakes\":true,\"showland\":true,\"subunitcolor\":\"white\"},\"hoverlabel\":{\"align\":\"left\"},\"hovermode\":\"closest\",\"mapbox\":{\"style\":\"light\"},\"paper_bgcolor\":\"white\",\"plot_bgcolor\":\"white\",\"polar\":{\"angularaxis\":{\"gridcolor\":\"rgb(232,232,232)\",\"linecolor\":\"rgb(36,36,36)\",\"showgrid\":false,\"showline\":true,\"ticks\":\"outside\"},\"bgcolor\":\"white\",\"radialaxis\":{\"gridcolor\":\"rgb(232,232,232)\",\"linecolor\":\"rgb(36,36,36)\",\"showgrid\":false,\"showline\":true,\"ticks\":\"outside\"}},\"scene\":{\"xaxis\":{\"backgroundcolor\":\"white\",\"gridcolor\":\"rgb(232,232,232)\",\"gridwidth\":2,\"linecolor\":\"rgb(36,36,36)\",\"showbackground\":true,\"showgrid\":false,\"showline\":true,\"ticks\":\"outside\",\"zeroline\":false,\"zerolinecolor\":\"rgb(36,36,36)\"},\"yaxis\":{\"backgroundcolor\":\"white\",\"gridcolor\":\"rgb(232,232,232)\",\"gridwidth\":2,\"linecolor\":\"rgb(36,36,36)\",\"showbackground\":true,\"showgrid\":false,\"showline\":true,\"ticks\":\"outside\",\"zeroline\":false,\"zerolinecolor\":\"rgb(36,36,36)\"},\"zaxis\":{\"backgroundcolor\":\"white\",\"gridcolor\":\"rgb(232,232,232)\",\"gridwidth\":2,\"linecolor\":\"rgb(36,36,36)\",\"showbackground\":true,\"showgrid\":false,\"showline\":true,\"ticks\":\"outside\",\"zeroline\":false,\"zerolinecolor\":\"rgb(36,36,36)\"}},\"shapedefaults\":{\"fillcolor\":\"black\",\"line\":{\"width\":0},\"opacity\":0.3},\"ternary\":{\"aaxis\":{\"gridcolor\":\"rgb(232,232,232)\",\"linecolor\":\"rgb(36,36,36)\",\"showgrid\":false,\"showline\":true,\"ticks\":\"outside\"},\"baxis\":{\"gridcolor\":\"rgb(232,232,232)\",\"linecolor\":\"rgb(36,36,36)\",\"showgrid\":false,\"showline\":true,\"ticks\":\"outside\"},\"bgcolor\":\"white\",\"caxis\":{\"gridcolor\":\"rgb(232,232,232)\",\"linecolor\":\"rgb(36,36,36)\",\"showgrid\":false,\"showline\":true,\"ticks\":\"outside\"}},\"title\":{\"x\":0.05},\"xaxis\":{\"automargin\":true,\"gridcolor\":\"rgb(232,232,232)\",\"linecolor\":\"rgb(36,36,36)\",\"showgrid\":false,\"showline\":true,\"ticks\":\"outside\",\"title\":{\"standoff\":15},\"zeroline\":false,\"zerolinecolor\":\"rgb(36,36,36)\"},\"yaxis\":{\"automargin\":true,\"gridcolor\":\"rgb(232,232,232)\",\"linecolor\":\"rgb(36,36,36)\",\"showgrid\":false,\"showline\":true,\"ticks\":\"outside\",\"title\":{\"standoff\":15},\"zeroline\":false,\"zerolinecolor\":\"rgb(36,36,36)\"}}},\"title\":{\"text\":\"Evolution of the durations of the iterativ fit over the repetitions\"},\"xaxis\":{\"title\":{\"text\":\"Number of repetition\"}},\"yaxis\":{\"title\":{\"text\":\"Duration (s)\"}}},                        {\"responsive\": true}                    ).then(function(){\n",
       "                            \n",
       "var gd = document.getElementById('1e85e8a9-7f41-48e9-95a7-ec0a4033e6cc');\n",
       "var x = new MutationObserver(function (mutations, observer) {{\n",
       "        var display = window.getComputedStyle(gd).display;\n",
       "        if (!display || display === 'none') {{\n",
       "            console.log([gd, 'removed!']);\n",
       "            Plotly.purge(gd);\n",
       "            observer.disconnect();\n",
       "        }}\n",
       "}});\n",
       "\n",
       "// Listen for the removal of the full notebook cells\n",
       "var notebookContainer = gd.closest('#notebook-container');\n",
       "if (notebookContainer) {{\n",
       "    x.observe(notebookContainer, {childList: true});\n",
       "}}\n",
       "\n",
       "// Listen for the clearing of the current output cell\n",
       "var outputEl = gd.closest('.output');\n",
       "if (outputEl) {{\n",
       "    x.observe(outputEl, {childList: true});\n",
       "}}\n",
       "\n",
       "                        })                };                });            </script>        </div>"
      ]
     },
     "metadata": {},
     "output_type": "display_data"
    }
   ],
   "source": [
    "max_r2 = np.argmax(gauss_fit_mat_repeat[:,-1,n_repeat])\n",
    "num_vert = max_r2\n",
    "\n",
    "\n",
    "fig4 = go.Figure()\n",
    "# plot data time series\n",
    "fig4.add_trace(go.Scatter(y=data_fsnative[:,num_vert],\n",
    "                         name='data', \n",
    "                         mode='markers'))\n",
    "\n",
    "# plot last iterativ repeat prediction\n",
    "fig4.add_trace(go.Scatter(y=gauss_pred_mat_repeat[:,num_vert,n_repeat],\n",
    "                         name='Last repetition of iterativ fit (R2={:1.2f})'.format(gauss_fit_mat_repeat[num_vert,-1,n_repeat])))\n",
    "\n",
    "\n",
    "# plot grid prediction\n",
    "fig4.add_trace(go.Scatter(y=gauss_pred_mat_repeat[:,num_vert,grid_place],\n",
    "                         name='Grid search results (R2={:1.2f})'.format(gauss_fit_mat_repeat[num_vert,-1,grid_place])))\n",
    "\n",
    "# plot Iterativ no bounds prediction\n",
    "fig4.add_trace(go.Scatter(y=gauss_pred_mat_repeat[:,num_vert,no_bd],\n",
    "                         name='Iterativ fit without bounds (R2={:1.2f})'.format(gauss_fit_mat_repeat[num_vert,-1,no_bd])))\n",
    "\n",
    "\n",
    "\n",
    "\n",
    "fig4.update_layout(template='simple_white',\n",
    "                  title = 'Evolution of the durations of the iterativ fit over the repetitions',\n",
    "                  xaxis_title = 'Number of repetition',\n",
    "                  yaxis_title = 'Duration (s)')\n",
    "\n",
    "\n",
    "fig4.show()"
   ]
  },
  {
   "cell_type": "markdown",
   "id": "f66a5f24-1529-4f08-8d13-53ebf80c30e4",
   "metadata": {
    "jp-MarkdownHeadingCollapsed": true,
    "tags": []
   },
   "source": [
    "# Brouillon "
   ]
  },
  {
   "cell_type": "code",
   "execution_count": null,
   "id": "be7f7b4c-5b0f-4d7c-9499-1c74512c1465",
   "metadata": {},
   "outputs": [],
   "source": [
    "fig2.add_annotation(\n",
    "    x=10,  # Modifier la position x selon votre graphique\n",
    "    y=0.5,  # Modifier la position y selon votre graphique\n",
    "    xref=\"x\",\n",
    "    yref=\"y\",\n",
    "    text=\"Solid line: grid<br>Dashed line: without bounds\",\n",
    "    showarrow=False,\n",
    "    font=dict(\n",
    "        size=12,\n",
    "        color=\"black\"\n",
    "    )\n",
    ")"
   ]
  }
 ],
 "metadata": {
  "kernelspec": {
   "display_name": "amblyo_env",
   "language": "python",
   "name": "amblyo_env"
  },
  "language_info": {
   "codemirror_mode": {
    "name": "ipython",
    "version": 3
   },
   "file_extension": ".py",
   "mimetype": "text/x-python",
   "name": "python",
   "nbconvert_exporter": "python",
   "pygments_lexer": "ipython3",
   "version": "3.9.13"
  }
 },
 "nbformat": 4,
 "nbformat_minor": 5
}
