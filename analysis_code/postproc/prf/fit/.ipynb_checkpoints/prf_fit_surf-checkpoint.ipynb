{
 "cells": [
  {
   "cell_type": "code",
   "execution_count": 7,
   "id": "9789253f-ca28-4a38-85f9-513dfad08087",
   "metadata": {},
   "outputs": [],
   "source": [
    "import sys, os\n",
    "import numpy as np\n",
    "import glob\n",
    "import datetime\n",
    "import json\n",
    "import ipdb\n",
    "deb = ipdb.set_trace\n",
    "\n",
    "# MRI analysis imports\n",
    "from prfpy.stimulus import PRFStimulus2D\n",
    "from prfpy.model import Iso2DGaussianModel, Norm_Iso2DGaussianModel\n",
    "from prfpy.fit import Iso2DGaussianFitter, Norm_Iso2DGaussianFitter\n",
    "import nibabel as nb\n",
    "\n",
    "sys.path.append(\"{}/../../../utils\".format(os.getcwd()))\n",
    "from surface_utils import make_surface_image , load_surface\n"
   ]
  },
  {
   "cell_type": "code",
   "execution_count": 30,
   "id": "ec4966d1",
   "metadata": {},
   "outputs": [],
   "source": [
    "subject = 'sub-02'\n",
    "# dir_data = '/home/mszinte/disks/meso_S/data/RetinoMaps'\n",
    "# dir_code = '/home/mszinte/disks/meso_H/projects/RetinoMaps'\n",
    "\n",
    "dir_data = '/Users/uriel/disks/meso_shared/RetinoMaps'\n",
    "dir_code = '/Users/uriel/disks/meso_H/projects/RetinoMaps'\n",
    "\n",
    "input_vd = '{}/derivatives/vdm/vdm.npy'.format(dir_data)\n",
    "input_fn_fsnative = '{}/derivatives/pp_data/{}/func/fmriprep_dct_avg/fsnative/{}_task-pRF_hemi-L_fmriprep_dct_avg_bold.func.gii'.format(\n",
    "    dir_data, subject, subject)\n",
    "\n",
    "# Analysis parameters\n",
    "with open('{}/analysis_code/settings.json'.format(dir_code)) as f:\n",
    "    json_s = f.read()\n",
    "    analysis_info = json.loads(json_s)\n",
    "screen_size_cm = analysis_info['screen_size_cm']\n",
    "screen_distance_cm = analysis_info['screen_distance_cm']\n",
    "TR = analysis_info['TR']\n",
    "gauss_grid_nr = analysis_info['gauss_grid_nr']\n",
    "dn_grid_nr = analysis_info['dn_grid_nr']\n",
    "max_ecc_size = analysis_info['max_ecc_size']\n",
    "n_jobs = 32\n",
    "n_batches = 32\n",
    "xtol = 1e-4\n",
    "ftol = 1e-4\n",
    "rsq_threshold = 0.01\n",
    "verbose = False"
   ]
  },
  {
   "cell_type": "code",
   "execution_count": 90,
   "id": "c1c5ea77-ddb7-4082-b86d-386c16d70086",
   "metadata": {},
   "outputs": [],
   "source": [
    "# defind pRF parameter range\n",
    "sizes = max_ecc_size * np.linspace(0.1,1,gauss_grid_nr)**2\n",
    "eccs = max_ecc_size * np.linspace(0.25,1,gauss_grid_nr)**2\n",
    "polars = np.linspace(0, 2*np.pi, gauss_grid_nr)\n",
    "\n",
    "# defind dn parameters\n",
    "fixed_grid_baseline = 0\n",
    "\n",
    "gauss_grid_bounds = [(0,1000)] #only prf amplitudes between 0 and 1000\n",
    "dn_grid_bounds = [(0,1000),(0,1000)] #only prf amplitudes between 0 and 1000, only neural baseline values between 0 and 1000\n",
    "\n",
    "surround_size_grid = max_ecc_size * np.linspace(0.1, 1, dn_grid_nr)**2\n",
    "surround_amplitude_grid = np.linspace(0, 10, dn_grid_nr)\n",
    "surround_baseline_grid = np.linspace(0, 10, dn_grid_nr)\n",
    "neural_baseline_grid = np.linspace(0, 10, dn_grid_nr)\n",
    "\n",
    "\n",
    "\n",
    "\n",
    "\n",
    "gauss_bounds = [(-1.5*max_ecc_size, 1.5*max_ecc_size),  # x\n",
    "                (-1.5*max_ecc_size, 1.5*max_ecc_size),  # y\n",
    "                (0.01, 1.5*max_ecc_size),# prf size\n",
    "                (0, 1000),  # prf amplitude\n",
    "                (0, 1000),# bold baseline\n",
    "                (0,9),(0,0)]  #hrf bounds\n",
    "\n",
    "\n",
    "norm_bounds = [(-1.5*max_ecc_size, 1.5*max_ecc_size),  # x\n",
    "                (-1.5*max_ecc_size, 1.5*max_ecc_size),  # y\n",
    "                (0.01, 1.5*max_ecc_size),  # prf size\n",
    "                (0, 1000),  # prf amplitude\n",
    "                (0, 1000),  # bold baseline\n",
    "                (0, 1000),  # surround amplitude\n",
    "                (0.1, 3*max_ecc_size),  # surround size\n",
    "                (0, 1000),  # neural baseline\n",
    "                (1e-6, 1000),# surround baseline\n",
    "                (0,10),(0,0)]  #hrf bounds\n"
   ]
  },
  {
   "cell_type": "code",
   "execution_count": 14,
   "id": "0e4ed94e-fee2-4986-a0d6-d1cc9441786d",
   "metadata": {},
   "outputs": [],
   "source": [
    "vdm = np.load(input_vd)\n",
    "# Load fsnative data \n",
    "data_img_fsnative, data_fsnative = load_surface(input_fn_fsnative)\n"
   ]
  },
  {
   "cell_type": "code",
   "execution_count": 17,
   "id": "b3180f1b-61e0-432c-bf95-0fa794897324",
   "metadata": {},
   "outputs": [],
   "source": [
    "# Create subsample of data\n",
    "data = data_fsnative[:,0:10]\n",
    "#data_fsnative_ = data_fsnative[:,0:80000]"
   ]
  },
  {
   "cell_type": "code",
   "execution_count": 6,
   "id": "b9504828-1765-4ad2-8b5a-4985e8616291",
   "metadata": {},
   "outputs": [
    {
     "data": {
      "text/plain": [
       "0.0067742416236502324"
      ]
     },
     "execution_count": 6,
     "metadata": {},
     "output_type": "execute_result"
    }
   ],
   "source": [
    "# compute how much data is pick from the full amount\n",
    "data_fsnative_.shape[1]/data_fsnative.shape[1]"
   ]
  },
  {
   "cell_type": "code",
   "execution_count": 14,
   "id": "8bfcc0ac-a071-4e85-b996-294182585eed",
   "metadata": {},
   "outputs": [],
   "source": [
    "# # Check and plot the variance of the vertices\n",
    "# data_var = np.var(data_fsnative_,axis=0)\n",
    "\n",
    "# import plotly.figure_factory as ff\n",
    "# import numpy as np\n",
    "\n",
    "# x = data_var\n",
    "# hist_data = [x]\n",
    "# group_labels = ['variance'] # name of the dataset\n",
    "\n",
    "# fig = ff.create_distplot(hist_data, group_labels,bin_size=.1)\n",
    "# fig.show()"
   ]
  },
  {
   "cell_type": "code",
   "execution_count": 31,
   "id": "dff40c24-f4fb-48e8-bcac-fb8ce64cd68f",
   "metadata": {},
   "outputs": [
    {
     "name": "stderr",
     "output_type": "stream",
     "text": [
      "/Users/uriel/softwares/anaconda3/envs/amblyo_env/prfpy/prfpy/fit.py:441: RuntimeWarning: divide by zero encountered in divide\n",
      "  slopes = (n_timepoints * np.dot(vox_data, predictions.T) - sumd *\n",
      "/Users/uriel/softwares/anaconda3/envs/amblyo_env/prfpy/prfpy/fit.py:441: RuntimeWarning: invalid value encountered in divide\n",
      "  slopes = (n_timepoints * np.dot(vox_data, predictions.T) - sumd *\n",
      "/Users/uriel/softwares/anaconda3/envs/amblyo_env/prfpy/prfpy/fit.py:450: RuntimeWarning: invalid value encountered in multiply\n",
      "  slopes[..., np.newaxis] *\n",
      "/Users/uriel/softwares/anaconda3/envs/amblyo_env/prfpy/prfpy/fit.py:449: RuntimeWarning: invalid value encountered in subtract\n",
      "  resid = np.linalg.norm((vox_data -\n",
      "/Users/uriel/softwares/anaconda3/envs/amblyo_env/prfpy/prfpy/fit.py:441: RuntimeWarning: divide by zero encountered in divide\n",
      "  slopes = (n_timepoints * np.dot(vox_data, predictions.T) - sumd *\n",
      "/Users/uriel/softwares/anaconda3/envs/amblyo_env/prfpy/prfpy/fit.py:441: RuntimeWarning: invalid value encountered in divide\n",
      "  slopes = (n_timepoints * np.dot(vox_data, predictions.T) - sumd *\n",
      "/Users/uriel/softwares/anaconda3/envs/amblyo_env/prfpy/prfpy/fit.py:450: RuntimeWarning: invalid value encountered in multiply\n",
      "  slopes[..., np.newaxis] *\n",
      "/Users/uriel/softwares/anaconda3/envs/amblyo_env/prfpy/prfpy/fit.py:449: RuntimeWarning: invalid value encountered in subtract\n",
      "  resid = np.linalg.norm((vox_data -\n",
      "/Users/uriel/softwares/anaconda3/envs/amblyo_env/prfpy/prfpy/fit.py:441: RuntimeWarning: divide by zero encountered in divide\n",
      "  slopes = (n_timepoints * np.dot(vox_data, predictions.T) - sumd *\n",
      "/Users/uriel/softwares/anaconda3/envs/amblyo_env/prfpy/prfpy/fit.py:441: RuntimeWarning: invalid value encountered in divide\n",
      "  slopes = (n_timepoints * np.dot(vox_data, predictions.T) - sumd *\n",
      "/Users/uriel/softwares/anaconda3/envs/amblyo_env/prfpy/prfpy/fit.py:450: RuntimeWarning: invalid value encountered in multiply\n",
      "  slopes[..., np.newaxis] *\n",
      "/Users/uriel/softwares/anaconda3/envs/amblyo_env/prfpy/prfpy/fit.py:449: RuntimeWarning: invalid value encountered in subtract\n",
      "  resid = np.linalg.norm((vox_data -\n",
      "/Users/uriel/softwares/anaconda3/envs/amblyo_env/prfpy/prfpy/fit.py:441: RuntimeWarning: divide by zero encountered in divide\n",
      "  slopes = (n_timepoints * np.dot(vox_data, predictions.T) - sumd *\n",
      "/Users/uriel/softwares/anaconda3/envs/amblyo_env/prfpy/prfpy/fit.py:441: RuntimeWarning: invalid value encountered in divide\n",
      "  slopes = (n_timepoints * np.dot(vox_data, predictions.T) - sumd *\n",
      "/Users/uriel/softwares/anaconda3/envs/amblyo_env/prfpy/prfpy/fit.py:450: RuntimeWarning: invalid value encountered in multiply\n",
      "  slopes[..., np.newaxis] *\n",
      "/Users/uriel/softwares/anaconda3/envs/amblyo_env/prfpy/prfpy/fit.py:449: RuntimeWarning: invalid value encountered in subtract\n",
      "  resid = np.linalg.norm((vox_data -\n",
      "/Users/uriel/softwares/anaconda3/envs/amblyo_env/prfpy/prfpy/fit.py:441: RuntimeWarning: divide by zero encountered in divide\n",
      "  slopes = (n_timepoints * np.dot(vox_data, predictions.T) - sumd *\n",
      "/Users/uriel/softwares/anaconda3/envs/amblyo_env/prfpy/prfpy/fit.py:441: RuntimeWarning: invalid value encountered in divide\n",
      "  slopes = (n_timepoints * np.dot(vox_data, predictions.T) - sumd *\n",
      "/Users/uriel/softwares/anaconda3/envs/amblyo_env/prfpy/prfpy/fit.py:450: RuntimeWarning: invalid value encountered in multiply\n",
      "  slopes[..., np.newaxis] *\n",
      "/Users/uriel/softwares/anaconda3/envs/amblyo_env/prfpy/prfpy/fit.py:449: RuntimeWarning: invalid value encountered in subtract\n",
      "  resid = np.linalg.norm((vox_data -\n",
      "/Users/uriel/softwares/anaconda3/envs/amblyo_env/prfpy/prfpy/fit.py:441: RuntimeWarning: divide by zero encountered in divide\n",
      "  slopes = (n_timepoints * np.dot(vox_data, predictions.T) - sumd *\n",
      "/Users/uriel/softwares/anaconda3/envs/amblyo_env/prfpy/prfpy/fit.py:441: RuntimeWarning: invalid value encountered in divide\n",
      "  slopes = (n_timepoints * np.dot(vox_data, predictions.T) - sumd *\n",
      "/Users/uriel/softwares/anaconda3/envs/amblyo_env/prfpy/prfpy/fit.py:450: RuntimeWarning: invalid value encountered in multiply\n",
      "  slopes[..., np.newaxis] *\n",
      "/Users/uriel/softwares/anaconda3/envs/amblyo_env/prfpy/prfpy/fit.py:449: RuntimeWarning: invalid value encountered in subtract\n",
      "  resid = np.linalg.norm((vox_data -\n",
      "/Users/uriel/softwares/anaconda3/envs/amblyo_env/prfpy/prfpy/fit.py:441: RuntimeWarning: divide by zero encountered in divide\n",
      "  slopes = (n_timepoints * np.dot(vox_data, predictions.T) - sumd *\n",
      "/Users/uriel/softwares/anaconda3/envs/amblyo_env/prfpy/prfpy/fit.py:441: RuntimeWarning: invalid value encountered in divide\n",
      "  slopes = (n_timepoints * np.dot(vox_data, predictions.T) - sumd *\n",
      "/Users/uriel/softwares/anaconda3/envs/amblyo_env/prfpy/prfpy/fit.py:450: RuntimeWarning: invalid value encountered in multiply\n",
      "  slopes[..., np.newaxis] *\n",
      "/Users/uriel/softwares/anaconda3/envs/amblyo_env/prfpy/prfpy/fit.py:449: RuntimeWarning: invalid value encountered in subtract\n",
      "  resid = np.linalg.norm((vox_data -\n",
      "/Users/uriel/softwares/anaconda3/envs/amblyo_env/prfpy/prfpy/fit.py:441: RuntimeWarning: divide by zero encountered in divide\n",
      "  slopes = (n_timepoints * np.dot(vox_data, predictions.T) - sumd *\n",
      "/Users/uriel/softwares/anaconda3/envs/amblyo_env/prfpy/prfpy/fit.py:441: RuntimeWarning: invalid value encountered in divide\n",
      "  slopes = (n_timepoints * np.dot(vox_data, predictions.T) - sumd *\n",
      "/Users/uriel/softwares/anaconda3/envs/amblyo_env/prfpy/prfpy/fit.py:450: RuntimeWarning: invalid value encountered in multiply\n",
      "  slopes[..., np.newaxis] *\n",
      "/Users/uriel/softwares/anaconda3/envs/amblyo_env/prfpy/prfpy/fit.py:449: RuntimeWarning: invalid value encountered in subtract\n",
      "  resid = np.linalg.norm((vox_data -\n",
      "/Users/uriel/softwares/anaconda3/envs/amblyo_env/prfpy/prfpy/fit.py:441: RuntimeWarning: divide by zero encountered in divide\n",
      "  slopes = (n_timepoints * np.dot(vox_data, predictions.T) - sumd *\n",
      "/Users/uriel/softwares/anaconda3/envs/amblyo_env/prfpy/prfpy/fit.py:441: RuntimeWarning: invalid value encountered in divide\n",
      "  slopes = (n_timepoints * np.dot(vox_data, predictions.T) - sumd *\n",
      "/Users/uriel/softwares/anaconda3/envs/amblyo_env/prfpy/prfpy/fit.py:450: RuntimeWarning: invalid value encountered in multiply\n",
      "  slopes[..., np.newaxis] *\n",
      "/Users/uriel/softwares/anaconda3/envs/amblyo_env/prfpy/prfpy/fit.py:449: RuntimeWarning: invalid value encountered in subtract\n",
      "  resid = np.linalg.norm((vox_data -\n",
      "/Users/uriel/softwares/anaconda3/envs/amblyo_env/prfpy/prfpy/fit.py:441: RuntimeWarning: divide by zero encountered in divide\n",
      "  slopes = (n_timepoints * np.dot(vox_data, predictions.T) - sumd *\n",
      "/Users/uriel/softwares/anaconda3/envs/amblyo_env/prfpy/prfpy/fit.py:441: RuntimeWarning: invalid value encountered in divide\n",
      "  slopes = (n_timepoints * np.dot(vox_data, predictions.T) - sumd *\n",
      "/Users/uriel/softwares/anaconda3/envs/amblyo_env/prfpy/prfpy/fit.py:450: RuntimeWarning: invalid value encountered in multiply\n",
      "  slopes[..., np.newaxis] *\n",
      "/Users/uriel/softwares/anaconda3/envs/amblyo_env/prfpy/prfpy/fit.py:449: RuntimeWarning: invalid value encountered in subtract\n",
      "  resid = np.linalg.norm((vox_data -\n"
     ]
    }
   ],
   "source": [
    "# determine gauss model\n",
    "stimulus = PRFStimulus2D(screen_size_cm=screen_size_cm[1], \n",
    "                         screen_distance_cm=screen_distance_cm,\n",
    "                         design_matrix=vdm, \n",
    "                         TR=TR)\n",
    "gauss_model = Iso2DGaussianModel(stimulus=stimulus)\n",
    "\n",
    "# grid fit gauss model\n",
    "gauss_fitter = Iso2DGaussianFitter(data=data.T, model=gauss_model, n_jobs=n_jobs)\n",
    "\n",
    "\n",
    "gauss_fitter.grid_fit(ecc_grid=eccs, \n",
    "                      polar_grid=polars, \n",
    "                      size_grid=sizes, \n",
    "                      grid_bounds=gauss_grid_bounds,\n",
    "                      verbose=verbose, \n",
    "                      n_batches=n_batches)\n"
   ]
  },
  {
   "cell_type": "code",
   "execution_count": 91,
   "id": "de90f648-8a23-44e8-ae16-02097e1ed1f8",
   "metadata": {},
   "outputs": [],
   "source": [
    "# iterative fit\n",
    "gauss_fitter.iterative_fit(rsq_threshold=rsq_threshold, \n",
    "                           verbose=verbose,\n",
    "                           bounds = gauss_bounds,\n",
    "                           xtol=1e-4,\n",
    "                           ftol=1e-4)\n",
    "gauss_fit = gauss_fitter.iterative_search_params"
   ]
  },
  {
   "cell_type": "code",
   "execution_count": 92,
   "id": "92cdc0c1-24e2-443b-b85a-6e84dfe3ec02",
   "metadata": {},
   "outputs": [],
   "source": [
    "gauss_fit_mat = np.zeros((data_fsnative_.shape[1],8))\n",
    "gauss_pred_mat = np.zeros_like(data_fsnative_) \n",
    "for est in range(len(data_fsnative_.T)):\n",
    "    gauss_fit_mat[est] = gauss_fit[est]\n",
    "    gauss_pred_mat[:,est] = gauss_model.return_prediction(mu_x=gauss_fit[est][0], \n",
    "                                                          mu_y=gauss_fit[est][1], \n",
    "                                                          size=gauss_fit[est][2], \n",
    "                                                          beta=gauss_fit[est][3], \n",
    "                                                          baseline=gauss_fit[est][4])"
   ]
  },
  {
   "cell_type": "code",
   "execution_count": 93,
   "id": "0d3484de-2687-4c3f-90d4-ae09e9bb73fb",
   "metadata": {},
   "outputs": [
    {
     "data": {
      "application/vnd.plotly.v1+json": {
       "config": {
        "plotlyServerURL": "https://plot.ly"
       },
       "data": [
        {
         "mode": "markers",
         "name": "data",
         "type": "scatter",
         "y": [
          -0.46451565623283386,
          -0.4333553910255432,
          -0.3940458595752716,
          -0.9936013221740723,
          -0.3979358971118927,
          -0.16976413130760193,
          -0.5784423351287842,
          -0.3724578320980072,
          -0.43575823307037354,
          -0.051716335117816925,
          -0.32837462425231934,
          -0.1878083497285843,
          -0.5925933718681335,
          -0.0204521082341671,
          -0.16074249148368835,
          -0.4922313988208771,
          -0.3168126046657562,
          -0.012043099850416183,
          -0.17170432209968567,
          -0.3342062532901764,
          0.027211971580982208,
          -0.18349872529506683,
          -0.23486033082008362,
          -0.0922304093837738,
          0.061348069459199905,
          0.006775916554033756,
          0.2431197315454483,
          0.6500867605209351,
          0.39869338274002075,
          0.8637851476669312,
          0.5800600647926331,
          0.8556064367294312,
          1.405916452407837,
          1.2476319074630737,
          1.2182179689407349,
          1.0328412055969238,
          1.2309598922729492,
          1.7671394348144531,
          1.492676019668579,
          1.3817890882492065,
          1.1940040588378906,
          0.4566816985607147,
          0.6084573268890381,
          0.3589816093444824,
          -0.5586943626403809,
          -1.0380609035491943,
          -0.029652632772922516,
          -0.4146476984024048,
          -0.11789290606975555,
          -0.24630442261695862,
          -0.7828664183616638,
          -0.3977244198322296,
          -0.42281001806259155,
          -0.9177983403205872,
          -0.1674816757440567,
          -0.12182362377643585,
          -0.6840515732765198,
          -0.09551005810499191,
          0.6285955905914307,
          -0.8731086850166321,
          -0.664839506149292,
          0.3313804566860199,
          -0.4935385286808014,
          -0.6419512033462524,
          0.15091656148433685,
          -1.026358723640442,
          -0.6489500999450684,
          -0.41030141711235046,
          -0.9172419309616089,
          -0.36778444051742554,
          -0.41275084018707275,
          -0.8814964294433594,
          -0.7836185693740845,
          -0.5571553707122803,
          -0.5031447410583496,
          -0.9306172728538513,
          -0.46078038215637207,
          -0.4709394574165344,
          -0.30250611901283264,
          -0.289795845746994,
          -0.2955162525177002,
          0.19615629315376282,
          -0.1638716459274292,
          -0.34479987621307373,
          0.16671805083751678,
          -0.33466994762420654,
          -0.43480345606803894,
          -0.5215189456939697,
          0.06552956998348236,
          0.42685985565185547,
          0.14514870941638947,
          1.4446300268173218,
          1.6623029708862305,
          0.911749541759491,
          2.1242170333862305,
          1.1518006324768066,
          1.2735084295272827,
          2.0652918815612793,
          0.765725314617157,
          1.092130184173584,
          1.954370141029358,
          0.33947622776031494,
          0.4961499273777008,
          0.5570548176765442,
          -0.7982292771339417,
          -0.24512659013271332,
          0.020605992525815964,
          -0.8390153646469116,
          -0.31542813777923584,
          0.24518583714962006,
          -1.2273341417312622,
          -0.5724681615829468,
          0.4973587989807129,
          -1.0851291418075562,
          -0.4263242781162262,
          -0.16998928785324097,
          -0.8894248008728027,
          -0.545548677444458,
          -0.3924803137779236,
          -0.788529098033905,
          -0.06760288774967194,
          -0.6790245771408081,
          -0.8207771182060242,
          -0.31440305709838867,
          -0.5117112398147583,
          -0.26165372133255005,
          0.17101357877254486,
          0.04588817432522774,
          0.5059248805046082,
          0.17822378873825073,
          0.10415035486221313,
          0.6291542649269104,
          0.22974050045013428,
          0.15116098523139954,
          0.7157631516456604,
          -0.2570572793483734,
          0.5271182656288147,
          0.47145843505859375,
          -0.10331225395202637,
          0.8751691579818726,
          -0.32617640495300293,
          -0.2135603427886963,
          -0.23751869797706604,
          -0.9288399815559387,
          -0.13962003588676453,
          -0.34789490699768066,
          0.19795957207679749,
          0.9448975324630737,
          0.27205392718315125,
          -0.47698646783828735,
          -0.5094539523124695,
          -0.04166506230831146,
          -0.19887523353099823,
          -0.7330455183982849,
          -0.6224642992019653,
          -0.2388233244419098,
          -0.5888027548789978,
          -0.6862248778343201,
          0.01085476391017437,
          -0.7745605707168579,
          -0.6230154037475586,
          -0.7347935438156128,
          -0.5905814170837402,
          -0.264813631772995,
          0.06019328162074089,
          -0.04778168350458145,
          0.4577493965625763,
          0.5304150581359863,
          0.5358893871307373,
          0.6223706007003784,
          0.6822814345359802,
          1.1183445453643799,
          1.2503794431686401,
          0.7088503241539001,
          1.2463473081588745,
          0.6467164754867554,
          0.8714522123336792,
          1.0262551307678223,
          0.08968880772590637,
          0.057874321937561035,
          -0.22649399936199188,
          -0.38796770572662354,
          0.14661146700382233,
          -0.2191014289855957,
          0.22816875576972961,
          -0.5138629674911499,
          0.2080240249633789,
          0.06060299277305603,
          -0.5661664605140686,
          0.28143179416656494,
          -0.4083101451396942,
          0.45429527759552,
          0.08385206758975983,
          -0.1066211387515068,
          0.5548379421234131,
          0.09200464189052582,
          -0.6971935033798218,
          -0.19588671624660492,
          -0.30580952763557434,
          -0.15978692471981049,
          -0.21559682488441467,
          -0.29325973987579346,
          0.32348203659057617,
          -0.710381031036377,
          -0.5984110236167908,
          0.018445447087287903,
          -0.8109158277511597,
          0.01940823346376419
         ]
        },
        {
         "name": "Gauss model (R2=0.41)",
         "type": "scatter",
         "y": [
          0.002291131531819701,
          0.002287850482389331,
          0.002285995753481984,
          0.002284980146214366,
          0.0022844411432743073,
          0.002284162910655141,
          0.002284022979438305,
          0.0022839594166725874,
          0.002283925423398614,
          0.0022839070297777653,
          0.0022838993463665247,
          0.00228389585390687,
          0.0022838907316327095,
          0.0022838865406811237,
          0.0022838814184069633,
          0.002283876296132803,
          0.0022838744334876537,
          0.002283873502165079,
          0.002283870941027999,
          0.0024798212107270956,
          0.0036415262147784233,
          0.006630626041442156,
          0.012524006888270378,
          0.023400550708174706,
          0.0429898239672184,
          0.0715748742222786,
          0.10208328813314438,
          0.13948650658130646,
          0.19393332302570343,
          0.27145180106163025,
          0.37211835384368896,
          0.4906194806098938,
          0.6169079542160034,
          0.7371192574501038,
          0.8482099175453186,
          0.968593418598175,
          1.061004400253296,
          1.0661197900772095,
          0.9888728260993958,
          0.8621529936790466,
          0.7114667892456055,
          0.5529504418373108,
          0.3988445997238159,
          0.2595657408237457,
          0.1447557955980301,
          0.0625578984618187,
          0.008351612836122513,
          -0.026460258290171623,
          -0.04738406091928482,
          -0.05732525885105133,
          -0.058772262185811996,
          -0.054477181285619736,
          -0.04704306274652481,
          -0.03840523585677147,
          -0.029857147485017776,
          -0.022171761840581894,
          -0.015711305662989616,
          -0.010552787221968174,
          -0.006604899652302265,
          -0.0036947119515389204,
          -0.0016232052585110068,
          -0.00019756511028390378,
          0.0007517645717598498,
          0.0013638250529766083,
          0.0017461811657994986,
          0.001977924956008792,
          0.0021142305340617895,
          0.002192101674154401,
          0.0022354633547365665,
          0.002259087050333619,
          0.002272001700475812,
          0.002280104672536254,
          0.002288766670972109,
          0.002302144654095173,
          0.002321146195754409,
          0.0023636065889149904,
          0.0024772381875663996,
          0.002766089979559183,
          0.003448801813647151,
          0.004960206802934408,
          0.008106187917292118,
          0.01416490226984024,
          0.02535858005285263,
          0.04603337496519089,
          0.0767788514494896,
          0.11000587046146393,
          0.15143822133541107,
          0.21205702424049377,
          0.2982063591480255,
          0.4098459780216217,
          0.5411255955696106,
          0.6810062527656555,
          0.8225829005241394,
          0.9753320813179016,
          1.125710129737854,
          1.2233164310455322,
          1.2147926092147827,
          1.1153895854949951,
          0.9595102071762085,
          0.7507277727127075,
          0.4915233254432678,
          0.24278227984905243,
          0.05558469146490097,
          -0.06041906401515007,
          -0.11931874603033066,
          -0.1396200805902481,
          -0.13630187511444092,
          -0.11993512511253357,
          -0.09778664261102676,
          -0.07475616782903671,
          -0.05388105660676956,
          -0.036684006452560425,
          -0.023550301790237427,
          -0.014140068553388119,
          -0.007761512417346239,
          -0.0035877421032637358,
          -0.0006958534359000623,
          0.0017702857730910182,
          0.0046927048824727535,
          0.009339223615825176,
          0.01777201145887375,
          0.03251900151371956,
          0.05362850800156593,
          0.07708093523979187,
          0.10780256986618042,
          0.15448275208473206,
          0.2229785919189453,
          0.31478235125541687,
          0.426929235458374,
          0.5517783761024475,
          0.687822163105011,
          0.8486440777778625,
          0.9961500763893127,
          1.063125491142273,
          1.0494483709335327,
          0.9829683303833008,
          0.8817781209945679,
          0.7550897002220154,
          0.6116911172866821,
          0.46293437480926514,
          0.3210858702659607,
          0.19916985929012299,
          0.10944714397192001,
          0.046665605157613754,
          0.0016329415375366807,
          -0.029485585168004036,
          -0.04804418981075287,
          -0.05604657903313637,
          -0.05634402483701706,
          -0.05152873322367668,
          -0.04388215392827988,
          -0.0352671854197979,
          -0.026952439919114113,
          -0.019635362550616264,
          -0.013594024814665318,
          -0.008847502060234547,
          -0.005274380557239056,
          -0.002688820008188486,
          -0.0008874509367160499,
          0.00032223225571215153,
          0.0011060909600928426,
          0.001596895162947476,
          0.0018942045280709863,
          0.01907038502395153,
          0.10771003365516663,
          0.2767849862575531,
          0.4832414984703064,
          0.6948113441467285,
          0.9160147905349731,
          1.1138813495635986,
          1.2302700281143188,
          1.2366578578948975,
          1.158327579498291,
          1.0295003652572632,
          0.8716790676116943,
          0.6988393664360046,
          0.5239613056182861,
          0.3598557114601135,
          0.2199796736240387,
          0.11747170239686966,
          0.046304188668727875,
          -0.003937254194170237,
          -0.03767983987927437,
          -0.056950509548187256,
          -0.0643538311123848,
          -0.0632103979587555,
          -0.05682089179754257,
          -0.04788779094815254,
          -0.03831629082560539,
          -0.029280303046107292,
          -0.021395687013864517,
          -0.014906429685652256,
          -0.009815237484872341,
          -0.005983194801956415,
          -0.003205173648893833,
          -0.0012607781682163477,
          5.555394818657078e-05,
          0.0009188643889501691,
          0.0014683014014735818,
          0.0018080542795360088,
          0.0020124975126236677,
          0.0021323966793715954,
          0.00220107426866889,
          0.0022395204287022352,
          0.00226058391854167,
          0.00227187923155725,
          0.0022778126876801252,
          0.002280869521200657
         ]
        }
       ],
       "layout": {
        "autosize": true,
        "template": {
         "data": {
          "bar": [
           {
            "error_x": {
             "color": "#2a3f5f"
            },
            "error_y": {
             "color": "#2a3f5f"
            },
            "marker": {
             "line": {
              "color": "#E5ECF6",
              "width": 0.5
             },
             "pattern": {
              "fillmode": "overlay",
              "size": 10,
              "solidity": 0.2
             }
            },
            "type": "bar"
           }
          ],
          "barpolar": [
           {
            "marker": {
             "line": {
              "color": "#E5ECF6",
              "width": 0.5
             },
             "pattern": {
              "fillmode": "overlay",
              "size": 10,
              "solidity": 0.2
             }
            },
            "type": "barpolar"
           }
          ],
          "carpet": [
           {
            "aaxis": {
             "endlinecolor": "#2a3f5f",
             "gridcolor": "white",
             "linecolor": "white",
             "minorgridcolor": "white",
             "startlinecolor": "#2a3f5f"
            },
            "baxis": {
             "endlinecolor": "#2a3f5f",
             "gridcolor": "white",
             "linecolor": "white",
             "minorgridcolor": "white",
             "startlinecolor": "#2a3f5f"
            },
            "type": "carpet"
           }
          ],
          "choropleth": [
           {
            "colorbar": {
             "outlinewidth": 0,
             "ticks": ""
            },
            "type": "choropleth"
           }
          ],
          "contour": [
           {
            "colorbar": {
             "outlinewidth": 0,
             "ticks": ""
            },
            "colorscale": [
             [
              0,
              "#0d0887"
             ],
             [
              0.1111111111111111,
              "#46039f"
             ],
             [
              0.2222222222222222,
              "#7201a8"
             ],
             [
              0.3333333333333333,
              "#9c179e"
             ],
             [
              0.4444444444444444,
              "#bd3786"
             ],
             [
              0.5555555555555556,
              "#d8576b"
             ],
             [
              0.6666666666666666,
              "#ed7953"
             ],
             [
              0.7777777777777778,
              "#fb9f3a"
             ],
             [
              0.8888888888888888,
              "#fdca26"
             ],
             [
              1,
              "#f0f921"
             ]
            ],
            "type": "contour"
           }
          ],
          "contourcarpet": [
           {
            "colorbar": {
             "outlinewidth": 0,
             "ticks": ""
            },
            "type": "contourcarpet"
           }
          ],
          "heatmap": [
           {
            "colorbar": {
             "outlinewidth": 0,
             "ticks": ""
            },
            "colorscale": [
             [
              0,
              "#0d0887"
             ],
             [
              0.1111111111111111,
              "#46039f"
             ],
             [
              0.2222222222222222,
              "#7201a8"
             ],
             [
              0.3333333333333333,
              "#9c179e"
             ],
             [
              0.4444444444444444,
              "#bd3786"
             ],
             [
              0.5555555555555556,
              "#d8576b"
             ],
             [
              0.6666666666666666,
              "#ed7953"
             ],
             [
              0.7777777777777778,
              "#fb9f3a"
             ],
             [
              0.8888888888888888,
              "#fdca26"
             ],
             [
              1,
              "#f0f921"
             ]
            ],
            "type": "heatmap"
           }
          ],
          "heatmapgl": [
           {
            "colorbar": {
             "outlinewidth": 0,
             "ticks": ""
            },
            "colorscale": [
             [
              0,
              "#0d0887"
             ],
             [
              0.1111111111111111,
              "#46039f"
             ],
             [
              0.2222222222222222,
              "#7201a8"
             ],
             [
              0.3333333333333333,
              "#9c179e"
             ],
             [
              0.4444444444444444,
              "#bd3786"
             ],
             [
              0.5555555555555556,
              "#d8576b"
             ],
             [
              0.6666666666666666,
              "#ed7953"
             ],
             [
              0.7777777777777778,
              "#fb9f3a"
             ],
             [
              0.8888888888888888,
              "#fdca26"
             ],
             [
              1,
              "#f0f921"
             ]
            ],
            "type": "heatmapgl"
           }
          ],
          "histogram": [
           {
            "marker": {
             "pattern": {
              "fillmode": "overlay",
              "size": 10,
              "solidity": 0.2
             }
            },
            "type": "histogram"
           }
          ],
          "histogram2d": [
           {
            "colorbar": {
             "outlinewidth": 0,
             "ticks": ""
            },
            "colorscale": [
             [
              0,
              "#0d0887"
             ],
             [
              0.1111111111111111,
              "#46039f"
             ],
             [
              0.2222222222222222,
              "#7201a8"
             ],
             [
              0.3333333333333333,
              "#9c179e"
             ],
             [
              0.4444444444444444,
              "#bd3786"
             ],
             [
              0.5555555555555556,
              "#d8576b"
             ],
             [
              0.6666666666666666,
              "#ed7953"
             ],
             [
              0.7777777777777778,
              "#fb9f3a"
             ],
             [
              0.8888888888888888,
              "#fdca26"
             ],
             [
              1,
              "#f0f921"
             ]
            ],
            "type": "histogram2d"
           }
          ],
          "histogram2dcontour": [
           {
            "colorbar": {
             "outlinewidth": 0,
             "ticks": ""
            },
            "colorscale": [
             [
              0,
              "#0d0887"
             ],
             [
              0.1111111111111111,
              "#46039f"
             ],
             [
              0.2222222222222222,
              "#7201a8"
             ],
             [
              0.3333333333333333,
              "#9c179e"
             ],
             [
              0.4444444444444444,
              "#bd3786"
             ],
             [
              0.5555555555555556,
              "#d8576b"
             ],
             [
              0.6666666666666666,
              "#ed7953"
             ],
             [
              0.7777777777777778,
              "#fb9f3a"
             ],
             [
              0.8888888888888888,
              "#fdca26"
             ],
             [
              1,
              "#f0f921"
             ]
            ],
            "type": "histogram2dcontour"
           }
          ],
          "mesh3d": [
           {
            "colorbar": {
             "outlinewidth": 0,
             "ticks": ""
            },
            "type": "mesh3d"
           }
          ],
          "parcoords": [
           {
            "line": {
             "colorbar": {
              "outlinewidth": 0,
              "ticks": ""
             }
            },
            "type": "parcoords"
           }
          ],
          "pie": [
           {
            "automargin": true,
            "type": "pie"
           }
          ],
          "scatter": [
           {
            "fillpattern": {
             "fillmode": "overlay",
             "size": 10,
             "solidity": 0.2
            },
            "type": "scatter"
           }
          ],
          "scatter3d": [
           {
            "line": {
             "colorbar": {
              "outlinewidth": 0,
              "ticks": ""
             }
            },
            "marker": {
             "colorbar": {
              "outlinewidth": 0,
              "ticks": ""
             }
            },
            "type": "scatter3d"
           }
          ],
          "scattercarpet": [
           {
            "marker": {
             "colorbar": {
              "outlinewidth": 0,
              "ticks": ""
             }
            },
            "type": "scattercarpet"
           }
          ],
          "scattergeo": [
           {
            "marker": {
             "colorbar": {
              "outlinewidth": 0,
              "ticks": ""
             }
            },
            "type": "scattergeo"
           }
          ],
          "scattergl": [
           {
            "marker": {
             "colorbar": {
              "outlinewidth": 0,
              "ticks": ""
             }
            },
            "type": "scattergl"
           }
          ],
          "scattermapbox": [
           {
            "marker": {
             "colorbar": {
              "outlinewidth": 0,
              "ticks": ""
             }
            },
            "type": "scattermapbox"
           }
          ],
          "scatterpolar": [
           {
            "marker": {
             "colorbar": {
              "outlinewidth": 0,
              "ticks": ""
             }
            },
            "type": "scatterpolar"
           }
          ],
          "scatterpolargl": [
           {
            "marker": {
             "colorbar": {
              "outlinewidth": 0,
              "ticks": ""
             }
            },
            "type": "scatterpolargl"
           }
          ],
          "scatterternary": [
           {
            "marker": {
             "colorbar": {
              "outlinewidth": 0,
              "ticks": ""
             }
            },
            "type": "scatterternary"
           }
          ],
          "surface": [
           {
            "colorbar": {
             "outlinewidth": 0,
             "ticks": ""
            },
            "colorscale": [
             [
              0,
              "#0d0887"
             ],
             [
              0.1111111111111111,
              "#46039f"
             ],
             [
              0.2222222222222222,
              "#7201a8"
             ],
             [
              0.3333333333333333,
              "#9c179e"
             ],
             [
              0.4444444444444444,
              "#bd3786"
             ],
             [
              0.5555555555555556,
              "#d8576b"
             ],
             [
              0.6666666666666666,
              "#ed7953"
             ],
             [
              0.7777777777777778,
              "#fb9f3a"
             ],
             [
              0.8888888888888888,
              "#fdca26"
             ],
             [
              1,
              "#f0f921"
             ]
            ],
            "type": "surface"
           }
          ],
          "table": [
           {
            "cells": {
             "fill": {
              "color": "#EBF0F8"
             },
             "line": {
              "color": "white"
             }
            },
            "header": {
             "fill": {
              "color": "#C8D4E3"
             },
             "line": {
              "color": "white"
             }
            },
            "type": "table"
           }
          ]
         },
         "layout": {
          "annotationdefaults": {
           "arrowcolor": "#2a3f5f",
           "arrowhead": 0,
           "arrowwidth": 1
          },
          "autotypenumbers": "strict",
          "coloraxis": {
           "colorbar": {
            "outlinewidth": 0,
            "ticks": ""
           }
          },
          "colorscale": {
           "diverging": [
            [
             0,
             "#8e0152"
            ],
            [
             0.1,
             "#c51b7d"
            ],
            [
             0.2,
             "#de77ae"
            ],
            [
             0.3,
             "#f1b6da"
            ],
            [
             0.4,
             "#fde0ef"
            ],
            [
             0.5,
             "#f7f7f7"
            ],
            [
             0.6,
             "#e6f5d0"
            ],
            [
             0.7,
             "#b8e186"
            ],
            [
             0.8,
             "#7fbc41"
            ],
            [
             0.9,
             "#4d9221"
            ],
            [
             1,
             "#276419"
            ]
           ],
           "sequential": [
            [
             0,
             "#0d0887"
            ],
            [
             0.1111111111111111,
             "#46039f"
            ],
            [
             0.2222222222222222,
             "#7201a8"
            ],
            [
             0.3333333333333333,
             "#9c179e"
            ],
            [
             0.4444444444444444,
             "#bd3786"
            ],
            [
             0.5555555555555556,
             "#d8576b"
            ],
            [
             0.6666666666666666,
             "#ed7953"
            ],
            [
             0.7777777777777778,
             "#fb9f3a"
            ],
            [
             0.8888888888888888,
             "#fdca26"
            ],
            [
             1,
             "#f0f921"
            ]
           ],
           "sequentialminus": [
            [
             0,
             "#0d0887"
            ],
            [
             0.1111111111111111,
             "#46039f"
            ],
            [
             0.2222222222222222,
             "#7201a8"
            ],
            [
             0.3333333333333333,
             "#9c179e"
            ],
            [
             0.4444444444444444,
             "#bd3786"
            ],
            [
             0.5555555555555556,
             "#d8576b"
            ],
            [
             0.6666666666666666,
             "#ed7953"
            ],
            [
             0.7777777777777778,
             "#fb9f3a"
            ],
            [
             0.8888888888888888,
             "#fdca26"
            ],
            [
             1,
             "#f0f921"
            ]
           ]
          },
          "colorway": [
           "#636efa",
           "#EF553B",
           "#00cc96",
           "#ab63fa",
           "#FFA15A",
           "#19d3f3",
           "#FF6692",
           "#B6E880",
           "#FF97FF",
           "#FECB52"
          ],
          "font": {
           "color": "#2a3f5f"
          },
          "geo": {
           "bgcolor": "white",
           "lakecolor": "white",
           "landcolor": "#E5ECF6",
           "showlakes": true,
           "showland": true,
           "subunitcolor": "white"
          },
          "hoverlabel": {
           "align": "left"
          },
          "hovermode": "closest",
          "mapbox": {
           "style": "light"
          },
          "paper_bgcolor": "white",
          "plot_bgcolor": "#E5ECF6",
          "polar": {
           "angularaxis": {
            "gridcolor": "white",
            "linecolor": "white",
            "ticks": ""
           },
           "bgcolor": "#E5ECF6",
           "radialaxis": {
            "gridcolor": "white",
            "linecolor": "white",
            "ticks": ""
           }
          },
          "scene": {
           "xaxis": {
            "backgroundcolor": "#E5ECF6",
            "gridcolor": "white",
            "gridwidth": 2,
            "linecolor": "white",
            "showbackground": true,
            "ticks": "",
            "zerolinecolor": "white"
           },
           "yaxis": {
            "backgroundcolor": "#E5ECF6",
            "gridcolor": "white",
            "gridwidth": 2,
            "linecolor": "white",
            "showbackground": true,
            "ticks": "",
            "zerolinecolor": "white"
           },
           "zaxis": {
            "backgroundcolor": "#E5ECF6",
            "gridcolor": "white",
            "gridwidth": 2,
            "linecolor": "white",
            "showbackground": true,
            "ticks": "",
            "zerolinecolor": "white"
           }
          },
          "shapedefaults": {
           "line": {
            "color": "#2a3f5f"
           }
          },
          "ternary": {
           "aaxis": {
            "gridcolor": "white",
            "linecolor": "white",
            "ticks": ""
           },
           "baxis": {
            "gridcolor": "white",
            "linecolor": "white",
            "ticks": ""
           },
           "bgcolor": "#E5ECF6",
           "caxis": {
            "gridcolor": "white",
            "linecolor": "white",
            "ticks": ""
           }
          },
          "title": {
           "x": 0.05
          },
          "xaxis": {
           "automargin": true,
           "gridcolor": "white",
           "linecolor": "white",
           "ticks": "",
           "title": {
            "standoff": 15
           },
           "zerolinecolor": "white",
           "zerolinewidth": 2
          },
          "yaxis": {
           "automargin": true,
           "gridcolor": "white",
           "linecolor": "white",
           "ticks": "",
           "title": {
            "standoff": 15
           },
           "zerolinecolor": "white",
           "zerolinewidth": 2
          }
         }
        },
        "xaxis": {
         "autorange": true,
         "range": [
          -13.259485924112607,
          220.2594859241126
         ]
        },
        "yaxis": {
         "autorange": true,
         "range": [
          -1.5039184620079484,
          2.4008013536629167
         ],
         "type": "linear"
        }
       }
      },
      "image/png": "[encoded data removed]",
      "text/html": [
       "<div>                            <div id=\"6bb553f3-0f2c-4a58-9d9a-0b244571c83f\" class=\"plotly-graph-div\" style=\"height:525px; width:100%;\"></div>            <script type=\"text/javascript\">                require([\"plotly\"], function(Plotly) {                    window.PLOTLYENV=window.PLOTLYENV || {};                                    if (document.getElementById(\"6bb553f3-0f2c-4a58-9d9a-0b244571c83f\")) {                    Plotly.newPlot(                        \"6bb553f3-0f2c-4a58-9d9a-0b244571c83f\",                        [{\"mode\":\"markers\",\"name\":\"data\",\"y\":[-0.46451565623283386,-0.4333553910255432,-0.3940458595752716,-0.9936013221740723,-0.3979358971118927,-0.16976413130760193,-0.5784423351287842,-0.3724578320980072,-0.43575823307037354,-0.051716335117816925,-0.32837462425231934,-0.1878083497285843,-0.5925933718681335,-0.0204521082341671,-0.16074249148368835,-0.4922313988208771,-0.3168126046657562,-0.012043099850416183,-0.17170432209968567,-0.3342062532901764,0.027211971580982208,-0.18349872529506683,-0.23486033082008362,-0.0922304093837738,0.061348069459199905,0.006775916554033756,0.2431197315454483,0.6500867605209351,0.39869338274002075,0.8637851476669312,0.5800600647926331,0.8556064367294312,1.405916452407837,1.2476319074630737,1.2182179689407349,1.0328412055969238,1.2309598922729492,1.7671394348144531,1.492676019668579,1.3817890882492065,1.1940040588378906,0.4566816985607147,0.6084573268890381,0.3589816093444824,-0.5586943626403809,-1.0380609035491943,-0.029652632772922516,-0.4146476984024048,-0.11789290606975555,-0.24630442261695862,-0.7828664183616638,-0.3977244198322296,-0.42281001806259155,-0.9177983403205872,-0.1674816757440567,-0.12182362377643585,-0.6840515732765198,-0.09551005810499191,0.6285955905914307,-0.8731086850166321,-0.664839506149292,0.3313804566860199,-0.4935385286808014,-0.6419512033462524,0.15091656148433685,-1.026358723640442,-0.6489500999450684,-0.41030141711235046,-0.9172419309616089,-0.36778444051742554,-0.41275084018707275,-0.8814964294433594,-0.7836185693740845,-0.5571553707122803,-0.5031447410583496,-0.9306172728538513,-0.46078038215637207,-0.4709394574165344,-0.30250611901283264,-0.289795845746994,-0.2955162525177002,0.19615629315376282,-0.1638716459274292,-0.34479987621307373,0.16671805083751678,-0.33466994762420654,-0.43480345606803894,-0.5215189456939697,0.06552956998348236,0.42685985565185547,0.14514870941638947,1.4446300268173218,1.6623029708862305,0.911749541759491,2.1242170333862305,1.1518006324768066,1.2735084295272827,2.0652918815612793,0.765725314617157,1.092130184173584,1.954370141029358,0.33947622776031494,0.4961499273777008,0.5570548176765442,-0.7982292771339417,-0.24512659013271332,0.020605992525815964,-0.8390153646469116,-0.31542813777923584,0.24518583714962006,-1.2273341417312622,-0.5724681615829468,0.4973587989807129,-1.0851291418075562,-0.4263242781162262,-0.16998928785324097,-0.8894248008728027,-0.545548677444458,-0.3924803137779236,-0.788529098033905,-0.06760288774967194,-0.6790245771408081,-0.8207771182060242,-0.31440305709838867,-0.5117112398147583,-0.26165372133255005,0.17101357877254486,0.04588817432522774,0.5059248805046082,0.17822378873825073,0.10415035486221313,0.6291542649269104,0.22974050045013428,0.15116098523139954,0.7157631516456604,-0.2570572793483734,0.5271182656288147,0.47145843505859375,-0.10331225395202637,0.8751691579818726,-0.32617640495300293,-0.2135603427886963,-0.23751869797706604,-0.9288399815559387,-0.13962003588676453,-0.34789490699768066,0.19795957207679749,0.9448975324630737,0.27205392718315125,-0.47698646783828735,-0.5094539523124695,-0.04166506230831146,-0.19887523353099823,-0.7330455183982849,-0.6224642992019653,-0.2388233244419098,-0.5888027548789978,-0.6862248778343201,0.01085476391017437,-0.7745605707168579,-0.6230154037475586,-0.7347935438156128,-0.5905814170837402,-0.264813631772995,0.06019328162074089,-0.04778168350458145,0.4577493965625763,0.5304150581359863,0.5358893871307373,0.6223706007003784,0.6822814345359802,1.1183445453643799,1.2503794431686401,0.7088503241539001,1.2463473081588745,0.6467164754867554,0.8714522123336792,1.0262551307678223,0.08968880772590637,0.057874321937561035,-0.22649399936199188,-0.38796770572662354,0.14661146700382233,-0.2191014289855957,0.22816875576972961,-0.5138629674911499,0.2080240249633789,0.06060299277305603,-0.5661664605140686,0.28143179416656494,-0.4083101451396942,0.45429527759552,0.08385206758975983,-0.1066211387515068,0.5548379421234131,0.09200464189052582,-0.6971935033798218,-0.19588671624660492,-0.30580952763557434,-0.15978692471981049,-0.21559682488441467,-0.29325973987579346,0.32348203659057617,-0.710381031036377,-0.5984110236167908,0.018445447087287903,-0.8109158277511597,0.01940823346376419],\"type\":\"scatter\"},{\"name\":\"Gauss model (R2=0.41)\",\"y\":[0.002291131531819701,0.002287850482389331,0.002285995753481984,0.002284980146214366,0.0022844411432743073,0.002284162910655141,0.002284022979438305,0.0022839594166725874,0.002283925423398614,0.0022839070297777653,0.0022838993463665247,0.00228389585390687,0.0022838907316327095,0.0022838865406811237,0.0022838814184069633,0.002283876296132803,0.0022838744334876537,0.002283873502165079,0.002283870941027999,0.0024798212107270956,0.0036415262147784233,0.006630626041442156,0.012524006888270378,0.023400550708174706,0.0429898239672184,0.0715748742222786,0.10208328813314438,0.13948650658130646,0.19393332302570343,0.27145180106163025,0.37211835384368896,0.4906194806098938,0.6169079542160034,0.7371192574501038,0.8482099175453186,0.968593418598175,1.061004400253296,1.0661197900772095,0.9888728260993958,0.8621529936790466,0.7114667892456055,0.5529504418373108,0.3988445997238159,0.2595657408237457,0.1447557955980301,0.0625578984618187,0.008351612836122513,-0.026460258290171623,-0.04738406091928482,-0.05732525885105133,-0.058772262185811996,-0.054477181285619736,-0.04704306274652481,-0.03840523585677147,-0.029857147485017776,-0.022171761840581894,-0.015711305662989616,-0.010552787221968174,-0.006604899652302265,-0.0036947119515389204,-0.0016232052585110068,-0.00019756511028390378,0.0007517645717598498,0.0013638250529766083,0.0017461811657994986,0.001977924956008792,0.0021142305340617895,0.002192101674154401,0.0022354633547365665,0.002259087050333619,0.002272001700475812,0.002280104672536254,0.002288766670972109,0.002302144654095173,0.002321146195754409,0.0023636065889149904,0.0024772381875663996,0.002766089979559183,0.003448801813647151,0.004960206802934408,0.008106187917292118,0.01416490226984024,0.02535858005285263,0.04603337496519089,0.0767788514494896,0.11000587046146393,0.15143822133541107,0.21205702424049377,0.2982063591480255,0.4098459780216217,0.5411255955696106,0.6810062527656555,0.8225829005241394,0.9753320813179016,1.125710129737854,1.2233164310455322,1.2147926092147827,1.1153895854949951,0.9595102071762085,0.7507277727127075,0.4915233254432678,0.24278227984905243,0.05558469146490097,-0.06041906401515007,-0.11931874603033066,-0.1396200805902481,-0.13630187511444092,-0.11993512511253357,-0.09778664261102676,-0.07475616782903671,-0.05388105660676956,-0.036684006452560425,-0.023550301790237427,-0.014140068553388119,-0.007761512417346239,-0.0035877421032637358,-0.0006958534359000623,0.0017702857730910182,0.0046927048824727535,0.009339223615825176,0.01777201145887375,0.03251900151371956,0.05362850800156593,0.07708093523979187,0.10780256986618042,0.15448275208473206,0.2229785919189453,0.31478235125541687,0.426929235458374,0.5517783761024475,0.687822163105011,0.8486440777778625,0.9961500763893127,1.063125491142273,1.0494483709335327,0.9829683303833008,0.8817781209945679,0.7550897002220154,0.6116911172866821,0.46293437480926514,0.3210858702659607,0.19916985929012299,0.10944714397192001,0.046665605157613754,0.0016329415375366807,-0.029485585168004036,-0.04804418981075287,-0.05604657903313637,-0.05634402483701706,-0.05152873322367668,-0.04388215392827988,-0.0352671854197979,-0.026952439919114113,-0.019635362550616264,-0.013594024814665318,-0.008847502060234547,-0.005274380557239056,-0.002688820008188486,-0.0008874509367160499,0.00032223225571215153,0.0011060909600928426,0.001596895162947476,0.0018942045280709863,0.01907038502395153,0.10771003365516663,0.2767849862575531,0.4832414984703064,0.6948113441467285,0.9160147905349731,1.1138813495635986,1.2302700281143188,1.2366578578948975,1.158327579498291,1.0295003652572632,0.8716790676116943,0.6988393664360046,0.5239613056182861,0.3598557114601135,0.2199796736240387,0.11747170239686966,0.046304188668727875,-0.003937254194170237,-0.03767983987927437,-0.056950509548187256,-0.0643538311123848,-0.0632103979587555,-0.05682089179754257,-0.04788779094815254,-0.03831629082560539,-0.029280303046107292,-0.021395687013864517,-0.014906429685652256,-0.009815237484872341,-0.005983194801956415,-0.003205173648893833,-0.0012607781682163477,5.555394818657078e-05,0.0009188643889501691,0.0014683014014735818,0.0018080542795360088,0.0020124975126236677,0.0021323966793715954,0.00220107426866889,0.0022395204287022352,0.00226058391854167,0.00227187923155725,0.0022778126876801252,0.002280869521200657],\"type\":\"scatter\"}],                        {\"template\":{\"data\":{\"histogram2dcontour\":[{\"type\":\"histogram2dcontour\",\"colorbar\":{\"outlinewidth\":0,\"ticks\":\"\"},\"colorscale\":[[0.0,\"#0d0887\"],[0.1111111111111111,\"#46039f\"],[0.2222222222222222,\"#7201a8\"],[0.3333333333333333,\"#9c179e\"],[0.4444444444444444,\"#bd3786\"],[0.5555555555555556,\"#d8576b\"],[0.6666666666666666,\"#ed7953\"],[0.7777777777777778,\"#fb9f3a\"],[0.8888888888888888,\"#fdca26\"],[1.0,\"#f0f921\"]]}],\"choropleth\":[{\"type\":\"choropleth\",\"colorbar\":{\"outlinewidth\":0,\"ticks\":\"\"}}],\"histogram2d\":[{\"type\":\"histogram2d\",\"colorbar\":{\"outlinewidth\":0,\"ticks\":\"\"},\"colorscale\":[[0.0,\"#0d0887\"],[0.1111111111111111,\"#46039f\"],[0.2222222222222222,\"#7201a8\"],[0.3333333333333333,\"#9c179e\"],[0.4444444444444444,\"#bd3786\"],[0.5555555555555556,\"#d8576b\"],[0.6666666666666666,\"#ed7953\"],[0.7777777777777778,\"#fb9f3a\"],[0.8888888888888888,\"#fdca26\"],[1.0,\"#f0f921\"]]}],\"heatmap\":[{\"type\":\"heatmap\",\"colorbar\":{\"outlinewidth\":0,\"ticks\":\"\"},\"colorscale\":[[0.0,\"#0d0887\"],[0.1111111111111111,\"#46039f\"],[0.2222222222222222,\"#7201a8\"],[0.3333333333333333,\"#9c179e\"],[0.4444444444444444,\"#bd3786\"],[0.5555555555555556,\"#d8576b\"],[0.6666666666666666,\"#ed7953\"],[0.7777777777777778,\"#fb9f3a\"],[0.8888888888888888,\"#fdca26\"],[1.0,\"#f0f921\"]]}],\"heatmapgl\":[{\"type\":\"heatmapgl\",\"colorbar\":{\"outlinewidth\":0,\"ticks\":\"\"},\"colorscale\":[[0.0,\"#0d0887\"],[0.1111111111111111,\"#46039f\"],[0.2222222222222222,\"#7201a8\"],[0.3333333333333333,\"#9c179e\"],[0.4444444444444444,\"#bd3786\"],[0.5555555555555556,\"#d8576b\"],[0.6666666666666666,\"#ed7953\"],[0.7777777777777778,\"#fb9f3a\"],[0.8888888888888888,\"#fdca26\"],[1.0,\"#f0f921\"]]}],\"contourcarpet\":[{\"type\":\"contourcarpet\",\"colorbar\":{\"outlinewidth\":0,\"ticks\":\"\"}}],\"contour\":[{\"type\":\"contour\",\"colorbar\":{\"outlinewidth\":0,\"ticks\":\"\"},\"colorscale\":[[0.0,\"#0d0887\"],[0.1111111111111111,\"#46039f\"],[0.2222222222222222,\"#7201a8\"],[0.3333333333333333,\"#9c179e\"],[0.4444444444444444,\"#bd3786\"],[0.5555555555555556,\"#d8576b\"],[0.6666666666666666,\"#ed7953\"],[0.7777777777777778,\"#fb9f3a\"],[0.8888888888888888,\"#fdca26\"],[1.0,\"#f0f921\"]]}],\"surface\":[{\"type\":\"surface\",\"colorbar\":{\"outlinewidth\":0,\"ticks\":\"\"},\"colorscale\":[[0.0,\"#0d0887\"],[0.1111111111111111,\"#46039f\"],[0.2222222222222222,\"#7201a8\"],[0.3333333333333333,\"#9c179e\"],[0.4444444444444444,\"#bd3786\"],[0.5555555555555556,\"#d8576b\"],[0.6666666666666666,\"#ed7953\"],[0.7777777777777778,\"#fb9f3a\"],[0.8888888888888888,\"#fdca26\"],[1.0,\"#f0f921\"]]}],\"mesh3d\":[{\"type\":\"mesh3d\",\"colorbar\":{\"outlinewidth\":0,\"ticks\":\"\"}}],\"scatter\":[{\"fillpattern\":{\"fillmode\":\"overlay\",\"size\":10,\"solidity\":0.2},\"type\":\"scatter\"}],\"parcoords\":[{\"type\":\"parcoords\",\"line\":{\"colorbar\":{\"outlinewidth\":0,\"ticks\":\"\"}}}],\"scatterpolargl\":[{\"type\":\"scatterpolargl\",\"marker\":{\"colorbar\":{\"outlinewidth\":0,\"ticks\":\"\"}}}],\"bar\":[{\"error_x\":{\"color\":\"#2a3f5f\"},\"error_y\":{\"color\":\"#2a3f5f\"},\"marker\":{\"line\":{\"color\":\"#E5ECF6\",\"width\":0.5},\"pattern\":{\"fillmode\":\"overlay\",\"size\":10,\"solidity\":0.2}},\"type\":\"bar\"}],\"scattergeo\":[{\"type\":\"scattergeo\",\"marker\":{\"colorbar\":{\"outlinewidth\":0,\"ticks\":\"\"}}}],\"scatterpolar\":[{\"type\":\"scatterpolar\",\"marker\":{\"colorbar\":{\"outlinewidth\":0,\"ticks\":\"\"}}}],\"histogram\":[{\"marker\":{\"pattern\":{\"fillmode\":\"overlay\",\"size\":10,\"solidity\":0.2}},\"type\":\"histogram\"}],\"scattergl\":[{\"type\":\"scattergl\",\"marker\":{\"colorbar\":{\"outlinewidth\":0,\"ticks\":\"\"}}}],\"scatter3d\":[{\"type\":\"scatter3d\",\"line\":{\"colorbar\":{\"outlinewidth\":0,\"ticks\":\"\"}},\"marker\":{\"colorbar\":{\"outlinewidth\":0,\"ticks\":\"\"}}}],\"scattermapbox\":[{\"type\":\"scattermapbox\",\"marker\":{\"colorbar\":{\"outlinewidth\":0,\"ticks\":\"\"}}}],\"scatterternary\":[{\"type\":\"scatterternary\",\"marker\":{\"colorbar\":{\"outlinewidth\":0,\"ticks\":\"\"}}}],\"scattercarpet\":[{\"type\":\"scattercarpet\",\"marker\":{\"colorbar\":{\"outlinewidth\":0,\"ticks\":\"\"}}}],\"carpet\":[{\"aaxis\":{\"endlinecolor\":\"#2a3f5f\",\"gridcolor\":\"white\",\"linecolor\":\"white\",\"minorgridcolor\":\"white\",\"startlinecolor\":\"#2a3f5f\"},\"baxis\":{\"endlinecolor\":\"#2a3f5f\",\"gridcolor\":\"white\",\"linecolor\":\"white\",\"minorgridcolor\":\"white\",\"startlinecolor\":\"#2a3f5f\"},\"type\":\"carpet\"}],\"table\":[{\"cells\":{\"fill\":{\"color\":\"#EBF0F8\"},\"line\":{\"color\":\"white\"}},\"header\":{\"fill\":{\"color\":\"#C8D4E3\"},\"line\":{\"color\":\"white\"}},\"type\":\"table\"}],\"barpolar\":[{\"marker\":{\"line\":{\"color\":\"#E5ECF6\",\"width\":0.5},\"pattern\":{\"fillmode\":\"overlay\",\"size\":10,\"solidity\":0.2}},\"type\":\"barpolar\"}],\"pie\":[{\"automargin\":true,\"type\":\"pie\"}]},\"layout\":{\"autotypenumbers\":\"strict\",\"colorway\":[\"#636efa\",\"#EF553B\",\"#00cc96\",\"#ab63fa\",\"#FFA15A\",\"#19d3f3\",\"#FF6692\",\"#B6E880\",\"#FF97FF\",\"#FECB52\"],\"font\":{\"color\":\"#2a3f5f\"},\"hovermode\":\"closest\",\"hoverlabel\":{\"align\":\"left\"},\"paper_bgcolor\":\"white\",\"plot_bgcolor\":\"#E5ECF6\",\"polar\":{\"bgcolor\":\"#E5ECF6\",\"angularaxis\":{\"gridcolor\":\"white\",\"linecolor\":\"white\",\"ticks\":\"\"},\"radialaxis\":{\"gridcolor\":\"white\",\"linecolor\":\"white\",\"ticks\":\"\"}},\"ternary\":{\"bgcolor\":\"#E5ECF6\",\"aaxis\":{\"gridcolor\":\"white\",\"linecolor\":\"white\",\"ticks\":\"\"},\"baxis\":{\"gridcolor\":\"white\",\"linecolor\":\"white\",\"ticks\":\"\"},\"caxis\":{\"gridcolor\":\"white\",\"linecolor\":\"white\",\"ticks\":\"\"}},\"coloraxis\":{\"colorbar\":{\"outlinewidth\":0,\"ticks\":\"\"}},\"colorscale\":{\"sequential\":[[0.0,\"#0d0887\"],[0.1111111111111111,\"#46039f\"],[0.2222222222222222,\"#7201a8\"],[0.3333333333333333,\"#9c179e\"],[0.4444444444444444,\"#bd3786\"],[0.5555555555555556,\"#d8576b\"],[0.6666666666666666,\"#ed7953\"],[0.7777777777777778,\"#fb9f3a\"],[0.8888888888888888,\"#fdca26\"],[1.0,\"#f0f921\"]],\"sequentialminus\":[[0.0,\"#0d0887\"],[0.1111111111111111,\"#46039f\"],[0.2222222222222222,\"#7201a8\"],[0.3333333333333333,\"#9c179e\"],[0.4444444444444444,\"#bd3786\"],[0.5555555555555556,\"#d8576b\"],[0.6666666666666666,\"#ed7953\"],[0.7777777777777778,\"#fb9f3a\"],[0.8888888888888888,\"#fdca26\"],[1.0,\"#f0f921\"]],\"diverging\":[[0,\"#8e0152\"],[0.1,\"#c51b7d\"],[0.2,\"#de77ae\"],[0.3,\"#f1b6da\"],[0.4,\"#fde0ef\"],[0.5,\"#f7f7f7\"],[0.6,\"#e6f5d0\"],[0.7,\"#b8e186\"],[0.8,\"#7fbc41\"],[0.9,\"#4d9221\"],[1,\"#276419\"]]},\"xaxis\":{\"gridcolor\":\"white\",\"linecolor\":\"white\",\"ticks\":\"\",\"title\":{\"standoff\":15},\"zerolinecolor\":\"white\",\"automargin\":true,\"zerolinewidth\":2},\"yaxis\":{\"gridcolor\":\"white\",\"linecolor\":\"white\",\"ticks\":\"\",\"title\":{\"standoff\":15},\"zerolinecolor\":\"white\",\"automargin\":true,\"zerolinewidth\":2},\"scene\":{\"xaxis\":{\"backgroundcolor\":\"#E5ECF6\",\"gridcolor\":\"white\",\"linecolor\":\"white\",\"showbackground\":true,\"ticks\":\"\",\"zerolinecolor\":\"white\",\"gridwidth\":2},\"yaxis\":{\"backgroundcolor\":\"#E5ECF6\",\"gridcolor\":\"white\",\"linecolor\":\"white\",\"showbackground\":true,\"ticks\":\"\",\"zerolinecolor\":\"white\",\"gridwidth\":2},\"zaxis\":{\"backgroundcolor\":\"#E5ECF6\",\"gridcolor\":\"white\",\"linecolor\":\"white\",\"showbackground\":true,\"ticks\":\"\",\"zerolinecolor\":\"white\",\"gridwidth\":2}},\"shapedefaults\":{\"line\":{\"color\":\"#2a3f5f\"}},\"annotationdefaults\":{\"arrowcolor\":\"#2a3f5f\",\"arrowhead\":0,\"arrowwidth\":1},\"geo\":{\"bgcolor\":\"white\",\"landcolor\":\"#E5ECF6\",\"subunitcolor\":\"white\",\"showland\":true,\"showlakes\":true,\"lakecolor\":\"white\"},\"title\":{\"x\":0.05},\"mapbox\":{\"style\":\"light\"}}}},                        {\"responsive\": true}                    ).then(function(){\n",
       "                            \n",
       "var gd = document.getElementById('6bb553f3-0f2c-4a58-9d9a-0b244571c83f');\n",
       "var x = new MutationObserver(function (mutations, observer) {{\n",
       "        var display = window.getComputedStyle(gd).display;\n",
       "        if (!display || display === 'none') {{\n",
       "            console.log([gd, 'removed!']);\n",
       "            Plotly.purge(gd);\n",
       "            observer.disconnect();\n",
       "        }}\n",
       "}});\n",
       "\n",
       "// Listen for the removal of the full notebook cells\n",
       "var notebookContainer = gd.closest('#notebook-container');\n",
       "if (notebookContainer) {{\n",
       "    x.observe(notebookContainer, {childList: true});\n",
       "}}\n",
       "\n",
       "// Listen for the clearing of the current output cell\n",
       "var outputEl = gd.closest('.output');\n",
       "if (outputEl) {{\n",
       "    x.observe(outputEl, {childList: true});\n",
       "}}\n",
       "\n",
       "                        })                };                });            </script>        </div>"
      ]
     },
     "metadata": {},
     "output_type": "display_data"
    }
   ],
   "source": [
    "num_vert = 1\n",
    "import plotly.graph_objects as go\n",
    "fig = go.Figure()\n",
    "fig.add_trace(go.Scatter(y=data_fsnative_[:,num_vert], name='data', mode='markers'))\n",
    "fig.add_trace(go.Scatter(y=gauss_pred_mat[:,num_vert], name='Gauss model (R2={:1.2f})'.format(gauss_fit_mat[num_vert,-1])))\n",
    "fig.show()"
   ]
  },
  {
   "cell_type": "code",
   "execution_count": 69,
   "id": "15ba0a07-313c-4ac5-a987-c5f56815b798",
   "metadata": {},
   "outputs": [],
   "source": [
    "# determine DN model\n",
    "dn_model = Norm_Iso2DGaussianModel(stimulus=stimulus)\n",
    "dn_fitter = Norm_Iso2DGaussianFitter(data=data_fsnative_.T, \n",
    "                                     model=dn_model, \n",
    "                                     n_jobs=n_jobs,\n",
    "                                     use_previous_gaussian_fitter_hrf=True,\n",
    "                                     previous_gaussian_fitter=gauss_fitter)"
   ]
  },
  {
   "cell_type": "code",
   "execution_count": 70,
   "id": "42088f02-2ac8-4cb3-93ad-9f818af3aa3a",
   "metadata": {},
   "outputs": [
    {
     "name": "stdout",
     "output_type": "stream",
     "text": [
      "Using HRF from previous gaussian iterative fit\n"
     ]
    },
    {
     "name": "stderr",
     "output_type": "stream",
     "text": [
      "[Parallel(n_jobs=32)]: Using backend LokyBackend with 32 concurrent workers.\n",
      "/Users/uriel/softwares/anaconda3/envs/amblyo_env/prfpy/prfpy/model.py:607: RuntimeWarning: divide by zero encountered in divide\n",
      "  tc = self.convolve_timecourse_hrf(((prf_amplitude[..., np.newaxis] * activation_part + neural_baseline[..., np.newaxis]) /\\\n",
      "/Users/uriel/softwares/anaconda3/envs/amblyo_env/prfpy/prfpy/model.py:609: RuntimeWarning: divide by zero encountered in divide\n",
      "  - neural_baseline[..., np.newaxis]/surround_baseline[..., np.newaxis]).astype('float32')\n",
      "/Users/uriel/softwares/anaconda3/envs/amblyo_env/prfpy/prfpy/model.py:609: RuntimeWarning: invalid value encountered in divide\n",
      "  - neural_baseline[..., np.newaxis]/surround_baseline[..., np.newaxis]).astype('float32')\n",
      "/Users/uriel/softwares/anaconda3/envs/amblyo_env/prfpy/prfpy/model.py:607: RuntimeWarning: invalid value encountered in subtract\n",
      "  tc = self.convolve_timecourse_hrf(((prf_amplitude[..., np.newaxis] * activation_part + neural_baseline[..., np.newaxis]) /\\\n",
      "/Users/uriel/softwares/anaconda3/envs/amblyo_env/prfpy/prfpy/model.py:607: RuntimeWarning: divide by zero encountered in divide\n",
      "  tc = self.convolve_timecourse_hrf(((prf_amplitude[..., np.newaxis] * activation_part + neural_baseline[..., np.newaxis]) /\\\n",
      "/Users/uriel/softwares/anaconda3/envs/amblyo_env/prfpy/prfpy/model.py:609: RuntimeWarning: divide by zero encountered in divide\n",
      "  - neural_baseline[..., np.newaxis]/surround_baseline[..., np.newaxis]).astype('float32')\n",
      "/Users/uriel/softwares/anaconda3/envs/amblyo_env/prfpy/prfpy/model.py:609: RuntimeWarning: invalid value encountered in divide\n",
      "  - neural_baseline[..., np.newaxis]/surround_baseline[..., np.newaxis]).astype('float32')\n",
      "/Users/uriel/softwares/anaconda3/envs/amblyo_env/prfpy/prfpy/model.py:607: RuntimeWarning: invalid value encountered in subtract\n",
      "  tc = self.convolve_timecourse_hrf(((prf_amplitude[..., np.newaxis] * activation_part + neural_baseline[..., np.newaxis]) /\\\n",
      "/Users/uriel/softwares/anaconda3/envs/amblyo_env/prfpy/prfpy/model.py:607: RuntimeWarning: divide by zero encountered in divide\n",
      "  tc = self.convolve_timecourse_hrf(((prf_amplitude[..., np.newaxis] * activation_part + neural_baseline[..., np.newaxis]) /\\\n",
      "/Users/uriel/softwares/anaconda3/envs/amblyo_env/prfpy/prfpy/model.py:609: RuntimeWarning: divide by zero encountered in divide\n",
      "  - neural_baseline[..., np.newaxis]/surround_baseline[..., np.newaxis]).astype('float32')\n",
      "/Users/uriel/softwares/anaconda3/envs/amblyo_env/prfpy/prfpy/model.py:609: RuntimeWarning: invalid value encountered in divide\n",
      "  - neural_baseline[..., np.newaxis]/surround_baseline[..., np.newaxis]).astype('float32')\n",
      "/Users/uriel/softwares/anaconda3/envs/amblyo_env/prfpy/prfpy/model.py:607: RuntimeWarning: invalid value encountered in subtract\n",
      "  tc = self.convolve_timecourse_hrf(((prf_amplitude[..., np.newaxis] * activation_part + neural_baseline[..., np.newaxis]) /\\\n",
      "/Users/uriel/softwares/anaconda3/envs/amblyo_env/prfpy/prfpy/model.py:607: RuntimeWarning: divide by zero encountered in divide\n",
      "  tc = self.convolve_timecourse_hrf(((prf_amplitude[..., np.newaxis] * activation_part + neural_baseline[..., np.newaxis]) /\\\n",
      "/Users/uriel/softwares/anaconda3/envs/amblyo_env/prfpy/prfpy/model.py:609: RuntimeWarning: divide by zero encountered in divide\n",
      "  - neural_baseline[..., np.newaxis]/surround_baseline[..., np.newaxis]).astype('float32')\n",
      "/Users/uriel/softwares/anaconda3/envs/amblyo_env/prfpy/prfpy/model.py:609: RuntimeWarning: invalid value encountered in divide\n",
      "  - neural_baseline[..., np.newaxis]/surround_baseline[..., np.newaxis]).astype('float32')\n",
      "/Users/uriel/softwares/anaconda3/envs/amblyo_env/prfpy/prfpy/model.py:607: RuntimeWarning: invalid value encountered in subtract\n",
      "  tc = self.convolve_timecourse_hrf(((prf_amplitude[..., np.newaxis] * activation_part + neural_baseline[..., np.newaxis]) /\\\n",
      "/Users/uriel/softwares/anaconda3/envs/amblyo_env/prfpy/prfpy/model.py:607: RuntimeWarning: divide by zero encountered in divide\n",
      "  tc = self.convolve_timecourse_hrf(((prf_amplitude[..., np.newaxis] * activation_part + neural_baseline[..., np.newaxis]) /\\\n",
      "/Users/uriel/softwares/anaconda3/envs/amblyo_env/prfpy/prfpy/model.py:609: RuntimeWarning: divide by zero encountered in divide\n",
      "  - neural_baseline[..., np.newaxis]/surround_baseline[..., np.newaxis]).astype('float32')\n",
      "/Users/uriel/softwares/anaconda3/envs/amblyo_env/prfpy/prfpy/model.py:609: RuntimeWarning: invalid value encountered in divide\n",
      "  - neural_baseline[..., np.newaxis]/surround_baseline[..., np.newaxis]).astype('float32')\n",
      "/Users/uriel/softwares/anaconda3/envs/amblyo_env/prfpy/prfpy/model.py:607: RuntimeWarning: invalid value encountered in subtract\n",
      "  tc = self.convolve_timecourse_hrf(((prf_amplitude[..., np.newaxis] * activation_part + neural_baseline[..., np.newaxis]) /\\\n",
      "/Users/uriel/softwares/anaconda3/envs/amblyo_env/prfpy/prfpy/model.py:607: RuntimeWarning: divide by zero encountered in divide\n",
      "  tc = self.convolve_timecourse_hrf(((prf_amplitude[..., np.newaxis] * activation_part + neural_baseline[..., np.newaxis]) /\\\n",
      "/Users/uriel/softwares/anaconda3/envs/amblyo_env/prfpy/prfpy/model.py:609: RuntimeWarning: divide by zero encountered in divide\n",
      "  - neural_baseline[..., np.newaxis]/surround_baseline[..., np.newaxis]).astype('float32')\n",
      "/Users/uriel/softwares/anaconda3/envs/amblyo_env/prfpy/prfpy/model.py:609: RuntimeWarning: invalid value encountered in divide\n",
      "  - neural_baseline[..., np.newaxis]/surround_baseline[..., np.newaxis]).astype('float32')\n",
      "/Users/uriel/softwares/anaconda3/envs/amblyo_env/prfpy/prfpy/model.py:607: RuntimeWarning: invalid value encountered in subtract\n",
      "  tc = self.convolve_timecourse_hrf(((prf_amplitude[..., np.newaxis] * activation_part + neural_baseline[..., np.newaxis]) /\\\n",
      "/Users/uriel/softwares/anaconda3/envs/amblyo_env/prfpy/prfpy/model.py:607: RuntimeWarning: divide by zero encountered in divide\n",
      "  tc = self.convolve_timecourse_hrf(((prf_amplitude[..., np.newaxis] * activation_part + neural_baseline[..., np.newaxis]) /\\\n",
      "/Users/uriel/softwares/anaconda3/envs/amblyo_env/prfpy/prfpy/model.py:609: RuntimeWarning: divide by zero encountered in divide\n",
      "  - neural_baseline[..., np.newaxis]/surround_baseline[..., np.newaxis]).astype('float32')\n",
      "/Users/uriel/softwares/anaconda3/envs/amblyo_env/prfpy/prfpy/model.py:609: RuntimeWarning: invalid value encountered in divide\n",
      "  - neural_baseline[..., np.newaxis]/surround_baseline[..., np.newaxis]).astype('float32')\n",
      "/Users/uriel/softwares/anaconda3/envs/amblyo_env/prfpy/prfpy/model.py:607: RuntimeWarning: invalid value encountered in subtract\n",
      "  tc = self.convolve_timecourse_hrf(((prf_amplitude[..., np.newaxis] * activation_part + neural_baseline[..., np.newaxis]) /\\\n",
      "/Users/uriel/softwares/anaconda3/envs/amblyo_env/lib/python3.9/site-packages/scipy/signal/_signaltools.py:509: RuntimeWarning: invalid value encountered in multiply\n",
      "  ret = ifft(sp1 * sp2, fshape, axes=axes)\n",
      "/Users/uriel/softwares/anaconda3/envs/amblyo_env/lib/python3.9/site-packages/scipy/signal/_signaltools.py:509: RuntimeWarning: invalid value encountered in multiply\n",
      "  ret = ifft(sp1 * sp2, fshape, axes=axes)\n",
      "[Parallel(n_jobs=32)]: Done   1 tasks      | elapsed:    7.9s\n",
      "[Parallel(n_jobs=32)]: Done   2 out of  32 | elapsed:    7.9s remaining:  2.0min\n",
      "[Parallel(n_jobs=32)]: Done   5 out of  32 | elapsed:    7.9s remaining:   42.8s\n",
      "[Parallel(n_jobs=32)]: Done   8 out of  32 | elapsed:    8.0s remaining:   23.9s\n",
      "[Parallel(n_jobs=32)]: Done  11 out of  32 | elapsed:    8.1s remaining:   15.4s\n",
      "[Parallel(n_jobs=32)]: Done  14 out of  32 | elapsed:    8.1s remaining:   10.4s\n",
      "[Parallel(n_jobs=32)]: Done  17 out of  32 | elapsed:    8.3s remaining:    7.3s\n",
      "[Parallel(n_jobs=32)]: Done  20 out of  32 | elapsed:    8.8s remaining:    5.3s\n",
      "/Users/uriel/softwares/anaconda3/envs/amblyo_env/lib/python3.9/site-packages/scipy/signal/_signaltools.py:509: RuntimeWarning: invalid value encountered in multiply\n",
      "  ret = ifft(sp1 * sp2, fshape, axes=axes)\n",
      "/Users/uriel/softwares/anaconda3/envs/amblyo_env/lib/python3.9/site-packages/scipy/signal/_signaltools.py:509: RuntimeWarning: invalid value encountered in multiply\n",
      "  ret = ifft(sp1 * sp2, fshape, axes=axes)\n",
      "/Users/uriel/softwares/anaconda3/envs/amblyo_env/lib/python3.9/site-packages/scipy/signal/_signaltools.py:509: RuntimeWarning: invalid value encountered in multiply\n",
      "  ret = ifft(sp1 * sp2, fshape, axes=axes)\n",
      "/Users/uriel/softwares/anaconda3/envs/amblyo_env/lib/python3.9/site-packages/scipy/signal/_signaltools.py:509: RuntimeWarning: invalid value encountered in multiply\n",
      "  ret = ifft(sp1 * sp2, fshape, axes=axes)\n",
      "/Users/uriel/softwares/anaconda3/envs/amblyo_env/lib/python3.9/site-packages/scipy/signal/_signaltools.py:509: RuntimeWarning: invalid value encountered in multiply\n",
      "  ret = ifft(sp1 * sp2, fshape, axes=axes)\n",
      "[Parallel(n_jobs=32)]: Done  23 out of  32 | elapsed:    9.2s remaining:    3.6s\n",
      "/Users/uriel/softwares/anaconda3/envs/amblyo_env/prfpy/prfpy/model.py:607: RuntimeWarning: divide by zero encountered in divide\n",
      "  tc = self.convolve_timecourse_hrf(((prf_amplitude[..., np.newaxis] * activation_part + neural_baseline[..., np.newaxis]) /\\\n",
      "/Users/uriel/softwares/anaconda3/envs/amblyo_env/prfpy/prfpy/model.py:609: RuntimeWarning: divide by zero encountered in divide\n",
      "  - neural_baseline[..., np.newaxis]/surround_baseline[..., np.newaxis]).astype('float32')\n",
      "/Users/uriel/softwares/anaconda3/envs/amblyo_env/prfpy/prfpy/model.py:609: RuntimeWarning: invalid value encountered in divide\n",
      "  - neural_baseline[..., np.newaxis]/surround_baseline[..., np.newaxis]).astype('float32')\n",
      "/Users/uriel/softwares/anaconda3/envs/amblyo_env/prfpy/prfpy/model.py:607: RuntimeWarning: invalid value encountered in subtract\n",
      "  tc = self.convolve_timecourse_hrf(((prf_amplitude[..., np.newaxis] * activation_part + neural_baseline[..., np.newaxis]) /\\\n",
      "/Users/uriel/softwares/anaconda3/envs/amblyo_env/lib/python3.9/site-packages/scipy/signal/_signaltools.py:509: RuntimeWarning: invalid value encountered in multiply\n",
      "  ret = ifft(sp1 * sp2, fshape, axes=axes)\n",
      "[Parallel(n_jobs=32)]: Done  26 out of  32 | elapsed:   15.1s remaining:    3.5s\n",
      "/Users/uriel/softwares/anaconda3/envs/amblyo_env/prfpy/prfpy/model.py:607: RuntimeWarning: divide by zero encountered in divide\n",
      "  tc = self.convolve_timecourse_hrf(((prf_amplitude[..., np.newaxis] * activation_part + neural_baseline[..., np.newaxis]) /\\\n",
      "/Users/uriel/softwares/anaconda3/envs/amblyo_env/prfpy/prfpy/model.py:609: RuntimeWarning: divide by zero encountered in divide\n",
      "  - neural_baseline[..., np.newaxis]/surround_baseline[..., np.newaxis]).astype('float32')\n",
      "/Users/uriel/softwares/anaconda3/envs/amblyo_env/prfpy/prfpy/model.py:609: RuntimeWarning: invalid value encountered in divide\n",
      "  - neural_baseline[..., np.newaxis]/surround_baseline[..., np.newaxis]).astype('float32')\n",
      "/Users/uriel/softwares/anaconda3/envs/amblyo_env/prfpy/prfpy/model.py:607: RuntimeWarning: invalid value encountered in subtract\n",
      "  tc = self.convolve_timecourse_hrf(((prf_amplitude[..., np.newaxis] * activation_part + neural_baseline[..., np.newaxis]) /\\\n",
      "[Parallel(n_jobs=32)]: Done  29 out of  32 | elapsed:   16.2s remaining:    1.7s\n",
      "/Users/uriel/softwares/anaconda3/envs/amblyo_env/lib/python3.9/site-packages/scipy/signal/_signaltools.py:509: RuntimeWarning: invalid value encountered in multiply\n",
      "  ret = ifft(sp1 * sp2, fshape, axes=axes)\n",
      "[Parallel(n_jobs=32)]: Done  32 out of  32 | elapsed:   16.5s remaining:    0.0s\n",
      "[Parallel(n_jobs=32)]: Done  32 out of  32 | elapsed:   16.5s finished\n"
     ]
    }
   ],
   "source": [
    "# dn parameters\n",
    "fixed_grid_baseline = 0\n",
    "grid_bounds = [(0,100),(0,100)]\n",
    "surround_size_grid = sizes#max_ecc_size * np.linspace(0.1,1,dn_grid_nr)**2\n",
    "surround_amplitude_grid = np.linspace(0, 10, dn_grid_nr)\n",
    "surround_baseline_grid = np.linspace(0, 10, dn_grid_nr)\n",
    "neural_baseline_grid = np.linspace(0, 10, dn_grid_nr)\n",
    "\n",
    "dn_fitter.grid_fit(\n",
    "    fixed_grid_baseline=fixed_grid_baseline,\n",
    "    grid_bounds=grid_bounds,\n",
    "    surround_amplitude_grid=surround_amplitude_grid,\n",
    "    surround_size_grid=surround_size_grid,             \n",
    "    surround_baseline_grid=surround_baseline_grid,\n",
    "    neural_baseline_grid=neural_baseline_grid,\n",
    "    n_batches=n_batches,\n",
    "    rsq_threshold=rsq_threshold,\n",
    "    verbose=verbose,\n",
    "    # hrf_1_grid=np.linspace(0,10,num),\n",
    "    # hrf_2_grid=np.linspace(0,0,1)\n",
    ")"
   ]
  },
  {
   "cell_type": "code",
   "execution_count": 74,
   "id": "944884f8-ab62-4dc1-8c05-977a34282bf1",
   "metadata": {},
   "outputs": [],
   "source": [
    "dn_fitter.iterative_fit(rsq_threshold=rsq_threshold, \n",
    "                        verbose=verbose,\n",
    "                        bounds = norm_bounds,\n",
    "                        xtol=xtol,\n",
    "                        ftol=ftol\n",
    "                       )\n",
    "fit_fit_dn = dn_fitter.iterative_search_params"
   ]
  },
  {
   "cell_type": "code",
   "execution_count": 75,
   "id": "866203af-24be-47aa-92a7-d92d654b1cc6",
   "metadata": {},
   "outputs": [],
   "source": [
    "dn_fit_mat = np.zeros((data_fsnative_.shape[1],12))\n",
    "dn_pred_mat = np.zeros_like(data_fsnative_) \n",
    "for est in range(len(data_fsnative_.T)):\n",
    "    dn_fit_mat[est] = fit_fit_dn[est]\n",
    "    dn_pred_mat[:,est] = dn_model.return_prediction(mu_x=fit_fit_dn[est][0], \n",
    "                                                    mu_y=fit_fit_dn[est][1], \n",
    "                                                    prf_size=fit_fit_dn[est][2], \n",
    "                                                    prf_amplitude=fit_fit_dn[est][3], \n",
    "                                                    bold_baseline=fit_fit_dn[est][4],\n",
    "                                                    srf_amplitude=fit_fit_dn[est][5],\n",
    "                                                    srf_size=fit_fit_dn[est][6],\n",
    "                                                    neural_baseline=fit_fit_dn[est][7],\n",
    "                                                    surround_baseline=fit_fit_dn[est][8]\n",
    "                                                   )"
   ]
  },
  {
   "cell_type": "code",
   "execution_count": 29,
   "id": "01922833-49a0-44db-bfa1-c872776a7188",
   "metadata": {},
   "outputs": [
    {
     "data": {
      "application/vnd.plotly.v1+json": {
       "config": {
        "plotlyServerURL": "https://plot.ly"
       },
       "data": [
        {
         "mode": "markers",
         "name": "data",
         "type": "scatter",
         "y": [
          -0.46451565623283386,
          -0.4333553910255432,
          -0.3940458595752716,
          -0.9936013221740723,
          -0.3979358971118927,
          -0.16976413130760193,
          -0.5784423351287842,
          -0.3724578320980072,
          -0.43575823307037354,
          -0.051716335117816925,
          -0.32837462425231934,
          -0.1878083497285843,
          -0.5925933718681335,
          -0.0204521082341671,
          -0.16074249148368835,
          -0.4922313988208771,
          -0.3168126046657562,
          -0.012043099850416183,
          -0.17170432209968567,
          -0.3342062532901764,
          0.027211971580982208,
          -0.18349872529506683,
          -0.23486033082008362,
          -0.0922304093837738,
          0.061348069459199905,
          0.006775916554033756,
          0.2431197315454483,
          0.6500867605209351,
          0.39869338274002075,
          0.8637851476669312,
          0.5800600647926331,
          0.8556064367294312,
          1.405916452407837,
          1.2476319074630737,
          1.2182179689407349,
          1.0328412055969238,
          1.2309598922729492,
          1.7671394348144531,
          1.492676019668579,
          1.3817890882492065,
          1.1940040588378906,
          0.4566816985607147,
          0.6084573268890381,
          0.3589816093444824,
          -0.5586943626403809,
          -1.0380609035491943,
          -0.029652632772922516,
          -0.4146476984024048,
          -0.11789290606975555,
          -0.24630442261695862,
          -0.7828664183616638,
          -0.3977244198322296,
          -0.42281001806259155,
          -0.9177983403205872,
          -0.1674816757440567,
          -0.12182362377643585,
          -0.6840515732765198,
          -0.09551005810499191,
          0.6285955905914307,
          -0.8731086850166321,
          -0.664839506149292,
          0.3313804566860199,
          -0.4935385286808014,
          -0.6419512033462524,
          0.15091656148433685,
          -1.026358723640442,
          -0.6489500999450684,
          -0.41030141711235046,
          -0.9172419309616089,
          -0.36778444051742554,
          -0.41275084018707275,
          -0.8814964294433594,
          -0.7836185693740845,
          -0.5571553707122803,
          -0.5031447410583496,
          -0.9306172728538513,
          -0.46078038215637207,
          -0.4709394574165344,
          -0.30250611901283264,
          -0.289795845746994,
          -0.2955162525177002,
          0.19615629315376282,
          -0.1638716459274292,
          -0.34479987621307373,
          0.16671805083751678,
          -0.33466994762420654,
          -0.43480345606803894,
          -0.5215189456939697,
          0.06552956998348236,
          0.42685985565185547,
          0.14514870941638947,
          1.4446300268173218,
          1.6623029708862305,
          0.911749541759491,
          2.1242170333862305,
          1.1518006324768066,
          1.2735084295272827,
          2.0652918815612793,
          0.765725314617157,
          1.092130184173584,
          1.954370141029358,
          0.33947622776031494,
          0.4961499273777008,
          0.5570548176765442,
          -0.7982292771339417,
          -0.24512659013271332,
          0.020605992525815964,
          -0.8390153646469116,
          -0.31542813777923584,
          0.24518583714962006,
          -1.2273341417312622,
          -0.5724681615829468,
          0.4973587989807129,
          -1.0851291418075562,
          -0.4263242781162262,
          -0.16998928785324097,
          -0.8894248008728027,
          -0.545548677444458,
          -0.3924803137779236,
          -0.788529098033905,
          -0.06760288774967194,
          -0.6790245771408081,
          -0.8207771182060242,
          -0.31440305709838867,
          -0.5117112398147583,
          -0.26165372133255005,
          0.17101357877254486,
          0.04588817432522774,
          0.5059248805046082,
          0.17822378873825073,
          0.10415035486221313,
          0.6291542649269104,
          0.22974050045013428,
          0.15116098523139954,
          0.7157631516456604,
          -0.2570572793483734,
          0.5271182656288147,
          0.47145843505859375,
          -0.10331225395202637,
          0.8751691579818726,
          -0.32617640495300293,
          -0.2135603427886963,
          -0.23751869797706604,
          -0.9288399815559387,
          -0.13962003588676453,
          -0.34789490699768066,
          0.19795957207679749,
          0.9448975324630737,
          0.27205392718315125,
          -0.47698646783828735,
          -0.5094539523124695,
          -0.04166506230831146,
          -0.19887523353099823,
          -0.7330455183982849,
          -0.6224642992019653,
          -0.2388233244419098,
          -0.5888027548789978,
          -0.6862248778343201,
          0.01085476391017437,
          -0.7745605707168579,
          -0.6230154037475586,
          -0.7347935438156128,
          -0.5905814170837402,
          -0.264813631772995,
          0.06019328162074089,
          -0.04778168350458145,
          0.4577493965625763,
          0.5304150581359863,
          0.5358893871307373,
          0.6223706007003784,
          0.6822814345359802,
          1.1183445453643799,
          1.2503794431686401,
          0.7088503241539001,
          1.2463473081588745,
          0.6467164754867554,
          0.8714522123336792,
          1.0262551307678223,
          0.08968880772590637,
          0.057874321937561035,
          -0.22649399936199188,
          -0.38796770572662354,
          0.14661146700382233,
          -0.2191014289855957,
          0.22816875576972961,
          -0.5138629674911499,
          0.2080240249633789,
          0.06060299277305603,
          -0.5661664605140686,
          0.28143179416656494,
          -0.4083101451396942,
          0.45429527759552,
          0.08385206758975983,
          -0.1066211387515068,
          0.5548379421234131,
          0.09200464189052582,
          -0.6971935033798218,
          -0.19588671624660492,
          -0.30580952763557434,
          -0.15978692471981049,
          -0.21559682488441467,
          -0.29325973987579346,
          0.32348203659057617,
          -0.710381031036377,
          -0.5984110236167908,
          0.018445447087287903,
          -0.8109158277511597,
          0.01940823346376419
         ]
        },
        {
         "name": "Gauss model (R2=0.41)",
         "type": "scatter",
         "y": [
          0.002122816164046526,
          0.00211977562867105,
          0.002118056872859597,
          0.0021171157713979483,
          0.0021166163496673107,
          0.0021163583733141422,
          0.0021162291523069143,
          0.002116170711815357,
          0.0021161390468478203,
          0.00211612181738019,
          0.002116115065291524,
          0.0021161118056625128,
          0.002116106916218996,
          0.0021161027252674103,
          0.00211609760299325,
          0.0021160924807190895,
          0.0021160906180739403,
          0.0021160896867513657,
          0.0021160871256142855,
          0.002306475071236491,
          0.0034365025348961353,
          0.006351050920784473,
          0.01211619284003973,
          0.022791409865021706,
          0.04207224026322365,
          0.0702688992023468,
          0.10042566061019897,
          0.1375097930431366,
          0.19163592159748077,
          0.26886242628097534,
          0.36935120820999146,
          0.4878843128681183,
          0.6144782304763794,
          0.7352802753448486,
          0.8471962809562683,
          0.9685086011886597,
          1.0618171691894531,
          1.0676218271255493,
          0.9907791018486023,
          0.8641939163208008,
          0.7134098410606384,
          0.5546116828918457,
          0.400107204914093,
          0.26038992404937744,
          0.14517152309417725,
          0.06264367699623108,
          0.00820096768438816,
          -0.02676064893603325,
          -0.04776129871606827,
          -0.057724401354789734,
          -0.05915716290473938,
          -0.05482785776257515,
          -0.04735191911458969,
          -0.03867394104599953,
          -0.030092449858784676,
          -0.022381801158189774,
          -0.015903577208518982,
          -0.010733374394476414,
          -0.00677834264934063,
          -0.0038641702849417925,
          -0.0017907182918861508,
          -0.0003643363597802818,
          0.0005851038149558008,
          0.0011969999177381396,
          0.001579114468768239,
          0.001810633228160441,
          0.0019467638339847326,
          0.0020245108753442764,
          0.0020677854772657156,
          0.0020913314074277878,
          0.0021041224244982004,
          0.002111908746883273,
          0.0021196596790105104,
          0.0021311473101377487,
          0.0021473318338394165,
          0.00218372349627316,
          0.0022820914164185524,
          0.002534773899242282,
          0.003138398751616478,
          0.0044890642166137695,
          0.0073304083198308945,
          0.012858615256845951,
          0.023173997178673744,
          0.04240185394883156,
          0.07120794802904129,
          0.10256610810756683,
          0.14210306107997894,
          0.20056988298892975,
          0.2844691276550293,
          0.3942877948284149,
          0.5248684883117676,
          0.6658061146736145,
          0.8104541897773743,
          0.968012273311615,
          1.124832272529602,
          1.2298786640167236,
          1.2280361652374268,
          1.133906364440918,
          0.9814931750297546,
          0.7729030847549438,
          0.5096777677536011,
          0.2549584209918976,
          0.062288932502269745,
          -0.057703543454408646,
          -0.11915430426597595,
          -0.14092348515987396,
          -0.13832025229930878,
          -0.12216106802225113,
          -0.09989793598651886,
          -0.07657676935195923,
          -0.05534649267792702,
          -0.037805233150720596,
          -0.024379592388868332,
          -0.014744165353477001,
          -0.008204352110624313,
          -0.003922491800040007,
          -0.0009639674099162221,
          0.0015383877325803041,
          0.004476193338632584,
          0.009124811738729477,
          0.017553143203258514,
          0.03230569139122963,
          0.05345018953084946,
          0.07694816589355469,
          0.10773830115795135,
          0.15454517304897308,
          0.2232518196105957,
          0.3153511583805084,
          0.42784613370895386,
          0.5530369281768799,
          0.6893714070320129,
          0.8503952622413635,
          0.9978931546211243,
          1.0645827054977417,
          1.050321102142334,
          0.9830230474472046,
          0.8809100389480591,
          0.7533443570137024,
          0.6092500686645508,
          0.4600716531276703,
          0.3181073069572449,
          0.1963220089673996,
          0.10683325678110123,
          0.0443761944770813,
          -0.00022672138584312052,
          -0.030865808948874474,
          -0.04897162690758705,
          -0.056594911962747574,
          -0.056603070348501205,
          -0.05159542337059975,
          -0.043844614177942276,
          -0.03519176319241524,
          -0.026881679892539978,
          -0.01959250122308731,
          -0.013588822446763515,
          -0.008881168439984322,
          -0.005343226715922356,
          -0.002786835189908743,
          -0.0010080524953082204,
          0.00018512883980292827,
          0.0009575352305546403,
          0.001440752181224525,
          0.0017332433490082622,
          0.019570356234908104,
          0.1115381270647049,
          0.28635373711586,
          0.4984135031700134,
          0.7135574221611023,
          0.9361553192138672,
          1.1326274871826172,
          1.2447181940078735,
          1.2448843717575073,
          1.1594284772872925,
          1.0235481262207031,
          0.8597242832183838,
          0.6827053427696228,
          0.5058416128158569,
          0.34187182784080505,
          0.2036697119474411,
          0.10336584597826004,
          0.03471507132053375,
          -0.012700149789452553,
          -0.04362016171216965,
          -0.060425255447626114,
          -0.06591508537530899,
          -0.06344379484653473,
          -0.05624346062541008,
          -0.04690360650420189,
          -0.03721054643392563,
          -0.02823377400636673,
          -0.02050711214542389,
          -0.014214360155165195,
          -0.009319078177213669,
          -0.005660706199705601,
          -0.0030249641276896,
          -0.0011902805417776108,
          4.560967136058025e-05,
          0.0008524694130755961,
          0.0013638115487992764,
          0.0016787450294941664,
          0.0018675277242437005,
          0.001977830659598112,
          0.0020407824777066708,
          0.002075895434245467,
          0.0020950627513229847,
          0.0021053024102002382,
          0.0021106600761413574,
          0.002113409573212266
         ]
        },
        {
         "name": "DN model (R2=0.41)",
         "type": "scatter",
         "y": [
          0.0024405550211668015,
          0.0024371163453906775,
          0.0024350802414119244,
          0.002434041816741228,
          0.002433480229228735,
          0.0024332257453352213,
          0.0024330986198037863,
          0.0024330562446266413,
          0.002433028072118759,
          0.002432943321764469,
          0.002432943321764469,
          0.0024329149164259434,
          0.0024328867439180613,
          0.0024328797589987516,
          0.0024328867439180613,
          0.002432893728837371,
          0.0024328301660716534,
          0.0024328159634023905,
          0.002432851353660226,
          0.0026517584919929504,
          0.003950896207243204,
          0.0073018320836126804,
          0.013929981738328934,
          0.02620326727628708,
          0.04837043210864067,
          0.0807880088686943,
          0.11545917391777039,
          0.15809473395347595,
          0.2203233391046524,
          0.30911049246788025,
          0.42464202642440796,
          0.5605856776237488,
          0.6960040926933289,
          0.7909889221191406,
          0.8466705083847046,
          0.905611515045166,
          0.9582585096359253,
          0.9735527634620667,
          0.9452530145645142,
          0.8722985982894897,
          0.7587310671806335,
          0.6171383261680603,
          0.46473416686058044,
          0.3180897831916809,
          0.19185222685337067,
          0.09793079644441605,
          0.03298834711313248,
          -0.011257528327405453,
          -0.039920199662446976,
          -0.05555426701903343,
          -0.060635559260845184,
          -0.058242443948984146,
          -0.051460299640893936,
          -0.04268242046236992,
          -0.033570438623428345,
          -0.025159358978271484,
          -0.017974045127630234,
          -0.01217661052942276,
          -0.0077090756967663765,
          -0.004400429781526327,
          -0.002038058592006564,
          -0.00040881545282900333,
          0.0006773984059691429,
          0.0013784337788820267,
          0.0018164316425099969,
          0.002082033548504114,
          0.002238259417936206,
          0.0023276363499462605,
          0.002377389930188656,
          0.0024043824523687363,
          0.0024191325064748526,
          0.0024280305951833725,
          0.0024369521997869015,
          0.0024501411244273186,
          0.0024687766563147306,
          0.0025105723179876804,
          0.0026236851699650288,
          0.0029141248669475317,
          0.003608180908486247,
          0.005160960368812084,
          0.008427697233855724,
          0.014783463440835476,
          0.026643075048923492,
          0.048749200999736786,
          0.081867516040802,
          0.11791995167732239,
          0.16337545216083527,
          0.23059463500976562,
          0.32705339789390564,
          0.4533115327358246,
          0.6032652854919434,
          0.7564360499382019,
          0.87890625,
          0.9774782657623291,
          1.0651376247406006,
          1.1220492124557495,
          1.123519778251648,
          1.0786160230636597,
          0.9847199320793152,
          0.8138511776924133,
          0.5592402815818787,
          0.29626935720443726,
          0.09153749793767929,
          -0.038699135184288025,
          -0.1077977642416954,
          -0.1351899653673172,
          -0.1366281509399414,
          -0.12311915308237076,
          -0.1022794172167778,
          -0.07941433787345886,
          -0.058000192046165466,
          -0.039947494864463806,
          -0.025918692350387573,
          -0.015730002894997597,
          -0.008748655207455158,
          -0.004138126969337463,
          -0.0009119669557549059,
          0.0018698233179748058,
          0.0051971436478197575,
          0.0105158481746912,
          0.020192831754684448,
          0.037147436290979385,
          0.06145406514406204,
          0.08846812695264816,
          0.12386683374643326,
          0.17768020927906036,
          0.2566720247268677,
          0.36255836486816406,
          0.49188023805618286,
          0.6325212717056274,
          0.7641716599464417,
          0.8805220723152161,
          0.9632474184036255,
          0.9767652750015259,
          0.9456645846366882,
          0.9108393788337708,
          0.863638162612915,
          0.782774031162262,
          0.6654239296913147,
          0.5249742269515991,
          0.37982961535453796,
          0.2488308846950531,
          0.14876502752304077,
          0.07573219388723373,
          0.020930904895067215,
          -0.018724681809544563,
          -0.04390634596347809,
          -0.056417111307382584,
          -0.05934250354766846,
          -0.05568847432732582,
          -0.04820200428366661,
          -0.03916851803660393,
          -0.030175158753991127,
          -0.022124622017145157,
          -0.015409314073622227,
          -0.010099707171320915,
          -0.006086801644414663,
          -0.0031761114951223135,
          -0.0011453734477981925,
          0.00021930270304437727,
          0.001103895716369152,
          0.00165771902538836,
          0.001993200508877635,
          0.022500168532133102,
          0.12823516130447388,
          0.3291827142238617,
          0.5677514672279358,
          0.7819478511810303,
          0.9590137600898743,
          1.0893151760101318,
          1.1483911275863647,
          1.1381264925003052,
          1.093260407447815,
          1.0172139406204224,
          0.9013074040412903,
          0.7499596476554871,
          0.5797712206840515,
          0.4103287160396576,
          0.2607327997684479,
          0.14802299439907074,
          0.0673748180270195,
          0.008735798299312592,
          -0.03182847797870636,
          -0.056008514016866684,
          -0.06644261628389359,
          -0.06678198277950287,
          -0.060781292617321014,
          -0.051576513797044754,
          -0.04141167551279068,
          -0.031688351184129715,
          -0.02315487340092659,
          -0.016117915511131287,
          -0.010597963817417622,
          -0.006449352949857712,
          -0.003448782954365015,
          -0.00135434465482831,
          5.9113677707500756e-05,
          0.0009832028299570084,
          0.0015692816814407706,
          0.001930519356392324,
          0.002147222403436899,
          0.00227398332208395,
          0.002346264896914363,
          0.0023865876719355583,
          0.0024086704943329096,
          0.0024203970097005367,
          0.002426627790555358,
          0.0024297607596963644
         ]
        }
       ],
       "layout": {
        "autosize": true,
        "template": {
         "data": {
          "bar": [
           {
            "error_x": {
             "color": "#2a3f5f"
            },
            "error_y": {
             "color": "#2a3f5f"
            },
            "marker": {
             "line": {
              "color": "#E5ECF6",
              "width": 0.5
             },
             "pattern": {
              "fillmode": "overlay",
              "size": 10,
              "solidity": 0.2
             }
            },
            "type": "bar"
           }
          ],
          "barpolar": [
           {
            "marker": {
             "line": {
              "color": "#E5ECF6",
              "width": 0.5
             },
             "pattern": {
              "fillmode": "overlay",
              "size": 10,
              "solidity": 0.2
             }
            },
            "type": "barpolar"
           }
          ],
          "carpet": [
           {
            "aaxis": {
             "endlinecolor": "#2a3f5f",
             "gridcolor": "white",
             "linecolor": "white",
             "minorgridcolor": "white",
             "startlinecolor": "#2a3f5f"
            },
            "baxis": {
             "endlinecolor": "#2a3f5f",
             "gridcolor": "white",
             "linecolor": "white",
             "minorgridcolor": "white",
             "startlinecolor": "#2a3f5f"
            },
            "type": "carpet"
           }
          ],
          "choropleth": [
           {
            "colorbar": {
             "outlinewidth": 0,
             "ticks": ""
            },
            "type": "choropleth"
           }
          ],
          "contour": [
           {
            "colorbar": {
             "outlinewidth": 0,
             "ticks": ""
            },
            "colorscale": [
             [
              0,
              "#0d0887"
             ],
             [
              0.1111111111111111,
              "#46039f"
             ],
             [
              0.2222222222222222,
              "#7201a8"
             ],
             [
              0.3333333333333333,
              "#9c179e"
             ],
             [
              0.4444444444444444,
              "#bd3786"
             ],
             [
              0.5555555555555556,
              "#d8576b"
             ],
             [
              0.6666666666666666,
              "#ed7953"
             ],
             [
              0.7777777777777778,
              "#fb9f3a"
             ],
             [
              0.8888888888888888,
              "#fdca26"
             ],
             [
              1,
              "#f0f921"
             ]
            ],
            "type": "contour"
           }
          ],
          "contourcarpet": [
           {
            "colorbar": {
             "outlinewidth": 0,
             "ticks": ""
            },
            "type": "contourcarpet"
           }
          ],
          "heatmap": [
           {
            "colorbar": {
             "outlinewidth": 0,
             "ticks": ""
            },
            "colorscale": [
             [
              0,
              "#0d0887"
             ],
             [
              0.1111111111111111,
              "#46039f"
             ],
             [
              0.2222222222222222,
              "#7201a8"
             ],
             [
              0.3333333333333333,
              "#9c179e"
             ],
             [
              0.4444444444444444,
              "#bd3786"
             ],
             [
              0.5555555555555556,
              "#d8576b"
             ],
             [
              0.6666666666666666,
              "#ed7953"
             ],
             [
              0.7777777777777778,
              "#fb9f3a"
             ],
             [
              0.8888888888888888,
              "#fdca26"
             ],
             [
              1,
              "#f0f921"
             ]
            ],
            "type": "heatmap"
           }
          ],
          "heatmapgl": [
           {
            "colorbar": {
             "outlinewidth": 0,
             "ticks": ""
            },
            "colorscale": [
             [
              0,
              "#0d0887"
             ],
             [
              0.1111111111111111,
              "#46039f"
             ],
             [
              0.2222222222222222,
              "#7201a8"
             ],
             [
              0.3333333333333333,
              "#9c179e"
             ],
             [
              0.4444444444444444,
              "#bd3786"
             ],
             [
              0.5555555555555556,
              "#d8576b"
             ],
             [
              0.6666666666666666,
              "#ed7953"
             ],
             [
              0.7777777777777778,
              "#fb9f3a"
             ],
             [
              0.8888888888888888,
              "#fdca26"
             ],
             [
              1,
              "#f0f921"
             ]
            ],
            "type": "heatmapgl"
           }
          ],
          "histogram": [
           {
            "marker": {
             "pattern": {
              "fillmode": "overlay",
              "size": 10,
              "solidity": 0.2
             }
            },
            "type": "histogram"
           }
          ],
          "histogram2d": [
           {
            "colorbar": {
             "outlinewidth": 0,
             "ticks": ""
            },
            "colorscale": [
             [
              0,
              "#0d0887"
             ],
             [
              0.1111111111111111,
              "#46039f"
             ],
             [
              0.2222222222222222,
              "#7201a8"
             ],
             [
              0.3333333333333333,
              "#9c179e"
             ],
             [
              0.4444444444444444,
              "#bd3786"
             ],
             [
              0.5555555555555556,
              "#d8576b"
             ],
             [
              0.6666666666666666,
              "#ed7953"
             ],
             [
              0.7777777777777778,
              "#fb9f3a"
             ],
             [
              0.8888888888888888,
              "#fdca26"
             ],
             [
              1,
              "#f0f921"
             ]
            ],
            "type": "histogram2d"
           }
          ],
          "histogram2dcontour": [
           {
            "colorbar": {
             "outlinewidth": 0,
             "ticks": ""
            },
            "colorscale": [
             [
              0,
              "#0d0887"
             ],
             [
              0.1111111111111111,
              "#46039f"
             ],
             [
              0.2222222222222222,
              "#7201a8"
             ],
             [
              0.3333333333333333,
              "#9c179e"
             ],
             [
              0.4444444444444444,
              "#bd3786"
             ],
             [
              0.5555555555555556,
              "#d8576b"
             ],
             [
              0.6666666666666666,
              "#ed7953"
             ],
             [
              0.7777777777777778,
              "#fb9f3a"
             ],
             [
              0.8888888888888888,
              "#fdca26"
             ],
             [
              1,
              "#f0f921"
             ]
            ],
            "type": "histogram2dcontour"
           }
          ],
          "mesh3d": [
           {
            "colorbar": {
             "outlinewidth": 0,
             "ticks": ""
            },
            "type": "mesh3d"
           }
          ],
          "parcoords": [
           {
            "line": {
             "colorbar": {
              "outlinewidth": 0,
              "ticks": ""
             }
            },
            "type": "parcoords"
           }
          ],
          "pie": [
           {
            "automargin": true,
            "type": "pie"
           }
          ],
          "scatter": [
           {
            "fillpattern": {
             "fillmode": "overlay",
             "size": 10,
             "solidity": 0.2
            },
            "type": "scatter"
           }
          ],
          "scatter3d": [
           {
            "line": {
             "colorbar": {
              "outlinewidth": 0,
              "ticks": ""
             }
            },
            "marker": {
             "colorbar": {
              "outlinewidth": 0,
              "ticks": ""
             }
            },
            "type": "scatter3d"
           }
          ],
          "scattercarpet": [
           {
            "marker": {
             "colorbar": {
              "outlinewidth": 0,
              "ticks": ""
             }
            },
            "type": "scattercarpet"
           }
          ],
          "scattergeo": [
           {
            "marker": {
             "colorbar": {
              "outlinewidth": 0,
              "ticks": ""
             }
            },
            "type": "scattergeo"
           }
          ],
          "scattergl": [
           {
            "marker": {
             "colorbar": {
              "outlinewidth": 0,
              "ticks": ""
             }
            },
            "type": "scattergl"
           }
          ],
          "scattermapbox": [
           {
            "marker": {
             "colorbar": {
              "outlinewidth": 0,
              "ticks": ""
             }
            },
            "type": "scattermapbox"
           }
          ],
          "scatterpolar": [
           {
            "marker": {
             "colorbar": {
              "outlinewidth": 0,
              "ticks": ""
             }
            },
            "type": "scatterpolar"
           }
          ],
          "scatterpolargl": [
           {
            "marker": {
             "colorbar": {
              "outlinewidth": 0,
              "ticks": ""
             }
            },
            "type": "scatterpolargl"
           }
          ],
          "scatterternary": [
           {
            "marker": {
             "colorbar": {
              "outlinewidth": 0,
              "ticks": ""
             }
            },
            "type": "scatterternary"
           }
          ],
          "surface": [
           {
            "colorbar": {
             "outlinewidth": 0,
             "ticks": ""
            },
            "colorscale": [
             [
              0,
              "#0d0887"
             ],
             [
              0.1111111111111111,
              "#46039f"
             ],
             [
              0.2222222222222222,
              "#7201a8"
             ],
             [
              0.3333333333333333,
              "#9c179e"
             ],
             [
              0.4444444444444444,
              "#bd3786"
             ],
             [
              0.5555555555555556,
              "#d8576b"
             ],
             [
              0.6666666666666666,
              "#ed7953"
             ],
             [
              0.7777777777777778,
              "#fb9f3a"
             ],
             [
              0.8888888888888888,
              "#fdca26"
             ],
             [
              1,
              "#f0f921"
             ]
            ],
            "type": "surface"
           }
          ],
          "table": [
           {
            "cells": {
             "fill": {
              "color": "#EBF0F8"
             },
             "line": {
              "color": "white"
             }
            },
            "header": {
             "fill": {
              "color": "#C8D4E3"
             },
             "line": {
              "color": "white"
             }
            },
            "type": "table"
           }
          ]
         },
         "layout": {
          "annotationdefaults": {
           "arrowcolor": "#2a3f5f",
           "arrowhead": 0,
           "arrowwidth": 1
          },
          "autotypenumbers": "strict",
          "coloraxis": {
           "colorbar": {
            "outlinewidth": 0,
            "ticks": ""
           }
          },
          "colorscale": {
           "diverging": [
            [
             0,
             "#8e0152"
            ],
            [
             0.1,
             "#c51b7d"
            ],
            [
             0.2,
             "#de77ae"
            ],
            [
             0.3,
             "#f1b6da"
            ],
            [
             0.4,
             "#fde0ef"
            ],
            [
             0.5,
             "#f7f7f7"
            ],
            [
             0.6,
             "#e6f5d0"
            ],
            [
             0.7,
             "#b8e186"
            ],
            [
             0.8,
             "#7fbc41"
            ],
            [
             0.9,
             "#4d9221"
            ],
            [
             1,
             "#276419"
            ]
           ],
           "sequential": [
            [
             0,
             "#0d0887"
            ],
            [
             0.1111111111111111,
             "#46039f"
            ],
            [
             0.2222222222222222,
             "#7201a8"
            ],
            [
             0.3333333333333333,
             "#9c179e"
            ],
            [
             0.4444444444444444,
             "#bd3786"
            ],
            [
             0.5555555555555556,
             "#d8576b"
            ],
            [
             0.6666666666666666,
             "#ed7953"
            ],
            [
             0.7777777777777778,
             "#fb9f3a"
            ],
            [
             0.8888888888888888,
             "#fdca26"
            ],
            [
             1,
             "#f0f921"
            ]
           ],
           "sequentialminus": [
            [
             0,
             "#0d0887"
            ],
            [
             0.1111111111111111,
             "#46039f"
            ],
            [
             0.2222222222222222,
             "#7201a8"
            ],
            [
             0.3333333333333333,
             "#9c179e"
            ],
            [
             0.4444444444444444,
             "#bd3786"
            ],
            [
             0.5555555555555556,
             "#d8576b"
            ],
            [
             0.6666666666666666,
             "#ed7953"
            ],
            [
             0.7777777777777778,
             "#fb9f3a"
            ],
            [
             0.8888888888888888,
             "#fdca26"
            ],
            [
             1,
             "#f0f921"
            ]
           ]
          },
          "colorway": [
           "#636efa",
           "#EF553B",
           "#00cc96",
           "#ab63fa",
           "#FFA15A",
           "#19d3f3",
           "#FF6692",
           "#B6E880",
           "#FF97FF",
           "#FECB52"
          ],
          "font": {
           "color": "#2a3f5f"
          },
          "geo": {
           "bgcolor": "white",
           "lakecolor": "white",
           "landcolor": "#E5ECF6",
           "showlakes": true,
           "showland": true,
           "subunitcolor": "white"
          },
          "hoverlabel": {
           "align": "left"
          },
          "hovermode": "closest",
          "mapbox": {
           "style": "light"
          },
          "paper_bgcolor": "white",
          "plot_bgcolor": "#E5ECF6",
          "polar": {
           "angularaxis": {
            "gridcolor": "white",
            "linecolor": "white",
            "ticks": ""
           },
           "bgcolor": "#E5ECF6",
           "radialaxis": {
            "gridcolor": "white",
            "linecolor": "white",
            "ticks": ""
           }
          },
          "scene": {
           "xaxis": {
            "backgroundcolor": "#E5ECF6",
            "gridcolor": "white",
            "gridwidth": 2,
            "linecolor": "white",
            "showbackground": true,
            "ticks": "",
            "zerolinecolor": "white"
           },
           "yaxis": {
            "backgroundcolor": "#E5ECF6",
            "gridcolor": "white",
            "gridwidth": 2,
            "linecolor": "white",
            "showbackground": true,
            "ticks": "",
            "zerolinecolor": "white"
           },
           "zaxis": {
            "backgroundcolor": "#E5ECF6",
            "gridcolor": "white",
            "gridwidth": 2,
            "linecolor": "white",
            "showbackground": true,
            "ticks": "",
            "zerolinecolor": "white"
           }
          },
          "shapedefaults": {
           "line": {
            "color": "#2a3f5f"
           }
          },
          "ternary": {
           "aaxis": {
            "gridcolor": "white",
            "linecolor": "white",
            "ticks": ""
           },
           "baxis": {
            "gridcolor": "white",
            "linecolor": "white",
            "ticks": ""
           },
           "bgcolor": "#E5ECF6",
           "caxis": {
            "gridcolor": "white",
            "linecolor": "white",
            "ticks": ""
           }
          },
          "title": {
           "x": 0.05
          },
          "xaxis": {
           "automargin": true,
           "gridcolor": "white",
           "linecolor": "white",
           "ticks": "",
           "title": {
            "standoff": 15
           },
           "zerolinecolor": "white",
           "zerolinewidth": 2
          },
          "yaxis": {
           "automargin": true,
           "gridcolor": "white",
           "linecolor": "white",
           "ticks": "",
           "title": {
            "standoff": 15
           },
           "zerolinecolor": "white",
           "zerolinewidth": 2
          }
         }
        },
        "xaxis": {
         "autorange": true,
         "range": [
          -13.259485924112607,
          220.2594859241126
         ]
        },
        "yaxis": {
         "autorange": true,
         "range": [
          -1.5039184620079484,
          2.4008013536629167
         ],
         "type": "linear"
        }
       }
      },
      "image/png": "[encoded data removed]",
      "text/html": [
       "<div>                            <div id=\"2d0f38c1-bd94-4f7f-9be4-24a5deaba23e\" class=\"plotly-graph-div\" style=\"height:525px; width:100%;\"></div>            <script type=\"text/javascript\">                require([\"plotly\"], function(Plotly) {                    window.PLOTLYENV=window.PLOTLYENV || {};                                    if (document.getElementById(\"2d0f38c1-bd94-4f7f-9be4-24a5deaba23e\")) {                    Plotly.newPlot(                        \"2d0f38c1-bd94-4f7f-9be4-24a5deaba23e\",                        [{\"mode\":\"markers\",\"name\":\"data\",\"y\":[-0.46451565623283386,-0.4333553910255432,-0.3940458595752716,-0.9936013221740723,-0.3979358971118927,-0.16976413130760193,-0.5784423351287842,-0.3724578320980072,-0.43575823307037354,-0.051716335117816925,-0.32837462425231934,-0.1878083497285843,-0.5925933718681335,-0.0204521082341671,-0.16074249148368835,-0.4922313988208771,-0.3168126046657562,-0.012043099850416183,-0.17170432209968567,-0.3342062532901764,0.027211971580982208,-0.18349872529506683,-0.23486033082008362,-0.0922304093837738,0.061348069459199905,0.006775916554033756,0.2431197315454483,0.6500867605209351,0.39869338274002075,0.8637851476669312,0.5800600647926331,0.8556064367294312,1.405916452407837,1.2476319074630737,1.2182179689407349,1.0328412055969238,1.2309598922729492,1.7671394348144531,1.492676019668579,1.3817890882492065,1.1940040588378906,0.4566816985607147,0.6084573268890381,0.3589816093444824,-0.5586943626403809,-1.0380609035491943,-0.029652632772922516,-0.4146476984024048,-0.11789290606975555,-0.24630442261695862,-0.7828664183616638,-0.3977244198322296,-0.42281001806259155,-0.9177983403205872,-0.1674816757440567,-0.12182362377643585,-0.6840515732765198,-0.09551005810499191,0.6285955905914307,-0.8731086850166321,-0.664839506149292,0.3313804566860199,-0.4935385286808014,-0.6419512033462524,0.15091656148433685,-1.026358723640442,-0.6489500999450684,-0.41030141711235046,-0.9172419309616089,-0.36778444051742554,-0.41275084018707275,-0.8814964294433594,-0.7836185693740845,-0.5571553707122803,-0.5031447410583496,-0.9306172728538513,-0.46078038215637207,-0.4709394574165344,-0.30250611901283264,-0.289795845746994,-0.2955162525177002,0.19615629315376282,-0.1638716459274292,-0.34479987621307373,0.16671805083751678,-0.33466994762420654,-0.43480345606803894,-0.5215189456939697,0.06552956998348236,0.42685985565185547,0.14514870941638947,1.4446300268173218,1.6623029708862305,0.911749541759491,2.1242170333862305,1.1518006324768066,1.2735084295272827,2.0652918815612793,0.765725314617157,1.092130184173584,1.954370141029358,0.33947622776031494,0.4961499273777008,0.5570548176765442,-0.7982292771339417,-0.24512659013271332,0.020605992525815964,-0.8390153646469116,-0.31542813777923584,0.24518583714962006,-1.2273341417312622,-0.5724681615829468,0.4973587989807129,-1.0851291418075562,-0.4263242781162262,-0.16998928785324097,-0.8894248008728027,-0.545548677444458,-0.3924803137779236,-0.788529098033905,-0.06760288774967194,-0.6790245771408081,-0.8207771182060242,-0.31440305709838867,-0.5117112398147583,-0.26165372133255005,0.17101357877254486,0.04588817432522774,0.5059248805046082,0.17822378873825073,0.10415035486221313,0.6291542649269104,0.22974050045013428,0.15116098523139954,0.7157631516456604,-0.2570572793483734,0.5271182656288147,0.47145843505859375,-0.10331225395202637,0.8751691579818726,-0.32617640495300293,-0.2135603427886963,-0.23751869797706604,-0.9288399815559387,-0.13962003588676453,-0.34789490699768066,0.19795957207679749,0.9448975324630737,0.27205392718315125,-0.47698646783828735,-0.5094539523124695,-0.04166506230831146,-0.19887523353099823,-0.7330455183982849,-0.6224642992019653,-0.2388233244419098,-0.5888027548789978,-0.6862248778343201,0.01085476391017437,-0.7745605707168579,-0.6230154037475586,-0.7347935438156128,-0.5905814170837402,-0.264813631772995,0.06019328162074089,-0.04778168350458145,0.4577493965625763,0.5304150581359863,0.5358893871307373,0.6223706007003784,0.6822814345359802,1.1183445453643799,1.2503794431686401,0.7088503241539001,1.2463473081588745,0.6467164754867554,0.8714522123336792,1.0262551307678223,0.08968880772590637,0.057874321937561035,-0.22649399936199188,-0.38796770572662354,0.14661146700382233,-0.2191014289855957,0.22816875576972961,-0.5138629674911499,0.2080240249633789,0.06060299277305603,-0.5661664605140686,0.28143179416656494,-0.4083101451396942,0.45429527759552,0.08385206758975983,-0.1066211387515068,0.5548379421234131,0.09200464189052582,-0.6971935033798218,-0.19588671624660492,-0.30580952763557434,-0.15978692471981049,-0.21559682488441467,-0.29325973987579346,0.32348203659057617,-0.710381031036377,-0.5984110236167908,0.018445447087287903,-0.8109158277511597,0.01940823346376419],\"type\":\"scatter\"},{\"name\":\"Gauss model (R2=0.41)\",\"y\":[0.002122816164046526,0.00211977562867105,0.002118056872859597,0.0021171157713979483,0.0021166163496673107,0.0021163583733141422,0.0021162291523069143,0.002116170711815357,0.0021161390468478203,0.00211612181738019,0.002116115065291524,0.0021161118056625128,0.002116106916218996,0.0021161027252674103,0.00211609760299325,0.0021160924807190895,0.0021160906180739403,0.0021160896867513657,0.0021160871256142855,0.002306475071236491,0.0034365025348961353,0.006351050920784473,0.01211619284003973,0.022791409865021706,0.04207224026322365,0.0702688992023468,0.10042566061019897,0.1375097930431366,0.19163592159748077,0.26886242628097534,0.36935120820999146,0.4878843128681183,0.6144782304763794,0.7352802753448486,0.8471962809562683,0.9685086011886597,1.0618171691894531,1.0676218271255493,0.9907791018486023,0.8641939163208008,0.7134098410606384,0.5546116828918457,0.400107204914093,0.26038992404937744,0.14517152309417725,0.06264367699623108,0.00820096768438816,-0.02676064893603325,-0.04776129871606827,-0.057724401354789734,-0.05915716290473938,-0.05482785776257515,-0.04735191911458969,-0.03867394104599953,-0.030092449858784676,-0.022381801158189774,-0.015903577208518982,-0.010733374394476414,-0.00677834264934063,-0.0038641702849417925,-0.0017907182918861508,-0.0003643363597802818,0.0005851038149558008,0.0011969999177381396,0.001579114468768239,0.001810633228160441,0.0019467638339847326,0.0020245108753442764,0.0020677854772657156,0.0020913314074277878,0.0021041224244982004,0.002111908746883273,0.0021196596790105104,0.0021311473101377487,0.0021473318338394165,0.00218372349627316,0.0022820914164185524,0.002534773899242282,0.003138398751616478,0.0044890642166137695,0.0073304083198308945,0.012858615256845951,0.023173997178673744,0.04240185394883156,0.07120794802904129,0.10256610810756683,0.14210306107997894,0.20056988298892975,0.2844691276550293,0.3942877948284149,0.5248684883117676,0.6658061146736145,0.8104541897773743,0.968012273311615,1.124832272529602,1.2298786640167236,1.2280361652374268,1.133906364440918,0.9814931750297546,0.7729030847549438,0.5096777677536011,0.2549584209918976,0.062288932502269745,-0.057703543454408646,-0.11915430426597595,-0.14092348515987396,-0.13832025229930878,-0.12216106802225113,-0.09989793598651886,-0.07657676935195923,-0.05534649267792702,-0.037805233150720596,-0.024379592388868332,-0.014744165353477001,-0.008204352110624313,-0.003922491800040007,-0.0009639674099162221,0.0015383877325803041,0.004476193338632584,0.009124811738729477,0.017553143203258514,0.03230569139122963,0.05345018953084946,0.07694816589355469,0.10773830115795135,0.15454517304897308,0.2232518196105957,0.3153511583805084,0.42784613370895386,0.5530369281768799,0.6893714070320129,0.8503952622413635,0.9978931546211243,1.0645827054977417,1.050321102142334,0.9830230474472046,0.8809100389480591,0.7533443570137024,0.6092500686645508,0.4600716531276703,0.3181073069572449,0.1963220089673996,0.10683325678110123,0.0443761944770813,-0.00022672138584312052,-0.030865808948874474,-0.04897162690758705,-0.056594911962747574,-0.056603070348501205,-0.05159542337059975,-0.043844614177942276,-0.03519176319241524,-0.026881679892539978,-0.01959250122308731,-0.013588822446763515,-0.008881168439984322,-0.005343226715922356,-0.002786835189908743,-0.0010080524953082204,0.00018512883980292827,0.0009575352305546403,0.001440752181224525,0.0017332433490082622,0.019570356234908104,0.1115381270647049,0.28635373711586,0.4984135031700134,0.7135574221611023,0.9361553192138672,1.1326274871826172,1.2447181940078735,1.2448843717575073,1.1594284772872925,1.0235481262207031,0.8597242832183838,0.6827053427696228,0.5058416128158569,0.34187182784080505,0.2036697119474411,0.10336584597826004,0.03471507132053375,-0.012700149789452553,-0.04362016171216965,-0.060425255447626114,-0.06591508537530899,-0.06344379484653473,-0.05624346062541008,-0.04690360650420189,-0.03721054643392563,-0.02823377400636673,-0.02050711214542389,-0.014214360155165195,-0.009319078177213669,-0.005660706199705601,-0.0030249641276896,-0.0011902805417776108,4.560967136058025e-05,0.0008524694130755961,0.0013638115487992764,0.0016787450294941664,0.0018675277242437005,0.001977830659598112,0.0020407824777066708,0.002075895434245467,0.0020950627513229847,0.0021053024102002382,0.0021106600761413574,0.002113409573212266],\"type\":\"scatter\"},{\"name\":\"DN model (R2=0.41)\",\"y\":[0.0024405550211668015,0.0024371163453906775,0.0024350802414119244,0.002434041816741228,0.002433480229228735,0.0024332257453352213,0.0024330986198037863,0.0024330562446266413,0.002433028072118759,0.002432943321764469,0.002432943321764469,0.0024329149164259434,0.0024328867439180613,0.0024328797589987516,0.0024328867439180613,0.002432893728837371,0.0024328301660716534,0.0024328159634023905,0.002432851353660226,0.0026517584919929504,0.003950896207243204,0.0073018320836126804,0.013929981738328934,0.02620326727628708,0.04837043210864067,0.0807880088686943,0.11545917391777039,0.15809473395347595,0.2203233391046524,0.30911049246788025,0.42464202642440796,0.5605856776237488,0.6960040926933289,0.7909889221191406,0.8466705083847046,0.905611515045166,0.9582585096359253,0.9735527634620667,0.9452530145645142,0.8722985982894897,0.7587310671806335,0.6171383261680603,0.46473416686058044,0.3180897831916809,0.19185222685337067,0.09793079644441605,0.03298834711313248,-0.011257528327405453,-0.039920199662446976,-0.05555426701903343,-0.060635559260845184,-0.058242443948984146,-0.051460299640893936,-0.04268242046236992,-0.033570438623428345,-0.025159358978271484,-0.017974045127630234,-0.01217661052942276,-0.0077090756967663765,-0.004400429781526327,-0.002038058592006564,-0.00040881545282900333,0.0006773984059691429,0.0013784337788820267,0.0018164316425099969,0.002082033548504114,0.002238259417936206,0.0023276363499462605,0.002377389930188656,0.0024043824523687363,0.0024191325064748526,0.0024280305951833725,0.0024369521997869015,0.0024501411244273186,0.0024687766563147306,0.0025105723179876804,0.0026236851699650288,0.0029141248669475317,0.003608180908486247,0.005160960368812084,0.008427697233855724,0.014783463440835476,0.026643075048923492,0.048749200999736786,0.081867516040802,0.11791995167732239,0.16337545216083527,0.23059463500976562,0.32705339789390564,0.4533115327358246,0.6032652854919434,0.7564360499382019,0.87890625,0.9774782657623291,1.0651376247406006,1.1220492124557495,1.123519778251648,1.0786160230636597,0.9847199320793152,0.8138511776924133,0.5592402815818787,0.29626935720443726,0.09153749793767929,-0.038699135184288025,-0.1077977642416954,-0.1351899653673172,-0.1366281509399414,-0.12311915308237076,-0.1022794172167778,-0.07941433787345886,-0.058000192046165466,-0.039947494864463806,-0.025918692350387573,-0.015730002894997597,-0.008748655207455158,-0.004138126969337463,-0.0009119669557549059,0.0018698233179748058,0.0051971436478197575,0.0105158481746912,0.020192831754684448,0.037147436290979385,0.06145406514406204,0.08846812695264816,0.12386683374643326,0.17768020927906036,0.2566720247268677,0.36255836486816406,0.49188023805618286,0.6325212717056274,0.7641716599464417,0.8805220723152161,0.9632474184036255,0.9767652750015259,0.9456645846366882,0.9108393788337708,0.863638162612915,0.782774031162262,0.6654239296913147,0.5249742269515991,0.37982961535453796,0.2488308846950531,0.14876502752304077,0.07573219388723373,0.020930904895067215,-0.018724681809544563,-0.04390634596347809,-0.056417111307382584,-0.05934250354766846,-0.05568847432732582,-0.04820200428366661,-0.03916851803660393,-0.030175158753991127,-0.022124622017145157,-0.015409314073622227,-0.010099707171320915,-0.006086801644414663,-0.0031761114951223135,-0.0011453734477981925,0.00021930270304437727,0.001103895716369152,0.00165771902538836,0.001993200508877635,0.022500168532133102,0.12823516130447388,0.3291827142238617,0.5677514672279358,0.7819478511810303,0.9590137600898743,1.0893151760101318,1.1483911275863647,1.1381264925003052,1.093260407447815,1.0172139406204224,0.9013074040412903,0.7499596476554871,0.5797712206840515,0.4103287160396576,0.2607327997684479,0.14802299439907074,0.0673748180270195,0.008735798299312592,-0.03182847797870636,-0.056008514016866684,-0.06644261628389359,-0.06678198277950287,-0.060781292617321014,-0.051576513797044754,-0.04141167551279068,-0.031688351184129715,-0.02315487340092659,-0.016117915511131287,-0.010597963817417622,-0.006449352949857712,-0.003448782954365015,-0.00135434465482831,5.9113677707500756e-05,0.0009832028299570084,0.0015692816814407706,0.001930519356392324,0.002147222403436899,0.00227398332208395,0.002346264896914363,0.0023865876719355583,0.0024086704943329096,0.0024203970097005367,0.002426627790555358,0.0024297607596963644],\"type\":\"scatter\"}],                        {\"template\":{\"data\":{\"histogram2dcontour\":[{\"type\":\"histogram2dcontour\",\"colorbar\":{\"outlinewidth\":0,\"ticks\":\"\"},\"colorscale\":[[0.0,\"#0d0887\"],[0.1111111111111111,\"#46039f\"],[0.2222222222222222,\"#7201a8\"],[0.3333333333333333,\"#9c179e\"],[0.4444444444444444,\"#bd3786\"],[0.5555555555555556,\"#d8576b\"],[0.6666666666666666,\"#ed7953\"],[0.7777777777777778,\"#fb9f3a\"],[0.8888888888888888,\"#fdca26\"],[1.0,\"#f0f921\"]]}],\"choropleth\":[{\"type\":\"choropleth\",\"colorbar\":{\"outlinewidth\":0,\"ticks\":\"\"}}],\"histogram2d\":[{\"type\":\"histogram2d\",\"colorbar\":{\"outlinewidth\":0,\"ticks\":\"\"},\"colorscale\":[[0.0,\"#0d0887\"],[0.1111111111111111,\"#46039f\"],[0.2222222222222222,\"#7201a8\"],[0.3333333333333333,\"#9c179e\"],[0.4444444444444444,\"#bd3786\"],[0.5555555555555556,\"#d8576b\"],[0.6666666666666666,\"#ed7953\"],[0.7777777777777778,\"#fb9f3a\"],[0.8888888888888888,\"#fdca26\"],[1.0,\"#f0f921\"]]}],\"heatmap\":[{\"type\":\"heatmap\",\"colorbar\":{\"outlinewidth\":0,\"ticks\":\"\"},\"colorscale\":[[0.0,\"#0d0887\"],[0.1111111111111111,\"#46039f\"],[0.2222222222222222,\"#7201a8\"],[0.3333333333333333,\"#9c179e\"],[0.4444444444444444,\"#bd3786\"],[0.5555555555555556,\"#d8576b\"],[0.6666666666666666,\"#ed7953\"],[0.7777777777777778,\"#fb9f3a\"],[0.8888888888888888,\"#fdca26\"],[1.0,\"#f0f921\"]]}],\"heatmapgl\":[{\"type\":\"heatmapgl\",\"colorbar\":{\"outlinewidth\":0,\"ticks\":\"\"},\"colorscale\":[[0.0,\"#0d0887\"],[0.1111111111111111,\"#46039f\"],[0.2222222222222222,\"#7201a8\"],[0.3333333333333333,\"#9c179e\"],[0.4444444444444444,\"#bd3786\"],[0.5555555555555556,\"#d8576b\"],[0.6666666666666666,\"#ed7953\"],[0.7777777777777778,\"#fb9f3a\"],[0.8888888888888888,\"#fdca26\"],[1.0,\"#f0f921\"]]}],\"contourcarpet\":[{\"type\":\"contourcarpet\",\"colorbar\":{\"outlinewidth\":0,\"ticks\":\"\"}}],\"contour\":[{\"type\":\"contour\",\"colorbar\":{\"outlinewidth\":0,\"ticks\":\"\"},\"colorscale\":[[0.0,\"#0d0887\"],[0.1111111111111111,\"#46039f\"],[0.2222222222222222,\"#7201a8\"],[0.3333333333333333,\"#9c179e\"],[0.4444444444444444,\"#bd3786\"],[0.5555555555555556,\"#d8576b\"],[0.6666666666666666,\"#ed7953\"],[0.7777777777777778,\"#fb9f3a\"],[0.8888888888888888,\"#fdca26\"],[1.0,\"#f0f921\"]]}],\"surface\":[{\"type\":\"surface\",\"colorbar\":{\"outlinewidth\":0,\"ticks\":\"\"},\"colorscale\":[[0.0,\"#0d0887\"],[0.1111111111111111,\"#46039f\"],[0.2222222222222222,\"#7201a8\"],[0.3333333333333333,\"#9c179e\"],[0.4444444444444444,\"#bd3786\"],[0.5555555555555556,\"#d8576b\"],[0.6666666666666666,\"#ed7953\"],[0.7777777777777778,\"#fb9f3a\"],[0.8888888888888888,\"#fdca26\"],[1.0,\"#f0f921\"]]}],\"mesh3d\":[{\"type\":\"mesh3d\",\"colorbar\":{\"outlinewidth\":0,\"ticks\":\"\"}}],\"scatter\":[{\"fillpattern\":{\"fillmode\":\"overlay\",\"size\":10,\"solidity\":0.2},\"type\":\"scatter\"}],\"parcoords\":[{\"type\":\"parcoords\",\"line\":{\"colorbar\":{\"outlinewidth\":0,\"ticks\":\"\"}}}],\"scatterpolargl\":[{\"type\":\"scatterpolargl\",\"marker\":{\"colorbar\":{\"outlinewidth\":0,\"ticks\":\"\"}}}],\"bar\":[{\"error_x\":{\"color\":\"#2a3f5f\"},\"error_y\":{\"color\":\"#2a3f5f\"},\"marker\":{\"line\":{\"color\":\"#E5ECF6\",\"width\":0.5},\"pattern\":{\"fillmode\":\"overlay\",\"size\":10,\"solidity\":0.2}},\"type\":\"bar\"}],\"scattergeo\":[{\"type\":\"scattergeo\",\"marker\":{\"colorbar\":{\"outlinewidth\":0,\"ticks\":\"\"}}}],\"scatterpolar\":[{\"type\":\"scatterpolar\",\"marker\":{\"colorbar\":{\"outlinewidth\":0,\"ticks\":\"\"}}}],\"histogram\":[{\"marker\":{\"pattern\":{\"fillmode\":\"overlay\",\"size\":10,\"solidity\":0.2}},\"type\":\"histogram\"}],\"scattergl\":[{\"type\":\"scattergl\",\"marker\":{\"colorbar\":{\"outlinewidth\":0,\"ticks\":\"\"}}}],\"scatter3d\":[{\"type\":\"scatter3d\",\"line\":{\"colorbar\":{\"outlinewidth\":0,\"ticks\":\"\"}},\"marker\":{\"colorbar\":{\"outlinewidth\":0,\"ticks\":\"\"}}}],\"scattermapbox\":[{\"type\":\"scattermapbox\",\"marker\":{\"colorbar\":{\"outlinewidth\":0,\"ticks\":\"\"}}}],\"scatterternary\":[{\"type\":\"scatterternary\",\"marker\":{\"colorbar\":{\"outlinewidth\":0,\"ticks\":\"\"}}}],\"scattercarpet\":[{\"type\":\"scattercarpet\",\"marker\":{\"colorbar\":{\"outlinewidth\":0,\"ticks\":\"\"}}}],\"carpet\":[{\"aaxis\":{\"endlinecolor\":\"#2a3f5f\",\"gridcolor\":\"white\",\"linecolor\":\"white\",\"minorgridcolor\":\"white\",\"startlinecolor\":\"#2a3f5f\"},\"baxis\":{\"endlinecolor\":\"#2a3f5f\",\"gridcolor\":\"white\",\"linecolor\":\"white\",\"minorgridcolor\":\"white\",\"startlinecolor\":\"#2a3f5f\"},\"type\":\"carpet\"}],\"table\":[{\"cells\":{\"fill\":{\"color\":\"#EBF0F8\"},\"line\":{\"color\":\"white\"}},\"header\":{\"fill\":{\"color\":\"#C8D4E3\"},\"line\":{\"color\":\"white\"}},\"type\":\"table\"}],\"barpolar\":[{\"marker\":{\"line\":{\"color\":\"#E5ECF6\",\"width\":0.5},\"pattern\":{\"fillmode\":\"overlay\",\"size\":10,\"solidity\":0.2}},\"type\":\"barpolar\"}],\"pie\":[{\"automargin\":true,\"type\":\"pie\"}]},\"layout\":{\"autotypenumbers\":\"strict\",\"colorway\":[\"#636efa\",\"#EF553B\",\"#00cc96\",\"#ab63fa\",\"#FFA15A\",\"#19d3f3\",\"#FF6692\",\"#B6E880\",\"#FF97FF\",\"#FECB52\"],\"font\":{\"color\":\"#2a3f5f\"},\"hovermode\":\"closest\",\"hoverlabel\":{\"align\":\"left\"},\"paper_bgcolor\":\"white\",\"plot_bgcolor\":\"#E5ECF6\",\"polar\":{\"bgcolor\":\"#E5ECF6\",\"angularaxis\":{\"gridcolor\":\"white\",\"linecolor\":\"white\",\"ticks\":\"\"},\"radialaxis\":{\"gridcolor\":\"white\",\"linecolor\":\"white\",\"ticks\":\"\"}},\"ternary\":{\"bgcolor\":\"#E5ECF6\",\"aaxis\":{\"gridcolor\":\"white\",\"linecolor\":\"white\",\"ticks\":\"\"},\"baxis\":{\"gridcolor\":\"white\",\"linecolor\":\"white\",\"ticks\":\"\"},\"caxis\":{\"gridcolor\":\"white\",\"linecolor\":\"white\",\"ticks\":\"\"}},\"coloraxis\":{\"colorbar\":{\"outlinewidth\":0,\"ticks\":\"\"}},\"colorscale\":{\"sequential\":[[0.0,\"#0d0887\"],[0.1111111111111111,\"#46039f\"],[0.2222222222222222,\"#7201a8\"],[0.3333333333333333,\"#9c179e\"],[0.4444444444444444,\"#bd3786\"],[0.5555555555555556,\"#d8576b\"],[0.6666666666666666,\"#ed7953\"],[0.7777777777777778,\"#fb9f3a\"],[0.8888888888888888,\"#fdca26\"],[1.0,\"#f0f921\"]],\"sequentialminus\":[[0.0,\"#0d0887\"],[0.1111111111111111,\"#46039f\"],[0.2222222222222222,\"#7201a8\"],[0.3333333333333333,\"#9c179e\"],[0.4444444444444444,\"#bd3786\"],[0.5555555555555556,\"#d8576b\"],[0.6666666666666666,\"#ed7953\"],[0.7777777777777778,\"#fb9f3a\"],[0.8888888888888888,\"#fdca26\"],[1.0,\"#f0f921\"]],\"diverging\":[[0,\"#8e0152\"],[0.1,\"#c51b7d\"],[0.2,\"#de77ae\"],[0.3,\"#f1b6da\"],[0.4,\"#fde0ef\"],[0.5,\"#f7f7f7\"],[0.6,\"#e6f5d0\"],[0.7,\"#b8e186\"],[0.8,\"#7fbc41\"],[0.9,\"#4d9221\"],[1,\"#276419\"]]},\"xaxis\":{\"gridcolor\":\"white\",\"linecolor\":\"white\",\"ticks\":\"\",\"title\":{\"standoff\":15},\"zerolinecolor\":\"white\",\"automargin\":true,\"zerolinewidth\":2},\"yaxis\":{\"gridcolor\":\"white\",\"linecolor\":\"white\",\"ticks\":\"\",\"title\":{\"standoff\":15},\"zerolinecolor\":\"white\",\"automargin\":true,\"zerolinewidth\":2},\"scene\":{\"xaxis\":{\"backgroundcolor\":\"#E5ECF6\",\"gridcolor\":\"white\",\"linecolor\":\"white\",\"showbackground\":true,\"ticks\":\"\",\"zerolinecolor\":\"white\",\"gridwidth\":2},\"yaxis\":{\"backgroundcolor\":\"#E5ECF6\",\"gridcolor\":\"white\",\"linecolor\":\"white\",\"showbackground\":true,\"ticks\":\"\",\"zerolinecolor\":\"white\",\"gridwidth\":2},\"zaxis\":{\"backgroundcolor\":\"#E5ECF6\",\"gridcolor\":\"white\",\"linecolor\":\"white\",\"showbackground\":true,\"ticks\":\"\",\"zerolinecolor\":\"white\",\"gridwidth\":2}},\"shapedefaults\":{\"line\":{\"color\":\"#2a3f5f\"}},\"annotationdefaults\":{\"arrowcolor\":\"#2a3f5f\",\"arrowhead\":0,\"arrowwidth\":1},\"geo\":{\"bgcolor\":\"white\",\"landcolor\":\"#E5ECF6\",\"subunitcolor\":\"white\",\"showland\":true,\"showlakes\":true,\"lakecolor\":\"white\"},\"title\":{\"x\":0.05},\"mapbox\":{\"style\":\"light\"}}}},                        {\"responsive\": true}                    ).then(function(){\n",
       "                            \n",
       "var gd = document.getElementById('2d0f38c1-bd94-4f7f-9be4-24a5deaba23e');\n",
       "var x = new MutationObserver(function (mutations, observer) {{\n",
       "        var display = window.getComputedStyle(gd).display;\n",
       "        if (!display || display === 'none') {{\n",
       "            console.log([gd, 'removed!']);\n",
       "            Plotly.purge(gd);\n",
       "            observer.disconnect();\n",
       "        }}\n",
       "}});\n",
       "\n",
       "// Listen for the removal of the full notebook cells\n",
       "var notebookContainer = gd.closest('#notebook-container');\n",
       "if (notebookContainer) {{\n",
       "    x.observe(notebookContainer, {childList: true});\n",
       "}}\n",
       "\n",
       "// Listen for the clearing of the current output cell\n",
       "var outputEl = gd.closest('.output');\n",
       "if (outputEl) {{\n",
       "    x.observe(outputEl, {childList: true});\n",
       "}}\n",
       "\n",
       "                        })                };                });            </script>        </div>"
      ]
     },
     "metadata": {},
     "output_type": "display_data"
    }
   ],
   "source": [
    "num_vert = 1\n",
    "import plotly.graph_objects as go\n",
    "fig = go.Figure()\n",
    "fig.add_trace(go.Scatter(y=data_fsnative_[:,num_vert], name='data', mode='markers'))\n",
    "fig.add_trace(go.Scatter(y=gauss_pred_mat[:,num_vert], name='Gauss model (R2={:1.2f})'.format(gauss_fit_mat[num_vert,-1])))\n",
    "fig.add_trace(go.Scatter(y=dn_pred_mat[:,num_vert], name='DN model (R2={:1.2f})'.format(dn_fit_mat[num_vert,-1])))\n",
    "fig.show()"
   ]
  },
  {
   "cell_type": "code",
   "execution_count": 39,
   "id": "3b7b272e-9258-4c79-b72d-0fcf7faaf561",
   "metadata": {},
   "outputs": [
    {
     "data": {
      "application/vnd.plotly.v1+json": {
       "config": {
        "plotlyServerURL": "https://plot.ly"
       },
       "data": [
        {
         "mode": "markers",
         "name": "data",
         "type": "scatter",
         "y": [
          -0.46451565623283386,
          -0.4333553910255432,
          -0.3940458595752716,
          -0.9936013221740723,
          -0.3979358971118927,
          -0.16976413130760193,
          -0.5784423351287842,
          -0.3724578320980072,
          -0.43575823307037354,
          -0.051716335117816925,
          -0.32837462425231934,
          -0.1878083497285843,
          -0.5925933718681335,
          -0.0204521082341671,
          -0.16074249148368835,
          -0.4922313988208771,
          -0.3168126046657562,
          -0.012043099850416183,
          -0.17170432209968567,
          -0.3342062532901764,
          0.027211971580982208,
          -0.18349872529506683,
          -0.23486033082008362,
          -0.0922304093837738,
          0.061348069459199905,
          0.006775916554033756,
          0.2431197315454483,
          0.6500867605209351,
          0.39869338274002075,
          0.8637851476669312,
          0.5800600647926331,
          0.8556064367294312,
          1.405916452407837,
          1.2476319074630737,
          1.2182179689407349,
          1.0328412055969238,
          1.2309598922729492,
          1.7671394348144531,
          1.492676019668579,
          1.3817890882492065,
          1.1940040588378906,
          0.4566816985607147,
          0.6084573268890381,
          0.3589816093444824,
          -0.5586943626403809,
          -1.0380609035491943,
          -0.029652632772922516,
          -0.4146476984024048,
          -0.11789290606975555,
          -0.24630442261695862,
          -0.7828664183616638,
          -0.3977244198322296,
          -0.42281001806259155,
          -0.9177983403205872,
          -0.1674816757440567,
          -0.12182362377643585,
          -0.6840515732765198,
          -0.09551005810499191,
          0.6285955905914307,
          -0.8731086850166321,
          -0.664839506149292,
          0.3313804566860199,
          -0.4935385286808014,
          -0.6419512033462524,
          0.15091656148433685,
          -1.026358723640442,
          -0.6489500999450684,
          -0.41030141711235046,
          -0.9172419309616089,
          -0.36778444051742554,
          -0.41275084018707275,
          -0.8814964294433594,
          -0.7836185693740845,
          -0.5571553707122803,
          -0.5031447410583496,
          -0.9306172728538513,
          -0.46078038215637207,
          -0.4709394574165344,
          -0.30250611901283264,
          -0.289795845746994,
          -0.2955162525177002,
          0.19615629315376282,
          -0.1638716459274292,
          -0.34479987621307373,
          0.16671805083751678,
          -0.33466994762420654,
          -0.43480345606803894,
          -0.5215189456939697,
          0.06552956998348236,
          0.42685985565185547,
          0.14514870941638947,
          1.4446300268173218,
          1.6623029708862305,
          0.911749541759491,
          2.1242170333862305,
          1.1518006324768066,
          1.2735084295272827,
          2.0652918815612793,
          0.765725314617157,
          1.092130184173584,
          1.954370141029358,
          0.33947622776031494,
          0.4961499273777008,
          0.5570548176765442,
          -0.7982292771339417,
          -0.24512659013271332,
          0.020605992525815964,
          -0.8390153646469116,
          -0.31542813777923584,
          0.24518583714962006,
          -1.2273341417312622,
          -0.5724681615829468,
          0.4973587989807129,
          -1.0851291418075562,
          -0.4263242781162262,
          -0.16998928785324097,
          -0.8894248008728027,
          -0.545548677444458,
          -0.3924803137779236,
          -0.788529098033905,
          -0.06760288774967194,
          -0.6790245771408081,
          -0.8207771182060242,
          -0.31440305709838867,
          -0.5117112398147583,
          -0.26165372133255005,
          0.17101357877254486,
          0.04588817432522774,
          0.5059248805046082,
          0.17822378873825073,
          0.10415035486221313,
          0.6291542649269104,
          0.22974050045013428,
          0.15116098523139954,
          0.7157631516456604,
          -0.2570572793483734,
          0.5271182656288147,
          0.47145843505859375,
          -0.10331225395202637,
          0.8751691579818726,
          -0.32617640495300293,
          -0.2135603427886963,
          -0.23751869797706604,
          -0.9288399815559387,
          -0.13962003588676453,
          -0.34789490699768066,
          0.19795957207679749,
          0.9448975324630737,
          0.27205392718315125,
          -0.47698646783828735,
          -0.5094539523124695,
          -0.04166506230831146,
          -0.19887523353099823,
          -0.7330455183982849,
          -0.6224642992019653,
          -0.2388233244419098,
          -0.5888027548789978,
          -0.6862248778343201,
          0.01085476391017437,
          -0.7745605707168579,
          -0.6230154037475586,
          -0.7347935438156128,
          -0.5905814170837402,
          -0.264813631772995,
          0.06019328162074089,
          -0.04778168350458145,
          0.4577493965625763,
          0.5304150581359863,
          0.5358893871307373,
          0.6223706007003784,
          0.6822814345359802,
          1.1183445453643799,
          1.2503794431686401,
          0.7088503241539001,
          1.2463473081588745,
          0.6467164754867554,
          0.8714522123336792,
          1.0262551307678223,
          0.08968880772590637,
          0.057874321937561035,
          -0.22649399936199188,
          -0.38796770572662354,
          0.14661146700382233,
          -0.2191014289855957,
          0.22816875576972961,
          -0.5138629674911499,
          0.2080240249633789,
          0.06060299277305603,
          -0.5661664605140686,
          0.28143179416656494,
          -0.4083101451396942,
          0.45429527759552,
          0.08385206758975983,
          -0.1066211387515068,
          0.5548379421234131,
          0.09200464189052582,
          -0.6971935033798218,
          -0.19588671624660492,
          -0.30580952763557434,
          -0.15978692471981049,
          -0.21559682488441467,
          -0.29325973987579346,
          0.32348203659057617,
          -0.710381031036377,
          -0.5984110236167908,
          0.018445447087287903,
          -0.8109158277511597,
          0.01940823346376419
         ]
        },
        {
         "name": "Gauss model (R2=0.58)",
         "type": "scatter",
         "y": [
          -0.34066346287727356,
          -0.34067103266716003,
          -0.34067532420158386,
          -0.3406776487827301,
          -0.3406789004802704,
          -0.3406795263290405,
          -0.3406798541545868,
          -0.34068000316619873,
          -0.3406800925731659,
          -0.34068015217781067,
          -0.34068015217781067,
          -0.34068015217781067,
          -0.34068018198013306,
          -0.34068018198013306,
          -0.34068018198013306,
          -0.34068018198013306,
          -0.34068018198013306,
          -0.34068018198013306,
          -0.34068018198013306,
          -0.337810754776001,
          -0.32217732071876526,
          -0.28877654671669006,
          -0.238682821393013,
          -0.16990269720554352,
          -0.07303211092948914,
          0.04248669371008873,
          0.14195166528224945,
          0.23152939975261688,
          0.3323759436607361,
          0.451704740524292,
          0.5823966860771179,
          0.7105319499969482,
          0.8208462595939636,
          0.8993622064590454,
          0.953514814376831,
          1.023850917816162,
          1.0681978464126587,
          1.0144637823104858,
          0.8730087280273438,
          0.6882179975509644,
          0.49200233817100525,
          0.30097779631614685,
          0.12459296733140945,
          -0.03035343624651432,
          -0.15623576939105988,
          -0.24434885382652283,
          -0.3021518290042877,
          -0.3417662978172302,
          -0.3698972761631012,
          -0.38813844323158264,
          -0.3972979187965393,
          -0.39932557940483093,
          -0.3966553509235382,
          -0.39092689752578735,
          -0.3834616243839264,
          -0.3754691481590271,
          -0.3678625524044037,
          -0.361176997423172,
          -0.35563400387763977,
          -0.35124844312667847,
          -0.3479181230068207,
          -0.3454846441745758,
          -0.34377163648605347,
          -0.3426092565059662,
          -0.3418482542037964,
          -0.3413670063018799,
          -0.34107276797294617,
          -0.34089773893356323,
          -0.3407922387123108,
          -0.34072035551071167,
          -0.3406517803668976,
          -0.34054818749427795,
          -0.3403433561325073,
          -0.33999738097190857,
          -0.33956149220466614,
          -0.33884042501449585,
          -0.33740055561065674,
          -0.33459600806236267,
          -0.3294615149497986,
          -0.32055333256721497,
          -0.3058018386363983,
          -0.282661497592926,
          -0.24688658118247986,
          -0.18988944590091705,
          -0.11494985967874527,
          -0.04368371143937111,
          0.03138764947652817,
          0.12809957563877106,
          0.25440385937690735,
          0.4075424373149872,
          0.578133225440979,
          0.752981424331665,
          0.9300292134284973,
          1.134305477142334,
          1.3500490188598633,
          1.5041569471359253,
          1.5121744871139526,
          1.3980679512023926,
          1.2091583013534546,
          0.9247542023658752,
          0.5235127806663513,
          0.11215459555387497,
          -0.20836655795574188,
          -0.41228827834129333,
          -0.5198968648910522,
          -0.5615782141685486,
          -0.5623450875282288,
          -0.5398063659667969,
          -0.5061020255088806,
          -0.46958276629447937,
          -0.4356321096420288,
          -0.407149076461792,
          -0.38508787751197815,
          -0.3691019117832184,
          -0.3581655025482178,
          -0.3507992923259735,
          -0.3449299931526184,
          -0.3388449549674988,
          -0.33119645714759827,
          -0.3200680911540985,
          -0.3022766411304474,
          -0.274970680475235,
          -0.23986348509788513,
          -0.20467527210712433,
          -0.16373082995414734,
          -0.10629045963287354,
          -0.025862738490104675,
          0.07890608161687851,
          0.20553058385849,
          0.3481091856956482,
          0.5102500915527344,
          0.7155938148498535,
          0.9204419255256653,
          1.0354944467544556,
          1.0637521743774414,
          1.0437761545181274,
          0.994357168674469,
          0.9164783358573914,
          0.8080037832260132,
          0.6714144349098206,
          0.5145424008369446,
          0.3577509820461273,
          0.23411916196346283,
          0.12992510199546814,
          0.020998910069465637,
          -0.09057694673538208,
          -0.19229012727737427,
          -0.27844491600990295,
          -0.3485558331012726,
          -0.3974051773548126,
          -0.4233238101005554,
          -0.4306934177875519,
          -0.4260469973087311,
          -0.415035218000412,
          -0.40157535672187805,
          -0.3880918025970459,
          -0.37595874071121216,
          -0.36583858728408813,
          -0.3579081594944,
          -0.3520280718803406,
          -0.3478829264640808,
          -0.34509381651878357,
          -0.34329622983932495,
          -0.3093736171722412,
          -0.14065134525299072,
          0.16773658990859985,
          0.51820969581604,
          0.8450474143028259,
          1.1625511646270752,
          1.4300191402435303,
          1.5704337358474731,
          1.5483942031860352,
          1.4105570316314697,
          1.2146941423416138,
          0.9932881593704224,
          0.7617334127426147,
          0.5309404730796814,
          0.3116297125816345,
          0.12003456801176071,
          -0.021116241812705994,
          -0.12480922788381577,
          -0.21151793003082275,
          -0.2846522033214569,
          -0.3409566879272461,
          -0.37930312752723694,
          -0.4015989899635315,
          -0.4112776815891266,
          -0.41197559237480164,
          -0.4068784713745117,
          -0.39849013090133667,
          -0.38864055275917053,
          -0.3787866532802582,
          -0.36987680196762085,
          -0.3623478412628174,
          -0.35629522800445557,
          -0.3516272306442261,
          -0.3481585681438446,
          -0.3456668257713318,
          -0.3439311981201172,
          -0.34275615215301514,
          -0.3419807553291321,
          -0.34148073196411133,
          -0.3411647379398346,
          -0.3409687280654907,
          -0.34084922075271606,
          -0.34077757596969604,
          -0.3407353460788727,
          -0.3407108783721924
         ]
        },
        {
         "name": "DN model (R2=0.59)",
         "type": "scatter",
         "y": [
          -0.32901257276535034,
          -0.32901766896247864,
          -0.3290207087993622,
          -0.32902219891548157,
          -0.3290230929851532,
          -0.32902345061302185,
          -0.32902371883392334,
          -0.3290237784385681,
          -0.3290238678455353,
          -0.3290238380432129,
          -0.3290238678455353,
          -0.3290238380432129,
          -0.3290238380432129,
          -0.3290238678455353,
          -0.3290238082408905,
          -0.3290238380432129,
          -0.3290238380432129,
          -0.32902389764785767,
          -0.3290238678455353,
          -0.32748517394065857,
          -0.3188004195690155,
          -0.29870346188545227,
          -0.26466038823127747,
          -0.21118058264255524,
          -0.127221941947937,
          -0.017655024304986,
          0.08675744384527206,
          0.19515331089496613,
          0.3312337100505829,
          0.5032264590263367,
          0.6993603110313416,
          0.8614395260810852,
          0.8862130045890808,
          0.8009862303733826,
          0.7026949524879456,
          0.7047445178031921,
          0.8376350998878479,
          0.9533509612083435,
          0.9575923085212708,
          0.8521001935005188,
          0.6747285723686218,
          0.46392449736595154,
          0.24929209053516388,
          0.051645033061504364,
          -0.11315926164388657,
          -0.23281513154506683,
          -0.31300821900367737,
          -0.36519140005111694,
          -0.3968859910964966,
          -0.41223570704460144,
          -0.4149554669857025,
          -0.40918511152267456,
          -0.39880725741386414,
          -0.38664740324020386,
          -0.37457290291786194,
          -0.3637023866176605,
          -0.3545624315738678,
          -0.3472651541233063,
          -0.3416793942451477,
          -0.3375577926635742,
          -0.33461838960647583,
          -0.3325897753238678,
          -0.33123430609703064,
          -0.33035680651664734,
          -0.3298063278198242,
          -0.32947108149528503,
          -0.3292728066444397,
          -0.32915905117988586,
          -0.3290953040122986,
          -0.3290599286556244,
          -0.32903924584388733,
          -0.3290225863456726,
          -0.3289974331855774,
          -0.3289537727832794,
          -0.3288925588130951,
          -0.328766793012619,
          -0.3284580409526825,
          -0.3277324438095093,
          -0.3261391222476959,
          -0.3228403627872467,
          -0.3163735270500183,
          -0.30451375246047974,
          -0.2834344208240509,
          -0.24574311077594757,
          -0.19105437397956848,
          -0.13323864340782166,
          -0.06281811743974686,
          0.03920307010412216,
          0.18452031910419464,
          0.3750281035900116,
          0.6041067838668823,
          0.8553393483161926,
          1.0817224979400635,
          1.2129665613174438,
          1.2724050283432007,
          1.274444580078125,
          1.2062302827835083,
          1.1723453998565674,
          1.1565258502960205,
          1.0155892372131348,
          0.6669206619262695,
          0.24479474127292633,
          -0.10614258795976639,
          -0.3383231461048126,
          -0.46758636832237244,
          -0.5256612300872803,
          -0.5389145612716675,
          -0.525377094745636,
          -0.49735432863235474,
          -0.4636390805244446,
          -0.43036961555480957,
          -0.4012889862060547,
          -0.37806496024131775,
          -0.36083123087882996,
          -0.3488154411315918,
          -0.340783029794693,
          -0.3352079391479492,
          -0.3306632339954376,
          -0.3257601857185364,
          -0.31863319873809814,
          -0.3063632845878601,
          -0.2854757010936737,
          -0.2559565603733063,
          -0.22355666756629944,
          -0.1813516765832901,
          -0.11668192595243454,
          -0.020014652982354164,
          0.11324071139097214,
          0.2826595604419708,
          0.4820234477519989,
          0.7110404372215271,
          0.9518354535102844,
          1.0662147998809814,
          1.003312587738037,
          0.8498895764350891,
          0.7245510220527649,
          0.7252662777900696,
          0.7880381941795349,
          0.8079591393470764,
          0.7416240572929382,
          0.6007043123245239,
          0.42670199275016785,
          0.27156344056129456,
          0.13354499638080597,
          -0.0025394349358975887,
          -0.1315680891275406,
          -0.24084661900997162,
          -0.32408833503723145,
          -0.3817092478275299,
          -0.41462773084640503,
          -0.4265858232975006,
          -0.4239102005958557,
          -0.4129217267036438,
          -0.3984176814556122,
          -0.38348668813705444,
          -0.36987894773483276,
          -0.35842859745025635,
          -0.3493751585483551,
          -0.3425908386707306,
          -0.3377484977245331,
          -0.3344445824623108,
          -0.33228302001953125,
          -0.3309234380722046,
          -0.2879529297351837,
          -0.07096482068300247,
          0.32406964898109436,
          0.7286674380302429,
          0.9737270474433899,
          1.120466709136963,
          1.2165699005126953,
          1.2627663612365723,
          1.3007620573043823,
          1.3060630559921265,
          1.2319591045379639,
          1.0682488679885864,
          0.8384975790977478,
          0.5782042145729065,
          0.3197513520717621,
          0.09166943281888962,
          -0.0804731622338295,
          -0.20487745106220245,
          -0.2974873483181,
          -0.3637780249118805,
          -0.4053994417190552,
          -0.42568543553352356,
          -0.429845929145813,
          -0.42348358035087585,
          -0.41140007972717285,
          -0.3971198499202728,
          -0.38292187452316284,
          -0.3700983226299286,
          -0.35927334427833557,
          -0.35060906410217285,
          -0.343974769115448,
          -0.33908843994140625,
          -0.3356155753135681,
          -0.33322852849960327,
          -0.3316390812397003,
          -0.3306116461753845,
          -0.32996606826782227,
          -0.3295709490776062,
          -0.3293350338935852,
          -0.3291974365711212,
          -0.32911887764930725,
          -0.32907506823539734,
          -0.32905086874961853,
          -0.3290378749370575,
          -0.3290311098098755
         ]
        }
       ],
       "layout": {
        "autosize": true,
        "template": {
         "data": {
          "bar": [
           {
            "error_x": {
             "color": "#2a3f5f"
            },
            "error_y": {
             "color": "#2a3f5f"
            },
            "marker": {
             "line": {
              "color": "#E5ECF6",
              "width": 0.5
             },
             "pattern": {
              "fillmode": "overlay",
              "size": 10,
              "solidity": 0.2
             }
            },
            "type": "bar"
           }
          ],
          "barpolar": [
           {
            "marker": {
             "line": {
              "color": "#E5ECF6",
              "width": 0.5
             },
             "pattern": {
              "fillmode": "overlay",
              "size": 10,
              "solidity": 0.2
             }
            },
            "type": "barpolar"
           }
          ],
          "carpet": [
           {
            "aaxis": {
             "endlinecolor": "#2a3f5f",
             "gridcolor": "white",
             "linecolor": "white",
             "minorgridcolor": "white",
             "startlinecolor": "#2a3f5f"
            },
            "baxis": {
             "endlinecolor": "#2a3f5f",
             "gridcolor": "white",
             "linecolor": "white",
             "minorgridcolor": "white",
             "startlinecolor": "#2a3f5f"
            },
            "type": "carpet"
           }
          ],
          "choropleth": [
           {
            "colorbar": {
             "outlinewidth": 0,
             "ticks": ""
            },
            "type": "choropleth"
           }
          ],
          "contour": [
           {
            "colorbar": {
             "outlinewidth": 0,
             "ticks": ""
            },
            "colorscale": [
             [
              0,
              "#0d0887"
             ],
             [
              0.1111111111111111,
              "#46039f"
             ],
             [
              0.2222222222222222,
              "#7201a8"
             ],
             [
              0.3333333333333333,
              "#9c179e"
             ],
             [
              0.4444444444444444,
              "#bd3786"
             ],
             [
              0.5555555555555556,
              "#d8576b"
             ],
             [
              0.6666666666666666,
              "#ed7953"
             ],
             [
              0.7777777777777778,
              "#fb9f3a"
             ],
             [
              0.8888888888888888,
              "#fdca26"
             ],
             [
              1,
              "#f0f921"
             ]
            ],
            "type": "contour"
           }
          ],
          "contourcarpet": [
           {
            "colorbar": {
             "outlinewidth": 0,
             "ticks": ""
            },
            "type": "contourcarpet"
           }
          ],
          "heatmap": [
           {
            "colorbar": {
             "outlinewidth": 0,
             "ticks": ""
            },
            "colorscale": [
             [
              0,
              "#0d0887"
             ],
             [
              0.1111111111111111,
              "#46039f"
             ],
             [
              0.2222222222222222,
              "#7201a8"
             ],
             [
              0.3333333333333333,
              "#9c179e"
             ],
             [
              0.4444444444444444,
              "#bd3786"
             ],
             [
              0.5555555555555556,
              "#d8576b"
             ],
             [
              0.6666666666666666,
              "#ed7953"
             ],
             [
              0.7777777777777778,
              "#fb9f3a"
             ],
             [
              0.8888888888888888,
              "#fdca26"
             ],
             [
              1,
              "#f0f921"
             ]
            ],
            "type": "heatmap"
           }
          ],
          "heatmapgl": [
           {
            "colorbar": {
             "outlinewidth": 0,
             "ticks": ""
            },
            "colorscale": [
             [
              0,
              "#0d0887"
             ],
             [
              0.1111111111111111,
              "#46039f"
             ],
             [
              0.2222222222222222,
              "#7201a8"
             ],
             [
              0.3333333333333333,
              "#9c179e"
             ],
             [
              0.4444444444444444,
              "#bd3786"
             ],
             [
              0.5555555555555556,
              "#d8576b"
             ],
             [
              0.6666666666666666,
              "#ed7953"
             ],
             [
              0.7777777777777778,
              "#fb9f3a"
             ],
             [
              0.8888888888888888,
              "#fdca26"
             ],
             [
              1,
              "#f0f921"
             ]
            ],
            "type": "heatmapgl"
           }
          ],
          "histogram": [
           {
            "marker": {
             "pattern": {
              "fillmode": "overlay",
              "size": 10,
              "solidity": 0.2
             }
            },
            "type": "histogram"
           }
          ],
          "histogram2d": [
           {
            "colorbar": {
             "outlinewidth": 0,
             "ticks": ""
            },
            "colorscale": [
             [
              0,
              "#0d0887"
             ],
             [
              0.1111111111111111,
              "#46039f"
             ],
             [
              0.2222222222222222,
              "#7201a8"
             ],
             [
              0.3333333333333333,
              "#9c179e"
             ],
             [
              0.4444444444444444,
              "#bd3786"
             ],
             [
              0.5555555555555556,
              "#d8576b"
             ],
             [
              0.6666666666666666,
              "#ed7953"
             ],
             [
              0.7777777777777778,
              "#fb9f3a"
             ],
             [
              0.8888888888888888,
              "#fdca26"
             ],
             [
              1,
              "#f0f921"
             ]
            ],
            "type": "histogram2d"
           }
          ],
          "histogram2dcontour": [
           {
            "colorbar": {
             "outlinewidth": 0,
             "ticks": ""
            },
            "colorscale": [
             [
              0,
              "#0d0887"
             ],
             [
              0.1111111111111111,
              "#46039f"
             ],
             [
              0.2222222222222222,
              "#7201a8"
             ],
             [
              0.3333333333333333,
              "#9c179e"
             ],
             [
              0.4444444444444444,
              "#bd3786"
             ],
             [
              0.5555555555555556,
              "#d8576b"
             ],
             [
              0.6666666666666666,
              "#ed7953"
             ],
             [
              0.7777777777777778,
              "#fb9f3a"
             ],
             [
              0.8888888888888888,
              "#fdca26"
             ],
             [
              1,
              "#f0f921"
             ]
            ],
            "type": "histogram2dcontour"
           }
          ],
          "mesh3d": [
           {
            "colorbar": {
             "outlinewidth": 0,
             "ticks": ""
            },
            "type": "mesh3d"
           }
          ],
          "parcoords": [
           {
            "line": {
             "colorbar": {
              "outlinewidth": 0,
              "ticks": ""
             }
            },
            "type": "parcoords"
           }
          ],
          "pie": [
           {
            "automargin": true,
            "type": "pie"
           }
          ],
          "scatter": [
           {
            "fillpattern": {
             "fillmode": "overlay",
             "size": 10,
             "solidity": 0.2
            },
            "type": "scatter"
           }
          ],
          "scatter3d": [
           {
            "line": {
             "colorbar": {
              "outlinewidth": 0,
              "ticks": ""
             }
            },
            "marker": {
             "colorbar": {
              "outlinewidth": 0,
              "ticks": ""
             }
            },
            "type": "scatter3d"
           }
          ],
          "scattercarpet": [
           {
            "marker": {
             "colorbar": {
              "outlinewidth": 0,
              "ticks": ""
             }
            },
            "type": "scattercarpet"
           }
          ],
          "scattergeo": [
           {
            "marker": {
             "colorbar": {
              "outlinewidth": 0,
              "ticks": ""
             }
            },
            "type": "scattergeo"
           }
          ],
          "scattergl": [
           {
            "marker": {
             "colorbar": {
              "outlinewidth": 0,
              "ticks": ""
             }
            },
            "type": "scattergl"
           }
          ],
          "scattermapbox": [
           {
            "marker": {
             "colorbar": {
              "outlinewidth": 0,
              "ticks": ""
             }
            },
            "type": "scattermapbox"
           }
          ],
          "scatterpolar": [
           {
            "marker": {
             "colorbar": {
              "outlinewidth": 0,
              "ticks": ""
             }
            },
            "type": "scatterpolar"
           }
          ],
          "scatterpolargl": [
           {
            "marker": {
             "colorbar": {
              "outlinewidth": 0,
              "ticks": ""
             }
            },
            "type": "scatterpolargl"
           }
          ],
          "scatterternary": [
           {
            "marker": {
             "colorbar": {
              "outlinewidth": 0,
              "ticks": ""
             }
            },
            "type": "scatterternary"
           }
          ],
          "surface": [
           {
            "colorbar": {
             "outlinewidth": 0,
             "ticks": ""
            },
            "colorscale": [
             [
              0,
              "#0d0887"
             ],
             [
              0.1111111111111111,
              "#46039f"
             ],
             [
              0.2222222222222222,
              "#7201a8"
             ],
             [
              0.3333333333333333,
              "#9c179e"
             ],
             [
              0.4444444444444444,
              "#bd3786"
             ],
             [
              0.5555555555555556,
              "#d8576b"
             ],
             [
              0.6666666666666666,
              "#ed7953"
             ],
             [
              0.7777777777777778,
              "#fb9f3a"
             ],
             [
              0.8888888888888888,
              "#fdca26"
             ],
             [
              1,
              "#f0f921"
             ]
            ],
            "type": "surface"
           }
          ],
          "table": [
           {
            "cells": {
             "fill": {
              "color": "#EBF0F8"
             },
             "line": {
              "color": "white"
             }
            },
            "header": {
             "fill": {
              "color": "#C8D4E3"
             },
             "line": {
              "color": "white"
             }
            },
            "type": "table"
           }
          ]
         },
         "layout": {
          "annotationdefaults": {
           "arrowcolor": "#2a3f5f",
           "arrowhead": 0,
           "arrowwidth": 1
          },
          "autotypenumbers": "strict",
          "coloraxis": {
           "colorbar": {
            "outlinewidth": 0,
            "ticks": ""
           }
          },
          "colorscale": {
           "diverging": [
            [
             0,
             "#8e0152"
            ],
            [
             0.1,
             "#c51b7d"
            ],
            [
             0.2,
             "#de77ae"
            ],
            [
             0.3,
             "#f1b6da"
            ],
            [
             0.4,
             "#fde0ef"
            ],
            [
             0.5,
             "#f7f7f7"
            ],
            [
             0.6,
             "#e6f5d0"
            ],
            [
             0.7,
             "#b8e186"
            ],
            [
             0.8,
             "#7fbc41"
            ],
            [
             0.9,
             "#4d9221"
            ],
            [
             1,
             "#276419"
            ]
           ],
           "sequential": [
            [
             0,
             "#0d0887"
            ],
            [
             0.1111111111111111,
             "#46039f"
            ],
            [
             0.2222222222222222,
             "#7201a8"
            ],
            [
             0.3333333333333333,
             "#9c179e"
            ],
            [
             0.4444444444444444,
             "#bd3786"
            ],
            [
             0.5555555555555556,
             "#d8576b"
            ],
            [
             0.6666666666666666,
             "#ed7953"
            ],
            [
             0.7777777777777778,
             "#fb9f3a"
            ],
            [
             0.8888888888888888,
             "#fdca26"
            ],
            [
             1,
             "#f0f921"
            ]
           ],
           "sequentialminus": [
            [
             0,
             "#0d0887"
            ],
            [
             0.1111111111111111,
             "#46039f"
            ],
            [
             0.2222222222222222,
             "#7201a8"
            ],
            [
             0.3333333333333333,
             "#9c179e"
            ],
            [
             0.4444444444444444,
             "#bd3786"
            ],
            [
             0.5555555555555556,
             "#d8576b"
            ],
            [
             0.6666666666666666,
             "#ed7953"
            ],
            [
             0.7777777777777778,
             "#fb9f3a"
            ],
            [
             0.8888888888888888,
             "#fdca26"
            ],
            [
             1,
             "#f0f921"
            ]
           ]
          },
          "colorway": [
           "#636efa",
           "#EF553B",
           "#00cc96",
           "#ab63fa",
           "#FFA15A",
           "#19d3f3",
           "#FF6692",
           "#B6E880",
           "#FF97FF",
           "#FECB52"
          ],
          "font": {
           "color": "#2a3f5f"
          },
          "geo": {
           "bgcolor": "white",
           "lakecolor": "white",
           "landcolor": "#E5ECF6",
           "showlakes": true,
           "showland": true,
           "subunitcolor": "white"
          },
          "hoverlabel": {
           "align": "left"
          },
          "hovermode": "closest",
          "mapbox": {
           "style": "light"
          },
          "paper_bgcolor": "white",
          "plot_bgcolor": "#E5ECF6",
          "polar": {
           "angularaxis": {
            "gridcolor": "white",
            "linecolor": "white",
            "ticks": ""
           },
           "bgcolor": "#E5ECF6",
           "radialaxis": {
            "gridcolor": "white",
            "linecolor": "white",
            "ticks": ""
           }
          },
          "scene": {
           "xaxis": {
            "backgroundcolor": "#E5ECF6",
            "gridcolor": "white",
            "gridwidth": 2,
            "linecolor": "white",
            "showbackground": true,
            "ticks": "",
            "zerolinecolor": "white"
           },
           "yaxis": {
            "backgroundcolor": "#E5ECF6",
            "gridcolor": "white",
            "gridwidth": 2,
            "linecolor": "white",
            "showbackground": true,
            "ticks": "",
            "zerolinecolor": "white"
           },
           "zaxis": {
            "backgroundcolor": "#E5ECF6",
            "gridcolor": "white",
            "gridwidth": 2,
            "linecolor": "white",
            "showbackground": true,
            "ticks": "",
            "zerolinecolor": "white"
           }
          },
          "shapedefaults": {
           "line": {
            "color": "#2a3f5f"
           }
          },
          "ternary": {
           "aaxis": {
            "gridcolor": "white",
            "linecolor": "white",
            "ticks": ""
           },
           "baxis": {
            "gridcolor": "white",
            "linecolor": "white",
            "ticks": ""
           },
           "bgcolor": "#E5ECF6",
           "caxis": {
            "gridcolor": "white",
            "linecolor": "white",
            "ticks": ""
           }
          },
          "title": {
           "x": 0.05
          },
          "xaxis": {
           "automargin": true,
           "gridcolor": "white",
           "linecolor": "white",
           "ticks": "",
           "title": {
            "standoff": 15
           },
           "zerolinecolor": "white",
           "zerolinewidth": 2
          },
          "yaxis": {
           "automargin": true,
           "gridcolor": "white",
           "linecolor": "white",
           "ticks": "",
           "title": {
            "standoff": 15
           },
           "zerolinecolor": "white",
           "zerolinewidth": 2
          }
         }
        },
        "xaxis": {
         "autorange": true,
         "range": [
          -13.259485924112607,
          220.2594859241126
         ]
        },
        "yaxis": {
         "autorange": true,
         "range": [
          -1.5039184620079484,
          2.4008013536629167
         ],
         "type": "linear"
        }
       }
      },
      "image/png": "[encoded data removed]",
      "text/html": [
       "<div>                            <div id=\"83e94589-b227-4bab-98d8-74e6fb46aa83\" class=\"plotly-graph-div\" style=\"height:525px; width:100%;\"></div>            <script type=\"text/javascript\">                require([\"plotly\"], function(Plotly) {                    window.PLOTLYENV=window.PLOTLYENV || {};                                    if (document.getElementById(\"83e94589-b227-4bab-98d8-74e6fb46aa83\")) {                    Plotly.newPlot(                        \"83e94589-b227-4bab-98d8-74e6fb46aa83\",                        [{\"mode\":\"markers\",\"name\":\"data\",\"y\":[-0.46451565623283386,-0.4333553910255432,-0.3940458595752716,-0.9936013221740723,-0.3979358971118927,-0.16976413130760193,-0.5784423351287842,-0.3724578320980072,-0.43575823307037354,-0.051716335117816925,-0.32837462425231934,-0.1878083497285843,-0.5925933718681335,-0.0204521082341671,-0.16074249148368835,-0.4922313988208771,-0.3168126046657562,-0.012043099850416183,-0.17170432209968567,-0.3342062532901764,0.027211971580982208,-0.18349872529506683,-0.23486033082008362,-0.0922304093837738,0.061348069459199905,0.006775916554033756,0.2431197315454483,0.6500867605209351,0.39869338274002075,0.8637851476669312,0.5800600647926331,0.8556064367294312,1.405916452407837,1.2476319074630737,1.2182179689407349,1.0328412055969238,1.2309598922729492,1.7671394348144531,1.492676019668579,1.3817890882492065,1.1940040588378906,0.4566816985607147,0.6084573268890381,0.3589816093444824,-0.5586943626403809,-1.0380609035491943,-0.029652632772922516,-0.4146476984024048,-0.11789290606975555,-0.24630442261695862,-0.7828664183616638,-0.3977244198322296,-0.42281001806259155,-0.9177983403205872,-0.1674816757440567,-0.12182362377643585,-0.6840515732765198,-0.09551005810499191,0.6285955905914307,-0.8731086850166321,-0.664839506149292,0.3313804566860199,-0.4935385286808014,-0.6419512033462524,0.15091656148433685,-1.026358723640442,-0.6489500999450684,-0.41030141711235046,-0.9172419309616089,-0.36778444051742554,-0.41275084018707275,-0.8814964294433594,-0.7836185693740845,-0.5571553707122803,-0.5031447410583496,-0.9306172728538513,-0.46078038215637207,-0.4709394574165344,-0.30250611901283264,-0.289795845746994,-0.2955162525177002,0.19615629315376282,-0.1638716459274292,-0.34479987621307373,0.16671805083751678,-0.33466994762420654,-0.43480345606803894,-0.5215189456939697,0.06552956998348236,0.42685985565185547,0.14514870941638947,1.4446300268173218,1.6623029708862305,0.911749541759491,2.1242170333862305,1.1518006324768066,1.2735084295272827,2.0652918815612793,0.765725314617157,1.092130184173584,1.954370141029358,0.33947622776031494,0.4961499273777008,0.5570548176765442,-0.7982292771339417,-0.24512659013271332,0.020605992525815964,-0.8390153646469116,-0.31542813777923584,0.24518583714962006,-1.2273341417312622,-0.5724681615829468,0.4973587989807129,-1.0851291418075562,-0.4263242781162262,-0.16998928785324097,-0.8894248008728027,-0.545548677444458,-0.3924803137779236,-0.788529098033905,-0.06760288774967194,-0.6790245771408081,-0.8207771182060242,-0.31440305709838867,-0.5117112398147583,-0.26165372133255005,0.17101357877254486,0.04588817432522774,0.5059248805046082,0.17822378873825073,0.10415035486221313,0.6291542649269104,0.22974050045013428,0.15116098523139954,0.7157631516456604,-0.2570572793483734,0.5271182656288147,0.47145843505859375,-0.10331225395202637,0.8751691579818726,-0.32617640495300293,-0.2135603427886963,-0.23751869797706604,-0.9288399815559387,-0.13962003588676453,-0.34789490699768066,0.19795957207679749,0.9448975324630737,0.27205392718315125,-0.47698646783828735,-0.5094539523124695,-0.04166506230831146,-0.19887523353099823,-0.7330455183982849,-0.6224642992019653,-0.2388233244419098,-0.5888027548789978,-0.6862248778343201,0.01085476391017437,-0.7745605707168579,-0.6230154037475586,-0.7347935438156128,-0.5905814170837402,-0.264813631772995,0.06019328162074089,-0.04778168350458145,0.4577493965625763,0.5304150581359863,0.5358893871307373,0.6223706007003784,0.6822814345359802,1.1183445453643799,1.2503794431686401,0.7088503241539001,1.2463473081588745,0.6467164754867554,0.8714522123336792,1.0262551307678223,0.08968880772590637,0.057874321937561035,-0.22649399936199188,-0.38796770572662354,0.14661146700382233,-0.2191014289855957,0.22816875576972961,-0.5138629674911499,0.2080240249633789,0.06060299277305603,-0.5661664605140686,0.28143179416656494,-0.4083101451396942,0.45429527759552,0.08385206758975983,-0.1066211387515068,0.5548379421234131,0.09200464189052582,-0.6971935033798218,-0.19588671624660492,-0.30580952763557434,-0.15978692471981049,-0.21559682488441467,-0.29325973987579346,0.32348203659057617,-0.710381031036377,-0.5984110236167908,0.018445447087287903,-0.8109158277511597,0.01940823346376419],\"type\":\"scatter\"},{\"name\":\"Gauss model (R2=0.58)\",\"y\":[-0.34066346287727356,-0.34067103266716003,-0.34067532420158386,-0.3406776487827301,-0.3406789004802704,-0.3406795263290405,-0.3406798541545868,-0.34068000316619873,-0.3406800925731659,-0.34068015217781067,-0.34068015217781067,-0.34068015217781067,-0.34068018198013306,-0.34068018198013306,-0.34068018198013306,-0.34068018198013306,-0.34068018198013306,-0.34068018198013306,-0.34068018198013306,-0.337810754776001,-0.32217732071876526,-0.28877654671669006,-0.238682821393013,-0.16990269720554352,-0.07303211092948914,0.04248669371008873,0.14195166528224945,0.23152939975261688,0.3323759436607361,0.451704740524292,0.5823966860771179,0.7105319499969482,0.8208462595939636,0.8993622064590454,0.953514814376831,1.023850917816162,1.0681978464126587,1.0144637823104858,0.8730087280273438,0.6882179975509644,0.49200233817100525,0.30097779631614685,0.12459296733140945,-0.03035343624651432,-0.15623576939105988,-0.24434885382652283,-0.3021518290042877,-0.3417662978172302,-0.3698972761631012,-0.38813844323158264,-0.3972979187965393,-0.39932557940483093,-0.3966553509235382,-0.39092689752578735,-0.3834616243839264,-0.3754691481590271,-0.3678625524044037,-0.361176997423172,-0.35563400387763977,-0.35124844312667847,-0.3479181230068207,-0.3454846441745758,-0.34377163648605347,-0.3426092565059662,-0.3418482542037964,-0.3413670063018799,-0.34107276797294617,-0.34089773893356323,-0.3407922387123108,-0.34072035551071167,-0.3406517803668976,-0.34054818749427795,-0.3403433561325073,-0.33999738097190857,-0.33956149220466614,-0.33884042501449585,-0.33740055561065674,-0.33459600806236267,-0.3294615149497986,-0.32055333256721497,-0.3058018386363983,-0.282661497592926,-0.24688658118247986,-0.18988944590091705,-0.11494985967874527,-0.04368371143937111,0.03138764947652817,0.12809957563877106,0.25440385937690735,0.4075424373149872,0.578133225440979,0.752981424331665,0.9300292134284973,1.134305477142334,1.3500490188598633,1.5041569471359253,1.5121744871139526,1.3980679512023926,1.2091583013534546,0.9247542023658752,0.5235127806663513,0.11215459555387497,-0.20836655795574188,-0.41228827834129333,-0.5198968648910522,-0.5615782141685486,-0.5623450875282288,-0.5398063659667969,-0.5061020255088806,-0.46958276629447937,-0.4356321096420288,-0.407149076461792,-0.38508787751197815,-0.3691019117832184,-0.3581655025482178,-0.3507992923259735,-0.3449299931526184,-0.3388449549674988,-0.33119645714759827,-0.3200680911540985,-0.3022766411304474,-0.274970680475235,-0.23986348509788513,-0.20467527210712433,-0.16373082995414734,-0.10629045963287354,-0.025862738490104675,0.07890608161687851,0.20553058385849,0.3481091856956482,0.5102500915527344,0.7155938148498535,0.9204419255256653,1.0354944467544556,1.0637521743774414,1.0437761545181274,0.994357168674469,0.9164783358573914,0.8080037832260132,0.6714144349098206,0.5145424008369446,0.3577509820461273,0.23411916196346283,0.12992510199546814,0.020998910069465637,-0.09057694673538208,-0.19229012727737427,-0.27844491600990295,-0.3485558331012726,-0.3974051773548126,-0.4233238101005554,-0.4306934177875519,-0.4260469973087311,-0.415035218000412,-0.40157535672187805,-0.3880918025970459,-0.37595874071121216,-0.36583858728408813,-0.3579081594944,-0.3520280718803406,-0.3478829264640808,-0.34509381651878357,-0.34329622983932495,-0.3093736171722412,-0.14065134525299072,0.16773658990859985,0.51820969581604,0.8450474143028259,1.1625511646270752,1.4300191402435303,1.5704337358474731,1.5483942031860352,1.4105570316314697,1.2146941423416138,0.9932881593704224,0.7617334127426147,0.5309404730796814,0.3116297125816345,0.12003456801176071,-0.021116241812705994,-0.12480922788381577,-0.21151793003082275,-0.2846522033214569,-0.3409566879272461,-0.37930312752723694,-0.4015989899635315,-0.4112776815891266,-0.41197559237480164,-0.4068784713745117,-0.39849013090133667,-0.38864055275917053,-0.3787866532802582,-0.36987680196762085,-0.3623478412628174,-0.35629522800445557,-0.3516272306442261,-0.3481585681438446,-0.3456668257713318,-0.3439311981201172,-0.34275615215301514,-0.3419807553291321,-0.34148073196411133,-0.3411647379398346,-0.3409687280654907,-0.34084922075271606,-0.34077757596969604,-0.3407353460788727,-0.3407108783721924],\"type\":\"scatter\"},{\"name\":\"DN model (R2=0.59)\",\"y\":[-0.32901257276535034,-0.32901766896247864,-0.3290207087993622,-0.32902219891548157,-0.3290230929851532,-0.32902345061302185,-0.32902371883392334,-0.3290237784385681,-0.3290238678455353,-0.3290238380432129,-0.3290238678455353,-0.3290238380432129,-0.3290238380432129,-0.3290238678455353,-0.3290238082408905,-0.3290238380432129,-0.3290238380432129,-0.32902389764785767,-0.3290238678455353,-0.32748517394065857,-0.3188004195690155,-0.29870346188545227,-0.26466038823127747,-0.21118058264255524,-0.127221941947937,-0.017655024304986,0.08675744384527206,0.19515331089496613,0.3312337100505829,0.5032264590263367,0.6993603110313416,0.8614395260810852,0.8862130045890808,0.8009862303733826,0.7026949524879456,0.7047445178031921,0.8376350998878479,0.9533509612083435,0.9575923085212708,0.8521001935005188,0.6747285723686218,0.46392449736595154,0.24929209053516388,0.051645033061504364,-0.11315926164388657,-0.23281513154506683,-0.31300821900367737,-0.36519140005111694,-0.3968859910964966,-0.41223570704460144,-0.4149554669857025,-0.40918511152267456,-0.39880725741386414,-0.38664740324020386,-0.37457290291786194,-0.3637023866176605,-0.3545624315738678,-0.3472651541233063,-0.3416793942451477,-0.3375577926635742,-0.33461838960647583,-0.3325897753238678,-0.33123430609703064,-0.33035680651664734,-0.3298063278198242,-0.32947108149528503,-0.3292728066444397,-0.32915905117988586,-0.3290953040122986,-0.3290599286556244,-0.32903924584388733,-0.3290225863456726,-0.3289974331855774,-0.3289537727832794,-0.3288925588130951,-0.328766793012619,-0.3284580409526825,-0.3277324438095093,-0.3261391222476959,-0.3228403627872467,-0.3163735270500183,-0.30451375246047974,-0.2834344208240509,-0.24574311077594757,-0.19105437397956848,-0.13323864340782166,-0.06281811743974686,0.03920307010412216,0.18452031910419464,0.3750281035900116,0.6041067838668823,0.8553393483161926,1.0817224979400635,1.2129665613174438,1.2724050283432007,1.274444580078125,1.2062302827835083,1.1723453998565674,1.1565258502960205,1.0155892372131348,0.6669206619262695,0.24479474127292633,-0.10614258795976639,-0.3383231461048126,-0.46758636832237244,-0.5256612300872803,-0.5389145612716675,-0.525377094745636,-0.49735432863235474,-0.4636390805244446,-0.43036961555480957,-0.4012889862060547,-0.37806496024131775,-0.36083123087882996,-0.3488154411315918,-0.340783029794693,-0.3352079391479492,-0.3306632339954376,-0.3257601857185364,-0.31863319873809814,-0.3063632845878601,-0.2854757010936737,-0.2559565603733063,-0.22355666756629944,-0.1813516765832901,-0.11668192595243454,-0.020014652982354164,0.11324071139097214,0.2826595604419708,0.4820234477519989,0.7110404372215271,0.9518354535102844,1.0662147998809814,1.003312587738037,0.8498895764350891,0.7245510220527649,0.7252662777900696,0.7880381941795349,0.8079591393470764,0.7416240572929382,0.6007043123245239,0.42670199275016785,0.27156344056129456,0.13354499638080597,-0.0025394349358975887,-0.1315680891275406,-0.24084661900997162,-0.32408833503723145,-0.3817092478275299,-0.41462773084640503,-0.4265858232975006,-0.4239102005958557,-0.4129217267036438,-0.3984176814556122,-0.38348668813705444,-0.36987894773483276,-0.35842859745025635,-0.3493751585483551,-0.3425908386707306,-0.3377484977245331,-0.3344445824623108,-0.33228302001953125,-0.3309234380722046,-0.2879529297351837,-0.07096482068300247,0.32406964898109436,0.7286674380302429,0.9737270474433899,1.120466709136963,1.2165699005126953,1.2627663612365723,1.3007620573043823,1.3060630559921265,1.2319591045379639,1.0682488679885864,0.8384975790977478,0.5782042145729065,0.3197513520717621,0.09166943281888962,-0.0804731622338295,-0.20487745106220245,-0.2974873483181,-0.3637780249118805,-0.4053994417190552,-0.42568543553352356,-0.429845929145813,-0.42348358035087585,-0.41140007972717285,-0.3971198499202728,-0.38292187452316284,-0.3700983226299286,-0.35927334427833557,-0.35060906410217285,-0.343974769115448,-0.33908843994140625,-0.3356155753135681,-0.33322852849960327,-0.3316390812397003,-0.3306116461753845,-0.32996606826782227,-0.3295709490776062,-0.3293350338935852,-0.3291974365711212,-0.32911887764930725,-0.32907506823539734,-0.32905086874961853,-0.3290378749370575,-0.3290311098098755],\"type\":\"scatter\"}],                        {\"template\":{\"data\":{\"histogram2dcontour\":[{\"type\":\"histogram2dcontour\",\"colorbar\":{\"outlinewidth\":0,\"ticks\":\"\"},\"colorscale\":[[0.0,\"#0d0887\"],[0.1111111111111111,\"#46039f\"],[0.2222222222222222,\"#7201a8\"],[0.3333333333333333,\"#9c179e\"],[0.4444444444444444,\"#bd3786\"],[0.5555555555555556,\"#d8576b\"],[0.6666666666666666,\"#ed7953\"],[0.7777777777777778,\"#fb9f3a\"],[0.8888888888888888,\"#fdca26\"],[1.0,\"#f0f921\"]]}],\"choropleth\":[{\"type\":\"choropleth\",\"colorbar\":{\"outlinewidth\":0,\"ticks\":\"\"}}],\"histogram2d\":[{\"type\":\"histogram2d\",\"colorbar\":{\"outlinewidth\":0,\"ticks\":\"\"},\"colorscale\":[[0.0,\"#0d0887\"],[0.1111111111111111,\"#46039f\"],[0.2222222222222222,\"#7201a8\"],[0.3333333333333333,\"#9c179e\"],[0.4444444444444444,\"#bd3786\"],[0.5555555555555556,\"#d8576b\"],[0.6666666666666666,\"#ed7953\"],[0.7777777777777778,\"#fb9f3a\"],[0.8888888888888888,\"#fdca26\"],[1.0,\"#f0f921\"]]}],\"heatmap\":[{\"type\":\"heatmap\",\"colorbar\":{\"outlinewidth\":0,\"ticks\":\"\"},\"colorscale\":[[0.0,\"#0d0887\"],[0.1111111111111111,\"#46039f\"],[0.2222222222222222,\"#7201a8\"],[0.3333333333333333,\"#9c179e\"],[0.4444444444444444,\"#bd3786\"],[0.5555555555555556,\"#d8576b\"],[0.6666666666666666,\"#ed7953\"],[0.7777777777777778,\"#fb9f3a\"],[0.8888888888888888,\"#fdca26\"],[1.0,\"#f0f921\"]]}],\"heatmapgl\":[{\"type\":\"heatmapgl\",\"colorbar\":{\"outlinewidth\":0,\"ticks\":\"\"},\"colorscale\":[[0.0,\"#0d0887\"],[0.1111111111111111,\"#46039f\"],[0.2222222222222222,\"#7201a8\"],[0.3333333333333333,\"#9c179e\"],[0.4444444444444444,\"#bd3786\"],[0.5555555555555556,\"#d8576b\"],[0.6666666666666666,\"#ed7953\"],[0.7777777777777778,\"#fb9f3a\"],[0.8888888888888888,\"#fdca26\"],[1.0,\"#f0f921\"]]}],\"contourcarpet\":[{\"type\":\"contourcarpet\",\"colorbar\":{\"outlinewidth\":0,\"ticks\":\"\"}}],\"contour\":[{\"type\":\"contour\",\"colorbar\":{\"outlinewidth\":0,\"ticks\":\"\"},\"colorscale\":[[0.0,\"#0d0887\"],[0.1111111111111111,\"#46039f\"],[0.2222222222222222,\"#7201a8\"],[0.3333333333333333,\"#9c179e\"],[0.4444444444444444,\"#bd3786\"],[0.5555555555555556,\"#d8576b\"],[0.6666666666666666,\"#ed7953\"],[0.7777777777777778,\"#fb9f3a\"],[0.8888888888888888,\"#fdca26\"],[1.0,\"#f0f921\"]]}],\"surface\":[{\"type\":\"surface\",\"colorbar\":{\"outlinewidth\":0,\"ticks\":\"\"},\"colorscale\":[[0.0,\"#0d0887\"],[0.1111111111111111,\"#46039f\"],[0.2222222222222222,\"#7201a8\"],[0.3333333333333333,\"#9c179e\"],[0.4444444444444444,\"#bd3786\"],[0.5555555555555556,\"#d8576b\"],[0.6666666666666666,\"#ed7953\"],[0.7777777777777778,\"#fb9f3a\"],[0.8888888888888888,\"#fdca26\"],[1.0,\"#f0f921\"]]}],\"mesh3d\":[{\"type\":\"mesh3d\",\"colorbar\":{\"outlinewidth\":0,\"ticks\":\"\"}}],\"scatter\":[{\"fillpattern\":{\"fillmode\":\"overlay\",\"size\":10,\"solidity\":0.2},\"type\":\"scatter\"}],\"parcoords\":[{\"type\":\"parcoords\",\"line\":{\"colorbar\":{\"outlinewidth\":0,\"ticks\":\"\"}}}],\"scatterpolargl\":[{\"type\":\"scatterpolargl\",\"marker\":{\"colorbar\":{\"outlinewidth\":0,\"ticks\":\"\"}}}],\"bar\":[{\"error_x\":{\"color\":\"#2a3f5f\"},\"error_y\":{\"color\":\"#2a3f5f\"},\"marker\":{\"line\":{\"color\":\"#E5ECF6\",\"width\":0.5},\"pattern\":{\"fillmode\":\"overlay\",\"size\":10,\"solidity\":0.2}},\"type\":\"bar\"}],\"scattergeo\":[{\"type\":\"scattergeo\",\"marker\":{\"colorbar\":{\"outlinewidth\":0,\"ticks\":\"\"}}}],\"scatterpolar\":[{\"type\":\"scatterpolar\",\"marker\":{\"colorbar\":{\"outlinewidth\":0,\"ticks\":\"\"}}}],\"histogram\":[{\"marker\":{\"pattern\":{\"fillmode\":\"overlay\",\"size\":10,\"solidity\":0.2}},\"type\":\"histogram\"}],\"scattergl\":[{\"type\":\"scattergl\",\"marker\":{\"colorbar\":{\"outlinewidth\":0,\"ticks\":\"\"}}}],\"scatter3d\":[{\"type\":\"scatter3d\",\"line\":{\"colorbar\":{\"outlinewidth\":0,\"ticks\":\"\"}},\"marker\":{\"colorbar\":{\"outlinewidth\":0,\"ticks\":\"\"}}}],\"scattermapbox\":[{\"type\":\"scattermapbox\",\"marker\":{\"colorbar\":{\"outlinewidth\":0,\"ticks\":\"\"}}}],\"scatterternary\":[{\"type\":\"scatterternary\",\"marker\":{\"colorbar\":{\"outlinewidth\":0,\"ticks\":\"\"}}}],\"scattercarpet\":[{\"type\":\"scattercarpet\",\"marker\":{\"colorbar\":{\"outlinewidth\":0,\"ticks\":\"\"}}}],\"carpet\":[{\"aaxis\":{\"endlinecolor\":\"#2a3f5f\",\"gridcolor\":\"white\",\"linecolor\":\"white\",\"minorgridcolor\":\"white\",\"startlinecolor\":\"#2a3f5f\"},\"baxis\":{\"endlinecolor\":\"#2a3f5f\",\"gridcolor\":\"white\",\"linecolor\":\"white\",\"minorgridcolor\":\"white\",\"startlinecolor\":\"#2a3f5f\"},\"type\":\"carpet\"}],\"table\":[{\"cells\":{\"fill\":{\"color\":\"#EBF0F8\"},\"line\":{\"color\":\"white\"}},\"header\":{\"fill\":{\"color\":\"#C8D4E3\"},\"line\":{\"color\":\"white\"}},\"type\":\"table\"}],\"barpolar\":[{\"marker\":{\"line\":{\"color\":\"#E5ECF6\",\"width\":0.5},\"pattern\":{\"fillmode\":\"overlay\",\"size\":10,\"solidity\":0.2}},\"type\":\"barpolar\"}],\"pie\":[{\"automargin\":true,\"type\":\"pie\"}]},\"layout\":{\"autotypenumbers\":\"strict\",\"colorway\":[\"#636efa\",\"#EF553B\",\"#00cc96\",\"#ab63fa\",\"#FFA15A\",\"#19d3f3\",\"#FF6692\",\"#B6E880\",\"#FF97FF\",\"#FECB52\"],\"font\":{\"color\":\"#2a3f5f\"},\"hovermode\":\"closest\",\"hoverlabel\":{\"align\":\"left\"},\"paper_bgcolor\":\"white\",\"plot_bgcolor\":\"#E5ECF6\",\"polar\":{\"bgcolor\":\"#E5ECF6\",\"angularaxis\":{\"gridcolor\":\"white\",\"linecolor\":\"white\",\"ticks\":\"\"},\"radialaxis\":{\"gridcolor\":\"white\",\"linecolor\":\"white\",\"ticks\":\"\"}},\"ternary\":{\"bgcolor\":\"#E5ECF6\",\"aaxis\":{\"gridcolor\":\"white\",\"linecolor\":\"white\",\"ticks\":\"\"},\"baxis\":{\"gridcolor\":\"white\",\"linecolor\":\"white\",\"ticks\":\"\"},\"caxis\":{\"gridcolor\":\"white\",\"linecolor\":\"white\",\"ticks\":\"\"}},\"coloraxis\":{\"colorbar\":{\"outlinewidth\":0,\"ticks\":\"\"}},\"colorscale\":{\"sequential\":[[0.0,\"#0d0887\"],[0.1111111111111111,\"#46039f\"],[0.2222222222222222,\"#7201a8\"],[0.3333333333333333,\"#9c179e\"],[0.4444444444444444,\"#bd3786\"],[0.5555555555555556,\"#d8576b\"],[0.6666666666666666,\"#ed7953\"],[0.7777777777777778,\"#fb9f3a\"],[0.8888888888888888,\"#fdca26\"],[1.0,\"#f0f921\"]],\"sequentialminus\":[[0.0,\"#0d0887\"],[0.1111111111111111,\"#46039f\"],[0.2222222222222222,\"#7201a8\"],[0.3333333333333333,\"#9c179e\"],[0.4444444444444444,\"#bd3786\"],[0.5555555555555556,\"#d8576b\"],[0.6666666666666666,\"#ed7953\"],[0.7777777777777778,\"#fb9f3a\"],[0.8888888888888888,\"#fdca26\"],[1.0,\"#f0f921\"]],\"diverging\":[[0,\"#8e0152\"],[0.1,\"#c51b7d\"],[0.2,\"#de77ae\"],[0.3,\"#f1b6da\"],[0.4,\"#fde0ef\"],[0.5,\"#f7f7f7\"],[0.6,\"#e6f5d0\"],[0.7,\"#b8e186\"],[0.8,\"#7fbc41\"],[0.9,\"#4d9221\"],[1,\"#276419\"]]},\"xaxis\":{\"gridcolor\":\"white\",\"linecolor\":\"white\",\"ticks\":\"\",\"title\":{\"standoff\":15},\"zerolinecolor\":\"white\",\"automargin\":true,\"zerolinewidth\":2},\"yaxis\":{\"gridcolor\":\"white\",\"linecolor\":\"white\",\"ticks\":\"\",\"title\":{\"standoff\":15},\"zerolinecolor\":\"white\",\"automargin\":true,\"zerolinewidth\":2},\"scene\":{\"xaxis\":{\"backgroundcolor\":\"#E5ECF6\",\"gridcolor\":\"white\",\"linecolor\":\"white\",\"showbackground\":true,\"ticks\":\"\",\"zerolinecolor\":\"white\",\"gridwidth\":2},\"yaxis\":{\"backgroundcolor\":\"#E5ECF6\",\"gridcolor\":\"white\",\"linecolor\":\"white\",\"showbackground\":true,\"ticks\":\"\",\"zerolinecolor\":\"white\",\"gridwidth\":2},\"zaxis\":{\"backgroundcolor\":\"#E5ECF6\",\"gridcolor\":\"white\",\"linecolor\":\"white\",\"showbackground\":true,\"ticks\":\"\",\"zerolinecolor\":\"white\",\"gridwidth\":2}},\"shapedefaults\":{\"line\":{\"color\":\"#2a3f5f\"}},\"annotationdefaults\":{\"arrowcolor\":\"#2a3f5f\",\"arrowhead\":0,\"arrowwidth\":1},\"geo\":{\"bgcolor\":\"white\",\"landcolor\":\"#E5ECF6\",\"subunitcolor\":\"white\",\"showland\":true,\"showlakes\":true,\"lakecolor\":\"white\"},\"title\":{\"x\":0.05},\"mapbox\":{\"style\":\"light\"}}}},                        {\"responsive\": true}                    ).then(function(){\n",
       "                            \n",
       "var gd = document.getElementById('83e94589-b227-4bab-98d8-74e6fb46aa83');\n",
       "var x = new MutationObserver(function (mutations, observer) {{\n",
       "        var display = window.getComputedStyle(gd).display;\n",
       "        if (!display || display === 'none') {{\n",
       "            console.log([gd, 'removed!']);\n",
       "            Plotly.purge(gd);\n",
       "            observer.disconnect();\n",
       "        }}\n",
       "}});\n",
       "\n",
       "// Listen for the removal of the full notebook cells\n",
       "var notebookContainer = gd.closest('#notebook-container');\n",
       "if (notebookContainer) {{\n",
       "    x.observe(notebookContainer, {childList: true});\n",
       "}}\n",
       "\n",
       "// Listen for the clearing of the current output cell\n",
       "var outputEl = gd.closest('.output');\n",
       "if (outputEl) {{\n",
       "    x.observe(outputEl, {childList: true});\n",
       "}}\n",
       "\n",
       "                        })                };                });            </script>        </div>"
      ]
     },
     "metadata": {},
     "output_type": "display_data"
    },
    {
     "name": "stdout",
     "output_type": "stream",
     "text": [
      "Performing bounded, unconstrained minimization (L-BFGS-B).\n",
      "Performing bounded, unconstrained minimization (L-BFGS-B).\n"
     ]
    }
   ],
   "source": [
    "num_vert = 1\n",
    "import plotly.graph_objects as go\n",
    "fig = go.Figure()\n",
    "fig.add_trace(go.Scatter(y=data_fsnative_[:,num_vert], name='data', mode='markers'))\n",
    "fig.add_trace(go.Scatter(y=gauss_pred_mat[:,num_vert], name='Gauss model (R2={:1.2f})'.format(gauss_fit_mat[num_vert,-1])))\n",
    "fig.add_trace(go.Scatter(y=dn_pred_mat[:,num_vert], name='DN model (R2={:1.2f})'.format(dn_fit_mat[num_vert,-1])))\n",
    "fig.show()"
   ]
  },
  {
   "cell_type": "code",
   "execution_count": 76,
   "id": "4e591e78-47f2-41aa-b6c4-98f03854d5d5",
   "metadata": {},
   "outputs": [
    {
     "data": {
      "application/vnd.plotly.v1+json": {
       "config": {
        "plotlyServerURL": "https://plot.ly"
       },
       "data": [
        {
         "mode": "markers",
         "name": "data",
         "type": "scatter",
         "y": [
          -0.46451565623283386,
          -0.4333553910255432,
          -0.3940458595752716,
          -0.9936013221740723,
          -0.3979358971118927,
          -0.16976413130760193,
          -0.5784423351287842,
          -0.3724578320980072,
          -0.43575823307037354,
          -0.051716335117816925,
          -0.32837462425231934,
          -0.1878083497285843,
          -0.5925933718681335,
          -0.0204521082341671,
          -0.16074249148368835,
          -0.4922313988208771,
          -0.3168126046657562,
          -0.012043099850416183,
          -0.17170432209968567,
          -0.3342062532901764,
          0.027211971580982208,
          -0.18349872529506683,
          -0.23486033082008362,
          -0.0922304093837738,
          0.061348069459199905,
          0.006775916554033756,
          0.2431197315454483,
          0.6500867605209351,
          0.39869338274002075,
          0.8637851476669312,
          0.5800600647926331,
          0.8556064367294312,
          1.405916452407837,
          1.2476319074630737,
          1.2182179689407349,
          1.0328412055969238,
          1.2309598922729492,
          1.7671394348144531,
          1.492676019668579,
          1.3817890882492065,
          1.1940040588378906,
          0.4566816985607147,
          0.6084573268890381,
          0.3589816093444824,
          -0.5586943626403809,
          -1.0380609035491943,
          -0.029652632772922516,
          -0.4146476984024048,
          -0.11789290606975555,
          -0.24630442261695862,
          -0.7828664183616638,
          -0.3977244198322296,
          -0.42281001806259155,
          -0.9177983403205872,
          -0.1674816757440567,
          -0.12182362377643585,
          -0.6840515732765198,
          -0.09551005810499191,
          0.6285955905914307,
          -0.8731086850166321,
          -0.664839506149292,
          0.3313804566860199,
          -0.4935385286808014,
          -0.6419512033462524,
          0.15091656148433685,
          -1.026358723640442,
          -0.6489500999450684,
          -0.41030141711235046,
          -0.9172419309616089,
          -0.36778444051742554,
          -0.41275084018707275,
          -0.8814964294433594,
          -0.7836185693740845,
          -0.5571553707122803,
          -0.5031447410583496,
          -0.9306172728538513,
          -0.46078038215637207,
          -0.4709394574165344,
          -0.30250611901283264,
          -0.289795845746994,
          -0.2955162525177002,
          0.19615629315376282,
          -0.1638716459274292,
          -0.34479987621307373,
          0.16671805083751678,
          -0.33466994762420654,
          -0.43480345606803894,
          -0.5215189456939697,
          0.06552956998348236,
          0.42685985565185547,
          0.14514870941638947,
          1.4446300268173218,
          1.6623029708862305,
          0.911749541759491,
          2.1242170333862305,
          1.1518006324768066,
          1.2735084295272827,
          2.0652918815612793,
          0.765725314617157,
          1.092130184173584,
          1.954370141029358,
          0.33947622776031494,
          0.4961499273777008,
          0.5570548176765442,
          -0.7982292771339417,
          -0.24512659013271332,
          0.020605992525815964,
          -0.8390153646469116,
          -0.31542813777923584,
          0.24518583714962006,
          -1.2273341417312622,
          -0.5724681615829468,
          0.4973587989807129,
          -1.0851291418075562,
          -0.4263242781162262,
          -0.16998928785324097,
          -0.8894248008728027,
          -0.545548677444458,
          -0.3924803137779236,
          -0.788529098033905,
          -0.06760288774967194,
          -0.6790245771408081,
          -0.8207771182060242,
          -0.31440305709838867,
          -0.5117112398147583,
          -0.26165372133255005,
          0.17101357877254486,
          0.04588817432522774,
          0.5059248805046082,
          0.17822378873825073,
          0.10415035486221313,
          0.6291542649269104,
          0.22974050045013428,
          0.15116098523139954,
          0.7157631516456604,
          -0.2570572793483734,
          0.5271182656288147,
          0.47145843505859375,
          -0.10331225395202637,
          0.8751691579818726,
          -0.32617640495300293,
          -0.2135603427886963,
          -0.23751869797706604,
          -0.9288399815559387,
          -0.13962003588676453,
          -0.34789490699768066,
          0.19795957207679749,
          0.9448975324630737,
          0.27205392718315125,
          -0.47698646783828735,
          -0.5094539523124695,
          -0.04166506230831146,
          -0.19887523353099823,
          -0.7330455183982849,
          -0.6224642992019653,
          -0.2388233244419098,
          -0.5888027548789978,
          -0.6862248778343201,
          0.01085476391017437,
          -0.7745605707168579,
          -0.6230154037475586,
          -0.7347935438156128,
          -0.5905814170837402,
          -0.264813631772995,
          0.06019328162074089,
          -0.04778168350458145,
          0.4577493965625763,
          0.5304150581359863,
          0.5358893871307373,
          0.6223706007003784,
          0.6822814345359802,
          1.1183445453643799,
          1.2503794431686401,
          0.7088503241539001,
          1.2463473081588745,
          0.6467164754867554,
          0.8714522123336792,
          1.0262551307678223,
          0.08968880772590637,
          0.057874321937561035,
          -0.22649399936199188,
          -0.38796770572662354,
          0.14661146700382233,
          -0.2191014289855957,
          0.22816875576972961,
          -0.5138629674911499,
          0.2080240249633789,
          0.06060299277305603,
          -0.5661664605140686,
          0.28143179416656494,
          -0.4083101451396942,
          0.45429527759552,
          0.08385206758975983,
          -0.1066211387515068,
          0.5548379421234131,
          0.09200464189052582,
          -0.6971935033798218,
          -0.19588671624660492,
          -0.30580952763557434,
          -0.15978692471981049,
          -0.21559682488441467,
          -0.29325973987579346,
          0.32348203659057617,
          -0.710381031036377,
          -0.5984110236167908,
          0.018445447087287903,
          -0.8109158277511597,
          0.01940823346376419
         ]
        },
        {
         "name": "Gauss model (R2=0.58)",
         "type": "scatter",
         "y": [
          -0.34066346287727356,
          -0.34067103266716003,
          -0.34067532420158386,
          -0.3406776487827301,
          -0.3406789004802704,
          -0.3406795263290405,
          -0.3406798541545868,
          -0.34068000316619873,
          -0.3406800925731659,
          -0.34068015217781067,
          -0.34068015217781067,
          -0.34068015217781067,
          -0.34068018198013306,
          -0.34068018198013306,
          -0.34068018198013306,
          -0.34068018198013306,
          -0.34068018198013306,
          -0.34068018198013306,
          -0.34068018198013306,
          -0.337810754776001,
          -0.32217732071876526,
          -0.28877654671669006,
          -0.238682821393013,
          -0.16990269720554352,
          -0.07303211092948914,
          0.04248669371008873,
          0.14195166528224945,
          0.23152939975261688,
          0.3323759436607361,
          0.451704740524292,
          0.5823966860771179,
          0.7105319499969482,
          0.8208462595939636,
          0.8993622064590454,
          0.953514814376831,
          1.023850917816162,
          1.0681978464126587,
          1.0144637823104858,
          0.8730087280273438,
          0.6882179975509644,
          0.49200233817100525,
          0.30097779631614685,
          0.12459296733140945,
          -0.03035343624651432,
          -0.15623576939105988,
          -0.24434885382652283,
          -0.3021518290042877,
          -0.3417662978172302,
          -0.3698972761631012,
          -0.38813844323158264,
          -0.3972979187965393,
          -0.39932557940483093,
          -0.3966553509235382,
          -0.39092689752578735,
          -0.3834616243839264,
          -0.3754691481590271,
          -0.3678625524044037,
          -0.361176997423172,
          -0.35563400387763977,
          -0.35124844312667847,
          -0.3479181230068207,
          -0.3454846441745758,
          -0.34377163648605347,
          -0.3426092565059662,
          -0.3418482542037964,
          -0.3413670063018799,
          -0.34107276797294617,
          -0.34089773893356323,
          -0.3407922387123108,
          -0.34072035551071167,
          -0.3406517803668976,
          -0.34054818749427795,
          -0.3403433561325073,
          -0.33999738097190857,
          -0.33956149220466614,
          -0.33884042501449585,
          -0.33740055561065674,
          -0.33459600806236267,
          -0.3294615149497986,
          -0.32055333256721497,
          -0.3058018386363983,
          -0.282661497592926,
          -0.24688658118247986,
          -0.18988944590091705,
          -0.11494985967874527,
          -0.04368371143937111,
          0.03138764947652817,
          0.12809957563877106,
          0.25440385937690735,
          0.4075424373149872,
          0.578133225440979,
          0.752981424331665,
          0.9300292134284973,
          1.134305477142334,
          1.3500490188598633,
          1.5041569471359253,
          1.5121744871139526,
          1.3980679512023926,
          1.2091583013534546,
          0.9247542023658752,
          0.5235127806663513,
          0.11215459555387497,
          -0.20836655795574188,
          -0.41228827834129333,
          -0.5198968648910522,
          -0.5615782141685486,
          -0.5623450875282288,
          -0.5398063659667969,
          -0.5061020255088806,
          -0.46958276629447937,
          -0.4356321096420288,
          -0.407149076461792,
          -0.38508787751197815,
          -0.3691019117832184,
          -0.3581655025482178,
          -0.3507992923259735,
          -0.3449299931526184,
          -0.3388449549674988,
          -0.33119645714759827,
          -0.3200680911540985,
          -0.3022766411304474,
          -0.274970680475235,
          -0.23986348509788513,
          -0.20467527210712433,
          -0.16373082995414734,
          -0.10629045963287354,
          -0.025862738490104675,
          0.07890608161687851,
          0.20553058385849,
          0.3481091856956482,
          0.5102500915527344,
          0.7155938148498535,
          0.9204419255256653,
          1.0354944467544556,
          1.0637521743774414,
          1.0437761545181274,
          0.994357168674469,
          0.9164783358573914,
          0.8080037832260132,
          0.6714144349098206,
          0.5145424008369446,
          0.3577509820461273,
          0.23411916196346283,
          0.12992510199546814,
          0.020998910069465637,
          -0.09057694673538208,
          -0.19229012727737427,
          -0.27844491600990295,
          -0.3485558331012726,
          -0.3974051773548126,
          -0.4233238101005554,
          -0.4306934177875519,
          -0.4260469973087311,
          -0.415035218000412,
          -0.40157535672187805,
          -0.3880918025970459,
          -0.37595874071121216,
          -0.36583858728408813,
          -0.3579081594944,
          -0.3520280718803406,
          -0.3478829264640808,
          -0.34509381651878357,
          -0.34329622983932495,
          -0.3093736171722412,
          -0.14065134525299072,
          0.16773658990859985,
          0.51820969581604,
          0.8450474143028259,
          1.1625511646270752,
          1.4300191402435303,
          1.5704337358474731,
          1.5483942031860352,
          1.4105570316314697,
          1.2146941423416138,
          0.9932881593704224,
          0.7617334127426147,
          0.5309404730796814,
          0.3116297125816345,
          0.12003456801176071,
          -0.021116241812705994,
          -0.12480922788381577,
          -0.21151793003082275,
          -0.2846522033214569,
          -0.3409566879272461,
          -0.37930312752723694,
          -0.4015989899635315,
          -0.4112776815891266,
          -0.41197559237480164,
          -0.4068784713745117,
          -0.39849013090133667,
          -0.38864055275917053,
          -0.3787866532802582,
          -0.36987680196762085,
          -0.3623478412628174,
          -0.35629522800445557,
          -0.3516272306442261,
          -0.3481585681438446,
          -0.3456668257713318,
          -0.3439311981201172,
          -0.34275615215301514,
          -0.3419807553291321,
          -0.34148073196411133,
          -0.3411647379398346,
          -0.3409687280654907,
          -0.34084922075271606,
          -0.34077757596969604,
          -0.3407353460788727,
          -0.3407108783721924
         ]
        },
        {
         "name": "DN model (R2=0.44)",
         "type": "scatter",
         "y": [
          -0.0046304259449243546,
          -0.004623742308467627,
          -0.0046200999058783054,
          -0.004618058446794748,
          -0.004616949241608381,
          -0.004616419319063425,
          -0.004616051912307739,
          -0.004615939222276211,
          -0.004615854471921921,
          -0.004615882411599159,
          -0.004615826066583395,
          -0.00461594620719552,
          -0.004615840036422014,
          -0.004615995567291975,
          -0.004615797661244869,
          -0.004615886136889458,
          -0.00461583212018013,
          -0.004615928512066603,
          -0.004615871701389551,
          -0.01818976178765297,
          -0.0790494978427887,
          -0.16005848348140717,
          -0.20848992466926575,
          -0.19907329976558685,
          -0.13782286643981934,
          -0.03706752508878708,
          0.08404156565666199,
          0.22301283478736877,
          0.3806484043598175,
          0.5497647523880005,
          0.7172248959541321,
          0.868582010269165,
          0.9909167289733887,
          1.0744874477386475,
          1.1161061525344849,
          1.119202733039856,
          1.0837833881378174,
          1.0125664472579956,
          0.9049263000488281,
          0.763014554977417,
          0.5940576791763306,
          0.40832602977752686,
          0.2171134650707245,
          0.03143022209405899,
          -0.13727515935897827,
          -0.2778768837451935,
          -0.3905333876609802,
          -0.47637203335762024,
          -0.5303438305854797,
          -0.5541918873786926,
          -0.5497778058052063,
          -0.500893235206604,
          -0.38602781295776367,
          -0.244919553399086,
          -0.12372948974370956,
          -0.039465852081775665,
          0.011262938380241394,
          0.03771401196718216,
          0.04810323566198349,
          0.04835161194205284,
          0.04268216714262962,
          0.03420157730579376,
          0.02512708492577076,
          0.01686081290245056,
          0.010095807723701,
          0.004995077382773161,
          0.0013985739788040519,
          -0.003684357274323702,
          -0.019433777779340744,
          -0.04899592697620392,
          -0.08903048187494278,
          -0.13772481679916382,
          -0.19740386307239532,
          -0.26162189245224,
          -0.31449586153030396,
          -0.3583242893218994,
          -0.4008851647377014,
          -0.44322293996810913,
          -0.48045963048934937,
          -0.5056922435760498,
          -0.5124444961547852,
          -0.49580326676368713,
          -0.4550989270210266,
          -0.39415180683135986,
          -0.3130854666233063,
          -0.2180406153202057,
          -0.10560780018568039,
          0.028858071193099022,
          0.18341276049613953,
          0.3504851758480072,
          0.5197417140007019,
          0.6799832582473755,
          0.8189062476158142,
          0.92499840259552,
          0.9974427223205566,
          1.0354028940200806,
          1.0377482175827026,
          1.00272798538208,
          0.9311281442642212,
          0.8077875971794128,
          0.588448703289032,
          0.3351230025291443,
          0.12531636655330658,
          -0.013945229351520538,
          -0.09143882989883423,
          -0.1257181614637375,
          -0.1327078640460968,
          -0.12356950342655182,
          -0.105956070125103,
          -0.08523891121149063,
          -0.06506309658288956,
          -0.047581564635038376,
          -0.0337049700319767,
          -0.023450780659914017,
          -0.016321903094649315,
          -0.026238052174448967,
          -0.0936969593167305,
          -0.20692412555217743,
          -0.3213457763195038,
          -0.4073490500450134,
          -0.4589054584503174,
          -0.4722321033477783,
          -0.4470573365688324,
          -0.3907851576805115,
          -0.3052136301994324,
          -0.18957611918449402,
          -0.045883502811193466,
          0.12035513669252396,
          0.301104336977005,
          0.4870898127555847,
          0.6671649217605591,
          0.8268094658851624,
          0.9579882621765137,
          1.0532569885253906,
          1.1120076179504395,
          1.1352494955062866,
          1.1211293935775757,
          1.0670605897903442,
          0.9728232026100159,
          0.8418419361114502,
          0.6809346675872803,
          0.5039705634117126,
          0.3325994610786438,
          0.17101995646953583,
          0.021718230098485947,
          -0.11697512120008469,
          -0.2414695918560028,
          -0.32330185174942017,
          -0.32011353969573975,
          -0.2575306296348572,
          -0.18151578307151794,
          -0.11687963455915451,
          -0.06914223730564117,
          -0.03609294071793556,
          -0.014393333345651627,
          -0.0013411910040304065,
          0.00525708356872201,
          0.007368472870439291,
          0.006744480226188898,
          0.004790284670889378,
          0.002476868685334921,
          0.00035969767486676574,
          -0.0013265361776575446,
          0.025680750608444214,
          0.1567186713218689,
          0.36321401596069336,
          0.5794000625610352,
          0.7644557952880859,
          0.9026424884796143,
          0.9916653037071228,
          1.0327670574188232,
          1.0304287672042847,
          0.98615562915802,
          0.9007294774055481,
          0.7777812480926514,
          0.6243416666984558,
          0.4498138725757599,
          0.2646956741809845,
          0.08267997950315475,
          -0.07932642102241516,
          -0.21893224120140076,
          -0.3343959152698517,
          -0.4276895523071289,
          -0.5005591511726379,
          -0.5516961216926575,
          -0.5787615776062012,
          -0.5806718468666077,
          -0.5584691762924194,
          -0.5152369141578674,
          -0.4598763883113861,
          -0.40834107995033264,
          -0.35755422711372375,
          -0.2983258366584778,
          -0.23290367424488068,
          -0.16835951805114746,
          -0.10742998123168945,
          -0.05067172646522522,
          -0.005369115620851517,
          0.023714248090982437,
          0.03796929121017456,
          0.041680991649627686,
          0.039056338369846344,
          0.03318724408745766,
          0.026097234338521957,
          0.019042791798710823,
          0.012751826085150242,
          0.007572958245873451,
          0.0035831169225275517
         ]
        }
       ],
       "layout": {
        "autosize": true,
        "template": {
         "data": {
          "bar": [
           {
            "error_x": {
             "color": "#2a3f5f"
            },
            "error_y": {
             "color": "#2a3f5f"
            },
            "marker": {
             "line": {
              "color": "#E5ECF6",
              "width": 0.5
             },
             "pattern": {
              "fillmode": "overlay",
              "size": 10,
              "solidity": 0.2
             }
            },
            "type": "bar"
           }
          ],
          "barpolar": [
           {
            "marker": {
             "line": {
              "color": "#E5ECF6",
              "width": 0.5
             },
             "pattern": {
              "fillmode": "overlay",
              "size": 10,
              "solidity": 0.2
             }
            },
            "type": "barpolar"
           }
          ],
          "carpet": [
           {
            "aaxis": {
             "endlinecolor": "#2a3f5f",
             "gridcolor": "white",
             "linecolor": "white",
             "minorgridcolor": "white",
             "startlinecolor": "#2a3f5f"
            },
            "baxis": {
             "endlinecolor": "#2a3f5f",
             "gridcolor": "white",
             "linecolor": "white",
             "minorgridcolor": "white",
             "startlinecolor": "#2a3f5f"
            },
            "type": "carpet"
           }
          ],
          "choropleth": [
           {
            "colorbar": {
             "outlinewidth": 0,
             "ticks": ""
            },
            "type": "choropleth"
           }
          ],
          "contour": [
           {
            "colorbar": {
             "outlinewidth": 0,
             "ticks": ""
            },
            "colorscale": [
             [
              0,
              "#0d0887"
             ],
             [
              0.1111111111111111,
              "#46039f"
             ],
             [
              0.2222222222222222,
              "#7201a8"
             ],
             [
              0.3333333333333333,
              "#9c179e"
             ],
             [
              0.4444444444444444,
              "#bd3786"
             ],
             [
              0.5555555555555556,
              "#d8576b"
             ],
             [
              0.6666666666666666,
              "#ed7953"
             ],
             [
              0.7777777777777778,
              "#fb9f3a"
             ],
             [
              0.8888888888888888,
              "#fdca26"
             ],
             [
              1,
              "#f0f921"
             ]
            ],
            "type": "contour"
           }
          ],
          "contourcarpet": [
           {
            "colorbar": {
             "outlinewidth": 0,
             "ticks": ""
            },
            "type": "contourcarpet"
           }
          ],
          "heatmap": [
           {
            "colorbar": {
             "outlinewidth": 0,
             "ticks": ""
            },
            "colorscale": [
             [
              0,
              "#0d0887"
             ],
             [
              0.1111111111111111,
              "#46039f"
             ],
             [
              0.2222222222222222,
              "#7201a8"
             ],
             [
              0.3333333333333333,
              "#9c179e"
             ],
             [
              0.4444444444444444,
              "#bd3786"
             ],
             [
              0.5555555555555556,
              "#d8576b"
             ],
             [
              0.6666666666666666,
              "#ed7953"
             ],
             [
              0.7777777777777778,
              "#fb9f3a"
             ],
             [
              0.8888888888888888,
              "#fdca26"
             ],
             [
              1,
              "#f0f921"
             ]
            ],
            "type": "heatmap"
           }
          ],
          "heatmapgl": [
           {
            "colorbar": {
             "outlinewidth": 0,
             "ticks": ""
            },
            "colorscale": [
             [
              0,
              "#0d0887"
             ],
             [
              0.1111111111111111,
              "#46039f"
             ],
             [
              0.2222222222222222,
              "#7201a8"
             ],
             [
              0.3333333333333333,
              "#9c179e"
             ],
             [
              0.4444444444444444,
              "#bd3786"
             ],
             [
              0.5555555555555556,
              "#d8576b"
             ],
             [
              0.6666666666666666,
              "#ed7953"
             ],
             [
              0.7777777777777778,
              "#fb9f3a"
             ],
             [
              0.8888888888888888,
              "#fdca26"
             ],
             [
              1,
              "#f0f921"
             ]
            ],
            "type": "heatmapgl"
           }
          ],
          "histogram": [
           {
            "marker": {
             "pattern": {
              "fillmode": "overlay",
              "size": 10,
              "solidity": 0.2
             }
            },
            "type": "histogram"
           }
          ],
          "histogram2d": [
           {
            "colorbar": {
             "outlinewidth": 0,
             "ticks": ""
            },
            "colorscale": [
             [
              0,
              "#0d0887"
             ],
             [
              0.1111111111111111,
              "#46039f"
             ],
             [
              0.2222222222222222,
              "#7201a8"
             ],
             [
              0.3333333333333333,
              "#9c179e"
             ],
             [
              0.4444444444444444,
              "#bd3786"
             ],
             [
              0.5555555555555556,
              "#d8576b"
             ],
             [
              0.6666666666666666,
              "#ed7953"
             ],
             [
              0.7777777777777778,
              "#fb9f3a"
             ],
             [
              0.8888888888888888,
              "#fdca26"
             ],
             [
              1,
              "#f0f921"
             ]
            ],
            "type": "histogram2d"
           }
          ],
          "histogram2dcontour": [
           {
            "colorbar": {
             "outlinewidth": 0,
             "ticks": ""
            },
            "colorscale": [
             [
              0,
              "#0d0887"
             ],
             [
              0.1111111111111111,
              "#46039f"
             ],
             [
              0.2222222222222222,
              "#7201a8"
             ],
             [
              0.3333333333333333,
              "#9c179e"
             ],
             [
              0.4444444444444444,
              "#bd3786"
             ],
             [
              0.5555555555555556,
              "#d8576b"
             ],
             [
              0.6666666666666666,
              "#ed7953"
             ],
             [
              0.7777777777777778,
              "#fb9f3a"
             ],
             [
              0.8888888888888888,
              "#fdca26"
             ],
             [
              1,
              "#f0f921"
             ]
            ],
            "type": "histogram2dcontour"
           }
          ],
          "mesh3d": [
           {
            "colorbar": {
             "outlinewidth": 0,
             "ticks": ""
            },
            "type": "mesh3d"
           }
          ],
          "parcoords": [
           {
            "line": {
             "colorbar": {
              "outlinewidth": 0,
              "ticks": ""
             }
            },
            "type": "parcoords"
           }
          ],
          "pie": [
           {
            "automargin": true,
            "type": "pie"
           }
          ],
          "scatter": [
           {
            "fillpattern": {
             "fillmode": "overlay",
             "size": 10,
             "solidity": 0.2
            },
            "type": "scatter"
           }
          ],
          "scatter3d": [
           {
            "line": {
             "colorbar": {
              "outlinewidth": 0,
              "ticks": ""
             }
            },
            "marker": {
             "colorbar": {
              "outlinewidth": 0,
              "ticks": ""
             }
            },
            "type": "scatter3d"
           }
          ],
          "scattercarpet": [
           {
            "marker": {
             "colorbar": {
              "outlinewidth": 0,
              "ticks": ""
             }
            },
            "type": "scattercarpet"
           }
          ],
          "scattergeo": [
           {
            "marker": {
             "colorbar": {
              "outlinewidth": 0,
              "ticks": ""
             }
            },
            "type": "scattergeo"
           }
          ],
          "scattergl": [
           {
            "marker": {
             "colorbar": {
              "outlinewidth": 0,
              "ticks": ""
             }
            },
            "type": "scattergl"
           }
          ],
          "scattermapbox": [
           {
            "marker": {
             "colorbar": {
              "outlinewidth": 0,
              "ticks": ""
             }
            },
            "type": "scattermapbox"
           }
          ],
          "scatterpolar": [
           {
            "marker": {
             "colorbar": {
              "outlinewidth": 0,
              "ticks": ""
             }
            },
            "type": "scatterpolar"
           }
          ],
          "scatterpolargl": [
           {
            "marker": {
             "colorbar": {
              "outlinewidth": 0,
              "ticks": ""
             }
            },
            "type": "scatterpolargl"
           }
          ],
          "scatterternary": [
           {
            "marker": {
             "colorbar": {
              "outlinewidth": 0,
              "ticks": ""
             }
            },
            "type": "scatterternary"
           }
          ],
          "surface": [
           {
            "colorbar": {
             "outlinewidth": 0,
             "ticks": ""
            },
            "colorscale": [
             [
              0,
              "#0d0887"
             ],
             [
              0.1111111111111111,
              "#46039f"
             ],
             [
              0.2222222222222222,
              "#7201a8"
             ],
             [
              0.3333333333333333,
              "#9c179e"
             ],
             [
              0.4444444444444444,
              "#bd3786"
             ],
             [
              0.5555555555555556,
              "#d8576b"
             ],
             [
              0.6666666666666666,
              "#ed7953"
             ],
             [
              0.7777777777777778,
              "#fb9f3a"
             ],
             [
              0.8888888888888888,
              "#fdca26"
             ],
             [
              1,
              "#f0f921"
             ]
            ],
            "type": "surface"
           }
          ],
          "table": [
           {
            "cells": {
             "fill": {
              "color": "#EBF0F8"
             },
             "line": {
              "color": "white"
             }
            },
            "header": {
             "fill": {
              "color": "#C8D4E3"
             },
             "line": {
              "color": "white"
             }
            },
            "type": "table"
           }
          ]
         },
         "layout": {
          "annotationdefaults": {
           "arrowcolor": "#2a3f5f",
           "arrowhead": 0,
           "arrowwidth": 1
          },
          "autotypenumbers": "strict",
          "coloraxis": {
           "colorbar": {
            "outlinewidth": 0,
            "ticks": ""
           }
          },
          "colorscale": {
           "diverging": [
            [
             0,
             "#8e0152"
            ],
            [
             0.1,
             "#c51b7d"
            ],
            [
             0.2,
             "#de77ae"
            ],
            [
             0.3,
             "#f1b6da"
            ],
            [
             0.4,
             "#fde0ef"
            ],
            [
             0.5,
             "#f7f7f7"
            ],
            [
             0.6,
             "#e6f5d0"
            ],
            [
             0.7,
             "#b8e186"
            ],
            [
             0.8,
             "#7fbc41"
            ],
            [
             0.9,
             "#4d9221"
            ],
            [
             1,
             "#276419"
            ]
           ],
           "sequential": [
            [
             0,
             "#0d0887"
            ],
            [
             0.1111111111111111,
             "#46039f"
            ],
            [
             0.2222222222222222,
             "#7201a8"
            ],
            [
             0.3333333333333333,
             "#9c179e"
            ],
            [
             0.4444444444444444,
             "#bd3786"
            ],
            [
             0.5555555555555556,
             "#d8576b"
            ],
            [
             0.6666666666666666,
             "#ed7953"
            ],
            [
             0.7777777777777778,
             "#fb9f3a"
            ],
            [
             0.8888888888888888,
             "#fdca26"
            ],
            [
             1,
             "#f0f921"
            ]
           ],
           "sequentialminus": [
            [
             0,
             "#0d0887"
            ],
            [
             0.1111111111111111,
             "#46039f"
            ],
            [
             0.2222222222222222,
             "#7201a8"
            ],
            [
             0.3333333333333333,
             "#9c179e"
            ],
            [
             0.4444444444444444,
             "#bd3786"
            ],
            [
             0.5555555555555556,
             "#d8576b"
            ],
            [
             0.6666666666666666,
             "#ed7953"
            ],
            [
             0.7777777777777778,
             "#fb9f3a"
            ],
            [
             0.8888888888888888,
             "#fdca26"
            ],
            [
             1,
             "#f0f921"
            ]
           ]
          },
          "colorway": [
           "#636efa",
           "#EF553B",
           "#00cc96",
           "#ab63fa",
           "#FFA15A",
           "#19d3f3",
           "#FF6692",
           "#B6E880",
           "#FF97FF",
           "#FECB52"
          ],
          "font": {
           "color": "#2a3f5f"
          },
          "geo": {
           "bgcolor": "white",
           "lakecolor": "white",
           "landcolor": "#E5ECF6",
           "showlakes": true,
           "showland": true,
           "subunitcolor": "white"
          },
          "hoverlabel": {
           "align": "left"
          },
          "hovermode": "closest",
          "mapbox": {
           "style": "light"
          },
          "paper_bgcolor": "white",
          "plot_bgcolor": "#E5ECF6",
          "polar": {
           "angularaxis": {
            "gridcolor": "white",
            "linecolor": "white",
            "ticks": ""
           },
           "bgcolor": "#E5ECF6",
           "radialaxis": {
            "gridcolor": "white",
            "linecolor": "white",
            "ticks": ""
           }
          },
          "scene": {
           "xaxis": {
            "backgroundcolor": "#E5ECF6",
            "gridcolor": "white",
            "gridwidth": 2,
            "linecolor": "white",
            "showbackground": true,
            "ticks": "",
            "zerolinecolor": "white"
           },
           "yaxis": {
            "backgroundcolor": "#E5ECF6",
            "gridcolor": "white",
            "gridwidth": 2,
            "linecolor": "white",
            "showbackground": true,
            "ticks": "",
            "zerolinecolor": "white"
           },
           "zaxis": {
            "backgroundcolor": "#E5ECF6",
            "gridcolor": "white",
            "gridwidth": 2,
            "linecolor": "white",
            "showbackground": true,
            "ticks": "",
            "zerolinecolor": "white"
           }
          },
          "shapedefaults": {
           "line": {
            "color": "#2a3f5f"
           }
          },
          "ternary": {
           "aaxis": {
            "gridcolor": "white",
            "linecolor": "white",
            "ticks": ""
           },
           "baxis": {
            "gridcolor": "white",
            "linecolor": "white",
            "ticks": ""
           },
           "bgcolor": "#E5ECF6",
           "caxis": {
            "gridcolor": "white",
            "linecolor": "white",
            "ticks": ""
           }
          },
          "title": {
           "x": 0.05
          },
          "xaxis": {
           "automargin": true,
           "gridcolor": "white",
           "linecolor": "white",
           "ticks": "",
           "title": {
            "standoff": 15
           },
           "zerolinecolor": "white",
           "zerolinewidth": 2
          },
          "yaxis": {
           "automargin": true,
           "gridcolor": "white",
           "linecolor": "white",
           "ticks": "",
           "title": {
            "standoff": 15
           },
           "zerolinecolor": "white",
           "zerolinewidth": 2
          }
         }
        },
        "xaxis": {
         "autorange": true,
         "range": [
          -13.259485924112607,
          220.2594859241126
         ]
        },
        "yaxis": {
         "autorange": true,
         "range": [
          -1.5039184620079484,
          2.4008013536629167
         ],
         "type": "linear"
        }
       }
      },
      "image/png": "[encoded data removed]",
      "text/html": [
       "<div>                            <div id=\"d5262dd3-b1b7-43a0-8181-bff8cab2b2c3\" class=\"plotly-graph-div\" style=\"height:525px; width:100%;\"></div>            <script type=\"text/javascript\">                require([\"plotly\"], function(Plotly) {                    window.PLOTLYENV=window.PLOTLYENV || {};                                    if (document.getElementById(\"d5262dd3-b1b7-43a0-8181-bff8cab2b2c3\")) {                    Plotly.newPlot(                        \"d5262dd3-b1b7-43a0-8181-bff8cab2b2c3\",                        [{\"mode\":\"markers\",\"name\":\"data\",\"y\":[-0.46451565623283386,-0.4333553910255432,-0.3940458595752716,-0.9936013221740723,-0.3979358971118927,-0.16976413130760193,-0.5784423351287842,-0.3724578320980072,-0.43575823307037354,-0.051716335117816925,-0.32837462425231934,-0.1878083497285843,-0.5925933718681335,-0.0204521082341671,-0.16074249148368835,-0.4922313988208771,-0.3168126046657562,-0.012043099850416183,-0.17170432209968567,-0.3342062532901764,0.027211971580982208,-0.18349872529506683,-0.23486033082008362,-0.0922304093837738,0.061348069459199905,0.006775916554033756,0.2431197315454483,0.6500867605209351,0.39869338274002075,0.8637851476669312,0.5800600647926331,0.8556064367294312,1.405916452407837,1.2476319074630737,1.2182179689407349,1.0328412055969238,1.2309598922729492,1.7671394348144531,1.492676019668579,1.3817890882492065,1.1940040588378906,0.4566816985607147,0.6084573268890381,0.3589816093444824,-0.5586943626403809,-1.0380609035491943,-0.029652632772922516,-0.4146476984024048,-0.11789290606975555,-0.24630442261695862,-0.7828664183616638,-0.3977244198322296,-0.42281001806259155,-0.9177983403205872,-0.1674816757440567,-0.12182362377643585,-0.6840515732765198,-0.09551005810499191,0.6285955905914307,-0.8731086850166321,-0.664839506149292,0.3313804566860199,-0.4935385286808014,-0.6419512033462524,0.15091656148433685,-1.026358723640442,-0.6489500999450684,-0.41030141711235046,-0.9172419309616089,-0.36778444051742554,-0.41275084018707275,-0.8814964294433594,-0.7836185693740845,-0.5571553707122803,-0.5031447410583496,-0.9306172728538513,-0.46078038215637207,-0.4709394574165344,-0.30250611901283264,-0.289795845746994,-0.2955162525177002,0.19615629315376282,-0.1638716459274292,-0.34479987621307373,0.16671805083751678,-0.33466994762420654,-0.43480345606803894,-0.5215189456939697,0.06552956998348236,0.42685985565185547,0.14514870941638947,1.4446300268173218,1.6623029708862305,0.911749541759491,2.1242170333862305,1.1518006324768066,1.2735084295272827,2.0652918815612793,0.765725314617157,1.092130184173584,1.954370141029358,0.33947622776031494,0.4961499273777008,0.5570548176765442,-0.7982292771339417,-0.24512659013271332,0.020605992525815964,-0.8390153646469116,-0.31542813777923584,0.24518583714962006,-1.2273341417312622,-0.5724681615829468,0.4973587989807129,-1.0851291418075562,-0.4263242781162262,-0.16998928785324097,-0.8894248008728027,-0.545548677444458,-0.3924803137779236,-0.788529098033905,-0.06760288774967194,-0.6790245771408081,-0.8207771182060242,-0.31440305709838867,-0.5117112398147583,-0.26165372133255005,0.17101357877254486,0.04588817432522774,0.5059248805046082,0.17822378873825073,0.10415035486221313,0.6291542649269104,0.22974050045013428,0.15116098523139954,0.7157631516456604,-0.2570572793483734,0.5271182656288147,0.47145843505859375,-0.10331225395202637,0.8751691579818726,-0.32617640495300293,-0.2135603427886963,-0.23751869797706604,-0.9288399815559387,-0.13962003588676453,-0.34789490699768066,0.19795957207679749,0.9448975324630737,0.27205392718315125,-0.47698646783828735,-0.5094539523124695,-0.04166506230831146,-0.19887523353099823,-0.7330455183982849,-0.6224642992019653,-0.2388233244419098,-0.5888027548789978,-0.6862248778343201,0.01085476391017437,-0.7745605707168579,-0.6230154037475586,-0.7347935438156128,-0.5905814170837402,-0.264813631772995,0.06019328162074089,-0.04778168350458145,0.4577493965625763,0.5304150581359863,0.5358893871307373,0.6223706007003784,0.6822814345359802,1.1183445453643799,1.2503794431686401,0.7088503241539001,1.2463473081588745,0.6467164754867554,0.8714522123336792,1.0262551307678223,0.08968880772590637,0.057874321937561035,-0.22649399936199188,-0.38796770572662354,0.14661146700382233,-0.2191014289855957,0.22816875576972961,-0.5138629674911499,0.2080240249633789,0.06060299277305603,-0.5661664605140686,0.28143179416656494,-0.4083101451396942,0.45429527759552,0.08385206758975983,-0.1066211387515068,0.5548379421234131,0.09200464189052582,-0.6971935033798218,-0.19588671624660492,-0.30580952763557434,-0.15978692471981049,-0.21559682488441467,-0.29325973987579346,0.32348203659057617,-0.710381031036377,-0.5984110236167908,0.018445447087287903,-0.8109158277511597,0.01940823346376419],\"type\":\"scatter\"},{\"name\":\"Gauss model (R2=0.58)\",\"y\":[-0.34066346287727356,-0.34067103266716003,-0.34067532420158386,-0.3406776487827301,-0.3406789004802704,-0.3406795263290405,-0.3406798541545868,-0.34068000316619873,-0.3406800925731659,-0.34068015217781067,-0.34068015217781067,-0.34068015217781067,-0.34068018198013306,-0.34068018198013306,-0.34068018198013306,-0.34068018198013306,-0.34068018198013306,-0.34068018198013306,-0.34068018198013306,-0.337810754776001,-0.32217732071876526,-0.28877654671669006,-0.238682821393013,-0.16990269720554352,-0.07303211092948914,0.04248669371008873,0.14195166528224945,0.23152939975261688,0.3323759436607361,0.451704740524292,0.5823966860771179,0.7105319499969482,0.8208462595939636,0.8993622064590454,0.953514814376831,1.023850917816162,1.0681978464126587,1.0144637823104858,0.8730087280273438,0.6882179975509644,0.49200233817100525,0.30097779631614685,0.12459296733140945,-0.03035343624651432,-0.15623576939105988,-0.24434885382652283,-0.3021518290042877,-0.3417662978172302,-0.3698972761631012,-0.38813844323158264,-0.3972979187965393,-0.39932557940483093,-0.3966553509235382,-0.39092689752578735,-0.3834616243839264,-0.3754691481590271,-0.3678625524044037,-0.361176997423172,-0.35563400387763977,-0.35124844312667847,-0.3479181230068207,-0.3454846441745758,-0.34377163648605347,-0.3426092565059662,-0.3418482542037964,-0.3413670063018799,-0.34107276797294617,-0.34089773893356323,-0.3407922387123108,-0.34072035551071167,-0.3406517803668976,-0.34054818749427795,-0.3403433561325073,-0.33999738097190857,-0.33956149220466614,-0.33884042501449585,-0.33740055561065674,-0.33459600806236267,-0.3294615149497986,-0.32055333256721497,-0.3058018386363983,-0.282661497592926,-0.24688658118247986,-0.18988944590091705,-0.11494985967874527,-0.04368371143937111,0.03138764947652817,0.12809957563877106,0.25440385937690735,0.4075424373149872,0.578133225440979,0.752981424331665,0.9300292134284973,1.134305477142334,1.3500490188598633,1.5041569471359253,1.5121744871139526,1.3980679512023926,1.2091583013534546,0.9247542023658752,0.5235127806663513,0.11215459555387497,-0.20836655795574188,-0.41228827834129333,-0.5198968648910522,-0.5615782141685486,-0.5623450875282288,-0.5398063659667969,-0.5061020255088806,-0.46958276629447937,-0.4356321096420288,-0.407149076461792,-0.38508787751197815,-0.3691019117832184,-0.3581655025482178,-0.3507992923259735,-0.3449299931526184,-0.3388449549674988,-0.33119645714759827,-0.3200680911540985,-0.3022766411304474,-0.274970680475235,-0.23986348509788513,-0.20467527210712433,-0.16373082995414734,-0.10629045963287354,-0.025862738490104675,0.07890608161687851,0.20553058385849,0.3481091856956482,0.5102500915527344,0.7155938148498535,0.9204419255256653,1.0354944467544556,1.0637521743774414,1.0437761545181274,0.994357168674469,0.9164783358573914,0.8080037832260132,0.6714144349098206,0.5145424008369446,0.3577509820461273,0.23411916196346283,0.12992510199546814,0.020998910069465637,-0.09057694673538208,-0.19229012727737427,-0.27844491600990295,-0.3485558331012726,-0.3974051773548126,-0.4233238101005554,-0.4306934177875519,-0.4260469973087311,-0.415035218000412,-0.40157535672187805,-0.3880918025970459,-0.37595874071121216,-0.36583858728408813,-0.3579081594944,-0.3520280718803406,-0.3478829264640808,-0.34509381651878357,-0.34329622983932495,-0.3093736171722412,-0.14065134525299072,0.16773658990859985,0.51820969581604,0.8450474143028259,1.1625511646270752,1.4300191402435303,1.5704337358474731,1.5483942031860352,1.4105570316314697,1.2146941423416138,0.9932881593704224,0.7617334127426147,0.5309404730796814,0.3116297125816345,0.12003456801176071,-0.021116241812705994,-0.12480922788381577,-0.21151793003082275,-0.2846522033214569,-0.3409566879272461,-0.37930312752723694,-0.4015989899635315,-0.4112776815891266,-0.41197559237480164,-0.4068784713745117,-0.39849013090133667,-0.38864055275917053,-0.3787866532802582,-0.36987680196762085,-0.3623478412628174,-0.35629522800445557,-0.3516272306442261,-0.3481585681438446,-0.3456668257713318,-0.3439311981201172,-0.34275615215301514,-0.3419807553291321,-0.34148073196411133,-0.3411647379398346,-0.3409687280654907,-0.34084922075271606,-0.34077757596969604,-0.3407353460788727,-0.3407108783721924],\"type\":\"scatter\"},{\"name\":\"DN model (R2=0.44)\",\"y\":[-0.0046304259449243546,-0.004623742308467627,-0.0046200999058783054,-0.004618058446794748,-0.004616949241608381,-0.004616419319063425,-0.004616051912307739,-0.004615939222276211,-0.004615854471921921,-0.004615882411599159,-0.004615826066583395,-0.00461594620719552,-0.004615840036422014,-0.004615995567291975,-0.004615797661244869,-0.004615886136889458,-0.00461583212018013,-0.004615928512066603,-0.004615871701389551,-0.01818976178765297,-0.0790494978427887,-0.16005848348140717,-0.20848992466926575,-0.19907329976558685,-0.13782286643981934,-0.03706752508878708,0.08404156565666199,0.22301283478736877,0.3806484043598175,0.5497647523880005,0.7172248959541321,0.868582010269165,0.9909167289733887,1.0744874477386475,1.1161061525344849,1.119202733039856,1.0837833881378174,1.0125664472579956,0.9049263000488281,0.763014554977417,0.5940576791763306,0.40832602977752686,0.2171134650707245,0.03143022209405899,-0.13727515935897827,-0.2778768837451935,-0.3905333876609802,-0.47637203335762024,-0.5303438305854797,-0.5541918873786926,-0.5497778058052063,-0.500893235206604,-0.38602781295776367,-0.244919553399086,-0.12372948974370956,-0.039465852081775665,0.011262938380241394,0.03771401196718216,0.04810323566198349,0.04835161194205284,0.04268216714262962,0.03420157730579376,0.02512708492577076,0.01686081290245056,0.010095807723701,0.004995077382773161,0.0013985739788040519,-0.003684357274323702,-0.019433777779340744,-0.04899592697620392,-0.08903048187494278,-0.13772481679916382,-0.19740386307239532,-0.26162189245224,-0.31449586153030396,-0.3583242893218994,-0.4008851647377014,-0.44322293996810913,-0.48045963048934937,-0.5056922435760498,-0.5124444961547852,-0.49580326676368713,-0.4550989270210266,-0.39415180683135986,-0.3130854666233063,-0.2180406153202057,-0.10560780018568039,0.028858071193099022,0.18341276049613953,0.3504851758480072,0.5197417140007019,0.6799832582473755,0.8189062476158142,0.92499840259552,0.9974427223205566,1.0354028940200806,1.0377482175827026,1.00272798538208,0.9311281442642212,0.8077875971794128,0.588448703289032,0.3351230025291443,0.12531636655330658,-0.013945229351520538,-0.09143882989883423,-0.1257181614637375,-0.1327078640460968,-0.12356950342655182,-0.105956070125103,-0.08523891121149063,-0.06506309658288956,-0.047581564635038376,-0.0337049700319767,-0.023450780659914017,-0.016321903094649315,-0.026238052174448967,-0.0936969593167305,-0.20692412555217743,-0.3213457763195038,-0.4073490500450134,-0.4589054584503174,-0.4722321033477783,-0.4470573365688324,-0.3907851576805115,-0.3052136301994324,-0.18957611918449402,-0.045883502811193466,0.12035513669252396,0.301104336977005,0.4870898127555847,0.6671649217605591,0.8268094658851624,0.9579882621765137,1.0532569885253906,1.1120076179504395,1.1352494955062866,1.1211293935775757,1.0670605897903442,0.9728232026100159,0.8418419361114502,0.6809346675872803,0.5039705634117126,0.3325994610786438,0.17101995646953583,0.021718230098485947,-0.11697512120008469,-0.2414695918560028,-0.32330185174942017,-0.32011353969573975,-0.2575306296348572,-0.18151578307151794,-0.11687963455915451,-0.06914223730564117,-0.03609294071793556,-0.014393333345651627,-0.0013411910040304065,0.00525708356872201,0.007368472870439291,0.006744480226188898,0.004790284670889378,0.002476868685334921,0.00035969767486676574,-0.0013265361776575446,0.025680750608444214,0.1567186713218689,0.36321401596069336,0.5794000625610352,0.7644557952880859,0.9026424884796143,0.9916653037071228,1.0327670574188232,1.0304287672042847,0.98615562915802,0.9007294774055481,0.7777812480926514,0.6243416666984558,0.4498138725757599,0.2646956741809845,0.08267997950315475,-0.07932642102241516,-0.21893224120140076,-0.3343959152698517,-0.4276895523071289,-0.5005591511726379,-0.5516961216926575,-0.5787615776062012,-0.5806718468666077,-0.5584691762924194,-0.5152369141578674,-0.4598763883113861,-0.40834107995033264,-0.35755422711372375,-0.2983258366584778,-0.23290367424488068,-0.16835951805114746,-0.10742998123168945,-0.05067172646522522,-0.005369115620851517,0.023714248090982437,0.03796929121017456,0.041680991649627686,0.039056338369846344,0.03318724408745766,0.026097234338521957,0.019042791798710823,0.012751826085150242,0.007572958245873451,0.0035831169225275517],\"type\":\"scatter\"}],                        {\"template\":{\"data\":{\"histogram2dcontour\":[{\"type\":\"histogram2dcontour\",\"colorbar\":{\"outlinewidth\":0,\"ticks\":\"\"},\"colorscale\":[[0.0,\"#0d0887\"],[0.1111111111111111,\"#46039f\"],[0.2222222222222222,\"#7201a8\"],[0.3333333333333333,\"#9c179e\"],[0.4444444444444444,\"#bd3786\"],[0.5555555555555556,\"#d8576b\"],[0.6666666666666666,\"#ed7953\"],[0.7777777777777778,\"#fb9f3a\"],[0.8888888888888888,\"#fdca26\"],[1.0,\"#f0f921\"]]}],\"choropleth\":[{\"type\":\"choropleth\",\"colorbar\":{\"outlinewidth\":0,\"ticks\":\"\"}}],\"histogram2d\":[{\"type\":\"histogram2d\",\"colorbar\":{\"outlinewidth\":0,\"ticks\":\"\"},\"colorscale\":[[0.0,\"#0d0887\"],[0.1111111111111111,\"#46039f\"],[0.2222222222222222,\"#7201a8\"],[0.3333333333333333,\"#9c179e\"],[0.4444444444444444,\"#bd3786\"],[0.5555555555555556,\"#d8576b\"],[0.6666666666666666,\"#ed7953\"],[0.7777777777777778,\"#fb9f3a\"],[0.8888888888888888,\"#fdca26\"],[1.0,\"#f0f921\"]]}],\"heatmap\":[{\"type\":\"heatmap\",\"colorbar\":{\"outlinewidth\":0,\"ticks\":\"\"},\"colorscale\":[[0.0,\"#0d0887\"],[0.1111111111111111,\"#46039f\"],[0.2222222222222222,\"#7201a8\"],[0.3333333333333333,\"#9c179e\"],[0.4444444444444444,\"#bd3786\"],[0.5555555555555556,\"#d8576b\"],[0.6666666666666666,\"#ed7953\"],[0.7777777777777778,\"#fb9f3a\"],[0.8888888888888888,\"#fdca26\"],[1.0,\"#f0f921\"]]}],\"heatmapgl\":[{\"type\":\"heatmapgl\",\"colorbar\":{\"outlinewidth\":0,\"ticks\":\"\"},\"colorscale\":[[0.0,\"#0d0887\"],[0.1111111111111111,\"#46039f\"],[0.2222222222222222,\"#7201a8\"],[0.3333333333333333,\"#9c179e\"],[0.4444444444444444,\"#bd3786\"],[0.5555555555555556,\"#d8576b\"],[0.6666666666666666,\"#ed7953\"],[0.7777777777777778,\"#fb9f3a\"],[0.8888888888888888,\"#fdca26\"],[1.0,\"#f0f921\"]]}],\"contourcarpet\":[{\"type\":\"contourcarpet\",\"colorbar\":{\"outlinewidth\":0,\"ticks\":\"\"}}],\"contour\":[{\"type\":\"contour\",\"colorbar\":{\"outlinewidth\":0,\"ticks\":\"\"},\"colorscale\":[[0.0,\"#0d0887\"],[0.1111111111111111,\"#46039f\"],[0.2222222222222222,\"#7201a8\"],[0.3333333333333333,\"#9c179e\"],[0.4444444444444444,\"#bd3786\"],[0.5555555555555556,\"#d8576b\"],[0.6666666666666666,\"#ed7953\"],[0.7777777777777778,\"#fb9f3a\"],[0.8888888888888888,\"#fdca26\"],[1.0,\"#f0f921\"]]}],\"surface\":[{\"type\":\"surface\",\"colorbar\":{\"outlinewidth\":0,\"ticks\":\"\"},\"colorscale\":[[0.0,\"#0d0887\"],[0.1111111111111111,\"#46039f\"],[0.2222222222222222,\"#7201a8\"],[0.3333333333333333,\"#9c179e\"],[0.4444444444444444,\"#bd3786\"],[0.5555555555555556,\"#d8576b\"],[0.6666666666666666,\"#ed7953\"],[0.7777777777777778,\"#fb9f3a\"],[0.8888888888888888,\"#fdca26\"],[1.0,\"#f0f921\"]]}],\"mesh3d\":[{\"type\":\"mesh3d\",\"colorbar\":{\"outlinewidth\":0,\"ticks\":\"\"}}],\"scatter\":[{\"fillpattern\":{\"fillmode\":\"overlay\",\"size\":10,\"solidity\":0.2},\"type\":\"scatter\"}],\"parcoords\":[{\"type\":\"parcoords\",\"line\":{\"colorbar\":{\"outlinewidth\":0,\"ticks\":\"\"}}}],\"scatterpolargl\":[{\"type\":\"scatterpolargl\",\"marker\":{\"colorbar\":{\"outlinewidth\":0,\"ticks\":\"\"}}}],\"bar\":[{\"error_x\":{\"color\":\"#2a3f5f\"},\"error_y\":{\"color\":\"#2a3f5f\"},\"marker\":{\"line\":{\"color\":\"#E5ECF6\",\"width\":0.5},\"pattern\":{\"fillmode\":\"overlay\",\"size\":10,\"solidity\":0.2}},\"type\":\"bar\"}],\"scattergeo\":[{\"type\":\"scattergeo\",\"marker\":{\"colorbar\":{\"outlinewidth\":0,\"ticks\":\"\"}}}],\"scatterpolar\":[{\"type\":\"scatterpolar\",\"marker\":{\"colorbar\":{\"outlinewidth\":0,\"ticks\":\"\"}}}],\"histogram\":[{\"marker\":{\"pattern\":{\"fillmode\":\"overlay\",\"size\":10,\"solidity\":0.2}},\"type\":\"histogram\"}],\"scattergl\":[{\"type\":\"scattergl\",\"marker\":{\"colorbar\":{\"outlinewidth\":0,\"ticks\":\"\"}}}],\"scatter3d\":[{\"type\":\"scatter3d\",\"line\":{\"colorbar\":{\"outlinewidth\":0,\"ticks\":\"\"}},\"marker\":{\"colorbar\":{\"outlinewidth\":0,\"ticks\":\"\"}}}],\"scattermapbox\":[{\"type\":\"scattermapbox\",\"marker\":{\"colorbar\":{\"outlinewidth\":0,\"ticks\":\"\"}}}],\"scatterternary\":[{\"type\":\"scatterternary\",\"marker\":{\"colorbar\":{\"outlinewidth\":0,\"ticks\":\"\"}}}],\"scattercarpet\":[{\"type\":\"scattercarpet\",\"marker\":{\"colorbar\":{\"outlinewidth\":0,\"ticks\":\"\"}}}],\"carpet\":[{\"aaxis\":{\"endlinecolor\":\"#2a3f5f\",\"gridcolor\":\"white\",\"linecolor\":\"white\",\"minorgridcolor\":\"white\",\"startlinecolor\":\"#2a3f5f\"},\"baxis\":{\"endlinecolor\":\"#2a3f5f\",\"gridcolor\":\"white\",\"linecolor\":\"white\",\"minorgridcolor\":\"white\",\"startlinecolor\":\"#2a3f5f\"},\"type\":\"carpet\"}],\"table\":[{\"cells\":{\"fill\":{\"color\":\"#EBF0F8\"},\"line\":{\"color\":\"white\"}},\"header\":{\"fill\":{\"color\":\"#C8D4E3\"},\"line\":{\"color\":\"white\"}},\"type\":\"table\"}],\"barpolar\":[{\"marker\":{\"line\":{\"color\":\"#E5ECF6\",\"width\":0.5},\"pattern\":{\"fillmode\":\"overlay\",\"size\":10,\"solidity\":0.2}},\"type\":\"barpolar\"}],\"pie\":[{\"automargin\":true,\"type\":\"pie\"}]},\"layout\":{\"autotypenumbers\":\"strict\",\"colorway\":[\"#636efa\",\"#EF553B\",\"#00cc96\",\"#ab63fa\",\"#FFA15A\",\"#19d3f3\",\"#FF6692\",\"#B6E880\",\"#FF97FF\",\"#FECB52\"],\"font\":{\"color\":\"#2a3f5f\"},\"hovermode\":\"closest\",\"hoverlabel\":{\"align\":\"left\"},\"paper_bgcolor\":\"white\",\"plot_bgcolor\":\"#E5ECF6\",\"polar\":{\"bgcolor\":\"#E5ECF6\",\"angularaxis\":{\"gridcolor\":\"white\",\"linecolor\":\"white\",\"ticks\":\"\"},\"radialaxis\":{\"gridcolor\":\"white\",\"linecolor\":\"white\",\"ticks\":\"\"}},\"ternary\":{\"bgcolor\":\"#E5ECF6\",\"aaxis\":{\"gridcolor\":\"white\",\"linecolor\":\"white\",\"ticks\":\"\"},\"baxis\":{\"gridcolor\":\"white\",\"linecolor\":\"white\",\"ticks\":\"\"},\"caxis\":{\"gridcolor\":\"white\",\"linecolor\":\"white\",\"ticks\":\"\"}},\"coloraxis\":{\"colorbar\":{\"outlinewidth\":0,\"ticks\":\"\"}},\"colorscale\":{\"sequential\":[[0.0,\"#0d0887\"],[0.1111111111111111,\"#46039f\"],[0.2222222222222222,\"#7201a8\"],[0.3333333333333333,\"#9c179e\"],[0.4444444444444444,\"#bd3786\"],[0.5555555555555556,\"#d8576b\"],[0.6666666666666666,\"#ed7953\"],[0.7777777777777778,\"#fb9f3a\"],[0.8888888888888888,\"#fdca26\"],[1.0,\"#f0f921\"]],\"sequentialminus\":[[0.0,\"#0d0887\"],[0.1111111111111111,\"#46039f\"],[0.2222222222222222,\"#7201a8\"],[0.3333333333333333,\"#9c179e\"],[0.4444444444444444,\"#bd3786\"],[0.5555555555555556,\"#d8576b\"],[0.6666666666666666,\"#ed7953\"],[0.7777777777777778,\"#fb9f3a\"],[0.8888888888888888,\"#fdca26\"],[1.0,\"#f0f921\"]],\"diverging\":[[0,\"#8e0152\"],[0.1,\"#c51b7d\"],[0.2,\"#de77ae\"],[0.3,\"#f1b6da\"],[0.4,\"#fde0ef\"],[0.5,\"#f7f7f7\"],[0.6,\"#e6f5d0\"],[0.7,\"#b8e186\"],[0.8,\"#7fbc41\"],[0.9,\"#4d9221\"],[1,\"#276419\"]]},\"xaxis\":{\"gridcolor\":\"white\",\"linecolor\":\"white\",\"ticks\":\"\",\"title\":{\"standoff\":15},\"zerolinecolor\":\"white\",\"automargin\":true,\"zerolinewidth\":2},\"yaxis\":{\"gridcolor\":\"white\",\"linecolor\":\"white\",\"ticks\":\"\",\"title\":{\"standoff\":15},\"zerolinecolor\":\"white\",\"automargin\":true,\"zerolinewidth\":2},\"scene\":{\"xaxis\":{\"backgroundcolor\":\"#E5ECF6\",\"gridcolor\":\"white\",\"linecolor\":\"white\",\"showbackground\":true,\"ticks\":\"\",\"zerolinecolor\":\"white\",\"gridwidth\":2},\"yaxis\":{\"backgroundcolor\":\"#E5ECF6\",\"gridcolor\":\"white\",\"linecolor\":\"white\",\"showbackground\":true,\"ticks\":\"\",\"zerolinecolor\":\"white\",\"gridwidth\":2},\"zaxis\":{\"backgroundcolor\":\"#E5ECF6\",\"gridcolor\":\"white\",\"linecolor\":\"white\",\"showbackground\":true,\"ticks\":\"\",\"zerolinecolor\":\"white\",\"gridwidth\":2}},\"shapedefaults\":{\"line\":{\"color\":\"#2a3f5f\"}},\"annotationdefaults\":{\"arrowcolor\":\"#2a3f5f\",\"arrowhead\":0,\"arrowwidth\":1},\"geo\":{\"bgcolor\":\"white\",\"landcolor\":\"#E5ECF6\",\"subunitcolor\":\"white\",\"showland\":true,\"showlakes\":true,\"lakecolor\":\"white\"},\"title\":{\"x\":0.05},\"mapbox\":{\"style\":\"light\"}}}},                        {\"responsive\": true}                    ).then(function(){\n",
       "                            \n",
       "var gd = document.getElementById('d5262dd3-b1b7-43a0-8181-bff8cab2b2c3');\n",
       "var x = new MutationObserver(function (mutations, observer) {{\n",
       "        var display = window.getComputedStyle(gd).display;\n",
       "        if (!display || display === 'none') {{\n",
       "            console.log([gd, 'removed!']);\n",
       "            Plotly.purge(gd);\n",
       "            observer.disconnect();\n",
       "        }}\n",
       "}});\n",
       "\n",
       "// Listen for the removal of the full notebook cells\n",
       "var notebookContainer = gd.closest('#notebook-container');\n",
       "if (notebookContainer) {{\n",
       "    x.observe(notebookContainer, {childList: true});\n",
       "}}\n",
       "\n",
       "// Listen for the clearing of the current output cell\n",
       "var outputEl = gd.closest('.output');\n",
       "if (outputEl) {{\n",
       "    x.observe(outputEl, {childList: true});\n",
       "}}\n",
       "\n",
       "                        })                };                });            </script>        </div>"
      ]
     },
     "metadata": {},
     "output_type": "display_data"
    },
    {
     "name": "stdout",
     "output_type": "stream",
     "text": [
      "Performing unbounded, unconstrained minimization (Powell).\n",
      "Optimization terminated successfully.\n",
      "         Current function value: 38.881470\n",
      "         Iterations: 22\n",
      "         Function evaluations: 3054\n",
      "Performing bounded, unconstrained minimization (L-BFGS-B).\n",
      "Performing unbounded, unconstrained minimization (Powell).\n",
      "Optimization terminated successfully.\n",
      "         Current function value: 37.457870\n",
      "         Iterations: 35\n",
      "         Function evaluations: 5202\n",
      "Performing unbounded, unconstrained minimization (Powell).\n",
      "Optimization terminated successfully.\n",
      "         Current function value: 38.276848\n",
      "         Iterations: 23\n",
      "         Function evaluations: 3135\n"
     ]
    }
   ],
   "source": [
    "num_vert = 1\n",
    "import plotly.graph_objects as go\n",
    "fig = go.Figure()\n",
    "fig.add_trace(go.Scatter(y=data_fsnative_[:,num_vert], name='data', mode='markers'))\n",
    "fig.add_trace(go.Scatter(y=gauss_pred_mat[:,num_vert], name='Gauss model (R2={:1.2f})'.format(gauss_fit_mat[num_vert,-1])))\n",
    "fig.add_trace(go.Scatter(y=dn_pred_mat[:,num_vert], name='DN model (R2={:1.2f})'.format(dn_fit_mat[num_vert,-1])))\n",
    "fig.show()"
   ]
  },
  {
   "cell_type": "code",
   "execution_count": null,
   "id": "4be94cd9-4d96-4e60-827a-1338d666fde6",
   "metadata": {},
   "outputs": [],
   "source": []
  }
 ],
 "metadata": {
  "kernelspec": {
   "display_name": "amblyo_env",
   "language": "python",
   "name": "amblyo_env"
  },
  "language_info": {
   "codemirror_mode": {
    "name": "ipython",
    "version": 3
   },
   "file_extension": ".py",
   "mimetype": "text/x-python",
   "name": "python",
   "nbconvert_exporter": "python",
   "pygments_lexer": "ipython3",
   "version": "3.9.13"
  }
 },
 "nbformat": 4,
 "nbformat_minor": 5
}
