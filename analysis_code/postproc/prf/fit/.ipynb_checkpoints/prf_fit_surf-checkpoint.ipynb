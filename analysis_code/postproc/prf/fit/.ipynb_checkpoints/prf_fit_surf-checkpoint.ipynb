{
 "cells": [
  {
   "cell_type": "code",
   "execution_count": 1,
   "id": "9789253f-ca28-4a38-85f9-513dfad08087",
   "metadata": {},
   "outputs": [],
   "source": [
    "import sys, os\n",
    "import numpy as np\n",
    "import glob\n",
    "import datetime\n",
    "import json\n",
    "import ipdb\n",
    "deb = ipdb.set_trace\n",
    "\n",
    "# MRI analysis imports\n",
    "from prfpy.stimulus import PRFStimulus2D\n",
    "from prfpy.model import Iso2DGaussianModel, Norm_Iso2DGaussianModel\n",
    "from prfpy.fit import Iso2DGaussianFitter, Norm_Iso2DGaussianFitter\n",
    "import nibabel as nb\n",
    "\n",
    "sys.path.append(\"{}/../../../utils\".format(os.getcwd()))\n",
    "from gifti_utils import make_gifti_image, load_gifti_image\n"
   ]
  },
  {
   "cell_type": "code",
   "execution_count": null,
   "id": "c1c5ea77-ddb7-4082-b86d-386c16d70086",
   "metadata": {},
   "outputs": [],
   "source": [
    "subject = 'sub-02'\n",
    "home_dir = '/Users/uriel/'\n",
    "input_vd = '{}/disks/meso_S/data/RetinoMaps/derivatives/vdm/vdm.npy'.format(home_dir)\n",
    "input_fn_fsnative = '{}/disks/meso_S/data/RetinoMaps/derivatives/pp_data/sub-02/func/fmriprep_dct_avg/fsnative/sub-02_task-pRF_hemi-L_fmriprep_dct_avg_bold.func.gii'.format(home_dir)\n",
    "\n",
    "# Analysis parameters\n",
    "with open('{}/disks/meso_H/projects/RetinoMaps/analysis_code/settings.json'.format(home_dir)) as f:\n",
    "    json_s = f.read()\n",
    "    analysis_info = json.loads(json_s)\n",
    "screen_size_cm = analysis_info['screen_size_cm']\n",
    "screen_distance_cm = analysis_info['screen_distance_cm']\n",
    "TR = analysis_info['TR']\n",
    "grid_nr = analysis_info['grid_nr']\n",
    "max_ecc_size = analysis_info['max_ecc_size']\n",
    "n_jobs = 8\n",
    "n_batches = 8\n",
    "\n",
    "# Get task specific visual design matrix\n",
    "vdm = np.load(input_vd)\n",
    "\n",
    "# Model parameters bound\n",
    "sizes = max_ecc_size * np.linspace(0.1,1,grid_nr)**2\n",
    "eccs = max_ecc_size * np.linspace(0.25,1,grid_nr)**2\n",
    "polars = np.linspace(0, 2*np.pi, grid_nr)"
   ]
  },
  {
   "cell_type": "code",
   "execution_count": 35,
   "id": "1f73de94-e616-43b5-944f-8a0b431d1421",
   "metadata": {},
   "outputs": [],
   "source": [
    "# # Load fsnative data \n",
    "# data_img_fsnative, data_fsnative = load_gifti_image(input_fn_fsnative)\n",
    "\n",
    "# # Create subsample of data\n",
    "# data_fsnative_ = data_fsnative[:,0:10]"
   ]
  },
  {
   "cell_type": "code",
   "execution_count": 36,
   "id": "dff40c24-f4fb-48e8-bcac-fb8ce64cd68f",
   "metadata": {},
   "outputs": [
    {
     "name": "stderr",
     "output_type": "stream",
     "text": [
      "/Users/martinszinte/softwares/prfpy/prfpy/fit.py:441: RuntimeWarning: divide by zero encountered in divide\n",
      "  slopes = (n_timepoints * np.dot(vox_data, predictions.T) - sumd *\n",
      "/Users/martinszinte/softwares/prfpy/prfpy/fit.py:441: RuntimeWarning: divide by zero encountered in divide\n",
      "  slopes = (n_timepoints * np.dot(vox_data, predictions.T) - sumd *\n",
      "/Users/martinszinte/softwares/prfpy/prfpy/fit.py:441: RuntimeWarning: invalid value encountered in divide\n",
      "  slopes = (n_timepoints * np.dot(vox_data, predictions.T) - sumd *\n",
      "/Users/martinszinte/softwares/prfpy/prfpy/fit.py:441: RuntimeWarning: invalid value encountered in divide\n",
      "  slopes = (n_timepoints * np.dot(vox_data, predictions.T) - sumd *\n",
      "/Users/martinszinte/softwares/prfpy/prfpy/fit.py:450: RuntimeWarning: invalid value encountered in multiply\n",
      "  slopes[..., np.newaxis] *\n",
      "/Users/martinszinte/softwares/prfpy/prfpy/fit.py:450: RuntimeWarning: invalid value encountered in multiply\n",
      "  slopes[..., np.newaxis] *\n",
      "/Users/martinszinte/softwares/prfpy/prfpy/fit.py:441: RuntimeWarning: divide by zero encountered in divide\n",
      "  slopes = (n_timepoints * np.dot(vox_data, predictions.T) - sumd *\n",
      "/Users/martinszinte/softwares/prfpy/prfpy/fit.py:441: RuntimeWarning: invalid value encountered in divide\n",
      "  slopes = (n_timepoints * np.dot(vox_data, predictions.T) - sumd *\n",
      "/Users/martinszinte/softwares/prfpy/prfpy/fit.py:449: RuntimeWarning: invalid value encountered in subtract\n",
      "  resid = np.linalg.norm((vox_data -\n",
      "/Users/martinszinte/softwares/prfpy/prfpy/fit.py:450: RuntimeWarning: invalid value encountered in multiply\n",
      "  slopes[..., np.newaxis] *\n",
      "/Users/martinszinte/softwares/prfpy/prfpy/fit.py:449: RuntimeWarning: invalid value encountered in subtract\n",
      "  resid = np.linalg.norm((vox_data -\n",
      "/Users/martinszinte/softwares/prfpy/prfpy/fit.py:449: RuntimeWarning: invalid value encountered in subtract\n",
      "  resid = np.linalg.norm((vox_data -\n",
      "/Users/martinszinte/softwares/prfpy/prfpy/fit.py:441: RuntimeWarning: divide by zero encountered in divide\n",
      "  slopes = (n_timepoints * np.dot(vox_data, predictions.T) - sumd *\n",
      "/Users/martinszinte/softwares/prfpy/prfpy/fit.py:441: RuntimeWarning: invalid value encountered in divide\n",
      "  slopes = (n_timepoints * np.dot(vox_data, predictions.T) - sumd *\n",
      "/Users/martinszinte/softwares/prfpy/prfpy/fit.py:441: RuntimeWarning: divide by zero encountered in divide\n",
      "  slopes = (n_timepoints * np.dot(vox_data, predictions.T) - sumd *\n",
      "/Users/martinszinte/softwares/prfpy/prfpy/fit.py:441: RuntimeWarning: invalid value encountered in divide\n",
      "  slopes = (n_timepoints * np.dot(vox_data, predictions.T) - sumd *\n",
      "/Users/martinszinte/softwares/prfpy/prfpy/fit.py:450: RuntimeWarning: invalid value encountered in multiply\n",
      "  slopes[..., np.newaxis] *\n",
      "/Users/martinszinte/softwares/prfpy/prfpy/fit.py:450: RuntimeWarning: invalid value encountered in multiply\n",
      "  slopes[..., np.newaxis] *\n",
      "/Users/martinszinte/softwares/prfpy/prfpy/fit.py:441: RuntimeWarning: divide by zero encountered in divide\n",
      "  slopes = (n_timepoints * np.dot(vox_data, predictions.T) - sumd *\n",
      "/Users/martinszinte/softwares/prfpy/prfpy/fit.py:441: RuntimeWarning: invalid value encountered in divide\n",
      "  slopes = (n_timepoints * np.dot(vox_data, predictions.T) - sumd *\n",
      "/Users/martinszinte/softwares/prfpy/prfpy/fit.py:450: RuntimeWarning: invalid value encountered in multiply\n",
      "  slopes[..., np.newaxis] *\n",
      "/Users/martinszinte/softwares/prfpy/prfpy/fit.py:449: RuntimeWarning: invalid value encountered in subtract\n",
      "  resid = np.linalg.norm((vox_data -\n",
      "/Users/martinszinte/softwares/prfpy/prfpy/fit.py:449: RuntimeWarning: invalid value encountered in subtract\n",
      "  resid = np.linalg.norm((vox_data -\n",
      "/Users/martinszinte/softwares/prfpy/prfpy/fit.py:449: RuntimeWarning: invalid value encountered in subtract\n",
      "  resid = np.linalg.norm((vox_data -\n",
      "/Users/martinszinte/softwares/prfpy/prfpy/fit.py:441: RuntimeWarning: divide by zero encountered in divide\n",
      "  slopes = (n_timepoints * np.dot(vox_data, predictions.T) - sumd *\n",
      "/Users/martinszinte/softwares/prfpy/prfpy/fit.py:441: RuntimeWarning: invalid value encountered in divide\n",
      "  slopes = (n_timepoints * np.dot(vox_data, predictions.T) - sumd *\n",
      "/Users/martinszinte/softwares/prfpy/prfpy/fit.py:441: RuntimeWarning: divide by zero encountered in divide\n",
      "  slopes = (n_timepoints * np.dot(vox_data, predictions.T) - sumd *\n",
      "/Users/martinszinte/softwares/prfpy/prfpy/fit.py:441: RuntimeWarning: invalid value encountered in divide\n",
      "  slopes = (n_timepoints * np.dot(vox_data, predictions.T) - sumd *\n",
      "/Users/martinszinte/softwares/prfpy/prfpy/fit.py:450: RuntimeWarning: invalid value encountered in multiply\n",
      "  slopes[..., np.newaxis] *\n",
      "/Users/martinszinte/softwares/prfpy/prfpy/fit.py:450: RuntimeWarning: invalid value encountered in multiply\n",
      "  slopes[..., np.newaxis] *\n",
      "/Users/martinszinte/softwares/prfpy/prfpy/fit.py:449: RuntimeWarning: invalid value encountered in subtract\n",
      "  resid = np.linalg.norm((vox_data -\n",
      "/Users/martinszinte/softwares/prfpy/prfpy/fit.py:449: RuntimeWarning: invalid value encountered in subtract\n",
      "  resid = np.linalg.norm((vox_data -\n"
     ]
    }
   ],
   "source": [
    "# determine gauss model\n",
    "stimulus = PRFStimulus2D(screen_size_cm=screen_size_cm[1], \n",
    "                         screen_distance_cm=screen_distance_cm,\n",
    "                         design_matrix=vdm, \n",
    "                         TR=TR)\n",
    "\n",
    "gauss_model = Iso2DGaussianModel(stimulus=stimulus)\n",
    "\n",
    "# grid fit\n",
    "gauss_fitter = Iso2DGaussianFitter(data=data_fsnative_.T, model=gauss_model, n_jobs=n_jobs)\n",
    "gauss_fitter.grid_fit(ecc_grid=eccs, \n",
    "                      polar_grid=polars, \n",
    "                      size_grid=sizes, \n",
    "                      verbose=False, \n",
    "                      n_batches=n_batches)"
   ]
  },
  {
   "cell_type": "code",
   "execution_count": 37,
   "id": "de90f648-8a23-44e8-ae16-02097e1ed1f8",
   "metadata": {},
   "outputs": [],
   "source": [
    "# iterative fit\n",
    "gauss_fitter.iterative_fit(rsq_threshold=0.0001, verbose=False)\n",
    "gauss_fit = gauss_fitter.iterative_search_params"
   ]
  },
  {
   "cell_type": "code",
   "execution_count": 38,
   "id": "92cdc0c1-24e2-443b-b85a-6e84dfe3ec02",
   "metadata": {},
   "outputs": [],
   "source": [
    "gauss_fit_mat = np.zeros((data_fsnative_.shape[1],8))\n",
    "gauss_pred_mat = np.zeros_like(data_fsnative_) \n",
    "for est in range(len(data_fsnative_.T)):\n",
    "    gauss_fit_mat[est] = gauss_fit[est]\n",
    "    gauss_pred_mat[:,est] = gauss_model.return_prediction(mu_x=gauss_fit[est][0], \n",
    "                                                          mu_y=gauss_fit[est][1], \n",
    "                                                          size=gauss_fit[est][2], \n",
    "                                                          beta=gauss_fit[est][3], \n",
    "                                                          baseline=gauss_fit[est][4])"
   ]
  },
  {
   "cell_type": "code",
   "execution_count": 39,
   "id": "0d3484de-2687-4c3f-90d4-ae09e9bb73fb",
   "metadata": {},
   "outputs": [
    {
     "data": {
      "application/vnd.plotly.v1+json": {
       "config": {
        "plotlyServerURL": "https://plot.ly"
       },
       "data": [
        {
         "mode": "markers",
         "name": "data",
         "type": "scatter",
         "y": [
          -0.5828505754470825,
          -0.3861825466156006,
          -0.16442430019378662,
          -0.9151866436004639,
          -0.29643714427948,
          -0.036801908165216446,
          -0.6298998594284058,
          -0.18228209018707275,
          -0.6310209631919861,
          0.003864690661430359,
          -0.23756107687950134,
          -0.09104056656360626,
          -0.49128928780555725,
          -0.07129384577274323,
          -0.0318831205368042,
          -0.4814856946468353,
          -0.32419198751449585,
          0.04804440215229988,
          -0.06209597364068031,
          -0.31207841634750366,
          -0.10806732624769211,
          -0.1854686439037323,
          -0.27625685930252075,
          -0.14410531520843506,
          0.046031199395656586,
          -0.02723344974219799,
          0.3087675869464874,
          0.7339409589767456,
          0.2719353437423706,
          0.8628435730934143,
          0.5875210762023926,
          0.7972568869590759,
          1.4348409175872803,
          1.140445590019226,
          1.2118581533432007,
          1.1522859334945679,
          1.1770983934402466,
          1.4830238819122314,
          1.3443232774734497,
          1.0587061643600464,
          1.0586860179901123,
          0.2828071117401123,
          0.48211348056793213,
          0.27968892455101013,
          -0.5506068468093872,
          -0.9967660903930664,
          0.16013941168785095,
          -0.3350156247615814,
          0.01612190343439579,
          -0.22545462846755981,
          -0.8727514147758484,
          -0.43652212619781494,
          -0.400155633687973,
          -1.1437580585479736,
          -0.33613553643226624,
          -0.25779104232788086,
          -0.7951945066452026,
          -0.25655442476272583,
          0.4799812138080597,
          -0.9079573154449463,
          -0.6845141053199768,
          0.28723418712615967,
          -0.6316409707069397,
          -0.6799973845481873,
          0.05726930499076843,
          -1.0117082595825195,
          -0.6568927764892578,
          -0.3857189416885376,
          -0.947298526763916,
          -0.1290431022644043,
          -0.43715518712997437,
          -0.7742091417312622,
          -0.6136448383331299,
          -0.5184106230735779,
          -0.33671876788139343,
          -0.8302401304244995,
          -0.2599135637283325,
          -0.3606152832508087,
          -0.05538015812635422,
          -0.03662658855319023,
          -0.17305868864059448,
          0.22892339527606964,
          -0.023045770823955536,
          -0.19642281532287598,
          0.21989858150482178,
          -0.19797082245349884,
          -0.3442018926143646,
          -0.39185744524002075,
          0.18182681500911713,
          0.681419312953949,
          0.39168548583984375,
          1.6179041862487793,
          1.964377522468567,
          1.1662510633468628,
          2.2564210891723633,
          1.2769452333450317,
          1.176267385482788,
          1.981432318687439,
          0.6372580528259277,
          0.6536328196525574,
          1.4918140172958374,
          -0.13422563672065735,
          -0.10466398298740387,
          0.2250053882598877,
          -1.0323708057403564,
          -0.41894620656967163,
          -0.006737234070897102,
          -0.9207650423049927,
          -0.40584883093833923,
          0.19699382781982422,
          -1.2380971908569336,
          -0.7929251194000244,
          0.436301052570343,
          -0.9725164175033569,
          -0.29253676533699036,
          -0.2184298187494278,
          -0.7910635471343994,
          -0.40372583270072937,
          -0.4905172884464264,
          -0.7491902709007263,
          0.07656566798686981,
          -0.5355304479598999,
          -0.7568818926811218,
          -0.19262386858463287,
          -0.37029460072517395,
          -0.1794942170381546,
          0.33387431502342224,
          0.11508547514677048,
          0.5634401440620422,
          0.15142107009887695,
          0.12451523542404175,
          0.5361785888671875,
          0.18186163902282715,
          0.19488270580768585,
          0.46544742584228516,
          -0.1638537049293518,
          0.6450881361961365,
          0.4371614456176758,
          -0.0611482597887516,
          0.6458108425140381,
          -0.41434797644615173,
          -0.35340872406959534,
          -0.38592857122421265,
          -0.6799151301383972,
          0.08940674364566803,
          -0.23210939764976501,
          0.10876072198152542,
          0.961613118648529,
          0.31612256169319153,
          -0.6764188408851624,
          -0.7642385959625244,
          -0.09905506670475006,
          -0.4955384135246277,
          -0.926440954208374,
          -0.6655856966972351,
          -0.22243347764015198,
          -0.7081388831138611,
          -0.6226419806480408,
          -0.026682019233703613,
          -0.9183219075202942,
          -0.594818651676178,
          -0.7741779685020447,
          -0.5203978419303894,
          -0.16370658576488495,
          0.15914486348628998,
          0.00406396109610796,
          0.4158920347690582,
          0.5340064764022827,
          0.5796792507171631,
          0.6265169382095337,
          0.6202903985977173,
          1.26637864112854,
          1.378301739692688,
          0.7926809191703796,
          1.7061986923217773,
          1.0465327501296997,
          1.1361194849014282,
          1.322371482849121,
          0.3260563611984253,
          0.011798260733485222,
          -0.3745506703853607,
          -0.546790361404419,
          0.23925109207630157,
          -0.15643097460269928,
          0.325334370136261,
          -0.4610460102558136,
          0.2683296501636505,
          0.13242632150650024,
          -0.5775613784790039,
          0.29413723945617676,
          -0.29188382625579834,
          0.2734900116920471,
          0.12117559462785721,
          -0.11036470532417297,
          0.6125316023826599,
          0.19104312360286713,
          -0.5763358473777771,
          -0.29507243633270264,
          -0.3505502939224243,
          -0.2456865757703781,
          -0.5405730605125427,
          -0.3813056945800781,
          0.15097439289093018,
          -1.0540529489517212,
          -0.8642162084579468,
          -0.0601339191198349,
          -0.8168185353279114,
          0.006580017507076263
         ]
        },
        {
         "name": "Gauss model (R2=0.59)",
         "type": "scatter",
         "y": [
          -0.36005693674087524,
          -0.3600690960884094,
          -0.360075980424881,
          -0.36007973551750183,
          -0.3600817322731018,
          -0.360082745552063,
          -0.36008328199386597,
          -0.36008352041244507,
          -0.360083669424057,
          -0.3600837290287018,
          -0.36008375883102417,
          -0.36008375883102417,
          -0.36008378863334656,
          -0.36008378863334656,
          -0.36008378863334656,
          -0.36008378863334656,
          -0.36008378863334656,
          -0.36008378863334656,
          -0.36008378863334656,
          -0.3559620678424835,
          -0.3338661789894104,
          -0.2884197533130646,
          -0.2243117243051529,
          -0.1423565298318863,
          -0.033292774111032486,
          0.0906984955072403,
          0.19128672778606415,
          0.274486243724823,
          0.3628654479980469,
          0.4650932252407074,
          0.5758030414581299,
          0.6835227608680725,
          0.7760152220726013,
          0.8422175049781799,
          0.890981912612915,
          0.9628576636314392,
          1.0163614749908447,
          0.9775680899620056,
          0.8558928966522217,
          0.6940090656280518,
          0.5207981467247009,
          0.34960412979125977,
          0.18732300400733948,
          0.03939782828092575,
          -0.08560594171285629,
          -0.17543166875839233,
          -0.237696573138237,
          -0.2861641049385071,
          -0.32764390110969543,
          -0.3612750768661499,
          -0.38527077436447144,
          -0.40043503046035767,
          -0.408889502286911,
          -0.41140496730804443,
          -0.4089517593383789,
          -0.40324512124061584,
          -0.39604806900024414,
          -0.38867175579071045,
          -0.38190340995788574,
          -0.37612754106521606,
          -0.371465802192688,
          -0.3678804039955139,
          -0.3652433753013611,
          -0.36338484287261963,
          -0.3621275722980499,
          -0.36130961775779724,
          -0.36079704761505127,
          -0.3604768216609955,
          -0.36023497581481934,
          -0.3599769175052643,
          -0.3596101403236389,
          -0.35898497700691223,
          -0.35782870650291443,
          -0.3560505211353302,
          -0.3540208637714386,
          -0.35115382075309753,
          -0.34619981050491333,
          -0.33769989013671875,
          -0.3239472210407257,
          -0.30283501744270325,
          -0.2718126177787781,
          -0.22838473320007324,
          -0.16769126057624817,
          -0.07807503640651703,
          0.03140149265527725,
          0.12591761350631714,
          0.21265923976898193,
          0.31307870149612427,
          0.43502283096313477,
          0.5731192231178284,
          0.7157789468765259,
          0.8497375249862671,
          0.9760687947273254,
          1.1252014636993408,
          1.2834877967834473,
          1.3833324909210205,
          1.351518154144287,
          1.214104175567627,
          1.0175350904464722,
          0.745958149433136,
          0.38040435314178467,
          0.013023480772972107,
          -0.26958492398262024,
          -0.44673144817352295,
          -0.5377376675605774,
          -0.5703296065330505,
          -0.5671275854110718,
          -0.5439568161964417,
          -0.5116286277770996,
          -0.477484792470932,
          -0.4461779296398163,
          -0.42014169692993164,
          -0.4000968039035797,
          -0.3856353461742401,
          -0.37577444314956665,
          -0.36875757575035095,
          -0.36135169863700867,
          -0.35132935643196106,
          -0.3376363217830658,
          -0.3183126151561737,
          -0.28928929567337036,
          -0.2480592131614685,
          -0.19888781011104584,
          -0.15334129333496094,
          -0.10518979281187057,
          -0.04221339896321297,
          0.04172595590353012,
          0.146305114030838,
          0.2672967314720154,
          0.397733598947525,
          0.5418086051940918,
          0.7262393236160278,
          0.9088554382324219,
          1.0032973289489746,
          1.0146888494491577,
          0.9829294085502625,
          0.9282935261726379,
          0.8528899550437927,
          0.7545233368873596,
          0.6341667175292969,
          0.4970235526561737,
          0.36092883348464966,
          0.257707804441452,
          0.17045946419239044,
          0.07071008533239365,
          -0.03930890932679176,
          -0.14531590044498444,
          -0.2417188435792923,
          -0.32784855365753174,
          -0.3936357796192169,
          -0.43312254548072815,
          -0.4495004415512085,
          -0.44998735189437866,
          -0.4413652718067169,
          -0.4285147786140442,
          -0.4145638346672058,
          -0.40139225125312805,
          -0.39002349972724915,
          -0.38087594509124756,
          -0.3739475607872009,
          -0.368977427482605,
          -0.36558428406715393,
          -0.3633706271648407,
          -0.3330732583999634,
          -0.18398472666740417,
          0.08911378681659698,
          0.4021533727645874,
          0.6999606490135193,
          0.9981968998908997,
          1.2622175216674805,
          1.4195894002914429,
          1.4321279525756836,
          1.3420449495315552,
          1.2022780179977417,
          1.0394301414489746,
          0.8624313473701477,
          0.67628413438797,
          0.48728933930397034,
          0.31215882301330566,
          0.1811894029378891,
          0.0777011439204216,
          -0.025820238515734673,
          -0.1289786547422409,
          -0.22089743614196777,
          -0.29483264684677124,
          -0.3494665026664734,
          -0.38653191924095154,
          -0.4089181125164032,
          -0.41976404190063477,
          -0.42192649841308594,
          -0.417795330286026,
          -0.4102555811405182,
          -0.4016685485839844,
          -0.3933449983596802,
          -0.38589030504226685,
          -0.37956395745277405,
          -0.37443265318870544,
          -0.3704172670841217,
          -0.3673691749572754,
          -0.3651195466518402,
          -0.36350128054618835,
          -0.3623630404472351,
          -0.36157795786857605,
          -0.36104604601860046,
          -0.3606919050216675,
          -0.36046046018600464,
          -0.36031216382980347,
          -0.36021918058395386
         ]
        }
       ],
       "layout": {
        "autosize": true,
        "template": {
         "data": {
          "bar": [
           {
            "error_x": {
             "color": "#2a3f5f"
            },
            "error_y": {
             "color": "#2a3f5f"
            },
            "marker": {
             "line": {
              "color": "#E5ECF6",
              "width": 0.5
             },
             "pattern": {
              "fillmode": "overlay",
              "size": 10,
              "solidity": 0.2
             }
            },
            "type": "bar"
           }
          ],
          "barpolar": [
           {
            "marker": {
             "line": {
              "color": "#E5ECF6",
              "width": 0.5
             },
             "pattern": {
              "fillmode": "overlay",
              "size": 10,
              "solidity": 0.2
             }
            },
            "type": "barpolar"
           }
          ],
          "carpet": [
           {
            "aaxis": {
             "endlinecolor": "#2a3f5f",
             "gridcolor": "white",
             "linecolor": "white",
             "minorgridcolor": "white",
             "startlinecolor": "#2a3f5f"
            },
            "baxis": {
             "endlinecolor": "#2a3f5f",
             "gridcolor": "white",
             "linecolor": "white",
             "minorgridcolor": "white",
             "startlinecolor": "#2a3f5f"
            },
            "type": "carpet"
           }
          ],
          "choropleth": [
           {
            "colorbar": {
             "outlinewidth": 0,
             "ticks": ""
            },
            "type": "choropleth"
           }
          ],
          "contour": [
           {
            "colorbar": {
             "outlinewidth": 0,
             "ticks": ""
            },
            "colorscale": [
             [
              0,
              "#0d0887"
             ],
             [
              0.1111111111111111,
              "#46039f"
             ],
             [
              0.2222222222222222,
              "#7201a8"
             ],
             [
              0.3333333333333333,
              "#9c179e"
             ],
             [
              0.4444444444444444,
              "#bd3786"
             ],
             [
              0.5555555555555556,
              "#d8576b"
             ],
             [
              0.6666666666666666,
              "#ed7953"
             ],
             [
              0.7777777777777778,
              "#fb9f3a"
             ],
             [
              0.8888888888888888,
              "#fdca26"
             ],
             [
              1,
              "#f0f921"
             ]
            ],
            "type": "contour"
           }
          ],
          "contourcarpet": [
           {
            "colorbar": {
             "outlinewidth": 0,
             "ticks": ""
            },
            "type": "contourcarpet"
           }
          ],
          "heatmap": [
           {
            "colorbar": {
             "outlinewidth": 0,
             "ticks": ""
            },
            "colorscale": [
             [
              0,
              "#0d0887"
             ],
             [
              0.1111111111111111,
              "#46039f"
             ],
             [
              0.2222222222222222,
              "#7201a8"
             ],
             [
              0.3333333333333333,
              "#9c179e"
             ],
             [
              0.4444444444444444,
              "#bd3786"
             ],
             [
              0.5555555555555556,
              "#d8576b"
             ],
             [
              0.6666666666666666,
              "#ed7953"
             ],
             [
              0.7777777777777778,
              "#fb9f3a"
             ],
             [
              0.8888888888888888,
              "#fdca26"
             ],
             [
              1,
              "#f0f921"
             ]
            ],
            "type": "heatmap"
           }
          ],
          "heatmapgl": [
           {
            "colorbar": {
             "outlinewidth": 0,
             "ticks": ""
            },
            "colorscale": [
             [
              0,
              "#0d0887"
             ],
             [
              0.1111111111111111,
              "#46039f"
             ],
             [
              0.2222222222222222,
              "#7201a8"
             ],
             [
              0.3333333333333333,
              "#9c179e"
             ],
             [
              0.4444444444444444,
              "#bd3786"
             ],
             [
              0.5555555555555556,
              "#d8576b"
             ],
             [
              0.6666666666666666,
              "#ed7953"
             ],
             [
              0.7777777777777778,
              "#fb9f3a"
             ],
             [
              0.8888888888888888,
              "#fdca26"
             ],
             [
              1,
              "#f0f921"
             ]
            ],
            "type": "heatmapgl"
           }
          ],
          "histogram": [
           {
            "marker": {
             "pattern": {
              "fillmode": "overlay",
              "size": 10,
              "solidity": 0.2
             }
            },
            "type": "histogram"
           }
          ],
          "histogram2d": [
           {
            "colorbar": {
             "outlinewidth": 0,
             "ticks": ""
            },
            "colorscale": [
             [
              0,
              "#0d0887"
             ],
             [
              0.1111111111111111,
              "#46039f"
             ],
             [
              0.2222222222222222,
              "#7201a8"
             ],
             [
              0.3333333333333333,
              "#9c179e"
             ],
             [
              0.4444444444444444,
              "#bd3786"
             ],
             [
              0.5555555555555556,
              "#d8576b"
             ],
             [
              0.6666666666666666,
              "#ed7953"
             ],
             [
              0.7777777777777778,
              "#fb9f3a"
             ],
             [
              0.8888888888888888,
              "#fdca26"
             ],
             [
              1,
              "#f0f921"
             ]
            ],
            "type": "histogram2d"
           }
          ],
          "histogram2dcontour": [
           {
            "colorbar": {
             "outlinewidth": 0,
             "ticks": ""
            },
            "colorscale": [
             [
              0,
              "#0d0887"
             ],
             [
              0.1111111111111111,
              "#46039f"
             ],
             [
              0.2222222222222222,
              "#7201a8"
             ],
             [
              0.3333333333333333,
              "#9c179e"
             ],
             [
              0.4444444444444444,
              "#bd3786"
             ],
             [
              0.5555555555555556,
              "#d8576b"
             ],
             [
              0.6666666666666666,
              "#ed7953"
             ],
             [
              0.7777777777777778,
              "#fb9f3a"
             ],
             [
              0.8888888888888888,
              "#fdca26"
             ],
             [
              1,
              "#f0f921"
             ]
            ],
            "type": "histogram2dcontour"
           }
          ],
          "mesh3d": [
           {
            "colorbar": {
             "outlinewidth": 0,
             "ticks": ""
            },
            "type": "mesh3d"
           }
          ],
          "parcoords": [
           {
            "line": {
             "colorbar": {
              "outlinewidth": 0,
              "ticks": ""
             }
            },
            "type": "parcoords"
           }
          ],
          "pie": [
           {
            "automargin": true,
            "type": "pie"
           }
          ],
          "scatter": [
           {
            "fillpattern": {
             "fillmode": "overlay",
             "size": 10,
             "solidity": 0.2
            },
            "type": "scatter"
           }
          ],
          "scatter3d": [
           {
            "line": {
             "colorbar": {
              "outlinewidth": 0,
              "ticks": ""
             }
            },
            "marker": {
             "colorbar": {
              "outlinewidth": 0,
              "ticks": ""
             }
            },
            "type": "scatter3d"
           }
          ],
          "scattercarpet": [
           {
            "marker": {
             "colorbar": {
              "outlinewidth": 0,
              "ticks": ""
             }
            },
            "type": "scattercarpet"
           }
          ],
          "scattergeo": [
           {
            "marker": {
             "colorbar": {
              "outlinewidth": 0,
              "ticks": ""
             }
            },
            "type": "scattergeo"
           }
          ],
          "scattergl": [
           {
            "marker": {
             "colorbar": {
              "outlinewidth": 0,
              "ticks": ""
             }
            },
            "type": "scattergl"
           }
          ],
          "scattermapbox": [
           {
            "marker": {
             "colorbar": {
              "outlinewidth": 0,
              "ticks": ""
             }
            },
            "type": "scattermapbox"
           }
          ],
          "scatterpolar": [
           {
            "marker": {
             "colorbar": {
              "outlinewidth": 0,
              "ticks": ""
             }
            },
            "type": "scatterpolar"
           }
          ],
          "scatterpolargl": [
           {
            "marker": {
             "colorbar": {
              "outlinewidth": 0,
              "ticks": ""
             }
            },
            "type": "scatterpolargl"
           }
          ],
          "scatterternary": [
           {
            "marker": {
             "colorbar": {
              "outlinewidth": 0,
              "ticks": ""
             }
            },
            "type": "scatterternary"
           }
          ],
          "surface": [
           {
            "colorbar": {
             "outlinewidth": 0,
             "ticks": ""
            },
            "colorscale": [
             [
              0,
              "#0d0887"
             ],
             [
              0.1111111111111111,
              "#46039f"
             ],
             [
              0.2222222222222222,
              "#7201a8"
             ],
             [
              0.3333333333333333,
              "#9c179e"
             ],
             [
              0.4444444444444444,
              "#bd3786"
             ],
             [
              0.5555555555555556,
              "#d8576b"
             ],
             [
              0.6666666666666666,
              "#ed7953"
             ],
             [
              0.7777777777777778,
              "#fb9f3a"
             ],
             [
              0.8888888888888888,
              "#fdca26"
             ],
             [
              1,
              "#f0f921"
             ]
            ],
            "type": "surface"
           }
          ],
          "table": [
           {
            "cells": {
             "fill": {
              "color": "#EBF0F8"
             },
             "line": {
              "color": "white"
             }
            },
            "header": {
             "fill": {
              "color": "#C8D4E3"
             },
             "line": {
              "color": "white"
             }
            },
            "type": "table"
           }
          ]
         },
         "layout": {
          "annotationdefaults": {
           "arrowcolor": "#2a3f5f",
           "arrowhead": 0,
           "arrowwidth": 1
          },
          "autotypenumbers": "strict",
          "coloraxis": {
           "colorbar": {
            "outlinewidth": 0,
            "ticks": ""
           }
          },
          "colorscale": {
           "diverging": [
            [
             0,
             "#8e0152"
            ],
            [
             0.1,
             "#c51b7d"
            ],
            [
             0.2,
             "#de77ae"
            ],
            [
             0.3,
             "#f1b6da"
            ],
            [
             0.4,
             "#fde0ef"
            ],
            [
             0.5,
             "#f7f7f7"
            ],
            [
             0.6,
             "#e6f5d0"
            ],
            [
             0.7,
             "#b8e186"
            ],
            [
             0.8,
             "#7fbc41"
            ],
            [
             0.9,
             "#4d9221"
            ],
            [
             1,
             "#276419"
            ]
           ],
           "sequential": [
            [
             0,
             "#0d0887"
            ],
            [
             0.1111111111111111,
             "#46039f"
            ],
            [
             0.2222222222222222,
             "#7201a8"
            ],
            [
             0.3333333333333333,
             "#9c179e"
            ],
            [
             0.4444444444444444,
             "#bd3786"
            ],
            [
             0.5555555555555556,
             "#d8576b"
            ],
            [
             0.6666666666666666,
             "#ed7953"
            ],
            [
             0.7777777777777778,
             "#fb9f3a"
            ],
            [
             0.8888888888888888,
             "#fdca26"
            ],
            [
             1,
             "#f0f921"
            ]
           ],
           "sequentialminus": [
            [
             0,
             "#0d0887"
            ],
            [
             0.1111111111111111,
             "#46039f"
            ],
            [
             0.2222222222222222,
             "#7201a8"
            ],
            [
             0.3333333333333333,
             "#9c179e"
            ],
            [
             0.4444444444444444,
             "#bd3786"
            ],
            [
             0.5555555555555556,
             "#d8576b"
            ],
            [
             0.6666666666666666,
             "#ed7953"
            ],
            [
             0.7777777777777778,
             "#fb9f3a"
            ],
            [
             0.8888888888888888,
             "#fdca26"
            ],
            [
             1,
             "#f0f921"
            ]
           ]
          },
          "colorway": [
           "#636efa",
           "#EF553B",
           "#00cc96",
           "#ab63fa",
           "#FFA15A",
           "#19d3f3",
           "#FF6692",
           "#B6E880",
           "#FF97FF",
           "#FECB52"
          ],
          "font": {
           "color": "#2a3f5f"
          },
          "geo": {
           "bgcolor": "white",
           "lakecolor": "white",
           "landcolor": "#E5ECF6",
           "showlakes": true,
           "showland": true,
           "subunitcolor": "white"
          },
          "hoverlabel": {
           "align": "left"
          },
          "hovermode": "closest",
          "mapbox": {
           "style": "light"
          },
          "paper_bgcolor": "white",
          "plot_bgcolor": "#E5ECF6",
          "polar": {
           "angularaxis": {
            "gridcolor": "white",
            "linecolor": "white",
            "ticks": ""
           },
           "bgcolor": "#E5ECF6",
           "radialaxis": {
            "gridcolor": "white",
            "linecolor": "white",
            "ticks": ""
           }
          },
          "scene": {
           "xaxis": {
            "backgroundcolor": "#E5ECF6",
            "gridcolor": "white",
            "gridwidth": 2,
            "linecolor": "white",
            "showbackground": true,
            "ticks": "",
            "zerolinecolor": "white"
           },
           "yaxis": {
            "backgroundcolor": "#E5ECF6",
            "gridcolor": "white",
            "gridwidth": 2,
            "linecolor": "white",
            "showbackground": true,
            "ticks": "",
            "zerolinecolor": "white"
           },
           "zaxis": {
            "backgroundcolor": "#E5ECF6",
            "gridcolor": "white",
            "gridwidth": 2,
            "linecolor": "white",
            "showbackground": true,
            "ticks": "",
            "zerolinecolor": "white"
           }
          },
          "shapedefaults": {
           "line": {
            "color": "#2a3f5f"
           }
          },
          "ternary": {
           "aaxis": {
            "gridcolor": "white",
            "linecolor": "white",
            "ticks": ""
           },
           "baxis": {
            "gridcolor": "white",
            "linecolor": "white",
            "ticks": ""
           },
           "bgcolor": "#E5ECF6",
           "caxis": {
            "gridcolor": "white",
            "linecolor": "white",
            "ticks": ""
           }
          },
          "title": {
           "x": 0.05
          },
          "xaxis": {
           "automargin": true,
           "gridcolor": "white",
           "linecolor": "white",
           "ticks": "",
           "title": {
            "standoff": 15
           },
           "zerolinecolor": "white",
           "zerolinewidth": 2
          },
          "yaxis": {
           "automargin": true,
           "gridcolor": "white",
           "linecolor": "white",
           "ticks": "",
           "title": {
            "standoff": 15
           },
           "zerolinecolor": "white",
           "zerolinewidth": 2
          }
         }
        },
        "xaxis": {
         "autorange": true,
         "range": [
          -12.710526315789474,
          219.71052631578948
         ]
        },
        "yaxis": {
         "autorange": true,
         "range": [
          -1.5264797673642057,
          2.5448036656796353
         ],
         "type": "linear"
        }
       }
      },
      "image/png": "[encoded data removed]",
      "text/html": [
       "<div>                            <div id=\"c522795e-8788-4947-93bd-83e1801f2d6c\" class=\"plotly-graph-div\" style=\"height:525px; width:100%;\"></div>            <script type=\"text/javascript\">                require([\"plotly\"], function(Plotly) {                    window.PLOTLYENV=window.PLOTLYENV || {};                                    if (document.getElementById(\"c522795e-8788-4947-93bd-83e1801f2d6c\")) {                    Plotly.newPlot(                        \"c522795e-8788-4947-93bd-83e1801f2d6c\",                        [{\"mode\":\"markers\",\"name\":\"data\",\"y\":[-0.5828505754470825,-0.3861825466156006,-0.16442430019378662,-0.9151866436004639,-0.29643714427948,-0.036801908165216446,-0.6298998594284058,-0.18228209018707275,-0.6310209631919861,0.003864690661430359,-0.23756107687950134,-0.09104056656360626,-0.49128928780555725,-0.07129384577274323,-0.0318831205368042,-0.4814856946468353,-0.32419198751449585,0.04804440215229988,-0.06209597364068031,-0.31207841634750366,-0.10806732624769211,-0.1854686439037323,-0.27625685930252075,-0.14410531520843506,0.046031199395656586,-0.02723344974219799,0.3087675869464874,0.7339409589767456,0.2719353437423706,0.8628435730934143,0.5875210762023926,0.7972568869590759,1.4348409175872803,1.140445590019226,1.2118581533432007,1.1522859334945679,1.1770983934402466,1.4830238819122314,1.3443232774734497,1.0587061643600464,1.0586860179901123,0.2828071117401123,0.48211348056793213,0.27968892455101013,-0.5506068468093872,-0.9967660903930664,0.16013941168785095,-0.3350156247615814,0.01612190343439579,-0.22545462846755981,-0.8727514147758484,-0.43652212619781494,-0.400155633687973,-1.1437580585479736,-0.33613553643226624,-0.25779104232788086,-0.7951945066452026,-0.25655442476272583,0.4799812138080597,-0.9079573154449463,-0.6845141053199768,0.28723418712615967,-0.6316409707069397,-0.6799973845481873,0.05726930499076843,-1.0117082595825195,-0.6568927764892578,-0.3857189416885376,-0.947298526763916,-0.1290431022644043,-0.43715518712997437,-0.7742091417312622,-0.6136448383331299,-0.5184106230735779,-0.33671876788139343,-0.8302401304244995,-0.2599135637283325,-0.3606152832508087,-0.05538015812635422,-0.03662658855319023,-0.17305868864059448,0.22892339527606964,-0.023045770823955536,-0.19642281532287598,0.21989858150482178,-0.19797082245349884,-0.3442018926143646,-0.39185744524002075,0.18182681500911713,0.681419312953949,0.39168548583984375,1.6179041862487793,1.964377522468567,1.1662510633468628,2.2564210891723633,1.2769452333450317,1.176267385482788,1.981432318687439,0.6372580528259277,0.6536328196525574,1.4918140172958374,-0.13422563672065735,-0.10466398298740387,0.2250053882598877,-1.0323708057403564,-0.41894620656967163,-0.006737234070897102,-0.9207650423049927,-0.40584883093833923,0.19699382781982422,-1.2380971908569336,-0.7929251194000244,0.436301052570343,-0.9725164175033569,-0.29253676533699036,-0.2184298187494278,-0.7910635471343994,-0.40372583270072937,-0.4905172884464264,-0.7491902709007263,0.07656566798686981,-0.5355304479598999,-0.7568818926811218,-0.19262386858463287,-0.37029460072517395,-0.1794942170381546,0.33387431502342224,0.11508547514677048,0.5634401440620422,0.15142107009887695,0.12451523542404175,0.5361785888671875,0.18186163902282715,0.19488270580768585,0.46544742584228516,-0.1638537049293518,0.6450881361961365,0.4371614456176758,-0.0611482597887516,0.6458108425140381,-0.41434797644615173,-0.35340872406959534,-0.38592857122421265,-0.6799151301383972,0.08940674364566803,-0.23210939764976501,0.10876072198152542,0.961613118648529,0.31612256169319153,-0.6764188408851624,-0.7642385959625244,-0.09905506670475006,-0.4955384135246277,-0.926440954208374,-0.6655856966972351,-0.22243347764015198,-0.7081388831138611,-0.6226419806480408,-0.026682019233703613,-0.9183219075202942,-0.594818651676178,-0.7741779685020447,-0.5203978419303894,-0.16370658576488495,0.15914486348628998,0.00406396109610796,0.4158920347690582,0.5340064764022827,0.5796792507171631,0.6265169382095337,0.6202903985977173,1.26637864112854,1.378301739692688,0.7926809191703796,1.7061986923217773,1.0465327501296997,1.1361194849014282,1.322371482849121,0.3260563611984253,0.011798260733485222,-0.3745506703853607,-0.546790361404419,0.23925109207630157,-0.15643097460269928,0.325334370136261,-0.4610460102558136,0.2683296501636505,0.13242632150650024,-0.5775613784790039,0.29413723945617676,-0.29188382625579834,0.2734900116920471,0.12117559462785721,-0.11036470532417297,0.6125316023826599,0.19104312360286713,-0.5763358473777771,-0.29507243633270264,-0.3505502939224243,-0.2456865757703781,-0.5405730605125427,-0.3813056945800781,0.15097439289093018,-1.0540529489517212,-0.8642162084579468,-0.0601339191198349,-0.8168185353279114,0.006580017507076263],\"type\":\"scatter\"},{\"name\":\"Gauss model (R2=0.59)\",\"y\":[-0.36005693674087524,-0.3600690960884094,-0.360075980424881,-0.36007973551750183,-0.3600817322731018,-0.360082745552063,-0.36008328199386597,-0.36008352041244507,-0.360083669424057,-0.3600837290287018,-0.36008375883102417,-0.36008375883102417,-0.36008378863334656,-0.36008378863334656,-0.36008378863334656,-0.36008378863334656,-0.36008378863334656,-0.36008378863334656,-0.36008378863334656,-0.3559620678424835,-0.3338661789894104,-0.2884197533130646,-0.2243117243051529,-0.1423565298318863,-0.033292774111032486,0.0906984955072403,0.19128672778606415,0.274486243724823,0.3628654479980469,0.4650932252407074,0.5758030414581299,0.6835227608680725,0.7760152220726013,0.8422175049781799,0.890981912612915,0.9628576636314392,1.0163614749908447,0.9775680899620056,0.8558928966522217,0.6940090656280518,0.5207981467247009,0.34960412979125977,0.18732300400733948,0.03939782828092575,-0.08560594171285629,-0.17543166875839233,-0.237696573138237,-0.2861641049385071,-0.32764390110969543,-0.3612750768661499,-0.38527077436447144,-0.40043503046035767,-0.408889502286911,-0.41140496730804443,-0.4089517593383789,-0.40324512124061584,-0.39604806900024414,-0.38867175579071045,-0.38190340995788574,-0.37612754106521606,-0.371465802192688,-0.3678804039955139,-0.3652433753013611,-0.36338484287261963,-0.3621275722980499,-0.36130961775779724,-0.36079704761505127,-0.3604768216609955,-0.36023497581481934,-0.3599769175052643,-0.3596101403236389,-0.35898497700691223,-0.35782870650291443,-0.3560505211353302,-0.3540208637714386,-0.35115382075309753,-0.34619981050491333,-0.33769989013671875,-0.3239472210407257,-0.30283501744270325,-0.2718126177787781,-0.22838473320007324,-0.16769126057624817,-0.07807503640651703,0.03140149265527725,0.12591761350631714,0.21265923976898193,0.31307870149612427,0.43502283096313477,0.5731192231178284,0.7157789468765259,0.8497375249862671,0.9760687947273254,1.1252014636993408,1.2834877967834473,1.3833324909210205,1.351518154144287,1.214104175567627,1.0175350904464722,0.745958149433136,0.38040435314178467,0.013023480772972107,-0.26958492398262024,-0.44673144817352295,-0.5377376675605774,-0.5703296065330505,-0.5671275854110718,-0.5439568161964417,-0.5116286277770996,-0.477484792470932,-0.4461779296398163,-0.42014169692993164,-0.4000968039035797,-0.3856353461742401,-0.37577444314956665,-0.36875757575035095,-0.36135169863700867,-0.35132935643196106,-0.3376363217830658,-0.3183126151561737,-0.28928929567337036,-0.2480592131614685,-0.19888781011104584,-0.15334129333496094,-0.10518979281187057,-0.04221339896321297,0.04172595590353012,0.146305114030838,0.2672967314720154,0.397733598947525,0.5418086051940918,0.7262393236160278,0.9088554382324219,1.0032973289489746,1.0146888494491577,0.9829294085502625,0.9282935261726379,0.8528899550437927,0.7545233368873596,0.6341667175292969,0.4970235526561737,0.36092883348464966,0.257707804441452,0.17045946419239044,0.07071008533239365,-0.03930890932679176,-0.14531590044498444,-0.2417188435792923,-0.32784855365753174,-0.3936357796192169,-0.43312254548072815,-0.4495004415512085,-0.44998735189437866,-0.4413652718067169,-0.4285147786140442,-0.4145638346672058,-0.40139225125312805,-0.39002349972724915,-0.38087594509124756,-0.3739475607872009,-0.368977427482605,-0.36558428406715393,-0.3633706271648407,-0.3330732583999634,-0.18398472666740417,0.08911378681659698,0.4021533727645874,0.6999606490135193,0.9981968998908997,1.2622175216674805,1.4195894002914429,1.4321279525756836,1.3420449495315552,1.2022780179977417,1.0394301414489746,0.8624313473701477,0.67628413438797,0.48728933930397034,0.31215882301330566,0.1811894029378891,0.0777011439204216,-0.025820238515734673,-0.1289786547422409,-0.22089743614196777,-0.29483264684677124,-0.3494665026664734,-0.38653191924095154,-0.4089181125164032,-0.41976404190063477,-0.42192649841308594,-0.417795330286026,-0.4102555811405182,-0.4016685485839844,-0.3933449983596802,-0.38589030504226685,-0.37956395745277405,-0.37443265318870544,-0.3704172670841217,-0.3673691749572754,-0.3651195466518402,-0.36350128054618835,-0.3623630404472351,-0.36157795786857605,-0.36104604601860046,-0.3606919050216675,-0.36046046018600464,-0.36031216382980347,-0.36021918058395386],\"type\":\"scatter\"}],                        {\"template\":{\"data\":{\"histogram2dcontour\":[{\"type\":\"histogram2dcontour\",\"colorbar\":{\"outlinewidth\":0,\"ticks\":\"\"},\"colorscale\":[[0.0,\"#0d0887\"],[0.1111111111111111,\"#46039f\"],[0.2222222222222222,\"#7201a8\"],[0.3333333333333333,\"#9c179e\"],[0.4444444444444444,\"#bd3786\"],[0.5555555555555556,\"#d8576b\"],[0.6666666666666666,\"#ed7953\"],[0.7777777777777778,\"#fb9f3a\"],[0.8888888888888888,\"#fdca26\"],[1.0,\"#f0f921\"]]}],\"choropleth\":[{\"type\":\"choropleth\",\"colorbar\":{\"outlinewidth\":0,\"ticks\":\"\"}}],\"histogram2d\":[{\"type\":\"histogram2d\",\"colorbar\":{\"outlinewidth\":0,\"ticks\":\"\"},\"colorscale\":[[0.0,\"#0d0887\"],[0.1111111111111111,\"#46039f\"],[0.2222222222222222,\"#7201a8\"],[0.3333333333333333,\"#9c179e\"],[0.4444444444444444,\"#bd3786\"],[0.5555555555555556,\"#d8576b\"],[0.6666666666666666,\"#ed7953\"],[0.7777777777777778,\"#fb9f3a\"],[0.8888888888888888,\"#fdca26\"],[1.0,\"#f0f921\"]]}],\"heatmap\":[{\"type\":\"heatmap\",\"colorbar\":{\"outlinewidth\":0,\"ticks\":\"\"},\"colorscale\":[[0.0,\"#0d0887\"],[0.1111111111111111,\"#46039f\"],[0.2222222222222222,\"#7201a8\"],[0.3333333333333333,\"#9c179e\"],[0.4444444444444444,\"#bd3786\"],[0.5555555555555556,\"#d8576b\"],[0.6666666666666666,\"#ed7953\"],[0.7777777777777778,\"#fb9f3a\"],[0.8888888888888888,\"#fdca26\"],[1.0,\"#f0f921\"]]}],\"heatmapgl\":[{\"type\":\"heatmapgl\",\"colorbar\":{\"outlinewidth\":0,\"ticks\":\"\"},\"colorscale\":[[0.0,\"#0d0887\"],[0.1111111111111111,\"#46039f\"],[0.2222222222222222,\"#7201a8\"],[0.3333333333333333,\"#9c179e\"],[0.4444444444444444,\"#bd3786\"],[0.5555555555555556,\"#d8576b\"],[0.6666666666666666,\"#ed7953\"],[0.7777777777777778,\"#fb9f3a\"],[0.8888888888888888,\"#fdca26\"],[1.0,\"#f0f921\"]]}],\"contourcarpet\":[{\"type\":\"contourcarpet\",\"colorbar\":{\"outlinewidth\":0,\"ticks\":\"\"}}],\"contour\":[{\"type\":\"contour\",\"colorbar\":{\"outlinewidth\":0,\"ticks\":\"\"},\"colorscale\":[[0.0,\"#0d0887\"],[0.1111111111111111,\"#46039f\"],[0.2222222222222222,\"#7201a8\"],[0.3333333333333333,\"#9c179e\"],[0.4444444444444444,\"#bd3786\"],[0.5555555555555556,\"#d8576b\"],[0.6666666666666666,\"#ed7953\"],[0.7777777777777778,\"#fb9f3a\"],[0.8888888888888888,\"#fdca26\"],[1.0,\"#f0f921\"]]}],\"surface\":[{\"type\":\"surface\",\"colorbar\":{\"outlinewidth\":0,\"ticks\":\"\"},\"colorscale\":[[0.0,\"#0d0887\"],[0.1111111111111111,\"#46039f\"],[0.2222222222222222,\"#7201a8\"],[0.3333333333333333,\"#9c179e\"],[0.4444444444444444,\"#bd3786\"],[0.5555555555555556,\"#d8576b\"],[0.6666666666666666,\"#ed7953\"],[0.7777777777777778,\"#fb9f3a\"],[0.8888888888888888,\"#fdca26\"],[1.0,\"#f0f921\"]]}],\"mesh3d\":[{\"type\":\"mesh3d\",\"colorbar\":{\"outlinewidth\":0,\"ticks\":\"\"}}],\"scatter\":[{\"fillpattern\":{\"fillmode\":\"overlay\",\"size\":10,\"solidity\":0.2},\"type\":\"scatter\"}],\"parcoords\":[{\"type\":\"parcoords\",\"line\":{\"colorbar\":{\"outlinewidth\":0,\"ticks\":\"\"}}}],\"scatterpolargl\":[{\"type\":\"scatterpolargl\",\"marker\":{\"colorbar\":{\"outlinewidth\":0,\"ticks\":\"\"}}}],\"bar\":[{\"error_x\":{\"color\":\"#2a3f5f\"},\"error_y\":{\"color\":\"#2a3f5f\"},\"marker\":{\"line\":{\"color\":\"#E5ECF6\",\"width\":0.5},\"pattern\":{\"fillmode\":\"overlay\",\"size\":10,\"solidity\":0.2}},\"type\":\"bar\"}],\"scattergeo\":[{\"type\":\"scattergeo\",\"marker\":{\"colorbar\":{\"outlinewidth\":0,\"ticks\":\"\"}}}],\"scatterpolar\":[{\"type\":\"scatterpolar\",\"marker\":{\"colorbar\":{\"outlinewidth\":0,\"ticks\":\"\"}}}],\"histogram\":[{\"marker\":{\"pattern\":{\"fillmode\":\"overlay\",\"size\":10,\"solidity\":0.2}},\"type\":\"histogram\"}],\"scattergl\":[{\"type\":\"scattergl\",\"marker\":{\"colorbar\":{\"outlinewidth\":0,\"ticks\":\"\"}}}],\"scatter3d\":[{\"type\":\"scatter3d\",\"line\":{\"colorbar\":{\"outlinewidth\":0,\"ticks\":\"\"}},\"marker\":{\"colorbar\":{\"outlinewidth\":0,\"ticks\":\"\"}}}],\"scattermapbox\":[{\"type\":\"scattermapbox\",\"marker\":{\"colorbar\":{\"outlinewidth\":0,\"ticks\":\"\"}}}],\"scatterternary\":[{\"type\":\"scatterternary\",\"marker\":{\"colorbar\":{\"outlinewidth\":0,\"ticks\":\"\"}}}],\"scattercarpet\":[{\"type\":\"scattercarpet\",\"marker\":{\"colorbar\":{\"outlinewidth\":0,\"ticks\":\"\"}}}],\"carpet\":[{\"aaxis\":{\"endlinecolor\":\"#2a3f5f\",\"gridcolor\":\"white\",\"linecolor\":\"white\",\"minorgridcolor\":\"white\",\"startlinecolor\":\"#2a3f5f\"},\"baxis\":{\"endlinecolor\":\"#2a3f5f\",\"gridcolor\":\"white\",\"linecolor\":\"white\",\"minorgridcolor\":\"white\",\"startlinecolor\":\"#2a3f5f\"},\"type\":\"carpet\"}],\"table\":[{\"cells\":{\"fill\":{\"color\":\"#EBF0F8\"},\"line\":{\"color\":\"white\"}},\"header\":{\"fill\":{\"color\":\"#C8D4E3\"},\"line\":{\"color\":\"white\"}},\"type\":\"table\"}],\"barpolar\":[{\"marker\":{\"line\":{\"color\":\"#E5ECF6\",\"width\":0.5},\"pattern\":{\"fillmode\":\"overlay\",\"size\":10,\"solidity\":0.2}},\"type\":\"barpolar\"}],\"pie\":[{\"automargin\":true,\"type\":\"pie\"}]},\"layout\":{\"autotypenumbers\":\"strict\",\"colorway\":[\"#636efa\",\"#EF553B\",\"#00cc96\",\"#ab63fa\",\"#FFA15A\",\"#19d3f3\",\"#FF6692\",\"#B6E880\",\"#FF97FF\",\"#FECB52\"],\"font\":{\"color\":\"#2a3f5f\"},\"hovermode\":\"closest\",\"hoverlabel\":{\"align\":\"left\"},\"paper_bgcolor\":\"white\",\"plot_bgcolor\":\"#E5ECF6\",\"polar\":{\"bgcolor\":\"#E5ECF6\",\"angularaxis\":{\"gridcolor\":\"white\",\"linecolor\":\"white\",\"ticks\":\"\"},\"radialaxis\":{\"gridcolor\":\"white\",\"linecolor\":\"white\",\"ticks\":\"\"}},\"ternary\":{\"bgcolor\":\"#E5ECF6\",\"aaxis\":{\"gridcolor\":\"white\",\"linecolor\":\"white\",\"ticks\":\"\"},\"baxis\":{\"gridcolor\":\"white\",\"linecolor\":\"white\",\"ticks\":\"\"},\"caxis\":{\"gridcolor\":\"white\",\"linecolor\":\"white\",\"ticks\":\"\"}},\"coloraxis\":{\"colorbar\":{\"outlinewidth\":0,\"ticks\":\"\"}},\"colorscale\":{\"sequential\":[[0.0,\"#0d0887\"],[0.1111111111111111,\"#46039f\"],[0.2222222222222222,\"#7201a8\"],[0.3333333333333333,\"#9c179e\"],[0.4444444444444444,\"#bd3786\"],[0.5555555555555556,\"#d8576b\"],[0.6666666666666666,\"#ed7953\"],[0.7777777777777778,\"#fb9f3a\"],[0.8888888888888888,\"#fdca26\"],[1.0,\"#f0f921\"]],\"sequentialminus\":[[0.0,\"#0d0887\"],[0.1111111111111111,\"#46039f\"],[0.2222222222222222,\"#7201a8\"],[0.3333333333333333,\"#9c179e\"],[0.4444444444444444,\"#bd3786\"],[0.5555555555555556,\"#d8576b\"],[0.6666666666666666,\"#ed7953\"],[0.7777777777777778,\"#fb9f3a\"],[0.8888888888888888,\"#fdca26\"],[1.0,\"#f0f921\"]],\"diverging\":[[0,\"#8e0152\"],[0.1,\"#c51b7d\"],[0.2,\"#de77ae\"],[0.3,\"#f1b6da\"],[0.4,\"#fde0ef\"],[0.5,\"#f7f7f7\"],[0.6,\"#e6f5d0\"],[0.7,\"#b8e186\"],[0.8,\"#7fbc41\"],[0.9,\"#4d9221\"],[1,\"#276419\"]]},\"xaxis\":{\"gridcolor\":\"white\",\"linecolor\":\"white\",\"ticks\":\"\",\"title\":{\"standoff\":15},\"zerolinecolor\":\"white\",\"automargin\":true,\"zerolinewidth\":2},\"yaxis\":{\"gridcolor\":\"white\",\"linecolor\":\"white\",\"ticks\":\"\",\"title\":{\"standoff\":15},\"zerolinecolor\":\"white\",\"automargin\":true,\"zerolinewidth\":2},\"scene\":{\"xaxis\":{\"backgroundcolor\":\"#E5ECF6\",\"gridcolor\":\"white\",\"linecolor\":\"white\",\"showbackground\":true,\"ticks\":\"\",\"zerolinecolor\":\"white\",\"gridwidth\":2},\"yaxis\":{\"backgroundcolor\":\"#E5ECF6\",\"gridcolor\":\"white\",\"linecolor\":\"white\",\"showbackground\":true,\"ticks\":\"\",\"zerolinecolor\":\"white\",\"gridwidth\":2},\"zaxis\":{\"backgroundcolor\":\"#E5ECF6\",\"gridcolor\":\"white\",\"linecolor\":\"white\",\"showbackground\":true,\"ticks\":\"\",\"zerolinecolor\":\"white\",\"gridwidth\":2}},\"shapedefaults\":{\"line\":{\"color\":\"#2a3f5f\"}},\"annotationdefaults\":{\"arrowcolor\":\"#2a3f5f\",\"arrowhead\":0,\"arrowwidth\":1},\"geo\":{\"bgcolor\":\"white\",\"landcolor\":\"#E5ECF6\",\"subunitcolor\":\"white\",\"showland\":true,\"showlakes\":true,\"lakecolor\":\"white\"},\"title\":{\"x\":0.05},\"mapbox\":{\"style\":\"light\"}}}},                        {\"responsive\": true}                    ).then(function(){\n",
       "                            \n",
       "var gd = document.getElementById('c522795e-8788-4947-93bd-83e1801f2d6c');\n",
       "var x = new MutationObserver(function (mutations, observer) {{\n",
       "        var display = window.getComputedStyle(gd).display;\n",
       "        if (!display || display === 'none') {{\n",
       "            console.log([gd, 'removed!']);\n",
       "            Plotly.purge(gd);\n",
       "            observer.disconnect();\n",
       "        }}\n",
       "}});\n",
       "\n",
       "// Listen for the removal of the full notebook cells\n",
       "var notebookContainer = gd.closest('#notebook-container');\n",
       "if (notebookContainer) {{\n",
       "    x.observe(notebookContainer, {childList: true});\n",
       "}}\n",
       "\n",
       "// Listen for the clearing of the current output cell\n",
       "var outputEl = gd.closest('.output');\n",
       "if (outputEl) {{\n",
       "    x.observe(outputEl, {childList: true});\n",
       "}}\n",
       "\n",
       "                        })                };                });            </script>        </div>"
      ]
     },
     "metadata": {},
     "output_type": "display_data"
    }
   ],
   "source": [
    "num_vert = 6\n",
    "import plotly.graph_objects as go\n",
    "fig = go.Figure()\n",
    "fig.add_trace(go.Scatter(y=data_fsnative_[:,num_vert], name='data', mode='markers'))\n",
    "fig.add_trace(go.Scatter(y=gauss_pred_mat[:,num_vert], name='Gauss model (R2={:1.2f})'.format(gauss_fit_mat[num_vert,-1])))\n",
    "fig.show()"
   ]
  },
  {
   "cell_type": "code",
   "execution_count": 40,
   "id": "15ba0a07-313c-4ac5-a987-c5f56815b798",
   "metadata": {},
   "outputs": [],
   "source": [
    "# determine DN model\n",
    "dn_model = Norm_Iso2DGaussianModel(stimulus=stimulus)\n",
    "dn_fitter = Norm_Iso2DGaussianFitter(data=data_fsnative_.T, \n",
    "                                     model=dn_model, \n",
    "                                     n_jobs=n_jobs,\n",
    "                                     use_previous_gaussian_fitter_hrf=True,\n",
    "                                     previous_gaussian_fitter=gauss_fitter)"
   ]
  },
  {
   "cell_type": "code",
   "execution_count": 41,
   "id": "42088f02-2ac8-4cb3-93ad-9f818af3aa3a",
   "metadata": {},
   "outputs": [
    {
     "name": "stdout",
     "output_type": "stream",
     "text": [
      "Using HRF from previous gaussian iterative fit\n",
      "Each batch contains approx. 2 voxels.\n"
     ]
    },
    {
     "name": "stderr",
     "output_type": "stream",
     "text": [
      "[Parallel(n_jobs=8)]: Using backend LokyBackend with 8 concurrent workers.\n",
      "/Users/martinszinte/softwares/prfpy/prfpy/model.py:607: RuntimeWarning: divide by zero encountered in divide\n",
      "  tc = self.convolve_timecourse_hrf(((prf_amplitude[..., np.newaxis] * activation_part + neural_baseline[..., np.newaxis]) /\\\n",
      "/Users/martinszinte/softwares/prfpy/prfpy/model.py:609: RuntimeWarning: divide by zero encountered in divide\n",
      "  - neural_baseline[..., np.newaxis]/surround_baseline[..., np.newaxis]).astype('float32')\n",
      "/Users/martinszinte/softwares/prfpy/prfpy/model.py:609: RuntimeWarning: invalid value encountered in divide\n",
      "  - neural_baseline[..., np.newaxis]/surround_baseline[..., np.newaxis]).astype('float32')\n",
      "/Users/martinszinte/softwares/prfpy/prfpy/model.py:607: RuntimeWarning: invalid value encountered in subtract\n",
      "  tc = self.convolve_timecourse_hrf(((prf_amplitude[..., np.newaxis] * activation_part + neural_baseline[..., np.newaxis]) /\\\n",
      "/Users/martinszinte/anaconda3/envs/mszinte/lib/python3.9/site-packages/scipy/signal/_signaltools.py:508: RuntimeWarning: invalid value encountered in multiply\n",
      "  ret = ifft(sp1 * sp2, fshape, axes=axes)\n",
      "/Users/martinszinte/softwares/prfpy/prfpy/model.py:607: RuntimeWarning: divide by zero encountered in divide\n",
      "  tc = self.convolve_timecourse_hrf(((prf_amplitude[..., np.newaxis] * activation_part + neural_baseline[..., np.newaxis]) /\\\n",
      "/Users/martinszinte/softwares/prfpy/prfpy/model.py:609: RuntimeWarning: divide by zero encountered in divide\n",
      "  - neural_baseline[..., np.newaxis]/surround_baseline[..., np.newaxis]).astype('float32')\n",
      "/Users/martinszinte/softwares/prfpy/prfpy/model.py:609: RuntimeWarning: invalid value encountered in divide\n",
      "  - neural_baseline[..., np.newaxis]/surround_baseline[..., np.newaxis]).astype('float32')\n",
      "/Users/martinszinte/softwares/prfpy/prfpy/model.py:607: RuntimeWarning: invalid value encountered in subtract\n",
      "  tc = self.convolve_timecourse_hrf(((prf_amplitude[..., np.newaxis] * activation_part + neural_baseline[..., np.newaxis]) /\\\n",
      "/Users/martinszinte/softwares/prfpy/prfpy/model.py:607: RuntimeWarning: divide by zero encountered in divide\n",
      "  tc = self.convolve_timecourse_hrf(((prf_amplitude[..., np.newaxis] * activation_part + neural_baseline[..., np.newaxis]) /\\\n",
      "/Users/martinszinte/softwares/prfpy/prfpy/model.py:609: RuntimeWarning: divide by zero encountered in divide\n",
      "  - neural_baseline[..., np.newaxis]/surround_baseline[..., np.newaxis]).astype('float32')\n",
      "/Users/martinszinte/softwares/prfpy/prfpy/model.py:609: RuntimeWarning: invalid value encountered in divide\n",
      "  - neural_baseline[..., np.newaxis]/surround_baseline[..., np.newaxis]).astype('float32')\n",
      "/Users/martinszinte/softwares/prfpy/prfpy/model.py:607: RuntimeWarning: invalid value encountered in subtract\n",
      "  tc = self.convolve_timecourse_hrf(((prf_amplitude[..., np.newaxis] * activation_part + neural_baseline[..., np.newaxis]) /\\\n",
      "/Users/martinszinte/anaconda3/envs/mszinte/lib/python3.9/site-packages/scipy/signal/_signaltools.py:508: RuntimeWarning: invalid value encountered in multiply\n",
      "  ret = ifft(sp1 * sp2, fshape, axes=axes)\n",
      "/Users/martinszinte/softwares/prfpy/prfpy/model.py:607: RuntimeWarning: divide by zero encountered in divide\n",
      "  tc = self.convolve_timecourse_hrf(((prf_amplitude[..., np.newaxis] * activation_part + neural_baseline[..., np.newaxis]) /\\\n",
      "/Users/martinszinte/softwares/prfpy/prfpy/model.py:609: RuntimeWarning: divide by zero encountered in divide\n",
      "  - neural_baseline[..., np.newaxis]/surround_baseline[..., np.newaxis]).astype('float32')\n",
      "/Users/martinszinte/softwares/prfpy/prfpy/model.py:609: RuntimeWarning: invalid value encountered in divide\n",
      "  - neural_baseline[..., np.newaxis]/surround_baseline[..., np.newaxis]).astype('float32')\n",
      "/Users/martinszinte/softwares/prfpy/prfpy/model.py:607: RuntimeWarning: invalid value encountered in subtract\n",
      "  tc = self.convolve_timecourse_hrf(((prf_amplitude[..., np.newaxis] * activation_part + neural_baseline[..., np.newaxis]) /\\\n",
      "[Parallel(n_jobs=8)]: Done   1 tasks      | elapsed:  6.1min\n",
      "/Users/martinszinte/softwares/prfpy/prfpy/model.py:607: RuntimeWarning: divide by zero encountered in divide\n",
      "  tc = self.convolve_timecourse_hrf(((prf_amplitude[..., np.newaxis] * activation_part + neural_baseline[..., np.newaxis]) /\\\n",
      "/Users/martinszinte/softwares/prfpy/prfpy/model.py:609: RuntimeWarning: divide by zero encountered in divide\n",
      "  - neural_baseline[..., np.newaxis]/surround_baseline[..., np.newaxis]).astype('float32')\n",
      "/Users/martinszinte/softwares/prfpy/prfpy/model.py:609: RuntimeWarning: invalid value encountered in divide\n",
      "  - neural_baseline[..., np.newaxis]/surround_baseline[..., np.newaxis]).astype('float32')\n",
      "/Users/martinszinte/softwares/prfpy/prfpy/model.py:607: RuntimeWarning: invalid value encountered in subtract\n",
      "  tc = self.convolve_timecourse_hrf(((prf_amplitude[..., np.newaxis] * activation_part + neural_baseline[..., np.newaxis]) /\\\n"
     ]
    },
    {
     "name": "stdout",
     "output_type": "stream",
     "text": [
      "Performing unbounded, unconstrained minimization (Powell).\n",
      "Optimization terminated successfully.\n",
      "         Current function value: 37.578201\n",
      "         Iterations: 11\n",
      "         Function evaluations: 1527\n"
     ]
    },
    {
     "name": "stderr",
     "output_type": "stream",
     "text": [
      "/Users/martinszinte/softwares/prfpy/prfpy/model.py:607: RuntimeWarning: divide by zero encountered in divide\n",
      "  tc = self.convolve_timecourse_hrf(((prf_amplitude[..., np.newaxis] * activation_part + neural_baseline[..., np.newaxis]) /\\\n",
      "/Users/martinszinte/softwares/prfpy/prfpy/model.py:609: RuntimeWarning: divide by zero encountered in divide\n",
      "  - neural_baseline[..., np.newaxis]/surround_baseline[..., np.newaxis]).astype('float32')\n",
      "/Users/martinszinte/softwares/prfpy/prfpy/model.py:609: RuntimeWarning: invalid value encountered in divide\n",
      "  - neural_baseline[..., np.newaxis]/surround_baseline[..., np.newaxis]).astype('float32')\n",
      "/Users/martinszinte/softwares/prfpy/prfpy/model.py:607: RuntimeWarning: invalid value encountered in subtract\n",
      "  tc = self.convolve_timecourse_hrf(((prf_amplitude[..., np.newaxis] * activation_part + neural_baseline[..., np.newaxis]) /\\\n",
      "/Users/martinszinte/softwares/prfpy/prfpy/model.py:607: RuntimeWarning: divide by zero encountered in divide\n",
      "  tc = self.convolve_timecourse_hrf(((prf_amplitude[..., np.newaxis] * activation_part + neural_baseline[..., np.newaxis]) /\\\n",
      "/Users/martinszinte/softwares/prfpy/prfpy/model.py:609: RuntimeWarning: divide by zero encountered in divide\n",
      "  - neural_baseline[..., np.newaxis]/surround_baseline[..., np.newaxis]).astype('float32')\n",
      "/Users/martinszinte/softwares/prfpy/prfpy/model.py:609: RuntimeWarning: invalid value encountered in divide\n",
      "  - neural_baseline[..., np.newaxis]/surround_baseline[..., np.newaxis]).astype('float32')\n",
      "/Users/martinszinte/softwares/prfpy/prfpy/model.py:607: RuntimeWarning: invalid value encountered in subtract\n",
      "  tc = self.convolve_timecourse_hrf(((prf_amplitude[..., np.newaxis] * activation_part + neural_baseline[..., np.newaxis]) /\\\n",
      "/Users/martinszinte/softwares/prfpy/prfpy/model.py:607: RuntimeWarning: divide by zero encountered in divide\n",
      "  tc = self.convolve_timecourse_hrf(((prf_amplitude[..., np.newaxis] * activation_part + neural_baseline[..., np.newaxis]) /\\\n",
      "/Users/martinszinte/softwares/prfpy/prfpy/model.py:609: RuntimeWarning: divide by zero encountered in divide\n",
      "  - neural_baseline[..., np.newaxis]/surround_baseline[..., np.newaxis]).astype('float32')\n",
      "/Users/martinszinte/softwares/prfpy/prfpy/model.py:609: RuntimeWarning: invalid value encountered in divide\n",
      "  - neural_baseline[..., np.newaxis]/surround_baseline[..., np.newaxis]).astype('float32')\n",
      "/Users/martinszinte/softwares/prfpy/prfpy/model.py:607: RuntimeWarning: invalid value encountered in subtract\n",
      "  tc = self.convolve_timecourse_hrf(((prf_amplitude[..., np.newaxis] * activation_part + neural_baseline[..., np.newaxis]) /\\\n",
      "/Users/martinszinte/anaconda3/envs/mszinte/lib/python3.9/site-packages/scipy/signal/_signaltools.py:508: RuntimeWarning: invalid value encountered in multiply\n",
      "  ret = ifft(sp1 * sp2, fshape, axes=axes)\n",
      "[Parallel(n_jobs=8)]: Done   2 out of   8 | elapsed:  6.2min remaining: 18.7min\n"
     ]
    },
    {
     "name": "stdout",
     "output_type": "stream",
     "text": [
      "Performing unbounded, unconstrained minimization (Powell).\n",
      "Optimization terminated successfully.\n",
      "         Current function value: 37.767384\n",
      "         Iterations: 10\n",
      "         Function evaluations: 1457\n"
     ]
    },
    {
     "name": "stderr",
     "output_type": "stream",
     "text": [
      "/Users/martinszinte/anaconda3/envs/mszinte/lib/python3.9/site-packages/scipy/signal/_signaltools.py:508: RuntimeWarning: invalid value encountered in multiply\n",
      "  ret = ifft(sp1 * sp2, fshape, axes=axes)\n",
      "/Users/martinszinte/anaconda3/envs/mszinte/lib/python3.9/site-packages/scipy/signal/_signaltools.py:508: RuntimeWarning: invalid value encountered in multiply\n",
      "  ret = ifft(sp1 * sp2, fshape, axes=axes)\n",
      "[Parallel(n_jobs=8)]: Done   3 out of   8 | elapsed:  6.3min remaining: 10.4min\n",
      "/Users/martinszinte/anaconda3/envs/mszinte/lib/python3.9/site-packages/scipy/signal/_signaltools.py:508: RuntimeWarning: invalid value encountered in multiply\n",
      "  ret = ifft(sp1 * sp2, fshape, axes=axes)\n",
      "/Users/martinszinte/anaconda3/envs/mszinte/lib/python3.9/site-packages/scipy/signal/_signaltools.py:508: RuntimeWarning: invalid value encountered in multiply\n",
      "  ret = ifft(sp1 * sp2, fshape, axes=axes)\n"
     ]
    },
    {
     "name": "stdout",
     "output_type": "stream",
     "text": [
      "Performing unbounded, unconstrained minimization (Powell).\n",
      "Optimization terminated successfully.\n",
      "         Current function value: 36.794537\n",
      "         Iterations: 7\n",
      "         Function evaluations: 986\n",
      "Performing unbounded, unconstrained minimization (Powell).\n",
      "Optimization terminated successfully.\n",
      "         Current function value: 35.920208\n",
      "         Iterations: 13\n",
      "         Function evaluations: 1893\n"
     ]
    },
    {
     "name": "stderr",
     "output_type": "stream",
     "text": [
      "[Parallel(n_jobs=8)]: Done   4 out of   8 | elapsed:  6.3min remaining:  6.3min\n"
     ]
    },
    {
     "name": "stdout",
     "output_type": "stream",
     "text": [
      "Performing unbounded, unconstrained minimization (Powell).\n",
      "Optimization terminated successfully.\n",
      "         Current function value: 32.170231\n",
      "         Iterations: 14\n",
      "         Function evaluations: 2116\n"
     ]
    },
    {
     "name": "stderr",
     "output_type": "stream",
     "text": [
      "[Parallel(n_jobs=8)]: Done   5 out of   8 | elapsed:  6.3min remaining:  3.8min\n",
      "[Parallel(n_jobs=8)]: Done   6 out of   8 | elapsed:  6.3min remaining:  2.1min\n"
     ]
    },
    {
     "name": "stdout",
     "output_type": "stream",
     "text": [
      "Performing unbounded, unconstrained minimization (Powell).\n",
      "Optimization terminated successfully.\n",
      "         Current function value: 36.126762\n",
      "         Iterations: 12\n",
      "         Function evaluations: 1790\n",
      "Performing unbounded, unconstrained minimization (Powell).\n",
      "Optimization terminated successfully.\n",
      "         Current function value: 38.179474\n",
      "         Iterations: 8\n",
      "         Function evaluations: 1206\n"
     ]
    },
    {
     "name": "stderr",
     "output_type": "stream",
     "text": [
      "/Users/martinszinte/anaconda3/envs/mszinte/lib/python3.9/site-packages/scipy/signal/_signaltools.py:508: RuntimeWarning: invalid value encountered in multiply\n",
      "  ret = ifft(sp1 * sp2, fshape, axes=axes)\n"
     ]
    },
    {
     "name": "stdout",
     "output_type": "stream",
     "text": [
      "Performing unbounded, unconstrained minimization (Powell).\n",
      "Optimization terminated successfully.\n",
      "         Current function value: 38.962257\n",
      "         Iterations: 8\n",
      "         Function evaluations: 1134\n",
      "Performing unbounded, unconstrained minimization (Powell).\n",
      "Optimization terminated successfully.\n",
      "         Current function value: 34.406410\n",
      "         Iterations: 9\n",
      "         Function evaluations: 1412\n"
     ]
    },
    {
     "name": "stderr",
     "output_type": "stream",
     "text": [
      "[Parallel(n_jobs=8)]: Done   8 out of   8 | elapsed:  7.0min remaining:    0.0s\n",
      "[Parallel(n_jobs=8)]: Done   8 out of   8 | elapsed:  7.0min finished\n"
     ]
    }
   ],
   "source": [
    "# dn parameters\n",
    "fixed_grid_baseline = 0\n",
    "grid_bounds = [(0,1000),(0,1000)]\n",
    "surround_size_grid = sizes\n",
    "surround_amplitude_grid = np.linspace(0, 10, grid_nr)\n",
    "surround_baseline_grid = np.linspace(0, 10, grid_nr)\n",
    "neural_baseline_grid = np.linspace(0, 10, grid_nr)\n",
    "\n",
    "dn_fitter.grid_fit(\n",
    "    fixed_grid_baseline=fixed_grid_baseline,\n",
    "    grid_bounds=grid_bounds,\n",
    "    surround_amplitude_grid=surround_amplitude_grid,\n",
    "    surround_size_grid=surround_size_grid,             \n",
    "    surround_baseline_grid=surround_baseline_grid,\n",
    "    neural_baseline_grid=neural_baseline_grid,\n",
    "    n_batches=n_batches,\n",
    "    rsq_threshold=0.0001,\n",
    "    verbose=True,\n",
    "    # hrf_1_grid=np.linspace(0,10,num),\n",
    "    # hrf_2_grid=np.linspace(0,0,1)\n",
    ")"
   ]
  },
  {
   "cell_type": "code",
   "execution_count": 42,
   "id": "944884f8-ab62-4dc1-8c05-977a34282bf1",
   "metadata": {},
   "outputs": [
    {
     "name": "stderr",
     "output_type": "stream",
     "text": [
      "[Parallel(n_jobs=8)]: Using backend LokyBackend with 8 concurrent workers.\n"
     ]
    },
    {
     "name": "stdout",
     "output_type": "stream",
     "text": [
      "Performing unbounded, unconstrained minimization (Powell).\n",
      "Optimization terminated successfully.\n",
      "         Current function value: 34.546490\n",
      "         Iterations: 8\n",
      "         Function evaluations: 1151\n"
     ]
    },
    {
     "name": "stderr",
     "output_type": "stream",
     "text": [
      "[Parallel(n_jobs=8)]: Done   6 out of  10 | elapsed:    9.8s remaining:    6.5s\n",
      "[Parallel(n_jobs=8)]: Done  10 out of  10 | elapsed:   11.5s finished\n"
     ]
    }
   ],
   "source": [
    "dn_fitter.iterative_fit(rsq_threshold=0.0001, verbose=True)\n",
    "fit_fit_dn = dn_fitter.iterative_search_params"
   ]
  },
  {
   "cell_type": "code",
   "execution_count": 43,
   "id": "866203af-24be-47aa-92a7-d92d654b1cc6",
   "metadata": {},
   "outputs": [],
   "source": [
    "dn_fit_mat = np.zeros((data_fsnative_.shape[1],12))\n",
    "dn_pred_mat = np.zeros_like(data_fsnative_) \n",
    "for est in range(len(data_fsnative_.T)):\n",
    "    dn_fit_mat[est] = fit_fit_dn[est]\n",
    "    dn_pred_mat[:,est] = dn_model.return_prediction(mu_x=fit_fit_dn[est][0], \n",
    "                                                    mu_y=fit_fit_dn[est][1], \n",
    "                                                    prf_size=fit_fit_dn[est][2], \n",
    "                                                    prf_amplitude=fit_fit_dn[est][3], \n",
    "                                                    bold_baseline=fit_fit_dn[est][4],\n",
    "                                                    srf_amplitude=fit_fit_dn[est][5],\n",
    "                                                    srf_size=fit_fit_dn[est][6],\n",
    "                                                    neural_baseline=fit_fit_dn[est][7],\n",
    "                                                    surround_baseline=fit_fit_dn[est][8]\n",
    "                                                   )"
   ]
  },
  {
   "cell_type": "code",
   "execution_count": 44,
   "id": "01922833-49a0-44db-bfa1-c872776a7188",
   "metadata": {},
   "outputs": [
    {
     "data": {
      "application/vnd.plotly.v1+json": {
       "config": {
        "plotlyServerURL": "https://plot.ly"
       },
       "data": [
        {
         "mode": "markers",
         "name": "data",
         "type": "scatter",
         "y": [
          -0.46628645062446594,
          -0.3999118506908417,
          -0.3991197943687439,
          -0.8573865294456482,
          -0.26823073625564575,
          -0.1627385914325714,
          -0.6361043453216553,
          -0.2657290995121002,
          -0.5077419877052307,
          0.076142318546772,
          -0.23501107096672058,
          -0.029590629041194916,
          -0.4200827181339264,
          -0.09784050285816193,
          -0.18447762727737427,
          -0.545456051826477,
          -0.4482457637786865,
          0.03194960951805115,
          -0.02269771136343479,
          -0.4555072784423828,
          0.04373297095298767,
          -0.1337515115737915,
          -0.32082855701446533,
          -0.059355948120355606,
          0.07582664489746094,
          -0.03268972784280777,
          0.2757214903831482,
          0.6203640699386597,
          0.4231453835964203,
          0.9866095781326294,
          0.8036285042762756,
          1.0354830026626587,
          1.5283628702163696,
          1.3536128997802734,
          1.4488452672958374,
          1.2526559829711914,
          1.3396334648132324,
          1.5603629350662231,
          1.3517354726791382,
          0.9184078574180603,
          0.8552902340888977,
          0.16156962513923645,
          0.1242930069565773,
          0.028367429971694946,
          -0.9112344980239868,
          -1.0329035520553589,
          -0.03701867163181305,
          -0.4693510830402374,
          -0.22452247142791748,
          -0.2824540436267853,
          -0.7881773710250854,
          -0.24013610184192657,
          -0.42941412329673767,
          -0.9981496930122375,
          -0.2455676943063736,
          -0.16127198934555054,
          -0.6078057885169983,
          -0.17111407220363617,
          0.563632071018219,
          -0.9129988551139832,
          -0.6821330189704895,
          0.2773660719394684,
          -0.6072461605072021,
          -0.675662636756897,
          -0.029450977221131325,
          -0.8967392444610596,
          -0.7195623517036438,
          -0.4605376124382019,
          -0.9773475527763367,
          -0.3026810884475708,
          -0.49836042523384094,
          -0.7097224593162537,
          -0.807296633720398,
          -0.6328802108764648,
          -0.5252379179000854,
          -0.890081524848938,
          -0.3943910300731659,
          -0.46758967638015747,
          -0.22183139622211456,
          -0.20876449346542358,
          -0.31893420219421387,
          0.25230637192726135,
          -0.07318896800279617,
          -0.22506046295166016,
          0.2385435551404953,
          -0.08879852294921875,
          -0.11152864247560501,
          -0.23897592723369598,
          0.21166647970676422,
          0.9552539587020874,
          0.6191490888595581,
          1.9802842140197754,
          2.1988022327423096,
          1.5870360136032104,
          2.533406972885132,
          1.6625475883483887,
          1.4207855463027954,
          2.0850231647491455,
          0.7682477235794067,
          0.5806468725204468,
          1.5378062725067139,
          -0.2251667082309723,
          -0.23186928033828735,
          0.2058342695236206,
          -1.041218638420105,
          -0.6210776567459106,
          -0.1004740297794342,
          -0.7650716304779053,
          -0.6696115732192993,
          0.20315973460674286,
          -1.1707488298416138,
          -0.7229003310203552,
          0.25762706995010376,
          -0.9784564971923828,
          -0.517099142074585,
          -0.44991248846054077,
          -1.042592167854309,
          -0.677906334400177,
          -0.6811428070068359,
          -0.9456957578659058,
          -0.09917367994785309,
          -0.6733994483947754,
          -0.8728137612342834,
          -0.2413674294948578,
          -0.535417914390564,
          -0.3324810564517975,
          0.13570505380630493,
          -0.04654522240161896,
          0.5611869096755981,
          0.18492022156715393,
          0.08930293470621109,
          0.6098423004150391,
          0.1550493836402893,
          0.14644750952720642,
          0.5261797308921814,
          0.01457644160836935,
          0.856430172920227,
          0.58665531873703,
          0.25736117362976074,
          1.116662621498108,
          0.013451311737298965,
          0.14440762996673584,
          -0.1317417174577713,
          -0.4736291170120239,
          0.02565174549818039,
          -0.23758713901042938,
          0.06859355419874191,
          0.8522951602935791,
          0.18415795266628265,
          -0.6131433248519897,
          -0.7683715224266052,
          -0.25518542528152466,
          -0.565893828868866,
          -1.0847607851028442,
          -0.7919835448265076,
          -0.3628041446208954,
          -0.7681311964988708,
          -0.7654743194580078,
          -0.2539704740047455,
          -1.1512296199798584,
          -0.8912054300308228,
          -0.8805222511291504,
          -0.6827316284179688,
          -0.3886902928352356,
          -0.007583148777484894,
          -0.2037220150232315,
          0.2456342577934265,
          0.39946362376213074,
          0.5640573501586914,
          0.7232057452201843,
          0.8224208950996399,
          1.5386865139007568,
          1.4751819372177124,
          1.2283508777618408,
          1.8705419301986694,
          1.4060791730880737,
          1.4777377843856812,
          1.6803518533706665,
          0.829564094543457,
          0.5531759262084961,
          0.028571736067533493,
          -0.2166322022676468,
          0.03542432188987732,
          -0.43392235040664673,
          0.01518891379237175,
          -0.563188910484314,
          -0.13469770550727844,
          0.1067449077963829,
          -0.633946418762207,
          0.08635466545820236,
          -0.3198612332344055,
          0.31265974044799805,
          -0.004660461097955704,
          -0.0021029955241829157,
          0.45219913125038147,
          -0.18587347865104675,
          -0.7306390404701233,
          -0.33799368143081665,
          -0.47076988220214844,
          -0.4388037919998169,
          -0.5814041495323181,
          -0.32107388973236084,
          0.11644595116376877,
          -0.9595583081245422,
          -0.69288170337677,
          -0.0885150283575058,
          -0.6311326622962952,
          -0.03709323704242706
         ]
        },
        {
         "name": "Gauss model (R2=0.70)",
         "type": "scatter",
         "y": [
          -0.40670648217201233,
          -0.40671998262405396,
          -0.4067275822162628,
          -0.4067317545413971,
          -0.40673398971557617,
          -0.4067351222038269,
          -0.40673571825027466,
          -0.40673598647117615,
          -0.4067361354827881,
          -0.40673619508743286,
          -0.40673625469207764,
          -0.40673625469207764,
          -0.4067362844944,
          -0.4067362844944,
          -0.4067362844944,
          -0.4067362844944,
          -0.4067362844944,
          -0.4067362844944,
          -0.4067362844944,
          -0.40271350741386414,
          -0.38066917657852173,
          -0.3329680860042572,
          -0.26013433933258057,
          -0.15848559141159058,
          -0.014248180203139782,
          0.15818440914154053,
          0.30674368143081665,
          0.4389367401599884,
          0.5833353996276855,
          0.7471219897270203,
          0.9162903428077698,
          1.0678144693374634,
          1.1787515878677368,
          1.2307844161987305,
          1.2357336282730103,
          1.2493642568588257,
          1.2277365922927856,
          1.0979130268096924,
          0.8763626217842102,
          0.6160390973091125,
          0.3567630648612976,
          0.12050117552280426,
          -0.08135965466499329,
          -0.24328432977199554,
          -0.3623242676258087,
          -0.43719759583473206,
          -0.47793006896972656,
          -0.4969806969165802,
          -0.5025326013565063,
          -0.4990980923175812,
          -0.48986533284187317,
          -0.477639764547348,
          -0.4646889567375183,
          -0.45242273807525635,
          -0.4416072964668274,
          -0.43257957696914673,
          -0.4253728985786438,
          -0.41983041167259216,
          -0.41570407152175903,
          -0.41272255778312683,
          -0.4106298089027405,
          -0.40920278429985046,
          -0.4082578420639038,
          -0.40765032172203064,
          -0.4072711169719696,
          -0.40704110264778137,
          -0.4069056212902069,
          -0.40682676434516907,
          -0.4067749083042145,
          -0.4067251682281494,
          -0.40664708614349365,
          -0.40648353099823,
          -0.4061151444911957,
          -0.4054640829563141,
          -0.4046240448951721,
          -0.4031974673271179,
          -0.4003002941608429,
          -0.394607812166214,
          -0.38415804505348206,
          -0.36609092354774475,
          -0.33647456765174866,
          -0.29076462984085083,
          -0.22164008021354675,
          -0.11446545273065567,
          0.022531647235155106,
          0.14832209050655365,
          0.27248144149780273,
          0.42099303007125854,
          0.6008591651916504,
          0.8001566529273987,
          0.9972708225250244,
          1.1679277420043945,
          1.3076128959655762,
          1.4517265558242798,
          1.5805710554122925,
          1.6174957752227783,
          1.4958900213241577,
          1.2527793645858765,
          0.9499541521072388,
          0.6006186604499817,
          0.20915985107421875,
          -0.14661796391010284,
          -0.4041871726512909,
          -0.556422770023346,
          -0.6267975568771362,
          -0.6433340311050415,
          -0.6281815767288208,
          -0.5967047810554504,
          -0.5591939091682434,
          -0.5223207473754883,
          -0.48998841643333435,
          -0.4639389216899872,
          -0.4443603456020355,
          -0.43050000071525574,
          -0.42119210958480835,
          -0.4151625633239746,
          -0.4111034572124481,
          -0.40789783000946045,
          -0.40453779697418213,
          -0.3997388482093811,
          -0.39151817560195923,
          -0.37755903601646423,
          -0.35787901282310486,
          -0.3359907269477844,
          -0.3067675232887268,
          -0.26091626286506653,
          -0.19061419367790222,
          -0.09057877212762833,
          0.04181953892111778,
          0.20536908507347107,
          0.40613213181495667,
          0.6686915159225464,
          0.9459869265556335,
          1.1321381330490112,
          1.2288548946380615,
          1.2769732475280762,
          1.2905464172363281,
          1.2614799737930298,
          1.1794028282165527,
          1.0424944162368774,
          0.8590342402458191,
          0.6584531664848328,
          0.491473525762558,
          0.341368168592453,
          0.17646895349025726,
          0.0032242087181657553,
          -0.15710419416427612,
          -0.2936152219772339,
          -0.40400731563568115,
          -0.48075777292251587,
          -0.5221592783927917,
          -0.535208523273468,
          -0.5298314094543457,
          -0.5145511627197266,
          -0.49530234932899475,
          -0.4757913053035736,
          -0.4581400454044342,
          -0.4433840811252594,
          -0.43181467056274414,
          -0.4232398569583893,
          -0.41720059514045715,
          -0.413141667842865,
          -0.41052892804145813,
          -0.3859078586101532,
          -0.26456913352012634,
          -0.03116696886718273,
          0.2619759142398834,
          0.5788013339042664,
          0.9336839914321899,
          1.2857112884521484,
          1.5439400672912598,
          1.6443631649017334,
          1.6217539310455322,
          1.5279831886291504,
          1.385973334312439,
          1.201270580291748,
          0.9796735644340515,
          0.7331913113594055,
          0.48983272910118103,
          0.29484087228775024,
          0.1338651329278946,
          -0.020747877657413483,
          -0.16646362841129303,
          -0.2900587022304535,
          -0.38397035002708435,
          -0.4479014575481415,
          -0.485870361328125,
          -0.5035108327865601,
          -0.5065287947654724,
          -0.4999247193336487,
          -0.48771655559539795,
          -0.4733099341392517,
          -0.4591017961502075,
          -0.4464156925678253,
          -0.435813844203949,
          -0.42739734053611755,
          -0.4210028648376465,
          -0.41632938385009766,
          -0.41303038597106934,
          -0.4107736647129059,
          -0.40927284955978394,
          -0.4082995355129242,
          -0.40768226981163025,
          -0.4072987139225006,
          -0.40706485509872437,
          -0.40692490339279175,
          -0.4068426191806793,
          -0.4067951440811157
         ]
        },
        {
         "name": "DN model (R2=0.70)",
         "type": "scatter",
         "y": [
          -0.42495638132095337,
          -0.4249802529811859,
          -0.4249937832355499,
          -0.4250010848045349,
          -0.42500510811805725,
          -0.42500707507133484,
          -0.425008088350296,
          -0.42500874400138855,
          -0.4250088930130005,
          -0.4250089228153229,
          -0.42500898241996765,
          -0.4250089228153229,
          -0.4250091016292572,
          -0.4250091016292572,
          -0.4250091314315796,
          -0.4250091016292572,
          -0.4250091314315796,
          -0.4250091016292572,
          -0.4250091016292572,
          -0.41839808225631714,
          -0.3849136531352997,
          -0.32196786999702454,
          -0.23776838183403015,
          -0.13459882140159607,
          -0.006708445958793163,
          0.13983583450317383,
          0.2765852212905884,
          0.41226887702941895,
          0.5658255219459534,
          0.738725483417511,
          0.9159925580024719,
          1.0752278566360474,
          1.1937991380691528,
          1.2533466815948486,
          1.2566354274749756,
          1.2366282939910889,
          1.173929214477539,
          1.0371922254562378,
          0.8374729752540588,
          0.6057373881340027,
          0.3699371814727783,
          0.15015339851379395,
          -0.04043436422944069,
          -0.19445984065532684,
          -0.30797111988067627,
          -0.3790135979652405,
          -0.4165201485157013,
          -0.4328911602497101,
          -0.4377596378326416,
          -0.43532076478004456,
          -0.4283878803253174,
          -0.42363736033439636,
          -0.4286249876022339,
          -0.4386790692806244,
          -0.4468208849430084,
          -0.45055216550827026,
          -0.45057228207588196,
          -0.44836634397506714,
          -0.44510090351104736,
          -0.4414883852005005,
          -0.43794798851013184,
          -0.43474021553993225,
          -0.43201929330825806,
          -0.42984917759895325,
          -0.42821580171585083,
          -0.42705148458480835,
          -0.42626214027404785,
          -0.42311519384384155,
          -0.4101150929927826,
          -0.38937830924987793,
          -0.3690028786659241,
          -0.3533174395561218,
          -0.3413475453853607,
          -0.33313870429992676,
          -0.33016037940979004,
          -0.3306770920753479,
          -0.33160215616226196,
          -0.33032429218292236,
          -0.3245009779930115,
          -0.31133291125297546,
          -0.2870752215385437,
          -0.24727971851825714,
          -0.18662691116333008,
          -0.09688985347747803,
          0.01792209967970848,
          0.1333158016204834,
          0.25873494148254395,
          0.41252440214157104,
          0.5974158644676208,
          0.8008432984352112,
          1.0017415285110474,
          1.1761447191238403,
          1.310570240020752,
          1.415726900100708,
          1.4810000658035278,
          1.4689539670944214,
          1.3518491983413696,
          1.1502602100372314,
          0.8979575037956238,
          0.5957821011543274,
          0.2280428409576416,
          -0.12570279836654663,
          -0.39049389958381653,
          -0.5512205362319946,
          -0.6288365125656128,
          -0.651189923286438,
          -0.6406242847442627,
          -0.6125636100769043,
          -0.577326238155365,
          -0.5417143106460571,
          -0.5098708868026733,
          -0.48381686210632324,
          -0.4639846980571747,
          -0.44979429244995117,
          -0.4401777386665344,
          -0.43127158284187317,
          -0.4144045114517212,
          -0.390719473361969,
          -0.36740541458129883,
          -0.3477689325809479,
          -0.32955124974250793,
          -0.3103443682193756,
          -0.29005640745162964,
          -0.270835816860199,
          -0.24607118964195251,
          -0.20550042390823364,
          -0.14070039987564087,
          -0.04593256488442421,
          0.08182168006896973,
          0.24185168743133545,
          0.4330741763114929,
          0.6586772799491882,
          0.8888878226280212,
          1.0625841617584229,
          1.177910566329956,
          1.2521014213562012,
          1.2855663299560547,
          1.2675960063934326,
          1.1899104118347168,
          1.0535118579864502,
          0.8690055012702942,
          0.6629487872123718,
          0.47689127922058105,
          0.3081039786338806,
          0.14286738634109497,
          -0.015546771697700024,
          -0.15636399388313293,
          -0.2778851389884949,
          -0.38690850138664246,
          -0.47193676233291626,
          -0.5234853029251099,
          -0.5446224808692932,
          -0.5447058081626892,
          -0.5328661203384399,
          -0.5156568884849548,
          -0.4971781075000763,
          -0.47981858253479004,
          -0.46484795212745667,
          -0.45277830958366394,
          -0.4436025619506836,
          -0.4369892477989197,
          -0.4324512183666229,
          -0.429475337266922,
          -0.39958441257476807,
          -0.2587871551513672,
          -0.008115353994071484,
          0.2919809818267822,
          0.5989779829978943,
          0.9058712124824524,
          1.1896132230758667,
          1.403001308441162,
          1.5111371278762817,
          1.5283174514770508,
          1.4769526720046997,
          1.366606593132019,
          1.202021598815918,
          0.9924220442771912,
          0.7532963156700134,
          0.5116842985153198,
          0.3061601519584656,
          0.13345867395401,
          -0.020694319158792496,
          -0.1559416651725769,
          -0.2662311792373657,
          -0.3481466770172119,
          -0.40254294872283936,
          -0.43337011337280273,
          -0.44597092270851135,
          -0.44577556848526,
          -0.4369361400604248,
          -0.4217134118080139,
          -0.4045354723930359,
          -0.3903743028640747,
          -0.38003724813461304,
          -0.37312090396881104,
          -0.3732893764972687,
          -0.3855820596218109,
          -0.4036426544189453,
          -0.41945624351501465,
          -0.4299394190311432,
          -0.43554195761680603,
          -0.43772977590560913,
          -0.4377845525741577,
          -0.43659278750419617,
          -0.43476012349128723,
          -0.432719886302948,
          -0.43077290058135986,
          -0.4291004538536072
         ]
        }
       ],
       "layout": {
        "autosize": true,
        "template": {
         "data": {
          "bar": [
           {
            "error_x": {
             "color": "#2a3f5f"
            },
            "error_y": {
             "color": "#2a3f5f"
            },
            "marker": {
             "line": {
              "color": "#E5ECF6",
              "width": 0.5
             },
             "pattern": {
              "fillmode": "overlay",
              "size": 10,
              "solidity": 0.2
             }
            },
            "type": "bar"
           }
          ],
          "barpolar": [
           {
            "marker": {
             "line": {
              "color": "#E5ECF6",
              "width": 0.5
             },
             "pattern": {
              "fillmode": "overlay",
              "size": 10,
              "solidity": 0.2
             }
            },
            "type": "barpolar"
           }
          ],
          "carpet": [
           {
            "aaxis": {
             "endlinecolor": "#2a3f5f",
             "gridcolor": "white",
             "linecolor": "white",
             "minorgridcolor": "white",
             "startlinecolor": "#2a3f5f"
            },
            "baxis": {
             "endlinecolor": "#2a3f5f",
             "gridcolor": "white",
             "linecolor": "white",
             "minorgridcolor": "white",
             "startlinecolor": "#2a3f5f"
            },
            "type": "carpet"
           }
          ],
          "choropleth": [
           {
            "colorbar": {
             "outlinewidth": 0,
             "ticks": ""
            },
            "type": "choropleth"
           }
          ],
          "contour": [
           {
            "colorbar": {
             "outlinewidth": 0,
             "ticks": ""
            },
            "colorscale": [
             [
              0,
              "#0d0887"
             ],
             [
              0.1111111111111111,
              "#46039f"
             ],
             [
              0.2222222222222222,
              "#7201a8"
             ],
             [
              0.3333333333333333,
              "#9c179e"
             ],
             [
              0.4444444444444444,
              "#bd3786"
             ],
             [
              0.5555555555555556,
              "#d8576b"
             ],
             [
              0.6666666666666666,
              "#ed7953"
             ],
             [
              0.7777777777777778,
              "#fb9f3a"
             ],
             [
              0.8888888888888888,
              "#fdca26"
             ],
             [
              1,
              "#f0f921"
             ]
            ],
            "type": "contour"
           }
          ],
          "contourcarpet": [
           {
            "colorbar": {
             "outlinewidth": 0,
             "ticks": ""
            },
            "type": "contourcarpet"
           }
          ],
          "heatmap": [
           {
            "colorbar": {
             "outlinewidth": 0,
             "ticks": ""
            },
            "colorscale": [
             [
              0,
              "#0d0887"
             ],
             [
              0.1111111111111111,
              "#46039f"
             ],
             [
              0.2222222222222222,
              "#7201a8"
             ],
             [
              0.3333333333333333,
              "#9c179e"
             ],
             [
              0.4444444444444444,
              "#bd3786"
             ],
             [
              0.5555555555555556,
              "#d8576b"
             ],
             [
              0.6666666666666666,
              "#ed7953"
             ],
             [
              0.7777777777777778,
              "#fb9f3a"
             ],
             [
              0.8888888888888888,
              "#fdca26"
             ],
             [
              1,
              "#f0f921"
             ]
            ],
            "type": "heatmap"
           }
          ],
          "heatmapgl": [
           {
            "colorbar": {
             "outlinewidth": 0,
             "ticks": ""
            },
            "colorscale": [
             [
              0,
              "#0d0887"
             ],
             [
              0.1111111111111111,
              "#46039f"
             ],
             [
              0.2222222222222222,
              "#7201a8"
             ],
             [
              0.3333333333333333,
              "#9c179e"
             ],
             [
              0.4444444444444444,
              "#bd3786"
             ],
             [
              0.5555555555555556,
              "#d8576b"
             ],
             [
              0.6666666666666666,
              "#ed7953"
             ],
             [
              0.7777777777777778,
              "#fb9f3a"
             ],
             [
              0.8888888888888888,
              "#fdca26"
             ],
             [
              1,
              "#f0f921"
             ]
            ],
            "type": "heatmapgl"
           }
          ],
          "histogram": [
           {
            "marker": {
             "pattern": {
              "fillmode": "overlay",
              "size": 10,
              "solidity": 0.2
             }
            },
            "type": "histogram"
           }
          ],
          "histogram2d": [
           {
            "colorbar": {
             "outlinewidth": 0,
             "ticks": ""
            },
            "colorscale": [
             [
              0,
              "#0d0887"
             ],
             [
              0.1111111111111111,
              "#46039f"
             ],
             [
              0.2222222222222222,
              "#7201a8"
             ],
             [
              0.3333333333333333,
              "#9c179e"
             ],
             [
              0.4444444444444444,
              "#bd3786"
             ],
             [
              0.5555555555555556,
              "#d8576b"
             ],
             [
              0.6666666666666666,
              "#ed7953"
             ],
             [
              0.7777777777777778,
              "#fb9f3a"
             ],
             [
              0.8888888888888888,
              "#fdca26"
             ],
             [
              1,
              "#f0f921"
             ]
            ],
            "type": "histogram2d"
           }
          ],
          "histogram2dcontour": [
           {
            "colorbar": {
             "outlinewidth": 0,
             "ticks": ""
            },
            "colorscale": [
             [
              0,
              "#0d0887"
             ],
             [
              0.1111111111111111,
              "#46039f"
             ],
             [
              0.2222222222222222,
              "#7201a8"
             ],
             [
              0.3333333333333333,
              "#9c179e"
             ],
             [
              0.4444444444444444,
              "#bd3786"
             ],
             [
              0.5555555555555556,
              "#d8576b"
             ],
             [
              0.6666666666666666,
              "#ed7953"
             ],
             [
              0.7777777777777778,
              "#fb9f3a"
             ],
             [
              0.8888888888888888,
              "#fdca26"
             ],
             [
              1,
              "#f0f921"
             ]
            ],
            "type": "histogram2dcontour"
           }
          ],
          "mesh3d": [
           {
            "colorbar": {
             "outlinewidth": 0,
             "ticks": ""
            },
            "type": "mesh3d"
           }
          ],
          "parcoords": [
           {
            "line": {
             "colorbar": {
              "outlinewidth": 0,
              "ticks": ""
             }
            },
            "type": "parcoords"
           }
          ],
          "pie": [
           {
            "automargin": true,
            "type": "pie"
           }
          ],
          "scatter": [
           {
            "fillpattern": {
             "fillmode": "overlay",
             "size": 10,
             "solidity": 0.2
            },
            "type": "scatter"
           }
          ],
          "scatter3d": [
           {
            "line": {
             "colorbar": {
              "outlinewidth": 0,
              "ticks": ""
             }
            },
            "marker": {
             "colorbar": {
              "outlinewidth": 0,
              "ticks": ""
             }
            },
            "type": "scatter3d"
           }
          ],
          "scattercarpet": [
           {
            "marker": {
             "colorbar": {
              "outlinewidth": 0,
              "ticks": ""
             }
            },
            "type": "scattercarpet"
           }
          ],
          "scattergeo": [
           {
            "marker": {
             "colorbar": {
              "outlinewidth": 0,
              "ticks": ""
             }
            },
            "type": "scattergeo"
           }
          ],
          "scattergl": [
           {
            "marker": {
             "colorbar": {
              "outlinewidth": 0,
              "ticks": ""
             }
            },
            "type": "scattergl"
           }
          ],
          "scattermapbox": [
           {
            "marker": {
             "colorbar": {
              "outlinewidth": 0,
              "ticks": ""
             }
            },
            "type": "scattermapbox"
           }
          ],
          "scatterpolar": [
           {
            "marker": {
             "colorbar": {
              "outlinewidth": 0,
              "ticks": ""
             }
            },
            "type": "scatterpolar"
           }
          ],
          "scatterpolargl": [
           {
            "marker": {
             "colorbar": {
              "outlinewidth": 0,
              "ticks": ""
             }
            },
            "type": "scatterpolargl"
           }
          ],
          "scatterternary": [
           {
            "marker": {
             "colorbar": {
              "outlinewidth": 0,
              "ticks": ""
             }
            },
            "type": "scatterternary"
           }
          ],
          "surface": [
           {
            "colorbar": {
             "outlinewidth": 0,
             "ticks": ""
            },
            "colorscale": [
             [
              0,
              "#0d0887"
             ],
             [
              0.1111111111111111,
              "#46039f"
             ],
             [
              0.2222222222222222,
              "#7201a8"
             ],
             [
              0.3333333333333333,
              "#9c179e"
             ],
             [
              0.4444444444444444,
              "#bd3786"
             ],
             [
              0.5555555555555556,
              "#d8576b"
             ],
             [
              0.6666666666666666,
              "#ed7953"
             ],
             [
              0.7777777777777778,
              "#fb9f3a"
             ],
             [
              0.8888888888888888,
              "#fdca26"
             ],
             [
              1,
              "#f0f921"
             ]
            ],
            "type": "surface"
           }
          ],
          "table": [
           {
            "cells": {
             "fill": {
              "color": "#EBF0F8"
             },
             "line": {
              "color": "white"
             }
            },
            "header": {
             "fill": {
              "color": "#C8D4E3"
             },
             "line": {
              "color": "white"
             }
            },
            "type": "table"
           }
          ]
         },
         "layout": {
          "annotationdefaults": {
           "arrowcolor": "#2a3f5f",
           "arrowhead": 0,
           "arrowwidth": 1
          },
          "autotypenumbers": "strict",
          "coloraxis": {
           "colorbar": {
            "outlinewidth": 0,
            "ticks": ""
           }
          },
          "colorscale": {
           "diverging": [
            [
             0,
             "#8e0152"
            ],
            [
             0.1,
             "#c51b7d"
            ],
            [
             0.2,
             "#de77ae"
            ],
            [
             0.3,
             "#f1b6da"
            ],
            [
             0.4,
             "#fde0ef"
            ],
            [
             0.5,
             "#f7f7f7"
            ],
            [
             0.6,
             "#e6f5d0"
            ],
            [
             0.7,
             "#b8e186"
            ],
            [
             0.8,
             "#7fbc41"
            ],
            [
             0.9,
             "#4d9221"
            ],
            [
             1,
             "#276419"
            ]
           ],
           "sequential": [
            [
             0,
             "#0d0887"
            ],
            [
             0.1111111111111111,
             "#46039f"
            ],
            [
             0.2222222222222222,
             "#7201a8"
            ],
            [
             0.3333333333333333,
             "#9c179e"
            ],
            [
             0.4444444444444444,
             "#bd3786"
            ],
            [
             0.5555555555555556,
             "#d8576b"
            ],
            [
             0.6666666666666666,
             "#ed7953"
            ],
            [
             0.7777777777777778,
             "#fb9f3a"
            ],
            [
             0.8888888888888888,
             "#fdca26"
            ],
            [
             1,
             "#f0f921"
            ]
           ],
           "sequentialminus": [
            [
             0,
             "#0d0887"
            ],
            [
             0.1111111111111111,
             "#46039f"
            ],
            [
             0.2222222222222222,
             "#7201a8"
            ],
            [
             0.3333333333333333,
             "#9c179e"
            ],
            [
             0.4444444444444444,
             "#bd3786"
            ],
            [
             0.5555555555555556,
             "#d8576b"
            ],
            [
             0.6666666666666666,
             "#ed7953"
            ],
            [
             0.7777777777777778,
             "#fb9f3a"
            ],
            [
             0.8888888888888888,
             "#fdca26"
            ],
            [
             1,
             "#f0f921"
            ]
           ]
          },
          "colorway": [
           "#636efa",
           "#EF553B",
           "#00cc96",
           "#ab63fa",
           "#FFA15A",
           "#19d3f3",
           "#FF6692",
           "#B6E880",
           "#FF97FF",
           "#FECB52"
          ],
          "font": {
           "color": "#2a3f5f"
          },
          "geo": {
           "bgcolor": "white",
           "lakecolor": "white",
           "landcolor": "#E5ECF6",
           "showlakes": true,
           "showland": true,
           "subunitcolor": "white"
          },
          "hoverlabel": {
           "align": "left"
          },
          "hovermode": "closest",
          "mapbox": {
           "style": "light"
          },
          "paper_bgcolor": "white",
          "plot_bgcolor": "#E5ECF6",
          "polar": {
           "angularaxis": {
            "gridcolor": "white",
            "linecolor": "white",
            "ticks": ""
           },
           "bgcolor": "#E5ECF6",
           "radialaxis": {
            "gridcolor": "white",
            "linecolor": "white",
            "ticks": ""
           }
          },
          "scene": {
           "xaxis": {
            "backgroundcolor": "#E5ECF6",
            "gridcolor": "white",
            "gridwidth": 2,
            "linecolor": "white",
            "showbackground": true,
            "ticks": "",
            "zerolinecolor": "white"
           },
           "yaxis": {
            "backgroundcolor": "#E5ECF6",
            "gridcolor": "white",
            "gridwidth": 2,
            "linecolor": "white",
            "showbackground": true,
            "ticks": "",
            "zerolinecolor": "white"
           },
           "zaxis": {
            "backgroundcolor": "#E5ECF6",
            "gridcolor": "white",
            "gridwidth": 2,
            "linecolor": "white",
            "showbackground": true,
            "ticks": "",
            "zerolinecolor": "white"
           }
          },
          "shapedefaults": {
           "line": {
            "color": "#2a3f5f"
           }
          },
          "ternary": {
           "aaxis": {
            "gridcolor": "white",
            "linecolor": "white",
            "ticks": ""
           },
           "baxis": {
            "gridcolor": "white",
            "linecolor": "white",
            "ticks": ""
           },
           "bgcolor": "#E5ECF6",
           "caxis": {
            "gridcolor": "white",
            "linecolor": "white",
            "ticks": ""
           }
          },
          "title": {
           "x": 0.05
          },
          "xaxis": {
           "automargin": true,
           "gridcolor": "white",
           "linecolor": "white",
           "ticks": "",
           "title": {
            "standoff": 15
           },
           "zerolinecolor": "white",
           "zerolinewidth": 2
          },
          "yaxis": {
           "automargin": true,
           "gridcolor": "white",
           "linecolor": "white",
           "ticks": "",
           "title": {
            "standoff": 15
           },
           "zerolinecolor": "white",
           "zerolinewidth": 2
          }
         }
        },
        "xaxis": {
         "autorange": true,
         "range": [
          -12.710526315789474,
          219.71052631578948
         ]
        },
        "yaxis": {
         "autorange": true,
         "range": [
          -1.4764315902608112,
          2.8390897333043292
         ],
         "type": "linear"
        }
       }
      },
      "image/png": "[encoded data removed]",
      "text/html": [
       "<div>                            <div id=\"fcf15664-a3fb-435c-828e-d4db687c8e13\" class=\"plotly-graph-div\" style=\"height:525px; width:100%;\"></div>            <script type=\"text/javascript\">                require([\"plotly\"], function(Plotly) {                    window.PLOTLYENV=window.PLOTLYENV || {};                                    if (document.getElementById(\"fcf15664-a3fb-435c-828e-d4db687c8e13\")) {                    Plotly.newPlot(                        \"fcf15664-a3fb-435c-828e-d4db687c8e13\",                        [{\"mode\":\"markers\",\"name\":\"data\",\"y\":[-0.46628645062446594,-0.3999118506908417,-0.3991197943687439,-0.8573865294456482,-0.26823073625564575,-0.1627385914325714,-0.6361043453216553,-0.2657290995121002,-0.5077419877052307,0.076142318546772,-0.23501107096672058,-0.029590629041194916,-0.4200827181339264,-0.09784050285816193,-0.18447762727737427,-0.545456051826477,-0.4482457637786865,0.03194960951805115,-0.02269771136343479,-0.4555072784423828,0.04373297095298767,-0.1337515115737915,-0.32082855701446533,-0.059355948120355606,0.07582664489746094,-0.03268972784280777,0.2757214903831482,0.6203640699386597,0.4231453835964203,0.9866095781326294,0.8036285042762756,1.0354830026626587,1.5283628702163696,1.3536128997802734,1.4488452672958374,1.2526559829711914,1.3396334648132324,1.5603629350662231,1.3517354726791382,0.9184078574180603,0.8552902340888977,0.16156962513923645,0.1242930069565773,0.028367429971694946,-0.9112344980239868,-1.0329035520553589,-0.03701867163181305,-0.4693510830402374,-0.22452247142791748,-0.2824540436267853,-0.7881773710250854,-0.24013610184192657,-0.42941412329673767,-0.9981496930122375,-0.2455676943063736,-0.16127198934555054,-0.6078057885169983,-0.17111407220363617,0.563632071018219,-0.9129988551139832,-0.6821330189704895,0.2773660719394684,-0.6072461605072021,-0.675662636756897,-0.029450977221131325,-0.8967392444610596,-0.7195623517036438,-0.4605376124382019,-0.9773475527763367,-0.3026810884475708,-0.49836042523384094,-0.7097224593162537,-0.807296633720398,-0.6328802108764648,-0.5252379179000854,-0.890081524848938,-0.3943910300731659,-0.46758967638015747,-0.22183139622211456,-0.20876449346542358,-0.31893420219421387,0.25230637192726135,-0.07318896800279617,-0.22506046295166016,0.2385435551404953,-0.08879852294921875,-0.11152864247560501,-0.23897592723369598,0.21166647970676422,0.9552539587020874,0.6191490888595581,1.9802842140197754,2.1988022327423096,1.5870360136032104,2.533406972885132,1.6625475883483887,1.4207855463027954,2.0850231647491455,0.7682477235794067,0.5806468725204468,1.5378062725067139,-0.2251667082309723,-0.23186928033828735,0.2058342695236206,-1.041218638420105,-0.6210776567459106,-0.1004740297794342,-0.7650716304779053,-0.6696115732192993,0.20315973460674286,-1.1707488298416138,-0.7229003310203552,0.25762706995010376,-0.9784564971923828,-0.517099142074585,-0.44991248846054077,-1.042592167854309,-0.677906334400177,-0.6811428070068359,-0.9456957578659058,-0.09917367994785309,-0.6733994483947754,-0.8728137612342834,-0.2413674294948578,-0.535417914390564,-0.3324810564517975,0.13570505380630493,-0.04654522240161896,0.5611869096755981,0.18492022156715393,0.08930293470621109,0.6098423004150391,0.1550493836402893,0.14644750952720642,0.5261797308921814,0.01457644160836935,0.856430172920227,0.58665531873703,0.25736117362976074,1.116662621498108,0.013451311737298965,0.14440762996673584,-0.1317417174577713,-0.4736291170120239,0.02565174549818039,-0.23758713901042938,0.06859355419874191,0.8522951602935791,0.18415795266628265,-0.6131433248519897,-0.7683715224266052,-0.25518542528152466,-0.565893828868866,-1.0847607851028442,-0.7919835448265076,-0.3628041446208954,-0.7681311964988708,-0.7654743194580078,-0.2539704740047455,-1.1512296199798584,-0.8912054300308228,-0.8805222511291504,-0.6827316284179688,-0.3886902928352356,-0.007583148777484894,-0.2037220150232315,0.2456342577934265,0.39946362376213074,0.5640573501586914,0.7232057452201843,0.8224208950996399,1.5386865139007568,1.4751819372177124,1.2283508777618408,1.8705419301986694,1.4060791730880737,1.4777377843856812,1.6803518533706665,0.829564094543457,0.5531759262084961,0.028571736067533493,-0.2166322022676468,0.03542432188987732,-0.43392235040664673,0.01518891379237175,-0.563188910484314,-0.13469770550727844,0.1067449077963829,-0.633946418762207,0.08635466545820236,-0.3198612332344055,0.31265974044799805,-0.004660461097955704,-0.0021029955241829157,0.45219913125038147,-0.18587347865104675,-0.7306390404701233,-0.33799368143081665,-0.47076988220214844,-0.4388037919998169,-0.5814041495323181,-0.32107388973236084,0.11644595116376877,-0.9595583081245422,-0.69288170337677,-0.0885150283575058,-0.6311326622962952,-0.03709323704242706],\"type\":\"scatter\"},{\"name\":\"Gauss model (R2=0.70)\",\"y\":[-0.40670648217201233,-0.40671998262405396,-0.4067275822162628,-0.4067317545413971,-0.40673398971557617,-0.4067351222038269,-0.40673571825027466,-0.40673598647117615,-0.4067361354827881,-0.40673619508743286,-0.40673625469207764,-0.40673625469207764,-0.4067362844944,-0.4067362844944,-0.4067362844944,-0.4067362844944,-0.4067362844944,-0.4067362844944,-0.4067362844944,-0.40271350741386414,-0.38066917657852173,-0.3329680860042572,-0.26013433933258057,-0.15848559141159058,-0.014248180203139782,0.15818440914154053,0.30674368143081665,0.4389367401599884,0.5833353996276855,0.7471219897270203,0.9162903428077698,1.0678144693374634,1.1787515878677368,1.2307844161987305,1.2357336282730103,1.2493642568588257,1.2277365922927856,1.0979130268096924,0.8763626217842102,0.6160390973091125,0.3567630648612976,0.12050117552280426,-0.08135965466499329,-0.24328432977199554,-0.3623242676258087,-0.43719759583473206,-0.47793006896972656,-0.4969806969165802,-0.5025326013565063,-0.4990980923175812,-0.48986533284187317,-0.477639764547348,-0.4646889567375183,-0.45242273807525635,-0.4416072964668274,-0.43257957696914673,-0.4253728985786438,-0.41983041167259216,-0.41570407152175903,-0.41272255778312683,-0.4106298089027405,-0.40920278429985046,-0.4082578420639038,-0.40765032172203064,-0.4072711169719696,-0.40704110264778137,-0.4069056212902069,-0.40682676434516907,-0.4067749083042145,-0.4067251682281494,-0.40664708614349365,-0.40648353099823,-0.4061151444911957,-0.4054640829563141,-0.4046240448951721,-0.4031974673271179,-0.4003002941608429,-0.394607812166214,-0.38415804505348206,-0.36609092354774475,-0.33647456765174866,-0.29076462984085083,-0.22164008021354675,-0.11446545273065567,0.022531647235155106,0.14832209050655365,0.27248144149780273,0.42099303007125854,0.6008591651916504,0.8001566529273987,0.9972708225250244,1.1679277420043945,1.3076128959655762,1.4517265558242798,1.5805710554122925,1.6174957752227783,1.4958900213241577,1.2527793645858765,0.9499541521072388,0.6006186604499817,0.20915985107421875,-0.14661796391010284,-0.4041871726512909,-0.556422770023346,-0.6267975568771362,-0.6433340311050415,-0.6281815767288208,-0.5967047810554504,-0.5591939091682434,-0.5223207473754883,-0.48998841643333435,-0.4639389216899872,-0.4443603456020355,-0.43050000071525574,-0.42119210958480835,-0.4151625633239746,-0.4111034572124481,-0.40789783000946045,-0.40453779697418213,-0.3997388482093811,-0.39151817560195923,-0.37755903601646423,-0.35787901282310486,-0.3359907269477844,-0.3067675232887268,-0.26091626286506653,-0.19061419367790222,-0.09057877212762833,0.04181953892111778,0.20536908507347107,0.40613213181495667,0.6686915159225464,0.9459869265556335,1.1321381330490112,1.2288548946380615,1.2769732475280762,1.2905464172363281,1.2614799737930298,1.1794028282165527,1.0424944162368774,0.8590342402458191,0.6584531664848328,0.491473525762558,0.341368168592453,0.17646895349025726,0.0032242087181657553,-0.15710419416427612,-0.2936152219772339,-0.40400731563568115,-0.48075777292251587,-0.5221592783927917,-0.535208523273468,-0.5298314094543457,-0.5145511627197266,-0.49530234932899475,-0.4757913053035736,-0.4581400454044342,-0.4433840811252594,-0.43181467056274414,-0.4232398569583893,-0.41720059514045715,-0.413141667842865,-0.41052892804145813,-0.3859078586101532,-0.26456913352012634,-0.03116696886718273,0.2619759142398834,0.5788013339042664,0.9336839914321899,1.2857112884521484,1.5439400672912598,1.6443631649017334,1.6217539310455322,1.5279831886291504,1.385973334312439,1.201270580291748,0.9796735644340515,0.7331913113594055,0.48983272910118103,0.29484087228775024,0.1338651329278946,-0.020747877657413483,-0.16646362841129303,-0.2900587022304535,-0.38397035002708435,-0.4479014575481415,-0.485870361328125,-0.5035108327865601,-0.5065287947654724,-0.4999247193336487,-0.48771655559539795,-0.4733099341392517,-0.4591017961502075,-0.4464156925678253,-0.435813844203949,-0.42739734053611755,-0.4210028648376465,-0.41632938385009766,-0.41303038597106934,-0.4107736647129059,-0.40927284955978394,-0.4082995355129242,-0.40768226981163025,-0.4072987139225006,-0.40706485509872437,-0.40692490339279175,-0.4068426191806793,-0.4067951440811157],\"type\":\"scatter\"},{\"name\":\"DN model (R2=0.70)\",\"y\":[-0.42495638132095337,-0.4249802529811859,-0.4249937832355499,-0.4250010848045349,-0.42500510811805725,-0.42500707507133484,-0.425008088350296,-0.42500874400138855,-0.4250088930130005,-0.4250089228153229,-0.42500898241996765,-0.4250089228153229,-0.4250091016292572,-0.4250091016292572,-0.4250091314315796,-0.4250091016292572,-0.4250091314315796,-0.4250091016292572,-0.4250091016292572,-0.41839808225631714,-0.3849136531352997,-0.32196786999702454,-0.23776838183403015,-0.13459882140159607,-0.006708445958793163,0.13983583450317383,0.2765852212905884,0.41226887702941895,0.5658255219459534,0.738725483417511,0.9159925580024719,1.0752278566360474,1.1937991380691528,1.2533466815948486,1.2566354274749756,1.2366282939910889,1.173929214477539,1.0371922254562378,0.8374729752540588,0.6057373881340027,0.3699371814727783,0.15015339851379395,-0.04043436422944069,-0.19445984065532684,-0.30797111988067627,-0.3790135979652405,-0.4165201485157013,-0.4328911602497101,-0.4377596378326416,-0.43532076478004456,-0.4283878803253174,-0.42363736033439636,-0.4286249876022339,-0.4386790692806244,-0.4468208849430084,-0.45055216550827026,-0.45057228207588196,-0.44836634397506714,-0.44510090351104736,-0.4414883852005005,-0.43794798851013184,-0.43474021553993225,-0.43201929330825806,-0.42984917759895325,-0.42821580171585083,-0.42705148458480835,-0.42626214027404785,-0.42311519384384155,-0.4101150929927826,-0.38937830924987793,-0.3690028786659241,-0.3533174395561218,-0.3413475453853607,-0.33313870429992676,-0.33016037940979004,-0.3306770920753479,-0.33160215616226196,-0.33032429218292236,-0.3245009779930115,-0.31133291125297546,-0.2870752215385437,-0.24727971851825714,-0.18662691116333008,-0.09688985347747803,0.01792209967970848,0.1333158016204834,0.25873494148254395,0.41252440214157104,0.5974158644676208,0.8008432984352112,1.0017415285110474,1.1761447191238403,1.310570240020752,1.415726900100708,1.4810000658035278,1.4689539670944214,1.3518491983413696,1.1502602100372314,0.8979575037956238,0.5957821011543274,0.2280428409576416,-0.12570279836654663,-0.39049389958381653,-0.5512205362319946,-0.6288365125656128,-0.651189923286438,-0.6406242847442627,-0.6125636100769043,-0.577326238155365,-0.5417143106460571,-0.5098708868026733,-0.48381686210632324,-0.4639846980571747,-0.44979429244995117,-0.4401777386665344,-0.43127158284187317,-0.4144045114517212,-0.390719473361969,-0.36740541458129883,-0.3477689325809479,-0.32955124974250793,-0.3103443682193756,-0.29005640745162964,-0.270835816860199,-0.24607118964195251,-0.20550042390823364,-0.14070039987564087,-0.04593256488442421,0.08182168006896973,0.24185168743133545,0.4330741763114929,0.6586772799491882,0.8888878226280212,1.0625841617584229,1.177910566329956,1.2521014213562012,1.2855663299560547,1.2675960063934326,1.1899104118347168,1.0535118579864502,0.8690055012702942,0.6629487872123718,0.47689127922058105,0.3081039786338806,0.14286738634109497,-0.015546771697700024,-0.15636399388313293,-0.2778851389884949,-0.38690850138664246,-0.47193676233291626,-0.5234853029251099,-0.5446224808692932,-0.5447058081626892,-0.5328661203384399,-0.5156568884849548,-0.4971781075000763,-0.47981858253479004,-0.46484795212745667,-0.45277830958366394,-0.4436025619506836,-0.4369892477989197,-0.4324512183666229,-0.429475337266922,-0.39958441257476807,-0.2587871551513672,-0.008115353994071484,0.2919809818267822,0.5989779829978943,0.9058712124824524,1.1896132230758667,1.403001308441162,1.5111371278762817,1.5283174514770508,1.4769526720046997,1.366606593132019,1.202021598815918,0.9924220442771912,0.7532963156700134,0.5116842985153198,0.3061601519584656,0.13345867395401,-0.020694319158792496,-0.1559416651725769,-0.2662311792373657,-0.3481466770172119,-0.40254294872283936,-0.43337011337280273,-0.44597092270851135,-0.44577556848526,-0.4369361400604248,-0.4217134118080139,-0.4045354723930359,-0.3903743028640747,-0.38003724813461304,-0.37312090396881104,-0.3732893764972687,-0.3855820596218109,-0.4036426544189453,-0.41945624351501465,-0.4299394190311432,-0.43554195761680603,-0.43772977590560913,-0.4377845525741577,-0.43659278750419617,-0.43476012349128723,-0.432719886302948,-0.43077290058135986,-0.4291004538536072],\"type\":\"scatter\"}],                        {\"template\":{\"data\":{\"histogram2dcontour\":[{\"type\":\"histogram2dcontour\",\"colorbar\":{\"outlinewidth\":0,\"ticks\":\"\"},\"colorscale\":[[0.0,\"#0d0887\"],[0.1111111111111111,\"#46039f\"],[0.2222222222222222,\"#7201a8\"],[0.3333333333333333,\"#9c179e\"],[0.4444444444444444,\"#bd3786\"],[0.5555555555555556,\"#d8576b\"],[0.6666666666666666,\"#ed7953\"],[0.7777777777777778,\"#fb9f3a\"],[0.8888888888888888,\"#fdca26\"],[1.0,\"#f0f921\"]]}],\"choropleth\":[{\"type\":\"choropleth\",\"colorbar\":{\"outlinewidth\":0,\"ticks\":\"\"}}],\"histogram2d\":[{\"type\":\"histogram2d\",\"colorbar\":{\"outlinewidth\":0,\"ticks\":\"\"},\"colorscale\":[[0.0,\"#0d0887\"],[0.1111111111111111,\"#46039f\"],[0.2222222222222222,\"#7201a8\"],[0.3333333333333333,\"#9c179e\"],[0.4444444444444444,\"#bd3786\"],[0.5555555555555556,\"#d8576b\"],[0.6666666666666666,\"#ed7953\"],[0.7777777777777778,\"#fb9f3a\"],[0.8888888888888888,\"#fdca26\"],[1.0,\"#f0f921\"]]}],\"heatmap\":[{\"type\":\"heatmap\",\"colorbar\":{\"outlinewidth\":0,\"ticks\":\"\"},\"colorscale\":[[0.0,\"#0d0887\"],[0.1111111111111111,\"#46039f\"],[0.2222222222222222,\"#7201a8\"],[0.3333333333333333,\"#9c179e\"],[0.4444444444444444,\"#bd3786\"],[0.5555555555555556,\"#d8576b\"],[0.6666666666666666,\"#ed7953\"],[0.7777777777777778,\"#fb9f3a\"],[0.8888888888888888,\"#fdca26\"],[1.0,\"#f0f921\"]]}],\"heatmapgl\":[{\"type\":\"heatmapgl\",\"colorbar\":{\"outlinewidth\":0,\"ticks\":\"\"},\"colorscale\":[[0.0,\"#0d0887\"],[0.1111111111111111,\"#46039f\"],[0.2222222222222222,\"#7201a8\"],[0.3333333333333333,\"#9c179e\"],[0.4444444444444444,\"#bd3786\"],[0.5555555555555556,\"#d8576b\"],[0.6666666666666666,\"#ed7953\"],[0.7777777777777778,\"#fb9f3a\"],[0.8888888888888888,\"#fdca26\"],[1.0,\"#f0f921\"]]}],\"contourcarpet\":[{\"type\":\"contourcarpet\",\"colorbar\":{\"outlinewidth\":0,\"ticks\":\"\"}}],\"contour\":[{\"type\":\"contour\",\"colorbar\":{\"outlinewidth\":0,\"ticks\":\"\"},\"colorscale\":[[0.0,\"#0d0887\"],[0.1111111111111111,\"#46039f\"],[0.2222222222222222,\"#7201a8\"],[0.3333333333333333,\"#9c179e\"],[0.4444444444444444,\"#bd3786\"],[0.5555555555555556,\"#d8576b\"],[0.6666666666666666,\"#ed7953\"],[0.7777777777777778,\"#fb9f3a\"],[0.8888888888888888,\"#fdca26\"],[1.0,\"#f0f921\"]]}],\"surface\":[{\"type\":\"surface\",\"colorbar\":{\"outlinewidth\":0,\"ticks\":\"\"},\"colorscale\":[[0.0,\"#0d0887\"],[0.1111111111111111,\"#46039f\"],[0.2222222222222222,\"#7201a8\"],[0.3333333333333333,\"#9c179e\"],[0.4444444444444444,\"#bd3786\"],[0.5555555555555556,\"#d8576b\"],[0.6666666666666666,\"#ed7953\"],[0.7777777777777778,\"#fb9f3a\"],[0.8888888888888888,\"#fdca26\"],[1.0,\"#f0f921\"]]}],\"mesh3d\":[{\"type\":\"mesh3d\",\"colorbar\":{\"outlinewidth\":0,\"ticks\":\"\"}}],\"scatter\":[{\"fillpattern\":{\"fillmode\":\"overlay\",\"size\":10,\"solidity\":0.2},\"type\":\"scatter\"}],\"parcoords\":[{\"type\":\"parcoords\",\"line\":{\"colorbar\":{\"outlinewidth\":0,\"ticks\":\"\"}}}],\"scatterpolargl\":[{\"type\":\"scatterpolargl\",\"marker\":{\"colorbar\":{\"outlinewidth\":0,\"ticks\":\"\"}}}],\"bar\":[{\"error_x\":{\"color\":\"#2a3f5f\"},\"error_y\":{\"color\":\"#2a3f5f\"},\"marker\":{\"line\":{\"color\":\"#E5ECF6\",\"width\":0.5},\"pattern\":{\"fillmode\":\"overlay\",\"size\":10,\"solidity\":0.2}},\"type\":\"bar\"}],\"scattergeo\":[{\"type\":\"scattergeo\",\"marker\":{\"colorbar\":{\"outlinewidth\":0,\"ticks\":\"\"}}}],\"scatterpolar\":[{\"type\":\"scatterpolar\",\"marker\":{\"colorbar\":{\"outlinewidth\":0,\"ticks\":\"\"}}}],\"histogram\":[{\"marker\":{\"pattern\":{\"fillmode\":\"overlay\",\"size\":10,\"solidity\":0.2}},\"type\":\"histogram\"}],\"scattergl\":[{\"type\":\"scattergl\",\"marker\":{\"colorbar\":{\"outlinewidth\":0,\"ticks\":\"\"}}}],\"scatter3d\":[{\"type\":\"scatter3d\",\"line\":{\"colorbar\":{\"outlinewidth\":0,\"ticks\":\"\"}},\"marker\":{\"colorbar\":{\"outlinewidth\":0,\"ticks\":\"\"}}}],\"scattermapbox\":[{\"type\":\"scattermapbox\",\"marker\":{\"colorbar\":{\"outlinewidth\":0,\"ticks\":\"\"}}}],\"scatterternary\":[{\"type\":\"scatterternary\",\"marker\":{\"colorbar\":{\"outlinewidth\":0,\"ticks\":\"\"}}}],\"scattercarpet\":[{\"type\":\"scattercarpet\",\"marker\":{\"colorbar\":{\"outlinewidth\":0,\"ticks\":\"\"}}}],\"carpet\":[{\"aaxis\":{\"endlinecolor\":\"#2a3f5f\",\"gridcolor\":\"white\",\"linecolor\":\"white\",\"minorgridcolor\":\"white\",\"startlinecolor\":\"#2a3f5f\"},\"baxis\":{\"endlinecolor\":\"#2a3f5f\",\"gridcolor\":\"white\",\"linecolor\":\"white\",\"minorgridcolor\":\"white\",\"startlinecolor\":\"#2a3f5f\"},\"type\":\"carpet\"}],\"table\":[{\"cells\":{\"fill\":{\"color\":\"#EBF0F8\"},\"line\":{\"color\":\"white\"}},\"header\":{\"fill\":{\"color\":\"#C8D4E3\"},\"line\":{\"color\":\"white\"}},\"type\":\"table\"}],\"barpolar\":[{\"marker\":{\"line\":{\"color\":\"#E5ECF6\",\"width\":0.5},\"pattern\":{\"fillmode\":\"overlay\",\"size\":10,\"solidity\":0.2}},\"type\":\"barpolar\"}],\"pie\":[{\"automargin\":true,\"type\":\"pie\"}]},\"layout\":{\"autotypenumbers\":\"strict\",\"colorway\":[\"#636efa\",\"#EF553B\",\"#00cc96\",\"#ab63fa\",\"#FFA15A\",\"#19d3f3\",\"#FF6692\",\"#B6E880\",\"#FF97FF\",\"#FECB52\"],\"font\":{\"color\":\"#2a3f5f\"},\"hovermode\":\"closest\",\"hoverlabel\":{\"align\":\"left\"},\"paper_bgcolor\":\"white\",\"plot_bgcolor\":\"#E5ECF6\",\"polar\":{\"bgcolor\":\"#E5ECF6\",\"angularaxis\":{\"gridcolor\":\"white\",\"linecolor\":\"white\",\"ticks\":\"\"},\"radialaxis\":{\"gridcolor\":\"white\",\"linecolor\":\"white\",\"ticks\":\"\"}},\"ternary\":{\"bgcolor\":\"#E5ECF6\",\"aaxis\":{\"gridcolor\":\"white\",\"linecolor\":\"white\",\"ticks\":\"\"},\"baxis\":{\"gridcolor\":\"white\",\"linecolor\":\"white\",\"ticks\":\"\"},\"caxis\":{\"gridcolor\":\"white\",\"linecolor\":\"white\",\"ticks\":\"\"}},\"coloraxis\":{\"colorbar\":{\"outlinewidth\":0,\"ticks\":\"\"}},\"colorscale\":{\"sequential\":[[0.0,\"#0d0887\"],[0.1111111111111111,\"#46039f\"],[0.2222222222222222,\"#7201a8\"],[0.3333333333333333,\"#9c179e\"],[0.4444444444444444,\"#bd3786\"],[0.5555555555555556,\"#d8576b\"],[0.6666666666666666,\"#ed7953\"],[0.7777777777777778,\"#fb9f3a\"],[0.8888888888888888,\"#fdca26\"],[1.0,\"#f0f921\"]],\"sequentialminus\":[[0.0,\"#0d0887\"],[0.1111111111111111,\"#46039f\"],[0.2222222222222222,\"#7201a8\"],[0.3333333333333333,\"#9c179e\"],[0.4444444444444444,\"#bd3786\"],[0.5555555555555556,\"#d8576b\"],[0.6666666666666666,\"#ed7953\"],[0.7777777777777778,\"#fb9f3a\"],[0.8888888888888888,\"#fdca26\"],[1.0,\"#f0f921\"]],\"diverging\":[[0,\"#8e0152\"],[0.1,\"#c51b7d\"],[0.2,\"#de77ae\"],[0.3,\"#f1b6da\"],[0.4,\"#fde0ef\"],[0.5,\"#f7f7f7\"],[0.6,\"#e6f5d0\"],[0.7,\"#b8e186\"],[0.8,\"#7fbc41\"],[0.9,\"#4d9221\"],[1,\"#276419\"]]},\"xaxis\":{\"gridcolor\":\"white\",\"linecolor\":\"white\",\"ticks\":\"\",\"title\":{\"standoff\":15},\"zerolinecolor\":\"white\",\"automargin\":true,\"zerolinewidth\":2},\"yaxis\":{\"gridcolor\":\"white\",\"linecolor\":\"white\",\"ticks\":\"\",\"title\":{\"standoff\":15},\"zerolinecolor\":\"white\",\"automargin\":true,\"zerolinewidth\":2},\"scene\":{\"xaxis\":{\"backgroundcolor\":\"#E5ECF6\",\"gridcolor\":\"white\",\"linecolor\":\"white\",\"showbackground\":true,\"ticks\":\"\",\"zerolinecolor\":\"white\",\"gridwidth\":2},\"yaxis\":{\"backgroundcolor\":\"#E5ECF6\",\"gridcolor\":\"white\",\"linecolor\":\"white\",\"showbackground\":true,\"ticks\":\"\",\"zerolinecolor\":\"white\",\"gridwidth\":2},\"zaxis\":{\"backgroundcolor\":\"#E5ECF6\",\"gridcolor\":\"white\",\"linecolor\":\"white\",\"showbackground\":true,\"ticks\":\"\",\"zerolinecolor\":\"white\",\"gridwidth\":2}},\"shapedefaults\":{\"line\":{\"color\":\"#2a3f5f\"}},\"annotationdefaults\":{\"arrowcolor\":\"#2a3f5f\",\"arrowhead\":0,\"arrowwidth\":1},\"geo\":{\"bgcolor\":\"white\",\"landcolor\":\"#E5ECF6\",\"subunitcolor\":\"white\",\"showland\":true,\"showlakes\":true,\"lakecolor\":\"white\"},\"title\":{\"x\":0.05},\"mapbox\":{\"style\":\"light\"}}}},                        {\"responsive\": true}                    ).then(function(){\n",
       "                            \n",
       "var gd = document.getElementById('fcf15664-a3fb-435c-828e-d4db687c8e13');\n",
       "var x = new MutationObserver(function (mutations, observer) {{\n",
       "        var display = window.getComputedStyle(gd).display;\n",
       "        if (!display || display === 'none') {{\n",
       "            console.log([gd, 'removed!']);\n",
       "            Plotly.purge(gd);\n",
       "            observer.disconnect();\n",
       "        }}\n",
       "}});\n",
       "\n",
       "// Listen for the removal of the full notebook cells\n",
       "var notebookContainer = gd.closest('#notebook-container');\n",
       "if (notebookContainer) {{\n",
       "    x.observe(notebookContainer, {childList: true});\n",
       "}}\n",
       "\n",
       "// Listen for the clearing of the current output cell\n",
       "var outputEl = gd.closest('.output');\n",
       "if (outputEl) {{\n",
       "    x.observe(outputEl, {childList: true});\n",
       "}}\n",
       "\n",
       "                        })                };                });            </script>        </div>"
      ]
     },
     "metadata": {},
     "output_type": "display_data"
    },
    {
     "name": "stdout",
     "output_type": "stream",
     "text": [
      "Performing unbounded, unconstrained minimization (Powell).\n",
      "Optimization terminated successfully.\n",
      "         Current function value: 36.867584\n",
      "         Iterations: 10\n",
      "         Function evaluations: 1571\n",
      "Performing unbounded, unconstrained minimization (Powell).\n",
      "Optimization terminated successfully.\n",
      "         Current function value: 38.234535\n",
      "         Iterations: 11\n",
      "         Function evaluations: 1663\n",
      "Performing unbounded, unconstrained minimization (Powell).\n",
      "Optimization terminated successfully.\n",
      "         Current function value: 37.793526\n",
      "         Iterations: 7\n",
      "         Function evaluations: 1047\n",
      "Performing unbounded, unconstrained minimization (Powell).\n",
      "Optimization terminated successfully.\n",
      "         Current function value: 34.419258\n",
      "         Iterations: 9\n",
      "         Function evaluations: 1337\n",
      "Performing unbounded, unconstrained minimization (Powell).\n",
      "Optimization terminated successfully.\n",
      "         Current function value: 38.982536\n",
      "         Iterations: 12\n",
      "         Function evaluations: 1855\n",
      "Performing unbounded, unconstrained minimization (Powell).\n",
      "Optimization terminated successfully.\n",
      "         Current function value: 36.172955\n",
      "         Iterations: 6\n",
      "         Function evaluations: 878\n",
      "Performing unbounded, unconstrained minimization (Powell).\n",
      "Optimization terminated successfully.\n",
      "         Current function value: 35.941597\n",
      "         Iterations: 11\n",
      "         Function evaluations: 1701\n",
      "Performing unbounded, unconstrained minimization (Powell).\n",
      "Optimization terminated successfully.\n",
      "         Current function value: 37.548611\n",
      "         Iterations: 10\n",
      "         Function evaluations: 1449\n",
      "Performing unbounded, unconstrained minimization (Powell).\n",
      "Optimization terminated successfully.\n",
      "         Current function value: 34.576813\n",
      "         Iterations: 11\n",
      "         Function evaluations: 1715\n",
      "Performing unbounded, unconstrained minimization (Powell).\n",
      "Optimization terminated successfully.\n",
      "         Current function value: 32.242844\n",
      "         Iterations: 7\n",
      "         Function evaluations: 1098\n"
     ]
    }
   ],
   "source": [
    "num_vert = 9\n",
    "import plotly.graph_objects as go\n",
    "fig = go.Figure()\n",
    "fig.add_trace(go.Scatter(y=data_fsnative_[:,num_vert], name='data', mode='markers'))\n",
    "fig.add_trace(go.Scatter(y=gauss_pred_mat[:,num_vert], name='Gauss model (R2={:1.2f})'.format(gauss_fit_mat[num_vert,-1])))\n",
    "fig.add_trace(go.Scatter(y=dn_pred_mat[:,num_vert], name='DN model (R2={:1.2f})'.format(dn_fit_mat[num_vert,-1])))\n",
    "fig.show()"
   ]
  },
  {
   "cell_type": "code",
   "execution_count": null,
   "id": "3b7b272e-9258-4c79-b72d-0fcf7faaf561",
   "metadata": {},
   "outputs": [],
   "source": []
  }
 ],
 "metadata": {
  "kernelspec": {
   "display_name": "Python 3 (ipykernel)",
   "language": "python",
   "name": "python3"
  },
  "language_info": {
   "codemirror_mode": {
    "name": "ipython",
    "version": 3
   },
   "file_extension": ".py",
   "mimetype": "text/x-python",
   "name": "python",
   "nbconvert_exporter": "python",
   "pygments_lexer": "ipython3",
   "version": "3.9.13"
  }
 },
 "nbformat": 4,
 "nbformat_minor": 5
}
