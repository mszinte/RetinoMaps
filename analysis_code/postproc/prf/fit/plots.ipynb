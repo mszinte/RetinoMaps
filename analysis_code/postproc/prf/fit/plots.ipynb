{
 "cells": [
  {
   "cell_type": "code",
   "execution_count": 1,
   "id": "260342b1-f9a5-428b-9938-03a6bcdc2314",
   "metadata": {},
   "outputs": [],
   "source": [
    "import sys, os\n",
    "import numpy as np\n",
    "import glob\n",
    "import datetime\n",
    "import json\n",
    "import ipdb\n",
    "import plotly.graph_objects as go\n",
    "import random\n",
    "import importlib\n",
    "import cortex\n",
    "\n",
    "import sys\n",
    "sys.path.append(\"{}/../../../utils\".format(os.getcwd()))\n",
    "from pycortex_utils import set_pycortex_config_file\n",
    "from surface_utils import make_surface_image , load_surface"
   ]
  },
  {
   "cell_type": "code",
   "execution_count": 2,
   "id": "f22e60d0-e4da-489c-9878-a7d3eaba7393",
   "metadata": {},
   "outputs": [],
   "source": [
    "# data filenames and folder\n",
    "subject = 'sub-02'\n",
    "rois = ['occ', 'par', 'frt']\n",
    "grid_place = 0\n",
    "no_bd = 1\n",
    "\n",
    "#main_dir = '/Users/uriel/disks/meso_shared'\n",
    "main_dir = '/home/mszinte/disks/meso_S/data/'\n",
    "project_dir = 'RetinoMaps'\n",
    "subject = 'sub-02'\n",
    "gii_file = 'sub-02_task-pRF_hemi-L_fmriprep_dct_avg_bold.func.gii'\n",
    "\n",
    "cortex_dir = \"{}/{}/derivatives/pp_data/cortex\".format(main_dir, project_dir)\n",
    "data_path = '{}/{}/derivatives/pp_data/sub-02/prf/fit/test'.format(main_dir, project_dir)\n",
    "input_fn_fsnative = '{}/{}/derivatives/pp_data/{}/func/fmriprep_dct_avg/fsnative/{}'.format(\n",
    "    main_dir, project_dir, subject, gii_file)\n",
    "prf_fit_test_dir = \"{}/{}/derivatives/pp_data/{}/prf/fit/test\".format(\n",
    "    main_dir, project_dir, subject)"
   ]
  },
  {
   "cell_type": "code",
   "execution_count": 3,
   "id": "e58bc334-434d-47ef-9c14-709d3a1ba65c",
   "metadata": {},
   "outputs": [
    {
     "data": {
      "text/plain": [
       "<module 'cortex' from '/home/mszinte/env/anaconda3/envs/mszinte/lib/python3.9/site-packages/cortex/__init__.py'>"
      ]
     },
     "execution_count": 3,
     "metadata": {},
     "output_type": "execute_result"
    }
   ],
   "source": [
    "set_pycortex_config_file(cortex_dir)\n",
    "importlib.reload(cortex)"
   ]
  },
  {
   "cell_type": "code",
   "execution_count": 4,
   "id": "7a603c39-30c2-4f45-a0a0-f234a2b9f013",
   "metadata": {},
   "outputs": [],
   "source": [
    "# load arrays\n",
    "gauss_fit_mat_repeat = np.load(file='{}/{}_gauss_fit_mat_repeat.npy'.format(\n",
    "    prf_fit_test_dir, subject))\n",
    "gauss_pred_mat_repeat = np.load(file='{}/{}_gauss_pred_mat_repeat.npy'.format(\n",
    "    prf_fit_test_dir, subject))\n",
    "gauss_duration_repeat = np.load(file='{}/{}_gauss_duration_repeat.npy'.format(\n",
    "    prf_fit_test_dir, subject))\n",
    "\n",
    "# Load fsnative data \n",
    "data_img_fsnative, data_fsnative = load_surface(input_fn_fsnative)\n",
    "\n"
   ]
  },
  {
   "cell_type": "code",
   "execution_count": 5,
   "id": "e0cc6d66-20fd-4d51-a062-766900c41f56",
   "metadata": {},
   "outputs": [],
   "source": [
    "roi_verts = cortex.get_roi_verts(subject=subject, \n",
    "                                 roi=rois, \n",
    "                                 mask=True)"
   ]
  },
  {
   "cell_type": "code",
   "execution_count": 6,
   "id": "3bc91ab3-40e8-4f65-9893-dd49e0b800c8",
   "metadata": {},
   "outputs": [],
   "source": [
    "# Get corresponding vertices\n",
    "vert_mask_occ = roi_verts['occ']\n",
    "vert_num_occ = np.sum(vert_mask_occ)\n",
    "vert_mask_par = roi_verts['par']\n",
    "vert_num_par = np.sum(vert_mask_par)\n",
    "vert_mask_frt = roi_verts['frt']\n",
    "vert_num_frt = np.sum(vert_mask_frt)\n",
    "\n",
    "vert_mask = dict(occ=[0, vert_num_occ],\n",
    "                 par=[vert_num_occ, vert_num_occ + vert_num_par],\n",
    "                 frt=[vert_num_occ + vert_num_par, vert_num_occ + vert_num_par + vert_num_frt])\n",
    "\n",
    "\n",
    "# number of repeat of fit\n",
    "n_repeat = gauss_fit_mat_repeat.shape[2]-2"
   ]
  },
  {
   "cell_type": "code",
   "execution_count": 7,
   "id": "46dc61bc-47a9-418d-891d-df4be807afe6",
   "metadata": {},
   "outputs": [],
   "source": [
    "roi = 'occ'\n",
    "df_roi = gauss_fit_mat_repeat[vert_mask[roi][0]:vert_mask[roi][1]:,:,:]\n",
    "\n",
    "r2_mean = df_roi[:,-1,2:]\n",
    "r2_mean =np.mean(df_roi[:,-1,2:],axis=0)\n",
    "r2_grid_mean = np.mean(df_roi[:,-1,grid_place])\n",
    "r2_bd_mean = np.mean(df_roi[:,-1,no_bd])"
   ]
  },
  {
   "cell_type": "markdown",
   "id": "dc9b8fbf-a395-4a67-8fd0-714bb80746dc",
   "metadata": {},
   "source": [
    "# Figure 1"
   ]
  },
  {
   "cell_type": "code",
   "execution_count": 13,
   "id": "0b1743dc-4052-4e13-a5ac-a29fa37f341e",
   "metadata": {},
   "outputs": [
    {
     "data": {
      "application/vnd.plotly.v1+json": {
       "config": {
        "plotlyServerURL": "https://plot.ly"
       },
       "data": [
        {
         "line": {
          "color": "rgb(242, 183, 1)"
         },
         "mode": "markers",
         "name": "Iterative with bound occ",
         "showlegend": true,
         "type": "scatter",
         "x": [
          1,
          2,
          3,
          4
         ],
         "y": [
          0.35028435638944533,
          0.3520445382928321,
          0.35269683541543684,
          0.35338695199386805
         ]
        },
        {
         "line": {
          "color": "rgb(57, 105, 172)"
         },
         "mode": "markers",
         "name": "Iterative with bound par",
         "showlegend": true,
         "type": "scatter",
         "x": [
          1,
          2,
          3,
          4
         ],
         "y": [
          0.20382455858108062,
          0.2044432153811764,
          0.20464047147978318,
          0.20502781674253778
         ]
        },
        {
         "line": {
          "color": "rgb(17, 165, 121)"
         },
         "mode": "markers",
         "name": "Iterative with bound frt",
         "showlegend": true,
         "type": "scatter",
         "x": [
          1,
          2,
          3,
          4
         ],
         "y": [
          0.1821510027465789,
          0.18240768853537903,
          0.18250073653353316,
          0.18259539974209277
         ]
        },
        {
         "line": {
          "color": "black",
          "dash": "solid",
          "width": 2
         },
         "mode": "lines",
         "name": "Grid result",
         "type": "scatter",
         "x": [
          null
         ],
         "y": [
          null
         ]
        },
        {
         "line": {
          "color": "black",
          "dash": "dot",
          "width": 2
         },
         "mode": "lines",
         "name": "Iterativ without bounds",
         "type": "scatter",
         "x": [
          null
         ],
         "y": [
          null
         ]
        }
       ],
       "layout": {
        "autosize": true,
        "shapes": [
         {
          "line": {
           "color": "rgb(242, 183, 1)",
           "dash": "dot",
           "width": 2
          },
          "name": "R2 without bound",
          "type": "line",
          "x0": 0,
          "x1": 5,
          "y0": 0.4363286365316587,
          "y1": 0.4363286365316587
         },
         {
          "line": {
           "color": "rgb(242, 183, 1)",
           "dash": "solid",
           "width": 2
          },
          "name": "R2 grid",
          "type": "line",
          "x0": 0,
          "x1": 5,
          "y0": 0.3937535019336556,
          "y1": 0.3937535019336556
         },
         {
          "line": {
           "color": "rgb(57, 105, 172)",
           "dash": "dot",
           "width": 2
          },
          "name": "R2 without bound",
          "type": "line",
          "x0": 0,
          "x1": 5,
          "y0": 0.29659824687276837,
          "y1": 0.29659824687276837
         },
         {
          "line": {
           "color": "rgb(57, 105, 172)",
           "dash": "solid",
           "width": 2
          },
          "name": "R2 grid",
          "type": "line",
          "x0": 0,
          "x1": 5,
          "y0": 0.2519720919351597,
          "y1": 0.2519720919351597
         },
         {
          "line": {
           "color": "rgb(17, 165, 121)",
           "dash": "dot",
           "width": 2
          },
          "name": "R2 without bound",
          "type": "line",
          "x0": 0,
          "x1": 5,
          "y0": 0.24199111820006783,
          "y1": 0.24199111820006783
         },
         {
          "line": {
           "color": "rgb(17, 165, 121)",
           "dash": "solid",
           "width": 2
          },
          "name": "R2 grid",
          "type": "line",
          "x0": 0,
          "x1": 5,
          "y0": 0.19862779877261227,
          "y1": 0.19862779877261227
         }
        ],
        "template": {
         "data": {
          "bar": [
           {
            "error_x": {
             "color": "rgb(36,36,36)"
            },
            "error_y": {
             "color": "rgb(36,36,36)"
            },
            "marker": {
             "line": {
              "color": "white",
              "width": 0.5
             },
             "pattern": {
              "fillmode": "overlay",
              "size": 10,
              "solidity": 0.2
             }
            },
            "type": "bar"
           }
          ],
          "barpolar": [
           {
            "marker": {
             "line": {
              "color": "white",
              "width": 0.5
             },
             "pattern": {
              "fillmode": "overlay",
              "size": 10,
              "solidity": 0.2
             }
            },
            "type": "barpolar"
           }
          ],
          "carpet": [
           {
            "aaxis": {
             "endlinecolor": "rgb(36,36,36)",
             "gridcolor": "white",
             "linecolor": "white",
             "minorgridcolor": "white",
             "startlinecolor": "rgb(36,36,36)"
            },
            "baxis": {
             "endlinecolor": "rgb(36,36,36)",
             "gridcolor": "white",
             "linecolor": "white",
             "minorgridcolor": "white",
             "startlinecolor": "rgb(36,36,36)"
            },
            "type": "carpet"
           }
          ],
          "choropleth": [
           {
            "colorbar": {
             "outlinewidth": 1,
             "tickcolor": "rgb(36,36,36)",
             "ticks": "outside"
            },
            "type": "choropleth"
           }
          ],
          "contour": [
           {
            "colorbar": {
             "outlinewidth": 1,
             "tickcolor": "rgb(36,36,36)",
             "ticks": "outside"
            },
            "colorscale": [
             [
              0,
              "#440154"
             ],
             [
              0.1111111111111111,
              "#482878"
             ],
             [
              0.2222222222222222,
              "#3e4989"
             ],
             [
              0.3333333333333333,
              "#31688e"
             ],
             [
              0.4444444444444444,
              "#26828e"
             ],
             [
              0.5555555555555556,
              "#1f9e89"
             ],
             [
              0.6666666666666666,
              "#35b779"
             ],
             [
              0.7777777777777778,
              "#6ece58"
             ],
             [
              0.8888888888888888,
              "#b5de2b"
             ],
             [
              1,
              "#fde725"
             ]
            ],
            "type": "contour"
           }
          ],
          "contourcarpet": [
           {
            "colorbar": {
             "outlinewidth": 1,
             "tickcolor": "rgb(36,36,36)",
             "ticks": "outside"
            },
            "type": "contourcarpet"
           }
          ],
          "heatmap": [
           {
            "colorbar": {
             "outlinewidth": 1,
             "tickcolor": "rgb(36,36,36)",
             "ticks": "outside"
            },
            "colorscale": [
             [
              0,
              "#440154"
             ],
             [
              0.1111111111111111,
              "#482878"
             ],
             [
              0.2222222222222222,
              "#3e4989"
             ],
             [
              0.3333333333333333,
              "#31688e"
             ],
             [
              0.4444444444444444,
              "#26828e"
             ],
             [
              0.5555555555555556,
              "#1f9e89"
             ],
             [
              0.6666666666666666,
              "#35b779"
             ],
             [
              0.7777777777777778,
              "#6ece58"
             ],
             [
              0.8888888888888888,
              "#b5de2b"
             ],
             [
              1,
              "#fde725"
             ]
            ],
            "type": "heatmap"
           }
          ],
          "heatmapgl": [
           {
            "colorbar": {
             "outlinewidth": 1,
             "tickcolor": "rgb(36,36,36)",
             "ticks": "outside"
            },
            "colorscale": [
             [
              0,
              "#440154"
             ],
             [
              0.1111111111111111,
              "#482878"
             ],
             [
              0.2222222222222222,
              "#3e4989"
             ],
             [
              0.3333333333333333,
              "#31688e"
             ],
             [
              0.4444444444444444,
              "#26828e"
             ],
             [
              0.5555555555555556,
              "#1f9e89"
             ],
             [
              0.6666666666666666,
              "#35b779"
             ],
             [
              0.7777777777777778,
              "#6ece58"
             ],
             [
              0.8888888888888888,
              "#b5de2b"
             ],
             [
              1,
              "#fde725"
             ]
            ],
            "type": "heatmapgl"
           }
          ],
          "histogram": [
           {
            "marker": {
             "line": {
              "color": "white",
              "width": 0.6
             }
            },
            "type": "histogram"
           }
          ],
          "histogram2d": [
           {
            "colorbar": {
             "outlinewidth": 1,
             "tickcolor": "rgb(36,36,36)",
             "ticks": "outside"
            },
            "colorscale": [
             [
              0,
              "#440154"
             ],
             [
              0.1111111111111111,
              "#482878"
             ],
             [
              0.2222222222222222,
              "#3e4989"
             ],
             [
              0.3333333333333333,
              "#31688e"
             ],
             [
              0.4444444444444444,
              "#26828e"
             ],
             [
              0.5555555555555556,
              "#1f9e89"
             ],
             [
              0.6666666666666666,
              "#35b779"
             ],
             [
              0.7777777777777778,
              "#6ece58"
             ],
             [
              0.8888888888888888,
              "#b5de2b"
             ],
             [
              1,
              "#fde725"
             ]
            ],
            "type": "histogram2d"
           }
          ],
          "histogram2dcontour": [
           {
            "colorbar": {
             "outlinewidth": 1,
             "tickcolor": "rgb(36,36,36)",
             "ticks": "outside"
            },
            "colorscale": [
             [
              0,
              "#440154"
             ],
             [
              0.1111111111111111,
              "#482878"
             ],
             [
              0.2222222222222222,
              "#3e4989"
             ],
             [
              0.3333333333333333,
              "#31688e"
             ],
             [
              0.4444444444444444,
              "#26828e"
             ],
             [
              0.5555555555555556,
              "#1f9e89"
             ],
             [
              0.6666666666666666,
              "#35b779"
             ],
             [
              0.7777777777777778,
              "#6ece58"
             ],
             [
              0.8888888888888888,
              "#b5de2b"
             ],
             [
              1,
              "#fde725"
             ]
            ],
            "type": "histogram2dcontour"
           }
          ],
          "mesh3d": [
           {
            "colorbar": {
             "outlinewidth": 1,
             "tickcolor": "rgb(36,36,36)",
             "ticks": "outside"
            },
            "type": "mesh3d"
           }
          ],
          "parcoords": [
           {
            "line": {
             "colorbar": {
              "outlinewidth": 1,
              "tickcolor": "rgb(36,36,36)",
              "ticks": "outside"
             }
            },
            "type": "parcoords"
           }
          ],
          "pie": [
           {
            "automargin": true,
            "type": "pie"
           }
          ],
          "scatter": [
           {
            "fillpattern": {
             "fillmode": "overlay",
             "size": 10,
             "solidity": 0.2
            },
            "type": "scatter"
           }
          ],
          "scatter3d": [
           {
            "line": {
             "colorbar": {
              "outlinewidth": 1,
              "tickcolor": "rgb(36,36,36)",
              "ticks": "outside"
             }
            },
            "marker": {
             "colorbar": {
              "outlinewidth": 1,
              "tickcolor": "rgb(36,36,36)",
              "ticks": "outside"
             }
            },
            "type": "scatter3d"
           }
          ],
          "scattercarpet": [
           {
            "marker": {
             "colorbar": {
              "outlinewidth": 1,
              "tickcolor": "rgb(36,36,36)",
              "ticks": "outside"
             }
            },
            "type": "scattercarpet"
           }
          ],
          "scattergeo": [
           {
            "marker": {
             "colorbar": {
              "outlinewidth": 1,
              "tickcolor": "rgb(36,36,36)",
              "ticks": "outside"
             }
            },
            "type": "scattergeo"
           }
          ],
          "scattergl": [
           {
            "marker": {
             "colorbar": {
              "outlinewidth": 1,
              "tickcolor": "rgb(36,36,36)",
              "ticks": "outside"
             }
            },
            "type": "scattergl"
           }
          ],
          "scattermapbox": [
           {
            "marker": {
             "colorbar": {
              "outlinewidth": 1,
              "tickcolor": "rgb(36,36,36)",
              "ticks": "outside"
             }
            },
            "type": "scattermapbox"
           }
          ],
          "scatterpolar": [
           {
            "marker": {
             "colorbar": {
              "outlinewidth": 1,
              "tickcolor": "rgb(36,36,36)",
              "ticks": "outside"
             }
            },
            "type": "scatterpolar"
           }
          ],
          "scatterpolargl": [
           {
            "marker": {
             "colorbar": {
              "outlinewidth": 1,
              "tickcolor": "rgb(36,36,36)",
              "ticks": "outside"
             }
            },
            "type": "scatterpolargl"
           }
          ],
          "scatterternary": [
           {
            "marker": {
             "colorbar": {
              "outlinewidth": 1,
              "tickcolor": "rgb(36,36,36)",
              "ticks": "outside"
             }
            },
            "type": "scatterternary"
           }
          ],
          "surface": [
           {
            "colorbar": {
             "outlinewidth": 1,
             "tickcolor": "rgb(36,36,36)",
             "ticks": "outside"
            },
            "colorscale": [
             [
              0,
              "#440154"
             ],
             [
              0.1111111111111111,
              "#482878"
             ],
             [
              0.2222222222222222,
              "#3e4989"
             ],
             [
              0.3333333333333333,
              "#31688e"
             ],
             [
              0.4444444444444444,
              "#26828e"
             ],
             [
              0.5555555555555556,
              "#1f9e89"
             ],
             [
              0.6666666666666666,
              "#35b779"
             ],
             [
              0.7777777777777778,
              "#6ece58"
             ],
             [
              0.8888888888888888,
              "#b5de2b"
             ],
             [
              1,
              "#fde725"
             ]
            ],
            "type": "surface"
           }
          ],
          "table": [
           {
            "cells": {
             "fill": {
              "color": "rgb(237,237,237)"
             },
             "line": {
              "color": "white"
             }
            },
            "header": {
             "fill": {
              "color": "rgb(217,217,217)"
             },
             "line": {
              "color": "white"
             }
            },
            "type": "table"
           }
          ]
         },
         "layout": {
          "annotationdefaults": {
           "arrowhead": 0,
           "arrowwidth": 1
          },
          "autotypenumbers": "strict",
          "coloraxis": {
           "colorbar": {
            "outlinewidth": 1,
            "tickcolor": "rgb(36,36,36)",
            "ticks": "outside"
           }
          },
          "colorscale": {
           "diverging": [
            [
             0,
             "rgb(103,0,31)"
            ],
            [
             0.1,
             "rgb(178,24,43)"
            ],
            [
             0.2,
             "rgb(214,96,77)"
            ],
            [
             0.3,
             "rgb(244,165,130)"
            ],
            [
             0.4,
             "rgb(253,219,199)"
            ],
            [
             0.5,
             "rgb(247,247,247)"
            ],
            [
             0.6,
             "rgb(209,229,240)"
            ],
            [
             0.7,
             "rgb(146,197,222)"
            ],
            [
             0.8,
             "rgb(67,147,195)"
            ],
            [
             0.9,
             "rgb(33,102,172)"
            ],
            [
             1,
             "rgb(5,48,97)"
            ]
           ],
           "sequential": [
            [
             0,
             "#440154"
            ],
            [
             0.1111111111111111,
             "#482878"
            ],
            [
             0.2222222222222222,
             "#3e4989"
            ],
            [
             0.3333333333333333,
             "#31688e"
            ],
            [
             0.4444444444444444,
             "#26828e"
            ],
            [
             0.5555555555555556,
             "#1f9e89"
            ],
            [
             0.6666666666666666,
             "#35b779"
            ],
            [
             0.7777777777777778,
             "#6ece58"
            ],
            [
             0.8888888888888888,
             "#b5de2b"
            ],
            [
             1,
             "#fde725"
            ]
           ],
           "sequentialminus": [
            [
             0,
             "#440154"
            ],
            [
             0.1111111111111111,
             "#482878"
            ],
            [
             0.2222222222222222,
             "#3e4989"
            ],
            [
             0.3333333333333333,
             "#31688e"
            ],
            [
             0.4444444444444444,
             "#26828e"
            ],
            [
             0.5555555555555556,
             "#1f9e89"
            ],
            [
             0.6666666666666666,
             "#35b779"
            ],
            [
             0.7777777777777778,
             "#6ece58"
            ],
            [
             0.8888888888888888,
             "#b5de2b"
            ],
            [
             1,
             "#fde725"
            ]
           ]
          },
          "colorway": [
           "#1F77B4",
           "#FF7F0E",
           "#2CA02C",
           "#D62728",
           "#9467BD",
           "#8C564B",
           "#E377C2",
           "#7F7F7F",
           "#BCBD22",
           "#17BECF"
          ],
          "font": {
           "color": "rgb(36,36,36)"
          },
          "geo": {
           "bgcolor": "white",
           "lakecolor": "white",
           "landcolor": "white",
           "showlakes": true,
           "showland": true,
           "subunitcolor": "white"
          },
          "hoverlabel": {
           "align": "left"
          },
          "hovermode": "closest",
          "mapbox": {
           "style": "light"
          },
          "paper_bgcolor": "white",
          "plot_bgcolor": "white",
          "polar": {
           "angularaxis": {
            "gridcolor": "rgb(232,232,232)",
            "linecolor": "rgb(36,36,36)",
            "showgrid": false,
            "showline": true,
            "ticks": "outside"
           },
           "bgcolor": "white",
           "radialaxis": {
            "gridcolor": "rgb(232,232,232)",
            "linecolor": "rgb(36,36,36)",
            "showgrid": false,
            "showline": true,
            "ticks": "outside"
           }
          },
          "scene": {
           "xaxis": {
            "backgroundcolor": "white",
            "gridcolor": "rgb(232,232,232)",
            "gridwidth": 2,
            "linecolor": "rgb(36,36,36)",
            "showbackground": true,
            "showgrid": false,
            "showline": true,
            "ticks": "outside",
            "zeroline": false,
            "zerolinecolor": "rgb(36,36,36)"
           },
           "yaxis": {
            "backgroundcolor": "white",
            "gridcolor": "rgb(232,232,232)",
            "gridwidth": 2,
            "linecolor": "rgb(36,36,36)",
            "showbackground": true,
            "showgrid": false,
            "showline": true,
            "ticks": "outside",
            "zeroline": false,
            "zerolinecolor": "rgb(36,36,36)"
           },
           "zaxis": {
            "backgroundcolor": "white",
            "gridcolor": "rgb(232,232,232)",
            "gridwidth": 2,
            "linecolor": "rgb(36,36,36)",
            "showbackground": true,
            "showgrid": false,
            "showline": true,
            "ticks": "outside",
            "zeroline": false,
            "zerolinecolor": "rgb(36,36,36)"
           }
          },
          "shapedefaults": {
           "fillcolor": "black",
           "line": {
            "width": 0
           },
           "opacity": 0.3
          },
          "ternary": {
           "aaxis": {
            "gridcolor": "rgb(232,232,232)",
            "linecolor": "rgb(36,36,36)",
            "showgrid": false,
            "showline": true,
            "ticks": "outside"
           },
           "baxis": {
            "gridcolor": "rgb(232,232,232)",
            "linecolor": "rgb(36,36,36)",
            "showgrid": false,
            "showline": true,
            "ticks": "outside"
           },
           "bgcolor": "white",
           "caxis": {
            "gridcolor": "rgb(232,232,232)",
            "linecolor": "rgb(36,36,36)",
            "showgrid": false,
            "showline": true,
            "ticks": "outside"
           }
          },
          "title": {
           "x": 0.05
          },
          "xaxis": {
           "automargin": true,
           "gridcolor": "rgb(232,232,232)",
           "linecolor": "rgb(36,36,36)",
           "showgrid": false,
           "showline": true,
           "ticks": "outside",
           "title": {
            "standoff": 15
           },
           "zeroline": false,
           "zerolinecolor": "rgb(36,36,36)"
          },
          "yaxis": {
           "automargin": true,
           "gridcolor": "rgb(232,232,232)",
           "linecolor": "rgb(36,36,36)",
           "showgrid": false,
           "showline": true,
           "ticks": "outside",
           "title": {
            "standoff": 15
           },
           "zeroline": false,
           "zerolinecolor": "rgb(36,36,36)"
          }
         }
        },
        "title": {
         "text": "Evolution of the R^2 over the repetitions of iterative fit"
        },
        "xaxis": {
         "range": [
          0,
          5
         ],
         "title": {
          "text": "Number of repetition"
         },
         "type": "linear"
        },
        "yaxis": {
         "range": [
          0,
          0.5
         ],
         "title": {
          "text": "R2"
         },
         "type": "linear"
        }
       }
      },
      "image/png": "[encoded data removed]",
      "text/html": [
       "<div>                            <div id=\"5b43da92-078b-446c-9725-c178f8e64f20\" class=\"plotly-graph-div\" style=\"height:525px; width:100%;\"></div>            <script type=\"text/javascript\">                require([\"plotly\"], function(Plotly) {                    window.PLOTLYENV=window.PLOTLYENV || {};                                    if (document.getElementById(\"5b43da92-078b-446c-9725-c178f8e64f20\")) {                    Plotly.newPlot(                        \"5b43da92-078b-446c-9725-c178f8e64f20\",                        [{\"line\":{\"color\":\"rgb(242, 183, 1)\"},\"mode\":\"markers\",\"name\":\"Iterative with bound occ\",\"showlegend\":true,\"x\":[1,2,3,4],\"y\":[0.35028435638944533,0.3520445382928321,0.35269683541543684,0.35338695199386805],\"type\":\"scatter\"},{\"line\":{\"color\":\"rgb(57, 105, 172)\"},\"mode\":\"markers\",\"name\":\"Iterative with bound par\",\"showlegend\":true,\"x\":[1,2,3,4],\"y\":[0.20382455858108062,0.2044432153811764,0.20464047147978318,0.20502781674253778],\"type\":\"scatter\"},{\"line\":{\"color\":\"rgb(17, 165, 121)\"},\"mode\":\"markers\",\"name\":\"Iterative with bound frt\",\"showlegend\":true,\"x\":[1,2,3,4],\"y\":[0.1821510027465789,0.18240768853537903,0.18250073653353316,0.18259539974209277],\"type\":\"scatter\"},{\"line\":{\"color\":\"black\",\"dash\":\"solid\",\"width\":2},\"mode\":\"lines\",\"name\":\"Grid result\",\"x\":[null],\"y\":[null],\"type\":\"scatter\"},{\"line\":{\"color\":\"black\",\"dash\":\"dot\",\"width\":2},\"mode\":\"lines\",\"name\":\"Iterativ without bounds\",\"x\":[null],\"y\":[null],\"type\":\"scatter\"}],                        {\"template\":{\"data\":{\"barpolar\":[{\"marker\":{\"line\":{\"color\":\"white\",\"width\":0.5},\"pattern\":{\"fillmode\":\"overlay\",\"size\":10,\"solidity\":0.2}},\"type\":\"barpolar\"}],\"bar\":[{\"error_x\":{\"color\":\"rgb(36,36,36)\"},\"error_y\":{\"color\":\"rgb(36,36,36)\"},\"marker\":{\"line\":{\"color\":\"white\",\"width\":0.5},\"pattern\":{\"fillmode\":\"overlay\",\"size\":10,\"solidity\":0.2}},\"type\":\"bar\"}],\"carpet\":[{\"aaxis\":{\"endlinecolor\":\"rgb(36,36,36)\",\"gridcolor\":\"white\",\"linecolor\":\"white\",\"minorgridcolor\":\"white\",\"startlinecolor\":\"rgb(36,36,36)\"},\"baxis\":{\"endlinecolor\":\"rgb(36,36,36)\",\"gridcolor\":\"white\",\"linecolor\":\"white\",\"minorgridcolor\":\"white\",\"startlinecolor\":\"rgb(36,36,36)\"},\"type\":\"carpet\"}],\"choropleth\":[{\"colorbar\":{\"outlinewidth\":1,\"tickcolor\":\"rgb(36,36,36)\",\"ticks\":\"outside\"},\"type\":\"choropleth\"}],\"contourcarpet\":[{\"colorbar\":{\"outlinewidth\":1,\"tickcolor\":\"rgb(36,36,36)\",\"ticks\":\"outside\"},\"type\":\"contourcarpet\"}],\"contour\":[{\"colorbar\":{\"outlinewidth\":1,\"tickcolor\":\"rgb(36,36,36)\",\"ticks\":\"outside\"},\"colorscale\":[[0.0,\"#440154\"],[0.1111111111111111,\"#482878\"],[0.2222222222222222,\"#3e4989\"],[0.3333333333333333,\"#31688e\"],[0.4444444444444444,\"#26828e\"],[0.5555555555555556,\"#1f9e89\"],[0.6666666666666666,\"#35b779\"],[0.7777777777777778,\"#6ece58\"],[0.8888888888888888,\"#b5de2b\"],[1.0,\"#fde725\"]],\"type\":\"contour\"}],\"heatmapgl\":[{\"colorbar\":{\"outlinewidth\":1,\"tickcolor\":\"rgb(36,36,36)\",\"ticks\":\"outside\"},\"colorscale\":[[0.0,\"#440154\"],[0.1111111111111111,\"#482878\"],[0.2222222222222222,\"#3e4989\"],[0.3333333333333333,\"#31688e\"],[0.4444444444444444,\"#26828e\"],[0.5555555555555556,\"#1f9e89\"],[0.6666666666666666,\"#35b779\"],[0.7777777777777778,\"#6ece58\"],[0.8888888888888888,\"#b5de2b\"],[1.0,\"#fde725\"]],\"type\":\"heatmapgl\"}],\"heatmap\":[{\"colorbar\":{\"outlinewidth\":1,\"tickcolor\":\"rgb(36,36,36)\",\"ticks\":\"outside\"},\"colorscale\":[[0.0,\"#440154\"],[0.1111111111111111,\"#482878\"],[0.2222222222222222,\"#3e4989\"],[0.3333333333333333,\"#31688e\"],[0.4444444444444444,\"#26828e\"],[0.5555555555555556,\"#1f9e89\"],[0.6666666666666666,\"#35b779\"],[0.7777777777777778,\"#6ece58\"],[0.8888888888888888,\"#b5de2b\"],[1.0,\"#fde725\"]],\"type\":\"heatmap\"}],\"histogram2dcontour\":[{\"colorbar\":{\"outlinewidth\":1,\"tickcolor\":\"rgb(36,36,36)\",\"ticks\":\"outside\"},\"colorscale\":[[0.0,\"#440154\"],[0.1111111111111111,\"#482878\"],[0.2222222222222222,\"#3e4989\"],[0.3333333333333333,\"#31688e\"],[0.4444444444444444,\"#26828e\"],[0.5555555555555556,\"#1f9e89\"],[0.6666666666666666,\"#35b779\"],[0.7777777777777778,\"#6ece58\"],[0.8888888888888888,\"#b5de2b\"],[1.0,\"#fde725\"]],\"type\":\"histogram2dcontour\"}],\"histogram2d\":[{\"colorbar\":{\"outlinewidth\":1,\"tickcolor\":\"rgb(36,36,36)\",\"ticks\":\"outside\"},\"colorscale\":[[0.0,\"#440154\"],[0.1111111111111111,\"#482878\"],[0.2222222222222222,\"#3e4989\"],[0.3333333333333333,\"#31688e\"],[0.4444444444444444,\"#26828e\"],[0.5555555555555556,\"#1f9e89\"],[0.6666666666666666,\"#35b779\"],[0.7777777777777778,\"#6ece58\"],[0.8888888888888888,\"#b5de2b\"],[1.0,\"#fde725\"]],\"type\":\"histogram2d\"}],\"histogram\":[{\"marker\":{\"line\":{\"color\":\"white\",\"width\":0.6}},\"type\":\"histogram\"}],\"mesh3d\":[{\"colorbar\":{\"outlinewidth\":1,\"tickcolor\":\"rgb(36,36,36)\",\"ticks\":\"outside\"},\"type\":\"mesh3d\"}],\"parcoords\":[{\"line\":{\"colorbar\":{\"outlinewidth\":1,\"tickcolor\":\"rgb(36,36,36)\",\"ticks\":\"outside\"}},\"type\":\"parcoords\"}],\"pie\":[{\"automargin\":true,\"type\":\"pie\"}],\"scatter3d\":[{\"line\":{\"colorbar\":{\"outlinewidth\":1,\"tickcolor\":\"rgb(36,36,36)\",\"ticks\":\"outside\"}},\"marker\":{\"colorbar\":{\"outlinewidth\":1,\"tickcolor\":\"rgb(36,36,36)\",\"ticks\":\"outside\"}},\"type\":\"scatter3d\"}],\"scattercarpet\":[{\"marker\":{\"colorbar\":{\"outlinewidth\":1,\"tickcolor\":\"rgb(36,36,36)\",\"ticks\":\"outside\"}},\"type\":\"scattercarpet\"}],\"scattergeo\":[{\"marker\":{\"colorbar\":{\"outlinewidth\":1,\"tickcolor\":\"rgb(36,36,36)\",\"ticks\":\"outside\"}},\"type\":\"scattergeo\"}],\"scattergl\":[{\"marker\":{\"colorbar\":{\"outlinewidth\":1,\"tickcolor\":\"rgb(36,36,36)\",\"ticks\":\"outside\"}},\"type\":\"scattergl\"}],\"scattermapbox\":[{\"marker\":{\"colorbar\":{\"outlinewidth\":1,\"tickcolor\":\"rgb(36,36,36)\",\"ticks\":\"outside\"}},\"type\":\"scattermapbox\"}],\"scatterpolargl\":[{\"marker\":{\"colorbar\":{\"outlinewidth\":1,\"tickcolor\":\"rgb(36,36,36)\",\"ticks\":\"outside\"}},\"type\":\"scatterpolargl\"}],\"scatterpolar\":[{\"marker\":{\"colorbar\":{\"outlinewidth\":1,\"tickcolor\":\"rgb(36,36,36)\",\"ticks\":\"outside\"}},\"type\":\"scatterpolar\"}],\"scatter\":[{\"fillpattern\":{\"fillmode\":\"overlay\",\"size\":10,\"solidity\":0.2},\"type\":\"scatter\"}],\"scatterternary\":[{\"marker\":{\"colorbar\":{\"outlinewidth\":1,\"tickcolor\":\"rgb(36,36,36)\",\"ticks\":\"outside\"}},\"type\":\"scatterternary\"}],\"surface\":[{\"colorbar\":{\"outlinewidth\":1,\"tickcolor\":\"rgb(36,36,36)\",\"ticks\":\"outside\"},\"colorscale\":[[0.0,\"#440154\"],[0.1111111111111111,\"#482878\"],[0.2222222222222222,\"#3e4989\"],[0.3333333333333333,\"#31688e\"],[0.4444444444444444,\"#26828e\"],[0.5555555555555556,\"#1f9e89\"],[0.6666666666666666,\"#35b779\"],[0.7777777777777778,\"#6ece58\"],[0.8888888888888888,\"#b5de2b\"],[1.0,\"#fde725\"]],\"type\":\"surface\"}],\"table\":[{\"cells\":{\"fill\":{\"color\":\"rgb(237,237,237)\"},\"line\":{\"color\":\"white\"}},\"header\":{\"fill\":{\"color\":\"rgb(217,217,217)\"},\"line\":{\"color\":\"white\"}},\"type\":\"table\"}]},\"layout\":{\"annotationdefaults\":{\"arrowhead\":0,\"arrowwidth\":1},\"autotypenumbers\":\"strict\",\"coloraxis\":{\"colorbar\":{\"outlinewidth\":1,\"tickcolor\":\"rgb(36,36,36)\",\"ticks\":\"outside\"}},\"colorscale\":{\"diverging\":[[0.0,\"rgb(103,0,31)\"],[0.1,\"rgb(178,24,43)\"],[0.2,\"rgb(214,96,77)\"],[0.3,\"rgb(244,165,130)\"],[0.4,\"rgb(253,219,199)\"],[0.5,\"rgb(247,247,247)\"],[0.6,\"rgb(209,229,240)\"],[0.7,\"rgb(146,197,222)\"],[0.8,\"rgb(67,147,195)\"],[0.9,\"rgb(33,102,172)\"],[1.0,\"rgb(5,48,97)\"]],\"sequential\":[[0.0,\"#440154\"],[0.1111111111111111,\"#482878\"],[0.2222222222222222,\"#3e4989\"],[0.3333333333333333,\"#31688e\"],[0.4444444444444444,\"#26828e\"],[0.5555555555555556,\"#1f9e89\"],[0.6666666666666666,\"#35b779\"],[0.7777777777777778,\"#6ece58\"],[0.8888888888888888,\"#b5de2b\"],[1.0,\"#fde725\"]],\"sequentialminus\":[[0.0,\"#440154\"],[0.1111111111111111,\"#482878\"],[0.2222222222222222,\"#3e4989\"],[0.3333333333333333,\"#31688e\"],[0.4444444444444444,\"#26828e\"],[0.5555555555555556,\"#1f9e89\"],[0.6666666666666666,\"#35b779\"],[0.7777777777777778,\"#6ece58\"],[0.8888888888888888,\"#b5de2b\"],[1.0,\"#fde725\"]]},\"colorway\":[\"#1F77B4\",\"#FF7F0E\",\"#2CA02C\",\"#D62728\",\"#9467BD\",\"#8C564B\",\"#E377C2\",\"#7F7F7F\",\"#BCBD22\",\"#17BECF\"],\"font\":{\"color\":\"rgb(36,36,36)\"},\"geo\":{\"bgcolor\":\"white\",\"lakecolor\":\"white\",\"landcolor\":\"white\",\"showlakes\":true,\"showland\":true,\"subunitcolor\":\"white\"},\"hoverlabel\":{\"align\":\"left\"},\"hovermode\":\"closest\",\"mapbox\":{\"style\":\"light\"},\"paper_bgcolor\":\"white\",\"plot_bgcolor\":\"white\",\"polar\":{\"angularaxis\":{\"gridcolor\":\"rgb(232,232,232)\",\"linecolor\":\"rgb(36,36,36)\",\"showgrid\":false,\"showline\":true,\"ticks\":\"outside\"},\"bgcolor\":\"white\",\"radialaxis\":{\"gridcolor\":\"rgb(232,232,232)\",\"linecolor\":\"rgb(36,36,36)\",\"showgrid\":false,\"showline\":true,\"ticks\":\"outside\"}},\"scene\":{\"xaxis\":{\"backgroundcolor\":\"white\",\"gridcolor\":\"rgb(232,232,232)\",\"gridwidth\":2,\"linecolor\":\"rgb(36,36,36)\",\"showbackground\":true,\"showgrid\":false,\"showline\":true,\"ticks\":\"outside\",\"zeroline\":false,\"zerolinecolor\":\"rgb(36,36,36)\"},\"yaxis\":{\"backgroundcolor\":\"white\",\"gridcolor\":\"rgb(232,232,232)\",\"gridwidth\":2,\"linecolor\":\"rgb(36,36,36)\",\"showbackground\":true,\"showgrid\":false,\"showline\":true,\"ticks\":\"outside\",\"zeroline\":false,\"zerolinecolor\":\"rgb(36,36,36)\"},\"zaxis\":{\"backgroundcolor\":\"white\",\"gridcolor\":\"rgb(232,232,232)\",\"gridwidth\":2,\"linecolor\":\"rgb(36,36,36)\",\"showbackground\":true,\"showgrid\":false,\"showline\":true,\"ticks\":\"outside\",\"zeroline\":false,\"zerolinecolor\":\"rgb(36,36,36)\"}},\"shapedefaults\":{\"fillcolor\":\"black\",\"line\":{\"width\":0},\"opacity\":0.3},\"ternary\":{\"aaxis\":{\"gridcolor\":\"rgb(232,232,232)\",\"linecolor\":\"rgb(36,36,36)\",\"showgrid\":false,\"showline\":true,\"ticks\":\"outside\"},\"baxis\":{\"gridcolor\":\"rgb(232,232,232)\",\"linecolor\":\"rgb(36,36,36)\",\"showgrid\":false,\"showline\":true,\"ticks\":\"outside\"},\"bgcolor\":\"white\",\"caxis\":{\"gridcolor\":\"rgb(232,232,232)\",\"linecolor\":\"rgb(36,36,36)\",\"showgrid\":false,\"showline\":true,\"ticks\":\"outside\"}},\"title\":{\"x\":0.05},\"xaxis\":{\"automargin\":true,\"gridcolor\":\"rgb(232,232,232)\",\"linecolor\":\"rgb(36,36,36)\",\"showgrid\":false,\"showline\":true,\"ticks\":\"outside\",\"title\":{\"standoff\":15},\"zeroline\":false,\"zerolinecolor\":\"rgb(36,36,36)\"},\"yaxis\":{\"automargin\":true,\"gridcolor\":\"rgb(232,232,232)\",\"linecolor\":\"rgb(36,36,36)\",\"showgrid\":false,\"showline\":true,\"ticks\":\"outside\",\"title\":{\"standoff\":15},\"zeroline\":false,\"zerolinecolor\":\"rgb(36,36,36)\"}}},\"shapes\":[{\"line\":{\"color\":\"rgb(242, 183, 1)\",\"dash\":\"dot\",\"width\":2},\"name\":\"R2 without bound\",\"type\":\"line\",\"x0\":0,\"x1\":5,\"y0\":0.4363286365316587,\"y1\":0.4363286365316587},{\"line\":{\"color\":\"rgb(242, 183, 1)\",\"dash\":\"solid\",\"width\":2},\"name\":\"R2 grid\",\"type\":\"line\",\"x0\":0,\"x1\":5,\"y0\":0.3937535019336556,\"y1\":0.3937535019336556},{\"line\":{\"color\":\"rgb(57, 105, 172)\",\"dash\":\"dot\",\"width\":2},\"name\":\"R2 without bound\",\"type\":\"line\",\"x0\":0,\"x1\":5,\"y0\":0.29659824687276837,\"y1\":0.29659824687276837},{\"line\":{\"color\":\"rgb(57, 105, 172)\",\"dash\":\"solid\",\"width\":2},\"name\":\"R2 grid\",\"type\":\"line\",\"x0\":0,\"x1\":5,\"y0\":0.2519720919351597,\"y1\":0.2519720919351597},{\"line\":{\"color\":\"rgb(17, 165, 121)\",\"dash\":\"dot\",\"width\":2},\"name\":\"R2 without bound\",\"type\":\"line\",\"x0\":0,\"x1\":5,\"y0\":0.24199111820006783,\"y1\":0.24199111820006783},{\"line\":{\"color\":\"rgb(17, 165, 121)\",\"dash\":\"solid\",\"width\":2},\"name\":\"R2 grid\",\"type\":\"line\",\"x0\":0,\"x1\":5,\"y0\":0.19862779877261227,\"y1\":0.19862779877261227}],\"title\":{\"text\":\"Evolution of the R^2 over the repetitions of iterative fit\"},\"xaxis\":{\"title\":{\"text\":\"Number of repetition\"},\"range\":[0,5]},\"yaxis\":{\"title\":{\"text\":\"R2\"},\"range\":[0,0.5]}},                        {\"responsive\": true}                    ).then(function(){\n",
       "                            \n",
       "var gd = document.getElementById('5b43da92-078b-446c-9725-c178f8e64f20');\n",
       "var x = new MutationObserver(function (mutations, observer) {{\n",
       "        var display = window.getComputedStyle(gd).display;\n",
       "        if (!display || display === 'none') {{\n",
       "            console.log([gd, 'removed!']);\n",
       "            Plotly.purge(gd);\n",
       "            observer.disconnect();\n",
       "        }}\n",
       "}});\n",
       "\n",
       "// Listen for the removal of the full notebook cells\n",
       "var notebookContainer = gd.closest('#notebook-container');\n",
       "if (notebookContainer) {{\n",
       "    x.observe(notebookContainer, {childList: true});\n",
       "}}\n",
       "\n",
       "// Listen for the clearing of the current output cell\n",
       "var outputEl = gd.closest('.output');\n",
       "if (outputEl) {{\n",
       "    x.observe(outputEl, {childList: true});\n",
       "}}\n",
       "\n",
       "                        })                };                });            </script>        </div>"
      ]
     },
     "metadata": {},
     "output_type": "display_data"
    }
   ],
   "source": [
    "fig = go.Figure()\n",
    "colors =['rgb(242, 183, 1)','rgb(57, 105, 172)','rgb(17, 165, 121)','rgb(127, 60, 141)']\n",
    "for i , roi in enumerate(rois) :\n",
    "    # select roi data \n",
    "    df_roi = gauss_fit_mat_repeat[vert_mask[roi][0]:vert_mask[roi][1]:,:,:]\n",
    "    \n",
    "    r2_mean =np.mean(df_roi[:,-1,2:],axis=0)\n",
    "    r2_grid_mean = np.mean(df_roi[:,-1,grid_place])\n",
    "    r2_bd_mean = np.mean(df_roi[:,-1,no_bd])\n",
    "    \n",
    "    # plot R2 roi\n",
    "    fig.add_trace(go.Scatter(\n",
    "        x=np.arange(0,n_repeat,1)+1,\n",
    "        y=r2_mean,\n",
    "        mode='markers',\n",
    "        name='Iterative with bound {}'.format(roi),\n",
    "        line_color=colors[i],\n",
    "        showlegend=True))\n",
    "\n",
    "    # plot r2 without bound\n",
    "    fig.add_shape(\n",
    "        type='line',\n",
    "        x0=0, y0=r2_bd_mean, x1=n_repeat+1, y1=r2_bd_mean,\n",
    "        line=dict(color=colors[i], width=2, dash='dot'),\n",
    "        name='R2 without bound')\n",
    "\n",
    "    # plot r2 grid\n",
    "    fig.add_shape(\n",
    "        type='line',\n",
    "        x0=0, y0=r2_grid_mean, x1=n_repeat+1, y1=r2_grid_mean,\n",
    "        line=dict(color=colors[i], width=2, dash='solid'), \n",
    "        name='R2 grid')\n",
    "    \n",
    "# for the legend\n",
    "fig.add_trace(go.Scatter(x=[None],\n",
    "                          y=[None],\n",
    "                          mode='lines',\n",
    "                          line=dict(color='black', width=2, dash='solid'),\n",
    "                          name='Grid result'))\n",
    "\n",
    "fig.add_trace(go.Scatter(x=[None],\n",
    "                          y=[None],\n",
    "                          mode='lines',\n",
    "                          line=dict(color='black', width=2, dash='dot'),\n",
    "                          name='Iterativ without bounds'))\n",
    "\n",
    "fig.update_layout(template='simple_white',\n",
    "                  title = 'Evolution of the R^2 over the repetitions of iterative fit',\n",
    "                  xaxis_title = 'Number of repetition',\n",
    "                  yaxis_title = 'R2'\n",
    "                 )\n",
    "\n",
    "fig.update_xaxes(range=[0,n_repeat+1])\n",
    "fig.update_yaxes(range=[0,.5])\n",
    "                 \n",
    "fig.show()\n"
   ]
  },
  {
   "cell_type": "markdown",
   "id": "0da5e84d-7114-4cba-8ab8-e94622118cbd",
   "metadata": {},
   "source": [
    "# Figure 2"
   ]
  },
  {
   "cell_type": "code",
   "execution_count": 10,
   "id": "517cf188-385a-4dc7-82ca-5f35b83c0085",
   "metadata": {},
   "outputs": [
    {
     "data": {
      "application/vnd.plotly.v1+json": {
       "config": {
        "plotlyServerURL": "https://plot.ly"
       },
       "data": [
        {
         "line": {
          "color": "rgb(17, 165, 121)"
         },
         "mode": "markers+lines",
         "name": "Iterative with bounds",
         "showlegend": true,
         "type": "scatter",
         "x": [
          1,
          2,
          3,
          4
         ],
         "y": [
          201.250186,
          113.344724,
          103.899453,
          103.4561
         ]
        },
        {
         "line": {
          "color": "blue",
          "dash": "dot",
          "width": 2
         },
         "mode": "lines",
         "name": "Grid result",
         "type": "scatter",
         "x": [
          null
         ],
         "y": [
          null
         ]
        },
        {
         "line": {
          "color": "red",
          "dash": "solid",
          "width": 2
         },
         "mode": "lines",
         "name": "Iterativ without bounds",
         "type": "scatter",
         "x": [
          null
         ],
         "y": [
          null
         ]
        }
       ],
       "layout": {
        "autosize": true,
        "shapes": [
         {
          "line": {
           "color": "blue",
           "dash": "dot",
           "width": 2
          },
          "name": "grid",
          "type": "line",
          "x0": 0,
          "x1": 5,
          "y0": 19.635772,
          "y1": 19.635772
         },
         {
          "line": {
           "color": "red",
           "dash": "solid",
           "width": 2
          },
          "name": "without bouns",
          "type": "line",
          "x0": 0,
          "x1": 5,
          "y0": 1187.138718,
          "y1": 1187.138718
         }
        ],
        "template": {
         "data": {
          "bar": [
           {
            "error_x": {
             "color": "rgb(36,36,36)"
            },
            "error_y": {
             "color": "rgb(36,36,36)"
            },
            "marker": {
             "line": {
              "color": "white",
              "width": 0.5
             },
             "pattern": {
              "fillmode": "overlay",
              "size": 10,
              "solidity": 0.2
             }
            },
            "type": "bar"
           }
          ],
          "barpolar": [
           {
            "marker": {
             "line": {
              "color": "white",
              "width": 0.5
             },
             "pattern": {
              "fillmode": "overlay",
              "size": 10,
              "solidity": 0.2
             }
            },
            "type": "barpolar"
           }
          ],
          "carpet": [
           {
            "aaxis": {
             "endlinecolor": "rgb(36,36,36)",
             "gridcolor": "white",
             "linecolor": "white",
             "minorgridcolor": "white",
             "startlinecolor": "rgb(36,36,36)"
            },
            "baxis": {
             "endlinecolor": "rgb(36,36,36)",
             "gridcolor": "white",
             "linecolor": "white",
             "minorgridcolor": "white",
             "startlinecolor": "rgb(36,36,36)"
            },
            "type": "carpet"
           }
          ],
          "choropleth": [
           {
            "colorbar": {
             "outlinewidth": 1,
             "tickcolor": "rgb(36,36,36)",
             "ticks": "outside"
            },
            "type": "choropleth"
           }
          ],
          "contour": [
           {
            "colorbar": {
             "outlinewidth": 1,
             "tickcolor": "rgb(36,36,36)",
             "ticks": "outside"
            },
            "colorscale": [
             [
              0,
              "#440154"
             ],
             [
              0.1111111111111111,
              "#482878"
             ],
             [
              0.2222222222222222,
              "#3e4989"
             ],
             [
              0.3333333333333333,
              "#31688e"
             ],
             [
              0.4444444444444444,
              "#26828e"
             ],
             [
              0.5555555555555556,
              "#1f9e89"
             ],
             [
              0.6666666666666666,
              "#35b779"
             ],
             [
              0.7777777777777778,
              "#6ece58"
             ],
             [
              0.8888888888888888,
              "#b5de2b"
             ],
             [
              1,
              "#fde725"
             ]
            ],
            "type": "contour"
           }
          ],
          "contourcarpet": [
           {
            "colorbar": {
             "outlinewidth": 1,
             "tickcolor": "rgb(36,36,36)",
             "ticks": "outside"
            },
            "type": "contourcarpet"
           }
          ],
          "heatmap": [
           {
            "colorbar": {
             "outlinewidth": 1,
             "tickcolor": "rgb(36,36,36)",
             "ticks": "outside"
            },
            "colorscale": [
             [
              0,
              "#440154"
             ],
             [
              0.1111111111111111,
              "#482878"
             ],
             [
              0.2222222222222222,
              "#3e4989"
             ],
             [
              0.3333333333333333,
              "#31688e"
             ],
             [
              0.4444444444444444,
              "#26828e"
             ],
             [
              0.5555555555555556,
              "#1f9e89"
             ],
             [
              0.6666666666666666,
              "#35b779"
             ],
             [
              0.7777777777777778,
              "#6ece58"
             ],
             [
              0.8888888888888888,
              "#b5de2b"
             ],
             [
              1,
              "#fde725"
             ]
            ],
            "type": "heatmap"
           }
          ],
          "heatmapgl": [
           {
            "colorbar": {
             "outlinewidth": 1,
             "tickcolor": "rgb(36,36,36)",
             "ticks": "outside"
            },
            "colorscale": [
             [
              0,
              "#440154"
             ],
             [
              0.1111111111111111,
              "#482878"
             ],
             [
              0.2222222222222222,
              "#3e4989"
             ],
             [
              0.3333333333333333,
              "#31688e"
             ],
             [
              0.4444444444444444,
              "#26828e"
             ],
             [
              0.5555555555555556,
              "#1f9e89"
             ],
             [
              0.6666666666666666,
              "#35b779"
             ],
             [
              0.7777777777777778,
              "#6ece58"
             ],
             [
              0.8888888888888888,
              "#b5de2b"
             ],
             [
              1,
              "#fde725"
             ]
            ],
            "type": "heatmapgl"
           }
          ],
          "histogram": [
           {
            "marker": {
             "line": {
              "color": "white",
              "width": 0.6
             }
            },
            "type": "histogram"
           }
          ],
          "histogram2d": [
           {
            "colorbar": {
             "outlinewidth": 1,
             "tickcolor": "rgb(36,36,36)",
             "ticks": "outside"
            },
            "colorscale": [
             [
              0,
              "#440154"
             ],
             [
              0.1111111111111111,
              "#482878"
             ],
             [
              0.2222222222222222,
              "#3e4989"
             ],
             [
              0.3333333333333333,
              "#31688e"
             ],
             [
              0.4444444444444444,
              "#26828e"
             ],
             [
              0.5555555555555556,
              "#1f9e89"
             ],
             [
              0.6666666666666666,
              "#35b779"
             ],
             [
              0.7777777777777778,
              "#6ece58"
             ],
             [
              0.8888888888888888,
              "#b5de2b"
             ],
             [
              1,
              "#fde725"
             ]
            ],
            "type": "histogram2d"
           }
          ],
          "histogram2dcontour": [
           {
            "colorbar": {
             "outlinewidth": 1,
             "tickcolor": "rgb(36,36,36)",
             "ticks": "outside"
            },
            "colorscale": [
             [
              0,
              "#440154"
             ],
             [
              0.1111111111111111,
              "#482878"
             ],
             [
              0.2222222222222222,
              "#3e4989"
             ],
             [
              0.3333333333333333,
              "#31688e"
             ],
             [
              0.4444444444444444,
              "#26828e"
             ],
             [
              0.5555555555555556,
              "#1f9e89"
             ],
             [
              0.6666666666666666,
              "#35b779"
             ],
             [
              0.7777777777777778,
              "#6ece58"
             ],
             [
              0.8888888888888888,
              "#b5de2b"
             ],
             [
              1,
              "#fde725"
             ]
            ],
            "type": "histogram2dcontour"
           }
          ],
          "mesh3d": [
           {
            "colorbar": {
             "outlinewidth": 1,
             "tickcolor": "rgb(36,36,36)",
             "ticks": "outside"
            },
            "type": "mesh3d"
           }
          ],
          "parcoords": [
           {
            "line": {
             "colorbar": {
              "outlinewidth": 1,
              "tickcolor": "rgb(36,36,36)",
              "ticks": "outside"
             }
            },
            "type": "parcoords"
           }
          ],
          "pie": [
           {
            "automargin": true,
            "type": "pie"
           }
          ],
          "scatter": [
           {
            "fillpattern": {
             "fillmode": "overlay",
             "size": 10,
             "solidity": 0.2
            },
            "type": "scatter"
           }
          ],
          "scatter3d": [
           {
            "line": {
             "colorbar": {
              "outlinewidth": 1,
              "tickcolor": "rgb(36,36,36)",
              "ticks": "outside"
             }
            },
            "marker": {
             "colorbar": {
              "outlinewidth": 1,
              "tickcolor": "rgb(36,36,36)",
              "ticks": "outside"
             }
            },
            "type": "scatter3d"
           }
          ],
          "scattercarpet": [
           {
            "marker": {
             "colorbar": {
              "outlinewidth": 1,
              "tickcolor": "rgb(36,36,36)",
              "ticks": "outside"
             }
            },
            "type": "scattercarpet"
           }
          ],
          "scattergeo": [
           {
            "marker": {
             "colorbar": {
              "outlinewidth": 1,
              "tickcolor": "rgb(36,36,36)",
              "ticks": "outside"
             }
            },
            "type": "scattergeo"
           }
          ],
          "scattergl": [
           {
            "marker": {
             "colorbar": {
              "outlinewidth": 1,
              "tickcolor": "rgb(36,36,36)",
              "ticks": "outside"
             }
            },
            "type": "scattergl"
           }
          ],
          "scattermapbox": [
           {
            "marker": {
             "colorbar": {
              "outlinewidth": 1,
              "tickcolor": "rgb(36,36,36)",
              "ticks": "outside"
             }
            },
            "type": "scattermapbox"
           }
          ],
          "scatterpolar": [
           {
            "marker": {
             "colorbar": {
              "outlinewidth": 1,
              "tickcolor": "rgb(36,36,36)",
              "ticks": "outside"
             }
            },
            "type": "scatterpolar"
           }
          ],
          "scatterpolargl": [
           {
            "marker": {
             "colorbar": {
              "outlinewidth": 1,
              "tickcolor": "rgb(36,36,36)",
              "ticks": "outside"
             }
            },
            "type": "scatterpolargl"
           }
          ],
          "scatterternary": [
           {
            "marker": {
             "colorbar": {
              "outlinewidth": 1,
              "tickcolor": "rgb(36,36,36)",
              "ticks": "outside"
             }
            },
            "type": "scatterternary"
           }
          ],
          "surface": [
           {
            "colorbar": {
             "outlinewidth": 1,
             "tickcolor": "rgb(36,36,36)",
             "ticks": "outside"
            },
            "colorscale": [
             [
              0,
              "#440154"
             ],
             [
              0.1111111111111111,
              "#482878"
             ],
             [
              0.2222222222222222,
              "#3e4989"
             ],
             [
              0.3333333333333333,
              "#31688e"
             ],
             [
              0.4444444444444444,
              "#26828e"
             ],
             [
              0.5555555555555556,
              "#1f9e89"
             ],
             [
              0.6666666666666666,
              "#35b779"
             ],
             [
              0.7777777777777778,
              "#6ece58"
             ],
             [
              0.8888888888888888,
              "#b5de2b"
             ],
             [
              1,
              "#fde725"
             ]
            ],
            "type": "surface"
           }
          ],
          "table": [
           {
            "cells": {
             "fill": {
              "color": "rgb(237,237,237)"
             },
             "line": {
              "color": "white"
             }
            },
            "header": {
             "fill": {
              "color": "rgb(217,217,217)"
             },
             "line": {
              "color": "white"
             }
            },
            "type": "table"
           }
          ]
         },
         "layout": {
          "annotationdefaults": {
           "arrowhead": 0,
           "arrowwidth": 1
          },
          "autotypenumbers": "strict",
          "coloraxis": {
           "colorbar": {
            "outlinewidth": 1,
            "tickcolor": "rgb(36,36,36)",
            "ticks": "outside"
           }
          },
          "colorscale": {
           "diverging": [
            [
             0,
             "rgb(103,0,31)"
            ],
            [
             0.1,
             "rgb(178,24,43)"
            ],
            [
             0.2,
             "rgb(214,96,77)"
            ],
            [
             0.3,
             "rgb(244,165,130)"
            ],
            [
             0.4,
             "rgb(253,219,199)"
            ],
            [
             0.5,
             "rgb(247,247,247)"
            ],
            [
             0.6,
             "rgb(209,229,240)"
            ],
            [
             0.7,
             "rgb(146,197,222)"
            ],
            [
             0.8,
             "rgb(67,147,195)"
            ],
            [
             0.9,
             "rgb(33,102,172)"
            ],
            [
             1,
             "rgb(5,48,97)"
            ]
           ],
           "sequential": [
            [
             0,
             "#440154"
            ],
            [
             0.1111111111111111,
             "#482878"
            ],
            [
             0.2222222222222222,
             "#3e4989"
            ],
            [
             0.3333333333333333,
             "#31688e"
            ],
            [
             0.4444444444444444,
             "#26828e"
            ],
            [
             0.5555555555555556,
             "#1f9e89"
            ],
            [
             0.6666666666666666,
             "#35b779"
            ],
            [
             0.7777777777777778,
             "#6ece58"
            ],
            [
             0.8888888888888888,
             "#b5de2b"
            ],
            [
             1,
             "#fde725"
            ]
           ],
           "sequentialminus": [
            [
             0,
             "#440154"
            ],
            [
             0.1111111111111111,
             "#482878"
            ],
            [
             0.2222222222222222,
             "#3e4989"
            ],
            [
             0.3333333333333333,
             "#31688e"
            ],
            [
             0.4444444444444444,
             "#26828e"
            ],
            [
             0.5555555555555556,
             "#1f9e89"
            ],
            [
             0.6666666666666666,
             "#35b779"
            ],
            [
             0.7777777777777778,
             "#6ece58"
            ],
            [
             0.8888888888888888,
             "#b5de2b"
            ],
            [
             1,
             "#fde725"
            ]
           ]
          },
          "colorway": [
           "#1F77B4",
           "#FF7F0E",
           "#2CA02C",
           "#D62728",
           "#9467BD",
           "#8C564B",
           "#E377C2",
           "#7F7F7F",
           "#BCBD22",
           "#17BECF"
          ],
          "font": {
           "color": "rgb(36,36,36)"
          },
          "geo": {
           "bgcolor": "white",
           "lakecolor": "white",
           "landcolor": "white",
           "showlakes": true,
           "showland": true,
           "subunitcolor": "white"
          },
          "hoverlabel": {
           "align": "left"
          },
          "hovermode": "closest",
          "mapbox": {
           "style": "light"
          },
          "paper_bgcolor": "white",
          "plot_bgcolor": "white",
          "polar": {
           "angularaxis": {
            "gridcolor": "rgb(232,232,232)",
            "linecolor": "rgb(36,36,36)",
            "showgrid": false,
            "showline": true,
            "ticks": "outside"
           },
           "bgcolor": "white",
           "radialaxis": {
            "gridcolor": "rgb(232,232,232)",
            "linecolor": "rgb(36,36,36)",
            "showgrid": false,
            "showline": true,
            "ticks": "outside"
           }
          },
          "scene": {
           "xaxis": {
            "backgroundcolor": "white",
            "gridcolor": "rgb(232,232,232)",
            "gridwidth": 2,
            "linecolor": "rgb(36,36,36)",
            "showbackground": true,
            "showgrid": false,
            "showline": true,
            "ticks": "outside",
            "zeroline": false,
            "zerolinecolor": "rgb(36,36,36)"
           },
           "yaxis": {
            "backgroundcolor": "white",
            "gridcolor": "rgb(232,232,232)",
            "gridwidth": 2,
            "linecolor": "rgb(36,36,36)",
            "showbackground": true,
            "showgrid": false,
            "showline": true,
            "ticks": "outside",
            "zeroline": false,
            "zerolinecolor": "rgb(36,36,36)"
           },
           "zaxis": {
            "backgroundcolor": "white",
            "gridcolor": "rgb(232,232,232)",
            "gridwidth": 2,
            "linecolor": "rgb(36,36,36)",
            "showbackground": true,
            "showgrid": false,
            "showline": true,
            "ticks": "outside",
            "zeroline": false,
            "zerolinecolor": "rgb(36,36,36)"
           }
          },
          "shapedefaults": {
           "fillcolor": "black",
           "line": {
            "width": 0
           },
           "opacity": 0.3
          },
          "ternary": {
           "aaxis": {
            "gridcolor": "rgb(232,232,232)",
            "linecolor": "rgb(36,36,36)",
            "showgrid": false,
            "showline": true,
            "ticks": "outside"
           },
           "baxis": {
            "gridcolor": "rgb(232,232,232)",
            "linecolor": "rgb(36,36,36)",
            "showgrid": false,
            "showline": true,
            "ticks": "outside"
           },
           "bgcolor": "white",
           "caxis": {
            "gridcolor": "rgb(232,232,232)",
            "linecolor": "rgb(36,36,36)",
            "showgrid": false,
            "showline": true,
            "ticks": "outside"
           }
          },
          "title": {
           "x": 0.05
          },
          "xaxis": {
           "automargin": true,
           "gridcolor": "rgb(232,232,232)",
           "linecolor": "rgb(36,36,36)",
           "showgrid": false,
           "showline": true,
           "ticks": "outside",
           "title": {
            "standoff": 15
           },
           "zeroline": false,
           "zerolinecolor": "rgb(36,36,36)"
          },
          "yaxis": {
           "automargin": true,
           "gridcolor": "rgb(232,232,232)",
           "linecolor": "rgb(36,36,36)",
           "showgrid": false,
           "showline": true,
           "ticks": "outside",
           "title": {
            "standoff": 15
           },
           "zeroline": false,
           "zerolinecolor": "rgb(36,36,36)"
          }
         }
        },
        "title": {
         "text": "Evolution of the durations of the iterativ fit over the repetitions"
        },
        "xaxis": {
         "range": [
          0,
          5
         ],
         "title": {
          "text": "Number of repetition"
         },
         "type": "linear"
        },
        "yaxis": {
         "range": [
          0,
          1500
         ],
         "title": {
          "text": "Duration (s)"
         },
         "type": "linear"
        }
       }
      },
      "image/png": "[encoded data removed]",
      "text/html": [
       "<div>                            <div id=\"d6551e79-4b92-40e2-9600-fe4c0b45e4db\" class=\"plotly-graph-div\" style=\"height:525px; width:100%;\"></div>            <script type=\"text/javascript\">                require([\"plotly\"], function(Plotly) {                    window.PLOTLYENV=window.PLOTLYENV || {};                                    if (document.getElementById(\"d6551e79-4b92-40e2-9600-fe4c0b45e4db\")) {                    Plotly.newPlot(                        \"d6551e79-4b92-40e2-9600-fe4c0b45e4db\",                        [{\"line\":{\"color\":\"rgb(17, 165, 121)\"},\"mode\":\"markers+lines\",\"name\":\"Iterative with bounds\",\"showlegend\":true,\"x\":[1,2,3,4],\"y\":[201.250186,113.344724,103.899453,103.4561],\"type\":\"scatter\"},{\"line\":{\"color\":\"blue\",\"dash\":\"dot\",\"width\":2},\"mode\":\"lines\",\"name\":\"Grid result\",\"x\":[null],\"y\":[null],\"type\":\"scatter\"},{\"line\":{\"color\":\"red\",\"dash\":\"solid\",\"width\":2},\"mode\":\"lines\",\"name\":\"Iterativ without bounds\",\"x\":[null],\"y\":[null],\"type\":\"scatter\"}],                        {\"template\":{\"data\":{\"barpolar\":[{\"marker\":{\"line\":{\"color\":\"white\",\"width\":0.5},\"pattern\":{\"fillmode\":\"overlay\",\"size\":10,\"solidity\":0.2}},\"type\":\"barpolar\"}],\"bar\":[{\"error_x\":{\"color\":\"rgb(36,36,36)\"},\"error_y\":{\"color\":\"rgb(36,36,36)\"},\"marker\":{\"line\":{\"color\":\"white\",\"width\":0.5},\"pattern\":{\"fillmode\":\"overlay\",\"size\":10,\"solidity\":0.2}},\"type\":\"bar\"}],\"carpet\":[{\"aaxis\":{\"endlinecolor\":\"rgb(36,36,36)\",\"gridcolor\":\"white\",\"linecolor\":\"white\",\"minorgridcolor\":\"white\",\"startlinecolor\":\"rgb(36,36,36)\"},\"baxis\":{\"endlinecolor\":\"rgb(36,36,36)\",\"gridcolor\":\"white\",\"linecolor\":\"white\",\"minorgridcolor\":\"white\",\"startlinecolor\":\"rgb(36,36,36)\"},\"type\":\"carpet\"}],\"choropleth\":[{\"colorbar\":{\"outlinewidth\":1,\"tickcolor\":\"rgb(36,36,36)\",\"ticks\":\"outside\"},\"type\":\"choropleth\"}],\"contourcarpet\":[{\"colorbar\":{\"outlinewidth\":1,\"tickcolor\":\"rgb(36,36,36)\",\"ticks\":\"outside\"},\"type\":\"contourcarpet\"}],\"contour\":[{\"colorbar\":{\"outlinewidth\":1,\"tickcolor\":\"rgb(36,36,36)\",\"ticks\":\"outside\"},\"colorscale\":[[0.0,\"#440154\"],[0.1111111111111111,\"#482878\"],[0.2222222222222222,\"#3e4989\"],[0.3333333333333333,\"#31688e\"],[0.4444444444444444,\"#26828e\"],[0.5555555555555556,\"#1f9e89\"],[0.6666666666666666,\"#35b779\"],[0.7777777777777778,\"#6ece58\"],[0.8888888888888888,\"#b5de2b\"],[1.0,\"#fde725\"]],\"type\":\"contour\"}],\"heatmapgl\":[{\"colorbar\":{\"outlinewidth\":1,\"tickcolor\":\"rgb(36,36,36)\",\"ticks\":\"outside\"},\"colorscale\":[[0.0,\"#440154\"],[0.1111111111111111,\"#482878\"],[0.2222222222222222,\"#3e4989\"],[0.3333333333333333,\"#31688e\"],[0.4444444444444444,\"#26828e\"],[0.5555555555555556,\"#1f9e89\"],[0.6666666666666666,\"#35b779\"],[0.7777777777777778,\"#6ece58\"],[0.8888888888888888,\"#b5de2b\"],[1.0,\"#fde725\"]],\"type\":\"heatmapgl\"}],\"heatmap\":[{\"colorbar\":{\"outlinewidth\":1,\"tickcolor\":\"rgb(36,36,36)\",\"ticks\":\"outside\"},\"colorscale\":[[0.0,\"#440154\"],[0.1111111111111111,\"#482878\"],[0.2222222222222222,\"#3e4989\"],[0.3333333333333333,\"#31688e\"],[0.4444444444444444,\"#26828e\"],[0.5555555555555556,\"#1f9e89\"],[0.6666666666666666,\"#35b779\"],[0.7777777777777778,\"#6ece58\"],[0.8888888888888888,\"#b5de2b\"],[1.0,\"#fde725\"]],\"type\":\"heatmap\"}],\"histogram2dcontour\":[{\"colorbar\":{\"outlinewidth\":1,\"tickcolor\":\"rgb(36,36,36)\",\"ticks\":\"outside\"},\"colorscale\":[[0.0,\"#440154\"],[0.1111111111111111,\"#482878\"],[0.2222222222222222,\"#3e4989\"],[0.3333333333333333,\"#31688e\"],[0.4444444444444444,\"#26828e\"],[0.5555555555555556,\"#1f9e89\"],[0.6666666666666666,\"#35b779\"],[0.7777777777777778,\"#6ece58\"],[0.8888888888888888,\"#b5de2b\"],[1.0,\"#fde725\"]],\"type\":\"histogram2dcontour\"}],\"histogram2d\":[{\"colorbar\":{\"outlinewidth\":1,\"tickcolor\":\"rgb(36,36,36)\",\"ticks\":\"outside\"},\"colorscale\":[[0.0,\"#440154\"],[0.1111111111111111,\"#482878\"],[0.2222222222222222,\"#3e4989\"],[0.3333333333333333,\"#31688e\"],[0.4444444444444444,\"#26828e\"],[0.5555555555555556,\"#1f9e89\"],[0.6666666666666666,\"#35b779\"],[0.7777777777777778,\"#6ece58\"],[0.8888888888888888,\"#b5de2b\"],[1.0,\"#fde725\"]],\"type\":\"histogram2d\"}],\"histogram\":[{\"marker\":{\"line\":{\"color\":\"white\",\"width\":0.6}},\"type\":\"histogram\"}],\"mesh3d\":[{\"colorbar\":{\"outlinewidth\":1,\"tickcolor\":\"rgb(36,36,36)\",\"ticks\":\"outside\"},\"type\":\"mesh3d\"}],\"parcoords\":[{\"line\":{\"colorbar\":{\"outlinewidth\":1,\"tickcolor\":\"rgb(36,36,36)\",\"ticks\":\"outside\"}},\"type\":\"parcoords\"}],\"pie\":[{\"automargin\":true,\"type\":\"pie\"}],\"scatter3d\":[{\"line\":{\"colorbar\":{\"outlinewidth\":1,\"tickcolor\":\"rgb(36,36,36)\",\"ticks\":\"outside\"}},\"marker\":{\"colorbar\":{\"outlinewidth\":1,\"tickcolor\":\"rgb(36,36,36)\",\"ticks\":\"outside\"}},\"type\":\"scatter3d\"}],\"scattercarpet\":[{\"marker\":{\"colorbar\":{\"outlinewidth\":1,\"tickcolor\":\"rgb(36,36,36)\",\"ticks\":\"outside\"}},\"type\":\"scattercarpet\"}],\"scattergeo\":[{\"marker\":{\"colorbar\":{\"outlinewidth\":1,\"tickcolor\":\"rgb(36,36,36)\",\"ticks\":\"outside\"}},\"type\":\"scattergeo\"}],\"scattergl\":[{\"marker\":{\"colorbar\":{\"outlinewidth\":1,\"tickcolor\":\"rgb(36,36,36)\",\"ticks\":\"outside\"}},\"type\":\"scattergl\"}],\"scattermapbox\":[{\"marker\":{\"colorbar\":{\"outlinewidth\":1,\"tickcolor\":\"rgb(36,36,36)\",\"ticks\":\"outside\"}},\"type\":\"scattermapbox\"}],\"scatterpolargl\":[{\"marker\":{\"colorbar\":{\"outlinewidth\":1,\"tickcolor\":\"rgb(36,36,36)\",\"ticks\":\"outside\"}},\"type\":\"scatterpolargl\"}],\"scatterpolar\":[{\"marker\":{\"colorbar\":{\"outlinewidth\":1,\"tickcolor\":\"rgb(36,36,36)\",\"ticks\":\"outside\"}},\"type\":\"scatterpolar\"}],\"scatter\":[{\"fillpattern\":{\"fillmode\":\"overlay\",\"size\":10,\"solidity\":0.2},\"type\":\"scatter\"}],\"scatterternary\":[{\"marker\":{\"colorbar\":{\"outlinewidth\":1,\"tickcolor\":\"rgb(36,36,36)\",\"ticks\":\"outside\"}},\"type\":\"scatterternary\"}],\"surface\":[{\"colorbar\":{\"outlinewidth\":1,\"tickcolor\":\"rgb(36,36,36)\",\"ticks\":\"outside\"},\"colorscale\":[[0.0,\"#440154\"],[0.1111111111111111,\"#482878\"],[0.2222222222222222,\"#3e4989\"],[0.3333333333333333,\"#31688e\"],[0.4444444444444444,\"#26828e\"],[0.5555555555555556,\"#1f9e89\"],[0.6666666666666666,\"#35b779\"],[0.7777777777777778,\"#6ece58\"],[0.8888888888888888,\"#b5de2b\"],[1.0,\"#fde725\"]],\"type\":\"surface\"}],\"table\":[{\"cells\":{\"fill\":{\"color\":\"rgb(237,237,237)\"},\"line\":{\"color\":\"white\"}},\"header\":{\"fill\":{\"color\":\"rgb(217,217,217)\"},\"line\":{\"color\":\"white\"}},\"type\":\"table\"}]},\"layout\":{\"annotationdefaults\":{\"arrowhead\":0,\"arrowwidth\":1},\"autotypenumbers\":\"strict\",\"coloraxis\":{\"colorbar\":{\"outlinewidth\":1,\"tickcolor\":\"rgb(36,36,36)\",\"ticks\":\"outside\"}},\"colorscale\":{\"diverging\":[[0.0,\"rgb(103,0,31)\"],[0.1,\"rgb(178,24,43)\"],[0.2,\"rgb(214,96,77)\"],[0.3,\"rgb(244,165,130)\"],[0.4,\"rgb(253,219,199)\"],[0.5,\"rgb(247,247,247)\"],[0.6,\"rgb(209,229,240)\"],[0.7,\"rgb(146,197,222)\"],[0.8,\"rgb(67,147,195)\"],[0.9,\"rgb(33,102,172)\"],[1.0,\"rgb(5,48,97)\"]],\"sequential\":[[0.0,\"#440154\"],[0.1111111111111111,\"#482878\"],[0.2222222222222222,\"#3e4989\"],[0.3333333333333333,\"#31688e\"],[0.4444444444444444,\"#26828e\"],[0.5555555555555556,\"#1f9e89\"],[0.6666666666666666,\"#35b779\"],[0.7777777777777778,\"#6ece58\"],[0.8888888888888888,\"#b5de2b\"],[1.0,\"#fde725\"]],\"sequentialminus\":[[0.0,\"#440154\"],[0.1111111111111111,\"#482878\"],[0.2222222222222222,\"#3e4989\"],[0.3333333333333333,\"#31688e\"],[0.4444444444444444,\"#26828e\"],[0.5555555555555556,\"#1f9e89\"],[0.6666666666666666,\"#35b779\"],[0.7777777777777778,\"#6ece58\"],[0.8888888888888888,\"#b5de2b\"],[1.0,\"#fde725\"]]},\"colorway\":[\"#1F77B4\",\"#FF7F0E\",\"#2CA02C\",\"#D62728\",\"#9467BD\",\"#8C564B\",\"#E377C2\",\"#7F7F7F\",\"#BCBD22\",\"#17BECF\"],\"font\":{\"color\":\"rgb(36,36,36)\"},\"geo\":{\"bgcolor\":\"white\",\"lakecolor\":\"white\",\"landcolor\":\"white\",\"showlakes\":true,\"showland\":true,\"subunitcolor\":\"white\"},\"hoverlabel\":{\"align\":\"left\"},\"hovermode\":\"closest\",\"mapbox\":{\"style\":\"light\"},\"paper_bgcolor\":\"white\",\"plot_bgcolor\":\"white\",\"polar\":{\"angularaxis\":{\"gridcolor\":\"rgb(232,232,232)\",\"linecolor\":\"rgb(36,36,36)\",\"showgrid\":false,\"showline\":true,\"ticks\":\"outside\"},\"bgcolor\":\"white\",\"radialaxis\":{\"gridcolor\":\"rgb(232,232,232)\",\"linecolor\":\"rgb(36,36,36)\",\"showgrid\":false,\"showline\":true,\"ticks\":\"outside\"}},\"scene\":{\"xaxis\":{\"backgroundcolor\":\"white\",\"gridcolor\":\"rgb(232,232,232)\",\"gridwidth\":2,\"linecolor\":\"rgb(36,36,36)\",\"showbackground\":true,\"showgrid\":false,\"showline\":true,\"ticks\":\"outside\",\"zeroline\":false,\"zerolinecolor\":\"rgb(36,36,36)\"},\"yaxis\":{\"backgroundcolor\":\"white\",\"gridcolor\":\"rgb(232,232,232)\",\"gridwidth\":2,\"linecolor\":\"rgb(36,36,36)\",\"showbackground\":true,\"showgrid\":false,\"showline\":true,\"ticks\":\"outside\",\"zeroline\":false,\"zerolinecolor\":\"rgb(36,36,36)\"},\"zaxis\":{\"backgroundcolor\":\"white\",\"gridcolor\":\"rgb(232,232,232)\",\"gridwidth\":2,\"linecolor\":\"rgb(36,36,36)\",\"showbackground\":true,\"showgrid\":false,\"showline\":true,\"ticks\":\"outside\",\"zeroline\":false,\"zerolinecolor\":\"rgb(36,36,36)\"}},\"shapedefaults\":{\"fillcolor\":\"black\",\"line\":{\"width\":0},\"opacity\":0.3},\"ternary\":{\"aaxis\":{\"gridcolor\":\"rgb(232,232,232)\",\"linecolor\":\"rgb(36,36,36)\",\"showgrid\":false,\"showline\":true,\"ticks\":\"outside\"},\"baxis\":{\"gridcolor\":\"rgb(232,232,232)\",\"linecolor\":\"rgb(36,36,36)\",\"showgrid\":false,\"showline\":true,\"ticks\":\"outside\"},\"bgcolor\":\"white\",\"caxis\":{\"gridcolor\":\"rgb(232,232,232)\",\"linecolor\":\"rgb(36,36,36)\",\"showgrid\":false,\"showline\":true,\"ticks\":\"outside\"}},\"title\":{\"x\":0.05},\"xaxis\":{\"automargin\":true,\"gridcolor\":\"rgb(232,232,232)\",\"linecolor\":\"rgb(36,36,36)\",\"showgrid\":false,\"showline\":true,\"ticks\":\"outside\",\"title\":{\"standoff\":15},\"zeroline\":false,\"zerolinecolor\":\"rgb(36,36,36)\"},\"yaxis\":{\"automargin\":true,\"gridcolor\":\"rgb(232,232,232)\",\"linecolor\":\"rgb(36,36,36)\",\"showgrid\":false,\"showline\":true,\"ticks\":\"outside\",\"title\":{\"standoff\":15},\"zeroline\":false,\"zerolinecolor\":\"rgb(36,36,36)\"}}},\"shapes\":[{\"line\":{\"color\":\"blue\",\"dash\":\"dot\",\"width\":2},\"name\":\"grid\",\"type\":\"line\",\"x0\":0,\"x1\":5,\"y0\":19.635772,\"y1\":19.635772},{\"line\":{\"color\":\"red\",\"dash\":\"solid\",\"width\":2},\"name\":\"without bouns\",\"type\":\"line\",\"x0\":0,\"x1\":5,\"y0\":1187.138718,\"y1\":1187.138718}],\"title\":{\"text\":\"Evolution of the durations of the iterativ fit over the repetitions\"},\"xaxis\":{\"title\":{\"text\":\"Number of repetition\"},\"range\":[0,5]},\"yaxis\":{\"title\":{\"text\":\"Duration (s)\"},\"range\":[0,1500]}},                        {\"responsive\": true}                    ).then(function(){\n",
       "                            \n",
       "var gd = document.getElementById('d6551e79-4b92-40e2-9600-fe4c0b45e4db');\n",
       "var x = new MutationObserver(function (mutations, observer) {{\n",
       "        var display = window.getComputedStyle(gd).display;\n",
       "        if (!display || display === 'none') {{\n",
       "            console.log([gd, 'removed!']);\n",
       "            Plotly.purge(gd);\n",
       "            observer.disconnect();\n",
       "        }}\n",
       "}});\n",
       "\n",
       "// Listen for the removal of the full notebook cells\n",
       "var notebookContainer = gd.closest('#notebook-container');\n",
       "if (notebookContainer) {{\n",
       "    x.observe(notebookContainer, {childList: true});\n",
       "}}\n",
       "\n",
       "// Listen for the clearing of the current output cell\n",
       "var outputEl = gd.closest('.output');\n",
       "if (outputEl) {{\n",
       "    x.observe(outputEl, {childList: true});\n",
       "}}\n",
       "\n",
       "                        })                };                });            </script>        </div>"
      ]
     },
     "metadata": {},
     "output_type": "display_data"
    }
   ],
   "source": [
    "fig2 = go.Figure()\n",
    "\n",
    "# plot duration iterativ repeat\n",
    "fig2.add_trace(go.Scatter(\n",
    "    x=np.arange(0,n_repeat,1)+1,\n",
    "    y=gauss_duration_repeat[2:],\n",
    "    mode='markers+lines',\n",
    "    name='Iterative with bounds',\n",
    "    line_color=colors[i],\n",
    "    showlegend=True))\n",
    "\n",
    "# plot duration grid \n",
    "fig2.add_shape(\n",
    "    type='line',\n",
    "    x0=0, y0=gauss_duration_repeat[0], x1=n_repeat+1, y1=gauss_duration_repeat[grid_place],\n",
    "    line=dict(color='blue', width=2, dash='dot'), \n",
    "    name='grid')\n",
    "\n",
    "# plot duration iterativ without bouns\n",
    "fig2.add_shape(\n",
    "    type='line',\n",
    "    x0=0, y0=gauss_duration_repeat[1], x1=n_repeat+1, y1=gauss_duration_repeat[no_bd],\n",
    "    line=dict(color='red', width=2, dash='solid'), \n",
    "    name='without bouns')\n",
    "\n",
    "# for the legend\n",
    "fig2.add_trace(go.Scatter(x=[None],\n",
    "                          y=[None],\n",
    "                          mode='lines',\n",
    "                          line=dict(color='blue', width=2, dash='dot'),\n",
    "                          name='Grid result'))\n",
    "\n",
    "fig2.add_trace(go.Scatter(x=[None],\n",
    "                          y=[None],\n",
    "                          mode='lines',\n",
    "                          line=dict(color='red', width=2, dash='solid'),\n",
    "                          name='Iterativ without bounds'))\n",
    "\n",
    "fig2.update_layout(template='simple_white',\n",
    "                  title = 'Evolution of the durations of the iterativ fit over the repetitions',\n",
    "                  xaxis_title = 'Number of repetition',\n",
    "                  yaxis_title = 'Duration (s)')\n",
    "fig2.update_xaxes(range=[0,n_repeat+1])\n",
    "fig2.update_yaxes(range=[0,1500])\n",
    "\n",
    "fig2.show()"
   ]
  },
  {
   "cell_type": "markdown",
   "id": "8f9fd4d4-6ad8-4833-ae62-d0678294d339",
   "metadata": {},
   "source": [
    "# Figure 3"
   ]
  },
  {
   "cell_type": "code",
   "execution_count": 11,
   "id": "4102360d-a82c-492d-a1ef-731565505edc",
   "metadata": {},
   "outputs": [
    {
     "data": {
      "application/vnd.plotly.v1+json": {
       "config": {
        "plotlyServerURL": "https://plot.ly"
       },
       "data": [
        {
         "marker": {
          "color": "purple"
         },
         "name": "Cumulative Values",
         "type": "bar",
         "x": [
          1,
          2,
          3,
          4
         ],
         "y": [
          201.250186,
          314.59491,
          418.494363,
          521.950463
         ]
        },
        {
         "line": {
          "color": "blue",
          "dash": "dot",
          "width": 2
         },
         "mode": "lines",
         "name": "Grid result",
         "type": "scatter",
         "x": [
          null
         ],
         "y": [
          null
         ]
        },
        {
         "line": {
          "color": "red",
          "dash": "solid",
          "width": 2
         },
         "mode": "lines",
         "name": "Iterativ without bounds",
         "type": "scatter",
         "x": [
          null
         ],
         "y": [
          null
         ]
        }
       ],
       "layout": {
        "autosize": true,
        "shapes": [
         {
          "line": {
           "color": "blue",
           "dash": "dot",
           "width": 2
          },
          "name": "Grid result",
          "type": "line",
          "x0": 0,
          "x1": 5,
          "y0": 19.635772,
          "y1": 19.635772
         },
         {
          "line": {
           "color": "red",
           "dash": "solid",
           "width": 2
          },
          "name": "Iterativ without bounds",
          "type": "line",
          "x0": 0,
          "x1": 5,
          "y0": 1187.138718,
          "y1": 1187.138718
         }
        ],
        "template": {
         "data": {
          "bar": [
           {
            "error_x": {
             "color": "rgb(36,36,36)"
            },
            "error_y": {
             "color": "rgb(36,36,36)"
            },
            "marker": {
             "line": {
              "color": "white",
              "width": 0.5
             },
             "pattern": {
              "fillmode": "overlay",
              "size": 10,
              "solidity": 0.2
             }
            },
            "type": "bar"
           }
          ],
          "barpolar": [
           {
            "marker": {
             "line": {
              "color": "white",
              "width": 0.5
             },
             "pattern": {
              "fillmode": "overlay",
              "size": 10,
              "solidity": 0.2
             }
            },
            "type": "barpolar"
           }
          ],
          "carpet": [
           {
            "aaxis": {
             "endlinecolor": "rgb(36,36,36)",
             "gridcolor": "white",
             "linecolor": "white",
             "minorgridcolor": "white",
             "startlinecolor": "rgb(36,36,36)"
            },
            "baxis": {
             "endlinecolor": "rgb(36,36,36)",
             "gridcolor": "white",
             "linecolor": "white",
             "minorgridcolor": "white",
             "startlinecolor": "rgb(36,36,36)"
            },
            "type": "carpet"
           }
          ],
          "choropleth": [
           {
            "colorbar": {
             "outlinewidth": 1,
             "tickcolor": "rgb(36,36,36)",
             "ticks": "outside"
            },
            "type": "choropleth"
           }
          ],
          "contour": [
           {
            "colorbar": {
             "outlinewidth": 1,
             "tickcolor": "rgb(36,36,36)",
             "ticks": "outside"
            },
            "colorscale": [
             [
              0,
              "#440154"
             ],
             [
              0.1111111111111111,
              "#482878"
             ],
             [
              0.2222222222222222,
              "#3e4989"
             ],
             [
              0.3333333333333333,
              "#31688e"
             ],
             [
              0.4444444444444444,
              "#26828e"
             ],
             [
              0.5555555555555556,
              "#1f9e89"
             ],
             [
              0.6666666666666666,
              "#35b779"
             ],
             [
              0.7777777777777778,
              "#6ece58"
             ],
             [
              0.8888888888888888,
              "#b5de2b"
             ],
             [
              1,
              "#fde725"
             ]
            ],
            "type": "contour"
           }
          ],
          "contourcarpet": [
           {
            "colorbar": {
             "outlinewidth": 1,
             "tickcolor": "rgb(36,36,36)",
             "ticks": "outside"
            },
            "type": "contourcarpet"
           }
          ],
          "heatmap": [
           {
            "colorbar": {
             "outlinewidth": 1,
             "tickcolor": "rgb(36,36,36)",
             "ticks": "outside"
            },
            "colorscale": [
             [
              0,
              "#440154"
             ],
             [
              0.1111111111111111,
              "#482878"
             ],
             [
              0.2222222222222222,
              "#3e4989"
             ],
             [
              0.3333333333333333,
              "#31688e"
             ],
             [
              0.4444444444444444,
              "#26828e"
             ],
             [
              0.5555555555555556,
              "#1f9e89"
             ],
             [
              0.6666666666666666,
              "#35b779"
             ],
             [
              0.7777777777777778,
              "#6ece58"
             ],
             [
              0.8888888888888888,
              "#b5de2b"
             ],
             [
              1,
              "#fde725"
             ]
            ],
            "type": "heatmap"
           }
          ],
          "heatmapgl": [
           {
            "colorbar": {
             "outlinewidth": 1,
             "tickcolor": "rgb(36,36,36)",
             "ticks": "outside"
            },
            "colorscale": [
             [
              0,
              "#440154"
             ],
             [
              0.1111111111111111,
              "#482878"
             ],
             [
              0.2222222222222222,
              "#3e4989"
             ],
             [
              0.3333333333333333,
              "#31688e"
             ],
             [
              0.4444444444444444,
              "#26828e"
             ],
             [
              0.5555555555555556,
              "#1f9e89"
             ],
             [
              0.6666666666666666,
              "#35b779"
             ],
             [
              0.7777777777777778,
              "#6ece58"
             ],
             [
              0.8888888888888888,
              "#b5de2b"
             ],
             [
              1,
              "#fde725"
             ]
            ],
            "type": "heatmapgl"
           }
          ],
          "histogram": [
           {
            "marker": {
             "line": {
              "color": "white",
              "width": 0.6
             }
            },
            "type": "histogram"
           }
          ],
          "histogram2d": [
           {
            "colorbar": {
             "outlinewidth": 1,
             "tickcolor": "rgb(36,36,36)",
             "ticks": "outside"
            },
            "colorscale": [
             [
              0,
              "#440154"
             ],
             [
              0.1111111111111111,
              "#482878"
             ],
             [
              0.2222222222222222,
              "#3e4989"
             ],
             [
              0.3333333333333333,
              "#31688e"
             ],
             [
              0.4444444444444444,
              "#26828e"
             ],
             [
              0.5555555555555556,
              "#1f9e89"
             ],
             [
              0.6666666666666666,
              "#35b779"
             ],
             [
              0.7777777777777778,
              "#6ece58"
             ],
             [
              0.8888888888888888,
              "#b5de2b"
             ],
             [
              1,
              "#fde725"
             ]
            ],
            "type": "histogram2d"
           }
          ],
          "histogram2dcontour": [
           {
            "colorbar": {
             "outlinewidth": 1,
             "tickcolor": "rgb(36,36,36)",
             "ticks": "outside"
            },
            "colorscale": [
             [
              0,
              "#440154"
             ],
             [
              0.1111111111111111,
              "#482878"
             ],
             [
              0.2222222222222222,
              "#3e4989"
             ],
             [
              0.3333333333333333,
              "#31688e"
             ],
             [
              0.4444444444444444,
              "#26828e"
             ],
             [
              0.5555555555555556,
              "#1f9e89"
             ],
             [
              0.6666666666666666,
              "#35b779"
             ],
             [
              0.7777777777777778,
              "#6ece58"
             ],
             [
              0.8888888888888888,
              "#b5de2b"
             ],
             [
              1,
              "#fde725"
             ]
            ],
            "type": "histogram2dcontour"
           }
          ],
          "mesh3d": [
           {
            "colorbar": {
             "outlinewidth": 1,
             "tickcolor": "rgb(36,36,36)",
             "ticks": "outside"
            },
            "type": "mesh3d"
           }
          ],
          "parcoords": [
           {
            "line": {
             "colorbar": {
              "outlinewidth": 1,
              "tickcolor": "rgb(36,36,36)",
              "ticks": "outside"
             }
            },
            "type": "parcoords"
           }
          ],
          "pie": [
           {
            "automargin": true,
            "type": "pie"
           }
          ],
          "scatter": [
           {
            "fillpattern": {
             "fillmode": "overlay",
             "size": 10,
             "solidity": 0.2
            },
            "type": "scatter"
           }
          ],
          "scatter3d": [
           {
            "line": {
             "colorbar": {
              "outlinewidth": 1,
              "tickcolor": "rgb(36,36,36)",
              "ticks": "outside"
             }
            },
            "marker": {
             "colorbar": {
              "outlinewidth": 1,
              "tickcolor": "rgb(36,36,36)",
              "ticks": "outside"
             }
            },
            "type": "scatter3d"
           }
          ],
          "scattercarpet": [
           {
            "marker": {
             "colorbar": {
              "outlinewidth": 1,
              "tickcolor": "rgb(36,36,36)",
              "ticks": "outside"
             }
            },
            "type": "scattercarpet"
           }
          ],
          "scattergeo": [
           {
            "marker": {
             "colorbar": {
              "outlinewidth": 1,
              "tickcolor": "rgb(36,36,36)",
              "ticks": "outside"
             }
            },
            "type": "scattergeo"
           }
          ],
          "scattergl": [
           {
            "marker": {
             "colorbar": {
              "outlinewidth": 1,
              "tickcolor": "rgb(36,36,36)",
              "ticks": "outside"
             }
            },
            "type": "scattergl"
           }
          ],
          "scattermapbox": [
           {
            "marker": {
             "colorbar": {
              "outlinewidth": 1,
              "tickcolor": "rgb(36,36,36)",
              "ticks": "outside"
             }
            },
            "type": "scattermapbox"
           }
          ],
          "scatterpolar": [
           {
            "marker": {
             "colorbar": {
              "outlinewidth": 1,
              "tickcolor": "rgb(36,36,36)",
              "ticks": "outside"
             }
            },
            "type": "scatterpolar"
           }
          ],
          "scatterpolargl": [
           {
            "marker": {
             "colorbar": {
              "outlinewidth": 1,
              "tickcolor": "rgb(36,36,36)",
              "ticks": "outside"
             }
            },
            "type": "scatterpolargl"
           }
          ],
          "scatterternary": [
           {
            "marker": {
             "colorbar": {
              "outlinewidth": 1,
              "tickcolor": "rgb(36,36,36)",
              "ticks": "outside"
             }
            },
            "type": "scatterternary"
           }
          ],
          "surface": [
           {
            "colorbar": {
             "outlinewidth": 1,
             "tickcolor": "rgb(36,36,36)",
             "ticks": "outside"
            },
            "colorscale": [
             [
              0,
              "#440154"
             ],
             [
              0.1111111111111111,
              "#482878"
             ],
             [
              0.2222222222222222,
              "#3e4989"
             ],
             [
              0.3333333333333333,
              "#31688e"
             ],
             [
              0.4444444444444444,
              "#26828e"
             ],
             [
              0.5555555555555556,
              "#1f9e89"
             ],
             [
              0.6666666666666666,
              "#35b779"
             ],
             [
              0.7777777777777778,
              "#6ece58"
             ],
             [
              0.8888888888888888,
              "#b5de2b"
             ],
             [
              1,
              "#fde725"
             ]
            ],
            "type": "surface"
           }
          ],
          "table": [
           {
            "cells": {
             "fill": {
              "color": "rgb(237,237,237)"
             },
             "line": {
              "color": "white"
             }
            },
            "header": {
             "fill": {
              "color": "rgb(217,217,217)"
             },
             "line": {
              "color": "white"
             }
            },
            "type": "table"
           }
          ]
         },
         "layout": {
          "annotationdefaults": {
           "arrowhead": 0,
           "arrowwidth": 1
          },
          "autotypenumbers": "strict",
          "coloraxis": {
           "colorbar": {
            "outlinewidth": 1,
            "tickcolor": "rgb(36,36,36)",
            "ticks": "outside"
           }
          },
          "colorscale": {
           "diverging": [
            [
             0,
             "rgb(103,0,31)"
            ],
            [
             0.1,
             "rgb(178,24,43)"
            ],
            [
             0.2,
             "rgb(214,96,77)"
            ],
            [
             0.3,
             "rgb(244,165,130)"
            ],
            [
             0.4,
             "rgb(253,219,199)"
            ],
            [
             0.5,
             "rgb(247,247,247)"
            ],
            [
             0.6,
             "rgb(209,229,240)"
            ],
            [
             0.7,
             "rgb(146,197,222)"
            ],
            [
             0.8,
             "rgb(67,147,195)"
            ],
            [
             0.9,
             "rgb(33,102,172)"
            ],
            [
             1,
             "rgb(5,48,97)"
            ]
           ],
           "sequential": [
            [
             0,
             "#440154"
            ],
            [
             0.1111111111111111,
             "#482878"
            ],
            [
             0.2222222222222222,
             "#3e4989"
            ],
            [
             0.3333333333333333,
             "#31688e"
            ],
            [
             0.4444444444444444,
             "#26828e"
            ],
            [
             0.5555555555555556,
             "#1f9e89"
            ],
            [
             0.6666666666666666,
             "#35b779"
            ],
            [
             0.7777777777777778,
             "#6ece58"
            ],
            [
             0.8888888888888888,
             "#b5de2b"
            ],
            [
             1,
             "#fde725"
            ]
           ],
           "sequentialminus": [
            [
             0,
             "#440154"
            ],
            [
             0.1111111111111111,
             "#482878"
            ],
            [
             0.2222222222222222,
             "#3e4989"
            ],
            [
             0.3333333333333333,
             "#31688e"
            ],
            [
             0.4444444444444444,
             "#26828e"
            ],
            [
             0.5555555555555556,
             "#1f9e89"
            ],
            [
             0.6666666666666666,
             "#35b779"
            ],
            [
             0.7777777777777778,
             "#6ece58"
            ],
            [
             0.8888888888888888,
             "#b5de2b"
            ],
            [
             1,
             "#fde725"
            ]
           ]
          },
          "colorway": [
           "#1F77B4",
           "#FF7F0E",
           "#2CA02C",
           "#D62728",
           "#9467BD",
           "#8C564B",
           "#E377C2",
           "#7F7F7F",
           "#BCBD22",
           "#17BECF"
          ],
          "font": {
           "color": "rgb(36,36,36)"
          },
          "geo": {
           "bgcolor": "white",
           "lakecolor": "white",
           "landcolor": "white",
           "showlakes": true,
           "showland": true,
           "subunitcolor": "white"
          },
          "hoverlabel": {
           "align": "left"
          },
          "hovermode": "closest",
          "mapbox": {
           "style": "light"
          },
          "paper_bgcolor": "white",
          "plot_bgcolor": "white",
          "polar": {
           "angularaxis": {
            "gridcolor": "rgb(232,232,232)",
            "linecolor": "rgb(36,36,36)",
            "showgrid": false,
            "showline": true,
            "ticks": "outside"
           },
           "bgcolor": "white",
           "radialaxis": {
            "gridcolor": "rgb(232,232,232)",
            "linecolor": "rgb(36,36,36)",
            "showgrid": false,
            "showline": true,
            "ticks": "outside"
           }
          },
          "scene": {
           "xaxis": {
            "backgroundcolor": "white",
            "gridcolor": "rgb(232,232,232)",
            "gridwidth": 2,
            "linecolor": "rgb(36,36,36)",
            "showbackground": true,
            "showgrid": false,
            "showline": true,
            "ticks": "outside",
            "zeroline": false,
            "zerolinecolor": "rgb(36,36,36)"
           },
           "yaxis": {
            "backgroundcolor": "white",
            "gridcolor": "rgb(232,232,232)",
            "gridwidth": 2,
            "linecolor": "rgb(36,36,36)",
            "showbackground": true,
            "showgrid": false,
            "showline": true,
            "ticks": "outside",
            "zeroline": false,
            "zerolinecolor": "rgb(36,36,36)"
           },
           "zaxis": {
            "backgroundcolor": "white",
            "gridcolor": "rgb(232,232,232)",
            "gridwidth": 2,
            "linecolor": "rgb(36,36,36)",
            "showbackground": true,
            "showgrid": false,
            "showline": true,
            "ticks": "outside",
            "zeroline": false,
            "zerolinecolor": "rgb(36,36,36)"
           }
          },
          "shapedefaults": {
           "fillcolor": "black",
           "line": {
            "width": 0
           },
           "opacity": 0.3
          },
          "ternary": {
           "aaxis": {
            "gridcolor": "rgb(232,232,232)",
            "linecolor": "rgb(36,36,36)",
            "showgrid": false,
            "showline": true,
            "ticks": "outside"
           },
           "baxis": {
            "gridcolor": "rgb(232,232,232)",
            "linecolor": "rgb(36,36,36)",
            "showgrid": false,
            "showline": true,
            "ticks": "outside"
           },
           "bgcolor": "white",
           "caxis": {
            "gridcolor": "rgb(232,232,232)",
            "linecolor": "rgb(36,36,36)",
            "showgrid": false,
            "showline": true,
            "ticks": "outside"
           }
          },
          "title": {
           "x": 0.05
          },
          "xaxis": {
           "automargin": true,
           "gridcolor": "rgb(232,232,232)",
           "linecolor": "rgb(36,36,36)",
           "showgrid": false,
           "showline": true,
           "ticks": "outside",
           "title": {
            "standoff": 15
           },
           "zeroline": false,
           "zerolinecolor": "rgb(36,36,36)"
          },
          "yaxis": {
           "automargin": true,
           "gridcolor": "rgb(232,232,232)",
           "linecolor": "rgb(36,36,36)",
           "showgrid": false,
           "showline": true,
           "ticks": "outside",
           "title": {
            "standoff": 15
           },
           "zeroline": false,
           "zerolinecolor": "rgb(36,36,36)"
          }
         }
        },
        "title": {
         "text": "Evolution of the durations of the iterativ fit over the repetitions"
        },
        "xaxis": {
         "autorange": true,
         "range": [
          -0.009208103130755065,
          5.009208103130755
         ],
         "title": {
          "text": "Number of repetition"
         },
         "type": "linear"
        },
        "yaxis": {
         "autorange": true,
         "range": [
          0,
          1193.7707778770948
         ],
         "title": {
          "text": "Duration (s)"
         },
         "type": "linear"
        }
       }
      },
      "image/png": "[encoded data removed]",
      "text/html": [
       "<div>                            <div id=\"96414b2c-d993-4f0a-9117-74368c75aa5c\" class=\"plotly-graph-div\" style=\"height:525px; width:100%;\"></div>            <script type=\"text/javascript\">                require([\"plotly\"], function(Plotly) {                    window.PLOTLYENV=window.PLOTLYENV || {};                                    if (document.getElementById(\"96414b2c-d993-4f0a-9117-74368c75aa5c\")) {                    Plotly.newPlot(                        \"96414b2c-d993-4f0a-9117-74368c75aa5c\",                        [{\"marker\":{\"color\":\"purple\"},\"name\":\"Cumulative Values\",\"x\":[1,2,3,4],\"y\":[201.250186,314.59491,418.494363,521.950463],\"type\":\"bar\"},{\"line\":{\"color\":\"blue\",\"dash\":\"dot\",\"width\":2},\"mode\":\"lines\",\"name\":\"Grid result\",\"x\":[null],\"y\":[null],\"type\":\"scatter\"},{\"line\":{\"color\":\"red\",\"dash\":\"solid\",\"width\":2},\"mode\":\"lines\",\"name\":\"Iterativ without bounds\",\"x\":[null],\"y\":[null],\"type\":\"scatter\"}],                        {\"template\":{\"data\":{\"barpolar\":[{\"marker\":{\"line\":{\"color\":\"white\",\"width\":0.5},\"pattern\":{\"fillmode\":\"overlay\",\"size\":10,\"solidity\":0.2}},\"type\":\"barpolar\"}],\"bar\":[{\"error_x\":{\"color\":\"rgb(36,36,36)\"},\"error_y\":{\"color\":\"rgb(36,36,36)\"},\"marker\":{\"line\":{\"color\":\"white\",\"width\":0.5},\"pattern\":{\"fillmode\":\"overlay\",\"size\":10,\"solidity\":0.2}},\"type\":\"bar\"}],\"carpet\":[{\"aaxis\":{\"endlinecolor\":\"rgb(36,36,36)\",\"gridcolor\":\"white\",\"linecolor\":\"white\",\"minorgridcolor\":\"white\",\"startlinecolor\":\"rgb(36,36,36)\"},\"baxis\":{\"endlinecolor\":\"rgb(36,36,36)\",\"gridcolor\":\"white\",\"linecolor\":\"white\",\"minorgridcolor\":\"white\",\"startlinecolor\":\"rgb(36,36,36)\"},\"type\":\"carpet\"}],\"choropleth\":[{\"colorbar\":{\"outlinewidth\":1,\"tickcolor\":\"rgb(36,36,36)\",\"ticks\":\"outside\"},\"type\":\"choropleth\"}],\"contourcarpet\":[{\"colorbar\":{\"outlinewidth\":1,\"tickcolor\":\"rgb(36,36,36)\",\"ticks\":\"outside\"},\"type\":\"contourcarpet\"}],\"contour\":[{\"colorbar\":{\"outlinewidth\":1,\"tickcolor\":\"rgb(36,36,36)\",\"ticks\":\"outside\"},\"colorscale\":[[0.0,\"#440154\"],[0.1111111111111111,\"#482878\"],[0.2222222222222222,\"#3e4989\"],[0.3333333333333333,\"#31688e\"],[0.4444444444444444,\"#26828e\"],[0.5555555555555556,\"#1f9e89\"],[0.6666666666666666,\"#35b779\"],[0.7777777777777778,\"#6ece58\"],[0.8888888888888888,\"#b5de2b\"],[1.0,\"#fde725\"]],\"type\":\"contour\"}],\"heatmapgl\":[{\"colorbar\":{\"outlinewidth\":1,\"tickcolor\":\"rgb(36,36,36)\",\"ticks\":\"outside\"},\"colorscale\":[[0.0,\"#440154\"],[0.1111111111111111,\"#482878\"],[0.2222222222222222,\"#3e4989\"],[0.3333333333333333,\"#31688e\"],[0.4444444444444444,\"#26828e\"],[0.5555555555555556,\"#1f9e89\"],[0.6666666666666666,\"#35b779\"],[0.7777777777777778,\"#6ece58\"],[0.8888888888888888,\"#b5de2b\"],[1.0,\"#fde725\"]],\"type\":\"heatmapgl\"}],\"heatmap\":[{\"colorbar\":{\"outlinewidth\":1,\"tickcolor\":\"rgb(36,36,36)\",\"ticks\":\"outside\"},\"colorscale\":[[0.0,\"#440154\"],[0.1111111111111111,\"#482878\"],[0.2222222222222222,\"#3e4989\"],[0.3333333333333333,\"#31688e\"],[0.4444444444444444,\"#26828e\"],[0.5555555555555556,\"#1f9e89\"],[0.6666666666666666,\"#35b779\"],[0.7777777777777778,\"#6ece58\"],[0.8888888888888888,\"#b5de2b\"],[1.0,\"#fde725\"]],\"type\":\"heatmap\"}],\"histogram2dcontour\":[{\"colorbar\":{\"outlinewidth\":1,\"tickcolor\":\"rgb(36,36,36)\",\"ticks\":\"outside\"},\"colorscale\":[[0.0,\"#440154\"],[0.1111111111111111,\"#482878\"],[0.2222222222222222,\"#3e4989\"],[0.3333333333333333,\"#31688e\"],[0.4444444444444444,\"#26828e\"],[0.5555555555555556,\"#1f9e89\"],[0.6666666666666666,\"#35b779\"],[0.7777777777777778,\"#6ece58\"],[0.8888888888888888,\"#b5de2b\"],[1.0,\"#fde725\"]],\"type\":\"histogram2dcontour\"}],\"histogram2d\":[{\"colorbar\":{\"outlinewidth\":1,\"tickcolor\":\"rgb(36,36,36)\",\"ticks\":\"outside\"},\"colorscale\":[[0.0,\"#440154\"],[0.1111111111111111,\"#482878\"],[0.2222222222222222,\"#3e4989\"],[0.3333333333333333,\"#31688e\"],[0.4444444444444444,\"#26828e\"],[0.5555555555555556,\"#1f9e89\"],[0.6666666666666666,\"#35b779\"],[0.7777777777777778,\"#6ece58\"],[0.8888888888888888,\"#b5de2b\"],[1.0,\"#fde725\"]],\"type\":\"histogram2d\"}],\"histogram\":[{\"marker\":{\"line\":{\"color\":\"white\",\"width\":0.6}},\"type\":\"histogram\"}],\"mesh3d\":[{\"colorbar\":{\"outlinewidth\":1,\"tickcolor\":\"rgb(36,36,36)\",\"ticks\":\"outside\"},\"type\":\"mesh3d\"}],\"parcoords\":[{\"line\":{\"colorbar\":{\"outlinewidth\":1,\"tickcolor\":\"rgb(36,36,36)\",\"ticks\":\"outside\"}},\"type\":\"parcoords\"}],\"pie\":[{\"automargin\":true,\"type\":\"pie\"}],\"scatter3d\":[{\"line\":{\"colorbar\":{\"outlinewidth\":1,\"tickcolor\":\"rgb(36,36,36)\",\"ticks\":\"outside\"}},\"marker\":{\"colorbar\":{\"outlinewidth\":1,\"tickcolor\":\"rgb(36,36,36)\",\"ticks\":\"outside\"}},\"type\":\"scatter3d\"}],\"scattercarpet\":[{\"marker\":{\"colorbar\":{\"outlinewidth\":1,\"tickcolor\":\"rgb(36,36,36)\",\"ticks\":\"outside\"}},\"type\":\"scattercarpet\"}],\"scattergeo\":[{\"marker\":{\"colorbar\":{\"outlinewidth\":1,\"tickcolor\":\"rgb(36,36,36)\",\"ticks\":\"outside\"}},\"type\":\"scattergeo\"}],\"scattergl\":[{\"marker\":{\"colorbar\":{\"outlinewidth\":1,\"tickcolor\":\"rgb(36,36,36)\",\"ticks\":\"outside\"}},\"type\":\"scattergl\"}],\"scattermapbox\":[{\"marker\":{\"colorbar\":{\"outlinewidth\":1,\"tickcolor\":\"rgb(36,36,36)\",\"ticks\":\"outside\"}},\"type\":\"scattermapbox\"}],\"scatterpolargl\":[{\"marker\":{\"colorbar\":{\"outlinewidth\":1,\"tickcolor\":\"rgb(36,36,36)\",\"ticks\":\"outside\"}},\"type\":\"scatterpolargl\"}],\"scatterpolar\":[{\"marker\":{\"colorbar\":{\"outlinewidth\":1,\"tickcolor\":\"rgb(36,36,36)\",\"ticks\":\"outside\"}},\"type\":\"scatterpolar\"}],\"scatter\":[{\"fillpattern\":{\"fillmode\":\"overlay\",\"size\":10,\"solidity\":0.2},\"type\":\"scatter\"}],\"scatterternary\":[{\"marker\":{\"colorbar\":{\"outlinewidth\":1,\"tickcolor\":\"rgb(36,36,36)\",\"ticks\":\"outside\"}},\"type\":\"scatterternary\"}],\"surface\":[{\"colorbar\":{\"outlinewidth\":1,\"tickcolor\":\"rgb(36,36,36)\",\"ticks\":\"outside\"},\"colorscale\":[[0.0,\"#440154\"],[0.1111111111111111,\"#482878\"],[0.2222222222222222,\"#3e4989\"],[0.3333333333333333,\"#31688e\"],[0.4444444444444444,\"#26828e\"],[0.5555555555555556,\"#1f9e89\"],[0.6666666666666666,\"#35b779\"],[0.7777777777777778,\"#6ece58\"],[0.8888888888888888,\"#b5de2b\"],[1.0,\"#fde725\"]],\"type\":\"surface\"}],\"table\":[{\"cells\":{\"fill\":{\"color\":\"rgb(237,237,237)\"},\"line\":{\"color\":\"white\"}},\"header\":{\"fill\":{\"color\":\"rgb(217,217,217)\"},\"line\":{\"color\":\"white\"}},\"type\":\"table\"}]},\"layout\":{\"annotationdefaults\":{\"arrowhead\":0,\"arrowwidth\":1},\"autotypenumbers\":\"strict\",\"coloraxis\":{\"colorbar\":{\"outlinewidth\":1,\"tickcolor\":\"rgb(36,36,36)\",\"ticks\":\"outside\"}},\"colorscale\":{\"diverging\":[[0.0,\"rgb(103,0,31)\"],[0.1,\"rgb(178,24,43)\"],[0.2,\"rgb(214,96,77)\"],[0.3,\"rgb(244,165,130)\"],[0.4,\"rgb(253,219,199)\"],[0.5,\"rgb(247,247,247)\"],[0.6,\"rgb(209,229,240)\"],[0.7,\"rgb(146,197,222)\"],[0.8,\"rgb(67,147,195)\"],[0.9,\"rgb(33,102,172)\"],[1.0,\"rgb(5,48,97)\"]],\"sequential\":[[0.0,\"#440154\"],[0.1111111111111111,\"#482878\"],[0.2222222222222222,\"#3e4989\"],[0.3333333333333333,\"#31688e\"],[0.4444444444444444,\"#26828e\"],[0.5555555555555556,\"#1f9e89\"],[0.6666666666666666,\"#35b779\"],[0.7777777777777778,\"#6ece58\"],[0.8888888888888888,\"#b5de2b\"],[1.0,\"#fde725\"]],\"sequentialminus\":[[0.0,\"#440154\"],[0.1111111111111111,\"#482878\"],[0.2222222222222222,\"#3e4989\"],[0.3333333333333333,\"#31688e\"],[0.4444444444444444,\"#26828e\"],[0.5555555555555556,\"#1f9e89\"],[0.6666666666666666,\"#35b779\"],[0.7777777777777778,\"#6ece58\"],[0.8888888888888888,\"#b5de2b\"],[1.0,\"#fde725\"]]},\"colorway\":[\"#1F77B4\",\"#FF7F0E\",\"#2CA02C\",\"#D62728\",\"#9467BD\",\"#8C564B\",\"#E377C2\",\"#7F7F7F\",\"#BCBD22\",\"#17BECF\"],\"font\":{\"color\":\"rgb(36,36,36)\"},\"geo\":{\"bgcolor\":\"white\",\"lakecolor\":\"white\",\"landcolor\":\"white\",\"showlakes\":true,\"showland\":true,\"subunitcolor\":\"white\"},\"hoverlabel\":{\"align\":\"left\"},\"hovermode\":\"closest\",\"mapbox\":{\"style\":\"light\"},\"paper_bgcolor\":\"white\",\"plot_bgcolor\":\"white\",\"polar\":{\"angularaxis\":{\"gridcolor\":\"rgb(232,232,232)\",\"linecolor\":\"rgb(36,36,36)\",\"showgrid\":false,\"showline\":true,\"ticks\":\"outside\"},\"bgcolor\":\"white\",\"radialaxis\":{\"gridcolor\":\"rgb(232,232,232)\",\"linecolor\":\"rgb(36,36,36)\",\"showgrid\":false,\"showline\":true,\"ticks\":\"outside\"}},\"scene\":{\"xaxis\":{\"backgroundcolor\":\"white\",\"gridcolor\":\"rgb(232,232,232)\",\"gridwidth\":2,\"linecolor\":\"rgb(36,36,36)\",\"showbackground\":true,\"showgrid\":false,\"showline\":true,\"ticks\":\"outside\",\"zeroline\":false,\"zerolinecolor\":\"rgb(36,36,36)\"},\"yaxis\":{\"backgroundcolor\":\"white\",\"gridcolor\":\"rgb(232,232,232)\",\"gridwidth\":2,\"linecolor\":\"rgb(36,36,36)\",\"showbackground\":true,\"showgrid\":false,\"showline\":true,\"ticks\":\"outside\",\"zeroline\":false,\"zerolinecolor\":\"rgb(36,36,36)\"},\"zaxis\":{\"backgroundcolor\":\"white\",\"gridcolor\":\"rgb(232,232,232)\",\"gridwidth\":2,\"linecolor\":\"rgb(36,36,36)\",\"showbackground\":true,\"showgrid\":false,\"showline\":true,\"ticks\":\"outside\",\"zeroline\":false,\"zerolinecolor\":\"rgb(36,36,36)\"}},\"shapedefaults\":{\"fillcolor\":\"black\",\"line\":{\"width\":0},\"opacity\":0.3},\"ternary\":{\"aaxis\":{\"gridcolor\":\"rgb(232,232,232)\",\"linecolor\":\"rgb(36,36,36)\",\"showgrid\":false,\"showline\":true,\"ticks\":\"outside\"},\"baxis\":{\"gridcolor\":\"rgb(232,232,232)\",\"linecolor\":\"rgb(36,36,36)\",\"showgrid\":false,\"showline\":true,\"ticks\":\"outside\"},\"bgcolor\":\"white\",\"caxis\":{\"gridcolor\":\"rgb(232,232,232)\",\"linecolor\":\"rgb(36,36,36)\",\"showgrid\":false,\"showline\":true,\"ticks\":\"outside\"}},\"title\":{\"x\":0.05},\"xaxis\":{\"automargin\":true,\"gridcolor\":\"rgb(232,232,232)\",\"linecolor\":\"rgb(36,36,36)\",\"showgrid\":false,\"showline\":true,\"ticks\":\"outside\",\"title\":{\"standoff\":15},\"zeroline\":false,\"zerolinecolor\":\"rgb(36,36,36)\"},\"yaxis\":{\"automargin\":true,\"gridcolor\":\"rgb(232,232,232)\",\"linecolor\":\"rgb(36,36,36)\",\"showgrid\":false,\"showline\":true,\"ticks\":\"outside\",\"title\":{\"standoff\":15},\"zeroline\":false,\"zerolinecolor\":\"rgb(36,36,36)\"}}},\"shapes\":[{\"line\":{\"color\":\"blue\",\"dash\":\"dot\",\"width\":2},\"name\":\"Grid result\",\"type\":\"line\",\"x0\":0,\"x1\":5,\"y0\":19.635772,\"y1\":19.635772},{\"line\":{\"color\":\"red\",\"dash\":\"solid\",\"width\":2},\"name\":\"Iterativ without bounds\",\"type\":\"line\",\"x0\":0,\"x1\":5,\"y0\":1187.138718,\"y1\":1187.138718}],\"title\":{\"text\":\"Evolution of the durations of the iterativ fit over the repetitions\"},\"xaxis\":{\"title\":{\"text\":\"Number of repetition\"}},\"yaxis\":{\"title\":{\"text\":\"Duration (s)\"}}},                        {\"responsive\": true}                    ).then(function(){\n",
       "                            \n",
       "var gd = document.getElementById('96414b2c-d993-4f0a-9117-74368c75aa5c');\n",
       "var x = new MutationObserver(function (mutations, observer) {{\n",
       "        var display = window.getComputedStyle(gd).display;\n",
       "        if (!display || display === 'none') {{\n",
       "            console.log([gd, 'removed!']);\n",
       "            Plotly.purge(gd);\n",
       "            observer.disconnect();\n",
       "        }}\n",
       "}});\n",
       "\n",
       "// Listen for the removal of the full notebook cells\n",
       "var notebookContainer = gd.closest('#notebook-container');\n",
       "if (notebookContainer) {{\n",
       "    x.observe(notebookContainer, {childList: true});\n",
       "}}\n",
       "\n",
       "// Listen for the clearing of the current output cell\n",
       "var outputEl = gd.closest('.output');\n",
       "if (outputEl) {{\n",
       "    x.observe(outputEl, {childList: true});\n",
       "}}\n",
       "\n",
       "                        })                };                });            </script>        </div>"
      ]
     },
     "metadata": {},
     "output_type": "display_data"
    }
   ],
   "source": [
    "fig3 = go.Figure()\n",
    "cumulative_durations = np.cumsum(gauss_duration_repeat[2:])\n",
    "# plot duration iterativ repeat\n",
    "fig3.add_trace(go.Bar(x=np.arange(0,n_repeat,1)+1,\n",
    "                      y=cumulative_durations,\n",
    "                      marker=dict(color='purple'),\n",
    "                      name='Cumulative Values'))\n",
    "\n",
    "\n",
    "# plot duration Iterativ without bounds \n",
    "fig3.add_shape(\n",
    "    type='line',\n",
    "    x0=0, y0=gauss_duration_repeat[grid_place], x1=n_repeat+1, y1=gauss_duration_repeat[grid_place],\n",
    "    line=dict(color='blue', width=2, dash='dot'), \n",
    "    name='Grid result')\n",
    "\n",
    "# plot duration grid \n",
    "fig3.add_shape(\n",
    "    type='line',\n",
    "    x0=0, y0=gauss_duration_repeat[no_bd], x1=n_repeat+1, y1=gauss_duration_repeat[no_bd],\n",
    "    line=dict(color='red', width=2, dash='solid'), \n",
    "    name='Iterativ without bounds')\n",
    "\n",
    "# for the legend\n",
    "fig3.add_trace(go.Scatter(x=[None],\n",
    "                          y=[None],\n",
    "                          mode='lines',\n",
    "                          line=dict(color='blue', width=2, dash='dot'),\n",
    "                          name='Grid result'))\n",
    "\n",
    "fig3.add_trace(go.Scatter(x=[None],\n",
    "                          y=[None],\n",
    "                          mode='lines',\n",
    "                          line=dict(color='red', width=2, dash='solid'),\n",
    "                          name='Iterativ without bounds'))\n",
    "\n",
    "\n",
    "fig3.update_layout(template='simple_white',\n",
    "                  title = 'Evolution of the durations of the iterativ fit over the repetitions',\n",
    "                  xaxis_title = 'Number of repetition',\n",
    "                  yaxis_title = 'Duration (s)')\n",
    "\n",
    "fig2.update_xaxes(range=[0,n_repeat+1])\n",
    "fig2.update_yaxes(range=[0,1500])\n",
    "\n",
    "fig3.show()"
   ]
  },
  {
   "cell_type": "markdown",
   "id": "6d4a4a2c-3766-492b-867d-fdad0342d956",
   "metadata": {},
   "source": [
    "# Figure 4"
   ]
  },
  {
   "cell_type": "code",
   "execution_count": 12,
   "id": "25b3381e-e8f1-44f2-b800-bf507907d828",
   "metadata": {},
   "outputs": [
    {
     "data": {
      "application/vnd.plotly.v1+json": {
       "config": {
        "plotlyServerURL": "https://plot.ly"
       },
       "data": [
        {
         "mode": "markers",
         "name": "data",
         "type": "scatter",
         "y": [
          -0.0304113756865263,
          -0.40991681814193726,
          -0.6058700680732727,
          -0.5151227712631226,
          -0.5065390467643738,
          -0.4522143602371216,
          -0.3919394314289093,
          -0.43755313754081726,
          -0.6000717878341675,
          -0.5985335111618042,
          -0.47636663913726807,
          -0.634094774723053,
          -0.3828558921813965,
          -0.5170423984527588,
          -0.23790806531906128,
          -0.24547258019447327,
          -0.4297481179237366,
          -0.339885413646698,
          -0.2760068476200104,
          -0.3538551330566406,
          -0.19937801361083984,
          -0.2163543403148651,
          -0.06300947070121765,
          0.07987803220748901,
          0.24703407287597656,
          0.6278319358825684,
          0.4869252145290375,
          1.0000296831130981,
          1.479936957359314,
          1.5146539211273193,
          1.9023346900939941,
          2.2382047176361084,
          2.154444932937622,
          2.1818387508392334,
          2.1967222690582275,
          2.0566720962524414,
          1.9070491790771484,
          1.2621814012527466,
          0.7187486290931702,
          -0.03994804248213768,
          -0.468578964471817,
          -0.5425387620925903,
          -0.8003467917442322,
          -0.6490293145179749,
          -0.6676108837127686,
          -0.6960729360580444,
          -0.9182592630386353,
          -1.1594171524047852,
          -1.0556141138076782,
          -1.1186853647232056,
          -0.9430353045463562,
          -0.8924098014831543,
          -0.8668462634086609,
          -0.32117754220962524,
          -0.4086518883705139,
          -0.4370284378528595,
          -0.553661584854126,
          -0.546748161315918,
          -0.7337378859519958,
          -0.23922434449195862,
          0.07737448066473007,
          -0.10985451936721802,
          0.1442512571811676,
          -0.3571838438510895,
          -0.5781698822975159,
          -0.5546489357948303,
          -0.8437806367874146,
          -1.0252467393875122,
          -0.9396977424621582,
          -0.7315757274627686,
          -0.7010664939880371,
          -0.4662662148475647,
          -0.37441086769104004,
          -0.39161741733551025,
          -0.38056522607803345,
          -0.4677548110485077,
          -0.282999187707901,
          -0.6286620497703552,
          -0.27384352684020996,
          -0.19059404730796814,
          0.005604577250778675,
          -0.0725177451968193,
          0.08167227357625961,
          0.38535749912261963,
          0.3713807761669159,
          0.5394313335418701,
          0.9201751947402954,
          1.333345651626587,
          1.7585785388946533,
          2.134401321411133,
          2.5860867500305176,
          2.2961530685424805,
          2.5503334999084473,
          2.4586033821105957,
          1.975616455078125,
          1.190748929977417,
          0.531917154788971,
          0.12407320737838745,
          -0.3559921085834503,
          -0.4192877411842346,
          -0.4776560366153717,
          -0.23222790658473969,
          -0.3042076528072357,
          -0.4634605050086975,
          -0.4745748043060303,
          -0.5655931234359741,
          -0.7313477396965027,
          -0.808379054069519,
          -0.6243097186088562,
          -0.4927496910095215,
          -0.23150965571403503,
          -0.1778004914522171,
          -0.4163610339164734,
          -0.6829274296760559,
          -0.9427180886268616,
          -0.880556046962738,
          -0.9133520126342773,
          -0.7869443297386169,
          -0.9063743948936462,
          -0.8443682789802551,
          -0.6717497706413269,
          -0.8497838973999023,
          -0.7489715218544006,
          -0.7746828198432922,
          -0.5813456177711487,
          -0.6981573700904846,
          -0.2629563510417938,
          -0.18933162093162537,
          -0.2776896357536316,
          0.019328543916344643,
          -0.0034822355955839157,
          0.05485351383686066,
          0.19295728206634521,
          0.25475287437438965,
          0.5106022357940674,
          0.7689722776412964,
          0.9355124235153198,
          1.1401376724243164,
          1.7436954975128174,
          1.7404299974441528,
          1.7031340599060059,
          1.578964352607727,
          1.4191479682922363,
          0.8344366550445557,
          0.20646080374717712,
          0.09378008544445038,
          -0.42268484830856323,
          -0.49140411615371704,
          -0.42560121417045593,
          -0.7662385106086731,
          -0.6118411421775818,
          -0.8437819480895996,
          -0.9127508401870728,
          -0.816861093044281,
          -1.0542007684707642,
          -0.8873082399368286,
          -0.8152562379837036,
          -0.8350979089736938,
          -0.6836800575256348,
          -0.9786142706871033,
          -0.9891031980514526,
          -0.8771830797195435,
          -0.9171870946884155,
          -1.103667140007019,
          -0.7749367952346802,
          -0.3330771028995514,
          -0.12345357984304428,
          -0.16669096052646637,
          0.03328055143356323,
          0.3119639456272125,
          0.49938711524009705,
          0.7970637083053589,
          1.2069950103759766,
          1.3974661827087402,
          1.4621763229370117,
          1.736134648323059,
          1.9979417324066162,
          2.061652660369873,
          2.1134204864501953,
          1.9563243389129639,
          1.7021671533584595,
          0.9270269274711609,
          0.5805649161338806,
          0.012419678270816803,
          -0.2634105980396271,
          -0.4284816086292267,
          -0.47420579195022583,
          -0.5080395936965942,
          -0.3719806671142578,
          -0.397918164730072,
          -0.4710822105407715,
          -0.5883211493492126,
          -0.3982774615287781,
          -0.16230084002017975,
          -0.4661964774131775,
          -0.6242302656173706,
          -0.4660113453865051,
          -0.5787839293479919,
          -0.7158832550048828,
          -0.5750141143798828,
          -0.43066272139549255,
          -0.27690351009368896,
          -0.16209086775779724,
          -0.2401641607284546,
          -0.23958083987236023,
          -0.2870619297027588,
          -0.19184990227222443,
          -0.22434473037719727
         ]
        },
        {
         "name": "Iterativ fit with bounds (R2=0.90)",
         "type": "scatter",
         "y": [
          -0.5195679664611816,
          -0.5195915699005127,
          -0.5196047425270081,
          -0.5196118950843811,
          -0.5196155905723572,
          -0.51961749792099,
          -0.5196184515953064,
          -0.5196189284324646,
          -0.5196191668510437,
          -0.5196192264556885,
          -0.5196192860603333,
          -0.5196192860603333,
          -0.5196192860603333,
          -0.5196192860603333,
          -0.5196192860603333,
          -0.5196192860603333,
          -0.5196192860603333,
          -0.5196192860603333,
          -0.5196192860603333,
          -0.5144919157028198,
          -0.4858855605125427,
          -0.41978275775909424,
          -0.3079212009906769,
          -0.13431425392627716,
          0.12995631992816925,
          0.45894816517829895,
          0.7517560720443726,
          1.0218735933303833,
          1.3121145963668823,
          1.6140433549880981,
          1.8773390054702759,
          2.0427091121673584,
          2.0666611194610596,
          1.9330471754074097,
          1.6857752799987793,
          1.4336249828338623,
          1.1523388624191284,
          0.7982166409492493,
          0.40848448872566223,
          0.04396791756153107,
          -0.25547805428504944,
          -0.475632905960083,
          -0.6197037696838379,
          -0.6999272704124451,
          -0.7315812110900879,
          -0.729560375213623,
          -0.7077344655990601,
          -0.6769123673439026,
          -0.644247829914093,
          -0.6139636039733887,
          -0.5881993770599365,
          -0.5676672458648682,
          -0.5521654486656189,
          -0.540992796421051,
          -0.5332614183425903,
          -0.5281006693840027,
          -0.5247650742530823,
          -0.522670567035675,
          -0.5213896632194519,
          -0.5206252932548523,
          -0.5201794505119324,
          -0.519925057888031,
          -0.5197829008102417,
          -0.5197051167488098,
          -0.519663393497467,
          -0.5196413993835449,
          -0.5196301341056824,
          -0.5196239948272705,
          -0.5196175575256348,
          -0.5196021795272827,
          -0.5195552110671997,
          -0.5194118022918701,
          -0.5189974308013916,
          -0.5181614756584167,
          -0.5169573426246643,
          -0.514479398727417,
          -0.5086002945899963,
          -0.495598703622818,
          -0.46931561827659607,
          -0.42032742500305176,
          -0.33578410744667053,
          -0.20151293277740479,
          0.0025821132585406303,
          0.31022050976753235,
          0.685294508934021,
          1.0064342021942139,
          1.2837202548980713,
          1.5582066774368286,
          1.8168119192123413,
          2.0081348419189453,
          2.079555034637451,
          2.0013926029205322,
          1.8003865480422974,
          1.5688375234603882,
          1.3109371662139893,
          0.9874863028526306,
          0.6018117070198059,
          0.21071195602416992,
          -0.13044223189353943,
          -0.3972451090812683,
          -0.5880450010299683,
          -0.7039501667022705,
          -0.7554446458816528,
          -0.7609848380088806,
          -0.739172101020813,
          -0.7043663859367371,
          -0.6661137342453003,
          -0.6301013231277466,
          -0.5992651581764221,
          -0.574671745300293,
          -0.5561895370483398,
          -0.5430127382278442,
          -0.5340577363967896,
          -0.52823406457901,
          -0.524597704410553,
          -0.5224107503890991,
          -0.5211379528045654,
          -0.5204126834869385,
          -0.5199857950210571,
          -0.5196627378463745,
          -0.5192151665687561,
          -0.5182792544364929,
          -0.5166018009185791,
          -0.5141584873199463,
          -0.5092547535896301,
          -0.4982761740684509,
          -0.4753996729850769,
          -0.43180423974990845,
          -0.35525617003440857,
          -0.23183485865592957,
          -0.04165080934762955,
          0.24861861765384674,
          0.606922447681427,
          0.9186945557594299,
          1.1956030130386353,
          1.4785021543502808,
          1.7545526027679443,
          1.9717527627944946,
          2.074789524078369,
          2.029359817504883,
          1.831852912902832,
          1.5361319780349731,
          1.2494337558746338,
          0.9522390961647034,
          0.6059502363204956,
          0.24085737764835358,
          -0.0911349281668663,
          -0.36034706234931946,
          -0.559427797794342,
          -0.6845294833183289,
          -0.74362713098526,
          -0.7547478675842285,
          -0.7368178963661194,
          -0.7045565843582153,
          -0.6677775382995605,
          -0.6324074268341064,
          -0.6016306281089783,
          -0.5767534971237183,
          -0.5578418374061584,
          -0.5442243814468384,
          -0.5348905920982361,
          -0.5287759900093079,
          -0.5249338150024414,
          -0.5180806517601013,
          -0.4913477301597595,
          -0.43141597509384155,
          -0.3295259475708008,
          -0.16943421959877014,
          0.07734191417694092,
          0.4128058850765228,
          0.7773420810699463,
          1.0856703519821167,
          1.3586444854736328,
          1.6275125741958618,
          1.8713313341140747,
          2.0374972820281982,
          2.076998472213745,
          1.965102195739746,
          1.7394492626190186,
          1.5068249702453613,
          1.238372564315796,
          0.8858921527862549,
          0.4878816604614258,
          0.10909941047430038,
          -0.20694971084594727,
          -0.4433334171772003,
          -0.6014706492424011,
          -0.692659854888916,
          -0.7321699857711792,
          -0.7354775071144104,
          -0.7161946892738342,
          -0.6857037544250488,
          -0.6521588563919067,
          -0.6205177307128906,
          -0.5933215618133545,
          -0.5714784264564514,
          -0.5548745393753052,
          -0.5428356528282166,
          -0.5344631671905518,
          -0.5288537740707397,
          -0.5252197980880737,
          -0.5229362845420837,
          -0.5215404033660889,
          -0.5207086205482483,
          -0.5202245116233826,
          -0.5199489593505859,
          -0.5197953581809998,
          -0.5197115540504456
         ]
        },
        {
         "name": "Grid search results (R2=0.87)",
         "type": "scatter",
         "y": [
          -0.5302154421806335,
          -0.5302377939224243,
          -0.5302504301071167,
          -0.5302573442459106,
          -0.5302610397338867,
          -0.5302629470825195,
          -0.5302639007568359,
          -0.5302643775939941,
          -0.5302646160125732,
          -0.5302647948265076,
          -0.5302648544311523,
          -0.5302648544311523,
          -0.5302648544311523,
          -0.5302649140357971,
          -0.5302649140357971,
          -0.5302649140357971,
          -0.5302649140357971,
          -0.5302649140357971,
          -0.5302648544311523,
          -0.5188679099082947,
          -0.4566184878349304,
          -0.3232273459434509,
          -0.12411021441221237,
          0.14289447665214539,
          0.5026457905769348,
          0.9082139134407043,
          1.229993224143982,
          1.4694325923919678,
          1.6726596355438232,
          1.8424787521362305,
          1.946614146232605,
          1.9497315883636475,
          1.8337684869766235,
          1.6031066179275513,
          1.3043111562728882,
          1.0290861129760742,
          0.7613638639450073,
          0.4621255695819855,
          0.15155553817749023,
          -0.13035933673381805,
          -0.35760584473609924,
          -0.5222510695457458,
          -0.6284716129302979,
          -0.6863929629325867,
          -0.7078074216842651,
          -0.7038627862930298,
          -0.685066819190979,
          -0.6596871614456177,
          -0.6331573724746704,
          -0.6086416840553284,
          -0.5877318382263184,
          -0.5709615349769592,
          -0.5581836700439453,
          -0.5488686561584473,
          -0.5423354506492615,
          -0.53790682554245,
          -0.5349945425987244,
          -0.5331302881240845,
          -0.5319658517837524,
          -0.5312549471855164,
          -0.5308300852775574,
          -0.5305814146995544,
          -0.5304387211799622,
          -0.5303585529327393,
          -0.5303143858909607,
          -0.5302903652191162,
          -0.5302777886390686,
          -0.5302674770355225,
          -0.5302390456199646,
          -0.5301550626754761,
          -0.5299310684204102,
          -0.5293583869934082,
          -0.5279580354690552,
          -0.5253904461860657,
          -0.5219974517822266,
          -0.5160917639732361,
          -0.5039913058280945,
          -0.48035842180252075,
          -0.4378215968608856,
          -0.3667563796043396,
          -0.2559450566768646,
          -0.09520124644041061,
          0.13118299841880798,
          0.45419952273368835,
          0.8313784003257751,
          1.1377432346343994,
          1.3756827116012573,
          1.5878514051437378,
          1.7734936475753784,
          1.8979840278625488,
          1.9238731861114502,
          1.8306039571762085,
          1.6431300640106201,
          1.4423441886901855,
          1.2271393537521362,
          0.9543532729148865,
          0.616524338722229,
          0.2608638405799866,
          -0.06134411692619324,
          -0.32620665431022644,
          -0.5294032692909241,
          -0.6644138097763062,
          -0.7345988750457764,
          -0.754997968673706,
          -0.7436261773109436,
          -0.715457022190094,
          -0.6809104084968567,
          -0.6464918851852417,
          -0.6158443093299866,
          -0.5906200408935547,
          -0.571138322353363,
          -0.5569014549255371,
          -0.547002911567688,
          -0.540427029132843,
          -0.5362376570701599,
          -0.5336692929267883,
          -0.5321452021598816,
          -0.5312572121620178,
          -0.5307193994522095,
          -0.5303047895431519,
          -0.5297592282295227,
          -0.5287154316902161,
          -0.5269387364387512,
          -0.524480938911438,
          -0.5199546217918396,
          -0.5104525685310364,
          -0.4915487468242645,
          -0.4568023681640625,
          -0.3973889946937561,
          -0.30314797163009644,
          -0.1588965654373169,
          0.06282267719507217,
          0.34214383363723755,
          0.593624472618103,
          0.8281047344207764,
          1.0847488641738892,
          1.3630727529525757,
          1.6272518634796143,
          1.829695224761963,
          1.9293831586837769,
          1.9023226499557495,
          1.7769657373428345,
          1.6447250843048096,
          1.4658448696136475,
          1.173425316810608,
          0.7967850565910339,
          0.4028872847557068,
          0.03273607790470123,
          -0.2936709225177765,
          -0.5415778756141663,
          -0.6956103444099426,
          -0.7687997221946716,
          -0.7856298089027405,
          -0.7687675356864929,
          -0.7348507642745972,
          -0.6949173212051392,
          -0.6558474898338318,
          -0.621530294418335,
          -0.5936856269836426,
          -0.5725247263908386,
          -0.5573360323905945,
          -0.5469770431518555,
          -0.5402311682701111,
          -0.5305285453796387,
          -0.4973520338535309,
          -0.4268484115600586,
          -0.3143923878669739,
          -0.14913374185562134,
          0.09334073215723038,
          0.4109249711036682,
          0.7464566230773926,
          1.0228416919708252,
          1.2584760189056396,
          1.4870445728302002,
          1.6995075941085815,
          1.8572746515274048,
          1.9199727773666382,
          1.8624789714813232,
          1.7111202478408813,
          1.5569860935211182,
          1.3640092611312866,
          1.0694749355316162,
          0.7027848958969116,
          0.3284471929073334,
          -0.005645989906042814,
          -0.27577629685401917,
          -0.47558140754699707,
          -0.6091451644897461,
          -0.6863594055175781,
          -0.719494640827179,
          -0.7209079265594482,
          -0.7032276391983032,
          -0.6766201853752136,
          -0.6477502584457397,
          -0.6205266118049622,
          -0.596985399723053,
          -0.5779008269309998,
          -0.5632194876670837,
          -0.5524172186851501,
          -0.5447703003883362,
          -0.5395371317863464,
          -0.5360609889030457,
          -0.5338122844696045,
          -0.5323923230171204,
          -0.5315155982971191,
          -0.5309857726097107,
          -0.5306722521781921,
          -0.530490517616272
         ]
        },
        {
         "name": "Iterativ fit without bounds (R2=0.91)",
         "type": "scatter",
         "y": [
          -0.5046114325523376,
          -0.5046416521072388,
          -0.5046594738960266,
          -0.5046696662902832,
          -0.5046752691268921,
          -0.5046783089637756,
          -0.5046799182891846,
          -0.5046807527542114,
          -0.5046811699867249,
          -0.504681408405304,
          -0.5046814680099487,
          -0.5046815276145935,
          -0.5046815276145935,
          -0.5046815276145935,
          -0.5046815276145935,
          -0.5046815276145935,
          -0.5046815276145935,
          -0.5046815276145935,
          -0.5046814680099487,
          -0.5025224089622498,
          -0.4893874228000641,
          -0.45546048879623413,
          -0.3892352879047394,
          -0.27166491746902466,
          -0.07363930344581604,
          0.198811873793602,
          0.4762353301048279,
          0.7712568640708923,
          1.1100279092788696,
          1.4743626117706299,
          1.8113585710525513,
          2.0571534633636475,
          2.158620834350586,
          2.088947057723999,
          1.876523733139038,
          1.6130086183547974,
          1.2965939044952393,
          0.9181950092315674,
          0.518896222114563,
          0.1479179710149765,
          -0.16241943836212158,
          -0.3982342779636383,
          -0.5597974061965942,
          -0.6563982963562012,
          -0.7016685605049133,
          -0.710112988948822,
          -0.6951833963394165,
          -0.6678546667098999,
          -0.6361541152000427,
          -0.6053534150123596,
          -0.5784217715263367,
          -0.5565885305404663,
          -0.5399189591407776,
          -0.5278174877166748,
          -0.5194091200828552,
          -0.5137903690338135,
          -0.5101659893989563,
          -0.5079012513160706,
          -0.5065270662307739,
          -0.5057154893875122,
          -0.5052480697631836,
          -0.5049852132797241,
          -0.5048407912254333,
          -0.5047631859779358,
          -0.5047224164009094,
          -0.5047011375427246,
          -0.5046905875205994,
          -0.504685640335083,
          -0.5046831369400024,
          -0.5046812295913696,
          -0.504676878452301,
          -0.504660964012146,
          -0.5046022534370422,
          -0.5044625997543335,
          -0.5042295455932617,
          -0.5036365985870361,
          -0.5019418597221375,
          -0.4974706768989563,
          -0.4867456555366516,
          -0.46326589584350586,
          -0.41626712679862976,
          -0.3307386040687561,
          -0.18499189615249634,
          0.05387628450989723,
          0.37383735179901123,
          0.6896973252296448,
          1.0093296766281128,
          1.3535512685775757,
          1.6960822343826294,
          1.9798681735992432,
          2.1451897621154785,
          2.1513404846191406,
          2.0079891681671143,
          1.7896437644958496,
          1.509699821472168,
          1.1574511528015137,
          0.7557152509689331,
          0.3556276857852936,
          0.001854296075180173,
          -0.2821498513221741,
          -0.4904848337173462,
          -0.6255310773849487,
          -0.6979358792304993,
          -0.723170280456543,
          -0.7168111801147461,
          -0.6920966506004333,
          -0.65915846824646,
          -0.6250196099281311,
          -0.5939602851867676,
          -0.5680810809135437,
          -0.5479328632354736,
          -0.5331088900566101,
          -0.5227262377738953,
          -0.5157673358917236,
          -0.5112857818603516,
          -0.5085039138793945,
          -0.5068338513374329,
          -0.5058615803718567,
          -0.5053096413612366,
          -0.5049961805343628,
          -0.5047910213470459,
          -0.504565417766571,
          -0.5042114853858948,
          -0.503653883934021,
          -0.5023196339607239,
          -0.4987705945968628,
          -0.4900243878364563,
          -0.4704050123691559,
          -0.4302430748939514,
          -0.35560736060142517,
          -0.22588495910167694,
          -0.009183861315250397,
          0.28615087270736694,
          0.5828756093978882,
          0.891867458820343,
          1.2360478639602661,
          1.592007040977478,
          1.903772234916687,
          2.1089744567871094,
          2.16064453125,
          2.041433572769165,
          1.7882798910140991,
          1.493894100189209,
          1.1607033014297485,
          0.7826558351516724,
          0.39661097526550293,
          0.04648605361580849,
          -0.24124577641487122,
          -0.45752450823783875,
          -0.6015961766242981,
          -0.6822385787963867,
          -0.7142541408538818,
          -0.7130730152130127,
          -0.6919727325439453,
          -0.6612408757209778,
          -0.628156304359436,
          -0.5973159670829773,
          -0.5711383819580078,
          -0.5504432320594788,
          -0.5350154638290405,
          -0.5240855813026428,
          -0.516685962677002,
          -0.5118783116340637,
          -0.5070855617523193,
          -0.4943336546421051,
          -0.46461883187294006,
          -0.406974196434021,
          -0.3032209873199463,
          -0.12544406950473785,
          0.1421836018562317,
          0.4694061875343323,
          0.7909294366836548,
          1.1177321672439575,
          1.461607575416565,
          1.7897928953170776,
          2.0439071655273438,
          2.1678261756896973,
          2.1275794506073,
          1.9448127746582031,
          1.7083730697631836,
          1.4103336334228516,
          1.0364301204681396,
          0.6288231015205383,
          0.240853413939476,
          -0.09076686203479767,
          -0.34839415550231934,
          -0.5295664668083191,
          -0.6420009136199951,
          -0.6988313794136047,
          -0.714846670627594,
          -0.7039954662322998,
          -0.6780984401702881,
          -0.6461077332496643,
          -0.6140624284744263,
          -0.5854933857917786,
          -0.5619998574256897,
          -0.5438567399978638,
          -0.5305585265159607,
          -0.5212422013282776,
          -0.5149718523025513,
          -0.5109015703201294,
          -0.5083453059196472,
          -0.5067873001098633,
          -0.5058638453483582,
          -0.505330502986908,
          -0.5050299167633057,
          -0.5048643946647644,
          -0.50477534532547
         ]
        }
       ],
       "layout": {
        "autosize": true,
        "dragmode": "zoom",
        "template": {
         "data": {
          "bar": [
           {
            "error_x": {
             "color": "rgb(36,36,36)"
            },
            "error_y": {
             "color": "rgb(36,36,36)"
            },
            "marker": {
             "line": {
              "color": "white",
              "width": 0.5
             },
             "pattern": {
              "fillmode": "overlay",
              "size": 10,
              "solidity": 0.2
             }
            },
            "type": "bar"
           }
          ],
          "barpolar": [
           {
            "marker": {
             "line": {
              "color": "white",
              "width": 0.5
             },
             "pattern": {
              "fillmode": "overlay",
              "size": 10,
              "solidity": 0.2
             }
            },
            "type": "barpolar"
           }
          ],
          "carpet": [
           {
            "aaxis": {
             "endlinecolor": "rgb(36,36,36)",
             "gridcolor": "white",
             "linecolor": "white",
             "minorgridcolor": "white",
             "startlinecolor": "rgb(36,36,36)"
            },
            "baxis": {
             "endlinecolor": "rgb(36,36,36)",
             "gridcolor": "white",
             "linecolor": "white",
             "minorgridcolor": "white",
             "startlinecolor": "rgb(36,36,36)"
            },
            "type": "carpet"
           }
          ],
          "choropleth": [
           {
            "colorbar": {
             "outlinewidth": 1,
             "tickcolor": "rgb(36,36,36)",
             "ticks": "outside"
            },
            "type": "choropleth"
           }
          ],
          "contour": [
           {
            "colorbar": {
             "outlinewidth": 1,
             "tickcolor": "rgb(36,36,36)",
             "ticks": "outside"
            },
            "colorscale": [
             [
              0,
              "#440154"
             ],
             [
              0.1111111111111111,
              "#482878"
             ],
             [
              0.2222222222222222,
              "#3e4989"
             ],
             [
              0.3333333333333333,
              "#31688e"
             ],
             [
              0.4444444444444444,
              "#26828e"
             ],
             [
              0.5555555555555556,
              "#1f9e89"
             ],
             [
              0.6666666666666666,
              "#35b779"
             ],
             [
              0.7777777777777778,
              "#6ece58"
             ],
             [
              0.8888888888888888,
              "#b5de2b"
             ],
             [
              1,
              "#fde725"
             ]
            ],
            "type": "contour"
           }
          ],
          "contourcarpet": [
           {
            "colorbar": {
             "outlinewidth": 1,
             "tickcolor": "rgb(36,36,36)",
             "ticks": "outside"
            },
            "type": "contourcarpet"
           }
          ],
          "heatmap": [
           {
            "colorbar": {
             "outlinewidth": 1,
             "tickcolor": "rgb(36,36,36)",
             "ticks": "outside"
            },
            "colorscale": [
             [
              0,
              "#440154"
             ],
             [
              0.1111111111111111,
              "#482878"
             ],
             [
              0.2222222222222222,
              "#3e4989"
             ],
             [
              0.3333333333333333,
              "#31688e"
             ],
             [
              0.4444444444444444,
              "#26828e"
             ],
             [
              0.5555555555555556,
              "#1f9e89"
             ],
             [
              0.6666666666666666,
              "#35b779"
             ],
             [
              0.7777777777777778,
              "#6ece58"
             ],
             [
              0.8888888888888888,
              "#b5de2b"
             ],
             [
              1,
              "#fde725"
             ]
            ],
            "type": "heatmap"
           }
          ],
          "heatmapgl": [
           {
            "colorbar": {
             "outlinewidth": 1,
             "tickcolor": "rgb(36,36,36)",
             "ticks": "outside"
            },
            "colorscale": [
             [
              0,
              "#440154"
             ],
             [
              0.1111111111111111,
              "#482878"
             ],
             [
              0.2222222222222222,
              "#3e4989"
             ],
             [
              0.3333333333333333,
              "#31688e"
             ],
             [
              0.4444444444444444,
              "#26828e"
             ],
             [
              0.5555555555555556,
              "#1f9e89"
             ],
             [
              0.6666666666666666,
              "#35b779"
             ],
             [
              0.7777777777777778,
              "#6ece58"
             ],
             [
              0.8888888888888888,
              "#b5de2b"
             ],
             [
              1,
              "#fde725"
             ]
            ],
            "type": "heatmapgl"
           }
          ],
          "histogram": [
           {
            "marker": {
             "line": {
              "color": "white",
              "width": 0.6
             }
            },
            "type": "histogram"
           }
          ],
          "histogram2d": [
           {
            "colorbar": {
             "outlinewidth": 1,
             "tickcolor": "rgb(36,36,36)",
             "ticks": "outside"
            },
            "colorscale": [
             [
              0,
              "#440154"
             ],
             [
              0.1111111111111111,
              "#482878"
             ],
             [
              0.2222222222222222,
              "#3e4989"
             ],
             [
              0.3333333333333333,
              "#31688e"
             ],
             [
              0.4444444444444444,
              "#26828e"
             ],
             [
              0.5555555555555556,
              "#1f9e89"
             ],
             [
              0.6666666666666666,
              "#35b779"
             ],
             [
              0.7777777777777778,
              "#6ece58"
             ],
             [
              0.8888888888888888,
              "#b5de2b"
             ],
             [
              1,
              "#fde725"
             ]
            ],
            "type": "histogram2d"
           }
          ],
          "histogram2dcontour": [
           {
            "colorbar": {
             "outlinewidth": 1,
             "tickcolor": "rgb(36,36,36)",
             "ticks": "outside"
            },
            "colorscale": [
             [
              0,
              "#440154"
             ],
             [
              0.1111111111111111,
              "#482878"
             ],
             [
              0.2222222222222222,
              "#3e4989"
             ],
             [
              0.3333333333333333,
              "#31688e"
             ],
             [
              0.4444444444444444,
              "#26828e"
             ],
             [
              0.5555555555555556,
              "#1f9e89"
             ],
             [
              0.6666666666666666,
              "#35b779"
             ],
             [
              0.7777777777777778,
              "#6ece58"
             ],
             [
              0.8888888888888888,
              "#b5de2b"
             ],
             [
              1,
              "#fde725"
             ]
            ],
            "type": "histogram2dcontour"
           }
          ],
          "mesh3d": [
           {
            "colorbar": {
             "outlinewidth": 1,
             "tickcolor": "rgb(36,36,36)",
             "ticks": "outside"
            },
            "type": "mesh3d"
           }
          ],
          "parcoords": [
           {
            "line": {
             "colorbar": {
              "outlinewidth": 1,
              "tickcolor": "rgb(36,36,36)",
              "ticks": "outside"
             }
            },
            "type": "parcoords"
           }
          ],
          "pie": [
           {
            "automargin": true,
            "type": "pie"
           }
          ],
          "scatter": [
           {
            "fillpattern": {
             "fillmode": "overlay",
             "size": 10,
             "solidity": 0.2
            },
            "type": "scatter"
           }
          ],
          "scatter3d": [
           {
            "line": {
             "colorbar": {
              "outlinewidth": 1,
              "tickcolor": "rgb(36,36,36)",
              "ticks": "outside"
             }
            },
            "marker": {
             "colorbar": {
              "outlinewidth": 1,
              "tickcolor": "rgb(36,36,36)",
              "ticks": "outside"
             }
            },
            "type": "scatter3d"
           }
          ],
          "scattercarpet": [
           {
            "marker": {
             "colorbar": {
              "outlinewidth": 1,
              "tickcolor": "rgb(36,36,36)",
              "ticks": "outside"
             }
            },
            "type": "scattercarpet"
           }
          ],
          "scattergeo": [
           {
            "marker": {
             "colorbar": {
              "outlinewidth": 1,
              "tickcolor": "rgb(36,36,36)",
              "ticks": "outside"
             }
            },
            "type": "scattergeo"
           }
          ],
          "scattergl": [
           {
            "marker": {
             "colorbar": {
              "outlinewidth": 1,
              "tickcolor": "rgb(36,36,36)",
              "ticks": "outside"
             }
            },
            "type": "scattergl"
           }
          ],
          "scattermapbox": [
           {
            "marker": {
             "colorbar": {
              "outlinewidth": 1,
              "tickcolor": "rgb(36,36,36)",
              "ticks": "outside"
             }
            },
            "type": "scattermapbox"
           }
          ],
          "scatterpolar": [
           {
            "marker": {
             "colorbar": {
              "outlinewidth": 1,
              "tickcolor": "rgb(36,36,36)",
              "ticks": "outside"
             }
            },
            "type": "scatterpolar"
           }
          ],
          "scatterpolargl": [
           {
            "marker": {
             "colorbar": {
              "outlinewidth": 1,
              "tickcolor": "rgb(36,36,36)",
              "ticks": "outside"
             }
            },
            "type": "scatterpolargl"
           }
          ],
          "scatterternary": [
           {
            "marker": {
             "colorbar": {
              "outlinewidth": 1,
              "tickcolor": "rgb(36,36,36)",
              "ticks": "outside"
             }
            },
            "type": "scatterternary"
           }
          ],
          "surface": [
           {
            "colorbar": {
             "outlinewidth": 1,
             "tickcolor": "rgb(36,36,36)",
             "ticks": "outside"
            },
            "colorscale": [
             [
              0,
              "#440154"
             ],
             [
              0.1111111111111111,
              "#482878"
             ],
             [
              0.2222222222222222,
              "#3e4989"
             ],
             [
              0.3333333333333333,
              "#31688e"
             ],
             [
              0.4444444444444444,
              "#26828e"
             ],
             [
              0.5555555555555556,
              "#1f9e89"
             ],
             [
              0.6666666666666666,
              "#35b779"
             ],
             [
              0.7777777777777778,
              "#6ece58"
             ],
             [
              0.8888888888888888,
              "#b5de2b"
             ],
             [
              1,
              "#fde725"
             ]
            ],
            "type": "surface"
           }
          ],
          "table": [
           {
            "cells": {
             "fill": {
              "color": "rgb(237,237,237)"
             },
             "line": {
              "color": "white"
             }
            },
            "header": {
             "fill": {
              "color": "rgb(217,217,217)"
             },
             "line": {
              "color": "white"
             }
            },
            "type": "table"
           }
          ]
         },
         "layout": {
          "annotationdefaults": {
           "arrowhead": 0,
           "arrowwidth": 1
          },
          "autotypenumbers": "strict",
          "coloraxis": {
           "colorbar": {
            "outlinewidth": 1,
            "tickcolor": "rgb(36,36,36)",
            "ticks": "outside"
           }
          },
          "colorscale": {
           "diverging": [
            [
             0,
             "rgb(103,0,31)"
            ],
            [
             0.1,
             "rgb(178,24,43)"
            ],
            [
             0.2,
             "rgb(214,96,77)"
            ],
            [
             0.3,
             "rgb(244,165,130)"
            ],
            [
             0.4,
             "rgb(253,219,199)"
            ],
            [
             0.5,
             "rgb(247,247,247)"
            ],
            [
             0.6,
             "rgb(209,229,240)"
            ],
            [
             0.7,
             "rgb(146,197,222)"
            ],
            [
             0.8,
             "rgb(67,147,195)"
            ],
            [
             0.9,
             "rgb(33,102,172)"
            ],
            [
             1,
             "rgb(5,48,97)"
            ]
           ],
           "sequential": [
            [
             0,
             "#440154"
            ],
            [
             0.1111111111111111,
             "#482878"
            ],
            [
             0.2222222222222222,
             "#3e4989"
            ],
            [
             0.3333333333333333,
             "#31688e"
            ],
            [
             0.4444444444444444,
             "#26828e"
            ],
            [
             0.5555555555555556,
             "#1f9e89"
            ],
            [
             0.6666666666666666,
             "#35b779"
            ],
            [
             0.7777777777777778,
             "#6ece58"
            ],
            [
             0.8888888888888888,
             "#b5de2b"
            ],
            [
             1,
             "#fde725"
            ]
           ],
           "sequentialminus": [
            [
             0,
             "#440154"
            ],
            [
             0.1111111111111111,
             "#482878"
            ],
            [
             0.2222222222222222,
             "#3e4989"
            ],
            [
             0.3333333333333333,
             "#31688e"
            ],
            [
             0.4444444444444444,
             "#26828e"
            ],
            [
             0.5555555555555556,
             "#1f9e89"
            ],
            [
             0.6666666666666666,
             "#35b779"
            ],
            [
             0.7777777777777778,
             "#6ece58"
            ],
            [
             0.8888888888888888,
             "#b5de2b"
            ],
            [
             1,
             "#fde725"
            ]
           ]
          },
          "colorway": [
           "#1F77B4",
           "#FF7F0E",
           "#2CA02C",
           "#D62728",
           "#9467BD",
           "#8C564B",
           "#E377C2",
           "#7F7F7F",
           "#BCBD22",
           "#17BECF"
          ],
          "font": {
           "color": "rgb(36,36,36)"
          },
          "geo": {
           "bgcolor": "white",
           "lakecolor": "white",
           "landcolor": "white",
           "showlakes": true,
           "showland": true,
           "subunitcolor": "white"
          },
          "hoverlabel": {
           "align": "left"
          },
          "hovermode": "closest",
          "mapbox": {
           "style": "light"
          },
          "paper_bgcolor": "white",
          "plot_bgcolor": "white",
          "polar": {
           "angularaxis": {
            "gridcolor": "rgb(232,232,232)",
            "linecolor": "rgb(36,36,36)",
            "showgrid": false,
            "showline": true,
            "ticks": "outside"
           },
           "bgcolor": "white",
           "radialaxis": {
            "gridcolor": "rgb(232,232,232)",
            "linecolor": "rgb(36,36,36)",
            "showgrid": false,
            "showline": true,
            "ticks": "outside"
           }
          },
          "scene": {
           "xaxis": {
            "backgroundcolor": "white",
            "gridcolor": "rgb(232,232,232)",
            "gridwidth": 2,
            "linecolor": "rgb(36,36,36)",
            "showbackground": true,
            "showgrid": false,
            "showline": true,
            "ticks": "outside",
            "zeroline": false,
            "zerolinecolor": "rgb(36,36,36)"
           },
           "yaxis": {
            "backgroundcolor": "white",
            "gridcolor": "rgb(232,232,232)",
            "gridwidth": 2,
            "linecolor": "rgb(36,36,36)",
            "showbackground": true,
            "showgrid": false,
            "showline": true,
            "ticks": "outside",
            "zeroline": false,
            "zerolinecolor": "rgb(36,36,36)"
           },
           "zaxis": {
            "backgroundcolor": "white",
            "gridcolor": "rgb(232,232,232)",
            "gridwidth": 2,
            "linecolor": "rgb(36,36,36)",
            "showbackground": true,
            "showgrid": false,
            "showline": true,
            "ticks": "outside",
            "zeroline": false,
            "zerolinecolor": "rgb(36,36,36)"
           }
          },
          "shapedefaults": {
           "fillcolor": "black",
           "line": {
            "width": 0
           },
           "opacity": 0.3
          },
          "ternary": {
           "aaxis": {
            "gridcolor": "rgb(232,232,232)",
            "linecolor": "rgb(36,36,36)",
            "showgrid": false,
            "showline": true,
            "ticks": "outside"
           },
           "baxis": {
            "gridcolor": "rgb(232,232,232)",
            "linecolor": "rgb(36,36,36)",
            "showgrid": false,
            "showline": true,
            "ticks": "outside"
           },
           "bgcolor": "white",
           "caxis": {
            "gridcolor": "rgb(232,232,232)",
            "linecolor": "rgb(36,36,36)",
            "showgrid": false,
            "showline": true,
            "ticks": "outside"
           }
          },
          "title": {
           "x": 0.05
          },
          "xaxis": {
           "automargin": true,
           "gridcolor": "rgb(232,232,232)",
           "linecolor": "rgb(36,36,36)",
           "showgrid": false,
           "showline": true,
           "ticks": "outside",
           "title": {
            "standoff": 15
           },
           "zeroline": false,
           "zerolinecolor": "rgb(36,36,36)"
          },
          "yaxis": {
           "automargin": true,
           "gridcolor": "rgb(232,232,232)",
           "linecolor": "rgb(36,36,36)",
           "showgrid": false,
           "showline": true,
           "ticks": "outside",
           "title": {
            "standoff": 15
           },
           "zeroline": false,
           "zerolinecolor": "rgb(36,36,36)"
          }
         }
        },
        "title": {
         "text": "Evolution of the durations of the iterativ fit over the repetitions"
        },
        "xaxis": {
         "autorange": false,
         "range": [
          78.4380374878876,
          128.74501423207363
         ],
         "title": {
          "text": "Number of repetition"
         }
        },
        "yaxis": {
         "autorange": false,
         "range": [
          -2.2096299913194444,
          2.6792588975694445
         ],
         "title": {
          "text": "Duration (s)"
         },
         "type": "linear"
        }
       }
      },
      "image/png": "[encoded data removed]",
      "text/html": [
       "<div>                            <div id=\"dc7d252f-9248-4465-a259-1ccdd4a9550c\" class=\"plotly-graph-div\" style=\"height:525px; width:100%;\"></div>            <script type=\"text/javascript\">                require([\"plotly\"], function(Plotly) {                    window.PLOTLYENV=window.PLOTLYENV || {};                                    if (document.getElementById(\"dc7d252f-9248-4465-a259-1ccdd4a9550c\")) {                    Plotly.newPlot(                        \"dc7d252f-9248-4465-a259-1ccdd4a9550c\",                        [{\"mode\":\"markers\",\"name\":\"data\",\"y\":[-0.0304113756865263,-0.40991681814193726,-0.6058700680732727,-0.5151227712631226,-0.5065390467643738,-0.4522143602371216,-0.3919394314289093,-0.43755313754081726,-0.6000717878341675,-0.5985335111618042,-0.47636663913726807,-0.634094774723053,-0.3828558921813965,-0.5170423984527588,-0.23790806531906128,-0.24547258019447327,-0.4297481179237366,-0.339885413646698,-0.2760068476200104,-0.3538551330566406,-0.19937801361083984,-0.2163543403148651,-0.06300947070121765,0.07987803220748901,0.24703407287597656,0.6278319358825684,0.4869252145290375,1.0000296831130981,1.479936957359314,1.5146539211273193,1.9023346900939941,2.2382047176361084,2.154444932937622,2.1818387508392334,2.1967222690582275,2.0566720962524414,1.9070491790771484,1.2621814012527466,0.7187486290931702,-0.03994804248213768,-0.468578964471817,-0.5425387620925903,-0.8003467917442322,-0.6490293145179749,-0.6676108837127686,-0.6960729360580444,-0.9182592630386353,-1.1594171524047852,-1.0556141138076782,-1.1186853647232056,-0.9430353045463562,-0.8924098014831543,-0.8668462634086609,-0.32117754220962524,-0.4086518883705139,-0.4370284378528595,-0.553661584854126,-0.546748161315918,-0.7337378859519958,-0.23922434449195862,0.07737448066473007,-0.10985451936721802,0.1442512571811676,-0.3571838438510895,-0.5781698822975159,-0.5546489357948303,-0.8437806367874146,-1.0252467393875122,-0.9396977424621582,-0.7315757274627686,-0.7010664939880371,-0.4662662148475647,-0.37441086769104004,-0.39161741733551025,-0.38056522607803345,-0.4677548110485077,-0.282999187707901,-0.6286620497703552,-0.27384352684020996,-0.19059404730796814,0.005604577250778675,-0.0725177451968193,0.08167227357625961,0.38535749912261963,0.3713807761669159,0.5394313335418701,0.9201751947402954,1.333345651626587,1.7585785388946533,2.134401321411133,2.5860867500305176,2.2961530685424805,2.5503334999084473,2.4586033821105957,1.975616455078125,1.190748929977417,0.531917154788971,0.12407320737838745,-0.3559921085834503,-0.4192877411842346,-0.4776560366153717,-0.23222790658473969,-0.3042076528072357,-0.4634605050086975,-0.4745748043060303,-0.5655931234359741,-0.7313477396965027,-0.808379054069519,-0.6243097186088562,-0.4927496910095215,-0.23150965571403503,-0.1778004914522171,-0.4163610339164734,-0.6829274296760559,-0.9427180886268616,-0.880556046962738,-0.9133520126342773,-0.7869443297386169,-0.9063743948936462,-0.8443682789802551,-0.6717497706413269,-0.8497838973999023,-0.7489715218544006,-0.7746828198432922,-0.5813456177711487,-0.6981573700904846,-0.2629563510417938,-0.18933162093162537,-0.2776896357536316,0.019328543916344643,-0.0034822355955839157,0.05485351383686066,0.19295728206634521,0.25475287437438965,0.5106022357940674,0.7689722776412964,0.9355124235153198,1.1401376724243164,1.7436954975128174,1.7404299974441528,1.7031340599060059,1.578964352607727,1.4191479682922363,0.8344366550445557,0.20646080374717712,0.09378008544445038,-0.42268484830856323,-0.49140411615371704,-0.42560121417045593,-0.7662385106086731,-0.6118411421775818,-0.8437819480895996,-0.9127508401870728,-0.816861093044281,-1.0542007684707642,-0.8873082399368286,-0.8152562379837036,-0.8350979089736938,-0.6836800575256348,-0.9786142706871033,-0.9891031980514526,-0.8771830797195435,-0.9171870946884155,-1.103667140007019,-0.7749367952346802,-0.3330771028995514,-0.12345357984304428,-0.16669096052646637,0.03328055143356323,0.3119639456272125,0.49938711524009705,0.7970637083053589,1.2069950103759766,1.3974661827087402,1.4621763229370117,1.736134648323059,1.9979417324066162,2.061652660369873,2.1134204864501953,1.9563243389129639,1.7021671533584595,0.9270269274711609,0.5805649161338806,0.012419678270816803,-0.2634105980396271,-0.4284816086292267,-0.47420579195022583,-0.5080395936965942,-0.3719806671142578,-0.397918164730072,-0.4710822105407715,-0.5883211493492126,-0.3982774615287781,-0.16230084002017975,-0.4661964774131775,-0.6242302656173706,-0.4660113453865051,-0.5787839293479919,-0.7158832550048828,-0.5750141143798828,-0.43066272139549255,-0.27690351009368896,-0.16209086775779724,-0.2401641607284546,-0.23958083987236023,-0.2870619297027588,-0.19184990227222443,-0.22434473037719727],\"type\":\"scatter\"},{\"name\":\"Iterativ fit with bounds (R2=0.90)\",\"y\":[-0.5195679664611816,-0.5195915699005127,-0.5196047425270081,-0.5196118950843811,-0.5196155905723572,-0.51961749792099,-0.5196184515953064,-0.5196189284324646,-0.5196191668510437,-0.5196192264556885,-0.5196192860603333,-0.5196192860603333,-0.5196192860603333,-0.5196192860603333,-0.5196192860603333,-0.5196192860603333,-0.5196192860603333,-0.5196192860603333,-0.5196192860603333,-0.5144919157028198,-0.4858855605125427,-0.41978275775909424,-0.3079212009906769,-0.13431425392627716,0.12995631992816925,0.45894816517829895,0.7517560720443726,1.0218735933303833,1.3121145963668823,1.6140433549880981,1.8773390054702759,2.0427091121673584,2.0666611194610596,1.9330471754074097,1.6857752799987793,1.4336249828338623,1.1523388624191284,0.7982166409492493,0.40848448872566223,0.04396791756153107,-0.25547805428504944,-0.475632905960083,-0.6197037696838379,-0.6999272704124451,-0.7315812110900879,-0.729560375213623,-0.7077344655990601,-0.6769123673439026,-0.644247829914093,-0.6139636039733887,-0.5881993770599365,-0.5676672458648682,-0.5521654486656189,-0.540992796421051,-0.5332614183425903,-0.5281006693840027,-0.5247650742530823,-0.522670567035675,-0.5213896632194519,-0.5206252932548523,-0.5201794505119324,-0.519925057888031,-0.5197829008102417,-0.5197051167488098,-0.519663393497467,-0.5196413993835449,-0.5196301341056824,-0.5196239948272705,-0.5196175575256348,-0.5196021795272827,-0.5195552110671997,-0.5194118022918701,-0.5189974308013916,-0.5181614756584167,-0.5169573426246643,-0.514479398727417,-0.5086002945899963,-0.495598703622818,-0.46931561827659607,-0.42032742500305176,-0.33578410744667053,-0.20151293277740479,0.0025821132585406303,0.31022050976753235,0.685294508934021,1.0064342021942139,1.2837202548980713,1.5582066774368286,1.8168119192123413,2.0081348419189453,2.079555034637451,2.0013926029205322,1.8003865480422974,1.5688375234603882,1.3109371662139893,0.9874863028526306,0.6018117070198059,0.21071195602416992,-0.13044223189353943,-0.3972451090812683,-0.5880450010299683,-0.7039501667022705,-0.7554446458816528,-0.7609848380088806,-0.739172101020813,-0.7043663859367371,-0.6661137342453003,-0.6301013231277466,-0.5992651581764221,-0.574671745300293,-0.5561895370483398,-0.5430127382278442,-0.5340577363967896,-0.52823406457901,-0.524597704410553,-0.5224107503890991,-0.5211379528045654,-0.5204126834869385,-0.5199857950210571,-0.5196627378463745,-0.5192151665687561,-0.5182792544364929,-0.5166018009185791,-0.5141584873199463,-0.5092547535896301,-0.4982761740684509,-0.4753996729850769,-0.43180423974990845,-0.35525617003440857,-0.23183485865592957,-0.04165080934762955,0.24861861765384674,0.606922447681427,0.9186945557594299,1.1956030130386353,1.4785021543502808,1.7545526027679443,1.9717527627944946,2.074789524078369,2.029359817504883,1.831852912902832,1.5361319780349731,1.2494337558746338,0.9522390961647034,0.6059502363204956,0.24085737764835358,-0.0911349281668663,-0.36034706234931946,-0.559427797794342,-0.6845294833183289,-0.74362713098526,-0.7547478675842285,-0.7368178963661194,-0.7045565843582153,-0.6677775382995605,-0.6324074268341064,-0.6016306281089783,-0.5767534971237183,-0.5578418374061584,-0.5442243814468384,-0.5348905920982361,-0.5287759900093079,-0.5249338150024414,-0.5180806517601013,-0.4913477301597595,-0.43141597509384155,-0.3295259475708008,-0.16943421959877014,0.07734191417694092,0.4128058850765228,0.7773420810699463,1.0856703519821167,1.3586444854736328,1.6275125741958618,1.8713313341140747,2.0374972820281982,2.076998472213745,1.965102195739746,1.7394492626190186,1.5068249702453613,1.238372564315796,0.8858921527862549,0.4878816604614258,0.10909941047430038,-0.20694971084594727,-0.4433334171772003,-0.6014706492424011,-0.692659854888916,-0.7321699857711792,-0.7354775071144104,-0.7161946892738342,-0.6857037544250488,-0.6521588563919067,-0.6205177307128906,-0.5933215618133545,-0.5714784264564514,-0.5548745393753052,-0.5428356528282166,-0.5344631671905518,-0.5288537740707397,-0.5252197980880737,-0.5229362845420837,-0.5215404033660889,-0.5207086205482483,-0.5202245116233826,-0.5199489593505859,-0.5197953581809998,-0.5197115540504456],\"type\":\"scatter\"},{\"name\":\"Grid search results (R2=0.87)\",\"y\":[-0.5302154421806335,-0.5302377939224243,-0.5302504301071167,-0.5302573442459106,-0.5302610397338867,-0.5302629470825195,-0.5302639007568359,-0.5302643775939941,-0.5302646160125732,-0.5302647948265076,-0.5302648544311523,-0.5302648544311523,-0.5302648544311523,-0.5302649140357971,-0.5302649140357971,-0.5302649140357971,-0.5302649140357971,-0.5302649140357971,-0.5302648544311523,-0.5188679099082947,-0.4566184878349304,-0.3232273459434509,-0.12411021441221237,0.14289447665214539,0.5026457905769348,0.9082139134407043,1.229993224143982,1.4694325923919678,1.6726596355438232,1.8424787521362305,1.946614146232605,1.9497315883636475,1.8337684869766235,1.6031066179275513,1.3043111562728882,1.0290861129760742,0.7613638639450073,0.4621255695819855,0.15155553817749023,-0.13035933673381805,-0.35760584473609924,-0.5222510695457458,-0.6284716129302979,-0.6863929629325867,-0.7078074216842651,-0.7038627862930298,-0.685066819190979,-0.6596871614456177,-0.6331573724746704,-0.6086416840553284,-0.5877318382263184,-0.5709615349769592,-0.5581836700439453,-0.5488686561584473,-0.5423354506492615,-0.53790682554245,-0.5349945425987244,-0.5331302881240845,-0.5319658517837524,-0.5312549471855164,-0.5308300852775574,-0.5305814146995544,-0.5304387211799622,-0.5303585529327393,-0.5303143858909607,-0.5302903652191162,-0.5302777886390686,-0.5302674770355225,-0.5302390456199646,-0.5301550626754761,-0.5299310684204102,-0.5293583869934082,-0.5279580354690552,-0.5253904461860657,-0.5219974517822266,-0.5160917639732361,-0.5039913058280945,-0.48035842180252075,-0.4378215968608856,-0.3667563796043396,-0.2559450566768646,-0.09520124644041061,0.13118299841880798,0.45419952273368835,0.8313784003257751,1.1377432346343994,1.3756827116012573,1.5878514051437378,1.7734936475753784,1.8979840278625488,1.9238731861114502,1.8306039571762085,1.6431300640106201,1.4423441886901855,1.2271393537521362,0.9543532729148865,0.616524338722229,0.2608638405799866,-0.06134411692619324,-0.32620665431022644,-0.5294032692909241,-0.6644138097763062,-0.7345988750457764,-0.754997968673706,-0.7436261773109436,-0.715457022190094,-0.6809104084968567,-0.6464918851852417,-0.6158443093299866,-0.5906200408935547,-0.571138322353363,-0.5569014549255371,-0.547002911567688,-0.540427029132843,-0.5362376570701599,-0.5336692929267883,-0.5321452021598816,-0.5312572121620178,-0.5307193994522095,-0.5303047895431519,-0.5297592282295227,-0.5287154316902161,-0.5269387364387512,-0.524480938911438,-0.5199546217918396,-0.5104525685310364,-0.4915487468242645,-0.4568023681640625,-0.3973889946937561,-0.30314797163009644,-0.1588965654373169,0.06282267719507217,0.34214383363723755,0.593624472618103,0.8281047344207764,1.0847488641738892,1.3630727529525757,1.6272518634796143,1.829695224761963,1.9293831586837769,1.9023226499557495,1.7769657373428345,1.6447250843048096,1.4658448696136475,1.173425316810608,0.7967850565910339,0.4028872847557068,0.03273607790470123,-0.2936709225177765,-0.5415778756141663,-0.6956103444099426,-0.7687997221946716,-0.7856298089027405,-0.7687675356864929,-0.7348507642745972,-0.6949173212051392,-0.6558474898338318,-0.621530294418335,-0.5936856269836426,-0.5725247263908386,-0.5573360323905945,-0.5469770431518555,-0.5402311682701111,-0.5305285453796387,-0.4973520338535309,-0.4268484115600586,-0.3143923878669739,-0.14913374185562134,0.09334073215723038,0.4109249711036682,0.7464566230773926,1.0228416919708252,1.2584760189056396,1.4870445728302002,1.6995075941085815,1.8572746515274048,1.9199727773666382,1.8624789714813232,1.7111202478408813,1.5569860935211182,1.3640092611312866,1.0694749355316162,0.7027848958969116,0.3284471929073334,-0.005645989906042814,-0.27577629685401917,-0.47558140754699707,-0.6091451644897461,-0.6863594055175781,-0.719494640827179,-0.7209079265594482,-0.7032276391983032,-0.6766201853752136,-0.6477502584457397,-0.6205266118049622,-0.596985399723053,-0.5779008269309998,-0.5632194876670837,-0.5524172186851501,-0.5447703003883362,-0.5395371317863464,-0.5360609889030457,-0.5338122844696045,-0.5323923230171204,-0.5315155982971191,-0.5309857726097107,-0.5306722521781921,-0.530490517616272],\"type\":\"scatter\"},{\"name\":\"Iterativ fit without bounds (R2=0.91)\",\"y\":[-0.5046114325523376,-0.5046416521072388,-0.5046594738960266,-0.5046696662902832,-0.5046752691268921,-0.5046783089637756,-0.5046799182891846,-0.5046807527542114,-0.5046811699867249,-0.504681408405304,-0.5046814680099487,-0.5046815276145935,-0.5046815276145935,-0.5046815276145935,-0.5046815276145935,-0.5046815276145935,-0.5046815276145935,-0.5046815276145935,-0.5046814680099487,-0.5025224089622498,-0.4893874228000641,-0.45546048879623413,-0.3892352879047394,-0.27166491746902466,-0.07363930344581604,0.198811873793602,0.4762353301048279,0.7712568640708923,1.1100279092788696,1.4743626117706299,1.8113585710525513,2.0571534633636475,2.158620834350586,2.088947057723999,1.876523733139038,1.6130086183547974,1.2965939044952393,0.9181950092315674,0.518896222114563,0.1479179710149765,-0.16241943836212158,-0.3982342779636383,-0.5597974061965942,-0.6563982963562012,-0.7016685605049133,-0.710112988948822,-0.6951833963394165,-0.6678546667098999,-0.6361541152000427,-0.6053534150123596,-0.5784217715263367,-0.5565885305404663,-0.5399189591407776,-0.5278174877166748,-0.5194091200828552,-0.5137903690338135,-0.5101659893989563,-0.5079012513160706,-0.5065270662307739,-0.5057154893875122,-0.5052480697631836,-0.5049852132797241,-0.5048407912254333,-0.5047631859779358,-0.5047224164009094,-0.5047011375427246,-0.5046905875205994,-0.504685640335083,-0.5046831369400024,-0.5046812295913696,-0.504676878452301,-0.504660964012146,-0.5046022534370422,-0.5044625997543335,-0.5042295455932617,-0.5036365985870361,-0.5019418597221375,-0.4974706768989563,-0.4867456555366516,-0.46326589584350586,-0.41626712679862976,-0.3307386040687561,-0.18499189615249634,0.05387628450989723,0.37383735179901123,0.6896973252296448,1.0093296766281128,1.3535512685775757,1.6960822343826294,1.9798681735992432,2.1451897621154785,2.1513404846191406,2.0079891681671143,1.7896437644958496,1.509699821472168,1.1574511528015137,0.7557152509689331,0.3556276857852936,0.001854296075180173,-0.2821498513221741,-0.4904848337173462,-0.6255310773849487,-0.6979358792304993,-0.723170280456543,-0.7168111801147461,-0.6920966506004333,-0.65915846824646,-0.6250196099281311,-0.5939602851867676,-0.5680810809135437,-0.5479328632354736,-0.5331088900566101,-0.5227262377738953,-0.5157673358917236,-0.5112857818603516,-0.5085039138793945,-0.5068338513374329,-0.5058615803718567,-0.5053096413612366,-0.5049961805343628,-0.5047910213470459,-0.504565417766571,-0.5042114853858948,-0.503653883934021,-0.5023196339607239,-0.4987705945968628,-0.4900243878364563,-0.4704050123691559,-0.4302430748939514,-0.35560736060142517,-0.22588495910167694,-0.009183861315250397,0.28615087270736694,0.5828756093978882,0.891867458820343,1.2360478639602661,1.592007040977478,1.903772234916687,2.1089744567871094,2.16064453125,2.041433572769165,1.7882798910140991,1.493894100189209,1.1607033014297485,0.7826558351516724,0.39661097526550293,0.04648605361580849,-0.24124577641487122,-0.45752450823783875,-0.6015961766242981,-0.6822385787963867,-0.7142541408538818,-0.7130730152130127,-0.6919727325439453,-0.6612408757209778,-0.628156304359436,-0.5973159670829773,-0.5711383819580078,-0.5504432320594788,-0.5350154638290405,-0.5240855813026428,-0.516685962677002,-0.5118783116340637,-0.5070855617523193,-0.4943336546421051,-0.46461883187294006,-0.406974196434021,-0.3032209873199463,-0.12544406950473785,0.1421836018562317,0.4694061875343323,0.7909294366836548,1.1177321672439575,1.461607575416565,1.7897928953170776,2.0439071655273438,2.1678261756896973,2.1275794506073,1.9448127746582031,1.7083730697631836,1.4103336334228516,1.0364301204681396,0.6288231015205383,0.240853413939476,-0.09076686203479767,-0.34839415550231934,-0.5295664668083191,-0.6420009136199951,-0.6988313794136047,-0.714846670627594,-0.7039954662322998,-0.6780984401702881,-0.6461077332496643,-0.6140624284744263,-0.5854933857917786,-0.5619998574256897,-0.5438567399978638,-0.5305585265159607,-0.5212422013282776,-0.5149718523025513,-0.5109015703201294,-0.5083453059196472,-0.5067873001098633,-0.5058638453483582,-0.505330502986908,-0.5050299167633057,-0.5048643946647644,-0.50477534532547],\"type\":\"scatter\"}],                        {\"template\":{\"data\":{\"barpolar\":[{\"marker\":{\"line\":{\"color\":\"white\",\"width\":0.5},\"pattern\":{\"fillmode\":\"overlay\",\"size\":10,\"solidity\":0.2}},\"type\":\"barpolar\"}],\"bar\":[{\"error_x\":{\"color\":\"rgb(36,36,36)\"},\"error_y\":{\"color\":\"rgb(36,36,36)\"},\"marker\":{\"line\":{\"color\":\"white\",\"width\":0.5},\"pattern\":{\"fillmode\":\"overlay\",\"size\":10,\"solidity\":0.2}},\"type\":\"bar\"}],\"carpet\":[{\"aaxis\":{\"endlinecolor\":\"rgb(36,36,36)\",\"gridcolor\":\"white\",\"linecolor\":\"white\",\"minorgridcolor\":\"white\",\"startlinecolor\":\"rgb(36,36,36)\"},\"baxis\":{\"endlinecolor\":\"rgb(36,36,36)\",\"gridcolor\":\"white\",\"linecolor\":\"white\",\"minorgridcolor\":\"white\",\"startlinecolor\":\"rgb(36,36,36)\"},\"type\":\"carpet\"}],\"choropleth\":[{\"colorbar\":{\"outlinewidth\":1,\"tickcolor\":\"rgb(36,36,36)\",\"ticks\":\"outside\"},\"type\":\"choropleth\"}],\"contourcarpet\":[{\"colorbar\":{\"outlinewidth\":1,\"tickcolor\":\"rgb(36,36,36)\",\"ticks\":\"outside\"},\"type\":\"contourcarpet\"}],\"contour\":[{\"colorbar\":{\"outlinewidth\":1,\"tickcolor\":\"rgb(36,36,36)\",\"ticks\":\"outside\"},\"colorscale\":[[0.0,\"#440154\"],[0.1111111111111111,\"#482878\"],[0.2222222222222222,\"#3e4989\"],[0.3333333333333333,\"#31688e\"],[0.4444444444444444,\"#26828e\"],[0.5555555555555556,\"#1f9e89\"],[0.6666666666666666,\"#35b779\"],[0.7777777777777778,\"#6ece58\"],[0.8888888888888888,\"#b5de2b\"],[1.0,\"#fde725\"]],\"type\":\"contour\"}],\"heatmapgl\":[{\"colorbar\":{\"outlinewidth\":1,\"tickcolor\":\"rgb(36,36,36)\",\"ticks\":\"outside\"},\"colorscale\":[[0.0,\"#440154\"],[0.1111111111111111,\"#482878\"],[0.2222222222222222,\"#3e4989\"],[0.3333333333333333,\"#31688e\"],[0.4444444444444444,\"#26828e\"],[0.5555555555555556,\"#1f9e89\"],[0.6666666666666666,\"#35b779\"],[0.7777777777777778,\"#6ece58\"],[0.8888888888888888,\"#b5de2b\"],[1.0,\"#fde725\"]],\"type\":\"heatmapgl\"}],\"heatmap\":[{\"colorbar\":{\"outlinewidth\":1,\"tickcolor\":\"rgb(36,36,36)\",\"ticks\":\"outside\"},\"colorscale\":[[0.0,\"#440154\"],[0.1111111111111111,\"#482878\"],[0.2222222222222222,\"#3e4989\"],[0.3333333333333333,\"#31688e\"],[0.4444444444444444,\"#26828e\"],[0.5555555555555556,\"#1f9e89\"],[0.6666666666666666,\"#35b779\"],[0.7777777777777778,\"#6ece58\"],[0.8888888888888888,\"#b5de2b\"],[1.0,\"#fde725\"]],\"type\":\"heatmap\"}],\"histogram2dcontour\":[{\"colorbar\":{\"outlinewidth\":1,\"tickcolor\":\"rgb(36,36,36)\",\"ticks\":\"outside\"},\"colorscale\":[[0.0,\"#440154\"],[0.1111111111111111,\"#482878\"],[0.2222222222222222,\"#3e4989\"],[0.3333333333333333,\"#31688e\"],[0.4444444444444444,\"#26828e\"],[0.5555555555555556,\"#1f9e89\"],[0.6666666666666666,\"#35b779\"],[0.7777777777777778,\"#6ece58\"],[0.8888888888888888,\"#b5de2b\"],[1.0,\"#fde725\"]],\"type\":\"histogram2dcontour\"}],\"histogram2d\":[{\"colorbar\":{\"outlinewidth\":1,\"tickcolor\":\"rgb(36,36,36)\",\"ticks\":\"outside\"},\"colorscale\":[[0.0,\"#440154\"],[0.1111111111111111,\"#482878\"],[0.2222222222222222,\"#3e4989\"],[0.3333333333333333,\"#31688e\"],[0.4444444444444444,\"#26828e\"],[0.5555555555555556,\"#1f9e89\"],[0.6666666666666666,\"#35b779\"],[0.7777777777777778,\"#6ece58\"],[0.8888888888888888,\"#b5de2b\"],[1.0,\"#fde725\"]],\"type\":\"histogram2d\"}],\"histogram\":[{\"marker\":{\"line\":{\"color\":\"white\",\"width\":0.6}},\"type\":\"histogram\"}],\"mesh3d\":[{\"colorbar\":{\"outlinewidth\":1,\"tickcolor\":\"rgb(36,36,36)\",\"ticks\":\"outside\"},\"type\":\"mesh3d\"}],\"parcoords\":[{\"line\":{\"colorbar\":{\"outlinewidth\":1,\"tickcolor\":\"rgb(36,36,36)\",\"ticks\":\"outside\"}},\"type\":\"parcoords\"}],\"pie\":[{\"automargin\":true,\"type\":\"pie\"}],\"scatter3d\":[{\"line\":{\"colorbar\":{\"outlinewidth\":1,\"tickcolor\":\"rgb(36,36,36)\",\"ticks\":\"outside\"}},\"marker\":{\"colorbar\":{\"outlinewidth\":1,\"tickcolor\":\"rgb(36,36,36)\",\"ticks\":\"outside\"}},\"type\":\"scatter3d\"}],\"scattercarpet\":[{\"marker\":{\"colorbar\":{\"outlinewidth\":1,\"tickcolor\":\"rgb(36,36,36)\",\"ticks\":\"outside\"}},\"type\":\"scattercarpet\"}],\"scattergeo\":[{\"marker\":{\"colorbar\":{\"outlinewidth\":1,\"tickcolor\":\"rgb(36,36,36)\",\"ticks\":\"outside\"}},\"type\":\"scattergeo\"}],\"scattergl\":[{\"marker\":{\"colorbar\":{\"outlinewidth\":1,\"tickcolor\":\"rgb(36,36,36)\",\"ticks\":\"outside\"}},\"type\":\"scattergl\"}],\"scattermapbox\":[{\"marker\":{\"colorbar\":{\"outlinewidth\":1,\"tickcolor\":\"rgb(36,36,36)\",\"ticks\":\"outside\"}},\"type\":\"scattermapbox\"}],\"scatterpolargl\":[{\"marker\":{\"colorbar\":{\"outlinewidth\":1,\"tickcolor\":\"rgb(36,36,36)\",\"ticks\":\"outside\"}},\"type\":\"scatterpolargl\"}],\"scatterpolar\":[{\"marker\":{\"colorbar\":{\"outlinewidth\":1,\"tickcolor\":\"rgb(36,36,36)\",\"ticks\":\"outside\"}},\"type\":\"scatterpolar\"}],\"scatter\":[{\"fillpattern\":{\"fillmode\":\"overlay\",\"size\":10,\"solidity\":0.2},\"type\":\"scatter\"}],\"scatterternary\":[{\"marker\":{\"colorbar\":{\"outlinewidth\":1,\"tickcolor\":\"rgb(36,36,36)\",\"ticks\":\"outside\"}},\"type\":\"scatterternary\"}],\"surface\":[{\"colorbar\":{\"outlinewidth\":1,\"tickcolor\":\"rgb(36,36,36)\",\"ticks\":\"outside\"},\"colorscale\":[[0.0,\"#440154\"],[0.1111111111111111,\"#482878\"],[0.2222222222222222,\"#3e4989\"],[0.3333333333333333,\"#31688e\"],[0.4444444444444444,\"#26828e\"],[0.5555555555555556,\"#1f9e89\"],[0.6666666666666666,\"#35b779\"],[0.7777777777777778,\"#6ece58\"],[0.8888888888888888,\"#b5de2b\"],[1.0,\"#fde725\"]],\"type\":\"surface\"}],\"table\":[{\"cells\":{\"fill\":{\"color\":\"rgb(237,237,237)\"},\"line\":{\"color\":\"white\"}},\"header\":{\"fill\":{\"color\":\"rgb(217,217,217)\"},\"line\":{\"color\":\"white\"}},\"type\":\"table\"}]},\"layout\":{\"annotationdefaults\":{\"arrowhead\":0,\"arrowwidth\":1},\"autotypenumbers\":\"strict\",\"coloraxis\":{\"colorbar\":{\"outlinewidth\":1,\"tickcolor\":\"rgb(36,36,36)\",\"ticks\":\"outside\"}},\"colorscale\":{\"diverging\":[[0.0,\"rgb(103,0,31)\"],[0.1,\"rgb(178,24,43)\"],[0.2,\"rgb(214,96,77)\"],[0.3,\"rgb(244,165,130)\"],[0.4,\"rgb(253,219,199)\"],[0.5,\"rgb(247,247,247)\"],[0.6,\"rgb(209,229,240)\"],[0.7,\"rgb(146,197,222)\"],[0.8,\"rgb(67,147,195)\"],[0.9,\"rgb(33,102,172)\"],[1.0,\"rgb(5,48,97)\"]],\"sequential\":[[0.0,\"#440154\"],[0.1111111111111111,\"#482878\"],[0.2222222222222222,\"#3e4989\"],[0.3333333333333333,\"#31688e\"],[0.4444444444444444,\"#26828e\"],[0.5555555555555556,\"#1f9e89\"],[0.6666666666666666,\"#35b779\"],[0.7777777777777778,\"#6ece58\"],[0.8888888888888888,\"#b5de2b\"],[1.0,\"#fde725\"]],\"sequentialminus\":[[0.0,\"#440154\"],[0.1111111111111111,\"#482878\"],[0.2222222222222222,\"#3e4989\"],[0.3333333333333333,\"#31688e\"],[0.4444444444444444,\"#26828e\"],[0.5555555555555556,\"#1f9e89\"],[0.6666666666666666,\"#35b779\"],[0.7777777777777778,\"#6ece58\"],[0.8888888888888888,\"#b5de2b\"],[1.0,\"#fde725\"]]},\"colorway\":[\"#1F77B4\",\"#FF7F0E\",\"#2CA02C\",\"#D62728\",\"#9467BD\",\"#8C564B\",\"#E377C2\",\"#7F7F7F\",\"#BCBD22\",\"#17BECF\"],\"font\":{\"color\":\"rgb(36,36,36)\"},\"geo\":{\"bgcolor\":\"white\",\"lakecolor\":\"white\",\"landcolor\":\"white\",\"showlakes\":true,\"showland\":true,\"subunitcolor\":\"white\"},\"hoverlabel\":{\"align\":\"left\"},\"hovermode\":\"closest\",\"mapbox\":{\"style\":\"light\"},\"paper_bgcolor\":\"white\",\"plot_bgcolor\":\"white\",\"polar\":{\"angularaxis\":{\"gridcolor\":\"rgb(232,232,232)\",\"linecolor\":\"rgb(36,36,36)\",\"showgrid\":false,\"showline\":true,\"ticks\":\"outside\"},\"bgcolor\":\"white\",\"radialaxis\":{\"gridcolor\":\"rgb(232,232,232)\",\"linecolor\":\"rgb(36,36,36)\",\"showgrid\":false,\"showline\":true,\"ticks\":\"outside\"}},\"scene\":{\"xaxis\":{\"backgroundcolor\":\"white\",\"gridcolor\":\"rgb(232,232,232)\",\"gridwidth\":2,\"linecolor\":\"rgb(36,36,36)\",\"showbackground\":true,\"showgrid\":false,\"showline\":true,\"ticks\":\"outside\",\"zeroline\":false,\"zerolinecolor\":\"rgb(36,36,36)\"},\"yaxis\":{\"backgroundcolor\":\"white\",\"gridcolor\":\"rgb(232,232,232)\",\"gridwidth\":2,\"linecolor\":\"rgb(36,36,36)\",\"showbackground\":true,\"showgrid\":false,\"showline\":true,\"ticks\":\"outside\",\"zeroline\":false,\"zerolinecolor\":\"rgb(36,36,36)\"},\"zaxis\":{\"backgroundcolor\":\"white\",\"gridcolor\":\"rgb(232,232,232)\",\"gridwidth\":2,\"linecolor\":\"rgb(36,36,36)\",\"showbackground\":true,\"showgrid\":false,\"showline\":true,\"ticks\":\"outside\",\"zeroline\":false,\"zerolinecolor\":\"rgb(36,36,36)\"}},\"shapedefaults\":{\"fillcolor\":\"black\",\"line\":{\"width\":0},\"opacity\":0.3},\"ternary\":{\"aaxis\":{\"gridcolor\":\"rgb(232,232,232)\",\"linecolor\":\"rgb(36,36,36)\",\"showgrid\":false,\"showline\":true,\"ticks\":\"outside\"},\"baxis\":{\"gridcolor\":\"rgb(232,232,232)\",\"linecolor\":\"rgb(36,36,36)\",\"showgrid\":false,\"showline\":true,\"ticks\":\"outside\"},\"bgcolor\":\"white\",\"caxis\":{\"gridcolor\":\"rgb(232,232,232)\",\"linecolor\":\"rgb(36,36,36)\",\"showgrid\":false,\"showline\":true,\"ticks\":\"outside\"}},\"title\":{\"x\":0.05},\"xaxis\":{\"automargin\":true,\"gridcolor\":\"rgb(232,232,232)\",\"linecolor\":\"rgb(36,36,36)\",\"showgrid\":false,\"showline\":true,\"ticks\":\"outside\",\"title\":{\"standoff\":15},\"zeroline\":false,\"zerolinecolor\":\"rgb(36,36,36)\"},\"yaxis\":{\"automargin\":true,\"gridcolor\":\"rgb(232,232,232)\",\"linecolor\":\"rgb(36,36,36)\",\"showgrid\":false,\"showline\":true,\"ticks\":\"outside\",\"title\":{\"standoff\":15},\"zeroline\":false,\"zerolinecolor\":\"rgb(36,36,36)\"}}},\"title\":{\"text\":\"Evolution of the durations of the iterativ fit over the repetitions\"},\"xaxis\":{\"title\":{\"text\":\"Number of repetition\"},\"range\":[0,208]},\"yaxis\":{\"title\":{\"text\":\"Duration (s)\"},\"range\":[-4,4]}},                        {\"responsive\": true}                    ).then(function(){\n",
       "                            \n",
       "var gd = document.getElementById('dc7d252f-9248-4465-a259-1ccdd4a9550c');\n",
       "var x = new MutationObserver(function (mutations, observer) {{\n",
       "        var display = window.getComputedStyle(gd).display;\n",
       "        if (!display || display === 'none') {{\n",
       "            console.log([gd, 'removed!']);\n",
       "            Plotly.purge(gd);\n",
       "            observer.disconnect();\n",
       "        }}\n",
       "}});\n",
       "\n",
       "// Listen for the removal of the full notebook cells\n",
       "var notebookContainer = gd.closest('#notebook-container');\n",
       "if (notebookContainer) {{\n",
       "    x.observe(notebookContainer, {childList: true});\n",
       "}}\n",
       "\n",
       "// Listen for the clearing of the current output cell\n",
       "var outputEl = gd.closest('.output');\n",
       "if (outputEl) {{\n",
       "    x.observe(outputEl, {childList: true});\n",
       "}}\n",
       "\n",
       "                        })                };                });            </script>        </div>"
      ]
     },
     "metadata": {},
     "output_type": "display_data"
    }
   ],
   "source": [
    "max_r2 = np.argmax(gauss_fit_mat_repeat[:,-1,-1])\n",
    "num_vert = max_r2\n",
    "\n",
    "fig4 = go.Figure()\n",
    "# plot data time series\n",
    "fig4.add_trace(go.Scatter(y=data_fsnative[:,num_vert],\n",
    "                         name='data', \n",
    "                         mode='markers'))\n",
    "\n",
    "# plot last iterativ repeat prediction\n",
    "fig4.add_trace(go.Scatter(y=gauss_pred_mat_repeat[num_vert,:,-1],\n",
    "                         name='Iterativ fit with bounds (R2={:1.2f})'.format(gauss_fit_mat_repeat[num_vert,-1,n_repeat])))\n",
    "\n",
    "# plot grid prediction\n",
    "fig4.add_trace(go.Scatter(y=gauss_pred_mat_repeat[num_vert,:,grid_place],\n",
    "                         name='Grid search results (R2={:1.2f})'.format(gauss_fit_mat_repeat[num_vert,-1,grid_place])))\n",
    "\n",
    "# plot Iterativ no bounds prediction\n",
    "fig4.add_trace(go.Scatter(y=gauss_pred_mat_repeat[num_vert,:,no_bd],\n",
    "                         name='Iterativ fit without bounds (R2={:1.2f})'.format(gauss_fit_mat_repeat[num_vert,-1,no_bd])))\n",
    "\n",
    "\n",
    "fig4.update_layout(template='simple_white',\n",
    "                  title = 'Evolution of the durations of the iterativ fit over the repetitions',\n",
    "                  xaxis_title = 'Number of repetition',\n",
    "                  yaxis_title = 'Duration (s)')\n",
    "fig4.update_xaxes(range=[0,data_fsnative.shape[0]])\n",
    "fig4.update_yaxes(range=[-4,4])\n",
    "\n",
    "fig4.show()"
   ]
  },
  {
   "cell_type": "code",
   "execution_count": null,
   "id": "be7f7b4c-5b0f-4d7c-9499-1c74512c1465",
   "metadata": {},
   "outputs": [],
   "source": [
    "fig2.add_annotation(\n",
    "    x=10,  # Modifier la position x selon votre graphique\n",
    "    y=0.5,  # Modifier la position y selon votre graphique\n",
    "    xref=\"x\",\n",
    "    yref=\"y\",\n",
    "    text=\"Solid line: grid<br>Dashed line: without bounds\",\n",
    "    showarrow=False,\n",
    "    font=dict(\n",
    "        size=12,\n",
    "        color=\"black\"\n",
    "    )\n",
    ")"
   ]
  }
 ],
 "metadata": {
  "kernelspec": {
   "display_name": "mszinte",
   "language": "python",
   "name": "mszinte"
  },
  "language_info": {
   "codemirror_mode": {
    "name": "ipython",
    "version": 3
   },
   "file_extension": ".py",
   "mimetype": "text/x-python",
   "name": "python",
   "nbconvert_exporter": "python",
   "pygments_lexer": "ipython3",
   "version": "3.9.13"
  }
 },
 "nbformat": 4,
 "nbformat_minor": 5
}
