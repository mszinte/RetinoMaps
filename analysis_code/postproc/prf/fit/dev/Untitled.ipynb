{
 "cells": [
  {
   "cell_type": "code",
   "execution_count": 1,
   "id": "5fecf8db-5250-405f-85e0-e0872502ff20",
   "metadata": {},
   "outputs": [],
   "source": [
    "# imports\n",
    "import sys, os\n",
    "import numpy as np\n",
    "import glob\n",
    "import datetime\n",
    "import json\n",
    "from pathlib import Path\n",
    "from IPython.display import clear_output\n",
    "import importlib\n",
    "\n",
    "# MRI analysis imports\n",
    "from prfpy.stimulus import PRFStimulus2D\n",
    "from prfpy.model import Iso2DGaussianModel, CSS_Iso2DGaussianModel\n",
    "from prfpy.fit import Iso2DGaussianFitter, CSS_Iso2DGaussianFitter\n",
    "import nibabel as nb\n",
    "import cortex\n",
    "\n",
    "sys.path.append(\"{}/../../../../utils\".format(os.getcwd()))\n",
    "from surface_utils import make_surface_image , load_surface\n",
    "from pycortex_utils import draw_cortex, set_pycortex_config_file,get_roi_verts_hemi"
   ]
  },
  {
   "cell_type": "code",
   "execution_count": 2,
   "id": "9ed7e856-777a-4817-8a50-3476d914b39b",
   "metadata": {},
   "outputs": [],
   "source": [
    "# data filenames and folder\n",
    "subject = 'sub-02'\n",
    "# dir_data = '/home/mszinte/disks/meso_S/data/RetinoMaps'\n",
    "# dir_code = '/home/mszinte/disks/meso_H/projects/RetinoMaps'\n",
    "\n",
    "dir_data = '/Users/uriel/disks/meso_shared/RetinoMaps'\n",
    "dir_code = '/Users/uriel/disks/meso_H/projects/RetinoMaps'\n",
    "\n",
    "pycortex_dir = \"{}/derivatives/pp_data/cortex\".format(dir_data)\n",
    "input_vd = '{}/derivatives/vdm/vdm.npy'.format(dir_data)\n",
    "input_fn_fsnative_L = '{}/derivatives/pp_data/{}/fsnative/func/fmriprep_dct_avg/{}_task-pRF_hemi-L_fmriprep_dct_avg_bold.func.gii'.format(\n",
    "    dir_data, subject, subject)\n",
    "input_fn_fsnative_R = '{}/derivatives/pp_data/{}/fsnative/func/fmriprep_dct_avg/{}_task-pRF_hemi-R_fmriprep_dct_avg_bold.func.gii'.format(\n",
    "    dir_data, subject, subject)\n",
    "\n",
    "\n",
    "\n",
    "\n",
    "prf_fit_test_dir = \"{}/derivatives/pp_data/{}/prf/fit/test\".format(\n",
    "    dir_data, subject)\n",
    "os.makedirs(prf_fit_test_dir, exist_ok=True)"
   ]
  },
  {
   "cell_type": "code",
   "execution_count": 3,
   "id": "0c4903a9-b692-4847-9888-14083174eae5",
   "metadata": {},
   "outputs": [],
   "source": [
    "# analysis parameters\n",
    "with open('{}/analysis_code/settings.json'.format(dir_code)) as f:\n",
    "    json_s = f.read()\n",
    "    analysis_info = json.loads(json_s)\n",
    "screen_size_cm = analysis_info['screen_size_cm']\n",
    "screen_distance_cm = analysis_info['screen_distance_cm']\n",
    "TR = analysis_info['TR']\n",
    "max_ecc_size = analysis_info['max_ecc_size']\n",
    "gauss_grid_nr = analysis_info['gauss_grid_nr']\n",
    "css_grid_nr = analysis_info['css_grid_nr']\n",
    "\n",
    "n_jobs = 32\n",
    "n_batches = 32\n",
    "rsq_iterative_th = 0.01\n",
    "verbose = False\n",
    "grid_verbose, iterative_verbose = False, False\n",
    "rois = ['V1','V2','V3','V3AB','LO','VO','hMT+','sIPS','sIPS','iPCS','mPCS','sPCS']"
   ]
  },
  {
   "cell_type": "code",
   "execution_count": 4,
   "id": "65e5870f-f782-45f4-9da8-7668f7242e34",
   "metadata": {},
   "outputs": [],
   "source": [
    "# load visual design\n",
    "vdm = np.load(input_vd)\n",
    "\n",
    "# determine visual design\n",
    "stimulus = PRFStimulus2D(screen_size_cm=screen_size_cm[1], \n",
    "                         screen_distance_cm=screen_distance_cm,\n",
    "                         design_matrix=vdm, \n",
    "                         TR=TR)"
   ]
  },
  {
   "cell_type": "code",
   "execution_count": 11,
   "id": "587856fe-9ded-4703-917c-24dc2fb51ccd",
   "metadata": {},
   "outputs": [],
   "source": [
    "img, data_roi, roi_idx = get_roi_verts_hemi(fn=input_fn_fsnative_L,subject=subject,rois=rois)"
   ]
  },
  {
   "cell_type": "code",
   "execution_count": 9,
   "id": "3e8dbdf9-0f9e-4d65-810d-c856bbfab2ee",
   "metadata": {},
   "outputs": [
    {
     "data": {
      "text/plain": [
       "<module 'cortex' from '/Users/uriel/softwares/anaconda3/envs/amblyo_env/lib/python3.9/site-packages/cortex/__init__.py'>"
      ]
     },
     "execution_count": 9,
     "metadata": {},
     "output_type": "execute_result"
    }
   ],
   "source": [
    "# Set pycortex db and colormaps\n",
    "set_pycortex_config_file(pycortex_dir)\n",
    "importlib.reload(cortex)"
   ]
  },
  {
   "cell_type": "code",
   "execution_count": 12,
   "id": "de8d4eec-58ba-4d72-8ff7-8d1e6c372e1f",
   "metadata": {},
   "outputs": [],
   "source": [
    "# subset\n",
    "data_roi = data_roi[:,1:3] \n",
    "roi_idx =[0,1]"
   ]
  },
  {
   "cell_type": "code",
   "execution_count": 13,
   "id": "74c981c2-a11e-4258-af66-554f2a8b6e82",
   "metadata": {},
   "outputs": [],
   "source": [
    "# defind model parameter grid range\n",
    "sizes = max_ecc_size * np.linspace(0.1,1,gauss_grid_nr)**2\n",
    "eccs = max_ecc_size * np.linspace(0.1,1,gauss_grid_nr)**2\n",
    "polars = np.linspace(0, 2*np.pi, gauss_grid_nr)"
   ]
  },
  {
   "cell_type": "code",
   "execution_count": 14,
   "id": "7347a567-6b66-4a41-9195-154adee308f4",
   "metadata": {},
   "outputs": [
    {
     "name": "stderr",
     "output_type": "stream",
     "text": [
      "/Users/uriel/softwares/anaconda3/envs/amblyo_env/prfpy/prfpy/fit.py:441: RuntimeWarning: divide by zero encountered in divide\n",
      "  slopes = (n_timepoints * np.dot(vox_data, predictions.T) - sumd *\n",
      "/Users/uriel/softwares/anaconda3/envs/amblyo_env/prfpy/prfpy/fit.py:441: RuntimeWarning: invalid value encountered in divide\n",
      "  slopes = (n_timepoints * np.dot(vox_data, predictions.T) - sumd *\n",
      "/Users/uriel/softwares/anaconda3/envs/amblyo_env/prfpy/prfpy/fit.py:450: RuntimeWarning: invalid value encountered in multiply\n",
      "  slopes[..., np.newaxis] *\n",
      "/Users/uriel/softwares/anaconda3/envs/amblyo_env/prfpy/prfpy/fit.py:441: RuntimeWarning: divide by zero encountered in divide\n",
      "  slopes = (n_timepoints * np.dot(vox_data, predictions.T) - sumd *\n",
      "/Users/uriel/softwares/anaconda3/envs/amblyo_env/prfpy/prfpy/fit.py:441: RuntimeWarning: invalid value encountered in divide\n",
      "  slopes = (n_timepoints * np.dot(vox_data, predictions.T) - sumd *\n",
      "/Users/uriel/softwares/anaconda3/envs/amblyo_env/prfpy/prfpy/fit.py:449: RuntimeWarning: invalid value encountered in subtract\n",
      "  resid = np.linalg.norm((vox_data -\n",
      "/Users/uriel/softwares/anaconda3/envs/amblyo_env/prfpy/prfpy/fit.py:450: RuntimeWarning: invalid value encountered in multiply\n",
      "  slopes[..., np.newaxis] *\n",
      "/Users/uriel/softwares/anaconda3/envs/amblyo_env/prfpy/prfpy/fit.py:449: RuntimeWarning: invalid value encountered in subtract\n",
      "  resid = np.linalg.norm((vox_data -\n"
     ]
    }
   ],
   "source": [
    "# define gauss model\n",
    "gauss_model = Iso2DGaussianModel(stimulus=stimulus)\n",
    "\n",
    "# grid fit gauss model\n",
    "gauss_fitter = Iso2DGaussianFitter(data=data_roi.T, \n",
    "                                   model=gauss_model, \n",
    "                                   n_jobs=n_jobs)\n",
    "\n",
    "\n",
    "\n",
    "gauss_fitter.grid_fit(ecc_grid=eccs, \n",
    "                      polar_grid=polars, \n",
    "                      size_grid=sizes, \n",
    "                      verbose=verbose, \n",
    "                      n_batches=n_batches)"
   ]
  },
  {
   "cell_type": "code",
   "execution_count": 15,
   "id": "adb08011-44c8-435a-a7fb-1250698f0808",
   "metadata": {},
   "outputs": [],
   "source": [
    "gauss_fitter.iterative_fit(rsq_threshold=0.0001, verbose=False)\n",
    "gauss_fit = gauss_fitter.iterative_search_params"
   ]
  },
  {
   "cell_type": "code",
   "execution_count": 16,
   "id": "4625e1d6-4a91-46d0-8062-918e84b2ddf9",
   "metadata": {},
   "outputs": [],
   "source": [
    "# define CSS model\n",
    "css_model = CSS_Iso2DGaussianModel(stimulus=stimulus)\n",
    "\n",
    "# grid fit CSS model\n",
    "css_fitter = CSS_Iso2DGaussianFitter(data=data_roi.T, \n",
    "                                     model=css_model, \n",
    "                                     n_jobs=n_jobs,\n",
    "                                     use_previous_gaussian_fitter_hrf=False,\n",
    "                                     previous_gaussian_fitter=gauss_fitter\n",
    "                                    )\n",
    "\n"
   ]
  },
  {
   "cell_type": "code",
   "execution_count": 17,
   "id": "4f3e8848-7187-4fbf-b54f-8b7cb988c9f0",
   "metadata": {},
   "outputs": [
    {
     "name": "stderr",
     "output_type": "stream",
     "text": [
      "[Parallel(n_jobs=32)]: Using backend LokyBackend with 32 concurrent workers.\n",
      "[Parallel(n_jobs=32)]: Done   1 tasks      | elapsed:    0.2s\n",
      "[Parallel(n_jobs=32)]: Batch computation too fast (0.1520s.) Setting batch_size=2.\n",
      "[Parallel(n_jobs=32)]: Done   2 out of  32 | elapsed:    0.2s remaining:    2.7s\n",
      "[Parallel(n_jobs=32)]: Done   5 out of  32 | elapsed:    0.5s remaining:    2.5s\n",
      "[Parallel(n_jobs=32)]: Done   8 out of  32 | elapsed:    0.6s remaining:    1.8s\n",
      "[Parallel(n_jobs=32)]: Done  11 out of  32 | elapsed:   20.2s remaining:   38.6s\n",
      "/Users/uriel/softwares/anaconda3/envs/amblyo_env/prfpy/prfpy/rf.py:112: RuntimeWarning: divide by zero encountered in divide\n",
      "  return (np.exp(-((x-mu[0])**2 + (y-mu[1])**2)/(2*sigma**2))).astype('float32')\n",
      "[Parallel(n_jobs=32)]: Done  14 out of  32 | elapsed:   20.4s remaining:   26.2s\n",
      "/Users/uriel/softwares/anaconda3/envs/amblyo_env/prfpy/prfpy/rf.py:112: RuntimeWarning: divide by zero encountered in divide\n",
      "  return (np.exp(-((x-mu[0])**2 + (y-mu[1])**2)/(2*sigma**2))).astype('float32')\n",
      "[Parallel(n_jobs=32)]: Done  17 out of  32 | elapsed:   20.6s remaining:   18.2s\n",
      "[Parallel(n_jobs=32)]: Done  20 out of  32 | elapsed:   20.6s remaining:   12.4s\n",
      "[Parallel(n_jobs=32)]: Done  23 out of  32 | elapsed:   20.8s remaining:    8.1s\n",
      "[Parallel(n_jobs=32)]: Done  26 out of  32 | elapsed:   20.9s remaining:    4.8s\n",
      "[Parallel(n_jobs=32)]: Done  29 out of  32 | elapsed:   20.9s remaining:    2.2s\n",
      "[Parallel(n_jobs=32)]: Done  32 out of  32 | elapsed:   21.3s remaining:    0.0s\n",
      "[Parallel(n_jobs=32)]: Done  32 out of  32 | elapsed:   21.3s finished\n"
     ]
    }
   ],
   "source": [
    "# CSS grid fit\n",
    "# ------------\n",
    "\n",
    "# defind grid values\n",
    "exponent_css_grid = np.linspace(0, 4, css_grid_nr)\n",
    "\n",
    "# run grid fit\n",
    "css_fitter.grid_fit(exponent_grid=exponent_css_grid,\n",
    "                    verbose=grid_verbose,\n",
    "                    n_batches=n_batches)\n",
    "\n"
   ]
  },
  {
   "cell_type": "code",
   "execution_count": 19,
   "id": "1df6ea7a-0665-4fc5-b532-72e7bc809c4a",
   "metadata": {},
   "outputs": [],
   "source": [
    "# run iterative fit\n",
    "css_fitter.iterative_fit(rsq_threshold=rsq_iterative_th, \n",
    "                         verbose=iterative_verbose, \n",
    "                         xtol=1e-4, \n",
    "                         ftol=1e-4)\n",
    "\n",
    "\n",
    "\n",
    "css_fit = css_fitter.iterative_search_params"
   ]
  },
  {
   "cell_type": "code",
   "execution_count": 20,
   "id": "e4fdeedf-0d2d-4d33-96c4-acf3de8bc185",
   "metadata": {},
   "outputs": [],
   "source": [
    "# rearange result of CSS model \n",
    "css_fit_mat = np.zeros((data_roi.shape[1],9))\n",
    "css_pred_mat = np.zeros_like(data_roi) \n",
    "for est,vert in enumerate(roi_idx):\n",
    "\n",
    "    css_fit_mat[vert] = css_fit[est]\n",
    "    css_pred_mat[:,vert] = css_model.return_prediction(mu_x=css_fit[est][0],\n",
    "                                                      mu_y=css_fit[est][1], \n",
    "                                                      size=css_fit[est][2], \n",
    "                                                      beta=css_fit[est][3], \n",
    "                                                      baseline=css_fit[est][4],\n",
    "                                                      n=css_fit[est][5],\n",
    "                                                      hrf_1=css_fit[est][6],\n",
    "                                                      hrf_2=css_fit[est][7])\n",
    "        \n",
    "css_fit_mat = np.where(css_fit_mat == 0, np.nan, css_fit_mat)\n",
    "css_pred_mat = np.where(css_pred_mat == 0, np.nan, css_pred_mat)"
   ]
  },
  {
   "cell_type": "code",
   "execution_count": 21,
   "id": "1dc083d8-b8af-47d2-aaac-ebd4ff6e784c",
   "metadata": {},
   "outputs": [
    {
     "data": {
      "text/plain": [
       "(208, 2)"
      ]
     },
     "execution_count": 21,
     "metadata": {},
     "output_type": "execute_result"
    }
   ],
   "source": [
    "# css_fit_mat.shape\n",
    "css_pred_mat.shape"
   ]
  },
  {
   "cell_type": "code",
   "execution_count": 43,
   "id": "1ad8de74-5c3b-4e22-80f9-616c0a3bcd61",
   "metadata": {},
   "outputs": [],
   "source": [
    "# export data\n",
    "maps_names = ['mu_x', 'mu_y', 'prf_size', 'prf_amplitude', 'bold_baseline',\n",
    "              'n', 'hrf_1','hrf_2', 'r_squared']\n",
    "\n",
    "css_fit_mat_L = css_fit_mat[:len_L,:].T\n",
    "css_fit_mat_R = css_fit_mat[len_L:,:].T\n",
    "\n",
    "css_pred_mat_L = css_pred_mat[:,:len_L]\n",
    "css_pred_mat_R = css_pred_mat[:,len_L:]\n",
    "\n",
    "# export fit\n",
    "img_css_fit_mat_L = make_surface_image(data=css_fit_mat_L, source_img=img,maps_names=maps_names)\n",
    "nb.save(img_css_fit_mat,'{}/{}'.format(prf_fit_dir, fit_fn_css)) \n",
    "\n",
    "# export pred\n",
    "img_css_pred_mat = make_surface_image(data=css_pred_mat, source_img=img)\n",
    "nb.save(img_css_pred_mat,'{}/{}'.format(prf_fit_dir, pred_fn_css)) "
   ]
  },
  {
   "cell_type": "code",
   "execution_count": 73,
   "id": "80536067-5557-4aba-85f5-0900df6ed768",
   "metadata": {},
   "outputs": [],
   "source": [
    "test1= css_fit_mat[len_L:,:]\n",
    "test2 = css_fit_mat[-len_R:,:]"
   ]
  },
  {
   "cell_type": "code",
   "execution_count": 68,
   "id": "3da2082a-335e-441e-8d42-7925ebf59127",
   "metadata": {},
   "outputs": [
    {
     "data": {
      "text/plain": [
       "(146878, 9)"
      ]
     },
     "execution_count": 68,
     "metadata": {},
     "output_type": "execute_result"
    }
   ],
   "source": [
    "test1.shape"
   ]
  },
  {
   "cell_type": "code",
   "execution_count": 70,
   "id": "625a62c6-76bd-4313-893b-986686bbf052",
   "metadata": {},
   "outputs": [
    {
     "data": {
      "text/plain": [
       "(146878, 9)"
      ]
     },
     "execution_count": 70,
     "metadata": {},
     "output_type": "execute_result"
    }
   ],
   "source": [
    "test2.shape"
   ]
  },
  {
   "cell_type": "code",
   "execution_count": 74,
   "id": "e78efa53-778c-47db-aadf-588fce66dd9e",
   "metadata": {},
   "outputs": [
    {
     "name": "stdout",
     "output_type": "stream",
     "text": [
      "False\n"
     ]
    }
   ],
   "source": [
    "print(np.array_equal(test1, test2))"
   ]
  },
  {
   "cell_type": "code",
   "execution_count": 65,
   "id": "02cc1e52-65dc-4763-b372-1758ea0c11fd",
   "metadata": {},
   "outputs": [
    {
     "data": {
      "text/plain": [
       "(9, 146878)"
      ]
     },
     "execution_count": 65,
     "metadata": {},
     "output_type": "execute_result"
    }
   ],
   "source": [
    "css_fit_mat_R.shape"
   ]
  },
  {
   "cell_type": "code",
   "execution_count": 72,
   "id": "565aac19-e3e6-4caa-a6d8-f630790ce1d5",
   "metadata": {},
   "outputs": [
    {
     "name": "stdout",
     "output_type": "stream",
     "text": [
      "True\n"
     ]
    }
   ],
   "source": []
  },
  {
   "cell_type": "code",
   "execution_count": 63,
   "id": "062f78c5-764c-45bf-89bb-10cd7ea54c0f",
   "metadata": {},
   "outputs": [
    {
     "data": {
      "text/plain": [
       "(146878, 9)"
      ]
     },
     "execution_count": 63,
     "metadata": {},
     "output_type": "execute_result"
    }
   ],
   "source": [
    "test.shape"
   ]
  },
  {
   "cell_type": "code",
   "execution_count": 64,
   "id": "649f05fe-7a4b-49db-a1b1-21ac7a4d9da7",
   "metadata": {},
   "outputs": [
    {
     "data": {
      "text/plain": [
       "294496"
      ]
     },
     "execution_count": 64,
     "metadata": {},
     "output_type": "execute_result"
    }
   ],
   "source": [
    "len_R + len_L"
   ]
  },
  {
   "cell_type": "code",
   "execution_count": 45,
   "id": "4bb9aa03-bab9-4b1c-82a1-1593e00c4fe4",
   "metadata": {},
   "outputs": [
    {
     "data": {
      "text/plain": [
       "(208, 146878)"
      ]
     },
     "execution_count": 45,
     "metadata": {},
     "output_type": "execute_result"
    }
   ],
   "source": [
    "css_pred_mat_R.shape"
   ]
  },
  {
   "cell_type": "markdown",
   "id": "ebcc5ae7-7ebd-4a70-bde3-7dc455b551ec",
   "metadata": {
    "tags": []
   },
   "source": [
    "# Brouillon"
   ]
  },
  {
   "cell_type": "code",
   "execution_count": null,
   "id": "3d82c476-7cee-4f61-8e04-5cf3250f546c",
   "metadata": {},
   "outputs": [],
   "source": [
    "gauss_fit = gauss_fitter.gridsearch_params\n",
    "gauss_fit_mat = np.zeros((data.shape[1],gauss_params_num))\n",
    "gauss_pred_mat = np.zeros_like(data) \n",
    "\n",
    "\n",
    "\n",
    "for est,vert in enumerate(data_where):\n",
    "    gauss_fit_mat[vert] = gauss_fit[est]\n",
    "    gauss_pred_mat[:,vert] = gauss_model.return_prediction(mu_x=gauss_fit[est][0], \n",
    "                                                          mu_y=gauss_fit[est][1], \n",
    "                                                          size=gauss_fit[est][2], \n",
    "                                                          beta=gauss_fit[est][3], \n",
    "                                                          baseline=gauss_fit[est][4],\n",
    "                                                          hrf_1=gauss_fit[est][5],\n",
    "                                                          hrf_2=gauss_fit[est][6])"
   ]
  },
  {
   "cell_type": "code",
   "execution_count": null,
   "id": "41a2591e-7eef-4e19-8466-08e86e6d061e",
   "metadata": {},
   "outputs": [],
   "source": []
  }
 ],
 "metadata": {
  "kernelspec": {
   "display_name": "amblyo_env",
   "language": "python",
   "name": "amblyo_env"
  },
  "language_info": {
   "codemirror_mode": {
    "name": "ipython",
    "version": 3
   },
   "file_extension": ".py",
   "mimetype": "text/x-python",
   "name": "python",
   "nbconvert_exporter": "python",
   "pygments_lexer": "ipython3",
   "version": "3.9.13"
  }
 },
 "nbformat": 4,
 "nbformat_minor": 5
}
