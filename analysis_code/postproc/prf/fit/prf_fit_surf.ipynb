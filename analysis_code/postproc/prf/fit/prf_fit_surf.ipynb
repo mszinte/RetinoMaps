{
 "cells": [
  {
   "cell_type": "code",
   "execution_count": null,
   "id": "9789253f-ca28-4a38-85f9-513dfad08087",
   "metadata": {},
   "outputs": [],
   "source": [
    "import sys, os\n",
    "import numpy as np\n",
    "import glob\n",
    "import datetime\n",
    "import json\n",
    "import ipdb\n",
    "deb = ipdb.set_trace\n",
    "\n",
    "# MRI analysis imports\n",
    "from prfpy.stimulus import PRFStimulus2D\n",
    "from prfpy.model import Iso2DGaussianModel, Norm_Iso2DGaussianModel\n",
    "from prfpy.fit import Iso2DGaussianFitter, Norm_Iso2DGaussianFitter\n",
    "import nibabel as nb\n",
    "\n",
    "sys.path.append(\"{}/../../../utils\".format(os.getcwd()))\n",
    "from gifti_utils import make_gifti_image, load_gifti_image\n"
   ]
  },
  {
   "cell_type": "code",
   "execution_count": null,
   "id": "ec4966d1",
   "metadata": {},
   "outputs": [],
   "source": [
    "subject = 'sub-02'\n",
    "dir_data = '/home/mszinte/disks/meso_S/data/RetinoMaps'\n",
    "dir_code = '/home/mszinte/disks/meso_H/projects/RetinoMaps'\n",
    "input_vd = '{}/derivatives/vdm/vdm.npy'.format(dir_data)\n",
    "input_fn_fsnative = '{}/derivatives/pp_data/{}/func/fmriprep_dct_avg/fsnative/{}_task-pRF_hemi-L_fmriprep_dct_avg_bold.func.gii'.format(\n",
    "    dir_data, subject, subject)\n",
    "\n",
    "# Analysis parameters\n",
    "with open('{}/analysis_code/settings.json'.format(dir_code)) as f:\n",
    "    json_s = f.read()\n",
    "    analysis_info = json.loads(json_s)\n",
    "screen_size_cm = analysis_info['screen_size_cm']\n",
    "screen_distance_cm = analysis_info['screen_distance_cm']\n",
    "TR = analysis_info['TR']\n",
    "gauss_grid_nr = analysis_info['gauss_grid_nr']\n",
    "dn_grid_nr = analysis_info['dn_grid_nr']\n",
    "max_ecc_size = analysis_info['max_ecc_size']\n",
    "n_jobs = 32\n",
    "n_batches = 32\n",
    "xtol = 1e-4\n",
    "ftol = 1e-4\n",
    "rsq_threshold = 0.01"
   ]
  },
  {
   "cell_type": "code",
   "execution_count": null,
   "id": "c1c5ea77-ddb7-4082-b86d-386c16d70086",
   "metadata": {},
   "outputs": [],
   "source": [
    "# Get task specific visual design matrix\n",
    "vdm = np.load(input_vd)\n",
    "\n",
    "# Model parameters bound\n",
    "sizes = max_ecc_size * np.linspace(0.1,1,gauss_grid_nr)**2\n",
    "eccs = max_ecc_size * np.linspace(0.25,1,gauss_grid_nr)**2\n",
    "polars = np.linspace(0, 2*np.pi, gauss_grid_nr)"
   ]
  },
  {
   "cell_type": "code",
   "execution_count": null,
   "id": "0e4ed94e-fee2-4986-a0d6-d1cc9441786d",
   "metadata": {},
   "outputs": [],
   "source": [
    "# Load fsnative data \n",
    "data_img_fsnative, data_fsnative = load_gifti_image(input_fn_fsnative)"
   ]
  },
  {
   "cell_type": "code",
   "execution_count": null,
   "id": "b3180f1b-61e0-432c-bf95-0fa794897324",
   "metadata": {},
   "outputs": [],
   "source": [
    "# Create subsample of data\n",
    "data_fsnative_ = data_fsnative[:,0:10]\n",
    "#data_fsnative_ = data_fsnative[:,0:80000]"
   ]
  },
  {
   "cell_type": "code",
   "execution_count": null,
   "id": "b9504828-1765-4ad2-8b5a-4985e8616291",
   "metadata": {},
   "outputs": [],
   "source": [
    "# compute how much data is pick from the full amount\n",
    "data_fsnative_.shape[1]/data_fsnative.shape[1]"
   ]
  },
  {
   "cell_type": "code",
   "execution_count": null,
   "id": "8bfcc0ac-a071-4e85-b996-294182585eed",
   "metadata": {},
   "outputs": [],
   "source": [
    "# # Check and plot the variance of the vertices\n",
    "# data_var = np.var(data_fsnative_,axis=0)\n",
    "\n",
    "# import plotly.figure_factory as ff\n",
    "# import numpy as np\n",
    "\n",
    "# x = data_var\n",
    "# hist_data = [x]\n",
    "# group_labels = ['variance'] # name of the dataset\n",
    "\n",
    "# fig = ff.create_distplot(hist_data, group_labels,bin_size=.1)\n",
    "# fig.show()"
   ]
  },
  {
   "cell_type": "code",
   "execution_count": null,
   "id": "dff40c24-f4fb-48e8-bcac-fb8ce64cd68f",
   "metadata": {},
   "outputs": [],
   "source": [
    "# determine gauss model\n",
    "stimulus = PRFStimulus2D(screen_size_cm=screen_size_cm[1], \n",
    "                         screen_distance_cm=screen_distance_cm,\n",
    "                         design_matrix=vdm, \n",
    "                         TR=TR)\n",
    "\n",
    "gauss_model = Iso2DGaussianModel(stimulus=stimulus)\n",
    "\n",
    "# grid fit\n",
    "gauss_fitter = Iso2DGaussianFitter(data=data_fsnative_.T, \n",
    "                                   model=gauss_model, \n",
    "                                   n_jobs=n_jobs)\n",
    "gauss_fitter.grid_fit(ecc_grid=eccs, \n",
    "                      polar_grid=polars, \n",
    "                      size_grid=sizes, \n",
    "                      verbose=True, \n",
    "                      n_batches=n_batches)"
   ]
  },
  {
   "cell_type": "code",
   "execution_count": null,
   "id": "de90f648-8a23-44e8-ae16-02097e1ed1f8",
   "metadata": {},
   "outputs": [],
   "source": [
    "# iterative fit\n",
    "gauss_fitter.iterative_fit(rsq_threshold=rsq_threshold, \n",
    "                           verbose=True,\n",
    "                           xtol=xtol,\n",
    "                           ftol=ftol\n",
    "                          )\n",
    "gauss_fit = gauss_fitter.iterative_search_params"
   ]
  },
  {
   "cell_type": "code",
   "execution_count": null,
   "id": "92cdc0c1-24e2-443b-b85a-6e84dfe3ec02",
   "metadata": {},
   "outputs": [],
   "source": [
    "gauss_fit_mat = np.zeros((data_fsnative_.shape[1],8))\n",
    "gauss_pred_mat = np.zeros_like(data_fsnative_) \n",
    "for est in range(len(data_fsnative_.T)):\n",
    "    gauss_fit_mat[est] = gauss_fit[est]\n",
    "    gauss_pred_mat[:,est] = gauss_model.return_prediction(mu_x=gauss_fit[est][0], \n",
    "                                                          mu_y=gauss_fit[est][1], \n",
    "                                                          size=gauss_fit[est][2], \n",
    "                                                          beta=gauss_fit[est][3], \n",
    "                                                          baseline=gauss_fit[est][4])"
   ]
  },
  {
   "cell_type": "code",
   "execution_count": null,
   "id": "0d3484de-2687-4c3f-90d4-ae09e9bb73fb",
   "metadata": {},
   "outputs": [],
   "source": [
    "num_vert = 6\n",
    "import plotly.graph_objects as go\n",
    "fig = go.Figure()\n",
    "fig.add_trace(go.Scatter(y=data_fsnative_[:,num_vert], name='data', mode='markers'))\n",
    "fig.add_trace(go.Scatter(y=gauss_pred_mat[:,num_vert], name='Gauss model (R2={:1.2f})'.format(gauss_fit_mat[num_vert,-1])))\n",
    "fig.show()"
   ]
  },
  {
   "cell_type": "code",
   "execution_count": null,
   "id": "15ba0a07-313c-4ac5-a987-c5f56815b798",
   "metadata": {},
   "outputs": [],
   "source": [
    "# determine DN model\n",
    "dn_model = Norm_Iso2DGaussianModel(stimulus=stimulus)\n",
    "dn_fitter = Norm_Iso2DGaussianFitter(data=data_fsnative_.T, \n",
    "                                     model=dn_model, \n",
    "                                     n_jobs=n_jobs,\n",
    "                                     use_previous_gaussian_fitter_hrf=True,\n",
    "                                     previous_gaussian_fitter=gauss_fitter)"
   ]
  },
  {
   "cell_type": "code",
   "execution_count": null,
   "id": "42088f02-2ac8-4cb3-93ad-9f818af3aa3a",
   "metadata": {},
   "outputs": [],
   "source": [
    "# dn parameters\n",
    "fixed_grid_baseline = 0\n",
    "grid_bounds = [(0,1000),(0,1000)]\n",
    "surround_size_grid = sizes#max_ecc_size * np.linspace(0.1,1,dn_grid_nr)**2\n",
    "surround_amplitude_grid = np.linspace(0, 10, dn_grid_nr)\n",
    "surround_baseline_grid = np.linspace(0, 10, dn_grid_nr)\n",
    "neural_baseline_grid = np.linspace(0, 10, dn_grid_nr)\n",
    "\n",
    "dn_fitter.grid_fit(\n",
    "    fixed_grid_baseline=fixed_grid_baseline,\n",
    "    grid_bounds=grid_bounds,\n",
    "    surround_amplitude_grid=surround_amplitude_grid,\n",
    "    surround_size_grid=surround_size_grid,             \n",
    "    surround_baseline_grid=surround_baseline_grid,\n",
    "    neural_baseline_grid=neural_baseline_grid,\n",
    "    n_batches=n_batches,\n",
    "    rsq_threshold=rsq_threshold,\n",
    "    verbose=True,\n",
    "    # hrf_1_grid=np.linspace(0,10,num),\n",
    "    # hrf_2_grid=np.linspace(0,0,1)\n",
    ")"
   ]
  },
  {
   "cell_type": "code",
   "execution_count": null,
   "id": "944884f8-ab62-4dc1-8c05-977a34282bf1",
   "metadata": {},
   "outputs": [],
   "source": [
    "dn_fitter.iterative_fit(rsq_threshold=rsq_threshold, \n",
    "                        verbose=True,\n",
    "                        xtol=xtol,\n",
    "                        ftol=ftol\n",
    "                       )\n",
    "fit_fit_dn = dn_fitter.iterative_search_params"
   ]
  },
  {
   "cell_type": "code",
   "execution_count": null,
   "id": "866203af-24be-47aa-92a7-d92d654b1cc6",
   "metadata": {},
   "outputs": [],
   "source": [
    "dn_fit_mat = np.zeros((data_fsnative_.shape[1],12))\n",
    "dn_pred_mat = np.zeros_like(data_fsnative_) \n",
    "for est in range(len(data_fsnative_.T)):\n",
    "    dn_fit_mat[est] = fit_fit_dn[est]\n",
    "    dn_pred_mat[:,est] = dn_model.return_prediction(mu_x=fit_fit_dn[est][0], \n",
    "                                                    mu_y=fit_fit_dn[est][1], \n",
    "                                                    prf_size=fit_fit_dn[est][2], \n",
    "                                                    prf_amplitude=fit_fit_dn[est][3], \n",
    "                                                    bold_baseline=fit_fit_dn[est][4],\n",
    "                                                    srf_amplitude=fit_fit_dn[est][5],\n",
    "                                                    srf_size=fit_fit_dn[est][6],\n",
    "                                                    neural_baseline=fit_fit_dn[est][7],\n",
    "                                                    surround_baseline=fit_fit_dn[est][8]\n",
    "                                                   )"
   ]
  },
  {
   "cell_type": "code",
   "execution_count": null,
   "id": "01922833-49a0-44db-bfa1-c872776a7188",
   "metadata": {},
   "outputs": [],
   "source": [
    "num_vert = 2\n",
    "import plotly.graph_objects as go\n",
    "fig = go.Figure()\n",
    "fig.add_trace(go.Scatter(y=data_fsnative_[:,num_vert], name='data', mode='markers'))\n",
    "fig.add_trace(go.Scatter(y=gauss_pred_mat[:,num_vert], name='Gauss model (R2={:1.2f})'.format(gauss_fit_mat[num_vert,-1])))\n",
    "fig.add_trace(go.Scatter(y=dn_pred_mat[:,num_vert], name='DN model (R2={:1.2f})'.format(dn_fit_mat[num_vert,-1])))\n",
    "fig.show()"
   ]
  },
  {
   "cell_type": "code",
   "execution_count": null,
   "id": "3b7b272e-9258-4c79-b72d-0fcf7faaf561",
   "metadata": {},
   "outputs": [],
   "source": []
  }
 ],
 "metadata": {
  "kernelspec": {
   "display_name": "amblyo_env",
   "language": "python",
   "name": "amblyo_env"
  },
  "language_info": {
   "codemirror_mode": {
    "name": "ipython",
    "version": 3
   },
   "file_extension": ".py",
   "mimetype": "text/x-python",
   "name": "python",
   "nbconvert_exporter": "python",
   "pygments_lexer": "ipython3",
   "version": "3.9.13"
  }
 },
 "nbformat": 4,
 "nbformat_minor": 5
}
