{
 "cells": [
  {
   "cell_type": "code",
   "execution_count": 47,
   "id": "5022ccbf-0a7c-4d03-99c7-9dfa9a8e7cbd",
   "metadata": {
    "tags": []
   },
   "outputs": [],
   "source": [
    "# imports\n",
    "import sys, os\n",
    "import numpy as np\n",
    "import glob\n",
    "import datetime\n",
    "import json\n",
    "from pathlib import Path\n",
    "from IPython.display import clear_output\n",
    "import plotly.graph_objects as go\n",
    "\n",
    "# MRI analysis imports\n",
    "from prfpy.stimulus import PRFStimulus2D\n",
    "from prfpy.model import Iso2DGaussianModel, CSS_Iso2DGaussianModel\n",
    "from prfpy.fit import Iso2DGaussianFitter, CSS_Iso2DGaussianFitter\n",
    "import nibabel as nb\n",
    "import cortex\n",
    "\n",
    "sys.path.append(\"{}/../../../utils\".format(os.getcwd()))\n",
    "from surface_utils import make_surface_image , load_surface"
   ]
  },
  {
   "cell_type": "code",
   "execution_count": 37,
   "id": "99c4f29f-2a7b-41da-9401-6baf319b3d4a",
   "metadata": {
    "tags": []
   },
   "outputs": [],
   "source": [
    "# data filenames and folder\n",
    "subject = 'sub-03'\n",
    "\n",
    "\n",
    "dir_data = '/Users/uriel/disks/meso_shared/RetinoMaps'\n",
    "dir_code = '/Users/uriel/disks/meso_H/projects/RetinoMaps'\n",
    "\n",
    "input_vd = '{}/derivatives/vdm/vdm_PurLoc_80_80.npy'.format(dir_data)\n",
    "\n",
    "prf_fit_dir = '{}/derivatives/pp_data/{}/fsnative/prf/fit'.format(dir_data,subject)\n",
    "prf_fit_fn = '{}_task-pRF_hemi-R_fmriprep_dct_avg_loo-3_prf-fit_css.func.gii'.format(subject)\n",
    "\n",
    "prf_loo_dir = '{}/derivatives/pp_data/{}/fsnative/func/fmriprep_dct_loo_avg'.format(dir_data,subject)\n",
    "prf_loo_fn = '{}_task-pMF_hemi-R_fmriprep_dct_avg_loo-3_bold.func.gii'.format(subject)\n",
    "\n"
   ]
  },
  {
   "cell_type": "code",
   "execution_count": 38,
   "id": "cc710850-9e02-4f6e-85e2-c71b943f0af0",
   "metadata": {
    "tags": []
   },
   "outputs": [],
   "source": [
    "# analysis parameters\n",
    "with open('{}/analysis_code/settings.json'.format(dir_code)) as f:\n",
    "    json_s = f.read()\n",
    "    analysis_info = json.loads(json_s)\n",
    "screen_size_cm = analysis_info['screen_size_cm']\n",
    "screen_distance_cm = analysis_info['screen_distance_cm']\n",
    "TR = analysis_info['TR']\n",
    "max_ecc_size = analysis_info['max_ecc_size']\n",
    "gauss_grid_nr = analysis_info['gauss_grid_nr']\n",
    "css_grid_nr = analysis_info['css_grid_nr']\n",
    "css_params_num = 9"
   ]
  },
  {
   "cell_type": "code",
   "execution_count": 39,
   "id": "7a7b4e29-2291-4b76-89cd-12c31215bdc0",
   "metadata": {
    "tags": []
   },
   "outputs": [],
   "source": [
    "# load visual design\n",
    "vdm = np.load(input_vd)\n",
    "\n",
    "# determine visual design\n",
    "stimulus = PRFStimulus2D(screen_size_cm=screen_size_cm[1], \n",
    "                         screen_distance_cm=screen_distance_cm,\n",
    "                         design_matrix=vdm, \n",
    "                         TR=TR)"
   ]
  },
  {
   "cell_type": "code",
   "execution_count": 40,
   "id": "4ec0a087-1a41-445b-89cb-f26f97d5d5ba",
   "metadata": {
    "tags": []
   },
   "outputs": [],
   "source": [
    "# Load fit data \n",
    "fit_img, fit_data = load_surface('{}/{}'.format(prf_fit_dir,prf_fit_fn))\n",
    "bold_img, bold_data = load_surface('{}/{}'.format(prf_loo_dir,prf_loo_fn))\n",
    "\n",
    "fit_data = fit_data.T\n",
    "bold_data = bold_data.T"
   ]
  },
  {
   "cell_type": "code",
   "execution_count": 41,
   "id": "7e8ec08e-36d3-4ae2-9c55-9532ed4323d0",
   "metadata": {
    "tags": []
   },
   "outputs": [
    {
     "data": {
      "text/plain": [
       "(147624, 10)"
      ]
     },
     "execution_count": 41,
     "metadata": {},
     "output_type": "execute_result"
    }
   ],
   "source": [
    "fit_data.shape"
   ]
  },
  {
   "cell_type": "code",
   "execution_count": 42,
   "id": "bbbb3398-32b2-432d-a777-3cc1e95280f5",
   "metadata": {
    "tags": []
   },
   "outputs": [],
   "source": [
    "# define gauss model\n",
    "css_model = CSS_Iso2DGaussianModel(stimulus=stimulus)"
   ]
  },
  {
   "cell_type": "code",
   "execution_count": 43,
   "id": "cc5985c2-2ca3-48c8-a7ed-807194c60b10",
   "metadata": {
    "tags": []
   },
   "outputs": [],
   "source": [
    "# arrange data\n",
    "css_pred_mat = np.zeros_like(bold_data) \n",
    "for est in range(len(bold_data)):\n",
    "    css_pred_mat[est,:] = css_model.return_prediction(mu_x=fit_data[est][0],\n",
    "                                                      mu_y=fit_data[est][1], \n",
    "                                                      size=fit_data[est][2], \n",
    "                                                      beta=fit_data[est][3], \n",
    "                                                      baseline=fit_data[est][4],\n",
    "                                                      n=fit_data[est][5],\n",
    "                                                      hrf_1=fit_data[est][6],\n",
    "                                                      hrf_2=fit_data[est][7])"
   ]
  },
  {
   "cell_type": "code",
   "execution_count": 58,
   "id": "419eab84-4d6a-460c-b468-e0a225287a66",
   "metadata": {
    "tags": []
   },
   "outputs": [
    {
     "data": {
      "application/vnd.plotly.v1+json": {
       "config": {
        "plotlyServerURL": "https://plot.ly"
       },
       "data": [
        {
         "mode": "markers",
         "name": "data",
         "type": "scatter",
         "y": [
          0.6956090331077576,
          -0.07879656553268433,
          -0.7609309554100037,
          -0.5799745917320251,
          -0.21592804789543152,
          -0.2843473255634308,
          -0.2186945378780365,
          -1.1718735694885254,
          -0.3723152279853821,
          -0.3934096693992615,
          -0.8303006291389465,
          0.2780678868293762,
          0.223728209733963,
          -0.23810581862926483,
          0.5420514941215515,
          0.26683393120765686,
          0.3064967393875122,
          0.09752023220062256,
          -0.4110410511493683,
          -0.8538510799407959,
          0.29391390085220337,
          -0.4656810760498047,
          0.8137426376342773,
          -0.7251217365264893,
          0.8099194169044495,
          0.29487407207489014,
          1.0366039276123047,
          -0.6134375333786011,
          0.42323553562164307,
          1.0906932353973389,
          0.4151769280433655,
          0.10579532384872437,
          -0.11976810544729233,
          0.08764930814504623,
          0.04883942753076553,
          -0.35948818922042847,
          0.07147261500358582,
          0.6669653654098511,
          1.0222536325454712,
          0.5584954619407654,
          -0.040474534034729004,
          0.8469544649124146,
          0.9406428933143616,
          0.2622929513454437,
          0.30806025862693787,
          0.6107997298240662,
          -0.13137635588645935,
          0.3118358254432678,
          -0.25345802307128906,
          0.4425315260887146,
          -0.7568663358688354,
          -0.16060157120227814,
          0.36504513025283813,
          -0.6250972151756287,
          -0.4602508544921875,
          -0.9259428977966309,
          0.3747633397579193,
          -0.6871386766433716,
          -0.4939981698989868,
          0.6068276166915894,
          0.5473262071609497,
          -0.731189489364624,
          0.19461363554000854,
          -0.5840441584587097,
          -0.8127087354660034,
          0.014262303709983826,
          -1.05296790599823,
          -0.4226329028606415,
          -0.33107221126556396,
          -0.04893800616264343,
          0.33029526472091675,
          -1.0652695894241333,
          0.4244964122772217,
          -0.7396823167800903,
          0.15481361746788025,
          -0.38674187660217285,
          -0.17258401215076447,
          -0.05206722393631935,
          0.3804807960987091,
          0.1022326648235321,
          -0.23304370045661926,
          -0.26735812425613403,
          -0.12543264031410217,
          0.1333170086145401,
          -0.3104494512081146,
          0.5146127939224243,
          0.3731119930744171,
          -0.46445369720458984,
          0.368243932723999,
          0.7778189182281494,
          0.5445043444633484,
          0.5317717790603638,
          0.5958845615386963,
          1.4131429195404053,
          0.8243391513824463,
          0.388019323348999,
          -0.5237630009651184,
          -0.07442380487918854,
          -0.7559259533882141,
          -0.06448802351951599,
          0.6511840224266052,
          0.46029138565063477,
          -0.5514706373214722,
          -0.5710781216621399,
          -0.5349021553993225,
          -0.6354553699493408,
          -0.5319693088531494,
          -0.812234103679657,
          -0.5332765579223633,
          0.11540724337100983,
          -0.38320308923721313,
          -0.1482917219400406,
          0.9989458322525024,
          -0.3101799488067627,
          -0.14708691835403442,
          -0.4902503192424774,
          -0.4858916401863098,
          -0.1694374829530716,
          0.6727332472801208,
          0.2658788859844208,
          0.7099130749702454,
          0.8070368766784668,
          0.3084663152694702,
          -0.28146129846572876,
          0.19014473259449005,
          0.3169059455394745,
          0.3664764165878296,
          0.054205816239118576,
          0.009845498949289322,
          0.47507044672966003,
          0.06762311607599258,
          0.581773579120636,
          0.21306686103343964,
          -0.29904383420944214,
          0.4520944654941559,
          0.06161310896277428,
          -0.23533764481544495,
          -0.6106320023536682,
          -0.2016487717628479,
          0.8549901843070984,
          0.20906460285186768,
          0.7104864716529846,
          -0.15451835095882416,
          -1.1819881200790405,
          0.5470537543296814,
          -0.9124965071678162,
          0.29810792207717896,
          -0.33294951915740967,
          0.015373855829238892,
          0.24767379462718964,
          0.16131111979484558,
          -0.02732265740633011,
          -0.6962685585021973,
          -0.08258333802223206,
          -0.9577405452728271,
          -0.007594965398311615,
          -0.3254610598087311,
          -1.158942461013794,
          0.6296712756156921,
          -0.23406895995140076,
          0.310722678899765,
          -0.9145596623420715,
          -0.6419758200645447,
          -0.41564691066741943,
          -0.40266770124435425,
          -0.25634822249412537,
          -0.29044219851493835,
          0.0974406898021698,
          0.3954741358757019,
          -0.3991556763648987,
          1.3025704622268677,
          0.7398614883422852,
          -0.10874103009700775,
          -0.12728822231292725,
          0.5610538721084595,
          -0.4653732180595398,
          0.2974148094654083,
          0.8940895795822144,
          0.17104056477546692,
          -0.16532811522483826,
          -0.36314821243286133,
          -0.10766717791557312,
          1.028833270072937,
          0.2620682716369629,
          -0.5564568638801575,
          0.025217823684215546,
          1.2144429683685303,
          -0.07598019391298294,
          0.5645506381988525,
          0.5056905150413513,
          0.8218660354614258,
          -0.13776865601539612,
          0.8623976111412048,
          -0.19853615760803223,
          0.05563806742429733,
          -0.15530085563659668,
          -0.42633193731307983,
          -0.19755977392196655,
          0.17136342823505402,
          -0.16443173587322235,
          0.5902222990989685,
          -0.1944548487663269,
          -0.4263114333152771,
          1.0347721576690674,
          -1.1261765956878662,
          -0.5162795186042786,
          -0.6940491199493408,
          -1.2078192234039307
         ]
        },
        {
         "type": "scatter",
         "y": [
          -0.2779445946216583,
          -0.2779422700405121,
          -0.2779405415058136,
          -0.2779393792152405,
          -0.2779386043548584,
          -0.2779381573200226,
          -0.2779379189014435,
          -0.27793776988983154,
          -0.2779376804828644,
          -0.277937650680542,
          -0.2779376208782196,
          -0.2779376208782196,
          -0.2779375910758972,
          -0.2779375910758972,
          -0.2779375910758972,
          -0.2779375910758972,
          -0.2779375910758972,
          -0.2779375910758972,
          -0.2779375910758972,
          -0.2780879735946655,
          -0.27863532304763794,
          -0.2791510224342346,
          -0.27953726053237915,
          -0.27961012721061707,
          -0.2796041965484619,
          -0.2794605493545532,
          -0.27938327193260193,
          -0.2792462706565857,
          -0.2792053520679474,
          -0.2791079878807068,
          -0.2790941894054413,
          -0.2789885699748993,
          -0.27888330817222595,
          -0.27837473154067993,
          -0.27704909443855286,
          -0.2742995023727417,
          -0.2679872214794159,
          -0.2599314749240875,
          -0.24615246057510376,
          -0.23557373881340027,
          -0.226029634475708,
          -0.227000892162323,
          -0.2376246601343155,
          -0.2545507252216339,
          -0.2726368010044098,
          -0.28594833612442017,
          -0.2921814024448395,
          -0.29257121682167053,
          -0.29042521119117737,
          -0.28776851296424866,
          -0.2854068875312805,
          -0.2830326557159424,
          -0.280789315700531,
          -0.27911123633384705,
          -0.27813097834587097,
          -0.2776853144168854,
          -0.2775506377220154,
          -0.27756473422050476,
          -0.27763631939888,
          -0.2777197062969208,
          -0.27779388427734375,
          -0.2778509557247162,
          -0.2778902053833008,
          -0.27791455388069153,
          -0.2779282033443451,
          -0.2779349684715271,
          -0.2779378294944763,
          -0.2780890464782715,
          -0.27863648533821106,
          -0.27915194630622864,
          -0.2795286178588867,
          -0.27956631779670715,
          -0.2795368731021881,
          -0.2794034481048584,
          -0.2793547809123993,
          -0.2792435884475708,
          -0.2792181968688965,
          -0.2791307270526886,
          -0.2791319191455841,
          -0.27907082438468933,
          -0.27909377217292786,
          -0.27904894948005676,
          -0.2790837287902832,
          -0.27904635667800903,
          -0.2790846824645996,
          -0.27904826402664185,
          -0.27908647060394287,
          -0.27648067474365234,
          -0.2671670913696289,
          -0.260887086391449,
          -0.2636725604534149,
          -0.2711694538593292,
          -0.2778032422065735,
          -0.2813962399959564,
          -0.2826801836490631,
          -0.28260478377342224,
          -0.2820744216442108,
          -0.2813225984573364,
          -0.28067490458488464,
          -0.27991199493408203,
          -0.2789676785469055,
          -0.2781188488006592,
          -0.27759015560150146,
          -0.2773849070072174,
          -0.2773877680301666,
          -0.27748408913612366,
          -0.27760276198387146,
          -0.2777107059955597,
          -0.2777963876724243,
          -0.27785825729370117,
          -0.2778991460800171,
          -0.277923583984375,
          -0.2779363989830017,
          -0.27794188261032104,
          -0.2779432535171509,
          -0.2780930995941162,
          -0.2786392569541931,
          -0.27915382385253906,
          -0.27953940629959106,
          -0.279611736536026,
          -0.2796054184436798,
          -0.279461532831192,
          -0.2793843746185303,
          -0.2792479693889618,
          -0.2792086601257324,
          -0.27911660075187683,
          -0.27911826968193054,
          -0.27905982732772827,
          -0.27908647060394287,
          -0.2786380350589752,
          -0.27719399333000183,
          -0.2761690020561218,
          -0.27664288878440857,
          -0.27263757586479187,
          -0.25492924451828003,
          -0.23747272789478302,
          -0.22339147329330444,
          -0.22530333697795868,
          -0.2445511519908905,
          -0.2678854763507843,
          -0.28447723388671875,
          -0.29194217920303345,
          -0.29315871000289917,
          -0.291265606880188,
          -0.28851088881492615,
          -0.2857268154621124,
          -0.2834419310092926,
          -0.2814737558364868,
          -0.2797195315361023,
          -0.27838191390037537,
          -0.2775968313217163,
          -0.2772842049598694,
          -0.27726292610168457,
          -0.2773735523223877,
          -0.2775188088417053,
          -0.277652770280838,
          -0.27775904536247253,
          -0.2778354585170746,
          -0.2778857946395874,
          -0.2779160439968109,
          -0.2779322862625122,
          -0.27793967723846436,
          -0.27794212102890015,
          -0.27808675169944763,
          -0.27861231565475464,
          -0.27910754084587097,
          -0.2794055938720703,
          -0.27921244502067566,
          -0.27904725074768066,
          -0.2789989113807678,
          -0.2791278064250946,
          -0.27914345264434814,
          -0.2791132926940918,
          -0.27896153926849365,
          -0.27884677052497864,
          -0.27875664830207825,
          -0.27875208854675293,
          -0.2779572010040283,
          -0.2762734293937683,
          -0.2737305164337158,
          -0.2681485712528229,
          -0.26305297017097473,
          -0.26025390625,
          -0.2626943290233612,
          -0.2697122097015381,
          -0.27602508664131165,
          -0.27726665139198303,
          -0.276284784078598,
          -0.275657594203949,
          -0.27638164162635803,
          -0.27789682149887085,
          -0.2793840169906616,
          -0.2806026339530945,
          -0.28115546703338623,
          -0.2811785340309143,
          -0.2806445360183716,
          -0.2797175347805023,
          -0.278789758682251,
          -0.27813270688056946,
          -0.2777821719646454,
          -0.277650386095047,
          -0.27763956785202026,
          -0.277683287858963,
          -0.2777446210384369,
          -0.2778046727180481,
          -0.2778545320034027,
          -0.27789124846458435,
          -0.27791544795036316
         ]
        }
       ],
       "layout": {
        "autosize": true,
        "template": {
         "data": {
          "bar": [
           {
            "error_x": {
             "color": "rgb(36,36,36)"
            },
            "error_y": {
             "color": "rgb(36,36,36)"
            },
            "marker": {
             "line": {
              "color": "white",
              "width": 0.5
             },
             "pattern": {
              "fillmode": "overlay",
              "size": 10,
              "solidity": 0.2
             }
            },
            "type": "bar"
           }
          ],
          "barpolar": [
           {
            "marker": {
             "line": {
              "color": "white",
              "width": 0.5
             },
             "pattern": {
              "fillmode": "overlay",
              "size": 10,
              "solidity": 0.2
             }
            },
            "type": "barpolar"
           }
          ],
          "carpet": [
           {
            "aaxis": {
             "endlinecolor": "rgb(36,36,36)",
             "gridcolor": "white",
             "linecolor": "white",
             "minorgridcolor": "white",
             "startlinecolor": "rgb(36,36,36)"
            },
            "baxis": {
             "endlinecolor": "rgb(36,36,36)",
             "gridcolor": "white",
             "linecolor": "white",
             "minorgridcolor": "white",
             "startlinecolor": "rgb(36,36,36)"
            },
            "type": "carpet"
           }
          ],
          "choropleth": [
           {
            "colorbar": {
             "outlinewidth": 1,
             "tickcolor": "rgb(36,36,36)",
             "ticks": "outside"
            },
            "type": "choropleth"
           }
          ],
          "contour": [
           {
            "colorbar": {
             "outlinewidth": 1,
             "tickcolor": "rgb(36,36,36)",
             "ticks": "outside"
            },
            "colorscale": [
             [
              0,
              "#440154"
             ],
             [
              0.1111111111111111,
              "#482878"
             ],
             [
              0.2222222222222222,
              "#3e4989"
             ],
             [
              0.3333333333333333,
              "#31688e"
             ],
             [
              0.4444444444444444,
              "#26828e"
             ],
             [
              0.5555555555555556,
              "#1f9e89"
             ],
             [
              0.6666666666666666,
              "#35b779"
             ],
             [
              0.7777777777777778,
              "#6ece58"
             ],
             [
              0.8888888888888888,
              "#b5de2b"
             ],
             [
              1,
              "#fde725"
             ]
            ],
            "type": "contour"
           }
          ],
          "contourcarpet": [
           {
            "colorbar": {
             "outlinewidth": 1,
             "tickcolor": "rgb(36,36,36)",
             "ticks": "outside"
            },
            "type": "contourcarpet"
           }
          ],
          "heatmap": [
           {
            "colorbar": {
             "outlinewidth": 1,
             "tickcolor": "rgb(36,36,36)",
             "ticks": "outside"
            },
            "colorscale": [
             [
              0,
              "#440154"
             ],
             [
              0.1111111111111111,
              "#482878"
             ],
             [
              0.2222222222222222,
              "#3e4989"
             ],
             [
              0.3333333333333333,
              "#31688e"
             ],
             [
              0.4444444444444444,
              "#26828e"
             ],
             [
              0.5555555555555556,
              "#1f9e89"
             ],
             [
              0.6666666666666666,
              "#35b779"
             ],
             [
              0.7777777777777778,
              "#6ece58"
             ],
             [
              0.8888888888888888,
              "#b5de2b"
             ],
             [
              1,
              "#fde725"
             ]
            ],
            "type": "heatmap"
           }
          ],
          "heatmapgl": [
           {
            "colorbar": {
             "outlinewidth": 1,
             "tickcolor": "rgb(36,36,36)",
             "ticks": "outside"
            },
            "colorscale": [
             [
              0,
              "#440154"
             ],
             [
              0.1111111111111111,
              "#482878"
             ],
             [
              0.2222222222222222,
              "#3e4989"
             ],
             [
              0.3333333333333333,
              "#31688e"
             ],
             [
              0.4444444444444444,
              "#26828e"
             ],
             [
              0.5555555555555556,
              "#1f9e89"
             ],
             [
              0.6666666666666666,
              "#35b779"
             ],
             [
              0.7777777777777778,
              "#6ece58"
             ],
             [
              0.8888888888888888,
              "#b5de2b"
             ],
             [
              1,
              "#fde725"
             ]
            ],
            "type": "heatmapgl"
           }
          ],
          "histogram": [
           {
            "marker": {
             "line": {
              "color": "white",
              "width": 0.6
             }
            },
            "type": "histogram"
           }
          ],
          "histogram2d": [
           {
            "colorbar": {
             "outlinewidth": 1,
             "tickcolor": "rgb(36,36,36)",
             "ticks": "outside"
            },
            "colorscale": [
             [
              0,
              "#440154"
             ],
             [
              0.1111111111111111,
              "#482878"
             ],
             [
              0.2222222222222222,
              "#3e4989"
             ],
             [
              0.3333333333333333,
              "#31688e"
             ],
             [
              0.4444444444444444,
              "#26828e"
             ],
             [
              0.5555555555555556,
              "#1f9e89"
             ],
             [
              0.6666666666666666,
              "#35b779"
             ],
             [
              0.7777777777777778,
              "#6ece58"
             ],
             [
              0.8888888888888888,
              "#b5de2b"
             ],
             [
              1,
              "#fde725"
             ]
            ],
            "type": "histogram2d"
           }
          ],
          "histogram2dcontour": [
           {
            "colorbar": {
             "outlinewidth": 1,
             "tickcolor": "rgb(36,36,36)",
             "ticks": "outside"
            },
            "colorscale": [
             [
              0,
              "#440154"
             ],
             [
              0.1111111111111111,
              "#482878"
             ],
             [
              0.2222222222222222,
              "#3e4989"
             ],
             [
              0.3333333333333333,
              "#31688e"
             ],
             [
              0.4444444444444444,
              "#26828e"
             ],
             [
              0.5555555555555556,
              "#1f9e89"
             ],
             [
              0.6666666666666666,
              "#35b779"
             ],
             [
              0.7777777777777778,
              "#6ece58"
             ],
             [
              0.8888888888888888,
              "#b5de2b"
             ],
             [
              1,
              "#fde725"
             ]
            ],
            "type": "histogram2dcontour"
           }
          ],
          "mesh3d": [
           {
            "colorbar": {
             "outlinewidth": 1,
             "tickcolor": "rgb(36,36,36)",
             "ticks": "outside"
            },
            "type": "mesh3d"
           }
          ],
          "parcoords": [
           {
            "line": {
             "colorbar": {
              "outlinewidth": 1,
              "tickcolor": "rgb(36,36,36)",
              "ticks": "outside"
             }
            },
            "type": "parcoords"
           }
          ],
          "pie": [
           {
            "automargin": true,
            "type": "pie"
           }
          ],
          "scatter": [
           {
            "fillpattern": {
             "fillmode": "overlay",
             "size": 10,
             "solidity": 0.2
            },
            "type": "scatter"
           }
          ],
          "scatter3d": [
           {
            "line": {
             "colorbar": {
              "outlinewidth": 1,
              "tickcolor": "rgb(36,36,36)",
              "ticks": "outside"
             }
            },
            "marker": {
             "colorbar": {
              "outlinewidth": 1,
              "tickcolor": "rgb(36,36,36)",
              "ticks": "outside"
             }
            },
            "type": "scatter3d"
           }
          ],
          "scattercarpet": [
           {
            "marker": {
             "colorbar": {
              "outlinewidth": 1,
              "tickcolor": "rgb(36,36,36)",
              "ticks": "outside"
             }
            },
            "type": "scattercarpet"
           }
          ],
          "scattergeo": [
           {
            "marker": {
             "colorbar": {
              "outlinewidth": 1,
              "tickcolor": "rgb(36,36,36)",
              "ticks": "outside"
             }
            },
            "type": "scattergeo"
           }
          ],
          "scattergl": [
           {
            "marker": {
             "colorbar": {
              "outlinewidth": 1,
              "tickcolor": "rgb(36,36,36)",
              "ticks": "outside"
             }
            },
            "type": "scattergl"
           }
          ],
          "scattermapbox": [
           {
            "marker": {
             "colorbar": {
              "outlinewidth": 1,
              "tickcolor": "rgb(36,36,36)",
              "ticks": "outside"
             }
            },
            "type": "scattermapbox"
           }
          ],
          "scatterpolar": [
           {
            "marker": {
             "colorbar": {
              "outlinewidth": 1,
              "tickcolor": "rgb(36,36,36)",
              "ticks": "outside"
             }
            },
            "type": "scatterpolar"
           }
          ],
          "scatterpolargl": [
           {
            "marker": {
             "colorbar": {
              "outlinewidth": 1,
              "tickcolor": "rgb(36,36,36)",
              "ticks": "outside"
             }
            },
            "type": "scatterpolargl"
           }
          ],
          "scatterternary": [
           {
            "marker": {
             "colorbar": {
              "outlinewidth": 1,
              "tickcolor": "rgb(36,36,36)",
              "ticks": "outside"
             }
            },
            "type": "scatterternary"
           }
          ],
          "surface": [
           {
            "colorbar": {
             "outlinewidth": 1,
             "tickcolor": "rgb(36,36,36)",
             "ticks": "outside"
            },
            "colorscale": [
             [
              0,
              "#440154"
             ],
             [
              0.1111111111111111,
              "#482878"
             ],
             [
              0.2222222222222222,
              "#3e4989"
             ],
             [
              0.3333333333333333,
              "#31688e"
             ],
             [
              0.4444444444444444,
              "#26828e"
             ],
             [
              0.5555555555555556,
              "#1f9e89"
             ],
             [
              0.6666666666666666,
              "#35b779"
             ],
             [
              0.7777777777777778,
              "#6ece58"
             ],
             [
              0.8888888888888888,
              "#b5de2b"
             ],
             [
              1,
              "#fde725"
             ]
            ],
            "type": "surface"
           }
          ],
          "table": [
           {
            "cells": {
             "fill": {
              "color": "rgb(237,237,237)"
             },
             "line": {
              "color": "white"
             }
            },
            "header": {
             "fill": {
              "color": "rgb(217,217,217)"
             },
             "line": {
              "color": "white"
             }
            },
            "type": "table"
           }
          ]
         },
         "layout": {
          "annotationdefaults": {
           "arrowhead": 0,
           "arrowwidth": 1
          },
          "autotypenumbers": "strict",
          "coloraxis": {
           "colorbar": {
            "outlinewidth": 1,
            "tickcolor": "rgb(36,36,36)",
            "ticks": "outside"
           }
          },
          "colorscale": {
           "diverging": [
            [
             0,
             "rgb(103,0,31)"
            ],
            [
             0.1,
             "rgb(178,24,43)"
            ],
            [
             0.2,
             "rgb(214,96,77)"
            ],
            [
             0.3,
             "rgb(244,165,130)"
            ],
            [
             0.4,
             "rgb(253,219,199)"
            ],
            [
             0.5,
             "rgb(247,247,247)"
            ],
            [
             0.6,
             "rgb(209,229,240)"
            ],
            [
             0.7,
             "rgb(146,197,222)"
            ],
            [
             0.8,
             "rgb(67,147,195)"
            ],
            [
             0.9,
             "rgb(33,102,172)"
            ],
            [
             1,
             "rgb(5,48,97)"
            ]
           ],
           "sequential": [
            [
             0,
             "#440154"
            ],
            [
             0.1111111111111111,
             "#482878"
            ],
            [
             0.2222222222222222,
             "#3e4989"
            ],
            [
             0.3333333333333333,
             "#31688e"
            ],
            [
             0.4444444444444444,
             "#26828e"
            ],
            [
             0.5555555555555556,
             "#1f9e89"
            ],
            [
             0.6666666666666666,
             "#35b779"
            ],
            [
             0.7777777777777778,
             "#6ece58"
            ],
            [
             0.8888888888888888,
             "#b5de2b"
            ],
            [
             1,
             "#fde725"
            ]
           ],
           "sequentialminus": [
            [
             0,
             "#440154"
            ],
            [
             0.1111111111111111,
             "#482878"
            ],
            [
             0.2222222222222222,
             "#3e4989"
            ],
            [
             0.3333333333333333,
             "#31688e"
            ],
            [
             0.4444444444444444,
             "#26828e"
            ],
            [
             0.5555555555555556,
             "#1f9e89"
            ],
            [
             0.6666666666666666,
             "#35b779"
            ],
            [
             0.7777777777777778,
             "#6ece58"
            ],
            [
             0.8888888888888888,
             "#b5de2b"
            ],
            [
             1,
             "#fde725"
            ]
           ]
          },
          "colorway": [
           "#1F77B4",
           "#FF7F0E",
           "#2CA02C",
           "#D62728",
           "#9467BD",
           "#8C564B",
           "#E377C2",
           "#7F7F7F",
           "#BCBD22",
           "#17BECF"
          ],
          "font": {
           "color": "rgb(36,36,36)"
          },
          "geo": {
           "bgcolor": "white",
           "lakecolor": "white",
           "landcolor": "white",
           "showlakes": true,
           "showland": true,
           "subunitcolor": "white"
          },
          "hoverlabel": {
           "align": "left"
          },
          "hovermode": "closest",
          "mapbox": {
           "style": "light"
          },
          "paper_bgcolor": "white",
          "plot_bgcolor": "white",
          "polar": {
           "angularaxis": {
            "gridcolor": "rgb(232,232,232)",
            "linecolor": "rgb(36,36,36)",
            "showgrid": false,
            "showline": true,
            "ticks": "outside"
           },
           "bgcolor": "white",
           "radialaxis": {
            "gridcolor": "rgb(232,232,232)",
            "linecolor": "rgb(36,36,36)",
            "showgrid": false,
            "showline": true,
            "ticks": "outside"
           }
          },
          "scene": {
           "xaxis": {
            "backgroundcolor": "white",
            "gridcolor": "rgb(232,232,232)",
            "gridwidth": 2,
            "linecolor": "rgb(36,36,36)",
            "showbackground": true,
            "showgrid": false,
            "showline": true,
            "ticks": "outside",
            "zeroline": false,
            "zerolinecolor": "rgb(36,36,36)"
           },
           "yaxis": {
            "backgroundcolor": "white",
            "gridcolor": "rgb(232,232,232)",
            "gridwidth": 2,
            "linecolor": "rgb(36,36,36)",
            "showbackground": true,
            "showgrid": false,
            "showline": true,
            "ticks": "outside",
            "zeroline": false,
            "zerolinecolor": "rgb(36,36,36)"
           },
           "zaxis": {
            "backgroundcolor": "white",
            "gridcolor": "rgb(232,232,232)",
            "gridwidth": 2,
            "linecolor": "rgb(36,36,36)",
            "showbackground": true,
            "showgrid": false,
            "showline": true,
            "ticks": "outside",
            "zeroline": false,
            "zerolinecolor": "rgb(36,36,36)"
           }
          },
          "shapedefaults": {
           "fillcolor": "black",
           "line": {
            "width": 0
           },
           "opacity": 0.3
          },
          "ternary": {
           "aaxis": {
            "gridcolor": "rgb(232,232,232)",
            "linecolor": "rgb(36,36,36)",
            "showgrid": false,
            "showline": true,
            "ticks": "outside"
           },
           "baxis": {
            "gridcolor": "rgb(232,232,232)",
            "linecolor": "rgb(36,36,36)",
            "showgrid": false,
            "showline": true,
            "ticks": "outside"
           },
           "bgcolor": "white",
           "caxis": {
            "gridcolor": "rgb(232,232,232)",
            "linecolor": "rgb(36,36,36)",
            "showgrid": false,
            "showline": true,
            "ticks": "outside"
           }
          },
          "title": {
           "x": 0.05
          },
          "xaxis": {
           "automargin": true,
           "gridcolor": "rgb(232,232,232)",
           "linecolor": "rgb(36,36,36)",
           "showgrid": false,
           "showline": true,
           "ticks": "outside",
           "title": {
            "standoff": 15
           },
           "zeroline": false,
           "zerolinecolor": "rgb(36,36,36)"
          },
          "yaxis": {
           "automargin": true,
           "gridcolor": "rgb(232,232,232)",
           "linecolor": "rgb(36,36,36)",
           "showgrid": false,
           "showline": true,
           "ticks": "outside",
           "title": {
            "standoff": 15
           },
           "zeroline": false,
           "zerolinecolor": "rgb(36,36,36)"
          }
         }
        },
        "title": {
         "text": "Fit predictions"
        },
        "xaxis": {
         "range": [
          0,
          208
         ],
         "title": {
          "text": "TR (sec)"
         }
        },
        "yaxis": {
         "range": [
          -4,
          4
         ],
         "title": {
          "text": "z-score"
         },
         "type": "linear"
        }
       }
      },
      "image/png": "[encoded data removed]",
      "text/html": [
       "<div>                            <div id=\"434d2345-972c-41f6-996a-2a7691e3271d\" class=\"plotly-graph-div\" style=\"height:525px; width:100%;\"></div>            <script type=\"text/javascript\">                require([\"plotly\"], function(Plotly) {                    window.PLOTLYENV=window.PLOTLYENV || {};                                    if (document.getElementById(\"434d2345-972c-41f6-996a-2a7691e3271d\")) {                    Plotly.newPlot(                        \"434d2345-972c-41f6-996a-2a7691e3271d\",                        [{\"mode\":\"markers\",\"name\":\"data\",\"y\":[0.6956090331077576,-0.07879656553268433,-0.7609309554100037,-0.5799745917320251,-0.21592804789543152,-0.2843473255634308,-0.2186945378780365,-1.1718735694885254,-0.3723152279853821,-0.3934096693992615,-0.8303006291389465,0.2780678868293762,0.223728209733963,-0.23810581862926483,0.5420514941215515,0.26683393120765686,0.3064967393875122,0.09752023220062256,-0.4110410511493683,-0.8538510799407959,0.29391390085220337,-0.4656810760498047,0.8137426376342773,-0.7251217365264893,0.8099194169044495,0.29487407207489014,1.0366039276123047,-0.6134375333786011,0.42323553562164307,1.0906932353973389,0.4151769280433655,0.10579532384872437,-0.11976810544729233,0.08764930814504623,0.04883942753076553,-0.35948818922042847,0.07147261500358582,0.6669653654098511,1.0222536325454712,0.5584954619407654,-0.040474534034729004,0.8469544649124146,0.9406428933143616,0.2622929513454437,0.30806025862693787,0.6107997298240662,-0.13137635588645935,0.3118358254432678,-0.25345802307128906,0.4425315260887146,-0.7568663358688354,-0.16060157120227814,0.36504513025283813,-0.6250972151756287,-0.4602508544921875,-0.9259428977966309,0.3747633397579193,-0.6871386766433716,-0.4939981698989868,0.6068276166915894,0.5473262071609497,-0.731189489364624,0.19461363554000854,-0.5840441584587097,-0.8127087354660034,0.014262303709983826,-1.05296790599823,-0.4226329028606415,-0.33107221126556396,-0.04893800616264343,0.33029526472091675,-1.0652695894241333,0.4244964122772217,-0.7396823167800903,0.15481361746788025,-0.38674187660217285,-0.17258401215076447,-0.05206722393631935,0.3804807960987091,0.1022326648235321,-0.23304370045661926,-0.26735812425613403,-0.12543264031410217,0.1333170086145401,-0.3104494512081146,0.5146127939224243,0.3731119930744171,-0.46445369720458984,0.368243932723999,0.7778189182281494,0.5445043444633484,0.5317717790603638,0.5958845615386963,1.4131429195404053,0.8243391513824463,0.388019323348999,-0.5237630009651184,-0.07442380487918854,-0.7559259533882141,-0.06448802351951599,0.6511840224266052,0.46029138565063477,-0.5514706373214722,-0.5710781216621399,-0.5349021553993225,-0.6354553699493408,-0.5319693088531494,-0.812234103679657,-0.5332765579223633,0.11540724337100983,-0.38320308923721313,-0.1482917219400406,0.9989458322525024,-0.3101799488067627,-0.14708691835403442,-0.4902503192424774,-0.4858916401863098,-0.1694374829530716,0.6727332472801208,0.2658788859844208,0.7099130749702454,0.8070368766784668,0.3084663152694702,-0.28146129846572876,0.19014473259449005,0.3169059455394745,0.3664764165878296,0.054205816239118576,0.009845498949289322,0.47507044672966003,0.06762311607599258,0.581773579120636,0.21306686103343964,-0.29904383420944214,0.4520944654941559,0.06161310896277428,-0.23533764481544495,-0.6106320023536682,-0.2016487717628479,0.8549901843070984,0.20906460285186768,0.7104864716529846,-0.15451835095882416,-1.1819881200790405,0.5470537543296814,-0.9124965071678162,0.29810792207717896,-0.33294951915740967,0.015373855829238892,0.24767379462718964,0.16131111979484558,-0.02732265740633011,-0.6962685585021973,-0.08258333802223206,-0.9577405452728271,-0.007594965398311615,-0.3254610598087311,-1.158942461013794,0.6296712756156921,-0.23406895995140076,0.310722678899765,-0.9145596623420715,-0.6419758200645447,-0.41564691066741943,-0.40266770124435425,-0.25634822249412537,-0.29044219851493835,0.0974406898021698,0.3954741358757019,-0.3991556763648987,1.3025704622268677,0.7398614883422852,-0.10874103009700775,-0.12728822231292725,0.5610538721084595,-0.4653732180595398,0.2974148094654083,0.8940895795822144,0.17104056477546692,-0.16532811522483826,-0.36314821243286133,-0.10766717791557312,1.028833270072937,0.2620682716369629,-0.5564568638801575,0.025217823684215546,1.2144429683685303,-0.07598019391298294,0.5645506381988525,0.5056905150413513,0.8218660354614258,-0.13776865601539612,0.8623976111412048,-0.19853615760803223,0.05563806742429733,-0.15530085563659668,-0.42633193731307983,-0.19755977392196655,0.17136342823505402,-0.16443173587322235,0.5902222990989685,-0.1944548487663269,-0.4263114333152771,1.0347721576690674,-1.1261765956878662,-0.5162795186042786,-0.6940491199493408,-1.2078192234039307],\"type\":\"scatter\"},{\"y\":[-0.2779445946216583,-0.2779422700405121,-0.2779405415058136,-0.2779393792152405,-0.2779386043548584,-0.2779381573200226,-0.2779379189014435,-0.27793776988983154,-0.2779376804828644,-0.277937650680542,-0.2779376208782196,-0.2779376208782196,-0.2779375910758972,-0.2779375910758972,-0.2779375910758972,-0.2779375910758972,-0.2779375910758972,-0.2779375910758972,-0.2779375910758972,-0.2780879735946655,-0.27863532304763794,-0.2791510224342346,-0.27953726053237915,-0.27961012721061707,-0.2796041965484619,-0.2794605493545532,-0.27938327193260193,-0.2792462706565857,-0.2792053520679474,-0.2791079878807068,-0.2790941894054413,-0.2789885699748993,-0.27888330817222595,-0.27837473154067993,-0.27704909443855286,-0.2742995023727417,-0.2679872214794159,-0.2599314749240875,-0.24615246057510376,-0.23557373881340027,-0.226029634475708,-0.227000892162323,-0.2376246601343155,-0.2545507252216339,-0.2726368010044098,-0.28594833612442017,-0.2921814024448395,-0.29257121682167053,-0.29042521119117737,-0.28776851296424866,-0.2854068875312805,-0.2830326557159424,-0.280789315700531,-0.27911123633384705,-0.27813097834587097,-0.2776853144168854,-0.2775506377220154,-0.27756473422050476,-0.27763631939888,-0.2777197062969208,-0.27779388427734375,-0.2778509557247162,-0.2778902053833008,-0.27791455388069153,-0.2779282033443451,-0.2779349684715271,-0.2779378294944763,-0.2780890464782715,-0.27863648533821106,-0.27915194630622864,-0.2795286178588867,-0.27956631779670715,-0.2795368731021881,-0.2794034481048584,-0.2793547809123993,-0.2792435884475708,-0.2792181968688965,-0.2791307270526886,-0.2791319191455841,-0.27907082438468933,-0.27909377217292786,-0.27904894948005676,-0.2790837287902832,-0.27904635667800903,-0.2790846824645996,-0.27904826402664185,-0.27908647060394287,-0.27648067474365234,-0.2671670913696289,-0.260887086391449,-0.2636725604534149,-0.2711694538593292,-0.2778032422065735,-0.2813962399959564,-0.2826801836490631,-0.28260478377342224,-0.2820744216442108,-0.2813225984573364,-0.28067490458488464,-0.27991199493408203,-0.2789676785469055,-0.2781188488006592,-0.27759015560150146,-0.2773849070072174,-0.2773877680301666,-0.27748408913612366,-0.27760276198387146,-0.2777107059955597,-0.2777963876724243,-0.27785825729370117,-0.2778991460800171,-0.277923583984375,-0.2779363989830017,-0.27794188261032104,-0.2779432535171509,-0.2780930995941162,-0.2786392569541931,-0.27915382385253906,-0.27953940629959106,-0.279611736536026,-0.2796054184436798,-0.279461532831192,-0.2793843746185303,-0.2792479693889618,-0.2792086601257324,-0.27911660075187683,-0.27911826968193054,-0.27905982732772827,-0.27908647060394287,-0.2786380350589752,-0.27719399333000183,-0.2761690020561218,-0.27664288878440857,-0.27263757586479187,-0.25492924451828003,-0.23747272789478302,-0.22339147329330444,-0.22530333697795868,-0.2445511519908905,-0.2678854763507843,-0.28447723388671875,-0.29194217920303345,-0.29315871000289917,-0.291265606880188,-0.28851088881492615,-0.2857268154621124,-0.2834419310092926,-0.2814737558364868,-0.2797195315361023,-0.27838191390037537,-0.2775968313217163,-0.2772842049598694,-0.27726292610168457,-0.2773735523223877,-0.2775188088417053,-0.277652770280838,-0.27775904536247253,-0.2778354585170746,-0.2778857946395874,-0.2779160439968109,-0.2779322862625122,-0.27793967723846436,-0.27794212102890015,-0.27808675169944763,-0.27861231565475464,-0.27910754084587097,-0.2794055938720703,-0.27921244502067566,-0.27904725074768066,-0.2789989113807678,-0.2791278064250946,-0.27914345264434814,-0.2791132926940918,-0.27896153926849365,-0.27884677052497864,-0.27875664830207825,-0.27875208854675293,-0.2779572010040283,-0.2762734293937683,-0.2737305164337158,-0.2681485712528229,-0.26305297017097473,-0.26025390625,-0.2626943290233612,-0.2697122097015381,-0.27602508664131165,-0.27726665139198303,-0.276284784078598,-0.275657594203949,-0.27638164162635803,-0.27789682149887085,-0.2793840169906616,-0.2806026339530945,-0.28115546703338623,-0.2811785340309143,-0.2806445360183716,-0.2797175347805023,-0.278789758682251,-0.27813270688056946,-0.2777821719646454,-0.277650386095047,-0.27763956785202026,-0.277683287858963,-0.2777446210384369,-0.2778046727180481,-0.2778545320034027,-0.27789124846458435,-0.27791544795036316],\"type\":\"scatter\"}],                        {\"template\":{\"data\":{\"barpolar\":[{\"marker\":{\"line\":{\"color\":\"white\",\"width\":0.5},\"pattern\":{\"fillmode\":\"overlay\",\"size\":10,\"solidity\":0.2}},\"type\":\"barpolar\"}],\"bar\":[{\"error_x\":{\"color\":\"rgb(36,36,36)\"},\"error_y\":{\"color\":\"rgb(36,36,36)\"},\"marker\":{\"line\":{\"color\":\"white\",\"width\":0.5},\"pattern\":{\"fillmode\":\"overlay\",\"size\":10,\"solidity\":0.2}},\"type\":\"bar\"}],\"carpet\":[{\"aaxis\":{\"endlinecolor\":\"rgb(36,36,36)\",\"gridcolor\":\"white\",\"linecolor\":\"white\",\"minorgridcolor\":\"white\",\"startlinecolor\":\"rgb(36,36,36)\"},\"baxis\":{\"endlinecolor\":\"rgb(36,36,36)\",\"gridcolor\":\"white\",\"linecolor\":\"white\",\"minorgridcolor\":\"white\",\"startlinecolor\":\"rgb(36,36,36)\"},\"type\":\"carpet\"}],\"choropleth\":[{\"colorbar\":{\"outlinewidth\":1,\"tickcolor\":\"rgb(36,36,36)\",\"ticks\":\"outside\"},\"type\":\"choropleth\"}],\"contourcarpet\":[{\"colorbar\":{\"outlinewidth\":1,\"tickcolor\":\"rgb(36,36,36)\",\"ticks\":\"outside\"},\"type\":\"contourcarpet\"}],\"contour\":[{\"colorbar\":{\"outlinewidth\":1,\"tickcolor\":\"rgb(36,36,36)\",\"ticks\":\"outside\"},\"colorscale\":[[0.0,\"#440154\"],[0.1111111111111111,\"#482878\"],[0.2222222222222222,\"#3e4989\"],[0.3333333333333333,\"#31688e\"],[0.4444444444444444,\"#26828e\"],[0.5555555555555556,\"#1f9e89\"],[0.6666666666666666,\"#35b779\"],[0.7777777777777778,\"#6ece58\"],[0.8888888888888888,\"#b5de2b\"],[1.0,\"#fde725\"]],\"type\":\"contour\"}],\"heatmapgl\":[{\"colorbar\":{\"outlinewidth\":1,\"tickcolor\":\"rgb(36,36,36)\",\"ticks\":\"outside\"},\"colorscale\":[[0.0,\"#440154\"],[0.1111111111111111,\"#482878\"],[0.2222222222222222,\"#3e4989\"],[0.3333333333333333,\"#31688e\"],[0.4444444444444444,\"#26828e\"],[0.5555555555555556,\"#1f9e89\"],[0.6666666666666666,\"#35b779\"],[0.7777777777777778,\"#6ece58\"],[0.8888888888888888,\"#b5de2b\"],[1.0,\"#fde725\"]],\"type\":\"heatmapgl\"}],\"heatmap\":[{\"colorbar\":{\"outlinewidth\":1,\"tickcolor\":\"rgb(36,36,36)\",\"ticks\":\"outside\"},\"colorscale\":[[0.0,\"#440154\"],[0.1111111111111111,\"#482878\"],[0.2222222222222222,\"#3e4989\"],[0.3333333333333333,\"#31688e\"],[0.4444444444444444,\"#26828e\"],[0.5555555555555556,\"#1f9e89\"],[0.6666666666666666,\"#35b779\"],[0.7777777777777778,\"#6ece58\"],[0.8888888888888888,\"#b5de2b\"],[1.0,\"#fde725\"]],\"type\":\"heatmap\"}],\"histogram2dcontour\":[{\"colorbar\":{\"outlinewidth\":1,\"tickcolor\":\"rgb(36,36,36)\",\"ticks\":\"outside\"},\"colorscale\":[[0.0,\"#440154\"],[0.1111111111111111,\"#482878\"],[0.2222222222222222,\"#3e4989\"],[0.3333333333333333,\"#31688e\"],[0.4444444444444444,\"#26828e\"],[0.5555555555555556,\"#1f9e89\"],[0.6666666666666666,\"#35b779\"],[0.7777777777777778,\"#6ece58\"],[0.8888888888888888,\"#b5de2b\"],[1.0,\"#fde725\"]],\"type\":\"histogram2dcontour\"}],\"histogram2d\":[{\"colorbar\":{\"outlinewidth\":1,\"tickcolor\":\"rgb(36,36,36)\",\"ticks\":\"outside\"},\"colorscale\":[[0.0,\"#440154\"],[0.1111111111111111,\"#482878\"],[0.2222222222222222,\"#3e4989\"],[0.3333333333333333,\"#31688e\"],[0.4444444444444444,\"#26828e\"],[0.5555555555555556,\"#1f9e89\"],[0.6666666666666666,\"#35b779\"],[0.7777777777777778,\"#6ece58\"],[0.8888888888888888,\"#b5de2b\"],[1.0,\"#fde725\"]],\"type\":\"histogram2d\"}],\"histogram\":[{\"marker\":{\"line\":{\"color\":\"white\",\"width\":0.6}},\"type\":\"histogram\"}],\"mesh3d\":[{\"colorbar\":{\"outlinewidth\":1,\"tickcolor\":\"rgb(36,36,36)\",\"ticks\":\"outside\"},\"type\":\"mesh3d\"}],\"parcoords\":[{\"line\":{\"colorbar\":{\"outlinewidth\":1,\"tickcolor\":\"rgb(36,36,36)\",\"ticks\":\"outside\"}},\"type\":\"parcoords\"}],\"pie\":[{\"automargin\":true,\"type\":\"pie\"}],\"scatter3d\":[{\"line\":{\"colorbar\":{\"outlinewidth\":1,\"tickcolor\":\"rgb(36,36,36)\",\"ticks\":\"outside\"}},\"marker\":{\"colorbar\":{\"outlinewidth\":1,\"tickcolor\":\"rgb(36,36,36)\",\"ticks\":\"outside\"}},\"type\":\"scatter3d\"}],\"scattercarpet\":[{\"marker\":{\"colorbar\":{\"outlinewidth\":1,\"tickcolor\":\"rgb(36,36,36)\",\"ticks\":\"outside\"}},\"type\":\"scattercarpet\"}],\"scattergeo\":[{\"marker\":{\"colorbar\":{\"outlinewidth\":1,\"tickcolor\":\"rgb(36,36,36)\",\"ticks\":\"outside\"}},\"type\":\"scattergeo\"}],\"scattergl\":[{\"marker\":{\"colorbar\":{\"outlinewidth\":1,\"tickcolor\":\"rgb(36,36,36)\",\"ticks\":\"outside\"}},\"type\":\"scattergl\"}],\"scattermapbox\":[{\"marker\":{\"colorbar\":{\"outlinewidth\":1,\"tickcolor\":\"rgb(36,36,36)\",\"ticks\":\"outside\"}},\"type\":\"scattermapbox\"}],\"scatterpolargl\":[{\"marker\":{\"colorbar\":{\"outlinewidth\":1,\"tickcolor\":\"rgb(36,36,36)\",\"ticks\":\"outside\"}},\"type\":\"scatterpolargl\"}],\"scatterpolar\":[{\"marker\":{\"colorbar\":{\"outlinewidth\":1,\"tickcolor\":\"rgb(36,36,36)\",\"ticks\":\"outside\"}},\"type\":\"scatterpolar\"}],\"scatter\":[{\"fillpattern\":{\"fillmode\":\"overlay\",\"size\":10,\"solidity\":0.2},\"type\":\"scatter\"}],\"scatterternary\":[{\"marker\":{\"colorbar\":{\"outlinewidth\":1,\"tickcolor\":\"rgb(36,36,36)\",\"ticks\":\"outside\"}},\"type\":\"scatterternary\"}],\"surface\":[{\"colorbar\":{\"outlinewidth\":1,\"tickcolor\":\"rgb(36,36,36)\",\"ticks\":\"outside\"},\"colorscale\":[[0.0,\"#440154\"],[0.1111111111111111,\"#482878\"],[0.2222222222222222,\"#3e4989\"],[0.3333333333333333,\"#31688e\"],[0.4444444444444444,\"#26828e\"],[0.5555555555555556,\"#1f9e89\"],[0.6666666666666666,\"#35b779\"],[0.7777777777777778,\"#6ece58\"],[0.8888888888888888,\"#b5de2b\"],[1.0,\"#fde725\"]],\"type\":\"surface\"}],\"table\":[{\"cells\":{\"fill\":{\"color\":\"rgb(237,237,237)\"},\"line\":{\"color\":\"white\"}},\"header\":{\"fill\":{\"color\":\"rgb(217,217,217)\"},\"line\":{\"color\":\"white\"}},\"type\":\"table\"}]},\"layout\":{\"annotationdefaults\":{\"arrowhead\":0,\"arrowwidth\":1},\"autotypenumbers\":\"strict\",\"coloraxis\":{\"colorbar\":{\"outlinewidth\":1,\"tickcolor\":\"rgb(36,36,36)\",\"ticks\":\"outside\"}},\"colorscale\":{\"diverging\":[[0.0,\"rgb(103,0,31)\"],[0.1,\"rgb(178,24,43)\"],[0.2,\"rgb(214,96,77)\"],[0.3,\"rgb(244,165,130)\"],[0.4,\"rgb(253,219,199)\"],[0.5,\"rgb(247,247,247)\"],[0.6,\"rgb(209,229,240)\"],[0.7,\"rgb(146,197,222)\"],[0.8,\"rgb(67,147,195)\"],[0.9,\"rgb(33,102,172)\"],[1.0,\"rgb(5,48,97)\"]],\"sequential\":[[0.0,\"#440154\"],[0.1111111111111111,\"#482878\"],[0.2222222222222222,\"#3e4989\"],[0.3333333333333333,\"#31688e\"],[0.4444444444444444,\"#26828e\"],[0.5555555555555556,\"#1f9e89\"],[0.6666666666666666,\"#35b779\"],[0.7777777777777778,\"#6ece58\"],[0.8888888888888888,\"#b5de2b\"],[1.0,\"#fde725\"]],\"sequentialminus\":[[0.0,\"#440154\"],[0.1111111111111111,\"#482878\"],[0.2222222222222222,\"#3e4989\"],[0.3333333333333333,\"#31688e\"],[0.4444444444444444,\"#26828e\"],[0.5555555555555556,\"#1f9e89\"],[0.6666666666666666,\"#35b779\"],[0.7777777777777778,\"#6ece58\"],[0.8888888888888888,\"#b5de2b\"],[1.0,\"#fde725\"]]},\"colorway\":[\"#1F77B4\",\"#FF7F0E\",\"#2CA02C\",\"#D62728\",\"#9467BD\",\"#8C564B\",\"#E377C2\",\"#7F7F7F\",\"#BCBD22\",\"#17BECF\"],\"font\":{\"color\":\"rgb(36,36,36)\"},\"geo\":{\"bgcolor\":\"white\",\"lakecolor\":\"white\",\"landcolor\":\"white\",\"showlakes\":true,\"showland\":true,\"subunitcolor\":\"white\"},\"hoverlabel\":{\"align\":\"left\"},\"hovermode\":\"closest\",\"mapbox\":{\"style\":\"light\"},\"paper_bgcolor\":\"white\",\"plot_bgcolor\":\"white\",\"polar\":{\"angularaxis\":{\"gridcolor\":\"rgb(232,232,232)\",\"linecolor\":\"rgb(36,36,36)\",\"showgrid\":false,\"showline\":true,\"ticks\":\"outside\"},\"bgcolor\":\"white\",\"radialaxis\":{\"gridcolor\":\"rgb(232,232,232)\",\"linecolor\":\"rgb(36,36,36)\",\"showgrid\":false,\"showline\":true,\"ticks\":\"outside\"}},\"scene\":{\"xaxis\":{\"backgroundcolor\":\"white\",\"gridcolor\":\"rgb(232,232,232)\",\"gridwidth\":2,\"linecolor\":\"rgb(36,36,36)\",\"showbackground\":true,\"showgrid\":false,\"showline\":true,\"ticks\":\"outside\",\"zeroline\":false,\"zerolinecolor\":\"rgb(36,36,36)\"},\"yaxis\":{\"backgroundcolor\":\"white\",\"gridcolor\":\"rgb(232,232,232)\",\"gridwidth\":2,\"linecolor\":\"rgb(36,36,36)\",\"showbackground\":true,\"showgrid\":false,\"showline\":true,\"ticks\":\"outside\",\"zeroline\":false,\"zerolinecolor\":\"rgb(36,36,36)\"},\"zaxis\":{\"backgroundcolor\":\"white\",\"gridcolor\":\"rgb(232,232,232)\",\"gridwidth\":2,\"linecolor\":\"rgb(36,36,36)\",\"showbackground\":true,\"showgrid\":false,\"showline\":true,\"ticks\":\"outside\",\"zeroline\":false,\"zerolinecolor\":\"rgb(36,36,36)\"}},\"shapedefaults\":{\"fillcolor\":\"black\",\"line\":{\"width\":0},\"opacity\":0.3},\"ternary\":{\"aaxis\":{\"gridcolor\":\"rgb(232,232,232)\",\"linecolor\":\"rgb(36,36,36)\",\"showgrid\":false,\"showline\":true,\"ticks\":\"outside\"},\"baxis\":{\"gridcolor\":\"rgb(232,232,232)\",\"linecolor\":\"rgb(36,36,36)\",\"showgrid\":false,\"showline\":true,\"ticks\":\"outside\"},\"bgcolor\":\"white\",\"caxis\":{\"gridcolor\":\"rgb(232,232,232)\",\"linecolor\":\"rgb(36,36,36)\",\"showgrid\":false,\"showline\":true,\"ticks\":\"outside\"}},\"title\":{\"x\":0.05},\"xaxis\":{\"automargin\":true,\"gridcolor\":\"rgb(232,232,232)\",\"linecolor\":\"rgb(36,36,36)\",\"showgrid\":false,\"showline\":true,\"ticks\":\"outside\",\"title\":{\"standoff\":15},\"zeroline\":false,\"zerolinecolor\":\"rgb(36,36,36)\"},\"yaxis\":{\"automargin\":true,\"gridcolor\":\"rgb(232,232,232)\",\"linecolor\":\"rgb(36,36,36)\",\"showgrid\":false,\"showline\":true,\"ticks\":\"outside\",\"title\":{\"standoff\":15},\"zeroline\":false,\"zerolinecolor\":\"rgb(36,36,36)\"}}},\"title\":{\"text\":\"Fit predictions\"},\"xaxis\":{\"title\":{\"text\":\"TR (sec)\"},\"range\":[0,208]},\"yaxis\":{\"title\":{\"text\":\"z-score\"},\"range\":[-4,4]}},                        {\"responsive\": true}                    ).then(function(){\n",
       "                            \n",
       "var gd = document.getElementById('434d2345-972c-41f6-996a-2a7691e3271d');\n",
       "var x = new MutationObserver(function (mutations, observer) {{\n",
       "        var display = window.getComputedStyle(gd).display;\n",
       "        if (!display || display === 'none') {{\n",
       "            console.log([gd, 'removed!']);\n",
       "            Plotly.purge(gd);\n",
       "            observer.disconnect();\n",
       "        }}\n",
       "}});\n",
       "\n",
       "// Listen for the removal of the full notebook cells\n",
       "var notebookContainer = gd.closest('#notebook-container');\n",
       "if (notebookContainer) {{\n",
       "    x.observe(notebookContainer, {childList: true});\n",
       "}}\n",
       "\n",
       "// Listen for the clearing of the current output cell\n",
       "var outputEl = gd.closest('.output');\n",
       "if (outputEl) {{\n",
       "    x.observe(outputEl, {childList: true});\n",
       "}}\n",
       "\n",
       "                        })                };                });            </script>        </div>"
      ]
     },
     "metadata": {},
     "output_type": "display_data"
    }
   ],
   "source": [
    "\n",
    "num_vert = 100\n",
    "\n",
    "fig4 = go.Figure()\n",
    "# plot data time series\n",
    "fig4.add_trace(go.Scatter(y=bold_data[num_vert,:],\n",
    "                         name='data', \n",
    "                         mode='markers'))\n",
    "\n",
    "# plot prediction\n",
    "fig4.add_trace(go.Scatter(y=css_pred_mat[num_vert,:]))\n",
    "\n",
    "\n",
    "\n",
    "fig4.update_layout(template='simple_white',\n",
    "                  title = 'Fit predictions',\n",
    "                  xaxis_title = 'TR (sec)',\n",
    "                  yaxis_title = 'z-score')\n",
    "fig4.update_xaxes(range=[0,bold_data.shape[1]])\n",
    "fig4.update_yaxes(range=[-4,4])\n",
    "\n",
    "fig4.show()"
   ]
  },
  {
   "cell_type": "code",
   "execution_count": 62,
   "id": "7fcb8182-50b9-4c58-9e9b-77fed914a14f",
   "metadata": {
    "tags": []
   },
   "outputs": [
    {
     "data": {
      "text/plain": [
       "9653.531"
      ]
     },
     "execution_count": 62,
     "metadata": {},
     "output_type": "execute_result"
    }
   ],
   "source": [
    "np.nanmax(css_pred_mat)"
   ]
  },
  {
   "cell_type": "code",
   "execution_count": null,
   "id": "fa346f4b-603d-4501-966d-145820c9796d",
   "metadata": {},
   "outputs": [],
   "source": []
  }
 ],
 "metadata": {
  "kernelspec": {
   "display_name": "prf_env",
   "language": "python",
   "name": "prf_env"
  },
  "language_info": {
   "codemirror_mode": {
    "name": "ipython",
    "version": 3
   },
   "file_extension": ".py",
   "mimetype": "text/x-python",
   "name": "python",
   "nbconvert_exporter": "python",
   "pygments_lexer": "ipython3",
   "version": "3.11.7"
  }
 },
 "nbformat": 4,
 "nbformat_minor": 5
}
