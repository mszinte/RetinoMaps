{
 "cells": [
  {
   "cell_type": "code",
   "execution_count": null,
   "id": "10b4cc3c-0449-4e4c-a781-5556af60a1ea",
   "metadata": {
    "tags": []
   },
   "outputs": [],
   "source": [
    "# Stop warnings\n",
    "import warnings\n",
    "warnings.filterwarnings(\"ignore\")\n",
    "\n",
    "# Imports\n",
    "import numpy as np\n",
    "import pandas as pd\n",
    "import os\n",
    "import json\n",
    "import sys\n",
    "import cortex\n",
    "from scipy import stats\n",
    "import matplotlib.pyplot as plt\n",
    "\n",
    "import plotly.graph_objects as go\n",
    "import plotly.express as px\n",
    "from plotly.subplots import make_subplots\n",
    "\n",
    "\n",
    "sys.path.append(\"{}/../../../utils\".format(os.getcwd()))\n",
    "from plot_utils import *\n",
    "from surface_utils import load_surface\n",
    "from pycortex_utils import get_rois, calculate_vertex_areas, data_from_rois, load_surface_pycortex\n",
    "from maths_utils import linear_regression_surf, multipletests_surface\n",
    "\n",
    "# Import data base\n",
    "main_dir = '/Users/uriel/disks/meso_shared'\n",
    "# main_dir = '/home/ulascombes//disks/meso_shared'\n",
    "project_dir = 'RetinoMaps'\n",
    "subjects = ['sub-01']\n",
    "subject = 'sub-03'\n",
    "format_ = 'fsnative'\n",
    "tsv_dir ='{}/{}/derivatives/pp_data/{}/{}/prf/tsv'.format(main_dir, \n",
    "                                                                project_dir, \n",
    "                                                                subject,\n",
    "                                                         format_)\n",
    "\n",
    "\n",
    "with open('../../../settings.json') as f:\n",
    "    json_s = f.read()\n",
    "    analysis_info = json.loads(json_s)\n",
    "rois = analysis_info['rois']\n"
   ]
  },
  {
   "cell_type": "code",
   "execution_count": null,
   "id": "277a45df-952d-4ab1-a7f3-39e30911089f",
   "metadata": {
    "tags": []
   },
   "outputs": [],
   "source": [
    "data = pd.read_table('{}/{}_css-all_derivatives.tsv'.format(tsv_dir,subject))\n",
    "ecc_th = [0, 15]\n",
    "size_th= [0.1, 20]\n",
    "rsq_th = [0, 1]\n",
    "pcm_th = [0,20]"
   ]
  },
  {
   "cell_type": "markdown",
   "id": "040b9223-9b77-467c-85ca-d86f490b8d45",
   "metadata": {
    "tags": []
   },
   "source": [
    "# heat map"
   ]
  },
  {
   "cell_type": "code",
   "execution_count": null,
   "id": "9a815b34-05ea-4e2a-b612-03e61e5e780c",
   "metadata": {
    "tags": []
   },
   "outputs": [],
   "source": [
    "def gaus_2d(gauss_x, gauss_y, gauss_sd, screen_side, grain=200):\n",
    "    \"\"\"\n",
    "    Generate 2D gaussian mesh\n",
    "    \n",
    "    Parameters\n",
    "    ----------\n",
    "    gauss_x : mean x gaussian parameter in dva (e.g. 1 dva)\n",
    "    gauss_y : mean y gaussian parameter in dva (e.g. 1 dva)\n",
    "    gauss_sd : sd gaussian parameter in dva (e.g. 1 dva)\n",
    "    screen_side : mesh screen side (square) im dva (e.g. 20 dva from -10 to 10 dva)\n",
    "    grain : grain resolution of the mesh in pixels (default = 100 pixels)\n",
    "    \n",
    "    Returns\n",
    "    -------\n",
    "    x : linspace x of the mesh\n",
    "    y : linspace x of the mesh\n",
    "    z : mesh_z values (to plot)\n",
    "    \n",
    "    \"\"\"\n",
    "    x = np.linspace(-screen_side/2, screen_side/2, grain)\n",
    "    y = np.linspace(-screen_side/2, screen_side/2, grain)\n",
    "    mesh_x, mesh_y = np.meshgrid(x,y) \n",
    "    \n",
    "    gauss_z = 1./(2.*np.pi*gauss_sd*gauss_sd)*np.exp(-((mesh_x-gauss_x)**2./(2.*gauss_sd**2.)+(mesh_y-gauss_y)**2./(2.*gauss_sd**2.)))\n",
    "    return x, y, gauss_z"
   ]
  },
  {
   "cell_type": "code",
   "execution_count": null,
   "id": "03d69e96-d117-448f-8590-cae04446a6ec",
   "metadata": {
    "tags": []
   },
   "outputs": [],
   "source": [
    "colormap_dict = {'V1': (243, 231, 155),\n",
    "                 'V2': (250, 196, 132),\n",
    "                 'V3': (248, 160, 126),\n",
    "                 'V3AB': (235, 127, 134),\n",
    "                 'LO': (150, 0, 90), \n",
    "                 'VO': (0, 0, 200),\n",
    "                 'hMT+': (0, 25, 255),\n",
    "                 'iIPS': (0, 152, 255),\n",
    "                 'sIPS': (44, 255, 150),\n",
    "                 'iPCS': (151, 255, 0),\n",
    "                 'sPCS': (255, 234, 0),\n",
    "                 'mPCS': (255, 111, 0)\n",
    "                }\n",
    "roi_colors = ['rgb({},{},{})'.format(*rgb) for rgb in colormap_dict.values()]\n",
    "# grain = [50,100,150,200,250,300,350,400,450,500]\n",
    "grain =50\n",
    "line_width = 1\n",
    "fig= make_subplots(rows=1,cols=12)\n",
    "# General figure settings\n",
    "template_specs = dict(axes_color=\"rgba(0, 0, 0, 1)\",\n",
    "                      axes_width=2,\n",
    "                      axes_font_size=15,\n",
    "                      bg_col=\"rgba(255, 255, 255, 1)\",\n",
    "                      font='Arial',\n",
    "                      title_font_size=15,\n",
    "                      plot_width=1.5)\n",
    "\n",
    "# General figure settings\n",
    "fig_template = plotly_template(template_specs)\n",
    "for i, roi in enumerate(rois) :\n",
    "    df_roi = data.loc[data.roi == roi].reset_index()\n",
    "    gauss_z_tot = np.zeros((grain,grain)) \n",
    "\n",
    "    for vert in range(len(df_roi)):\n",
    "        x, y, gauss_z = gaus_2d(gauss_x=df_roi.prf_x[vert],  \n",
    "                            gauss_y=df_roi.prf_y[vert], \n",
    "                            gauss_sd=df_roi.prf_size[vert], \n",
    "                            screen_side=30, \n",
    "                            grain=grain)\n",
    "\n",
    "        gauss_z_tot += gauss_z * df_roi.prf_loo_r2[vert]\n",
    "\n",
    "    gauss_z_tot = (gauss_z_tot-gauss_z_tot.min())/(gauss_z_tot.max()-gauss_z_tot.min())\n",
    "\n",
    "\n",
    "\n",
    "\n",
    "\n",
    "    fig.add_trace(go.Contour(x=x, \n",
    "                             y=y,\n",
    "                             z=gauss_z_tot, \n",
    "                             colorscale='hot', \n",
    "                             showscale=False, \n",
    "                             contours_coloring='lines',\n",
    "                             line_width=0.5,\n",
    "                             line_smoothing=1\n",
    "                            ),row=1, col=i+1)\n",
    "\n",
    "    # fig.add_trace(go.Scatter(x=[0],\n",
    "    #                      y=[0],\n",
    "    #                      mode='markers',\n",
    "    #                      marker=dict(color=roi_colors[i], symbol='cross', size=line_width)\n",
    "    #                     ),row=1, col=i+1)\n",
    "\n",
    "\n",
    "    fig.add_trace(go.Scatter(x=[0,0],\n",
    "                             y=[-15,15],\n",
    "                             mode='lines',\n",
    "                             line=dict(dash='dot',color=roi_colors[i], width=line_width)\n",
    "                            ),row=1, col=i+1)\n",
    "\n",
    "    fig.add_trace(go.Scatter(x=[-15,15],\n",
    "                             y=[0,0],\n",
    "                             mode='lines',\n",
    "                             line=dict(dash='dot',color=roi_colors[i], width=line_width)\n",
    "                            ),row=1, col=i+1)\n",
    "\n",
    "    fig.add_shape(type=\"rect\", \n",
    "                  x0=-10, \n",
    "                  y0=-10, \n",
    "                  x1=10, \n",
    "                  y1=10, \n",
    "                  line=dict(dash='dot',color=roi_colors[i], width=line_width),\n",
    "                  row=1, col=i+1)\n",
    "\n",
    "\n",
    "fig.update_xaxes(color= ('rgba(255,255,255,0)'))\n",
    "fig.update_yaxes(color= ('rgba(255,255,255,0)'))\n",
    "\n",
    "fig.update_layout(height=200, \n",
    "                  width=1200, \n",
    "                  showlegend=False,\n",
    "                  template=fig_template,\n",
    "                  margin_l=100, \n",
    "                  margin_r=50, \n",
    "                  margin_t=50, \n",
    "                  margin_b=50)\n",
    "\n",
    "\n",
    "\n",
    "fig.show()"
   ]
  },
  {
   "cell_type": "code",
   "execution_count": null,
   "id": "eea5ff4b-8069-45aa-9fca-f951f066c95a",
   "metadata": {
    "tags": []
   },
   "outputs": [],
   "source": [
    "fig.write_image(\"/Users/uriel/Downloads/{}_violins5.pdf\".format(subject))"
   ]
  },
  {
   "cell_type": "code",
   "execution_count": null,
   "id": "a0473cb6-5312-47a8-9207-7582e28f03cb",
   "metadata": {
    "tags": []
   },
   "outputs": [],
   "source": [
    "roi = 'sPCS'\n",
    "grain=50 \n",
    "line_width = 1\n",
    "fig= go.Figure()\n",
    "\n",
    "df_roi = data.loc[data.roi == roi].reset_index()\n",
    "df_roi=df_roi.dropna().reset_index()\n",
    "gauss_z_tot = np.zeros((grain,grain)) \n",
    "\n",
    "for vert in range(len(df_roi)):\n",
    "    x, y, gauss_z = gaus_2d(gauss_x=df_roi.prf_x[vert],  \n",
    "                        gauss_y=df_roi.prf_y[vert], \n",
    "                        gauss_sd=df_roi.prf_size[vert], \n",
    "                        screen_side=30, \n",
    "                        grain=grain)\n",
    "\n",
    "    gauss_z_tot += gauss_z * df_roi.prf_loo_r2[vert]\n",
    "\n",
    "gauss_z_tot = (gauss_z_tot-gauss_z_tot.min())/(gauss_z_tot.max()-gauss_z_tot.min())\n",
    "\n",
    "\n",
    "\n",
    "\n",
    "\n",
    "fig.add_trace(go.Contour(x=x, \n",
    "                         y=y,\n",
    "                         z=gauss_z_tot, \n",
    "                         colorscale='hot', \n",
    "                         showscale=False, \n",
    "                         contours_coloring='lines',\n",
    "                         line_width=0.5,\n",
    "                         line_smoothing=0.85\n",
    "                        ))\n",
    "\n",
    "fig.add_trace(go.Scatter(x=[0,0],\n",
    "                         y=[-15,15],\n",
    "                         mode='lines',\n",
    "                         line=dict(dash='dot',color=roi_colors[i], width=line_width)\n",
    "                        ))\n",
    "\n",
    "fig.add_trace(go.Scatter(x=[-15,15],\n",
    "                         y=[0,0],\n",
    "                         mode='lines',\n",
    "                         line=dict(dash='dot',color=roi_colors[i], width=line_width)\n",
    "                        ))\n",
    "\n",
    "fig.add_shape(type=\"rect\", \n",
    "              x0=-10, \n",
    "              y0=-10, \n",
    "              x1=10, \n",
    "              y1=10, \n",
    "              line=dict(dash='dot',color=roi_colors[i], width=line_width))\n",
    "\n",
    "\n",
    "fig.update_xaxes(color= ('rgba(255,255,255,0)'))\n",
    "fig.update_yaxes(color= ('rgba(255,255,255,0)'))\n",
    "\n",
    "fig.update_layout(height=800, \n",
    "                  width=800, \n",
    "                  showlegend=False,\n",
    "                  template=fig_template,\n",
    "                  margin_l=100, \n",
    "                  margin_r=50, \n",
    "                  margin_t=50, \n",
    "                  margin_b=50)\n",
    "fig.show()"
   ]
  },
  {
   "cell_type": "code",
   "execution_count": null,
   "id": "974a79b5-1960-4d34-ac75-616b3716bf5d",
   "metadata": {
    "tags": []
   },
   "outputs": [],
   "source": [
    " x, y, gauss_z = gaus_2d(gauss_x=df_roi.prf_x[vert],  \n",
    "                        gauss_y=df_roi.prf_y[vert], \n",
    "                        gauss_sd=df_roi.prf_size[vert], \n",
    "                        screen_side=30, \n",
    "                        grain=grain)"
   ]
  },
  {
   "cell_type": "code",
   "execution_count": null,
   "id": "34ef4aa0-ac06-4f1e-b050-1d9fbe42e6e1",
   "metadata": {
    "tags": []
   },
   "outputs": [],
   "source": [
    "for vert in range(len(df_roi)):\n",
    "    x, y, gauss_z = gaus_2d(gauss_x=df_roi.prf_x[vert],  \n",
    "                        gauss_y=df_roi.prf_y[vert], \n",
    "                        gauss_sd=df_roi.prf_size[vert], \n",
    "                        screen_side=30, \n",
    "                        grain=grain)\n",
    "\n",
    "    gauss_z_tot += gauss_z * df_roi.prf_loo_r2[vert]"
   ]
  },
  {
   "cell_type": "code",
   "execution_count": null,
   "id": "7a36b9d5-319a-4bbd-a1cb-c1e8ed5951cb",
   "metadata": {
    "tags": []
   },
   "outputs": [],
   "source": [
    "df_roi.dropna()\n",
    "np.where(df_roi.prf_y.isna())"
   ]
  },
  {
   "cell_type": "code",
   "execution_count": null,
   "id": "9da698a7-4c12-47c6-98cc-e0ee70ab8c25",
   "metadata": {
    "tags": []
   },
   "outputs": [],
   "source": [
    "fig.write_image(\"/Users/uriel/Downloads/{}_violins5.pdf\".format(subject))"
   ]
  },
  {
   "cell_type": "markdown",
   "id": "39eda088-75d4-4cdd-85dc-68438d9c3962",
   "metadata": {
    "tags": []
   },
   "source": [
    "# figs"
   ]
  },
  {
   "cell_type": "code",
   "execution_count": null,
   "id": "e54f210b-2538-4f06-ba8f-a9704f21d7da",
   "metadata": {
    "tags": []
   },
   "outputs": [],
   "source": [
    "fig = prf_violins_plot(data, subject,fig_height=1080, fig_width=1920, ecc_th=ecc_th, size_th=size_th, rsq_th=rsq_th, pcm_th=pcm_th)"
   ]
  },
  {
   "cell_type": "code",
   "execution_count": null,
   "id": "a872694e-5543-4975-b3a5-94f9ca259ff8",
   "metadata": {
    "tags": []
   },
   "outputs": [],
   "source": [
    "fig.show()\n",
    "# fig.write_image(\"/Users/uriel/Downloads/{}_violins5.pdf\".format(subject))"
   ]
  },
  {
   "cell_type": "code",
   "execution_count": null,
   "id": "360a0a6c-b3f0-4aa4-bcbd-a137b71fb62c",
   "metadata": {
    "tags": []
   },
   "outputs": [],
   "source": [
    "fig2 = prf_ecc_size_plot(data, subject, fig_height=400, fig_width=800, ecc_th=ecc_th, size_th=size_th, rsq_th=rsq_th)"
   ]
  },
  {
   "cell_type": "code",
   "execution_count": null,
   "id": "5b878427-666a-495e-b24f-96345684e611",
   "metadata": {
    "tags": []
   },
   "outputs": [],
   "source": [
    "fig2.show()"
   ]
  },
  {
   "cell_type": "code",
   "execution_count": null,
   "id": "236f6693-bbf9-46ce-a3e3-b8fc3e0ac6eb",
   "metadata": {},
   "outputs": [],
   "source": []
  },
  {
   "cell_type": "code",
   "execution_count": null,
   "id": "18e23ee4-f2cf-417b-af53-69fc1354ecad",
   "metadata": {},
   "outputs": [],
   "source": [
    "figures, hemis = prf_polar_plot(data, subject, fig_height=300, fig_width=1920, ecc_th=ecc_th, size_th=size_th, rsq_th=rsq_th)\n",
    "\n",
    "for i, (figure, hemi) in enumerate(zip(figures, hemis), start=1):\n",
    "\n",
    "    figure.write_image('/Users/uriel/Downloads/{}_subplot_polar_{}.pdf'.format(subject,hemi))\n"
   ]
  },
  {
   "cell_type": "code",
   "execution_count": null,
   "id": "538bb469-5709-4105-9541-b292f1ecd22a",
   "metadata": {},
   "outputs": [],
   "source": [
    "fig5 = prf_contralaterality_plot(data, subject, fig_height=300, fig_width=1920, ecc_th=ecc_th, size_th=size_th, rsq_th=rsq_th)"
   ]
  },
  {
   "cell_type": "code",
   "execution_count": null,
   "id": "17f85b7c-f3ca-4fd7-a6e2-ef82b136dd36",
   "metadata": {
    "tags": []
   },
   "outputs": [],
   "source": [
    "fig5.show()"
   ]
  },
  {
   "cell_type": "markdown",
   "id": "312951ab-3f54-4f32-977e-ba4f297055ae",
   "metadata": {},
   "source": [
    "# fi6"
   ]
  },
  {
   "cell_type": "code",
   "execution_count": null,
   "id": "2ee9ef3d-c83b-44ee-9549-dca3628d4c55",
   "metadata": {
    "tags": []
   },
   "outputs": [],
   "source": [
    "fig6 = prf_ecc_pcm_plot(data, subject, fig_height=400, fig_width=800, ecc_th=ecc_th, pcm_th=pcm_th, rsq_th=rsq_th)"
   ]
  },
  {
   "cell_type": "code",
   "execution_count": null,
   "id": "679ba310-3c85-464a-9021-e7d434e76f57",
   "metadata": {
    "tags": []
   },
   "outputs": [],
   "source": [
    "fig6.show()"
   ]
  },
  {
   "cell_type": "code",
   "execution_count": null,
   "id": "e585f16d-efba-4872-9d51-4c2b767784b1",
   "metadata": {
    "tags": []
   },
   "outputs": [],
   "source": [
    "fig6.write_image(\"/Users/uriel/Downloads/{}_pcm.pdf\".format(subject))"
   ]
  },
  {
   "cell_type": "markdown",
   "id": "559aea29-7723-44c2-a62d-55aca42785cc",
   "metadata": {},
   "source": [
    "# Fig 7"
   ]
  },
  {
   "cell_type": "code",
   "execution_count": null,
   "id": "4160a80e-67f1-4c97-a2fb-8ee8df0867dc",
   "metadata": {
    "tags": []
   },
   "outputs": [],
   "source": [
    "fig7 = categories_proportions_roi_plot(data, subject, fig_height=300, fig_width=1920)"
   ]
  },
  {
   "cell_type": "code",
   "execution_count": null,
   "id": "3f423ddf-007a-486a-b4fd-5e7367cdca84",
   "metadata": {
    "tags": []
   },
   "outputs": [],
   "source": [
    "fig7.show()"
   ]
  },
  {
   "cell_type": "code",
   "execution_count": null,
   "id": "7fb8dcd0-09f8-4fc6-975b-07b4f1a0fe05",
   "metadata": {
    "tags": []
   },
   "outputs": [],
   "source": [
    "fig7.write_image(\"/Users/uriel/Downloads/{}percentage.pdf\".format(subject))"
   ]
  },
  {
   "cell_type": "code",
   "execution_count": null,
   "id": "82401450-c83b-44db-9316-5aa77da45372",
   "metadata": {
    "tags": []
   },
   "outputs": [],
   "source": [
    "fig8 = surface_rois_categories_plot(data, subject, fig_height=1080, fig_width=1920)"
   ]
  },
  {
   "cell_type": "code",
   "execution_count": null,
   "id": "69739709-c170-44a8-aec2-436f95fbe0bd",
   "metadata": {
    "tags": []
   },
   "outputs": [],
   "source": [
    "fig8.show()"
   ]
  },
  {
   "cell_type": "code",
   "execution_count": null,
   "id": "ba433905-2bea-4cac-9c91-4e6c8102b442",
   "metadata": {
    "tags": []
   },
   "outputs": [],
   "source": [
    "fig9 = surface_rois_all_categories_plot(data, subject, fig_height=1080, fig_width=1920,)\n"
   ]
  },
  {
   "cell_type": "code",
   "execution_count": null,
   "id": "a7a90c02-5994-43c2-8e4d-2dd009625b84",
   "metadata": {
    "tags": []
   },
   "outputs": [],
   "source": [
    "fig9.show()"
   ]
  }
 ],
 "metadata": {
  "kernelspec": {
   "display_name": "prf_env",
   "language": "python",
   "name": "prf_env"
  },
  "language_info": {
   "codemirror_mode": {
    "name": "ipython",
    "version": 3
   },
   "file_extension": ".py",
   "mimetype": "text/x-python",
   "name": "python",
   "nbconvert_exporter": "python",
   "pygments_lexer": "ipython3",
   "version": "3.11.7"
  }
 },
 "nbformat": 4,
 "nbformat_minor": 5
}
