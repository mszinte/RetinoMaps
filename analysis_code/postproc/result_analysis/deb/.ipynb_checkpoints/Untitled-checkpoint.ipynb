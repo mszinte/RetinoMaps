{
 "cells": [
  {
   "cell_type": "code",
   "execution_count": null,
   "id": "10b4cc3c-0449-4e4c-a781-5556af60a1ea",
   "metadata": {
    "tags": []
   },
   "outputs": [],
   "source": [
    "# Stop warnings\n",
    "import warnings\n",
    "warnings.filterwarnings(\"ignore\")\n",
    "\n",
    "# Imports\n",
    "import numpy as np\n",
    "import pandas as pd\n",
    "import os\n",
    "import json\n",
    "import sys\n",
    "import cortex\n",
    "from scipy import stats\n",
    "import matplotlib.pyplot as plt\n",
    "\n",
    "import plotly.graph_objects as go\n",
    "import plotly.express as px\n",
    "from plotly.subplots import make_subplots\n",
    "\n",
    "\n",
    "sys.path.append(\"{}/../../../utils\".format(os.getcwd()))\n",
    "from plot_utils import *\n",
    "from surface_utils import load_surface\n",
    "from pycortex_utils import get_rois, calculate_vertex_areas, data_from_rois, load_surface_pycortex\n",
    "from maths_utils import linear_regression_surf, multipletests_surface\n",
    "\n",
    "# Import data base\n",
    "main_dir = '/Users/uriel/disks/meso_shared'\n",
    "# main_dir = '/home/ulascombes//disks/meso_shared'\n",
    "project_dir = 'RetinoMaps'\n",
    "subjects = ['sub-01']\n",
    "subject = 'sub-12'\n",
    "format_ = 'fsnative'\n",
    "tsv_dir ='{}/{}/derivatives/pp_data/{}/{}/prf/tsv'.format(main_dir, \n",
    "                                                                project_dir, \n",
    "                                                                subject,\n",
    "                                                         format_)\n",
    "\n",
    "\n",
    "with open('../../../settings.json') as f:\n",
    "    json_s = f.read()\n",
    "    analysis_info = json.loads(json_s)\n",
    "rois = analysis_info['rois']\n"
   ]
  },
  {
   "cell_type": "code",
   "execution_count": null,
   "id": "277a45df-952d-4ab1-a7f3-39e30911089f",
   "metadata": {
    "tags": []
   },
   "outputs": [],
   "source": [
    "data = pd.read_table('{}/{}_css-all_derivatives.tsv'.format(tsv_dir,subject))\n",
    "ecc_th = [0, 15]\n",
    "size_th= [0.1, 20]\n",
    "rsq_th = [0, 1]\n",
    "pcm_th = [0,20]"
   ]
  },
  {
   "cell_type": "code",
   "execution_count": null,
   "id": "d52f4b21-438a-4544-86ed-ef06e4e5211a",
   "metadata": {
    "tags": []
   },
   "outputs": [],
   "source": [
    "\n",
    "def combine_pdfs_vertically(pdf_files, output_path):\n",
    "    # Créer un objet writer pour le document final\n",
    "    writer = PdfWriter()\n",
    "\n",
    "    # Initialiser les variables pour la largeur et la hauteur totale\n",
    "    total_height = 0\n",
    "    width = None\n",
    "\n",
    "    # Parcourir chaque fichier PDF, ouvrir, lire et calculer les dimensions\n",
    "    for pdf_file in pdf_files:\n",
    "        reader = PdfReader(pdf_file)\n",
    "        page = reader.pages[0]\n",
    "        if width is None:\n",
    "            width = page.mediabox[2]  # La largeur du premier PDF\n",
    "        total_height += page.mediabox[3]  # Ajoute la hauteur de chaque page\n",
    "\n",
    "    # Définir les dimensions de la nouvelle page\n",
    "    mediabox = (0, 0, width, total_height)\n",
    "\n",
    "    # Ajouter les pages au nouveau PDF\n",
    "    current_height = total_height\n",
    "    for pdf_file in pdf_files:\n",
    "        reader = PdfReader(pdf_file)\n",
    "        page = reader.pages[0]\n",
    "        page_height = page.mediabox[3]\n",
    "        \n",
    "        # Translate the origin of the page to the correct position\n",
    "        page.mediabox = mediabox\n",
    "        page.cropbox = (0, current_height - page_height, width, current_height)\n",
    "        writer.add_page(page)\n",
    "        current_height -= page_height  # Déplacer l'origine vers le bas pour la prochaine page\n",
    "\n",
    "    # Écrire le document final\n",
    "    with open(output_path, \"wb\") as f:\n",
    "        writer.write(f)\n"
   ]
  },
  {
   "cell_type": "markdown",
   "id": "040b9223-9b77-467c-85ca-d86f490b8d45",
   "metadata": {
    "jp-MarkdownHeadingCollapsed": true
   },
   "source": [
    "# heat map"
   ]
  },
  {
   "cell_type": "code",
   "execution_count": null,
   "id": "9a815b34-05ea-4e2a-b612-03e61e5e780c",
   "metadata": {
    "tags": []
   },
   "outputs": [],
   "source": [
    "def gaus_2d(gauss_x, gauss_y, gauss_sd, screen_side, grain=200):\n",
    "    \"\"\"\n",
    "    Generate 2D gaussian mesh\n",
    "    \n",
    "    Parameters\n",
    "    ----------\n",
    "    gauss_x : mean x gaussian parameter in dva (e.g. 1 dva)\n",
    "    gauss_y : mean y gaussian parameter in dva (e.g. 1 dva)\n",
    "    gauss_sd : sd gaussian parameter in dva (e.g. 1 dva)\n",
    "    screen_side : mesh screen side (square) im dva (e.g. 20 dva from -10 to 10 dva)\n",
    "    grain : grain resolution of the mesh in pixels (default = 100 pixels)\n",
    "    \n",
    "    Returns\n",
    "    -------\n",
    "    x : linspace x of the mesh\n",
    "    y : linspace x of the mesh\n",
    "    z : mesh_z values (to plot)\n",
    "    \n",
    "    \"\"\"\n",
    "    x = np.linspace(-screen_side/2, screen_side/2, grain)\n",
    "    y = np.linspace(-screen_side/2, screen_side/2, grain)\n",
    "    mesh_x, mesh_y = np.meshgrid(x,y) \n",
    "    \n",
    "    gauss_z = 1./(2.*np.pi*gauss_sd*gauss_sd)*np.exp(-((mesh_x-gauss_x)**2./(2.*gauss_sd**2.)+(mesh_y-gauss_y)**2./(2.*gauss_sd**2.)))\n",
    "    return x, y, gauss_z"
   ]
  },
  {
   "cell_type": "code",
   "execution_count": null,
   "id": "59906ce8-696b-4855-b538-b2474f48bc2b",
   "metadata": {
    "tags": []
   },
   "outputs": [],
   "source": [
    "len(data)"
   ]
  },
  {
   "cell_type": "code",
   "execution_count": null,
   "id": "f2194765-cd71-4422-8216-5b24aceb652d",
   "metadata": {
    "tags": []
   },
   "outputs": [],
   "source": [
    "\n",
    "vert = data.prf_loo_r2.idxmax()"
   ]
  },
  {
   "cell_type": "code",
   "execution_count": null,
   "id": "b3267bc3-5dc4-4015-a141-f1c647307c4d",
   "metadata": {
    "tags": []
   },
   "outputs": [],
   "source": [
    "grain=200\n",
    "x_tot = np.zeros(grain) \n",
    "y_tot = np.zeros(grain) \n",
    "gauss_z_tot = np.zeros((grain,grain)) \n",
    "for vert in range(len(data)):\n",
    "    x, y, gauss_z = gaus_2d(gauss_x=data.prf_x[vert],  \n",
    "                        gauss_y=data.prf_y[vert], \n",
    "                        gauss_sd=data.prf_size[vert], \n",
    "                        screen_side=30, \n",
    "                        grain=grain)\n",
    "\n",
    "    gauss_z_tot += gauss_z * data.prf_loo_r2[vert]\n",
    "gauss_z_tot = (gauss_z_tot-gauss_z_tot.min())/(gauss_z_tot.max()-gauss_z_tot.min())"
   ]
  },
  {
   "cell_type": "code",
   "execution_count": null,
   "id": "cc2d5c93-1b3c-4bb7-baae-3e22ab0da948",
   "metadata": {
    "tags": []
   },
   "outputs": [],
   "source": [
    "gauss_z_tot"
   ]
  },
  {
   "cell_type": "code",
   "execution_count": null,
   "id": "6bae077d-b5c5-414f-b829-9b09cc246ad1",
   "metadata": {
    "tags": []
   },
   "outputs": [],
   "source": []
  },
  {
   "cell_type": "code",
   "execution_count": null,
   "id": "0ff30c81-6869-44f3-8f53-734c98a3a12c",
   "metadata": {},
   "outputs": [],
   "source": [
    "fig=go.Figure()\n",
    "fig.add_trace(go.Histogram2dContour(x=x, y=y, z=gauss_z_tot, colorscale='viridis', showscale=True))\n",
    "fig.update_layout(height=800, width=800)"
   ]
  },
  {
   "cell_type": "code",
   "execution_count": null,
   "id": "d48a26d6-3645-4d6f-b844-ed5c9f217ef1",
   "metadata": {
    "tags": []
   },
   "outputs": [],
   "source": [
    "fig=go.Figure()\n",
    "fig.add_trace(go.Heatmap(x=x, y=y, z=gauss_z_tot,colorscale='viridis', showscale=True))\n",
    "fig.update_layout(height=800, width=800)"
   ]
  },
  {
   "cell_type": "code",
   "execution_count": null,
   "id": "1d6cb1c3-90d6-494d-9e84-2a05271b2474",
   "metadata": {
    "tags": []
   },
   "outputs": [],
   "source": [
    "grain = 200\n",
    "x_tot = np.zeros(grain) \n",
    "y_tot = np.zeros(grain) \n",
    "gauss_z_tot = np.zeros((grain, grain)) \n",
    "\n",
    "for vert in range(len(data)):\n",
    "    x, y, gauss_z = gaus_2d(gauss_x=data['prf_x'][vert],  \n",
    "                             gauss_y=data['prf_y'][vert], \n",
    "                             gauss_sd=data['prf_size'][vert], \n",
    "                             screen_side=30, \n",
    "                             grain=grain)\n",
    "\n",
    "    gauss_z_tot += gauss_z * data['prf_loo_r2'][vert]\n",
    "\n",
    "gauss_z_tot = (gauss_z_tot - gauss_z_tot.min()) / (gauss_z_tot.max() - gauss_z_tot.min())\n",
    "\n"
   ]
  },
  {
   "cell_type": "code",
   "execution_count": null,
   "id": "d23d9df0-bd9b-4c29-ac58-258bc191717a",
   "metadata": {},
   "outputs": [],
   "source": [
    "fig = go.Figure()\n",
    "fig.add_trace(go.Histogram2dContour(x=x, y=y, z=gauss_z_tot, colorscale='viridis'))\n",
    "fig.update_layout(height=800, width=800)\n",
    "\n",
    "fig.show()"
   ]
  },
  {
   "cell_type": "markdown",
   "id": "39eda088-75d4-4cdd-85dc-68438d9c3962",
   "metadata": {
    "jp-MarkdownHeadingCollapsed": true,
    "tags": []
   },
   "source": [
    "# figs"
   ]
  },
  {
   "cell_type": "code",
   "execution_count": null,
   "id": "e54f210b-2538-4f06-ba8f-a9704f21d7da",
   "metadata": {
    "tags": []
   },
   "outputs": [],
   "source": [
    "fig = prf_violins_plot(data, subject,fig_height=1080, fig_width=1920, ecc_th=ecc_th, size_th=size_th, rsq_th=rsq_th, pcm_th=pcm_th)"
   ]
  },
  {
   "cell_type": "code",
   "execution_count": null,
   "id": "a872694e-5543-4975-b3a5-94f9ca259ff8",
   "metadata": {
    "tags": []
   },
   "outputs": [],
   "source": [
    "fig.show()\n",
    "# fig.write_image(\"/Users/uriel/Downloads/{}_violins5.pdf\".format(subject))"
   ]
  },
  {
   "cell_type": "code",
   "execution_count": null,
   "id": "360a0a6c-b3f0-4aa4-bcbd-a137b71fb62c",
   "metadata": {
    "tags": []
   },
   "outputs": [],
   "source": [
    "fig2 = prf_ecc_size_plot(data, subject, fig_height=400, fig_width=800, ecc_th=ecc_th, size_th=size_th, rsq_th=rsq_th)"
   ]
  },
  {
   "cell_type": "code",
   "execution_count": null,
   "id": "5b878427-666a-495e-b24f-96345684e611",
   "metadata": {
    "tags": []
   },
   "outputs": [],
   "source": [
    "fig2.show()"
   ]
  },
  {
   "cell_type": "code",
   "execution_count": null,
   "id": "236f6693-bbf9-46ce-a3e3-b8fc3e0ac6eb",
   "metadata": {},
   "outputs": [],
   "source": []
  },
  {
   "cell_type": "code",
   "execution_count": null,
   "id": "18e23ee4-f2cf-417b-af53-69fc1354ecad",
   "metadata": {},
   "outputs": [],
   "source": [
    "figures, hemis = prf_polar_plot(data, subject, fig_height=300, fig_width=1920, ecc_th=ecc_th, size_th=size_th, rsq_th=rsq_th)\n",
    "\n",
    "for i, (figure, hemi) in enumerate(zip(figures, hemis), start=1):\n",
    "\n",
    "    figure.write_image('/Users/uriel/Downloads/{}_subplot_polar_{}.pdf'.format(subject,hemi))\n"
   ]
  },
  {
   "cell_type": "code",
   "execution_count": null,
   "id": "538bb469-5709-4105-9541-b292f1ecd22a",
   "metadata": {},
   "outputs": [],
   "source": [
    "fig5 = prf_contralaterality_plot(data, subject, fig_height=300, fig_width=1920, ecc_th=ecc_th, size_th=size_th, rsq_th=rsq_th)"
   ]
  },
  {
   "cell_type": "code",
   "execution_count": null,
   "id": "17f85b7c-f3ca-4fd7-a6e2-ef82b136dd36",
   "metadata": {
    "tags": []
   },
   "outputs": [],
   "source": [
    "fig5.show()"
   ]
  },
  {
   "cell_type": "markdown",
   "id": "312951ab-3f54-4f32-977e-ba4f297055ae",
   "metadata": {},
   "source": [
    "# fi6"
   ]
  },
  {
   "cell_type": "code",
   "execution_count": null,
   "id": "2ee9ef3d-c83b-44ee-9549-dca3628d4c55",
   "metadata": {
    "tags": []
   },
   "outputs": [],
   "source": [
    "fig6 = prf_ecc_pcm_plot(data, subject, fig_height=400, fig_width=800, ecc_th=ecc_th, pcm_th=pcm_th, rsq_th=rsq_th)"
   ]
  },
  {
   "cell_type": "code",
   "execution_count": null,
   "id": "679ba310-3c85-464a-9021-e7d434e76f57",
   "metadata": {
    "tags": []
   },
   "outputs": [],
   "source": [
    "fig6.show()"
   ]
  },
  {
   "cell_type": "code",
   "execution_count": null,
   "id": "e585f16d-efba-4872-9d51-4c2b767784b1",
   "metadata": {
    "tags": []
   },
   "outputs": [],
   "source": [
    "fig6.write_image(\"/Users/uriel/Downloads/{}_pcm.pdf\".format(subject))"
   ]
  },
  {
   "cell_type": "markdown",
   "id": "559aea29-7723-44c2-a62d-55aca42785cc",
   "metadata": {},
   "source": [
    "# Fig 7"
   ]
  },
  {
   "cell_type": "code",
   "execution_count": null,
   "id": "4160a80e-67f1-4c97-a2fb-8ee8df0867dc",
   "metadata": {
    "tags": []
   },
   "outputs": [],
   "source": [
    "fig7 = categories_proportions_roi_plot(data, subject, fig_height=300, fig_width=1920)"
   ]
  },
  {
   "cell_type": "code",
   "execution_count": null,
   "id": "3f423ddf-007a-486a-b4fd-5e7367cdca84",
   "metadata": {
    "tags": []
   },
   "outputs": [],
   "source": [
    "fig7.show()"
   ]
  },
  {
   "cell_type": "code",
   "execution_count": null,
   "id": "7fb8dcd0-09f8-4fc6-975b-07b4f1a0fe05",
   "metadata": {
    "tags": []
   },
   "outputs": [],
   "source": [
    "fig7.write_image(\"/Users/uriel/Downloads/{}percentage.pdf\".format(subject))"
   ]
  },
  {
   "cell_type": "code",
   "execution_count": null,
   "id": "82401450-c83b-44db-9316-5aa77da45372",
   "metadata": {
    "tags": []
   },
   "outputs": [],
   "source": [
    "fig8 = surface_rois_categories_plot(data, subject, fig_height=1080, fig_width=1920)"
   ]
  },
  {
   "cell_type": "code",
   "execution_count": null,
   "id": "69739709-c170-44a8-aec2-436f95fbe0bd",
   "metadata": {
    "tags": []
   },
   "outputs": [],
   "source": [
    "fig8.show()"
   ]
  },
  {
   "cell_type": "code",
   "execution_count": null,
   "id": "ba433905-2bea-4cac-9c91-4e6c8102b442",
   "metadata": {
    "tags": []
   },
   "outputs": [],
   "source": [
    "fig9 = surface_rois_all_categories_plot(data, subject, fig_height=1080, fig_width=1920,)\n"
   ]
  },
  {
   "cell_type": "code",
   "execution_count": null,
   "id": "a7a90c02-5994-43c2-8e4d-2dd009625b84",
   "metadata": {
    "tags": []
   },
   "outputs": [],
   "source": [
    "fig9.show()"
   ]
  }
 ],
 "metadata": {
  "kernelspec": {
   "display_name": "prf_env",
   "language": "python",
   "name": "prf_env"
  },
  "language_info": {
   "codemirror_mode": {
    "name": "ipython",
    "version": 3
   },
   "file_extension": ".py",
   "mimetype": "text/x-python",
   "name": "python",
   "nbconvert_exporter": "python",
   "pygments_lexer": "ipython3",
   "version": "3.11.7"
  }
 },
 "nbformat": 4,
 "nbformat_minor": 5
}
