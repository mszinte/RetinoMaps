{
 "cells": [
  {
   "cell_type": "code",
   "execution_count": 1,
   "id": "10b4cc3c-0449-4e4c-a781-5556af60a1ea",
   "metadata": {
    "tags": []
   },
   "outputs": [],
   "source": [
    "# Stop warnings\n",
    "import warnings\n",
    "warnings.filterwarnings(\"ignore\")\n",
    "\n",
    "# Imports\n",
    "import numpy as np\n",
    "import pandas as pd\n",
    "import os\n",
    "import json\n",
    "import sys\n",
    "import cortex\n",
    "from scipy import stats\n",
    "import matplotlib.pyplot as plt\n",
    "\n",
    "import plotly.graph_objects as go\n",
    "import plotly.express as px\n",
    "from plotly.subplots import make_subplots\n",
    "\n",
    "\n",
    "sys.path.append(\"{}/../../../utils\".format(os.getcwd()))\n",
    "from plot_utils import *\n",
    "from surface_utils import load_surface\n",
    "from pycortex_utils import get_rois, calculate_vertex_areas, data_from_rois, load_surface_pycortex\n",
    "from maths_utils import linear_regression_surf, multipletests_surface\n",
    "\n",
    "# Import data base\n",
    "main_dir = '/Users/uriel/disks/meso_shared'\n",
    "# main_dir = '/home/ulascombes//disks/meso_shared'\n",
    "project_dir = 'RetinoMaps'\n",
    "subjects = ['sub-01']\n",
    "subject = 'sub-12'\n",
    "format_ = 'fsnative'\n",
    "tsv_dir ='{}/{}/derivatives/pp_data/{}/{}/prf/tsv'.format(main_dir, \n",
    "                                                                project_dir, \n",
    "                                                                subject,\n",
    "                                                         format_)\n",
    "\n",
    "\n",
    "with open('../../../settings.json') as f:\n",
    "    json_s = f.read()\n",
    "    analysis_info = json.loads(json_s)\n",
    "rois = analysis_info['rois']\n"
   ]
  },
  {
   "cell_type": "code",
   "execution_count": 2,
   "id": "277a45df-952d-4ab1-a7f3-39e30911089f",
   "metadata": {
    "tags": []
   },
   "outputs": [],
   "source": [
    "data = pd.read_table('{}/{}_css-all_derivatives.tsv'.format(tsv_dir,subject))\n",
    "ecc_th = [0, 15]\n",
    "size_th= [0.1, 20]\n",
    "rsq_th = [0, 1]\n",
    "pcm_th = [0,20]"
   ]
  },
  {
   "cell_type": "code",
   "execution_count": null,
   "id": "8b79ed33-b7ca-4452-9ddd-25021d893dd7",
   "metadata": {
    "tags": []
   },
   "outputs": [],
   "source": [
    "# General figure settings\n",
    "template_specs = dict(axes_color=\"rgba(0, 0, 0, 1)\",\n",
    "                      axes_width=2,\n",
    "                      axes_font_size=15,\n",
    "                      bg_col=\"rgba(255, 255, 255, 1)\",\n",
    "                      font='Arial',\n",
    "                      title_font_size=15,\n",
    "                      plot_width=1.5)\n",
    "\n",
    "# General figure settings\n",
    "fig_template = plotly_template(template_specs)"
   ]
  },
  {
   "cell_type": "code",
   "execution_count": null,
   "id": "d16c71de-04b2-4bf1-bbf2-b9988dc93142",
   "metadata": {
    "tags": []
   },
   "outputs": [],
   "source": [
    "group_df_rois = data.groupby(['roi'], sort=False)['vert_area'].sum().reset_index()"
   ]
  },
  {
   "cell_type": "code",
   "execution_count": null,
   "id": "b1b40f42-acc0-4469-ad1a-03aa1cfdda77",
   "metadata": {
    "tags": []
   },
   "outputs": [],
   "source": [
    "group_df_rois"
   ]
  },
  {
   "cell_type": "code",
   "execution_count": null,
   "id": "1f35ba21-b85d-4733-9963-63d00b9fefe9",
   "metadata": {
    "tags": []
   },
   "outputs": [],
   "source": [
    "percentage = (group_df_rois_1pt.vert_area / group_df_rois.vert_area ) * 100"
   ]
  },
  {
   "cell_type": "code",
   "execution_count": null,
   "id": "3baa4766-c35a-4abf-8026-11fa00386541",
   "metadata": {
    "tags": []
   },
   "outputs": [],
   "source": [
    "group_df_rois_5pt"
   ]
  },
  {
   "cell_type": "code",
   "execution_count": null,
   "id": "2e4c2e8a-41eb-40b4-84ad-ebd04624be1d",
   "metadata": {
    "tags": []
   },
   "outputs": [],
   "source": [
    "data['vert_area'] = data['vert_area'] / 100\n",
    "fig_width = 1200\n",
    "fig_height = 600\n",
    "\n",
    "group_df_rois = data.groupby(['roi'], sort=False)['vert_area'].sum().reset_index()\n",
    "\n",
    "group_df_rois_5pt = data[data['corr_pvalue_5pt'] < 0.05].groupby(['roi'], sort=False)['vert_area'].sum().reset_index()\n",
    "group_df_rois_5pt['percentage'] = ((group_df_rois_5pt.vert_area / group_df_rois.vert_area ) * 100).round()\n",
    "group_df_rois_5pt['percentage'] = group_df_rois_5pt['percentage'].astype(int).astype(str) + '%'\n",
    "\n",
    "\n",
    "group_df_rois_1pt = data[data['corr_pvalue_1pt'] < 0.01].groupby(['roi'], sort=False)['vert_area'].sum().reset_index()\n",
    "group_df_rois_1pt['percentage'] = ((group_df_rois_1pt.vert_area / group_df_rois.vert_area ) * 100).round()\n",
    "group_df_rois_1pt['percentage'] = group_df_rois_1pt['percentage'].astype(int).astype(str) + '%'\n",
    "\n",
    "\n",
    "\n",
    "\n",
    "\n",
    "fig = make_subplots(rows=1, cols=2, subplot_titles=['FDR threshold = 0.05', 'FDR threshold = 0.01'])\n",
    "fig.layout.annotations[0].update(x=0.1)\n",
    "fig.layout.annotations[1].update(x=0.65)\n",
    "    \n",
    "# 0.05 \n",
    "# total \n",
    "fig.add_trace(go.Bar(x=group_df_rois.roi, \n",
    "                     y=group_df_rois.vert_area, \n",
    "                     text=group_df_rois_5pt.percentage, \n",
    "                     textposition='outside',\n",
    "                     textangle=-60,\n",
    "                     showlegend=False, \n",
    "                     marker=dict(color=roi_colors, opacity=0.2)),\n",
    "             row=1, col=1)\n",
    "\n",
    "# significatif \n",
    "fig.add_trace(go.Bar(x=group_df_rois_5pt.roi, \n",
    "                     y=group_df_rois_5pt.vert_area, \n",
    "\n",
    "                     showlegend=False, \n",
    "                     marker=dict(color=roi_colors)),\n",
    "             row=1, col=1)\n",
    "\n",
    "\n",
    "# 0.01  \n",
    "fig.add_trace(go.Bar(x=group_df_rois.roi, \n",
    "                     y=group_df_rois.vert_area, \n",
    "                     text=group_df_rois_1pt.percentage, \n",
    "                     textposition='outside',\n",
    "                     textangle=-60,\n",
    "                     showlegend=False, \n",
    "                     marker=dict(color=roi_colors, opacity=0.1)),\n",
    "             row=1, col=2)\n",
    "\n",
    "fig.add_trace(go.Bar(x=group_df_rois_1pt.roi, \n",
    "                     y=group_df_rois_1pt.vert_area, \n",
    "                     showlegend=False, \n",
    "                     marker=dict(color=roi_colors)),\n",
    "             row=1, col=2)\n",
    "\n",
    "\n",
    "# Settings\n",
    "fig.update_xaxes(showline=True, \n",
    "                 ticklen=0, \n",
    "                 linecolor=('rgba(255,255,255,0)'))      \n",
    "\n",
    "fig.update_yaxes(range=[0,1], \n",
    "                 showline=True, \n",
    "                 nticks=5, \n",
    "                 title_text='Area in mm<sup>2</sup>',secondary_y=False)\n",
    "\n",
    "\n",
    "fig.update_layout(barmode='overlay',\n",
    "                  \n",
    "                  height=fig_height, \n",
    "                  width=fig_width, \n",
    "\n",
    "                  template=fig_template,\n",
    "                  margin_l=100, \n",
    "                  margin_r=50, \n",
    "                  margin_t=100, \n",
    "                  margin_b=100)\n",
    "\n",
    "\n",
    "\n",
    "fig.write_image(\"/Users/uriel/Downloads/{}_surface_area.pdf\".format(subject))\n",
    "fig.show()"
   ]
  },
  {
   "cell_type": "code",
   "execution_count": null,
   "id": "6917562b-c6b8-452c-bdf6-4e5e906b32f1",
   "metadata": {
    "tags": []
   },
   "outputs": [],
   "source": [
    "data"
   ]
  },
  {
   "cell_type": "code",
   "execution_count": null,
   "id": "5c542673-069b-4b94-b997-993a2dbffe01",
   "metadata": {
    "tags": []
   },
   "outputs": [],
   "source": [
    "group_df_rois.vert_area"
   ]
  },
  {
   "cell_type": "code",
   "execution_count": 23,
   "id": "14a3785b-e96b-4bfe-aa96-ad0e36adaa8b",
   "metadata": {
    "tags": []
   },
   "outputs": [],
   "source": [
    "def prf_roi_area(data, fig_width, fig_height, roi_colors):\n",
    "    \"\"\"\n",
    "    Make bar plots of each roi area and the corresponding significative area of pRF  \n",
    "    \n",
    "    Parameters\n",
    "    ----------\n",
    "    data : A data dataframe\n",
    "    fig_width : figure width in pixels\n",
    "    fig_height : figure height in pixels\n",
    "    roi_colors : list of rgb colors for plotly\n",
    "    \n",
    "    Returns\n",
    "    -------\n",
    "    fig : violins plot\n",
    "    \"\"\"\n",
    "    \n",
    "    # General figure settings\n",
    "    template_specs = dict(axes_color=\"rgba(0, 0, 0, 1)\",\n",
    "                          axes_width=2,\n",
    "                          axes_font_size=15,\n",
    "                          bg_col=\"rgba(255, 255, 255, 1)\",\n",
    "                          font='Arial',\n",
    "                          title_font_size=15,\n",
    "                          plot_width=1.5)\n",
    "    \n",
    "    # General figure settings\n",
    "    fig_template = plotly_template(template_specs)\n",
    "    \n",
    "    # General settings\n",
    "    fig = make_subplots(rows=1, cols=2, subplot_titles=['FDR threshold = 0.05', 'FDR threshold = 0.01'])\n",
    "    fig.layout.annotations[0].update(x=0.1)\n",
    "    fig.layout.annotations[1].update(x=0.65)\n",
    "    \n",
    "    # Compute the area of each area \n",
    "    group_df_rois = data.groupby(['roi'], sort=False)['vert_area'].sum().reset_index()\n",
    "\n",
    "    # Compute the area of significative vertex in each roi for FDR 0.05\n",
    "    group_df_rois_5pt = data[data['corr_pvalue_5pt'] < 0.05].groupby(['roi'], sort=False)['vert_area'].sum().reset_index()\n",
    "    group_df_rois_5pt['percentage'] = ((group_df_rois_5pt.vert_area / group_df_rois.vert_area ) * 100).round()\n",
    "    group_df_rois_5pt['percentage'] = group_df_rois_5pt['percentage'].astype(int).astype(str) + '%'\n",
    "    \n",
    "    # Compute the area of significative vertex in each roi for FDR 0.01\n",
    "    group_df_rois_1pt = data[data['corr_pvalue_1pt'] < 0.01].groupby(['roi'], sort=False)['vert_area'].sum().reset_index()\n",
    "    group_df_rois_1pt['percentage'] = ((group_df_rois_1pt.vert_area / group_df_rois.vert_area ) * 100).round()\n",
    "    group_df_rois_1pt['percentage'] = group_df_rois_1pt['percentage'].astype(int).astype(str) + '%'\n",
    "    \n",
    "    # plot for FDR 0.05\n",
    "    # total bar \n",
    "    fig.add_trace(go.Bar(x=group_df_rois.roi, \n",
    "                         y=group_df_rois.vert_area, \n",
    "                         text=group_df_rois_5pt.percentage, \n",
    "                         textposition='outside',\n",
    "                         textangle=-60,\n",
    "                         showlegend=False, \n",
    "                         marker=dict(color=roi_colors, opacity=0.2)),\n",
    "                 row=1, col=1)\n",
    "    \n",
    "    # significatif vertex bar\n",
    "    fig.add_trace(go.Bar(x=group_df_rois_5pt.roi, \n",
    "                         y=group_df_rois_5pt.vert_area, \n",
    "    \n",
    "                         showlegend=False, \n",
    "                         marker=dict(color=roi_colors)),\n",
    "                 row=1, col=1)\n",
    "    \n",
    "    \n",
    "    # plot for FDR 0.01 \n",
    "    # total bar \n",
    "    fig.add_trace(go.Bar(x=group_df_rois.roi, \n",
    "                         y=group_df_rois.vert_area, \n",
    "                         text=group_df_rois_1pt.percentage, \n",
    "                         textposition='outside',\n",
    "                         textangle=-60,\n",
    "                         showlegend=False, \n",
    "                         marker=dict(color=roi_colors, opacity=0.1)),\n",
    "                 row=1, col=2)\n",
    "    \n",
    "    # significatif vertex bar\n",
    "    fig.add_trace(go.Bar(x=group_df_rois_1pt.roi, \n",
    "                         y=group_df_rois_1pt.vert_area, \n",
    "                         showlegend=False, \n",
    "                         marker=dict(color=roi_colors)),\n",
    "                 row=1, col=2)\n",
    "\n",
    "    # Define parameters\n",
    "    fig.update_xaxes(showline=True, \n",
    "                     ticklen=0, \n",
    "                     linecolor=('rgba(255,255,255,0)'))      \n",
    "    \n",
    "    fig.update_yaxes(range=[0,80], \n",
    "                     showline=True, \n",
    "                     nticks=5, \n",
    "                     title_text='Area in mm<sup>2</sup>',secondary_y=False)\n",
    "    \n",
    "    fig.update_layout(barmode='overlay',\n",
    "                      height=fig_height, \n",
    "                      width=fig_width, \n",
    "                      template=fig_template,\n",
    "                      margin_l=100, \n",
    "                      margin_r=50, \n",
    "                      margin_t=100, \n",
    "                      margin_b=100)\n",
    "    return fig "
   ]
  },
  {
   "cell_type": "code",
   "execution_count": 7,
   "id": "ff287826-a664-4d74-aedf-89de14d75697",
   "metadata": {
    "tags": []
   },
   "outputs": [],
   "source": [
    "# Figure settings\n",
    "colormap_dict = {'V1': (243, 231, 155),\n",
    "                 'V2': (250, 196, 132),\n",
    "                 'V3': (248, 160, 126),\n",
    "                 'V3AB': (235, 127, 134),\n",
    "                 'LO': (150, 0, 90), \n",
    "                 'VO': (0, 0, 200),\n",
    "                 'hMT+': (0, 25, 255),\n",
    "                 'iIPS': (0, 152, 255),\n",
    "                 'sIPS': (44, 255, 150),\n",
    "                 'iPCS': (151, 255, 0),\n",
    "                 'sPCS': (255, 234, 0),\n",
    "                 'mPCS': (255, 111, 0)\n",
    "                }\n",
    "\n",
    "\n",
    "roi_colors = ['rgb({},{},{})'.format(*rgb) for rgb in colormap_dict.values()]\n",
    "fig_width = 1200\n",
    "fig_height = 600\n",
    "fig = prf_roi_area(data, fig_width, fig_height, roi_colors)\n",
    "fig.write_image(\"/Users/uriel/Downloads/{}_surface_area.pdf\".format(subject))"
   ]
  },
  {
   "cell_type": "code",
   "execution_count": 8,
   "id": "e1692901-5979-458a-b987-5415980d9512",
   "metadata": {
    "tags": []
   },
   "outputs": [
    {
     "data": {
      "application/vnd.plotly.v1+json": {
       "config": {
        "plotlyServerURL": "https://plot.ly"
       },
       "data": [
        {
         "marker": {
          "color": [
           "rgb(243,231,155)",
           "rgb(250,196,132)",
           "rgb(248,160,126)",
           "rgb(235,127,134)",
           "rgb(150,0,90)",
           "rgb(0,0,200)",
           "rgb(0,25,255)",
           "rgb(0,152,255)",
           "rgb(44,255,150)",
           "rgb(151,255,0)",
           "rgb(255,234,0)",
           "rgb(255,111,0)"
          ],
          "opacity": 0.2
         },
         "showlegend": false,
         "text": [
          "99%",
          "97%",
          "96%",
          "96%",
          "92%",
          "79%",
          "82%",
          "92%",
          "92%",
          "82%",
          "86%",
          "84%"
         ],
         "textangle": -60,
         "textposition": "outside",
         "type": "bar",
         "x": [
          "V1",
          "V2",
          "V3",
          "V3AB",
          "LO",
          "VO",
          "hMT+",
          "iIPS",
          "sIPS",
          "iPCS",
          "sPCS",
          "mPCS"
         ],
         "xaxis": "x",
         "y": [
          39.04047655844,
          38.70081723466,
          29.226805339571,
          15.47641621355,
          22.61708770566,
          52.52629151314,
          16.40264689155,
          42.0706237895,
          54.607299051166,
          25.6636132712,
          24.72237582259,
          41.7835451327
         ],
         "yaxis": "y"
        },
        {
         "marker": {
          "color": [
           "rgb(243,231,155)",
           "rgb(250,196,132)",
           "rgb(248,160,126)",
           "rgb(235,127,134)",
           "rgb(150,0,90)",
           "rgb(0,0,200)",
           "rgb(0,25,255)",
           "rgb(0,152,255)",
           "rgb(44,255,150)",
           "rgb(151,255,0)",
           "rgb(255,234,0)",
           "rgb(255,111,0)"
          ]
         },
         "showlegend": false,
         "type": "bar",
         "x": [
          "V1",
          "V2",
          "V3",
          "V3AB",
          "LO",
          "VO",
          "hMT+",
          "iIPS",
          "sIPS",
          "iPCS",
          "sPCS",
          "mPCS"
         ],
         "xaxis": "x",
         "y": [
          38.66666135384,
          37.41465854133,
          28.017156822961,
          14.8096532434,
          20.87594234488,
          41.46701822824,
          13.38535344207,
          38.84051156278,
          50.475607028656,
          21.16789123535,
          21.33500898535,
          34.9943243484
         ],
         "yaxis": "y"
        },
        {
         "marker": {
          "color": [
           "rgb(243,231,155)",
           "rgb(250,196,132)",
           "rgb(248,160,126)",
           "rgb(235,127,134)",
           "rgb(150,0,90)",
           "rgb(0,0,200)",
           "rgb(0,25,255)",
           "rgb(0,152,255)",
           "rgb(44,255,150)",
           "rgb(151,255,0)",
           "rgb(255,234,0)",
           "rgb(255,111,0)"
          ],
          "opacity": 0.1
         },
         "showlegend": false,
         "text": [
          "97%",
          "92%",
          "91%",
          "90%",
          "82%",
          "65%",
          "63%",
          "83%",
          "79%",
          "69%",
          "74%",
          "71%"
         ],
         "textangle": -60,
         "textposition": "outside",
         "type": "bar",
         "x": [
          "V1",
          "V2",
          "V3",
          "V3AB",
          "LO",
          "VO",
          "hMT+",
          "iIPS",
          "sIPS",
          "iPCS",
          "sPCS",
          "mPCS"
         ],
         "xaxis": "x2",
         "y": [
          39.04047655844,
          38.70081723466,
          29.226805339571,
          15.47641621355,
          22.61708770566,
          52.52629151314,
          16.40264689155,
          42.0706237895,
          54.607299051166,
          25.6636132712,
          24.72237582259,
          41.7835451327
         ],
         "yaxis": "y2"
        },
        {
         "marker": {
          "color": [
           "rgb(243,231,155)",
           "rgb(250,196,132)",
           "rgb(248,160,126)",
           "rgb(235,127,134)",
           "rgb(150,0,90)",
           "rgb(0,0,200)",
           "rgb(0,25,255)",
           "rgb(0,152,255)",
           "rgb(44,255,150)",
           "rgb(151,255,0)",
           "rgb(255,234,0)",
           "rgb(255,111,0)"
          ]
         },
         "showlegend": false,
         "type": "bar",
         "x": [
          "V1",
          "V2",
          "V3",
          "V3AB",
          "LO",
          "VO",
          "hMT+",
          "iIPS",
          "sIPS",
          "iPCS",
          "sPCS",
          "mPCS"
         ],
         "xaxis": "x2",
         "y": [
          38.02735320074,
          35.63022845954,
          26.574672881941,
          13.9990783169,
          18.59795256454,
          33.96474286541,
          10.37265830702,
          34.90699689455,
          43.33555177444,
          17.76024204594,
          18.32205424392,
          29.58279192742
         ],
         "yaxis": "y2"
        }
       ],
       "layout": {
        "annotations": [
         {
          "font": {
           "size": 16
          },
          "showarrow": false,
          "text": "FDR threshold = 0.05",
          "x": 0.1,
          "xanchor": "center",
          "xref": "paper",
          "y": 1,
          "yanchor": "bottom",
          "yref": "paper"
         },
         {
          "font": {
           "size": 16
          },
          "showarrow": false,
          "text": "FDR threshold = 0.01",
          "x": 0.65,
          "xanchor": "center",
          "xref": "paper",
          "y": 1,
          "yanchor": "bottom",
          "yref": "paper"
         }
        ],
        "barmode": "overlay",
        "height": 600,
        "margin": {
         "b": 100,
         "l": 100,
         "r": 50,
         "t": 100
        },
        "template": {
         "data": {
          "barpolar": [
           {
            "marker": {
             "line": {
              "color": "rgba(0, 0, 0, 1)",
              "width": 1.5
             }
            },
            "showlegend": false,
            "type": "barpolar"
           }
          ],
          "pie": [
           {
            "direction": "clockwise",
            "hole": 0.4,
            "marker": {
             "line": {
              "color": [
               "rgba(0, 0, 0, 1)",
               "rgba(255,255,255,0)"
              ],
              "width": [
               1.5,
               0
              ]
             }
            },
            "rotation": 0,
            "sort": false,
            "textposition": [
             "inside",
             "none"
            ],
            "type": "pie"
           }
          ],
          "violin": [
           {
            "box": {
             "visible": false
            },
            "hoveron": "violins",
            "line": {
             "color": "rgba(0, 0, 0, 1)",
             "width": 1.5
            },
            "marker": {
             "opacity": 0.5,
             "symbol": "x"
            },
            "meanline": {
             "color": "rgba(0, 0, 0, 1)",
             "visible": true,
             "width": 1.5
            },
            "opacity": 1,
            "points": false,
            "showlegend": false,
            "type": "violin",
            "width": 0.8
           }
          ]
         },
         "layout": {
          "annotationdefaults": {
           "font": {
            "color": "rgba(0, 0, 0, 1)",
            "family": "Arial",
            "size": 15
           }
          },
          "font": {
           "family": "Arial",
           "size": 15
          },
          "plot_bgcolor": "rgba(255, 255, 255, 1)",
          "polar": {
           "angularaxis": {
            "showticklabels": false,
            "ticks": "",
            "visible": false
           },
           "radialaxis": {
            "showticklabels": false,
            "ticks": "",
            "visible": false
           }
          },
          "xaxis": {
           "color": "rgba(0, 0, 0, 1)",
           "hoverformat": ".1f",
           "linewidth": 2,
           "showgrid": false,
           "tickfont": {
            "family": "Arial",
            "size": 15
           },
           "ticklen": 8,
           "ticks": "outside",
           "tickwidth": 2,
           "title": {
            "font": {
             "family": "Arial",
             "size": 15
            }
           },
           "visible": true,
           "zeroline": false,
           "zerolinecolor": "rgba(0, 0, 0, 1)",
           "zerolinewidth": 2
          },
          "yaxis": {
           "color": "rgba(0, 0, 0, 1)",
           "hoverformat": ".1f",
           "linewidth": 2,
           "showgrid": false,
           "tickfont": {
            "family": "Arial",
            "size": 15
           },
           "ticklen": 8,
           "ticks": "outside",
           "tickwidth": 2,
           "title": {
            "font": {
             "family": "Arial",
             "size": 15
            }
           },
           "visible": true,
           "zeroline": false,
           "zerolinecolor": "rgba(0, 0, 0, 1)",
           "zerolinewidth": 2
          }
         }
        },
        "width": 1200,
        "xaxis": {
         "anchor": "y",
         "autorange": true,
         "domain": [
          0,
          0.45
         ],
         "linecolor": "rgba(255,255,255,0)",
         "range": [
          -0.5,
          11.5
         ],
         "showline": true,
         "ticklen": 0,
         "type": "category"
        },
        "xaxis2": {
         "anchor": "y2",
         "autorange": true,
         "domain": [
          0.55,
          1
         ],
         "linecolor": "rgba(255,255,255,0)",
         "range": [
          -0.5,
          11.5
         ],
         "showline": true,
         "ticklen": 0,
         "type": "category"
        },
        "yaxis": {
         "anchor": "x",
         "domain": [
          0,
          1
         ],
         "nticks": 5,
         "range": [
          0,
          80
         ],
         "showline": true,
         "title": {
          "text": "Area in cm<sup>2</sup>"
         },
         "type": "linear"
        },
        "yaxis2": {
         "anchor": "x2",
         "domain": [
          0,
          1
         ],
         "nticks": 5,
         "range": [
          0,
          80
         ],
         "showline": true,
         "title": {
          "text": "Area in cm<sup>2</sup>"
         },
         "type": "linear"
        }
       }
      },
      "image/png": "[encoded data removed]",
      "text/html": [
       "<div>                            <div id=\"6cddf248-2279-415f-97f0-63c2524269f3\" class=\"plotly-graph-div\" style=\"height:600px; width:1200px;\"></div>            <script type=\"text/javascript\">                require([\"plotly\"], function(Plotly) {                    window.PLOTLYENV=window.PLOTLYENV || {};                                    if (document.getElementById(\"6cddf248-2279-415f-97f0-63c2524269f3\")) {                    Plotly.newPlot(                        \"6cddf248-2279-415f-97f0-63c2524269f3\",                        [{\"marker\":{\"color\":[\"rgb(243,231,155)\",\"rgb(250,196,132)\",\"rgb(248,160,126)\",\"rgb(235,127,134)\",\"rgb(150,0,90)\",\"rgb(0,0,200)\",\"rgb(0,25,255)\",\"rgb(0,152,255)\",\"rgb(44,255,150)\",\"rgb(151,255,0)\",\"rgb(255,234,0)\",\"rgb(255,111,0)\"],\"opacity\":0.2},\"showlegend\":false,\"text\":[\"99%\",\"97%\",\"96%\",\"96%\",\"92%\",\"79%\",\"82%\",\"92%\",\"92%\",\"82%\",\"86%\",\"84%\"],\"textangle\":-60,\"textposition\":\"outside\",\"x\":[\"V1\",\"V2\",\"V3\",\"V3AB\",\"LO\",\"VO\",\"hMT+\",\"iIPS\",\"sIPS\",\"iPCS\",\"sPCS\",\"mPCS\"],\"y\":[39.04047655844,38.70081723466,29.226805339571,15.47641621355,22.61708770566,52.52629151314,16.40264689155,42.0706237895,54.607299051166,25.6636132712,24.72237582259,41.7835451327],\"type\":\"bar\",\"xaxis\":\"x\",\"yaxis\":\"y\"},{\"marker\":{\"color\":[\"rgb(243,231,155)\",\"rgb(250,196,132)\",\"rgb(248,160,126)\",\"rgb(235,127,134)\",\"rgb(150,0,90)\",\"rgb(0,0,200)\",\"rgb(0,25,255)\",\"rgb(0,152,255)\",\"rgb(44,255,150)\",\"rgb(151,255,0)\",\"rgb(255,234,0)\",\"rgb(255,111,0)\"]},\"showlegend\":false,\"x\":[\"V1\",\"V2\",\"V3\",\"V3AB\",\"LO\",\"VO\",\"hMT+\",\"iIPS\",\"sIPS\",\"iPCS\",\"sPCS\",\"mPCS\"],\"y\":[38.66666135384,37.41465854133,28.017156822961,14.8096532434,20.87594234488,41.46701822824,13.38535344207,38.84051156278,50.475607028656,21.16789123535,21.33500898535,34.9943243484],\"type\":\"bar\",\"xaxis\":\"x\",\"yaxis\":\"y\"},{\"marker\":{\"color\":[\"rgb(243,231,155)\",\"rgb(250,196,132)\",\"rgb(248,160,126)\",\"rgb(235,127,134)\",\"rgb(150,0,90)\",\"rgb(0,0,200)\",\"rgb(0,25,255)\",\"rgb(0,152,255)\",\"rgb(44,255,150)\",\"rgb(151,255,0)\",\"rgb(255,234,0)\",\"rgb(255,111,0)\"],\"opacity\":0.1},\"showlegend\":false,\"text\":[\"97%\",\"92%\",\"91%\",\"90%\",\"82%\",\"65%\",\"63%\",\"83%\",\"79%\",\"69%\",\"74%\",\"71%\"],\"textangle\":-60,\"textposition\":\"outside\",\"x\":[\"V1\",\"V2\",\"V3\",\"V3AB\",\"LO\",\"VO\",\"hMT+\",\"iIPS\",\"sIPS\",\"iPCS\",\"sPCS\",\"mPCS\"],\"y\":[39.04047655844,38.70081723466,29.226805339571,15.47641621355,22.61708770566,52.52629151314,16.40264689155,42.0706237895,54.607299051166,25.6636132712,24.72237582259,41.7835451327],\"type\":\"bar\",\"xaxis\":\"x2\",\"yaxis\":\"y2\"},{\"marker\":{\"color\":[\"rgb(243,231,155)\",\"rgb(250,196,132)\",\"rgb(248,160,126)\",\"rgb(235,127,134)\",\"rgb(150,0,90)\",\"rgb(0,0,200)\",\"rgb(0,25,255)\",\"rgb(0,152,255)\",\"rgb(44,255,150)\",\"rgb(151,255,0)\",\"rgb(255,234,0)\",\"rgb(255,111,0)\"]},\"showlegend\":false,\"x\":[\"V1\",\"V2\",\"V3\",\"V3AB\",\"LO\",\"VO\",\"hMT+\",\"iIPS\",\"sIPS\",\"iPCS\",\"sPCS\",\"mPCS\"],\"y\":[38.02735320074,35.63022845954,26.574672881941,13.9990783169,18.59795256454,33.96474286541,10.37265830702,34.90699689455,43.33555177444,17.76024204594,18.32205424392,29.58279192742],\"type\":\"bar\",\"xaxis\":\"x2\",\"yaxis\":\"y2\"}],                        {\"template\":{\"data\":{\"barpolar\":[{\"marker\":{\"line\":{\"color\":\"rgba(0,0,0,1)\",\"width\":1.5}},\"showlegend\":false,\"type\":\"barpolar\"}],\"pie\":[{\"direction\":\"clockwise\",\"hole\":0.4,\"marker\":{\"line\":{\"color\":[\"rgba(0,0,0,1)\",\"rgba(255,255,255,0)\"],\"width\":[1.5,0]}},\"rotation\":0,\"sort\":false,\"textposition\":[\"inside\",\"none\"],\"type\":\"pie\"}],\"violin\":[{\"box\":{\"visible\":false},\"hoveron\":\"violins\",\"line\":{\"color\":\"rgba(0, 0, 0, 1)\",\"width\":1.5},\"marker\":{\"opacity\":0.5,\"symbol\":\"x\"},\"meanline\":{\"color\":\"rgba(0, 0, 0, 1)\",\"visible\":true,\"width\":1.5},\"opacity\":1,\"points\":false,\"showlegend\":false,\"width\":0.8,\"type\":\"violin\"}]},\"layout\":{\"annotationdefaults\":{\"font\":{\"color\":\"rgba(0, 0, 0, 1)\",\"family\":\"Arial\",\"size\":15}},\"font\":{\"family\":\"Arial\",\"size\":15},\"plot_bgcolor\":\"rgba(255, 255, 255, 1)\",\"polar\":{\"angularaxis\":{\"showticklabels\":false,\"ticks\":\"\",\"visible\":false},\"radialaxis\":{\"showticklabels\":false,\"ticks\":\"\",\"visible\":false}},\"xaxis\":{\"color\":\"rgba(0, 0, 0, 1)\",\"hoverformat\":\".1f\",\"linewidth\":2,\"showgrid\":false,\"tickfont\":{\"family\":\"Arial\",\"size\":15},\"ticklen\":8,\"ticks\":\"outside\",\"tickwidth\":2,\"title\":{\"font\":{\"family\":\"Arial\",\"size\":15}},\"visible\":true,\"zeroline\":false,\"zerolinecolor\":\"rgba(0, 0, 0, 1)\",\"zerolinewidth\":2},\"yaxis\":{\"color\":\"rgba(0, 0, 0, 1)\",\"hoverformat\":\".1f\",\"linewidth\":2,\"showgrid\":false,\"tickfont\":{\"family\":\"Arial\",\"size\":15},\"ticklen\":8,\"ticks\":\"outside\",\"tickwidth\":2,\"title\":{\"font\":{\"family\":\"Arial\",\"size\":15}},\"visible\":true,\"zeroline\":false,\"zerolinecolor\":\"rgba(0, 0, 0, 1)\",\"zerolinewidth\":2}}},\"xaxis\":{\"anchor\":\"y\",\"domain\":[0.0,0.45],\"showline\":true,\"ticklen\":0,\"linecolor\":\"rgba(255,255,255,0)\"},\"yaxis\":{\"anchor\":\"x\",\"domain\":[0.0,1.0],\"title\":{\"text\":\"Area in cm\\u003csup\\u003e2\\u003c\\u002fsup\\u003e\"},\"range\":[0,80],\"showline\":true,\"nticks\":5},\"xaxis2\":{\"anchor\":\"y2\",\"domain\":[0.55,1.0],\"showline\":true,\"ticklen\":0,\"linecolor\":\"rgba(255,255,255,0)\"},\"yaxis2\":{\"anchor\":\"x2\",\"domain\":[0.0,1.0],\"title\":{\"text\":\"Area in cm\\u003csup\\u003e2\\u003c\\u002fsup\\u003e\"},\"range\":[0,80],\"showline\":true,\"nticks\":5},\"annotations\":[{\"font\":{\"size\":16},\"showarrow\":false,\"text\":\"FDR threshold = 0.05\",\"x\":0.1,\"xanchor\":\"center\",\"xref\":\"paper\",\"y\":1.0,\"yanchor\":\"bottom\",\"yref\":\"paper\"},{\"font\":{\"size\":16},\"showarrow\":false,\"text\":\"FDR threshold = 0.01\",\"x\":0.65,\"xanchor\":\"center\",\"xref\":\"paper\",\"y\":1.0,\"yanchor\":\"bottom\",\"yref\":\"paper\"}],\"margin\":{\"l\":100,\"r\":50,\"t\":100,\"b\":100},\"barmode\":\"overlay\",\"height\":600,\"width\":1200},                        {\"responsive\": true}                    ).then(function(){\n",
       "                            \n",
       "var gd = document.getElementById('6cddf248-2279-415f-97f0-63c2524269f3');\n",
       "var x = new MutationObserver(function (mutations, observer) {{\n",
       "        var display = window.getComputedStyle(gd).display;\n",
       "        if (!display || display === 'none') {{\n",
       "            console.log([gd, 'removed!']);\n",
       "            Plotly.purge(gd);\n",
       "            observer.disconnect();\n",
       "        }}\n",
       "}});\n",
       "\n",
       "// Listen for the removal of the full notebook cells\n",
       "var notebookContainer = gd.closest('#notebook-container');\n",
       "if (notebookContainer) {{\n",
       "    x.observe(notebookContainer, {childList: true});\n",
       "}}\n",
       "\n",
       "// Listen for the clearing of the current output cell\n",
       "var outputEl = gd.closest('.output');\n",
       "if (outputEl) {{\n",
       "    x.observe(outputEl, {childList: true});\n",
       "}}\n",
       "\n",
       "                        })                };                });            </script>        </div>"
      ]
     },
     "metadata": {},
     "output_type": "display_data"
    }
   ],
   "source": [
    "fig"
   ]
  },
  {
   "cell_type": "markdown",
   "id": "040b9223-9b77-467c-85ca-d86f490b8d45",
   "metadata": {
    "jp-MarkdownHeadingCollapsed": true
   },
   "source": [
    "# heat map"
   ]
  },
  {
   "cell_type": "code",
   "execution_count": null,
   "id": "9a815b34-05ea-4e2a-b612-03e61e5e780c",
   "metadata": {
    "tags": []
   },
   "outputs": [],
   "source": [
    "def gaus_2d(gauss_x, gauss_y, gauss_sd, screen_side, grain=200):\n",
    "    \"\"\"\n",
    "    Generate 2D gaussian mesh\n",
    "    \n",
    "    Parameters\n",
    "    ----------\n",
    "    gauss_x : mean x gaussian parameter in dva (e.g. 1 dva)\n",
    "    gauss_y : mean y gaussian parameter in dva (e.g. 1 dva)\n",
    "    gauss_sd : sd gaussian parameter in dva (e.g. 1 dva)\n",
    "    screen_side : mesh screen side (square) im dva (e.g. 20 dva from -10 to 10 dva)\n",
    "    grain : grain resolution of the mesh in pixels (default = 100 pixels)\n",
    "    \n",
    "    Returns\n",
    "    -------\n",
    "    x : linspace x of the mesh\n",
    "    y : linspace x of the mesh\n",
    "    z : mesh_z values (to plot)\n",
    "    \n",
    "    \"\"\"\n",
    "    x = np.linspace(-screen_side/2, screen_side/2, grain)\n",
    "    y = np.linspace(-screen_side/2, screen_side/2, grain)\n",
    "    mesh_x, mesh_y = np.meshgrid(x,y) \n",
    "    \n",
    "    gauss_z = 1./(2.*np.pi*gauss_sd*gauss_sd)*np.exp(-((mesh_x-gauss_x)**2./(2.*gauss_sd**2.)+(mesh_y-gauss_y)**2./(2.*gauss_sd**2.)))\n",
    "    return x, y, gauss_z"
   ]
  },
  {
   "cell_type": "code",
   "execution_count": null,
   "id": "59906ce8-696b-4855-b538-b2474f48bc2b",
   "metadata": {
    "tags": []
   },
   "outputs": [],
   "source": [
    "len(data)"
   ]
  },
  {
   "cell_type": "code",
   "execution_count": null,
   "id": "f2194765-cd71-4422-8216-5b24aceb652d",
   "metadata": {
    "tags": []
   },
   "outputs": [],
   "source": [
    "\n",
    "vert = data.prf_loo_r2.idxmax()"
   ]
  },
  {
   "cell_type": "code",
   "execution_count": null,
   "id": "b3267bc3-5dc4-4015-a141-f1c647307c4d",
   "metadata": {
    "tags": []
   },
   "outputs": [],
   "source": [
    "grain=200\n",
    "x_tot = np.zeros(grain) \n",
    "y_tot = np.zeros(grain) \n",
    "gauss_z_tot = np.zeros((grain,grain)) \n",
    "for vert in range(len(data)):\n",
    "    x, y, gauss_z = gaus_2d(gauss_x=data.prf_x[vert],  \n",
    "                        gauss_y=data.prf_y[vert], \n",
    "                        gauss_sd=data.prf_size[vert], \n",
    "                        screen_side=30, \n",
    "                        grain=grain)\n",
    "\n",
    "    gauss_z_tot += gauss_z * data.prf_loo_r2[vert]\n",
    "gauss_z_tot = (gauss_z_tot-gauss_z_tot.min())/(gauss_z_tot.max()-gauss_z_tot.min())"
   ]
  },
  {
   "cell_type": "code",
   "execution_count": null,
   "id": "cc2d5c93-1b3c-4bb7-baae-3e22ab0da948",
   "metadata": {
    "tags": []
   },
   "outputs": [],
   "source": [
    "gauss_z_tot"
   ]
  },
  {
   "cell_type": "code",
   "execution_count": null,
   "id": "6bae077d-b5c5-414f-b829-9b09cc246ad1",
   "metadata": {
    "tags": []
   },
   "outputs": [],
   "source": []
  },
  {
   "cell_type": "code",
   "execution_count": null,
   "id": "0ff30c81-6869-44f3-8f53-734c98a3a12c",
   "metadata": {},
   "outputs": [],
   "source": [
    "fig=go.Figure()\n",
    "fig.add_trace(go.Histogram2dContour(x=x, y=y, z=gauss_z_tot, colorscale='viridis', showscale=True))\n",
    "fig.update_layout(height=800, width=800)"
   ]
  },
  {
   "cell_type": "code",
   "execution_count": null,
   "id": "d48a26d6-3645-4d6f-b844-ed5c9f217ef1",
   "metadata": {
    "tags": []
   },
   "outputs": [],
   "source": [
    "fig=go.Figure()\n",
    "fig.add_trace(go.Heatmap(x=x, y=y, z=gauss_z_tot,colorscale='viridis', showscale=True))\n",
    "fig.update_layout(height=800, width=800)"
   ]
  },
  {
   "cell_type": "code",
   "execution_count": null,
   "id": "1d6cb1c3-90d6-494d-9e84-2a05271b2474",
   "metadata": {
    "tags": []
   },
   "outputs": [],
   "source": [
    "grain = 200\n",
    "x_tot = np.zeros(grain) \n",
    "y_tot = np.zeros(grain) \n",
    "gauss_z_tot = np.zeros((grain, grain)) \n",
    "\n",
    "for vert in range(len(data)):\n",
    "    x, y, gauss_z = gaus_2d(gauss_x=data['prf_x'][vert],  \n",
    "                             gauss_y=data['prf_y'][vert], \n",
    "                             gauss_sd=data['prf_size'][vert], \n",
    "                             screen_side=30, \n",
    "                             grain=grain)\n",
    "\n",
    "    gauss_z_tot += gauss_z * data['prf_loo_r2'][vert]\n",
    "\n",
    "gauss_z_tot = (gauss_z_tot - gauss_z_tot.min()) / (gauss_z_tot.max() - gauss_z_tot.min())\n",
    "\n"
   ]
  },
  {
   "cell_type": "code",
   "execution_count": null,
   "id": "d23d9df0-bd9b-4c29-ac58-258bc191717a",
   "metadata": {},
   "outputs": [],
   "source": [
    "fig = go.Figure()\n",
    "fig.add_trace(go.Histogram2dContour(x=x, y=y, z=gauss_z_tot, colorscale='viridis'))\n",
    "fig.update_layout(height=800, width=800)\n",
    "\n",
    "fig.show()"
   ]
  },
  {
   "cell_type": "markdown",
   "id": "39eda088-75d4-4cdd-85dc-68438d9c3962",
   "metadata": {
    "jp-MarkdownHeadingCollapsed": true,
    "tags": []
   },
   "source": [
    "# figs"
   ]
  },
  {
   "cell_type": "code",
   "execution_count": null,
   "id": "e54f210b-2538-4f06-ba8f-a9704f21d7da",
   "metadata": {
    "tags": []
   },
   "outputs": [],
   "source": [
    "fig = prf_violins_plot(data, subject,fig_height=1080, fig_width=1920, ecc_th=ecc_th, size_th=size_th, rsq_th=rsq_th, pcm_th=pcm_th)"
   ]
  },
  {
   "cell_type": "code",
   "execution_count": null,
   "id": "a872694e-5543-4975-b3a5-94f9ca259ff8",
   "metadata": {
    "tags": []
   },
   "outputs": [],
   "source": [
    "fig.show()\n",
    "# fig.write_image(\"/Users/uriel/Downloads/{}_violins5.pdf\".format(subject))"
   ]
  },
  {
   "cell_type": "code",
   "execution_count": null,
   "id": "360a0a6c-b3f0-4aa4-bcbd-a137b71fb62c",
   "metadata": {
    "tags": []
   },
   "outputs": [],
   "source": [
    "fig2 = prf_ecc_size_plot(data, subject, fig_height=400, fig_width=800, ecc_th=ecc_th, size_th=size_th, rsq_th=rsq_th)"
   ]
  },
  {
   "cell_type": "code",
   "execution_count": null,
   "id": "5b878427-666a-495e-b24f-96345684e611",
   "metadata": {
    "tags": []
   },
   "outputs": [],
   "source": [
    "fig2.show()"
   ]
  },
  {
   "cell_type": "code",
   "execution_count": null,
   "id": "236f6693-bbf9-46ce-a3e3-b8fc3e0ac6eb",
   "metadata": {},
   "outputs": [],
   "source": []
  },
  {
   "cell_type": "code",
   "execution_count": null,
   "id": "18e23ee4-f2cf-417b-af53-69fc1354ecad",
   "metadata": {},
   "outputs": [],
   "source": [
    "figures, hemis = prf_polar_plot(data, subject, fig_height=300, fig_width=1920, ecc_th=ecc_th, size_th=size_th, rsq_th=rsq_th)\n",
    "\n",
    "for i, (figure, hemi) in enumerate(zip(figures, hemis), start=1):\n",
    "\n",
    "    figure.write_image('/Users/uriel/Downloads/{}_subplot_polar_{}.pdf'.format(subject,hemi))\n"
   ]
  },
  {
   "cell_type": "code",
   "execution_count": null,
   "id": "538bb469-5709-4105-9541-b292f1ecd22a",
   "metadata": {},
   "outputs": [],
   "source": [
    "fig5 = prf_contralaterality_plot(data, subject, fig_height=300, fig_width=1920, ecc_th=ecc_th, size_th=size_th, rsq_th=rsq_th)"
   ]
  },
  {
   "cell_type": "code",
   "execution_count": null,
   "id": "17f85b7c-f3ca-4fd7-a6e2-ef82b136dd36",
   "metadata": {
    "tags": []
   },
   "outputs": [],
   "source": [
    "fig5.show()"
   ]
  },
  {
   "cell_type": "markdown",
   "id": "312951ab-3f54-4f32-977e-ba4f297055ae",
   "metadata": {},
   "source": [
    "# fi6"
   ]
  },
  {
   "cell_type": "code",
   "execution_count": null,
   "id": "2ee9ef3d-c83b-44ee-9549-dca3628d4c55",
   "metadata": {
    "tags": []
   },
   "outputs": [],
   "source": [
    "fig6 = prf_ecc_pcm_plot(data, subject, fig_height=400, fig_width=800, ecc_th=ecc_th, pcm_th=pcm_th, rsq_th=rsq_th)"
   ]
  },
  {
   "cell_type": "code",
   "execution_count": null,
   "id": "679ba310-3c85-464a-9021-e7d434e76f57",
   "metadata": {
    "tags": []
   },
   "outputs": [],
   "source": [
    "fig6.show()"
   ]
  },
  {
   "cell_type": "code",
   "execution_count": null,
   "id": "e585f16d-efba-4872-9d51-4c2b767784b1",
   "metadata": {
    "tags": []
   },
   "outputs": [],
   "source": [
    "fig6.write_image(\"/Users/uriel/Downloads/{}_pcm.pdf\".format(subject))"
   ]
  },
  {
   "cell_type": "markdown",
   "id": "559aea29-7723-44c2-a62d-55aca42785cc",
   "metadata": {},
   "source": [
    "# Fig 7"
   ]
  },
  {
   "cell_type": "code",
   "execution_count": null,
   "id": "4160a80e-67f1-4c97-a2fb-8ee8df0867dc",
   "metadata": {
    "tags": []
   },
   "outputs": [],
   "source": [
    "fig7 = categories_proportions_roi_plot(data, subject, fig_height=300, fig_width=1920)"
   ]
  },
  {
   "cell_type": "code",
   "execution_count": null,
   "id": "3f423ddf-007a-486a-b4fd-5e7367cdca84",
   "metadata": {
    "tags": []
   },
   "outputs": [],
   "source": [
    "fig7.show()"
   ]
  },
  {
   "cell_type": "code",
   "execution_count": null,
   "id": "7fb8dcd0-09f8-4fc6-975b-07b4f1a0fe05",
   "metadata": {
    "tags": []
   },
   "outputs": [],
   "source": [
    "fig7.write_image(\"/Users/uriel/Downloads/{}percentage.pdf\".format(subject))"
   ]
  },
  {
   "cell_type": "code",
   "execution_count": null,
   "id": "82401450-c83b-44db-9316-5aa77da45372",
   "metadata": {
    "tags": []
   },
   "outputs": [],
   "source": [
    "fig8 = surface_rois_categories_plot(data, subject, fig_height=1080, fig_width=1920)"
   ]
  },
  {
   "cell_type": "code",
   "execution_count": null,
   "id": "69739709-c170-44a8-aec2-436f95fbe0bd",
   "metadata": {
    "tags": []
   },
   "outputs": [],
   "source": [
    "fig8.show()"
   ]
  },
  {
   "cell_type": "code",
   "execution_count": null,
   "id": "ba433905-2bea-4cac-9c91-4e6c8102b442",
   "metadata": {
    "tags": []
   },
   "outputs": [],
   "source": [
    "fig9 = surface_rois_all_categories_plot(data, subject, fig_height=1080, fig_width=1920,)\n"
   ]
  },
  {
   "cell_type": "code",
   "execution_count": null,
   "id": "a7a90c02-5994-43c2-8e4d-2dd009625b84",
   "metadata": {
    "tags": []
   },
   "outputs": [],
   "source": [
    "fig9.show()"
   ]
  }
 ],
 "metadata": {
  "kernelspec": {
   "display_name": "prf_env",
   "language": "python",
   "name": "prf_env"
  },
  "language_info": {
   "codemirror_mode": {
    "name": "ipython",
    "version": 3
   },
   "file_extension": ".py",
   "mimetype": "text/x-python",
   "name": "python",
   "nbconvert_exporter": "python",
   "pygments_lexer": "ipython3",
   "version": "3.11.7"
  }
 },
 "nbformat": 4,
 "nbformat_minor": 5
}
