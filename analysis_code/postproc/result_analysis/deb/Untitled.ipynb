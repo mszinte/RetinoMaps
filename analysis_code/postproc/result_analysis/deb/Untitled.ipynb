{
 "cells": [
  {
   "cell_type": "code",
   "execution_count": 1,
   "id": "10b4cc3c-0449-4e4c-a781-5556af60a1ea",
   "metadata": {
    "tags": []
   },
   "outputs": [],
   "source": [
    "# Stop warnings\n",
    "import warnings\n",
    "warnings.filterwarnings(\"ignore\")\n",
    "\n",
    "# Imports\n",
    "import numpy as np\n",
    "import pandas as pd\n",
    "import os\n",
    "import json\n",
    "import sys\n",
    "import cortex\n",
    "import matplotlib.pyplot as plt\n",
    "\n",
    "import plotly.graph_objects as go\n",
    "import plotly.express as px\n",
    "from plotly.subplots import make_subplots\n",
    "\n",
    "\n",
    "sys.path.append(\"{}/../../utils\".format(os.getcwd()))\n",
    "from plot_utils import prf_violins_plot, prf_ecc_size_plot, prf_polar_plot, prf_contralaterality_plot, prf_ecc_pcm_plot, surface_rois_categories_plot ,categories_proportions_roi_plot, surface_rois_all_categories_plot\n",
    "from surface_utils import load_surface\n",
    "from pycortex_utils import get_rois, calculate_vertex_areas\n",
    "\n",
    "# Import data base\n",
    "main_dir = '/Users/uriel/disks/meso_shared'\n",
    "# main_dir = '/home/ulascombes//disks/meso_shared'\n",
    "project_dir = 'RetinoMaps'\n",
    "subjects = ['sub-01']\n",
    "subject = 'sub-02'\n",
    "format_ = '170k'\n",
    "tsv_dir ='{}/{}/derivatives/pp_data/{}/{}/prf/tsv'.format(main_dir, \n",
    "                                                                project_dir, \n",
    "                                                                subject,\n",
    "                                                         format_)\n",
    "\n",
    "\n",
    "with open('../../settings.json') as f:\n",
    "    json_s = f.read()\n",
    "    analysis_info = json.loads(json_s)\n",
    "rois = analysis_info['rois']\n"
   ]
  },
  {
   "cell_type": "code",
   "execution_count": null,
   "id": "277a45df-952d-4ab1-a7f3-39e30911089f",
   "metadata": {
    "tags": []
   },
   "outputs": [],
   "source": [
    "data = pd.read_table('{}/{}_css-prf_derivatives_group.tsv'.format(tsv_dir,subject))\n",
    "ecc_th = [0, 15]\n",
    "size_th= [0.1, 20]\n",
    "rsq_th = [0, 1]\n",
    "pcm_th = [0,20]"
   ]
  },
  {
   "cell_type": "code",
   "execution_count": null,
   "id": "010af9b3-4d79-4f76-8e01-05b4ef0fd4a4",
   "metadata": {
    "tags": []
   },
   "outputs": [],
   "source": [
    "data"
   ]
  },
  {
   "cell_type": "markdown",
   "id": "39eda088-75d4-4cdd-85dc-68438d9c3962",
   "metadata": {
    "tags": []
   },
   "source": [
    "# figs"
   ]
  },
  {
   "cell_type": "code",
   "execution_count": null,
   "id": "e54f210b-2538-4f06-ba8f-a9704f21d7da",
   "metadata": {
    "tags": []
   },
   "outputs": [],
   "source": [
    "fig = prf_violins_plot(data, subject,fig_height=1080, fig_width=1920, ecc_th=ecc_th, size_th=size_th, rsq_th=rsq_th, pcm_th=pcm_th)"
   ]
  },
  {
   "cell_type": "code",
   "execution_count": null,
   "id": "a872694e-5543-4975-b3a5-94f9ca259ff8",
   "metadata": {
    "tags": []
   },
   "outputs": [],
   "source": [
    "fig.show()\n",
    "# fig.write_image(\"/Users/uriel/Downloads/{}_violins5.pdf\".format(subject))"
   ]
  },
  {
   "cell_type": "code",
   "execution_count": null,
   "id": "360a0a6c-b3f0-4aa4-bcbd-a137b71fb62c",
   "metadata": {
    "tags": []
   },
   "outputs": [],
   "source": [
    "fig2 = prf_ecc_size_plot(data, subject, fig_height=400, fig_width=800, ecc_th=ecc_th, size_th=size_th, rsq_th=rsq_th)"
   ]
  },
  {
   "cell_type": "code",
   "execution_count": null,
   "id": "5b878427-666a-495e-b24f-96345684e611",
   "metadata": {
    "tags": []
   },
   "outputs": [],
   "source": [
    "fig2.show()"
   ]
  },
  {
   "cell_type": "code",
   "execution_count": null,
   "id": "236f6693-bbf9-46ce-a3e3-b8fc3e0ac6eb",
   "metadata": {},
   "outputs": [],
   "source": []
  },
  {
   "cell_type": "code",
   "execution_count": null,
   "id": "18e23ee4-f2cf-417b-af53-69fc1354ecad",
   "metadata": {},
   "outputs": [],
   "source": [
    "figures, hemis = prf_polar_plot(data, subject, fig_height=300, fig_width=1920, ecc_th=ecc_th, size_th=size_th, rsq_th=rsq_th)\n",
    "\n",
    "for i, (figure, hemi) in enumerate(zip(figures, hemis), start=1):\n",
    "\n",
    "    figure.write_image('/Users/uriel/Downloads/{}_subplot_polar_{}.pdf'.format(subject,hemi))\n"
   ]
  },
  {
   "cell_type": "code",
   "execution_count": null,
   "id": "538bb469-5709-4105-9541-b292f1ecd22a",
   "metadata": {},
   "outputs": [],
   "source": [
    "fig5 = prf_contralaterality_plot(data, subject, fig_height=300, fig_width=1920, ecc_th=ecc_th, size_th=size_th, rsq_th=rsq_th)"
   ]
  },
  {
   "cell_type": "code",
   "execution_count": null,
   "id": "17f85b7c-f3ca-4fd7-a6e2-ef82b136dd36",
   "metadata": {
    "tags": []
   },
   "outputs": [],
   "source": [
    "fig5.show()"
   ]
  },
  {
   "cell_type": "markdown",
   "id": "312951ab-3f54-4f32-977e-ba4f297055ae",
   "metadata": {},
   "source": [
    "# fi6"
   ]
  },
  {
   "cell_type": "code",
   "execution_count": null,
   "id": "2ee9ef3d-c83b-44ee-9549-dca3628d4c55",
   "metadata": {
    "tags": []
   },
   "outputs": [],
   "source": [
    "fig6 = prf_ecc_pcm_plot(data, subject, fig_height=400, fig_width=800, ecc_th=ecc_th, pcm_th=pcm_th, rsq_th=rsq_th)"
   ]
  },
  {
   "cell_type": "code",
   "execution_count": null,
   "id": "679ba310-3c85-464a-9021-e7d434e76f57",
   "metadata": {
    "tags": []
   },
   "outputs": [],
   "source": [
    "fig6.show()"
   ]
  },
  {
   "cell_type": "code",
   "execution_count": null,
   "id": "e585f16d-efba-4872-9d51-4c2b767784b1",
   "metadata": {
    "tags": []
   },
   "outputs": [],
   "source": [
    "fig6.write_image(\"/Users/uriel/Downloads/{}_pcm.pdf\".format(subject))"
   ]
  },
  {
   "cell_type": "markdown",
   "id": "559aea29-7723-44c2-a62d-55aca42785cc",
   "metadata": {},
   "source": [
    "# Fig 7"
   ]
  },
  {
   "cell_type": "code",
   "execution_count": null,
   "id": "4160a80e-67f1-4c97-a2fb-8ee8df0867dc",
   "metadata": {
    "tags": []
   },
   "outputs": [],
   "source": [
    "fig7 = categories_proportions_roi_plot(data, subject, fig_height=300, fig_width=1920)"
   ]
  },
  {
   "cell_type": "code",
   "execution_count": null,
   "id": "3f423ddf-007a-486a-b4fd-5e7367cdca84",
   "metadata": {
    "tags": []
   },
   "outputs": [],
   "source": [
    "fig7.show()"
   ]
  },
  {
   "cell_type": "code",
   "execution_count": null,
   "id": "7fb8dcd0-09f8-4fc6-975b-07b4f1a0fe05",
   "metadata": {
    "tags": []
   },
   "outputs": [],
   "source": [
    "fig7.write_image(\"/Users/uriel/Downloads/{}percentage.pdf\".format(subject))"
   ]
  },
  {
   "cell_type": "code",
   "execution_count": null,
   "id": "82401450-c83b-44db-9316-5aa77da45372",
   "metadata": {
    "tags": []
   },
   "outputs": [],
   "source": [
    "fig8 = surface_rois_categories_plot(data, subject, fig_height=1080, fig_width=1920)"
   ]
  },
  {
   "cell_type": "code",
   "execution_count": null,
   "id": "69739709-c170-44a8-aec2-436f95fbe0bd",
   "metadata": {
    "tags": []
   },
   "outputs": [],
   "source": [
    "fig8.show()"
   ]
  },
  {
   "cell_type": "code",
   "execution_count": null,
   "id": "ba433905-2bea-4cac-9c91-4e6c8102b442",
   "metadata": {
    "tags": []
   },
   "outputs": [],
   "source": [
    "fig9 = surface_rois_all_categories_plot(data, subject, fig_height=1080, fig_width=1920,)\n"
   ]
  },
  {
   "cell_type": "code",
   "execution_count": null,
   "id": "a7a90c02-5994-43c2-8e4d-2dd009625b84",
   "metadata": {
    "tags": []
   },
   "outputs": [],
   "source": [
    "fig9.show()"
   ]
  },
  {
   "cell_type": "code",
   "execution_count": 3,
   "id": "7ba460fe-e7e5-40ae-9eca-0a4f7e4a86fa",
   "metadata": {
    "tags": []
   },
   "outputs": [],
   "source": [
    "def data_from_rois(fn, subject, rois):\n",
    "    \"\"\"\n",
    "    Load a surface, and returne vertex only data from the specified ROIs\n",
    "    ----------\n",
    "    fn : surface filename\n",
    "    subject : subject \n",
    "    rois : list of rois you want extract \n",
    "    \n",
    "    Returns\n",
    "    -------\n",
    "    img : the image load from fn   \n",
    "    data_roi : numpy rois data \n",
    "              2 dim (time x vertices from all the rois)  \n",
    "              \n",
    "    roi_idx : indices of the rois vertices \n",
    "    \n",
    "    \n",
    "    data_hemi : numpy stacked data\n",
    "                2 dim (time x vertices)    \n",
    "    \"\"\"\n",
    "    import cortex\n",
    "    from surface_utils import load_surface\n",
    "\n",
    "    # Import data\n",
    "    img, data = load_surface(fn=fn)\n",
    "    len_data = data.shape[1]\n",
    "    \n",
    "    # Get regions of interest (ROIs) mask\n",
    "    if fn.endswith('.gii'):\n",
    "        roi_verts = cortex.get_roi_verts(subject=subject, roi=rois, mask=True)\n",
    "    elif fn.endswith('.nii'):\n",
    "        surf_size = '170k' if len_data > 60000 else '59k'\n",
    "        roi_verts = load_rois_atlas(atlas_name='mmp', \n",
    "                                    surf_size=surf_size, \n",
    "                                    return_hemis=False,\n",
    "                                    rois=rois, \n",
    "                                    mask=True)\n",
    "\n",
    "    # Create a brain mask\n",
    "    # na_vertices = np.where(np.isnan(data).any(axis=0))[0]\n",
    "    na_vertices = np.isnan(data).any(axis=0)\n",
    "    brain_mask = np.any(list(roi_verts.values()), axis=0)\n",
    "        \n",
    "    # create a hemi mask  \n",
    "    if 'hemi-L' in fn:\n",
    "        hemi_mask = brain_mask[:len_data]\n",
    "        for i, na_vertex in enumerate(na_vertices):\n",
    "            hemi_mask[i] = not na_vertex and hemi_mask[i]\n",
    "        \n",
    "    elif 'hemi-R' in fn: \n",
    "        hemi_mask = brain_mask[-len_data:]\n",
    "        for i, na_vertex in enumerate(na_vertices):\n",
    "            hemi_mask[i] = not na_vertex and hemi_mask[i]\n",
    "    else: \n",
    "        hemi_mask = brain_mask\n",
    "        for i, na_vertex in enumerate(na_vertices):\n",
    "            hemi_mask[i] = not na_vertex and hemi_mask[i]\n",
    "    \n",
    "    \n",
    "    # Get indices of regions of interest (ROIs)\n",
    "    roi_idx = np.where(hemi_mask)[0]\n",
    "    \n",
    "    # Extract data corresponding to regions of interest (ROIs)\n",
    "    data_roi = data[:, hemi_mask]\n",
    "\n",
    "        \n",
    "    return img, data, data_roi, roi_idx"
   ]
  },
  {
   "cell_type": "code",
   "execution_count": 4,
   "id": "a2cfa235-6c00-48f0-892b-700a1ca35439",
   "metadata": {
    "tags": []
   },
   "outputs": [],
   "source": [
    "pred_img, pred_data_all, pred_data, roi_idx_pred = data_from_rois(fn='/Users/uriel/disks/meso_shared/RetinoMaps/derivatives/pp_data/sub-23/fsnative/glm/glm_fit/sub-23_task-PurLoc_hemi-R_fmriprep_dct_avg_loo-1_glm-pred.func.gii',  subject='sub-23', rois=['V1', 'V2', 'V3', 'V3AB', 'LO', 'VO', 'hMT+', 'iIPS', 'sIPS', 'iPCS', 'sPCS', 'mPCS'])\n",
    "bold_img, bold_data_all, bold_data, roi_idx_bold = data_from_rois(fn='/Users/uriel/disks/meso_shared/RetinoMaps/derivatives/pp_data/sub-23/fsnative/func/fmriprep_dct_loo_avg/sub-23_task-PurLoc_hemi-R_fmriprep_dct_loo-1_bold.func.gii',  subject='sub-23', rois=['V1', 'V2', 'V3', 'V3AB', 'LO', 'VO', 'hMT+', 'iIPS', 'sIPS', 'iPCS', 'sPCS', 'mPCS'])"
   ]
  },
  {
   "cell_type": "code",
   "execution_count": 5,
   "id": "3726956b-4585-4442-9aaa-c7a10a8efba5",
   "metadata": {
    "tags": []
   },
   "outputs": [
    {
     "data": {
      "text/plain": [
       "(208, 60727)"
      ]
     },
     "execution_count": 5,
     "metadata": {},
     "output_type": "execute_result"
    }
   ],
   "source": [
    "bold_data.shape"
   ]
  },
  {
   "cell_type": "code",
   "execution_count": 6,
   "id": "bb7193c3-203b-4e0b-a403-5fbeaba0d66e",
   "metadata": {
    "tags": []
   },
   "outputs": [
    {
     "data": {
      "text/plain": [
       "(208, 64725)"
      ]
     },
     "execution_count": 6,
     "metadata": {},
     "output_type": "execute_result"
    }
   ],
   "source": [
    "pred_data.shape"
   ]
  },
  {
   "cell_type": "code",
   "execution_count": 7,
   "id": "2060b4d6-fe5e-4daf-b9bb-c32e6c40cd66",
   "metadata": {
    "tags": []
   },
   "outputs": [],
   "source": [
    "na_vertices = np.isnan(bold_data_all).all(axis=0)"
   ]
  },
  {
   "cell_type": "code",
   "execution_count": 12,
   "id": "a057ecf5-1f97-4a0f-8b09-da7ec920ef1b",
   "metadata": {
    "tags": []
   },
   "outputs": [
    {
     "data": {
      "text/plain": [
       "array([ 43260,  43261,  43262, ..., 203721, 203722, 203723])"
      ]
     },
     "execution_count": 12,
     "metadata": {},
     "output_type": "execute_result"
    }
   ],
   "source": [
    "np.where(na_vertices)[0]"
   ]
  },
  {
   "cell_type": "code",
   "execution_count": 11,
   "id": "ddcdbb42-71df-43eb-86b9-7cdd78c31004",
   "metadata": {},
   "outputs": [
    {
     "data": {
      "text/plain": [
       "(0,)"
      ]
     },
     "execution_count": 11,
     "metadata": {},
     "output_type": "execute_result"
    }
   ],
   "source": [
    "np.where(np.isnan(pred_data_all).all(axis=0))[0].shape"
   ]
  },
  {
   "cell_type": "code",
   "execution_count": 18,
   "id": "fbe8b04c-10c6-4c93-acfd-b8d6c9bb250d",
   "metadata": {
    "tags": []
   },
   "outputs": [
    {
     "data": {
      "text/plain": [
       "[<matplotlib.lines.Line2D at 0x317ce7050>]"
      ]
     },
     "execution_count": 18,
     "metadata": {},
     "output_type": "execute_result"
    },
    {
     "data": {
      "image/png": "[encoded data removed]",
      "text/plain": [
       "<Figure size 640x480 with 1 Axes>"
      ]
     },
     "metadata": {},
     "output_type": "display_data"
    }
   ],
   "source": [
    "plt.plot(pred_data_all[:,203723])"
   ]
  },
  {
   "cell_type": "code",
   "execution_count": null,
   "id": "acbbf794-9395-4d3e-bb73-7d438c5e6dc3",
   "metadata": {},
   "outputs": [],
   "source": []
  }
 ],
 "metadata": {
  "kernelspec": {
   "display_name": "prf_env",
   "language": "python",
   "name": "prf_env"
  },
  "language_info": {
   "codemirror_mode": {
    "name": "ipython",
    "version": 3
   },
   "file_extension": ".py",
   "mimetype": "text/x-python",
   "name": "python",
   "nbconvert_exporter": "python",
   "pygments_lexer": "ipython3",
   "version": "3.11.7"
  }
 },
 "nbformat": 4,
 "nbformat_minor": 5
}
