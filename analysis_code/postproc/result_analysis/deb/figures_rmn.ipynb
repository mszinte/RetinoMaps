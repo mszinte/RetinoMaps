{
 "cells": [
  {
   "cell_type": "code",
   "execution_count": 1,
   "id": "1a0a55ac-7289-4092-8a65-3cc41b8b0383",
   "metadata": {
    "tags": []
   },
   "outputs": [],
   "source": [
    "# Stop warnings\n",
    "import warnings\n",
    "warnings.filterwarnings(\"ignore\")\n",
    "\n",
    "import os\n",
    "import sys\n",
    "import glob\n",
    "import numpy as np\n",
    "import pandas as pd\n",
    "import plotly.express as px\n",
    "from scipy.stats import gamma\n",
    "import matplotlib.pyplot as plt\n",
    "import plotly.graph_objects as go\n",
    "from plotly.subplots import make_subplots\n",
    "\n",
    "# Personal imports\n",
    "sys.path.append(\"{}/../../../utils\".format(os.getcwd()))\n",
    "from glm_utils import eventsMatrix, extract_predictions_r2\n",
    "from surface_utils import load_surface, make_surface_image\n",
    "from pycortex_utils import draw_cortex, set_pycortex_config_file,load_surface_pycortex"
   ]
  },
  {
   "cell_type": "code",
   "execution_count": 2,
   "id": "e86f50fa-01ba-4f91-8a25-3184c8682a71",
   "metadata": {
    "tags": []
   },
   "outputs": [],
   "source": [
    "main_dir = '/Users/uriel/disks/meso_shared'\n",
    "code_dir = '/Users/uriel/disks/meso_H/projects'\n",
    "project_dir = 'RetinoMaps'\n",
    "subject = 'sub-12'\n",
    "format_ = 'fsnative'"
   ]
  },
  {
   "cell_type": "markdown",
   "id": "d1625b11-e96b-404f-8880-41b5da43d783",
   "metadata": {
    "jp-MarkdownHeadingCollapsed": true,
    "tags": []
   },
   "source": [
    "# Particioants"
   ]
  },
  {
   "cell_type": "code",
   "execution_count": null,
   "id": "5cad1351-bff7-485f-8c30-f31819577ac5",
   "metadata": {
    "tags": []
   },
   "outputs": [],
   "source": [
    "participants_fn = '{}/{}/participants.tsv'.format(main_dir, project_dir)\n",
    "participants = pd.read_table(participants_fn)"
   ]
  },
  {
   "cell_type": "code",
   "execution_count": null,
   "id": "92f36b44-7167-44e6-be85-9754c2043ef9",
   "metadata": {
    "tags": []
   },
   "outputs": [],
   "source": [
    "print(participants.age.mean())\n",
    "print(participants.age.std())\n",
    "print(participants.sex.value_counts())\n"
   ]
  },
  {
   "cell_type": "markdown",
   "id": "e39b8a7f-5934-431c-aabb-fcd43d8820bc",
   "metadata": {
    "jp-MarkdownHeadingCollapsed": true,
    "tags": []
   },
   "source": [
    "# Flat Map"
   ]
  },
  {
   "cell_type": "code",
   "execution_count": null,
   "id": "c9d94ca2-f3f0-4fa9-91ca-ee8fbce731b3",
   "metadata": {
    "tags": []
   },
   "outputs": [],
   "source": [
    "fn_170k = '/Users/uriel/disks/meso_shared/RetinoMaps/derivatives/pp_data/sub-02/170k/final_stats/results/sub-02_final-stats.dtseries.nii'\n",
    "results_170k = load_surface_pycortex(brain_fn=fn_170k)  \n",
    "data_170k = results_170k['data_concat']\n",
    "fake_data_170k = np.zeros_like(dadata_170kta[1,:])\n"
   ]
  },
  {
   "cell_type": "code",
   "execution_count": null,
   "id": "ea0f4cfb",
   "metadata": {},
   "outputs": [],
   "source": [
    "fn_fsnative_L = '/Users/uriel/disks/meso_shared/RetinoMaps/derivatives/pp_data/sub-03/fsnative/final_stats/results/sub-03_hemi-L_final-stats.func.gii'\n",
    "fn_fsnative_R = '/Users/uriel/disks/meso_shared/RetinoMaps/derivatives/pp_data/sub-03/fsnative/final_stats/results/sub-03_hemi-R_final-stats.func.gii'\n",
    "\n",
    "results_fsnative = load_surface_pycortex(L_fn=fn_fsnative_L, R_fn=fn_fsnative_R)\n",
    "data_fsnative = results_fsnative['data_concat']\n",
    "fake_data_fsnative = np.zeros_like(data_fsnative[1,:])\n"
   ]
  },
  {
   "cell_type": "code",
   "execution_count": null,
   "id": "b121911c-5b11-428e-8f0f-ba239ca7a430",
   "metadata": {
    "tags": []
   },
   "outputs": [],
   "source": [
    "param = {'subject':subject,'xfmname':None,'data': data_fsnative[1,:], 'cmap': 'stats_colors', 'alpha': fake_data_fsnative, \n",
    "             'vmin': 0, 'vmax': 1, 'cbar': None, 'cmap_steps': 255,\n",
    "             'cortex_type': 'VertexRGB','description': 'final map','with_borders':False,\n",
    "             'curv_brightness': 0.1, 'curv_contrast': 0.25, 'add_roi': False,\n",
    "             'cbar_label': '', 'with_labels': False}\n",
    "\n",
    "\n",
    "\n",
    "a = draw_cortex(**param)\n",
    "plt.savefig('/Users/uriel/Downloads/fsnative_flat.pdf')"
   ]
  },
  {
   "cell_type": "markdown",
   "id": "940dff0a-d13b-4d04-9782-b47bd03bb351",
   "metadata": {
    "tags": []
   },
   "source": [
    "# pRF prediction bold"
   ]
  },
  {
   "cell_type": "code",
   "execution_count": 6,
   "id": "e610f86b-44f3-40c5-9723-2b6fb30f1ebd",
   "metadata": {
    "tags": []
   },
   "outputs": [],
   "source": [
    "bold_dir = '{}/{}/derivatives/pp_data/{}/{}/func/fmriprep_dct_loo_avg'.format(main_dir, project_dir,subject,format_)\n",
    "bold_fn = '{}/{}_task-pRF_hemi-L_fmriprep_dct_avg_loo-1_bold.func.gii'.format(bold_dir, subject)\n",
    "bold_img,bold_data = load_surface(fn = bold_fn)"
   ]
  },
  {
   "cell_type": "code",
   "execution_count": 9,
   "id": "4c28de2f",
   "metadata": {
    "tags": []
   },
   "outputs": [],
   "source": [
    "prf_dir ='{}/{}/derivatives/pp_data/{}/{}/prf/fit/'.format(main_dir, project_dir,subject,format_)\n",
    "prf_pred_fn = '{}/{}_task-pRF_hemi-L_fmriprep_dct_avg_loo-1_prf-pred_css.func.gii'.format(prf_dir, subject)\n",
    "prf_pred_img, prf_pred_data = load_surface(fn = prf_pred_fn)"
   ]
  },
  {
   "cell_type": "code",
   "execution_count": 22,
   "id": "43ba31d8-6e38-4c05-a6c4-f53f8d2a8729",
   "metadata": {
    "tags": []
   },
   "outputs": [],
   "source": [
    "x_idx, y_idx, size_idx, r2_idx = 0,1,2,8\n",
    "prf_fit_fn = '{}/{}_task-pRF_hemi-L_fmriprep_dct_avg_loo-1_prf-fit_css.func.gii'.format(prf_dir, subject)\n",
    "prf_fit_img, prf_fit_data = load_surface(fn = prf_fit_fn)"
   ]
  },
  {
   "cell_type": "code",
   "execution_count": 15,
   "id": "75cd2ed5-557b-423b-b8db-5f46cb77c307",
   "metadata": {
    "tags": []
   },
   "outputs": [
    {
     "data": {
      "text/plain": [
       "(10, 143728)"
      ]
     },
     "execution_count": 15,
     "metadata": {},
     "output_type": "execute_result"
    }
   ],
   "source": [
    "prf_fit_data.shape"
   ]
  },
  {
   "cell_type": "code",
   "execution_count": 16,
   "id": "fdd1bff2-da44-41f8-bd91-4fec7ef9129a",
   "metadata": {
    "tags": []
   },
   "outputs": [
    {
     "data": {
      "text/plain": [
       "(['prf_rsq',\n",
       "  'prf_ecc',\n",
       "  'polar_real',\n",
       "  'polar_imag',\n",
       "  'prf_size',\n",
       "  'amplitude',\n",
       "  'baseline',\n",
       "  'prf_x',\n",
       "  'prf_y',\n",
       "  'hrf_1',\n",
       "  'hrf_2',\n",
       "  'prf_n',\n",
       "  'prf_loo_r2'],)"
      ]
     },
     "execution_count": 16,
     "metadata": {},
     "output_type": "execute_result"
    }
   ],
   "source": [
    "[\"prf_rsq\", \"prf_ecc\", \"polar_real\", \"polar_imag\", \"prf_size\", \"amplitude\", \"baseline\", \"prf_x\", \"prf_y\", \"hrf_1\", \"hrf_2\", \"prf_n\", \"prf_loo_r2\"],"
   ]
  },
  {
   "cell_type": "code",
   "execution_count": 23,
   "id": "d0bfe4b5-cf53-4114-9971-8d693bf7a429",
   "metadata": {
    "tags": []
   },
   "outputs": [
    {
     "data": {
      "application/vnd.plotly.v1+json": {
       "config": {
        "plotlyServerURL": "https://plot.ly"
       },
       "data": [
        {
         "line": {
          "color": "black"
         },
         "mode": "markers",
         "name": "data",
         "type": "scatter",
         "y": [
          -0.42142894864082336,
          -0.3656173646450043,
          -0.39722153544425964,
          -0.33458155393600464,
          -0.942859947681427,
          -0.638827919960022,
          -0.9883320927619934,
          -0.9119776487350464,
          -0.37907809019088745,
          -0.5059282183647156,
          -0.4813900291919708,
          0.1724615842103958,
          0.013191105797886848,
          0.003459429368376732,
          -0.05696118623018265,
          0.04162720590829849,
          -0.02266080118715763,
          0.041275426745414734,
          0.06862623989582062,
          0.20130178332328796,
          -0.1926780641078949,
          -0.25102922320365906,
          -0.37711215019226074,
          -0.3067038059234619,
          0.0837598666548729,
          0.3696068525314331,
          0.4462495744228363,
          0.6861975789070129,
          1.0852805376052856,
          1.635733962059021,
          2.0600874423980713,
          2.4517245292663574,
          2.649670124053955,
          2.761563777923584,
          2.0380396842956543,
          1.1329782009124756,
          0.06581777334213257,
          -0.3129711151123047,
          -0.41119009256362915,
          -0.7382984757423401,
          -0.7208369374275208,
          -1.0450446605682373,
          -0.8463723659515381,
          -1.078895092010498,
          -0.6992015242576599,
          -1.043025255203247,
          -0.6644237637519836,
          -0.40837544202804565,
          -0.17613956332206726,
          -0.10728053748607635,
          -0.3597358167171478,
          -0.026008911430835724,
          -0.13702866435050964,
          -0.2964092493057251,
          0.17580987513065338,
          -0.1811293363571167,
          -0.2566168010234833,
          -0.6316930651664734,
          -0.6914744973182678,
          -0.714148998260498,
          -0.21662382781505585,
          -0.13744309544563293,
          0.11830729991197586,
          -0.3642917275428772,
          0.11197398602962494,
          -0.17793259024620056,
          -0.42541825771331787,
          -0.5327601432800293,
          -0.4177058935165405,
          -0.5775991082191467,
          -0.5433319807052612,
          -0.38082394003868103,
          -0.08524959534406662,
          -0.1507703959941864,
          -0.1440780609846115,
          -0.11030399799346924,
          -0.3400382995605469,
          -0.3520985543727875,
          -0.5970329642295837,
          -0.44248002767562866,
          -0.048673246055841446,
          0.724382221698761,
          1.413695216178894,
          1.9167251586914062,
          2.3692357540130615,
          2.775869369506836,
          2.509350061416626,
          2.0002973079681396,
          1.191504716873169,
          -0.16625702381134033,
          -1.2751251459121704,
          -1.2157443761825562,
          -0.7662431597709656,
          -0.8119562864303589,
          -0.9085522890090942,
          -0.8086655139923096,
          -0.8544195890426636,
          -0.960822582244873,
          -0.2853413224220276,
          -0.12026304751634598,
          0.3168025314807892,
          0.09712328016757965,
          0.07733430713415146,
          0.31146809458732605,
          0.19988036155700684,
          -0.0050486004911363125,
          -0.2036357969045639,
          -0.28453582525253296,
          -0.26574957370758057,
          -0.2808018624782562,
          -0.2867059111595154,
          -0.16139057278633118,
          -0.21632666885852814,
          -0.01968190260231495,
          0.20587387681007385,
          0.10377039015293121,
          0.08702315390110016,
          -0.22970011830329895,
          -0.29888105392456055,
          -0.13380056619644165,
          -0.32916003465652466,
          -0.2226148247718811,
          -0.34168463945388794,
          -0.2940266728401184,
          -0.6916056275367737,
          -0.45020434260368347,
          -0.6073735356330872,
          -0.5909591317176819,
          -0.5987218618392944,
          -0.6275532245635986,
          -0.3613935708999634,
          0.3425978720188141,
          1.1036372184753418,
          1.6329792737960815,
          2.0401275157928467,
          2.6155617237091064,
          2.8783950805664062,
          2.3851466178894043,
          1.8897722959518433,
          0.7027699947357178,
          -0.7531580328941345,
          -1.2048883438110352,
          -0.8329434394836426,
          -0.943711519241333,
          -1.0028200149536133,
          -0.8219914436340332,
          -0.8189976215362549,
          -0.5799301266670227,
          -0.046821229159832,
          -0.21735139191150665,
          -0.38923728466033936,
          -0.43566378951072693,
          -0.7130747437477112,
          -0.6442932486534119,
          -0.48242050409317017,
          -0.6442359685897827,
          0.007215907797217369,
          -0.5245702862739563,
          -0.2854366600513458,
          -0.3727281093597412,
          -0.05103675276041031,
          -0.4325844943523407,
          -0.5104816555976868,
          -0.3755740523338318,
          -0.15406572818756104,
          -0.1683049499988556,
          -0.17340229451656342,
          -0.16621710360050201,
          -0.19810765981674194,
          -0.7174847722053528,
          -0.5750577449798584,
          -0.5775575637817383,
          -0.13333521783351898,
          -0.10521280020475388,
          0.11337202042341232,
          0.9465436935424805,
          1.2820355892181396,
          2.1715762615203857,
          2.270338296890259,
          2.6601052284240723,
          2.6522881984710693,
          1.9148871898651123,
          0.3602147698402405,
          -0.6908703446388245,
          -0.9906459450721741,
          -0.9948301911354065,
          -0.5416020750999451,
          -0.869330883026123,
          -0.7512756586074829,
          -0.8284522891044617,
          -0.2484433650970459,
          -0.5067529082298279,
          -0.11304573714733124,
          0.030134186148643494,
          0.07485487312078476,
          -0.21276214718818665,
          -0.21362271904945374,
          -0.04487540200352669,
          -0.1185673400759697,
          -0.11016174405813217,
          0.14546194672584534,
          0.08593344688415527,
          0.18509650230407715,
          0.06358681619167328,
          0.08641324937343597,
          -0.3416455388069153,
          -0.6149343848228455,
          -0.27117985486984253
         ]
        },
        {
         "name": "pRF",
         "type": "scatter",
         "y": [
          -0.26316967606544495,
          -0.26281604170799255,
          -0.26257213950157166,
          -0.2624143064022064,
          -0.26231735944747925,
          -0.262260377407074,
          -0.2622281014919281,
          -0.2622104287147522,
          -0.2622010409832001,
          -0.2621961832046509,
          -0.2621937096118927,
          -0.2621924579143524,
          -0.26219186186790466,
          -0.26219186186790466,
          -0.26219186186790466,
          -0.2621918320655823,
          -0.26219186186790466,
          -0.26219186186790466,
          -0.26219186186790466,
          -0.26219186186790466,
          -0.26219186186790466,
          -0.2621914744377136,
          -0.26217177510261536,
          -0.26158735156059265,
          -0.2525557577610016,
          -0.22649894654750824,
          -0.16826555132865906,
          0.032234832644462585,
          0.48833298683166504,
          1.193269968032837,
          1.9766895771026611,
          2.56571888923645,
          2.7159745693206787,
          2.330590009689331,
          1.609850287437439,
          0.9230466485023499,
          0.22891156375408173,
          -0.43159767985343933,
          -0.8748419284820557,
          -1.0310205221176147,
          -0.9793267250061035,
          -0.8364970684051514,
          -0.6806405186653137,
          -0.5447214245796204,
          -0.43683797121047974,
          -0.3563863933086395,
          -0.30056077241897583,
          -0.26562467217445374,
          -0.24703986942768097,
          -0.2399343103170395,
          -0.23982733488082886,
          -0.24319365620613098,
          -0.2476625144481659,
          -0.2519000768661499,
          -0.2553313672542572,
          -0.25784412026405334,
          -0.2595535218715668,
          -0.2606508731842041,
          -0.261322557926178,
          -0.26171746850013733,
          -0.26194170117378235,
          -0.26206499338150024,
          -0.2621305584907532,
          -0.2621639370918274,
          -0.262179970741272,
          -0.2621879279613495,
          -0.26219093799591064,
          -0.2621917128562927,
          -0.2621918320655823,
          -0.26219186186790466,
          -0.26219186186790466,
          -0.26219186186790466,
          -0.26219186186790466,
          -0.26219189167022705,
          -0.26219186186790466,
          -0.26219072937965393,
          -0.262140154838562,
          -0.26085177063941956,
          -0.24475684762001038,
          -0.1552189290523529,
          0.11841539293527603,
          0.6550582647323608,
          1.4082361459732056,
          2.1951470375061035,
          2.7479329109191895,
          2.869208812713623,
          2.591191053390503,
          1.955434799194336,
          1.0567593574523926,
          0.10905542969703674,
          -0.6398699283599854,
          -1.0455918312072754,
          -1.132999062538147,
          -1.0310912132263184,
          -0.8620977997779846,
          -0.6934504508972168,
          -0.5496438145637512,
          -0.4358983635902405,
          -0.35155487060546875,
          -0.2940264642238617,
          -0.2592177391052246,
          -0.24183902144432068,
          -0.23627980053424835,
          -0.2375705987215042,
          -0.24197569489479065,
          -0.24710945785045624,
          -0.25171715021133423,
          -0.25532373785972595,
          -0.257900595664978,
          -0.2596200406551361,
          -0.26070636510849,
          -0.26136231422424316,
          -0.2617434859275818,
          -0.26195767521858215,
          -0.26207438111305237,
          -0.2621358036994934,
          -0.26216721534729004,
          -0.262182354927063,
          -0.2621888816356659,
          -0.2621912360191345,
          -0.2621918022632599,
          -0.26219186186790466,
          -0.26219186186790466,
          -0.26219186186790466,
          -0.26219186186790466,
          -0.26219162344932556,
          -0.26217859983444214,
          -0.26176607608795166,
          -0.2548278272151947,
          -0.20838865637779236,
          -0.029558807611465454,
          0.4033648669719696,
          0.9996963739395142,
          1.499174952507019,
          1.9996190071105957,
          2.4510204792022705,
          2.607254981994629,
          2.2885377407073975,
          1.530993103981018,
          0.5673700571060181,
          -0.30241602659225464,
          -0.8560338020324707,
          -1.0499225854873657,
          -1.018386960029602,
          -0.8908976316452026,
          -0.7401317954063416,
          -0.5988826155662537,
          -0.47968488931655884,
          -0.3864753842353821,
          -0.3193109631538391,
          -0.27568069100379944,
          -0.2511877715587616,
          -0.24053943157196045,
          -0.23863470554351807,
          -0.24134162068367004,
          -0.24579840898513794,
          -0.2503252625465393,
          -0.2541337013244629,
          -0.25699907541275024,
          -0.25899139046669006,
          -0.26029470562934875,
          -0.26110610365867615,
          -0.2615906298160553,
          -0.2618688941001892,
          -0.262024462223053,
          -0.2621089518070221,
          -0.26215335726737976,
          -0.2621755003929138,
          -0.26218098402023315,
          -0.26201218366622925,
          -0.2614637613296509,
          -0.257942795753479,
          -0.2256096452474594,
          -0.08278751373291016,
          0.28279832005500793,
          0.9123597741127014,
          1.6965805292129517,
          2.3903145790100098,
          2.7825868129730225,
          2.828827142715454,
          2.458221673965454,
          1.693479299545288,
          0.7194404006004333,
          -0.1975511759519577,
          -0.8339917659759521,
          -1.112601399421692,
          -1.113843560218811,
          -0.9758191108703613,
          -0.8016162514686584,
          -0.6400625109672546,
          -0.5064071416854858,
          -0.4029313325881958,
          -0.32820695638656616,
          -0.2791363596916199,
          -0.2511148154735565,
          -0.23858265578746796,
          -0.23602086305618286,
          -0.23882882297039032,
          -0.24374498426914215,
          -0.24881762266159058,
          -0.2531123161315918,
          -0.2563505470752716,
          -0.25860148668289185,
          -0.2600710391998291,
          -0.2609829008579254,
          -0.26152512431144714,
          -0.26183605194091797,
          -0.2620086073875427
         ]
        }
       ],
       "layout": {
        "annotations": [
         {
          "showarrow": false,
          "text": "R<sup>2</sup>=0.90",
          "x": 198,
          "y": 4
         }
        ],
        "autosize": true,
        "showlegend": true,
        "template": {
         "data": {
          "bar": [
           {
            "error_x": {
             "color": "rgb(36,36,36)"
            },
            "error_y": {
             "color": "rgb(36,36,36)"
            },
            "marker": {
             "line": {
              "color": "white",
              "width": 0.5
             },
             "pattern": {
              "fillmode": "overlay",
              "size": 10,
              "solidity": 0.2
             }
            },
            "type": "bar"
           }
          ],
          "barpolar": [
           {
            "marker": {
             "line": {
              "color": "white",
              "width": 0.5
             },
             "pattern": {
              "fillmode": "overlay",
              "size": 10,
              "solidity": 0.2
             }
            },
            "type": "barpolar"
           }
          ],
          "carpet": [
           {
            "aaxis": {
             "endlinecolor": "rgb(36,36,36)",
             "gridcolor": "white",
             "linecolor": "white",
             "minorgridcolor": "white",
             "startlinecolor": "rgb(36,36,36)"
            },
            "baxis": {
             "endlinecolor": "rgb(36,36,36)",
             "gridcolor": "white",
             "linecolor": "white",
             "minorgridcolor": "white",
             "startlinecolor": "rgb(36,36,36)"
            },
            "type": "carpet"
           }
          ],
          "choropleth": [
           {
            "colorbar": {
             "outlinewidth": 1,
             "tickcolor": "rgb(36,36,36)",
             "ticks": "outside"
            },
            "type": "choropleth"
           }
          ],
          "contour": [
           {
            "colorbar": {
             "outlinewidth": 1,
             "tickcolor": "rgb(36,36,36)",
             "ticks": "outside"
            },
            "colorscale": [
             [
              0,
              "#440154"
             ],
             [
              0.1111111111111111,
              "#482878"
             ],
             [
              0.2222222222222222,
              "#3e4989"
             ],
             [
              0.3333333333333333,
              "#31688e"
             ],
             [
              0.4444444444444444,
              "#26828e"
             ],
             [
              0.5555555555555556,
              "#1f9e89"
             ],
             [
              0.6666666666666666,
              "#35b779"
             ],
             [
              0.7777777777777778,
              "#6ece58"
             ],
             [
              0.8888888888888888,
              "#b5de2b"
             ],
             [
              1,
              "#fde725"
             ]
            ],
            "type": "contour"
           }
          ],
          "contourcarpet": [
           {
            "colorbar": {
             "outlinewidth": 1,
             "tickcolor": "rgb(36,36,36)",
             "ticks": "outside"
            },
            "type": "contourcarpet"
           }
          ],
          "heatmap": [
           {
            "colorbar": {
             "outlinewidth": 1,
             "tickcolor": "rgb(36,36,36)",
             "ticks": "outside"
            },
            "colorscale": [
             [
              0,
              "#440154"
             ],
             [
              0.1111111111111111,
              "#482878"
             ],
             [
              0.2222222222222222,
              "#3e4989"
             ],
             [
              0.3333333333333333,
              "#31688e"
             ],
             [
              0.4444444444444444,
              "#26828e"
             ],
             [
              0.5555555555555556,
              "#1f9e89"
             ],
             [
              0.6666666666666666,
              "#35b779"
             ],
             [
              0.7777777777777778,
              "#6ece58"
             ],
             [
              0.8888888888888888,
              "#b5de2b"
             ],
             [
              1,
              "#fde725"
             ]
            ],
            "type": "heatmap"
           }
          ],
          "heatmapgl": [
           {
            "colorbar": {
             "outlinewidth": 1,
             "tickcolor": "rgb(36,36,36)",
             "ticks": "outside"
            },
            "colorscale": [
             [
              0,
              "#440154"
             ],
             [
              0.1111111111111111,
              "#482878"
             ],
             [
              0.2222222222222222,
              "#3e4989"
             ],
             [
              0.3333333333333333,
              "#31688e"
             ],
             [
              0.4444444444444444,
              "#26828e"
             ],
             [
              0.5555555555555556,
              "#1f9e89"
             ],
             [
              0.6666666666666666,
              "#35b779"
             ],
             [
              0.7777777777777778,
              "#6ece58"
             ],
             [
              0.8888888888888888,
              "#b5de2b"
             ],
             [
              1,
              "#fde725"
             ]
            ],
            "type": "heatmapgl"
           }
          ],
          "histogram": [
           {
            "marker": {
             "line": {
              "color": "white",
              "width": 0.6
             }
            },
            "type": "histogram"
           }
          ],
          "histogram2d": [
           {
            "colorbar": {
             "outlinewidth": 1,
             "tickcolor": "rgb(36,36,36)",
             "ticks": "outside"
            },
            "colorscale": [
             [
              0,
              "#440154"
             ],
             [
              0.1111111111111111,
              "#482878"
             ],
             [
              0.2222222222222222,
              "#3e4989"
             ],
             [
              0.3333333333333333,
              "#31688e"
             ],
             [
              0.4444444444444444,
              "#26828e"
             ],
             [
              0.5555555555555556,
              "#1f9e89"
             ],
             [
              0.6666666666666666,
              "#35b779"
             ],
             [
              0.7777777777777778,
              "#6ece58"
             ],
             [
              0.8888888888888888,
              "#b5de2b"
             ],
             [
              1,
              "#fde725"
             ]
            ],
            "type": "histogram2d"
           }
          ],
          "histogram2dcontour": [
           {
            "colorbar": {
             "outlinewidth": 1,
             "tickcolor": "rgb(36,36,36)",
             "ticks": "outside"
            },
            "colorscale": [
             [
              0,
              "#440154"
             ],
             [
              0.1111111111111111,
              "#482878"
             ],
             [
              0.2222222222222222,
              "#3e4989"
             ],
             [
              0.3333333333333333,
              "#31688e"
             ],
             [
              0.4444444444444444,
              "#26828e"
             ],
             [
              0.5555555555555556,
              "#1f9e89"
             ],
             [
              0.6666666666666666,
              "#35b779"
             ],
             [
              0.7777777777777778,
              "#6ece58"
             ],
             [
              0.8888888888888888,
              "#b5de2b"
             ],
             [
              1,
              "#fde725"
             ]
            ],
            "type": "histogram2dcontour"
           }
          ],
          "mesh3d": [
           {
            "colorbar": {
             "outlinewidth": 1,
             "tickcolor": "rgb(36,36,36)",
             "ticks": "outside"
            },
            "type": "mesh3d"
           }
          ],
          "parcoords": [
           {
            "line": {
             "colorbar": {
              "outlinewidth": 1,
              "tickcolor": "rgb(36,36,36)",
              "ticks": "outside"
             }
            },
            "type": "parcoords"
           }
          ],
          "pie": [
           {
            "automargin": true,
            "type": "pie"
           }
          ],
          "scatter": [
           {
            "fillpattern": {
             "fillmode": "overlay",
             "size": 10,
             "solidity": 0.2
            },
            "type": "scatter"
           }
          ],
          "scatter3d": [
           {
            "line": {
             "colorbar": {
              "outlinewidth": 1,
              "tickcolor": "rgb(36,36,36)",
              "ticks": "outside"
             }
            },
            "marker": {
             "colorbar": {
              "outlinewidth": 1,
              "tickcolor": "rgb(36,36,36)",
              "ticks": "outside"
             }
            },
            "type": "scatter3d"
           }
          ],
          "scattercarpet": [
           {
            "marker": {
             "colorbar": {
              "outlinewidth": 1,
              "tickcolor": "rgb(36,36,36)",
              "ticks": "outside"
             }
            },
            "type": "scattercarpet"
           }
          ],
          "scattergeo": [
           {
            "marker": {
             "colorbar": {
              "outlinewidth": 1,
              "tickcolor": "rgb(36,36,36)",
              "ticks": "outside"
             }
            },
            "type": "scattergeo"
           }
          ],
          "scattergl": [
           {
            "marker": {
             "colorbar": {
              "outlinewidth": 1,
              "tickcolor": "rgb(36,36,36)",
              "ticks": "outside"
             }
            },
            "type": "scattergl"
           }
          ],
          "scattermapbox": [
           {
            "marker": {
             "colorbar": {
              "outlinewidth": 1,
              "tickcolor": "rgb(36,36,36)",
              "ticks": "outside"
             }
            },
            "type": "scattermapbox"
           }
          ],
          "scatterpolar": [
           {
            "marker": {
             "colorbar": {
              "outlinewidth": 1,
              "tickcolor": "rgb(36,36,36)",
              "ticks": "outside"
             }
            },
            "type": "scatterpolar"
           }
          ],
          "scatterpolargl": [
           {
            "marker": {
             "colorbar": {
              "outlinewidth": 1,
              "tickcolor": "rgb(36,36,36)",
              "ticks": "outside"
             }
            },
            "type": "scatterpolargl"
           }
          ],
          "scatterternary": [
           {
            "marker": {
             "colorbar": {
              "outlinewidth": 1,
              "tickcolor": "rgb(36,36,36)",
              "ticks": "outside"
             }
            },
            "type": "scatterternary"
           }
          ],
          "surface": [
           {
            "colorbar": {
             "outlinewidth": 1,
             "tickcolor": "rgb(36,36,36)",
             "ticks": "outside"
            },
            "colorscale": [
             [
              0,
              "#440154"
             ],
             [
              0.1111111111111111,
              "#482878"
             ],
             [
              0.2222222222222222,
              "#3e4989"
             ],
             [
              0.3333333333333333,
              "#31688e"
             ],
             [
              0.4444444444444444,
              "#26828e"
             ],
             [
              0.5555555555555556,
              "#1f9e89"
             ],
             [
              0.6666666666666666,
              "#35b779"
             ],
             [
              0.7777777777777778,
              "#6ece58"
             ],
             [
              0.8888888888888888,
              "#b5de2b"
             ],
             [
              1,
              "#fde725"
             ]
            ],
            "type": "surface"
           }
          ],
          "table": [
           {
            "cells": {
             "fill": {
              "color": "rgb(237,237,237)"
             },
             "line": {
              "color": "white"
             }
            },
            "header": {
             "fill": {
              "color": "rgb(217,217,217)"
             },
             "line": {
              "color": "white"
             }
            },
            "type": "table"
           }
          ]
         },
         "layout": {
          "annotationdefaults": {
           "arrowhead": 0,
           "arrowwidth": 1
          },
          "autotypenumbers": "strict",
          "coloraxis": {
           "colorbar": {
            "outlinewidth": 1,
            "tickcolor": "rgb(36,36,36)",
            "ticks": "outside"
           }
          },
          "colorscale": {
           "diverging": [
            [
             0,
             "rgb(103,0,31)"
            ],
            [
             0.1,
             "rgb(178,24,43)"
            ],
            [
             0.2,
             "rgb(214,96,77)"
            ],
            [
             0.3,
             "rgb(244,165,130)"
            ],
            [
             0.4,
             "rgb(253,219,199)"
            ],
            [
             0.5,
             "rgb(247,247,247)"
            ],
            [
             0.6,
             "rgb(209,229,240)"
            ],
            [
             0.7,
             "rgb(146,197,222)"
            ],
            [
             0.8,
             "rgb(67,147,195)"
            ],
            [
             0.9,
             "rgb(33,102,172)"
            ],
            [
             1,
             "rgb(5,48,97)"
            ]
           ],
           "sequential": [
            [
             0,
             "#440154"
            ],
            [
             0.1111111111111111,
             "#482878"
            ],
            [
             0.2222222222222222,
             "#3e4989"
            ],
            [
             0.3333333333333333,
             "#31688e"
            ],
            [
             0.4444444444444444,
             "#26828e"
            ],
            [
             0.5555555555555556,
             "#1f9e89"
            ],
            [
             0.6666666666666666,
             "#35b779"
            ],
            [
             0.7777777777777778,
             "#6ece58"
            ],
            [
             0.8888888888888888,
             "#b5de2b"
            ],
            [
             1,
             "#fde725"
            ]
           ],
           "sequentialminus": [
            [
             0,
             "#440154"
            ],
            [
             0.1111111111111111,
             "#482878"
            ],
            [
             0.2222222222222222,
             "#3e4989"
            ],
            [
             0.3333333333333333,
             "#31688e"
            ],
            [
             0.4444444444444444,
             "#26828e"
            ],
            [
             0.5555555555555556,
             "#1f9e89"
            ],
            [
             0.6666666666666666,
             "#35b779"
            ],
            [
             0.7777777777777778,
             "#6ece58"
            ],
            [
             0.8888888888888888,
             "#b5de2b"
            ],
            [
             1,
             "#fde725"
            ]
           ]
          },
          "colorway": [
           "#1F77B4",
           "#FF7F0E",
           "#2CA02C",
           "#D62728",
           "#9467BD",
           "#8C564B",
           "#E377C2",
           "#7F7F7F",
           "#BCBD22",
           "#17BECF"
          ],
          "font": {
           "color": "rgb(36,36,36)"
          },
          "geo": {
           "bgcolor": "white",
           "lakecolor": "white",
           "landcolor": "white",
           "showlakes": true,
           "showland": true,
           "subunitcolor": "white"
          },
          "hoverlabel": {
           "align": "left"
          },
          "hovermode": "closest",
          "mapbox": {
           "style": "light"
          },
          "paper_bgcolor": "white",
          "plot_bgcolor": "white",
          "polar": {
           "angularaxis": {
            "gridcolor": "rgb(232,232,232)",
            "linecolor": "rgb(36,36,36)",
            "showgrid": false,
            "showline": true,
            "ticks": "outside"
           },
           "bgcolor": "white",
           "radialaxis": {
            "gridcolor": "rgb(232,232,232)",
            "linecolor": "rgb(36,36,36)",
            "showgrid": false,
            "showline": true,
            "ticks": "outside"
           }
          },
          "scene": {
           "xaxis": {
            "backgroundcolor": "white",
            "gridcolor": "rgb(232,232,232)",
            "gridwidth": 2,
            "linecolor": "rgb(36,36,36)",
            "showbackground": true,
            "showgrid": false,
            "showline": true,
            "ticks": "outside",
            "zeroline": false,
            "zerolinecolor": "rgb(36,36,36)"
           },
           "yaxis": {
            "backgroundcolor": "white",
            "gridcolor": "rgb(232,232,232)",
            "gridwidth": 2,
            "linecolor": "rgb(36,36,36)",
            "showbackground": true,
            "showgrid": false,
            "showline": true,
            "ticks": "outside",
            "zeroline": false,
            "zerolinecolor": "rgb(36,36,36)"
           },
           "zaxis": {
            "backgroundcolor": "white",
            "gridcolor": "rgb(232,232,232)",
            "gridwidth": 2,
            "linecolor": "rgb(36,36,36)",
            "showbackground": true,
            "showgrid": false,
            "showline": true,
            "ticks": "outside",
            "zeroline": false,
            "zerolinecolor": "rgb(36,36,36)"
           }
          },
          "shapedefaults": {
           "fillcolor": "black",
           "line": {
            "width": 0
           },
           "opacity": 0.3
          },
          "ternary": {
           "aaxis": {
            "gridcolor": "rgb(232,232,232)",
            "linecolor": "rgb(36,36,36)",
            "showgrid": false,
            "showline": true,
            "ticks": "outside"
           },
           "baxis": {
            "gridcolor": "rgb(232,232,232)",
            "linecolor": "rgb(36,36,36)",
            "showgrid": false,
            "showline": true,
            "ticks": "outside"
           },
           "bgcolor": "white",
           "caxis": {
            "gridcolor": "rgb(232,232,232)",
            "linecolor": "rgb(36,36,36)",
            "showgrid": false,
            "showline": true,
            "ticks": "outside"
           }
          },
          "title": {
           "x": 0.05
          },
          "xaxis": {
           "automargin": true,
           "gridcolor": "rgb(232,232,232)",
           "linecolor": "rgb(36,36,36)",
           "showgrid": false,
           "showline": true,
           "ticks": "outside",
           "title": {
            "standoff": 15
           },
           "zeroline": false,
           "zerolinecolor": "rgb(36,36,36)"
          },
          "yaxis": {
           "automargin": true,
           "gridcolor": "rgb(232,232,232)",
           "linecolor": "rgb(36,36,36)",
           "showgrid": false,
           "showline": true,
           "ticks": "outside",
           "title": {
            "standoff": 15
           },
           "zeroline": false,
           "zerolinecolor": "rgb(36,36,36)"
          }
         }
        },
        "xaxis": {
         "range": [
          0,
          208
         ],
         "title": {
          "text": "TRs"
         }
        },
        "yaxis": {
         "range": [
          -4,
          4
         ],
         "title": {
          "standoff": 0,
          "text": "z-score"
         },
         "type": "linear"
        }
       }
      },
      "image/png": "[encoded data removed]",
      "text/html": [
       "<div>                            <div id=\"32eef42b-71a6-4292-91d8-e57d4e91f0f8\" class=\"plotly-graph-div\" style=\"height:350px; width:100%;\"></div>            <script type=\"text/javascript\">                require([\"plotly\"], function(Plotly) {                    window.PLOTLYENV=window.PLOTLYENV || {};                                    if (document.getElementById(\"32eef42b-71a6-4292-91d8-e57d4e91f0f8\")) {                    Plotly.newPlot(                        \"32eef42b-71a6-4292-91d8-e57d4e91f0f8\",                        [{\"line\":{\"color\":\"black\"},\"mode\":\"markers\",\"name\":\"data\",\"y\":[-0.42142894864082336,-0.3656173646450043,-0.39722153544425964,-0.33458155393600464,-0.942859947681427,-0.638827919960022,-0.9883320927619934,-0.9119776487350464,-0.37907809019088745,-0.5059282183647156,-0.4813900291919708,0.1724615842103958,0.013191105797886848,0.003459429368376732,-0.05696118623018265,0.04162720590829849,-0.02266080118715763,0.041275426745414734,0.06862623989582062,0.20130178332328796,-0.1926780641078949,-0.25102922320365906,-0.37711215019226074,-0.3067038059234619,0.0837598666548729,0.3696068525314331,0.4462495744228363,0.6861975789070129,1.0852805376052856,1.635733962059021,2.0600874423980713,2.4517245292663574,2.649670124053955,2.761563777923584,2.0380396842956543,1.1329782009124756,0.06581777334213257,-0.3129711151123047,-0.41119009256362915,-0.7382984757423401,-0.7208369374275208,-1.0450446605682373,-0.8463723659515381,-1.078895092010498,-0.6992015242576599,-1.043025255203247,-0.6644237637519836,-0.40837544202804565,-0.17613956332206726,-0.10728053748607635,-0.3597358167171478,-0.026008911430835724,-0.13702866435050964,-0.2964092493057251,0.17580987513065338,-0.1811293363571167,-0.2566168010234833,-0.6316930651664734,-0.6914744973182678,-0.714148998260498,-0.21662382781505585,-0.13744309544563293,0.11830729991197586,-0.3642917275428772,0.11197398602962494,-0.17793259024620056,-0.42541825771331787,-0.5327601432800293,-0.4177058935165405,-0.5775991082191467,-0.5433319807052612,-0.38082394003868103,-0.08524959534406662,-0.1507703959941864,-0.1440780609846115,-0.11030399799346924,-0.3400382995605469,-0.3520985543727875,-0.5970329642295837,-0.44248002767562866,-0.048673246055841446,0.724382221698761,1.413695216178894,1.9167251586914062,2.3692357540130615,2.775869369506836,2.509350061416626,2.0002973079681396,1.191504716873169,-0.16625702381134033,-1.2751251459121704,-1.2157443761825562,-0.7662431597709656,-0.8119562864303589,-0.9085522890090942,-0.8086655139923096,-0.8544195890426636,-0.960822582244873,-0.2853413224220276,-0.12026304751634598,0.3168025314807892,0.09712328016757965,0.07733430713415146,0.31146809458732605,0.19988036155700684,-0.0050486004911363125,-0.2036357969045639,-0.28453582525253296,-0.26574957370758057,-0.2808018624782562,-0.2867059111595154,-0.16139057278633118,-0.21632666885852814,-0.01968190260231495,0.20587387681007385,0.10377039015293121,0.08702315390110016,-0.22970011830329895,-0.29888105392456055,-0.13380056619644165,-0.32916003465652466,-0.2226148247718811,-0.34168463945388794,-0.2940266728401184,-0.6916056275367737,-0.45020434260368347,-0.6073735356330872,-0.5909591317176819,-0.5987218618392944,-0.6275532245635986,-0.3613935708999634,0.3425978720188141,1.1036372184753418,1.6329792737960815,2.0401275157928467,2.6155617237091064,2.8783950805664062,2.3851466178894043,1.8897722959518433,0.7027699947357178,-0.7531580328941345,-1.2048883438110352,-0.8329434394836426,-0.943711519241333,-1.0028200149536133,-0.8219914436340332,-0.8189976215362549,-0.5799301266670227,-0.046821229159832,-0.21735139191150665,-0.38923728466033936,-0.43566378951072693,-0.7130747437477112,-0.6442932486534119,-0.48242050409317017,-0.6442359685897827,0.007215907797217369,-0.5245702862739563,-0.2854366600513458,-0.3727281093597412,-0.05103675276041031,-0.4325844943523407,-0.5104816555976868,-0.3755740523338318,-0.15406572818756104,-0.1683049499988556,-0.17340229451656342,-0.16621710360050201,-0.19810765981674194,-0.7174847722053528,-0.5750577449798584,-0.5775575637817383,-0.13333521783351898,-0.10521280020475388,0.11337202042341232,0.9465436935424805,1.2820355892181396,2.1715762615203857,2.270338296890259,2.6601052284240723,2.6522881984710693,1.9148871898651123,0.3602147698402405,-0.6908703446388245,-0.9906459450721741,-0.9948301911354065,-0.5416020750999451,-0.869330883026123,-0.7512756586074829,-0.8284522891044617,-0.2484433650970459,-0.5067529082298279,-0.11304573714733124,0.030134186148643494,0.07485487312078476,-0.21276214718818665,-0.21362271904945374,-0.04487540200352669,-0.1185673400759697,-0.11016174405813217,0.14546194672584534,0.08593344688415527,0.18509650230407715,0.06358681619167328,0.08641324937343597,-0.3416455388069153,-0.6149343848228455,-0.27117985486984253],\"type\":\"scatter\"},{\"name\":\"pRF\",\"y\":[-0.26316967606544495,-0.26281604170799255,-0.26257213950157166,-0.2624143064022064,-0.26231735944747925,-0.262260377407074,-0.2622281014919281,-0.2622104287147522,-0.2622010409832001,-0.2621961832046509,-0.2621937096118927,-0.2621924579143524,-0.26219186186790466,-0.26219186186790466,-0.26219186186790466,-0.2621918320655823,-0.26219186186790466,-0.26219186186790466,-0.26219186186790466,-0.26219186186790466,-0.26219186186790466,-0.2621914744377136,-0.26217177510261536,-0.26158735156059265,-0.2525557577610016,-0.22649894654750824,-0.16826555132865906,0.032234832644462585,0.48833298683166504,1.193269968032837,1.9766895771026611,2.56571888923645,2.7159745693206787,2.330590009689331,1.609850287437439,0.9230466485023499,0.22891156375408173,-0.43159767985343933,-0.8748419284820557,-1.0310205221176147,-0.9793267250061035,-0.8364970684051514,-0.6806405186653137,-0.5447214245796204,-0.43683797121047974,-0.3563863933086395,-0.30056077241897583,-0.26562467217445374,-0.24703986942768097,-0.2399343103170395,-0.23982733488082886,-0.24319365620613098,-0.2476625144481659,-0.2519000768661499,-0.2553313672542572,-0.25784412026405334,-0.2595535218715668,-0.2606508731842041,-0.261322557926178,-0.26171746850013733,-0.26194170117378235,-0.26206499338150024,-0.2621305584907532,-0.2621639370918274,-0.262179970741272,-0.2621879279613495,-0.26219093799591064,-0.2621917128562927,-0.2621918320655823,-0.26219186186790466,-0.26219186186790466,-0.26219186186790466,-0.26219186186790466,-0.26219189167022705,-0.26219186186790466,-0.26219072937965393,-0.262140154838562,-0.26085177063941956,-0.24475684762001038,-0.1552189290523529,0.11841539293527603,0.6550582647323608,1.4082361459732056,2.1951470375061035,2.7479329109191895,2.869208812713623,2.591191053390503,1.955434799194336,1.0567593574523926,0.10905542969703674,-0.6398699283599854,-1.0455918312072754,-1.132999062538147,-1.0310912132263184,-0.8620977997779846,-0.6934504508972168,-0.5496438145637512,-0.4358983635902405,-0.35155487060546875,-0.2940264642238617,-0.2592177391052246,-0.24183902144432068,-0.23627980053424835,-0.2375705987215042,-0.24197569489479065,-0.24710945785045624,-0.25171715021133423,-0.25532373785972595,-0.257900595664978,-0.2596200406551361,-0.26070636510849,-0.26136231422424316,-0.2617434859275818,-0.26195767521858215,-0.26207438111305237,-0.2621358036994934,-0.26216721534729004,-0.262182354927063,-0.2621888816356659,-0.2621912360191345,-0.2621918022632599,-0.26219186186790466,-0.26219186186790466,-0.26219186186790466,-0.26219186186790466,-0.26219162344932556,-0.26217859983444214,-0.26176607608795166,-0.2548278272151947,-0.20838865637779236,-0.029558807611465454,0.4033648669719696,0.9996963739395142,1.499174952507019,1.9996190071105957,2.4510204792022705,2.607254981994629,2.2885377407073975,1.530993103981018,0.5673700571060181,-0.30241602659225464,-0.8560338020324707,-1.0499225854873657,-1.018386960029602,-0.8908976316452026,-0.7401317954063416,-0.5988826155662537,-0.47968488931655884,-0.3864753842353821,-0.3193109631538391,-0.27568069100379944,-0.2511877715587616,-0.24053943157196045,-0.23863470554351807,-0.24134162068367004,-0.24579840898513794,-0.2503252625465393,-0.2541337013244629,-0.25699907541275024,-0.25899139046669006,-0.26029470562934875,-0.26110610365867615,-0.2615906298160553,-0.2618688941001892,-0.262024462223053,-0.2621089518070221,-0.26215335726737976,-0.2621755003929138,-0.26218098402023315,-0.26201218366622925,-0.2614637613296509,-0.257942795753479,-0.2256096452474594,-0.08278751373291016,0.28279832005500793,0.9123597741127014,1.6965805292129517,2.3903145790100098,2.7825868129730225,2.828827142715454,2.458221673965454,1.693479299545288,0.7194404006004333,-0.1975511759519577,-0.8339917659759521,-1.112601399421692,-1.113843560218811,-0.9758191108703613,-0.8016162514686584,-0.6400625109672546,-0.5064071416854858,-0.4029313325881958,-0.32820695638656616,-0.2791363596916199,-0.2511148154735565,-0.23858265578746796,-0.23602086305618286,-0.23882882297039032,-0.24374498426914215,-0.24881762266159058,-0.2531123161315918,-0.2563505470752716,-0.25860148668289185,-0.2600710391998291,-0.2609829008579254,-0.26152512431144714,-0.26183605194091797,-0.2620086073875427],\"type\":\"scatter\"}],                        {\"template\":{\"data\":{\"barpolar\":[{\"marker\":{\"line\":{\"color\":\"white\",\"width\":0.5},\"pattern\":{\"fillmode\":\"overlay\",\"size\":10,\"solidity\":0.2}},\"type\":\"barpolar\"}],\"bar\":[{\"error_x\":{\"color\":\"rgb(36,36,36)\"},\"error_y\":{\"color\":\"rgb(36,36,36)\"},\"marker\":{\"line\":{\"color\":\"white\",\"width\":0.5},\"pattern\":{\"fillmode\":\"overlay\",\"size\":10,\"solidity\":0.2}},\"type\":\"bar\"}],\"carpet\":[{\"aaxis\":{\"endlinecolor\":\"rgb(36,36,36)\",\"gridcolor\":\"white\",\"linecolor\":\"white\",\"minorgridcolor\":\"white\",\"startlinecolor\":\"rgb(36,36,36)\"},\"baxis\":{\"endlinecolor\":\"rgb(36,36,36)\",\"gridcolor\":\"white\",\"linecolor\":\"white\",\"minorgridcolor\":\"white\",\"startlinecolor\":\"rgb(36,36,36)\"},\"type\":\"carpet\"}],\"choropleth\":[{\"colorbar\":{\"outlinewidth\":1,\"tickcolor\":\"rgb(36,36,36)\",\"ticks\":\"outside\"},\"type\":\"choropleth\"}],\"contourcarpet\":[{\"colorbar\":{\"outlinewidth\":1,\"tickcolor\":\"rgb(36,36,36)\",\"ticks\":\"outside\"},\"type\":\"contourcarpet\"}],\"contour\":[{\"colorbar\":{\"outlinewidth\":1,\"tickcolor\":\"rgb(36,36,36)\",\"ticks\":\"outside\"},\"colorscale\":[[0.0,\"#440154\"],[0.1111111111111111,\"#482878\"],[0.2222222222222222,\"#3e4989\"],[0.3333333333333333,\"#31688e\"],[0.4444444444444444,\"#26828e\"],[0.5555555555555556,\"#1f9e89\"],[0.6666666666666666,\"#35b779\"],[0.7777777777777778,\"#6ece58\"],[0.8888888888888888,\"#b5de2b\"],[1.0,\"#fde725\"]],\"type\":\"contour\"}],\"heatmapgl\":[{\"colorbar\":{\"outlinewidth\":1,\"tickcolor\":\"rgb(36,36,36)\",\"ticks\":\"outside\"},\"colorscale\":[[0.0,\"#440154\"],[0.1111111111111111,\"#482878\"],[0.2222222222222222,\"#3e4989\"],[0.3333333333333333,\"#31688e\"],[0.4444444444444444,\"#26828e\"],[0.5555555555555556,\"#1f9e89\"],[0.6666666666666666,\"#35b779\"],[0.7777777777777778,\"#6ece58\"],[0.8888888888888888,\"#b5de2b\"],[1.0,\"#fde725\"]],\"type\":\"heatmapgl\"}],\"heatmap\":[{\"colorbar\":{\"outlinewidth\":1,\"tickcolor\":\"rgb(36,36,36)\",\"ticks\":\"outside\"},\"colorscale\":[[0.0,\"#440154\"],[0.1111111111111111,\"#482878\"],[0.2222222222222222,\"#3e4989\"],[0.3333333333333333,\"#31688e\"],[0.4444444444444444,\"#26828e\"],[0.5555555555555556,\"#1f9e89\"],[0.6666666666666666,\"#35b779\"],[0.7777777777777778,\"#6ece58\"],[0.8888888888888888,\"#b5de2b\"],[1.0,\"#fde725\"]],\"type\":\"heatmap\"}],\"histogram2dcontour\":[{\"colorbar\":{\"outlinewidth\":1,\"tickcolor\":\"rgb(36,36,36)\",\"ticks\":\"outside\"},\"colorscale\":[[0.0,\"#440154\"],[0.1111111111111111,\"#482878\"],[0.2222222222222222,\"#3e4989\"],[0.3333333333333333,\"#31688e\"],[0.4444444444444444,\"#26828e\"],[0.5555555555555556,\"#1f9e89\"],[0.6666666666666666,\"#35b779\"],[0.7777777777777778,\"#6ece58\"],[0.8888888888888888,\"#b5de2b\"],[1.0,\"#fde725\"]],\"type\":\"histogram2dcontour\"}],\"histogram2d\":[{\"colorbar\":{\"outlinewidth\":1,\"tickcolor\":\"rgb(36,36,36)\",\"ticks\":\"outside\"},\"colorscale\":[[0.0,\"#440154\"],[0.1111111111111111,\"#482878\"],[0.2222222222222222,\"#3e4989\"],[0.3333333333333333,\"#31688e\"],[0.4444444444444444,\"#26828e\"],[0.5555555555555556,\"#1f9e89\"],[0.6666666666666666,\"#35b779\"],[0.7777777777777778,\"#6ece58\"],[0.8888888888888888,\"#b5de2b\"],[1.0,\"#fde725\"]],\"type\":\"histogram2d\"}],\"histogram\":[{\"marker\":{\"line\":{\"color\":\"white\",\"width\":0.6}},\"type\":\"histogram\"}],\"mesh3d\":[{\"colorbar\":{\"outlinewidth\":1,\"tickcolor\":\"rgb(36,36,36)\",\"ticks\":\"outside\"},\"type\":\"mesh3d\"}],\"parcoords\":[{\"line\":{\"colorbar\":{\"outlinewidth\":1,\"tickcolor\":\"rgb(36,36,36)\",\"ticks\":\"outside\"}},\"type\":\"parcoords\"}],\"pie\":[{\"automargin\":true,\"type\":\"pie\"}],\"scatter3d\":[{\"line\":{\"colorbar\":{\"outlinewidth\":1,\"tickcolor\":\"rgb(36,36,36)\",\"ticks\":\"outside\"}},\"marker\":{\"colorbar\":{\"outlinewidth\":1,\"tickcolor\":\"rgb(36,36,36)\",\"ticks\":\"outside\"}},\"type\":\"scatter3d\"}],\"scattercarpet\":[{\"marker\":{\"colorbar\":{\"outlinewidth\":1,\"tickcolor\":\"rgb(36,36,36)\",\"ticks\":\"outside\"}},\"type\":\"scattercarpet\"}],\"scattergeo\":[{\"marker\":{\"colorbar\":{\"outlinewidth\":1,\"tickcolor\":\"rgb(36,36,36)\",\"ticks\":\"outside\"}},\"type\":\"scattergeo\"}],\"scattergl\":[{\"marker\":{\"colorbar\":{\"outlinewidth\":1,\"tickcolor\":\"rgb(36,36,36)\",\"ticks\":\"outside\"}},\"type\":\"scattergl\"}],\"scattermapbox\":[{\"marker\":{\"colorbar\":{\"outlinewidth\":1,\"tickcolor\":\"rgb(36,36,36)\",\"ticks\":\"outside\"}},\"type\":\"scattermapbox\"}],\"scatterpolargl\":[{\"marker\":{\"colorbar\":{\"outlinewidth\":1,\"tickcolor\":\"rgb(36,36,36)\",\"ticks\":\"outside\"}},\"type\":\"scatterpolargl\"}],\"scatterpolar\":[{\"marker\":{\"colorbar\":{\"outlinewidth\":1,\"tickcolor\":\"rgb(36,36,36)\",\"ticks\":\"outside\"}},\"type\":\"scatterpolar\"}],\"scatter\":[{\"fillpattern\":{\"fillmode\":\"overlay\",\"size\":10,\"solidity\":0.2},\"type\":\"scatter\"}],\"scatterternary\":[{\"marker\":{\"colorbar\":{\"outlinewidth\":1,\"tickcolor\":\"rgb(36,36,36)\",\"ticks\":\"outside\"}},\"type\":\"scatterternary\"}],\"surface\":[{\"colorbar\":{\"outlinewidth\":1,\"tickcolor\":\"rgb(36,36,36)\",\"ticks\":\"outside\"},\"colorscale\":[[0.0,\"#440154\"],[0.1111111111111111,\"#482878\"],[0.2222222222222222,\"#3e4989\"],[0.3333333333333333,\"#31688e\"],[0.4444444444444444,\"#26828e\"],[0.5555555555555556,\"#1f9e89\"],[0.6666666666666666,\"#35b779\"],[0.7777777777777778,\"#6ece58\"],[0.8888888888888888,\"#b5de2b\"],[1.0,\"#fde725\"]],\"type\":\"surface\"}],\"table\":[{\"cells\":{\"fill\":{\"color\":\"rgb(237,237,237)\"},\"line\":{\"color\":\"white\"}},\"header\":{\"fill\":{\"color\":\"rgb(217,217,217)\"},\"line\":{\"color\":\"white\"}},\"type\":\"table\"}]},\"layout\":{\"annotationdefaults\":{\"arrowhead\":0,\"arrowwidth\":1},\"autotypenumbers\":\"strict\",\"coloraxis\":{\"colorbar\":{\"outlinewidth\":1,\"tickcolor\":\"rgb(36,36,36)\",\"ticks\":\"outside\"}},\"colorscale\":{\"diverging\":[[0.0,\"rgb(103,0,31)\"],[0.1,\"rgb(178,24,43)\"],[0.2,\"rgb(214,96,77)\"],[0.3,\"rgb(244,165,130)\"],[0.4,\"rgb(253,219,199)\"],[0.5,\"rgb(247,247,247)\"],[0.6,\"rgb(209,229,240)\"],[0.7,\"rgb(146,197,222)\"],[0.8,\"rgb(67,147,195)\"],[0.9,\"rgb(33,102,172)\"],[1.0,\"rgb(5,48,97)\"]],\"sequential\":[[0.0,\"#440154\"],[0.1111111111111111,\"#482878\"],[0.2222222222222222,\"#3e4989\"],[0.3333333333333333,\"#31688e\"],[0.4444444444444444,\"#26828e\"],[0.5555555555555556,\"#1f9e89\"],[0.6666666666666666,\"#35b779\"],[0.7777777777777778,\"#6ece58\"],[0.8888888888888888,\"#b5de2b\"],[1.0,\"#fde725\"]],\"sequentialminus\":[[0.0,\"#440154\"],[0.1111111111111111,\"#482878\"],[0.2222222222222222,\"#3e4989\"],[0.3333333333333333,\"#31688e\"],[0.4444444444444444,\"#26828e\"],[0.5555555555555556,\"#1f9e89\"],[0.6666666666666666,\"#35b779\"],[0.7777777777777778,\"#6ece58\"],[0.8888888888888888,\"#b5de2b\"],[1.0,\"#fde725\"]]},\"colorway\":[\"#1F77B4\",\"#FF7F0E\",\"#2CA02C\",\"#D62728\",\"#9467BD\",\"#8C564B\",\"#E377C2\",\"#7F7F7F\",\"#BCBD22\",\"#17BECF\"],\"font\":{\"color\":\"rgb(36,36,36)\"},\"geo\":{\"bgcolor\":\"white\",\"lakecolor\":\"white\",\"landcolor\":\"white\",\"showlakes\":true,\"showland\":true,\"subunitcolor\":\"white\"},\"hoverlabel\":{\"align\":\"left\"},\"hovermode\":\"closest\",\"mapbox\":{\"style\":\"light\"},\"paper_bgcolor\":\"white\",\"plot_bgcolor\":\"white\",\"polar\":{\"angularaxis\":{\"gridcolor\":\"rgb(232,232,232)\",\"linecolor\":\"rgb(36,36,36)\",\"showgrid\":false,\"showline\":true,\"ticks\":\"outside\"},\"bgcolor\":\"white\",\"radialaxis\":{\"gridcolor\":\"rgb(232,232,232)\",\"linecolor\":\"rgb(36,36,36)\",\"showgrid\":false,\"showline\":true,\"ticks\":\"outside\"}},\"scene\":{\"xaxis\":{\"backgroundcolor\":\"white\",\"gridcolor\":\"rgb(232,232,232)\",\"gridwidth\":2,\"linecolor\":\"rgb(36,36,36)\",\"showbackground\":true,\"showgrid\":false,\"showline\":true,\"ticks\":\"outside\",\"zeroline\":false,\"zerolinecolor\":\"rgb(36,36,36)\"},\"yaxis\":{\"backgroundcolor\":\"white\",\"gridcolor\":\"rgb(232,232,232)\",\"gridwidth\":2,\"linecolor\":\"rgb(36,36,36)\",\"showbackground\":true,\"showgrid\":false,\"showline\":true,\"ticks\":\"outside\",\"zeroline\":false,\"zerolinecolor\":\"rgb(36,36,36)\"},\"zaxis\":{\"backgroundcolor\":\"white\",\"gridcolor\":\"rgb(232,232,232)\",\"gridwidth\":2,\"linecolor\":\"rgb(36,36,36)\",\"showbackground\":true,\"showgrid\":false,\"showline\":true,\"ticks\":\"outside\",\"zeroline\":false,\"zerolinecolor\":\"rgb(36,36,36)\"}},\"shapedefaults\":{\"fillcolor\":\"black\",\"line\":{\"width\":0},\"opacity\":0.3},\"ternary\":{\"aaxis\":{\"gridcolor\":\"rgb(232,232,232)\",\"linecolor\":\"rgb(36,36,36)\",\"showgrid\":false,\"showline\":true,\"ticks\":\"outside\"},\"baxis\":{\"gridcolor\":\"rgb(232,232,232)\",\"linecolor\":\"rgb(36,36,36)\",\"showgrid\":false,\"showline\":true,\"ticks\":\"outside\"},\"bgcolor\":\"white\",\"caxis\":{\"gridcolor\":\"rgb(232,232,232)\",\"linecolor\":\"rgb(36,36,36)\",\"showgrid\":false,\"showline\":true,\"ticks\":\"outside\"}},\"title\":{\"x\":0.05},\"xaxis\":{\"automargin\":true,\"gridcolor\":\"rgb(232,232,232)\",\"linecolor\":\"rgb(36,36,36)\",\"showgrid\":false,\"showline\":true,\"ticks\":\"outside\",\"title\":{\"standoff\":15},\"zeroline\":false,\"zerolinecolor\":\"rgb(36,36,36)\"},\"yaxis\":{\"automargin\":true,\"gridcolor\":\"rgb(232,232,232)\",\"linecolor\":\"rgb(36,36,36)\",\"showgrid\":false,\"showline\":true,\"ticks\":\"outside\",\"title\":{\"standoff\":15},\"zeroline\":false,\"zerolinecolor\":\"rgb(36,36,36)\"}}},\"annotations\":[{\"showarrow\":false,\"text\":\"R\\u003csup\\u003e2\\u003c\\u002fsup\\u003e=0.90\",\"x\":198,\"y\":4}],\"yaxis\":{\"title\":{\"text\":\"z-score\",\"standoff\":0},\"range\":[-4,4]},\"xaxis\":{\"title\":{\"text\":\"TRs\"},\"range\":[0,208]},\"showlegend\":true,\"height\":350},                        {\"responsive\": true}                    ).then(function(){\n",
       "                            \n",
       "var gd = document.getElementById('32eef42b-71a6-4292-91d8-e57d4e91f0f8');\n",
       "var x = new MutationObserver(function (mutations, observer) {{\n",
       "        var display = window.getComputedStyle(gd).display;\n",
       "        if (!display || display === 'none') {{\n",
       "            console.log([gd, 'removed!']);\n",
       "            Plotly.purge(gd);\n",
       "            observer.disconnect();\n",
       "        }}\n",
       "}});\n",
       "\n",
       "// Listen for the removal of the full notebook cells\n",
       "var notebookContainer = gd.closest('#notebook-container');\n",
       "if (notebookContainer) {{\n",
       "    x.observe(notebookContainer, {childList: true});\n",
       "}}\n",
       "\n",
       "// Listen for the clearing of the current output cell\n",
       "var outputEl = gd.closest('.output');\n",
       "if (outputEl) {{\n",
       "    x.observe(outputEl, {childList: true});\n",
       "}}\n",
       "\n",
       "                        })                };                });            </script>        </div>"
      ]
     },
     "metadata": {},
     "output_type": "display_data"
    }
   ],
   "source": [
    "# plot best voxel for left hemisphere\n",
    "max_indices = np.nanargmax(prf_fit_data[r2_idx,:])\n",
    "# # num_vert = 25023\n",
    "num_vert = max_indices\n",
    "num_vert_r2 = num_vert # - 50\n",
    "fig1 = go.Figure()\n",
    "# plot data time series\n",
    "fig1.add_trace(go.Scatter(y=bold_data[:,num_vert],\n",
    "                         name='data', \n",
    "                         mode='markers', \n",
    "                          line=dict(color='black') \n",
    "                         ))\n",
    "\n",
    "# plot pRF prediction\n",
    "fig1.add_trace(go.Scatter(y=prf_pred_data[:,num_vert_r2],\n",
    "                         name='pRF'))\n",
    "\n",
    "\n",
    "fig1.add_annotation(text='R<sup>2</sup>={:1.2f}'.format(prf_fit_data[r2_idx,num_vert_r2]),  \n",
    "                    x=198,  \n",
    "                    y=4,\n",
    "                    showarrow=False\n",
    "                   )\n",
    "\n",
    "fig1.update_layout(template='simple_white', \n",
    "                   # title = '{} vertex time series for {} noise model'.format(num_vert,noise_model_2), \n",
    "                   xaxis_title = 'TRs', \n",
    "                   yaxis_title = 'z-score', \n",
    "                   showlegend= True,\n",
    "                   height=350, \n",
    "                   yaxis=dict(title_standoff=0))\n",
    "\n",
    "fig1.update_xaxes(range=[0,bold_data.shape[0]])\n",
    "# fig1.update_xaxes(range=[0,50])\n",
    "\n",
    "fig1.update_yaxes(range=[-4,4])\n",
    "fig1.write_image('/Users/uriel/Downloads/sdfr.pdf', width=1000, height=300)\n",
    "\n",
    "fig1.show()"
   ]
  },
  {
   "cell_type": "code",
   "execution_count": 19,
   "id": "39de7ba8-dd5f-491d-8209-25007af3b4e3",
   "metadata": {
    "tags": []
   },
   "outputs": [
    {
     "data": {
      "text/plain": [
       "1971"
      ]
     },
     "execution_count": 19,
     "metadata": {},
     "output_type": "execute_result"
    }
   ],
   "source": [
    "np.nanargmax(prf_fit_data[r2_idx,:])"
   ]
  },
  {
   "cell_type": "code",
   "execution_count": 20,
   "id": "a64d206b-c8d0-42d0-a85f-cdff30ca6865",
   "metadata": {
    "tags": []
   },
   "outputs": [
    {
     "data": {
      "text/plain": [
       "0.7233471"
      ]
     },
     "execution_count": 20,
     "metadata": {},
     "output_type": "execute_result"
    }
   ],
   "source": [
    "prf_fit_data[r2_idx,1971]"
   ]
  },
  {
   "cell_type": "markdown",
   "id": "7a34d8c1-63dd-4008-944e-580f3c6a8213",
   "metadata": {
    "jp-MarkdownHeadingCollapsed": true,
    "tags": []
   },
   "source": [
    "# pRF stimulation"
   ]
  },
  {
   "cell_type": "code",
   "execution_count": null,
   "id": "85fb1b05-5022-46be-88ee-aaf82cfd1b9b",
   "metadata": {
    "tags": []
   },
   "outputs": [],
   "source": [
    "task = 'pRF'\n",
    "session = 'ses-01'\n",
    "event_dir = '{}/{}/{}/{}/func/'.format(main_dir,project_dir,subject,session)\n",
    "event_file = glob.glob(\"{}/{}_{}_task-{}_run-*_events.tsv\".format(event_dir,subject,session,task))\n",
    "events = pd.read_table(event_file[0])"
   ]
  },
  {
   "cell_type": "code",
   "execution_count": null,
   "id": "50543c6a-7bea-41b9-83b3-f5b69dfedad8",
   "metadata": {
    "tags": []
   },
   "outputs": [],
   "source": [
    "task_periode = np.where(events['bar_direction'] != 9, 1, 0)\n"
   ]
  },
  {
   "cell_type": "code",
   "execution_count": null,
   "id": "6a9e3bc9-d036-45c1-855e-9abe4bb949d8",
   "metadata": {
    "tags": []
   },
   "outputs": [],
   "source": [
    "fig2 = go.Figure()\n",
    "# plot data time series\n",
    "fig2.add_trace(go.Scatter(y=task_periode,\n",
    "                          line=dict(color='#ff7f0e',\n",
    "                                    width=4)))\n",
    "fig2.update_xaxes(visible=False)\n",
    "fig2.update_yaxes(visible=False)\n",
    "fig2.update_layout(template='simple_white')\n",
    "fig2.write_image('/Users/uriel/Downloads/prf_stim.pdf', width=600, height=300)\n",
    "fig2.show()"
   ]
  },
  {
   "cell_type": "markdown",
   "id": "69800d3f-2664-4ea9-851a-542f7400d858",
   "metadata": {
    "jp-MarkdownHeadingCollapsed": true,
    "tags": []
   },
   "source": [
    "# HRF"
   ]
  },
  {
   "cell_type": "code",
   "execution_count": null,
   "id": "70337e2e-cfd8-4f0c-a63f-0a5c8be47ecf",
   "metadata": {
    "tags": []
   },
   "outputs": [],
   "source": [
    "def hrf(t):\n",
    "    a1 = 6\n",
    "    a2 = 12\n",
    "    b1 = 0.9\n",
    "    b2 = 0.9\n",
    "    hrf_values = (gamma.pdf(t, a1, scale=b1) - 0.35 * gamma.pdf(t, a2, scale=b2))\n",
    "    hrf_values /= hrf_values.sum()\n",
    "\n",
    "    return hrf_values\n",
    "\n",
    "time = np.arange(0, 30, 0.1)\n",
    "hrf_result = hrf(time)"
   ]
  },
  {
   "cell_type": "code",
   "execution_count": null,
   "id": "4a7cbbf0-d4db-4285-b5dc-cef2eddb1748",
   "metadata": {
    "tags": []
   },
   "outputs": [],
   "source": [
    "fig3 = go.Figure()\n",
    "\n",
    "fig3.add_trace(go.Scatter(y=hrf_result, \n",
    "\n",
    "                         line=dict(color='#ff7f0e', width=4)))\n",
    "\n",
    "fig3.update_layout(template='simple_white',\n",
    "                  showlegend=False,\n",
    "                  xaxis=dict(showgrid=False, zeroline=False, showticklabels=False, ticks='', showline=False),\n",
    "                  yaxis=dict(showgrid=False, zeroline=False, showticklabels=False, ticks='', showline=False))\n",
    "\n",
    "\n",
    "\n",
    "\n",
    "\n",
    "fig3.write_image('/Users/uriel/Downloads/hrf.pdf', width=600, height=300)\n",
    "fig3.show()"
   ]
  },
  {
   "cell_type": "markdown",
   "id": "28b376d4-f559-4a3f-801b-73daa9ac0bd6",
   "metadata": {
    "jp-MarkdownHeadingCollapsed": true,
    "tags": []
   },
   "source": [
    "# Receptieve field"
   ]
  },
  {
   "cell_type": "code",
   "execution_count": null,
   "id": "0d6726bc-10e1-4fd6-9814-f29fb66882f5",
   "metadata": {
    "tags": []
   },
   "outputs": [],
   "source": [
    "def compressive_spatial_summation(x, size, position, exponent):\n",
    "    return np.exp(-((x - position) / size)**exponent)\n",
    "\n",
    "\n",
    "size = 2  \n",
    "position = 3  \n",
    "exponent = 2 \n",
    "\n",
    "x = np.linspace(-1, 7, 100)\n",
    "y = compressive_spatial_summation(x, size, position, exponent)"
   ]
  },
  {
   "cell_type": "code",
   "execution_count": null,
   "id": "b48444b7-ffca-4afe-afe3-7e084629f087",
   "metadata": {
    "tags": []
   },
   "outputs": [],
   "source": [
    "fig4 = go.Figure()\n",
    "\n",
    "fig4.add_trace(go.Scatter(x=x, \n",
    "                         y=y,\n",
    "\n",
    "                         line=dict(color='#ff7f0e', width=4)))\n",
    "\n",
    "fig4.update_layout(template='simple_white',\n",
    "                  xaxis=dict(showgrid=False, zeroline=False, showticklabels=False, ticks='', showline=False),\n",
    "                  yaxis=dict(showgrid=False, zeroline=False, showticklabels=False, ticks='', showline=False))\n",
    "\n",
    "\n",
    "\n",
    "\n",
    "\n",
    "fig4.write_image('/Users/uriel/Downloads/css.pdf', width=600, height=300)\n",
    "fig4.show()"
   ]
  },
  {
   "cell_type": "markdown",
   "id": "6d0a3fc8-8914-4a5f-ad18-e170a65f379c",
   "metadata": {
    "jp-MarkdownHeadingCollapsed": true,
    "tags": []
   },
   "source": [
    "# pRF position"
   ]
  },
  {
   "cell_type": "code",
   "execution_count": null,
   "id": "94e527a2-8316-435e-aa5b-82b8b8e82f5b",
   "metadata": {
    "tags": []
   },
   "outputs": [],
   "source": [
    "def gaus_2d(gauss_x, gauss_y, gauss_sd, screen_side, grain=200):\n",
    "    \"\"\"\n",
    "    Generate 2D gaussian mesh\n",
    "    \n",
    "    Parameters\n",
    "    ----------\n",
    "    gauss_x : mean x gaussian parameter in dva (e.g. 1 dva)\n",
    "    gauss_y : mean y gaussian parameter in dva (e.g. 1 dva)\n",
    "    gauss_sd : sd gaussian parameter in dva (e.g. 1 dva)\n",
    "    screen_side : mesh screen side (square) im dva (e.g. 20 dva from -10 to 10 dva)\n",
    "    grain : grain resolution of the mesh in pixels (default = 100 pixels)\n",
    "    \n",
    "    Returns\n",
    "    -------\n",
    "    x : linspace x of the mesh\n",
    "    y : linspace x of the mesh\n",
    "    z : mesh_z values (to plot)\n",
    "    \n",
    "    \"\"\"\n",
    "    x = np.linspace(-screen_side/2, screen_side/2, grain)\n",
    "    y = np.linspace(-screen_side/2, screen_side/2, grain)\n",
    "    mesh_x, mesh_y = np.meshgrid(x,y) \n",
    "    \n",
    "    gauss_z = 1./(2.*np.pi*gauss_sd*gauss_sd)*np.exp(-((mesh_x-gauss_x)**2./(2.*gauss_sd**2.)+(mesh_y-gauss_y)**2./(2.*gauss_sd**2.)))\n",
    "    return x, y, gauss_z"
   ]
  },
  {
   "cell_type": "code",
   "execution_count": null,
   "id": "a9302cfc-0d2d-4abb-a2fe-ed7c527397ac",
   "metadata": {
    "tags": []
   },
   "outputs": [],
   "source": [
    "screen_side = 8.9*2\n",
    "x,y,z = gaus_2d(gauss_x=prf_fit_data[x_idx,num_vert], gauss_y=prf_fit_data[y_idx,num_vert], \n",
    "                gauss_sd=prf_fit_data[size_idx,num_vert], screen_side=screen_side)\n",
    "\n",
    "\n",
    "fig=go.Figure()\n",
    "fig.add_trace(go.Heatmap(x=x, y=y, z=z,colorscale='viridis', showscale=False))"
   ]
  },
  {
   "cell_type": "markdown",
   "id": "330d3263-0891-491e-9eef-9530e85aa1f6",
   "metadata": {
    "tags": []
   },
   "source": [
    "# Visual designe Sac/Pur Loc"
   ]
  },
  {
   "cell_type": "code",
   "execution_count": 3,
   "id": "0a5c5529-6bc4-4175-a191-33ca99a9c1a7",
   "metadata": {
    "tags": []
   },
   "outputs": [
    {
     "name": "stdout",
     "output_type": "stream",
     "text": [
      "L'image a été enregistrée sous le nom 'output_image.png' avec la taille finale spécifiée.\n"
     ]
    },
    {
     "data": {
      "image/png": "[encoded data removed]",
      "text/plain": [
       "<Figure size 900x900 with 1 Axes>"
      ]
     },
     "metadata": {},
     "output_type": "display_data"
    }
   ],
   "source": [
    "import matplotlib.pyplot as plt\n",
    "import numpy as np\n",
    "\n",
    "def create_image(eccentricities_degrees, num_directions=32, circle_size=0.02, figure_size=(4, 4), final_size=(8.2, 14.58)):\n",
    "    # Créer une figure et un axe avec une taille personnalisée\n",
    "    fig, ax = plt.subplots(figsize=figure_size)\n",
    "    \n",
    "    # Définir le fond noir\n",
    "    fig.patch.set_facecolor('black')\n",
    "    ax.set_facecolor('black')\n",
    "\n",
    "    # Définir les coordonnées du centre\n",
    "    center = np.array([0.5, 0.5])\n",
    "\n",
    "    # Conversion des excentricités de degrés en radians\n",
    "    eccentricities_radians = np.radians(eccentricities_degrees)\n",
    "\n",
    "    # Créer les cercles avec des ronds blancs pour chaque excentricité\n",
    "    for eccentricity in eccentricities_radians:\n",
    "        for direction in range(num_directions):\n",
    "            angle = (2 * np.pi / num_directions) * direction\n",
    "            x = center[0] + eccentricity * np.cos(angle)\n",
    "            y = center[1] + eccentricity * np.sin(angle)\n",
    "\n",
    "            # Dessiner le cercle blanc\n",
    "            circle = plt.Circle((x, y), circle_size, color='white')\n",
    "            ax.add_artist(circle)\n",
    "\n",
    "    # Paramètres d'affichage\n",
    "    ax.set_xlim(0, 1)\n",
    "    ax.set_ylim(0, 1)\n",
    "    ax.axis('off')\n",
    "\n",
    "    # Sauvegarder l'image avec la taille finale en centimètres\n",
    "    fig.savefig('/Users/uriel/Downloads/cercles.png', bbox_inches='tight', pad_inches=0, dpi=300)\n",
    "\n",
    "# Excentricités en degrés\n",
    "eccentricities_degrees = [10, 7.5, 5, 2.5]\n",
    "\n",
    "# Taille du cercle réduite et taille de la figure personnalisée\n",
    "create_image(eccentricities_degrees, circle_size=0.002, figure_size=(9, 9))\n",
    "\n",
    "# Afficher le message de confirmation\n",
    "print(\"L'image a été enregistrée sous le nom 'output_image.png' avec la taille finale spécifiée.\")\n"
   ]
  },
  {
   "cell_type": "markdown",
   "id": "8f7c4121-93a4-4213-b105-9d2e07616d94",
   "metadata": {
    "jp-MarkdownHeadingCollapsed": true,
    "tags": []
   },
   "source": [
    "# GLM"
   ]
  },
  {
   "cell_type": "code",
   "execution_count": 46,
   "id": "3e7586c0-f8b7-4926-a617-af125d68b43d",
   "metadata": {
    "tags": []
   },
   "outputs": [],
   "source": [
    "# task = 'PurLoc'\n",
    "# task = 'SacLoc'\n",
    "# task = 'SacVELoc'\n",
    "task = 'PurVELoc'"
   ]
  },
  {
   "cell_type": "code",
   "execution_count": 47,
   "id": "3ca36939-cd62-4f37-9291-6562eb1e9d2c",
   "metadata": {
    "tags": []
   },
   "outputs": [],
   "source": [
    "bold_glm_dir = '{}/{}/derivatives/pp_data/{}/{}/func/fmriprep_dct_loo_avg'.format(main_dir, project_dir,subject,format_)\n",
    "bold_glm_fn = '{}/{}_task-{}_hemi-L_fmriprep_dct_avg_loo-1_bold.func.gii'.format(bold_dir, subject,task)\n",
    "bold_glm_img,bold_glm_data = load_surface(fn = bold_glm_fn)"
   ]
  },
  {
   "cell_type": "code",
   "execution_count": 48,
   "id": "27b92199-7c4d-4500-bbaf-117d72dafe6d",
   "metadata": {
    "tags": []
   },
   "outputs": [],
   "source": [
    "glm_dir ='{}/{}/derivatives/pp_data/{}/{}/glm/glm_fit/'.format(main_dir, project_dir,subject,format_)\n",
    "glm_pred_fn = '{}/{}_task-{}_hemi-L_fmriprep_dct_avg_loo-1_glm-pred.func.gii'.format(glm_dir, subject,task)\n",
    "glm_pred_img, glm_pred_data = load_surface(fn = glm_pred_fn)"
   ]
  },
  {
   "cell_type": "code",
   "execution_count": 49,
   "id": "3cd4c822-6992-4099-9a46-cd0c4edc9fc3",
   "metadata": {
    "tags": []
   },
   "outputs": [],
   "source": [
    "glm_stats_dir ='{}/{}/derivatives/pp_data/{}/{}/glm/glm_derivatives/'.format(main_dir, project_dir,subject,format_)\n",
    "glm_fit_fn = '{}/{}_task-{}_hemi-L_fmriprep_dct_avg_loo-1_glm-stats.func.gii'.format(glm_stats_dir, subject,task)\n",
    "glm_fit_img, glm_fit_data = load_surface(fn = glm_fit_fn)\n",
    "slope_idx, intercept_idx, rvalue_idx, pvalue_idx, stderr_idx  = 0,1,2,3,4"
   ]
  },
  {
   "cell_type": "code",
   "execution_count": 50,
   "id": "61daacc5-a229-4d5c-976d-042904337772",
   "metadata": {
    "tags": []
   },
   "outputs": [],
   "source": [
    "session = 'ses-02'\n",
    "event_dir = '{}/{}/{}/{}/func/'.format(main_dir,project_dir,subject,session)\n",
    "event_file = glob.glob(\"{}/{}_{}_task-{}_run-*_events.tsv\".format(event_dir,subject,session,task))\n",
    "events = pd.read_table(event_file[0])"
   ]
  },
  {
   "cell_type": "code",
   "execution_count": 51,
   "id": "a2b19c9d-d9b9-401c-8abb-7d5ad0f1b4ec",
   "metadata": {
    "tags": []
   },
   "outputs": [],
   "source": [
    "if task == 'PurLoc': \n",
    "    idx = 2\n",
    "    task_name = 'Pursuit'\n",
    "    color = '#E377C2'\n",
    "    task_periode = np.where(events['trial_type'] == idx, 1, np.nan)\n",
    "elif task == 'PurVELoc': \n",
    "    idx = 2\n",
    "    task_name = 'Pursuit'\n",
    "    color = '#E377C2'\n",
    "    task_periode = np.where(events['eyemov_vis_end'] == idx, 1, np.nan)\n",
    "elif task == 'SacLoc': \n",
    "    idx = 1\n",
    "    task_name = 'Saccad'\n",
    "    color = '#8C564B'\n",
    "    task_periode = np.where(events['trial_type'] == idx, 1, np.nan)\n",
    "elif task == 'SacVELoc': \n",
    "    idx = 2\n",
    "    task_name = 'Saccade'\n",
    "    color = '#8C564B'\n",
    "    task_periode = np.where(events['eyemov_vis_end'] == idx, 1, np.nan)"
   ]
  },
  {
   "cell_type": "code",
   "execution_count": 52,
   "id": "0b32c85c-38e6-4567-8f2d-b71359b7b53a",
   "metadata": {
    "tags": []
   },
   "outputs": [
    {
     "data": {
      "application/vnd.plotly.v1+json": {
       "config": {
        "plotlyServerURL": "https://plot.ly"
       },
       "data": [
        {
         "line": {
          "color": "black"
         },
         "mode": "markers",
         "name": "data",
         "type": "scatter",
         "y": [
          -1.1487547159194946,
          -1.4274852275848389,
          -1.7658406496047974,
          -0.35578545928001404,
          0.605377733707428,
          -0.06691619008779526,
          -0.9930787086486816,
          -0.6763895750045776,
          -0.9111416935920715,
          -1.2043609619140625,
          -1.274961233139038,
          -0.9380245804786682,
          -0.38006508350372314,
          -0.2904486656188965,
          -0.8463435769081116,
          -0.36502084136009216,
          -1.379836082458496,
          -1.1152799129486084,
          -0.0958804190158844,
          -0.6228379011154175,
          0.5141015648841858,
          0.8091444969177246,
          0.6136025190353394,
          1.3872644901275635,
          1.4558002948760986,
          1.4614083766937256,
          1.9055086374282837,
          2.4436757564544678,
          1.8795827627182007,
          1.4353286027908325,
          0.7026903033256531,
          1.176303505897522,
          0.8667851686477661,
          0.6456184387207031,
          1.2411584854125977,
          1.9579360485076904,
          2.057771682739258,
          1.5469024181365967,
          1.140278935432434,
          0.8562648892402649,
          0.9750597476959229,
          -0.06457389146089554,
          0.47544023394584656,
          -0.2553543150424957,
          0.6479674577713013,
          0.12232834100723267,
          0.013043270446360111,
          0.2772882878780365,
          1.1351860761642456,
          0.24829058349132538,
          -0.2658478021621704,
          -1.0777729749679565,
          -1.5729990005493164,
          -1.2946699857711792,
          -1.2278944253921509,
          -1.4162187576293945,
          -1.4982393980026245,
          -1.8715553283691406,
          -1.8801348209381104,
          -1.6893577575683594,
          -1.4257586002349854,
          -1.240449070930481,
          -1.8863152265548706,
          -1.4686928987503052,
          -1.5569140911102295,
          -1.6627358198165894,
          -1.1815871000289917,
          -0.6684090495109558,
          -0.25094741582870483,
          0.12519264221191406,
          0.5160624384880066,
          0.32987627387046814,
          0.35167306661605835,
          0.36806246638298035,
          0.08889366686344147,
          0.8210099339485168,
          0.6492121815681458,
          0.2363448590040207,
          0.5728866457939148,
          0.608349084854126,
          0.8434759378433228,
          0.30480027198791504,
          0.12293733656406403,
          0.04942924156785011,
          0.7238780856132507,
          0.9905121922492981,
          0.973955512046814,
          0.8702852725982666,
          0.3177163898944855,
          0.9845359921455383,
          0.7546960711479187,
          1.4690510034561157,
          1.350523829460144,
          1.9389901161193848,
          0.5755836367607117,
          1.2982838153839111,
          0.7165232300758362,
          0.604648232460022,
          -0.3074571192264557,
          -1.0003163814544678,
          -1.0744736194610596,
          -1.1213765144348145,
          -0.4111842215061188,
          -0.6301023960113525,
          -0.6694396734237671,
          -1.329821228981018,
          -0.749994695186615,
          -0.9503250122070312,
          -0.9584059715270996,
          -1.4132941961288452,
          -0.06468096375465393,
          -0.9776362776756287,
          -0.6505774259567261,
          -0.7249521613121033,
          -1.0379036664962769,
          -0.7870867252349854,
          -0.3025951683521271,
          0.1887693852186203,
          0.9608988165855408,
          0.9089064598083496,
          0.750680685043335,
          0.9885580539703369,
          0.8023518323898315,
          1.1760358810424805,
          0.6307147145271301,
          0.5303504467010498,
          0.7755358219146729,
          0.16130422055721283,
          -0.9070426225662231,
          0.541847825050354,
          0.7687097191810608,
          0.47120401263237,
          0.5353228449821472,
          0.5704439878463745,
          0.4862215220928192,
          0.4628118872642517,
          0.14703626930713654,
          -0.15918610990047455,
          -0.016335876658558846,
          0.2780645787715912,
          0.07882177084684372,
          0.3995496928691864,
          0.26728999614715576,
          0.4478144645690918,
          1.124672532081604,
          0.010326201096177101,
          -0.3455864191055298,
          -0.7487633228302002,
          -1.052432656288147,
          -0.9734067320823669,
          -1.2792778015136719,
          -0.6952551603317261,
          -0.7175170183181763,
          -2.2559938430786133,
          -1.3595852851867676,
          -1.485457181930542,
          -1.150779128074646,
          -1.3118056058883667,
          -1.3078538179397583,
          -1.7126871347427368,
          -0.7483885884284973,
          -0.9703081846237183,
          -0.9000692963600159,
          0.7184974551200867,
          0.6781630516052246,
          0.7098443508148193,
          1.3276429176330566,
          0.968200147151947,
          0.640418529510498,
          1.3085163831710815,
          0.7542543411254883,
          0.45844852924346924,
          0.6285999417304993,
          0.042516108602285385,
          0.3614371120929718,
          0.41377079486846924,
          1.2676130533218384,
          0.7349872589111328,
          -0.5166747570037842,
          0.8479397296905518,
          0.9144008159637451,
          1.006613850593567,
          1.155918836593628,
          0.6781295537948608,
          0.6585947871208191,
          0.7284556031227112,
          1.344159483909607,
          1.9925419092178345,
          1.5073643922805786,
          0.5429587364196777,
          0.8999990224838257,
          0.7371153831481934,
          0.6594246625900269,
          0.1410801261663437,
          -0.7223154306411743,
          -0.9356722831726074,
          -1.714289903640747,
          -0.7357903122901917,
          -0.9791821837425232,
          -1.2932881116867065,
          -1.906164526939392,
          -1.4135082960128784,
          -1.1243747472763062,
          -0.43759870529174805,
          -0.30367597937583923,
          -0.039397500455379486,
          -0.5664687752723694,
          -0.18731380999088287
         ]
        },
        {
         "line": {
          "color": "#87CEEB",
          "width": 4
         },
         "name": "GLM",
         "type": "scatter",
         "y": [
          -0.8035980463027954,
          -0.8035980463027954,
          -0.8035980463027954,
          -0.8035980463027954,
          -0.8035980463027954,
          -0.8035980463027954,
          -0.8035980463027954,
          -0.8035980463027954,
          -0.8035980463027954,
          -0.8035980463027954,
          -0.8035980463027954,
          -0.8035980463027954,
          -0.8035980463027954,
          -0.8035980463027954,
          -0.8035980463027954,
          -0.8035980463027954,
          -0.8035980463027954,
          -0.8035980463027954,
          -0.8035980463027954,
          -0.8035980463027954,
          -0.7971333265304565,
          -0.6704779267311096,
          -0.2491975873708725,
          0.4018377959728241,
          0.9585022330284119,
          1.092195749282837,
          0.8228361010551453,
          0.49360421299934387,
          0.4715595543384552,
          0.7725170254707336,
          1.0787078142166138,
          1.0473920106887817,
          0.6845694780349731,
          0.3232497274875641,
          0.30850884318351746,
          0.630422055721283,
          0.9523460268974304,
          0.9333303570747375,
          0.5885124802589417,
          0.2539835274219513,
          0.26708337664604187,
          0.6085830926895142,
          0.9371774792671204,
          0.917701005935669,
          0.5746894478797913,
          0.25281044840812683,
          0.28189000487327576,
          0.6298306584358215,
          0.9476504921913147,
          0.9109622240066528,
          0.5466068387031555,
          0.0676257312297821,
          -0.3577204644680023,
          -0.6663531064987183,
          -0.8626863956451416,
          -0.9733554124832153,
          -1.0240691900253296,
          -1.0342189073562622,
          -1.0182512998580933,
          -0.9876101613044739,
          -0.9512606859207153,
          -0.9156283140182495,
          -0.8844658136367798,
          -0.8593692779541016,
          -0.8403984308242798,
          -0.8268809914588928,
          -0.8177756667137146,
          -0.8120033144950867,
          -0.7910037040710449,
          -0.601443350315094,
          -0.10709663480520248,
          0.5596279501914978,
          1.034749984741211,
          1.0560253858566284,
          0.7331360578536987,
          0.4600785970687866,
          0.5340902209281921,
          0.8748633861541748,
          1.1131511926651,
          0.9785016775131226,
          0.5732924938201904,
          0.27985864877700806,
          0.3682877719402313,
          0.7318127155303955,
          0.98578941822052,
          0.8656743168830872,
          0.48199015855789185,
          0.21752698719501495,
          0.3329862654209137,
          0.713196873664856,
          0.9712588787078857,
          0.8503556251525879,
          0.47083762288093567,
          0.22112201154232025,
          0.35114678740501404,
          0.7333753108978271,
          0.9773134589195251,
          0.8400065302848816,
          0.4244452118873596,
          -0.0523906871676445,
          -0.44976627826690674,
          -0.7272536754608154,
          -0.8985428214073181,
          -0.991424024105072,
          -1.029952883720398,
          -1.0320907831192017,
          -1.0112829208374023,
          -0.9784083366394043,
          -0.9417127370834351,
          -0.9070055484771729,
          -0.8773281574249268,
          -0.8538841605186462,
          -0.8363906741142273,
          -0.8241389393806458,
          -0.8159817457199097,
          -0.8106555938720703,
          -0.76479572057724,
          -0.4931916892528534,
          0.07451730966567993,
          0.7294707894325256,
          1.0883930921554565,
          0.9871481657028198,
          0.6325319409370422,
          0.44251880049705505,
          0.6147088408470154,
          0.9698964357376099,
          1.115255355834961,
          0.8793299198150635,
          0.4589206874370575,
          0.2550252377986908,
          0.4419909715652466,
          0.8211191892623901,
          0.989866316318512,
          0.7779521942138672,
          0.3875526487827301,
          0.21887321770191193,
          0.4330359399318695,
          0.8202497959136963,
          0.979922354221344,
          0.7581512928009033,
          0.3709700405597687,
          0.21827732026576996,
          0.44636237621307373,
          0.8324471712112427,
          0.9774125218391418,
          0.741567850112915,
          0.2884877026081085,
          -0.17532704770565033,
          -0.5397851467132568,
          -0.784936249256134,
          -0.9313772916793823,
          -1.006888508796692,
          -1.033613681793213,
          -1.0281221866607666,
          -1.0029069185256958,
          -0.9682373404502869,
          -0.9315958619117737,
          -0.8981080651283264,
          -0.8701210618019104,
          -0.8484324216842651,
          -0.8324763178825378,
          -0.8214944005012512,
          -0.814285397529602,
          -0.807929515838623,
          -0.7236751317977905,
          -0.3702199161052704,
          0.2510347366333008,
          0.8649542927742004,
          1.1038113832473755,
          0.9034806489944458,
          0.5521566271781921,
          0.45373472571372986,
          0.7043527960777283,
          1.0418899059295654,
          1.0883954763412476,
          0.772745668888092,
          0.37514153122901917,
          0.27880293130874634,
          0.551314651966095,
          0.9081223011016846,
          0.9683791995048523,
          0.6703524589538574,
          0.2990613579750061,
          0.23192822933197021,
          0.5267260074615479,
          0.8929049372673035,
          0.9534595012664795,
          0.6558982729911804,
          0.29503753781318665,
          0.24423019587993622,
          0.5482615828514099,
          0.9067546129226685,
          0.9500020146369934,
          0.6357783675193787,
          0.1629355549812317,
          -0.2812977731227875,
          -0.6142950654029846,
          -0.8311973214149475,
          -0.9567376375198364,
          -1.0177104473114014,
          -1.034681797027588,
          -1.0229613780975342,
          -0.9944419860839844,
          -0.9586471915245056,
          -0.9224706292152405,
          -0.890241801738739,
          -0.8638781309127808,
          -0.8437390327453613
         ]
        },
        {
         "line": {
          "color": "#E377C2",
          "width": 10
         },
         "mode": "lines",
         "name": "Pursuit periode",
         "showlegend": true,
         "type": "scatter",
         "y": [
          null,
          null,
          null,
          null,
          null,
          null,
          null,
          null,
          null,
          null,
          null,
          null,
          null,
          null,
          null,
          null,
          null,
          null,
          null,
          -4,
          -4,
          -4,
          null,
          null,
          null,
          -4,
          -4,
          -4,
          null,
          null,
          null,
          -4,
          -4,
          -4,
          null,
          null,
          null,
          -4,
          -4,
          -4,
          null,
          null,
          null,
          -4,
          -4,
          -4,
          null,
          null,
          null,
          null,
          null,
          null,
          null,
          null,
          null,
          null,
          null,
          null,
          null,
          null,
          null,
          null,
          null,
          null,
          null,
          null,
          null,
          -4,
          -4,
          -4,
          null,
          null,
          null,
          -4,
          -4,
          -4,
          null,
          null,
          null,
          -4,
          -4,
          -4,
          null,
          null,
          null,
          -4,
          -4,
          -4,
          null,
          null,
          null,
          -4,
          -4,
          -4,
          null,
          null,
          null,
          null,
          null,
          null,
          null,
          null,
          null,
          null,
          null,
          null,
          null,
          null,
          null,
          null,
          null,
          null,
          null,
          null,
          null,
          -4,
          -4,
          -4,
          null,
          null,
          null,
          -4,
          -4,
          -4,
          null,
          null,
          null,
          -4,
          -4,
          -4,
          null,
          null,
          null,
          -4,
          -4,
          -4,
          null,
          null,
          null,
          -4,
          -4,
          -4,
          null,
          null,
          null,
          null,
          null,
          null,
          null,
          null,
          null,
          null,
          null,
          null,
          null,
          null,
          null,
          null,
          null,
          null,
          null,
          null,
          null,
          -4,
          -4,
          -4,
          null,
          null,
          null,
          -4,
          -4,
          -4,
          null,
          null,
          null,
          -4,
          -4,
          -4,
          null,
          null,
          null,
          -4,
          -4,
          -4,
          null,
          null,
          null,
          -4,
          -4,
          -4,
          null,
          null,
          null,
          null,
          null,
          null,
          null,
          null,
          null,
          null,
          null,
          null,
          null,
          null,
          null,
          null,
          null,
          null
         ]
        }
       ],
       "layout": {
        "annotations": [
         {
          "showarrow": false,
          "text": "R<sup>2</sup>=0.77",
          "x": 198,
          "y": 4
         }
        ],
        "autosize": true,
        "showlegend": true,
        "template": {
         "data": {
          "bar": [
           {
            "error_x": {
             "color": "rgb(36,36,36)"
            },
            "error_y": {
             "color": "rgb(36,36,36)"
            },
            "marker": {
             "line": {
              "color": "white",
              "width": 0.5
             },
             "pattern": {
              "fillmode": "overlay",
              "size": 10,
              "solidity": 0.2
             }
            },
            "type": "bar"
           }
          ],
          "barpolar": [
           {
            "marker": {
             "line": {
              "color": "white",
              "width": 0.5
             },
             "pattern": {
              "fillmode": "overlay",
              "size": 10,
              "solidity": 0.2
             }
            },
            "type": "barpolar"
           }
          ],
          "carpet": [
           {
            "aaxis": {
             "endlinecolor": "rgb(36,36,36)",
             "gridcolor": "white",
             "linecolor": "white",
             "minorgridcolor": "white",
             "startlinecolor": "rgb(36,36,36)"
            },
            "baxis": {
             "endlinecolor": "rgb(36,36,36)",
             "gridcolor": "white",
             "linecolor": "white",
             "minorgridcolor": "white",
             "startlinecolor": "rgb(36,36,36)"
            },
            "type": "carpet"
           }
          ],
          "choropleth": [
           {
            "colorbar": {
             "outlinewidth": 1,
             "tickcolor": "rgb(36,36,36)",
             "ticks": "outside"
            },
            "type": "choropleth"
           }
          ],
          "contour": [
           {
            "colorbar": {
             "outlinewidth": 1,
             "tickcolor": "rgb(36,36,36)",
             "ticks": "outside"
            },
            "colorscale": [
             [
              0,
              "#440154"
             ],
             [
              0.1111111111111111,
              "#482878"
             ],
             [
              0.2222222222222222,
              "#3e4989"
             ],
             [
              0.3333333333333333,
              "#31688e"
             ],
             [
              0.4444444444444444,
              "#26828e"
             ],
             [
              0.5555555555555556,
              "#1f9e89"
             ],
             [
              0.6666666666666666,
              "#35b779"
             ],
             [
              0.7777777777777778,
              "#6ece58"
             ],
             [
              0.8888888888888888,
              "#b5de2b"
             ],
             [
              1,
              "#fde725"
             ]
            ],
            "type": "contour"
           }
          ],
          "contourcarpet": [
           {
            "colorbar": {
             "outlinewidth": 1,
             "tickcolor": "rgb(36,36,36)",
             "ticks": "outside"
            },
            "type": "contourcarpet"
           }
          ],
          "heatmap": [
           {
            "colorbar": {
             "outlinewidth": 1,
             "tickcolor": "rgb(36,36,36)",
             "ticks": "outside"
            },
            "colorscale": [
             [
              0,
              "#440154"
             ],
             [
              0.1111111111111111,
              "#482878"
             ],
             [
              0.2222222222222222,
              "#3e4989"
             ],
             [
              0.3333333333333333,
              "#31688e"
             ],
             [
              0.4444444444444444,
              "#26828e"
             ],
             [
              0.5555555555555556,
              "#1f9e89"
             ],
             [
              0.6666666666666666,
              "#35b779"
             ],
             [
              0.7777777777777778,
              "#6ece58"
             ],
             [
              0.8888888888888888,
              "#b5de2b"
             ],
             [
              1,
              "#fde725"
             ]
            ],
            "type": "heatmap"
           }
          ],
          "heatmapgl": [
           {
            "colorbar": {
             "outlinewidth": 1,
             "tickcolor": "rgb(36,36,36)",
             "ticks": "outside"
            },
            "colorscale": [
             [
              0,
              "#440154"
             ],
             [
              0.1111111111111111,
              "#482878"
             ],
             [
              0.2222222222222222,
              "#3e4989"
             ],
             [
              0.3333333333333333,
              "#31688e"
             ],
             [
              0.4444444444444444,
              "#26828e"
             ],
             [
              0.5555555555555556,
              "#1f9e89"
             ],
             [
              0.6666666666666666,
              "#35b779"
             ],
             [
              0.7777777777777778,
              "#6ece58"
             ],
             [
              0.8888888888888888,
              "#b5de2b"
             ],
             [
              1,
              "#fde725"
             ]
            ],
            "type": "heatmapgl"
           }
          ],
          "histogram": [
           {
            "marker": {
             "line": {
              "color": "white",
              "width": 0.6
             }
            },
            "type": "histogram"
           }
          ],
          "histogram2d": [
           {
            "colorbar": {
             "outlinewidth": 1,
             "tickcolor": "rgb(36,36,36)",
             "ticks": "outside"
            },
            "colorscale": [
             [
              0,
              "#440154"
             ],
             [
              0.1111111111111111,
              "#482878"
             ],
             [
              0.2222222222222222,
              "#3e4989"
             ],
             [
              0.3333333333333333,
              "#31688e"
             ],
             [
              0.4444444444444444,
              "#26828e"
             ],
             [
              0.5555555555555556,
              "#1f9e89"
             ],
             [
              0.6666666666666666,
              "#35b779"
             ],
             [
              0.7777777777777778,
              "#6ece58"
             ],
             [
              0.8888888888888888,
              "#b5de2b"
             ],
             [
              1,
              "#fde725"
             ]
            ],
            "type": "histogram2d"
           }
          ],
          "histogram2dcontour": [
           {
            "colorbar": {
             "outlinewidth": 1,
             "tickcolor": "rgb(36,36,36)",
             "ticks": "outside"
            },
            "colorscale": [
             [
              0,
              "#440154"
             ],
             [
              0.1111111111111111,
              "#482878"
             ],
             [
              0.2222222222222222,
              "#3e4989"
             ],
             [
              0.3333333333333333,
              "#31688e"
             ],
             [
              0.4444444444444444,
              "#26828e"
             ],
             [
              0.5555555555555556,
              "#1f9e89"
             ],
             [
              0.6666666666666666,
              "#35b779"
             ],
             [
              0.7777777777777778,
              "#6ece58"
             ],
             [
              0.8888888888888888,
              "#b5de2b"
             ],
             [
              1,
              "#fde725"
             ]
            ],
            "type": "histogram2dcontour"
           }
          ],
          "mesh3d": [
           {
            "colorbar": {
             "outlinewidth": 1,
             "tickcolor": "rgb(36,36,36)",
             "ticks": "outside"
            },
            "type": "mesh3d"
           }
          ],
          "parcoords": [
           {
            "line": {
             "colorbar": {
              "outlinewidth": 1,
              "tickcolor": "rgb(36,36,36)",
              "ticks": "outside"
             }
            },
            "type": "parcoords"
           }
          ],
          "pie": [
           {
            "automargin": true,
            "type": "pie"
           }
          ],
          "scatter": [
           {
            "fillpattern": {
             "fillmode": "overlay",
             "size": 10,
             "solidity": 0.2
            },
            "type": "scatter"
           }
          ],
          "scatter3d": [
           {
            "line": {
             "colorbar": {
              "outlinewidth": 1,
              "tickcolor": "rgb(36,36,36)",
              "ticks": "outside"
             }
            },
            "marker": {
             "colorbar": {
              "outlinewidth": 1,
              "tickcolor": "rgb(36,36,36)",
              "ticks": "outside"
             }
            },
            "type": "scatter3d"
           }
          ],
          "scattercarpet": [
           {
            "marker": {
             "colorbar": {
              "outlinewidth": 1,
              "tickcolor": "rgb(36,36,36)",
              "ticks": "outside"
             }
            },
            "type": "scattercarpet"
           }
          ],
          "scattergeo": [
           {
            "marker": {
             "colorbar": {
              "outlinewidth": 1,
              "tickcolor": "rgb(36,36,36)",
              "ticks": "outside"
             }
            },
            "type": "scattergeo"
           }
          ],
          "scattergl": [
           {
            "marker": {
             "colorbar": {
              "outlinewidth": 1,
              "tickcolor": "rgb(36,36,36)",
              "ticks": "outside"
             }
            },
            "type": "scattergl"
           }
          ],
          "scattermapbox": [
           {
            "marker": {
             "colorbar": {
              "outlinewidth": 1,
              "tickcolor": "rgb(36,36,36)",
              "ticks": "outside"
             }
            },
            "type": "scattermapbox"
           }
          ],
          "scatterpolar": [
           {
            "marker": {
             "colorbar": {
              "outlinewidth": 1,
              "tickcolor": "rgb(36,36,36)",
              "ticks": "outside"
             }
            },
            "type": "scatterpolar"
           }
          ],
          "scatterpolargl": [
           {
            "marker": {
             "colorbar": {
              "outlinewidth": 1,
              "tickcolor": "rgb(36,36,36)",
              "ticks": "outside"
             }
            },
            "type": "scatterpolargl"
           }
          ],
          "scatterternary": [
           {
            "marker": {
             "colorbar": {
              "outlinewidth": 1,
              "tickcolor": "rgb(36,36,36)",
              "ticks": "outside"
             }
            },
            "type": "scatterternary"
           }
          ],
          "surface": [
           {
            "colorbar": {
             "outlinewidth": 1,
             "tickcolor": "rgb(36,36,36)",
             "ticks": "outside"
            },
            "colorscale": [
             [
              0,
              "#440154"
             ],
             [
              0.1111111111111111,
              "#482878"
             ],
             [
              0.2222222222222222,
              "#3e4989"
             ],
             [
              0.3333333333333333,
              "#31688e"
             ],
             [
              0.4444444444444444,
              "#26828e"
             ],
             [
              0.5555555555555556,
              "#1f9e89"
             ],
             [
              0.6666666666666666,
              "#35b779"
             ],
             [
              0.7777777777777778,
              "#6ece58"
             ],
             [
              0.8888888888888888,
              "#b5de2b"
             ],
             [
              1,
              "#fde725"
             ]
            ],
            "type": "surface"
           }
          ],
          "table": [
           {
            "cells": {
             "fill": {
              "color": "rgb(237,237,237)"
             },
             "line": {
              "color": "white"
             }
            },
            "header": {
             "fill": {
              "color": "rgb(217,217,217)"
             },
             "line": {
              "color": "white"
             }
            },
            "type": "table"
           }
          ]
         },
         "layout": {
          "annotationdefaults": {
           "arrowhead": 0,
           "arrowwidth": 1
          },
          "autotypenumbers": "strict",
          "coloraxis": {
           "colorbar": {
            "outlinewidth": 1,
            "tickcolor": "rgb(36,36,36)",
            "ticks": "outside"
           }
          },
          "colorscale": {
           "diverging": [
            [
             0,
             "rgb(103,0,31)"
            ],
            [
             0.1,
             "rgb(178,24,43)"
            ],
            [
             0.2,
             "rgb(214,96,77)"
            ],
            [
             0.3,
             "rgb(244,165,130)"
            ],
            [
             0.4,
             "rgb(253,219,199)"
            ],
            [
             0.5,
             "rgb(247,247,247)"
            ],
            [
             0.6,
             "rgb(209,229,240)"
            ],
            [
             0.7,
             "rgb(146,197,222)"
            ],
            [
             0.8,
             "rgb(67,147,195)"
            ],
            [
             0.9,
             "rgb(33,102,172)"
            ],
            [
             1,
             "rgb(5,48,97)"
            ]
           ],
           "sequential": [
            [
             0,
             "#440154"
            ],
            [
             0.1111111111111111,
             "#482878"
            ],
            [
             0.2222222222222222,
             "#3e4989"
            ],
            [
             0.3333333333333333,
             "#31688e"
            ],
            [
             0.4444444444444444,
             "#26828e"
            ],
            [
             0.5555555555555556,
             "#1f9e89"
            ],
            [
             0.6666666666666666,
             "#35b779"
            ],
            [
             0.7777777777777778,
             "#6ece58"
            ],
            [
             0.8888888888888888,
             "#b5de2b"
            ],
            [
             1,
             "#fde725"
            ]
           ],
           "sequentialminus": [
            [
             0,
             "#440154"
            ],
            [
             0.1111111111111111,
             "#482878"
            ],
            [
             0.2222222222222222,
             "#3e4989"
            ],
            [
             0.3333333333333333,
             "#31688e"
            ],
            [
             0.4444444444444444,
             "#26828e"
            ],
            [
             0.5555555555555556,
             "#1f9e89"
            ],
            [
             0.6666666666666666,
             "#35b779"
            ],
            [
             0.7777777777777778,
             "#6ece58"
            ],
            [
             0.8888888888888888,
             "#b5de2b"
            ],
            [
             1,
             "#fde725"
            ]
           ]
          },
          "colorway": [
           "#1F77B4",
           "#FF7F0E",
           "#2CA02C",
           "#D62728",
           "#9467BD",
           "#8C564B",
           "#E377C2",
           "#7F7F7F",
           "#BCBD22",
           "#17BECF"
          ],
          "font": {
           "color": "rgb(36,36,36)"
          },
          "geo": {
           "bgcolor": "white",
           "lakecolor": "white",
           "landcolor": "white",
           "showlakes": true,
           "showland": true,
           "subunitcolor": "white"
          },
          "hoverlabel": {
           "align": "left"
          },
          "hovermode": "closest",
          "mapbox": {
           "style": "light"
          },
          "paper_bgcolor": "white",
          "plot_bgcolor": "white",
          "polar": {
           "angularaxis": {
            "gridcolor": "rgb(232,232,232)",
            "linecolor": "rgb(36,36,36)",
            "showgrid": false,
            "showline": true,
            "ticks": "outside"
           },
           "bgcolor": "white",
           "radialaxis": {
            "gridcolor": "rgb(232,232,232)",
            "linecolor": "rgb(36,36,36)",
            "showgrid": false,
            "showline": true,
            "ticks": "outside"
           }
          },
          "scene": {
           "xaxis": {
            "backgroundcolor": "white",
            "gridcolor": "rgb(232,232,232)",
            "gridwidth": 2,
            "linecolor": "rgb(36,36,36)",
            "showbackground": true,
            "showgrid": false,
            "showline": true,
            "ticks": "outside",
            "zeroline": false,
            "zerolinecolor": "rgb(36,36,36)"
           },
           "yaxis": {
            "backgroundcolor": "white",
            "gridcolor": "rgb(232,232,232)",
            "gridwidth": 2,
            "linecolor": "rgb(36,36,36)",
            "showbackground": true,
            "showgrid": false,
            "showline": true,
            "ticks": "outside",
            "zeroline": false,
            "zerolinecolor": "rgb(36,36,36)"
           },
           "zaxis": {
            "backgroundcolor": "white",
            "gridcolor": "rgb(232,232,232)",
            "gridwidth": 2,
            "linecolor": "rgb(36,36,36)",
            "showbackground": true,
            "showgrid": false,
            "showline": true,
            "ticks": "outside",
            "zeroline": false,
            "zerolinecolor": "rgb(36,36,36)"
           }
          },
          "shapedefaults": {
           "fillcolor": "black",
           "line": {
            "width": 0
           },
           "opacity": 0.3
          },
          "ternary": {
           "aaxis": {
            "gridcolor": "rgb(232,232,232)",
            "linecolor": "rgb(36,36,36)",
            "showgrid": false,
            "showline": true,
            "ticks": "outside"
           },
           "baxis": {
            "gridcolor": "rgb(232,232,232)",
            "linecolor": "rgb(36,36,36)",
            "showgrid": false,
            "showline": true,
            "ticks": "outside"
           },
           "bgcolor": "white",
           "caxis": {
            "gridcolor": "rgb(232,232,232)",
            "linecolor": "rgb(36,36,36)",
            "showgrid": false,
            "showline": true,
            "ticks": "outside"
           }
          },
          "title": {
           "x": 0.05
          },
          "xaxis": {
           "automargin": true,
           "gridcolor": "rgb(232,232,232)",
           "linecolor": "rgb(36,36,36)",
           "showgrid": false,
           "showline": true,
           "ticks": "outside",
           "title": {
            "standoff": 15
           },
           "zeroline": false,
           "zerolinecolor": "rgb(36,36,36)"
          },
          "yaxis": {
           "automargin": true,
           "gridcolor": "rgb(232,232,232)",
           "linecolor": "rgb(36,36,36)",
           "showgrid": false,
           "showline": true,
           "ticks": "outside",
           "title": {
            "standoff": 15
           },
           "zeroline": false,
           "zerolinecolor": "rgb(36,36,36)"
          }
         }
        },
        "xaxis": {
         "range": [
          0,
          208
         ],
         "title": {
          "text": "TRs"
         }
        },
        "yaxis": {
         "range": [
          -4,
          4
         ],
         "title": {
          "standoff": 0,
          "text": "z-score"
         },
         "type": "linear"
        }
       }
      },
      "image/png": "[encoded data removed]",
      "text/html": [
       "<div>                            <div id=\"eb040df2-039c-41b5-ac6f-c52c1a0e282c\" class=\"plotly-graph-div\" style=\"height:525px; width:100%;\"></div>            <script type=\"text/javascript\">                require([\"plotly\"], function(Plotly) {                    window.PLOTLYENV=window.PLOTLYENV || {};                                    if (document.getElementById(\"eb040df2-039c-41b5-ac6f-c52c1a0e282c\")) {                    Plotly.newPlot(                        \"eb040df2-039c-41b5-ac6f-c52c1a0e282c\",                        [{\"line\":{\"color\":\"black\"},\"mode\":\"markers\",\"name\":\"data\",\"y\":[-1.1487547159194946,-1.4274852275848389,-1.7658406496047974,-0.35578545928001404,0.605377733707428,-0.06691619008779526,-0.9930787086486816,-0.6763895750045776,-0.9111416935920715,-1.2043609619140625,-1.274961233139038,-0.9380245804786682,-0.38006508350372314,-0.2904486656188965,-0.8463435769081116,-0.36502084136009216,-1.379836082458496,-1.1152799129486084,-0.0958804190158844,-0.6228379011154175,0.5141015648841858,0.8091444969177246,0.6136025190353394,1.3872644901275635,1.4558002948760986,1.4614083766937256,1.9055086374282837,2.4436757564544678,1.8795827627182007,1.4353286027908325,0.7026903033256531,1.176303505897522,0.8667851686477661,0.6456184387207031,1.2411584854125977,1.9579360485076904,2.057771682739258,1.5469024181365967,1.140278935432434,0.8562648892402649,0.9750597476959229,-0.06457389146089554,0.47544023394584656,-0.2553543150424957,0.6479674577713013,0.12232834100723267,0.013043270446360111,0.2772882878780365,1.1351860761642456,0.24829058349132538,-0.2658478021621704,-1.0777729749679565,-1.5729990005493164,-1.2946699857711792,-1.2278944253921509,-1.4162187576293945,-1.4982393980026245,-1.8715553283691406,-1.8801348209381104,-1.6893577575683594,-1.4257586002349854,-1.240449070930481,-1.8863152265548706,-1.4686928987503052,-1.5569140911102295,-1.6627358198165894,-1.1815871000289917,-0.6684090495109558,-0.25094741582870483,0.12519264221191406,0.5160624384880066,0.32987627387046814,0.35167306661605835,0.36806246638298035,0.08889366686344147,0.8210099339485168,0.6492121815681458,0.2363448590040207,0.5728866457939148,0.608349084854126,0.8434759378433228,0.30480027198791504,0.12293733656406403,0.04942924156785011,0.7238780856132507,0.9905121922492981,0.973955512046814,0.8702852725982666,0.3177163898944855,0.9845359921455383,0.7546960711479187,1.4690510034561157,1.350523829460144,1.9389901161193848,0.5755836367607117,1.2982838153839111,0.7165232300758362,0.604648232460022,-0.3074571192264557,-1.0003163814544678,-1.0744736194610596,-1.1213765144348145,-0.4111842215061188,-0.6301023960113525,-0.6694396734237671,-1.329821228981018,-0.749994695186615,-0.9503250122070312,-0.9584059715270996,-1.4132941961288452,-0.06468096375465393,-0.9776362776756287,-0.6505774259567261,-0.7249521613121033,-1.0379036664962769,-0.7870867252349854,-0.3025951683521271,0.1887693852186203,0.9608988165855408,0.9089064598083496,0.750680685043335,0.9885580539703369,0.8023518323898315,1.1760358810424805,0.6307147145271301,0.5303504467010498,0.7755358219146729,0.16130422055721283,-0.9070426225662231,0.541847825050354,0.7687097191810608,0.47120401263237,0.5353228449821472,0.5704439878463745,0.4862215220928192,0.4628118872642517,0.14703626930713654,-0.15918610990047455,-0.016335876658558846,0.2780645787715912,0.07882177084684372,0.3995496928691864,0.26728999614715576,0.4478144645690918,1.124672532081604,0.010326201096177101,-0.3455864191055298,-0.7487633228302002,-1.052432656288147,-0.9734067320823669,-1.2792778015136719,-0.6952551603317261,-0.7175170183181763,-2.2559938430786133,-1.3595852851867676,-1.485457181930542,-1.150779128074646,-1.3118056058883667,-1.3078538179397583,-1.7126871347427368,-0.7483885884284973,-0.9703081846237183,-0.9000692963600159,0.7184974551200867,0.6781630516052246,0.7098443508148193,1.3276429176330566,0.968200147151947,0.640418529510498,1.3085163831710815,0.7542543411254883,0.45844852924346924,0.6285999417304993,0.042516108602285385,0.3614371120929718,0.41377079486846924,1.2676130533218384,0.7349872589111328,-0.5166747570037842,0.8479397296905518,0.9144008159637451,1.006613850593567,1.155918836593628,0.6781295537948608,0.6585947871208191,0.7284556031227112,1.344159483909607,1.9925419092178345,1.5073643922805786,0.5429587364196777,0.8999990224838257,0.7371153831481934,0.6594246625900269,0.1410801261663437,-0.7223154306411743,-0.9356722831726074,-1.714289903640747,-0.7357903122901917,-0.9791821837425232,-1.2932881116867065,-1.906164526939392,-1.4135082960128784,-1.1243747472763062,-0.43759870529174805,-0.30367597937583923,-0.039397500455379486,-0.5664687752723694,-0.18731380999088287],\"type\":\"scatter\"},{\"line\":{\"color\":\"#87CEEB\",\"width\":4},\"name\":\"GLM\",\"y\":[-0.8035980463027954,-0.8035980463027954,-0.8035980463027954,-0.8035980463027954,-0.8035980463027954,-0.8035980463027954,-0.8035980463027954,-0.8035980463027954,-0.8035980463027954,-0.8035980463027954,-0.8035980463027954,-0.8035980463027954,-0.8035980463027954,-0.8035980463027954,-0.8035980463027954,-0.8035980463027954,-0.8035980463027954,-0.8035980463027954,-0.8035980463027954,-0.8035980463027954,-0.7971333265304565,-0.6704779267311096,-0.2491975873708725,0.4018377959728241,0.9585022330284119,1.092195749282837,0.8228361010551453,0.49360421299934387,0.4715595543384552,0.7725170254707336,1.0787078142166138,1.0473920106887817,0.6845694780349731,0.3232497274875641,0.30850884318351746,0.630422055721283,0.9523460268974304,0.9333303570747375,0.5885124802589417,0.2539835274219513,0.26708337664604187,0.6085830926895142,0.9371774792671204,0.917701005935669,0.5746894478797913,0.25281044840812683,0.28189000487327576,0.6298306584358215,0.9476504921913147,0.9109622240066528,0.5466068387031555,0.0676257312297821,-0.3577204644680023,-0.6663531064987183,-0.8626863956451416,-0.9733554124832153,-1.0240691900253296,-1.0342189073562622,-1.0182512998580933,-0.9876101613044739,-0.9512606859207153,-0.9156283140182495,-0.8844658136367798,-0.8593692779541016,-0.8403984308242798,-0.8268809914588928,-0.8177756667137146,-0.8120033144950867,-0.7910037040710449,-0.601443350315094,-0.10709663480520248,0.5596279501914978,1.034749984741211,1.0560253858566284,0.7331360578536987,0.4600785970687866,0.5340902209281921,0.8748633861541748,1.1131511926651,0.9785016775131226,0.5732924938201904,0.27985864877700806,0.3682877719402313,0.7318127155303955,0.98578941822052,0.8656743168830872,0.48199015855789185,0.21752698719501495,0.3329862654209137,0.713196873664856,0.9712588787078857,0.8503556251525879,0.47083762288093567,0.22112201154232025,0.35114678740501404,0.7333753108978271,0.9773134589195251,0.8400065302848816,0.4244452118873596,-0.0523906871676445,-0.44976627826690674,-0.7272536754608154,-0.8985428214073181,-0.991424024105072,-1.029952883720398,-1.0320907831192017,-1.0112829208374023,-0.9784083366394043,-0.9417127370834351,-0.9070055484771729,-0.8773281574249268,-0.8538841605186462,-0.8363906741142273,-0.8241389393806458,-0.8159817457199097,-0.8106555938720703,-0.76479572057724,-0.4931916892528534,0.07451730966567993,0.7294707894325256,1.0883930921554565,0.9871481657028198,0.6325319409370422,0.44251880049705505,0.6147088408470154,0.9698964357376099,1.115255355834961,0.8793299198150635,0.4589206874370575,0.2550252377986908,0.4419909715652466,0.8211191892623901,0.989866316318512,0.7779521942138672,0.3875526487827301,0.21887321770191193,0.4330359399318695,0.8202497959136963,0.979922354221344,0.7581512928009033,0.3709700405597687,0.21827732026576996,0.44636237621307373,0.8324471712112427,0.9774125218391418,0.741567850112915,0.2884877026081085,-0.17532704770565033,-0.5397851467132568,-0.784936249256134,-0.9313772916793823,-1.006888508796692,-1.033613681793213,-1.0281221866607666,-1.0029069185256958,-0.9682373404502869,-0.9315958619117737,-0.8981080651283264,-0.8701210618019104,-0.8484324216842651,-0.8324763178825378,-0.8214944005012512,-0.814285397529602,-0.807929515838623,-0.7236751317977905,-0.3702199161052704,0.2510347366333008,0.8649542927742004,1.1038113832473755,0.9034806489944458,0.5521566271781921,0.45373472571372986,0.7043527960777283,1.0418899059295654,1.0883954763412476,0.772745668888092,0.37514153122901917,0.27880293130874634,0.551314651966095,0.9081223011016846,0.9683791995048523,0.6703524589538574,0.2990613579750061,0.23192822933197021,0.5267260074615479,0.8929049372673035,0.9534595012664795,0.6558982729911804,0.29503753781318665,0.24423019587993622,0.5482615828514099,0.9067546129226685,0.9500020146369934,0.6357783675193787,0.1629355549812317,-0.2812977731227875,-0.6142950654029846,-0.8311973214149475,-0.9567376375198364,-1.0177104473114014,-1.034681797027588,-1.0229613780975342,-0.9944419860839844,-0.9586471915245056,-0.9224706292152405,-0.890241801738739,-0.8638781309127808,-0.8437390327453613],\"type\":\"scatter\"},{\"line\":{\"color\":\"#E377C2\",\"width\":10},\"mode\":\"lines\",\"name\":\"Pursuit periode\",\"showlegend\":true,\"y\":[null,null,null,null,null,null,null,null,null,null,null,null,null,null,null,null,null,null,null,-4.0,-4.0,-4.0,null,null,null,-4.0,-4.0,-4.0,null,null,null,-4.0,-4.0,-4.0,null,null,null,-4.0,-4.0,-4.0,null,null,null,-4.0,-4.0,-4.0,null,null,null,null,null,null,null,null,null,null,null,null,null,null,null,null,null,null,null,null,null,-4.0,-4.0,-4.0,null,null,null,-4.0,-4.0,-4.0,null,null,null,-4.0,-4.0,-4.0,null,null,null,-4.0,-4.0,-4.0,null,null,null,-4.0,-4.0,-4.0,null,null,null,null,null,null,null,null,null,null,null,null,null,null,null,null,null,null,null,null,null,-4.0,-4.0,-4.0,null,null,null,-4.0,-4.0,-4.0,null,null,null,-4.0,-4.0,-4.0,null,null,null,-4.0,-4.0,-4.0,null,null,null,-4.0,-4.0,-4.0,null,null,null,null,null,null,null,null,null,null,null,null,null,null,null,null,null,null,null,null,null,-4.0,-4.0,-4.0,null,null,null,-4.0,-4.0,-4.0,null,null,null,-4.0,-4.0,-4.0,null,null,null,-4.0,-4.0,-4.0,null,null,null,-4.0,-4.0,-4.0,null,null,null,null,null,null,null,null,null,null,null,null,null,null,null,null,null,null],\"type\":\"scatter\"}],                        {\"template\":{\"data\":{\"barpolar\":[{\"marker\":{\"line\":{\"color\":\"white\",\"width\":0.5},\"pattern\":{\"fillmode\":\"overlay\",\"size\":10,\"solidity\":0.2}},\"type\":\"barpolar\"}],\"bar\":[{\"error_x\":{\"color\":\"rgb(36,36,36)\"},\"error_y\":{\"color\":\"rgb(36,36,36)\"},\"marker\":{\"line\":{\"color\":\"white\",\"width\":0.5},\"pattern\":{\"fillmode\":\"overlay\",\"size\":10,\"solidity\":0.2}},\"type\":\"bar\"}],\"carpet\":[{\"aaxis\":{\"endlinecolor\":\"rgb(36,36,36)\",\"gridcolor\":\"white\",\"linecolor\":\"white\",\"minorgridcolor\":\"white\",\"startlinecolor\":\"rgb(36,36,36)\"},\"baxis\":{\"endlinecolor\":\"rgb(36,36,36)\",\"gridcolor\":\"white\",\"linecolor\":\"white\",\"minorgridcolor\":\"white\",\"startlinecolor\":\"rgb(36,36,36)\"},\"type\":\"carpet\"}],\"choropleth\":[{\"colorbar\":{\"outlinewidth\":1,\"tickcolor\":\"rgb(36,36,36)\",\"ticks\":\"outside\"},\"type\":\"choropleth\"}],\"contourcarpet\":[{\"colorbar\":{\"outlinewidth\":1,\"tickcolor\":\"rgb(36,36,36)\",\"ticks\":\"outside\"},\"type\":\"contourcarpet\"}],\"contour\":[{\"colorbar\":{\"outlinewidth\":1,\"tickcolor\":\"rgb(36,36,36)\",\"ticks\":\"outside\"},\"colorscale\":[[0.0,\"#440154\"],[0.1111111111111111,\"#482878\"],[0.2222222222222222,\"#3e4989\"],[0.3333333333333333,\"#31688e\"],[0.4444444444444444,\"#26828e\"],[0.5555555555555556,\"#1f9e89\"],[0.6666666666666666,\"#35b779\"],[0.7777777777777778,\"#6ece58\"],[0.8888888888888888,\"#b5de2b\"],[1.0,\"#fde725\"]],\"type\":\"contour\"}],\"heatmapgl\":[{\"colorbar\":{\"outlinewidth\":1,\"tickcolor\":\"rgb(36,36,36)\",\"ticks\":\"outside\"},\"colorscale\":[[0.0,\"#440154\"],[0.1111111111111111,\"#482878\"],[0.2222222222222222,\"#3e4989\"],[0.3333333333333333,\"#31688e\"],[0.4444444444444444,\"#26828e\"],[0.5555555555555556,\"#1f9e89\"],[0.6666666666666666,\"#35b779\"],[0.7777777777777778,\"#6ece58\"],[0.8888888888888888,\"#b5de2b\"],[1.0,\"#fde725\"]],\"type\":\"heatmapgl\"}],\"heatmap\":[{\"colorbar\":{\"outlinewidth\":1,\"tickcolor\":\"rgb(36,36,36)\",\"ticks\":\"outside\"},\"colorscale\":[[0.0,\"#440154\"],[0.1111111111111111,\"#482878\"],[0.2222222222222222,\"#3e4989\"],[0.3333333333333333,\"#31688e\"],[0.4444444444444444,\"#26828e\"],[0.5555555555555556,\"#1f9e89\"],[0.6666666666666666,\"#35b779\"],[0.7777777777777778,\"#6ece58\"],[0.8888888888888888,\"#b5de2b\"],[1.0,\"#fde725\"]],\"type\":\"heatmap\"}],\"histogram2dcontour\":[{\"colorbar\":{\"outlinewidth\":1,\"tickcolor\":\"rgb(36,36,36)\",\"ticks\":\"outside\"},\"colorscale\":[[0.0,\"#440154\"],[0.1111111111111111,\"#482878\"],[0.2222222222222222,\"#3e4989\"],[0.3333333333333333,\"#31688e\"],[0.4444444444444444,\"#26828e\"],[0.5555555555555556,\"#1f9e89\"],[0.6666666666666666,\"#35b779\"],[0.7777777777777778,\"#6ece58\"],[0.8888888888888888,\"#b5de2b\"],[1.0,\"#fde725\"]],\"type\":\"histogram2dcontour\"}],\"histogram2d\":[{\"colorbar\":{\"outlinewidth\":1,\"tickcolor\":\"rgb(36,36,36)\",\"ticks\":\"outside\"},\"colorscale\":[[0.0,\"#440154\"],[0.1111111111111111,\"#482878\"],[0.2222222222222222,\"#3e4989\"],[0.3333333333333333,\"#31688e\"],[0.4444444444444444,\"#26828e\"],[0.5555555555555556,\"#1f9e89\"],[0.6666666666666666,\"#35b779\"],[0.7777777777777778,\"#6ece58\"],[0.8888888888888888,\"#b5de2b\"],[1.0,\"#fde725\"]],\"type\":\"histogram2d\"}],\"histogram\":[{\"marker\":{\"line\":{\"color\":\"white\",\"width\":0.6}},\"type\":\"histogram\"}],\"mesh3d\":[{\"colorbar\":{\"outlinewidth\":1,\"tickcolor\":\"rgb(36,36,36)\",\"ticks\":\"outside\"},\"type\":\"mesh3d\"}],\"parcoords\":[{\"line\":{\"colorbar\":{\"outlinewidth\":1,\"tickcolor\":\"rgb(36,36,36)\",\"ticks\":\"outside\"}},\"type\":\"parcoords\"}],\"pie\":[{\"automargin\":true,\"type\":\"pie\"}],\"scatter3d\":[{\"line\":{\"colorbar\":{\"outlinewidth\":1,\"tickcolor\":\"rgb(36,36,36)\",\"ticks\":\"outside\"}},\"marker\":{\"colorbar\":{\"outlinewidth\":1,\"tickcolor\":\"rgb(36,36,36)\",\"ticks\":\"outside\"}},\"type\":\"scatter3d\"}],\"scattercarpet\":[{\"marker\":{\"colorbar\":{\"outlinewidth\":1,\"tickcolor\":\"rgb(36,36,36)\",\"ticks\":\"outside\"}},\"type\":\"scattercarpet\"}],\"scattergeo\":[{\"marker\":{\"colorbar\":{\"outlinewidth\":1,\"tickcolor\":\"rgb(36,36,36)\",\"ticks\":\"outside\"}},\"type\":\"scattergeo\"}],\"scattergl\":[{\"marker\":{\"colorbar\":{\"outlinewidth\":1,\"tickcolor\":\"rgb(36,36,36)\",\"ticks\":\"outside\"}},\"type\":\"scattergl\"}],\"scattermapbox\":[{\"marker\":{\"colorbar\":{\"outlinewidth\":1,\"tickcolor\":\"rgb(36,36,36)\",\"ticks\":\"outside\"}},\"type\":\"scattermapbox\"}],\"scatterpolargl\":[{\"marker\":{\"colorbar\":{\"outlinewidth\":1,\"tickcolor\":\"rgb(36,36,36)\",\"ticks\":\"outside\"}},\"type\":\"scatterpolargl\"}],\"scatterpolar\":[{\"marker\":{\"colorbar\":{\"outlinewidth\":1,\"tickcolor\":\"rgb(36,36,36)\",\"ticks\":\"outside\"}},\"type\":\"scatterpolar\"}],\"scatter\":[{\"fillpattern\":{\"fillmode\":\"overlay\",\"size\":10,\"solidity\":0.2},\"type\":\"scatter\"}],\"scatterternary\":[{\"marker\":{\"colorbar\":{\"outlinewidth\":1,\"tickcolor\":\"rgb(36,36,36)\",\"ticks\":\"outside\"}},\"type\":\"scatterternary\"}],\"surface\":[{\"colorbar\":{\"outlinewidth\":1,\"tickcolor\":\"rgb(36,36,36)\",\"ticks\":\"outside\"},\"colorscale\":[[0.0,\"#440154\"],[0.1111111111111111,\"#482878\"],[0.2222222222222222,\"#3e4989\"],[0.3333333333333333,\"#31688e\"],[0.4444444444444444,\"#26828e\"],[0.5555555555555556,\"#1f9e89\"],[0.6666666666666666,\"#35b779\"],[0.7777777777777778,\"#6ece58\"],[0.8888888888888888,\"#b5de2b\"],[1.0,\"#fde725\"]],\"type\":\"surface\"}],\"table\":[{\"cells\":{\"fill\":{\"color\":\"rgb(237,237,237)\"},\"line\":{\"color\":\"white\"}},\"header\":{\"fill\":{\"color\":\"rgb(217,217,217)\"},\"line\":{\"color\":\"white\"}},\"type\":\"table\"}]},\"layout\":{\"annotationdefaults\":{\"arrowhead\":0,\"arrowwidth\":1},\"autotypenumbers\":\"strict\",\"coloraxis\":{\"colorbar\":{\"outlinewidth\":1,\"tickcolor\":\"rgb(36,36,36)\",\"ticks\":\"outside\"}},\"colorscale\":{\"diverging\":[[0.0,\"rgb(103,0,31)\"],[0.1,\"rgb(178,24,43)\"],[0.2,\"rgb(214,96,77)\"],[0.3,\"rgb(244,165,130)\"],[0.4,\"rgb(253,219,199)\"],[0.5,\"rgb(247,247,247)\"],[0.6,\"rgb(209,229,240)\"],[0.7,\"rgb(146,197,222)\"],[0.8,\"rgb(67,147,195)\"],[0.9,\"rgb(33,102,172)\"],[1.0,\"rgb(5,48,97)\"]],\"sequential\":[[0.0,\"#440154\"],[0.1111111111111111,\"#482878\"],[0.2222222222222222,\"#3e4989\"],[0.3333333333333333,\"#31688e\"],[0.4444444444444444,\"#26828e\"],[0.5555555555555556,\"#1f9e89\"],[0.6666666666666666,\"#35b779\"],[0.7777777777777778,\"#6ece58\"],[0.8888888888888888,\"#b5de2b\"],[1.0,\"#fde725\"]],\"sequentialminus\":[[0.0,\"#440154\"],[0.1111111111111111,\"#482878\"],[0.2222222222222222,\"#3e4989\"],[0.3333333333333333,\"#31688e\"],[0.4444444444444444,\"#26828e\"],[0.5555555555555556,\"#1f9e89\"],[0.6666666666666666,\"#35b779\"],[0.7777777777777778,\"#6ece58\"],[0.8888888888888888,\"#b5de2b\"],[1.0,\"#fde725\"]]},\"colorway\":[\"#1F77B4\",\"#FF7F0E\",\"#2CA02C\",\"#D62728\",\"#9467BD\",\"#8C564B\",\"#E377C2\",\"#7F7F7F\",\"#BCBD22\",\"#17BECF\"],\"font\":{\"color\":\"rgb(36,36,36)\"},\"geo\":{\"bgcolor\":\"white\",\"lakecolor\":\"white\",\"landcolor\":\"white\",\"showlakes\":true,\"showland\":true,\"subunitcolor\":\"white\"},\"hoverlabel\":{\"align\":\"left\"},\"hovermode\":\"closest\",\"mapbox\":{\"style\":\"light\"},\"paper_bgcolor\":\"white\",\"plot_bgcolor\":\"white\",\"polar\":{\"angularaxis\":{\"gridcolor\":\"rgb(232,232,232)\",\"linecolor\":\"rgb(36,36,36)\",\"showgrid\":false,\"showline\":true,\"ticks\":\"outside\"},\"bgcolor\":\"white\",\"radialaxis\":{\"gridcolor\":\"rgb(232,232,232)\",\"linecolor\":\"rgb(36,36,36)\",\"showgrid\":false,\"showline\":true,\"ticks\":\"outside\"}},\"scene\":{\"xaxis\":{\"backgroundcolor\":\"white\",\"gridcolor\":\"rgb(232,232,232)\",\"gridwidth\":2,\"linecolor\":\"rgb(36,36,36)\",\"showbackground\":true,\"showgrid\":false,\"showline\":true,\"ticks\":\"outside\",\"zeroline\":false,\"zerolinecolor\":\"rgb(36,36,36)\"},\"yaxis\":{\"backgroundcolor\":\"white\",\"gridcolor\":\"rgb(232,232,232)\",\"gridwidth\":2,\"linecolor\":\"rgb(36,36,36)\",\"showbackground\":true,\"showgrid\":false,\"showline\":true,\"ticks\":\"outside\",\"zeroline\":false,\"zerolinecolor\":\"rgb(36,36,36)\"},\"zaxis\":{\"backgroundcolor\":\"white\",\"gridcolor\":\"rgb(232,232,232)\",\"gridwidth\":2,\"linecolor\":\"rgb(36,36,36)\",\"showbackground\":true,\"showgrid\":false,\"showline\":true,\"ticks\":\"outside\",\"zeroline\":false,\"zerolinecolor\":\"rgb(36,36,36)\"}},\"shapedefaults\":{\"fillcolor\":\"black\",\"line\":{\"width\":0},\"opacity\":0.3},\"ternary\":{\"aaxis\":{\"gridcolor\":\"rgb(232,232,232)\",\"linecolor\":\"rgb(36,36,36)\",\"showgrid\":false,\"showline\":true,\"ticks\":\"outside\"},\"baxis\":{\"gridcolor\":\"rgb(232,232,232)\",\"linecolor\":\"rgb(36,36,36)\",\"showgrid\":false,\"showline\":true,\"ticks\":\"outside\"},\"bgcolor\":\"white\",\"caxis\":{\"gridcolor\":\"rgb(232,232,232)\",\"linecolor\":\"rgb(36,36,36)\",\"showgrid\":false,\"showline\":true,\"ticks\":\"outside\"}},\"title\":{\"x\":0.05},\"xaxis\":{\"automargin\":true,\"gridcolor\":\"rgb(232,232,232)\",\"linecolor\":\"rgb(36,36,36)\",\"showgrid\":false,\"showline\":true,\"ticks\":\"outside\",\"title\":{\"standoff\":15},\"zeroline\":false,\"zerolinecolor\":\"rgb(36,36,36)\"},\"yaxis\":{\"automargin\":true,\"gridcolor\":\"rgb(232,232,232)\",\"linecolor\":\"rgb(36,36,36)\",\"showgrid\":false,\"showline\":true,\"ticks\":\"outside\",\"title\":{\"standoff\":15},\"zeroline\":false,\"zerolinecolor\":\"rgb(36,36,36)\"}}},\"annotations\":[{\"showarrow\":false,\"text\":\"R\\u003csup\\u003e2\\u003c\\u002fsup\\u003e=0.77\",\"x\":198,\"y\":4}],\"yaxis\":{\"title\":{\"text\":\"z-score\",\"standoff\":0},\"range\":[-4,4]},\"xaxis\":{\"title\":{\"text\":\"TRs\"},\"range\":[0,208]},\"showlegend\":true},                        {\"responsive\": true}                    ).then(function(){\n",
       "                            \n",
       "var gd = document.getElementById('eb040df2-039c-41b5-ac6f-c52c1a0e282c');\n",
       "var x = new MutationObserver(function (mutations, observer) {{\n",
       "        var display = window.getComputedStyle(gd).display;\n",
       "        if (!display || display === 'none') {{\n",
       "            console.log([gd, 'removed!']);\n",
       "            Plotly.purge(gd);\n",
       "            observer.disconnect();\n",
       "        }}\n",
       "}});\n",
       "\n",
       "// Listen for the removal of the full notebook cells\n",
       "var notebookContainer = gd.closest('#notebook-container');\n",
       "if (notebookContainer) {{\n",
       "    x.observe(notebookContainer, {childList: true});\n",
       "}}\n",
       "\n",
       "// Listen for the clearing of the current output cell\n",
       "var outputEl = gd.closest('.output');\n",
       "if (outputEl) {{\n",
       "    x.observe(outputEl, {childList: true});\n",
       "}}\n",
       "\n",
       "                        })                };                });            </script>        </div>"
      ]
     },
     "metadata": {},
     "output_type": "display_data"
    }
   ],
   "source": [
    "# plot best voxel for left hemisphere\n",
    "max_indices = np.nanargmax(glm_fit_data[rvalue_idx,:])\n",
    "# num_vert = 6150\n",
    "num_vert = max_indices\n",
    "num_vert_r2 = num_vert\n",
    "\n",
    "\n",
    "fig5 = go.Figure()\n",
    "# plot data time series\n",
    "fig5.add_trace(go.Scatter(y=bold_glm_data[:,num_vert],\n",
    "                         name='data', \n",
    "                         mode='markers', \n",
    "                          line=dict(color='black') \n",
    "                         ))\n",
    "\n",
    "# plot pRF prediction\n",
    "fig5.add_trace(go.Scatter(y=glm_pred_data[:,num_vert_r2],\n",
    "                          line=dict(color='#87CEEB' ,width=4),\n",
    "                          \n",
    "                         name='GLM'))\n",
    "\n",
    "# # for prf\n",
    "# fig5.add_annotation(text='R<sup>2</sup>={:1.2f}'.format(prf_fit_data[rvalue_idx,num_vert_r2]),  \n",
    "#                     x=198,  \n",
    "#                     y=4,\n",
    "#                     showarrow=False\n",
    "#                    )\n",
    "\n",
    "# for glm\n",
    "fig5.add_annotation(text='R<sup>2</sup>={:1.2f}'.format(glm_fit_data[rvalue_idx,num_vert_r2]),  \n",
    "                    x=198,  \n",
    "                    y=4,\n",
    "                    showarrow=False\n",
    "                   )\n",
    "\n",
    "\n",
    "fig5.add_trace(go.Scatter(y=task_periode*-4,\n",
    "                          name='{} periode'.format(task_name),\n",
    "                          mode='lines',\n",
    "                          showlegend = True,\n",
    "                          line=dict(width=10, color=color ) \n",
    "                         ))\n",
    "\n",
    "fig5.update_layout(template='simple_white', \n",
    "                   # title = '{} vertex time series for {} noise model'.format(num_vert,noise_model_2), \n",
    "                   xaxis_title = 'TRs', \n",
    "                   yaxis_title = 'z-score', \n",
    "                   showlegend= True,\n",
    "                   # height=350, \n",
    "                   yaxis=dict(title_standoff=0))\n",
    "\n",
    "fig5.update_xaxes(range=[0,bold_glm_data.shape[0]])\n",
    "\n",
    "fig5.update_yaxes(range=[-4,4])\n",
    "fig5.write_image('/Users/uriel/Downloads/glm_{}.pdf'.format(task), width=1000, height=300)\n",
    "\n",
    "fig5.show()"
   ]
  },
  {
   "cell_type": "markdown",
   "id": "11f314cc-9820-43da-ada5-6ac8fb27ee56",
   "metadata": {
    "jp-MarkdownHeadingCollapsed": true,
    "tags": []
   },
   "source": [
    "# Ecc size"
   ]
  },
  {
   "cell_type": "code",
   "execution_count": null,
   "id": "296f0d71-9cf6-477e-9525-c1364f050fbf",
   "metadata": {
    "tags": []
   },
   "outputs": [],
   "source": [
    "def prf_ecc_size_plot(data, subject, fig_height, fig_width, ecc_th=[None,None], size_th=[None,None], rsq_th=[None,None]) :\n",
    "    \"\"\"\n",
    "    Make violins plots for pRF r2/loo_r2, ecc and size\n",
    "\n",
    "    Parameters\n",
    "    ----------\n",
    "    data : A data frame with prf_rsq, prf_ecc, prf_size, prf_loo_r2, rois and subject columns\n",
    "    \n",
    "    Returns\n",
    "    -------\n",
    "    fig : the figure \n",
    "    \"\"\"\n",
    "    \n",
    "    from maths_utils import weighted_regression, bootstrap_ci_mean\n",
    "    data = data.copy()\n",
    "    \n",
    "    \n",
    "    # fig_height, fig_width = 1080, 190\n",
    "    rows, cols = 1,2\n",
    "\n",
    "    # Replace all data outer threshold with NaN data\n",
    "    data.loc[(data.prf_ecc < ecc_th[0]) | (data.prf_ecc > ecc_th[1]) | \n",
    "              (data.prf_size < size_th[0]) | (data.prf_size > size_th[1]) | \n",
    "              (data.prf_loo_r2 <=rsq_th[0])] = np.nan\n",
    "    \n",
    "    data = data.dropna()\n",
    "\n",
    "    # Define colors\n",
    "    roi_colors = px.colors.sequential.Sunset[:4] + px.colors.sequential.Rainbow[:]\n",
    "    roi_colors =roi_colors[-7:]\n",
    "    \n",
    "    lines = [['iIPS', 'sIPS'],['iPCS', 'sPCS', 'mPCS']]\n",
    "\n",
    "    fig = make_subplots(rows=rows, cols=cols, print_grid=False)\n",
    "    for l, line_label in enumerate(lines):\n",
    "        for j, roi in enumerate(line_label):\n",
    "            \n",
    "            # Sorting best datas\n",
    "            df = data.loc[(data.subject == subject) & (data.rois == roi)]\n",
    "            \n",
    "            # Parametring colors\n",
    "            roi_color = roi_colors[j + l * 3]\n",
    "            roi_color_opac = f\"rgba{roi_color[3:-1]}, 0.15)\"\n",
    "            \n",
    "            # Grouping by eccentricities\n",
    "            df_grouped = df.groupby(pd.cut(df['prf_ecc'], bins=np.arange(0, 17.5, 2.5)))\n",
    "            df_sorted = df.sort_values('prf_ecc')\n",
    "            \n",
    "            ecc_mean = np.array(df_grouped['prf_ecc'].mean())\n",
    "            sd_mean = np.array(df_grouped['prf_size'].mean())\n",
    "            r2_mean = np.array(df_grouped['prf_loo_r2'].mean())\n",
    "            \n",
    "\n",
    "            ci = df_grouped['prf_size'].apply(lambda x: bootstrap_ci_mean(x))\n",
    "            upper_bound = np.array(ci.apply(lambda x: x[1] if not np.isnan(x[1]) else np.nan))\n",
    "            lower_bound = np.array(ci.apply(lambda x: x[0] if not np.isnan(x[0]) else np.nan))\n",
    "            \n",
    "            # Linear regression\n",
    "            slope, intercept = weighted_regression(ecc_mean, \n",
    "                                                    sd_mean, \n",
    "                                                    r2_mean,\n",
    "                                                    model='linear')\n",
    "            \n",
    "            slope_upper, intercept_upper = weighted_regression(ecc_mean[np.where(~np.isnan(upper_bound))], \n",
    "                                                                upper_bound[~np.isnan(upper_bound)], \n",
    "                                                                r2_mean[np.where(~np.isnan(upper_bound))], \n",
    "                                                                model='linear')\n",
    "            \n",
    "            slope_lower, intercept_lower = weighted_regression(ecc_mean[np.where(~np.isnan(lower_bound))], \n",
    "                                                                lower_bound[~np.isnan(lower_bound)], \n",
    "                                                                r2_mean[np.where(~np.isnan(lower_bound))], \n",
    "                                                                model='linear')\n",
    "            \n",
    "            line = slope[0][0] * np.array(df_sorted.prf_ecc) + intercept[0]\n",
    "            line_upper = slope_upper[0][0] * np.array(df_sorted.prf_ecc) + intercept_upper[0]\n",
    "            line_lower = slope_lower[0][0] * np.array(df_sorted.prf_ecc) + intercept_lower[0]\n",
    "\n",
    "            fig.add_trace(go.Scatter(x=np.array(df_sorted.prf_ecc), y=line, mode='lines', name=roi, legendgroup=roi, \n",
    "                                      line=dict(color=roi_color, width=3), showlegend=False), \n",
    "                          row=1, col=l+1)\n",
    "\n",
    "            # Error area\n",
    "            fig.add_trace(go.Scatter(x=np.concatenate([df_sorted.prf_ecc, df_sorted.prf_ecc[::-1]]), \n",
    "                                      y=np.concatenate([list(line_upper), list(line_lower[::-1])]), \n",
    "                                      mode='lines', fill='toself', fillcolor=roi_color_opac, \n",
    "                                      line=dict(color=roi_color_opac, width=0), showlegend=False), \n",
    "                          row=1, col=l+1)\n",
    "\n",
    "            # Markers\n",
    "            fig.add_trace(go.Scatter(x=ecc_mean, \n",
    "                                     y=sd_mean, mode='markers', \n",
    "                                     error_y=dict(type='data', \n",
    "                                                  array=ci.apply(lambda x: (x[1] - x[0]) / 2).tolist(), \n",
    "                                                  visible=True, \n",
    "                                                  thickness=3, \n",
    "                                                  width=0, \n",
    "                                                  color=roi_color),\n",
    "                                      marker=dict(color='white', \n",
    "                                                  size=8, \n",
    "                                                  line=dict(color=roi_color, \n",
    "                                                            width=3)), \n",
    "                                      showlegend=False), \n",
    "                          row=1, col=l + 1)\n",
    "            \n",
    "            # Add legend\n",
    "            annotation = go.layout.Annotation(x=1, y=15-j*1.5, text=roi, xanchor='left',\n",
    "                                              showarrow=False, font=dict(color=roi_color, size=12))\n",
    "            fig.add_annotation(annotation, row=1, col=l+1)\n",
    "\n",
    "        # Set axis titles only for the left-most column and bottom-most row\n",
    "        fig.update_yaxes(title_text='pRF size (dva)', row=1, col=1)\n",
    "        fig.update_xaxes(title_text='pRF eccentricity (dva)', range=[0,15], row=1, col=l+1)\n",
    "        fig.update_xaxes(linewidth=2,tickwidth=2,tickfont=dict(size=14, color='black'))\n",
    "        fig.update_yaxes(range=[0,15],linewidth=2,tickwidth=2,tickfont=dict(size=14, color='black'))\n",
    "        fig.update_layout(height=fig_height, width=fig_width, showlegend=False, template='simple_white')\n",
    "        \n",
    "    return fig"
   ]
  },
  {
   "cell_type": "code",
   "execution_count": null,
   "id": "e20d86fa-05d3-4cb3-9469-bc028bca82e1",
   "metadata": {
    "tags": []
   },
   "outputs": [],
   "source": [
    "subject = 'sub-170k'\n",
    "format_ = '170k'\n",
    "tsv_dir ='{}/{}/derivatives/pp_data/{}/{}/prf/tsv'.format(main_dir, \n",
    "                                                                project_dir, \n",
    "                                                                subject,\n",
    "                                                         format_)\n",
    "\n",
    "# data = pd.read_table('{}/{}_css-prf_derivatives.tsv'.format(tsv_dir,subject))\n",
    "data = pd.read_table('{}/{}_css-prf_derivatives_group.tsv'.format(tsv_dir,subject))\n",
    "ecc_th = [0, 15]\n",
    "size_th= [0.1, 20]\n",
    "rsq_th = [0, 1]\n",
    "pcm_th = [0,20]"
   ]
  },
  {
   "cell_type": "code",
   "execution_count": null,
   "id": "6fc06d75-f690-43c5-8d2c-0caca485a7dd",
   "metadata": {
    "tags": []
   },
   "outputs": [],
   "source": [
    "categories_to_plot = ['vision',  'vision_and_pursuit_and_saccade']\n",
    "for categorie_to_plot in categories_to_plot:\n",
    "    df_categorie = data.loc[data.stats_final == categorie_to_plot]\n",
    "    fig2 = prf_ecc_size_plot(df_categorie, subject, fig_height=400, fig_width=800, ecc_th=ecc_th, size_th=size_th, rsq_th=rsq_th)\n",
    "    fig2.write_image(\"/Users/uriel/Downloads/{}_{}_ecc_size.pdf\".format(subject,categorie_to_plot))\n",
    "    fig2.show()"
   ]
  },
  {
   "cell_type": "markdown",
   "id": "4b8d8db4-fd1d-4c57-a787-a46613e9035b",
   "metadata": {},
   "source": [
    "# ECC / PCM"
   ]
  },
  {
   "cell_type": "code",
   "execution_count": null,
   "id": "3d45f5d8-5b83-41fe-8b30-094442e5d0f3",
   "metadata": {
    "tags": []
   },
   "outputs": [],
   "source": [
    "def prf_ecc_pcm_plot(data, subject, fig_height, fig_width, ecc_th=[None,None], pcm_th=[None,None], rsq_th=[None,None]) :\n",
    "    \"\"\"\n",
    "    Make figure of ecc pcm relation \n",
    "\n",
    "    Parameters\n",
    "    ----------\n",
    "    data : A data frame with prf_rsq, prf_ecc, prf_size, prf_loo_r2, pcm, rois and subject columns\n",
    "    \n",
    "    Returns\n",
    "    -------\n",
    "    fig : the figure \n",
    "    \"\"\"\n",
    "\n",
    "    from maths_utils import weighted_regression, bootstrap_ci_mean\n",
    "    data = data.copy()\n",
    "\n",
    "    # fig_height, fig_width = 1080, 1920\n",
    "    rows, cols = 1,2\n",
    "    \n",
    "    # Replace all data outer threshold with NaN data\n",
    "    data.loc[(data.prf_ecc < ecc_th[0]) | (data.prf_ecc > ecc_th[1]) | \n",
    "              (data.pcm < pcm_th[0]) | (data.pcm > pcm_th[1]) | \n",
    "              (data.prf_loo_r2 <= rsq_th[0])] = np.nan\n",
    "    \n",
    "    data = data.dropna()\n",
    "\n",
    "    # Define colors\n",
    "    roi_colors = px.colors.sequential.Sunset[:4] + px.colors.sequential.Rainbow[:]\n",
    "\n",
    "    lines = [['iIPS', 'sIPS'],['iPCS', 'sPCS', 'mPCS']]\n",
    "\n",
    "    fig = make_subplots(rows=rows, cols=cols, print_grid=False)\n",
    "    for l, line_label in enumerate(lines):\n",
    "        for j, roi in enumerate(line_label):\n",
    "            \n",
    "            # Sorting best datas\n",
    "            df = data.loc[(data.subject == subject) & (data.rois == roi)]\n",
    "            \n",
    "            # Parametring colors\n",
    "            roi_color = roi_colors[j + l * 3]\n",
    "            roi_color_opac = f\"rgba{roi_color[3:-1]}, 0.15)\"\n",
    "            \n",
    "            # Grouping by eccentricities\n",
    "            df_grouped = df.groupby(pd.cut(df['prf_ecc'], bins=np.arange(0, 17.5, 2.5)))\n",
    "            df_sorted = df.sort_values('prf_ecc')\n",
    "            \n",
    "            ecc_mean = np.array(df_grouped['prf_ecc'].mean())\n",
    "            sd_mean  = np.array(df_grouped['pcm'].mean())\n",
    "            r2_mean  = np.array(df_grouped['prf_loo_r2'].mean())\n",
    "            \n",
    "            # CI95 for each group of ecc\n",
    "            ci = df_grouped['pcm'].apply(lambda x: bootstrap_ci_mean(x))\n",
    "            upper_bound = np.array(ci.apply(lambda x: x[1] if not np.isnan(x[1]) else np.nan))\n",
    "            lower_bound = np.array(ci.apply(lambda x: x[0] if not np.isnan(x[0]) else np.nan))\n",
    "            \n",
    "            # Linear regression\n",
    "            slope, intercept = weighted_regression(ecc_mean, \n",
    "                                                    sd_mean, \n",
    "                                                    r2_mean, \n",
    "                                                    model='pcm')\n",
    "            \n",
    "            slope_upper, intercept_upper = weighted_regression(ecc_mean[~np.isnan(upper_bound)], \n",
    "                                                                upper_bound[~np.isnan(upper_bound)], \n",
    "                                                                r2_mean[~np.isnan(upper_bound)], \n",
    "                                                                model='pcm')\n",
    "            \n",
    "            slope_lower, intercept_lower = weighted_regression(ecc_mean[~np.isnan(lower_bound)], \n",
    "                                                                lower_bound[~np.isnan(lower_bound)], \n",
    "                                                                r2_mean[~np.isnan(lower_bound)], \n",
    "                                                                model='pcm')\n",
    "            \n",
    "            line = 1 / (slope * np.array(df_sorted.prf_ecc)) + intercept\n",
    "            line_upper = 1 / (slope_upper * np.array(df_sorted.prf_ecc)) + intercept_upper\n",
    "            line_lower = 1 / (slope_lower * np.array(df_sorted.prf_ecc)) + intercept_lower\n",
    "\n",
    "            fig.add_trace(go.Scatter(x=np.array(df_sorted.prf_ecc), \n",
    "                                      y=line, \n",
    "                                      mode='lines', \n",
    "                                      name=roi, \n",
    "                                      legendgroup=roi, \n",
    "                                      line=dict(color=roi_color, width=3), \n",
    "                                      showlegend=False), \n",
    "                          row=1, col=l+1)\n",
    "\n",
    "            # Error area\n",
    "            fig.add_trace(go.Scatter(x=np.concatenate([df_sorted.prf_ecc, df_sorted.prf_ecc[::-1]]), \n",
    "                                      y=np.concatenate([list(line_upper), list(line_lower[::-1])]), \n",
    "                                      mode='lines', fill='toself', fillcolor=roi_color_opac, \n",
    "                                      line=dict(color=roi_color_opac, width=0), showlegend=False), \n",
    "                          row=1, col=l+1)\n",
    "\n",
    "            # Markers\n",
    "            fig.add_trace(go.Scatter(x=ecc_mean, \n",
    "                                      y=sd_mean, \n",
    "                                      mode='markers', \n",
    "                                      error_y=dict(type='data', array=ci.apply(lambda x: (x[1] - x[0]) / 2).tolist(), visible=True, thickness=3, width=0, color=roi_color),\n",
    "                                      marker=dict(color='white', size=8, line=dict(color=roi_color,width=3)), \n",
    "                                      showlegend=False), \n",
    "                          row=1, col=l + 1)\n",
    "            \n",
    "            # Add legend\n",
    "            annotation = go.layout.Annotation(x=13, \n",
    "                                              y=15-j*1.5, \n",
    "                                              text=roi, \n",
    "                                              xanchor='left',\n",
    "                                              showarrow=False, \n",
    "                                              font=dict(color=roi_color, size=12))\n",
    "            fig.add_annotation(annotation, row=1, col=l+1)\n",
    "\n",
    "        # Set axis titles only for the left-most column and bottom-most row\n",
    "        fig.update_yaxes(title_text='pCM (mm/dva)', row=1, col=1)\n",
    "        fig.update_xaxes(title_text='pRF eccentricity (dva)', range=[0,15], row=1, col=l+1)\n",
    "        fig.update_xaxes(linewidth=2,tickwidth=2,tickfont=dict(size=14, color='black'))\n",
    "        fig.update_yaxes(range=[0,15],linewidth=2,tickwidth=2,tickfont=dict(size=14, color='black'))\n",
    "        fig.update_layout(height=fig_height, width=fig_width, showlegend=False, template='simple_white')\n",
    "        \n",
    "    return fig"
   ]
  },
  {
   "cell_type": "code",
   "execution_count": null,
   "id": "b80d0f66-0c5e-4405-90e8-7053692f445e",
   "metadata": {
    "tags": []
   },
   "outputs": [],
   "source": [
    "categories_to_plot = ['vision',  'vision_and_pursuit_and_saccade']\n",
    "for categorie_to_plot in categories_to_plot:\n",
    "    df_categorie = data.loc[data.stats_final == categorie_to_plot]\n",
    "    fig2 = prf_ecc_pcm_plot(df_categorie, subject, fig_height=400, fig_width=800, ecc_th=ecc_th, pcm_th=pcm_th, rsq_th=rsq_th)\n",
    "    fig2.write_image(\"/Users/uriel/Downloads/{}_{}_ecc_pcm.pdf\".format(subject,categorie_to_plot))\n",
    "    fig2.show()"
   ]
  },
  {
   "cell_type": "code",
   "execution_count": null,
   "id": "3f73a85d-397d-4026-99ce-337290d0f720",
   "metadata": {},
   "outputs": [],
   "source": []
  }
 ],
 "metadata": {
  "kernelspec": {
   "display_name": "prf_env",
   "language": "python",
   "name": "prf_env"
  },
  "language_info": {
   "codemirror_mode": {
    "name": "ipython",
    "version": 3
   },
   "file_extension": ".py",
   "mimetype": "text/x-python",
   "name": "python",
   "nbconvert_exporter": "python",
   "pygments_lexer": "ipython3",
   "version": "3.11.7"
  }
 },
 "nbformat": 4,
 "nbformat_minor": 5
}
