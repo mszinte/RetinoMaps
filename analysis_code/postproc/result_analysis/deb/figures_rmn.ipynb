{
 "cells": [
  {
   "cell_type": "code",
   "execution_count": null,
   "id": "1a0a55ac-7289-4092-8a65-3cc41b8b0383",
   "metadata": {
    "tags": []
   },
   "outputs": [],
   "source": [
    "# Stop warnings\n",
    "import warnings\n",
    "warnings.filterwarnings(\"ignore\")\n",
    "\n",
    "import os\n",
    "import sys\n",
    "import glob\n",
    "import numpy as np\n",
    "import pandas as pd\n",
    "import plotly.express as px\n",
    "from scipy.stats import gamma\n",
    "import matplotlib.pyplot as plt\n",
    "import plotly.graph_objects as go\n",
    "from plotly.subplots import make_subplots\n",
    "\n",
    "# Personal imports\n",
    "sys.path.append(\"{}/../../../utils\".format(os.getcwd()))\n",
    "from glm_utils import eventsMatrix, extract_predictions_r2\n",
    "from surface_utils import load_surface, make_surface_image\n",
    "from pycortex_utils import draw_cortex, set_pycortex_config_file,load_surface_pycortex"
   ]
  },
  {
   "cell_type": "code",
   "execution_count": null,
   "id": "e86f50fa-01ba-4f91-8a25-3184c8682a71",
   "metadata": {
    "tags": []
   },
   "outputs": [],
   "source": [
    "main_dir = '/Users/uriel/disks/meso_shared'\n",
    "code_dir = '/Users/uriel/disks/meso_H/projects'\n",
    "project_dir = 'RetinoMaps'\n",
    "subject = 'sub-03'\n",
    "format_ = 'fsnative'"
   ]
  },
  {
   "cell_type": "markdown",
   "id": "d1625b11-e96b-404f-8880-41b5da43d783",
   "metadata": {
    "jp-MarkdownHeadingCollapsed": true,
    "tags": []
   },
   "source": [
    "# Particioants"
   ]
  },
  {
   "cell_type": "code",
   "execution_count": null,
   "id": "5cad1351-bff7-485f-8c30-f31819577ac5",
   "metadata": {
    "tags": []
   },
   "outputs": [],
   "source": [
    "participants_fn = '{}/{}/participants.tsv'.format(main_dir, project_dir)\n",
    "participants = pd.read_table(participants_fn)"
   ]
  },
  {
   "cell_type": "code",
   "execution_count": null,
   "id": "92f36b44-7167-44e6-be85-9754c2043ef9",
   "metadata": {
    "tags": []
   },
   "outputs": [],
   "source": [
    "print(participants.age.mean())\n",
    "print(participants.age.std())\n",
    "print(participants.sex.value_counts())\n"
   ]
  },
  {
   "cell_type": "markdown",
   "id": "e39b8a7f-5934-431c-aabb-fcd43d8820bc",
   "metadata": {
    "jp-MarkdownHeadingCollapsed": true,
    "tags": []
   },
   "source": [
    "# Flat Map"
   ]
  },
  {
   "cell_type": "code",
   "execution_count": null,
   "id": "c9d94ca2-f3f0-4fa9-91ca-ee8fbce731b3",
   "metadata": {
    "tags": []
   },
   "outputs": [],
   "source": [
    "fn_170k = '/Users/uriel/disks/meso_shared/RetinoMaps/derivatives/pp_data/sub-02/170k/final_stats/results/sub-02_final-stats.dtseries.nii'\n",
    "results_170k = load_surface_pycortex(brain_fn=fn_170k)  \n",
    "data_170k = results_170k['data_concat']\n",
    "fake_data_170k = np.zeros_like(dadata_170kta[1,:])\n"
   ]
  },
  {
   "cell_type": "code",
   "execution_count": null,
   "id": "ea0f4cfb",
   "metadata": {},
   "outputs": [],
   "source": [
    "fn_fsnative_L = '/Users/uriel/disks/meso_shared/RetinoMaps/derivatives/pp_data/sub-03/fsnative/final_stats/results/sub-03_hemi-L_final-stats.func.gii'\n",
    "fn_fsnative_R = '/Users/uriel/disks/meso_shared/RetinoMaps/derivatives/pp_data/sub-03/fsnative/final_stats/results/sub-03_hemi-R_final-stats.func.gii'\n",
    "\n",
    "results_fsnative = load_surface_pycortex(L_fn=fn_fsnative_L, R_fn=fn_fsnative_R)\n",
    "data_fsnative = results_fsnative['data_concat']\n",
    "fake_data_fsnative = np.zeros_like(data_fsnative[1,:])\n"
   ]
  },
  {
   "cell_type": "code",
   "execution_count": null,
   "id": "b121911c-5b11-428e-8f0f-ba239ca7a430",
   "metadata": {
    "tags": []
   },
   "outputs": [],
   "source": [
    "param = {'subject':subject,'xfmname':None,'data': data_fsnative[1,:], 'cmap': 'stats_colors', 'alpha': fake_data_fsnative, \n",
    "             'vmin': 0, 'vmax': 1, 'cbar': None, 'cmap_steps': 255,\n",
    "             'cortex_type': 'VertexRGB','description': 'final map','with_borders':False,\n",
    "             'curv_brightness': 0.1, 'curv_contrast': 0.25, 'add_roi': False,\n",
    "             'cbar_label': '', 'with_labels': False}\n",
    "\n",
    "\n",
    "\n",
    "a = draw_cortex(**param)\n",
    "plt.savefig('/Users/uriel/Downloads/fsnative_flat.pdf')"
   ]
  },
  {
   "cell_type": "markdown",
   "id": "940dff0a-d13b-4d04-9782-b47bd03bb351",
   "metadata": {
    "tags": []
   },
   "source": [
    "# pRF prediction bold"
   ]
  },
  {
   "cell_type": "code",
   "execution_count": null,
   "id": "e610f86b-44f3-40c5-9723-2b6fb30f1ebd",
   "metadata": {
    "tags": []
   },
   "outputs": [],
   "source": [
    "bold_dir = '{}/{}/derivatives/pp_data/{}/{}/func/fmriprep_dct_loo_avg'.format(main_dir, project_dir,subject,format_)\n",
    "bold_fn = '{}/{}_task-pRF_hemi-L_fmriprep_dct_avg_loo-1_bold.func.gii'.format(bold_dir, subject)\n",
    "bold_img,bold_data = load_surface(fn = bold_fn)"
   ]
  },
  {
   "cell_type": "code",
   "execution_count": null,
   "id": "4c28de2f",
   "metadata": {
    "tags": []
   },
   "outputs": [],
   "source": [
    "prf_dir ='{}/{}/derivatives/pp_data/{}/{}/prf/fit/'.format(main_dir, project_dir,subject,format_)\n",
    "prf_pred_fn = '{}/{}_task-pRF_hemi-L_fmriprep_dct_avg_loo-1_prf-pred_css.func.gii'.format(prf_dir, subject)\n",
    "prf_pred_img, prf_pred_data = load_surface(fn = prf_pred_fn)"
   ]
  },
  {
   "cell_type": "code",
   "execution_count": null,
   "id": "43ba31d8-6e38-4c05-a6c4-f53f8d2a8729",
   "metadata": {
    "tags": []
   },
   "outputs": [],
   "source": [
    "x_idx, y_idx, size_idx, r2_idx = 0,1,2,8\n",
    "prf_fit_fn = '{}/{}_task-pRF_hemi-L_fmriprep_dct_avg_loo-1_prf-fit_css.func.gii'.format(prf_dir, subject)\n",
    "prf_fit_img, prf_fit_data = load_surface(fn = prf_fit_fn)"
   ]
  },
  {
   "cell_type": "code",
   "execution_count": null,
   "id": "d0bfe4b5-cf53-4114-9971-8d693bf7a429",
   "metadata": {
    "tags": []
   },
   "outputs": [],
   "source": [
    "# plot best voxel for left hemisphere\n",
    "max_indices = np.nanargmax(prf_fit_data[r2_idx,:])\n",
    "# # num_vert = 25023\n",
    "num_vert = max_indices\n",
    "num_vert_r2 = num_vert - 50\n",
    "fig1 = go.Figure()\n",
    "# plot data time series\n",
    "fig1.add_trace(go.Scatter(y=bold_data[50:,num_vert],\n",
    "                         name='data', \n",
    "                         mode='markers', \n",
    "                          line=dict(color='black') \n",
    "                         ))\n",
    "\n",
    "# # plot pRF prediction\n",
    "# fig1.add_trace(go.Scatter(y=prf_pred_data[:,num_vert_r2],\n",
    "#                          name='pRF'))\n",
    "\n",
    "\n",
    "# fig1.add_annotation(text='R<sup>2</sup>={:1.2f}'.format(prf_fit_data[r2_idx,num_vert_r2]),  \n",
    "#                     x=198,  \n",
    "#                     y=4,\n",
    "#                     showarrow=False\n",
    "#                    )\n",
    "\n",
    "fig1.update_layout(template='simple_white', \n",
    "                   # title = '{} vertex time series for {} noise model'.format(num_vert,noise_model_2), \n",
    "                   xaxis_title = 'TRs', \n",
    "                   yaxis_title = 'z-score', \n",
    "                   showlegend= True,\n",
    "                   height=350, \n",
    "                   yaxis=dict(title_standoff=0))\n",
    "\n",
    "# fig1.update_xaxes(range=[0,bold_data.shape[0]])\n",
    "fig1.update_xaxes(range=[0,50])\n",
    "\n",
    "fig1.update_yaxes(range=[-4,4])\n",
    "fig1.write_image('/Users/uriel/Downloads/sdfr.pdf', width=600, height=300)\n",
    "\n",
    "fig1.show()"
   ]
  },
  {
   "cell_type": "code",
   "execution_count": null,
   "id": "39de7ba8-dd5f-491d-8209-25007af3b4e3",
   "metadata": {
    "tags": []
   },
   "outputs": [],
   "source": [
    "num_vert"
   ]
  },
  {
   "cell_type": "markdown",
   "id": "7a34d8c1-63dd-4008-944e-580f3c6a8213",
   "metadata": {
    "jp-MarkdownHeadingCollapsed": true,
    "tags": []
   },
   "source": [
    "# pRF stimulation"
   ]
  },
  {
   "cell_type": "code",
   "execution_count": null,
   "id": "85fb1b05-5022-46be-88ee-aaf82cfd1b9b",
   "metadata": {
    "tags": []
   },
   "outputs": [],
   "source": [
    "task = 'pRF'\n",
    "session = 'ses-01'\n",
    "event_dir = '{}/{}/{}/{}/func/'.format(main_dir,project_dir,subject,session)\n",
    "event_file = glob.glob(\"{}/{}_{}_task-{}_run-*_events.tsv\".format(event_dir,subject,session,task))\n",
    "events = pd.read_table(event_file[0])"
   ]
  },
  {
   "cell_type": "code",
   "execution_count": null,
   "id": "50543c6a-7bea-41b9-83b3-f5b69dfedad8",
   "metadata": {
    "tags": []
   },
   "outputs": [],
   "source": [
    "task_periode = np.where(events['bar_direction'] != 9, 1, 0)\n"
   ]
  },
  {
   "cell_type": "code",
   "execution_count": null,
   "id": "6a9e3bc9-d036-45c1-855e-9abe4bb949d8",
   "metadata": {
    "tags": []
   },
   "outputs": [],
   "source": [
    "fig2 = go.Figure()\n",
    "# plot data time series\n",
    "fig2.add_trace(go.Scatter(y=task_periode,\n",
    "                          line=dict(color='#ff7f0e',\n",
    "                                    width=4)))\n",
    "fig2.update_xaxes(visible=False)\n",
    "fig2.update_yaxes(visible=False)\n",
    "fig2.update_layout(template='simple_white')\n",
    "fig2.write_image('/Users/uriel/Downloads/prf_stim.pdf', width=600, height=300)\n",
    "fig2.show()"
   ]
  },
  {
   "cell_type": "markdown",
   "id": "69800d3f-2664-4ea9-851a-542f7400d858",
   "metadata": {
    "jp-MarkdownHeadingCollapsed": true,
    "tags": []
   },
   "source": [
    "# HRF"
   ]
  },
  {
   "cell_type": "code",
   "execution_count": null,
   "id": "70337e2e-cfd8-4f0c-a63f-0a5c8be47ecf",
   "metadata": {
    "tags": []
   },
   "outputs": [],
   "source": [
    "def hrf(t):\n",
    "    a1 = 6\n",
    "    a2 = 12\n",
    "    b1 = 0.9\n",
    "    b2 = 0.9\n",
    "    hrf_values = (gamma.pdf(t, a1, scale=b1) - 0.35 * gamma.pdf(t, a2, scale=b2))\n",
    "    hrf_values /= hrf_values.sum()\n",
    "\n",
    "    return hrf_values\n",
    "\n",
    "time = np.arange(0, 30, 0.1)\n",
    "hrf_result = hrf(time)"
   ]
  },
  {
   "cell_type": "code",
   "execution_count": null,
   "id": "4a7cbbf0-d4db-4285-b5dc-cef2eddb1748",
   "metadata": {
    "tags": []
   },
   "outputs": [],
   "source": [
    "fig3 = go.Figure()\n",
    "\n",
    "fig3.add_trace(go.Scatter(y=hrf_result, \n",
    "\n",
    "                         line=dict(color='#ff7f0e', width=4)))\n",
    "\n",
    "fig3.update_layout(template='simple_white',\n",
    "                  showlegend=False,\n",
    "                  xaxis=dict(showgrid=False, zeroline=False, showticklabels=False, ticks='', showline=False),\n",
    "                  yaxis=dict(showgrid=False, zeroline=False, showticklabels=False, ticks='', showline=False))\n",
    "\n",
    "\n",
    "\n",
    "\n",
    "\n",
    "fig3.write_image('/Users/uriel/Downloads/hrf.pdf', width=600, height=300)\n",
    "fig3.show()"
   ]
  },
  {
   "cell_type": "markdown",
   "id": "28b376d4-f559-4a3f-801b-73daa9ac0bd6",
   "metadata": {
    "jp-MarkdownHeadingCollapsed": true,
    "tags": []
   },
   "source": [
    "# Receptieve field"
   ]
  },
  {
   "cell_type": "code",
   "execution_count": null,
   "id": "0d6726bc-10e1-4fd6-9814-f29fb66882f5",
   "metadata": {
    "tags": []
   },
   "outputs": [],
   "source": [
    "def compressive_spatial_summation(x, size, position, exponent):\n",
    "    return np.exp(-((x - position) / size)**exponent)\n",
    "\n",
    "\n",
    "size = 2  \n",
    "position = 3  \n",
    "exponent = 2 \n",
    "\n",
    "x = np.linspace(-1, 7, 100)\n",
    "y = compressive_spatial_summation(x, size, position, exponent)"
   ]
  },
  {
   "cell_type": "code",
   "execution_count": null,
   "id": "b48444b7-ffca-4afe-afe3-7e084629f087",
   "metadata": {
    "tags": []
   },
   "outputs": [],
   "source": [
    "fig4 = go.Figure()\n",
    "\n",
    "fig4.add_trace(go.Scatter(x=x, \n",
    "                         y=y,\n",
    "\n",
    "                         line=dict(color='#ff7f0e', width=4)))\n",
    "\n",
    "fig4.update_layout(template='simple_white',\n",
    "                  xaxis=dict(showgrid=False, zeroline=False, showticklabels=False, ticks='', showline=False),\n",
    "                  yaxis=dict(showgrid=False, zeroline=False, showticklabels=False, ticks='', showline=False))\n",
    "\n",
    "\n",
    "\n",
    "\n",
    "\n",
    "fig4.write_image('/Users/uriel/Downloads/css.pdf', width=600, height=300)\n",
    "fig4.show()"
   ]
  },
  {
   "cell_type": "markdown",
   "id": "6d0a3fc8-8914-4a5f-ad18-e170a65f379c",
   "metadata": {
    "tags": []
   },
   "source": [
    "# pRF position"
   ]
  },
  {
   "cell_type": "code",
   "execution_count": null,
   "id": "94e527a2-8316-435e-aa5b-82b8b8e82f5b",
   "metadata": {
    "tags": []
   },
   "outputs": [],
   "source": [
    "def gaus_2d(gauss_x, gauss_y, gauss_sd, screen_side, grain=200):\n",
    "    \"\"\"\n",
    "    Generate 2D gaussian mesh\n",
    "    \n",
    "    Parameters\n",
    "    ----------\n",
    "    gauss_x : mean x gaussian parameter in dva (e.g. 1 dva)\n",
    "    gauss_y : mean y gaussian parameter in dva (e.g. 1 dva)\n",
    "    gauss_sd : sd gaussian parameter in dva (e.g. 1 dva)\n",
    "    screen_side : mesh screen side (square) im dva (e.g. 20 dva from -10 to 10 dva)\n",
    "    grain : grain resolution of the mesh in pixels (default = 100 pixels)\n",
    "    \n",
    "    Returns\n",
    "    -------\n",
    "    x : linspace x of the mesh\n",
    "    y : linspace x of the mesh\n",
    "    z : mesh_z values (to plot)\n",
    "    \n",
    "    \"\"\"\n",
    "    x = np.linspace(-screen_side/2, screen_side/2, grain)\n",
    "    y = np.linspace(-screen_side/2, screen_side/2, grain)\n",
    "    mesh_x, mesh_y = np.meshgrid(x,y) \n",
    "    \n",
    "    gauss_z = 1./(2.*np.pi*gauss_sd*gauss_sd)*np.exp(-((mesh_x-gauss_x)**2./(2.*gauss_sd**2.)+(mesh_y-gauss_y)**2./(2.*gauss_sd**2.)))\n",
    "    return x, y, gauss_z"
   ]
  },
  {
   "cell_type": "code",
   "execution_count": null,
   "id": "a9302cfc-0d2d-4abb-a2fe-ed7c527397ac",
   "metadata": {
    "tags": []
   },
   "outputs": [],
   "source": [
    "screen_side = 8.9*2\n",
    "x,y,z = gaus_2d(gauss_x=prf_fit_data[x_idx,num_vert], gauss_y=prf_fit_data[y_idx,num_vert], \n",
    "                gauss_sd=prf_fit_data[size_idx,num_vert], screen_side=screen_side)\n",
    "\n",
    "\n",
    "fig=go.Figure()\n",
    "fig.add_trace(go.Heatmap(x=x, y=y, z=z,colorscale='viridis', showscale=False))"
   ]
  },
  {
   "cell_type": "markdown",
   "id": "330d3263-0891-491e-9eef-9530e85aa1f6",
   "metadata": {
    "jp-MarkdownHeadingCollapsed": true,
    "tags": []
   },
   "source": [
    "# Visual designe Sac/Pur Loc"
   ]
  },
  {
   "cell_type": "code",
   "execution_count": null,
   "id": "0a5c5529-6bc4-4175-a191-33ca99a9c1a7",
   "metadata": {
    "tags": []
   },
   "outputs": [],
   "source": [
    "import matplotlib.pyplot as plt\n",
    "import numpy as np\n",
    "\n",
    "def create_image(eccentricities_degrees, num_directions=16, circle_size=0.02, figure_size=(4, 4), final_size=(8.2, 14.58)):\n",
    "    # Créer une figure et un axe avec une taille personnalisée\n",
    "    fig, ax = plt.subplots(figsize=figure_size)\n",
    "    \n",
    "    # Définir le fond noir\n",
    "    fig.patch.set_facecolor('black')\n",
    "    ax.set_facecolor('black')\n",
    "\n",
    "    # Définir les coordonnées du centre\n",
    "    center = np.array([0.5, 0.5])\n",
    "\n",
    "    # Conversion des excentricités de degrés en radians\n",
    "    eccentricities_radians = np.radians(eccentricities_degrees)\n",
    "\n",
    "    # Créer les cercles avec des ronds blancs pour chaque excentricité\n",
    "    for eccentricity in eccentricities_radians:\n",
    "        for direction in range(num_directions):\n",
    "            angle = (2 * np.pi / num_directions) * direction\n",
    "            x = center[0] + eccentricity * np.cos(angle)\n",
    "            y = center[1] + eccentricity * np.sin(angle)\n",
    "\n",
    "            # Dessiner le cercle blanc\n",
    "            circle = plt.Circle((x, y), circle_size, color='white')\n",
    "            ax.add_artist(circle)\n",
    "\n",
    "    # Paramètres d'affichage\n",
    "    ax.set_xlim(0, 1)\n",
    "    ax.set_ylim(0, 1)\n",
    "    ax.axis('off')\n",
    "\n",
    "    # Sauvegarder l'image avec la taille finale en centimètres\n",
    "    fig.savefig('/Users/uriel/Downloads/cercles.png', bbox_inches='tight', pad_inches=0, dpi=300)\n",
    "\n",
    "# Excentricités en degrés\n",
    "eccentricities_degrees = [10, 7.5, 5, 2.5]\n",
    "\n",
    "# Taille du cercle réduite et taille de la figure personnalisée\n",
    "create_image(eccentricities_degrees, circle_size=0.005, figure_size=(9, 9))\n",
    "\n",
    "# Afficher le message de confirmation\n",
    "print(\"L'image a été enregistrée sous le nom 'output_image.png' avec la taille finale spécifiée.\")\n"
   ]
  },
  {
   "cell_type": "markdown",
   "id": "8f7c4121-93a4-4213-b105-9d2e07616d94",
   "metadata": {
    "jp-MarkdownHeadingCollapsed": true,
    "tags": []
   },
   "source": [
    "# GLM"
   ]
  },
  {
   "cell_type": "code",
   "execution_count": null,
   "id": "3e7586c0-f8b7-4926-a617-af125d68b43d",
   "metadata": {
    "tags": []
   },
   "outputs": [],
   "source": [
    "# task = 'PurLoc'\n",
    "task = 'SacLoc'"
   ]
  },
  {
   "cell_type": "code",
   "execution_count": null,
   "id": "3ca36939-cd62-4f37-9291-6562eb1e9d2c",
   "metadata": {
    "tags": []
   },
   "outputs": [],
   "source": [
    "bold_glm_dir = '{}/{}/derivatives/pp_data/{}/{}/func/fmriprep_dct_loo_avg'.format(main_dir, project_dir,subject,fornat_)\n",
    "bold_glm_fn = '{}/{}_task-{}_hemi-L_fmriprep_dct_avg_loo-1_bold.func.gii'.format(bold_dir, subject,task)\n",
    "bold_glm_img,bold_glm_data = load_surface(fn = bold_glm_fn)"
   ]
  },
  {
   "cell_type": "code",
   "execution_count": null,
   "id": "27b92199-7c4d-4500-bbaf-117d72dafe6d",
   "metadata": {
    "tags": []
   },
   "outputs": [],
   "source": [
    "glm_dir ='{}/{}/derivatives/pp_data/{}/{}/glm/glm_fit/'.format(main_dir, project_dir,subject,fornat_)\n",
    "glm_pred_fn = '{}/{}_task-{}_hemi-L_fmriprep_dct_avg_loo-1_glm-pred.func.gii'.format(glm_dir, subject,task)\n",
    "glm_pred_img, glm_pred_data = load_surface(fn = glm_pred_fn)"
   ]
  },
  {
   "cell_type": "code",
   "execution_count": null,
   "id": "3cd4c822-6992-4099-9a46-cd0c4edc9fc3",
   "metadata": {
    "tags": []
   },
   "outputs": [],
   "source": [
    "glm_stats_dir ='{}/{}/derivatives/pp_data/{}/{}/glm/stats/'.format(main_dir, project_dir,subject,fornat_)\n",
    "glm_fit_fn = '{}/{}_task-{}_hemi-L_fmriprep_dct_avg_loo-1_glm-stats.func.gii'.format(glm_stats_dir, subject,task)\n",
    "glm_fit_img, glm_fit_data = load_surface(fn = glm_fit_fn)\n",
    "slope_idx, intercept_idx, rvalue_idx, pvalue_idx, stderr_idx  = 0,1,2,3,4"
   ]
  },
  {
   "cell_type": "code",
   "execution_count": null,
   "id": "61daacc5-a229-4d5c-976d-042904337772",
   "metadata": {
    "tags": []
   },
   "outputs": [],
   "source": [
    "session = 'ses-02'\n",
    "event_dir = '{}/{}/{}/{}/func/'.format(main_dir,project_dir,subject,session)\n",
    "event_file = glob.glob(\"{}/{}_{}_task-{}_run-*_events.tsv\".format(event_dir,subject,session,task))\n",
    "events = pd.read_table(event_file[0])"
   ]
  },
  {
   "cell_type": "code",
   "execution_count": null,
   "id": "a2b19c9d-d9b9-401c-8abb-7d5ad0f1b4ec",
   "metadata": {
    "tags": []
   },
   "outputs": [],
   "source": [
    "if task == 'PurLoc': \n",
    "    idx = 2\n",
    "    task_name = 'Pursuit'\n",
    "    color = '#E377C2'\n",
    "elif task == 'SacLoc': \n",
    "    idx = 1\n",
    "    task_name = 'Saccad'\n",
    "    color = '#8C564B'\n",
    "\n",
    "task_periode = np.where(events['trial_type'] == idx, 1, np.nan)"
   ]
  },
  {
   "cell_type": "code",
   "execution_count": null,
   "id": "ce10ce02-2649-48e1-b9c7-5981a63d42c8",
   "metadata": {
    "tags": []
   },
   "outputs": [],
   "source": [
    "task_periode"
   ]
  },
  {
   "cell_type": "code",
   "execution_count": null,
   "id": "0b32c85c-38e6-4567-8f2d-b71359b7b53a",
   "metadata": {
    "tags": []
   },
   "outputs": [],
   "source": [
    "# plot best voxel for left hemisphere\n",
    "max_indices = np.nanargmax(glm_fit_data[rvalue_idx,:])\n",
    "# # num_vert = 25023\n",
    "num_vert = max_indices\n",
    "num_vert_r2 = num_vert\n",
    "\n",
    "\n",
    "fig5 = go.Figure()\n",
    "# plot data time series\n",
    "fig5.add_trace(go.Scatter(y=bold_glm_data[:,num_vert],\n",
    "                         name='data', \n",
    "                         mode='markers', \n",
    "                          line=dict(color='black') \n",
    "                         ))\n",
    "\n",
    "# plot pRF prediction\n",
    "fig5.add_trace(go.Scatter(y=glm_pred_data[:,num_vert_r2],\n",
    "                          line=dict(color='#87CEEB' ,width=4),\n",
    "                          \n",
    "                         name='GLM'))\n",
    "\n",
    "\n",
    "# fig5.add_annotation(text='R<sup>2</sup>={:1.2f}'.format(prf_fit_data[rvalue_idx,num_vert_r2]),  \n",
    "#                     x=198,  \n",
    "#                     y=4,\n",
    "#                     showarrow=False\n",
    "#                    )\n",
    "\n",
    "\n",
    "fig5.add_trace(go.Scatter(y=task_periode*-4,\n",
    "                          name='{} periode'.format(task_name),\n",
    "                          mode='lines',\n",
    "                          showlegend = True,\n",
    "                          line=dict(width=10, color=color ) \n",
    "                         ))\n",
    "\n",
    "fig5.update_layout(template='simple_white', \n",
    "                   # title = '{} vertex time series for {} noise model'.format(num_vert,noise_model_2), \n",
    "                   xaxis_title = 'TRs', \n",
    "                   yaxis_title = 'z-score', \n",
    "                   showlegend= True,\n",
    "                   height=350, \n",
    "                   yaxis=dict(title_standoff=0))\n",
    "\n",
    "fig5.update_xaxes(range=[0,bold_glm_data.shape[0]])\n",
    "\n",
    "fig5.update_yaxes(range=[-4,4])\n",
    "fig5.write_image('/Users/uriel/Downloads/glm_{}.pdf'.format(task), width=600, height=300)\n",
    "\n",
    "fig5.show()"
   ]
  },
  {
   "cell_type": "code",
   "execution_count": null,
   "id": "57602a5a-89c0-4cb5-a39c-27e2c590de96",
   "metadata": {
    "tags": []
   },
   "outputs": [],
   "source": [
    "stats_categories_colors = px.colors.qualitative.Alphabet"
   ]
  },
  {
   "cell_type": "code",
   "execution_count": null,
   "id": "078f0373-d41c-47fa-b197-6767fdea2049",
   "metadata": {
    "tags": []
   },
   "outputs": [],
   "source": [
    "stats_categories_colors = px.colors.qualitative.D3\n",
    "\n",
    "# Inverser l'ordre des couleurs et extraire à partir du troisième élément (index 2)\n",
    "inverted_colors = list(reversed(stats_categories_colors))[2:]"
   ]
  },
  {
   "cell_type": "code",
   "execution_count": null,
   "id": "e9888e18-3e95-43b3-a684-77ff01ba40fd",
   "metadata": {
    "tags": []
   },
   "outputs": [],
   "source": [
    "inverted_colors"
   ]
  },
  {
   "cell_type": "markdown",
   "id": "11f314cc-9820-43da-ada5-6ac8fb27ee56",
   "metadata": {},
   "source": [
    "# Ecc size"
   ]
  },
  {
   "cell_type": "code",
   "execution_count": null,
   "id": "296f0d71-9cf6-477e-9525-c1364f050fbf",
   "metadata": {
    "tags": []
   },
   "outputs": [],
   "source": [
    "def prf_ecc_size_plot(data, subject, fig_height, fig_width, ecc_th=[None,None], size_th=[None,None], rsq_th=[None,None]) :\n",
    "    \"\"\"\n",
    "    Make violins plots for pRF r2/loo_r2, ecc and size\n",
    "\n",
    "    Parameters\n",
    "    ----------\n",
    "    data : A data frame with prf_rsq, prf_ecc, prf_size, prf_loo_r2, rois and subject columns\n",
    "    \n",
    "    Returns\n",
    "    -------\n",
    "    fig : the figure \n",
    "    \"\"\"\n",
    "    \n",
    "    from maths_utils import weighted_regression, bootstrap_ci_mean\n",
    "    data = data.copy()\n",
    "    \n",
    "    \n",
    "    # fig_height, fig_width = 1080, 190\n",
    "    rows, cols = 1,2\n",
    "\n",
    "    # Replace all data outer threshold with NaN data\n",
    "    data.loc[(data.prf_ecc < ecc_th[0]) | (data.prf_ecc > ecc_th[1]) | \n",
    "              (data.prf_size < size_th[0]) | (data.prf_size > size_th[1]) | \n",
    "              (data.prf_loo_r2 <=rsq_th[0])] = np.nan\n",
    "    \n",
    "    data = data.dropna()\n",
    "\n",
    "    # Define colors\n",
    "    roi_colors = px.colors.sequential.Sunset[:4] + px.colors.sequential.Rainbow[:]\n",
    "    roi_colors =roi_colors[-7:]\n",
    "    \n",
    "    lines = [['iIPS', 'sIPS'],['iPCS', 'sPCS', 'mPCS']]\n",
    "\n",
    "    fig = make_subplots(rows=rows, cols=cols, print_grid=False)\n",
    "    for l, line_label in enumerate(lines):\n",
    "        for j, roi in enumerate(line_label):\n",
    "            \n",
    "            # Sorting best datas\n",
    "            df = data.loc[(data.subject == subject) & (data.rois == roi)]\n",
    "            \n",
    "            # Parametring colors\n",
    "            roi_color = roi_colors[j + l * 3]\n",
    "            roi_color_opac = f\"rgba{roi_color[3:-1]}, 0.15)\"\n",
    "            \n",
    "            # Grouping by eccentricities\n",
    "            df_grouped = df.groupby(pd.cut(df['prf_ecc'], bins=np.arange(0, 17.5, 2.5)))\n",
    "            df_sorted = df.sort_values('prf_ecc')\n",
    "            \n",
    "            ecc_mean = np.array(df_grouped['prf_ecc'].mean())\n",
    "            sd_mean = np.array(df_grouped['prf_size'].mean())\n",
    "            r2_mean = np.array(df_grouped['prf_loo_r2'].mean())\n",
    "            \n",
    "\n",
    "            ci = df_grouped['prf_size'].apply(lambda x: bootstrap_ci_mean(x))\n",
    "            upper_bound = np.array(ci.apply(lambda x: x[1] if not np.isnan(x[1]) else np.nan))\n",
    "            lower_bound = np.array(ci.apply(lambda x: x[0] if not np.isnan(x[0]) else np.nan))\n",
    "            \n",
    "            # Linear regression\n",
    "            slope, intercept = weighted_regression(ecc_mean, \n",
    "                                                    sd_mean, \n",
    "                                                    r2_mean,\n",
    "                                                    model='linear')\n",
    "            \n",
    "            slope_upper, intercept_upper = weighted_regression(ecc_mean[np.where(~np.isnan(upper_bound))], \n",
    "                                                                upper_bound[~np.isnan(upper_bound)], \n",
    "                                                                r2_mean[np.where(~np.isnan(upper_bound))], \n",
    "                                                                model='linear')\n",
    "            \n",
    "            slope_lower, intercept_lower = weighted_regression(ecc_mean[np.where(~np.isnan(lower_bound))], \n",
    "                                                                lower_bound[~np.isnan(lower_bound)], \n",
    "                                                                r2_mean[np.where(~np.isnan(lower_bound))], \n",
    "                                                                model='linear')\n",
    "            \n",
    "            line = slope[0][0] * np.array(df_sorted.prf_ecc) + intercept[0]\n",
    "            line_upper = slope_upper[0][0] * np.array(df_sorted.prf_ecc) + intercept_upper[0]\n",
    "            line_lower = slope_lower[0][0] * np.array(df_sorted.prf_ecc) + intercept_lower[0]\n",
    "\n",
    "            fig.add_trace(go.Scatter(x=np.array(df_sorted.prf_ecc), y=line, mode='lines', name=roi, legendgroup=roi, \n",
    "                                      line=dict(color=roi_color, width=3), showlegend=False), \n",
    "                          row=1, col=l+1)\n",
    "\n",
    "            # Error area\n",
    "            fig.add_trace(go.Scatter(x=np.concatenate([df_sorted.prf_ecc, df_sorted.prf_ecc[::-1]]), \n",
    "                                      y=np.concatenate([list(line_upper), list(line_lower[::-1])]), \n",
    "                                      mode='lines', fill='toself', fillcolor=roi_color_opac, \n",
    "                                      line=dict(color=roi_color_opac, width=0), showlegend=False), \n",
    "                          row=1, col=l+1)\n",
    "\n",
    "            # Markers\n",
    "            fig.add_trace(go.Scatter(x=ecc_mean, \n",
    "                                     y=sd_mean, mode='markers', \n",
    "                                     error_y=dict(type='data', \n",
    "                                                  array=ci.apply(lambda x: (x[1] - x[0]) / 2).tolist(), \n",
    "                                                  visible=True, \n",
    "                                                  thickness=3, \n",
    "                                                  width=0, \n",
    "                                                  color=roi_color),\n",
    "                                      marker=dict(color='white', \n",
    "                                                  size=8, \n",
    "                                                  line=dict(color=roi_color, \n",
    "                                                            width=3)), \n",
    "                                      showlegend=False), \n",
    "                          row=1, col=l + 1)\n",
    "            \n",
    "            # Add legend\n",
    "            annotation = go.layout.Annotation(x=1, y=15-j*1.5, text=roi, xanchor='left',\n",
    "                                              showarrow=False, font=dict(color=roi_color, size=12))\n",
    "            fig.add_annotation(annotation, row=1, col=l+1)\n",
    "\n",
    "        # Set axis titles only for the left-most column and bottom-most row\n",
    "        fig.update_yaxes(title_text='pRF size (dva)', row=1, col=1)\n",
    "        fig.update_xaxes(title_text='pRF eccentricity (dva)', range=[0,15], row=1, col=l+1)\n",
    "        fig.update_xaxes(linewidth=2,tickwidth=2,tickfont=dict(size=14, color='black'))\n",
    "        fig.update_yaxes(range=[0,15],linewidth=2,tickwidth=2,tickfont=dict(size=14, color='black'))\n",
    "        fig.update_layout(height=fig_height, width=fig_width, showlegend=False, template='simple_white')\n",
    "        \n",
    "    return fig"
   ]
  },
  {
   "cell_type": "code",
   "execution_count": null,
   "id": "e20d86fa-05d3-4cb3-9469-bc028bca82e1",
   "metadata": {
    "tags": []
   },
   "outputs": [],
   "source": [
    "subject = 'sub-170k'\n",
    "format_ = '170k'\n",
    "tsv_dir ='{}/{}/derivatives/pp_data/{}/{}/prf/tsv'.format(main_dir, \n",
    "                                                                project_dir, \n",
    "                                                                subject,\n",
    "                                                         format_)\n",
    "\n",
    "# data = pd.read_table('{}/{}_css-prf_derivatives.tsv'.format(tsv_dir,subject))\n",
    "data = pd.read_table('{}/{}_css-prf_derivatives_group.tsv'.format(tsv_dir,subject))\n",
    "ecc_th = [0, 15]\n",
    "size_th= [0.1, 20]\n",
    "rsq_th = [0, 1]\n",
    "pcm_th = [0,20]"
   ]
  },
  {
   "cell_type": "code",
   "execution_count": null,
   "id": "6fc06d75-f690-43c5-8d2c-0caca485a7dd",
   "metadata": {
    "tags": []
   },
   "outputs": [],
   "source": [
    "categories_to_plot = ['vision',  'vision_and_pursuit_and_saccade']\n",
    "for categorie_to_plot in categories_to_plot:\n",
    "    df_categorie = data.loc[data.stats_final == categorie_to_plot]\n",
    "    fig2 = prf_ecc_size_plot(df_categorie, subject, fig_height=400, fig_width=800, ecc_th=ecc_th, size_th=size_th, rsq_th=rsq_th)\n",
    "    fig2.write_image(\"/Users/uriel/Downloads/{}_{}_ecc_size.pdf\".format(subject,categorie_to_plot))\n",
    "    fig2.show()"
   ]
  },
  {
   "cell_type": "markdown",
   "id": "4b8d8db4-fd1d-4c57-a787-a46613e9035b",
   "metadata": {},
   "source": [
    "# ECC / PCM"
   ]
  },
  {
   "cell_type": "code",
   "execution_count": null,
   "id": "3d45f5d8-5b83-41fe-8b30-094442e5d0f3",
   "metadata": {
    "tags": []
   },
   "outputs": [],
   "source": [
    "def prf_ecc_pcm_plot(data, subject, fig_height, fig_width, ecc_th=[None,None], pcm_th=[None,None], rsq_th=[None,None]) :\n",
    "    \"\"\"\n",
    "    Make figure of ecc pcm relation \n",
    "\n",
    "    Parameters\n",
    "    ----------\n",
    "    data : A data frame with prf_rsq, prf_ecc, prf_size, prf_loo_r2, pcm, rois and subject columns\n",
    "    \n",
    "    Returns\n",
    "    -------\n",
    "    fig : the figure \n",
    "    \"\"\"\n",
    "\n",
    "    from maths_utils import weighted_regression, bootstrap_ci_mean\n",
    "    data = data.copy()\n",
    "\n",
    "    # fig_height, fig_width = 1080, 1920\n",
    "    rows, cols = 1,2\n",
    "    \n",
    "    # Replace all data outer threshold with NaN data\n",
    "    data.loc[(data.prf_ecc < ecc_th[0]) | (data.prf_ecc > ecc_th[1]) | \n",
    "              (data.pcm < pcm_th[0]) | (data.pcm > pcm_th[1]) | \n",
    "              (data.prf_loo_r2 <= rsq_th[0])] = np.nan\n",
    "    \n",
    "    data = data.dropna()\n",
    "\n",
    "    # Define colors\n",
    "    roi_colors = px.colors.sequential.Sunset[:4] + px.colors.sequential.Rainbow[:]\n",
    "\n",
    "    lines = [['iIPS', 'sIPS'],['iPCS', 'sPCS', 'mPCS']]\n",
    "\n",
    "    fig = make_subplots(rows=rows, cols=cols, print_grid=False)\n",
    "    for l, line_label in enumerate(lines):\n",
    "        for j, roi in enumerate(line_label):\n",
    "            \n",
    "            # Sorting best datas\n",
    "            df = data.loc[(data.subject == subject) & (data.rois == roi)]\n",
    "            \n",
    "            # Parametring colors\n",
    "            roi_color = roi_colors[j + l * 3]\n",
    "            roi_color_opac = f\"rgba{roi_color[3:-1]}, 0.15)\"\n",
    "            \n",
    "            # Grouping by eccentricities\n",
    "            df_grouped = df.groupby(pd.cut(df['prf_ecc'], bins=np.arange(0, 17.5, 2.5)))\n",
    "            df_sorted = df.sort_values('prf_ecc')\n",
    "            \n",
    "            ecc_mean = np.array(df_grouped['prf_ecc'].mean())\n",
    "            sd_mean  = np.array(df_grouped['pcm'].mean())\n",
    "            r2_mean  = np.array(df_grouped['prf_loo_r2'].mean())\n",
    "            \n",
    "            # CI95 for each group of ecc\n",
    "            ci = df_grouped['pcm'].apply(lambda x: bootstrap_ci_mean(x))\n",
    "            upper_bound = np.array(ci.apply(lambda x: x[1] if not np.isnan(x[1]) else np.nan))\n",
    "            lower_bound = np.array(ci.apply(lambda x: x[0] if not np.isnan(x[0]) else np.nan))\n",
    "            \n",
    "            # Linear regression\n",
    "            slope, intercept = weighted_regression(ecc_mean, \n",
    "                                                    sd_mean, \n",
    "                                                    r2_mean, \n",
    "                                                    model='pcm')\n",
    "            \n",
    "            slope_upper, intercept_upper = weighted_regression(ecc_mean[~np.isnan(upper_bound)], \n",
    "                                                                upper_bound[~np.isnan(upper_bound)], \n",
    "                                                                r2_mean[~np.isnan(upper_bound)], \n",
    "                                                                model='pcm')\n",
    "            \n",
    "            slope_lower, intercept_lower = weighted_regression(ecc_mean[~np.isnan(lower_bound)], \n",
    "                                                                lower_bound[~np.isnan(lower_bound)], \n",
    "                                                                r2_mean[~np.isnan(lower_bound)], \n",
    "                                                                model='pcm')\n",
    "            \n",
    "            line = 1 / (slope * np.array(df_sorted.prf_ecc)) + intercept\n",
    "            line_upper = 1 / (slope_upper * np.array(df_sorted.prf_ecc)) + intercept_upper\n",
    "            line_lower = 1 / (slope_lower * np.array(df_sorted.prf_ecc)) + intercept_lower\n",
    "\n",
    "            fig.add_trace(go.Scatter(x=np.array(df_sorted.prf_ecc), \n",
    "                                      y=line, \n",
    "                                      mode='lines', \n",
    "                                      name=roi, \n",
    "                                      legendgroup=roi, \n",
    "                                      line=dict(color=roi_color, width=3), \n",
    "                                      showlegend=False), \n",
    "                          row=1, col=l+1)\n",
    "\n",
    "            # Error area\n",
    "            fig.add_trace(go.Scatter(x=np.concatenate([df_sorted.prf_ecc, df_sorted.prf_ecc[::-1]]), \n",
    "                                      y=np.concatenate([list(line_upper), list(line_lower[::-1])]), \n",
    "                                      mode='lines', fill='toself', fillcolor=roi_color_opac, \n",
    "                                      line=dict(color=roi_color_opac, width=0), showlegend=False), \n",
    "                          row=1, col=l+1)\n",
    "\n",
    "            # Markers\n",
    "            fig.add_trace(go.Scatter(x=ecc_mean, \n",
    "                                      y=sd_mean, \n",
    "                                      mode='markers', \n",
    "                                      error_y=dict(type='data', array=ci.apply(lambda x: (x[1] - x[0]) / 2).tolist(), visible=True, thickness=3, width=0, color=roi_color),\n",
    "                                      marker=dict(color='white', size=8, line=dict(color=roi_color,width=3)), \n",
    "                                      showlegend=False), \n",
    "                          row=1, col=l + 1)\n",
    "            \n",
    "            # Add legend\n",
    "            annotation = go.layout.Annotation(x=13, \n",
    "                                              y=15-j*1.5, \n",
    "                                              text=roi, \n",
    "                                              xanchor='left',\n",
    "                                              showarrow=False, \n",
    "                                              font=dict(color=roi_color, size=12))\n",
    "            fig.add_annotation(annotation, row=1, col=l+1)\n",
    "\n",
    "        # Set axis titles only for the left-most column and bottom-most row\n",
    "        fig.update_yaxes(title_text='pCM (mm/dva)', row=1, col=1)\n",
    "        fig.update_xaxes(title_text='pRF eccentricity (dva)', range=[0,15], row=1, col=l+1)\n",
    "        fig.update_xaxes(linewidth=2,tickwidth=2,tickfont=dict(size=14, color='black'))\n",
    "        fig.update_yaxes(range=[0,15],linewidth=2,tickwidth=2,tickfont=dict(size=14, color='black'))\n",
    "        fig.update_layout(height=fig_height, width=fig_width, showlegend=False, template='simple_white')\n",
    "        \n",
    "    return fig"
   ]
  },
  {
   "cell_type": "code",
   "execution_count": null,
   "id": "b80d0f66-0c5e-4405-90e8-7053692f445e",
   "metadata": {
    "tags": []
   },
   "outputs": [],
   "source": [
    "categories_to_plot = ['vision',  'vision_and_pursuit_and_saccade']\n",
    "for categorie_to_plot in categories_to_plot:\n",
    "    df_categorie = data.loc[data.stats_final == categorie_to_plot]\n",
    "    fig2 = prf_ecc_pcm_plot(df_categorie, subject, fig_height=400, fig_width=800, ecc_th=ecc_th, pcm_th=pcm_th, rsq_th=rsq_th)\n",
    "    fig2.write_image(\"/Users/uriel/Downloads/{}_{}_ecc_pcm.pdf\".format(subject,categorie_to_plot))\n",
    "    fig2.show()"
   ]
  },
  {
   "cell_type": "code",
   "execution_count": null,
   "id": "3f73a85d-397d-4026-99ce-337290d0f720",
   "metadata": {},
   "outputs": [],
   "source": []
  }
 ],
 "metadata": {
  "kernelspec": {
   "display_name": "prf_env",
   "language": "python",
   "name": "prf_env"
  },
  "language_info": {
   "codemirror_mode": {
    "name": "ipython",
    "version": 3
   },
   "file_extension": ".py",
   "mimetype": "text/x-python",
   "name": "python",
   "nbconvert_exporter": "python",
   "pygments_lexer": "ipython3",
   "version": "3.11.7"
  }
 },
 "nbformat": 4,
 "nbformat_minor": 5
}
