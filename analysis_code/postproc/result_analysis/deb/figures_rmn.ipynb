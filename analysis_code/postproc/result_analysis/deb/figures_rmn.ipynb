{
 "cells": [
  {
   "cell_type": "code",
   "execution_count": 2,
   "id": "1a0a55ac-7289-4092-8a65-3cc41b8b0383",
   "metadata": {
    "tags": []
   },
   "outputs": [],
   "source": [
    "# Stop warnings\n",
    "import warnings\n",
    "warnings.filterwarnings(\"ignore\")\n",
    "\n",
    "import os\n",
    "import sys\n",
    "import glob\n",
    "import json\n",
    "import numpy as np\n",
    "import pandas as pd\n",
    "import plotly.express as px\n",
    "from scipy.stats import gamma\n",
    "import matplotlib.pyplot as plt\n",
    "import plotly.graph_objects as go\n",
    "from plotly.subplots import make_subplots\n",
    "\n",
    "# Personal imports\n",
    "sys.path.append(\"{}/../../../utils\".format(os.getcwd()))\n",
    "from glm_utils import eventsMatrix, extract_predictions_r2\n",
    "from surface_utils import load_surface, make_surface_image\n",
    "from plot_utils import plotly_template\n",
    "from pycortex_utils import draw_cortex, set_pycortex_config_file,load_surface_pycortex"
   ]
  },
  {
   "cell_type": "code",
   "execution_count": 19,
   "id": "e86f50fa-01ba-4f91-8a25-3184c8682a71",
   "metadata": {
    "tags": []
   },
   "outputs": [],
   "source": [
    "main_dir = '/Users/uriel/disks/meso_shared'\n",
    "code_dir = '/Users/uriel/disks/meso_H/projects'\n",
    "project_dir = 'RetinoMaps'\n",
    "subject = 'sub-12'\n",
    "format_ = 'fsnative'"
   ]
  },
  {
   "cell_type": "code",
   "execution_count": 20,
   "id": "cfa0e618-ef25-44e2-a5ba-7d30f7068151",
   "metadata": {
    "tags": []
   },
   "outputs": [],
   "source": [
    "with open('../../../settings.json') as f:\n",
    "    json_s = f.read()\n",
    "    analysis_info = json.loads(json_s)\n",
    "rois = analysis_info['rois']"
   ]
  },
  {
   "cell_type": "markdown",
   "id": "d1625b11-e96b-404f-8880-41b5da43d783",
   "metadata": {
    "tags": []
   },
   "source": [
    "# Particioants"
   ]
  },
  {
   "cell_type": "code",
   "execution_count": null,
   "id": "5cad1351-bff7-485f-8c30-f31819577ac5",
   "metadata": {
    "tags": []
   },
   "outputs": [],
   "source": [
    "participants_fn = '{}/{}/participants.tsv'.format(main_dir, project_dir)\n",
    "participants = pd.read_table(participants_fn)"
   ]
  },
  {
   "cell_type": "code",
   "execution_count": null,
   "id": "92f36b44-7167-44e6-be85-9754c2043ef9",
   "metadata": {
    "tags": []
   },
   "outputs": [],
   "source": [
    "print(participants.age.mean())\n",
    "print(participants.age.std())\n",
    "print(participants.sex.value_counts())\n"
   ]
  },
  {
   "cell_type": "markdown",
   "id": "e39b8a7f-5934-431c-aabb-fcd43d8820bc",
   "metadata": {
    "jp-MarkdownHeadingCollapsed": true,
    "tags": []
   },
   "source": [
    "# Flat Map"
   ]
  },
  {
   "cell_type": "code",
   "execution_count": null,
   "id": "c9d94ca2-f3f0-4fa9-91ca-ee8fbce731b3",
   "metadata": {
    "tags": []
   },
   "outputs": [],
   "source": [
    "fn_170k = '/Users/uriel/disks/meso_shared/RetinoMaps/derivatives/pp_data/sub-02/170k/final_stats/results/sub-02_final-stats.dtseries.nii'\n",
    "results_170k = load_surface_pycortex(brain_fn=fn_170k)  \n",
    "data_170k = results_170k['data_concat']\n",
    "fake_data_170k = np.zeros_like(dadata_170kta[1,:])\n"
   ]
  },
  {
   "cell_type": "code",
   "execution_count": null,
   "id": "ea0f4cfb",
   "metadata": {},
   "outputs": [],
   "source": [
    "fn_fsnative_L = '/Users/uriel/disks/meso_shared/RetinoMaps/derivatives/pp_data/sub-03/fsnative/final_stats/results/sub-03_hemi-L_final-stats.func.gii'\n",
    "fn_fsnative_R = '/Users/uriel/disks/meso_shared/RetinoMaps/derivatives/pp_data/sub-03/fsnative/final_stats/results/sub-03_hemi-R_final-stats.func.gii'\n",
    "\n",
    "results_fsnative = load_surface_pycortex(L_fn=fn_fsnative_L, R_fn=fn_fsnative_R)\n",
    "data_fsnative = results_fsnative['data_concat']\n",
    "fake_data_fsnative = np.zeros_like(data_fsnative[1,:])\n"
   ]
  },
  {
   "cell_type": "code",
   "execution_count": null,
   "id": "b121911c-5b11-428e-8f0f-ba239ca7a430",
   "metadata": {
    "tags": []
   },
   "outputs": [],
   "source": [
    "param = {'subject':subject,'xfmname':None,'data': data_fsnative[1,:], 'cmap': 'stats_colors', 'alpha': fake_data_fsnative, \n",
    "             'vmin': 0, 'vmax': 1, 'cbar': None, 'cmap_steps': 255,\n",
    "             'cortex_type': 'VertexRGB','description': 'final map','with_borders':False,\n",
    "             'curv_brightness': 0.1, 'curv_contrast': 0.25, 'add_roi': False,\n",
    "             'cbar_label': '', 'with_labels': False}\n",
    "\n",
    "\n",
    "\n",
    "a = draw_cortex(**param)\n",
    "plt.savefig('/Users/uriel/Downloads/fsnative_flat.pdf')"
   ]
  },
  {
   "cell_type": "markdown",
   "id": "940dff0a-d13b-4d04-9782-b47bd03bb351",
   "metadata": {
    "tags": []
   },
   "source": [
    "# pRF prediction bold"
   ]
  },
  {
   "cell_type": "code",
   "execution_count": 1,
   "id": "e610f86b-44f3-40c5-9723-2b6fb30f1ebd",
   "metadata": {
    "tags": []
   },
   "outputs": [
    {
     "ename": "NameError",
     "evalue": "name 'main_dir' is not defined",
     "output_type": "error",
     "traceback": [
      "\u001b[0;31m---------------------------------------------------------------------------\u001b[0m",
      "\u001b[0;31mNameError\u001b[0m                                 Traceback (most recent call last)",
      "Cell \u001b[0;32mIn[1], line 1\u001b[0m\n\u001b[0;32m----> 1\u001b[0m bold_dir \u001b[38;5;241m=\u001b[39m \u001b[38;5;124m'\u001b[39m\u001b[38;5;132;01m{}\u001b[39;00m\u001b[38;5;124m/\u001b[39m\u001b[38;5;132;01m{}\u001b[39;00m\u001b[38;5;124m/derivatives/pp_data/\u001b[39m\u001b[38;5;132;01m{}\u001b[39;00m\u001b[38;5;124m/\u001b[39m\u001b[38;5;132;01m{}\u001b[39;00m\u001b[38;5;124m/func/fmriprep_dct_loo_avg\u001b[39m\u001b[38;5;124m'\u001b[39m\u001b[38;5;241m.\u001b[39mformat(\u001b[43mmain_dir\u001b[49m, project_dir,subject,format_)\n\u001b[1;32m      2\u001b[0m bold_fn \u001b[38;5;241m=\u001b[39m \u001b[38;5;124m'\u001b[39m\u001b[38;5;132;01m{}\u001b[39;00m\u001b[38;5;124m/\u001b[39m\u001b[38;5;132;01m{}\u001b[39;00m\u001b[38;5;124m_task-pRF_hemi-L_fmriprep_dct_avg_loo-1_bold.func.gii\u001b[39m\u001b[38;5;124m'\u001b[39m\u001b[38;5;241m.\u001b[39mformat(bold_dir, subject)\n\u001b[1;32m      3\u001b[0m bold_img, bold_data \u001b[38;5;241m=\u001b[39m load_surface(fn \u001b[38;5;241m=\u001b[39m bold_fn)\n",
      "\u001b[0;31mNameError\u001b[0m: name 'main_dir' is not defined"
     ]
    }
   ],
   "source": [
    "bold_dir = '{}/{}/derivatives/pp_data/{}/{}/func/fmriprep_dct_loo_avg'.format(main_dir, project_dir,subject,format_)\n",
    "bold_fn = '{}/{}_task-pRF_hemi-L_fmriprep_dct_avg_loo-1_bold.func.gii'.format(bold_dir, subject)\n",
    "bold_img, bold_data = load_surface(fn = bold_fn)"
   ]
  },
  {
   "cell_type": "code",
   "execution_count": 9,
   "id": "4c28de2f",
   "metadata": {
    "tags": []
   },
   "outputs": [],
   "source": [
    "prf_dir ='{}/{}/derivatives/pp_data/{}/{}/prf/fit/'.format(main_dir, project_dir,subject,format_)\n",
    "prf_pred_fn = '{}/{}_task-pRF_hemi-L_fmriprep_dct_avg_loo-1_prf-pred_css.func.gii'.format(prf_dir, subject)\n",
    "prf_pred_img, prf_pred_data = load_surface(fn = prf_pred_fn)"
   ]
  },
  {
   "cell_type": "code",
   "execution_count": 22,
   "id": "43ba31d8-6e38-4c05-a6c4-f53f8d2a8729",
   "metadata": {
    "tags": []
   },
   "outputs": [],
   "source": [
    "x_idx, y_idx, size_idx, r2_idx = 0,1,2,8\n",
    "prf_fit_fn = '{}/{}_task-pRF_hemi-L_fmriprep_dct_avg_loo-1_prf-fit_css.func.gii'.format(prf_dir, subject)\n",
    "prf_fit_img, prf_fit_data = load_surface(fn = prf_fit_fn)"
   ]
  },
  {
   "cell_type": "code",
   "execution_count": 15,
   "id": "75cd2ed5-557b-423b-b8db-5f46cb77c307",
   "metadata": {
    "tags": []
   },
   "outputs": [
    {
     "data": {
      "text/plain": [
       "(10, 143728)"
      ]
     },
     "execution_count": 15,
     "metadata": {},
     "output_type": "execute_result"
    }
   ],
   "source": [
    "prf_fit_data.shape"
   ]
  },
  {
   "cell_type": "code",
   "execution_count": 16,
   "id": "fdd1bff2-da44-41f8-bd91-4fec7ef9129a",
   "metadata": {
    "tags": []
   },
   "outputs": [
    {
     "data": {
      "text/plain": [
       "(['prf_rsq',\n",
       "  'prf_ecc',\n",
       "  'polar_real',\n",
       "  'polar_imag',\n",
       "  'prf_size',\n",
       "  'amplitude',\n",
       "  'baseline',\n",
       "  'prf_x',\n",
       "  'prf_y',\n",
       "  'hrf_1',\n",
       "  'hrf_2',\n",
       "  'prf_n',\n",
       "  'prf_loo_r2'],)"
      ]
     },
     "execution_count": 16,
     "metadata": {},
     "output_type": "execute_result"
    }
   ],
   "source": [
    "[\"prf_rsq\", \"prf_ecc\", \"polar_real\", \"polar_imag\", \"prf_size\", \"amplitude\", \"baseline\", \"prf_x\", \"prf_y\", \"hrf_1\", \"hrf_2\", \"prf_n\", \"prf_loo_r2\"],"
   ]
  },
  {
   "cell_type": "code",
   "execution_count": 23,
   "id": "d0bfe4b5-cf53-4114-9971-8d693bf7a429",
   "metadata": {
    "tags": []
   },
   "outputs": [
    {
     "data": {
      "application/vnd.plotly.v1+json": {
       "config": {
        "plotlyServerURL": "https://plot.ly"
       },
       "data": [
        {
         "line": {
          "color": "black"
         },
         "mode": "markers",
         "name": "data",
         "type": "scatter",
         "y": [
          -0.42142894864082336,
          -0.3656173646450043,
          -0.39722153544425964,
          -0.33458155393600464,
          -0.942859947681427,
          -0.638827919960022,
          -0.9883320927619934,
          -0.9119776487350464,
          -0.37907809019088745,
          -0.5059282183647156,
          -0.4813900291919708,
          0.1724615842103958,
          0.013191105797886848,
          0.003459429368376732,
          -0.05696118623018265,
          0.04162720590829849,
          -0.02266080118715763,
          0.041275426745414734,
          0.06862623989582062,
          0.20130178332328796,
          -0.1926780641078949,
          -0.25102922320365906,
          -0.37711215019226074,
          -0.3067038059234619,
          0.0837598666548729,
          0.3696068525314331,
          0.4462495744228363,
          0.6861975789070129,
          1.0852805376052856,
          1.635733962059021,
          2.0600874423980713,
          2.4517245292663574,
          2.649670124053955,
          2.761563777923584,
          2.0380396842956543,
          1.1329782009124756,
          0.06581777334213257,
          -0.3129711151123047,
          -0.41119009256362915,
          -0.7382984757423401,
          -0.7208369374275208,
          -1.0450446605682373,
          -0.8463723659515381,
          -1.078895092010498,
          -0.6992015242576599,
          -1.043025255203247,
          -0.6644237637519836,
          -0.40837544202804565,
          -0.17613956332206726,
          -0.10728053748607635,
          -0.3597358167171478,
          -0.026008911430835724,
          -0.13702866435050964,
          -0.2964092493057251,
          0.17580987513065338,
          -0.1811293363571167,
          -0.2566168010234833,
          -0.6316930651664734,
          -0.6914744973182678,
          -0.714148998260498,
          -0.21662382781505585,
          -0.13744309544563293,
          0.11830729991197586,
          -0.3642917275428772,
          0.11197398602962494,
          -0.17793259024620056,
          -0.42541825771331787,
          -0.5327601432800293,
          -0.4177058935165405,
          -0.5775991082191467,
          -0.5433319807052612,
          -0.38082394003868103,
          -0.08524959534406662,
          -0.1507703959941864,
          -0.1440780609846115,
          -0.11030399799346924,
          -0.3400382995605469,
          -0.3520985543727875,
          -0.5970329642295837,
          -0.44248002767562866,
          -0.048673246055841446,
          0.724382221698761,
          1.413695216178894,
          1.9167251586914062,
          2.3692357540130615,
          2.775869369506836,
          2.509350061416626,
          2.0002973079681396,
          1.191504716873169,
          -0.16625702381134033,
          -1.2751251459121704,
          -1.2157443761825562,
          -0.7662431597709656,
          -0.8119562864303589,
          -0.9085522890090942,
          -0.8086655139923096,
          -0.8544195890426636,
          -0.960822582244873,
          -0.2853413224220276,
          -0.12026304751634598,
          0.3168025314807892,
          0.09712328016757965,
          0.07733430713415146,
          0.31146809458732605,
          0.19988036155700684,
          -0.0050486004911363125,
          -0.2036357969045639,
          -0.28453582525253296,
          -0.26574957370758057,
          -0.2808018624782562,
          -0.2867059111595154,
          -0.16139057278633118,
          -0.21632666885852814,
          -0.01968190260231495,
          0.20587387681007385,
          0.10377039015293121,
          0.08702315390110016,
          -0.22970011830329895,
          -0.29888105392456055,
          -0.13380056619644165,
          -0.32916003465652466,
          -0.2226148247718811,
          -0.34168463945388794,
          -0.2940266728401184,
          -0.6916056275367737,
          -0.45020434260368347,
          -0.6073735356330872,
          -0.5909591317176819,
          -0.5987218618392944,
          -0.6275532245635986,
          -0.3613935708999634,
          0.3425978720188141,
          1.1036372184753418,
          1.6329792737960815,
          2.0401275157928467,
          2.6155617237091064,
          2.8783950805664062,
          2.3851466178894043,
          1.8897722959518433,
          0.7027699947357178,
          -0.7531580328941345,
          -1.2048883438110352,
          -0.8329434394836426,
          -0.943711519241333,
          -1.0028200149536133,
          -0.8219914436340332,
          -0.8189976215362549,
          -0.5799301266670227,
          -0.046821229159832,
          -0.21735139191150665,
          -0.38923728466033936,
          -0.43566378951072693,
          -0.7130747437477112,
          -0.6442932486534119,
          -0.48242050409317017,
          -0.6442359685897827,
          0.007215907797217369,
          -0.5245702862739563,
          -0.2854366600513458,
          -0.3727281093597412,
          -0.05103675276041031,
          -0.4325844943523407,
          -0.5104816555976868,
          -0.3755740523338318,
          -0.15406572818756104,
          -0.1683049499988556,
          -0.17340229451656342,
          -0.16621710360050201,
          -0.19810765981674194,
          -0.7174847722053528,
          -0.5750577449798584,
          -0.5775575637817383,
          -0.13333521783351898,
          -0.10521280020475388,
          0.11337202042341232,
          0.9465436935424805,
          1.2820355892181396,
          2.1715762615203857,
          2.270338296890259,
          2.6601052284240723,
          2.6522881984710693,
          1.9148871898651123,
          0.3602147698402405,
          -0.6908703446388245,
          -0.9906459450721741,
          -0.9948301911354065,
          -0.5416020750999451,
          -0.869330883026123,
          -0.7512756586074829,
          -0.8284522891044617,
          -0.2484433650970459,
          -0.5067529082298279,
          -0.11304573714733124,
          0.030134186148643494,
          0.07485487312078476,
          -0.21276214718818665,
          -0.21362271904945374,
          -0.04487540200352669,
          -0.1185673400759697,
          -0.11016174405813217,
          0.14546194672584534,
          0.08593344688415527,
          0.18509650230407715,
          0.06358681619167328,
          0.08641324937343597,
          -0.3416455388069153,
          -0.6149343848228455,
          -0.27117985486984253
         ]
        },
        {
         "name": "pRF",
         "type": "scatter",
         "y": [
          -0.26316967606544495,
          -0.26281604170799255,
          -0.26257213950157166,
          -0.2624143064022064,
          -0.26231735944747925,
          -0.262260377407074,
          -0.2622281014919281,
          -0.2622104287147522,
          -0.2622010409832001,
          -0.2621961832046509,
          -0.2621937096118927,
          -0.2621924579143524,
          -0.26219186186790466,
          -0.26219186186790466,
          -0.26219186186790466,
          -0.2621918320655823,
          -0.26219186186790466,
          -0.26219186186790466,
          -0.26219186186790466,
          -0.26219186186790466,
          -0.26219186186790466,
          -0.2621914744377136,
          -0.26217177510261536,
          -0.26158735156059265,
          -0.2525557577610016,
          -0.22649894654750824,
          -0.16826555132865906,
          0.032234832644462585,
          0.48833298683166504,
          1.193269968032837,
          1.9766895771026611,
          2.56571888923645,
          2.7159745693206787,
          2.330590009689331,
          1.609850287437439,
          0.9230466485023499,
          0.22891156375408173,
          -0.43159767985343933,
          -0.8748419284820557,
          -1.0310205221176147,
          -0.9793267250061035,
          -0.8364970684051514,
          -0.6806405186653137,
          -0.5447214245796204,
          -0.43683797121047974,
          -0.3563863933086395,
          -0.30056077241897583,
          -0.26562467217445374,
          -0.24703986942768097,
          -0.2399343103170395,
          -0.23982733488082886,
          -0.24319365620613098,
          -0.2476625144481659,
          -0.2519000768661499,
          -0.2553313672542572,
          -0.25784412026405334,
          -0.2595535218715668,
          -0.2606508731842041,
          -0.261322557926178,
          -0.26171746850013733,
          -0.26194170117378235,
          -0.26206499338150024,
          -0.2621305584907532,
          -0.2621639370918274,
          -0.262179970741272,
          -0.2621879279613495,
          -0.26219093799591064,
          -0.2621917128562927,
          -0.2621918320655823,
          -0.26219186186790466,
          -0.26219186186790466,
          -0.26219186186790466,
          -0.26219186186790466,
          -0.26219189167022705,
          -0.26219186186790466,
          -0.26219072937965393,
          -0.262140154838562,
          -0.26085177063941956,
          -0.24475684762001038,
          -0.1552189290523529,
          0.11841539293527603,
          0.6550582647323608,
          1.4082361459732056,
          2.1951470375061035,
          2.7479329109191895,
          2.869208812713623,
          2.591191053390503,
          1.955434799194336,
          1.0567593574523926,
          0.10905542969703674,
          -0.6398699283599854,
          -1.0455918312072754,
          -1.132999062538147,
          -1.0310912132263184,
          -0.8620977997779846,
          -0.6934504508972168,
          -0.5496438145637512,
          -0.4358983635902405,
          -0.35155487060546875,
          -0.2940264642238617,
          -0.2592177391052246,
          -0.24183902144432068,
          -0.23627980053424835,
          -0.2375705987215042,
          -0.24197569489479065,
          -0.24710945785045624,
          -0.25171715021133423,
          -0.25532373785972595,
          -0.257900595664978,
          -0.2596200406551361,
          -0.26070636510849,
          -0.26136231422424316,
          -0.2617434859275818,
          -0.26195767521858215,
          -0.26207438111305237,
          -0.2621358036994934,
          -0.26216721534729004,
          -0.262182354927063,
          -0.2621888816356659,
          -0.2621912360191345,
          -0.2621918022632599,
          -0.26219186186790466,
          -0.26219186186790466,
          -0.26219186186790466,
          -0.26219186186790466,
          -0.26219162344932556,
          -0.26217859983444214,
          -0.26176607608795166,
          -0.2548278272151947,
          -0.20838865637779236,
          -0.029558807611465454,
          0.4033648669719696,
          0.9996963739395142,
          1.499174952507019,
          1.9996190071105957,
          2.4510204792022705,
          2.607254981994629,
          2.2885377407073975,
          1.530993103981018,
          0.5673700571060181,
          -0.30241602659225464,
          -0.8560338020324707,
          -1.0499225854873657,
          -1.018386960029602,
          -0.8908976316452026,
          -0.7401317954063416,
          -0.5988826155662537,
          -0.47968488931655884,
          -0.3864753842353821,
          -0.3193109631538391,
          -0.27568069100379944,
          -0.2511877715587616,
          -0.24053943157196045,
          -0.23863470554351807,
          -0.24134162068367004,
          -0.24579840898513794,
          -0.2503252625465393,
          -0.2541337013244629,
          -0.25699907541275024,
          -0.25899139046669006,
          -0.26029470562934875,
          -0.26110610365867615,
          -0.2615906298160553,
          -0.2618688941001892,
          -0.262024462223053,
          -0.2621089518070221,
          -0.26215335726737976,
          -0.2621755003929138,
          -0.26218098402023315,
          -0.26201218366622925,
          -0.2614637613296509,
          -0.257942795753479,
          -0.2256096452474594,
          -0.08278751373291016,
          0.28279832005500793,
          0.9123597741127014,
          1.6965805292129517,
          2.3903145790100098,
          2.7825868129730225,
          2.828827142715454,
          2.458221673965454,
          1.693479299545288,
          0.7194404006004333,
          -0.1975511759519577,
          -0.8339917659759521,
          -1.112601399421692,
          -1.113843560218811,
          -0.9758191108703613,
          -0.8016162514686584,
          -0.6400625109672546,
          -0.5064071416854858,
          -0.4029313325881958,
          -0.32820695638656616,
          -0.2791363596916199,
          -0.2511148154735565,
          -0.23858265578746796,
          -0.23602086305618286,
          -0.23882882297039032,
          -0.24374498426914215,
          -0.24881762266159058,
          -0.2531123161315918,
          -0.2563505470752716,
          -0.25860148668289185,
          -0.2600710391998291,
          -0.2609829008579254,
          -0.26152512431144714,
          -0.26183605194091797,
          -0.2620086073875427
         ]
        }
       ],
       "layout": {
        "annotations": [
         {
          "showarrow": false,
          "text": "R<sup>2</sup>=0.90",
          "x": 198,
          "y": 4
         }
        ],
        "autosize": true,
        "showlegend": true,
        "template": {
         "data": {
          "bar": [
           {
            "error_x": {
             "color": "rgb(36,36,36)"
            },
            "error_y": {
             "color": "rgb(36,36,36)"
            },
            "marker": {
             "line": {
              "color": "white",
              "width": 0.5
             },
             "pattern": {
              "fillmode": "overlay",
              "size": 10,
              "solidity": 0.2
             }
            },
            "type": "bar"
           }
          ],
          "barpolar": [
           {
            "marker": {
             "line": {
              "color": "white",
              "width": 0.5
             },
             "pattern": {
              "fillmode": "overlay",
              "size": 10,
              "solidity": 0.2
             }
            },
            "type": "barpolar"
           }
          ],
          "carpet": [
           {
            "aaxis": {
             "endlinecolor": "rgb(36,36,36)",
             "gridcolor": "white",
             "linecolor": "white",
             "minorgridcolor": "white",
             "startlinecolor": "rgb(36,36,36)"
            },
            "baxis": {
             "endlinecolor": "rgb(36,36,36)",
             "gridcolor": "white",
             "linecolor": "white",
             "minorgridcolor": "white",
             "startlinecolor": "rgb(36,36,36)"
            },
            "type": "carpet"
           }
          ],
          "choropleth": [
           {
            "colorbar": {
             "outlinewidth": 1,
             "tickcolor": "rgb(36,36,36)",
             "ticks": "outside"
            },
            "type": "choropleth"
           }
          ],
          "contour": [
           {
            "colorbar": {
             "outlinewidth": 1,
             "tickcolor": "rgb(36,36,36)",
             "ticks": "outside"
            },
            "colorscale": [
             [
              0,
              "#440154"
             ],
             [
              0.1111111111111111,
              "#482878"
             ],
             [
              0.2222222222222222,
              "#3e4989"
             ],
             [
              0.3333333333333333,
              "#31688e"
             ],
             [
              0.4444444444444444,
              "#26828e"
             ],
             [
              0.5555555555555556,
              "#1f9e89"
             ],
             [
              0.6666666666666666,
              "#35b779"
             ],
             [
              0.7777777777777778,
              "#6ece58"
             ],
             [
              0.8888888888888888,
              "#b5de2b"
             ],
             [
              1,
              "#fde725"
             ]
            ],
            "type": "contour"
           }
          ],
          "contourcarpet": [
           {
            "colorbar": {
             "outlinewidth": 1,
             "tickcolor": "rgb(36,36,36)",
             "ticks": "outside"
            },
            "type": "contourcarpet"
           }
          ],
          "heatmap": [
           {
            "colorbar": {
             "outlinewidth": 1,
             "tickcolor": "rgb(36,36,36)",
             "ticks": "outside"
            },
            "colorscale": [
             [
              0,
              "#440154"
             ],
             [
              0.1111111111111111,
              "#482878"
             ],
             [
              0.2222222222222222,
              "#3e4989"
             ],
             [
              0.3333333333333333,
              "#31688e"
             ],
             [
              0.4444444444444444,
              "#26828e"
             ],
             [
              0.5555555555555556,
              "#1f9e89"
             ],
             [
              0.6666666666666666,
              "#35b779"
             ],
             [
              0.7777777777777778,
              "#6ece58"
             ],
             [
              0.8888888888888888,
              "#b5de2b"
             ],
             [
              1,
              "#fde725"
             ]
            ],
            "type": "heatmap"
           }
          ],
          "heatmapgl": [
           {
            "colorbar": {
             "outlinewidth": 1,
             "tickcolor": "rgb(36,36,36)",
             "ticks": "outside"
            },
            "colorscale": [
             [
              0,
              "#440154"
             ],
             [
              0.1111111111111111,
              "#482878"
             ],
             [
              0.2222222222222222,
              "#3e4989"
             ],
             [
              0.3333333333333333,
              "#31688e"
             ],
             [
              0.4444444444444444,
              "#26828e"
             ],
             [
              0.5555555555555556,
              "#1f9e89"
             ],
             [
              0.6666666666666666,
              "#35b779"
             ],
             [
              0.7777777777777778,
              "#6ece58"
             ],
             [
              0.8888888888888888,
              "#b5de2b"
             ],
             [
              1,
              "#fde725"
             ]
            ],
            "type": "heatmapgl"
           }
          ],
          "histogram": [
           {
            "marker": {
             "line": {
              "color": "white",
              "width": 0.6
             }
            },
            "type": "histogram"
           }
          ],
          "histogram2d": [
           {
            "colorbar": {
             "outlinewidth": 1,
             "tickcolor": "rgb(36,36,36)",
             "ticks": "outside"
            },
            "colorscale": [
             [
              0,
              "#440154"
             ],
             [
              0.1111111111111111,
              "#482878"
             ],
             [
              0.2222222222222222,
              "#3e4989"
             ],
             [
              0.3333333333333333,
              "#31688e"
             ],
             [
              0.4444444444444444,
              "#26828e"
             ],
             [
              0.5555555555555556,
              "#1f9e89"
             ],
             [
              0.6666666666666666,
              "#35b779"
             ],
             [
              0.7777777777777778,
              "#6ece58"
             ],
             [
              0.8888888888888888,
              "#b5de2b"
             ],
             [
              1,
              "#fde725"
             ]
            ],
            "type": "histogram2d"
           }
          ],
          "histogram2dcontour": [
           {
            "colorbar": {
             "outlinewidth": 1,
             "tickcolor": "rgb(36,36,36)",
             "ticks": "outside"
            },
            "colorscale": [
             [
              0,
              "#440154"
             ],
             [
              0.1111111111111111,
              "#482878"
             ],
             [
              0.2222222222222222,
              "#3e4989"
             ],
             [
              0.3333333333333333,
              "#31688e"
             ],
             [
              0.4444444444444444,
              "#26828e"
             ],
             [
              0.5555555555555556,
              "#1f9e89"
             ],
             [
              0.6666666666666666,
              "#35b779"
             ],
             [
              0.7777777777777778,
              "#6ece58"
             ],
             [
              0.8888888888888888,
              "#b5de2b"
             ],
             [
              1,
              "#fde725"
             ]
            ],
            "type": "histogram2dcontour"
           }
          ],
          "mesh3d": [
           {
            "colorbar": {
             "outlinewidth": 1,
             "tickcolor": "rgb(36,36,36)",
             "ticks": "outside"
            },
            "type": "mesh3d"
           }
          ],
          "parcoords": [
           {
            "line": {
             "colorbar": {
              "outlinewidth": 1,
              "tickcolor": "rgb(36,36,36)",
              "ticks": "outside"
             }
            },
            "type": "parcoords"
           }
          ],
          "pie": [
           {
            "automargin": true,
            "type": "pie"
           }
          ],
          "scatter": [
           {
            "fillpattern": {
             "fillmode": "overlay",
             "size": 10,
             "solidity": 0.2
            },
            "type": "scatter"
           }
          ],
          "scatter3d": [
           {
            "line": {
             "colorbar": {
              "outlinewidth": 1,
              "tickcolor": "rgb(36,36,36)",
              "ticks": "outside"
             }
            },
            "marker": {
             "colorbar": {
              "outlinewidth": 1,
              "tickcolor": "rgb(36,36,36)",
              "ticks": "outside"
             }
            },
            "type": "scatter3d"
           }
          ],
          "scattercarpet": [
           {
            "marker": {
             "colorbar": {
              "outlinewidth": 1,
              "tickcolor": "rgb(36,36,36)",
              "ticks": "outside"
             }
            },
            "type": "scattercarpet"
           }
          ],
          "scattergeo": [
           {
            "marker": {
             "colorbar": {
              "outlinewidth": 1,
              "tickcolor": "rgb(36,36,36)",
              "ticks": "outside"
             }
            },
            "type": "scattergeo"
           }
          ],
          "scattergl": [
           {
            "marker": {
             "colorbar": {
              "outlinewidth": 1,
              "tickcolor": "rgb(36,36,36)",
              "ticks": "outside"
             }
            },
            "type": "scattergl"
           }
          ],
          "scattermapbox": [
           {
            "marker": {
             "colorbar": {
              "outlinewidth": 1,
              "tickcolor": "rgb(36,36,36)",
              "ticks": "outside"
             }
            },
            "type": "scattermapbox"
           }
          ],
          "scatterpolar": [
           {
            "marker": {
             "colorbar": {
              "outlinewidth": 1,
              "tickcolor": "rgb(36,36,36)",
              "ticks": "outside"
             }
            },
            "type": "scatterpolar"
           }
          ],
          "scatterpolargl": [
           {
            "marker": {
             "colorbar": {
              "outlinewidth": 1,
              "tickcolor": "rgb(36,36,36)",
              "ticks": "outside"
             }
            },
            "type": "scatterpolargl"
           }
          ],
          "scatterternary": [
           {
            "marker": {
             "colorbar": {
              "outlinewidth": 1,
              "tickcolor": "rgb(36,36,36)",
              "ticks": "outside"
             }
            },
            "type": "scatterternary"
           }
          ],
          "surface": [
           {
            "colorbar": {
             "outlinewidth": 1,
             "tickcolor": "rgb(36,36,36)",
             "ticks": "outside"
            },
            "colorscale": [
             [
              0,
              "#440154"
             ],
             [
              0.1111111111111111,
              "#482878"
             ],
             [
              0.2222222222222222,
              "#3e4989"
             ],
             [
              0.3333333333333333,
              "#31688e"
             ],
             [
              0.4444444444444444,
              "#26828e"
             ],
             [
              0.5555555555555556,
              "#1f9e89"
             ],
             [
              0.6666666666666666,
              "#35b779"
             ],
             [
              0.7777777777777778,
              "#6ece58"
             ],
             [
              0.8888888888888888,
              "#b5de2b"
             ],
             [
              1,
              "#fde725"
             ]
            ],
            "type": "surface"
           }
          ],
          "table": [
           {
            "cells": {
             "fill": {
              "color": "rgb(237,237,237)"
             },
             "line": {
              "color": "white"
             }
            },
            "header": {
             "fill": {
              "color": "rgb(217,217,217)"
             },
             "line": {
              "color": "white"
             }
            },
            "type": "table"
           }
          ]
         },
         "layout": {
          "annotationdefaults": {
           "arrowhead": 0,
           "arrowwidth": 1
          },
          "autotypenumbers": "strict",
          "coloraxis": {
           "colorbar": {
            "outlinewidth": 1,
            "tickcolor": "rgb(36,36,36)",
            "ticks": "outside"
           }
          },
          "colorscale": {
           "diverging": [
            [
             0,
             "rgb(103,0,31)"
            ],
            [
             0.1,
             "rgb(178,24,43)"
            ],
            [
             0.2,
             "rgb(214,96,77)"
            ],
            [
             0.3,
             "rgb(244,165,130)"
            ],
            [
             0.4,
             "rgb(253,219,199)"
            ],
            [
             0.5,
             "rgb(247,247,247)"
            ],
            [
             0.6,
             "rgb(209,229,240)"
            ],
            [
             0.7,
             "rgb(146,197,222)"
            ],
            [
             0.8,
             "rgb(67,147,195)"
            ],
            [
             0.9,
             "rgb(33,102,172)"
            ],
            [
             1,
             "rgb(5,48,97)"
            ]
           ],
           "sequential": [
            [
             0,
             "#440154"
            ],
            [
             0.1111111111111111,
             "#482878"
            ],
            [
             0.2222222222222222,
             "#3e4989"
            ],
            [
             0.3333333333333333,
             "#31688e"
            ],
            [
             0.4444444444444444,
             "#26828e"
            ],
            [
             0.5555555555555556,
             "#1f9e89"
            ],
            [
             0.6666666666666666,
             "#35b779"
            ],
            [
             0.7777777777777778,
             "#6ece58"
            ],
            [
             0.8888888888888888,
             "#b5de2b"
            ],
            [
             1,
             "#fde725"
            ]
           ],
           "sequentialminus": [
            [
             0,
             "#440154"
            ],
            [
             0.1111111111111111,
             "#482878"
            ],
            [
             0.2222222222222222,
             "#3e4989"
            ],
            [
             0.3333333333333333,
             "#31688e"
            ],
            [
             0.4444444444444444,
             "#26828e"
            ],
            [
             0.5555555555555556,
             "#1f9e89"
            ],
            [
             0.6666666666666666,
             "#35b779"
            ],
            [
             0.7777777777777778,
             "#6ece58"
            ],
            [
             0.8888888888888888,
             "#b5de2b"
            ],
            [
             1,
             "#fde725"
            ]
           ]
          },
          "colorway": [
           "#1F77B4",
           "#FF7F0E",
           "#2CA02C",
           "#D62728",
           "#9467BD",
           "#8C564B",
           "#E377C2",
           "#7F7F7F",
           "#BCBD22",
           "#17BECF"
          ],
          "font": {
           "color": "rgb(36,36,36)"
          },
          "geo": {
           "bgcolor": "white",
           "lakecolor": "white",
           "landcolor": "white",
           "showlakes": true,
           "showland": true,
           "subunitcolor": "white"
          },
          "hoverlabel": {
           "align": "left"
          },
          "hovermode": "closest",
          "mapbox": {
           "style": "light"
          },
          "paper_bgcolor": "white",
          "plot_bgcolor": "white",
          "polar": {
           "angularaxis": {
            "gridcolor": "rgb(232,232,232)",
            "linecolor": "rgb(36,36,36)",
            "showgrid": false,
            "showline": true,
            "ticks": "outside"
           },
           "bgcolor": "white",
           "radialaxis": {
            "gridcolor": "rgb(232,232,232)",
            "linecolor": "rgb(36,36,36)",
            "showgrid": false,
            "showline": true,
            "ticks": "outside"
           }
          },
          "scene": {
           "xaxis": {
            "backgroundcolor": "white",
            "gridcolor": "rgb(232,232,232)",
            "gridwidth": 2,
            "linecolor": "rgb(36,36,36)",
            "showbackground": true,
            "showgrid": false,
            "showline": true,
            "ticks": "outside",
            "zeroline": false,
            "zerolinecolor": "rgb(36,36,36)"
           },
           "yaxis": {
            "backgroundcolor": "white",
            "gridcolor": "rgb(232,232,232)",
            "gridwidth": 2,
            "linecolor": "rgb(36,36,36)",
            "showbackground": true,
            "showgrid": false,
            "showline": true,
            "ticks": "outside",
            "zeroline": false,
            "zerolinecolor": "rgb(36,36,36)"
           },
           "zaxis": {
            "backgroundcolor": "white",
            "gridcolor": "rgb(232,232,232)",
            "gridwidth": 2,
            "linecolor": "rgb(36,36,36)",
            "showbackground": true,
            "showgrid": false,
            "showline": true,
            "ticks": "outside",
            "zeroline": false,
            "zerolinecolor": "rgb(36,36,36)"
           }
          },
          "shapedefaults": {
           "fillcolor": "black",
           "line": {
            "width": 0
           },
           "opacity": 0.3
          },
          "ternary": {
           "aaxis": {
            "gridcolor": "rgb(232,232,232)",
            "linecolor": "rgb(36,36,36)",
            "showgrid": false,
            "showline": true,
            "ticks": "outside"
           },
           "baxis": {
            "gridcolor": "rgb(232,232,232)",
            "linecolor": "rgb(36,36,36)",
            "showgrid": false,
            "showline": true,
            "ticks": "outside"
           },
           "bgcolor": "white",
           "caxis": {
            "gridcolor": "rgb(232,232,232)",
            "linecolor": "rgb(36,36,36)",
            "showgrid": false,
            "showline": true,
            "ticks": "outside"
           }
          },
          "title": {
           "x": 0.05
          },
          "xaxis": {
           "automargin": true,
           "gridcolor": "rgb(232,232,232)",
           "linecolor": "rgb(36,36,36)",
           "showgrid": false,
           "showline": true,
           "ticks": "outside",
           "title": {
            "standoff": 15
           },
           "zeroline": false,
           "zerolinecolor": "rgb(36,36,36)"
          },
          "yaxis": {
           "automargin": true,
           "gridcolor": "rgb(232,232,232)",
           "linecolor": "rgb(36,36,36)",
           "showgrid": false,
           "showline": true,
           "ticks": "outside",
           "title": {
            "standoff": 15
           },
           "zeroline": false,
           "zerolinecolor": "rgb(36,36,36)"
          }
         }
        },
        "xaxis": {
         "range": [
          0,
          208
         ],
         "title": {
          "text": "TRs"
         }
        },
        "yaxis": {
         "range": [
          -4,
          4
         ],
         "title": {
          "standoff": 0,
          "text": "z-score"
         },
         "type": "linear"
        }
       }
      },
      "image/png": "[encoded data removed]",
      "text/html": [
       "<div>                            <div id=\"32eef42b-71a6-4292-91d8-e57d4e91f0f8\" class=\"plotly-graph-div\" style=\"height:350px; width:100%;\"></div>            <script type=\"text/javascript\">                require([\"plotly\"], function(Plotly) {                    window.PLOTLYENV=window.PLOTLYENV || {};                                    if (document.getElementById(\"32eef42b-71a6-4292-91d8-e57d4e91f0f8\")) {                    Plotly.newPlot(                        \"32eef42b-71a6-4292-91d8-e57d4e91f0f8\",                        [{\"line\":{\"color\":\"black\"},\"mode\":\"markers\",\"name\":\"data\",\"y\":[-0.42142894864082336,-0.3656173646450043,-0.39722153544425964,-0.33458155393600464,-0.942859947681427,-0.638827919960022,-0.9883320927619934,-0.9119776487350464,-0.37907809019088745,-0.5059282183647156,-0.4813900291919708,0.1724615842103958,0.013191105797886848,0.003459429368376732,-0.05696118623018265,0.04162720590829849,-0.02266080118715763,0.041275426745414734,0.06862623989582062,0.20130178332328796,-0.1926780641078949,-0.25102922320365906,-0.37711215019226074,-0.3067038059234619,0.0837598666548729,0.3696068525314331,0.4462495744228363,0.6861975789070129,1.0852805376052856,1.635733962059021,2.0600874423980713,2.4517245292663574,2.649670124053955,2.761563777923584,2.0380396842956543,1.1329782009124756,0.06581777334213257,-0.3129711151123047,-0.41119009256362915,-0.7382984757423401,-0.7208369374275208,-1.0450446605682373,-0.8463723659515381,-1.078895092010498,-0.6992015242576599,-1.043025255203247,-0.6644237637519836,-0.40837544202804565,-0.17613956332206726,-0.10728053748607635,-0.3597358167171478,-0.026008911430835724,-0.13702866435050964,-0.2964092493057251,0.17580987513065338,-0.1811293363571167,-0.2566168010234833,-0.6316930651664734,-0.6914744973182678,-0.714148998260498,-0.21662382781505585,-0.13744309544563293,0.11830729991197586,-0.3642917275428772,0.11197398602962494,-0.17793259024620056,-0.42541825771331787,-0.5327601432800293,-0.4177058935165405,-0.5775991082191467,-0.5433319807052612,-0.38082394003868103,-0.08524959534406662,-0.1507703959941864,-0.1440780609846115,-0.11030399799346924,-0.3400382995605469,-0.3520985543727875,-0.5970329642295837,-0.44248002767562866,-0.048673246055841446,0.724382221698761,1.413695216178894,1.9167251586914062,2.3692357540130615,2.775869369506836,2.509350061416626,2.0002973079681396,1.191504716873169,-0.16625702381134033,-1.2751251459121704,-1.2157443761825562,-0.7662431597709656,-0.8119562864303589,-0.9085522890090942,-0.8086655139923096,-0.8544195890426636,-0.960822582244873,-0.2853413224220276,-0.12026304751634598,0.3168025314807892,0.09712328016757965,0.07733430713415146,0.31146809458732605,0.19988036155700684,-0.0050486004911363125,-0.2036357969045639,-0.28453582525253296,-0.26574957370758057,-0.2808018624782562,-0.2867059111595154,-0.16139057278633118,-0.21632666885852814,-0.01968190260231495,0.20587387681007385,0.10377039015293121,0.08702315390110016,-0.22970011830329895,-0.29888105392456055,-0.13380056619644165,-0.32916003465652466,-0.2226148247718811,-0.34168463945388794,-0.2940266728401184,-0.6916056275367737,-0.45020434260368347,-0.6073735356330872,-0.5909591317176819,-0.5987218618392944,-0.6275532245635986,-0.3613935708999634,0.3425978720188141,1.1036372184753418,1.6329792737960815,2.0401275157928467,2.6155617237091064,2.8783950805664062,2.3851466178894043,1.8897722959518433,0.7027699947357178,-0.7531580328941345,-1.2048883438110352,-0.8329434394836426,-0.943711519241333,-1.0028200149536133,-0.8219914436340332,-0.8189976215362549,-0.5799301266670227,-0.046821229159832,-0.21735139191150665,-0.38923728466033936,-0.43566378951072693,-0.7130747437477112,-0.6442932486534119,-0.48242050409317017,-0.6442359685897827,0.007215907797217369,-0.5245702862739563,-0.2854366600513458,-0.3727281093597412,-0.05103675276041031,-0.4325844943523407,-0.5104816555976868,-0.3755740523338318,-0.15406572818756104,-0.1683049499988556,-0.17340229451656342,-0.16621710360050201,-0.19810765981674194,-0.7174847722053528,-0.5750577449798584,-0.5775575637817383,-0.13333521783351898,-0.10521280020475388,0.11337202042341232,0.9465436935424805,1.2820355892181396,2.1715762615203857,2.270338296890259,2.6601052284240723,2.6522881984710693,1.9148871898651123,0.3602147698402405,-0.6908703446388245,-0.9906459450721741,-0.9948301911354065,-0.5416020750999451,-0.869330883026123,-0.7512756586074829,-0.8284522891044617,-0.2484433650970459,-0.5067529082298279,-0.11304573714733124,0.030134186148643494,0.07485487312078476,-0.21276214718818665,-0.21362271904945374,-0.04487540200352669,-0.1185673400759697,-0.11016174405813217,0.14546194672584534,0.08593344688415527,0.18509650230407715,0.06358681619167328,0.08641324937343597,-0.3416455388069153,-0.6149343848228455,-0.27117985486984253],\"type\":\"scatter\"},{\"name\":\"pRF\",\"y\":[-0.26316967606544495,-0.26281604170799255,-0.26257213950157166,-0.2624143064022064,-0.26231735944747925,-0.262260377407074,-0.2622281014919281,-0.2622104287147522,-0.2622010409832001,-0.2621961832046509,-0.2621937096118927,-0.2621924579143524,-0.26219186186790466,-0.26219186186790466,-0.26219186186790466,-0.2621918320655823,-0.26219186186790466,-0.26219186186790466,-0.26219186186790466,-0.26219186186790466,-0.26219186186790466,-0.2621914744377136,-0.26217177510261536,-0.26158735156059265,-0.2525557577610016,-0.22649894654750824,-0.16826555132865906,0.032234832644462585,0.48833298683166504,1.193269968032837,1.9766895771026611,2.56571888923645,2.7159745693206787,2.330590009689331,1.609850287437439,0.9230466485023499,0.22891156375408173,-0.43159767985343933,-0.8748419284820557,-1.0310205221176147,-0.9793267250061035,-0.8364970684051514,-0.6806405186653137,-0.5447214245796204,-0.43683797121047974,-0.3563863933086395,-0.30056077241897583,-0.26562467217445374,-0.24703986942768097,-0.2399343103170395,-0.23982733488082886,-0.24319365620613098,-0.2476625144481659,-0.2519000768661499,-0.2553313672542572,-0.25784412026405334,-0.2595535218715668,-0.2606508731842041,-0.261322557926178,-0.26171746850013733,-0.26194170117378235,-0.26206499338150024,-0.2621305584907532,-0.2621639370918274,-0.262179970741272,-0.2621879279613495,-0.26219093799591064,-0.2621917128562927,-0.2621918320655823,-0.26219186186790466,-0.26219186186790466,-0.26219186186790466,-0.26219186186790466,-0.26219189167022705,-0.26219186186790466,-0.26219072937965393,-0.262140154838562,-0.26085177063941956,-0.24475684762001038,-0.1552189290523529,0.11841539293527603,0.6550582647323608,1.4082361459732056,2.1951470375061035,2.7479329109191895,2.869208812713623,2.591191053390503,1.955434799194336,1.0567593574523926,0.10905542969703674,-0.6398699283599854,-1.0455918312072754,-1.132999062538147,-1.0310912132263184,-0.8620977997779846,-0.6934504508972168,-0.5496438145637512,-0.4358983635902405,-0.35155487060546875,-0.2940264642238617,-0.2592177391052246,-0.24183902144432068,-0.23627980053424835,-0.2375705987215042,-0.24197569489479065,-0.24710945785045624,-0.25171715021133423,-0.25532373785972595,-0.257900595664978,-0.2596200406551361,-0.26070636510849,-0.26136231422424316,-0.2617434859275818,-0.26195767521858215,-0.26207438111305237,-0.2621358036994934,-0.26216721534729004,-0.262182354927063,-0.2621888816356659,-0.2621912360191345,-0.2621918022632599,-0.26219186186790466,-0.26219186186790466,-0.26219186186790466,-0.26219186186790466,-0.26219162344932556,-0.26217859983444214,-0.26176607608795166,-0.2548278272151947,-0.20838865637779236,-0.029558807611465454,0.4033648669719696,0.9996963739395142,1.499174952507019,1.9996190071105957,2.4510204792022705,2.607254981994629,2.2885377407073975,1.530993103981018,0.5673700571060181,-0.30241602659225464,-0.8560338020324707,-1.0499225854873657,-1.018386960029602,-0.8908976316452026,-0.7401317954063416,-0.5988826155662537,-0.47968488931655884,-0.3864753842353821,-0.3193109631538391,-0.27568069100379944,-0.2511877715587616,-0.24053943157196045,-0.23863470554351807,-0.24134162068367004,-0.24579840898513794,-0.2503252625465393,-0.2541337013244629,-0.25699907541275024,-0.25899139046669006,-0.26029470562934875,-0.26110610365867615,-0.2615906298160553,-0.2618688941001892,-0.262024462223053,-0.2621089518070221,-0.26215335726737976,-0.2621755003929138,-0.26218098402023315,-0.26201218366622925,-0.2614637613296509,-0.257942795753479,-0.2256096452474594,-0.08278751373291016,0.28279832005500793,0.9123597741127014,1.6965805292129517,2.3903145790100098,2.7825868129730225,2.828827142715454,2.458221673965454,1.693479299545288,0.7194404006004333,-0.1975511759519577,-0.8339917659759521,-1.112601399421692,-1.113843560218811,-0.9758191108703613,-0.8016162514686584,-0.6400625109672546,-0.5064071416854858,-0.4029313325881958,-0.32820695638656616,-0.2791363596916199,-0.2511148154735565,-0.23858265578746796,-0.23602086305618286,-0.23882882297039032,-0.24374498426914215,-0.24881762266159058,-0.2531123161315918,-0.2563505470752716,-0.25860148668289185,-0.2600710391998291,-0.2609829008579254,-0.26152512431144714,-0.26183605194091797,-0.2620086073875427],\"type\":\"scatter\"}],                        {\"template\":{\"data\":{\"barpolar\":[{\"marker\":{\"line\":{\"color\":\"white\",\"width\":0.5},\"pattern\":{\"fillmode\":\"overlay\",\"size\":10,\"solidity\":0.2}},\"type\":\"barpolar\"}],\"bar\":[{\"error_x\":{\"color\":\"rgb(36,36,36)\"},\"error_y\":{\"color\":\"rgb(36,36,36)\"},\"marker\":{\"line\":{\"color\":\"white\",\"width\":0.5},\"pattern\":{\"fillmode\":\"overlay\",\"size\":10,\"solidity\":0.2}},\"type\":\"bar\"}],\"carpet\":[{\"aaxis\":{\"endlinecolor\":\"rgb(36,36,36)\",\"gridcolor\":\"white\",\"linecolor\":\"white\",\"minorgridcolor\":\"white\",\"startlinecolor\":\"rgb(36,36,36)\"},\"baxis\":{\"endlinecolor\":\"rgb(36,36,36)\",\"gridcolor\":\"white\",\"linecolor\":\"white\",\"minorgridcolor\":\"white\",\"startlinecolor\":\"rgb(36,36,36)\"},\"type\":\"carpet\"}],\"choropleth\":[{\"colorbar\":{\"outlinewidth\":1,\"tickcolor\":\"rgb(36,36,36)\",\"ticks\":\"outside\"},\"type\":\"choropleth\"}],\"contourcarpet\":[{\"colorbar\":{\"outlinewidth\":1,\"tickcolor\":\"rgb(36,36,36)\",\"ticks\":\"outside\"},\"type\":\"contourcarpet\"}],\"contour\":[{\"colorbar\":{\"outlinewidth\":1,\"tickcolor\":\"rgb(36,36,36)\",\"ticks\":\"outside\"},\"colorscale\":[[0.0,\"#440154\"],[0.1111111111111111,\"#482878\"],[0.2222222222222222,\"#3e4989\"],[0.3333333333333333,\"#31688e\"],[0.4444444444444444,\"#26828e\"],[0.5555555555555556,\"#1f9e89\"],[0.6666666666666666,\"#35b779\"],[0.7777777777777778,\"#6ece58\"],[0.8888888888888888,\"#b5de2b\"],[1.0,\"#fde725\"]],\"type\":\"contour\"}],\"heatmapgl\":[{\"colorbar\":{\"outlinewidth\":1,\"tickcolor\":\"rgb(36,36,36)\",\"ticks\":\"outside\"},\"colorscale\":[[0.0,\"#440154\"],[0.1111111111111111,\"#482878\"],[0.2222222222222222,\"#3e4989\"],[0.3333333333333333,\"#31688e\"],[0.4444444444444444,\"#26828e\"],[0.5555555555555556,\"#1f9e89\"],[0.6666666666666666,\"#35b779\"],[0.7777777777777778,\"#6ece58\"],[0.8888888888888888,\"#b5de2b\"],[1.0,\"#fde725\"]],\"type\":\"heatmapgl\"}],\"heatmap\":[{\"colorbar\":{\"outlinewidth\":1,\"tickcolor\":\"rgb(36,36,36)\",\"ticks\":\"outside\"},\"colorscale\":[[0.0,\"#440154\"],[0.1111111111111111,\"#482878\"],[0.2222222222222222,\"#3e4989\"],[0.3333333333333333,\"#31688e\"],[0.4444444444444444,\"#26828e\"],[0.5555555555555556,\"#1f9e89\"],[0.6666666666666666,\"#35b779\"],[0.7777777777777778,\"#6ece58\"],[0.8888888888888888,\"#b5de2b\"],[1.0,\"#fde725\"]],\"type\":\"heatmap\"}],\"histogram2dcontour\":[{\"colorbar\":{\"outlinewidth\":1,\"tickcolor\":\"rgb(36,36,36)\",\"ticks\":\"outside\"},\"colorscale\":[[0.0,\"#440154\"],[0.1111111111111111,\"#482878\"],[0.2222222222222222,\"#3e4989\"],[0.3333333333333333,\"#31688e\"],[0.4444444444444444,\"#26828e\"],[0.5555555555555556,\"#1f9e89\"],[0.6666666666666666,\"#35b779\"],[0.7777777777777778,\"#6ece58\"],[0.8888888888888888,\"#b5de2b\"],[1.0,\"#fde725\"]],\"type\":\"histogram2dcontour\"}],\"histogram2d\":[{\"colorbar\":{\"outlinewidth\":1,\"tickcolor\":\"rgb(36,36,36)\",\"ticks\":\"outside\"},\"colorscale\":[[0.0,\"#440154\"],[0.1111111111111111,\"#482878\"],[0.2222222222222222,\"#3e4989\"],[0.3333333333333333,\"#31688e\"],[0.4444444444444444,\"#26828e\"],[0.5555555555555556,\"#1f9e89\"],[0.6666666666666666,\"#35b779\"],[0.7777777777777778,\"#6ece58\"],[0.8888888888888888,\"#b5de2b\"],[1.0,\"#fde725\"]],\"type\":\"histogram2d\"}],\"histogram\":[{\"marker\":{\"line\":{\"color\":\"white\",\"width\":0.6}},\"type\":\"histogram\"}],\"mesh3d\":[{\"colorbar\":{\"outlinewidth\":1,\"tickcolor\":\"rgb(36,36,36)\",\"ticks\":\"outside\"},\"type\":\"mesh3d\"}],\"parcoords\":[{\"line\":{\"colorbar\":{\"outlinewidth\":1,\"tickcolor\":\"rgb(36,36,36)\",\"ticks\":\"outside\"}},\"type\":\"parcoords\"}],\"pie\":[{\"automargin\":true,\"type\":\"pie\"}],\"scatter3d\":[{\"line\":{\"colorbar\":{\"outlinewidth\":1,\"tickcolor\":\"rgb(36,36,36)\",\"ticks\":\"outside\"}},\"marker\":{\"colorbar\":{\"outlinewidth\":1,\"tickcolor\":\"rgb(36,36,36)\",\"ticks\":\"outside\"}},\"type\":\"scatter3d\"}],\"scattercarpet\":[{\"marker\":{\"colorbar\":{\"outlinewidth\":1,\"tickcolor\":\"rgb(36,36,36)\",\"ticks\":\"outside\"}},\"type\":\"scattercarpet\"}],\"scattergeo\":[{\"marker\":{\"colorbar\":{\"outlinewidth\":1,\"tickcolor\":\"rgb(36,36,36)\",\"ticks\":\"outside\"}},\"type\":\"scattergeo\"}],\"scattergl\":[{\"marker\":{\"colorbar\":{\"outlinewidth\":1,\"tickcolor\":\"rgb(36,36,36)\",\"ticks\":\"outside\"}},\"type\":\"scattergl\"}],\"scattermapbox\":[{\"marker\":{\"colorbar\":{\"outlinewidth\":1,\"tickcolor\":\"rgb(36,36,36)\",\"ticks\":\"outside\"}},\"type\":\"scattermapbox\"}],\"scatterpolargl\":[{\"marker\":{\"colorbar\":{\"outlinewidth\":1,\"tickcolor\":\"rgb(36,36,36)\",\"ticks\":\"outside\"}},\"type\":\"scatterpolargl\"}],\"scatterpolar\":[{\"marker\":{\"colorbar\":{\"outlinewidth\":1,\"tickcolor\":\"rgb(36,36,36)\",\"ticks\":\"outside\"}},\"type\":\"scatterpolar\"}],\"scatter\":[{\"fillpattern\":{\"fillmode\":\"overlay\",\"size\":10,\"solidity\":0.2},\"type\":\"scatter\"}],\"scatterternary\":[{\"marker\":{\"colorbar\":{\"outlinewidth\":1,\"tickcolor\":\"rgb(36,36,36)\",\"ticks\":\"outside\"}},\"type\":\"scatterternary\"}],\"surface\":[{\"colorbar\":{\"outlinewidth\":1,\"tickcolor\":\"rgb(36,36,36)\",\"ticks\":\"outside\"},\"colorscale\":[[0.0,\"#440154\"],[0.1111111111111111,\"#482878\"],[0.2222222222222222,\"#3e4989\"],[0.3333333333333333,\"#31688e\"],[0.4444444444444444,\"#26828e\"],[0.5555555555555556,\"#1f9e89\"],[0.6666666666666666,\"#35b779\"],[0.7777777777777778,\"#6ece58\"],[0.8888888888888888,\"#b5de2b\"],[1.0,\"#fde725\"]],\"type\":\"surface\"}],\"table\":[{\"cells\":{\"fill\":{\"color\":\"rgb(237,237,237)\"},\"line\":{\"color\":\"white\"}},\"header\":{\"fill\":{\"color\":\"rgb(217,217,217)\"},\"line\":{\"color\":\"white\"}},\"type\":\"table\"}]},\"layout\":{\"annotationdefaults\":{\"arrowhead\":0,\"arrowwidth\":1},\"autotypenumbers\":\"strict\",\"coloraxis\":{\"colorbar\":{\"outlinewidth\":1,\"tickcolor\":\"rgb(36,36,36)\",\"ticks\":\"outside\"}},\"colorscale\":{\"diverging\":[[0.0,\"rgb(103,0,31)\"],[0.1,\"rgb(178,24,43)\"],[0.2,\"rgb(214,96,77)\"],[0.3,\"rgb(244,165,130)\"],[0.4,\"rgb(253,219,199)\"],[0.5,\"rgb(247,247,247)\"],[0.6,\"rgb(209,229,240)\"],[0.7,\"rgb(146,197,222)\"],[0.8,\"rgb(67,147,195)\"],[0.9,\"rgb(33,102,172)\"],[1.0,\"rgb(5,48,97)\"]],\"sequential\":[[0.0,\"#440154\"],[0.1111111111111111,\"#482878\"],[0.2222222222222222,\"#3e4989\"],[0.3333333333333333,\"#31688e\"],[0.4444444444444444,\"#26828e\"],[0.5555555555555556,\"#1f9e89\"],[0.6666666666666666,\"#35b779\"],[0.7777777777777778,\"#6ece58\"],[0.8888888888888888,\"#b5de2b\"],[1.0,\"#fde725\"]],\"sequentialminus\":[[0.0,\"#440154\"],[0.1111111111111111,\"#482878\"],[0.2222222222222222,\"#3e4989\"],[0.3333333333333333,\"#31688e\"],[0.4444444444444444,\"#26828e\"],[0.5555555555555556,\"#1f9e89\"],[0.6666666666666666,\"#35b779\"],[0.7777777777777778,\"#6ece58\"],[0.8888888888888888,\"#b5de2b\"],[1.0,\"#fde725\"]]},\"colorway\":[\"#1F77B4\",\"#FF7F0E\",\"#2CA02C\",\"#D62728\",\"#9467BD\",\"#8C564B\",\"#E377C2\",\"#7F7F7F\",\"#BCBD22\",\"#17BECF\"],\"font\":{\"color\":\"rgb(36,36,36)\"},\"geo\":{\"bgcolor\":\"white\",\"lakecolor\":\"white\",\"landcolor\":\"white\",\"showlakes\":true,\"showland\":true,\"subunitcolor\":\"white\"},\"hoverlabel\":{\"align\":\"left\"},\"hovermode\":\"closest\",\"mapbox\":{\"style\":\"light\"},\"paper_bgcolor\":\"white\",\"plot_bgcolor\":\"white\",\"polar\":{\"angularaxis\":{\"gridcolor\":\"rgb(232,232,232)\",\"linecolor\":\"rgb(36,36,36)\",\"showgrid\":false,\"showline\":true,\"ticks\":\"outside\"},\"bgcolor\":\"white\",\"radialaxis\":{\"gridcolor\":\"rgb(232,232,232)\",\"linecolor\":\"rgb(36,36,36)\",\"showgrid\":false,\"showline\":true,\"ticks\":\"outside\"}},\"scene\":{\"xaxis\":{\"backgroundcolor\":\"white\",\"gridcolor\":\"rgb(232,232,232)\",\"gridwidth\":2,\"linecolor\":\"rgb(36,36,36)\",\"showbackground\":true,\"showgrid\":false,\"showline\":true,\"ticks\":\"outside\",\"zeroline\":false,\"zerolinecolor\":\"rgb(36,36,36)\"},\"yaxis\":{\"backgroundcolor\":\"white\",\"gridcolor\":\"rgb(232,232,232)\",\"gridwidth\":2,\"linecolor\":\"rgb(36,36,36)\",\"showbackground\":true,\"showgrid\":false,\"showline\":true,\"ticks\":\"outside\",\"zeroline\":false,\"zerolinecolor\":\"rgb(36,36,36)\"},\"zaxis\":{\"backgroundcolor\":\"white\",\"gridcolor\":\"rgb(232,232,232)\",\"gridwidth\":2,\"linecolor\":\"rgb(36,36,36)\",\"showbackground\":true,\"showgrid\":false,\"showline\":true,\"ticks\":\"outside\",\"zeroline\":false,\"zerolinecolor\":\"rgb(36,36,36)\"}},\"shapedefaults\":{\"fillcolor\":\"black\",\"line\":{\"width\":0},\"opacity\":0.3},\"ternary\":{\"aaxis\":{\"gridcolor\":\"rgb(232,232,232)\",\"linecolor\":\"rgb(36,36,36)\",\"showgrid\":false,\"showline\":true,\"ticks\":\"outside\"},\"baxis\":{\"gridcolor\":\"rgb(232,232,232)\",\"linecolor\":\"rgb(36,36,36)\",\"showgrid\":false,\"showline\":true,\"ticks\":\"outside\"},\"bgcolor\":\"white\",\"caxis\":{\"gridcolor\":\"rgb(232,232,232)\",\"linecolor\":\"rgb(36,36,36)\",\"showgrid\":false,\"showline\":true,\"ticks\":\"outside\"}},\"title\":{\"x\":0.05},\"xaxis\":{\"automargin\":true,\"gridcolor\":\"rgb(232,232,232)\",\"linecolor\":\"rgb(36,36,36)\",\"showgrid\":false,\"showline\":true,\"ticks\":\"outside\",\"title\":{\"standoff\":15},\"zeroline\":false,\"zerolinecolor\":\"rgb(36,36,36)\"},\"yaxis\":{\"automargin\":true,\"gridcolor\":\"rgb(232,232,232)\",\"linecolor\":\"rgb(36,36,36)\",\"showgrid\":false,\"showline\":true,\"ticks\":\"outside\",\"title\":{\"standoff\":15},\"zeroline\":false,\"zerolinecolor\":\"rgb(36,36,36)\"}}},\"annotations\":[{\"showarrow\":false,\"text\":\"R\\u003csup\\u003e2\\u003c\\u002fsup\\u003e=0.90\",\"x\":198,\"y\":4}],\"yaxis\":{\"title\":{\"text\":\"z-score\",\"standoff\":0},\"range\":[-4,4]},\"xaxis\":{\"title\":{\"text\":\"TRs\"},\"range\":[0,208]},\"showlegend\":true,\"height\":350},                        {\"responsive\": true}                    ).then(function(){\n",
       "                            \n",
       "var gd = document.getElementById('32eef42b-71a6-4292-91d8-e57d4e91f0f8');\n",
       "var x = new MutationObserver(function (mutations, observer) {{\n",
       "        var display = window.getComputedStyle(gd).display;\n",
       "        if (!display || display === 'none') {{\n",
       "            console.log([gd, 'removed!']);\n",
       "            Plotly.purge(gd);\n",
       "            observer.disconnect();\n",
       "        }}\n",
       "}});\n",
       "\n",
       "// Listen for the removal of the full notebook cells\n",
       "var notebookContainer = gd.closest('#notebook-container');\n",
       "if (notebookContainer) {{\n",
       "    x.observe(notebookContainer, {childList: true});\n",
       "}}\n",
       "\n",
       "// Listen for the clearing of the current output cell\n",
       "var outputEl = gd.closest('.output');\n",
       "if (outputEl) {{\n",
       "    x.observe(outputEl, {childList: true});\n",
       "}}\n",
       "\n",
       "                        })                };                });            </script>        </div>"
      ]
     },
     "metadata": {},
     "output_type": "display_data"
    }
   ],
   "source": [
    "# plot best voxel for left hemisphere\n",
    "max_indices = np.nanargmax(prf_fit_data[r2_idx,:])\n",
    "# # num_vert = 25023\n",
    "num_vert = max_indices\n",
    "num_vert_r2 = num_vert # - 50\n",
    "fig1 = go.Figure()\n",
    "# plot data time series\n",
    "fig1.add_trace(go.Scatter(y=bold_data[:,num_vert],\n",
    "                         name='data', \n",
    "                         mode='markers', \n",
    "                          line=dict(color='black') \n",
    "                         ))\n",
    "\n",
    "# plot pRF prediction\n",
    "fig1.add_trace(go.Scatter(y=prf_pred_data[:,num_vert_r2],\n",
    "                         name='pRF'))\n",
    "\n",
    "\n",
    "fig1.add_annotation(text='R<sup>2</sup>={:1.2f}'.format(prf_fit_data[r2_idx,num_vert_r2]),  \n",
    "                    x=198,  \n",
    "                    y=4,\n",
    "                    showarrow=False\n",
    "                   )\n",
    "\n",
    "fig1.update_layout(template='simple_white', \n",
    "                   # title = '{} vertex time series for {} noise model'.format(num_vert,noise_model_2), \n",
    "                   xaxis_title = 'TRs', \n",
    "                   yaxis_title = 'z-score', \n",
    "                   showlegend= True,\n",
    "                   height=350, \n",
    "                   yaxis=dict(title_standoff=0))\n",
    "\n",
    "fig1.update_xaxes(range=[0,bold_data.shape[0]])\n",
    "# fig1.update_xaxes(range=[0,50])\n",
    "\n",
    "fig1.update_yaxes(range=[-4,4])\n",
    "fig1.write_image('/Users/uriel/Downloads/sdfr.pdf', width=1000, height=300)\n",
    "\n",
    "fig1.show()"
   ]
  },
  {
   "cell_type": "code",
   "execution_count": 19,
   "id": "39de7ba8-dd5f-491d-8209-25007af3b4e3",
   "metadata": {
    "tags": []
   },
   "outputs": [
    {
     "data": {
      "text/plain": [
       "1971"
      ]
     },
     "execution_count": 19,
     "metadata": {},
     "output_type": "execute_result"
    }
   ],
   "source": [
    "np.nanargmax(prf_fit_data[r2_idx,:])"
   ]
  },
  {
   "cell_type": "code",
   "execution_count": 20,
   "id": "a64d206b-c8d0-42d0-a85f-cdff30ca6865",
   "metadata": {
    "tags": []
   },
   "outputs": [
    {
     "data": {
      "text/plain": [
       "0.7233471"
      ]
     },
     "execution_count": 20,
     "metadata": {},
     "output_type": "execute_result"
    }
   ],
   "source": [
    "prf_fit_data[r2_idx,1971]"
   ]
  },
  {
   "cell_type": "markdown",
   "id": "7a34d8c1-63dd-4008-944e-580f3c6a8213",
   "metadata": {
    "tags": []
   },
   "source": [
    "# pRF stimulation"
   ]
  },
  {
   "cell_type": "code",
   "execution_count": null,
   "id": "85fb1b05-5022-46be-88ee-aaf82cfd1b9b",
   "metadata": {
    "tags": []
   },
   "outputs": [],
   "source": [
    "task = 'pRF'\n",
    "session = 'ses-01'\n",
    "event_dir = '{}/{}/{}/{}/func/'.format(main_dir,project_dir,subject,session)\n",
    "event_file = glob.glob(\"{}/{}_{}_task-{}_run-*_events.tsv\".format(event_dir,subject,session,task))\n",
    "events = pd.read_table(event_file[0])"
   ]
  },
  {
   "cell_type": "code",
   "execution_count": null,
   "id": "50543c6a-7bea-41b9-83b3-f5b69dfedad8",
   "metadata": {
    "tags": []
   },
   "outputs": [],
   "source": [
    "task_periode = np.where(events['bar_direction'] != 9, 1, 0)\n"
   ]
  },
  {
   "cell_type": "code",
   "execution_count": null,
   "id": "6a9e3bc9-d036-45c1-855e-9abe4bb949d8",
   "metadata": {
    "tags": []
   },
   "outputs": [],
   "source": [
    "fig2 = go.Figure()\n",
    "# plot data time series\n",
    "fig2.add_trace(go.Scatter(y=task_periode,\n",
    "                          line=dict(color='#ff7f0e',\n",
    "                                    width=4)))\n",
    "fig2.update_xaxes(visible=False)\n",
    "fig2.update_yaxes(visible=False)\n",
    "fig2.update_layout(template='simple_white')\n",
    "fig2.write_image('/Users/uriel/Downloads/prf_stim.pdf', width=600, height=300)\n",
    "fig2.show()"
   ]
  },
  {
   "cell_type": "markdown",
   "id": "69800d3f-2664-4ea9-851a-542f7400d858",
   "metadata": {
    "jp-MarkdownHeadingCollapsed": true,
    "tags": []
   },
   "source": [
    "# HRF"
   ]
  },
  {
   "cell_type": "code",
   "execution_count": null,
   "id": "70337e2e-cfd8-4f0c-a63f-0a5c8be47ecf",
   "metadata": {
    "tags": []
   },
   "outputs": [],
   "source": [
    "def hrf(t):\n",
    "    a1 = 6\n",
    "    a2 = 12\n",
    "    b1 = 0.9\n",
    "    b2 = 0.9\n",
    "    hrf_values = (gamma.pdf(t, a1, scale=b1) - 0.35 * gamma.pdf(t, a2, scale=b2))\n",
    "    hrf_values /= hrf_values.sum()\n",
    "\n",
    "    return hrf_values\n",
    "\n",
    "time = np.arange(0, 30, 0.1)\n",
    "hrf_result = hrf(time)"
   ]
  },
  {
   "cell_type": "code",
   "execution_count": null,
   "id": "4a7cbbf0-d4db-4285-b5dc-cef2eddb1748",
   "metadata": {
    "tags": []
   },
   "outputs": [],
   "source": [
    "fig3 = go.Figure()\n",
    "\n",
    "fig3.add_trace(go.Scatter(y=hrf_result, \n",
    "\n",
    "                         line=dict(color='#ff7f0e', width=4)))\n",
    "\n",
    "fig3.update_layout(template='simple_white',\n",
    "                  showlegend=False,\n",
    "                  xaxis=dict(showgrid=False, zeroline=False, showticklabels=False, ticks='', showline=False),\n",
    "                  yaxis=dict(showgrid=False, zeroline=False, showticklabels=False, ticks='', showline=False))\n",
    "\n",
    "\n",
    "\n",
    "\n",
    "\n",
    "fig3.write_image('/Users/uriel/Downloads/hrf.pdf', width=600, height=300)\n",
    "fig3.show()"
   ]
  },
  {
   "cell_type": "markdown",
   "id": "28b376d4-f559-4a3f-801b-73daa9ac0bd6",
   "metadata": {
    "jp-MarkdownHeadingCollapsed": true,
    "tags": []
   },
   "source": [
    "# Receptieve field"
   ]
  },
  {
   "cell_type": "code",
   "execution_count": null,
   "id": "0d6726bc-10e1-4fd6-9814-f29fb66882f5",
   "metadata": {
    "tags": []
   },
   "outputs": [],
   "source": [
    "def compressive_spatial_summation(x, size, position, exponent):\n",
    "    return np.exp(-((x - position) / size)**exponent)\n",
    "\n",
    "\n",
    "size = 2  \n",
    "position = 3  \n",
    "exponent = 2 \n",
    "\n",
    "x = np.linspace(-1, 7, 100)\n",
    "y = compressive_spatial_summation(x, size, position, exponent)"
   ]
  },
  {
   "cell_type": "code",
   "execution_count": null,
   "id": "b48444b7-ffca-4afe-afe3-7e084629f087",
   "metadata": {
    "tags": []
   },
   "outputs": [],
   "source": [
    "fig4 = go.Figure()\n",
    "\n",
    "fig4.add_trace(go.Scatter(x=x, \n",
    "                         y=y,\n",
    "\n",
    "                         line=dict(color='#ff7f0e', width=4)))\n",
    "\n",
    "fig4.update_layout(template='simple_white',\n",
    "                  xaxis=dict(showgrid=False, zeroline=False, showticklabels=False, ticks='', showline=False),\n",
    "                  yaxis=dict(showgrid=False, zeroline=False, showticklabels=False, ticks='', showline=False))\n",
    "\n",
    "\n",
    "\n",
    "\n",
    "\n",
    "fig4.write_image('/Users/uriel/Downloads/css.pdf', width=600, height=300)\n",
    "fig4.show()"
   ]
  },
  {
   "cell_type": "markdown",
   "id": "6d0a3fc8-8914-4a5f-ad18-e170a65f379c",
   "metadata": {
    "jp-MarkdownHeadingCollapsed": true,
    "tags": []
   },
   "source": [
    "# pRF position"
   ]
  },
  {
   "cell_type": "code",
   "execution_count": null,
   "id": "94e527a2-8316-435e-aa5b-82b8b8e82f5b",
   "metadata": {
    "tags": []
   },
   "outputs": [],
   "source": [
    "def gaus_2d(gauss_x, gauss_y, gauss_sd, screen_side, grain=200):\n",
    "    \"\"\"\n",
    "    Generate 2D gaussian mesh\n",
    "    \n",
    "    Parameters\n",
    "    ----------\n",
    "    gauss_x : mean x gaussian parameter in dva (e.g. 1 dva)\n",
    "    gauss_y : mean y gaussian parameter in dva (e.g. 1 dva)\n",
    "    gauss_sd : sd gaussian parameter in dva (e.g. 1 dva)\n",
    "    screen_side : mesh screen side (square) im dva (e.g. 20 dva from -10 to 10 dva)\n",
    "    grain : grain resolution of the mesh in pixels (default = 100 pixels)\n",
    "    \n",
    "    Returns\n",
    "    -------\n",
    "    x : linspace x of the mesh\n",
    "    y : linspace x of the mesh\n",
    "    z : mesh_z values (to plot)\n",
    "    \n",
    "    \"\"\"\n",
    "    x = np.linspace(-screen_side/2, screen_side/2, grain)\n",
    "    y = np.linspace(-screen_side/2, screen_side/2, grain)\n",
    "    mesh_x, mesh_y = np.meshgrid(x,y) \n",
    "    \n",
    "    gauss_z = 1./(2.*np.pi*gauss_sd*gauss_sd)*np.exp(-((mesh_x-gauss_x)**2./(2.*gauss_sd**2.)+(mesh_y-gauss_y)**2./(2.*gauss_sd**2.)))\n",
    "    return x, y, gauss_z"
   ]
  },
  {
   "cell_type": "code",
   "execution_count": null,
   "id": "a9302cfc-0d2d-4abb-a2fe-ed7c527397ac",
   "metadata": {
    "tags": []
   },
   "outputs": [],
   "source": [
    "screen_side = 8.9*2\n",
    "x,y,z = gaus_2d(gauss_x=prf_fit_data[x_idx,num_vert], gauss_y=prf_fit_data[y_idx,num_vert], \n",
    "                gauss_sd=prf_fit_data[size_idx,num_vert], screen_side=screen_side)\n",
    "\n",
    "\n",
    "fig=go.Figure()\n",
    "fig.add_trace(go.Heatmap(x=x, y=y, z=z,colorscale='viridis', showscale=False))"
   ]
  },
  {
   "cell_type": "markdown",
   "id": "330d3263-0891-491e-9eef-9530e85aa1f6",
   "metadata": {
    "jp-MarkdownHeadingCollapsed": true,
    "tags": []
   },
   "source": [
    "# Visual designe Sac/Pur Loc"
   ]
  },
  {
   "cell_type": "code",
   "execution_count": 3,
   "id": "0a5c5529-6bc4-4175-a191-33ca99a9c1a7",
   "metadata": {
    "tags": []
   },
   "outputs": [
    {
     "name": "stdout",
     "output_type": "stream",
     "text": [
      "L'image a été enregistrée sous le nom 'output_image.png' avec la taille finale spécifiée.\n"
     ]
    },
    {
     "data": {
      "image/png": "[encoded data removed]",
      "text/plain": [
       "<Figure size 900x900 with 1 Axes>"
      ]
     },
     "metadata": {},
     "output_type": "display_data"
    }
   ],
   "source": [
    "import matplotlib.pyplot as plt\n",
    "import numpy as np\n",
    "\n",
    "def create_image(eccentricities_degrees, num_directions=32, circle_size=0.02, figure_size=(4, 4), final_size=(8.2, 14.58)):\n",
    "    # Créer une figure et un axe avec une taille personnalisée\n",
    "    fig, ax = plt.subplots(figsize=figure_size)\n",
    "    \n",
    "    # Définir le fond noir\n",
    "    fig.patch.set_facecolor('black')\n",
    "    ax.set_facecolor('black')\n",
    "\n",
    "    # Définir les coordonnées du centre\n",
    "    center = np.array([0.5, 0.5])\n",
    "\n",
    "    # Conversion des excentricités de degrés en radians\n",
    "    eccentricities_radians = np.radians(eccentricities_degrees)\n",
    "\n",
    "    # Créer les cercles avec des ronds blancs pour chaque excentricité\n",
    "    for eccentricity in eccentricities_radians:\n",
    "        for direction in range(num_directions):\n",
    "            angle = (2 * np.pi / num_directions) * direction\n",
    "            x = center[0] + eccentricity * np.cos(angle)\n",
    "            y = center[1] + eccentricity * np.sin(angle)\n",
    "\n",
    "            # Dessiner le cercle blanc\n",
    "            circle = plt.Circle((x, y), circle_size, color='white')\n",
    "            ax.add_artist(circle)\n",
    "\n",
    "    # Paramètres d'affichage\n",
    "    ax.set_xlim(0, 1)\n",
    "    ax.set_ylim(0, 1)\n",
    "    ax.axis('off')\n",
    "\n",
    "    # Sauvegarder l'image avec la taille finale en centimètres\n",
    "    fig.savefig('/Users/uriel/Downloads/cercles.png', bbox_inches='tight', pad_inches=0, dpi=300)\n",
    "\n",
    "# Excentricités en degrés\n",
    "eccentricities_degrees = [10, 7.5, 5, 2.5]\n",
    "\n",
    "# Taille du cercle réduite et taille de la figure personnalisée\n",
    "create_image(eccentricities_degrees, circle_size=0.002, figure_size=(9, 9))\n",
    "\n",
    "# Afficher le message de confirmation\n",
    "print(\"L'image a été enregistrée sous le nom 'output_image.png' avec la taille finale spécifiée.\")\n"
   ]
  },
  {
   "cell_type": "markdown",
   "id": "8f7c4121-93a4-4213-b105-9d2e07616d94",
   "metadata": {
    "jp-MarkdownHeadingCollapsed": true,
    "tags": []
   },
   "source": [
    "# GLM"
   ]
  },
  {
   "cell_type": "code",
   "execution_count": 46,
   "id": "3e7586c0-f8b7-4926-a617-af125d68b43d",
   "metadata": {
    "tags": []
   },
   "outputs": [],
   "source": [
    "# task = 'PurLoc'\n",
    "# task = 'SacLoc'\n",
    "# task = 'SacVELoc'\n",
    "task = 'PurVELoc'"
   ]
  },
  {
   "cell_type": "code",
   "execution_count": 47,
   "id": "3ca36939-cd62-4f37-9291-6562eb1e9d2c",
   "metadata": {
    "tags": []
   },
   "outputs": [],
   "source": [
    "bold_glm_dir = '{}/{}/derivatives/pp_data/{}/{}/func/fmriprep_dct_loo_avg'.format(main_dir, project_dir,subject,format_)\n",
    "bold_glm_fn = '{}/{}_task-{}_hemi-L_fmriprep_dct_avg_loo-1_bold.func.gii'.format(bold_dir, subject,task)\n",
    "bold_glm_img,bold_glm_data = load_surface(fn = bold_glm_fn)"
   ]
  },
  {
   "cell_type": "code",
   "execution_count": 48,
   "id": "27b92199-7c4d-4500-bbaf-117d72dafe6d",
   "metadata": {
    "tags": []
   },
   "outputs": [],
   "source": [
    "glm_dir ='{}/{}/derivatives/pp_data/{}/{}/glm/glm_fit/'.format(main_dir, project_dir,subject,format_)\n",
    "glm_pred_fn = '{}/{}_task-{}_hemi-L_fmriprep_dct_avg_loo-1_glm-pred.func.gii'.format(glm_dir, subject,task)\n",
    "glm_pred_img, glm_pred_data = load_surface(fn = glm_pred_fn)"
   ]
  },
  {
   "cell_type": "code",
   "execution_count": 49,
   "id": "3cd4c822-6992-4099-9a46-cd0c4edc9fc3",
   "metadata": {
    "tags": []
   },
   "outputs": [],
   "source": [
    "glm_stats_dir ='{}/{}/derivatives/pp_data/{}/{}/glm/glm_derivatives/'.format(main_dir, project_dir,subject,format_)\n",
    "glm_fit_fn = '{}/{}_task-{}_hemi-L_fmriprep_dct_avg_loo-1_glm-stats.func.gii'.format(glm_stats_dir, subject,task)\n",
    "glm_fit_img, glm_fit_data = load_surface(fn = glm_fit_fn)\n",
    "slope_idx, intercept_idx, rvalue_idx, pvalue_idx, stderr_idx  = 0,1,2,3,4"
   ]
  },
  {
   "cell_type": "code",
   "execution_count": 50,
   "id": "61daacc5-a229-4d5c-976d-042904337772",
   "metadata": {
    "tags": []
   },
   "outputs": [],
   "source": [
    "session = 'ses-02'\n",
    "event_dir = '{}/{}/{}/{}/func/'.format(main_dir,project_dir,subject,session)\n",
    "event_file = glob.glob(\"{}/{}_{}_task-{}_run-*_events.tsv\".format(event_dir,subject,session,task))\n",
    "events = pd.read_table(event_file[0])"
   ]
  },
  {
   "cell_type": "code",
   "execution_count": 51,
   "id": "a2b19c9d-d9b9-401c-8abb-7d5ad0f1b4ec",
   "metadata": {
    "tags": []
   },
   "outputs": [],
   "source": [
    "if task == 'PurLoc': \n",
    "    idx = 2\n",
    "    task_name = 'Pursuit'\n",
    "    color = '#E377C2'\n",
    "    task_periode = np.where(events['trial_type'] == idx, 1, np.nan)\n",
    "elif task == 'PurVELoc': \n",
    "    idx = 2\n",
    "    task_name = 'Pursuit'\n",
    "    color = '#E377C2'\n",
    "    task_periode = np.where(events['eyemov_vis_end'] == idx, 1, np.nan)\n",
    "elif task == 'SacLoc': \n",
    "    idx = 1\n",
    "    task_name = 'Saccad'\n",
    "    color = '#8C564B'\n",
    "    task_periode = np.where(events['trial_type'] == idx, 1, np.nan)\n",
    "elif task == 'SacVELoc': \n",
    "    idx = 2\n",
    "    task_name = 'Saccade'\n",
    "    color = '#8C564B'\n",
    "    task_periode = np.where(events['eyemov_vis_end'] == idx, 1, np.nan)"
   ]
  },
  {
   "cell_type": "code",
   "execution_count": 52,
   "id": "0b32c85c-38e6-4567-8f2d-b71359b7b53a",
   "metadata": {
    "tags": []
   },
   "outputs": [
    {
     "data": {
      "application/vnd.plotly.v1+json": {
       "config": {
        "plotlyServerURL": "https://plot.ly"
       },
       "data": [
        {
         "line": {
          "color": "black"
         },
         "mode": "markers",
         "name": "data",
         "type": "scatter",
         "y": [
          -1.1487547159194946,
          -1.4274852275848389,
          -1.7658406496047974,
          -0.35578545928001404,
          0.605377733707428,
          -0.06691619008779526,
          -0.9930787086486816,
          -0.6763895750045776,
          -0.9111416935920715,
          -1.2043609619140625,
          -1.274961233139038,
          -0.9380245804786682,
          -0.38006508350372314,
          -0.2904486656188965,
          -0.8463435769081116,
          -0.36502084136009216,
          -1.379836082458496,
          -1.1152799129486084,
          -0.0958804190158844,
          -0.6228379011154175,
          0.5141015648841858,
          0.8091444969177246,
          0.6136025190353394,
          1.3872644901275635,
          1.4558002948760986,
          1.4614083766937256,
          1.9055086374282837,
          2.4436757564544678,
          1.8795827627182007,
          1.4353286027908325,
          0.7026903033256531,
          1.176303505897522,
          0.8667851686477661,
          0.6456184387207031,
          1.2411584854125977,
          1.9579360485076904,
          2.057771682739258,
          1.5469024181365967,
          1.140278935432434,
          0.8562648892402649,
          0.9750597476959229,
          -0.06457389146089554,
          0.47544023394584656,
          -0.2553543150424957,
          0.6479674577713013,
          0.12232834100723267,
          0.013043270446360111,
          0.2772882878780365,
          1.1351860761642456,
          0.24829058349132538,
          -0.2658478021621704,
          -1.0777729749679565,
          -1.5729990005493164,
          -1.2946699857711792,
          -1.2278944253921509,
          -1.4162187576293945,
          -1.4982393980026245,
          -1.8715553283691406,
          -1.8801348209381104,
          -1.6893577575683594,
          -1.4257586002349854,
          -1.240449070930481,
          -1.8863152265548706,
          -1.4686928987503052,
          -1.5569140911102295,
          -1.6627358198165894,
          -1.1815871000289917,
          -0.6684090495109558,
          -0.25094741582870483,
          0.12519264221191406,
          0.5160624384880066,
          0.32987627387046814,
          0.35167306661605835,
          0.36806246638298035,
          0.08889366686344147,
          0.8210099339485168,
          0.6492121815681458,
          0.2363448590040207,
          0.5728866457939148,
          0.608349084854126,
          0.8434759378433228,
          0.30480027198791504,
          0.12293733656406403,
          0.04942924156785011,
          0.7238780856132507,
          0.9905121922492981,
          0.973955512046814,
          0.8702852725982666,
          0.3177163898944855,
          0.9845359921455383,
          0.7546960711479187,
          1.4690510034561157,
          1.350523829460144,
          1.9389901161193848,
          0.5755836367607117,
          1.2982838153839111,
          0.7165232300758362,
          0.604648232460022,
          -0.3074571192264557,
          -1.0003163814544678,
          -1.0744736194610596,
          -1.1213765144348145,
          -0.4111842215061188,
          -0.6301023960113525,
          -0.6694396734237671,
          -1.329821228981018,
          -0.749994695186615,
          -0.9503250122070312,
          -0.9584059715270996,
          -1.4132941961288452,
          -0.06468096375465393,
          -0.9776362776756287,
          -0.6505774259567261,
          -0.7249521613121033,
          -1.0379036664962769,
          -0.7870867252349854,
          -0.3025951683521271,
          0.1887693852186203,
          0.9608988165855408,
          0.9089064598083496,
          0.750680685043335,
          0.9885580539703369,
          0.8023518323898315,
          1.1760358810424805,
          0.6307147145271301,
          0.5303504467010498,
          0.7755358219146729,
          0.16130422055721283,
          -0.9070426225662231,
          0.541847825050354,
          0.7687097191810608,
          0.47120401263237,
          0.5353228449821472,
          0.5704439878463745,
          0.4862215220928192,
          0.4628118872642517,
          0.14703626930713654,
          -0.15918610990047455,
          -0.016335876658558846,
          0.2780645787715912,
          0.07882177084684372,
          0.3995496928691864,
          0.26728999614715576,
          0.4478144645690918,
          1.124672532081604,
          0.010326201096177101,
          -0.3455864191055298,
          -0.7487633228302002,
          -1.052432656288147,
          -0.9734067320823669,
          -1.2792778015136719,
          -0.6952551603317261,
          -0.7175170183181763,
          -2.2559938430786133,
          -1.3595852851867676,
          -1.485457181930542,
          -1.150779128074646,
          -1.3118056058883667,
          -1.3078538179397583,
          -1.7126871347427368,
          -0.7483885884284973,
          -0.9703081846237183,
          -0.9000692963600159,
          0.7184974551200867,
          0.6781630516052246,
          0.7098443508148193,
          1.3276429176330566,
          0.968200147151947,
          0.640418529510498,
          1.3085163831710815,
          0.7542543411254883,
          0.45844852924346924,
          0.6285999417304993,
          0.042516108602285385,
          0.3614371120929718,
          0.41377079486846924,
          1.2676130533218384,
          0.7349872589111328,
          -0.5166747570037842,
          0.8479397296905518,
          0.9144008159637451,
          1.006613850593567,
          1.155918836593628,
          0.6781295537948608,
          0.6585947871208191,
          0.7284556031227112,
          1.344159483909607,
          1.9925419092178345,
          1.5073643922805786,
          0.5429587364196777,
          0.8999990224838257,
          0.7371153831481934,
          0.6594246625900269,
          0.1410801261663437,
          -0.7223154306411743,
          -0.9356722831726074,
          -1.714289903640747,
          -0.7357903122901917,
          -0.9791821837425232,
          -1.2932881116867065,
          -1.906164526939392,
          -1.4135082960128784,
          -1.1243747472763062,
          -0.43759870529174805,
          -0.30367597937583923,
          -0.039397500455379486,
          -0.5664687752723694,
          -0.18731380999088287
         ]
        },
        {
         "line": {
          "color": "#87CEEB",
          "width": 4
         },
         "name": "GLM",
         "type": "scatter",
         "y": [
          -0.8035980463027954,
          -0.8035980463027954,
          -0.8035980463027954,
          -0.8035980463027954,
          -0.8035980463027954,
          -0.8035980463027954,
          -0.8035980463027954,
          -0.8035980463027954,
          -0.8035980463027954,
          -0.8035980463027954,
          -0.8035980463027954,
          -0.8035980463027954,
          -0.8035980463027954,
          -0.8035980463027954,
          -0.8035980463027954,
          -0.8035980463027954,
          -0.8035980463027954,
          -0.8035980463027954,
          -0.8035980463027954,
          -0.8035980463027954,
          -0.7971333265304565,
          -0.6704779267311096,
          -0.2491975873708725,
          0.4018377959728241,
          0.9585022330284119,
          1.092195749282837,
          0.8228361010551453,
          0.49360421299934387,
          0.4715595543384552,
          0.7725170254707336,
          1.0787078142166138,
          1.0473920106887817,
          0.6845694780349731,
          0.3232497274875641,
          0.30850884318351746,
          0.630422055721283,
          0.9523460268974304,
          0.9333303570747375,
          0.5885124802589417,
          0.2539835274219513,
          0.26708337664604187,
          0.6085830926895142,
          0.9371774792671204,
          0.917701005935669,
          0.5746894478797913,
          0.25281044840812683,
          0.28189000487327576,
          0.6298306584358215,
          0.9476504921913147,
          0.9109622240066528,
          0.5466068387031555,
          0.0676257312297821,
          -0.3577204644680023,
          -0.6663531064987183,
          -0.8626863956451416,
          -0.9733554124832153,
          -1.0240691900253296,
          -1.0342189073562622,
          -1.0182512998580933,
          -0.9876101613044739,
          -0.9512606859207153,
          -0.9156283140182495,
          -0.8844658136367798,
          -0.8593692779541016,
          -0.8403984308242798,
          -0.8268809914588928,
          -0.8177756667137146,
          -0.8120033144950867,
          -0.7910037040710449,
          -0.601443350315094,
          -0.10709663480520248,
          0.5596279501914978,
          1.034749984741211,
          1.0560253858566284,
          0.7331360578536987,
          0.4600785970687866,
          0.5340902209281921,
          0.8748633861541748,
          1.1131511926651,
          0.9785016775131226,
          0.5732924938201904,
          0.27985864877700806,
          0.3682877719402313,
          0.7318127155303955,
          0.98578941822052,
          0.8656743168830872,
          0.48199015855789185,
          0.21752698719501495,
          0.3329862654209137,
          0.713196873664856,
          0.9712588787078857,
          0.8503556251525879,
          0.47083762288093567,
          0.22112201154232025,
          0.35114678740501404,
          0.7333753108978271,
          0.9773134589195251,
          0.8400065302848816,
          0.4244452118873596,
          -0.0523906871676445,
          -0.44976627826690674,
          -0.7272536754608154,
          -0.8985428214073181,
          -0.991424024105072,
          -1.029952883720398,
          -1.0320907831192017,
          -1.0112829208374023,
          -0.9784083366394043,
          -0.9417127370834351,
          -0.9070055484771729,
          -0.8773281574249268,
          -0.8538841605186462,
          -0.8363906741142273,
          -0.8241389393806458,
          -0.8159817457199097,
          -0.8106555938720703,
          -0.76479572057724,
          -0.4931916892528534,
          0.07451730966567993,
          0.7294707894325256,
          1.0883930921554565,
          0.9871481657028198,
          0.6325319409370422,
          0.44251880049705505,
          0.6147088408470154,
          0.9698964357376099,
          1.115255355834961,
          0.8793299198150635,
          0.4589206874370575,
          0.2550252377986908,
          0.4419909715652466,
          0.8211191892623901,
          0.989866316318512,
          0.7779521942138672,
          0.3875526487827301,
          0.21887321770191193,
          0.4330359399318695,
          0.8202497959136963,
          0.979922354221344,
          0.7581512928009033,
          0.3709700405597687,
          0.21827732026576996,
          0.44636237621307373,
          0.8324471712112427,
          0.9774125218391418,
          0.741567850112915,
          0.2884877026081085,
          -0.17532704770565033,
          -0.5397851467132568,
          -0.784936249256134,
          -0.9313772916793823,
          -1.006888508796692,
          -1.033613681793213,
          -1.0281221866607666,
          -1.0029069185256958,
          -0.9682373404502869,
          -0.9315958619117737,
          -0.8981080651283264,
          -0.8701210618019104,
          -0.8484324216842651,
          -0.8324763178825378,
          -0.8214944005012512,
          -0.814285397529602,
          -0.807929515838623,
          -0.7236751317977905,
          -0.3702199161052704,
          0.2510347366333008,
          0.8649542927742004,
          1.1038113832473755,
          0.9034806489944458,
          0.5521566271781921,
          0.45373472571372986,
          0.7043527960777283,
          1.0418899059295654,
          1.0883954763412476,
          0.772745668888092,
          0.37514153122901917,
          0.27880293130874634,
          0.551314651966095,
          0.9081223011016846,
          0.9683791995048523,
          0.6703524589538574,
          0.2990613579750061,
          0.23192822933197021,
          0.5267260074615479,
          0.8929049372673035,
          0.9534595012664795,
          0.6558982729911804,
          0.29503753781318665,
          0.24423019587993622,
          0.5482615828514099,
          0.9067546129226685,
          0.9500020146369934,
          0.6357783675193787,
          0.1629355549812317,
          -0.2812977731227875,
          -0.6142950654029846,
          -0.8311973214149475,
          -0.9567376375198364,
          -1.0177104473114014,
          -1.034681797027588,
          -1.0229613780975342,
          -0.9944419860839844,
          -0.9586471915245056,
          -0.9224706292152405,
          -0.890241801738739,
          -0.8638781309127808,
          -0.8437390327453613
         ]
        },
        {
         "line": {
          "color": "#E377C2",
          "width": 10
         },
         "mode": "lines",
         "name": "Pursuit periode",
         "showlegend": true,
         "type": "scatter",
         "y": [
          null,
          null,
          null,
          null,
          null,
          null,
          null,
          null,
          null,
          null,
          null,
          null,
          null,
          null,
          null,
          null,
          null,
          null,
          null,
          -4,
          -4,
          -4,
          null,
          null,
          null,
          -4,
          -4,
          -4,
          null,
          null,
          null,
          -4,
          -4,
          -4,
          null,
          null,
          null,
          -4,
          -4,
          -4,
          null,
          null,
          null,
          -4,
          -4,
          -4,
          null,
          null,
          null,
          null,
          null,
          null,
          null,
          null,
          null,
          null,
          null,
          null,
          null,
          null,
          null,
          null,
          null,
          null,
          null,
          null,
          null,
          -4,
          -4,
          -4,
          null,
          null,
          null,
          -4,
          -4,
          -4,
          null,
          null,
          null,
          -4,
          -4,
          -4,
          null,
          null,
          null,
          -4,
          -4,
          -4,
          null,
          null,
          null,
          -4,
          -4,
          -4,
          null,
          null,
          null,
          null,
          null,
          null,
          null,
          null,
          null,
          null,
          null,
          null,
          null,
          null,
          null,
          null,
          null,
          null,
          null,
          null,
          null,
          -4,
          -4,
          -4,
          null,
          null,
          null,
          -4,
          -4,
          -4,
          null,
          null,
          null,
          -4,
          -4,
          -4,
          null,
          null,
          null,
          -4,
          -4,
          -4,
          null,
          null,
          null,
          -4,
          -4,
          -4,
          null,
          null,
          null,
          null,
          null,
          null,
          null,
          null,
          null,
          null,
          null,
          null,
          null,
          null,
          null,
          null,
          null,
          null,
          null,
          null,
          null,
          -4,
          -4,
          -4,
          null,
          null,
          null,
          -4,
          -4,
          -4,
          null,
          null,
          null,
          -4,
          -4,
          -4,
          null,
          null,
          null,
          -4,
          -4,
          -4,
          null,
          null,
          null,
          -4,
          -4,
          -4,
          null,
          null,
          null,
          null,
          null,
          null,
          null,
          null,
          null,
          null,
          null,
          null,
          null,
          null,
          null,
          null,
          null,
          null
         ]
        }
       ],
       "layout": {
        "annotations": [
         {
          "showarrow": false,
          "text": "R<sup>2</sup>=0.77",
          "x": 198,
          "y": 4
         }
        ],
        "autosize": true,
        "showlegend": true,
        "template": {
         "data": {
          "bar": [
           {
            "error_x": {
             "color": "rgb(36,36,36)"
            },
            "error_y": {
             "color": "rgb(36,36,36)"
            },
            "marker": {
             "line": {
              "color": "white",
              "width": 0.5
             },
             "pattern": {
              "fillmode": "overlay",
              "size": 10,
              "solidity": 0.2
             }
            },
            "type": "bar"
           }
          ],
          "barpolar": [
           {
            "marker": {
             "line": {
              "color": "white",
              "width": 0.5
             },
             "pattern": {
              "fillmode": "overlay",
              "size": 10,
              "solidity": 0.2
             }
            },
            "type": "barpolar"
           }
          ],
          "carpet": [
           {
            "aaxis": {
             "endlinecolor": "rgb(36,36,36)",
             "gridcolor": "white",
             "linecolor": "white",
             "minorgridcolor": "white",
             "startlinecolor": "rgb(36,36,36)"
            },
            "baxis": {
             "endlinecolor": "rgb(36,36,36)",
             "gridcolor": "white",
             "linecolor": "white",
             "minorgridcolor": "white",
             "startlinecolor": "rgb(36,36,36)"
            },
            "type": "carpet"
           }
          ],
          "choropleth": [
           {
            "colorbar": {
             "outlinewidth": 1,
             "tickcolor": "rgb(36,36,36)",
             "ticks": "outside"
            },
            "type": "choropleth"
           }
          ],
          "contour": [
           {
            "colorbar": {
             "outlinewidth": 1,
             "tickcolor": "rgb(36,36,36)",
             "ticks": "outside"
            },
            "colorscale": [
             [
              0,
              "#440154"
             ],
             [
              0.1111111111111111,
              "#482878"
             ],
             [
              0.2222222222222222,
              "#3e4989"
             ],
             [
              0.3333333333333333,
              "#31688e"
             ],
             [
              0.4444444444444444,
              "#26828e"
             ],
             [
              0.5555555555555556,
              "#1f9e89"
             ],
             [
              0.6666666666666666,
              "#35b779"
             ],
             [
              0.7777777777777778,
              "#6ece58"
             ],
             [
              0.8888888888888888,
              "#b5de2b"
             ],
             [
              1,
              "#fde725"
             ]
            ],
            "type": "contour"
           }
          ],
          "contourcarpet": [
           {
            "colorbar": {
             "outlinewidth": 1,
             "tickcolor": "rgb(36,36,36)",
             "ticks": "outside"
            },
            "type": "contourcarpet"
           }
          ],
          "heatmap": [
           {
            "colorbar": {
             "outlinewidth": 1,
             "tickcolor": "rgb(36,36,36)",
             "ticks": "outside"
            },
            "colorscale": [
             [
              0,
              "#440154"
             ],
             [
              0.1111111111111111,
              "#482878"
             ],
             [
              0.2222222222222222,
              "#3e4989"
             ],
             [
              0.3333333333333333,
              "#31688e"
             ],
             [
              0.4444444444444444,
              "#26828e"
             ],
             [
              0.5555555555555556,
              "#1f9e89"
             ],
             [
              0.6666666666666666,
              "#35b779"
             ],
             [
              0.7777777777777778,
              "#6ece58"
             ],
             [
              0.8888888888888888,
              "#b5de2b"
             ],
             [
              1,
              "#fde725"
             ]
            ],
            "type": "heatmap"
           }
          ],
          "heatmapgl": [
           {
            "colorbar": {
             "outlinewidth": 1,
             "tickcolor": "rgb(36,36,36)",
             "ticks": "outside"
            },
            "colorscale": [
             [
              0,
              "#440154"
             ],
             [
              0.1111111111111111,
              "#482878"
             ],
             [
              0.2222222222222222,
              "#3e4989"
             ],
             [
              0.3333333333333333,
              "#31688e"
             ],
             [
              0.4444444444444444,
              "#26828e"
             ],
             [
              0.5555555555555556,
              "#1f9e89"
             ],
             [
              0.6666666666666666,
              "#35b779"
             ],
             [
              0.7777777777777778,
              "#6ece58"
             ],
             [
              0.8888888888888888,
              "#b5de2b"
             ],
             [
              1,
              "#fde725"
             ]
            ],
            "type": "heatmapgl"
           }
          ],
          "histogram": [
           {
            "marker": {
             "line": {
              "color": "white",
              "width": 0.6
             }
            },
            "type": "histogram"
           }
          ],
          "histogram2d": [
           {
            "colorbar": {
             "outlinewidth": 1,
             "tickcolor": "rgb(36,36,36)",
             "ticks": "outside"
            },
            "colorscale": [
             [
              0,
              "#440154"
             ],
             [
              0.1111111111111111,
              "#482878"
             ],
             [
              0.2222222222222222,
              "#3e4989"
             ],
             [
              0.3333333333333333,
              "#31688e"
             ],
             [
              0.4444444444444444,
              "#26828e"
             ],
             [
              0.5555555555555556,
              "#1f9e89"
             ],
             [
              0.6666666666666666,
              "#35b779"
             ],
             [
              0.7777777777777778,
              "#6ece58"
             ],
             [
              0.8888888888888888,
              "#b5de2b"
             ],
             [
              1,
              "#fde725"
             ]
            ],
            "type": "histogram2d"
           }
          ],
          "histogram2dcontour": [
           {
            "colorbar": {
             "outlinewidth": 1,
             "tickcolor": "rgb(36,36,36)",
             "ticks": "outside"
            },
            "colorscale": [
             [
              0,
              "#440154"
             ],
             [
              0.1111111111111111,
              "#482878"
             ],
             [
              0.2222222222222222,
              "#3e4989"
             ],
             [
              0.3333333333333333,
              "#31688e"
             ],
             [
              0.4444444444444444,
              "#26828e"
             ],
             [
              0.5555555555555556,
              "#1f9e89"
             ],
             [
              0.6666666666666666,
              "#35b779"
             ],
             [
              0.7777777777777778,
              "#6ece58"
             ],
             [
              0.8888888888888888,
              "#b5de2b"
             ],
             [
              1,
              "#fde725"
             ]
            ],
            "type": "histogram2dcontour"
           }
          ],
          "mesh3d": [
           {
            "colorbar": {
             "outlinewidth": 1,
             "tickcolor": "rgb(36,36,36)",
             "ticks": "outside"
            },
            "type": "mesh3d"
           }
          ],
          "parcoords": [
           {
            "line": {
             "colorbar": {
              "outlinewidth": 1,
              "tickcolor": "rgb(36,36,36)",
              "ticks": "outside"
             }
            },
            "type": "parcoords"
           }
          ],
          "pie": [
           {
            "automargin": true,
            "type": "pie"
           }
          ],
          "scatter": [
           {
            "fillpattern": {
             "fillmode": "overlay",
             "size": 10,
             "solidity": 0.2
            },
            "type": "scatter"
           }
          ],
          "scatter3d": [
           {
            "line": {
             "colorbar": {
              "outlinewidth": 1,
              "tickcolor": "rgb(36,36,36)",
              "ticks": "outside"
             }
            },
            "marker": {
             "colorbar": {
              "outlinewidth": 1,
              "tickcolor": "rgb(36,36,36)",
              "ticks": "outside"
             }
            },
            "type": "scatter3d"
           }
          ],
          "scattercarpet": [
           {
            "marker": {
             "colorbar": {
              "outlinewidth": 1,
              "tickcolor": "rgb(36,36,36)",
              "ticks": "outside"
             }
            },
            "type": "scattercarpet"
           }
          ],
          "scattergeo": [
           {
            "marker": {
             "colorbar": {
              "outlinewidth": 1,
              "tickcolor": "rgb(36,36,36)",
              "ticks": "outside"
             }
            },
            "type": "scattergeo"
           }
          ],
          "scattergl": [
           {
            "marker": {
             "colorbar": {
              "outlinewidth": 1,
              "tickcolor": "rgb(36,36,36)",
              "ticks": "outside"
             }
            },
            "type": "scattergl"
           }
          ],
          "scattermapbox": [
           {
            "marker": {
             "colorbar": {
              "outlinewidth": 1,
              "tickcolor": "rgb(36,36,36)",
              "ticks": "outside"
             }
            },
            "type": "scattermapbox"
           }
          ],
          "scatterpolar": [
           {
            "marker": {
             "colorbar": {
              "outlinewidth": 1,
              "tickcolor": "rgb(36,36,36)",
              "ticks": "outside"
             }
            },
            "type": "scatterpolar"
           }
          ],
          "scatterpolargl": [
           {
            "marker": {
             "colorbar": {
              "outlinewidth": 1,
              "tickcolor": "rgb(36,36,36)",
              "ticks": "outside"
             }
            },
            "type": "scatterpolargl"
           }
          ],
          "scatterternary": [
           {
            "marker": {
             "colorbar": {
              "outlinewidth": 1,
              "tickcolor": "rgb(36,36,36)",
              "ticks": "outside"
             }
            },
            "type": "scatterternary"
           }
          ],
          "surface": [
           {
            "colorbar": {
             "outlinewidth": 1,
             "tickcolor": "rgb(36,36,36)",
             "ticks": "outside"
            },
            "colorscale": [
             [
              0,
              "#440154"
             ],
             [
              0.1111111111111111,
              "#482878"
             ],
             [
              0.2222222222222222,
              "#3e4989"
             ],
             [
              0.3333333333333333,
              "#31688e"
             ],
             [
              0.4444444444444444,
              "#26828e"
             ],
             [
              0.5555555555555556,
              "#1f9e89"
             ],
             [
              0.6666666666666666,
              "#35b779"
             ],
             [
              0.7777777777777778,
              "#6ece58"
             ],
             [
              0.8888888888888888,
              "#b5de2b"
             ],
             [
              1,
              "#fde725"
             ]
            ],
            "type": "surface"
           }
          ],
          "table": [
           {
            "cells": {
             "fill": {
              "color": "rgb(237,237,237)"
             },
             "line": {
              "color": "white"
             }
            },
            "header": {
             "fill": {
              "color": "rgb(217,217,217)"
             },
             "line": {
              "color": "white"
             }
            },
            "type": "table"
           }
          ]
         },
         "layout": {
          "annotationdefaults": {
           "arrowhead": 0,
           "arrowwidth": 1
          },
          "autotypenumbers": "strict",
          "coloraxis": {
           "colorbar": {
            "outlinewidth": 1,
            "tickcolor": "rgb(36,36,36)",
            "ticks": "outside"
           }
          },
          "colorscale": {
           "diverging": [
            [
             0,
             "rgb(103,0,31)"
            ],
            [
             0.1,
             "rgb(178,24,43)"
            ],
            [
             0.2,
             "rgb(214,96,77)"
            ],
            [
             0.3,
             "rgb(244,165,130)"
            ],
            [
             0.4,
             "rgb(253,219,199)"
            ],
            [
             0.5,
             "rgb(247,247,247)"
            ],
            [
             0.6,
             "rgb(209,229,240)"
            ],
            [
             0.7,
             "rgb(146,197,222)"
            ],
            [
             0.8,
             "rgb(67,147,195)"
            ],
            [
             0.9,
             "rgb(33,102,172)"
            ],
            [
             1,
             "rgb(5,48,97)"
            ]
           ],
           "sequential": [
            [
             0,
             "#440154"
            ],
            [
             0.1111111111111111,
             "#482878"
            ],
            [
             0.2222222222222222,
             "#3e4989"
            ],
            [
             0.3333333333333333,
             "#31688e"
            ],
            [
             0.4444444444444444,
             "#26828e"
            ],
            [
             0.5555555555555556,
             "#1f9e89"
            ],
            [
             0.6666666666666666,
             "#35b779"
            ],
            [
             0.7777777777777778,
             "#6ece58"
            ],
            [
             0.8888888888888888,
             "#b5de2b"
            ],
            [
             1,
             "#fde725"
            ]
           ],
           "sequentialminus": [
            [
             0,
             "#440154"
            ],
            [
             0.1111111111111111,
             "#482878"
            ],
            [
             0.2222222222222222,
             "#3e4989"
            ],
            [
             0.3333333333333333,
             "#31688e"
            ],
            [
             0.4444444444444444,
             "#26828e"
            ],
            [
             0.5555555555555556,
             "#1f9e89"
            ],
            [
             0.6666666666666666,
             "#35b779"
            ],
            [
             0.7777777777777778,
             "#6ece58"
            ],
            [
             0.8888888888888888,
             "#b5de2b"
            ],
            [
             1,
             "#fde725"
            ]
           ]
          },
          "colorway": [
           "#1F77B4",
           "#FF7F0E",
           "#2CA02C",
           "#D62728",
           "#9467BD",
           "#8C564B",
           "#E377C2",
           "#7F7F7F",
           "#BCBD22",
           "#17BECF"
          ],
          "font": {
           "color": "rgb(36,36,36)"
          },
          "geo": {
           "bgcolor": "white",
           "lakecolor": "white",
           "landcolor": "white",
           "showlakes": true,
           "showland": true,
           "subunitcolor": "white"
          },
          "hoverlabel": {
           "align": "left"
          },
          "hovermode": "closest",
          "mapbox": {
           "style": "light"
          },
          "paper_bgcolor": "white",
          "plot_bgcolor": "white",
          "polar": {
           "angularaxis": {
            "gridcolor": "rgb(232,232,232)",
            "linecolor": "rgb(36,36,36)",
            "showgrid": false,
            "showline": true,
            "ticks": "outside"
           },
           "bgcolor": "white",
           "radialaxis": {
            "gridcolor": "rgb(232,232,232)",
            "linecolor": "rgb(36,36,36)",
            "showgrid": false,
            "showline": true,
            "ticks": "outside"
           }
          },
          "scene": {
           "xaxis": {
            "backgroundcolor": "white",
            "gridcolor": "rgb(232,232,232)",
            "gridwidth": 2,
            "linecolor": "rgb(36,36,36)",
            "showbackground": true,
            "showgrid": false,
            "showline": true,
            "ticks": "outside",
            "zeroline": false,
            "zerolinecolor": "rgb(36,36,36)"
           },
           "yaxis": {
            "backgroundcolor": "white",
            "gridcolor": "rgb(232,232,232)",
            "gridwidth": 2,
            "linecolor": "rgb(36,36,36)",
            "showbackground": true,
            "showgrid": false,
            "showline": true,
            "ticks": "outside",
            "zeroline": false,
            "zerolinecolor": "rgb(36,36,36)"
           },
           "zaxis": {
            "backgroundcolor": "white",
            "gridcolor": "rgb(232,232,232)",
            "gridwidth": 2,
            "linecolor": "rgb(36,36,36)",
            "showbackground": true,
            "showgrid": false,
            "showline": true,
            "ticks": "outside",
            "zeroline": false,
            "zerolinecolor": "rgb(36,36,36)"
           }
          },
          "shapedefaults": {
           "fillcolor": "black",
           "line": {
            "width": 0
           },
           "opacity": 0.3
          },
          "ternary": {
           "aaxis": {
            "gridcolor": "rgb(232,232,232)",
            "linecolor": "rgb(36,36,36)",
            "showgrid": false,
            "showline": true,
            "ticks": "outside"
           },
           "baxis": {
            "gridcolor": "rgb(232,232,232)",
            "linecolor": "rgb(36,36,36)",
            "showgrid": false,
            "showline": true,
            "ticks": "outside"
           },
           "bgcolor": "white",
           "caxis": {
            "gridcolor": "rgb(232,232,232)",
            "linecolor": "rgb(36,36,36)",
            "showgrid": false,
            "showline": true,
            "ticks": "outside"
           }
          },
          "title": {
           "x": 0.05
          },
          "xaxis": {
           "automargin": true,
           "gridcolor": "rgb(232,232,232)",
           "linecolor": "rgb(36,36,36)",
           "showgrid": false,
           "showline": true,
           "ticks": "outside",
           "title": {
            "standoff": 15
           },
           "zeroline": false,
           "zerolinecolor": "rgb(36,36,36)"
          },
          "yaxis": {
           "automargin": true,
           "gridcolor": "rgb(232,232,232)",
           "linecolor": "rgb(36,36,36)",
           "showgrid": false,
           "showline": true,
           "ticks": "outside",
           "title": {
            "standoff": 15
           },
           "zeroline": false,
           "zerolinecolor": "rgb(36,36,36)"
          }
         }
        },
        "xaxis": {
         "range": [
          0,
          208
         ],
         "title": {
          "text": "TRs"
         }
        },
        "yaxis": {
         "range": [
          -4,
          4
         ],
         "title": {
          "standoff": 0,
          "text": "z-score"
         },
         "type": "linear"
        }
       }
      },
      "image/png": "[encoded data removed]",
      "text/html": [
       "<div>                            <div id=\"eb040df2-039c-41b5-ac6f-c52c1a0e282c\" class=\"plotly-graph-div\" style=\"height:525px; width:100%;\"></div>            <script type=\"text/javascript\">                require([\"plotly\"], function(Plotly) {                    window.PLOTLYENV=window.PLOTLYENV || {};                                    if (document.getElementById(\"eb040df2-039c-41b5-ac6f-c52c1a0e282c\")) {                    Plotly.newPlot(                        \"eb040df2-039c-41b5-ac6f-c52c1a0e282c\",                        [{\"line\":{\"color\":\"black\"},\"mode\":\"markers\",\"name\":\"data\",\"y\":[-1.1487547159194946,-1.4274852275848389,-1.7658406496047974,-0.35578545928001404,0.605377733707428,-0.06691619008779526,-0.9930787086486816,-0.6763895750045776,-0.9111416935920715,-1.2043609619140625,-1.274961233139038,-0.9380245804786682,-0.38006508350372314,-0.2904486656188965,-0.8463435769081116,-0.36502084136009216,-1.379836082458496,-1.1152799129486084,-0.0958804190158844,-0.6228379011154175,0.5141015648841858,0.8091444969177246,0.6136025190353394,1.3872644901275635,1.4558002948760986,1.4614083766937256,1.9055086374282837,2.4436757564544678,1.8795827627182007,1.4353286027908325,0.7026903033256531,1.176303505897522,0.8667851686477661,0.6456184387207031,1.2411584854125977,1.9579360485076904,2.057771682739258,1.5469024181365967,1.140278935432434,0.8562648892402649,0.9750597476959229,-0.06457389146089554,0.47544023394584656,-0.2553543150424957,0.6479674577713013,0.12232834100723267,0.013043270446360111,0.2772882878780365,1.1351860761642456,0.24829058349132538,-0.2658478021621704,-1.0777729749679565,-1.5729990005493164,-1.2946699857711792,-1.2278944253921509,-1.4162187576293945,-1.4982393980026245,-1.8715553283691406,-1.8801348209381104,-1.6893577575683594,-1.4257586002349854,-1.240449070930481,-1.8863152265548706,-1.4686928987503052,-1.5569140911102295,-1.6627358198165894,-1.1815871000289917,-0.6684090495109558,-0.25094741582870483,0.12519264221191406,0.5160624384880066,0.32987627387046814,0.35167306661605835,0.36806246638298035,0.08889366686344147,0.8210099339485168,0.6492121815681458,0.2363448590040207,0.5728866457939148,0.608349084854126,0.8434759378433228,0.30480027198791504,0.12293733656406403,0.04942924156785011,0.7238780856132507,0.9905121922492981,0.973955512046814,0.8702852725982666,0.3177163898944855,0.9845359921455383,0.7546960711479187,1.4690510034561157,1.350523829460144,1.9389901161193848,0.5755836367607117,1.2982838153839111,0.7165232300758362,0.604648232460022,-0.3074571192264557,-1.0003163814544678,-1.0744736194610596,-1.1213765144348145,-0.4111842215061188,-0.6301023960113525,-0.6694396734237671,-1.329821228981018,-0.749994695186615,-0.9503250122070312,-0.9584059715270996,-1.4132941961288452,-0.06468096375465393,-0.9776362776756287,-0.6505774259567261,-0.7249521613121033,-1.0379036664962769,-0.7870867252349854,-0.3025951683521271,0.1887693852186203,0.9608988165855408,0.9089064598083496,0.750680685043335,0.9885580539703369,0.8023518323898315,1.1760358810424805,0.6307147145271301,0.5303504467010498,0.7755358219146729,0.16130422055721283,-0.9070426225662231,0.541847825050354,0.7687097191810608,0.47120401263237,0.5353228449821472,0.5704439878463745,0.4862215220928192,0.4628118872642517,0.14703626930713654,-0.15918610990047455,-0.016335876658558846,0.2780645787715912,0.07882177084684372,0.3995496928691864,0.26728999614715576,0.4478144645690918,1.124672532081604,0.010326201096177101,-0.3455864191055298,-0.7487633228302002,-1.052432656288147,-0.9734067320823669,-1.2792778015136719,-0.6952551603317261,-0.7175170183181763,-2.2559938430786133,-1.3595852851867676,-1.485457181930542,-1.150779128074646,-1.3118056058883667,-1.3078538179397583,-1.7126871347427368,-0.7483885884284973,-0.9703081846237183,-0.9000692963600159,0.7184974551200867,0.6781630516052246,0.7098443508148193,1.3276429176330566,0.968200147151947,0.640418529510498,1.3085163831710815,0.7542543411254883,0.45844852924346924,0.6285999417304993,0.042516108602285385,0.3614371120929718,0.41377079486846924,1.2676130533218384,0.7349872589111328,-0.5166747570037842,0.8479397296905518,0.9144008159637451,1.006613850593567,1.155918836593628,0.6781295537948608,0.6585947871208191,0.7284556031227112,1.344159483909607,1.9925419092178345,1.5073643922805786,0.5429587364196777,0.8999990224838257,0.7371153831481934,0.6594246625900269,0.1410801261663437,-0.7223154306411743,-0.9356722831726074,-1.714289903640747,-0.7357903122901917,-0.9791821837425232,-1.2932881116867065,-1.906164526939392,-1.4135082960128784,-1.1243747472763062,-0.43759870529174805,-0.30367597937583923,-0.039397500455379486,-0.5664687752723694,-0.18731380999088287],\"type\":\"scatter\"},{\"line\":{\"color\":\"#87CEEB\",\"width\":4},\"name\":\"GLM\",\"y\":[-0.8035980463027954,-0.8035980463027954,-0.8035980463027954,-0.8035980463027954,-0.8035980463027954,-0.8035980463027954,-0.8035980463027954,-0.8035980463027954,-0.8035980463027954,-0.8035980463027954,-0.8035980463027954,-0.8035980463027954,-0.8035980463027954,-0.8035980463027954,-0.8035980463027954,-0.8035980463027954,-0.8035980463027954,-0.8035980463027954,-0.8035980463027954,-0.8035980463027954,-0.7971333265304565,-0.6704779267311096,-0.2491975873708725,0.4018377959728241,0.9585022330284119,1.092195749282837,0.8228361010551453,0.49360421299934387,0.4715595543384552,0.7725170254707336,1.0787078142166138,1.0473920106887817,0.6845694780349731,0.3232497274875641,0.30850884318351746,0.630422055721283,0.9523460268974304,0.9333303570747375,0.5885124802589417,0.2539835274219513,0.26708337664604187,0.6085830926895142,0.9371774792671204,0.917701005935669,0.5746894478797913,0.25281044840812683,0.28189000487327576,0.6298306584358215,0.9476504921913147,0.9109622240066528,0.5466068387031555,0.0676257312297821,-0.3577204644680023,-0.6663531064987183,-0.8626863956451416,-0.9733554124832153,-1.0240691900253296,-1.0342189073562622,-1.0182512998580933,-0.9876101613044739,-0.9512606859207153,-0.9156283140182495,-0.8844658136367798,-0.8593692779541016,-0.8403984308242798,-0.8268809914588928,-0.8177756667137146,-0.8120033144950867,-0.7910037040710449,-0.601443350315094,-0.10709663480520248,0.5596279501914978,1.034749984741211,1.0560253858566284,0.7331360578536987,0.4600785970687866,0.5340902209281921,0.8748633861541748,1.1131511926651,0.9785016775131226,0.5732924938201904,0.27985864877700806,0.3682877719402313,0.7318127155303955,0.98578941822052,0.8656743168830872,0.48199015855789185,0.21752698719501495,0.3329862654209137,0.713196873664856,0.9712588787078857,0.8503556251525879,0.47083762288093567,0.22112201154232025,0.35114678740501404,0.7333753108978271,0.9773134589195251,0.8400065302848816,0.4244452118873596,-0.0523906871676445,-0.44976627826690674,-0.7272536754608154,-0.8985428214073181,-0.991424024105072,-1.029952883720398,-1.0320907831192017,-1.0112829208374023,-0.9784083366394043,-0.9417127370834351,-0.9070055484771729,-0.8773281574249268,-0.8538841605186462,-0.8363906741142273,-0.8241389393806458,-0.8159817457199097,-0.8106555938720703,-0.76479572057724,-0.4931916892528534,0.07451730966567993,0.7294707894325256,1.0883930921554565,0.9871481657028198,0.6325319409370422,0.44251880049705505,0.6147088408470154,0.9698964357376099,1.115255355834961,0.8793299198150635,0.4589206874370575,0.2550252377986908,0.4419909715652466,0.8211191892623901,0.989866316318512,0.7779521942138672,0.3875526487827301,0.21887321770191193,0.4330359399318695,0.8202497959136963,0.979922354221344,0.7581512928009033,0.3709700405597687,0.21827732026576996,0.44636237621307373,0.8324471712112427,0.9774125218391418,0.741567850112915,0.2884877026081085,-0.17532704770565033,-0.5397851467132568,-0.784936249256134,-0.9313772916793823,-1.006888508796692,-1.033613681793213,-1.0281221866607666,-1.0029069185256958,-0.9682373404502869,-0.9315958619117737,-0.8981080651283264,-0.8701210618019104,-0.8484324216842651,-0.8324763178825378,-0.8214944005012512,-0.814285397529602,-0.807929515838623,-0.7236751317977905,-0.3702199161052704,0.2510347366333008,0.8649542927742004,1.1038113832473755,0.9034806489944458,0.5521566271781921,0.45373472571372986,0.7043527960777283,1.0418899059295654,1.0883954763412476,0.772745668888092,0.37514153122901917,0.27880293130874634,0.551314651966095,0.9081223011016846,0.9683791995048523,0.6703524589538574,0.2990613579750061,0.23192822933197021,0.5267260074615479,0.8929049372673035,0.9534595012664795,0.6558982729911804,0.29503753781318665,0.24423019587993622,0.5482615828514099,0.9067546129226685,0.9500020146369934,0.6357783675193787,0.1629355549812317,-0.2812977731227875,-0.6142950654029846,-0.8311973214149475,-0.9567376375198364,-1.0177104473114014,-1.034681797027588,-1.0229613780975342,-0.9944419860839844,-0.9586471915245056,-0.9224706292152405,-0.890241801738739,-0.8638781309127808,-0.8437390327453613],\"type\":\"scatter\"},{\"line\":{\"color\":\"#E377C2\",\"width\":10},\"mode\":\"lines\",\"name\":\"Pursuit periode\",\"showlegend\":true,\"y\":[null,null,null,null,null,null,null,null,null,null,null,null,null,null,null,null,null,null,null,-4.0,-4.0,-4.0,null,null,null,-4.0,-4.0,-4.0,null,null,null,-4.0,-4.0,-4.0,null,null,null,-4.0,-4.0,-4.0,null,null,null,-4.0,-4.0,-4.0,null,null,null,null,null,null,null,null,null,null,null,null,null,null,null,null,null,null,null,null,null,-4.0,-4.0,-4.0,null,null,null,-4.0,-4.0,-4.0,null,null,null,-4.0,-4.0,-4.0,null,null,null,-4.0,-4.0,-4.0,null,null,null,-4.0,-4.0,-4.0,null,null,null,null,null,null,null,null,null,null,null,null,null,null,null,null,null,null,null,null,null,-4.0,-4.0,-4.0,null,null,null,-4.0,-4.0,-4.0,null,null,null,-4.0,-4.0,-4.0,null,null,null,-4.0,-4.0,-4.0,null,null,null,-4.0,-4.0,-4.0,null,null,null,null,null,null,null,null,null,null,null,null,null,null,null,null,null,null,null,null,null,-4.0,-4.0,-4.0,null,null,null,-4.0,-4.0,-4.0,null,null,null,-4.0,-4.0,-4.0,null,null,null,-4.0,-4.0,-4.0,null,null,null,-4.0,-4.0,-4.0,null,null,null,null,null,null,null,null,null,null,null,null,null,null,null,null,null,null],\"type\":\"scatter\"}],                        {\"template\":{\"data\":{\"barpolar\":[{\"marker\":{\"line\":{\"color\":\"white\",\"width\":0.5},\"pattern\":{\"fillmode\":\"overlay\",\"size\":10,\"solidity\":0.2}},\"type\":\"barpolar\"}],\"bar\":[{\"error_x\":{\"color\":\"rgb(36,36,36)\"},\"error_y\":{\"color\":\"rgb(36,36,36)\"},\"marker\":{\"line\":{\"color\":\"white\",\"width\":0.5},\"pattern\":{\"fillmode\":\"overlay\",\"size\":10,\"solidity\":0.2}},\"type\":\"bar\"}],\"carpet\":[{\"aaxis\":{\"endlinecolor\":\"rgb(36,36,36)\",\"gridcolor\":\"white\",\"linecolor\":\"white\",\"minorgridcolor\":\"white\",\"startlinecolor\":\"rgb(36,36,36)\"},\"baxis\":{\"endlinecolor\":\"rgb(36,36,36)\",\"gridcolor\":\"white\",\"linecolor\":\"white\",\"minorgridcolor\":\"white\",\"startlinecolor\":\"rgb(36,36,36)\"},\"type\":\"carpet\"}],\"choropleth\":[{\"colorbar\":{\"outlinewidth\":1,\"tickcolor\":\"rgb(36,36,36)\",\"ticks\":\"outside\"},\"type\":\"choropleth\"}],\"contourcarpet\":[{\"colorbar\":{\"outlinewidth\":1,\"tickcolor\":\"rgb(36,36,36)\",\"ticks\":\"outside\"},\"type\":\"contourcarpet\"}],\"contour\":[{\"colorbar\":{\"outlinewidth\":1,\"tickcolor\":\"rgb(36,36,36)\",\"ticks\":\"outside\"},\"colorscale\":[[0.0,\"#440154\"],[0.1111111111111111,\"#482878\"],[0.2222222222222222,\"#3e4989\"],[0.3333333333333333,\"#31688e\"],[0.4444444444444444,\"#26828e\"],[0.5555555555555556,\"#1f9e89\"],[0.6666666666666666,\"#35b779\"],[0.7777777777777778,\"#6ece58\"],[0.8888888888888888,\"#b5de2b\"],[1.0,\"#fde725\"]],\"type\":\"contour\"}],\"heatmapgl\":[{\"colorbar\":{\"outlinewidth\":1,\"tickcolor\":\"rgb(36,36,36)\",\"ticks\":\"outside\"},\"colorscale\":[[0.0,\"#440154\"],[0.1111111111111111,\"#482878\"],[0.2222222222222222,\"#3e4989\"],[0.3333333333333333,\"#31688e\"],[0.4444444444444444,\"#26828e\"],[0.5555555555555556,\"#1f9e89\"],[0.6666666666666666,\"#35b779\"],[0.7777777777777778,\"#6ece58\"],[0.8888888888888888,\"#b5de2b\"],[1.0,\"#fde725\"]],\"type\":\"heatmapgl\"}],\"heatmap\":[{\"colorbar\":{\"outlinewidth\":1,\"tickcolor\":\"rgb(36,36,36)\",\"ticks\":\"outside\"},\"colorscale\":[[0.0,\"#440154\"],[0.1111111111111111,\"#482878\"],[0.2222222222222222,\"#3e4989\"],[0.3333333333333333,\"#31688e\"],[0.4444444444444444,\"#26828e\"],[0.5555555555555556,\"#1f9e89\"],[0.6666666666666666,\"#35b779\"],[0.7777777777777778,\"#6ece58\"],[0.8888888888888888,\"#b5de2b\"],[1.0,\"#fde725\"]],\"type\":\"heatmap\"}],\"histogram2dcontour\":[{\"colorbar\":{\"outlinewidth\":1,\"tickcolor\":\"rgb(36,36,36)\",\"ticks\":\"outside\"},\"colorscale\":[[0.0,\"#440154\"],[0.1111111111111111,\"#482878\"],[0.2222222222222222,\"#3e4989\"],[0.3333333333333333,\"#31688e\"],[0.4444444444444444,\"#26828e\"],[0.5555555555555556,\"#1f9e89\"],[0.6666666666666666,\"#35b779\"],[0.7777777777777778,\"#6ece58\"],[0.8888888888888888,\"#b5de2b\"],[1.0,\"#fde725\"]],\"type\":\"histogram2dcontour\"}],\"histogram2d\":[{\"colorbar\":{\"outlinewidth\":1,\"tickcolor\":\"rgb(36,36,36)\",\"ticks\":\"outside\"},\"colorscale\":[[0.0,\"#440154\"],[0.1111111111111111,\"#482878\"],[0.2222222222222222,\"#3e4989\"],[0.3333333333333333,\"#31688e\"],[0.4444444444444444,\"#26828e\"],[0.5555555555555556,\"#1f9e89\"],[0.6666666666666666,\"#35b779\"],[0.7777777777777778,\"#6ece58\"],[0.8888888888888888,\"#b5de2b\"],[1.0,\"#fde725\"]],\"type\":\"histogram2d\"}],\"histogram\":[{\"marker\":{\"line\":{\"color\":\"white\",\"width\":0.6}},\"type\":\"histogram\"}],\"mesh3d\":[{\"colorbar\":{\"outlinewidth\":1,\"tickcolor\":\"rgb(36,36,36)\",\"ticks\":\"outside\"},\"type\":\"mesh3d\"}],\"parcoords\":[{\"line\":{\"colorbar\":{\"outlinewidth\":1,\"tickcolor\":\"rgb(36,36,36)\",\"ticks\":\"outside\"}},\"type\":\"parcoords\"}],\"pie\":[{\"automargin\":true,\"type\":\"pie\"}],\"scatter3d\":[{\"line\":{\"colorbar\":{\"outlinewidth\":1,\"tickcolor\":\"rgb(36,36,36)\",\"ticks\":\"outside\"}},\"marker\":{\"colorbar\":{\"outlinewidth\":1,\"tickcolor\":\"rgb(36,36,36)\",\"ticks\":\"outside\"}},\"type\":\"scatter3d\"}],\"scattercarpet\":[{\"marker\":{\"colorbar\":{\"outlinewidth\":1,\"tickcolor\":\"rgb(36,36,36)\",\"ticks\":\"outside\"}},\"type\":\"scattercarpet\"}],\"scattergeo\":[{\"marker\":{\"colorbar\":{\"outlinewidth\":1,\"tickcolor\":\"rgb(36,36,36)\",\"ticks\":\"outside\"}},\"type\":\"scattergeo\"}],\"scattergl\":[{\"marker\":{\"colorbar\":{\"outlinewidth\":1,\"tickcolor\":\"rgb(36,36,36)\",\"ticks\":\"outside\"}},\"type\":\"scattergl\"}],\"scattermapbox\":[{\"marker\":{\"colorbar\":{\"outlinewidth\":1,\"tickcolor\":\"rgb(36,36,36)\",\"ticks\":\"outside\"}},\"type\":\"scattermapbox\"}],\"scatterpolargl\":[{\"marker\":{\"colorbar\":{\"outlinewidth\":1,\"tickcolor\":\"rgb(36,36,36)\",\"ticks\":\"outside\"}},\"type\":\"scatterpolargl\"}],\"scatterpolar\":[{\"marker\":{\"colorbar\":{\"outlinewidth\":1,\"tickcolor\":\"rgb(36,36,36)\",\"ticks\":\"outside\"}},\"type\":\"scatterpolar\"}],\"scatter\":[{\"fillpattern\":{\"fillmode\":\"overlay\",\"size\":10,\"solidity\":0.2},\"type\":\"scatter\"}],\"scatterternary\":[{\"marker\":{\"colorbar\":{\"outlinewidth\":1,\"tickcolor\":\"rgb(36,36,36)\",\"ticks\":\"outside\"}},\"type\":\"scatterternary\"}],\"surface\":[{\"colorbar\":{\"outlinewidth\":1,\"tickcolor\":\"rgb(36,36,36)\",\"ticks\":\"outside\"},\"colorscale\":[[0.0,\"#440154\"],[0.1111111111111111,\"#482878\"],[0.2222222222222222,\"#3e4989\"],[0.3333333333333333,\"#31688e\"],[0.4444444444444444,\"#26828e\"],[0.5555555555555556,\"#1f9e89\"],[0.6666666666666666,\"#35b779\"],[0.7777777777777778,\"#6ece58\"],[0.8888888888888888,\"#b5de2b\"],[1.0,\"#fde725\"]],\"type\":\"surface\"}],\"table\":[{\"cells\":{\"fill\":{\"color\":\"rgb(237,237,237)\"},\"line\":{\"color\":\"white\"}},\"header\":{\"fill\":{\"color\":\"rgb(217,217,217)\"},\"line\":{\"color\":\"white\"}},\"type\":\"table\"}]},\"layout\":{\"annotationdefaults\":{\"arrowhead\":0,\"arrowwidth\":1},\"autotypenumbers\":\"strict\",\"coloraxis\":{\"colorbar\":{\"outlinewidth\":1,\"tickcolor\":\"rgb(36,36,36)\",\"ticks\":\"outside\"}},\"colorscale\":{\"diverging\":[[0.0,\"rgb(103,0,31)\"],[0.1,\"rgb(178,24,43)\"],[0.2,\"rgb(214,96,77)\"],[0.3,\"rgb(244,165,130)\"],[0.4,\"rgb(253,219,199)\"],[0.5,\"rgb(247,247,247)\"],[0.6,\"rgb(209,229,240)\"],[0.7,\"rgb(146,197,222)\"],[0.8,\"rgb(67,147,195)\"],[0.9,\"rgb(33,102,172)\"],[1.0,\"rgb(5,48,97)\"]],\"sequential\":[[0.0,\"#440154\"],[0.1111111111111111,\"#482878\"],[0.2222222222222222,\"#3e4989\"],[0.3333333333333333,\"#31688e\"],[0.4444444444444444,\"#26828e\"],[0.5555555555555556,\"#1f9e89\"],[0.6666666666666666,\"#35b779\"],[0.7777777777777778,\"#6ece58\"],[0.8888888888888888,\"#b5de2b\"],[1.0,\"#fde725\"]],\"sequentialminus\":[[0.0,\"#440154\"],[0.1111111111111111,\"#482878\"],[0.2222222222222222,\"#3e4989\"],[0.3333333333333333,\"#31688e\"],[0.4444444444444444,\"#26828e\"],[0.5555555555555556,\"#1f9e89\"],[0.6666666666666666,\"#35b779\"],[0.7777777777777778,\"#6ece58\"],[0.8888888888888888,\"#b5de2b\"],[1.0,\"#fde725\"]]},\"colorway\":[\"#1F77B4\",\"#FF7F0E\",\"#2CA02C\",\"#D62728\",\"#9467BD\",\"#8C564B\",\"#E377C2\",\"#7F7F7F\",\"#BCBD22\",\"#17BECF\"],\"font\":{\"color\":\"rgb(36,36,36)\"},\"geo\":{\"bgcolor\":\"white\",\"lakecolor\":\"white\",\"landcolor\":\"white\",\"showlakes\":true,\"showland\":true,\"subunitcolor\":\"white\"},\"hoverlabel\":{\"align\":\"left\"},\"hovermode\":\"closest\",\"mapbox\":{\"style\":\"light\"},\"paper_bgcolor\":\"white\",\"plot_bgcolor\":\"white\",\"polar\":{\"angularaxis\":{\"gridcolor\":\"rgb(232,232,232)\",\"linecolor\":\"rgb(36,36,36)\",\"showgrid\":false,\"showline\":true,\"ticks\":\"outside\"},\"bgcolor\":\"white\",\"radialaxis\":{\"gridcolor\":\"rgb(232,232,232)\",\"linecolor\":\"rgb(36,36,36)\",\"showgrid\":false,\"showline\":true,\"ticks\":\"outside\"}},\"scene\":{\"xaxis\":{\"backgroundcolor\":\"white\",\"gridcolor\":\"rgb(232,232,232)\",\"gridwidth\":2,\"linecolor\":\"rgb(36,36,36)\",\"showbackground\":true,\"showgrid\":false,\"showline\":true,\"ticks\":\"outside\",\"zeroline\":false,\"zerolinecolor\":\"rgb(36,36,36)\"},\"yaxis\":{\"backgroundcolor\":\"white\",\"gridcolor\":\"rgb(232,232,232)\",\"gridwidth\":2,\"linecolor\":\"rgb(36,36,36)\",\"showbackground\":true,\"showgrid\":false,\"showline\":true,\"ticks\":\"outside\",\"zeroline\":false,\"zerolinecolor\":\"rgb(36,36,36)\"},\"zaxis\":{\"backgroundcolor\":\"white\",\"gridcolor\":\"rgb(232,232,232)\",\"gridwidth\":2,\"linecolor\":\"rgb(36,36,36)\",\"showbackground\":true,\"showgrid\":false,\"showline\":true,\"ticks\":\"outside\",\"zeroline\":false,\"zerolinecolor\":\"rgb(36,36,36)\"}},\"shapedefaults\":{\"fillcolor\":\"black\",\"line\":{\"width\":0},\"opacity\":0.3},\"ternary\":{\"aaxis\":{\"gridcolor\":\"rgb(232,232,232)\",\"linecolor\":\"rgb(36,36,36)\",\"showgrid\":false,\"showline\":true,\"ticks\":\"outside\"},\"baxis\":{\"gridcolor\":\"rgb(232,232,232)\",\"linecolor\":\"rgb(36,36,36)\",\"showgrid\":false,\"showline\":true,\"ticks\":\"outside\"},\"bgcolor\":\"white\",\"caxis\":{\"gridcolor\":\"rgb(232,232,232)\",\"linecolor\":\"rgb(36,36,36)\",\"showgrid\":false,\"showline\":true,\"ticks\":\"outside\"}},\"title\":{\"x\":0.05},\"xaxis\":{\"automargin\":true,\"gridcolor\":\"rgb(232,232,232)\",\"linecolor\":\"rgb(36,36,36)\",\"showgrid\":false,\"showline\":true,\"ticks\":\"outside\",\"title\":{\"standoff\":15},\"zeroline\":false,\"zerolinecolor\":\"rgb(36,36,36)\"},\"yaxis\":{\"automargin\":true,\"gridcolor\":\"rgb(232,232,232)\",\"linecolor\":\"rgb(36,36,36)\",\"showgrid\":false,\"showline\":true,\"ticks\":\"outside\",\"title\":{\"standoff\":15},\"zeroline\":false,\"zerolinecolor\":\"rgb(36,36,36)\"}}},\"annotations\":[{\"showarrow\":false,\"text\":\"R\\u003csup\\u003e2\\u003c\\u002fsup\\u003e=0.77\",\"x\":198,\"y\":4}],\"yaxis\":{\"title\":{\"text\":\"z-score\",\"standoff\":0},\"range\":[-4,4]},\"xaxis\":{\"title\":{\"text\":\"TRs\"},\"range\":[0,208]},\"showlegend\":true},                        {\"responsive\": true}                    ).then(function(){\n",
       "                            \n",
       "var gd = document.getElementById('eb040df2-039c-41b5-ac6f-c52c1a0e282c');\n",
       "var x = new MutationObserver(function (mutations, observer) {{\n",
       "        var display = window.getComputedStyle(gd).display;\n",
       "        if (!display || display === 'none') {{\n",
       "            console.log([gd, 'removed!']);\n",
       "            Plotly.purge(gd);\n",
       "            observer.disconnect();\n",
       "        }}\n",
       "}});\n",
       "\n",
       "// Listen for the removal of the full notebook cells\n",
       "var notebookContainer = gd.closest('#notebook-container');\n",
       "if (notebookContainer) {{\n",
       "    x.observe(notebookContainer, {childList: true});\n",
       "}}\n",
       "\n",
       "// Listen for the clearing of the current output cell\n",
       "var outputEl = gd.closest('.output');\n",
       "if (outputEl) {{\n",
       "    x.observe(outputEl, {childList: true});\n",
       "}}\n",
       "\n",
       "                        })                };                });            </script>        </div>"
      ]
     },
     "metadata": {},
     "output_type": "display_data"
    }
   ],
   "source": [
    "# plot best voxel for left hemisphere\n",
    "max_indices = np.nanargmax(glm_fit_data[rvalue_idx,:])\n",
    "# num_vert = 6150\n",
    "num_vert = max_indices\n",
    "num_vert_r2 = num_vert\n",
    "\n",
    "\n",
    "fig5 = go.Figure()\n",
    "# plot data time series\n",
    "fig5.add_trace(go.Scatter(y=bold_glm_data[:,num_vert],\n",
    "                         name='data', \n",
    "                         mode='markers', \n",
    "                          line=dict(color='black') \n",
    "                         ))\n",
    "\n",
    "# plot pRF prediction\n",
    "fig5.add_trace(go.Scatter(y=glm_pred_data[:,num_vert_r2],\n",
    "                          line=dict(color='#87CEEB' ,width=4),\n",
    "                          \n",
    "                         name='GLM'))\n",
    "\n",
    "# # for prf\n",
    "# fig5.add_annotation(text='R<sup>2</sup>={:1.2f}'.format(prf_fit_data[rvalue_idx,num_vert_r2]),  \n",
    "#                     x=198,  \n",
    "#                     y=4,\n",
    "#                     showarrow=False\n",
    "#                    )\n",
    "\n",
    "# for glm\n",
    "fig5.add_annotation(text='R<sup>2</sup>={:1.2f}'.format(glm_fit_data[rvalue_idx,num_vert_r2]),  \n",
    "                    x=198,  \n",
    "                    y=4,\n",
    "                    showarrow=False\n",
    "                   )\n",
    "\n",
    "\n",
    "fig5.add_trace(go.Scatter(y=task_periode*-4,\n",
    "                          name='{} periode'.format(task_name),\n",
    "                          mode='lines',\n",
    "                          showlegend = True,\n",
    "                          line=dict(width=10, color=color ) \n",
    "                         ))\n",
    "\n",
    "fig5.update_layout(template='simple_white', \n",
    "                   # title = '{} vertex time series for {} noise model'.format(num_vert,noise_model_2), \n",
    "                   xaxis_title = 'TRs', \n",
    "                   yaxis_title = 'z-score', \n",
    "                   showlegend= True,\n",
    "                   # height=350, \n",
    "                   yaxis=dict(title_standoff=0))\n",
    "\n",
    "fig5.update_xaxes(range=[0,bold_glm_data.shape[0]])\n",
    "\n",
    "fig5.update_yaxes(range=[-4,4])\n",
    "fig5.write_image('/Users/uriel/Downloads/glm_{}.pdf'.format(task), width=1000, height=300)\n",
    "\n",
    "fig5.show()"
   ]
  },
  {
   "cell_type": "markdown",
   "id": "11f314cc-9820-43da-ada5-6ac8fb27ee56",
   "metadata": {
    "jp-MarkdownHeadingCollapsed": true,
    "tags": []
   },
   "source": [
    "# Ecc size"
   ]
  },
  {
   "cell_type": "code",
   "execution_count": 12,
   "id": "296f0d71-9cf6-477e-9525-c1364f050fbf",
   "metadata": {
    "tags": []
   },
   "outputs": [],
   "source": [
    "def prf_ecc_size_plot(df_ecc_size, fig_width, fig_height, rois, roi_colors, plot_groups, max_ecc):\n",
    "    \"\"\"\n",
    "    Make scatter plot for linear relationship between eccentricity and size\n",
    "\n",
    "    Parameters\n",
    "    ----------\n",
    "    df_ecc_size : A data dataframe\n",
    "    fig_width : figure width in pixels\n",
    "    fig_height : figure height in pixels\n",
    "    rois : list of rois\n",
    "    roi_colors : list of rgb colors for plotly\n",
    "    plot_groups : groups of roi to plot together\n",
    "    max_ecc : maximum eccentricity \n",
    "    \n",
    "    Returns\n",
    "    -------\n",
    "    fig : eccentricy as a function of size plot\n",
    "    \"\"\"\n",
    "    \n",
    "    from maths_utils import weighted_regression\n",
    "\n",
    "    # General figure settings\n",
    "    template_specs = dict(axes_color=\"rgba(0, 0, 0, 1)\",\n",
    "                          axes_width=2,\n",
    "                          axes_font_size=15,\n",
    "                          bg_col=\"rgba(255, 255, 255, 1)\",\n",
    "                          font='Arial',\n",
    "                          title_font_size=15,\n",
    "                          plot_width=1.5)\n",
    "    \n",
    "    # General figure settings\n",
    "    fig_template = plotly_template(template_specs)\n",
    "\n",
    "    # General settings\n",
    "    rows, cols = 1, len(plot_groups)\n",
    "    fig = make_subplots(rows=rows, cols=cols, print_grid=False)\n",
    "    \n",
    "    for l, line_label in enumerate(plot_groups):\n",
    "        for j, roi in enumerate(line_label):\n",
    "            \n",
    "            # Parametring colors\n",
    "            roi_color = roi_colors[j + l * 3]\n",
    "            roi_color_opac = f\"rgba{roi_color[3:-1]}, 0.15)\"\n",
    "            \n",
    "            # Get data\n",
    "            df = df_ecc_size.loc[(df_ecc_size.roi == roi)]\n",
    "            ecc_median = np.array(df.prf_ecc_bins)\n",
    "            size_median = np.array(df.prf_size_bins_median)\n",
    "            r2_median = np.array(df.prf_loo_r2_bins_median)\n",
    "            size_upper_bound = np.array(df.prf_size_bins_ci_upper_bound)\n",
    "            size_lower_bound = np.array(df.prf_size_bins_ci_lower_bound)\n",
    "            \n",
    "            # Linear regression\n",
    "            slope, intercept = weighted_regression(ecc_median, size_median, r2_median, model='linear')\n",
    "            slope_upper, intercept_upper = weighted_regression(ecc_median[np.where(~np.isnan(size_upper_bound))], \n",
    "                                                               size_upper_bound[~np.isnan(size_upper_bound)], \n",
    "                                                               r2_median[np.where(~np.isnan(size_upper_bound))], \n",
    "                                                               model='linear')\n",
    "            slope_lower, intercept_lower = weighted_regression(ecc_median[np.where(~np.isnan(size_lower_bound))], \n",
    "                                                               size_lower_bound[~np.isnan(size_lower_bound)], \n",
    "                                                               r2_median[np.where(~np.isnan(size_lower_bound))], \n",
    "                                                               model='linear')\n",
    "\n",
    "            line_x = np.linspace(ecc_median[0], ecc_median[-1], 50)\n",
    "            line = slope * line_x + intercept\n",
    "            line_upper = slope_upper * line_x + intercept_upper\n",
    "            line_lower = slope_lower * line_x + intercept_lower\n",
    "\n",
    "            fig.add_trace(go.Scatter(x=line_x, y=line, mode='lines', name=roi, legendgroup=roi, \n",
    "                                      line=dict(color=roi_color, width=3), showlegend=False), \n",
    "                          row=1, col=l+1)\n",
    "\n",
    "            # Error area\n",
    "            fig.add_trace(go.Scatter(x=np.concatenate([line_x, line_x[::-1]]), \n",
    "                                      y=np.concatenate([list(line_upper), list(line_lower[::-1])]), \n",
    "                                      mode='lines', fill='toself', fillcolor=roi_color_opac, \n",
    "                                      line=dict(color=roi_color_opac, width=0), showlegend=False), \n",
    "                          row=1, col=l+1)\n",
    "\n",
    "            # Markers\n",
    "            fig.add_trace(go.Scatter(x=ecc_median, \n",
    "                                     y=size_median, mode='markers', \n",
    "                                     error_y=dict(type='data', \n",
    "                                                  array=size_upper_bound - size_median, \n",
    "                                                  arrayminus=size_median - size_lower_bound,\n",
    "                                                  visible=True, \n",
    "                                                  thickness=3, \n",
    "                                                  width=0, \n",
    "                                                  color=roi_color),\n",
    "                                      marker=dict(color=roi_color,\n",
    "                                                  symbol='square',\n",
    "                                                  size=8, \n",
    "                                                  line=dict(color=roi_color, \n",
    "                                                            width=3)), \n",
    "                                      showlegend=False), \n",
    "                          row=1, col=l + 1)\n",
    "            \n",
    "            # Add legend\n",
    "            annotation = go.layout.Annotation(x=1, y=max_ecc-j*1.5, text=roi, xanchor='left',\n",
    "                                              showarrow=False, font_color=roi_color, \n",
    "                                              font_family=template_specs['font'],\n",
    "                                              font_size=template_specs['axes_font_size'],\n",
    "                                             )\n",
    "            fig.add_annotation(annotation, row=1, col=l+1)\n",
    "\n",
    "        # Set axis titles only for the left-most column and bottom-most row\n",
    "        fig.update_yaxes(title_text='pRF size (dva)', row=1, col=1)\n",
    "        fig.update_xaxes(title_text='pRF eccentricity (dva)', range=[0, max_ecc], showline=True, row=1, col=l+1)\n",
    "        fig.update_yaxes(range=[0, max_ecc], showline=True)\n",
    "        fig.update_layout(height=fig_height, width=fig_width, showlegend=False, template=fig_template,\n",
    "                         margin_l=100, margin_r=50, margin_t=50, margin_b=100)\n",
    "        \n",
    "    return fig"
   ]
  },
  {
   "cell_type": "code",
   "execution_count": 50,
   "id": "e20d86fa-05d3-4cb3-9469-bc028bca82e1",
   "metadata": {
    "tags": []
   },
   "outputs": [],
   "source": [
    "subject = 'group'\n",
    "# format_ = '170k'\n",
    "tsv_dir ='{}/{}/derivatives/pp_data/{}/{}/prf/tsv'.format(main_dir, \n",
    "                                                                project_dir, \n",
    "                                                                subject,\n",
    "                                                         format_)\n",
    "\n",
    "# data = pd.read_table('{}/{}_css-prf_derivatives.tsv'.format(tsv_dir,subject))\n",
    "df_ecc_size = pd.read_table('{}/{}_prf_ecc_size.tsv'.format(tsv_dir,subject))\n",
    "ecc_th = [0, 15]\n",
    "size_th= [0.1, 20]\n",
    "rsq_th = [0, 1]\n",
    "pcm_th = [0,20]"
   ]
  },
  {
   "cell_type": "code",
   "execution_count": 51,
   "id": "02c5f3a6-ad57-4390-a5d8-f5be26096767",
   "metadata": {},
   "outputs": [],
   "source": [
    "plot_groups = [['iIPS', 'sIPS'],['iPCS', 'sPCS', 'mPCS']]\n",
    "fig_width = 1440\n",
    "max_ecc = 15\n",
    "colormap_dict = {'V1': (243, 231, 155),\n",
    "                 'V2': (250, 196, 132),\n",
    "                 'V3': (248, 160, 126),\n",
    "                 'V3AB': (235, 127, 134),\n",
    "                 'LO': (150, 0, 90), \n",
    "                 'VO': (0, 0, 200),\n",
    "                 'hMT+': (0, 25, 255),\n",
    "                 'iIPS': (0, 152, 255),\n",
    "                 'sIPS': (44, 255, 150),\n",
    "                 'iPCS': (151, 255, 0),\n",
    "                 'sPCS': (255, 234, 0),\n",
    "                 'mPCS': (255, 111, 0)\n",
    "                }\n",
    "roi_colors = ['rgb({},{},{})'.format(*rgb) for rgb in colormap_dict.values()]\n",
    "\n",
    "fig = prf_ecc_size_plot(df_ecc_size=df_ecc_size, fig_width=fig_width, \n",
    "                        fig_height=400, rois=rois, roi_colors=roi_colors,\n",
    "                        plot_groups=plot_groups, max_ecc=max_ecc)\n",
    "\n",
    "\n",
    "fig.write_image(\"/Users/uriel/Downloads/{}_ecc_size.pdf\".format(subject))"
   ]
  },
  {
   "cell_type": "code",
   "execution_count": 52,
   "id": "feae40a7-1f26-4e59-a3ce-74d7ce391541",
   "metadata": {},
   "outputs": [
    {
     "data": {
      "application/vnd.plotly.v1+json": {
       "config": {
        "plotlyServerURL": "https://plot.ly"
       },
       "data": [
        {
         "legendgroup": "iIPS",
         "line": {
          "color": "rgb(243,231,155)",
          "width": 3
         },
         "mode": "lines",
         "name": "iIPS",
         "showlegend": false,
         "type": "scatter",
         "x": [
          1.422941,
          1.6660424591836736,
          1.9091439183673469,
          2.1522453775510204,
          2.395346836734694,
          2.6384482959183675,
          2.881549755102041,
          3.124651214285714,
          3.3677526734693877,
          3.6108541326530608,
          3.8539555918367343,
          4.097057051020408,
          4.340158510204081,
          4.583259969387755,
          4.8263614285714285,
          5.069462887755102,
          5.3125643469387756,
          5.555665806122448,
          5.798767265306122,
          6.041868724489795,
          6.284970183673469,
          6.528071642857142,
          6.771173102040816,
          7.0142745612244894,
          7.257376020408163,
          7.5004774795918365,
          7.74357893877551,
          7.986680397959183,
          8.229781857142857,
          8.47288331632653,
          8.715984775510204,
          8.959086234693878,
          9.202187693877551,
          9.445289153061223,
          9.688390612244897,
          9.93149207142857,
          10.174593530612244,
          10.417694989795917,
          10.66079644897959,
          10.903897908163264,
          11.146999367346938,
          11.390100826530611,
          11.633202285714285,
          11.876303744897958,
          12.119405204081632,
          12.362506663265306,
          12.605608122448979,
          12.848709581632653,
          13.091811040816326,
          13.3349125
         ],
         "xaxis": "x",
         "y": [
          3.6626634775513587,
          3.7515753598270054,
          3.840487242102652,
          3.9293991243782984,
          4.018311006653945,
          4.107222888929591,
          4.196134771205238,
          4.285046653480885,
          4.373958535756531,
          4.462870418032177,
          4.551782300307824,
          4.64069418258347,
          4.729606064859118,
          4.8185179471347634,
          4.90742982941041,
          4.996341711686057,
          5.085253593961703,
          5.1741654762373495,
          5.263077358512996,
          5.351989240788642,
          5.44090112306429,
          5.5298130053399355,
          5.618724887615582,
          5.707636769891229,
          5.796548652166875,
          5.885460534442522,
          5.974372416718168,
          6.063284298993814,
          6.152196181269462,
          6.2411080635451075,
          6.330019945820755,
          6.418931828096401,
          6.507843710372048,
          6.5967555926476935,
          6.68566747492334,
          6.774579357198987,
          6.863491239474634,
          6.9524031217502795,
          7.041315004025926,
          7.130226886301573,
          7.21913876857722,
          7.308050650852866,
          7.396962533128512,
          7.485874415404159,
          7.574786297679806,
          7.663698179955452,
          7.752610062231099,
          7.841521944506745,
          7.930433826782392,
          8.019345709058038
         ],
         "yaxis": "y"
        },
        {
         "fill": "toself",
         "fillcolor": "rgba(243,231,155, 0.15)",
         "line": {
          "color": "rgba(243,231,155, 0.15)",
          "width": 0
         },
         "mode": "lines",
         "showlegend": false,
         "type": "scatter",
         "x": [
          1.422941,
          1.6660424591836736,
          1.9091439183673469,
          2.1522453775510204,
          2.395346836734694,
          2.6384482959183675,
          2.881549755102041,
          3.124651214285714,
          3.3677526734693877,
          3.6108541326530608,
          3.8539555918367343,
          4.097057051020408,
          4.340158510204081,
          4.583259969387755,
          4.8263614285714285,
          5.069462887755102,
          5.3125643469387756,
          5.555665806122448,
          5.798767265306122,
          6.041868724489795,
          6.284970183673469,
          6.528071642857142,
          6.771173102040816,
          7.0142745612244894,
          7.257376020408163,
          7.5004774795918365,
          7.74357893877551,
          7.986680397959183,
          8.229781857142857,
          8.47288331632653,
          8.715984775510204,
          8.959086234693878,
          9.202187693877551,
          9.445289153061223,
          9.688390612244897,
          9.93149207142857,
          10.174593530612244,
          10.417694989795917,
          10.66079644897959,
          10.903897908163264,
          11.146999367346938,
          11.390100826530611,
          11.633202285714285,
          11.876303744897958,
          12.119405204081632,
          12.362506663265306,
          12.605608122448979,
          12.848709581632653,
          13.091811040816326,
          13.3349125,
          13.3349125,
          13.091811040816326,
          12.848709581632653,
          12.605608122448979,
          12.362506663265306,
          12.119405204081632,
          11.876303744897958,
          11.633202285714285,
          11.390100826530611,
          11.146999367346938,
          10.903897908163264,
          10.66079644897959,
          10.417694989795917,
          10.174593530612244,
          9.93149207142857,
          9.688390612244897,
          9.445289153061223,
          9.202187693877551,
          8.959086234693878,
          8.715984775510204,
          8.47288331632653,
          8.229781857142857,
          7.986680397959183,
          7.74357893877551,
          7.5004774795918365,
          7.257376020408163,
          7.0142745612244894,
          6.771173102040816,
          6.528071642857142,
          6.284970183673469,
          6.041868724489795,
          5.798767265306122,
          5.555665806122448,
          5.3125643469387756,
          5.069462887755102,
          4.8263614285714285,
          4.583259969387755,
          4.340158510204081,
          4.097057051020408,
          3.8539555918367343,
          3.6108541326530608,
          3.3677526734693877,
          3.124651214285714,
          2.881549755102041,
          2.6384482959183675,
          2.395346836734694,
          2.1522453775510204,
          1.9091439183673469,
          1.6660424591836736,
          1.422941
         ],
         "xaxis": "x",
         "y": [
          4.438061830348438,
          4.572570629521468,
          4.707079428694498,
          4.841588227867527,
          4.976097027040558,
          5.110605826213588,
          5.245114625386618,
          5.3796234245596475,
          5.514132223732677,
          5.648641022905707,
          5.783149822078737,
          5.917658621251768,
          6.052167420424797,
          6.186676219597827,
          6.321185018770857,
          6.455693817943887,
          6.590202617116917,
          6.724711416289947,
          6.859220215462976,
          6.993729014636006,
          7.1282378138090365,
          7.262746612982067,
          7.397255412155097,
          7.5317642113281265,
          7.666273010501157,
          7.800781809674187,
          7.935290608847216,
          8.069799408020245,
          8.204308207193277,
          8.338817006366305,
          8.473325805539336,
          8.607834604712366,
          8.742343403885396,
          8.876852203058426,
          9.011361002231457,
          9.145869801404485,
          9.280378600577516,
          9.414887399750546,
          9.549396198923574,
          9.683904998096605,
          9.818413797269635,
          9.952922596442665,
          10.087431395615695,
          10.221940194788726,
          10.356448993961756,
          10.490957793134786,
          10.625466592307816,
          10.759975391480847,
          10.894484190653875,
          11.028992989826905,
          5.3673088101033795,
          5.319373782961266,
          5.271438755819152,
          5.223503728677039,
          5.175568701534925,
          5.127633674392812,
          5.079698647250699,
          5.031763620108586,
          4.983828592966471,
          4.935893565824358,
          4.887958538682245,
          4.8400235115401316,
          4.792088484398018,
          4.744153457255905,
          4.696218430113792,
          4.648283402971678,
          4.600348375829565,
          4.552413348687452,
          4.504478321545339,
          4.456543294403225,
          4.408608267261112,
          4.360673240118999,
          4.312738212976885,
          4.264803185834772,
          4.216868158692659,
          4.168933131550546,
          4.120998104408432,
          4.073063077266319,
          4.025128050124205,
          3.9771930229820915,
          3.9292579958399783,
          3.881322968697865,
          3.8333879415557517,
          3.7854529144136384,
          3.737517887271525,
          3.689582860129412,
          3.6416478329872985,
          3.5937128058451853,
          3.545777778703072,
          3.4978427515609583,
          3.449907724418845,
          3.4019726972767317,
          3.3540376701346184,
          3.306102642992505,
          3.258167615850392,
          3.2102325887082785,
          3.162297561566165,
          3.1143625344240515,
          3.0664275072819382,
          3.018492480139825
         ],
         "yaxis": "y"
        },
        {
         "error_y": {
          "array": [
           0.49001174999999986,
           1.0994640999999996,
           1.8119744999999998,
           2.2417407999999996,
           1.9703189500000002,
           2.8663310000000024
          ],
          "arrayminus": [
           0.4755469000000003,
           0.88724435,
           1.4320375499999995,
           1.8162895500000005,
           2.3367005,
           2.2911269999999995
          ],
          "color": "rgb(243,231,155)",
          "thickness": 3,
          "type": "data",
          "visible": true,
          "width": 0
         },
         "marker": {
          "color": "rgb(243,231,155)",
          "line": {
           "color": "rgb(243,231,155)",
           "width": 3
          },
          "size": 8,
          "symbol": "square"
         },
         "mode": "markers",
         "showlegend": false,
         "type": "scatter",
         "x": [
          1.422941,
          3.0753361000000004,
          4.879797,
          7.233397500000001,
          10.035343,
          13.3349125
         ],
         "xaxis": "x",
         "y": [
          4.09508425,
          4.2745619,
          4.3525107,
          5.2559155,
          7.0905768,
          8.432315
         ],
         "yaxis": "y"
        },
        {
         "legendgroup": "sIPS",
         "line": {
          "color": "rgb(250,196,132)",
          "width": 3
         },
         "mode": "lines",
         "name": "sIPS",
         "showlegend": false,
         "type": "scatter",
         "x": [
          1.3234848,
          1.5686523244897959,
          1.8138198489795918,
          2.058987373469388,
          2.304154897959184,
          2.54932242244898,
          2.794489946938776,
          3.039657471428572,
          3.2848249959183677,
          3.5299925204081637,
          3.7751600448979596,
          4.020327569387756,
          4.2654950938775515,
          4.5106626183673475,
          4.7558301428571434,
          5.000997667346939,
          5.246165191836735,
          5.491332716326531,
          5.736500240816327,
          5.981667765306123,
          6.226835289795919,
          6.472002814285715,
          6.717170338775511,
          6.962337863265307,
          7.207505387755103,
          7.452672912244899,
          7.697840436734695,
          7.943007961224491,
          8.188175485714286,
          8.433343010204082,
          8.678510534693878,
          8.923678059183674,
          9.16884558367347,
          9.414013108163266,
          9.659180632653062,
          9.904348157142858,
          10.149515681632653,
          10.39468320612245,
          10.639850730612245,
          10.885018255102041,
          11.130185779591837,
          11.375353304081633,
          11.62052082857143,
          11.865688353061225,
          12.110855877551021,
          12.356023402040817,
          12.601190926530613,
          12.846358451020409,
          13.091525975510205,
          13.3366935
         ],
         "xaxis": "x",
         "y": [
          4.3836083736676095,
          4.518414013526739,
          4.653219653385868,
          4.788025293244998,
          4.922830933104128,
          5.057636572963257,
          5.192442212822386,
          5.3272478526815155,
          5.462053492540645,
          5.596859132399774,
          5.731664772258903,
          5.866470412118033,
          6.001276051977162,
          6.136081691836291,
          6.270887331695421,
          6.40569297155455,
          6.540498611413679,
          6.6753042512728085,
          6.810109891131938,
          6.944915530991067,
          7.079721170850196,
          7.214526810709326,
          7.349332450568455,
          7.484138090427584,
          7.618943730286714,
          7.753749370145844,
          7.888555010004973,
          8.023360649864102,
          8.15816628972323,
          8.29297192958236,
          8.427777569441488,
          8.562583209300618,
          8.697388849159747,
          8.832194489018876,
          8.967000128878006,
          9.101805768737135,
          9.236611408596266,
          9.371417048455395,
          9.506222688314525,
          9.641028328173654,
          9.775833968032783,
          9.910639607891913,
          10.045445247751042,
          10.180250887610171,
          10.3150565274693,
          10.44986216732843,
          10.584667807187559,
          10.719473447046688,
          10.854279086905818,
          10.989084726764947
         ],
         "yaxis": "y"
        },
        {
         "fill": "toself",
         "fillcolor": "rgba(250,196,132, 0.15)",
         "line": {
          "color": "rgba(250,196,132, 0.15)",
          "width": 0
         },
         "mode": "lines",
         "showlegend": false,
         "type": "scatter",
         "x": [
          1.3234848,
          1.5686523244897959,
          1.8138198489795918,
          2.058987373469388,
          2.304154897959184,
          2.54932242244898,
          2.794489946938776,
          3.039657471428572,
          3.2848249959183677,
          3.5299925204081637,
          3.7751600448979596,
          4.020327569387756,
          4.2654950938775515,
          4.5106626183673475,
          4.7558301428571434,
          5.000997667346939,
          5.246165191836735,
          5.491332716326531,
          5.736500240816327,
          5.981667765306123,
          6.226835289795919,
          6.472002814285715,
          6.717170338775511,
          6.962337863265307,
          7.207505387755103,
          7.452672912244899,
          7.697840436734695,
          7.943007961224491,
          8.188175485714286,
          8.433343010204082,
          8.678510534693878,
          8.923678059183674,
          9.16884558367347,
          9.414013108163266,
          9.659180632653062,
          9.904348157142858,
          10.149515681632653,
          10.39468320612245,
          10.639850730612245,
          10.885018255102041,
          11.130185779591837,
          11.375353304081633,
          11.62052082857143,
          11.865688353061225,
          12.110855877551021,
          12.356023402040817,
          12.601190926530613,
          12.846358451020409,
          13.091525975510205,
          13.3366935,
          13.3366935,
          13.091525975510205,
          12.846358451020409,
          12.601190926530613,
          12.356023402040817,
          12.110855877551021,
          11.865688353061225,
          11.62052082857143,
          11.375353304081633,
          11.130185779591837,
          10.885018255102041,
          10.639850730612245,
          10.39468320612245,
          10.149515681632653,
          9.904348157142858,
          9.659180632653062,
          9.414013108163266,
          9.16884558367347,
          8.923678059183674,
          8.678510534693878,
          8.433343010204082,
          8.188175485714286,
          7.943007961224491,
          7.697840436734695,
          7.452672912244899,
          7.207505387755103,
          6.962337863265307,
          6.717170338775511,
          6.472002814285715,
          6.226835289795919,
          5.981667765306123,
          5.736500240816327,
          5.491332716326531,
          5.246165191836735,
          5.000997667346939,
          4.7558301428571434,
          4.5106626183673475,
          4.2654950938775515,
          4.020327569387756,
          3.7751600448979596,
          3.5299925204081637,
          3.2848249959183677,
          3.039657471428572,
          2.794489946938776,
          2.54932242244898,
          2.304154897959184,
          2.058987373469388,
          1.8138198489795918,
          1.5686523244897959,
          1.3234848
         ],
         "xaxis": "x",
         "y": [
          5.1591748553191135,
          5.336852616372083,
          5.514530377425053,
          5.692208138478023,
          5.869885899530992,
          6.047563660583962,
          6.225241421636932,
          6.402919182689901,
          6.58059694374287,
          6.758274704795841,
          6.9359524658488105,
          7.11363022690178,
          7.29130798795475,
          7.46898574900772,
          7.646663510060689,
          7.824341271113659,
          8.00201903216663,
          8.179696793219598,
          8.357374554272567,
          8.535052315325538,
          8.712730076378508,
          8.890407837431479,
          9.068085598484448,
          9.245763359537417,
          9.423441120590386,
          9.601118881643355,
          9.778796642696326,
          9.956474403749297,
          10.134152164802266,
          10.311829925855236,
          10.489507686908205,
          10.667185447961174,
          10.844863209014143,
          11.022540970067114,
          11.200218731120083,
          11.377896492173054,
          11.555574253226023,
          11.733252014278992,
          11.910929775331962,
          12.08860753638493,
          12.266285297437902,
          12.443963058490871,
          12.621640819543842,
          12.799318580596811,
          12.97699634164978,
          13.154674102702751,
          13.33235186375572,
          13.51002962480869,
          13.68770738586166,
          13.86538514691463,
          8.698281460573263,
          8.597258922143853,
          8.496236383714445,
          8.395213845285037,
          8.294191306855629,
          8.19316876842622,
          8.09214622999681,
          7.991123691567402,
          7.890101153137994,
          7.789078614708586,
          7.688056076279176,
          7.587033537849768,
          7.48601099942036,
          7.384988460990952,
          7.283965922561544,
          7.182943384132135,
          7.081920845702726,
          6.980898307273318,
          6.87987576884391,
          6.778853230414501,
          6.6778306919850925,
          6.5768081535556835,
          6.475785615126275,
          6.374763076696867,
          6.273740538267459,
          6.17271799983805,
          6.071695461408641,
          5.970672922979233,
          5.869650384549825,
          5.768627846120417,
          5.667605307691008,
          5.566582769261599,
          5.465560230832191,
          5.3645376924027826,
          5.263515153973374,
          5.162492615543965,
          5.061470077114556,
          4.960447538685148,
          4.85942500025574,
          4.758402461826331,
          4.657379923396923,
          4.556357384967514,
          4.455334846538106,
          4.354312308108698,
          4.253289769679289,
          4.152267231249881,
          4.051244692820472,
          3.9502221543910636,
          3.849199615961655,
          3.7481770775322465
         ],
         "yaxis": "y"
        },
        {
         "error_y": {
          "array": [
           0.6786766499999999,
           1.0265408000000003,
           1.4867377499999996,
           2.195014499999999,
           2.273492750000001,
           2.6835325
          ],
          "arrayminus": [
           0.59786435,
           0.8010825500000003,
           1.0149979,
           1.8334722500000007,
           2.1690934499999983,
           1.9354244999999999
          ],
          "color": "rgb(250,196,132)",
          "thickness": 3,
          "type": "data",
          "visible": true,
          "width": 0
         },
         "marker": {
          "color": "rgb(250,196,132)",
          "line": {
           "color": "rgb(250,196,132)",
           "width": 3
          },
          "size": 8,
          "symbol": "square"
         },
         "mode": "markers",
         "showlegend": false,
         "type": "scatter",
         "x": [
          1.3234848,
          3.0749315,
          4.92023375,
          7.31915865,
          10.157444,
          13.3366935
         ],
         "xaxis": "x",
         "y": [
          4.39394875,
          5.1968597,
          6.27684015,
          8.1338605,
          9.2879315,
          10.7737845
         ],
         "yaxis": "y"
        },
        {
         "legendgroup": "iPCS",
         "line": {
          "color": "rgb(235,127,134)",
          "width": 3
         },
         "mode": "lines",
         "name": "iPCS",
         "showlegend": false,
         "type": "scatter",
         "x": [
          1.58143385,
          1.8233757357142857,
          2.0653176214285716,
          2.307259507142857,
          2.549201392857143,
          2.7911432785714285,
          3.0330851642857146,
          3.2750270500000003,
          3.516968935714286,
          3.7589108214285716,
          4.000852707142857,
          4.242794592857143,
          4.4847364785714285,
          4.726678364285714,
          4.96862025,
          5.2105621357142855,
          5.452504021428571,
          5.694445907142857,
          5.9363877928571425,
          6.178329678571428,
          6.420271564285714,
          6.662213449999999,
          6.904155335714285,
          7.146097221428571,
          7.388039107142857,
          7.629980992857143,
          7.871922878571429,
          8.113864764285715,
          8.35580665,
          8.597748535714286,
          8.839690421428571,
          9.081632307142858,
          9.323574192857143,
          9.565516078571429,
          9.807457964285714,
          10.04939985,
          10.291341735714285,
          10.533283621428572,
          10.775225507142856,
          11.017167392857143,
          11.259109278571428,
          11.501051164285714,
          11.742993049999999,
          11.984934935714286,
          12.22687682142857,
          12.468818707142857,
          12.710760592857142,
          12.952702478571428,
          13.194644364285715,
          13.43658625
         ],
         "xaxis": "x2",
         "y": [
          4.9871055049648145,
          5.119099261874757,
          5.251093018784698,
          5.383086775694641,
          5.515080532604582,
          5.647074289514524,
          5.779068046424467,
          5.911061803334408,
          6.043055560244349,
          6.175049317154292,
          6.307043074064234,
          6.4390368309741755,
          6.571030587884117,
          6.703024344794059,
          6.8350181017040015,
          6.967011858613944,
          7.099005615523885,
          7.230999372433827,
          7.362993129343769,
          7.494986886253711,
          7.626980643163653,
          7.758974400073594,
          7.890968156983536,
          8.022961913893479,
          8.154955670803421,
          8.286949427713363,
          8.418943184623306,
          8.550936941533248,
          8.682930698443188,
          8.81492445535313,
          8.946918212263071,
          9.078911969173014,
          9.210905726082956,
          9.342899482992898,
          9.47489323990284,
          9.606886996812783,
          9.738880753722723,
          9.870874510632666,
          10.002868267542606,
          10.134862024452548,
          10.26685578136249,
          10.398849538272433,
          10.530843295182375,
          10.662837052092318,
          10.794830809002258,
          10.9268245659122,
          11.058818322822141,
          11.190812079732083,
          11.322805836642027,
          11.454799593551968
         ],
         "yaxis": "y2"
        },
        {
         "fill": "toself",
         "fillcolor": "rgba(235,127,134, 0.15)",
         "line": {
          "color": "rgba(235,127,134, 0.15)",
          "width": 0
         },
         "mode": "lines",
         "showlegend": false,
         "type": "scatter",
         "x": [
          1.58143385,
          1.8233757357142857,
          2.0653176214285716,
          2.307259507142857,
          2.549201392857143,
          2.7911432785714285,
          3.0330851642857146,
          3.2750270500000003,
          3.516968935714286,
          3.7589108214285716,
          4.000852707142857,
          4.242794592857143,
          4.4847364785714285,
          4.726678364285714,
          4.96862025,
          5.2105621357142855,
          5.452504021428571,
          5.694445907142857,
          5.9363877928571425,
          6.178329678571428,
          6.420271564285714,
          6.662213449999999,
          6.904155335714285,
          7.146097221428571,
          7.388039107142857,
          7.629980992857143,
          7.871922878571429,
          8.113864764285715,
          8.35580665,
          8.597748535714286,
          8.839690421428571,
          9.081632307142858,
          9.323574192857143,
          9.565516078571429,
          9.807457964285714,
          10.04939985,
          10.291341735714285,
          10.533283621428572,
          10.775225507142856,
          11.017167392857143,
          11.259109278571428,
          11.501051164285714,
          11.742993049999999,
          11.984934935714286,
          12.22687682142857,
          12.468818707142857,
          12.710760592857142,
          12.952702478571428,
          13.194644364285715,
          13.43658625,
          13.43658625,
          13.194644364285715,
          12.952702478571428,
          12.710760592857142,
          12.468818707142857,
          12.22687682142857,
          11.984934935714286,
          11.742993049999999,
          11.501051164285714,
          11.259109278571428,
          11.017167392857143,
          10.775225507142856,
          10.533283621428572,
          10.291341735714285,
          10.04939985,
          9.807457964285714,
          9.565516078571429,
          9.323574192857143,
          9.081632307142858,
          8.839690421428571,
          8.597748535714286,
          8.35580665,
          8.113864764285715,
          7.871922878571429,
          7.629980992857143,
          7.388039107142857,
          7.146097221428571,
          6.904155335714285,
          6.662213449999999,
          6.420271564285714,
          6.178329678571428,
          5.9363877928571425,
          5.694445907142857,
          5.452504021428571,
          5.2105621357142855,
          4.96862025,
          4.726678364285714,
          4.4847364785714285,
          4.242794592857143,
          4.000852707142857,
          3.7589108214285716,
          3.516968935714286,
          3.2750270500000003,
          3.0330851642857146,
          2.7911432785714285,
          2.549201392857143,
          2.307259507142857,
          2.0653176214285716,
          1.8233757357142857,
          1.58143385
         ],
         "xaxis": "x2",
         "y": [
          5.877044514504558,
          6.042393268139718,
          6.207742021774878,
          6.373090775410039,
          6.538439529045199,
          6.703788282680359,
          6.86913703631552,
          7.034485789950681,
          7.19983454358584,
          7.365183297221002,
          7.530532050856161,
          7.695880804491322,
          7.861229558126482,
          8.026578311761643,
          8.191927065396802,
          8.357275819031964,
          8.522624572667123,
          8.687973326302284,
          8.853322079937445,
          9.018670833572605,
          9.184019587207764,
          9.349368340842926,
          9.514717094478087,
          9.680065848113246,
          9.845414601748406,
          10.010763355383567,
          10.176112109018728,
          10.34146086265389,
          10.506809616289047,
          10.672158369924208,
          10.83750712355937,
          11.00285587719453,
          11.168204630829688,
          11.33355338446485,
          11.49890213810001,
          11.664250891735172,
          11.82959964537033,
          11.99494839900549,
          12.160297152640652,
          12.325645906275813,
          12.490994659910971,
          12.656343413546132,
          12.821692167181293,
          12.987040920816455,
          13.152389674451612,
          13.317738428086773,
          13.483087181721935,
          13.648435935357096,
          13.813784688992257,
          13.979133442627415,
          9.418193102522066,
          9.308791660561742,
          9.199390218601417,
          9.089988776641093,
          8.98058733468077,
          8.871185892720444,
          8.761784450760121,
          8.652383008799797,
          8.542981566839472,
          8.433580124879148,
          8.324178682918824,
          8.2147772409585,
          8.105375798998177,
          7.995974357037852,
          7.886572915077528,
          7.777171473117203,
          7.667770031156879,
          7.558368589196554,
          7.448967147236232,
          7.339565705275907,
          7.230164263315583,
          7.1207628213552585,
          7.011361379394934,
          6.90195993743461,
          6.792558495474286,
          6.683157053513962,
          6.573755611553637,
          6.464354169593314,
          6.354952727632989,
          6.245551285672665,
          6.1361498437123405,
          6.026748401752016,
          5.917346959791693,
          5.807945517831368,
          5.698544075871045,
          5.58914263391072,
          5.479741191950396,
          5.370339749990071,
          5.260938308029748,
          5.151536866069423,
          5.042135424109099,
          4.9327339821487755,
          4.823332540188451,
          4.713931098228127,
          4.604529656267802,
          4.495128214307478,
          4.385726772347154,
          4.27632533038683,
          4.166923888426505,
          4.057522446466182
         ],
         "yaxis": "y2"
        },
        {
         "error_y": {
          "array": [
           0.9828628999999998,
           0.9519263499999999,
           1.3967088499999996,
           1.5315136500000008,
           2.389729000000001,
           2.4108780000000003
          ],
          "arrayminus": [
           0.8848054000000003,
           1.0844804000000003,
           1.1410418499999997,
           1.6066841499999995,
           1.9229456999999996,
           1.870959000000001
          ],
          "color": "rgb(235,127,134)",
          "thickness": 3,
          "type": "data",
          "visible": true,
          "width": 0
         },
         "marker": {
          "color": "rgb(235,127,134)",
          "line": {
           "color": "rgb(235,127,134)",
           "width": 3
          },
          "size": 8,
          "symbol": "square"
         },
         "mode": "markers",
         "showlegend": false,
         "type": "scatter",
         "x": [
          1.58143385,
          3.142681,
          4.9381089,
          7.341317999999999,
          10.1416315,
          13.43658625
         ],
         "xaxis": "x2",
         "y": [
          4.98447665,
          5.678027,
          6.93213615,
          8.30537685,
          9.6317735,
          11.3769185
         ],
         "yaxis": "y2"
        },
        {
         "legendgroup": "sPCS",
         "line": {
          "color": "rgb(150,0,90)",
          "width": 3
         },
         "mode": "lines",
         "name": "sPCS",
         "showlegend": false,
         "type": "scatter",
         "x": [
          1.44374215,
          1.6857146775510206,
          1.9276872051020408,
          2.169659732653061,
          2.4116322602040814,
          2.6536047877551017,
          2.8955773153061224,
          3.137549842857143,
          3.3795223704081634,
          3.6214948979591837,
          3.863467425510204,
          4.105439953061224,
          4.3474124806122445,
          4.589385008163265,
          4.831357535714286,
          5.073330063265306,
          5.3153025908163265,
          5.557275118367347,
          5.799247645918367,
          6.041220173469387,
          6.283192701020408,
          6.525165228571429,
          6.767137756122449,
          7.009110283673469,
          7.25108281122449,
          7.49305533877551,
          7.73502786632653,
          7.97700039387755,
          8.218972921428572,
          8.460945448979592,
          8.702917976530612,
          8.944890504081632,
          9.186863031632653,
          9.428835559183673,
          9.670808086734693,
          9.912780614285714,
          10.154753141836734,
          10.396725669387754,
          10.638698196938774,
          10.880670724489795,
          11.122643252040815,
          11.364615779591837,
          11.606588307142857,
          11.848560834693878,
          12.090533362244898,
          12.332505889795918,
          12.574478417346938,
          12.816450944897959,
          13.058423472448979,
          13.300396
         ],
         "xaxis": "x2",
         "y": [
          5.125042737024562,
          5.258283415402877,
          5.391524093781192,
          5.524764772159507,
          5.658005450537822,
          5.791246128916137,
          5.9244868072944525,
          6.057727485672768,
          6.190968164051083,
          6.324208842429398,
          6.457449520807713,
          6.590690199186028,
          6.723930877564343,
          6.857171555942658,
          6.990412234320973,
          7.1236529126992885,
          7.256893591077604,
          7.390134269455919,
          7.523374947834234,
          7.656615626212549,
          7.789856304590863,
          7.923096982969179,
          8.056337661347495,
          8.18957833972581,
          8.322819018104124,
          8.45605969648244,
          8.589300374860755,
          8.72254105323907,
          8.855781731617384,
          8.9890224099957,
          9.122263088374016,
          9.25550376675233,
          9.388744445130644,
          9.521985123508959,
          9.655225801887275,
          9.78846648026559,
          9.921707158643905,
          10.054947837022219,
          10.188188515400535,
          10.321429193778851,
          10.454669872157165,
          10.587910550535481,
          10.721151228913797,
          10.854391907292111,
          10.987632585670426,
          11.12087326404874,
          11.254113942427056,
          11.387354620805372,
          11.520595299183686,
          11.653835977562
         ],
         "yaxis": "y2"
        },
        {
         "fill": "toself",
         "fillcolor": "rgba(150,0,90, 0.15)",
         "line": {
          "color": "rgba(150,0,90, 0.15)",
          "width": 0
         },
         "mode": "lines",
         "showlegend": false,
         "type": "scatter",
         "x": [
          1.44374215,
          1.6857146775510206,
          1.9276872051020408,
          2.169659732653061,
          2.4116322602040814,
          2.6536047877551017,
          2.8955773153061224,
          3.137549842857143,
          3.3795223704081634,
          3.6214948979591837,
          3.863467425510204,
          4.105439953061224,
          4.3474124806122445,
          4.589385008163265,
          4.831357535714286,
          5.073330063265306,
          5.3153025908163265,
          5.557275118367347,
          5.799247645918367,
          6.041220173469387,
          6.283192701020408,
          6.525165228571429,
          6.767137756122449,
          7.009110283673469,
          7.25108281122449,
          7.49305533877551,
          7.73502786632653,
          7.97700039387755,
          8.218972921428572,
          8.460945448979592,
          8.702917976530612,
          8.944890504081632,
          9.186863031632653,
          9.428835559183673,
          9.670808086734693,
          9.912780614285714,
          10.154753141836734,
          10.396725669387754,
          10.638698196938774,
          10.880670724489795,
          11.122643252040815,
          11.364615779591837,
          11.606588307142857,
          11.848560834693878,
          12.090533362244898,
          12.332505889795918,
          12.574478417346938,
          12.816450944897959,
          13.058423472448979,
          13.300396,
          13.300396,
          13.058423472448979,
          12.816450944897959,
          12.574478417346938,
          12.332505889795918,
          12.090533362244898,
          11.848560834693878,
          11.606588307142857,
          11.364615779591837,
          11.122643252040815,
          10.880670724489795,
          10.638698196938774,
          10.396725669387754,
          10.154753141836734,
          9.912780614285714,
          9.670808086734693,
          9.428835559183673,
          9.186863031632653,
          8.944890504081632,
          8.702917976530612,
          8.460945448979592,
          8.218972921428572,
          7.97700039387755,
          7.73502786632653,
          7.49305533877551,
          7.25108281122449,
          7.009110283673469,
          6.767137756122449,
          6.525165228571429,
          6.283192701020408,
          6.041220173469387,
          5.799247645918367,
          5.557275118367347,
          5.3153025908163265,
          5.073330063265306,
          4.831357535714286,
          4.589385008163265,
          4.3474124806122445,
          4.105439953061224,
          3.863467425510204,
          3.6214948979591837,
          3.3795223704081634,
          3.137549842857143,
          2.8955773153061224,
          2.6536047877551017,
          2.4116322602040814,
          2.169659732653061,
          1.9276872051020408,
          1.6857146775510206,
          1.44374215
         ],
         "xaxis": "x2",
         "y": [
          6.341533424029704,
          6.500158852294945,
          6.658784280560185,
          6.817409708825425,
          6.976035137090665,
          7.1346605653559045,
          7.2932859936211445,
          7.4519114218863844,
          7.610536850151625,
          7.769162278416864,
          7.927787706682105,
          8.086413134947344,
          8.245038563212585,
          8.403663991477824,
          8.562289419743065,
          8.720914848008306,
          8.879540276273545,
          9.038165704538786,
          9.196791132804025,
          9.355416561069266,
          9.514041989334505,
          9.672667417599746,
          9.831292845864986,
          9.989918274130225,
          10.148543702395465,
          10.307169130660705,
          10.465794558925946,
          10.624419987191185,
          10.783045415456426,
          10.941670843721667,
          11.100296271986906,
          11.258921700252145,
          11.417547128517386,
          11.576172556782627,
          11.734797985047866,
          11.893423413313105,
          12.052048841578346,
          12.210674269843587,
          12.369299698108826,
          12.527925126374065,
          12.686550554639306,
          12.845175982904546,
          13.003801411169787,
          13.162426839435028,
          13.321052267700267,
          13.479677695965506,
          13.638303124230745,
          13.796928552495988,
          13.955553980761227,
          14.114179409026466,
          9.45844959372197,
          9.352585586533802,
          9.246721579345639,
          9.140857572157472,
          9.034993564969309,
          8.929129557781142,
          8.823265550592978,
          8.717401543404812,
          8.611537536216648,
          8.505673529028481,
          8.399809521840318,
          8.293945514652151,
          8.188081507463988,
          8.08221750027582,
          7.9763534930876565,
          7.870489485899491,
          7.764625478711326,
          7.658761471523161,
          7.552897464334996,
          7.447033457146831,
          7.341169449958666,
          7.235305442770501,
          7.129441435582335,
          7.023577428394169,
          6.917713421206004,
          6.811849414017839,
          6.705985406829674,
          6.600121399641509,
          6.494257392453344,
          6.388393385265179,
          6.2825293780770135,
          6.176665370888848,
          6.070801363700683,
          5.964937356512518,
          5.859073349324353,
          5.753209342136188,
          5.647345334948023,
          5.541481327759858,
          5.4356173205716924,
          5.329753313383527,
          5.223889306195362,
          5.118025299007197,
          5.012161291819032,
          4.906297284630867,
          4.800433277442702,
          4.6945692702545365,
          4.588705263066371,
          4.482841255878206,
          4.376977248690041,
          4.271113241501876
         ],
         "yaxis": "y2"
        },
        {
         "error_y": {
          "array": [
           1.1170855,
           1.2503169500000002,
           1.5909287500000007,
           2.1710994999999986,
           2.694817499999999,
           2.0094534999999993
          ],
          "arrayminus": [
           0.7179564999999997,
           1.03887235,
           1.2904035499999988,
           1.736190350000001,
           2.1759644000000007,
           1.893376
          ],
          "color": "rgb(150,0,90)",
          "thickness": 3,
          "type": "data",
          "visible": true,
          "width": 0
         },
         "marker": {
          "color": "rgb(150,0,90)",
          "line": {
           "color": "rgb(150,0,90)",
           "width": 3
          },
          "size": 8,
          "symbol": "square"
         },
         "mode": "markers",
         "showlegend": false,
         "type": "scatter",
         "x": [
          1.44374215,
          3.12612045,
          4.98297135,
          7.25507065,
          10.12734,
          13.300396
         ],
         "xaxis": "x2",
         "y": [
          4.816687,
          6.15429915,
          7.305417999999999,
          8.701057500000001,
          9.877074,
          11.4076915
         ],
         "yaxis": "y2"
        },
        {
         "legendgroup": "mPCS",
         "line": {
          "color": "rgb(0,0,200)",
          "width": 3
         },
         "mode": "lines",
         "name": "mPCS",
         "showlegend": false,
         "type": "scatter",
         "x": [
          1.48934775,
          1.7321586530612245,
          1.974969556122449,
          2.2177804591836736,
          2.460591362244898,
          2.7034022653061225,
          2.946213168367347,
          3.1890240714285714,
          3.431834974489796,
          3.6746458775510202,
          3.9174567806122447,
          4.160267683673469,
          4.4030785867346935,
          4.645889489795918,
          4.888700392857142,
          5.131511295918367,
          5.374322198979591,
          5.617133102040817,
          5.859944005102041,
          6.1027549081632655,
          6.34556581122449,
          6.588376714285714,
          6.831187617346939,
          7.073998520408163,
          7.316809423469388,
          7.559620326530612,
          7.8024312295918365,
          8.04524213265306,
          8.288053035714285,
          8.530863938775509,
          8.773674841836733,
          9.016485744897958,
          9.259296647959182,
          9.502107551020408,
          9.744918454081633,
          9.987729357142857,
          10.230540260204082,
          10.473351163265306,
          10.71616206632653,
          10.958972969387755,
          11.20178387244898,
          11.444594775510204,
          11.687405678571428,
          11.930216581632653,
          12.173027484693877,
          12.415838387755102,
          12.658649290816326,
          12.90146019387755,
          13.144271096938775,
          13.387082
         ],
         "xaxis": "x2",
         "y": [
          4.378667304091339,
          4.5240055400779395,
          4.66934377606454,
          4.814682012051141,
          4.9600202480377416,
          5.105358484024343,
          5.250696720010944,
          5.3960349559975445,
          5.541373191984145,
          5.686711427970746,
          5.832049663957347,
          5.977387899943947,
          6.122726135930549,
          6.2680643719171485,
          6.41340260790375,
          6.558740843890351,
          6.704079079876951,
          6.849417315863553,
          6.994755551850154,
          7.140093787836754,
          7.285432023823356,
          7.430770259809956,
          7.576108495796557,
          7.721446731783158,
          7.8667849677697586,
          8.01212320375636,
          8.15746143974296,
          8.30279967572956,
          8.448137911716161,
          8.593476147702763,
          8.738814383689363,
          8.884152619675964,
          9.029490855662566,
          9.174829091649165,
          9.320167327635767,
          9.465505563622369,
          9.610843799608968,
          9.75618203559557,
          9.901520271582172,
          10.046858507568771,
          10.192196743555371,
          10.337534979541973,
          10.482873215528574,
          10.628211451515174,
          10.773549687501776,
          10.918887923488377,
          11.064226159474977,
          11.209564395461577,
          11.354902631448178,
          11.50024086743478
         ],
         "yaxis": "y2"
        },
        {
         "fill": "toself",
         "fillcolor": "rgba(0,0,200, 0.15)",
         "line": {
          "color": "rgba(0,0,200, 0.15)",
          "width": 0
         },
         "mode": "lines",
         "showlegend": false,
         "type": "scatter",
         "x": [
          1.48934775,
          1.7321586530612245,
          1.974969556122449,
          2.2177804591836736,
          2.460591362244898,
          2.7034022653061225,
          2.946213168367347,
          3.1890240714285714,
          3.431834974489796,
          3.6746458775510202,
          3.9174567806122447,
          4.160267683673469,
          4.4030785867346935,
          4.645889489795918,
          4.888700392857142,
          5.131511295918367,
          5.374322198979591,
          5.617133102040817,
          5.859944005102041,
          6.1027549081632655,
          6.34556581122449,
          6.588376714285714,
          6.831187617346939,
          7.073998520408163,
          7.316809423469388,
          7.559620326530612,
          7.8024312295918365,
          8.04524213265306,
          8.288053035714285,
          8.530863938775509,
          8.773674841836733,
          9.016485744897958,
          9.259296647959182,
          9.502107551020408,
          9.744918454081633,
          9.987729357142857,
          10.230540260204082,
          10.473351163265306,
          10.71616206632653,
          10.958972969387755,
          11.20178387244898,
          11.444594775510204,
          11.687405678571428,
          11.930216581632653,
          12.173027484693877,
          12.415838387755102,
          12.658649290816326,
          12.90146019387755,
          13.144271096938775,
          13.387082,
          13.387082,
          13.144271096938775,
          12.90146019387755,
          12.658649290816326,
          12.415838387755102,
          12.173027484693877,
          11.930216581632653,
          11.687405678571428,
          11.444594775510204,
          11.20178387244898,
          10.958972969387755,
          10.71616206632653,
          10.473351163265306,
          10.230540260204082,
          9.987729357142857,
          9.744918454081633,
          9.502107551020408,
          9.259296647959182,
          9.016485744897958,
          8.773674841836733,
          8.530863938775509,
          8.288053035714285,
          8.04524213265306,
          7.8024312295918365,
          7.559620326530612,
          7.316809423469388,
          7.073998520408163,
          6.831187617346939,
          6.588376714285714,
          6.34556581122449,
          6.1027549081632655,
          5.859944005102041,
          5.617133102040817,
          5.374322198979591,
          5.131511295918367,
          4.888700392857142,
          4.645889489795918,
          4.4030785867346935,
          4.160267683673469,
          3.9174567806122447,
          3.6746458775510202,
          3.431834974489796,
          3.1890240714285714,
          2.946213168367347,
          2.7034022653061225,
          2.460591362244898,
          2.2177804591836736,
          1.974969556122449,
          1.7321586530612245,
          1.48934775
         ],
         "xaxis": "x2",
         "y": [
          5.655578775378528,
          5.839973233710536,
          6.024367692042544,
          6.208762150374552,
          6.393156608706559,
          6.577551067038567,
          6.7619455253705745,
          6.9463399837025825,
          7.130734442034591,
          7.315128900366599,
          7.499523358698607,
          7.683917817030614,
          7.868312275362621,
          8.05270673369463,
          8.237101192026637,
          8.421495650358645,
          8.605890108690652,
          8.790284567022661,
          8.974679025354668,
          9.159073483686676,
          9.343467942018684,
          9.527862400350692,
          9.7122568586827,
          9.896651317014708,
          10.081045775346716,
          10.265440233678724,
          10.449834692010732,
          10.634229150342739,
          10.818623608674745,
          11.003018067006753,
          11.187412525338761,
          11.37180698367077,
          11.556201442002777,
          11.740595900334785,
          11.924990358666793,
          12.109384816998801,
          12.29377927533081,
          12.478173733662818,
          12.662568191994826,
          12.846962650326834,
          13.031357108658842,
          13.215751566990848,
          13.400146025322856,
          13.584540483654864,
          13.768934941986872,
          13.95332940031888,
          14.137723858650888,
          14.322118316982895,
          14.506512775314903,
          14.69090723364691,
          9.123032621841155,
          9.009011179962533,
          8.89498973808391,
          8.780968296205286,
          8.666946854326664,
          8.55292541244804,
          8.438903970569417,
          8.324882528690795,
          8.210861086812171,
          8.096839644933548,
          7.982818203054926,
          7.868796761176302,
          7.7547753192976785,
          7.640753877419057,
          7.526732435540433,
          7.412710993661809,
          7.298689551783188,
          7.184668109904562,
          7.07064666802594,
          6.956625226147317,
          6.842603784268693,
          6.728582342390071,
          6.614560900511448,
          6.500539458632826,
          6.386518016754202,
          6.2724965748755785,
          6.158475132996956,
          6.044453691118333,
          5.9304322492397095,
          5.816410807361087,
          5.702389365482464,
          5.58836792360384,
          5.474346481725218,
          5.360325039846594,
          5.246303597967971,
          5.132282156089348,
          5.018260714210725,
          4.904239272332102,
          4.790217830453479,
          4.676196388574856,
          4.562174946696233,
          4.4481535048176095,
          4.334132062938987,
          4.220110621060364,
          4.10608917918174,
          3.9920677373031177,
          3.8780462954244945,
          3.7640248535458714,
          3.6500034116672486,
          3.5359819697886254
         ],
         "yaxis": "y2"
        },
        {
         "error_y": {
          "array": [
           1.0621808000000001,
           1.46711365,
           2.3475667000000007,
           2.0670810000000017,
           3.175494500000001,
           2.8706464999999994
          ],
          "arrayminus": [
           0.6274798000000001,
           1.086513000000001,
           1.626589,
           1.5829188499999987,
           2.262409699999999,
           2.131681500000001
          ],
          "color": "rgb(0,0,200)",
          "thickness": 3,
          "type": "data",
          "visible": true,
          "width": 0
         },
         "marker": {
          "color": "rgb(0,0,200)",
          "line": {
           "color": "rgb(0,0,200)",
           "width": 3
          },
          "size": 8,
          "symbol": "square"
         },
         "mode": "markers",
         "showlegend": false,
         "type": "scatter",
         "x": [
          1.48934775,
          3.21047365,
          5.021437000000001,
          7.37727925,
          10.102833,
          13.387082
         ],
         "xaxis": "x2",
         "y": [
          4.3268483,
          5.3709645,
          6.5080658,
          8.250115999999998,
          9.2576655,
          11.483819
         ],
         "yaxis": "y2"
        }
       ],
       "layout": {
        "annotations": [
         {
          "font": {
           "color": "rgb(243,231,155)",
           "family": "Arial",
           "size": 15
          },
          "showarrow": false,
          "text": "iIPS",
          "x": 1,
          "xanchor": "left",
          "xref": "x",
          "y": 15,
          "yref": "y"
         },
         {
          "font": {
           "color": "rgb(250,196,132)",
           "family": "Arial",
           "size": 15
          },
          "showarrow": false,
          "text": "sIPS",
          "x": 1,
          "xanchor": "left",
          "xref": "x",
          "y": 13.5,
          "yref": "y"
         },
         {
          "font": {
           "color": "rgb(235,127,134)",
           "family": "Arial",
           "size": 15
          },
          "showarrow": false,
          "text": "iPCS",
          "x": 1,
          "xanchor": "left",
          "xref": "x2",
          "y": 15,
          "yref": "y2"
         },
         {
          "font": {
           "color": "rgb(150,0,90)",
           "family": "Arial",
           "size": 15
          },
          "showarrow": false,
          "text": "sPCS",
          "x": 1,
          "xanchor": "left",
          "xref": "x2",
          "y": 13.5,
          "yref": "y2"
         },
         {
          "font": {
           "color": "rgb(0,0,200)",
           "family": "Arial",
           "size": 15
          },
          "showarrow": false,
          "text": "mPCS",
          "x": 1,
          "xanchor": "left",
          "xref": "x2",
          "y": 12,
          "yref": "y2"
         }
        ],
        "height": 400,
        "margin": {
         "b": 100,
         "l": 100,
         "r": 50,
         "t": 50
        },
        "showlegend": false,
        "template": {
         "data": {
          "barpolar": [
           {
            "marker": {
             "line": {
              "color": "rgba(0, 0, 0, 1)",
              "width": 1.5
             }
            },
            "showlegend": false,
            "type": "barpolar"
           }
          ],
          "pie": [
           {
            "direction": "clockwise",
            "hole": 0.4,
            "marker": {
             "line": {
              "width": 0
             }
            },
            "rotation": 0,
            "sort": false,
            "textposition": [
             "inside",
             "none"
            ],
            "type": "pie"
           }
          ],
          "violin": [
           {
            "box": {
             "visible": false
            },
            "hoveron": "violins",
            "line": {
             "color": "rgba(0, 0, 0, 1)",
             "width": 1.5
            },
            "meanline": {
             "visible": false
            },
            "points": false,
            "showlegend": false,
            "type": "violin",
            "width": 0.8
           }
          ]
         },
         "layout": {
          "annotationdefaults": {
           "font": {
            "color": "rgba(0, 0, 0, 1)",
            "family": "Arial",
            "size": 15
           }
          },
          "font": {
           "family": "Arial",
           "size": 15
          },
          "plot_bgcolor": "rgba(255, 255, 255, 1)",
          "polar": {
           "angularaxis": {
            "showticklabels": false,
            "ticks": "",
            "visible": false
           },
           "radialaxis": {
            "showticklabels": false,
            "ticks": "",
            "visible": false
           }
          },
          "xaxis": {
           "color": "rgba(0, 0, 0, 1)",
           "hoverformat": ".1f",
           "linewidth": 2,
           "showgrid": false,
           "tickfont": {
            "family": "Arial",
            "size": 15
           },
           "ticklen": 8,
           "ticks": "outside",
           "tickwidth": 2,
           "title": {
            "font": {
             "family": "Arial",
             "size": 15
            }
           },
           "visible": true,
           "zeroline": false,
           "zerolinecolor": "rgba(0, 0, 0, 1)",
           "zerolinewidth": 2
          },
          "yaxis": {
           "color": "rgba(0, 0, 0, 1)",
           "hoverformat": ".1f",
           "linewidth": 2,
           "showgrid": false,
           "tickfont": {
            "family": "Arial",
            "size": 15
           },
           "ticklen": 8,
           "ticks": "outside",
           "tickwidth": 2,
           "title": {
            "font": {
             "family": "Arial",
             "size": 15
            }
           },
           "visible": true,
           "zeroline": false,
           "zerolinecolor": "rgba(0, 0, 0, 1)",
           "zerolinewidth": 2
          }
         }
        },
        "width": 1440,
        "xaxis": {
         "anchor": "y",
         "domain": [
          0,
          0.45
         ],
         "range": [
          0,
          15
         ],
         "showline": true,
         "title": {
          "text": "pRF eccentricity (dva)"
         },
         "type": "linear"
        },
        "xaxis2": {
         "anchor": "y2",
         "domain": [
          0.55,
          1
         ],
         "range": [
          0,
          15
         ],
         "showline": true,
         "title": {
          "text": "pRF eccentricity (dva)"
         },
         "type": "linear"
        },
        "yaxis": {
         "anchor": "x",
         "domain": [
          0,
          1
         ],
         "range": [
          0,
          15
         ],
         "showline": true,
         "title": {
          "text": "pRF size (dva)"
         },
         "type": "linear"
        },
        "yaxis2": {
         "anchor": "x2",
         "domain": [
          0,
          1
         ],
         "range": [
          0,
          15
         ],
         "showline": true,
         "type": "linear"
        }
       }
      },
      "image/png": "[encoded data removed]",
      "text/html": [
       "<div>                            <div id=\"846f0ddc-7ab3-4564-be62-203923ebcca6\" class=\"plotly-graph-div\" style=\"height:400px; width:1440px;\"></div>            <script type=\"text/javascript\">                require([\"plotly\"], function(Plotly) {                    window.PLOTLYENV=window.PLOTLYENV || {};                                    if (document.getElementById(\"846f0ddc-7ab3-4564-be62-203923ebcca6\")) {                    Plotly.newPlot(                        \"846f0ddc-7ab3-4564-be62-203923ebcca6\",                        [{\"legendgroup\":\"iIPS\",\"line\":{\"color\":\"rgb(243,231,155)\",\"width\":3},\"mode\":\"lines\",\"name\":\"iIPS\",\"showlegend\":false,\"x\":[1.422941,1.6660424591836736,1.9091439183673469,2.1522453775510204,2.395346836734694,2.6384482959183675,2.881549755102041,3.124651214285714,3.3677526734693877,3.6108541326530608,3.8539555918367343,4.097057051020408,4.340158510204081,4.583259969387755,4.8263614285714285,5.069462887755102,5.3125643469387756,5.555665806122448,5.798767265306122,6.041868724489795,6.284970183673469,6.528071642857142,6.771173102040816,7.0142745612244894,7.257376020408163,7.5004774795918365,7.74357893877551,7.986680397959183,8.229781857142857,8.47288331632653,8.715984775510204,8.959086234693878,9.202187693877551,9.445289153061223,9.688390612244897,9.93149207142857,10.174593530612244,10.417694989795917,10.66079644897959,10.903897908163264,11.146999367346938,11.390100826530611,11.633202285714285,11.876303744897958,12.119405204081632,12.362506663265306,12.605608122448979,12.848709581632653,13.091811040816326,13.3349125],\"y\":[3.6626634775513587,3.7515753598270054,3.840487242102652,3.9293991243782984,4.018311006653945,4.107222888929591,4.196134771205238,4.285046653480885,4.373958535756531,4.462870418032177,4.551782300307824,4.64069418258347,4.729606064859118,4.8185179471347634,4.90742982941041,4.996341711686057,5.085253593961703,5.1741654762373495,5.263077358512996,5.351989240788642,5.44090112306429,5.5298130053399355,5.618724887615582,5.707636769891229,5.796548652166875,5.885460534442522,5.974372416718168,6.063284298993814,6.152196181269462,6.2411080635451075,6.330019945820755,6.418931828096401,6.507843710372048,6.5967555926476935,6.68566747492334,6.774579357198987,6.863491239474634,6.9524031217502795,7.041315004025926,7.130226886301573,7.21913876857722,7.308050650852866,7.396962533128512,7.485874415404159,7.574786297679806,7.663698179955452,7.752610062231099,7.841521944506745,7.930433826782392,8.019345709058038],\"type\":\"scatter\",\"xaxis\":\"x\",\"yaxis\":\"y\"},{\"fill\":\"toself\",\"fillcolor\":\"rgba(243,231,155, 0.15)\",\"line\":{\"color\":\"rgba(243,231,155, 0.15)\",\"width\":0},\"mode\":\"lines\",\"showlegend\":false,\"x\":[1.422941,1.6660424591836736,1.9091439183673469,2.1522453775510204,2.395346836734694,2.6384482959183675,2.881549755102041,3.124651214285714,3.3677526734693877,3.6108541326530608,3.8539555918367343,4.097057051020408,4.340158510204081,4.583259969387755,4.8263614285714285,5.069462887755102,5.3125643469387756,5.555665806122448,5.798767265306122,6.041868724489795,6.284970183673469,6.528071642857142,6.771173102040816,7.0142745612244894,7.257376020408163,7.5004774795918365,7.74357893877551,7.986680397959183,8.229781857142857,8.47288331632653,8.715984775510204,8.959086234693878,9.202187693877551,9.445289153061223,9.688390612244897,9.93149207142857,10.174593530612244,10.417694989795917,10.66079644897959,10.903897908163264,11.146999367346938,11.390100826530611,11.633202285714285,11.876303744897958,12.119405204081632,12.362506663265306,12.605608122448979,12.848709581632653,13.091811040816326,13.3349125,13.3349125,13.091811040816326,12.848709581632653,12.605608122448979,12.362506663265306,12.119405204081632,11.876303744897958,11.633202285714285,11.390100826530611,11.146999367346938,10.903897908163264,10.66079644897959,10.417694989795917,10.174593530612244,9.93149207142857,9.688390612244897,9.445289153061223,9.202187693877551,8.959086234693878,8.715984775510204,8.47288331632653,8.229781857142857,7.986680397959183,7.74357893877551,7.5004774795918365,7.257376020408163,7.0142745612244894,6.771173102040816,6.528071642857142,6.284970183673469,6.041868724489795,5.798767265306122,5.555665806122448,5.3125643469387756,5.069462887755102,4.8263614285714285,4.583259969387755,4.340158510204081,4.097057051020408,3.8539555918367343,3.6108541326530608,3.3677526734693877,3.124651214285714,2.881549755102041,2.6384482959183675,2.395346836734694,2.1522453775510204,1.9091439183673469,1.6660424591836736,1.422941],\"y\":[4.438061830348438,4.572570629521468,4.707079428694498,4.841588227867527,4.976097027040558,5.110605826213588,5.245114625386618,5.3796234245596475,5.514132223732677,5.648641022905707,5.783149822078737,5.917658621251768,6.052167420424797,6.186676219597827,6.321185018770857,6.455693817943887,6.590202617116917,6.724711416289947,6.859220215462976,6.993729014636006,7.1282378138090365,7.262746612982067,7.397255412155097,7.5317642113281265,7.666273010501157,7.800781809674187,7.935290608847216,8.069799408020245,8.204308207193277,8.338817006366305,8.473325805539336,8.607834604712366,8.742343403885396,8.876852203058426,9.011361002231457,9.145869801404485,9.280378600577516,9.414887399750546,9.549396198923574,9.683904998096605,9.818413797269635,9.952922596442665,10.087431395615695,10.221940194788726,10.356448993961756,10.490957793134786,10.625466592307816,10.759975391480847,10.894484190653875,11.028992989826905,5.3673088101033795,5.319373782961266,5.271438755819152,5.223503728677039,5.175568701534925,5.127633674392812,5.079698647250699,5.031763620108586,4.983828592966471,4.935893565824358,4.887958538682245,4.8400235115401316,4.792088484398018,4.744153457255905,4.696218430113792,4.648283402971678,4.600348375829565,4.552413348687452,4.504478321545339,4.456543294403225,4.408608267261112,4.360673240118999,4.312738212976885,4.264803185834772,4.216868158692659,4.168933131550546,4.120998104408432,4.073063077266319,4.025128050124205,3.9771930229820915,3.9292579958399783,3.881322968697865,3.8333879415557517,3.7854529144136384,3.737517887271525,3.689582860129412,3.6416478329872985,3.5937128058451853,3.545777778703072,3.4978427515609583,3.449907724418845,3.4019726972767317,3.3540376701346184,3.306102642992505,3.258167615850392,3.2102325887082785,3.162297561566165,3.1143625344240515,3.0664275072819382,3.018492480139825],\"type\":\"scatter\",\"xaxis\":\"x\",\"yaxis\":\"y\"},{\"error_y\":{\"array\":[0.49001174999999986,1.0994640999999996,1.8119744999999998,2.2417407999999996,1.9703189500000002,2.8663310000000024],\"arrayminus\":[0.4755469000000003,0.88724435,1.4320375499999995,1.8162895500000005,2.3367005,2.2911269999999995],\"color\":\"rgb(243,231,155)\",\"thickness\":3,\"type\":\"data\",\"visible\":true,\"width\":0},\"marker\":{\"color\":\"rgb(243,231,155)\",\"line\":{\"color\":\"rgb(243,231,155)\",\"width\":3},\"size\":8,\"symbol\":\"square\"},\"mode\":\"markers\",\"showlegend\":false,\"x\":[1.422941,3.0753361000000004,4.879797,7.233397500000001,10.035343,13.3349125],\"y\":[4.09508425,4.2745619,4.3525107,5.2559155,7.0905768,8.432315],\"type\":\"scatter\",\"xaxis\":\"x\",\"yaxis\":\"y\"},{\"legendgroup\":\"sIPS\",\"line\":{\"color\":\"rgb(250,196,132)\",\"width\":3},\"mode\":\"lines\",\"name\":\"sIPS\",\"showlegend\":false,\"x\":[1.3234848,1.5686523244897959,1.8138198489795918,2.058987373469388,2.304154897959184,2.54932242244898,2.794489946938776,3.039657471428572,3.2848249959183677,3.5299925204081637,3.7751600448979596,4.020327569387756,4.2654950938775515,4.5106626183673475,4.7558301428571434,5.000997667346939,5.246165191836735,5.491332716326531,5.736500240816327,5.981667765306123,6.226835289795919,6.472002814285715,6.717170338775511,6.962337863265307,7.207505387755103,7.452672912244899,7.697840436734695,7.943007961224491,8.188175485714286,8.433343010204082,8.678510534693878,8.923678059183674,9.16884558367347,9.414013108163266,9.659180632653062,9.904348157142858,10.149515681632653,10.39468320612245,10.639850730612245,10.885018255102041,11.130185779591837,11.375353304081633,11.62052082857143,11.865688353061225,12.110855877551021,12.356023402040817,12.601190926530613,12.846358451020409,13.091525975510205,13.3366935],\"y\":[4.3836083736676095,4.518414013526739,4.653219653385868,4.788025293244998,4.922830933104128,5.057636572963257,5.192442212822386,5.3272478526815155,5.462053492540645,5.596859132399774,5.731664772258903,5.866470412118033,6.001276051977162,6.136081691836291,6.270887331695421,6.40569297155455,6.540498611413679,6.6753042512728085,6.810109891131938,6.944915530991067,7.079721170850196,7.214526810709326,7.349332450568455,7.484138090427584,7.618943730286714,7.753749370145844,7.888555010004973,8.023360649864102,8.15816628972323,8.29297192958236,8.427777569441488,8.562583209300618,8.697388849159747,8.832194489018876,8.967000128878006,9.101805768737135,9.236611408596266,9.371417048455395,9.506222688314525,9.641028328173654,9.775833968032783,9.910639607891913,10.045445247751042,10.180250887610171,10.3150565274693,10.44986216732843,10.584667807187559,10.719473447046688,10.854279086905818,10.989084726764947],\"type\":\"scatter\",\"xaxis\":\"x\",\"yaxis\":\"y\"},{\"fill\":\"toself\",\"fillcolor\":\"rgba(250,196,132, 0.15)\",\"line\":{\"color\":\"rgba(250,196,132, 0.15)\",\"width\":0},\"mode\":\"lines\",\"showlegend\":false,\"x\":[1.3234848,1.5686523244897959,1.8138198489795918,2.058987373469388,2.304154897959184,2.54932242244898,2.794489946938776,3.039657471428572,3.2848249959183677,3.5299925204081637,3.7751600448979596,4.020327569387756,4.2654950938775515,4.5106626183673475,4.7558301428571434,5.000997667346939,5.246165191836735,5.491332716326531,5.736500240816327,5.981667765306123,6.226835289795919,6.472002814285715,6.717170338775511,6.962337863265307,7.207505387755103,7.452672912244899,7.697840436734695,7.943007961224491,8.188175485714286,8.433343010204082,8.678510534693878,8.923678059183674,9.16884558367347,9.414013108163266,9.659180632653062,9.904348157142858,10.149515681632653,10.39468320612245,10.639850730612245,10.885018255102041,11.130185779591837,11.375353304081633,11.62052082857143,11.865688353061225,12.110855877551021,12.356023402040817,12.601190926530613,12.846358451020409,13.091525975510205,13.3366935,13.3366935,13.091525975510205,12.846358451020409,12.601190926530613,12.356023402040817,12.110855877551021,11.865688353061225,11.62052082857143,11.375353304081633,11.130185779591837,10.885018255102041,10.639850730612245,10.39468320612245,10.149515681632653,9.904348157142858,9.659180632653062,9.414013108163266,9.16884558367347,8.923678059183674,8.678510534693878,8.433343010204082,8.188175485714286,7.943007961224491,7.697840436734695,7.452672912244899,7.207505387755103,6.962337863265307,6.717170338775511,6.472002814285715,6.226835289795919,5.981667765306123,5.736500240816327,5.491332716326531,5.246165191836735,5.000997667346939,4.7558301428571434,4.5106626183673475,4.2654950938775515,4.020327569387756,3.7751600448979596,3.5299925204081637,3.2848249959183677,3.039657471428572,2.794489946938776,2.54932242244898,2.304154897959184,2.058987373469388,1.8138198489795918,1.5686523244897959,1.3234848],\"y\":[5.1591748553191135,5.336852616372083,5.514530377425053,5.692208138478023,5.869885899530992,6.047563660583962,6.225241421636932,6.402919182689901,6.58059694374287,6.758274704795841,6.9359524658488105,7.11363022690178,7.29130798795475,7.46898574900772,7.646663510060689,7.824341271113659,8.00201903216663,8.179696793219598,8.357374554272567,8.535052315325538,8.712730076378508,8.890407837431479,9.068085598484448,9.245763359537417,9.423441120590386,9.601118881643355,9.778796642696326,9.956474403749297,10.134152164802266,10.311829925855236,10.489507686908205,10.667185447961174,10.844863209014143,11.022540970067114,11.200218731120083,11.377896492173054,11.555574253226023,11.733252014278992,11.910929775331962,12.08860753638493,12.266285297437902,12.443963058490871,12.621640819543842,12.799318580596811,12.97699634164978,13.154674102702751,13.33235186375572,13.51002962480869,13.68770738586166,13.86538514691463,8.698281460573263,8.597258922143853,8.496236383714445,8.395213845285037,8.294191306855629,8.19316876842622,8.09214622999681,7.991123691567402,7.890101153137994,7.789078614708586,7.688056076279176,7.587033537849768,7.48601099942036,7.384988460990952,7.283965922561544,7.182943384132135,7.081920845702726,6.980898307273318,6.87987576884391,6.778853230414501,6.6778306919850925,6.5768081535556835,6.475785615126275,6.374763076696867,6.273740538267459,6.17271799983805,6.071695461408641,5.970672922979233,5.869650384549825,5.768627846120417,5.667605307691008,5.566582769261599,5.465560230832191,5.3645376924027826,5.263515153973374,5.162492615543965,5.061470077114556,4.960447538685148,4.85942500025574,4.758402461826331,4.657379923396923,4.556357384967514,4.455334846538106,4.354312308108698,4.253289769679289,4.152267231249881,4.051244692820472,3.9502221543910636,3.849199615961655,3.7481770775322465],\"type\":\"scatter\",\"xaxis\":\"x\",\"yaxis\":\"y\"},{\"error_y\":{\"array\":[0.6786766499999999,1.0265408000000003,1.4867377499999996,2.195014499999999,2.273492750000001,2.6835325],\"arrayminus\":[0.59786435,0.8010825500000003,1.0149979,1.8334722500000007,2.1690934499999983,1.9354244999999999],\"color\":\"rgb(250,196,132)\",\"thickness\":3,\"type\":\"data\",\"visible\":true,\"width\":0},\"marker\":{\"color\":\"rgb(250,196,132)\",\"line\":{\"color\":\"rgb(250,196,132)\",\"width\":3},\"size\":8,\"symbol\":\"square\"},\"mode\":\"markers\",\"showlegend\":false,\"x\":[1.3234848,3.0749315,4.92023375,7.31915865,10.157444,13.3366935],\"y\":[4.39394875,5.1968597,6.27684015,8.1338605,9.2879315,10.7737845],\"type\":\"scatter\",\"xaxis\":\"x\",\"yaxis\":\"y\"},{\"legendgroup\":\"iPCS\",\"line\":{\"color\":\"rgb(235,127,134)\",\"width\":3},\"mode\":\"lines\",\"name\":\"iPCS\",\"showlegend\":false,\"x\":[1.58143385,1.8233757357142857,2.0653176214285716,2.307259507142857,2.549201392857143,2.7911432785714285,3.0330851642857146,3.2750270500000003,3.516968935714286,3.7589108214285716,4.000852707142857,4.242794592857143,4.4847364785714285,4.726678364285714,4.96862025,5.2105621357142855,5.452504021428571,5.694445907142857,5.9363877928571425,6.178329678571428,6.420271564285714,6.662213449999999,6.904155335714285,7.146097221428571,7.388039107142857,7.629980992857143,7.871922878571429,8.113864764285715,8.35580665,8.597748535714286,8.839690421428571,9.081632307142858,9.323574192857143,9.565516078571429,9.807457964285714,10.04939985,10.291341735714285,10.533283621428572,10.775225507142856,11.017167392857143,11.259109278571428,11.501051164285714,11.742993049999999,11.984934935714286,12.22687682142857,12.468818707142857,12.710760592857142,12.952702478571428,13.194644364285715,13.43658625],\"y\":[4.9871055049648145,5.119099261874757,5.251093018784698,5.383086775694641,5.515080532604582,5.647074289514524,5.779068046424467,5.911061803334408,6.043055560244349,6.175049317154292,6.307043074064234,6.4390368309741755,6.571030587884117,6.703024344794059,6.8350181017040015,6.967011858613944,7.099005615523885,7.230999372433827,7.362993129343769,7.494986886253711,7.626980643163653,7.758974400073594,7.890968156983536,8.022961913893479,8.154955670803421,8.286949427713363,8.418943184623306,8.550936941533248,8.682930698443188,8.81492445535313,8.946918212263071,9.078911969173014,9.210905726082956,9.342899482992898,9.47489323990284,9.606886996812783,9.738880753722723,9.870874510632666,10.002868267542606,10.134862024452548,10.26685578136249,10.398849538272433,10.530843295182375,10.662837052092318,10.794830809002258,10.9268245659122,11.058818322822141,11.190812079732083,11.322805836642027,11.454799593551968],\"type\":\"scatter\",\"xaxis\":\"x2\",\"yaxis\":\"y2\"},{\"fill\":\"toself\",\"fillcolor\":\"rgba(235,127,134, 0.15)\",\"line\":{\"color\":\"rgba(235,127,134, 0.15)\",\"width\":0},\"mode\":\"lines\",\"showlegend\":false,\"x\":[1.58143385,1.8233757357142857,2.0653176214285716,2.307259507142857,2.549201392857143,2.7911432785714285,3.0330851642857146,3.2750270500000003,3.516968935714286,3.7589108214285716,4.000852707142857,4.242794592857143,4.4847364785714285,4.726678364285714,4.96862025,5.2105621357142855,5.452504021428571,5.694445907142857,5.9363877928571425,6.178329678571428,6.420271564285714,6.662213449999999,6.904155335714285,7.146097221428571,7.388039107142857,7.629980992857143,7.871922878571429,8.113864764285715,8.35580665,8.597748535714286,8.839690421428571,9.081632307142858,9.323574192857143,9.565516078571429,9.807457964285714,10.04939985,10.291341735714285,10.533283621428572,10.775225507142856,11.017167392857143,11.259109278571428,11.501051164285714,11.742993049999999,11.984934935714286,12.22687682142857,12.468818707142857,12.710760592857142,12.952702478571428,13.194644364285715,13.43658625,13.43658625,13.194644364285715,12.952702478571428,12.710760592857142,12.468818707142857,12.22687682142857,11.984934935714286,11.742993049999999,11.501051164285714,11.259109278571428,11.017167392857143,10.775225507142856,10.533283621428572,10.291341735714285,10.04939985,9.807457964285714,9.565516078571429,9.323574192857143,9.081632307142858,8.839690421428571,8.597748535714286,8.35580665,8.113864764285715,7.871922878571429,7.629980992857143,7.388039107142857,7.146097221428571,6.904155335714285,6.662213449999999,6.420271564285714,6.178329678571428,5.9363877928571425,5.694445907142857,5.452504021428571,5.2105621357142855,4.96862025,4.726678364285714,4.4847364785714285,4.242794592857143,4.000852707142857,3.7589108214285716,3.516968935714286,3.2750270500000003,3.0330851642857146,2.7911432785714285,2.549201392857143,2.307259507142857,2.0653176214285716,1.8233757357142857,1.58143385],\"y\":[5.877044514504558,6.042393268139718,6.207742021774878,6.373090775410039,6.538439529045199,6.703788282680359,6.86913703631552,7.034485789950681,7.19983454358584,7.365183297221002,7.530532050856161,7.695880804491322,7.861229558126482,8.026578311761643,8.191927065396802,8.357275819031964,8.522624572667123,8.687973326302284,8.853322079937445,9.018670833572605,9.184019587207764,9.349368340842926,9.514717094478087,9.680065848113246,9.845414601748406,10.010763355383567,10.176112109018728,10.34146086265389,10.506809616289047,10.672158369924208,10.83750712355937,11.00285587719453,11.168204630829688,11.33355338446485,11.49890213810001,11.664250891735172,11.82959964537033,11.99494839900549,12.160297152640652,12.325645906275813,12.490994659910971,12.656343413546132,12.821692167181293,12.987040920816455,13.152389674451612,13.317738428086773,13.483087181721935,13.648435935357096,13.813784688992257,13.979133442627415,9.418193102522066,9.308791660561742,9.199390218601417,9.089988776641093,8.98058733468077,8.871185892720444,8.761784450760121,8.652383008799797,8.542981566839472,8.433580124879148,8.324178682918824,8.2147772409585,8.105375798998177,7.995974357037852,7.886572915077528,7.777171473117203,7.667770031156879,7.558368589196554,7.448967147236232,7.339565705275907,7.230164263315583,7.1207628213552585,7.011361379394934,6.90195993743461,6.792558495474286,6.683157053513962,6.573755611553637,6.464354169593314,6.354952727632989,6.245551285672665,6.1361498437123405,6.026748401752016,5.917346959791693,5.807945517831368,5.698544075871045,5.58914263391072,5.479741191950396,5.370339749990071,5.260938308029748,5.151536866069423,5.042135424109099,4.9327339821487755,4.823332540188451,4.713931098228127,4.604529656267802,4.495128214307478,4.385726772347154,4.27632533038683,4.166923888426505,4.057522446466182],\"type\":\"scatter\",\"xaxis\":\"x2\",\"yaxis\":\"y2\"},{\"error_y\":{\"array\":[0.9828628999999998,0.9519263499999999,1.3967088499999996,1.5315136500000008,2.389729000000001,2.4108780000000003],\"arrayminus\":[0.8848054000000003,1.0844804000000003,1.1410418499999997,1.6066841499999995,1.9229456999999996,1.870959000000001],\"color\":\"rgb(235,127,134)\",\"thickness\":3,\"type\":\"data\",\"visible\":true,\"width\":0},\"marker\":{\"color\":\"rgb(235,127,134)\",\"line\":{\"color\":\"rgb(235,127,134)\",\"width\":3},\"size\":8,\"symbol\":\"square\"},\"mode\":\"markers\",\"showlegend\":false,\"x\":[1.58143385,3.142681,4.9381089,7.341317999999999,10.1416315,13.43658625],\"y\":[4.98447665,5.678027,6.93213615,8.30537685,9.6317735,11.3769185],\"type\":\"scatter\",\"xaxis\":\"x2\",\"yaxis\":\"y2\"},{\"legendgroup\":\"sPCS\",\"line\":{\"color\":\"rgb(150,0,90)\",\"width\":3},\"mode\":\"lines\",\"name\":\"sPCS\",\"showlegend\":false,\"x\":[1.44374215,1.6857146775510206,1.9276872051020408,2.169659732653061,2.4116322602040814,2.6536047877551017,2.8955773153061224,3.137549842857143,3.3795223704081634,3.6214948979591837,3.863467425510204,4.105439953061224,4.3474124806122445,4.589385008163265,4.831357535714286,5.073330063265306,5.3153025908163265,5.557275118367347,5.799247645918367,6.041220173469387,6.283192701020408,6.525165228571429,6.767137756122449,7.009110283673469,7.25108281122449,7.49305533877551,7.73502786632653,7.97700039387755,8.218972921428572,8.460945448979592,8.702917976530612,8.944890504081632,9.186863031632653,9.428835559183673,9.670808086734693,9.912780614285714,10.154753141836734,10.396725669387754,10.638698196938774,10.880670724489795,11.122643252040815,11.364615779591837,11.606588307142857,11.848560834693878,12.090533362244898,12.332505889795918,12.574478417346938,12.816450944897959,13.058423472448979,13.300396],\"y\":[5.125042737024562,5.258283415402877,5.391524093781192,5.524764772159507,5.658005450537822,5.791246128916137,5.9244868072944525,6.057727485672768,6.190968164051083,6.324208842429398,6.457449520807713,6.590690199186028,6.723930877564343,6.857171555942658,6.990412234320973,7.1236529126992885,7.256893591077604,7.390134269455919,7.523374947834234,7.656615626212549,7.789856304590863,7.923096982969179,8.056337661347495,8.18957833972581,8.322819018104124,8.45605969648244,8.589300374860755,8.72254105323907,8.855781731617384,8.9890224099957,9.122263088374016,9.25550376675233,9.388744445130644,9.521985123508959,9.655225801887275,9.78846648026559,9.921707158643905,10.054947837022219,10.188188515400535,10.321429193778851,10.454669872157165,10.587910550535481,10.721151228913797,10.854391907292111,10.987632585670426,11.12087326404874,11.254113942427056,11.387354620805372,11.520595299183686,11.653835977562],\"type\":\"scatter\",\"xaxis\":\"x2\",\"yaxis\":\"y2\"},{\"fill\":\"toself\",\"fillcolor\":\"rgba(150,0,90, 0.15)\",\"line\":{\"color\":\"rgba(150,0,90, 0.15)\",\"width\":0},\"mode\":\"lines\",\"showlegend\":false,\"x\":[1.44374215,1.6857146775510206,1.9276872051020408,2.169659732653061,2.4116322602040814,2.6536047877551017,2.8955773153061224,3.137549842857143,3.3795223704081634,3.6214948979591837,3.863467425510204,4.105439953061224,4.3474124806122445,4.589385008163265,4.831357535714286,5.073330063265306,5.3153025908163265,5.557275118367347,5.799247645918367,6.041220173469387,6.283192701020408,6.525165228571429,6.767137756122449,7.009110283673469,7.25108281122449,7.49305533877551,7.73502786632653,7.97700039387755,8.218972921428572,8.460945448979592,8.702917976530612,8.944890504081632,9.186863031632653,9.428835559183673,9.670808086734693,9.912780614285714,10.154753141836734,10.396725669387754,10.638698196938774,10.880670724489795,11.122643252040815,11.364615779591837,11.606588307142857,11.848560834693878,12.090533362244898,12.332505889795918,12.574478417346938,12.816450944897959,13.058423472448979,13.300396,13.300396,13.058423472448979,12.816450944897959,12.574478417346938,12.332505889795918,12.090533362244898,11.848560834693878,11.606588307142857,11.364615779591837,11.122643252040815,10.880670724489795,10.638698196938774,10.396725669387754,10.154753141836734,9.912780614285714,9.670808086734693,9.428835559183673,9.186863031632653,8.944890504081632,8.702917976530612,8.460945448979592,8.218972921428572,7.97700039387755,7.73502786632653,7.49305533877551,7.25108281122449,7.009110283673469,6.767137756122449,6.525165228571429,6.283192701020408,6.041220173469387,5.799247645918367,5.557275118367347,5.3153025908163265,5.073330063265306,4.831357535714286,4.589385008163265,4.3474124806122445,4.105439953061224,3.863467425510204,3.6214948979591837,3.3795223704081634,3.137549842857143,2.8955773153061224,2.6536047877551017,2.4116322602040814,2.169659732653061,1.9276872051020408,1.6857146775510206,1.44374215],\"y\":[6.341533424029704,6.500158852294945,6.658784280560185,6.817409708825425,6.976035137090665,7.1346605653559045,7.2932859936211445,7.4519114218863844,7.610536850151625,7.769162278416864,7.927787706682105,8.086413134947344,8.245038563212585,8.403663991477824,8.562289419743065,8.720914848008306,8.879540276273545,9.038165704538786,9.196791132804025,9.355416561069266,9.514041989334505,9.672667417599746,9.831292845864986,9.989918274130225,10.148543702395465,10.307169130660705,10.465794558925946,10.624419987191185,10.783045415456426,10.941670843721667,11.100296271986906,11.258921700252145,11.417547128517386,11.576172556782627,11.734797985047866,11.893423413313105,12.052048841578346,12.210674269843587,12.369299698108826,12.527925126374065,12.686550554639306,12.845175982904546,13.003801411169787,13.162426839435028,13.321052267700267,13.479677695965506,13.638303124230745,13.796928552495988,13.955553980761227,14.114179409026466,9.45844959372197,9.352585586533802,9.246721579345639,9.140857572157472,9.034993564969309,8.929129557781142,8.823265550592978,8.717401543404812,8.611537536216648,8.505673529028481,8.399809521840318,8.293945514652151,8.188081507463988,8.08221750027582,7.9763534930876565,7.870489485899491,7.764625478711326,7.658761471523161,7.552897464334996,7.447033457146831,7.341169449958666,7.235305442770501,7.129441435582335,7.023577428394169,6.917713421206004,6.811849414017839,6.705985406829674,6.600121399641509,6.494257392453344,6.388393385265179,6.2825293780770135,6.176665370888848,6.070801363700683,5.964937356512518,5.859073349324353,5.753209342136188,5.647345334948023,5.541481327759858,5.4356173205716924,5.329753313383527,5.223889306195362,5.118025299007197,5.012161291819032,4.906297284630867,4.800433277442702,4.6945692702545365,4.588705263066371,4.482841255878206,4.376977248690041,4.271113241501876],\"type\":\"scatter\",\"xaxis\":\"x2\",\"yaxis\":\"y2\"},{\"error_y\":{\"array\":[1.1170855,1.2503169500000002,1.5909287500000007,2.1710994999999986,2.694817499999999,2.0094534999999993],\"arrayminus\":[0.7179564999999997,1.03887235,1.2904035499999988,1.736190350000001,2.1759644000000007,1.893376],\"color\":\"rgb(150,0,90)\",\"thickness\":3,\"type\":\"data\",\"visible\":true,\"width\":0},\"marker\":{\"color\":\"rgb(150,0,90)\",\"line\":{\"color\":\"rgb(150,0,90)\",\"width\":3},\"size\":8,\"symbol\":\"square\"},\"mode\":\"markers\",\"showlegend\":false,\"x\":[1.44374215,3.12612045,4.98297135,7.25507065,10.12734,13.300396],\"y\":[4.816687,6.15429915,7.305417999999999,8.701057500000001,9.877074,11.4076915],\"type\":\"scatter\",\"xaxis\":\"x2\",\"yaxis\":\"y2\"},{\"legendgroup\":\"mPCS\",\"line\":{\"color\":\"rgb(0,0,200)\",\"width\":3},\"mode\":\"lines\",\"name\":\"mPCS\",\"showlegend\":false,\"x\":[1.48934775,1.7321586530612245,1.974969556122449,2.2177804591836736,2.460591362244898,2.7034022653061225,2.946213168367347,3.1890240714285714,3.431834974489796,3.6746458775510202,3.9174567806122447,4.160267683673469,4.4030785867346935,4.645889489795918,4.888700392857142,5.131511295918367,5.374322198979591,5.617133102040817,5.859944005102041,6.1027549081632655,6.34556581122449,6.588376714285714,6.831187617346939,7.073998520408163,7.316809423469388,7.559620326530612,7.8024312295918365,8.04524213265306,8.288053035714285,8.530863938775509,8.773674841836733,9.016485744897958,9.259296647959182,9.502107551020408,9.744918454081633,9.987729357142857,10.230540260204082,10.473351163265306,10.71616206632653,10.958972969387755,11.20178387244898,11.444594775510204,11.687405678571428,11.930216581632653,12.173027484693877,12.415838387755102,12.658649290816326,12.90146019387755,13.144271096938775,13.387082],\"y\":[4.378667304091339,4.5240055400779395,4.66934377606454,4.814682012051141,4.9600202480377416,5.105358484024343,5.250696720010944,5.3960349559975445,5.541373191984145,5.686711427970746,5.832049663957347,5.977387899943947,6.122726135930549,6.2680643719171485,6.41340260790375,6.558740843890351,6.704079079876951,6.849417315863553,6.994755551850154,7.140093787836754,7.285432023823356,7.430770259809956,7.576108495796557,7.721446731783158,7.8667849677697586,8.01212320375636,8.15746143974296,8.30279967572956,8.448137911716161,8.593476147702763,8.738814383689363,8.884152619675964,9.029490855662566,9.174829091649165,9.320167327635767,9.465505563622369,9.610843799608968,9.75618203559557,9.901520271582172,10.046858507568771,10.192196743555371,10.337534979541973,10.482873215528574,10.628211451515174,10.773549687501776,10.918887923488377,11.064226159474977,11.209564395461577,11.354902631448178,11.50024086743478],\"type\":\"scatter\",\"xaxis\":\"x2\",\"yaxis\":\"y2\"},{\"fill\":\"toself\",\"fillcolor\":\"rgba(0,0,200, 0.15)\",\"line\":{\"color\":\"rgba(0,0,200, 0.15)\",\"width\":0},\"mode\":\"lines\",\"showlegend\":false,\"x\":[1.48934775,1.7321586530612245,1.974969556122449,2.2177804591836736,2.460591362244898,2.7034022653061225,2.946213168367347,3.1890240714285714,3.431834974489796,3.6746458775510202,3.9174567806122447,4.160267683673469,4.4030785867346935,4.645889489795918,4.888700392857142,5.131511295918367,5.374322198979591,5.617133102040817,5.859944005102041,6.1027549081632655,6.34556581122449,6.588376714285714,6.831187617346939,7.073998520408163,7.316809423469388,7.559620326530612,7.8024312295918365,8.04524213265306,8.288053035714285,8.530863938775509,8.773674841836733,9.016485744897958,9.259296647959182,9.502107551020408,9.744918454081633,9.987729357142857,10.230540260204082,10.473351163265306,10.71616206632653,10.958972969387755,11.20178387244898,11.444594775510204,11.687405678571428,11.930216581632653,12.173027484693877,12.415838387755102,12.658649290816326,12.90146019387755,13.144271096938775,13.387082,13.387082,13.144271096938775,12.90146019387755,12.658649290816326,12.415838387755102,12.173027484693877,11.930216581632653,11.687405678571428,11.444594775510204,11.20178387244898,10.958972969387755,10.71616206632653,10.473351163265306,10.230540260204082,9.987729357142857,9.744918454081633,9.502107551020408,9.259296647959182,9.016485744897958,8.773674841836733,8.530863938775509,8.288053035714285,8.04524213265306,7.8024312295918365,7.559620326530612,7.316809423469388,7.073998520408163,6.831187617346939,6.588376714285714,6.34556581122449,6.1027549081632655,5.859944005102041,5.617133102040817,5.374322198979591,5.131511295918367,4.888700392857142,4.645889489795918,4.4030785867346935,4.160267683673469,3.9174567806122447,3.6746458775510202,3.431834974489796,3.1890240714285714,2.946213168367347,2.7034022653061225,2.460591362244898,2.2177804591836736,1.974969556122449,1.7321586530612245,1.48934775],\"y\":[5.655578775378528,5.839973233710536,6.024367692042544,6.208762150374552,6.393156608706559,6.577551067038567,6.7619455253705745,6.9463399837025825,7.130734442034591,7.315128900366599,7.499523358698607,7.683917817030614,7.868312275362621,8.05270673369463,8.237101192026637,8.421495650358645,8.605890108690652,8.790284567022661,8.974679025354668,9.159073483686676,9.343467942018684,9.527862400350692,9.7122568586827,9.896651317014708,10.081045775346716,10.265440233678724,10.449834692010732,10.634229150342739,10.818623608674745,11.003018067006753,11.187412525338761,11.37180698367077,11.556201442002777,11.740595900334785,11.924990358666793,12.109384816998801,12.29377927533081,12.478173733662818,12.662568191994826,12.846962650326834,13.031357108658842,13.215751566990848,13.400146025322856,13.584540483654864,13.768934941986872,13.95332940031888,14.137723858650888,14.322118316982895,14.506512775314903,14.69090723364691,9.123032621841155,9.009011179962533,8.89498973808391,8.780968296205286,8.666946854326664,8.55292541244804,8.438903970569417,8.324882528690795,8.210861086812171,8.096839644933548,7.982818203054926,7.868796761176302,7.7547753192976785,7.640753877419057,7.526732435540433,7.412710993661809,7.298689551783188,7.184668109904562,7.07064666802594,6.956625226147317,6.842603784268693,6.728582342390071,6.614560900511448,6.500539458632826,6.386518016754202,6.2724965748755785,6.158475132996956,6.044453691118333,5.9304322492397095,5.816410807361087,5.702389365482464,5.58836792360384,5.474346481725218,5.360325039846594,5.246303597967971,5.132282156089348,5.018260714210725,4.904239272332102,4.790217830453479,4.676196388574856,4.562174946696233,4.4481535048176095,4.334132062938987,4.220110621060364,4.10608917918174,3.9920677373031177,3.8780462954244945,3.7640248535458714,3.6500034116672486,3.5359819697886254],\"type\":\"scatter\",\"xaxis\":\"x2\",\"yaxis\":\"y2\"},{\"error_y\":{\"array\":[1.0621808000000001,1.46711365,2.3475667000000007,2.0670810000000017,3.175494500000001,2.8706464999999994],\"arrayminus\":[0.6274798000000001,1.086513000000001,1.626589,1.5829188499999987,2.262409699999999,2.131681500000001],\"color\":\"rgb(0,0,200)\",\"thickness\":3,\"type\":\"data\",\"visible\":true,\"width\":0},\"marker\":{\"color\":\"rgb(0,0,200)\",\"line\":{\"color\":\"rgb(0,0,200)\",\"width\":3},\"size\":8,\"symbol\":\"square\"},\"mode\":\"markers\",\"showlegend\":false,\"x\":[1.48934775,3.21047365,5.021437000000001,7.37727925,10.102833,13.387082],\"y\":[4.3268483,5.3709645,6.5080658,8.250115999999998,9.2576655,11.483819],\"type\":\"scatter\",\"xaxis\":\"x2\",\"yaxis\":\"y2\"}],                        {\"template\":{\"data\":{\"barpolar\":[{\"marker\":{\"line\":{\"color\":\"rgba(0,0,0,1)\",\"width\":1.5}},\"showlegend\":false,\"type\":\"barpolar\"}],\"pie\":[{\"direction\":\"clockwise\",\"hole\":0.4,\"marker\":{\"line\":{\"width\":0}},\"rotation\":0,\"sort\":false,\"textposition\":[\"inside\",\"none\"],\"type\":\"pie\"}],\"violin\":[{\"box\":{\"visible\":false},\"hoveron\":\"violins\",\"line\":{\"color\":\"rgba(0, 0, 0, 1)\",\"width\":1.5},\"meanline\":{\"visible\":false},\"points\":false,\"showlegend\":false,\"width\":0.8,\"type\":\"violin\"}]},\"layout\":{\"annotationdefaults\":{\"font\":{\"color\":\"rgba(0, 0, 0, 1)\",\"family\":\"Arial\",\"size\":15}},\"font\":{\"family\":\"Arial\",\"size\":15},\"plot_bgcolor\":\"rgba(255, 255, 255, 1)\",\"polar\":{\"angularaxis\":{\"showticklabels\":false,\"ticks\":\"\",\"visible\":false},\"radialaxis\":{\"showticklabels\":false,\"ticks\":\"\",\"visible\":false}},\"xaxis\":{\"color\":\"rgba(0, 0, 0, 1)\",\"hoverformat\":\".1f\",\"linewidth\":2,\"showgrid\":false,\"tickfont\":{\"family\":\"Arial\",\"size\":15},\"ticklen\":8,\"ticks\":\"outside\",\"tickwidth\":2,\"title\":{\"font\":{\"family\":\"Arial\",\"size\":15}},\"visible\":true,\"zeroline\":false,\"zerolinecolor\":\"rgba(0, 0, 0, 1)\",\"zerolinewidth\":2},\"yaxis\":{\"color\":\"rgba(0, 0, 0, 1)\",\"hoverformat\":\".1f\",\"linewidth\":2,\"showgrid\":false,\"tickfont\":{\"family\":\"Arial\",\"size\":15},\"ticklen\":8,\"ticks\":\"outside\",\"tickwidth\":2,\"title\":{\"font\":{\"family\":\"Arial\",\"size\":15}},\"visible\":true,\"zeroline\":false,\"zerolinecolor\":\"rgba(0, 0, 0, 1)\",\"zerolinewidth\":2}}},\"xaxis\":{\"anchor\":\"y\",\"domain\":[0.0,0.45],\"title\":{\"text\":\"pRF eccentricity (dva)\"},\"range\":[0,15],\"showline\":true},\"yaxis\":{\"anchor\":\"x\",\"domain\":[0.0,1.0],\"title\":{\"text\":\"pRF size (dva)\"},\"range\":[0,15],\"showline\":true},\"xaxis2\":{\"anchor\":\"y2\",\"domain\":[0.55,1.0],\"title\":{\"text\":\"pRF eccentricity (dva)\"},\"range\":[0,15],\"showline\":true},\"yaxis2\":{\"anchor\":\"x2\",\"domain\":[0.0,1.0],\"range\":[0,15],\"showline\":true},\"annotations\":[{\"font\":{\"color\":\"rgb(243,231,155)\",\"family\":\"Arial\",\"size\":15},\"showarrow\":false,\"text\":\"iIPS\",\"x\":1,\"xanchor\":\"left\",\"xref\":\"x\",\"y\":15.0,\"yref\":\"y\"},{\"font\":{\"color\":\"rgb(250,196,132)\",\"family\":\"Arial\",\"size\":15},\"showarrow\":false,\"text\":\"sIPS\",\"x\":1,\"xanchor\":\"left\",\"xref\":\"x\",\"y\":13.5,\"yref\":\"y\"},{\"font\":{\"color\":\"rgb(235,127,134)\",\"family\":\"Arial\",\"size\":15},\"showarrow\":false,\"text\":\"iPCS\",\"x\":1,\"xanchor\":\"left\",\"xref\":\"x2\",\"y\":15.0,\"yref\":\"y2\"},{\"font\":{\"color\":\"rgb(150,0,90)\",\"family\":\"Arial\",\"size\":15},\"showarrow\":false,\"text\":\"sPCS\",\"x\":1,\"xanchor\":\"left\",\"xref\":\"x2\",\"y\":13.5,\"yref\":\"y2\"},{\"font\":{\"color\":\"rgb(0,0,200)\",\"family\":\"Arial\",\"size\":15},\"showarrow\":false,\"text\":\"mPCS\",\"x\":1,\"xanchor\":\"left\",\"xref\":\"x2\",\"y\":12.0,\"yref\":\"y2\"}],\"margin\":{\"l\":100,\"r\":50,\"t\":50,\"b\":100},\"height\":400,\"width\":1440,\"showlegend\":false},                        {\"responsive\": true}                    ).then(function(){\n",
       "                            \n",
       "var gd = document.getElementById('846f0ddc-7ab3-4564-be62-203923ebcca6');\n",
       "var x = new MutationObserver(function (mutations, observer) {{\n",
       "        var display = window.getComputedStyle(gd).display;\n",
       "        if (!display || display === 'none') {{\n",
       "            console.log([gd, 'removed!']);\n",
       "            Plotly.purge(gd);\n",
       "            observer.disconnect();\n",
       "        }}\n",
       "}});\n",
       "\n",
       "// Listen for the removal of the full notebook cells\n",
       "var notebookContainer = gd.closest('#notebook-container');\n",
       "if (notebookContainer) {{\n",
       "    x.observe(notebookContainer, {childList: true});\n",
       "}}\n",
       "\n",
       "// Listen for the clearing of the current output cell\n",
       "var outputEl = gd.closest('.output');\n",
       "if (outputEl) {{\n",
       "    x.observe(outputEl, {childList: true});\n",
       "}}\n",
       "\n",
       "                        })                };                });            </script>        </div>"
      ]
     },
     "metadata": {},
     "output_type": "display_data"
    }
   ],
   "source": [
    "fig.show()"
   ]
  },
  {
   "cell_type": "code",
   "execution_count": null,
   "id": "6fc06d75-f690-43c5-8d2c-0caca485a7dd",
   "metadata": {
    "tags": []
   },
   "outputs": [],
   "source": [
    "categories_to_plot = ['vision',  'vision_and_pursuit_and_saccade']\n",
    "for categorie_to_plot in categories_to_plot:\n",
    "    df_categorie = data.loc[data.stats_final == categorie_to_plot]\n",
    "    fig2 = prf_ecc_size_plot(df_categorie, subject, fig_height=400, fig_width=800, ecc_th=ecc_th, size_th=size_th, rsq_th=rsq_th)\n",
    "    fig2.write_image(\"/Users/uriel/Downloads/{}_{}_ecc_size.pdf\".format(subject,categorie_to_plot))\n",
    "    fig2.show()"
   ]
  },
  {
   "cell_type": "markdown",
   "id": "4b8d8db4-fd1d-4c57-a787-a46613e9035b",
   "metadata": {
    "jp-MarkdownHeadingCollapsed": true
   },
   "source": [
    "# ECC / PCM"
   ]
  },
  {
   "cell_type": "code",
   "execution_count": 46,
   "id": "3d45f5d8-5b83-41fe-8b30-094442e5d0f3",
   "metadata": {
    "tags": []
   },
   "outputs": [],
   "source": [
    "def prf_ecc_pcm_plot(df_ecc_pcm, fig_width, fig_height, rois, roi_colors, plot_groups, max_ecc):\n",
    "    \"\"\"\n",
    "    Make scatter plot for relationship between eccentricity and pCM\n",
    "\n",
    "    Parameters\n",
    "    ----------\n",
    "    df_ecc_pcm : dataframe for the plot\n",
    "    fig_width : figure width in pixels\n",
    "    fig_height : figure height in pixels\n",
    "    rois : list of rois\n",
    "    roi_colors : list of rgb colors for plotly\n",
    "    plot_groups : groups of roi to plot together\n",
    "    max_ecc : maximum eccentricity\n",
    "    \n",
    "    Returns\n",
    "    -------\n",
    "    fig : eccentricy as a function of pcm plot\n",
    "    \"\"\"\n",
    "\n",
    "    from maths_utils import weighted_regression\n",
    "    \n",
    "    # General figure settings\n",
    "    template_specs = dict(axes_color=\"rgba(0, 0, 0, 1)\",\n",
    "                          axes_width=2,\n",
    "                          axes_font_size=15,\n",
    "                          bg_col=\"rgba(255, 255, 255, 1)\",\n",
    "                          font='Arial',\n",
    "                          title_font_size=15,\n",
    "                          plot_width=1.5)\n",
    "    \n",
    "    # General figure settings\n",
    "    fig_template = plotly_template(template_specs)\n",
    "\n",
    "    # General settings\n",
    "    rows, cols = 1, len(plot_groups)\n",
    "    fig = make_subplots(rows=rows, cols=cols, print_grid=False)\n",
    "    \n",
    "    for l, line_label in enumerate(plot_groups):\n",
    "        for j, roi in enumerate(line_label):\n",
    "\n",
    "            # Parametring colors\n",
    "            roi_color = roi_colors[j + l * 3]\n",
    "            roi_color_opac = f\"rgba{roi_color[3:-1]}, 0.15)\"\n",
    "            \n",
    "            # Get data\n",
    "            df = df_ecc_pcm.loc[(df_ecc_pcm.roi == roi)]\n",
    "            ecc_median = np.array(df.prf_ecc_bins)\n",
    "            pcm_median = np.array(df.prf_pcm_bins_median)\n",
    "            r2_median = np.array(df.prf_loo_r2_bins_median)\n",
    "            pcm_upper_bound = np.array(df.prf_pcm_bins_ci_upper_bound)\n",
    "            pcm_lower_bound = np.array(df.prf_pcm_bins_ci_lower_bound)\n",
    "            \n",
    "            # Linear regression\n",
    "            slope, intercept = weighted_regression(ecc_median, pcm_median, r2_median, model='pcm')\n",
    "            \n",
    "            slope_upper, intercept_upper = weighted_regression(ecc_median[~np.isnan(pcm_upper_bound)], \n",
    "                                                               pcm_upper_bound[~np.isnan(pcm_upper_bound)], \n",
    "                                                               r2_median[~np.isnan(pcm_upper_bound)], \n",
    "                                                               model='pcm')\n",
    "            \n",
    "            slope_lower, intercept_lower = weighted_regression(ecc_median[~np.isnan(pcm_lower_bound)], \n",
    "                                                               pcm_lower_bound[~np.isnan(pcm_lower_bound)], \n",
    "                                                               r2_median[~np.isnan(pcm_lower_bound)], \n",
    "                                                               model='pcm')\n",
    "\n",
    "            line_x = np.linspace(ecc_median[0], ecc_median[-1], 50)\n",
    "            line = 1 / (slope * line_x + intercept)\n",
    "            line_upper = 1 / (slope_upper * line_x + intercept_upper)\n",
    "            line_lower = 1 / (slope_lower * line_x + intercept_lower)\n",
    "\n",
    "            fig.add_trace(go.Scatter(x=line_x, \n",
    "                                     y=line, \n",
    "                                     mode='lines', \n",
    "                                     name=roi, \n",
    "                                     legendgroup=roi, \n",
    "                                     line=dict(color=roi_color, width=3), \n",
    "                                     showlegend=False), \n",
    "                          row=1, col=l+1)\n",
    "\n",
    "            # Error area\n",
    "            fig.add_trace(go.Scatter(x=np.concatenate([line_x, line_x[::-1]]),\n",
    "                                      y=np.concatenate([list(line_upper), list(line_lower[::-1])]), \n",
    "                                      mode='lines', fill='toself', fillcolor=roi_color_opac, \n",
    "                                      line=dict(color=roi_color_opac, width=0), showlegend=False), \n",
    "                          row=1, col=l+1)\n",
    "\n",
    "            # Markers\n",
    "            fig.add_trace(go.Scatter(x=ecc_median, \n",
    "                                     y=pcm_median, \n",
    "                                     mode='markers', \n",
    "                                     error_y=dict(type='data', \n",
    "                                                  array=pcm_upper_bound - pcm_median, \n",
    "                                                  arrayminus=pcm_median - pcm_lower_bound,\n",
    "                                                  visible=True, \n",
    "                                                  thickness=3, \n",
    "                                                  width=0, \n",
    "                                                  color=roi_color),\n",
    "                                     marker=dict(color=roi_color, \n",
    "                                                 symbol='square',\n",
    "                                                 size=8, line=dict(color=roi_color,\n",
    "                                                                   width=3)), \n",
    "                                     showlegend=False), \n",
    "                          row=1, col=l + 1)\n",
    "            \n",
    "            # Add legend\n",
    "            annotation = go.layout.Annotation(x=12, y=(20)-j*2, text=roi, xanchor='left',\n",
    "                                              showarrow=False, font_color=roi_color, \n",
    "                                              font_family=template_specs['font'],\n",
    "                                              font_size=template_specs['axes_font_size'],\n",
    "                                             )\n",
    "            fig.add_annotation(annotation, row=1, col=l+1)\n",
    "\n",
    "        # Set axis titles only for the left-most column and bottom-most row\n",
    "        fig.update_yaxes(title_text='pRF cortical magn. (mm/dva)', row=1, col=1)\n",
    "        fig.update_xaxes(title_text='pRF eccentricity (dva)', range=[0, max_ecc], showline=True, row=1, col=l+1)\n",
    "        fig.update_yaxes(range=[0, 20], showline=True)\n",
    "        fig.update_layout(height=fig_height, width=fig_width, showlegend=False, template=fig_template,\n",
    "                         margin_l=100, margin_r=50, margin_t=50, margin_b=100)\n",
    "        \n",
    "    return fig"
   ]
  },
  {
   "cell_type": "code",
   "execution_count": 47,
   "id": "78b521eb-bf06-4c8d-ad61-7476a6a3d6bc",
   "metadata": {
    "tags": []
   },
   "outputs": [],
   "source": [
    "subject = 'group'\n",
    "df_ecc_pcm = pd.read_table('{}/{}_prf_ecc_pcm.tsv'.format(tsv_dir,subject))"
   ]
  },
  {
   "cell_type": "code",
   "execution_count": 49,
   "id": "4dd7af69-cbdc-4399-8750-019e2a5254a6",
   "metadata": {
    "tags": []
   },
   "outputs": [],
   "source": [
    "fig2 = prf_ecc_pcm_plot(df_ecc_pcm=df_ecc_pcm, fig_width=fig_width, fig_height=400, \n",
    "                        rois=rois, roi_colors=roi_colors,\n",
    "                        plot_groups=plot_groups, max_ecc=max_ecc)\n",
    "\n",
    "\n",
    "fig2.write_image(\"/Users/uriel/Downloads/{}_ecc_pcm.pdf\".format(subject))"
   ]
  },
  {
   "cell_type": "code",
   "execution_count": null,
   "id": "b80d0f66-0c5e-4405-90e8-7053692f445e",
   "metadata": {
    "tags": []
   },
   "outputs": [],
   "source": [
    "categories_to_plot = ['vision',  'vision_and_pursuit_and_saccade']\n",
    "for categorie_to_plot in categories_to_plot:\n",
    "    df_categorie = data.loc[data.stats_final == categorie_to_plot]\n",
    "    fig2 = prf_ecc_pcm_plot(df_categorie, subject, fig_height=400, fig_width=800, ecc_th=ecc_th, pcm_th=pcm_th, rsq_th=rsq_th)\n",
    "    fig2.write_image(\"/Users/uriel/Downloads/{}_{}_ecc_pcm.pdf\".format(subject,categorie_to_plot))\n",
    "    fig2.show()"
   ]
  },
  {
   "cell_type": "markdown",
   "id": "d0e22fca-f1de-48aa-a821-5eb87729b0c5",
   "metadata": {
    "jp-MarkdownHeadingCollapsed": true
   },
   "source": [
    "# Mesh"
   ]
  },
  {
   "cell_type": "code",
   "execution_count": 5,
   "id": "fb5af345-76b0-4834-9f3d-f3b6af234793",
   "metadata": {
    "tags": []
   },
   "outputs": [
    {
     "data": {
      "image/png": "[encoded data removed]",
      "text/plain": [
       "<Figure size 800x800 with 1 Axes>"
      ]
     },
     "metadata": {},
     "output_type": "display_data"
    }
   ],
   "source": [
    "import matplotlib.pyplot as plt\n",
    "import numpy as np\n",
    "\n",
    "def generate_grid_points(num_points_x, num_points_y):\n",
    "    x = np.linspace(0, 1, num_points_x)\n",
    "    y = np.linspace(0, 1, num_points_y)\n",
    "    points = np.array(np.meshgrid(x, y)).T.reshape(-1, 2)\n",
    "    return points\n",
    "\n",
    "def perturb_points(points, max_perturbation=0.05):\n",
    "    perturbed_points = points + np.random.uniform(-max_perturbation, max_perturbation, points.shape)\n",
    "    perturbed_points = np.clip(perturbed_points, 0, 1)  # Ensure points stay within bounds\n",
    "    return perturbed_points\n",
    "\n",
    "def generate_triangles_from_grid(points, num_points_x, num_points_y):\n",
    "    triangles = []\n",
    "    for i in range(num_points_x - 1):\n",
    "        for j in range(num_points_y - 1):\n",
    "            p1 = points[i + j * num_points_x]\n",
    "            p2 = points[i + 1 + j * num_points_x]\n",
    "            p3 = points[i + (j + 1) * num_points_x]\n",
    "            p4 = points[i + 1 + (j + 1) * num_points_x]\n",
    "            triangles.append([p1, p2, p3])\n",
    "            triangles.append([p2, p4, p3])\n",
    "    return triangles\n",
    "\n",
    "def draw_triangles(triangles, filename=None):\n",
    "    plt.figure(figsize=(8, 8))\n",
    "    ax = plt.gca()\n",
    "    for triangle in triangles:\n",
    "        polygon = plt.Polygon(triangle, edgecolor='black', fill=None)\n",
    "        ax.add_patch(polygon)\n",
    "    plt.xlim(0, 1)\n",
    "    plt.ylim(0, 1)\n",
    "    plt.axis('off')\n",
    "    \n",
    "    if filename:\n",
    "        plt.savefig(filename, format='pdf')\n",
    "    plt.show()\n",
    "\n",
    "num_points_x = 10\n",
    "num_points_y = 10\n",
    "points = generate_grid_points(num_points_x, num_points_y)\n",
    "perturbed_points = perturb_points(points, max_perturbation=0.05)\n",
    "triangles = generate_triangles_from_grid(perturbed_points, num_points_x, num_points_y)\n",
    "draw_triangles(triangles, filename='/Users/uriel/Downloads/triangles_mesh.pdf')\n"
   ]
  },
  {
   "cell_type": "code",
   "execution_count": null,
   "id": "0640c3eb-ecc3-46f6-9e4d-6780138f62eb",
   "metadata": {},
   "outputs": [],
   "source": []
  }
 ],
 "metadata": {
  "kernelspec": {
   "display_name": "prf_env",
   "language": "python",
   "name": "prf_env"
  },
  "language_info": {
   "codemirror_mode": {
    "name": "ipython",
    "version": 3
   },
   "file_extension": ".py",
   "mimetype": "text/x-python",
   "name": "python",
   "nbconvert_exporter": "python",
   "pygments_lexer": "ipython3",
   "version": "3.11.7"
  }
 },
 "nbformat": 4,
 "nbformat_minor": 5
}
