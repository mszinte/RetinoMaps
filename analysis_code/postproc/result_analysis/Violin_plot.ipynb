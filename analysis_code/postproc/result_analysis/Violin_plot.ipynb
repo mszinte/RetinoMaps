{
 "cells": [
  {
   "cell_type": "markdown",
   "id": "33a860da-50d5-46f2-a3d8-14b42d4dae23",
   "metadata": {},
   "source": [
    "# Violin plot"
   ]
  },
  {
   "cell_type": "code",
   "execution_count": 1,
   "id": "8965a111-c2e1-4a39-8997-db319ed5fc51",
   "metadata": {
    "tags": []
   },
   "outputs": [],
   "source": [
    "# Imports\n",
    "import numpy as np\n",
    "import pandas as pd\n",
    "import os\n",
    "\n",
    "# figure imports\n",
    "import plotly.graph_objects as go\n",
    "import plotly.express as px\n",
    "from plotly.subplots import make_subplots\n",
    "\n",
    "\n",
    "# Import data base\n",
    "main_dir = '/Users/uriel/disks/meso_shared'\n",
    "project_dir = 'RetinoMaps'\n",
    "subjects = ['sub-02']\n",
    "subject = 'sub-02'\n",
    "tsv_dir ='{}/{}/derivatives/pp_data/{}/fsnative/prf/tsv'.format(main_dir, \n",
    "                                                                project_dir, \n",
    "                                                                subject)"
   ]
  },
  {
   "cell_type": "code",
   "execution_count": 2,
   "id": "c23c8b1b-f712-4eb7-b89b-b85edf3757e3",
   "metadata": {
    "tags": []
   },
   "outputs": [],
   "source": [
    "# Load data\n",
    "data = pd.read_table('{}/{}_task-prf_loo.tsv'.format(tsv_dir,subject))\n"
   ]
  },
  {
   "cell_type": "code",
   "execution_count": 3,
   "id": "026d1189-6978-4a23-bc13-bc9bd0ad94d0",
   "metadata": {
    "tags": []
   },
   "outputs": [],
   "source": [
    "# Filter data\n",
    "ecc_th = [0, 15]\n",
    "size_th= [0.1, 20]\n",
    "rsq_th = [0.05, 1]\n",
    "\n",
    "# Replace all data outer threshold with NaN data\n",
    "# Replace all data outer threshold with NaN data\n",
    "data.loc[(data.prf_ecc < ecc_th[0]) | (data.prf_ecc > ecc_th[1]) | \n",
    "         (data.prf_size < size_th[0]) | (data.prf_size > size_th[1]) | \n",
    "         (data.prf_loo_r2 <=rsq_th[0])] = np.nan\n",
    "\n",
    "data = data.dropna()\n",
    "\n",
    "rois = pd.unique(data.rois)\n",
    "mask = pd.notnull(data.subject)\n",
    "subjects = pd.unique(data.subject[mask])"
   ]
  },
  {
   "cell_type": "code",
   "execution_count": 4,
   "id": "00f76581-5f37-4f2c-9b52-582faa0e7f48",
   "metadata": {
    "tags": []
   },
   "outputs": [],
   "source": [
    "# Define colors\n",
    "roi_colors = px.colors.sequential.Sunset[:4] + px.colors.sequential.Rainbow[:]"
   ]
  },
  {
   "cell_type": "code",
   "execution_count": 5,
   "id": "e87713d9-487f-47bf-a50c-33877ef9278d",
   "metadata": {
    "tags": []
   },
   "outputs": [
    {
     "name": "stdout",
     "output_type": "stream",
     "text": [
      "1.4616783095108068\n"
     ]
    }
   ],
   "source": [
    "roi = 'V1'\n",
    "df = data.loc[(data.subject == subject) & (data.rois == roi)]\n",
    "\n",
    "print(df.prf_size.mean())"
   ]
  },
  {
   "cell_type": "markdown",
   "id": "d96e1b1a-180b-4b86-8be3-8d64d45bd059",
   "metadata": {
    "tags": []
   },
   "source": [
    "## Make Violin plot comparison R2 / CF-projected Size / CF-projected Eccentricity"
   ]
  },
  {
   "cell_type": "code",
   "execution_count": 15,
   "id": "b51fc07c-742c-4a20-bbaa-9d167b1d7056",
   "metadata": {},
   "outputs": [],
   "source": [
    "fig_dir = '/Users/uriel/Downloads/'"
   ]
  },
  {
   "cell_type": "code",
   "execution_count": 16,
   "id": "26b1161f-232b-42ea-a38e-ba6ad71a5170",
   "metadata": {
    "tags": []
   },
   "outputs": [],
   "source": [
    "rows, cols = 2,2\n",
    "fig_height, fig_width = 1080,1920\n",
    "\n",
    "for i, subject in enumerate(subjects):\n",
    "    fig = make_subplots(rows=rows, cols=cols, \n",
    "                        print_grid=False, \n",
    "                        vertical_spacing=0.08, \n",
    "                        horizontal_spacing=0.1)\n",
    "    \n",
    "    for j, roi in enumerate(rois):\n",
    "        \n",
    "        df = data.loc[(data.subject == subject) & (data.rois == roi)]\n",
    "        \n",
    "        # df = df.sort_values('prf_rsq_loo', ascending=False)\n",
    "        # df = df.head(250)\n",
    "\n",
    "        # pRF loo r2\n",
    "        fig.add_trace(go.Violin(x=df.rois[df.rois==roi], \n",
    "                                y=df.prf_loo_r2, \n",
    "                                name=roi, \n",
    "                                showlegend=True, \n",
    "                                legendgroup='loo', \n",
    "                                points=False, \n",
    "                                scalemode='width', \n",
    "                                width=0.75, \n",
    "                                side='negative', \n",
    "                                line_color = roi_colors[j], \n",
    "                                meanline_visible=True), \n",
    "                      row=1, col=1)\n",
    "        \n",
    "        \n",
    "        # pRF r2\n",
    "        fig.add_trace(go.Violin(x=df.rois[df.rois==roi], \n",
    "                                y=df.prf_rsq, \n",
    "                                name=roi, \n",
    "                                showlegend=False, \n",
    "                                legendgroup='avg', \n",
    "                                points=False, \n",
    "                                scalemode='width', \n",
    "                                width=0.75, \n",
    "                                side='positive', \n",
    "                                line_color = roi_colors[j], \n",
    "                                meanline_visible=True, \n",
    "                                fillcolor='rgb(255,255,255)'), \n",
    "                      row=1, col=1)\n",
    "        \n",
    "        \n",
    "        # pRF size\n",
    "        fig.add_trace(go.Violin(x=df.rois[df.rois==roi], \n",
    "                                y=df.prf_size, \n",
    "                                name=roi, \n",
    "                                showlegend=False, \n",
    "                                legendgroup='avg', \n",
    "                                points=False, \n",
    "                                scalemode='width', \n",
    "                                width=0.75, \n",
    "                                line_color = roi_colors[j], \n",
    "                                meanline_visible=True), \n",
    "                      row=1, col=2)\n",
    "        \n",
    "        # pRF ecc\n",
    "        fig.add_trace(go.Violin(x=df.rois[df.rois==roi], \n",
    "                                y=df.prf_ecc, \n",
    "                                name=roi, \n",
    "                                showlegend=False, \n",
    "                                legendgroup='avg', \n",
    "                                points=False, \n",
    "                                scalemode='width', \n",
    "                                width=0.75,  \n",
    "                                line_color = roi_colors[j], \n",
    "                                meanline_visible=True), \n",
    "                      row=2, col=1)\n",
    " \n",
    "        \n",
    "        # Set axis titles only for the left-most column and bottom-most row\n",
    "        fig.update_yaxes(range=[0,1], \n",
    "                         title_text='r2', \n",
    "                         row=1, col=1)\n",
    "        \n",
    "        fig.update_yaxes(range=[0,20], \n",
    "                         title_text='pRF size (dva)', \n",
    "                         row=1, col=2)\n",
    "        \n",
    "        fig.update_yaxes(range=[0,15], \n",
    "                         nticks=4, \n",
    "                         title_text='pRF eccentricity (dva)', \n",
    "                         row=2, col=1)\n",
    "        \n",
    "        fig.update_xaxes(showline=True, \n",
    "                         ticklen=0, \n",
    "                         linecolor=('rgba(255,255,255,0)'), \n",
    "                         tickfont=dict(size=18))\n",
    "        \n",
    "        fig.update_traces(spanmode='manual', \n",
    "                          span=[0,1], \n",
    "                          row=1, col=1)  \n",
    "        \n",
    "        fig.update_traces(spanmode='manual', \n",
    "                          span=[0.1,20], \n",
    "                          row=1, col=2)\n",
    "        \n",
    "        fig.update_traces(spanmode='manual', \n",
    "                          span=[0,15], \n",
    "                          row=2, col=1)\n",
    "        \n",
    "        \n",
    "    fig.update_layout(height=fig_height, \n",
    "                      width=fig_width, \n",
    "                      showlegend=True, \n",
    "                      legend=dict(orientation=\"h\", \n",
    "                                  yanchor='top', \n",
    "                                  y=1.15, \n",
    "                                  xanchor='left', \n",
    "                                  x=0.22, \n",
    "                                  traceorder='normal', \n",
    "                                  itemwidth=50), \n",
    "                      template='simple_white', \n",
    "                      font=dict(size=16))\n",
    "    #fig.show()\n",
    "    fig.write_image(\"{}/{}_prf_cf_rsq_size_ecc.pdf\".format(fig_dir, subject)) \n",
    "    "
   ]
  },
  {
   "cell_type": "code",
   "execution_count": null,
   "id": "6a5317e0-3306-467b-be47-323c9282412d",
   "metadata": {},
   "outputs": [],
   "source": []
  }
 ],
 "metadata": {
  "kernelspec": {
   "display_name": "prf_env",
   "language": "python",
   "name": "prf_env"
  },
  "language_info": {
   "codemirror_mode": {
    "name": "ipython",
    "version": 3
   },
   "file_extension": ".py",
   "mimetype": "text/x-python",
   "name": "python",
   "nbconvert_exporter": "python",
   "pygments_lexer": "ipython3",
   "version": "3.11.7"
  }
 },
 "nbformat": 4,
 "nbformat_minor": 5
}
