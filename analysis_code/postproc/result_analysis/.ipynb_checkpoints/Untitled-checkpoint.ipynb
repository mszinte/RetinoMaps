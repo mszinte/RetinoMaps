{
 "cells": [
  {
   "cell_type": "code",
   "execution_count": 14,
   "id": "10b4cc3c-0449-4e4c-a781-5556af60a1ea",
   "metadata": {
    "tags": []
   },
   "outputs": [],
   "source": [
    "# Stop warnings\n",
    "import warnings\n",
    "warnings.filterwarnings(\"ignore\")\n",
    "\n",
    "# Imports\n",
    "import numpy as np\n",
    "import pandas as pd\n",
    "import os\n",
    "import json\n",
    "import sys\n",
    "import cortex\n",
    "\n",
    "import plotly.graph_objects as go\n",
    "import plotly.express as px\n",
    "from plotly.subplots import make_subplots\n",
    "\n",
    "\n",
    "sys.path.append(\"{}/../../utils\".format(os.getcwd()))\n",
    "from plot_utils import prf_violins_plot, prf_ecc_size_plot, prf_polar_plot, prf_contralaterality_plot, prf_ecc_pcm_plot\n",
    "from surface_utils import load_surface\n",
    "from pycortex_utils import get_rois\n",
    "\n",
    "# Import data base\n",
    "main_dir = '/Users/uriel/disks/meso_shared'\n",
    "# main_dir = '/home/ulascombes//disks/meso_shared'\n",
    "project_dir = 'RetinoMaps'\n",
    "subjects = ['sub-01']\n",
    "subject = 'sub-01'\n",
    "tsv_dir ='{}/{}/derivatives/pp_data/{}/fsnative/prf/tsv'.format(main_dir, \n",
    "                                                                project_dir, \n",
    "                                                                subject)\n",
    "\n",
    "\n",
    "with open('../../settings.json') as f:\n",
    "    json_s = f.read()\n",
    "    analysis_info = json.loads(json_s)\n",
    "rois_list = analysis_info['rois']\n"
   ]
  },
  {
   "cell_type": "code",
   "execution_count": 15,
   "id": "277a45df-952d-4ab1-a7f3-39e30911089f",
   "metadata": {
    "tags": []
   },
   "outputs": [],
   "source": [
    "data = pd.read_table('{}/{}_css-prf_derivatives.tsv'.format(tsv_dir,subject))\n",
    "ecc_th = [0, 15]\n",
    "size_th= [0.1, 20]\n",
    "rsq_th = [0.05, 1]\n",
    "pcm_th = [0,20]"
   ]
  },
  {
   "cell_type": "code",
   "execution_count": 23,
   "id": "d0d99888-50fe-4bfb-aeb7-8030fc270a82",
   "metadata": {
    "tags": []
   },
   "outputs": [
    {
     "data": {
      "text/html": [
       "<div>\n",
       "<style scoped>\n",
       "    .dataframe tbody tr th:only-of-type {\n",
       "        vertical-align: middle;\n",
       "    }\n",
       "\n",
       "    .dataframe tbody tr th {\n",
       "        vertical-align: top;\n",
       "    }\n",
       "\n",
       "    .dataframe thead th {\n",
       "        text-align: right;\n",
       "    }\n",
       "</style>\n",
       "<table border=\"1\" class=\"dataframe\">\n",
       "  <thead>\n",
       "    <tr style=\"text-align: right;\">\n",
       "      <th></th>\n",
       "      <th>prf_rsq</th>\n",
       "      <th>prf_ecc</th>\n",
       "      <th>polar_real</th>\n",
       "      <th>polar_imag</th>\n",
       "      <th>prf_size</th>\n",
       "      <th>amplitude</th>\n",
       "      <th>baseline</th>\n",
       "      <th>prf_x</th>\n",
       "      <th>prf_y</th>\n",
       "      <th>hrf_1</th>\n",
       "      <th>hrf_2</th>\n",
       "      <th>prf_n</th>\n",
       "      <th>prf_loo_r2</th>\n",
       "      <th>rois</th>\n",
       "      <th>subject</th>\n",
       "      <th>hemi</th>\n",
       "      <th>pcm</th>\n",
       "      <th>vertex_surf</th>\n",
       "    </tr>\n",
       "  </thead>\n",
       "  <tbody>\n",
       "    <tr>\n",
       "      <th>0</th>\n",
       "      <td>0.544784</td>\n",
       "      <td>4.148319</td>\n",
       "      <td>0.303645</td>\n",
       "      <td>-0.952730</td>\n",
       "      <td>0.991623</td>\n",
       "      <td>0.285239</td>\n",
       "      <td>-0.202981</td>\n",
       "      <td>1.259918</td>\n",
       "      <td>-3.952131</td>\n",
       "      <td>5.841734</td>\n",
       "      <td>-2.592693</td>\n",
       "      <td>0.440393</td>\n",
       "      <td>0.280069</td>\n",
       "      <td>V1</td>\n",
       "      <td>sub-01</td>\n",
       "      <td>hemi-L</td>\n",
       "      <td>1.594387</td>\n",
       "      <td>0.090760</td>\n",
       "    </tr>\n",
       "    <tr>\n",
       "      <th>1</th>\n",
       "      <td>0.721184</td>\n",
       "      <td>3.924539</td>\n",
       "      <td>0.221637</td>\n",
       "      <td>-0.975070</td>\n",
       "      <td>1.195946</td>\n",
       "      <td>0.399265</td>\n",
       "      <td>-0.383623</td>\n",
       "      <td>0.869663</td>\n",
       "      <td>-3.826736</td>\n",
       "      <td>4.723704</td>\n",
       "      <td>-2.233333</td>\n",
       "      <td>0.446812</td>\n",
       "      <td>0.521833</td>\n",
       "      <td>V1</td>\n",
       "      <td>sub-01</td>\n",
       "      <td>hemi-L</td>\n",
       "      <td>12.737061</td>\n",
       "      <td>0.256740</td>\n",
       "    </tr>\n",
       "    <tr>\n",
       "      <th>2</th>\n",
       "      <td>0.314963</td>\n",
       "      <td>4.562551</td>\n",
       "      <td>0.316119</td>\n",
       "      <td>-0.948360</td>\n",
       "      <td>1.296987</td>\n",
       "      <td>0.122983</td>\n",
       "      <td>-0.110937</td>\n",
       "      <td>1.445393</td>\n",
       "      <td>-4.325868</td>\n",
       "      <td>8.209347</td>\n",
       "      <td>-3.110799</td>\n",
       "      <td>0.661363</td>\n",
       "      <td>0.098320</td>\n",
       "      <td>V1</td>\n",
       "      <td>sub-01</td>\n",
       "      <td>hemi-L</td>\n",
       "      <td>1.346578</td>\n",
       "      <td>0.293665</td>\n",
       "    </tr>\n",
       "    <tr>\n",
       "      <th>3</th>\n",
       "      <td>0.421139</td>\n",
       "      <td>3.958556</td>\n",
       "      <td>0.239607</td>\n",
       "      <td>-0.970740</td>\n",
       "      <td>1.630879</td>\n",
       "      <td>0.060881</td>\n",
       "      <td>-0.158310</td>\n",
       "      <td>0.948104</td>\n",
       "      <td>-3.842817</td>\n",
       "      <td>6.847516</td>\n",
       "      <td>-2.305906</td>\n",
       "      <td>0.908489</td>\n",
       "      <td>0.159729</td>\n",
       "      <td>V1</td>\n",
       "      <td>sub-01</td>\n",
       "      <td>hemi-L</td>\n",
       "      <td>3.641613</td>\n",
       "      <td>0.041887</td>\n",
       "    </tr>\n",
       "    <tr>\n",
       "      <th>4</th>\n",
       "      <td>0.716370</td>\n",
       "      <td>3.781982</td>\n",
       "      <td>0.219459</td>\n",
       "      <td>-0.975573</td>\n",
       "      <td>1.195633</td>\n",
       "      <td>0.405842</td>\n",
       "      <td>-0.397000</td>\n",
       "      <td>0.829953</td>\n",
       "      <td>-3.689607</td>\n",
       "      <td>4.625887</td>\n",
       "      <td>-2.131217</td>\n",
       "      <td>0.446567</td>\n",
       "      <td>0.523299</td>\n",
       "      <td>V1</td>\n",
       "      <td>sub-01</td>\n",
       "      <td>hemi-L</td>\n",
       "      <td>10.552026</td>\n",
       "      <td>0.043934</td>\n",
       "    </tr>\n",
       "    <tr>\n",
       "      <th>...</th>\n",
       "      <td>...</td>\n",
       "      <td>...</td>\n",
       "      <td>...</td>\n",
       "      <td>...</td>\n",
       "      <td>...</td>\n",
       "      <td>...</td>\n",
       "      <td>...</td>\n",
       "      <td>...</td>\n",
       "      <td>...</td>\n",
       "      <td>...</td>\n",
       "      <td>...</td>\n",
       "      <td>...</td>\n",
       "      <td>...</td>\n",
       "      <td>...</td>\n",
       "      <td>...</td>\n",
       "      <td>...</td>\n",
       "      <td>...</td>\n",
       "      <td>...</td>\n",
       "    </tr>\n",
       "    <tr>\n",
       "      <th>84465</th>\n",
       "      <td>0.324980</td>\n",
       "      <td>3.215258</td>\n",
       "      <td>0.926526</td>\n",
       "      <td>0.241247</td>\n",
       "      <td>1.326809</td>\n",
       "      <td>420.789550</td>\n",
       "      <td>-420.867680</td>\n",
       "      <td>2.906990</td>\n",
       "      <td>0.827984</td>\n",
       "      <td>-0.663224</td>\n",
       "      <td>8.311648</td>\n",
       "      <td>-0.000105</td>\n",
       "      <td>0.076260</td>\n",
       "      <td>mPCS</td>\n",
       "      <td>sub-01</td>\n",
       "      <td>hemi-R</td>\n",
       "      <td>0.001608</td>\n",
       "      <td>0.561889</td>\n",
       "    </tr>\n",
       "    <tr>\n",
       "      <th>84548</th>\n",
       "      <td>0.261796</td>\n",
       "      <td>2.723024</td>\n",
       "      <td>0.645735</td>\n",
       "      <td>-0.428152</td>\n",
       "      <td>1.303527</td>\n",
       "      <td>376.723240</td>\n",
       "      <td>-376.776670</td>\n",
       "      <td>1.984482</td>\n",
       "      <td>-1.091804</td>\n",
       "      <td>-0.852496</td>\n",
       "      <td>6.083267</td>\n",
       "      <td>-0.000066</td>\n",
       "      <td>0.072955</td>\n",
       "      <td>mPCS</td>\n",
       "      <td>sub-01</td>\n",
       "      <td>hemi-R</td>\n",
       "      <td>0.406843</td>\n",
       "      <td>0.284441</td>\n",
       "    </tr>\n",
       "    <tr>\n",
       "      <th>84549</th>\n",
       "      <td>0.224442</td>\n",
       "      <td>4.001571</td>\n",
       "      <td>0.460356</td>\n",
       "      <td>-0.583859</td>\n",
       "      <td>1.447820</td>\n",
       "      <td>352.670720</td>\n",
       "      <td>-352.719000</td>\n",
       "      <td>2.061225</td>\n",
       "      <td>-2.410850</td>\n",
       "      <td>-0.994732</td>\n",
       "      <td>-5.214177</td>\n",
       "      <td>-0.000046</td>\n",
       "      <td>0.061753</td>\n",
       "      <td>mPCS</td>\n",
       "      <td>sub-01</td>\n",
       "      <td>hemi-R</td>\n",
       "      <td>0.018459</td>\n",
       "      <td>0.307693</td>\n",
       "    </tr>\n",
       "    <tr>\n",
       "      <th>84587</th>\n",
       "      <td>0.277942</td>\n",
       "      <td>7.323893</td>\n",
       "      <td>0.576176</td>\n",
       "      <td>0.659107</td>\n",
       "      <td>1.521099</td>\n",
       "      <td>409.001220</td>\n",
       "      <td>-409.155880</td>\n",
       "      <td>4.791736</td>\n",
       "      <td>4.854622</td>\n",
       "      <td>-0.707327</td>\n",
       "      <td>0.569816</td>\n",
       "      <td>-0.000048</td>\n",
       "      <td>0.055036</td>\n",
       "      <td>mPCS</td>\n",
       "      <td>sub-01</td>\n",
       "      <td>hemi-R</td>\n",
       "      <td>0.250466</td>\n",
       "      <td>0.232354</td>\n",
       "    </tr>\n",
       "    <tr>\n",
       "      <th>84590</th>\n",
       "      <td>0.244511</td>\n",
       "      <td>3.053939</td>\n",
       "      <td>0.321869</td>\n",
       "      <td>0.918423</td>\n",
       "      <td>1.359317</td>\n",
       "      <td>374.111000</td>\n",
       "      <td>-374.173030</td>\n",
       "      <td>0.909884</td>\n",
       "      <td>2.840077</td>\n",
       "      <td>-0.665321</td>\n",
       "      <td>-4.394750</td>\n",
       "      <td>-0.000125</td>\n",
       "      <td>0.080730</td>\n",
       "      <td>mPCS</td>\n",
       "      <td>sub-01</td>\n",
       "      <td>hemi-R</td>\n",
       "      <td>0.488064</td>\n",
       "      <td>0.482374</td>\n",
       "    </tr>\n",
       "  </tbody>\n",
       "</table>\n",
       "<p>29844 rows × 18 columns</p>\n",
       "</div>"
      ],
      "text/plain": [
       "        prf_rsq   prf_ecc  polar_real  polar_imag  prf_size   amplitude  \\\n",
       "0      0.544784  4.148319    0.303645   -0.952730  0.991623    0.285239   \n",
       "1      0.721184  3.924539    0.221637   -0.975070  1.195946    0.399265   \n",
       "2      0.314963  4.562551    0.316119   -0.948360  1.296987    0.122983   \n",
       "3      0.421139  3.958556    0.239607   -0.970740  1.630879    0.060881   \n",
       "4      0.716370  3.781982    0.219459   -0.975573  1.195633    0.405842   \n",
       "...         ...       ...         ...         ...       ...         ...   \n",
       "84465  0.324980  3.215258    0.926526    0.241247  1.326809  420.789550   \n",
       "84548  0.261796  2.723024    0.645735   -0.428152  1.303527  376.723240   \n",
       "84549  0.224442  4.001571    0.460356   -0.583859  1.447820  352.670720   \n",
       "84587  0.277942  7.323893    0.576176    0.659107  1.521099  409.001220   \n",
       "84590  0.244511  3.053939    0.321869    0.918423  1.359317  374.111000   \n",
       "\n",
       "         baseline     prf_x     prf_y     hrf_1     hrf_2     prf_n  \\\n",
       "0       -0.202981  1.259918 -3.952131  5.841734 -2.592693  0.440393   \n",
       "1       -0.383623  0.869663 -3.826736  4.723704 -2.233333  0.446812   \n",
       "2       -0.110937  1.445393 -4.325868  8.209347 -3.110799  0.661363   \n",
       "3       -0.158310  0.948104 -3.842817  6.847516 -2.305906  0.908489   \n",
       "4       -0.397000  0.829953 -3.689607  4.625887 -2.131217  0.446567   \n",
       "...           ...       ...       ...       ...       ...       ...   \n",
       "84465 -420.867680  2.906990  0.827984 -0.663224  8.311648 -0.000105   \n",
       "84548 -376.776670  1.984482 -1.091804 -0.852496  6.083267 -0.000066   \n",
       "84549 -352.719000  2.061225 -2.410850 -0.994732 -5.214177 -0.000046   \n",
       "84587 -409.155880  4.791736  4.854622 -0.707327  0.569816 -0.000048   \n",
       "84590 -374.173030  0.909884  2.840077 -0.665321 -4.394750 -0.000125   \n",
       "\n",
       "       prf_loo_r2  rois subject    hemi        pcm  vertex_surf  \n",
       "0        0.280069    V1  sub-01  hemi-L   1.594387     0.090760  \n",
       "1        0.521833    V1  sub-01  hemi-L  12.737061     0.256740  \n",
       "2        0.098320    V1  sub-01  hemi-L   1.346578     0.293665  \n",
       "3        0.159729    V1  sub-01  hemi-L   3.641613     0.041887  \n",
       "4        0.523299    V1  sub-01  hemi-L  10.552026     0.043934  \n",
       "...           ...   ...     ...     ...        ...          ...  \n",
       "84465    0.076260  mPCS  sub-01  hemi-R   0.001608     0.561889  \n",
       "84548    0.072955  mPCS  sub-01  hemi-R   0.406843     0.284441  \n",
       "84549    0.061753  mPCS  sub-01  hemi-R   0.018459     0.307693  \n",
       "84587    0.055036  mPCS  sub-01  hemi-R   0.250466     0.232354  \n",
       "84590    0.080730  mPCS  sub-01  hemi-R   0.488064     0.482374  \n",
       "\n",
       "[29844 rows x 18 columns]"
      ]
     },
     "execution_count": 23,
     "metadata": {},
     "output_type": "execute_result"
    }
   ],
   "source": [
    "data"
   ]
  },
  {
   "cell_type": "code",
   "execution_count": 78,
   "id": "4ff10cad-d190-4209-b6ed-154d5882226a",
   "metadata": {
    "tags": []
   },
   "outputs": [],
   "source": [
    "sum_vertex_surf = data.groupby('rois')['vertex_surf'].sum().reset_index()\n",
    "sum_vertex_surf['rois'] = pd.Categorical(sum_vertex_surf['rois'], categories=rois, ordered=True)\n",
    "sum_vertex_surf = sum_vertex_surf.sort_values(by='rois')\n",
    "# Créer un nouveau DataFrame avec les résultats\n",
    "nouveau_df = pd.DataFrame({'rois': sum_vertex_surf['rois'], 'vertex_surf_sum': sum_vertex_surf['vertex_surf']})\n",
    "\n"
   ]
  },
  {
   "cell_type": "code",
   "execution_count": 87,
   "id": "9553ec3f-fbd3-4d81-b728-7b8a240fa9c6",
   "metadata": {
    "tags": []
   },
   "outputs": [],
   "source": [
    "# Get surfaces     \n",
    "surfs = [cortex.polyutils.Surface(*d) for d in cortex.db.get_surf(subject, \"flat\")]\n",
    "surf_lh, surf_rh = surfs[0], surfs[1]\n",
    "lh_vert_num, rh_vert_num = surf_lh.pts.shape[0], surf_rh.pts.shape[0]\n",
    "\n",
    "surf_brain = np.sum(calculate_vertex_areas(surf_lh, mask=None)) + np.sum(calculate_vertex_areas(surf_rh, mask=None))"
   ]
  },
  {
   "cell_type": "code",
   "execution_count": 91,
   "id": "c77131af-b1be-443e-b9f1-ae888d9a38ae",
   "metadata": {
    "tags": []
   },
   "outputs": [],
   "source": [
    "nouveau_df['pourcentage'] = (nouveau_df['vertex_surf_sum'] / surf_brain) * 100\n"
   ]
  },
  {
   "cell_type": "code",
   "execution_count": 92,
   "id": "704878ad-f1fb-4563-996a-392d9ac7e1b7",
   "metadata": {
    "tags": []
   },
   "outputs": [
    {
     "data": {
      "text/html": [
       "<div>\n",
       "<style scoped>\n",
       "    .dataframe tbody tr th:only-of-type {\n",
       "        vertical-align: middle;\n",
       "    }\n",
       "\n",
       "    .dataframe tbody tr th {\n",
       "        vertical-align: top;\n",
       "    }\n",
       "\n",
       "    .dataframe thead th {\n",
       "        text-align: right;\n",
       "    }\n",
       "</style>\n",
       "<table border=\"1\" class=\"dataframe\">\n",
       "  <thead>\n",
       "    <tr style=\"text-align: right;\">\n",
       "      <th></th>\n",
       "      <th>rois</th>\n",
       "      <th>vertex_surf_sum</th>\n",
       "      <th>pourcentage</th>\n",
       "    </tr>\n",
       "  </thead>\n",
       "  <tbody>\n",
       "    <tr>\n",
       "      <th>1</th>\n",
       "      <td>V1</td>\n",
       "      <td>1844.723659</td>\n",
       "      <td>1.255366</td>\n",
       "    </tr>\n",
       "    <tr>\n",
       "      <th>2</th>\n",
       "      <td>V2</td>\n",
       "      <td>1660.604917</td>\n",
       "      <td>1.130070</td>\n",
       "    </tr>\n",
       "    <tr>\n",
       "      <th>3</th>\n",
       "      <td>V3</td>\n",
       "      <td>1479.183106</td>\n",
       "      <td>1.006609</td>\n",
       "    </tr>\n",
       "    <tr>\n",
       "      <th>4</th>\n",
       "      <td>V3AB</td>\n",
       "      <td>1334.003775</td>\n",
       "      <td>0.907812</td>\n",
       "    </tr>\n",
       "    <tr>\n",
       "      <th>0</th>\n",
       "      <td>LO</td>\n",
       "      <td>696.924144</td>\n",
       "      <td>0.474269</td>\n",
       "    </tr>\n",
       "    <tr>\n",
       "      <th>5</th>\n",
       "      <td>VO</td>\n",
       "      <td>1376.063942</td>\n",
       "      <td>0.936435</td>\n",
       "    </tr>\n",
       "    <tr>\n",
       "      <th>6</th>\n",
       "      <td>hMT+</td>\n",
       "      <td>323.769794</td>\n",
       "      <td>0.220331</td>\n",
       "    </tr>\n",
       "    <tr>\n",
       "      <th>7</th>\n",
       "      <td>iIPS</td>\n",
       "      <td>312.405732</td>\n",
       "      <td>0.212597</td>\n",
       "    </tr>\n",
       "    <tr>\n",
       "      <th>10</th>\n",
       "      <td>sIPS</td>\n",
       "      <td>480.142431</td>\n",
       "      <td>0.326745</td>\n",
       "    </tr>\n",
       "    <tr>\n",
       "      <th>8</th>\n",
       "      <td>iPCS</td>\n",
       "      <td>83.564640</td>\n",
       "      <td>0.056867</td>\n",
       "    </tr>\n",
       "    <tr>\n",
       "      <th>11</th>\n",
       "      <td>sPCS</td>\n",
       "      <td>309.161274</td>\n",
       "      <td>0.210390</td>\n",
       "    </tr>\n",
       "    <tr>\n",
       "      <th>9</th>\n",
       "      <td>mPCS</td>\n",
       "      <td>188.236670</td>\n",
       "      <td>0.128098</td>\n",
       "    </tr>\n",
       "  </tbody>\n",
       "</table>\n",
       "</div>"
      ],
      "text/plain": [
       "    rois  vertex_surf_sum  pourcentage\n",
       "1     V1      1844.723659     1.255366\n",
       "2     V2      1660.604917     1.130070\n",
       "3     V3      1479.183106     1.006609\n",
       "4   V3AB      1334.003775     0.907812\n",
       "0     LO       696.924144     0.474269\n",
       "5     VO      1376.063942     0.936435\n",
       "6   hMT+       323.769794     0.220331\n",
       "7   iIPS       312.405732     0.212597\n",
       "10  sIPS       480.142431     0.326745\n",
       "8   iPCS        83.564640     0.056867\n",
       "11  sPCS       309.161274     0.210390\n",
       "9   mPCS       188.236670     0.128098"
      ]
     },
     "execution_count": 92,
     "metadata": {},
     "output_type": "execute_result"
    }
   ],
   "source": [
    "nouveau_df"
   ]
  },
  {
   "cell_type": "code",
   "execution_count": 93,
   "id": "bf2d7bcf-f23e-4c11-b1c2-84e0c88c0bfe",
   "metadata": {
    "tags": []
   },
   "outputs": [
    {
     "data": {
      "application/vnd.plotly.v1+json": {
       "config": {
        "plotlyServerURL": "https://plot.ly"
       },
       "data": [
        {
         "marker": {
          "color": [
           "rgb(243, 231, 155)",
           "rgb(250, 196, 132)",
           "rgb(248, 160, 126)",
           "rgb(235, 127, 134)",
           "rgb(150,0,90)",
           "rgb(0,0,200)",
           "rgb(0,25,255)",
           "rgb(0,152,255)",
           "rgb(44,255,150)",
           "rgb(151,255,0)",
           "rgb(255,234,0)",
           "rgb(255,111,0)",
           "rgb(255,0,0)"
          ]
         },
         "showlegend": true,
         "type": "bar",
         "x": [
          "V1",
          "V2",
          "V3",
          "V3AB",
          "LO",
          "VO",
          "hMT+",
          "iIPS",
          "sIPS",
          "iPCS",
          "sPCS",
          "mPCS"
         ],
         "y": [
          1844.7236590381651,
          1660.6049168826428,
          1479.183105784929,
          1334.003775065915,
          696.9241444073705,
          1376.0639421500382,
          323.76979419769,
          312.40573174215626,
          480.14243056448316,
          83.56464035504419,
          309.16127385696836,
          188.23666965164557
         ]
        }
       ],
       "layout": {
        "height": 1080,
        "showlegend": true,
        "template": {
         "data": {
          "bar": [
           {
            "error_x": {
             "color": "rgb(36,36,36)"
            },
            "error_y": {
             "color": "rgb(36,36,36)"
            },
            "marker": {
             "line": {
              "color": "white",
              "width": 0.5
             },
             "pattern": {
              "fillmode": "overlay",
              "size": 10,
              "solidity": 0.2
             }
            },
            "type": "bar"
           }
          ],
          "barpolar": [
           {
            "marker": {
             "line": {
              "color": "white",
              "width": 0.5
             },
             "pattern": {
              "fillmode": "overlay",
              "size": 10,
              "solidity": 0.2
             }
            },
            "type": "barpolar"
           }
          ],
          "carpet": [
           {
            "aaxis": {
             "endlinecolor": "rgb(36,36,36)",
             "gridcolor": "white",
             "linecolor": "white",
             "minorgridcolor": "white",
             "startlinecolor": "rgb(36,36,36)"
            },
            "baxis": {
             "endlinecolor": "rgb(36,36,36)",
             "gridcolor": "white",
             "linecolor": "white",
             "minorgridcolor": "white",
             "startlinecolor": "rgb(36,36,36)"
            },
            "type": "carpet"
           }
          ],
          "choropleth": [
           {
            "colorbar": {
             "outlinewidth": 1,
             "tickcolor": "rgb(36,36,36)",
             "ticks": "outside"
            },
            "type": "choropleth"
           }
          ],
          "contour": [
           {
            "colorbar": {
             "outlinewidth": 1,
             "tickcolor": "rgb(36,36,36)",
             "ticks": "outside"
            },
            "colorscale": [
             [
              0,
              "#440154"
             ],
             [
              0.1111111111111111,
              "#482878"
             ],
             [
              0.2222222222222222,
              "#3e4989"
             ],
             [
              0.3333333333333333,
              "#31688e"
             ],
             [
              0.4444444444444444,
              "#26828e"
             ],
             [
              0.5555555555555556,
              "#1f9e89"
             ],
             [
              0.6666666666666666,
              "#35b779"
             ],
             [
              0.7777777777777778,
              "#6ece58"
             ],
             [
              0.8888888888888888,
              "#b5de2b"
             ],
             [
              1,
              "#fde725"
             ]
            ],
            "type": "contour"
           }
          ],
          "contourcarpet": [
           {
            "colorbar": {
             "outlinewidth": 1,
             "tickcolor": "rgb(36,36,36)",
             "ticks": "outside"
            },
            "type": "contourcarpet"
           }
          ],
          "heatmap": [
           {
            "colorbar": {
             "outlinewidth": 1,
             "tickcolor": "rgb(36,36,36)",
             "ticks": "outside"
            },
            "colorscale": [
             [
              0,
              "#440154"
             ],
             [
              0.1111111111111111,
              "#482878"
             ],
             [
              0.2222222222222222,
              "#3e4989"
             ],
             [
              0.3333333333333333,
              "#31688e"
             ],
             [
              0.4444444444444444,
              "#26828e"
             ],
             [
              0.5555555555555556,
              "#1f9e89"
             ],
             [
              0.6666666666666666,
              "#35b779"
             ],
             [
              0.7777777777777778,
              "#6ece58"
             ],
             [
              0.8888888888888888,
              "#b5de2b"
             ],
             [
              1,
              "#fde725"
             ]
            ],
            "type": "heatmap"
           }
          ],
          "heatmapgl": [
           {
            "colorbar": {
             "outlinewidth": 1,
             "tickcolor": "rgb(36,36,36)",
             "ticks": "outside"
            },
            "colorscale": [
             [
              0,
              "#440154"
             ],
             [
              0.1111111111111111,
              "#482878"
             ],
             [
              0.2222222222222222,
              "#3e4989"
             ],
             [
              0.3333333333333333,
              "#31688e"
             ],
             [
              0.4444444444444444,
              "#26828e"
             ],
             [
              0.5555555555555556,
              "#1f9e89"
             ],
             [
              0.6666666666666666,
              "#35b779"
             ],
             [
              0.7777777777777778,
              "#6ece58"
             ],
             [
              0.8888888888888888,
              "#b5de2b"
             ],
             [
              1,
              "#fde725"
             ]
            ],
            "type": "heatmapgl"
           }
          ],
          "histogram": [
           {
            "marker": {
             "line": {
              "color": "white",
              "width": 0.6
             }
            },
            "type": "histogram"
           }
          ],
          "histogram2d": [
           {
            "colorbar": {
             "outlinewidth": 1,
             "tickcolor": "rgb(36,36,36)",
             "ticks": "outside"
            },
            "colorscale": [
             [
              0,
              "#440154"
             ],
             [
              0.1111111111111111,
              "#482878"
             ],
             [
              0.2222222222222222,
              "#3e4989"
             ],
             [
              0.3333333333333333,
              "#31688e"
             ],
             [
              0.4444444444444444,
              "#26828e"
             ],
             [
              0.5555555555555556,
              "#1f9e89"
             ],
             [
              0.6666666666666666,
              "#35b779"
             ],
             [
              0.7777777777777778,
              "#6ece58"
             ],
             [
              0.8888888888888888,
              "#b5de2b"
             ],
             [
              1,
              "#fde725"
             ]
            ],
            "type": "histogram2d"
           }
          ],
          "histogram2dcontour": [
           {
            "colorbar": {
             "outlinewidth": 1,
             "tickcolor": "rgb(36,36,36)",
             "ticks": "outside"
            },
            "colorscale": [
             [
              0,
              "#440154"
             ],
             [
              0.1111111111111111,
              "#482878"
             ],
             [
              0.2222222222222222,
              "#3e4989"
             ],
             [
              0.3333333333333333,
              "#31688e"
             ],
             [
              0.4444444444444444,
              "#26828e"
             ],
             [
              0.5555555555555556,
              "#1f9e89"
             ],
             [
              0.6666666666666666,
              "#35b779"
             ],
             [
              0.7777777777777778,
              "#6ece58"
             ],
             [
              0.8888888888888888,
              "#b5de2b"
             ],
             [
              1,
              "#fde725"
             ]
            ],
            "type": "histogram2dcontour"
           }
          ],
          "mesh3d": [
           {
            "colorbar": {
             "outlinewidth": 1,
             "tickcolor": "rgb(36,36,36)",
             "ticks": "outside"
            },
            "type": "mesh3d"
           }
          ],
          "parcoords": [
           {
            "line": {
             "colorbar": {
              "outlinewidth": 1,
              "tickcolor": "rgb(36,36,36)",
              "ticks": "outside"
             }
            },
            "type": "parcoords"
           }
          ],
          "pie": [
           {
            "automargin": true,
            "type": "pie"
           }
          ],
          "scatter": [
           {
            "fillpattern": {
             "fillmode": "overlay",
             "size": 10,
             "solidity": 0.2
            },
            "type": "scatter"
           }
          ],
          "scatter3d": [
           {
            "line": {
             "colorbar": {
              "outlinewidth": 1,
              "tickcolor": "rgb(36,36,36)",
              "ticks": "outside"
             }
            },
            "marker": {
             "colorbar": {
              "outlinewidth": 1,
              "tickcolor": "rgb(36,36,36)",
              "ticks": "outside"
             }
            },
            "type": "scatter3d"
           }
          ],
          "scattercarpet": [
           {
            "marker": {
             "colorbar": {
              "outlinewidth": 1,
              "tickcolor": "rgb(36,36,36)",
              "ticks": "outside"
             }
            },
            "type": "scattercarpet"
           }
          ],
          "scattergeo": [
           {
            "marker": {
             "colorbar": {
              "outlinewidth": 1,
              "tickcolor": "rgb(36,36,36)",
              "ticks": "outside"
             }
            },
            "type": "scattergeo"
           }
          ],
          "scattergl": [
           {
            "marker": {
             "colorbar": {
              "outlinewidth": 1,
              "tickcolor": "rgb(36,36,36)",
              "ticks": "outside"
             }
            },
            "type": "scattergl"
           }
          ],
          "scattermapbox": [
           {
            "marker": {
             "colorbar": {
              "outlinewidth": 1,
              "tickcolor": "rgb(36,36,36)",
              "ticks": "outside"
             }
            },
            "type": "scattermapbox"
           }
          ],
          "scatterpolar": [
           {
            "marker": {
             "colorbar": {
              "outlinewidth": 1,
              "tickcolor": "rgb(36,36,36)",
              "ticks": "outside"
             }
            },
            "type": "scatterpolar"
           }
          ],
          "scatterpolargl": [
           {
            "marker": {
             "colorbar": {
              "outlinewidth": 1,
              "tickcolor": "rgb(36,36,36)",
              "ticks": "outside"
             }
            },
            "type": "scatterpolargl"
           }
          ],
          "scatterternary": [
           {
            "marker": {
             "colorbar": {
              "outlinewidth": 1,
              "tickcolor": "rgb(36,36,36)",
              "ticks": "outside"
             }
            },
            "type": "scatterternary"
           }
          ],
          "surface": [
           {
            "colorbar": {
             "outlinewidth": 1,
             "tickcolor": "rgb(36,36,36)",
             "ticks": "outside"
            },
            "colorscale": [
             [
              0,
              "#440154"
             ],
             [
              0.1111111111111111,
              "#482878"
             ],
             [
              0.2222222222222222,
              "#3e4989"
             ],
             [
              0.3333333333333333,
              "#31688e"
             ],
             [
              0.4444444444444444,
              "#26828e"
             ],
             [
              0.5555555555555556,
              "#1f9e89"
             ],
             [
              0.6666666666666666,
              "#35b779"
             ],
             [
              0.7777777777777778,
              "#6ece58"
             ],
             [
              0.8888888888888888,
              "#b5de2b"
             ],
             [
              1,
              "#fde725"
             ]
            ],
            "type": "surface"
           }
          ],
          "table": [
           {
            "cells": {
             "fill": {
              "color": "rgb(237,237,237)"
             },
             "line": {
              "color": "white"
             }
            },
            "header": {
             "fill": {
              "color": "rgb(217,217,217)"
             },
             "line": {
              "color": "white"
             }
            },
            "type": "table"
           }
          ]
         },
         "layout": {
          "annotationdefaults": {
           "arrowhead": 0,
           "arrowwidth": 1
          },
          "autotypenumbers": "strict",
          "coloraxis": {
           "colorbar": {
            "outlinewidth": 1,
            "tickcolor": "rgb(36,36,36)",
            "ticks": "outside"
           }
          },
          "colorscale": {
           "diverging": [
            [
             0,
             "rgb(103,0,31)"
            ],
            [
             0.1,
             "rgb(178,24,43)"
            ],
            [
             0.2,
             "rgb(214,96,77)"
            ],
            [
             0.3,
             "rgb(244,165,130)"
            ],
            [
             0.4,
             "rgb(253,219,199)"
            ],
            [
             0.5,
             "rgb(247,247,247)"
            ],
            [
             0.6,
             "rgb(209,229,240)"
            ],
            [
             0.7,
             "rgb(146,197,222)"
            ],
            [
             0.8,
             "rgb(67,147,195)"
            ],
            [
             0.9,
             "rgb(33,102,172)"
            ],
            [
             1,
             "rgb(5,48,97)"
            ]
           ],
           "sequential": [
            [
             0,
             "#440154"
            ],
            [
             0.1111111111111111,
             "#482878"
            ],
            [
             0.2222222222222222,
             "#3e4989"
            ],
            [
             0.3333333333333333,
             "#31688e"
            ],
            [
             0.4444444444444444,
             "#26828e"
            ],
            [
             0.5555555555555556,
             "#1f9e89"
            ],
            [
             0.6666666666666666,
             "#35b779"
            ],
            [
             0.7777777777777778,
             "#6ece58"
            ],
            [
             0.8888888888888888,
             "#b5de2b"
            ],
            [
             1,
             "#fde725"
            ]
           ],
           "sequentialminus": [
            [
             0,
             "#440154"
            ],
            [
             0.1111111111111111,
             "#482878"
            ],
            [
             0.2222222222222222,
             "#3e4989"
            ],
            [
             0.3333333333333333,
             "#31688e"
            ],
            [
             0.4444444444444444,
             "#26828e"
            ],
            [
             0.5555555555555556,
             "#1f9e89"
            ],
            [
             0.6666666666666666,
             "#35b779"
            ],
            [
             0.7777777777777778,
             "#6ece58"
            ],
            [
             0.8888888888888888,
             "#b5de2b"
            ],
            [
             1,
             "#fde725"
            ]
           ]
          },
          "colorway": [
           "#1F77B4",
           "#FF7F0E",
           "#2CA02C",
           "#D62728",
           "#9467BD",
           "#8C564B",
           "#E377C2",
           "#7F7F7F",
           "#BCBD22",
           "#17BECF"
          ],
          "font": {
           "color": "rgb(36,36,36)"
          },
          "geo": {
           "bgcolor": "white",
           "lakecolor": "white",
           "landcolor": "white",
           "showlakes": true,
           "showland": true,
           "subunitcolor": "white"
          },
          "hoverlabel": {
           "align": "left"
          },
          "hovermode": "closest",
          "mapbox": {
           "style": "light"
          },
          "paper_bgcolor": "white",
          "plot_bgcolor": "white",
          "polar": {
           "angularaxis": {
            "gridcolor": "rgb(232,232,232)",
            "linecolor": "rgb(36,36,36)",
            "showgrid": false,
            "showline": true,
            "ticks": "outside"
           },
           "bgcolor": "white",
           "radialaxis": {
            "gridcolor": "rgb(232,232,232)",
            "linecolor": "rgb(36,36,36)",
            "showgrid": false,
            "showline": true,
            "ticks": "outside"
           }
          },
          "scene": {
           "xaxis": {
            "backgroundcolor": "white",
            "gridcolor": "rgb(232,232,232)",
            "gridwidth": 2,
            "linecolor": "rgb(36,36,36)",
            "showbackground": true,
            "showgrid": false,
            "showline": true,
            "ticks": "outside",
            "zeroline": false,
            "zerolinecolor": "rgb(36,36,36)"
           },
           "yaxis": {
            "backgroundcolor": "white",
            "gridcolor": "rgb(232,232,232)",
            "gridwidth": 2,
            "linecolor": "rgb(36,36,36)",
            "showbackground": true,
            "showgrid": false,
            "showline": true,
            "ticks": "outside",
            "zeroline": false,
            "zerolinecolor": "rgb(36,36,36)"
           },
           "zaxis": {
            "backgroundcolor": "white",
            "gridcolor": "rgb(232,232,232)",
            "gridwidth": 2,
            "linecolor": "rgb(36,36,36)",
            "showbackground": true,
            "showgrid": false,
            "showline": true,
            "ticks": "outside",
            "zeroline": false,
            "zerolinecolor": "rgb(36,36,36)"
           }
          },
          "shapedefaults": {
           "fillcolor": "black",
           "line": {
            "width": 0
           },
           "opacity": 0.3
          },
          "ternary": {
           "aaxis": {
            "gridcolor": "rgb(232,232,232)",
            "linecolor": "rgb(36,36,36)",
            "showgrid": false,
            "showline": true,
            "ticks": "outside"
           },
           "baxis": {
            "gridcolor": "rgb(232,232,232)",
            "linecolor": "rgb(36,36,36)",
            "showgrid": false,
            "showline": true,
            "ticks": "outside"
           },
           "bgcolor": "white",
           "caxis": {
            "gridcolor": "rgb(232,232,232)",
            "linecolor": "rgb(36,36,36)",
            "showgrid": false,
            "showline": true,
            "ticks": "outside"
           }
          },
          "title": {
           "x": 0.05
          },
          "xaxis": {
           "automargin": true,
           "gridcolor": "rgb(232,232,232)",
           "linecolor": "rgb(36,36,36)",
           "showgrid": false,
           "showline": true,
           "ticks": "outside",
           "title": {
            "standoff": 15
           },
           "zeroline": false,
           "zerolinecolor": "rgb(36,36,36)"
          },
          "yaxis": {
           "automargin": true,
           "gridcolor": "rgb(232,232,232)",
           "linecolor": "rgb(36,36,36)",
           "showgrid": false,
           "showline": true,
           "ticks": "outside",
           "title": {
            "standoff": 15
           },
           "zeroline": false,
           "zerolinecolor": "rgb(36,36,36)"
          }
         }
        },
        "width": 1920,
        "xaxis": {
         "autorange": true,
         "linecolor": "rgba(255,255,255,0)",
         "range": [
          -0.5,
          11.5
         ],
         "showline": true,
         "tickfont": {
          "size": 18
         },
         "ticklen": 0,
         "type": "category"
        },
        "yaxis": {
         "nticks": 5,
         "range": [
          0,
          2000
         ],
         "title": {
          "text": "mm<sup>2</sup>"
         },
         "type": "linear"
        }
       }
      },
      "image/png": "[encoded data removed]",
      "text/html": [
       "<div>                            <div id=\"b48a64e1-138d-4e2c-ad8b-851b61dcdae4\" class=\"plotly-graph-div\" style=\"height:1080px; width:1920px;\"></div>            <script type=\"text/javascript\">                require([\"plotly\"], function(Plotly) {                    window.PLOTLYENV=window.PLOTLYENV || {};                                    if (document.getElementById(\"b48a64e1-138d-4e2c-ad8b-851b61dcdae4\")) {                    Plotly.newPlot(                        \"b48a64e1-138d-4e2c-ad8b-851b61dcdae4\",                        [{\"marker\":{\"color\":[\"rgb(243, 231, 155)\",\"rgb(250, 196, 132)\",\"rgb(248, 160, 126)\",\"rgb(235, 127, 134)\",\"rgb(150,0,90)\",\"rgb(0,0,200)\",\"rgb(0,25,255)\",\"rgb(0,152,255)\",\"rgb(44,255,150)\",\"rgb(151,255,0)\",\"rgb(255,234,0)\",\"rgb(255,111,0)\",\"rgb(255,0,0)\"]},\"showlegend\":true,\"x\":[\"V1\",\"V2\",\"V3\",\"V3AB\",\"LO\",\"VO\",\"hMT+\",\"iIPS\",\"sIPS\",\"iPCS\",\"sPCS\",\"mPCS\"],\"y\":[1844.7236590381651,1660.6049168826428,1479.183105784929,1334.003775065915,696.9241444073705,1376.0639421500382,323.76979419769,312.40573174215626,480.14243056448316,83.56464035504419,309.16127385696836,188.23666965164557],\"type\":\"bar\"}],                        {\"template\":{\"data\":{\"barpolar\":[{\"marker\":{\"line\":{\"color\":\"white\",\"width\":0.5},\"pattern\":{\"fillmode\":\"overlay\",\"size\":10,\"solidity\":0.2}},\"type\":\"barpolar\"}],\"bar\":[{\"error_x\":{\"color\":\"rgb(36,36,36)\"},\"error_y\":{\"color\":\"rgb(36,36,36)\"},\"marker\":{\"line\":{\"color\":\"white\",\"width\":0.5},\"pattern\":{\"fillmode\":\"overlay\",\"size\":10,\"solidity\":0.2}},\"type\":\"bar\"}],\"carpet\":[{\"aaxis\":{\"endlinecolor\":\"rgb(36,36,36)\",\"gridcolor\":\"white\",\"linecolor\":\"white\",\"minorgridcolor\":\"white\",\"startlinecolor\":\"rgb(36,36,36)\"},\"baxis\":{\"endlinecolor\":\"rgb(36,36,36)\",\"gridcolor\":\"white\",\"linecolor\":\"white\",\"minorgridcolor\":\"white\",\"startlinecolor\":\"rgb(36,36,36)\"},\"type\":\"carpet\"}],\"choropleth\":[{\"colorbar\":{\"outlinewidth\":1,\"tickcolor\":\"rgb(36,36,36)\",\"ticks\":\"outside\"},\"type\":\"choropleth\"}],\"contourcarpet\":[{\"colorbar\":{\"outlinewidth\":1,\"tickcolor\":\"rgb(36,36,36)\",\"ticks\":\"outside\"},\"type\":\"contourcarpet\"}],\"contour\":[{\"colorbar\":{\"outlinewidth\":1,\"tickcolor\":\"rgb(36,36,36)\",\"ticks\":\"outside\"},\"colorscale\":[[0.0,\"#440154\"],[0.1111111111111111,\"#482878\"],[0.2222222222222222,\"#3e4989\"],[0.3333333333333333,\"#31688e\"],[0.4444444444444444,\"#26828e\"],[0.5555555555555556,\"#1f9e89\"],[0.6666666666666666,\"#35b779\"],[0.7777777777777778,\"#6ece58\"],[0.8888888888888888,\"#b5de2b\"],[1.0,\"#fde725\"]],\"type\":\"contour\"}],\"heatmapgl\":[{\"colorbar\":{\"outlinewidth\":1,\"tickcolor\":\"rgb(36,36,36)\",\"ticks\":\"outside\"},\"colorscale\":[[0.0,\"#440154\"],[0.1111111111111111,\"#482878\"],[0.2222222222222222,\"#3e4989\"],[0.3333333333333333,\"#31688e\"],[0.4444444444444444,\"#26828e\"],[0.5555555555555556,\"#1f9e89\"],[0.6666666666666666,\"#35b779\"],[0.7777777777777778,\"#6ece58\"],[0.8888888888888888,\"#b5de2b\"],[1.0,\"#fde725\"]],\"type\":\"heatmapgl\"}],\"heatmap\":[{\"colorbar\":{\"outlinewidth\":1,\"tickcolor\":\"rgb(36,36,36)\",\"ticks\":\"outside\"},\"colorscale\":[[0.0,\"#440154\"],[0.1111111111111111,\"#482878\"],[0.2222222222222222,\"#3e4989\"],[0.3333333333333333,\"#31688e\"],[0.4444444444444444,\"#26828e\"],[0.5555555555555556,\"#1f9e89\"],[0.6666666666666666,\"#35b779\"],[0.7777777777777778,\"#6ece58\"],[0.8888888888888888,\"#b5de2b\"],[1.0,\"#fde725\"]],\"type\":\"heatmap\"}],\"histogram2dcontour\":[{\"colorbar\":{\"outlinewidth\":1,\"tickcolor\":\"rgb(36,36,36)\",\"ticks\":\"outside\"},\"colorscale\":[[0.0,\"#440154\"],[0.1111111111111111,\"#482878\"],[0.2222222222222222,\"#3e4989\"],[0.3333333333333333,\"#31688e\"],[0.4444444444444444,\"#26828e\"],[0.5555555555555556,\"#1f9e89\"],[0.6666666666666666,\"#35b779\"],[0.7777777777777778,\"#6ece58\"],[0.8888888888888888,\"#b5de2b\"],[1.0,\"#fde725\"]],\"type\":\"histogram2dcontour\"}],\"histogram2d\":[{\"colorbar\":{\"outlinewidth\":1,\"tickcolor\":\"rgb(36,36,36)\",\"ticks\":\"outside\"},\"colorscale\":[[0.0,\"#440154\"],[0.1111111111111111,\"#482878\"],[0.2222222222222222,\"#3e4989\"],[0.3333333333333333,\"#31688e\"],[0.4444444444444444,\"#26828e\"],[0.5555555555555556,\"#1f9e89\"],[0.6666666666666666,\"#35b779\"],[0.7777777777777778,\"#6ece58\"],[0.8888888888888888,\"#b5de2b\"],[1.0,\"#fde725\"]],\"type\":\"histogram2d\"}],\"histogram\":[{\"marker\":{\"line\":{\"color\":\"white\",\"width\":0.6}},\"type\":\"histogram\"}],\"mesh3d\":[{\"colorbar\":{\"outlinewidth\":1,\"tickcolor\":\"rgb(36,36,36)\",\"ticks\":\"outside\"},\"type\":\"mesh3d\"}],\"parcoords\":[{\"line\":{\"colorbar\":{\"outlinewidth\":1,\"tickcolor\":\"rgb(36,36,36)\",\"ticks\":\"outside\"}},\"type\":\"parcoords\"}],\"pie\":[{\"automargin\":true,\"type\":\"pie\"}],\"scatter3d\":[{\"line\":{\"colorbar\":{\"outlinewidth\":1,\"tickcolor\":\"rgb(36,36,36)\",\"ticks\":\"outside\"}},\"marker\":{\"colorbar\":{\"outlinewidth\":1,\"tickcolor\":\"rgb(36,36,36)\",\"ticks\":\"outside\"}},\"type\":\"scatter3d\"}],\"scattercarpet\":[{\"marker\":{\"colorbar\":{\"outlinewidth\":1,\"tickcolor\":\"rgb(36,36,36)\",\"ticks\":\"outside\"}},\"type\":\"scattercarpet\"}],\"scattergeo\":[{\"marker\":{\"colorbar\":{\"outlinewidth\":1,\"tickcolor\":\"rgb(36,36,36)\",\"ticks\":\"outside\"}},\"type\":\"scattergeo\"}],\"scattergl\":[{\"marker\":{\"colorbar\":{\"outlinewidth\":1,\"tickcolor\":\"rgb(36,36,36)\",\"ticks\":\"outside\"}},\"type\":\"scattergl\"}],\"scattermapbox\":[{\"marker\":{\"colorbar\":{\"outlinewidth\":1,\"tickcolor\":\"rgb(36,36,36)\",\"ticks\":\"outside\"}},\"type\":\"scattermapbox\"}],\"scatterpolargl\":[{\"marker\":{\"colorbar\":{\"outlinewidth\":1,\"tickcolor\":\"rgb(36,36,36)\",\"ticks\":\"outside\"}},\"type\":\"scatterpolargl\"}],\"scatterpolar\":[{\"marker\":{\"colorbar\":{\"outlinewidth\":1,\"tickcolor\":\"rgb(36,36,36)\",\"ticks\":\"outside\"}},\"type\":\"scatterpolar\"}],\"scatter\":[{\"fillpattern\":{\"fillmode\":\"overlay\",\"size\":10,\"solidity\":0.2},\"type\":\"scatter\"}],\"scatterternary\":[{\"marker\":{\"colorbar\":{\"outlinewidth\":1,\"tickcolor\":\"rgb(36,36,36)\",\"ticks\":\"outside\"}},\"type\":\"scatterternary\"}],\"surface\":[{\"colorbar\":{\"outlinewidth\":1,\"tickcolor\":\"rgb(36,36,36)\",\"ticks\":\"outside\"},\"colorscale\":[[0.0,\"#440154\"],[0.1111111111111111,\"#482878\"],[0.2222222222222222,\"#3e4989\"],[0.3333333333333333,\"#31688e\"],[0.4444444444444444,\"#26828e\"],[0.5555555555555556,\"#1f9e89\"],[0.6666666666666666,\"#35b779\"],[0.7777777777777778,\"#6ece58\"],[0.8888888888888888,\"#b5de2b\"],[1.0,\"#fde725\"]],\"type\":\"surface\"}],\"table\":[{\"cells\":{\"fill\":{\"color\":\"rgb(237,237,237)\"},\"line\":{\"color\":\"white\"}},\"header\":{\"fill\":{\"color\":\"rgb(217,217,217)\"},\"line\":{\"color\":\"white\"}},\"type\":\"table\"}]},\"layout\":{\"annotationdefaults\":{\"arrowhead\":0,\"arrowwidth\":1},\"autotypenumbers\":\"strict\",\"coloraxis\":{\"colorbar\":{\"outlinewidth\":1,\"tickcolor\":\"rgb(36,36,36)\",\"ticks\":\"outside\"}},\"colorscale\":{\"diverging\":[[0.0,\"rgb(103,0,31)\"],[0.1,\"rgb(178,24,43)\"],[0.2,\"rgb(214,96,77)\"],[0.3,\"rgb(244,165,130)\"],[0.4,\"rgb(253,219,199)\"],[0.5,\"rgb(247,247,247)\"],[0.6,\"rgb(209,229,240)\"],[0.7,\"rgb(146,197,222)\"],[0.8,\"rgb(67,147,195)\"],[0.9,\"rgb(33,102,172)\"],[1.0,\"rgb(5,48,97)\"]],\"sequential\":[[0.0,\"#440154\"],[0.1111111111111111,\"#482878\"],[0.2222222222222222,\"#3e4989\"],[0.3333333333333333,\"#31688e\"],[0.4444444444444444,\"#26828e\"],[0.5555555555555556,\"#1f9e89\"],[0.6666666666666666,\"#35b779\"],[0.7777777777777778,\"#6ece58\"],[0.8888888888888888,\"#b5de2b\"],[1.0,\"#fde725\"]],\"sequentialminus\":[[0.0,\"#440154\"],[0.1111111111111111,\"#482878\"],[0.2222222222222222,\"#3e4989\"],[0.3333333333333333,\"#31688e\"],[0.4444444444444444,\"#26828e\"],[0.5555555555555556,\"#1f9e89\"],[0.6666666666666666,\"#35b779\"],[0.7777777777777778,\"#6ece58\"],[0.8888888888888888,\"#b5de2b\"],[1.0,\"#fde725\"]]},\"colorway\":[\"#1F77B4\",\"#FF7F0E\",\"#2CA02C\",\"#D62728\",\"#9467BD\",\"#8C564B\",\"#E377C2\",\"#7F7F7F\",\"#BCBD22\",\"#17BECF\"],\"font\":{\"color\":\"rgb(36,36,36)\"},\"geo\":{\"bgcolor\":\"white\",\"lakecolor\":\"white\",\"landcolor\":\"white\",\"showlakes\":true,\"showland\":true,\"subunitcolor\":\"white\"},\"hoverlabel\":{\"align\":\"left\"},\"hovermode\":\"closest\",\"mapbox\":{\"style\":\"light\"},\"paper_bgcolor\":\"white\",\"plot_bgcolor\":\"white\",\"polar\":{\"angularaxis\":{\"gridcolor\":\"rgb(232,232,232)\",\"linecolor\":\"rgb(36,36,36)\",\"showgrid\":false,\"showline\":true,\"ticks\":\"outside\"},\"bgcolor\":\"white\",\"radialaxis\":{\"gridcolor\":\"rgb(232,232,232)\",\"linecolor\":\"rgb(36,36,36)\",\"showgrid\":false,\"showline\":true,\"ticks\":\"outside\"}},\"scene\":{\"xaxis\":{\"backgroundcolor\":\"white\",\"gridcolor\":\"rgb(232,232,232)\",\"gridwidth\":2,\"linecolor\":\"rgb(36,36,36)\",\"showbackground\":true,\"showgrid\":false,\"showline\":true,\"ticks\":\"outside\",\"zeroline\":false,\"zerolinecolor\":\"rgb(36,36,36)\"},\"yaxis\":{\"backgroundcolor\":\"white\",\"gridcolor\":\"rgb(232,232,232)\",\"gridwidth\":2,\"linecolor\":\"rgb(36,36,36)\",\"showbackground\":true,\"showgrid\":false,\"showline\":true,\"ticks\":\"outside\",\"zeroline\":false,\"zerolinecolor\":\"rgb(36,36,36)\"},\"zaxis\":{\"backgroundcolor\":\"white\",\"gridcolor\":\"rgb(232,232,232)\",\"gridwidth\":2,\"linecolor\":\"rgb(36,36,36)\",\"showbackground\":true,\"showgrid\":false,\"showline\":true,\"ticks\":\"outside\",\"zeroline\":false,\"zerolinecolor\":\"rgb(36,36,36)\"}},\"shapedefaults\":{\"fillcolor\":\"black\",\"line\":{\"width\":0},\"opacity\":0.3},\"ternary\":{\"aaxis\":{\"gridcolor\":\"rgb(232,232,232)\",\"linecolor\":\"rgb(36,36,36)\",\"showgrid\":false,\"showline\":true,\"ticks\":\"outside\"},\"baxis\":{\"gridcolor\":\"rgb(232,232,232)\",\"linecolor\":\"rgb(36,36,36)\",\"showgrid\":false,\"showline\":true,\"ticks\":\"outside\"},\"bgcolor\":\"white\",\"caxis\":{\"gridcolor\":\"rgb(232,232,232)\",\"linecolor\":\"rgb(36,36,36)\",\"showgrid\":false,\"showline\":true,\"ticks\":\"outside\"}},\"title\":{\"x\":0.05},\"xaxis\":{\"automargin\":true,\"gridcolor\":\"rgb(232,232,232)\",\"linecolor\":\"rgb(36,36,36)\",\"showgrid\":false,\"showline\":true,\"ticks\":\"outside\",\"title\":{\"standoff\":15},\"zeroline\":false,\"zerolinecolor\":\"rgb(36,36,36)\"},\"yaxis\":{\"automargin\":true,\"gridcolor\":\"rgb(232,232,232)\",\"linecolor\":\"rgb(36,36,36)\",\"showgrid\":false,\"showline\":true,\"ticks\":\"outside\",\"title\":{\"standoff\":15},\"zeroline\":false,\"zerolinecolor\":\"rgb(36,36,36)\"}}},\"yaxis\":{\"title\":{\"text\":\"mm\\u003csup\\u003e2\\u003c\\u002fsup\\u003e\"},\"range\":[0,2000],\"nticks\":5},\"xaxis\":{\"tickfont\":{\"size\":18},\"showline\":true,\"ticklen\":0,\"linecolor\":\"rgba(255,255,255,0)\"},\"height\":1080,\"width\":1920,\"showlegend\":true},                        {\"responsive\": true}                    ).then(function(){\n",
       "                            \n",
       "var gd = document.getElementById('b48a64e1-138d-4e2c-ad8b-851b61dcdae4');\n",
       "var x = new MutationObserver(function (mutations, observer) {{\n",
       "        var display = window.getComputedStyle(gd).display;\n",
       "        if (!display || display === 'none') {{\n",
       "            console.log([gd, 'removed!']);\n",
       "            Plotly.purge(gd);\n",
       "            observer.disconnect();\n",
       "        }}\n",
       "}});\n",
       "\n",
       "// Listen for the removal of the full notebook cells\n",
       "var notebookContainer = gd.closest('#notebook-container');\n",
       "if (notebookContainer) {{\n",
       "    x.observe(notebookContainer, {childList: true});\n",
       "}}\n",
       "\n",
       "// Listen for the clearing of the current output cell\n",
       "var outputEl = gd.closest('.output');\n",
       "if (outputEl) {{\n",
       "    x.observe(outputEl, {childList: true});\n",
       "}}\n",
       "\n",
       "                        })                };                });            </script>        </div>"
      ]
     },
     "metadata": {},
     "output_type": "display_data"
    }
   ],
   "source": [
    "\n",
    "data = data.dropna()\n",
    "rois = pd.unique(data.rois)\n",
    "\n",
    "roi_colors = px.colors.sequential.Sunset[:4] + px.colors.sequential.Rainbow[:]\n",
    "\n",
    "\n",
    "fig_height, fig_width = 1080, 1920\n",
    "bar_width = 1\n",
    "fig =go.Figure()\n",
    "\n",
    "fig.add_trace(go.Bar(x=nouveau_df.rois, \n",
    "                     y=nouveau_df.vertex_surf_sum, \n",
    "                     showlegend=True, \n",
    "                     marker_color = roi_colors ))\n",
    "fig.update_yaxes(range=[0,2000], \n",
    "                 nticks=5, \n",
    "                 title_text='mm<sup>2</sup>')\n",
    "\n",
    "fig.update_xaxes(showline=True, \n",
    "                 ticklen=0, \n",
    "                 linecolor=('rgba(255,255,255,0)'), \n",
    "                 tickfont=dict(size=18))    \n",
    "\n",
    "# fig.update_xaxes(type='category')\n",
    "fig.update_layout(height=fig_height, \n",
    "                  width=fig_width, \n",
    "                  showlegend=True, \n",
    "                  template='simple_white')\n",
    "fig.write_image(\"/Users/uriel/Downloads/{}_rois_areas.pdf\".format(subject))\n",
    "\n",
    "fig.show()"
   ]
  },
  {
   "cell_type": "code",
   "execution_count": 72,
   "id": "58388801-e316-46b9-a637-4b11500caca8",
   "metadata": {
    "tags": []
   },
   "outputs": [
    {
     "data": {
      "text/html": [
       "<div>\n",
       "<style scoped>\n",
       "    .dataframe tbody tr th:only-of-type {\n",
       "        vertical-align: middle;\n",
       "    }\n",
       "\n",
       "    .dataframe tbody tr th {\n",
       "        vertical-align: top;\n",
       "    }\n",
       "\n",
       "    .dataframe thead th {\n",
       "        text-align: right;\n",
       "    }\n",
       "</style>\n",
       "<table border=\"1\" class=\"dataframe\">\n",
       "  <thead>\n",
       "    <tr style=\"text-align: right;\">\n",
       "      <th></th>\n",
       "      <th>prf_rsq</th>\n",
       "      <th>prf_ecc</th>\n",
       "      <th>polar_real</th>\n",
       "      <th>polar_imag</th>\n",
       "      <th>prf_size</th>\n",
       "      <th>amplitude</th>\n",
       "      <th>baseline</th>\n",
       "      <th>prf_x</th>\n",
       "      <th>prf_y</th>\n",
       "      <th>hrf_1</th>\n",
       "      <th>hrf_2</th>\n",
       "      <th>prf_n</th>\n",
       "      <th>prf_loo_r2</th>\n",
       "      <th>rois</th>\n",
       "      <th>subject</th>\n",
       "      <th>hemi</th>\n",
       "      <th>pcm</th>\n",
       "      <th>vertex_surf</th>\n",
       "    </tr>\n",
       "  </thead>\n",
       "  <tbody>\n",
       "    <tr>\n",
       "      <th>0</th>\n",
       "      <td>0.544784</td>\n",
       "      <td>4.148319</td>\n",
       "      <td>0.303645</td>\n",
       "      <td>-0.952730</td>\n",
       "      <td>0.991623</td>\n",
       "      <td>0.285239</td>\n",
       "      <td>-0.202981</td>\n",
       "      <td>1.259918</td>\n",
       "      <td>-3.952131</td>\n",
       "      <td>5.841734</td>\n",
       "      <td>-2.592693</td>\n",
       "      <td>0.440393</td>\n",
       "      <td>0.280069</td>\n",
       "      <td>V1</td>\n",
       "      <td>sub-01</td>\n",
       "      <td>hemi-L</td>\n",
       "      <td>1.594387</td>\n",
       "      <td>0.090760</td>\n",
       "    </tr>\n",
       "    <tr>\n",
       "      <th>1</th>\n",
       "      <td>0.721184</td>\n",
       "      <td>3.924539</td>\n",
       "      <td>0.221637</td>\n",
       "      <td>-0.975070</td>\n",
       "      <td>1.195946</td>\n",
       "      <td>0.399265</td>\n",
       "      <td>-0.383623</td>\n",
       "      <td>0.869663</td>\n",
       "      <td>-3.826736</td>\n",
       "      <td>4.723704</td>\n",
       "      <td>-2.233333</td>\n",
       "      <td>0.446812</td>\n",
       "      <td>0.521833</td>\n",
       "      <td>V1</td>\n",
       "      <td>sub-01</td>\n",
       "      <td>hemi-L</td>\n",
       "      <td>12.737061</td>\n",
       "      <td>0.256740</td>\n",
       "    </tr>\n",
       "    <tr>\n",
       "      <th>2</th>\n",
       "      <td>0.314963</td>\n",
       "      <td>4.562551</td>\n",
       "      <td>0.316119</td>\n",
       "      <td>-0.948360</td>\n",
       "      <td>1.296987</td>\n",
       "      <td>0.122983</td>\n",
       "      <td>-0.110937</td>\n",
       "      <td>1.445393</td>\n",
       "      <td>-4.325868</td>\n",
       "      <td>8.209347</td>\n",
       "      <td>-3.110799</td>\n",
       "      <td>0.661363</td>\n",
       "      <td>0.098320</td>\n",
       "      <td>V1</td>\n",
       "      <td>sub-01</td>\n",
       "      <td>hemi-L</td>\n",
       "      <td>1.346578</td>\n",
       "      <td>0.293665</td>\n",
       "    </tr>\n",
       "    <tr>\n",
       "      <th>3</th>\n",
       "      <td>0.421139</td>\n",
       "      <td>3.958556</td>\n",
       "      <td>0.239607</td>\n",
       "      <td>-0.970740</td>\n",
       "      <td>1.630879</td>\n",
       "      <td>0.060881</td>\n",
       "      <td>-0.158310</td>\n",
       "      <td>0.948104</td>\n",
       "      <td>-3.842817</td>\n",
       "      <td>6.847516</td>\n",
       "      <td>-2.305906</td>\n",
       "      <td>0.908489</td>\n",
       "      <td>0.159729</td>\n",
       "      <td>V1</td>\n",
       "      <td>sub-01</td>\n",
       "      <td>hemi-L</td>\n",
       "      <td>3.641613</td>\n",
       "      <td>0.041887</td>\n",
       "    </tr>\n",
       "    <tr>\n",
       "      <th>4</th>\n",
       "      <td>0.716370</td>\n",
       "      <td>3.781982</td>\n",
       "      <td>0.219459</td>\n",
       "      <td>-0.975573</td>\n",
       "      <td>1.195633</td>\n",
       "      <td>0.405842</td>\n",
       "      <td>-0.397000</td>\n",
       "      <td>0.829953</td>\n",
       "      <td>-3.689607</td>\n",
       "      <td>4.625887</td>\n",
       "      <td>-2.131217</td>\n",
       "      <td>0.446567</td>\n",
       "      <td>0.523299</td>\n",
       "      <td>V1</td>\n",
       "      <td>sub-01</td>\n",
       "      <td>hemi-L</td>\n",
       "      <td>10.552026</td>\n",
       "      <td>0.043934</td>\n",
       "    </tr>\n",
       "    <tr>\n",
       "      <th>...</th>\n",
       "      <td>...</td>\n",
       "      <td>...</td>\n",
       "      <td>...</td>\n",
       "      <td>...</td>\n",
       "      <td>...</td>\n",
       "      <td>...</td>\n",
       "      <td>...</td>\n",
       "      <td>...</td>\n",
       "      <td>...</td>\n",
       "      <td>...</td>\n",
       "      <td>...</td>\n",
       "      <td>...</td>\n",
       "      <td>...</td>\n",
       "      <td>...</td>\n",
       "      <td>...</td>\n",
       "      <td>...</td>\n",
       "      <td>...</td>\n",
       "      <td>...</td>\n",
       "    </tr>\n",
       "    <tr>\n",
       "      <th>84465</th>\n",
       "      <td>0.324980</td>\n",
       "      <td>3.215258</td>\n",
       "      <td>0.926526</td>\n",
       "      <td>0.241247</td>\n",
       "      <td>1.326809</td>\n",
       "      <td>420.789550</td>\n",
       "      <td>-420.867680</td>\n",
       "      <td>2.906990</td>\n",
       "      <td>0.827984</td>\n",
       "      <td>-0.663224</td>\n",
       "      <td>8.311648</td>\n",
       "      <td>-0.000105</td>\n",
       "      <td>0.076260</td>\n",
       "      <td>mPCS</td>\n",
       "      <td>sub-01</td>\n",
       "      <td>hemi-R</td>\n",
       "      <td>0.001608</td>\n",
       "      <td>0.561889</td>\n",
       "    </tr>\n",
       "    <tr>\n",
       "      <th>84548</th>\n",
       "      <td>0.261796</td>\n",
       "      <td>2.723024</td>\n",
       "      <td>0.645735</td>\n",
       "      <td>-0.428152</td>\n",
       "      <td>1.303527</td>\n",
       "      <td>376.723240</td>\n",
       "      <td>-376.776670</td>\n",
       "      <td>1.984482</td>\n",
       "      <td>-1.091804</td>\n",
       "      <td>-0.852496</td>\n",
       "      <td>6.083267</td>\n",
       "      <td>-0.000066</td>\n",
       "      <td>0.072955</td>\n",
       "      <td>mPCS</td>\n",
       "      <td>sub-01</td>\n",
       "      <td>hemi-R</td>\n",
       "      <td>0.406843</td>\n",
       "      <td>0.284441</td>\n",
       "    </tr>\n",
       "    <tr>\n",
       "      <th>84549</th>\n",
       "      <td>0.224442</td>\n",
       "      <td>4.001571</td>\n",
       "      <td>0.460356</td>\n",
       "      <td>-0.583859</td>\n",
       "      <td>1.447820</td>\n",
       "      <td>352.670720</td>\n",
       "      <td>-352.719000</td>\n",
       "      <td>2.061225</td>\n",
       "      <td>-2.410850</td>\n",
       "      <td>-0.994732</td>\n",
       "      <td>-5.214177</td>\n",
       "      <td>-0.000046</td>\n",
       "      <td>0.061753</td>\n",
       "      <td>mPCS</td>\n",
       "      <td>sub-01</td>\n",
       "      <td>hemi-R</td>\n",
       "      <td>0.018459</td>\n",
       "      <td>0.307693</td>\n",
       "    </tr>\n",
       "    <tr>\n",
       "      <th>84587</th>\n",
       "      <td>0.277942</td>\n",
       "      <td>7.323893</td>\n",
       "      <td>0.576176</td>\n",
       "      <td>0.659107</td>\n",
       "      <td>1.521099</td>\n",
       "      <td>409.001220</td>\n",
       "      <td>-409.155880</td>\n",
       "      <td>4.791736</td>\n",
       "      <td>4.854622</td>\n",
       "      <td>-0.707327</td>\n",
       "      <td>0.569816</td>\n",
       "      <td>-0.000048</td>\n",
       "      <td>0.055036</td>\n",
       "      <td>mPCS</td>\n",
       "      <td>sub-01</td>\n",
       "      <td>hemi-R</td>\n",
       "      <td>0.250466</td>\n",
       "      <td>0.232354</td>\n",
       "    </tr>\n",
       "    <tr>\n",
       "      <th>84590</th>\n",
       "      <td>0.244511</td>\n",
       "      <td>3.053939</td>\n",
       "      <td>0.321869</td>\n",
       "      <td>0.918423</td>\n",
       "      <td>1.359317</td>\n",
       "      <td>374.111000</td>\n",
       "      <td>-374.173030</td>\n",
       "      <td>0.909884</td>\n",
       "      <td>2.840077</td>\n",
       "      <td>-0.665321</td>\n",
       "      <td>-4.394750</td>\n",
       "      <td>-0.000125</td>\n",
       "      <td>0.080730</td>\n",
       "      <td>mPCS</td>\n",
       "      <td>sub-01</td>\n",
       "      <td>hemi-R</td>\n",
       "      <td>0.488064</td>\n",
       "      <td>0.482374</td>\n",
       "    </tr>\n",
       "  </tbody>\n",
       "</table>\n",
       "<p>29844 rows × 18 columns</p>\n",
       "</div>"
      ],
      "text/plain": [
       "        prf_rsq   prf_ecc  polar_real  polar_imag  prf_size   amplitude  \\\n",
       "0      0.544784  4.148319    0.303645   -0.952730  0.991623    0.285239   \n",
       "1      0.721184  3.924539    0.221637   -0.975070  1.195946    0.399265   \n",
       "2      0.314963  4.562551    0.316119   -0.948360  1.296987    0.122983   \n",
       "3      0.421139  3.958556    0.239607   -0.970740  1.630879    0.060881   \n",
       "4      0.716370  3.781982    0.219459   -0.975573  1.195633    0.405842   \n",
       "...         ...       ...         ...         ...       ...         ...   \n",
       "84465  0.324980  3.215258    0.926526    0.241247  1.326809  420.789550   \n",
       "84548  0.261796  2.723024    0.645735   -0.428152  1.303527  376.723240   \n",
       "84549  0.224442  4.001571    0.460356   -0.583859  1.447820  352.670720   \n",
       "84587  0.277942  7.323893    0.576176    0.659107  1.521099  409.001220   \n",
       "84590  0.244511  3.053939    0.321869    0.918423  1.359317  374.111000   \n",
       "\n",
       "         baseline     prf_x     prf_y     hrf_1     hrf_2     prf_n  \\\n",
       "0       -0.202981  1.259918 -3.952131  5.841734 -2.592693  0.440393   \n",
       "1       -0.383623  0.869663 -3.826736  4.723704 -2.233333  0.446812   \n",
       "2       -0.110937  1.445393 -4.325868  8.209347 -3.110799  0.661363   \n",
       "3       -0.158310  0.948104 -3.842817  6.847516 -2.305906  0.908489   \n",
       "4       -0.397000  0.829953 -3.689607  4.625887 -2.131217  0.446567   \n",
       "...           ...       ...       ...       ...       ...       ...   \n",
       "84465 -420.867680  2.906990  0.827984 -0.663224  8.311648 -0.000105   \n",
       "84548 -376.776670  1.984482 -1.091804 -0.852496  6.083267 -0.000066   \n",
       "84549 -352.719000  2.061225 -2.410850 -0.994732 -5.214177 -0.000046   \n",
       "84587 -409.155880  4.791736  4.854622 -0.707327  0.569816 -0.000048   \n",
       "84590 -374.173030  0.909884  2.840077 -0.665321 -4.394750 -0.000125   \n",
       "\n",
       "       prf_loo_r2  rois subject    hemi        pcm  vertex_surf  \n",
       "0        0.280069    V1  sub-01  hemi-L   1.594387     0.090760  \n",
       "1        0.521833    V1  sub-01  hemi-L  12.737061     0.256740  \n",
       "2        0.098320    V1  sub-01  hemi-L   1.346578     0.293665  \n",
       "3        0.159729    V1  sub-01  hemi-L   3.641613     0.041887  \n",
       "4        0.523299    V1  sub-01  hemi-L  10.552026     0.043934  \n",
       "...           ...   ...     ...     ...        ...          ...  \n",
       "84465    0.076260  mPCS  sub-01  hemi-R   0.001608     0.561889  \n",
       "84548    0.072955  mPCS  sub-01  hemi-R   0.406843     0.284441  \n",
       "84549    0.061753  mPCS  sub-01  hemi-R   0.018459     0.307693  \n",
       "84587    0.055036  mPCS  sub-01  hemi-R   0.250466     0.232354  \n",
       "84590    0.080730  mPCS  sub-01  hemi-R   0.488064     0.482374  \n",
       "\n",
       "[29844 rows x 18 columns]"
      ]
     },
     "execution_count": 72,
     "metadata": {},
     "output_type": "execute_result"
    }
   ],
   "source": [
    "data"
   ]
  },
  {
   "cell_type": "code",
   "execution_count": 29,
   "id": "cac11e3d-7ad6-4c03-8f75-1472f8443209",
   "metadata": {
    "tags": []
   },
   "outputs": [
    {
     "data": {
      "text/plain": [
       "38469    mPCS\n",
       "38471    mPCS\n",
       "38472    mPCS\n",
       "38476    mPCS\n",
       "38479    mPCS\n",
       "         ... \n",
       "84465    mPCS\n",
       "84548    mPCS\n",
       "84549    mPCS\n",
       "84587    mPCS\n",
       "84590    mPCS\n",
       "Name: rois, Length: 523, dtype: object"
      ]
     },
     "execution_count": 29,
     "metadata": {},
     "output_type": "execute_result"
    }
   ],
   "source": [
    "df.rois"
   ]
  },
  {
   "cell_type": "markdown",
   "id": "39eda088-75d4-4cdd-85dc-68438d9c3962",
   "metadata": {
    "tags": []
   },
   "source": [
    "# figs"
   ]
  },
  {
   "cell_type": "code",
   "execution_count": null,
   "id": "e54f210b-2538-4f06-ba8f-a9704f21d7da",
   "metadata": {
    "tags": []
   },
   "outputs": [],
   "source": [
    "fig = prf_violins_plot(data, subject, ecc_th=ecc_th, size_th=size_th, rsq_th=rsq_th, pcm_th=pcm_th)"
   ]
  },
  {
   "cell_type": "code",
   "execution_count": null,
   "id": "a872694e-5543-4975-b3a5-94f9ca259ff8",
   "metadata": {
    "tags": []
   },
   "outputs": [],
   "source": [
    "fig.show()\n",
    "fig.write_image(\"/Users/uriel/Downloads/{}_violins5.pdf\".format(subject))"
   ]
  },
  {
   "cell_type": "code",
   "execution_count": null,
   "id": "360a0a6c-b3f0-4aa4-bcbd-a137b71fb62c",
   "metadata": {
    "tags": []
   },
   "outputs": [],
   "source": [
    "fig2 = prf_ecc_size_plot(data, subject, ecc_th=ecc_th, size_th=size_th, rsq_th=rsq_th)"
   ]
  },
  {
   "cell_type": "code",
   "execution_count": null,
   "id": "5b878427-666a-495e-b24f-96345684e611",
   "metadata": {
    "tags": []
   },
   "outputs": [],
   "source": [
    "fig2.show()"
   ]
  },
  {
   "cell_type": "code",
   "execution_count": null,
   "id": "ec9d3d57-fe0d-4e32-9af5-95719fccde6d",
   "metadata": {
    "tags": []
   },
   "outputs": [],
   "source": [
    "fig2 = prf_ecc_size_plot(data, subject, ecc_th=ecc_th, size_th=size_th, rsq_th=rsq_th)"
   ]
  },
  {
   "cell_type": "code",
   "execution_count": null,
   "id": "2474f53a-e327-42c4-b46f-eff4dee6ed08",
   "metadata": {
    "tags": []
   },
   "outputs": [],
   "source": [
    "fig2"
   ]
  },
  {
   "cell_type": "code",
   "execution_count": null,
   "id": "236f6693-bbf9-46ce-a3e3-b8fc3e0ac6eb",
   "metadata": {},
   "outputs": [],
   "source": [
    "fig3, fig4, fig4 = prf_polar_plot(data, subject, ecc_th=ecc_th, size_th=size_th, rsq_th=rsq_th)"
   ]
  },
  {
   "cell_type": "code",
   "execution_count": null,
   "id": "6cf4f127-ab2d-4997-a2ef-7b4c19468e6f",
   "metadata": {},
   "outputs": [],
   "source": [
    "fig4.write_image('/Users/uriel/Downloads/{}_subplot_polar_2.pdf'.format(subject))"
   ]
  },
  {
   "cell_type": "code",
   "execution_count": null,
   "id": "18e23ee4-f2cf-417b-af53-69fc1354ecad",
   "metadata": {},
   "outputs": [],
   "source": [
    "figures, hemispheres = prf_polar_plot(data, subject, ecc_th=ecc_th, size_th=size_th, rsq_th=rsq_th)\n",
    "\n",
    "for i, (figure, hemi) in enumerate(zip(figures, hemispheres), start=1):\n",
    "\n",
    "    figure.write_image(\"/Users/uriel/Downloads/{}_subplot_polar_{}.pdf'.format(subject,hemi))\n"
   ]
  },
  {
   "cell_type": "code",
   "execution_count": null,
   "id": "538bb469-5709-4105-9541-b292f1ecd22a",
   "metadata": {},
   "outputs": [],
   "source": [
    "fig5 = prf_contralaterality_plot(data, subject, ecc_th=ecc_th, size_th=size_th, rsq_th=rsq_th)"
   ]
  },
  {
   "cell_type": "markdown",
   "id": "312951ab-3f54-4f32-977e-ba4f297055ae",
   "metadata": {},
   "source": [
    "# fi6"
   ]
  },
  {
   "cell_type": "code",
   "execution_count": null,
   "id": "2ee9ef3d-c83b-44ee-9549-dca3628d4c55",
   "metadata": {
    "tags": []
   },
   "outputs": [],
   "source": [
    "fig6 = prf_ecc_pcm_plot(data, subject, ecc_th=ecc_th, pcm_th=pcm_th, rsq_th=rsq_th)"
   ]
  },
  {
   "cell_type": "code",
   "execution_count": null,
   "id": "679ba310-3c85-464a-9021-e7d434e76f57",
   "metadata": {
    "tags": []
   },
   "outputs": [],
   "source": [
    "fig6.show()"
   ]
  },
  {
   "cell_type": "code",
   "execution_count": null,
   "id": "e585f16d-efba-4872-9d51-4c2b767784b1",
   "metadata": {
    "tags": []
   },
   "outputs": [],
   "source": [
    "fig6.write_image(\"/Users/uriel/Downloads/{}_pcm.pdf\".format(subject))"
   ]
  }
 ],
 "metadata": {
  "kernelspec": {
   "display_name": "prf_env",
   "language": "python",
   "name": "prf_env"
  },
  "language_info": {
   "codemirror_mode": {
    "name": "ipython",
    "version": 3
   },
   "file_extension": ".py",
   "mimetype": "text/x-python",
   "name": "python",
   "nbconvert_exporter": "python",
   "pygments_lexer": "ipython3",
   "version": "3.11.7"
  }
 },
 "nbformat": 4,
 "nbformat_minor": 5
}
