{
 "cells": [
  {
   "cell_type": "code",
   "execution_count": 30,
   "id": "10b4cc3c-0449-4e4c-a781-5556af60a1ea",
   "metadata": {
    "tags": []
   },
   "outputs": [],
   "source": [
    "# Stop warnings\n",
    "import warnings\n",
    "warnings.filterwarnings(\"ignore\")\n",
    "\n",
    "# Imports\n",
    "import numpy as np\n",
    "import pandas as pd\n",
    "import os\n",
    "import json\n",
    "import sys\n",
    "import cortex\n",
    "\n",
    "import plotly.graph_objects as go\n",
    "import plotly.express as px\n",
    "from plotly.subplots import make_subplots\n",
    "\n",
    "\n",
    "sys.path.append(\"{}/../../utils\".format(os.getcwd()))\n",
    "from plot_utils import prf_violins_plot, prf_ecc_size_plot, prf_polar_plot, prf_contralaterality_plot, prf_ecc_pcm_plot\n",
    "from surface_utils import load_surface\n",
    "from pycortex_utils import get_rois, calculate_vertex_areas\n",
    "\n",
    "# Import data base\n",
    "main_dir = '/Users/uriel/disks/meso_shared'\n",
    "# main_dir = '/home/ulascombes//disks/meso_shared'\n",
    "project_dir = 'RetinoMaps'\n",
    "subjects = ['sub-01']\n",
    "subject = 'sub-01'\n",
    "tsv_dir ='{}/{}/derivatives/pp_data/{}/fsnative/prf/tsv'.format(main_dir, \n",
    "                                                                project_dir, \n",
    "                                                                subject)\n",
    "\n",
    "\n",
    "with open('../../settings.json') as f:\n",
    "    json_s = f.read()\n",
    "    analysis_info = json.loads(json_s)\n",
    "rois = analysis_info['rois']\n"
   ]
  },
  {
   "cell_type": "code",
   "execution_count": 31,
   "id": "277a45df-952d-4ab1-a7f3-39e30911089f",
   "metadata": {
    "tags": []
   },
   "outputs": [],
   "source": [
    "data = pd.read_table('{}/{}_css-prf_derivatives.tsv'.format(tsv_dir,subject))\n",
    "ecc_th = [0, 15]\n",
    "size_th= [0.1, 20]\n",
    "rsq_th = [0.05, 1]\n",
    "pcm_th = [0,20]"
   ]
  },
  {
   "cell_type": "code",
   "execution_count": 32,
   "id": "8123e4df-c1d6-46dc-8144-8983f67d2ebc",
   "metadata": {
    "tags": []
   },
   "outputs": [
    {
     "data": {
      "text/html": [
       "<div>\n",
       "<style scoped>\n",
       "    .dataframe tbody tr th:only-of-type {\n",
       "        vertical-align: middle;\n",
       "    }\n",
       "\n",
       "    .dataframe tbody tr th {\n",
       "        vertical-align: top;\n",
       "    }\n",
       "\n",
       "    .dataframe thead th {\n",
       "        text-align: right;\n",
       "    }\n",
       "</style>\n",
       "<table border=\"1\" class=\"dataframe\">\n",
       "  <thead>\n",
       "    <tr style=\"text-align: right;\">\n",
       "      <th></th>\n",
       "      <th>prf_rsq</th>\n",
       "      <th>prf_ecc</th>\n",
       "      <th>polar_real</th>\n",
       "      <th>polar_imag</th>\n",
       "      <th>prf_size</th>\n",
       "      <th>amplitude</th>\n",
       "      <th>baseline</th>\n",
       "      <th>prf_x</th>\n",
       "      <th>prf_y</th>\n",
       "      <th>hrf_1</th>\n",
       "      <th>hrf_2</th>\n",
       "      <th>prf_n</th>\n",
       "      <th>prf_loo_r2</th>\n",
       "      <th>rois</th>\n",
       "      <th>subject</th>\n",
       "      <th>hemi</th>\n",
       "      <th>pcm</th>\n",
       "      <th>vertex_surf</th>\n",
       "      <th>stats_final</th>\n",
       "    </tr>\n",
       "  </thead>\n",
       "  <tbody>\n",
       "    <tr>\n",
       "      <th>0</th>\n",
       "      <td>0.544784</td>\n",
       "      <td>4.148319</td>\n",
       "      <td>0.303645</td>\n",
       "      <td>-0.952730</td>\n",
       "      <td>0.991623</td>\n",
       "      <td>2.852390e-01</td>\n",
       "      <td>-0.202981</td>\n",
       "      <td>1.259918</td>\n",
       "      <td>-3.952131</td>\n",
       "      <td>5.841734</td>\n",
       "      <td>-2.592693</td>\n",
       "      <td>0.440393</td>\n",
       "      <td>0.280069</td>\n",
       "      <td>V1</td>\n",
       "      <td>sub-01</td>\n",
       "      <td>hemi-L</td>\n",
       "      <td>1.594387</td>\n",
       "      <td>0.090760</td>\n",
       "      <td>vision</td>\n",
       "    </tr>\n",
       "    <tr>\n",
       "      <th>1</th>\n",
       "      <td>0.721184</td>\n",
       "      <td>3.924539</td>\n",
       "      <td>0.221637</td>\n",
       "      <td>-0.975070</td>\n",
       "      <td>1.195946</td>\n",
       "      <td>3.992646e-01</td>\n",
       "      <td>-0.383623</td>\n",
       "      <td>0.869663</td>\n",
       "      <td>-3.826736</td>\n",
       "      <td>4.723704</td>\n",
       "      <td>-2.233333</td>\n",
       "      <td>0.446812</td>\n",
       "      <td>0.521833</td>\n",
       "      <td>V1</td>\n",
       "      <td>sub-01</td>\n",
       "      <td>hemi-L</td>\n",
       "      <td>12.737061</td>\n",
       "      <td>0.256740</td>\n",
       "      <td>vision_and_pursuit_and_saccade</td>\n",
       "    </tr>\n",
       "    <tr>\n",
       "      <th>2</th>\n",
       "      <td>0.314963</td>\n",
       "      <td>4.562551</td>\n",
       "      <td>0.316119</td>\n",
       "      <td>-0.948360</td>\n",
       "      <td>1.296987</td>\n",
       "      <td>1.229835e-01</td>\n",
       "      <td>-0.110937</td>\n",
       "      <td>1.445393</td>\n",
       "      <td>-4.325868</td>\n",
       "      <td>8.209347</td>\n",
       "      <td>-3.110799</td>\n",
       "      <td>0.661363</td>\n",
       "      <td>0.098320</td>\n",
       "      <td>V1</td>\n",
       "      <td>sub-01</td>\n",
       "      <td>hemi-L</td>\n",
       "      <td>1.346578</td>\n",
       "      <td>0.293665</td>\n",
       "      <td>vision</td>\n",
       "    </tr>\n",
       "    <tr>\n",
       "      <th>3</th>\n",
       "      <td>0.421139</td>\n",
       "      <td>3.958556</td>\n",
       "      <td>0.239607</td>\n",
       "      <td>-0.970740</td>\n",
       "      <td>1.630879</td>\n",
       "      <td>6.088110e-02</td>\n",
       "      <td>-0.158310</td>\n",
       "      <td>0.948104</td>\n",
       "      <td>-3.842817</td>\n",
       "      <td>6.847516</td>\n",
       "      <td>-2.305906</td>\n",
       "      <td>0.908489</td>\n",
       "      <td>0.159729</td>\n",
       "      <td>V1</td>\n",
       "      <td>sub-01</td>\n",
       "      <td>hemi-L</td>\n",
       "      <td>3.641613</td>\n",
       "      <td>0.041887</td>\n",
       "      <td>vision</td>\n",
       "    </tr>\n",
       "    <tr>\n",
       "      <th>4</th>\n",
       "      <td>0.716370</td>\n",
       "      <td>3.781982</td>\n",
       "      <td>0.219459</td>\n",
       "      <td>-0.975573</td>\n",
       "      <td>1.195633</td>\n",
       "      <td>4.058416e-01</td>\n",
       "      <td>-0.397000</td>\n",
       "      <td>0.829953</td>\n",
       "      <td>-3.689607</td>\n",
       "      <td>4.625887</td>\n",
       "      <td>-2.131217</td>\n",
       "      <td>0.446567</td>\n",
       "      <td>0.523299</td>\n",
       "      <td>V1</td>\n",
       "      <td>sub-01</td>\n",
       "      <td>hemi-L</td>\n",
       "      <td>10.552026</td>\n",
       "      <td>0.043934</td>\n",
       "      <td>vision_and_pursuit_and_saccade</td>\n",
       "    </tr>\n",
       "    <tr>\n",
       "      <th>...</th>\n",
       "      <td>...</td>\n",
       "      <td>...</td>\n",
       "      <td>...</td>\n",
       "      <td>...</td>\n",
       "      <td>...</td>\n",
       "      <td>...</td>\n",
       "      <td>...</td>\n",
       "      <td>...</td>\n",
       "      <td>...</td>\n",
       "      <td>...</td>\n",
       "      <td>...</td>\n",
       "      <td>...</td>\n",
       "      <td>...</td>\n",
       "      <td>...</td>\n",
       "      <td>...</td>\n",
       "      <td>...</td>\n",
       "      <td>...</td>\n",
       "      <td>...</td>\n",
       "      <td>...</td>\n",
       "    </tr>\n",
       "    <tr>\n",
       "      <th>85118</th>\n",
       "      <td>0.064794</td>\n",
       "      <td>7.005479</td>\n",
       "      <td>0.815083</td>\n",
       "      <td>0.546624</td>\n",
       "      <td>0.220958</td>\n",
       "      <td>1.234440e+21</td>\n",
       "      <td>0.019903</td>\n",
       "      <td>5.624443</td>\n",
       "      <td>3.965909</td>\n",
       "      <td>0.567556</td>\n",
       "      <td>-1.424559</td>\n",
       "      <td>3.924345</td>\n",
       "      <td>-0.031399</td>\n",
       "      <td>mPCS</td>\n",
       "      <td>sub-01</td>\n",
       "      <td>hemi-R</td>\n",
       "      <td>0.399761</td>\n",
       "      <td>0.165920</td>\n",
       "      <td>non_responding</td>\n",
       "    </tr>\n",
       "    <tr>\n",
       "      <th>85119</th>\n",
       "      <td>0.077876</td>\n",
       "      <td>6.875767</td>\n",
       "      <td>0.806233</td>\n",
       "      <td>0.555617</td>\n",
       "      <td>0.263167</td>\n",
       "      <td>1.241990e+21</td>\n",
       "      <td>0.024250</td>\n",
       "      <td>5.420216</td>\n",
       "      <td>3.989716</td>\n",
       "      <td>0.872226</td>\n",
       "      <td>-1.336900</td>\n",
       "      <td>1.930368</td>\n",
       "      <td>-0.039631</td>\n",
       "      <td>mPCS</td>\n",
       "      <td>sub-01</td>\n",
       "      <td>hemi-R</td>\n",
       "      <td>1.052802</td>\n",
       "      <td>0.524375</td>\n",
       "      <td>non_responding</td>\n",
       "    </tr>\n",
       "    <tr>\n",
       "      <th>85120</th>\n",
       "      <td>0.067810</td>\n",
       "      <td>6.292474</td>\n",
       "      <td>0.813744</td>\n",
       "      <td>0.547954</td>\n",
       "      <td>0.285438</td>\n",
       "      <td>2.829168e+20</td>\n",
       "      <td>0.010010</td>\n",
       "      <td>5.040122</td>\n",
       "      <td>3.554402</td>\n",
       "      <td>3.826195</td>\n",
       "      <td>4.701279</td>\n",
       "      <td>0.925015</td>\n",
       "      <td>-0.029655</td>\n",
       "      <td>mPCS</td>\n",
       "      <td>sub-01</td>\n",
       "      <td>hemi-R</td>\n",
       "      <td>0.845093</td>\n",
       "      <td>0.155409</td>\n",
       "      <td>non_responding</td>\n",
       "    </tr>\n",
       "    <tr>\n",
       "      <th>85121</th>\n",
       "      <td>0.150430</td>\n",
       "      <td>13.217314</td>\n",
       "      <td>-0.693224</td>\n",
       "      <td>0.010792</td>\n",
       "      <td>1.390715</td>\n",
       "      <td>2.824739e+02</td>\n",
       "      <td>-282.352900</td>\n",
       "      <td>-9.789287</td>\n",
       "      <td>0.757216</td>\n",
       "      <td>-1.124429</td>\n",
       "      <td>2.758134</td>\n",
       "      <td>0.000013</td>\n",
       "      <td>0.026297</td>\n",
       "      <td>mPCS</td>\n",
       "      <td>sub-01</td>\n",
       "      <td>hemi-R</td>\n",
       "      <td>0.001135</td>\n",
       "      <td>0.030099</td>\n",
       "      <td>non_responding</td>\n",
       "    </tr>\n",
       "    <tr>\n",
       "      <th>85122</th>\n",
       "      <td>0.156003</td>\n",
       "      <td>4.856877</td>\n",
       "      <td>-0.728768</td>\n",
       "      <td>-0.392248</td>\n",
       "      <td>13175.719000</td>\n",
       "      <td>2.888344e+02</td>\n",
       "      <td>-288.854900</td>\n",
       "      <td>-2.636659</td>\n",
       "      <td>-2.900597</td>\n",
       "      <td>-1.493269</td>\n",
       "      <td>-44.062310</td>\n",
       "      <td>-0.000043</td>\n",
       "      <td>0.020512</td>\n",
       "      <td>mPCS</td>\n",
       "      <td>sub-01</td>\n",
       "      <td>hemi-R</td>\n",
       "      <td>0.001140</td>\n",
       "      <td>0.020301</td>\n",
       "      <td>non_responding</td>\n",
       "    </tr>\n",
       "  </tbody>\n",
       "</table>\n",
       "<p>85123 rows × 19 columns</p>\n",
       "</div>"
      ],
      "text/plain": [
       "        prf_rsq    prf_ecc  polar_real  polar_imag      prf_size  \\\n",
       "0      0.544784   4.148319    0.303645   -0.952730      0.991623   \n",
       "1      0.721184   3.924539    0.221637   -0.975070      1.195946   \n",
       "2      0.314963   4.562551    0.316119   -0.948360      1.296987   \n",
       "3      0.421139   3.958556    0.239607   -0.970740      1.630879   \n",
       "4      0.716370   3.781982    0.219459   -0.975573      1.195633   \n",
       "...         ...        ...         ...         ...           ...   \n",
       "85118  0.064794   7.005479    0.815083    0.546624      0.220958   \n",
       "85119  0.077876   6.875767    0.806233    0.555617      0.263167   \n",
       "85120  0.067810   6.292474    0.813744    0.547954      0.285438   \n",
       "85121  0.150430  13.217314   -0.693224    0.010792      1.390715   \n",
       "85122  0.156003   4.856877   -0.728768   -0.392248  13175.719000   \n",
       "\n",
       "          amplitude    baseline     prf_x     prf_y     hrf_1      hrf_2  \\\n",
       "0      2.852390e-01   -0.202981  1.259918 -3.952131  5.841734  -2.592693   \n",
       "1      3.992646e-01   -0.383623  0.869663 -3.826736  4.723704  -2.233333   \n",
       "2      1.229835e-01   -0.110937  1.445393 -4.325868  8.209347  -3.110799   \n",
       "3      6.088110e-02   -0.158310  0.948104 -3.842817  6.847516  -2.305906   \n",
       "4      4.058416e-01   -0.397000  0.829953 -3.689607  4.625887  -2.131217   \n",
       "...             ...         ...       ...       ...       ...        ...   \n",
       "85118  1.234440e+21    0.019903  5.624443  3.965909  0.567556  -1.424559   \n",
       "85119  1.241990e+21    0.024250  5.420216  3.989716  0.872226  -1.336900   \n",
       "85120  2.829168e+20    0.010010  5.040122  3.554402  3.826195   4.701279   \n",
       "85121  2.824739e+02 -282.352900 -9.789287  0.757216 -1.124429   2.758134   \n",
       "85122  2.888344e+02 -288.854900 -2.636659 -2.900597 -1.493269 -44.062310   \n",
       "\n",
       "          prf_n  prf_loo_r2  rois subject    hemi        pcm  vertex_surf  \\\n",
       "0      0.440393    0.280069    V1  sub-01  hemi-L   1.594387     0.090760   \n",
       "1      0.446812    0.521833    V1  sub-01  hemi-L  12.737061     0.256740   \n",
       "2      0.661363    0.098320    V1  sub-01  hemi-L   1.346578     0.293665   \n",
       "3      0.908489    0.159729    V1  sub-01  hemi-L   3.641613     0.041887   \n",
       "4      0.446567    0.523299    V1  sub-01  hemi-L  10.552026     0.043934   \n",
       "...         ...         ...   ...     ...     ...        ...          ...   \n",
       "85118  3.924345   -0.031399  mPCS  sub-01  hemi-R   0.399761     0.165920   \n",
       "85119  1.930368   -0.039631  mPCS  sub-01  hemi-R   1.052802     0.524375   \n",
       "85120  0.925015   -0.029655  mPCS  sub-01  hemi-R   0.845093     0.155409   \n",
       "85121  0.000013    0.026297  mPCS  sub-01  hemi-R   0.001135     0.030099   \n",
       "85122 -0.000043    0.020512  mPCS  sub-01  hemi-R   0.001140     0.020301   \n",
       "\n",
       "                          stats_final  \n",
       "0                              vision  \n",
       "1      vision_and_pursuit_and_saccade  \n",
       "2                              vision  \n",
       "3                              vision  \n",
       "4      vision_and_pursuit_and_saccade  \n",
       "...                               ...  \n",
       "85118                  non_responding  \n",
       "85119                  non_responding  \n",
       "85120                  non_responding  \n",
       "85121                  non_responding  \n",
       "85122                  non_responding  \n",
       "\n",
       "[85123 rows x 19 columns]"
      ]
     },
     "execution_count": 32,
     "metadata": {},
     "output_type": "execute_result"
    }
   ],
   "source": [
    "data"
   ]
  },
  {
   "cell_type": "code",
   "execution_count": 12,
   "id": "4ff10cad-d190-4209-b6ed-154d5882226a",
   "metadata": {
    "tags": []
   },
   "outputs": [],
   "source": [
    "sum_vertex_surf = data.groupby('rois')['vertex_surf'].sum().reset_index()\n",
    "sum_vertex_surf['rois'] = pd.Categorical(sum_vertex_surf['rois'], categories=rois, ordered=True)\n",
    "sum_vertex_surf = sum_vertex_surf.sort_values(by='rois')\n",
    "# Créer un nouveau DataFrame avec les résultats\n",
    "nouveau_df = pd.DataFrame({'rois': sum_vertex_surf['rois'], 'vertex_surf_sum': sum_vertex_surf['vertex_surf']})\n",
    "\n"
   ]
  },
  {
   "cell_type": "code",
   "execution_count": 13,
   "id": "9553ec3f-fbd3-4d81-b728-7b8a240fa9c6",
   "metadata": {
    "tags": []
   },
   "outputs": [],
   "source": [
    "# Get surfaces     \n",
    "surfs = [cortex.polyutils.Surface(*d) for d in cortex.db.get_surf(subject, \"flat\")]\n",
    "surf_lh, surf_rh = surfs[0], surfs[1]\n",
    "lh_vert_num, rh_vert_num = surf_lh.pts.shape[0], surf_rh.pts.shape[0]\n",
    "\n",
    "surf_brain = np.sum(calculate_vertex_areas(surf_lh, mask=None)) + np.sum(calculate_vertex_areas(surf_rh, mask=None))"
   ]
  },
  {
   "cell_type": "code",
   "execution_count": 14,
   "id": "59b78561-ef9c-4a87-8bd3-4514995b8d01",
   "metadata": {
    "tags": []
   },
   "outputs": [
    {
     "data": {
      "text/plain": [
       "146947.09154597513"
      ]
     },
     "execution_count": 14,
     "metadata": {},
     "output_type": "execute_result"
    }
   ],
   "source": [
    "surf_brain"
   ]
  },
  {
   "cell_type": "code",
   "execution_count": null,
   "id": "c77131af-b1be-443e-b9f1-ae888d9a38ae",
   "metadata": {
    "tags": []
   },
   "outputs": [],
   "source": [
    "nouveau_df['pourcentage'] = (nouveau_df['vertex_surf_sum'] / surf_brain) * 100\n"
   ]
  },
  {
   "cell_type": "code",
   "execution_count": 92,
   "id": "704878ad-f1fb-4563-996a-392d9ac7e1b7",
   "metadata": {
    "tags": []
   },
   "outputs": [
    {
     "data": {
      "text/html": [
       "<div>\n",
       "<style scoped>\n",
       "    .dataframe tbody tr th:only-of-type {\n",
       "        vertical-align: middle;\n",
       "    }\n",
       "\n",
       "    .dataframe tbody tr th {\n",
       "        vertical-align: top;\n",
       "    }\n",
       "\n",
       "    .dataframe thead th {\n",
       "        text-align: right;\n",
       "    }\n",
       "</style>\n",
       "<table border=\"1\" class=\"dataframe\">\n",
       "  <thead>\n",
       "    <tr style=\"text-align: right;\">\n",
       "      <th></th>\n",
       "      <th>rois</th>\n",
       "      <th>vertex_surf_sum</th>\n",
       "      <th>pourcentage</th>\n",
       "    </tr>\n",
       "  </thead>\n",
       "  <tbody>\n",
       "    <tr>\n",
       "      <th>1</th>\n",
       "      <td>V1</td>\n",
       "      <td>1844.723659</td>\n",
       "      <td>1.255366</td>\n",
       "    </tr>\n",
       "    <tr>\n",
       "      <th>2</th>\n",
       "      <td>V2</td>\n",
       "      <td>1660.604917</td>\n",
       "      <td>1.130070</td>\n",
       "    </tr>\n",
       "    <tr>\n",
       "      <th>3</th>\n",
       "      <td>V3</td>\n",
       "      <td>1479.183106</td>\n",
       "      <td>1.006609</td>\n",
       "    </tr>\n",
       "    <tr>\n",
       "      <th>4</th>\n",
       "      <td>V3AB</td>\n",
       "      <td>1334.003775</td>\n",
       "      <td>0.907812</td>\n",
       "    </tr>\n",
       "    <tr>\n",
       "      <th>0</th>\n",
       "      <td>LO</td>\n",
       "      <td>696.924144</td>\n",
       "      <td>0.474269</td>\n",
       "    </tr>\n",
       "    <tr>\n",
       "      <th>5</th>\n",
       "      <td>VO</td>\n",
       "      <td>1376.063942</td>\n",
       "      <td>0.936435</td>\n",
       "    </tr>\n",
       "    <tr>\n",
       "      <th>6</th>\n",
       "      <td>hMT+</td>\n",
       "      <td>323.769794</td>\n",
       "      <td>0.220331</td>\n",
       "    </tr>\n",
       "    <tr>\n",
       "      <th>7</th>\n",
       "      <td>iIPS</td>\n",
       "      <td>312.405732</td>\n",
       "      <td>0.212597</td>\n",
       "    </tr>\n",
       "    <tr>\n",
       "      <th>10</th>\n",
       "      <td>sIPS</td>\n",
       "      <td>480.142431</td>\n",
       "      <td>0.326745</td>\n",
       "    </tr>\n",
       "    <tr>\n",
       "      <th>8</th>\n",
       "      <td>iPCS</td>\n",
       "      <td>83.564640</td>\n",
       "      <td>0.056867</td>\n",
       "    </tr>\n",
       "    <tr>\n",
       "      <th>11</th>\n",
       "      <td>sPCS</td>\n",
       "      <td>309.161274</td>\n",
       "      <td>0.210390</td>\n",
       "    </tr>\n",
       "    <tr>\n",
       "      <th>9</th>\n",
       "      <td>mPCS</td>\n",
       "      <td>188.236670</td>\n",
       "      <td>0.128098</td>\n",
       "    </tr>\n",
       "  </tbody>\n",
       "</table>\n",
       "</div>"
      ],
      "text/plain": [
       "    rois  vertex_surf_sum  pourcentage\n",
       "1     V1      1844.723659     1.255366\n",
       "2     V2      1660.604917     1.130070\n",
       "3     V3      1479.183106     1.006609\n",
       "4   V3AB      1334.003775     0.907812\n",
       "0     LO       696.924144     0.474269\n",
       "5     VO      1376.063942     0.936435\n",
       "6   hMT+       323.769794     0.220331\n",
       "7   iIPS       312.405732     0.212597\n",
       "10  sIPS       480.142431     0.326745\n",
       "8   iPCS        83.564640     0.056867\n",
       "11  sPCS       309.161274     0.210390\n",
       "9   mPCS       188.236670     0.128098"
      ]
     },
     "execution_count": 92,
     "metadata": {},
     "output_type": "execute_result"
    }
   ],
   "source": [
    "nouveau_df"
   ]
  },
  {
   "cell_type": "code",
   "execution_count": 38,
   "id": "bf2d7bcf-f23e-4c11-b1c2-84e0c88c0bfe",
   "metadata": {
    "tags": []
   },
   "outputs": [
    {
     "data": {
      "application/vnd.plotly.v1+json": {
       "config": {
        "plotlyServerURL": "https://plot.ly"
       },
       "data": [
        {
         "marker": {
          "color": [
           "rgb(243, 231, 155)",
           "rgb(250, 196, 132)",
           "rgb(248, 160, 126)",
           "rgb(235, 127, 134)",
           "rgb(150,0,90)",
           "rgb(0,0,200)",
           "rgb(0,25,255)",
           "rgb(0,152,255)",
           "rgb(44,255,150)",
           "rgb(151,255,0)",
           "rgb(255,234,0)",
           "rgb(255,111,0)",
           "rgb(255,0,0)"
          ]
         },
         "showlegend": false,
         "type": "bar",
         "x": [
          "V1",
          "V2",
          "V3",
          "V3AB",
          "LO",
          "VO",
          "hMT+",
          "iIPS",
          "sIPS",
          "iPCS",
          "sPCS",
          "mPCS"
         ],
         "y": [
          2522.9120063794544,
          2330.815932581754,
          2353.930451617678,
          1938.9317805955795,
          1887.0072728778807,
          4186.285978382462,
          786.5890701569635,
          1997.0443226392695,
          3488.4036037021624,
          1984.9928253907078,
          2886.251139903261,
          2939.5950941732153
         ]
        }
       ],
       "layout": {
        "height": 800,
        "showlegend": true,
        "template": {
         "data": {
          "bar": [
           {
            "error_x": {
             "color": "rgb(36,36,36)"
            },
            "error_y": {
             "color": "rgb(36,36,36)"
            },
            "marker": {
             "line": {
              "color": "white",
              "width": 0.5
             },
             "pattern": {
              "fillmode": "overlay",
              "size": 10,
              "solidity": 0.2
             }
            },
            "type": "bar"
           }
          ],
          "barpolar": [
           {
            "marker": {
             "line": {
              "color": "white",
              "width": 0.5
             },
             "pattern": {
              "fillmode": "overlay",
              "size": 10,
              "solidity": 0.2
             }
            },
            "type": "barpolar"
           }
          ],
          "carpet": [
           {
            "aaxis": {
             "endlinecolor": "rgb(36,36,36)",
             "gridcolor": "white",
             "linecolor": "white",
             "minorgridcolor": "white",
             "startlinecolor": "rgb(36,36,36)"
            },
            "baxis": {
             "endlinecolor": "rgb(36,36,36)",
             "gridcolor": "white",
             "linecolor": "white",
             "minorgridcolor": "white",
             "startlinecolor": "rgb(36,36,36)"
            },
            "type": "carpet"
           }
          ],
          "choropleth": [
           {
            "colorbar": {
             "outlinewidth": 1,
             "tickcolor": "rgb(36,36,36)",
             "ticks": "outside"
            },
            "type": "choropleth"
           }
          ],
          "contour": [
           {
            "colorbar": {
             "outlinewidth": 1,
             "tickcolor": "rgb(36,36,36)",
             "ticks": "outside"
            },
            "colorscale": [
             [
              0,
              "#440154"
             ],
             [
              0.1111111111111111,
              "#482878"
             ],
             [
              0.2222222222222222,
              "#3e4989"
             ],
             [
              0.3333333333333333,
              "#31688e"
             ],
             [
              0.4444444444444444,
              "#26828e"
             ],
             [
              0.5555555555555556,
              "#1f9e89"
             ],
             [
              0.6666666666666666,
              "#35b779"
             ],
             [
              0.7777777777777778,
              "#6ece58"
             ],
             [
              0.8888888888888888,
              "#b5de2b"
             ],
             [
              1,
              "#fde725"
             ]
            ],
            "type": "contour"
           }
          ],
          "contourcarpet": [
           {
            "colorbar": {
             "outlinewidth": 1,
             "tickcolor": "rgb(36,36,36)",
             "ticks": "outside"
            },
            "type": "contourcarpet"
           }
          ],
          "heatmap": [
           {
            "colorbar": {
             "outlinewidth": 1,
             "tickcolor": "rgb(36,36,36)",
             "ticks": "outside"
            },
            "colorscale": [
             [
              0,
              "#440154"
             ],
             [
              0.1111111111111111,
              "#482878"
             ],
             [
              0.2222222222222222,
              "#3e4989"
             ],
             [
              0.3333333333333333,
              "#31688e"
             ],
             [
              0.4444444444444444,
              "#26828e"
             ],
             [
              0.5555555555555556,
              "#1f9e89"
             ],
             [
              0.6666666666666666,
              "#35b779"
             ],
             [
              0.7777777777777778,
              "#6ece58"
             ],
             [
              0.8888888888888888,
              "#b5de2b"
             ],
             [
              1,
              "#fde725"
             ]
            ],
            "type": "heatmap"
           }
          ],
          "heatmapgl": [
           {
            "colorbar": {
             "outlinewidth": 1,
             "tickcolor": "rgb(36,36,36)",
             "ticks": "outside"
            },
            "colorscale": [
             [
              0,
              "#440154"
             ],
             [
              0.1111111111111111,
              "#482878"
             ],
             [
              0.2222222222222222,
              "#3e4989"
             ],
             [
              0.3333333333333333,
              "#31688e"
             ],
             [
              0.4444444444444444,
              "#26828e"
             ],
             [
              0.5555555555555556,
              "#1f9e89"
             ],
             [
              0.6666666666666666,
              "#35b779"
             ],
             [
              0.7777777777777778,
              "#6ece58"
             ],
             [
              0.8888888888888888,
              "#b5de2b"
             ],
             [
              1,
              "#fde725"
             ]
            ],
            "type": "heatmapgl"
           }
          ],
          "histogram": [
           {
            "marker": {
             "line": {
              "color": "white",
              "width": 0.6
             }
            },
            "type": "histogram"
           }
          ],
          "histogram2d": [
           {
            "colorbar": {
             "outlinewidth": 1,
             "tickcolor": "rgb(36,36,36)",
             "ticks": "outside"
            },
            "colorscale": [
             [
              0,
              "#440154"
             ],
             [
              0.1111111111111111,
              "#482878"
             ],
             [
              0.2222222222222222,
              "#3e4989"
             ],
             [
              0.3333333333333333,
              "#31688e"
             ],
             [
              0.4444444444444444,
              "#26828e"
             ],
             [
              0.5555555555555556,
              "#1f9e89"
             ],
             [
              0.6666666666666666,
              "#35b779"
             ],
             [
              0.7777777777777778,
              "#6ece58"
             ],
             [
              0.8888888888888888,
              "#b5de2b"
             ],
             [
              1,
              "#fde725"
             ]
            ],
            "type": "histogram2d"
           }
          ],
          "histogram2dcontour": [
           {
            "colorbar": {
             "outlinewidth": 1,
             "tickcolor": "rgb(36,36,36)",
             "ticks": "outside"
            },
            "colorscale": [
             [
              0,
              "#440154"
             ],
             [
              0.1111111111111111,
              "#482878"
             ],
             [
              0.2222222222222222,
              "#3e4989"
             ],
             [
              0.3333333333333333,
              "#31688e"
             ],
             [
              0.4444444444444444,
              "#26828e"
             ],
             [
              0.5555555555555556,
              "#1f9e89"
             ],
             [
              0.6666666666666666,
              "#35b779"
             ],
             [
              0.7777777777777778,
              "#6ece58"
             ],
             [
              0.8888888888888888,
              "#b5de2b"
             ],
             [
              1,
              "#fde725"
             ]
            ],
            "type": "histogram2dcontour"
           }
          ],
          "mesh3d": [
           {
            "colorbar": {
             "outlinewidth": 1,
             "tickcolor": "rgb(36,36,36)",
             "ticks": "outside"
            },
            "type": "mesh3d"
           }
          ],
          "parcoords": [
           {
            "line": {
             "colorbar": {
              "outlinewidth": 1,
              "tickcolor": "rgb(36,36,36)",
              "ticks": "outside"
             }
            },
            "type": "parcoords"
           }
          ],
          "pie": [
           {
            "automargin": true,
            "type": "pie"
           }
          ],
          "scatter": [
           {
            "fillpattern": {
             "fillmode": "overlay",
             "size": 10,
             "solidity": 0.2
            },
            "type": "scatter"
           }
          ],
          "scatter3d": [
           {
            "line": {
             "colorbar": {
              "outlinewidth": 1,
              "tickcolor": "rgb(36,36,36)",
              "ticks": "outside"
             }
            },
            "marker": {
             "colorbar": {
              "outlinewidth": 1,
              "tickcolor": "rgb(36,36,36)",
              "ticks": "outside"
             }
            },
            "type": "scatter3d"
           }
          ],
          "scattercarpet": [
           {
            "marker": {
             "colorbar": {
              "outlinewidth": 1,
              "tickcolor": "rgb(36,36,36)",
              "ticks": "outside"
             }
            },
            "type": "scattercarpet"
           }
          ],
          "scattergeo": [
           {
            "marker": {
             "colorbar": {
              "outlinewidth": 1,
              "tickcolor": "rgb(36,36,36)",
              "ticks": "outside"
             }
            },
            "type": "scattergeo"
           }
          ],
          "scattergl": [
           {
            "marker": {
             "colorbar": {
              "outlinewidth": 1,
              "tickcolor": "rgb(36,36,36)",
              "ticks": "outside"
             }
            },
            "type": "scattergl"
           }
          ],
          "scattermapbox": [
           {
            "marker": {
             "colorbar": {
              "outlinewidth": 1,
              "tickcolor": "rgb(36,36,36)",
              "ticks": "outside"
             }
            },
            "type": "scattermapbox"
           }
          ],
          "scatterpolar": [
           {
            "marker": {
             "colorbar": {
              "outlinewidth": 1,
              "tickcolor": "rgb(36,36,36)",
              "ticks": "outside"
             }
            },
            "type": "scatterpolar"
           }
          ],
          "scatterpolargl": [
           {
            "marker": {
             "colorbar": {
              "outlinewidth": 1,
              "tickcolor": "rgb(36,36,36)",
              "ticks": "outside"
             }
            },
            "type": "scatterpolargl"
           }
          ],
          "scatterternary": [
           {
            "marker": {
             "colorbar": {
              "outlinewidth": 1,
              "tickcolor": "rgb(36,36,36)",
              "ticks": "outside"
             }
            },
            "type": "scatterternary"
           }
          ],
          "surface": [
           {
            "colorbar": {
             "outlinewidth": 1,
             "tickcolor": "rgb(36,36,36)",
             "ticks": "outside"
            },
            "colorscale": [
             [
              0,
              "#440154"
             ],
             [
              0.1111111111111111,
              "#482878"
             ],
             [
              0.2222222222222222,
              "#3e4989"
             ],
             [
              0.3333333333333333,
              "#31688e"
             ],
             [
              0.4444444444444444,
              "#26828e"
             ],
             [
              0.5555555555555556,
              "#1f9e89"
             ],
             [
              0.6666666666666666,
              "#35b779"
             ],
             [
              0.7777777777777778,
              "#6ece58"
             ],
             [
              0.8888888888888888,
              "#b5de2b"
             ],
             [
              1,
              "#fde725"
             ]
            ],
            "type": "surface"
           }
          ],
          "table": [
           {
            "cells": {
             "fill": {
              "color": "rgb(237,237,237)"
             },
             "line": {
              "color": "white"
             }
            },
            "header": {
             "fill": {
              "color": "rgb(217,217,217)"
             },
             "line": {
              "color": "white"
             }
            },
            "type": "table"
           }
          ]
         },
         "layout": {
          "annotationdefaults": {
           "arrowhead": 0,
           "arrowwidth": 1
          },
          "autotypenumbers": "strict",
          "coloraxis": {
           "colorbar": {
            "outlinewidth": 1,
            "tickcolor": "rgb(36,36,36)",
            "ticks": "outside"
           }
          },
          "colorscale": {
           "diverging": [
            [
             0,
             "rgb(103,0,31)"
            ],
            [
             0.1,
             "rgb(178,24,43)"
            ],
            [
             0.2,
             "rgb(214,96,77)"
            ],
            [
             0.3,
             "rgb(244,165,130)"
            ],
            [
             0.4,
             "rgb(253,219,199)"
            ],
            [
             0.5,
             "rgb(247,247,247)"
            ],
            [
             0.6,
             "rgb(209,229,240)"
            ],
            [
             0.7,
             "rgb(146,197,222)"
            ],
            [
             0.8,
             "rgb(67,147,195)"
            ],
            [
             0.9,
             "rgb(33,102,172)"
            ],
            [
             1,
             "rgb(5,48,97)"
            ]
           ],
           "sequential": [
            [
             0,
             "#440154"
            ],
            [
             0.1111111111111111,
             "#482878"
            ],
            [
             0.2222222222222222,
             "#3e4989"
            ],
            [
             0.3333333333333333,
             "#31688e"
            ],
            [
             0.4444444444444444,
             "#26828e"
            ],
            [
             0.5555555555555556,
             "#1f9e89"
            ],
            [
             0.6666666666666666,
             "#35b779"
            ],
            [
             0.7777777777777778,
             "#6ece58"
            ],
            [
             0.8888888888888888,
             "#b5de2b"
            ],
            [
             1,
             "#fde725"
            ]
           ],
           "sequentialminus": [
            [
             0,
             "#440154"
            ],
            [
             0.1111111111111111,
             "#482878"
            ],
            [
             0.2222222222222222,
             "#3e4989"
            ],
            [
             0.3333333333333333,
             "#31688e"
            ],
            [
             0.4444444444444444,
             "#26828e"
            ],
            [
             0.5555555555555556,
             "#1f9e89"
            ],
            [
             0.6666666666666666,
             "#35b779"
            ],
            [
             0.7777777777777778,
             "#6ece58"
            ],
            [
             0.8888888888888888,
             "#b5de2b"
            ],
            [
             1,
             "#fde725"
            ]
           ]
          },
          "colorway": [
           "#1F77B4",
           "#FF7F0E",
           "#2CA02C",
           "#D62728",
           "#9467BD",
           "#8C564B",
           "#E377C2",
           "#7F7F7F",
           "#BCBD22",
           "#17BECF"
          ],
          "font": {
           "color": "rgb(36,36,36)"
          },
          "geo": {
           "bgcolor": "white",
           "lakecolor": "white",
           "landcolor": "white",
           "showlakes": true,
           "showland": true,
           "subunitcolor": "white"
          },
          "hoverlabel": {
           "align": "left"
          },
          "hovermode": "closest",
          "mapbox": {
           "style": "light"
          },
          "paper_bgcolor": "white",
          "plot_bgcolor": "white",
          "polar": {
           "angularaxis": {
            "gridcolor": "rgb(232,232,232)",
            "linecolor": "rgb(36,36,36)",
            "showgrid": false,
            "showline": true,
            "ticks": "outside"
           },
           "bgcolor": "white",
           "radialaxis": {
            "gridcolor": "rgb(232,232,232)",
            "linecolor": "rgb(36,36,36)",
            "showgrid": false,
            "showline": true,
            "ticks": "outside"
           }
          },
          "scene": {
           "xaxis": {
            "backgroundcolor": "white",
            "gridcolor": "rgb(232,232,232)",
            "gridwidth": 2,
            "linecolor": "rgb(36,36,36)",
            "showbackground": true,
            "showgrid": false,
            "showline": true,
            "ticks": "outside",
            "zeroline": false,
            "zerolinecolor": "rgb(36,36,36)"
           },
           "yaxis": {
            "backgroundcolor": "white",
            "gridcolor": "rgb(232,232,232)",
            "gridwidth": 2,
            "linecolor": "rgb(36,36,36)",
            "showbackground": true,
            "showgrid": false,
            "showline": true,
            "ticks": "outside",
            "zeroline": false,
            "zerolinecolor": "rgb(36,36,36)"
           },
           "zaxis": {
            "backgroundcolor": "white",
            "gridcolor": "rgb(232,232,232)",
            "gridwidth": 2,
            "linecolor": "rgb(36,36,36)",
            "showbackground": true,
            "showgrid": false,
            "showline": true,
            "ticks": "outside",
            "zeroline": false,
            "zerolinecolor": "rgb(36,36,36)"
           }
          },
          "shapedefaults": {
           "fillcolor": "black",
           "line": {
            "width": 0
           },
           "opacity": 0.3
          },
          "ternary": {
           "aaxis": {
            "gridcolor": "rgb(232,232,232)",
            "linecolor": "rgb(36,36,36)",
            "showgrid": false,
            "showline": true,
            "ticks": "outside"
           },
           "baxis": {
            "gridcolor": "rgb(232,232,232)",
            "linecolor": "rgb(36,36,36)",
            "showgrid": false,
            "showline": true,
            "ticks": "outside"
           },
           "bgcolor": "white",
           "caxis": {
            "gridcolor": "rgb(232,232,232)",
            "linecolor": "rgb(36,36,36)",
            "showgrid": false,
            "showline": true,
            "ticks": "outside"
           }
          },
          "title": {
           "x": 0.05
          },
          "xaxis": {
           "automargin": true,
           "gridcolor": "rgb(232,232,232)",
           "linecolor": "rgb(36,36,36)",
           "showgrid": false,
           "showline": true,
           "ticks": "outside",
           "title": {
            "standoff": 15
           },
           "zeroline": false,
           "zerolinecolor": "rgb(36,36,36)"
          },
          "yaxis": {
           "automargin": true,
           "gridcolor": "rgb(232,232,232)",
           "linecolor": "rgb(36,36,36)",
           "showgrid": false,
           "showline": true,
           "ticks": "outside",
           "title": {
            "standoff": 15
           },
           "zeroline": false,
           "zerolinecolor": "rgb(36,36,36)"
          }
         }
        },
        "width": 800,
        "xaxis": {
         "autorange": true,
         "linecolor": "rgba(255,255,255,0)",
         "range": [
          -0.5,
          11.5
         ],
         "showline": true,
         "tickfont": {
          "size": 18
         },
         "ticklen": 0,
         "type": "category"
        },
        "yaxis": {
         "nticks": 5,
         "range": [
          0,
          5000
         ],
         "title": {
          "text": "mm<sup>2</sup>"
         },
         "type": "linear"
        }
       }
      },
      "image/png": "[encoded data removed]",
      "text/html": [
       "<div>                            <div id=\"4a2c2771-f730-46ab-9574-28257e2d9c4c\" class=\"plotly-graph-div\" style=\"height:800px; width:800px;\"></div>            <script type=\"text/javascript\">                require([\"plotly\"], function(Plotly) {                    window.PLOTLYENV=window.PLOTLYENV || {};                                    if (document.getElementById(\"4a2c2771-f730-46ab-9574-28257e2d9c4c\")) {                    Plotly.newPlot(                        \"4a2c2771-f730-46ab-9574-28257e2d9c4c\",                        [{\"marker\":{\"color\":[\"rgb(243, 231, 155)\",\"rgb(250, 196, 132)\",\"rgb(248, 160, 126)\",\"rgb(235, 127, 134)\",\"rgb(150,0,90)\",\"rgb(0,0,200)\",\"rgb(0,25,255)\",\"rgb(0,152,255)\",\"rgb(44,255,150)\",\"rgb(151,255,0)\",\"rgb(255,234,0)\",\"rgb(255,111,0)\",\"rgb(255,0,0)\"]},\"showlegend\":false,\"x\":[\"V1\",\"V2\",\"V3\",\"V3AB\",\"LO\",\"VO\",\"hMT+\",\"iIPS\",\"sIPS\",\"iPCS\",\"sPCS\",\"mPCS\"],\"y\":[2522.9120063794544,2330.815932581754,2353.930451617678,1938.9317805955795,1887.0072728778807,4186.285978382462,786.5890701569635,1997.0443226392695,3488.4036037021624,1984.9928253907078,2886.251139903261,2939.5950941732153],\"type\":\"bar\"}],                        {\"template\":{\"data\":{\"barpolar\":[{\"marker\":{\"line\":{\"color\":\"white\",\"width\":0.5},\"pattern\":{\"fillmode\":\"overlay\",\"size\":10,\"solidity\":0.2}},\"type\":\"barpolar\"}],\"bar\":[{\"error_x\":{\"color\":\"rgb(36,36,36)\"},\"error_y\":{\"color\":\"rgb(36,36,36)\"},\"marker\":{\"line\":{\"color\":\"white\",\"width\":0.5},\"pattern\":{\"fillmode\":\"overlay\",\"size\":10,\"solidity\":0.2}},\"type\":\"bar\"}],\"carpet\":[{\"aaxis\":{\"endlinecolor\":\"rgb(36,36,36)\",\"gridcolor\":\"white\",\"linecolor\":\"white\",\"minorgridcolor\":\"white\",\"startlinecolor\":\"rgb(36,36,36)\"},\"baxis\":{\"endlinecolor\":\"rgb(36,36,36)\",\"gridcolor\":\"white\",\"linecolor\":\"white\",\"minorgridcolor\":\"white\",\"startlinecolor\":\"rgb(36,36,36)\"},\"type\":\"carpet\"}],\"choropleth\":[{\"colorbar\":{\"outlinewidth\":1,\"tickcolor\":\"rgb(36,36,36)\",\"ticks\":\"outside\"},\"type\":\"choropleth\"}],\"contourcarpet\":[{\"colorbar\":{\"outlinewidth\":1,\"tickcolor\":\"rgb(36,36,36)\",\"ticks\":\"outside\"},\"type\":\"contourcarpet\"}],\"contour\":[{\"colorbar\":{\"outlinewidth\":1,\"tickcolor\":\"rgb(36,36,36)\",\"ticks\":\"outside\"},\"colorscale\":[[0.0,\"#440154\"],[0.1111111111111111,\"#482878\"],[0.2222222222222222,\"#3e4989\"],[0.3333333333333333,\"#31688e\"],[0.4444444444444444,\"#26828e\"],[0.5555555555555556,\"#1f9e89\"],[0.6666666666666666,\"#35b779\"],[0.7777777777777778,\"#6ece58\"],[0.8888888888888888,\"#b5de2b\"],[1.0,\"#fde725\"]],\"type\":\"contour\"}],\"heatmapgl\":[{\"colorbar\":{\"outlinewidth\":1,\"tickcolor\":\"rgb(36,36,36)\",\"ticks\":\"outside\"},\"colorscale\":[[0.0,\"#440154\"],[0.1111111111111111,\"#482878\"],[0.2222222222222222,\"#3e4989\"],[0.3333333333333333,\"#31688e\"],[0.4444444444444444,\"#26828e\"],[0.5555555555555556,\"#1f9e89\"],[0.6666666666666666,\"#35b779\"],[0.7777777777777778,\"#6ece58\"],[0.8888888888888888,\"#b5de2b\"],[1.0,\"#fde725\"]],\"type\":\"heatmapgl\"}],\"heatmap\":[{\"colorbar\":{\"outlinewidth\":1,\"tickcolor\":\"rgb(36,36,36)\",\"ticks\":\"outside\"},\"colorscale\":[[0.0,\"#440154\"],[0.1111111111111111,\"#482878\"],[0.2222222222222222,\"#3e4989\"],[0.3333333333333333,\"#31688e\"],[0.4444444444444444,\"#26828e\"],[0.5555555555555556,\"#1f9e89\"],[0.6666666666666666,\"#35b779\"],[0.7777777777777778,\"#6ece58\"],[0.8888888888888888,\"#b5de2b\"],[1.0,\"#fde725\"]],\"type\":\"heatmap\"}],\"histogram2dcontour\":[{\"colorbar\":{\"outlinewidth\":1,\"tickcolor\":\"rgb(36,36,36)\",\"ticks\":\"outside\"},\"colorscale\":[[0.0,\"#440154\"],[0.1111111111111111,\"#482878\"],[0.2222222222222222,\"#3e4989\"],[0.3333333333333333,\"#31688e\"],[0.4444444444444444,\"#26828e\"],[0.5555555555555556,\"#1f9e89\"],[0.6666666666666666,\"#35b779\"],[0.7777777777777778,\"#6ece58\"],[0.8888888888888888,\"#b5de2b\"],[1.0,\"#fde725\"]],\"type\":\"histogram2dcontour\"}],\"histogram2d\":[{\"colorbar\":{\"outlinewidth\":1,\"tickcolor\":\"rgb(36,36,36)\",\"ticks\":\"outside\"},\"colorscale\":[[0.0,\"#440154\"],[0.1111111111111111,\"#482878\"],[0.2222222222222222,\"#3e4989\"],[0.3333333333333333,\"#31688e\"],[0.4444444444444444,\"#26828e\"],[0.5555555555555556,\"#1f9e89\"],[0.6666666666666666,\"#35b779\"],[0.7777777777777778,\"#6ece58\"],[0.8888888888888888,\"#b5de2b\"],[1.0,\"#fde725\"]],\"type\":\"histogram2d\"}],\"histogram\":[{\"marker\":{\"line\":{\"color\":\"white\",\"width\":0.6}},\"type\":\"histogram\"}],\"mesh3d\":[{\"colorbar\":{\"outlinewidth\":1,\"tickcolor\":\"rgb(36,36,36)\",\"ticks\":\"outside\"},\"type\":\"mesh3d\"}],\"parcoords\":[{\"line\":{\"colorbar\":{\"outlinewidth\":1,\"tickcolor\":\"rgb(36,36,36)\",\"ticks\":\"outside\"}},\"type\":\"parcoords\"}],\"pie\":[{\"automargin\":true,\"type\":\"pie\"}],\"scatter3d\":[{\"line\":{\"colorbar\":{\"outlinewidth\":1,\"tickcolor\":\"rgb(36,36,36)\",\"ticks\":\"outside\"}},\"marker\":{\"colorbar\":{\"outlinewidth\":1,\"tickcolor\":\"rgb(36,36,36)\",\"ticks\":\"outside\"}},\"type\":\"scatter3d\"}],\"scattercarpet\":[{\"marker\":{\"colorbar\":{\"outlinewidth\":1,\"tickcolor\":\"rgb(36,36,36)\",\"ticks\":\"outside\"}},\"type\":\"scattercarpet\"}],\"scattergeo\":[{\"marker\":{\"colorbar\":{\"outlinewidth\":1,\"tickcolor\":\"rgb(36,36,36)\",\"ticks\":\"outside\"}},\"type\":\"scattergeo\"}],\"scattergl\":[{\"marker\":{\"colorbar\":{\"outlinewidth\":1,\"tickcolor\":\"rgb(36,36,36)\",\"ticks\":\"outside\"}},\"type\":\"scattergl\"}],\"scattermapbox\":[{\"marker\":{\"colorbar\":{\"outlinewidth\":1,\"tickcolor\":\"rgb(36,36,36)\",\"ticks\":\"outside\"}},\"type\":\"scattermapbox\"}],\"scatterpolargl\":[{\"marker\":{\"colorbar\":{\"outlinewidth\":1,\"tickcolor\":\"rgb(36,36,36)\",\"ticks\":\"outside\"}},\"type\":\"scatterpolargl\"}],\"scatterpolar\":[{\"marker\":{\"colorbar\":{\"outlinewidth\":1,\"tickcolor\":\"rgb(36,36,36)\",\"ticks\":\"outside\"}},\"type\":\"scatterpolar\"}],\"scatter\":[{\"fillpattern\":{\"fillmode\":\"overlay\",\"size\":10,\"solidity\":0.2},\"type\":\"scatter\"}],\"scatterternary\":[{\"marker\":{\"colorbar\":{\"outlinewidth\":1,\"tickcolor\":\"rgb(36,36,36)\",\"ticks\":\"outside\"}},\"type\":\"scatterternary\"}],\"surface\":[{\"colorbar\":{\"outlinewidth\":1,\"tickcolor\":\"rgb(36,36,36)\",\"ticks\":\"outside\"},\"colorscale\":[[0.0,\"#440154\"],[0.1111111111111111,\"#482878\"],[0.2222222222222222,\"#3e4989\"],[0.3333333333333333,\"#31688e\"],[0.4444444444444444,\"#26828e\"],[0.5555555555555556,\"#1f9e89\"],[0.6666666666666666,\"#35b779\"],[0.7777777777777778,\"#6ece58\"],[0.8888888888888888,\"#b5de2b\"],[1.0,\"#fde725\"]],\"type\":\"surface\"}],\"table\":[{\"cells\":{\"fill\":{\"color\":\"rgb(237,237,237)\"},\"line\":{\"color\":\"white\"}},\"header\":{\"fill\":{\"color\":\"rgb(217,217,217)\"},\"line\":{\"color\":\"white\"}},\"type\":\"table\"}]},\"layout\":{\"annotationdefaults\":{\"arrowhead\":0,\"arrowwidth\":1},\"autotypenumbers\":\"strict\",\"coloraxis\":{\"colorbar\":{\"outlinewidth\":1,\"tickcolor\":\"rgb(36,36,36)\",\"ticks\":\"outside\"}},\"colorscale\":{\"diverging\":[[0.0,\"rgb(103,0,31)\"],[0.1,\"rgb(178,24,43)\"],[0.2,\"rgb(214,96,77)\"],[0.3,\"rgb(244,165,130)\"],[0.4,\"rgb(253,219,199)\"],[0.5,\"rgb(247,247,247)\"],[0.6,\"rgb(209,229,240)\"],[0.7,\"rgb(146,197,222)\"],[0.8,\"rgb(67,147,195)\"],[0.9,\"rgb(33,102,172)\"],[1.0,\"rgb(5,48,97)\"]],\"sequential\":[[0.0,\"#440154\"],[0.1111111111111111,\"#482878\"],[0.2222222222222222,\"#3e4989\"],[0.3333333333333333,\"#31688e\"],[0.4444444444444444,\"#26828e\"],[0.5555555555555556,\"#1f9e89\"],[0.6666666666666666,\"#35b779\"],[0.7777777777777778,\"#6ece58\"],[0.8888888888888888,\"#b5de2b\"],[1.0,\"#fde725\"]],\"sequentialminus\":[[0.0,\"#440154\"],[0.1111111111111111,\"#482878\"],[0.2222222222222222,\"#3e4989\"],[0.3333333333333333,\"#31688e\"],[0.4444444444444444,\"#26828e\"],[0.5555555555555556,\"#1f9e89\"],[0.6666666666666666,\"#35b779\"],[0.7777777777777778,\"#6ece58\"],[0.8888888888888888,\"#b5de2b\"],[1.0,\"#fde725\"]]},\"colorway\":[\"#1F77B4\",\"#FF7F0E\",\"#2CA02C\",\"#D62728\",\"#9467BD\",\"#8C564B\",\"#E377C2\",\"#7F7F7F\",\"#BCBD22\",\"#17BECF\"],\"font\":{\"color\":\"rgb(36,36,36)\"},\"geo\":{\"bgcolor\":\"white\",\"lakecolor\":\"white\",\"landcolor\":\"white\",\"showlakes\":true,\"showland\":true,\"subunitcolor\":\"white\"},\"hoverlabel\":{\"align\":\"left\"},\"hovermode\":\"closest\",\"mapbox\":{\"style\":\"light\"},\"paper_bgcolor\":\"white\",\"plot_bgcolor\":\"white\",\"polar\":{\"angularaxis\":{\"gridcolor\":\"rgb(232,232,232)\",\"linecolor\":\"rgb(36,36,36)\",\"showgrid\":false,\"showline\":true,\"ticks\":\"outside\"},\"bgcolor\":\"white\",\"radialaxis\":{\"gridcolor\":\"rgb(232,232,232)\",\"linecolor\":\"rgb(36,36,36)\",\"showgrid\":false,\"showline\":true,\"ticks\":\"outside\"}},\"scene\":{\"xaxis\":{\"backgroundcolor\":\"white\",\"gridcolor\":\"rgb(232,232,232)\",\"gridwidth\":2,\"linecolor\":\"rgb(36,36,36)\",\"showbackground\":true,\"showgrid\":false,\"showline\":true,\"ticks\":\"outside\",\"zeroline\":false,\"zerolinecolor\":\"rgb(36,36,36)\"},\"yaxis\":{\"backgroundcolor\":\"white\",\"gridcolor\":\"rgb(232,232,232)\",\"gridwidth\":2,\"linecolor\":\"rgb(36,36,36)\",\"showbackground\":true,\"showgrid\":false,\"showline\":true,\"ticks\":\"outside\",\"zeroline\":false,\"zerolinecolor\":\"rgb(36,36,36)\"},\"zaxis\":{\"backgroundcolor\":\"white\",\"gridcolor\":\"rgb(232,232,232)\",\"gridwidth\":2,\"linecolor\":\"rgb(36,36,36)\",\"showbackground\":true,\"showgrid\":false,\"showline\":true,\"ticks\":\"outside\",\"zeroline\":false,\"zerolinecolor\":\"rgb(36,36,36)\"}},\"shapedefaults\":{\"fillcolor\":\"black\",\"line\":{\"width\":0},\"opacity\":0.3},\"ternary\":{\"aaxis\":{\"gridcolor\":\"rgb(232,232,232)\",\"linecolor\":\"rgb(36,36,36)\",\"showgrid\":false,\"showline\":true,\"ticks\":\"outside\"},\"baxis\":{\"gridcolor\":\"rgb(232,232,232)\",\"linecolor\":\"rgb(36,36,36)\",\"showgrid\":false,\"showline\":true,\"ticks\":\"outside\"},\"bgcolor\":\"white\",\"caxis\":{\"gridcolor\":\"rgb(232,232,232)\",\"linecolor\":\"rgb(36,36,36)\",\"showgrid\":false,\"showline\":true,\"ticks\":\"outside\"}},\"title\":{\"x\":0.05},\"xaxis\":{\"automargin\":true,\"gridcolor\":\"rgb(232,232,232)\",\"linecolor\":\"rgb(36,36,36)\",\"showgrid\":false,\"showline\":true,\"ticks\":\"outside\",\"title\":{\"standoff\":15},\"zeroline\":false,\"zerolinecolor\":\"rgb(36,36,36)\"},\"yaxis\":{\"automargin\":true,\"gridcolor\":\"rgb(232,232,232)\",\"linecolor\":\"rgb(36,36,36)\",\"showgrid\":false,\"showline\":true,\"ticks\":\"outside\",\"title\":{\"standoff\":15},\"zeroline\":false,\"zerolinecolor\":\"rgb(36,36,36)\"}}},\"yaxis\":{\"title\":{\"text\":\"mm\\u003csup\\u003e2\\u003c\\u002fsup\\u003e\"},\"range\":[0,5000],\"nticks\":5},\"xaxis\":{\"tickfont\":{\"size\":18},\"showline\":true,\"ticklen\":0,\"linecolor\":\"rgba(255,255,255,0)\"},\"height\":800,\"width\":800,\"showlegend\":true},                        {\"responsive\": true}                    ).then(function(){\n",
       "                            \n",
       "var gd = document.getElementById('4a2c2771-f730-46ab-9574-28257e2d9c4c');\n",
       "var x = new MutationObserver(function (mutations, observer) {{\n",
       "        var display = window.getComputedStyle(gd).display;\n",
       "        if (!display || display === 'none') {{\n",
       "            console.log([gd, 'removed!']);\n",
       "            Plotly.purge(gd);\n",
       "            observer.disconnect();\n",
       "        }}\n",
       "}});\n",
       "\n",
       "// Listen for the removal of the full notebook cells\n",
       "var notebookContainer = gd.closest('#notebook-container');\n",
       "if (notebookContainer) {{\n",
       "    x.observe(notebookContainer, {childList: true});\n",
       "}}\n",
       "\n",
       "// Listen for the clearing of the current output cell\n",
       "var outputEl = gd.closest('.output');\n",
       "if (outputEl) {{\n",
       "    x.observe(outputEl, {childList: true});\n",
       "}}\n",
       "\n",
       "                        })                };                });            </script>        </div>"
      ]
     },
     "metadata": {},
     "output_type": "display_data"
    }
   ],
   "source": [
    "\n",
    "data = data.dropna()\n",
    "rois = pd.unique(data.rois)\n",
    "\n",
    "roi_colors = px.colors.sequential.Sunset[:4] + px.colors.sequential.Rainbow[:]\n",
    "\n",
    "\n",
    "fig_height, fig_width = 800, 800\n",
    "bar_width = 1\n",
    "fig =go.Figure()\n",
    "\n",
    "fig.add_trace(go.Bar(x=nouveau_df.rois, \n",
    "                     y=nouveau_df.vertex_surf_sum, \n",
    "                     showlegend=False, \n",
    "                     marker_color = roi_colors ))\n",
    "fig.update_yaxes(range=[0,5000], \n",
    "                 nticks=5, \n",
    "                 title_text='mm<sup>2</sup>')\n",
    "\n",
    "fig.update_xaxes(showline=True, \n",
    "                 ticklen=0, \n",
    "                 linecolor=('rgba(255,255,255,0)'), \n",
    "                 tickfont=dict(size=18))    \n",
    "\n",
    "# fig.update_xaxes(type='category')\n",
    "fig.update_layout(height=fig_height, \n",
    "                  width=fig_width, \n",
    "                  showlegend=True, \n",
    "                  template='simple_white')\n",
    "# fig.write_image(\"/Users/uriel/Downloads/{}_rois_areas.pdf\".format(subject))\n",
    "\n",
    "fig.show()"
   ]
  },
  {
   "cell_type": "code",
   "execution_count": 35,
   "id": "cac11e3d-7ad6-4c03-8f75-1472f8443209",
   "metadata": {
    "tags": []
   },
   "outputs": [
    {
     "data": {
      "text/html": [
       "<div>\n",
       "<style scoped>\n",
       "    .dataframe tbody tr th:only-of-type {\n",
       "        vertical-align: middle;\n",
       "    }\n",
       "\n",
       "    .dataframe tbody tr th {\n",
       "        vertical-align: top;\n",
       "    }\n",
       "\n",
       "    .dataframe thead th {\n",
       "        text-align: right;\n",
       "    }\n",
       "</style>\n",
       "<table border=\"1\" class=\"dataframe\">\n",
       "  <thead>\n",
       "    <tr style=\"text-align: right;\">\n",
       "      <th></th>\n",
       "      <th>prf_rsq</th>\n",
       "      <th>prf_ecc</th>\n",
       "      <th>polar_real</th>\n",
       "      <th>polar_imag</th>\n",
       "      <th>prf_size</th>\n",
       "      <th>amplitude</th>\n",
       "      <th>baseline</th>\n",
       "      <th>prf_x</th>\n",
       "      <th>prf_y</th>\n",
       "      <th>hrf_1</th>\n",
       "      <th>hrf_2</th>\n",
       "      <th>prf_n</th>\n",
       "      <th>prf_loo_r2</th>\n",
       "      <th>rois</th>\n",
       "      <th>subject</th>\n",
       "      <th>hemi</th>\n",
       "      <th>pcm</th>\n",
       "      <th>vertex_surf</th>\n",
       "      <th>stats_final</th>\n",
       "    </tr>\n",
       "  </thead>\n",
       "  <tbody>\n",
       "    <tr>\n",
       "      <th>0</th>\n",
       "      <td>0.544784</td>\n",
       "      <td>4.148319</td>\n",
       "      <td>0.303645</td>\n",
       "      <td>-0.952730</td>\n",
       "      <td>0.991623</td>\n",
       "      <td>2.852390e-01</td>\n",
       "      <td>-0.202981</td>\n",
       "      <td>1.259918</td>\n",
       "      <td>-3.952131</td>\n",
       "      <td>5.841734</td>\n",
       "      <td>-2.592693</td>\n",
       "      <td>0.440393</td>\n",
       "      <td>0.280069</td>\n",
       "      <td>V1</td>\n",
       "      <td>sub-01</td>\n",
       "      <td>hemi-L</td>\n",
       "      <td>1.594387</td>\n",
       "      <td>0.090760</td>\n",
       "      <td>vision</td>\n",
       "    </tr>\n",
       "    <tr>\n",
       "      <th>1</th>\n",
       "      <td>0.721184</td>\n",
       "      <td>3.924539</td>\n",
       "      <td>0.221637</td>\n",
       "      <td>-0.975070</td>\n",
       "      <td>1.195946</td>\n",
       "      <td>3.992646e-01</td>\n",
       "      <td>-0.383623</td>\n",
       "      <td>0.869663</td>\n",
       "      <td>-3.826736</td>\n",
       "      <td>4.723704</td>\n",
       "      <td>-2.233333</td>\n",
       "      <td>0.446812</td>\n",
       "      <td>0.521833</td>\n",
       "      <td>V1</td>\n",
       "      <td>sub-01</td>\n",
       "      <td>hemi-L</td>\n",
       "      <td>12.737061</td>\n",
       "      <td>0.256740</td>\n",
       "      <td>vision_and_pursuit_and_saccade</td>\n",
       "    </tr>\n",
       "    <tr>\n",
       "      <th>2</th>\n",
       "      <td>0.314963</td>\n",
       "      <td>4.562551</td>\n",
       "      <td>0.316119</td>\n",
       "      <td>-0.948360</td>\n",
       "      <td>1.296987</td>\n",
       "      <td>1.229835e-01</td>\n",
       "      <td>-0.110937</td>\n",
       "      <td>1.445393</td>\n",
       "      <td>-4.325868</td>\n",
       "      <td>8.209347</td>\n",
       "      <td>-3.110799</td>\n",
       "      <td>0.661363</td>\n",
       "      <td>0.098320</td>\n",
       "      <td>V1</td>\n",
       "      <td>sub-01</td>\n",
       "      <td>hemi-L</td>\n",
       "      <td>1.346578</td>\n",
       "      <td>0.293665</td>\n",
       "      <td>vision</td>\n",
       "    </tr>\n",
       "    <tr>\n",
       "      <th>3</th>\n",
       "      <td>0.421139</td>\n",
       "      <td>3.958556</td>\n",
       "      <td>0.239607</td>\n",
       "      <td>-0.970740</td>\n",
       "      <td>1.630879</td>\n",
       "      <td>6.088110e-02</td>\n",
       "      <td>-0.158310</td>\n",
       "      <td>0.948104</td>\n",
       "      <td>-3.842817</td>\n",
       "      <td>6.847516</td>\n",
       "      <td>-2.305906</td>\n",
       "      <td>0.908489</td>\n",
       "      <td>0.159729</td>\n",
       "      <td>V1</td>\n",
       "      <td>sub-01</td>\n",
       "      <td>hemi-L</td>\n",
       "      <td>3.641613</td>\n",
       "      <td>0.041887</td>\n",
       "      <td>vision</td>\n",
       "    </tr>\n",
       "    <tr>\n",
       "      <th>4</th>\n",
       "      <td>0.716370</td>\n",
       "      <td>3.781982</td>\n",
       "      <td>0.219459</td>\n",
       "      <td>-0.975573</td>\n",
       "      <td>1.195633</td>\n",
       "      <td>4.058416e-01</td>\n",
       "      <td>-0.397000</td>\n",
       "      <td>0.829953</td>\n",
       "      <td>-3.689607</td>\n",
       "      <td>4.625887</td>\n",
       "      <td>-2.131217</td>\n",
       "      <td>0.446567</td>\n",
       "      <td>0.523299</td>\n",
       "      <td>V1</td>\n",
       "      <td>sub-01</td>\n",
       "      <td>hemi-L</td>\n",
       "      <td>10.552026</td>\n",
       "      <td>0.043934</td>\n",
       "      <td>vision_and_pursuit_and_saccade</td>\n",
       "    </tr>\n",
       "    <tr>\n",
       "      <th>...</th>\n",
       "      <td>...</td>\n",
       "      <td>...</td>\n",
       "      <td>...</td>\n",
       "      <td>...</td>\n",
       "      <td>...</td>\n",
       "      <td>...</td>\n",
       "      <td>...</td>\n",
       "      <td>...</td>\n",
       "      <td>...</td>\n",
       "      <td>...</td>\n",
       "      <td>...</td>\n",
       "      <td>...</td>\n",
       "      <td>...</td>\n",
       "      <td>...</td>\n",
       "      <td>...</td>\n",
       "      <td>...</td>\n",
       "      <td>...</td>\n",
       "      <td>...</td>\n",
       "      <td>...</td>\n",
       "    </tr>\n",
       "    <tr>\n",
       "      <th>85118</th>\n",
       "      <td>0.064794</td>\n",
       "      <td>7.005479</td>\n",
       "      <td>0.815083</td>\n",
       "      <td>0.546624</td>\n",
       "      <td>0.220958</td>\n",
       "      <td>1.234440e+21</td>\n",
       "      <td>0.019903</td>\n",
       "      <td>5.624443</td>\n",
       "      <td>3.965909</td>\n",
       "      <td>0.567556</td>\n",
       "      <td>-1.424559</td>\n",
       "      <td>3.924345</td>\n",
       "      <td>-0.031399</td>\n",
       "      <td>mPCS</td>\n",
       "      <td>sub-01</td>\n",
       "      <td>hemi-R</td>\n",
       "      <td>0.399761</td>\n",
       "      <td>0.165920</td>\n",
       "      <td>non_responding</td>\n",
       "    </tr>\n",
       "    <tr>\n",
       "      <th>85119</th>\n",
       "      <td>0.077876</td>\n",
       "      <td>6.875767</td>\n",
       "      <td>0.806233</td>\n",
       "      <td>0.555617</td>\n",
       "      <td>0.263167</td>\n",
       "      <td>1.241990e+21</td>\n",
       "      <td>0.024250</td>\n",
       "      <td>5.420216</td>\n",
       "      <td>3.989716</td>\n",
       "      <td>0.872226</td>\n",
       "      <td>-1.336900</td>\n",
       "      <td>1.930368</td>\n",
       "      <td>-0.039631</td>\n",
       "      <td>mPCS</td>\n",
       "      <td>sub-01</td>\n",
       "      <td>hemi-R</td>\n",
       "      <td>1.052802</td>\n",
       "      <td>0.524375</td>\n",
       "      <td>non_responding</td>\n",
       "    </tr>\n",
       "    <tr>\n",
       "      <th>85120</th>\n",
       "      <td>0.067810</td>\n",
       "      <td>6.292474</td>\n",
       "      <td>0.813744</td>\n",
       "      <td>0.547954</td>\n",
       "      <td>0.285438</td>\n",
       "      <td>2.829168e+20</td>\n",
       "      <td>0.010010</td>\n",
       "      <td>5.040122</td>\n",
       "      <td>3.554402</td>\n",
       "      <td>3.826195</td>\n",
       "      <td>4.701279</td>\n",
       "      <td>0.925015</td>\n",
       "      <td>-0.029655</td>\n",
       "      <td>mPCS</td>\n",
       "      <td>sub-01</td>\n",
       "      <td>hemi-R</td>\n",
       "      <td>0.845093</td>\n",
       "      <td>0.155409</td>\n",
       "      <td>non_responding</td>\n",
       "    </tr>\n",
       "    <tr>\n",
       "      <th>85121</th>\n",
       "      <td>0.150430</td>\n",
       "      <td>13.217314</td>\n",
       "      <td>-0.693224</td>\n",
       "      <td>0.010792</td>\n",
       "      <td>1.390715</td>\n",
       "      <td>2.824739e+02</td>\n",
       "      <td>-282.352900</td>\n",
       "      <td>-9.789287</td>\n",
       "      <td>0.757216</td>\n",
       "      <td>-1.124429</td>\n",
       "      <td>2.758134</td>\n",
       "      <td>0.000013</td>\n",
       "      <td>0.026297</td>\n",
       "      <td>mPCS</td>\n",
       "      <td>sub-01</td>\n",
       "      <td>hemi-R</td>\n",
       "      <td>0.001135</td>\n",
       "      <td>0.030099</td>\n",
       "      <td>non_responding</td>\n",
       "    </tr>\n",
       "    <tr>\n",
       "      <th>85122</th>\n",
       "      <td>0.156003</td>\n",
       "      <td>4.856877</td>\n",
       "      <td>-0.728768</td>\n",
       "      <td>-0.392248</td>\n",
       "      <td>13175.719000</td>\n",
       "      <td>2.888344e+02</td>\n",
       "      <td>-288.854900</td>\n",
       "      <td>-2.636659</td>\n",
       "      <td>-2.900597</td>\n",
       "      <td>-1.493269</td>\n",
       "      <td>-44.062310</td>\n",
       "      <td>-0.000043</td>\n",
       "      <td>0.020512</td>\n",
       "      <td>mPCS</td>\n",
       "      <td>sub-01</td>\n",
       "      <td>hemi-R</td>\n",
       "      <td>0.001140</td>\n",
       "      <td>0.020301</td>\n",
       "      <td>non_responding</td>\n",
       "    </tr>\n",
       "  </tbody>\n",
       "</table>\n",
       "<p>85121 rows × 19 columns</p>\n",
       "</div>"
      ],
      "text/plain": [
       "        prf_rsq    prf_ecc  polar_real  polar_imag      prf_size  \\\n",
       "0      0.544784   4.148319    0.303645   -0.952730      0.991623   \n",
       "1      0.721184   3.924539    0.221637   -0.975070      1.195946   \n",
       "2      0.314963   4.562551    0.316119   -0.948360      1.296987   \n",
       "3      0.421139   3.958556    0.239607   -0.970740      1.630879   \n",
       "4      0.716370   3.781982    0.219459   -0.975573      1.195633   \n",
       "...         ...        ...         ...         ...           ...   \n",
       "85118  0.064794   7.005479    0.815083    0.546624      0.220958   \n",
       "85119  0.077876   6.875767    0.806233    0.555617      0.263167   \n",
       "85120  0.067810   6.292474    0.813744    0.547954      0.285438   \n",
       "85121  0.150430  13.217314   -0.693224    0.010792      1.390715   \n",
       "85122  0.156003   4.856877   -0.728768   -0.392248  13175.719000   \n",
       "\n",
       "          amplitude    baseline     prf_x     prf_y     hrf_1      hrf_2  \\\n",
       "0      2.852390e-01   -0.202981  1.259918 -3.952131  5.841734  -2.592693   \n",
       "1      3.992646e-01   -0.383623  0.869663 -3.826736  4.723704  -2.233333   \n",
       "2      1.229835e-01   -0.110937  1.445393 -4.325868  8.209347  -3.110799   \n",
       "3      6.088110e-02   -0.158310  0.948104 -3.842817  6.847516  -2.305906   \n",
       "4      4.058416e-01   -0.397000  0.829953 -3.689607  4.625887  -2.131217   \n",
       "...             ...         ...       ...       ...       ...        ...   \n",
       "85118  1.234440e+21    0.019903  5.624443  3.965909  0.567556  -1.424559   \n",
       "85119  1.241990e+21    0.024250  5.420216  3.989716  0.872226  -1.336900   \n",
       "85120  2.829168e+20    0.010010  5.040122  3.554402  3.826195   4.701279   \n",
       "85121  2.824739e+02 -282.352900 -9.789287  0.757216 -1.124429   2.758134   \n",
       "85122  2.888344e+02 -288.854900 -2.636659 -2.900597 -1.493269 -44.062310   \n",
       "\n",
       "          prf_n  prf_loo_r2  rois subject    hemi        pcm  vertex_surf  \\\n",
       "0      0.440393    0.280069    V1  sub-01  hemi-L   1.594387     0.090760   \n",
       "1      0.446812    0.521833    V1  sub-01  hemi-L  12.737061     0.256740   \n",
       "2      0.661363    0.098320    V1  sub-01  hemi-L   1.346578     0.293665   \n",
       "3      0.908489    0.159729    V1  sub-01  hemi-L   3.641613     0.041887   \n",
       "4      0.446567    0.523299    V1  sub-01  hemi-L  10.552026     0.043934   \n",
       "...         ...         ...   ...     ...     ...        ...          ...   \n",
       "85118  3.924345   -0.031399  mPCS  sub-01  hemi-R   0.399761     0.165920   \n",
       "85119  1.930368   -0.039631  mPCS  sub-01  hemi-R   1.052802     0.524375   \n",
       "85120  0.925015   -0.029655  mPCS  sub-01  hemi-R   0.845093     0.155409   \n",
       "85121  0.000013    0.026297  mPCS  sub-01  hemi-R   0.001135     0.030099   \n",
       "85122 -0.000043    0.020512  mPCS  sub-01  hemi-R   0.001140     0.020301   \n",
       "\n",
       "                          stats_final  \n",
       "0                              vision  \n",
       "1      vision_and_pursuit_and_saccade  \n",
       "2                              vision  \n",
       "3                              vision  \n",
       "4      vision_and_pursuit_and_saccade  \n",
       "...                               ...  \n",
       "85118                  non_responding  \n",
       "85119                  non_responding  \n",
       "85120                  non_responding  \n",
       "85121                  non_responding  \n",
       "85122                  non_responding  \n",
       "\n",
       "[85121 rows x 19 columns]"
      ]
     },
     "execution_count": 35,
     "metadata": {},
     "output_type": "execute_result"
    }
   ],
   "source": [
    "data"
   ]
  },
  {
   "cell_type": "markdown",
   "id": "39eda088-75d4-4cdd-85dc-68438d9c3962",
   "metadata": {
    "tags": []
   },
   "source": [
    "# figs"
   ]
  },
  {
   "cell_type": "code",
   "execution_count": null,
   "id": "e54f210b-2538-4f06-ba8f-a9704f21d7da",
   "metadata": {
    "tags": []
   },
   "outputs": [],
   "source": [
    "fig = prf_violins_plot(data, subject, ecc_th=ecc_th, size_th=size_th, rsq_th=rsq_th, pcm_th=pcm_th)"
   ]
  },
  {
   "cell_type": "code",
   "execution_count": null,
   "id": "a872694e-5543-4975-b3a5-94f9ca259ff8",
   "metadata": {
    "tags": []
   },
   "outputs": [],
   "source": [
    "fig.show()\n",
    "fig.write_image(\"/Users/uriel/Downloads/{}_violins5.pdf\".format(subject))"
   ]
  },
  {
   "cell_type": "code",
   "execution_count": null,
   "id": "360a0a6c-b3f0-4aa4-bcbd-a137b71fb62c",
   "metadata": {
    "tags": []
   },
   "outputs": [],
   "source": [
    "fig2 = prf_ecc_size_plot(data, subject, ecc_th=ecc_th, size_th=size_th, rsq_th=rsq_th)"
   ]
  },
  {
   "cell_type": "code",
   "execution_count": null,
   "id": "5b878427-666a-495e-b24f-96345684e611",
   "metadata": {
    "tags": []
   },
   "outputs": [],
   "source": [
    "fig2.show()"
   ]
  },
  {
   "cell_type": "code",
   "execution_count": null,
   "id": "ec9d3d57-fe0d-4e32-9af5-95719fccde6d",
   "metadata": {
    "tags": []
   },
   "outputs": [],
   "source": [
    "fig2 = prf_ecc_size_plot(data, subject, ecc_th=ecc_th, size_th=size_th, rsq_th=rsq_th)"
   ]
  },
  {
   "cell_type": "code",
   "execution_count": null,
   "id": "2474f53a-e327-42c4-b46f-eff4dee6ed08",
   "metadata": {
    "tags": []
   },
   "outputs": [],
   "source": [
    "fig2"
   ]
  },
  {
   "cell_type": "code",
   "execution_count": null,
   "id": "236f6693-bbf9-46ce-a3e3-b8fc3e0ac6eb",
   "metadata": {},
   "outputs": [],
   "source": [
    "fig3, fig4, fig4 = prf_polar_plot(data, subject, ecc_th=ecc_th, size_th=size_th, rsq_th=rsq_th)"
   ]
  },
  {
   "cell_type": "code",
   "execution_count": null,
   "id": "6cf4f127-ab2d-4997-a2ef-7b4c19468e6f",
   "metadata": {},
   "outputs": [],
   "source": [
    "fig4.write_image('/Users/uriel/Downloads/{}_subplot_polar_2.pdf'.format(subject))"
   ]
  },
  {
   "cell_type": "code",
   "execution_count": null,
   "id": "18e23ee4-f2cf-417b-af53-69fc1354ecad",
   "metadata": {},
   "outputs": [],
   "source": [
    "figures, hemispheres = prf_polar_plot(data, subject, ecc_th=ecc_th, size_th=size_th, rsq_th=rsq_th)\n",
    "\n",
    "for i, (figure, hemi) in enumerate(zip(figures, hemispheres), start=1):\n",
    "\n",
    "    figure.write_image(\"/Users/uriel/Downloads/{}_subplot_polar_{}.pdf'.format(subject,hemi))\n"
   ]
  },
  {
   "cell_type": "code",
   "execution_count": null,
   "id": "538bb469-5709-4105-9541-b292f1ecd22a",
   "metadata": {},
   "outputs": [],
   "source": [
    "fig5 = prf_contralaterality_plot(data, subject, ecc_th=ecc_th, size_th=size_th, rsq_th=rsq_th)"
   ]
  },
  {
   "cell_type": "markdown",
   "id": "312951ab-3f54-4f32-977e-ba4f297055ae",
   "metadata": {},
   "source": [
    "# fi6"
   ]
  },
  {
   "cell_type": "code",
   "execution_count": null,
   "id": "2ee9ef3d-c83b-44ee-9549-dca3628d4c55",
   "metadata": {
    "tags": []
   },
   "outputs": [],
   "source": [
    "fig6 = prf_ecc_pcm_plot(data, subject, ecc_th=ecc_th, pcm_th=pcm_th, rsq_th=rsq_th)"
   ]
  },
  {
   "cell_type": "code",
   "execution_count": null,
   "id": "679ba310-3c85-464a-9021-e7d434e76f57",
   "metadata": {
    "tags": []
   },
   "outputs": [],
   "source": [
    "fig6.show()"
   ]
  },
  {
   "cell_type": "code",
   "execution_count": null,
   "id": "e585f16d-efba-4872-9d51-4c2b767784b1",
   "metadata": {
    "tags": []
   },
   "outputs": [],
   "source": [
    "fig6.write_image(\"/Users/uriel/Downloads/{}_pcm.pdf\".format(subject))"
   ]
  }
 ],
 "metadata": {
  "kernelspec": {
   "display_name": "prf_env",
   "language": "python",
   "name": "prf_env"
  },
  "language_info": {
   "codemirror_mode": {
    "name": "ipython",
    "version": 3
   },
   "file_extension": ".py",
   "mimetype": "text/x-python",
   "name": "python",
   "nbconvert_exporter": "python",
   "pygments_lexer": "ipython3",
   "version": "3.11.7"
  }
 },
 "nbformat": 4,
 "nbformat_minor": 5
}
