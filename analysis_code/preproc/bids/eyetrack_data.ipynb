{
 "cells": [
  {
   "cell_type": "code",
   "execution_count": 1,
   "id": "7f965722-70dd-4a4b-b4cd-b090abdaa4c7",
   "metadata": {},
   "outputs": [
    {
     "data": {
      "text/plain": [
       "{}"
      ]
     },
     "execution_count": 1,
     "metadata": {},
     "output_type": "execute_result"
    }
   ],
   "source": [
    "{}"
   ]
  },
  {
   "cell_type": "markdown",
   "id": "8adb3a36-8068-4da0-b607-90d1992dc427",
   "metadata": {},
   "source": [
    "# Change eyetracking files to match BEP020 rules\n",
    "\n",
    "### TODO\n",
    "- [x] manually delete .asc files and be sure they all are named _eyeData \n",
    "- [ ] move _eyeData.edf data to /sourcedata\n",
    "- [ ] rename them to _eyetrack.edf\n",
    "- [ ] use converter to get json files and get data in right tsv.gz format\n",
    "- [ ] place them at the right place\n",
    "- [ ] write .gitignore to ignore these files and no longer the previous ones"
   ]
  },
  {
   "cell_type": "markdown",
   "id": "ad8eb93e-691b-47bd-94ec-2c29ac1b1704",
   "metadata": {},
   "source": [
    "### Initial settings"
   ]
  },
  {
   "cell_type": "code",
   "execution_count": 1,
   "id": "65f24e30-b5b8-4a00-a63b-d15d5fd66200",
   "metadata": {},
   "outputs": [],
   "source": [
    "# imports modules\n",
    "import sys\n",
    "import os\n",
    "from bids import BIDSLayout\n",
    "\n",
    "# inputs\n",
    "os.chdir(os.path.expanduser(\"~\")) \n",
    "main_dir = 'disks/meso_S/data/'\n",
    "project_dir = 'RetinoMaps'"
   ]
  },
  {
   "cell_type": "code",
   "execution_count": 2,
   "id": "ad140edb-fb61-4491-89e3-489e8016a148",
   "metadata": {},
   "outputs": [],
   "source": [
    "# Get bids stucture\n",
    "layout = BIDSLayout('{}/{}'.format(main_dir,project_dir))"
   ]
  },
  {
   "cell_type": "code",
   "execution_count": 4,
   "id": "7109e20c-86bc-433c-af05-97fb15a35a96",
   "metadata": {},
   "outputs": [],
   "source": [
    "nifti_files = layout.get(subject='01', extension='nii.gz', suffix='bold', return_type='filename')"
   ]
  },
  {
   "cell_type": "code",
   "execution_count": 13,
   "id": "b13cfc06-a291-40ad-9311-afaef9d26596",
   "metadata": {},
   "outputs": [
    {
     "name": "stdout",
     "output_type": "stream",
     "text": [
      "/home/mszinte/disks/meso_S/data/RetinoMaps/sub-01/ses-01/func/sub-01_ses-01_task-pMF_run-01_eyeData.edf\n",
      "/home/mszinte/disks/meso_S/data/RetinoMaps/sub-01/ses-01/func/sub-01_ses-01_task-pMF_run-02_eyeData.edf\n",
      "/home/mszinte/disks/meso_S/data/RetinoMaps/sub-01/ses-01/func/sub-01_ses-01_task-pMF_run-03_eyeData.edf\n",
      "/home/mszinte/disks/meso_S/data/RetinoMaps/sub-01/ses-01/func/sub-01_ses-01_task-pMF_run-04_eyeData.edf\n",
      "/home/mszinte/disks/meso_S/data/RetinoMaps/sub-01/ses-01/func/sub-01_ses-01_task-pMF_run-05_eyeData.edf\n",
      "/home/mszinte/disks/meso_S/data/RetinoMaps/sub-01/ses-01/func/sub-01_ses-01_task-PurLoc_run-01_eyeData.edf\n",
      "/home/mszinte/disks/meso_S/data/RetinoMaps/sub-01/ses-01/func/sub-01_ses-01_task-PurLoc_run-02_eyeData.edf\n",
      "/home/mszinte/disks/meso_S/data/RetinoMaps/sub-01/ses-01/func/sub-01_ses-01_task-rest_run-01_eyeData.edf\n",
      "/home/mszinte/disks/meso_S/data/RetinoMaps/sub-01/ses-01/func/sub-01_ses-01_task-rest_run-02_eyeData.edf\n",
      "/home/mszinte/disks/meso_S/data/RetinoMaps/sub-01/ses-01/func/sub-01_ses-01_task-SacLoc_run-01_eyeData.edf\n",
      "/home/mszinte/disks/meso_S/data/RetinoMaps/sub-01/ses-01/func/sub-01_ses-01_task-SacLoc_run-02_eyeData.edf\n",
      "/home/mszinte/disks/meso_S/data/RetinoMaps/sub-01/ses-02/func/sub-01_ses-02_task-pRF_run-01_eyeData.edf\n",
      "/home/mszinte/disks/meso_S/data/RetinoMaps/sub-01/ses-02/func/sub-01_ses-02_task-pRF_run-02_eyeData.edf\n",
      "/home/mszinte/disks/meso_S/data/RetinoMaps/sub-01/ses-02/func/sub-01_ses-02_task-pRF_run-03_eyeData.edf\n",
      "/home/mszinte/disks/meso_S/data/RetinoMaps/sub-01/ses-02/func/sub-01_ses-02_task-pRF_run-04_eyeData.edf\n",
      "/home/mszinte/disks/meso_S/data/RetinoMaps/sub-01/ses-02/func/sub-01_ses-02_task-pRF_run-05_eyeData.edf\n",
      "/home/mszinte/disks/meso_S/data/RetinoMaps/sub-01/ses-03/func/sub-01_ses-03_task-PurVELoc_run-01_eyeData.edf\n",
      "/home/mszinte/disks/meso_S/data/RetinoMaps/sub-01/ses-03/func/sub-01_ses-03_task-PurVELoc_run-02_eyeData.edf\n",
      "/home/mszinte/disks/meso_S/data/RetinoMaps/sub-01/ses-03/func/sub-01_ses-03_task-SacVELoc_run-01_eyeData.edf\n",
      "/home/mszinte/disks/meso_S/data/RetinoMaps/sub-01/ses-03/func/sub-01_ses-03_task-SacVELoc_run-02_eyeData.edf\n"
     ]
    }
   ],
   "source": [
    "for nifti_file in nifti_files:\n",
    "    edf_file = '{}_eyeData.edf'.format(nifti_file[:-12])\n",
    "    print(edf_file)"
   ]
  },
  {
   "cell_type": "code",
   "execution_count": null,
   "id": "e583a7f8-f791-43b8-bcfa-6273a3734949",
   "metadata": {},
   "outputs": [],
   "source": []
  }
 ],
 "metadata": {
  "kernelspec": {
   "display_name": "mszinte",
   "language": "python",
   "name": "mszinte"
  },
  "language_info": {
   "codemirror_mode": {
    "name": "ipython",
    "version": 3
   },
   "file_extension": ".py",
   "mimetype": "text/x-python",
   "name": "python",
   "nbconvert_exporter": "python",
   "pygments_lexer": "ipython3",
   "version": "3.9.13"
  }
 },
 "nbformat": 4,
 "nbformat_minor": 5
}
