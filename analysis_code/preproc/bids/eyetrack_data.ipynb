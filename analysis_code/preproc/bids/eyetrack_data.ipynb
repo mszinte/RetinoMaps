{
 "cells": [
  {
   "cell_type": "code",
   "execution_count": null,
   "id": "7f965722-70dd-4a4b-b4cd-b090abdaa4c7",
   "metadata": {},
   "outputs": [],
   "source": []
  },
  {
   "cell_type": "markdown",
   "id": "8adb3a36-8068-4da0-b607-90d1992dc427",
   "metadata": {},
   "source": [
    "# Change eyetracking files to match BEP020 rules\n",
    "\n",
    "### TODO\n",
    "- [x] manually delete .asc files and be sure they all are named _eyeData \n",
    "- [x] move _eyeData.edf data to /sourcedata\n",
    "- [x] rename them to _eyetrack.edf\n",
    "- [ ] use converter to get json files and get data in right tsv.gz format\n",
    "- [ ] place them at the right place\n",
    "- [ ] write .gitignore to ignore these files and no longer the previous ones"
   ]
  },
  {
   "cell_type": "markdown",
   "id": "ad8eb93e-691b-47bd-94ec-2c29ac1b1704",
   "metadata": {},
   "source": [
    "### Initial settings"
   ]
  },
  {
   "cell_type": "code",
   "execution_count": null,
   "id": "65f24e30-b5b8-4a00-a63b-d15d5fd66200",
   "metadata": {},
   "outputs": [],
   "source": [
    "# imports modules\n",
    "import sys\n",
    "import os\n",
    "from bids import BIDSLayout\n",
    "from bids.layout import parse_file_entities\n",
    "\n",
    "# inputs\n",
    "home_dir = os.path.expanduser(\"~\")\n",
    "os.chdir(home_dir) \n",
    "main_dir = '{}/disks/meso_S/data'.format(home_dir)\n",
    "project_dir = 'RetinoMaps'"
   ]
  },
  {
   "cell_type": "code",
   "execution_count": null,
   "id": "ad140edb-fb61-4491-89e3-489e8016a148",
   "metadata": {},
   "outputs": [],
   "source": [
    "# Get bids stucture\n",
    "layout = BIDSLayout('{}/{}'.format(main_dir,project_dir))"
   ]
  },
  {
   "cell_type": "code",
   "execution_count": null,
   "id": "b13cfc06-a291-40ad-9311-afaef9d26596",
   "metadata": {},
   "outputs": [],
   "source": [
    "# Get .edf file in main bids and move it renamed to sourcedata\n",
    "for subject_id in layout.get(return_type='id',target='subject'):\n",
    "    nifti_files = layout.get(subject=subject_id, extension='nii.gz', suffix='bold', return_type='filename')\n",
    "    \n",
    "    for nifti_file in nifti_files:\n",
    "        edf_file = '{}_eyeData.edf'.format(nifti_file[:-12])\n",
    "        entity_dict = parse_file_entities(edf_file)\n",
    "\n",
    "        # create sourcedat folder\n",
    "        sourcedata_folder = '{}/{}/sourcedata/sub-{}/ses-{}/{}'.format(main_dir, \n",
    "                                                                       project_dir,\n",
    "                                                                       entity_dict['subject'], \n",
    "                                                                       entity_dict['session'], \n",
    "                                                                       entity_dict['datatype'])\n",
    "        os.makedirs('{}'.format(sourcedata_folder), exist_ok=True)\n",
    "\n",
    "        # rename file from _eyeData to _eyetrack\n",
    "        edf_file_basename_rename = 'sub-{}_ses-{}_task-{}_run-{}_eyetrack{}'.format(\n",
    "            entity_dict['subject'], entity_dict['session'], entity_dict['task'],\n",
    "            entity_dict['run'],entity_dict['extension'])\n",
    "        \n",
    "        os.system('rsync -avuz {} {}/{}'.format(edf_file, sourcedata_folder, edf_file_basename_rename))"
   ]
  },
  {
   "cell_type": "code",
   "execution_count": null,
   "id": "47f32a44-a207-4542-81be-aab42208bacd",
   "metadata": {},
   "outputs": [],
   "source": [
    "edf_file_basename_rename = 'sub-{}_ses-{}_task-{}_eyetrack{}'.format(entity_dict['subject'], \n",
    "                                                                              entity_dict['session'], \n",
    "                                                                              entity_dict['task'],\n",
    "                                                                              entity_dict['extension']\n",
    "                                                                             )"
   ]
  },
  {
   "cell_type": "code",
   "execution_count": null,
   "id": "3e7e2c2b-458d-4add-81ed-ed5fb7a7833d",
   "metadata": {},
   "outputs": [],
   "source": []
  }
 ],
 "metadata": {
  "kernelspec": {
   "display_name": "mszinte",
   "language": "python",
   "name": "mszinte"
  },
  "language_info": {
   "codemirror_mode": {
    "name": "ipython",
    "version": 3
   },
   "file_extension": ".py",
   "mimetype": "text/x-python",
   "name": "python",
   "nbconvert_exporter": "python",
   "pygments_lexer": "ipython3",
   "version": "3.9.13"
  }
 },
 "nbformat": 4,
 "nbformat_minor": 5
}
