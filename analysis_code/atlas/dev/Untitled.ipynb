{
 "cells": [
  {
   "cell_type": "code",
   "execution_count": 1,
   "id": "67d3f4f7-b095-4bcf-af1e-ea49be928eaa",
   "metadata": {
    "tags": []
   },
   "outputs": [],
   "source": [
    "# Stop warnings\n",
    "import warnings\n",
    "warnings.filterwarnings(\"ignore\")\n",
    "\n",
    "# General imports\n",
    "import os\n",
    "import sys\n",
    "import cortex\n",
    "from cortex.rois import *\n",
    "import numpy as np\n",
    "import pandas as pd\n",
    "import matplotlib.pyplot as plt\n",
    "import plotly.graph_objects as go\n",
    "from plotly.subplots import make_subplots\n",
    "\n",
    "# Personal imports\n",
    "sys.path.append(\"{}/../../utils\".format(os.getcwd()))\n",
    "from surface_utils import load_surface ,make_surface_image\n",
    "from pycortex_utils import set_pycortex_config_file"
   ]
  },
  {
   "cell_type": "code",
   "execution_count": 2,
   "id": "47ce7c4d-966d-43b4-bf4c-b50c985c7351",
   "metadata": {
    "tags": []
   },
   "outputs": [],
   "source": [
    "# Imputs\n",
    "main_dir = '/Users/uriel/disks/meso_shared'\n",
    "project_dir = 'RetinoMaps'\n",
    "pycortex_dir = '{}/{}/derivatives/pp_data/cortex/db/'.format(main_dir,project_dir)\n",
    "pycortex_subject = 'sub-170k'\n"
   ]
  },
  {
   "cell_type": "code",
   "execution_count": 3,
   "id": "34807fed-2437-40e8-92d6-8ff8087effaf",
   "metadata": {
    "tags": []
   },
   "outputs": [],
   "source": [
    "cortex_dir = \"{}/{}/derivatives/pp_data/cortex\".format(main_dir, project_dir)\n",
    "set_pycortex_config_file(cortex_dir)"
   ]
  },
  {
   "cell_type": "code",
   "execution_count": 4,
   "id": "aaf20c3c-49ec-4b46-8272-163d3aa433ee",
   "metadata": {
    "tags": []
   },
   "outputs": [],
   "source": [
    "# load npz atlas and make dataframe\n",
    "mmp_atlas_fn ='/Users/uriel/Downloads/mmp_1.0.npz'\n",
    "mmp_npz = np.load(mmp_atlas_fn)"
   ]
  },
  {
   "cell_type": "code",
   "execution_count": 9,
   "id": "c65f1fb8-423e-4476-9637-da2919b3fb9a",
   "metadata": {
    "tags": []
   },
   "outputs": [
    {
     "data": {
      "text/plain": [
       "(380,)"
      ]
     },
     "execution_count": 9,
     "metadata": {},
     "output_type": "execute_result"
    }
   ],
   "source": [
    "mmp_npz['labels'].shape"
   ]
  },
  {
   "cell_type": "code",
   "execution_count": null,
   "id": "089c5d7f-382c-45f3-b768-78267232a9fa",
   "metadata": {},
   "outputs": [],
   "source": []
  }
 ],
 "metadata": {
  "kernelspec": {
   "display_name": "prf_env",
   "language": "python",
   "name": "prf_env"
  },
  "language_info": {
   "codemirror_mode": {
    "name": "ipython",
    "version": 3
   },
   "file_extension": ".py",
   "mimetype": "text/x-python",
   "name": "python",
   "nbconvert_exporter": "python",
   "pygments_lexer": "ipython3",
   "version": "3.11.7"
  }
 },
 "nbformat": 4,
 "nbformat_minor": 5
}
