{
 "cells": [
  {
   "cell_type": "markdown",
   "id": "3f882443-6e90-41e8-8b21-15180ba5d485",
   "metadata": {},
   "source": [
    "The goal of this notebook is to generate colormap to be use with pycortex"
   ]
  },
  {
   "cell_type": "code",
   "execution_count": 4,
   "id": "b1951a9f-8f0b-4fa0-a852-aaf94f51681c",
   "metadata": {
    "tags": []
   },
   "outputs": [],
   "source": [
    "import plotly.graph_objects as go\n",
    "import plotly.express as px\n",
    "from PIL import Image\n",
    "main_dir = '/Users/uriel/disks/meso_shared'\n",
    "project_dir = 'RetinoMaps'\n",
    "cortex_dir = \"{}/{}/derivatives/pp_data/cortex/colormaps/\".format(main_dir, project_dir)\n"
   ]
  },
  {
   "cell_type": "code",
   "execution_count": 26,
   "id": "2f11739c-e679-4d77-bb2b-1c3ea8808592",
   "metadata": {
    "tags": []
   },
   "outputs": [],
   "source": [
    "# colors you want \n",
    "sunset_colors = px.colors.sequential.Sunset[:4]\n",
    "rainbow_colors = px.colors.sequential.Rainbow[:]\n",
    "colors = [tuple(map(int, color.strip('rgb()').split(','))) for color in sunset_colors + rainbow_colors]\n",
    "colors.pop()\n",
    "\n",
    "\n",
    "#  Make the image\n",
    "image = Image.new(\"RGB\", (len(colors), 1))\n",
    "\n",
    "#  put the colors on the image\n",
    "for i in range(12):\n",
    "    image.putpixel((i, 0), colors[i])\n",
    "\n",
    "# Export the colormap \n",
    "image.save('{}/rois_colors.png'.format(cortex_dir))\n"
   ]
  }
 ],
 "metadata": {
  "kernelspec": {
   "display_name": "prf_env",
   "language": "python",
   "name": "prf_env"
  },
  "language_info": {
   "codemirror_mode": {
    "name": "ipython",
    "version": 3
   },
   "file_extension": ".py",
   "mimetype": "text/x-python",
   "name": "python",
   "nbconvert_exporter": "python",
   "pygments_lexer": "ipython3",
   "version": "3.11.7"
  }
 },
 "nbformat": 4,
 "nbformat_minor": 5
}
