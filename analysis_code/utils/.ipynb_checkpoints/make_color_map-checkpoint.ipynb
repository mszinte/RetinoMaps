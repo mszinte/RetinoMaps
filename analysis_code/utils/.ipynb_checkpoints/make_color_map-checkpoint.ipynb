{
 "cells": [
  {
   "cell_type": "markdown",
   "id": "3f882443-6e90-41e8-8b21-15180ba5d485",
   "metadata": {},
   "source": [
    "The goal of this notebook is to generate colormap to be use with pycortex"
   ]
  },
  {
   "cell_type": "code",
   "execution_count": 2,
   "id": "b1951a9f-8f0b-4fa0-a852-aaf94f51681c",
   "metadata": {
    "tags": []
   },
   "outputs": [],
   "source": [
    "from PIL import Image\n",
    "import plotly.express as px\n",
    "import matplotlib.pyplot as plt\n",
    "import plotly.graph_objects as go\n",
    "\n",
    "main_dir = '/Users/uriel/disks/meso_shared'\n",
    "project_dir = 'RetinoMaps'\n",
    "cortex_dir = \"{}/{}/derivatives/pp_data/cortex/colormaps/\".format(main_dir, project_dir)\n"
   ]
  },
  {
   "cell_type": "code",
   "execution_count": 8,
   "id": "2f11739c-e679-4d77-bb2b-1c3ea8808592",
   "metadata": {
    "tags": []
   },
   "outputs": [],
   "source": [
    "# colors you want \n",
    "# sunset_colors = px.colors.sequential.Sunset[:4]\n",
    "# rainbow_colors = px.colors.sequential.Rainbow[:]\n",
    "# colors = [tuple(map(int, color.strip('rgb()').split(','))) for color in sunset_colors + rainbow_colors]\n",
    "# colors.pop()\n",
    "cmap = plt.get_cmap('tab10').reversed()\n",
    "\n",
    "colors = [cmap(i) for i in range(cmap.N)]\n",
    "colors = colors[2:]\n",
    "colors = [(int(color[0] * 255), int(color[1] * 255), int(color[2] * 255)) for color in colors]\n",
    "colors[0] = (0,0,0)\n",
    "#  Make the image\n",
    "image = Image.new(\"RGB\", (len(colors), 1))\n",
    "\n",
    "#  put the colors on the image\n",
    "for i in range(len(colors)):\n",
    "    image.putpixel((i, 0), colors[i])\n",
    "\n",
    "# Export the colormap \n",
    "# color_map_name = 'rois_colors'\n",
    "color_map_name = 'stats_colors'\n",
    "image.save('{}/{}.png'.format(cortex_dir,color_map_name))\n"
   ]
  },
  {
   "cell_type": "code",
   "execution_count": 5,
   "id": "32f5c96c-ffcb-417a-b28f-0df6ccea99f2",
   "metadata": {
    "tags": []
   },
   "outputs": [],
   "source": [
    "\n",
    "cmap = plt.get_cmap('tab10').reversed()\n",
    "# cmap = plt.get_cmap('tab10')\n",
    "colors_rgb = [cmap(i) for i in range(cmap.N)]\n",
    "colors_rgb = colors_rgb[2:]"
   ]
  },
  {
   "cell_type": "code",
   "execution_count": 11,
   "id": "142f9ae9-09cc-41d2-a49b-64b6d64e2153",
   "metadata": {
    "tags": []
   },
   "outputs": [
    {
     "data": {
      "text/plain": [
       "(127, 127, 127)"
      ]
     },
     "execution_count": 11,
     "metadata": {},
     "output_type": "execute_result"
    }
   ],
   "source": []
  },
  {
   "cell_type": "code",
   "execution_count": 13,
   "id": "963b7839-d2d2-4563-be4d-bd2b30a65c87",
   "metadata": {
    "tags": []
   },
   "outputs": [],
   "source": [
    "cmap = plt.get_cmap('tab10').reversed()\n",
    "\n",
    "colors = [cmap(i) for i in range(cmap.N)]\n",
    "colors = colors[2:]\n",
    "\n",
    "# Convertir les valeurs flottantes de couleur en entiers\n",
    "colors = [(int(color[0] * 255), int(color[1] * 255), int(color[2] * 255)) for color in colors]\n",
    "colors[0] = (255,255,255)\n",
    "# Créer l'image\n",
    "image = Image.new(\"RGB\", (len(colors), 1))\n",
    "\n",
    "# Placer les couleurs sur l'image\n",
    "for i in range(len(colors)):\n",
    "    image.putpixel((i, 0), colors[i])\n",
    "\n",
    "# Afficher l'image\n",
    "image.show()"
   ]
  },
  {
   "cell_type": "code",
   "execution_count": 51,
   "id": "f226198d-3322-4897-b74f-9696eea11ebb",
   "metadata": {
    "tags": []
   },
   "outputs": [
    {
     "data": {
      "image/png": "[encoded data removed]",
      "text/plain": [
       "<Figure size 800x200 with 1 Axes>"
      ]
     },
     "metadata": {},
     "output_type": "display_data"
    }
   ],
   "source": [
    "# Création d'une figure\n",
    "plt.figure(figsize=(8, 2))\n",
    "\n",
    "# Affichage des couleurs sans bordures\n",
    "for i, color in enumerate(colors_rgb_normalized):\n",
    "    plt.fill_between([i, i+1], 0, 1, color=color, linewidth=0)\n",
    "\n",
    "# Configuration de l'axe\n",
    "plt.axis('off')\n",
    "\n",
    "# Affichage de la figure\n",
    "plt.show()"
   ]
  },
  {
   "cell_type": "code",
   "execution_count": 46,
   "id": "a53b7bdd-1521-4281-a47e-fc35e9841b18",
   "metadata": {
    "tags": []
   },
   "outputs": [
    {
     "data": {
      "image/png": "[encoded data removed]",
      "text/plain": [
       "<Figure size 200x800 with 1 Axes>"
      ]
     },
     "metadata": {},
     "output_type": "display_data"
    }
   ],
   "source": [
    "code_name = ['non_responding', 'all', 'pursuit', 'saccade', 'pursuit_and_saccade', 'vision', 'vision_and_pursuit', 'vision_and_saccade']\n",
    "\n",
    "# Création d'une figure\n",
    "plt.figure(figsize=(2, 8))\n",
    "\n",
    "# Affichage des couleurs sans bordures\n",
    "for i, (color, name) in enumerate(zip(colors_rgb, code_name)):\n",
    "    plt.fill_between([0, 1], i, i+1, color=color, linewidth=0)\n",
    "    plt.text(1.2, i+0.5, name, va='center')\n",
    "\n",
    "# Configuration de l'axe\n",
    "plt.axis('off')\n",
    "\n",
    "# Affichage de la figure\n",
    "plt.savefig('/Users/uriel/Downloads/color_map.pdf')\n",
    "plt.show()\n"
   ]
  },
  {
   "cell_type": "code",
   "execution_count": 8,
   "id": "22d3b0de-34ed-4d94-b604-0e18eb19a5a5",
   "metadata": {
    "tags": []
   },
   "outputs": [
    {
     "ename": "AttributeError",
     "evalue": "module 'matplotlib.pyplot' has no attribute 'colors'",
     "output_type": "error",
     "traceback": [
      "\u001b[0;31m---------------------------------------------------------------------------\u001b[0m",
      "\u001b[0;31mAttributeError\u001b[0m                            Traceback (most recent call last)",
      "Cell \u001b[0;32mIn[8], line 10\u001b[0m\n\u001b[1;32m      7\u001b[0m colors_inverse \u001b[38;5;241m=\u001b[39m colors[::\u001b[38;5;241m-\u001b[39m\u001b[38;5;241m1\u001b[39m]\n\u001b[1;32m      9\u001b[0m \u001b[38;5;66;03m# Créer une nouvelle palette inversée\u001b[39;00m\n\u001b[0;32m---> 10\u001b[0m cmap_inverse \u001b[38;5;241m=\u001b[39m plt\u001b[38;5;241m.\u001b[39mcolors\u001b[38;5;241m.\u001b[39mListedColormap(colors_inverse)\n",
      "\u001b[0;31mAttributeError\u001b[0m: module 'matplotlib.pyplot' has no attribute 'colors'"
     ]
    }
   ],
   "source": [
    "colors_rgb"
   ]
  },
  {
   "cell_type": "code",
   "execution_count": 1,
   "id": "8df8d479-fc60-4f81-918d-7535573f9bcb",
   "metadata": {
    "tags": []
   },
   "outputs": [
    {
     "data": {
      "image/png": "[encoded data removed]",
      "text/plain": [
       "<Figure size 800x200 with 1 Axes>"
      ]
     },
     "metadata": {},
     "output_type": "display_data"
    }
   ],
   "source": [
    "import matplotlib.pyplot as plt\n",
    "\n",
    "# Définition des couleurs\n",
    "couleurs = ['red', 'blue', 'green', 'yellow', 'purple', 'orange', 'turquoise']\n",
    "\n",
    "# Création d'une figure\n",
    "plt.figure(figsize=(8, 2))\n",
    "\n",
    "# Dessin des barres de couleur\n",
    "for i, couleur in enumerate(couleurs):\n",
    "    plt.bar(i, 1, color=couleur)\n",
    "\n",
    "# Définition des étiquettes des axes et du titre\n",
    "plt.xticks(range(len(couleurs)), ['Rouge', 'Bleu', 'Vert', 'Jaune', 'Violet', 'Orange', 'Turquoise'])\n",
    "plt.title('Palette de couleurs')\n",
    "\n",
    "# Affichage du graphique\n",
    "plt.show()\n"
   ]
  },
  {
   "cell_type": "code",
   "execution_count": null,
   "id": "4a29c00e-c0aa-4b52-81e2-fa8caa4586ae",
   "metadata": {},
   "outputs": [],
   "source": []
  }
 ],
 "metadata": {
  "kernelspec": {
   "display_name": "prf_env",
   "language": "python",
   "name": "prf_env"
  },
  "language_info": {
   "codemirror_mode": {
    "name": "ipython",
    "version": 3
   },
   "file_extension": ".py",
   "mimetype": "text/x-python",
   "name": "python",
   "nbconvert_exporter": "python",
   "pygments_lexer": "ipython3",
   "version": "3.11.7"
  }
 },
 "nbformat": 4,
 "nbformat_minor": 5
}
